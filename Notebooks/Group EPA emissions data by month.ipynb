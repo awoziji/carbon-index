{
 "cells": [
  {
   "cell_type": "markdown",
   "metadata": {},
   "source": [
    "# Compile EPA emissions data\n",
    "Convert the data from hourly to monthly and export all years as a single file."
   ]
  },
  {
   "cell_type": "code",
   "execution_count": 1,
   "metadata": {
    "ExecuteTime": {
     "end_time": "2017-10-31T15:16:06.692057Z",
     "start_time": "2017-10-31T15:16:05.865129Z"
    },
    "collapsed": true
   },
   "outputs": [],
   "source": [
    "import pandas as pd\n",
    "import numpy as np\n",
    "import os\n",
    "from os.path import join\n",
    "from joblib import Parallel, delayed\n",
    "import sys\n",
    "\n",
    "cwd = os.getcwd()\n",
    "data_path = join(cwd, '..', 'Data storage')"
   ]
  },
  {
   "cell_type": "code",
   "execution_count": 2,
   "metadata": {
    "ExecuteTime": {
     "end_time": "2017-10-31T15:16:06.746937Z",
     "start_time": "2017-10-31T15:16:06.729066Z"
    }
   },
   "outputs": [
    {
     "name": "stdout",
     "output_type": "stream",
     "text": [
      "pandas      0.22.0\n",
      "numpy       1.14.1\n",
      "CPython 3.6.3\n",
      "IPython 6.2.1\n"
     ]
    }
   ],
   "source": [
    "%load_ext watermark\n",
    "%watermark -iv -v"
   ]
  },
  {
   "cell_type": "code",
   "execution_count": 3,
   "metadata": {
    "ExecuteTime": {
     "end_time": "2017-10-31T15:16:07.915270Z",
     "start_time": "2017-10-31T15:16:07.856952Z"
    }
   },
   "outputs": [],
   "source": [
    "# Load the \"autoreload\" extension\n",
    "%load_ext autoreload\n",
    "\n",
    "# always reload modules marked with \"%aimport\"\n",
    "%autoreload 1\n",
    "\n",
    "# add the 'src' directory as one where we can import modules\n",
    "src_dir = join(os.getcwd(), os.pardir, 'src')\n",
    "sys.path.append(src_dir)"
   ]
  },
  {
   "cell_type": "code",
   "execution_count": 4,
   "metadata": {
    "ExecuteTime": {
     "end_time": "2017-10-31T15:16:09.586532Z",
     "start_time": "2017-10-31T15:16:09.573896Z"
    },
    "collapsed": true
   },
   "outputs": [],
   "source": [
    "%aimport Data.data_extraction\n",
    "from Data.data_extraction import import_group_epa, unit_conversion\n",
    "\n",
    "%aimport Analysis.index\n",
    "from Analysis.index import add_datetime, add_quarter"
   ]
  },
  {
   "cell_type": "markdown",
   "metadata": {},
   "source": [
    "## Change years if necessary"
   ]
  },
  {
   "cell_type": "code",
   "execution_count": 7,
   "metadata": {
    "ExecuteTime": {
     "end_time": "2017-03-15T14:42:00.093000",
     "start_time": "2017-03-15T13:50:59.107000"
    },
    "collapsed": true
   },
   "outputs": [],
   "source": [
    "start_year = 2001\n",
    "end_year = 2017\n",
    "\n",
    "if __name__ == '__main__':\n",
    "    base_path = join(data_path, 'EPA emissions')\n",
    "    paths = [join(base_path, 'EPA emissions {}.csv'.format(str(year)))\n",
    "             for year in range(start_year, end_year + 1)]\n",
    "    \n",
    "    df_list = Parallel(n_jobs=-1)(delayed(import_group_epa)(path) \n",
    "                                  for path in paths)"
   ]
  },
  {
   "cell_type": "code",
   "execution_count": 8,
   "metadata": {
    "ExecuteTime": {
     "end_time": "2017-03-15T14:56:54.117000",
     "start_time": "2017-03-15T14:56:53.062000"
    },
    "collapsed": true
   },
   "outputs": [],
   "source": [
    "df = pd.concat(df_list)"
   ]
  },
  {
   "cell_type": "code",
   "execution_count": 9,
   "metadata": {
    "ExecuteTime": {
     "end_time": "2017-03-15T14:56:56.517000",
     "start_time": "2017-03-15T14:56:55.948000"
    }
   },
   "outputs": [
    {
     "data": {
      "text/html": [
       "<div>\n",
       "<style scoped>\n",
       "    .dataframe tbody tr th:only-of-type {\n",
       "        vertical-align: middle;\n",
       "    }\n",
       "\n",
       "    .dataframe tbody tr th {\n",
       "        vertical-align: top;\n",
       "    }\n",
       "\n",
       "    .dataframe thead th {\n",
       "        text-align: right;\n",
       "    }\n",
       "</style>\n",
       "<table border=\"1\" class=\"dataframe\">\n",
       "  <thead>\n",
       "    <tr style=\"text-align: right;\">\n",
       "      <th></th>\n",
       "      <th>CO2_MASS (kg)</th>\n",
       "      <th>GLOAD (MW)</th>\n",
       "      <th>HEAT_INPUT (mmBtu)</th>\n",
       "      <th>MONTH</th>\n",
       "      <th>OP_TIME</th>\n",
       "      <th>ORISPL_CODE</th>\n",
       "      <th>SLOAD (1000lb/hr)</th>\n",
       "      <th>YEAR</th>\n",
       "    </tr>\n",
       "  </thead>\n",
       "  <tbody>\n",
       "    <tr>\n",
       "      <th>0</th>\n",
       "      <td>9.625411e+08</td>\n",
       "      <td>1167596.0</td>\n",
       "      <td>1.113000e+07</td>\n",
       "      <td>1</td>\n",
       "      <td>4348.25</td>\n",
       "      <td>3</td>\n",
       "      <td>0.0</td>\n",
       "      <td>2001</td>\n",
       "    </tr>\n",
       "    <tr>\n",
       "      <th>1</th>\n",
       "      <td>8.208495e+08</td>\n",
       "      <td>880517.0</td>\n",
       "      <td>8.951275e+06</td>\n",
       "      <td>2</td>\n",
       "      <td>3391.00</td>\n",
       "      <td>3</td>\n",
       "      <td>0.0</td>\n",
       "      <td>2001</td>\n",
       "    </tr>\n",
       "    <tr>\n",
       "      <th>2</th>\n",
       "      <td>6.402928e+08</td>\n",
       "      <td>735523.0</td>\n",
       "      <td>7.175850e+06</td>\n",
       "      <td>3</td>\n",
       "      <td>3846.50</td>\n",
       "      <td>3</td>\n",
       "      <td>0.0</td>\n",
       "      <td>2001</td>\n",
       "    </tr>\n",
       "    <tr>\n",
       "      <th>3</th>\n",
       "      <td>7.417879e+08</td>\n",
       "      <td>898023.0</td>\n",
       "      <td>8.519262e+06</td>\n",
       "      <td>4</td>\n",
       "      <td>4292.75</td>\n",
       "      <td>3</td>\n",
       "      <td>0.0</td>\n",
       "      <td>2001</td>\n",
       "    </tr>\n",
       "    <tr>\n",
       "      <th>4</th>\n",
       "      <td>9.767243e+08</td>\n",
       "      <td>1230441.0</td>\n",
       "      <td>1.138663e+07</td>\n",
       "      <td>5</td>\n",
       "      <td>5029.75</td>\n",
       "      <td>3</td>\n",
       "      <td>0.0</td>\n",
       "      <td>2001</td>\n",
       "    </tr>\n",
       "  </tbody>\n",
       "</table>\n",
       "</div>"
      ],
      "text/plain": [
       "   CO2_MASS (kg)  GLOAD (MW)  HEAT_INPUT (mmBtu)  MONTH  OP_TIME  ORISPL_CODE  \\\n",
       "0   9.625411e+08   1167596.0        1.113000e+07      1  4348.25            3   \n",
       "1   8.208495e+08    880517.0        8.951275e+06      2  3391.00            3   \n",
       "2   6.402928e+08    735523.0        7.175850e+06      3  3846.50            3   \n",
       "3   7.417879e+08    898023.0        8.519262e+06      4  4292.75            3   \n",
       "4   9.767243e+08   1230441.0        1.138663e+07      5  5029.75            3   \n",
       "\n",
       "   SLOAD (1000lb/hr)  YEAR  \n",
       "0                0.0  2001  \n",
       "1                0.0  2001  \n",
       "2                0.0  2001  \n",
       "3                0.0  2001  \n",
       "4                0.0  2001  "
      ]
     },
     "execution_count": 9,
     "metadata": {},
     "output_type": "execute_result"
    }
   ],
   "source": [
    "df.head()"
   ]
  },
  {
   "cell_type": "code",
   "execution_count": 10,
   "metadata": {
    "ExecuteTime": {
     "end_time": "2017-03-15T14:56:57.606000",
     "start_time": "2017-03-15T14:56:57.461000"
    }
   },
   "outputs": [
    {
     "data": {
      "text/html": [
       "<div>\n",
       "<style scoped>\n",
       "    .dataframe tbody tr th:only-of-type {\n",
       "        vertical-align: middle;\n",
       "    }\n",
       "\n",
       "    .dataframe tbody tr th {\n",
       "        vertical-align: top;\n",
       "    }\n",
       "\n",
       "    .dataframe thead th {\n",
       "        text-align: right;\n",
       "    }\n",
       "</style>\n",
       "<table border=\"1\" class=\"dataframe\">\n",
       "  <thead>\n",
       "    <tr style=\"text-align: right;\">\n",
       "      <th></th>\n",
       "      <th>CO2_MASS (kg)</th>\n",
       "      <th>GLOAD (MW)</th>\n",
       "      <th>HEAT_INPUT (mmBtu)</th>\n",
       "      <th>MONTH</th>\n",
       "      <th>OP_TIME</th>\n",
       "      <th>ORISPL_CODE</th>\n",
       "      <th>SLOAD (1000lb/hr)</th>\n",
       "      <th>YEAR</th>\n",
       "    </tr>\n",
       "  </thead>\n",
       "  <tbody>\n",
       "    <tr>\n",
       "      <th>16603</th>\n",
       "      <td>0.0</td>\n",
       "      <td>0.0</td>\n",
       "      <td>337871.418</td>\n",
       "      <td>8</td>\n",
       "      <td>1494.69</td>\n",
       "      <td>880107</td>\n",
       "      <td>200653.0</td>\n",
       "      <td>2017</td>\n",
       "    </tr>\n",
       "    <tr>\n",
       "      <th>16604</th>\n",
       "      <td>0.0</td>\n",
       "      <td>0.0</td>\n",
       "      <td>308866.407</td>\n",
       "      <td>9</td>\n",
       "      <td>1447.30</td>\n",
       "      <td>880107</td>\n",
       "      <td>207589.0</td>\n",
       "      <td>2017</td>\n",
       "    </tr>\n",
       "    <tr>\n",
       "      <th>16605</th>\n",
       "      <td>0.0</td>\n",
       "      <td>0.0</td>\n",
       "      <td>327482.620</td>\n",
       "      <td>10</td>\n",
       "      <td>1488.72</td>\n",
       "      <td>880107</td>\n",
       "      <td>216266.0</td>\n",
       "      <td>2017</td>\n",
       "    </tr>\n",
       "    <tr>\n",
       "      <th>16606</th>\n",
       "      <td>0.0</td>\n",
       "      <td>0.0</td>\n",
       "      <td>341459.300</td>\n",
       "      <td>11</td>\n",
       "      <td>1440.00</td>\n",
       "      <td>880107</td>\n",
       "      <td>231679.0</td>\n",
       "      <td>2017</td>\n",
       "    </tr>\n",
       "    <tr>\n",
       "      <th>16607</th>\n",
       "      <td>0.0</td>\n",
       "      <td>0.0</td>\n",
       "      <td>360386.700</td>\n",
       "      <td>12</td>\n",
       "      <td>1488.00</td>\n",
       "      <td>880107</td>\n",
       "      <td>243984.0</td>\n",
       "      <td>2017</td>\n",
       "    </tr>\n",
       "  </tbody>\n",
       "</table>\n",
       "</div>"
      ],
      "text/plain": [
       "       CO2_MASS (kg)  GLOAD (MW)  HEAT_INPUT (mmBtu)  MONTH  OP_TIME  \\\n",
       "16603            0.0         0.0          337871.418      8  1494.69   \n",
       "16604            0.0         0.0          308866.407      9  1447.30   \n",
       "16605            0.0         0.0          327482.620     10  1488.72   \n",
       "16606            0.0         0.0          341459.300     11  1440.00   \n",
       "16607            0.0         0.0          360386.700     12  1488.00   \n",
       "\n",
       "       ORISPL_CODE  SLOAD (1000lb/hr)  YEAR  \n",
       "16603       880107           200653.0  2017  \n",
       "16604       880107           207589.0  2017  \n",
       "16605       880107           216266.0  2017  \n",
       "16606       880107           231679.0  2017  \n",
       "16607       880107           243984.0  2017  "
      ]
     },
     "execution_count": 10,
     "metadata": {},
     "output_type": "execute_result"
    }
   ],
   "source": [
    "df.tail()"
   ]
  },
  {
   "cell_type": "code",
   "execution_count": 11,
   "metadata": {
    "ExecuteTime": {
     "end_time": "2017-03-15T14:57:13.961000",
     "start_time": "2017-03-15T14:57:12.029000"
    },
    "collapsed": true
   },
   "outputs": [],
   "source": [
    "path = os.path.join(data_path, 'Derived data', 'Monthly EPA emissions 2018-03-06.csv')\n",
    "df.to_csv(path, index=False)"
   ]
  },
  {
   "cell_type": "code",
   "execution_count": null,
   "metadata": {},
   "outputs": [],
   "source": []
  }
 ],
 "metadata": {
  "kernelspec": {
   "display_name": "psci",
   "language": "python",
   "name": "psci"
  },
  "language_info": {
   "codemirror_mode": {
    "name": "ipython",
    "version": 3
   },
   "file_extension": ".py",
   "mimetype": "text/x-python",
   "name": "python",
   "nbconvert_exporter": "python",
   "pygments_lexer": "ipython3",
   "version": "3.6.3"
  },
  "varInspector": {
   "cols": {
    "lenName": 16,
    "lenType": 16,
    "lenVar": 40
   },
   "kernels_config": {
    "python": {
     "delete_cmd_postfix": "",
     "delete_cmd_prefix": "del ",
     "library": "var_list.py",
     "varRefreshCmd": "print(var_dic_list())"
    },
    "r": {
     "delete_cmd_postfix": ") ",
     "delete_cmd_prefix": "rm(",
     "library": "var_list.r",
     "varRefreshCmd": "cat(var_dic_list()) "
    }
   },
   "types_to_exclude": [
    "module",
    "function",
    "builtin_function_or_method",
    "instance",
    "_Feature"
   ],
   "window_display": false
  }
 },
 "nbformat": 4,
 "nbformat_minor": 2
}
