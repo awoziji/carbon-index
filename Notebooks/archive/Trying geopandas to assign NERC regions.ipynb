{
 "cells": [
  {
   "cell_type": "code",
   "execution_count": 9,
   "metadata": {
    "ExecuteTime": {
     "end_time": "2017-10-31T18:36:52.441704Z",
     "start_time": "2017-10-31T18:36:52.421697Z"
    }
   },
   "outputs": [],
   "source": [
    "%matplotlib inline\n",
    "import matplotlib.pyplot as plt\n",
    "import geopandas as gpd\n",
    "from shapely.geometry import Point\n",
    "from geopandas import GeoDataFrame\n",
    "import os\n",
    "from os.path import join\n",
    "import pandas as pd\n",
    "import fiona\n",
    "from urllib.request import urlopen\n",
    "from zipfile import ZipFile\n",
    "from io import BytesIO\n",
    "\n",
    "\n",
    "cwd = os.getcwd()\n",
    "data_path = join(cwd, '..', '..', 'Data storage')"
   ]
  },
  {
   "cell_type": "code",
   "execution_count": 5,
   "metadata": {
    "ExecuteTime": {
     "end_time": "2017-10-31T18:33:31.271508Z",
     "start_time": "2017-10-31T18:33:31.266506Z"
    }
   },
   "outputs": [
    {
     "name": "stdout",
     "output_type": "stream",
     "text": [
      "CPython 3.6.2\n",
      "IPython 6.2.1\n",
      "\n",
      "pandas 0.20.2\n",
      "geopandas 0.3.0\n",
      "shapely 1.5.17.post1\n"
     ]
    }
   ],
   "source": [
    "%load_ext watermark\n",
    "%watermark -v -p pandas,geopandas,shapely"
   ]
  },
  {
   "cell_type": "markdown",
   "metadata": {},
   "source": [
    "## Read NERC regions shapefile\n",
    "[Link to the shapefile](https://github.com/gschivley/Index-variability/raw/master/Data%20storage/NERC_Regions_EIA) for local download"
   ]
  },
  {
   "cell_type": "code",
   "execution_count": 18,
   "metadata": {
    "ExecuteTime": {
     "end_time": "2017-10-31T18:47:17.067247Z",
     "start_time": "2017-10-31T18:47:16.564723Z"
    }
   },
   "outputs": [],
   "source": [
    "path = os.path.join(data_path, 'NERC_Regions_EIA', 'NercRegions_201610.shp')\n",
    "regions = gpd.read_file(path)"
   ]
  },
  {
   "cell_type": "code",
   "execution_count": 4,
   "metadata": {
    "ExecuteTime": {
     "end_time": "2017-10-31T13:46:44.666319Z",
     "start_time": "2017-10-31T13:46:44.168513Z"
    }
   },
   "outputs": [
    {
     "data": {
      "text/html": [
       "<div>\n",
       "<style>\n",
       "    .dataframe thead tr:only-child th {\n",
       "        text-align: right;\n",
       "    }\n",
       "\n",
       "    .dataframe thead th {\n",
       "        text-align: left;\n",
       "    }\n",
       "\n",
       "    .dataframe tbody tr th {\n",
       "        vertical-align: top;\n",
       "    }\n",
       "</style>\n",
       "<table border=\"1\" class=\"dataframe\">\n",
       "  <thead>\n",
       "    <tr style=\"text-align: right;\">\n",
       "      <th></th>\n",
       "      <th>NERC</th>\n",
       "      <th>NERC_Label</th>\n",
       "      <th>geometry</th>\n",
       "    </tr>\n",
       "  </thead>\n",
       "  <tbody>\n",
       "    <tr>\n",
       "      <th>0</th>\n",
       "      <td>-</td>\n",
       "      <td>Indeterminate - various NERC membership</td>\n",
       "      <td>(POLYGON ((-91.71222639199999 32.9756623780000...</td>\n",
       "    </tr>\n",
       "    <tr>\n",
       "      <th>1</th>\n",
       "      <td>FRCC</td>\n",
       "      <td>Florida Reliability Coordinating Council (FRCC)</td>\n",
       "      <td>(POLYGON ((-81.95506602699999 24.5196900770000...</td>\n",
       "    </tr>\n",
       "    <tr>\n",
       "      <th>2</th>\n",
       "      <td>MRO</td>\n",
       "      <td>Midwest Reliability Organization (MRO)</td>\n",
       "      <td>POLYGON ((-95.07148604699995 49.36451082200006...</td>\n",
       "    </tr>\n",
       "    <tr>\n",
       "      <th>3</th>\n",
       "      <td>NPCC</td>\n",
       "      <td>Northeast Power Coordinating Council (NPCC)</td>\n",
       "      <td>(POLYGON ((-73.82134384999995 40.6045004290000...</td>\n",
       "    </tr>\n",
       "    <tr>\n",
       "      <th>4</th>\n",
       "      <td>RFC</td>\n",
       "      <td>ReliabilityFirst Corporation (RFC)</td>\n",
       "      <td>(POLYGON ((-90.89359863199996 29.0467829150000...</td>\n",
       "    </tr>\n",
       "    <tr>\n",
       "      <th>5</th>\n",
       "      <td>SERC</td>\n",
       "      <td>SERC Reliability Corporation (SERC)</td>\n",
       "      <td>(POLYGON ((-91.71222639199999 32.9756623780000...</td>\n",
       "    </tr>\n",
       "    <tr>\n",
       "      <th>6</th>\n",
       "      <td>SPP</td>\n",
       "      <td>Southwest Power Pool (SPP)</td>\n",
       "      <td>(POLYGON ((-93.73310749999996 30.4137588960000...</td>\n",
       "    </tr>\n",
       "    <tr>\n",
       "      <th>7</th>\n",
       "      <td>TRE</td>\n",
       "      <td>Texas Reliability Entity (TRE)</td>\n",
       "      <td>POLYGON ((-100.0008629659999 35.02950123100004...</td>\n",
       "    </tr>\n",
       "    <tr>\n",
       "      <th>8</th>\n",
       "      <td>WECC</td>\n",
       "      <td>Western Electricity Coordinating Council (WECC)</td>\n",
       "      <td>(POLYGON ((-117.215183729 32.77737140300007, -...</td>\n",
       "    </tr>\n",
       "  </tbody>\n",
       "</table>\n",
       "</div>"
      ],
      "text/plain": [
       "   NERC                                       NERC_Label  \\\n",
       "0     -          Indeterminate - various NERC membership   \n",
       "1  FRCC  Florida Reliability Coordinating Council (FRCC)   \n",
       "2   MRO           Midwest Reliability Organization (MRO)   \n",
       "3  NPCC      Northeast Power Coordinating Council (NPCC)   \n",
       "4   RFC               ReliabilityFirst Corporation (RFC)   \n",
       "5  SERC              SERC Reliability Corporation (SERC)   \n",
       "6   SPP                       Southwest Power Pool (SPP)   \n",
       "7   TRE                   Texas Reliability Entity (TRE)   \n",
       "8  WECC  Western Electricity Coordinating Council (WECC)   \n",
       "\n",
       "                                            geometry  \n",
       "0  (POLYGON ((-91.71222639199999 32.9756623780000...  \n",
       "1  (POLYGON ((-81.95506602699999 24.5196900770000...  \n",
       "2  POLYGON ((-95.07148604699995 49.36451082200006...  \n",
       "3  (POLYGON ((-73.82134384999995 40.6045004290000...  \n",
       "4  (POLYGON ((-90.89359863199996 29.0467829150000...  \n",
       "5  (POLYGON ((-91.71222639199999 32.9756623780000...  \n",
       "6  (POLYGON ((-93.73310749999996 30.4137588960000...  \n",
       "7  POLYGON ((-100.0008629659999 35.02950123100004...  \n",
       "8  (POLYGON ((-117.215183729 32.77737140300007, -...  "
      ]
     },
     "execution_count": 4,
     "metadata": {},
     "output_type": "execute_result"
    }
   ],
   "source": [
    "regions"
   ]
  },
  {
   "cell_type": "code",
   "execution_count": 5,
   "metadata": {
    "ExecuteTime": {
     "end_time": "2017-10-31T13:46:50.286186Z",
     "start_time": "2017-10-31T13:46:48.901497Z"
    }
   },
   "outputs": [
    {
     "data": {
      "text/plain": [
       "<matplotlib.axes._subplots.AxesSubplot at 0x11ac65518>"
      ]
     },
     "execution_count": 5,
     "metadata": {},
     "output_type": "execute_result"
    },
    {
     "data": {
      "image/png": "[encoded data removed]",
      "text/plain": [
       "<matplotlib.figure.Figure at 0x11ac4db38>"
      ]
     },
     "metadata": {},
     "output_type": "display_data"
    }
   ],
   "source": [
    "regions.plot()"
   ]
  },
  {
   "cell_type": "markdown",
   "metadata": {},
   "source": [
    "## Read file with facility location, generation, and fuel data"
   ]
  },
  {
   "cell_type": "code",
   "execution_count": 6,
   "metadata": {
    "ExecuteTime": {
     "end_time": "2017-10-31T13:48:18.338465Z",
     "start_time": "2017-10-31T13:48:10.951595Z"
    },
    "collapsed": true
   },
   "outputs": [],
   "source": [
    "path = os.path.join(data_path, 'Facility gen fuels and CO2 2017-08-31.zip')\n",
    "facility_df = pd.read_csv(path)"
   ]
  },
  {
   "cell_type": "markdown",
   "metadata": {},
   "source": [
    "### Drop plants without lat/lon data\n",
    "From 2001-mid 2017, 9 facilities (out of 8,435) don't have valid lat/lon data. All of them are from 2010 or earlier. Drop these rows or the spatial join fails. The amount of generation from these plants is tiny - well under 0.05% in all years."
   ]
  },
  {
   "cell_type": "code",
   "execution_count": 7,
   "metadata": {
    "ExecuteTime": {
     "end_time": "2017-10-31T13:48:19.503509Z",
     "start_time": "2017-10-31T13:48:19.472547Z"
    }
   },
   "outputs": [
    {
     "name": "stdout",
     "output_type": "stream",
     "text": [
      "8435 total plants\n",
      "9 plants without lat/lon\n"
     ]
    }
   ],
   "source": [
    "print(len(facility_df['plant id'].unique()), 'total plants')\n",
    "print(len(facility_df.loc[facility_df['lat'].isnull(), 'plant id'].unique()),\n",
    "      'plants without lat/lon')"
   ]
  },
  {
   "cell_type": "code",
   "execution_count": 8,
   "metadata": {
    "ExecuteTime": {
     "end_time": "2017-10-31T13:48:42.171526Z",
     "start_time": "2017-10-31T13:48:41.905246Z"
    }
   },
   "outputs": [
    {
     "name": "stdout",
     "output_type": "stream",
     "text": [
      "In 2006, 0.000% of generation is from plants without lat/lon\n",
      "In 2005, 0.001% of generation is from plants without lat/lon\n",
      "In 2004, 0.001% of generation is from plants without lat/lon\n",
      "In 2002, 0.024% of generation is from plants without lat/lon\n",
      "In 2001, 0.031% of generation is from plants without lat/lon\n",
      "In 2010, 0.000% of generation is from plants without lat/lon\n",
      "In 2009, 0.000% of generation is from plants without lat/lon\n",
      "In 2007, 0.000% of generation is from plants without lat/lon\n",
      "In 2003, 0.011% of generation is from plants without lat/lon\n"
     ]
    }
   ],
   "source": [
    "years = facility_df.loc[facility_df['lat'].isnull(), 'year'].unique()\n",
    "for year in years:\n",
    "    total_gen = facility_df.loc[facility_df['year'] == year, 'generation (MWh)'].sum()\n",
    "    \n",
    "    # Plant ids with no 'lat' in year\n",
    "    no_loc_plants = facility_df.loc[(facility_df['lat'].isnull()) & \n",
    "                                    (facility_df['year'] == year), 'plant id'].unique()\n",
    "    \n",
    "    no_loc_gen = facility_df.loc[(facility_df['year'] == year) &\n",
    "                                 (facility_df['plant id'].isin(no_loc_plants)),\n",
    "                                  'generation (MWh)'].sum()\n",
    "    \n",
    "    percent_dropped = no_loc_gen / total_gen * 100\n",
    "    \n",
    "    print('In {}, {:.3f}% of generation is from plants without lat/lon'.format(year, percent_dropped))"
   ]
  },
  {
   "cell_type": "code",
   "execution_count": 9,
   "metadata": {
    "ExecuteTime": {
     "end_time": "2017-10-31T13:48:51.245565Z",
     "start_time": "2017-10-31T13:48:50.792098Z"
    },
    "collapsed": true
   },
   "outputs": [],
   "source": [
    "facility_df.dropna(inplace=True, subset=['lat', 'lon'])"
   ]
  },
  {
   "cell_type": "code",
   "execution_count": 10,
   "metadata": {
    "ExecuteTime": {
     "end_time": "2017-10-31T13:48:53.081482Z",
     "start_time": "2017-10-31T13:48:53.074928Z"
    }
   },
   "outputs": [
    {
     "data": {
      "text/plain": [
       "Index(['f', 'fuel', 'month', 'plant id', 'total fuel (mmbtu)', 'year',\n",
       "       'generation (MWh)', 'elec fuel (mmbtu)', 'geography', 'last_updated',\n",
       "       'lat', 'lon', 'prime mover', 'datetime', 'quarter',\n",
       "       'all fuel fossil CO2 (kg)', 'elec fuel fossil CO2 (kg)',\n",
       "       'all fuel total CO2 (kg)', 'elec fuel total CO2 (kg)'],\n",
       "      dtype='object')"
      ]
     },
     "execution_count": 10,
     "metadata": {},
     "output_type": "execute_result"
    }
   ],
   "source": [
    "facility_df.columns"
   ]
  },
  {
   "cell_type": "markdown",
   "metadata": {},
   "source": [
    "Because I have monthly data for every facility from 2001-2017, there are lots of duplicate rows. No need to do a spatial join on every row. Just keep one instance of each facility in each year."
   ]
  },
  {
   "cell_type": "code",
   "execution_count": 11,
   "metadata": {
    "ExecuteTime": {
     "end_time": "2017-10-31T13:48:57.937818Z",
     "start_time": "2017-10-31T13:48:57.703166Z"
    },
    "collapsed": true
   },
   "outputs": [],
   "source": [
    "cols = ['lat', 'lon', 'plant id', 'year']\n",
    "small_facility = facility_df.loc[:, cols].drop_duplicates()"
   ]
  },
  {
   "cell_type": "markdown",
   "metadata": {},
   "source": [
    "Use `Point` from Shapely to create the `geometry` list of facility locations. `crs` is the coordinate reference system that translates lat/lon into a specific map projection."
   ]
  },
  {
   "cell_type": "code",
   "execution_count": 12,
   "metadata": {
    "ExecuteTime": {
     "end_time": "2017-10-31T13:49:01.630618Z",
     "start_time": "2017-10-31T13:49:00.225123Z"
    },
    "collapsed": true
   },
   "outputs": [],
   "source": [
    "geometry = [Point(xy) for xy in zip(small_facility.lon, small_facility.lat)]\n",
    "# small_facility = small_facility.drop(['lon', 'lat'], axis=1)\n",
    "crs = {'init': 'epsg:4326'}\n",
    "geo_df = GeoDataFrame(small_facility, crs=crs, geometry=geometry)"
   ]
  },
  {
   "cell_type": "code",
   "execution_count": 13,
   "metadata": {
    "ExecuteTime": {
     "end_time": "2017-10-31T13:49:06.221470Z",
     "start_time": "2017-10-31T13:49:06.202644Z"
    }
   },
   "outputs": [
    {
     "data": {
      "text/html": [
       "<div>\n",
       "<style>\n",
       "    .dataframe thead tr:only-child th {\n",
       "        text-align: right;\n",
       "    }\n",
       "\n",
       "    .dataframe thead th {\n",
       "        text-align: left;\n",
       "    }\n",
       "\n",
       "    .dataframe tbody tr th {\n",
       "        vertical-align: top;\n",
       "    }\n",
       "</style>\n",
       "<table border=\"1\" class=\"dataframe\">\n",
       "  <thead>\n",
       "    <tr style=\"text-align: right;\">\n",
       "      <th></th>\n",
       "      <th>lat</th>\n",
       "      <th>lon</th>\n",
       "      <th>plant id</th>\n",
       "      <th>year</th>\n",
       "      <th>geometry</th>\n",
       "    </tr>\n",
       "  </thead>\n",
       "  <tbody>\n",
       "    <tr>\n",
       "      <th>0</th>\n",
       "      <td>44.4936</td>\n",
       "      <td>-88.0303</td>\n",
       "      <td>10360</td>\n",
       "      <td>2017</td>\n",
       "      <td>POINT (-88.0303 44.4936)</td>\n",
       "    </tr>\n",
       "    <tr>\n",
       "      <th>6</th>\n",
       "      <td>44.4936</td>\n",
       "      <td>-88.0303</td>\n",
       "      <td>10360</td>\n",
       "      <td>2016</td>\n",
       "      <td>POINT (-88.0303 44.4936)</td>\n",
       "    </tr>\n",
       "    <tr>\n",
       "      <th>18</th>\n",
       "      <td>44.4936</td>\n",
       "      <td>-88.0303</td>\n",
       "      <td>10360</td>\n",
       "      <td>2015</td>\n",
       "      <td>POINT (-88.0303 44.4936)</td>\n",
       "    </tr>\n",
       "    <tr>\n",
       "      <th>30</th>\n",
       "      <td>44.4936</td>\n",
       "      <td>-88.0303</td>\n",
       "      <td>10360</td>\n",
       "      <td>2014</td>\n",
       "      <td>POINT (-88.0303 44.4936)</td>\n",
       "    </tr>\n",
       "    <tr>\n",
       "      <th>38</th>\n",
       "      <td>44.4936</td>\n",
       "      <td>-88.0303</td>\n",
       "      <td>10360</td>\n",
       "      <td>2008</td>\n",
       "      <td>POINT (-88.0303 44.4936)</td>\n",
       "    </tr>\n",
       "  </tbody>\n",
       "</table>\n",
       "</div>"
      ],
      "text/plain": [
       "        lat      lon  plant id  year                  geometry\n",
       "0   44.4936 -88.0303     10360  2017  POINT (-88.0303 44.4936)\n",
       "6   44.4936 -88.0303     10360  2016  POINT (-88.0303 44.4936)\n",
       "18  44.4936 -88.0303     10360  2015  POINT (-88.0303 44.4936)\n",
       "30  44.4936 -88.0303     10360  2014  POINT (-88.0303 44.4936)\n",
       "38  44.4936 -88.0303     10360  2008  POINT (-88.0303 44.4936)"
      ]
     },
     "execution_count": 13,
     "metadata": {},
     "output_type": "execute_result"
    }
   ],
   "source": [
    "geo_df.head()"
   ]
  },
  {
   "cell_type": "code",
   "execution_count": 14,
   "metadata": {
    "ExecuteTime": {
     "end_time": "2017-10-31T13:49:07.695554Z",
     "start_time": "2017-10-31T13:49:07.689889Z"
    }
   },
   "outputs": [
    {
     "data": {
      "text/plain": [
       "88918"
      ]
     },
     "execution_count": 14,
     "metadata": {},
     "output_type": "execute_result"
    }
   ],
   "source": [
    "len(geo_df)"
   ]
  },
  {
   "cell_type": "markdown",
   "metadata": {},
   "source": [
    "## Spatial join of NERC dataframe with polygons and facility dataframe with points\n",
    "Joining the 9 regions (NERC) with 100,810 records takes much longer with facilities as the left dataframe in the join (2 min vs 12 seconds). Not quite sure why this is. The faster method leaves me with polygons rather than points tho. There might be a better way to rectify this, but I just create a new geodataframe with the geometry set as the lat/lon points.\n",
    "\n",
    "**EDIT**\n",
    "Although the GeoPandas documentation says that the `op` parameter doesn't matter for point-in-polygon operations, using 'within' made the operation much faster (12 seconds). The first method below is probably preferable since it keeps the point geometry."
   ]
  },
  {
   "cell_type": "markdown",
   "metadata": {},
   "source": [
    "**Method 1** (slow unless you use `op='within'`)"
   ]
  },
  {
   "cell_type": "code",
   "execution_count": 15,
   "metadata": {
    "ExecuteTime": {
     "end_time": "2017-10-31T13:49:33.051292Z",
     "start_time": "2017-10-31T13:49:29.161632Z"
    },
    "collapsed": true
   },
   "outputs": [],
   "source": [
    "facility_nerc = gpd.sjoin(geo_df, regions, how='inner', op='within')"
   ]
  },
  {
   "cell_type": "code",
   "execution_count": 16,
   "metadata": {
    "ExecuteTime": {
     "end_time": "2017-10-31T13:49:35.979853Z",
     "start_time": "2017-10-31T13:49:35.962856Z"
    }
   },
   "outputs": [
    {
     "data": {
      "text/html": [
       "<div>\n",
       "<style>\n",
       "    .dataframe thead tr:only-child th {\n",
       "        text-align: right;\n",
       "    }\n",
       "\n",
       "    .dataframe thead th {\n",
       "        text-align: left;\n",
       "    }\n",
       "\n",
       "    .dataframe tbody tr th {\n",
       "        vertical-align: top;\n",
       "    }\n",
       "</style>\n",
       "<table border=\"1\" class=\"dataframe\">\n",
       "  <thead>\n",
       "    <tr style=\"text-align: right;\">\n",
       "      <th></th>\n",
       "      <th>lat</th>\n",
       "      <th>lon</th>\n",
       "      <th>plant id</th>\n",
       "      <th>year</th>\n",
       "      <th>geometry</th>\n",
       "      <th>index_right</th>\n",
       "      <th>NERC</th>\n",
       "      <th>NERC_Label</th>\n",
       "    </tr>\n",
       "  </thead>\n",
       "  <tbody>\n",
       "    <tr>\n",
       "      <th>0</th>\n",
       "      <td>44.4936</td>\n",
       "      <td>-88.0303</td>\n",
       "      <td>10360</td>\n",
       "      <td>2017</td>\n",
       "      <td>POINT (-88.0303 44.4936)</td>\n",
       "      <td>2</td>\n",
       "      <td>MRO</td>\n",
       "      <td>Midwest Reliability Organization (MRO)</td>\n",
       "    </tr>\n",
       "    <tr>\n",
       "      <th>6</th>\n",
       "      <td>44.4936</td>\n",
       "      <td>-88.0303</td>\n",
       "      <td>10360</td>\n",
       "      <td>2016</td>\n",
       "      <td>POINT (-88.0303 44.4936)</td>\n",
       "      <td>2</td>\n",
       "      <td>MRO</td>\n",
       "      <td>Midwest Reliability Organization (MRO)</td>\n",
       "    </tr>\n",
       "    <tr>\n",
       "      <th>18</th>\n",
       "      <td>44.4936</td>\n",
       "      <td>-88.0303</td>\n",
       "      <td>10360</td>\n",
       "      <td>2015</td>\n",
       "      <td>POINT (-88.0303 44.4936)</td>\n",
       "      <td>2</td>\n",
       "      <td>MRO</td>\n",
       "      <td>Midwest Reliability Organization (MRO)</td>\n",
       "    </tr>\n",
       "    <tr>\n",
       "      <th>30</th>\n",
       "      <td>44.4936</td>\n",
       "      <td>-88.0303</td>\n",
       "      <td>10360</td>\n",
       "      <td>2014</td>\n",
       "      <td>POINT (-88.0303 44.4936)</td>\n",
       "      <td>2</td>\n",
       "      <td>MRO</td>\n",
       "      <td>Midwest Reliability Organization (MRO)</td>\n",
       "    </tr>\n",
       "    <tr>\n",
       "      <th>38</th>\n",
       "      <td>44.4936</td>\n",
       "      <td>-88.0303</td>\n",
       "      <td>10360</td>\n",
       "      <td>2008</td>\n",
       "      <td>POINT (-88.0303 44.4936)</td>\n",
       "      <td>2</td>\n",
       "      <td>MRO</td>\n",
       "      <td>Midwest Reliability Organization (MRO)</td>\n",
       "    </tr>\n",
       "  </tbody>\n",
       "</table>\n",
       "</div>"
      ],
      "text/plain": [
       "        lat      lon  plant id  year                  geometry  index_right  \\\n",
       "0   44.4936 -88.0303     10360  2017  POINT (-88.0303 44.4936)            2   \n",
       "6   44.4936 -88.0303     10360  2016  POINT (-88.0303 44.4936)            2   \n",
       "18  44.4936 -88.0303     10360  2015  POINT (-88.0303 44.4936)            2   \n",
       "30  44.4936 -88.0303     10360  2014  POINT (-88.0303 44.4936)            2   \n",
       "38  44.4936 -88.0303     10360  2008  POINT (-88.0303 44.4936)            2   \n",
       "\n",
       "   NERC                              NERC_Label  \n",
       "0   MRO  Midwest Reliability Organization (MRO)  \n",
       "6   MRO  Midwest Reliability Organization (MRO)  \n",
       "18  MRO  Midwest Reliability Organization (MRO)  \n",
       "30  MRO  Midwest Reliability Organization (MRO)  \n",
       "38  MRO  Midwest Reliability Organization (MRO)  "
      ]
     },
     "execution_count": 16,
     "metadata": {},
     "output_type": "execute_result"
    }
   ],
   "source": [
    "facility_nerc.head()"
   ]
  },
  {
   "cell_type": "markdown",
   "metadata": {},
   "source": [
    "**Method 2** (faster when using the default operation)"
   ]
  },
  {
   "cell_type": "code",
   "execution_count": 10,
   "metadata": {
    "ExecuteTime": {
     "end_time": "2017-07-31T15:16:05.049419",
     "start_time": "2017-07-31T15:15:52.623120Z"
    },
    "collapsed": true
   },
   "outputs": [],
   "source": [
    "facility_nerc = gpd.sjoin(df, geo_df, how=\"inner\")"
   ]
  },
  {
   "cell_type": "code",
   "execution_count": 11,
   "metadata": {
    "ExecuteTime": {
     "end_time": "2017-07-31T15:16:05.120060",
     "start_time": "2017-07-31T15:16:05.051451Z"
    }
   },
   "outputs": [
    {
     "data": {
      "text/html": [
       "<div>\n",
       "<style>\n",
       "    .dataframe thead tr:only-child th {\n",
       "        text-align: right;\n",
       "    }\n",
       "\n",
       "    .dataframe thead th {\n",
       "        text-align: left;\n",
       "    }\n",
       "\n",
       "    .dataframe tbody tr th {\n",
       "        vertical-align: top;\n",
       "    }\n",
       "</style>\n",
       "<table border=\"1\" class=\"dataframe\">\n",
       "  <thead>\n",
       "    <tr style=\"text-align: right;\">\n",
       "      <th></th>\n",
       "      <th>NERC</th>\n",
       "      <th>NERC_Label</th>\n",
       "      <th>geometry</th>\n",
       "      <th>index_right</th>\n",
       "      <th>lat</th>\n",
       "      <th>lon</th>\n",
       "      <th>plant id</th>\n",
       "      <th>year</th>\n",
       "    </tr>\n",
       "  </thead>\n",
       "  <tbody>\n",
       "    <tr>\n",
       "      <th>0</th>\n",
       "      <td>-</td>\n",
       "      <td>Indeterminate - various NERC membership</td>\n",
       "      <td>(POLYGON ((-91.71222639199999 32.9756623780000...</td>\n",
       "      <td>1200931</td>\n",
       "      <td>40.389167</td>\n",
       "      <td>-91.394167</td>\n",
       "      <td>57953</td>\n",
       "      <td>2014</td>\n",
       "    </tr>\n",
       "    <tr>\n",
       "      <th>0</th>\n",
       "      <td>-</td>\n",
       "      <td>Indeterminate - various NERC membership</td>\n",
       "      <td>(POLYGON ((-91.71222639199999 32.9756623780000...</td>\n",
       "      <td>1200919</td>\n",
       "      <td>40.389167</td>\n",
       "      <td>-91.394167</td>\n",
       "      <td>57953</td>\n",
       "      <td>2015</td>\n",
       "    </tr>\n",
       "    <tr>\n",
       "      <th>0</th>\n",
       "      <td>-</td>\n",
       "      <td>Indeterminate - various NERC membership</td>\n",
       "      <td>(POLYGON ((-91.71222639199999 32.9756623780000...</td>\n",
       "      <td>1200907</td>\n",
       "      <td>40.389167</td>\n",
       "      <td>-91.394167</td>\n",
       "      <td>57953</td>\n",
       "      <td>2016</td>\n",
       "    </tr>\n",
       "    <tr>\n",
       "      <th>0</th>\n",
       "      <td>-</td>\n",
       "      <td>Indeterminate - various NERC membership</td>\n",
       "      <td>(POLYGON ((-91.71222639199999 32.9756623780000...</td>\n",
       "      <td>1200904</td>\n",
       "      <td>40.389167</td>\n",
       "      <td>-91.394167</td>\n",
       "      <td>57953</td>\n",
       "      <td>2017</td>\n",
       "    </tr>\n",
       "    <tr>\n",
       "      <th>0</th>\n",
       "      <td>-</td>\n",
       "      <td>Indeterminate - various NERC membership</td>\n",
       "      <td>(POLYGON ((-91.71222639199999 32.9756623780000...</td>\n",
       "      <td>1201030</td>\n",
       "      <td>40.389167</td>\n",
       "      <td>-91.394167</td>\n",
       "      <td>57953</td>\n",
       "      <td>2011</td>\n",
       "    </tr>\n",
       "  </tbody>\n",
       "</table>\n",
       "</div>"
      ],
      "text/plain": [
       "  NERC                               NERC_Label  \\\n",
       "0    -  Indeterminate - various NERC membership   \n",
       "0    -  Indeterminate - various NERC membership   \n",
       "0    -  Indeterminate - various NERC membership   \n",
       "0    -  Indeterminate - various NERC membership   \n",
       "0    -  Indeterminate - various NERC membership   \n",
       "\n",
       "                                            geometry  index_right        lat  \\\n",
       "0  (POLYGON ((-91.71222639199999 32.9756623780000...      1200931  40.389167   \n",
       "0  (POLYGON ((-91.71222639199999 32.9756623780000...      1200919  40.389167   \n",
       "0  (POLYGON ((-91.71222639199999 32.9756623780000...      1200907  40.389167   \n",
       "0  (POLYGON ((-91.71222639199999 32.9756623780000...      1200904  40.389167   \n",
       "0  (POLYGON ((-91.71222639199999 32.9756623780000...      1201030  40.389167   \n",
       "\n",
       "         lon  plant id  year  \n",
       "0 -91.394167     57953  2014  \n",
       "0 -91.394167     57953  2015  \n",
       "0 -91.394167     57953  2016  \n",
       "0 -91.394167     57953  2017  \n",
       "0 -91.394167     57953  2011  "
      ]
     },
     "execution_count": 11,
     "metadata": {},
     "output_type": "execute_result"
    }
   ],
   "source": [
    "facility_nerc.head()"
   ]
  },
  {
   "cell_type": "markdown",
   "metadata": {},
   "source": [
    "Make the new geometry of facility locations"
   ]
  },
  {
   "cell_type": "code",
   "execution_count": 12,
   "metadata": {
    "ExecuteTime": {
     "end_time": "2017-07-31T15:16:09.677274",
     "start_time": "2017-07-31T15:16:08.520811Z"
    },
    "collapsed": true
   },
   "outputs": [],
   "source": [
    "geometry = [Point(xy) for xy in zip(facility_nerc.lon, facility_nerc.lat)]"
   ]
  },
  {
   "cell_type": "markdown",
   "metadata": {},
   "source": [
    "Create new dataframe with the data I want to keep and the new geometry"
   ]
  },
  {
   "cell_type": "code",
   "execution_count": 13,
   "metadata": {
    "ExecuteTime": {
     "end_time": "2017-07-31T15:17:45.636359",
     "start_time": "2017-07-31T15:17:45.604018Z"
    },
    "collapsed": true
   },
   "outputs": [],
   "source": [
    "crs = {'init': 'epsg:4326'}\n",
    "keep_cols = ['NERC_Label', 'plant id', 'year']\n",
    "facility_nerc = GeoDataFrame(facility_nerc[keep_cols], crs=crs, geometry=geometry)"
   ]
  },
  {
   "cell_type": "code",
   "execution_count": 14,
   "metadata": {
    "ExecuteTime": {
     "end_time": "2017-07-31T15:17:53.146153",
     "start_time": "2017-07-31T15:17:53.132367Z"
    }
   },
   "outputs": [
    {
     "data": {
      "text/html": [
       "<div>\n",
       "<style>\n",
       "    .dataframe thead tr:only-child th {\n",
       "        text-align: right;\n",
       "    }\n",
       "\n",
       "    .dataframe thead th {\n",
       "        text-align: left;\n",
       "    }\n",
       "\n",
       "    .dataframe tbody tr th {\n",
       "        vertical-align: top;\n",
       "    }\n",
       "</style>\n",
       "<table border=\"1\" class=\"dataframe\">\n",
       "  <thead>\n",
       "    <tr style=\"text-align: right;\">\n",
       "      <th></th>\n",
       "      <th>NERC_Label</th>\n",
       "      <th>plant id</th>\n",
       "      <th>year</th>\n",
       "      <th>geometry</th>\n",
       "    </tr>\n",
       "  </thead>\n",
       "  <tbody>\n",
       "    <tr>\n",
       "      <th>0</th>\n",
       "      <td>Indeterminate - various NERC membership</td>\n",
       "      <td>57953</td>\n",
       "      <td>2014</td>\n",
       "      <td>POINT (-91.39416700000001 40.389167)</td>\n",
       "    </tr>\n",
       "    <tr>\n",
       "      <th>0</th>\n",
       "      <td>Indeterminate - various NERC membership</td>\n",
       "      <td>57953</td>\n",
       "      <td>2015</td>\n",
       "      <td>POINT (-91.39416700000001 40.389167)</td>\n",
       "    </tr>\n",
       "    <tr>\n",
       "      <th>0</th>\n",
       "      <td>Indeterminate - various NERC membership</td>\n",
       "      <td>57953</td>\n",
       "      <td>2016</td>\n",
       "      <td>POINT (-91.39416700000001 40.389167)</td>\n",
       "    </tr>\n",
       "    <tr>\n",
       "      <th>0</th>\n",
       "      <td>Indeterminate - various NERC membership</td>\n",
       "      <td>57953</td>\n",
       "      <td>2017</td>\n",
       "      <td>POINT (-91.39416700000001 40.389167)</td>\n",
       "    </tr>\n",
       "    <tr>\n",
       "      <th>0</th>\n",
       "      <td>Indeterminate - various NERC membership</td>\n",
       "      <td>57953</td>\n",
       "      <td>2011</td>\n",
       "      <td>POINT (-91.39416700000001 40.389167)</td>\n",
       "    </tr>\n",
       "  </tbody>\n",
       "</table>\n",
       "</div>"
      ],
      "text/plain": [
       "                                NERC_Label  plant id  year  \\\n",
       "0  Indeterminate - various NERC membership     57953  2014   \n",
       "0  Indeterminate - various NERC membership     57953  2015   \n",
       "0  Indeterminate - various NERC membership     57953  2016   \n",
       "0  Indeterminate - various NERC membership     57953  2017   \n",
       "0  Indeterminate - various NERC membership     57953  2011   \n",
       "\n",
       "                               geometry  \n",
       "0  POINT (-91.39416700000001 40.389167)  \n",
       "0  POINT (-91.39416700000001 40.389167)  \n",
       "0  POINT (-91.39416700000001 40.389167)  \n",
       "0  POINT (-91.39416700000001 40.389167)  \n",
       "0  POINT (-91.39416700000001 40.389167)  "
      ]
     },
     "execution_count": 14,
     "metadata": {},
     "output_type": "execute_result"
    }
   ],
   "source": [
    "facility_nerc.head()"
   ]
  },
  {
   "cell_type": "markdown",
   "metadata": {},
   "source": [
    "## Changing the crs to see what happens\n",
    "Just making sure that it does something"
   ]
  },
  {
   "cell_type": "code",
   "execution_count": 31,
   "metadata": {
    "ExecuteTime": {
     "end_time": "2017-07-28T19:20:04.302495",
     "start_time": "2017-07-28T19:20:03.204775Z"
    },
    "collapsed": true
   },
   "outputs": [],
   "source": [
    "df_test = df.to_crs({'init': 'epsg:3395'})"
   ]
  },
  {
   "cell_type": "code",
   "execution_count": 32,
   "metadata": {
    "ExecuteTime": {
     "end_time": "2017-07-28T19:20:26.814114",
     "start_time": "2017-07-28T19:20:17.102754Z"
    }
   },
   "outputs": [
    {
     "data": {
      "text/plain": [
       "<matplotlib.axes._subplots.AxesSubplot at 0x1301c5f28>"
      ]
     },
     "execution_count": 32,
     "metadata": {},
     "output_type": "execute_result"
    },
    {
     "data": {
      "image/png": "[encoded data removed]",
      "text/plain": [
       "<matplotlib.figure.Figure at 0x1301b3fd0>"
      ]
     },
     "metadata": {},
     "output_type": "display_data"
    }
   ],
   "source": [
    "df.plot()"
   ]
  },
  {
   "cell_type": "code",
   "execution_count": 33,
   "metadata": {
    "ExecuteTime": {
     "end_time": "2017-07-28T19:20:35.322416",
     "start_time": "2017-07-28T19:20:26.815800Z"
    },
    "scrolled": true
   },
   "outputs": [
    {
     "data": {
      "text/plain": [
       "<matplotlib.axes._subplots.AxesSubplot at 0x1334af7b8>"
      ]
     },
     "execution_count": 33,
     "metadata": {},
     "output_type": "execute_result"
    },
    {
     "data": {
      "image/png": "[encoded data removed]",
      "text/plain": [
       "<matplotlib.figure.Figure at 0x1301b38d0>"
      ]
     },
     "metadata": {},
     "output_type": "display_data"
    }
   ],
   "source": [
    "df_test.plot()"
   ]
  },
  {
   "cell_type": "markdown",
   "metadata": {},
   "source": [
    "## NEW - read file with only plant id, state, and lat/lon\n",
    "[Link to data file](https://github.com/gschivley/Index-variability/raw/master/Data%20storage/Facility%20labels/Facility%20locations.csv)"
   ]
  },
  {
   "cell_type": "markdown",
   "metadata": {},
   "source": [
    "If you need to load the shapefile, [download it here](https://github.com/gschivley/Index-variability/raw/master/Data%20storage/NERC_Regions_EIA)."
   ]
  },
  {
   "cell_type": "code",
   "execution_count": null,
   "metadata": {
    "collapsed": true
   },
   "outputs": [],
   "source": [
    "# If loading the shapefile\n",
    "shape_path = ''\n",
    "regions = gpd.read_file(shape_path)"
   ]
  },
  {
   "cell_type": "code",
   "execution_count": 19,
   "metadata": {
    "ExecuteTime": {
     "end_time": "2017-10-31T18:49:29.760376Z",
     "start_time": "2017-10-31T18:49:26.240711Z"
    },
    "collapsed": true
   },
   "outputs": [],
   "source": [
    "path = join(data_path, 'Facility labels', 'Facility locations.csv')\n",
    "location = pd.read_csv(path)"
   ]
  },
  {
   "cell_type": "code",
   "execution_count": 20,
   "metadata": {
    "ExecuteTime": {
     "end_time": "2017-10-31T18:49:32.271876Z",
     "start_time": "2017-10-31T18:49:32.265485Z"
    }
   },
   "outputs": [
    {
     "data": {
      "text/plain": [
       "8217"
      ]
     },
     "execution_count": 20,
     "metadata": {},
     "output_type": "execute_result"
    }
   ],
   "source": [
    "len(location)"
   ]
  },
  {
   "cell_type": "markdown",
   "metadata": {},
   "source": [
    "The `nerc` column is labels from a spatial join using this same shapefile and lat/lon data in QGIS."
   ]
  },
  {
   "cell_type": "code",
   "execution_count": 21,
   "metadata": {
    "ExecuteTime": {
     "end_time": "2017-10-31T18:51:46.859717Z",
     "start_time": "2017-10-31T18:51:46.847384Z"
    }
   },
   "outputs": [
    {
     "data": {
      "text/html": [
       "<div>\n",
       "<style>\n",
       "    .dataframe thead tr:only-child th {\n",
       "        text-align: right;\n",
       "    }\n",
       "\n",
       "    .dataframe thead th {\n",
       "        text-align: left;\n",
       "    }\n",
       "\n",
       "    .dataframe tbody tr th {\n",
       "        vertical-align: top;\n",
       "    }\n",
       "</style>\n",
       "<table border=\"1\" class=\"dataframe\">\n",
       "  <thead>\n",
       "    <tr style=\"text-align: right;\">\n",
       "      <th></th>\n",
       "      <th>plant id</th>\n",
       "      <th>state</th>\n",
       "      <th>lat</th>\n",
       "      <th>lon</th>\n",
       "      <th>nerc</th>\n",
       "    </tr>\n",
       "  </thead>\n",
       "  <tbody>\n",
       "    <tr>\n",
       "      <th>0</th>\n",
       "      <td>2</td>\n",
       "      <td>AL</td>\n",
       "      <td>33.458665</td>\n",
       "      <td>-87.356823</td>\n",
       "      <td>SERC</td>\n",
       "    </tr>\n",
       "    <tr>\n",
       "      <th>1</th>\n",
       "      <td>3</td>\n",
       "      <td>AL</td>\n",
       "      <td>31.006900</td>\n",
       "      <td>-88.010300</td>\n",
       "      <td>SERC</td>\n",
       "    </tr>\n",
       "    <tr>\n",
       "      <th>2</th>\n",
       "      <td>4</td>\n",
       "      <td>AL</td>\n",
       "      <td>32.583889</td>\n",
       "      <td>-86.283056</td>\n",
       "      <td>SERC</td>\n",
       "    </tr>\n",
       "    <tr>\n",
       "      <th>3</th>\n",
       "      <td>7</td>\n",
       "      <td>AL</td>\n",
       "      <td>34.012800</td>\n",
       "      <td>-85.970800</td>\n",
       "      <td>SERC</td>\n",
       "    </tr>\n",
       "    <tr>\n",
       "      <th>4</th>\n",
       "      <td>8</td>\n",
       "      <td>AL</td>\n",
       "      <td>33.644344</td>\n",
       "      <td>-87.196486</td>\n",
       "      <td>SERC</td>\n",
       "    </tr>\n",
       "  </tbody>\n",
       "</table>\n",
       "</div>"
      ],
      "text/plain": [
       "   plant id state        lat        lon  nerc\n",
       "0         2    AL  33.458665 -87.356823  SERC\n",
       "1         3    AL  31.006900 -88.010300  SERC\n",
       "2         4    AL  32.583889 -86.283056  SERC\n",
       "3         7    AL  34.012800 -85.970800  SERC\n",
       "4         8    AL  33.644344 -87.196486  SERC"
      ]
     },
     "execution_count": 21,
     "metadata": {},
     "output_type": "execute_result"
    }
   ],
   "source": [
    "location.head()"
   ]
  },
  {
   "cell_type": "code",
   "execution_count": 22,
   "metadata": {
    "ExecuteTime": {
     "end_time": "2017-10-31T18:51:48.617485Z",
     "start_time": "2017-10-31T18:51:48.606127Z"
    }
   },
   "outputs": [
    {
     "data": {
      "text/html": [
       "<div>\n",
       "<style>\n",
       "    .dataframe thead tr:only-child th {\n",
       "        text-align: right;\n",
       "    }\n",
       "\n",
       "    .dataframe thead th {\n",
       "        text-align: left;\n",
       "    }\n",
       "\n",
       "    .dataframe tbody tr th {\n",
       "        vertical-align: top;\n",
       "    }\n",
       "</style>\n",
       "<table border=\"1\" class=\"dataframe\">\n",
       "  <thead>\n",
       "    <tr style=\"text-align: right;\">\n",
       "      <th></th>\n",
       "      <th>plant id</th>\n",
       "      <th>state</th>\n",
       "      <th>lat</th>\n",
       "      <th>lon</th>\n",
       "      <th>nerc</th>\n",
       "    </tr>\n",
       "  </thead>\n",
       "  <tbody>\n",
       "  </tbody>\n",
       "</table>\n",
       "</div>"
      ],
      "text/plain": [
       "Empty DataFrame\n",
       "Columns: [plant id, state, lat, lon, nerc]\n",
       "Index: []"
      ]
     },
     "execution_count": 22,
     "metadata": {},
     "output_type": "execute_result"
    }
   ],
   "source": [
    "location.loc[location['lat'].isnull()]"
   ]
  },
  {
   "cell_type": "code",
   "execution_count": 25,
   "metadata": {
    "ExecuteTime": {
     "end_time": "2017-10-31T18:56:18.423600Z",
     "start_time": "2017-10-31T18:56:18.288385Z"
    }
   },
   "outputs": [],
   "source": [
    "geometry = [Point(xy) for xy in zip(location.lon, location.lat)]\n",
    "# small_facility = small_facility.drop(['lon', 'lat'], axis=1)\n",
    "crs = {'init': 'epsg:4326'}\n",
    "geo_df = GeoDataFrame(location, crs=crs, geometry=geometry)"
   ]
  },
  {
   "cell_type": "code",
   "execution_count": 26,
   "metadata": {
    "ExecuteTime": {
     "end_time": "2017-10-31T18:56:20.662994Z",
     "start_time": "2017-10-31T18:56:20.626527Z"
    }
   },
   "outputs": [
    {
     "data": {
      "text/html": [
       "<div>\n",
       "<style>\n",
       "    .dataframe thead tr:only-child th {\n",
       "        text-align: right;\n",
       "    }\n",
       "\n",
       "    .dataframe thead th {\n",
       "        text-align: left;\n",
       "    }\n",
       "\n",
       "    .dataframe tbody tr th {\n",
       "        vertical-align: top;\n",
       "    }\n",
       "</style>\n",
       "<table border=\"1\" class=\"dataframe\">\n",
       "  <thead>\n",
       "    <tr style=\"text-align: right;\">\n",
       "      <th></th>\n",
       "      <th>plant id</th>\n",
       "      <th>state</th>\n",
       "      <th>lat</th>\n",
       "      <th>lon</th>\n",
       "      <th>nerc</th>\n",
       "      <th>geometry</th>\n",
       "    </tr>\n",
       "  </thead>\n",
       "  <tbody>\n",
       "    <tr>\n",
       "      <th>0</th>\n",
       "      <td>2</td>\n",
       "      <td>AL</td>\n",
       "      <td>33.458665</td>\n",
       "      <td>-87.356823</td>\n",
       "      <td>SERC</td>\n",
       "      <td>POINT (-87.35682299999999 33.458665)</td>\n",
       "    </tr>\n",
       "    <tr>\n",
       "      <th>1</th>\n",
       "      <td>3</td>\n",
       "      <td>AL</td>\n",
       "      <td>31.006900</td>\n",
       "      <td>-88.010300</td>\n",
       "      <td>SERC</td>\n",
       "      <td>POINT (-88.0103 31.0069)</td>\n",
       "    </tr>\n",
       "    <tr>\n",
       "      <th>2</th>\n",
       "      <td>4</td>\n",
       "      <td>AL</td>\n",
       "      <td>32.583889</td>\n",
       "      <td>-86.283056</td>\n",
       "      <td>SERC</td>\n",
       "      <td>POINT (-86.283056 32.583889)</td>\n",
       "    </tr>\n",
       "    <tr>\n",
       "      <th>3</th>\n",
       "      <td>7</td>\n",
       "      <td>AL</td>\n",
       "      <td>34.012800</td>\n",
       "      <td>-85.970800</td>\n",
       "      <td>SERC</td>\n",
       "      <td>POINT (-85.9708 34.0128)</td>\n",
       "    </tr>\n",
       "    <tr>\n",
       "      <th>4</th>\n",
       "      <td>8</td>\n",
       "      <td>AL</td>\n",
       "      <td>33.644344</td>\n",
       "      <td>-87.196486</td>\n",
       "      <td>SERC</td>\n",
       "      <td>POINT (-87.19648599999999 33.644344)</td>\n",
       "    </tr>\n",
       "  </tbody>\n",
       "</table>\n",
       "</div>"
      ],
      "text/plain": [
       "   plant id state        lat        lon  nerc  \\\n",
       "0         2    AL  33.458665 -87.356823  SERC   \n",
       "1         3    AL  31.006900 -88.010300  SERC   \n",
       "2         4    AL  32.583889 -86.283056  SERC   \n",
       "3         7    AL  34.012800 -85.970800  SERC   \n",
       "4         8    AL  33.644344 -87.196486  SERC   \n",
       "\n",
       "                               geometry  \n",
       "0  POINT (-87.35682299999999 33.458665)  \n",
       "1              POINT (-88.0103 31.0069)  \n",
       "2          POINT (-86.283056 32.583889)  \n",
       "3              POINT (-85.9708 34.0128)  \n",
       "4  POINT (-87.19648599999999 33.644344)  "
      ]
     },
     "execution_count": 26,
     "metadata": {},
     "output_type": "execute_result"
    }
   ],
   "source": [
    "geo_df.head()"
   ]
  },
  {
   "cell_type": "markdown",
   "metadata": {},
   "source": [
    "**Every plant id is unique**"
   ]
  },
  {
   "cell_type": "code",
   "execution_count": 24,
   "metadata": {
    "ExecuteTime": {
     "end_time": "2017-10-31T13:50:43.257871Z",
     "start_time": "2017-10-31T13:50:43.253116Z"
    }
   },
   "outputs": [
    {
     "data": {
      "text/plain": [
       "8099"
      ]
     },
     "execution_count": 24,
     "metadata": {},
     "output_type": "execute_result"
    }
   ],
   "source": [
    "len(geo_df)"
   ]
  },
  {
   "cell_type": "code",
   "execution_count": 25,
   "metadata": {
    "ExecuteTime": {
     "end_time": "2017-10-31T13:50:44.183062Z",
     "start_time": "2017-10-31T13:50:44.174410Z"
    }
   },
   "outputs": [
    {
     "data": {
      "text/plain": [
       "8099"
      ]
     },
     "execution_count": 25,
     "metadata": {},
     "output_type": "execute_result"
    }
   ],
   "source": [
    "len(geo_df['plant id'].unique())"
   ]
  },
  {
   "cell_type": "markdown",
   "metadata": {},
   "source": [
    "### Method 1 - use defaults"
   ]
  },
  {
   "cell_type": "code",
   "execution_count": 26,
   "metadata": {
    "ExecuteTime": {
     "end_time": "2017-10-31T13:50:50.604260Z",
     "start_time": "2017-10-31T13:50:50.091253Z"
    },
    "collapsed": true
   },
   "outputs": [],
   "source": [
    "df1 = gpd.sjoin(regions, geo_df)"
   ]
  },
  {
   "cell_type": "code",
   "execution_count": 27,
   "metadata": {
    "ExecuteTime": {
     "end_time": "2017-10-31T13:50:53.758238Z",
     "start_time": "2017-10-31T13:50:53.701578Z"
    }
   },
   "outputs": [
    {
     "data": {
      "text/html": [
       "<div>\n",
       "<style>\n",
       "    .dataframe thead tr:only-child th {\n",
       "        text-align: right;\n",
       "    }\n",
       "\n",
       "    .dataframe thead th {\n",
       "        text-align: left;\n",
       "    }\n",
       "\n",
       "    .dataframe tbody tr th {\n",
       "        vertical-align: top;\n",
       "    }\n",
       "</style>\n",
       "<table border=\"1\" class=\"dataframe\">\n",
       "  <thead>\n",
       "    <tr style=\"text-align: right;\">\n",
       "      <th></th>\n",
       "      <th>NERC</th>\n",
       "      <th>NERC_Label</th>\n",
       "      <th>geometry</th>\n",
       "      <th>index_right</th>\n",
       "      <th>plant id</th>\n",
       "      <th>state</th>\n",
       "      <th>lat</th>\n",
       "      <th>lon</th>\n",
       "      <th>nerc</th>\n",
       "    </tr>\n",
       "  </thead>\n",
       "  <tbody>\n",
       "    <tr>\n",
       "      <th>0</th>\n",
       "      <td>-</td>\n",
       "      <td>Indeterminate - various NERC membership</td>\n",
       "      <td>(POLYGON ((-91.71222639199999 32.9756623780000...</td>\n",
       "      <td>4381</td>\n",
       "      <td>54930</td>\n",
       "      <td>IA</td>\n",
       "      <td>40.584150</td>\n",
       "      <td>-91.424530</td>\n",
       "      <td>-</td>\n",
       "    </tr>\n",
       "    <tr>\n",
       "      <th>0</th>\n",
       "      <td>-</td>\n",
       "      <td>Indeterminate - various NERC membership</td>\n",
       "      <td>(POLYGON ((-91.71222639199999 32.9756623780000...</td>\n",
       "      <td>639</td>\n",
       "      <td>1127</td>\n",
       "      <td>IA</td>\n",
       "      <td>40.703100</td>\n",
       "      <td>-92.425300</td>\n",
       "      <td>-</td>\n",
       "    </tr>\n",
       "    <tr>\n",
       "      <th>0</th>\n",
       "      <td>-</td>\n",
       "      <td>Indeterminate - various NERC membership</td>\n",
       "      <td>(POLYGON ((-91.71222639199999 32.9756623780000...</td>\n",
       "      <td>629</td>\n",
       "      <td>1104</td>\n",
       "      <td>IA</td>\n",
       "      <td>40.741200</td>\n",
       "      <td>-91.116667</td>\n",
       "      <td>-</td>\n",
       "    </tr>\n",
       "    <tr>\n",
       "      <th>0</th>\n",
       "      <td>-</td>\n",
       "      <td>Indeterminate - various NERC membership</td>\n",
       "      <td>(POLYGON ((-91.71222639199999 32.9756623780000...</td>\n",
       "      <td>630</td>\n",
       "      <td>1105</td>\n",
       "      <td>IA</td>\n",
       "      <td>40.747800</td>\n",
       "      <td>-92.873056</td>\n",
       "      <td>-</td>\n",
       "    </tr>\n",
       "    <tr>\n",
       "      <th>0</th>\n",
       "      <td>-</td>\n",
       "      <td>Indeterminate - various NERC membership</td>\n",
       "      <td>(POLYGON ((-91.71222639199999 32.9756623780000...</td>\n",
       "      <td>2562</td>\n",
       "      <td>7706</td>\n",
       "      <td>IA</td>\n",
       "      <td>40.816736</td>\n",
       "      <td>-91.146667</td>\n",
       "      <td>-</td>\n",
       "    </tr>\n",
       "  </tbody>\n",
       "</table>\n",
       "</div>"
      ],
      "text/plain": [
       "  NERC                               NERC_Label  \\\n",
       "0    -  Indeterminate - various NERC membership   \n",
       "0    -  Indeterminate - various NERC membership   \n",
       "0    -  Indeterminate - various NERC membership   \n",
       "0    -  Indeterminate - various NERC membership   \n",
       "0    -  Indeterminate - various NERC membership   \n",
       "\n",
       "                                            geometry  index_right  plant id  \\\n",
       "0  (POLYGON ((-91.71222639199999 32.9756623780000...         4381     54930   \n",
       "0  (POLYGON ((-91.71222639199999 32.9756623780000...          639      1127   \n",
       "0  (POLYGON ((-91.71222639199999 32.9756623780000...          629      1104   \n",
       "0  (POLYGON ((-91.71222639199999 32.9756623780000...          630      1105   \n",
       "0  (POLYGON ((-91.71222639199999 32.9756623780000...         2562      7706   \n",
       "\n",
       "  state        lat        lon nerc  \n",
       "0    IA  40.584150 -91.424530    -  \n",
       "0    IA  40.703100 -92.425300    -  \n",
       "0    IA  40.741200 -91.116667    -  \n",
       "0    IA  40.747800 -92.873056    -  \n",
       "0    IA  40.816736 -91.146667    -  "
      ]
     },
     "execution_count": 27,
     "metadata": {},
     "output_type": "execute_result"
    }
   ],
   "source": [
    "df1.head()"
   ]
  },
  {
   "cell_type": "markdown",
   "metadata": {},
   "source": [
    "We can already see that there are more rows in this dataframe than there were power plants."
   ]
  },
  {
   "cell_type": "code",
   "execution_count": 28,
   "metadata": {
    "ExecuteTime": {
     "end_time": "2017-10-31T13:51:09.971321Z",
     "start_time": "2017-10-31T13:51:09.966549Z"
    }
   },
   "outputs": [
    {
     "data": {
      "text/plain": [
       "8135"
      ]
     },
     "execution_count": 28,
     "metadata": {},
     "output_type": "execute_result"
    }
   ],
   "source": [
    "len(df1)"
   ]
  },
  {
   "cell_type": "markdown",
   "metadata": {},
   "source": [
    "### Method 2 - use 'within'"
   ]
  },
  {
   "cell_type": "code",
   "execution_count": 30,
   "metadata": {
    "ExecuteTime": {
     "end_time": "2017-10-31T13:51:17.270511Z",
     "start_time": "2017-10-31T13:51:16.730614Z"
    },
    "collapsed": true
   },
   "outputs": [],
   "source": [
    "df2 = gpd.sjoin(geo_df, regions, op='within')"
   ]
  },
  {
   "cell_type": "code",
   "execution_count": 31,
   "metadata": {
    "ExecuteTime": {
     "end_time": "2017-10-31T13:51:19.971612Z",
     "start_time": "2017-10-31T13:51:19.947421Z"
    }
   },
   "outputs": [
    {
     "data": {
      "text/html": [
       "<div>\n",
       "<style>\n",
       "    .dataframe thead tr:only-child th {\n",
       "        text-align: right;\n",
       "    }\n",
       "\n",
       "    .dataframe thead th {\n",
       "        text-align: left;\n",
       "    }\n",
       "\n",
       "    .dataframe tbody tr th {\n",
       "        vertical-align: top;\n",
       "    }\n",
       "</style>\n",
       "<table border=\"1\" class=\"dataframe\">\n",
       "  <thead>\n",
       "    <tr style=\"text-align: right;\">\n",
       "      <th></th>\n",
       "      <th>plant id</th>\n",
       "      <th>state</th>\n",
       "      <th>lat</th>\n",
       "      <th>lon</th>\n",
       "      <th>nerc</th>\n",
       "      <th>geometry</th>\n",
       "      <th>index_right</th>\n",
       "      <th>NERC</th>\n",
       "      <th>NERC_Label</th>\n",
       "    </tr>\n",
       "  </thead>\n",
       "  <tbody>\n",
       "    <tr>\n",
       "      <th>0</th>\n",
       "      <td>2</td>\n",
       "      <td>AL</td>\n",
       "      <td>33.458665</td>\n",
       "      <td>-87.356823</td>\n",
       "      <td>SERC</td>\n",
       "      <td>POINT (-87.35682299999999 33.458665)</td>\n",
       "      <td>5</td>\n",
       "      <td>SERC</td>\n",
       "      <td>SERC Reliability Corporation (SERC)</td>\n",
       "    </tr>\n",
       "    <tr>\n",
       "      <th>1</th>\n",
       "      <td>3</td>\n",
       "      <td>AL</td>\n",
       "      <td>31.006900</td>\n",
       "      <td>-88.010300</td>\n",
       "      <td>SERC</td>\n",
       "      <td>POINT (-88.0103 31.0069)</td>\n",
       "      <td>5</td>\n",
       "      <td>SERC</td>\n",
       "      <td>SERC Reliability Corporation (SERC)</td>\n",
       "    </tr>\n",
       "    <tr>\n",
       "      <th>2</th>\n",
       "      <td>4</td>\n",
       "      <td>AL</td>\n",
       "      <td>32.583889</td>\n",
       "      <td>-86.283056</td>\n",
       "      <td>SERC</td>\n",
       "      <td>POINT (-86.283056 32.583889)</td>\n",
       "      <td>5</td>\n",
       "      <td>SERC</td>\n",
       "      <td>SERC Reliability Corporation (SERC)</td>\n",
       "    </tr>\n",
       "    <tr>\n",
       "      <th>3</th>\n",
       "      <td>7</td>\n",
       "      <td>AL</td>\n",
       "      <td>34.012800</td>\n",
       "      <td>-85.970800</td>\n",
       "      <td>SERC</td>\n",
       "      <td>POINT (-85.9708 34.0128)</td>\n",
       "      <td>5</td>\n",
       "      <td>SERC</td>\n",
       "      <td>SERC Reliability Corporation (SERC)</td>\n",
       "    </tr>\n",
       "    <tr>\n",
       "      <th>4</th>\n",
       "      <td>8</td>\n",
       "      <td>AL</td>\n",
       "      <td>33.644344</td>\n",
       "      <td>-87.196486</td>\n",
       "      <td>SERC</td>\n",
       "      <td>POINT (-87.19648599999999 33.644344)</td>\n",
       "      <td>5</td>\n",
       "      <td>SERC</td>\n",
       "      <td>SERC Reliability Corporation (SERC)</td>\n",
       "    </tr>\n",
       "  </tbody>\n",
       "</table>\n",
       "</div>"
      ],
      "text/plain": [
       "   plant id state        lat        lon  nerc  \\\n",
       "0         2    AL  33.458665 -87.356823  SERC   \n",
       "1         3    AL  31.006900 -88.010300  SERC   \n",
       "2         4    AL  32.583889 -86.283056  SERC   \n",
       "3         7    AL  34.012800 -85.970800  SERC   \n",
       "4         8    AL  33.644344 -87.196486  SERC   \n",
       "\n",
       "                               geometry  index_right  NERC  \\\n",
       "0  POINT (-87.35682299999999 33.458665)            5  SERC   \n",
       "1              POINT (-88.0103 31.0069)            5  SERC   \n",
       "2          POINT (-86.283056 32.583889)            5  SERC   \n",
       "3              POINT (-85.9708 34.0128)            5  SERC   \n",
       "4  POINT (-87.19648599999999 33.644344)            5  SERC   \n",
       "\n",
       "                            NERC_Label  \n",
       "0  SERC Reliability Corporation (SERC)  \n",
       "1  SERC Reliability Corporation (SERC)  \n",
       "2  SERC Reliability Corporation (SERC)  \n",
       "3  SERC Reliability Corporation (SERC)  \n",
       "4  SERC Reliability Corporation (SERC)  "
      ]
     },
     "execution_count": 31,
     "metadata": {},
     "output_type": "execute_result"
    }
   ],
   "source": [
    "df2.head()"
   ]
  },
  {
   "cell_type": "markdown",
   "metadata": {},
   "source": [
    "Same size dataframe as from Method 1. Yet again, there appear to be extra results."
   ]
  },
  {
   "cell_type": "code",
   "execution_count": 26,
   "metadata": {
    "ExecuteTime": {
     "end_time": "2017-10-09T15:21:53.966457Z",
     "start_time": "2017-10-09T15:21:53.960588Z"
    }
   },
   "outputs": [
    {
     "data": {
      "text/plain": [
       "8135"
      ]
     },
     "execution_count": 26,
     "metadata": {},
     "output_type": "execute_result"
    }
   ],
   "source": [
    "len(df2)"
   ]
  },
  {
   "cell_type": "markdown",
   "metadata": {},
   "source": [
    "### Method 3 - use 'contains'"
   ]
  },
  {
   "cell_type": "code",
   "execution_count": 39,
   "metadata": {
    "ExecuteTime": {
     "end_time": "2017-10-09T16:20:00.433347Z",
     "start_time": "2017-10-09T16:19:59.207784Z"
    },
    "collapsed": true
   },
   "outputs": [],
   "source": [
    "df3 = gpd.sjoin(regions, geo_df, op='contains')"
   ]
  },
  {
   "cell_type": "code",
   "execution_count": 40,
   "metadata": {
    "ExecuteTime": {
     "end_time": "2017-10-09T16:20:07.101031Z",
     "start_time": "2017-10-09T16:20:07.036510Z"
    }
   },
   "outputs": [
    {
     "data": {
      "text/html": [
       "<div>\n",
       "<style>\n",
       "    .dataframe thead tr:only-child th {\n",
       "        text-align: right;\n",
       "    }\n",
       "\n",
       "    .dataframe thead th {\n",
       "        text-align: left;\n",
       "    }\n",
       "\n",
       "    .dataframe tbody tr th {\n",
       "        vertical-align: top;\n",
       "    }\n",
       "</style>\n",
       "<table border=\"1\" class=\"dataframe\">\n",
       "  <thead>\n",
       "    <tr style=\"text-align: right;\">\n",
       "      <th></th>\n",
       "      <th>NERC</th>\n",
       "      <th>NERC_Label</th>\n",
       "      <th>geometry</th>\n",
       "      <th>index_right</th>\n",
       "      <th>plant id</th>\n",
       "      <th>state</th>\n",
       "      <th>lat</th>\n",
       "      <th>lon</th>\n",
       "    </tr>\n",
       "  </thead>\n",
       "  <tbody>\n",
       "    <tr>\n",
       "      <th>0</th>\n",
       "      <td>-</td>\n",
       "      <td>Indeterminate - various NERC membership</td>\n",
       "      <td>(POLYGON ((-91.71222639199999 32.9756623780000...</td>\n",
       "      <td>4387</td>\n",
       "      <td>55340</td>\n",
       "      <td>AR</td>\n",
       "      <td>35.861900</td>\n",
       "      <td>-90.025300</td>\n",
       "    </tr>\n",
       "    <tr>\n",
       "      <th>0</th>\n",
       "      <td>-</td>\n",
       "      <td>Indeterminate - various NERC membership</td>\n",
       "      <td>(POLYGON ((-91.71222639199999 32.9756623780000...</td>\n",
       "      <td>6136</td>\n",
       "      <td>172</td>\n",
       "      <td>AR</td>\n",
       "      <td>35.689300</td>\n",
       "      <td>-89.994000</td>\n",
       "    </tr>\n",
       "    <tr>\n",
       "      <th>0</th>\n",
       "      <td>-</td>\n",
       "      <td>Indeterminate - various NERC membership</td>\n",
       "      <td>(POLYGON ((-91.71222639199999 32.9756623780000...</td>\n",
       "      <td>152</td>\n",
       "      <td>8055</td>\n",
       "      <td>AR</td>\n",
       "      <td>35.311000</td>\n",
       "      <td>-93.235100</td>\n",
       "    </tr>\n",
       "    <tr>\n",
       "      <th>0</th>\n",
       "      <td>-</td>\n",
       "      <td>Indeterminate - various NERC membership</td>\n",
       "      <td>(POLYGON ((-91.71222639199999 32.9756623780000...</td>\n",
       "      <td>6217</td>\n",
       "      <td>187</td>\n",
       "      <td>AR</td>\n",
       "      <td>34.211913</td>\n",
       "      <td>-93.110963</td>\n",
       "    </tr>\n",
       "    <tr>\n",
       "      <th>0</th>\n",
       "      <td>-</td>\n",
       "      <td>Indeterminate - various NERC membership</td>\n",
       "      <td>(POLYGON ((-91.71222639199999 32.9756623780000...</td>\n",
       "      <td>2928</td>\n",
       "      <td>59947</td>\n",
       "      <td>AR</td>\n",
       "      <td>33.631538</td>\n",
       "      <td>-92.703611</td>\n",
       "    </tr>\n",
       "  </tbody>\n",
       "</table>\n",
       "</div>"
      ],
      "text/plain": [
       "  NERC                               NERC_Label  \\\n",
       "0    -  Indeterminate - various NERC membership   \n",
       "0    -  Indeterminate - various NERC membership   \n",
       "0    -  Indeterminate - various NERC membership   \n",
       "0    -  Indeterminate - various NERC membership   \n",
       "0    -  Indeterminate - various NERC membership   \n",
       "\n",
       "                                            geometry  index_right  plant id  \\\n",
       "0  (POLYGON ((-91.71222639199999 32.9756623780000...         4387     55340   \n",
       "0  (POLYGON ((-91.71222639199999 32.9756623780000...         6136       172   \n",
       "0  (POLYGON ((-91.71222639199999 32.9756623780000...          152      8055   \n",
       "0  (POLYGON ((-91.71222639199999 32.9756623780000...         6217       187   \n",
       "0  (POLYGON ((-91.71222639199999 32.9756623780000...         2928     59947   \n",
       "\n",
       "  state        lat        lon  \n",
       "0    AR  35.861900 -90.025300  \n",
       "0    AR  35.689300 -89.994000  \n",
       "0    AR  35.311000 -93.235100  \n",
       "0    AR  34.211913 -93.110963  \n",
       "0    AR  33.631538 -92.703611  "
      ]
     },
     "execution_count": 40,
     "metadata": {},
     "output_type": "execute_result"
    }
   ],
   "source": [
    "df3.head()"
   ]
  },
  {
   "cell_type": "markdown",
   "metadata": {},
   "source": [
    "Still too many results"
   ]
  },
  {
   "cell_type": "code",
   "execution_count": 41,
   "metadata": {
    "ExecuteTime": {
     "end_time": "2017-10-09T16:20:13.982363Z",
     "start_time": "2017-10-09T16:20:13.976363Z"
    }
   },
   "outputs": [
    {
     "data": {
      "text/plain": [
       "8135"
      ]
     },
     "execution_count": 41,
     "metadata": {},
     "output_type": "execute_result"
    }
   ],
   "source": [
    "len(df3)"
   ]
  },
  {
   "cell_type": "markdown",
   "metadata": {},
   "source": [
    "### What facilities are missing?"
   ]
  },
  {
   "cell_type": "code",
   "execution_count": 32,
   "metadata": {
    "ExecuteTime": {
     "end_time": "2017-10-31T13:51:32.811339Z",
     "start_time": "2017-10-31T13:51:32.383580Z"
    }
   },
   "outputs": [
    {
     "data": {
      "text/html": [
       "<div>\n",
       "<style>\n",
       "    .dataframe thead tr:only-child th {\n",
       "        text-align: right;\n",
       "    }\n",
       "\n",
       "    .dataframe thead th {\n",
       "        text-align: left;\n",
       "    }\n",
       "\n",
       "    .dataframe tbody tr th {\n",
       "        vertical-align: top;\n",
       "    }\n",
       "</style>\n",
       "<table border=\"1\" class=\"dataframe\">\n",
       "  <thead>\n",
       "    <tr style=\"text-align: right;\">\n",
       "      <th></th>\n",
       "      <th>NERC</th>\n",
       "      <th>NERC_Label</th>\n",
       "      <th>geometry</th>\n",
       "    </tr>\n",
       "    <tr>\n",
       "      <th>index_right</th>\n",
       "      <th></th>\n",
       "      <th></th>\n",
       "      <th></th>\n",
       "    </tr>\n",
       "  </thead>\n",
       "  <tbody>\n",
       "    <tr>\n",
       "      <th>0</th>\n",
       "      <td>-</td>\n",
       "      <td>Indeterminate - various NERC membership</td>\n",
       "      <td>(POLYGON ((-91.71222639199999 32.9756623780000...</td>\n",
       "    </tr>\n",
       "    <tr>\n",
       "      <th>1</th>\n",
       "      <td>FRCC</td>\n",
       "      <td>Florida Reliability Coordinating Council (FRCC)</td>\n",
       "      <td>(POLYGON ((-81.95506602699999 24.5196900770000...</td>\n",
       "    </tr>\n",
       "    <tr>\n",
       "      <th>2</th>\n",
       "      <td>MRO</td>\n",
       "      <td>Midwest Reliability Organization (MRO)</td>\n",
       "      <td>POLYGON ((-95.07148604699995 49.36451082200006...</td>\n",
       "    </tr>\n",
       "    <tr>\n",
       "      <th>3</th>\n",
       "      <td>NPCC</td>\n",
       "      <td>Northeast Power Coordinating Council (NPCC)</td>\n",
       "      <td>(POLYGON ((-73.82134384999995 40.6045004290000...</td>\n",
       "    </tr>\n",
       "    <tr>\n",
       "      <th>4</th>\n",
       "      <td>RFC</td>\n",
       "      <td>ReliabilityFirst Corporation (RFC)</td>\n",
       "      <td>(POLYGON ((-90.89359863199996 29.0467829150000...</td>\n",
       "    </tr>\n",
       "    <tr>\n",
       "      <th>5</th>\n",
       "      <td>SERC</td>\n",
       "      <td>SERC Reliability Corporation (SERC)</td>\n",
       "      <td>(POLYGON ((-91.71222639199999 32.9756623780000...</td>\n",
       "    </tr>\n",
       "    <tr>\n",
       "      <th>6</th>\n",
       "      <td>SPP</td>\n",
       "      <td>Southwest Power Pool (SPP)</td>\n",
       "      <td>(POLYGON ((-93.73310749999996 30.4137588960000...</td>\n",
       "    </tr>\n",
       "    <tr>\n",
       "      <th>7</th>\n",
       "      <td>TRE</td>\n",
       "      <td>Texas Reliability Entity (TRE)</td>\n",
       "      <td>POLYGON ((-100.0008629659999 35.02950123100004...</td>\n",
       "    </tr>\n",
       "    <tr>\n",
       "      <th>8</th>\n",
       "      <td>WECC</td>\n",
       "      <td>Western Electricity Coordinating Council (WECC)</td>\n",
       "      <td>(POLYGON ((-117.215183729 32.77737140300007, -...</td>\n",
       "    </tr>\n",
       "  </tbody>\n",
       "</table>\n",
       "</div>"
      ],
      "text/plain": [
       "             NERC                                       NERC_Label  \\\n",
       "index_right                                                          \n",
       "0               -          Indeterminate - various NERC membership   \n",
       "1            FRCC  Florida Reliability Coordinating Council (FRCC)   \n",
       "2             MRO           Midwest Reliability Organization (MRO)   \n",
       "3            NPCC      Northeast Power Coordinating Council (NPCC)   \n",
       "4             RFC               ReliabilityFirst Corporation (RFC)   \n",
       "5            SERC              SERC Reliability Corporation (SERC)   \n",
       "6             SPP                       Southwest Power Pool (SPP)   \n",
       "7             TRE                   Texas Reliability Entity (TRE)   \n",
       "8            WECC  Western Electricity Coordinating Council (WECC)   \n",
       "\n",
       "                                                      geometry  \n",
       "index_right                                                     \n",
       "0            (POLYGON ((-91.71222639199999 32.9756623780000...  \n",
       "1            (POLYGON ((-81.95506602699999 24.5196900770000...  \n",
       "2            POLYGON ((-95.07148604699995 49.36451082200006...  \n",
       "3            (POLYGON ((-73.82134384999995 40.6045004290000...  \n",
       "4            (POLYGON ((-90.89359863199996 29.0467829150000...  \n",
       "5            (POLYGON ((-91.71222639199999 32.9756623780000...  \n",
       "6            (POLYGON ((-93.73310749999996 30.4137588960000...  \n",
       "7            POLYGON ((-100.0008629659999 35.02950123100004...  \n",
       "8            (POLYGON ((-117.215183729 32.77737140300007, -...  "
      ]
     },
     "execution_count": 32,
     "metadata": {},
     "output_type": "execute_result"
    }
   ],
   "source": [
    "regions"
   ]
  },
  {
   "cell_type": "code",
   "execution_count": 23,
   "metadata": {
    "ExecuteTime": {
     "end_time": "2017-10-31T18:55:43.052867Z",
     "start_time": "2017-10-31T18:55:43.047124Z"
    },
    "collapsed": true
   },
   "outputs": [],
   "source": [
    "frcc = regions.loc[1, 'geometry']\n",
    "serc = regions.loc[5, 'geometry']"
   ]
  },
  {
   "cell_type": "markdown",
   "metadata": {},
   "source": [
    "I figured out that plant id 641 is one that shows up in both FRCC and SERC"
   ]
  },
  {
   "cell_type": "code",
   "execution_count": 27,
   "metadata": {
    "ExecuteTime": {
     "end_time": "2017-10-31T18:57:09.262882Z",
     "start_time": "2017-10-31T18:57:09.258488Z"
    }
   },
   "outputs": [],
   "source": [
    "plant_641 = geo_df.loc[geo_df['plant id'] == 641, 'geometry'].values[0]"
   ]
  },
  {
   "cell_type": "code",
   "execution_count": 28,
   "metadata": {
    "ExecuteTime": {
     "end_time": "2017-10-31T18:57:10.483414Z",
     "start_time": "2017-10-31T18:57:10.418570Z"
    }
   },
   "outputs": [
    {
     "data": {
      "text/plain": [
       "True"
      ]
     },
     "execution_count": 28,
     "metadata": {},
     "output_type": "execute_result"
    }
   ],
   "source": [
    "frcc.contains(plant_641)"
   ]
  },
  {
   "cell_type": "code",
   "execution_count": 29,
   "metadata": {
    "ExecuteTime": {
     "end_time": "2017-10-31T18:57:11.155804Z",
     "start_time": "2017-10-31T18:57:11.101613Z"
    }
   },
   "outputs": [
    {
     "data": {
      "text/plain": [
       "True"
      ]
     },
     "execution_count": 29,
     "metadata": {},
     "output_type": "execute_result"
    }
   ],
   "source": [
    "serc.contains(plant_641)"
   ]
  },
  {
   "cell_type": "markdown",
   "metadata": {},
   "source": [
    "So 641 definitely is in both NERC regions. And apparently the regions overlap? But they aren't supposed to. And I didn't have any plants show up in multiple regions when doing the spatial join in QGIS."
   ]
  },
  {
   "cell_type": "code",
   "execution_count": 37,
   "metadata": {
    "ExecuteTime": {
     "end_time": "2017-10-31T13:52:00.314608Z",
     "start_time": "2017-10-31T13:51:59.174113Z"
    }
   },
   "outputs": [
    {
     "data": {
      "text/plain": [
       "True"
      ]
     },
     "execution_count": 37,
     "metadata": {},
     "output_type": "execute_result"
    }
   ],
   "source": [
    "frcc.intersects(serc)"
   ]
  },
  {
   "cell_type": "markdown",
   "metadata": {},
   "source": [
    "There are 36 plants with duplicate NERC regions."
   ]
  },
  {
   "cell_type": "code",
   "execution_count": 38,
   "metadata": {
    "ExecuteTime": {
     "end_time": "2017-10-31T13:52:11.159223Z",
     "start_time": "2017-10-31T13:52:11.151692Z"
    }
   },
   "outputs": [
    {
     "data": {
      "text/plain": [
       "36"
      ]
     },
     "execution_count": 38,
     "metadata": {},
     "output_type": "execute_result"
    }
   ],
   "source": [
    "len(df2.loc[df2['plant id'].duplicated()].sort_values('plant id'))"
   ]
  },
  {
   "cell_type": "code",
   "execution_count": null,
   "metadata": {
    "collapsed": true
   },
   "outputs": [],
   "source": []
  }
 ],
 "metadata": {
  "_draft": {
   "nbviewer_url": "https://gist.github.com/e88f510346fda8e90c995735c3241054"
  },
  "gist": {
   "data": {
    "description": "Trying geopandas to assign NERC regions",
    "public": false
   },
   "id": "e88f510346fda8e90c995735c3241054"
  },
  "kernelspec": {
   "display_name": "py36",
   "language": "python",
   "name": "py36"
  },
  "language_info": {
   "codemirror_mode": {
    "name": "ipython",
    "version": 3
   },
   "file_extension": ".py",
   "mimetype": "text/x-python",
   "name": "python",
   "nbconvert_exporter": "python",
   "pygments_lexer": "ipython3",
   "version": "3.6.2"
  },
  "varInspector": {
   "cols": {
    "lenName": 16,
    "lenType": 16,
    "lenVar": 40
   },
   "kernels_config": {
    "python": {
     "delete_cmd_postfix": "",
     "delete_cmd_prefix": "del ",
     "library": "var_list.py",
     "varRefreshCmd": "print(var_dic_list())"
    },
    "r": {
     "delete_cmd_postfix": ") ",
     "delete_cmd_prefix": "rm(",
     "library": "var_list.r",
     "varRefreshCmd": "cat(var_dic_list()) "
    }
   },
   "types_to_exclude": [
    "module",
    "function",
    "builtin_function_or_method",
    "instance",
    "_Feature"
   ],
   "window_display": false
  }
 },
 "nbformat": 4,
 "nbformat_minor": 2
}
