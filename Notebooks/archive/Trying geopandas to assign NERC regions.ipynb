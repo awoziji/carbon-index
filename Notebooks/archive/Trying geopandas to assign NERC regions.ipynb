{
 "cells": [
  {
   "cell_type": "code",
   "execution_count": 27,
   "metadata": {
    "ExecuteTime": {
     "end_time": "2017-11-02T18:30:33.303378Z",
     "start_time": "2017-11-02T18:30:31.640524Z"
    },
    "collapsed": true
   },
   "outputs": [],
   "source": [
    "%matplotlib inline\n",
    "import matplotlib.pyplot as plt\n",
    "import seaborn as sns\n",
    "import geopandas as gpd\n",
    "from shapely.geometry import Point\n",
    "from geopandas import GeoDataFrame\n",
    "import os\n",
    "from os.path import join\n",
    "import pandas as pd\n",
    "import fiona\n",
    "from urllib.request import urlopen\n",
    "from zipfile import ZipFile\n",
    "from io import BytesIO\n",
    "\n",
    "sns.set(style='white')\n",
    "cwd = os.getcwd()\n",
    "data_path = join(cwd, '..', '..', 'Data storage')"
   ]
  },
  {
   "cell_type": "code",
   "execution_count": 5,
   "metadata": {
    "ExecuteTime": {
     "end_time": "2017-10-31T18:33:31.271508Z",
     "start_time": "2017-10-31T18:33:31.266506Z"
    }
   },
   "outputs": [
    {
     "name": "stdout",
     "output_type": "stream",
     "text": [
      "CPython 3.6.2\n",
      "IPython 6.2.1\n",
      "\n",
      "pandas 0.20.2\n",
      "geopandas 0.3.0\n",
      "shapely 1.5.17.post1\n"
     ]
    }
   ],
   "source": [
    "%load_ext watermark\n",
    "%watermark -v -p pandas,geopandas,shapely"
   ]
  },
  {
   "cell_type": "markdown",
   "metadata": {},
   "source": [
    "## Read NERC regions shapefile\n",
    "[Link to the shapefile](https://github.com/gschivley/Index-variability/raw/master/Data%20storage/NERC_Regions_EIA) for local download"
   ]
  },
  {
   "cell_type": "code",
   "execution_count": 2,
   "metadata": {
    "ExecuteTime": {
     "end_time": "2017-11-02T18:30:35.188878Z",
     "start_time": "2017-11-02T18:30:34.659422Z"
    },
    "collapsed": true
   },
   "outputs": [],
   "source": [
    "path = os.path.join(data_path, 'NERC_Regions_EIA', 'NercRegions_201610.shp')\n",
    "regions = gpd.read_file(path)"
   ]
  },
  {
   "cell_type": "code",
   "execution_count": 3,
   "metadata": {
    "ExecuteTime": {
     "end_time": "2017-11-02T18:43:02.055353Z",
     "start_time": "2017-11-02T18:43:02.044047Z"
    }
   },
   "outputs": [
    {
     "data": {
      "text/plain": [
       "{'init': 'epsg:4326'}"
      ]
     },
     "execution_count": 3,
     "metadata": {},
     "output_type": "execute_result"
    }
   ],
   "source": [
    "regions.crs"
   ]
  },
  {
   "cell_type": "code",
   "execution_count": 4,
   "metadata": {
    "ExecuteTime": {
     "end_time": "2017-10-31T13:46:44.666319Z",
     "start_time": "2017-10-31T13:46:44.168513Z"
    }
   },
   "outputs": [
    {
     "data": {
      "text/html": [
       "<div>\n",
       "<style>\n",
       "    .dataframe thead tr:only-child th {\n",
       "        text-align: right;\n",
       "    }\n",
       "\n",
       "    .dataframe thead th {\n",
       "        text-align: left;\n",
       "    }\n",
       "\n",
       "    .dataframe tbody tr th {\n",
       "        vertical-align: top;\n",
       "    }\n",
       "</style>\n",
       "<table border=\"1\" class=\"dataframe\">\n",
       "  <thead>\n",
       "    <tr style=\"text-align: right;\">\n",
       "      <th></th>\n",
       "      <th>NERC</th>\n",
       "      <th>NERC_Label</th>\n",
       "      <th>geometry</th>\n",
       "    </tr>\n",
       "  </thead>\n",
       "  <tbody>\n",
       "    <tr>\n",
       "      <th>0</th>\n",
       "      <td>-</td>\n",
       "      <td>Indeterminate - various NERC membership</td>\n",
       "      <td>(POLYGON ((-91.71222639199999 32.9756623780000...</td>\n",
       "    </tr>\n",
       "    <tr>\n",
       "      <th>1</th>\n",
       "      <td>FRCC</td>\n",
       "      <td>Florida Reliability Coordinating Council (FRCC)</td>\n",
       "      <td>(POLYGON ((-81.95506602699999 24.5196900770000...</td>\n",
       "    </tr>\n",
       "    <tr>\n",
       "      <th>2</th>\n",
       "      <td>MRO</td>\n",
       "      <td>Midwest Reliability Organization (MRO)</td>\n",
       "      <td>POLYGON ((-95.07148604699995 49.36451082200006...</td>\n",
       "    </tr>\n",
       "    <tr>\n",
       "      <th>3</th>\n",
       "      <td>NPCC</td>\n",
       "      <td>Northeast Power Coordinating Council (NPCC)</td>\n",
       "      <td>(POLYGON ((-73.82134384999995 40.6045004290000...</td>\n",
       "    </tr>\n",
       "    <tr>\n",
       "      <th>4</th>\n",
       "      <td>RFC</td>\n",
       "      <td>ReliabilityFirst Corporation (RFC)</td>\n",
       "      <td>(POLYGON ((-90.89359863199996 29.0467829150000...</td>\n",
       "    </tr>\n",
       "    <tr>\n",
       "      <th>5</th>\n",
       "      <td>SERC</td>\n",
       "      <td>SERC Reliability Corporation (SERC)</td>\n",
       "      <td>(POLYGON ((-91.71222639199999 32.9756623780000...</td>\n",
       "    </tr>\n",
       "    <tr>\n",
       "      <th>6</th>\n",
       "      <td>SPP</td>\n",
       "      <td>Southwest Power Pool (SPP)</td>\n",
       "      <td>(POLYGON ((-93.73310749999996 30.4137588960000...</td>\n",
       "    </tr>\n",
       "    <tr>\n",
       "      <th>7</th>\n",
       "      <td>TRE</td>\n",
       "      <td>Texas Reliability Entity (TRE)</td>\n",
       "      <td>POLYGON ((-100.0008629659999 35.02950123100004...</td>\n",
       "    </tr>\n",
       "    <tr>\n",
       "      <th>8</th>\n",
       "      <td>WECC</td>\n",
       "      <td>Western Electricity Coordinating Council (WECC)</td>\n",
       "      <td>(POLYGON ((-117.215183729 32.77737140300007, -...</td>\n",
       "    </tr>\n",
       "  </tbody>\n",
       "</table>\n",
       "</div>"
      ],
      "text/plain": [
       "   NERC                                       NERC_Label  \\\n",
       "0     -          Indeterminate - various NERC membership   \n",
       "1  FRCC  Florida Reliability Coordinating Council (FRCC)   \n",
       "2   MRO           Midwest Reliability Organization (MRO)   \n",
       "3  NPCC      Northeast Power Coordinating Council (NPCC)   \n",
       "4   RFC               ReliabilityFirst Corporation (RFC)   \n",
       "5  SERC              SERC Reliability Corporation (SERC)   \n",
       "6   SPP                       Southwest Power Pool (SPP)   \n",
       "7   TRE                   Texas Reliability Entity (TRE)   \n",
       "8  WECC  Western Electricity Coordinating Council (WECC)   \n",
       "\n",
       "                                            geometry  \n",
       "0  (POLYGON ((-91.71222639199999 32.9756623780000...  \n",
       "1  (POLYGON ((-81.95506602699999 24.5196900770000...  \n",
       "2  POLYGON ((-95.07148604699995 49.36451082200006...  \n",
       "3  (POLYGON ((-73.82134384999995 40.6045004290000...  \n",
       "4  (POLYGON ((-90.89359863199996 29.0467829150000...  \n",
       "5  (POLYGON ((-91.71222639199999 32.9756623780000...  \n",
       "6  (POLYGON ((-93.73310749999996 30.4137588960000...  \n",
       "7  POLYGON ((-100.0008629659999 35.02950123100004...  \n",
       "8  (POLYGON ((-117.215183729 32.77737140300007, -...  "
      ]
     },
     "execution_count": 4,
     "metadata": {},
     "output_type": "execute_result"
    }
   ],
   "source": [
    "regions"
   ]
  },
  {
   "cell_type": "code",
   "execution_count": 12,
   "metadata": {
    "collapsed": true
   },
   "outputs": [],
   "source": [
    "region_pairs = [\n",
    "    (8, 7),\n",
    "    (8, 6),\n",
    "    (8, 2),\n",
    "    (1, 5),\n",
    "    (2, 4),\n",
    "    (2, 5),\n",
    "    (2, 6),\n",
    "    (7, 6),\n",
    "    (3, 4)\n",
    "]"
   ]
  },
  {
   "cell_type": "code",
   "execution_count": 17,
   "metadata": {},
   "outputs": [
    {
     "name": "stdout",
     "output_type": "stream",
     "text": [
      "WECC intersects with TRE\n",
      "WECC intersects with SPP\n",
      "WECC intersects with MRO\n",
      "FRCC intersects with SERC\n",
      "MRO intersects with RFC\n",
      "MRO intersects with SERC\n",
      "MRO intersects with SPP\n",
      "TRE intersects with SPP\n",
      "NPCC intersects with RFC\n"
     ]
    }
   ],
   "source": [
    "for pairs in region_pairs:\n",
    "    contains = regions.loc[pairs[0], 'geometry'].intersects(regions.loc[pairs[1], 'geometry'])\n",
    "    if contains:\n",
    "        region0 = regions.loc[pairs[0], 'NERC']\n",
    "        region1 = regions.loc[pairs[1], 'NERC']\n",
    "        \n",
    "        print('{} intersects with {}'.format(region0, region1))\n",
    "    \n",
    "\n",
    "\n",
    "# regions.loc[0, 'geometry'].contains(regions.loc[2, 'geometry'])"
   ]
  },
  {
   "cell_type": "code",
   "execution_count": 16,
   "metadata": {},
   "outputs": [
    {
     "data": {
      "text/plain": [
       "True"
      ]
     },
     "execution_count": 16,
     "metadata": {},
     "output_type": "execute_result"
    }
   ],
   "source": [
    "regions.loc[1, 'geometry'].intersects(regions.loc[5, 'geometry'])"
   ]
  },
  {
   "cell_type": "code",
   "execution_count": 44,
   "metadata": {},
   "outputs": [
    {
     "data": {
      "image/png": "[encoded data removed]",
      "text/plain": [
       "<matplotlib.figure.Figure at 0x12b3efc18>"
      ]
     },
     "metadata": {},
     "output_type": "display_data"
    }
   ],
   "source": [
    "fig, ax = plt.subplots(figsize=(5,5))\n",
    "regions.loc[[1], :].plot(ax=ax, color='b', alpha=0.7)\n",
    "regions.loc[[5], :].plot(ax=ax, color='r', alpha=0.5)\n",
    "plt.xlim(-92.5, -77.5)\n",
    "plt.ylim(25, 37)\n",
    "sns.despine()\n"
   ]
  },
  {
   "cell_type": "code",
   "execution_count": 41,
   "metadata": {},
   "outputs": [
    {
     "data": {
      "image/png": "[encoded data removed]",
      "text/plain": [
       "<matplotlib.figure.Figure at 0x12b4d3e10>"
      ]
     },
     "metadata": {},
     "output_type": "display_data"
    }
   ],
   "source": [
    "fig, ax = plt.subplots(figsize=(5,5))\n",
    "regions.loc[[1], :].plot(ax=ax, color='b', alpha=0.7)\n",
    "regions.loc[[5], :].plot(ax=ax, color='r', alpha=0.5)\n",
    "# plt.xlim(-92.5, -77.5)\n",
    "# plt.ylim(25, 35)\n",
    "sns.despine()\n"
   ]
  },
  {
   "cell_type": "code",
   "execution_count": 38,
   "metadata": {},
   "outputs": [
    {
     "data": {
      "image/png": "[encoded data removed]",
      "text/plain": [
       "<matplotlib.figure.Figure at 0x12a9900b8>"
      ]
     },
     "metadata": {},
     "output_type": "display_data"
    }
   ],
   "source": [
    "fig, ax = plt.subplots(figsize=(5,5))\n",
    "regions.loc[[5], :].plot(ax=ax, color='b', alpha=0.5)\n",
    "regions.loc[[4], :].plot(ax=ax, color='r', alpha=0.5)\n",
    "sns.despine(trim=True)"
   ]
  },
  {
   "cell_type": "code",
   "execution_count": 5,
   "metadata": {
    "ExecuteTime": {
     "end_time": "2017-10-31T13:46:50.286186Z",
     "start_time": "2017-10-31T13:46:48.901497Z"
    }
   },
   "outputs": [
    {
     "data": {
      "text/plain": [
       "<matplotlib.axes._subplots.AxesSubplot at 0x11ac65518>"
      ]
     },
     "execution_count": 5,
     "metadata": {},
     "output_type": "execute_result"
    },
    {
     "data": {
      "image/png": "[encoded data removed]",
      "text/plain": [
       "<matplotlib.figure.Figure at 0x11ac4db38>"
      ]
     },
     "metadata": {},
     "output_type": "display_data"
    }
   ],
   "source": [
    "regions.plot()"
   ]
  },
  {
   "cell_type": "markdown",
   "metadata": {},
   "source": [
    "## Read file with facility location, generation, and fuel data"
   ]
  },
  {
   "cell_type": "code",
   "execution_count": 12,
   "metadata": {
    "ExecuteTime": {
     "end_time": "2017-11-02T19:48:37.887827Z",
     "start_time": "2017-11-02T19:48:29.404221Z"
    },
    "collapsed": true
   },
   "outputs": [],
   "source": [
    "path = os.path.join(data_path, 'Facility gen fuels and CO2 2017-08-31.zip')\n",
    "facility_df = pd.read_csv(path)"
   ]
  },
  {
   "cell_type": "markdown",
   "metadata": {},
   "source": [
    "### Drop plants without lat/lon data\n",
    "From 2001-mid 2017, 9 facilities (out of 8,435) don't have valid lat/lon data. All of them are from 2010 or earlier. Drop these rows or the spatial join fails. The amount of generation from these plants is tiny - well under 0.05% in all years."
   ]
  },
  {
   "cell_type": "code",
   "execution_count": 7,
   "metadata": {
    "ExecuteTime": {
     "end_time": "2017-10-31T13:48:19.503509Z",
     "start_time": "2017-10-31T13:48:19.472547Z"
    }
   },
   "outputs": [
    {
     "name": "stdout",
     "output_type": "stream",
     "text": [
      "8435 total plants\n",
      "9 plants without lat/lon\n"
     ]
    }
   ],
   "source": [
    "print(len(facility_df['plant id'].unique()), 'total plants')\n",
    "print(len(facility_df.loc[facility_df['lat'].isnull(), 'plant id'].unique()),\n",
    "      'plants without lat/lon')"
   ]
  },
  {
   "cell_type": "code",
   "execution_count": 8,
   "metadata": {
    "ExecuteTime": {
     "end_time": "2017-10-31T13:48:42.171526Z",
     "start_time": "2017-10-31T13:48:41.905246Z"
    }
   },
   "outputs": [
    {
     "name": "stdout",
     "output_type": "stream",
     "text": [
      "In 2006, 0.000% of generation is from plants without lat/lon\n",
      "In 2005, 0.001% of generation is from plants without lat/lon\n",
      "In 2004, 0.001% of generation is from plants without lat/lon\n",
      "In 2002, 0.024% of generation is from plants without lat/lon\n",
      "In 2001, 0.031% of generation is from plants without lat/lon\n",
      "In 2010, 0.000% of generation is from plants without lat/lon\n",
      "In 2009, 0.000% of generation is from plants without lat/lon\n",
      "In 2007, 0.000% of generation is from plants without lat/lon\n",
      "In 2003, 0.011% of generation is from plants without lat/lon\n"
     ]
    }
   ],
   "source": [
    "years = facility_df.loc[facility_df['lat'].isnull(), 'year'].unique()\n",
    "for year in years:\n",
    "    total_gen = facility_df.loc[facility_df['year'] == year, 'generation (MWh)'].sum()\n",
    "    \n",
    "    # Plant ids with no 'lat' in year\n",
    "    no_loc_plants = facility_df.loc[(facility_df['lat'].isnull()) & \n",
    "                                    (facility_df['year'] == year), 'plant id'].unique()\n",
    "    \n",
    "    no_loc_gen = facility_df.loc[(facility_df['year'] == year) &\n",
    "                                 (facility_df['plant id'].isin(no_loc_plants)),\n",
    "                                  'generation (MWh)'].sum()\n",
    "    \n",
    "    percent_dropped = no_loc_gen / total_gen * 100\n",
    "    \n",
    "    print('In {}, {:.3f}% of generation is from plants without lat/lon'.format(year, percent_dropped))"
   ]
  },
  {
   "cell_type": "code",
   "execution_count": 9,
   "metadata": {
    "ExecuteTime": {
     "end_time": "2017-10-31T13:48:51.245565Z",
     "start_time": "2017-10-31T13:48:50.792098Z"
    },
    "collapsed": true
   },
   "outputs": [],
   "source": [
    "facility_df.dropna(inplace=True, subset=['lat', 'lon'])"
   ]
  },
  {
   "cell_type": "code",
   "execution_count": 10,
   "metadata": {
    "ExecuteTime": {
     "end_time": "2017-10-31T13:48:53.081482Z",
     "start_time": "2017-10-31T13:48:53.074928Z"
    }
   },
   "outputs": [
    {
     "data": {
      "text/plain": [
       "Index(['f', 'fuel', 'month', 'plant id', 'total fuel (mmbtu)', 'year',\n",
       "       'generation (MWh)', 'elec fuel (mmbtu)', 'geography', 'last_updated',\n",
       "       'lat', 'lon', 'prime mover', 'datetime', 'quarter',\n",
       "       'all fuel fossil CO2 (kg)', 'elec fuel fossil CO2 (kg)',\n",
       "       'all fuel total CO2 (kg)', 'elec fuel total CO2 (kg)'],\n",
       "      dtype='object')"
      ]
     },
     "execution_count": 10,
     "metadata": {},
     "output_type": "execute_result"
    }
   ],
   "source": [
    "facility_df.columns"
   ]
  },
  {
   "cell_type": "markdown",
   "metadata": {},
   "source": [
    "Because I have monthly data for every facility from 2001-2017, there are lots of duplicate rows. No need to do a spatial join on every row. Just keep one instance of each facility in each year."
   ]
  },
  {
   "cell_type": "code",
   "execution_count": 11,
   "metadata": {
    "ExecuteTime": {
     "end_time": "2017-10-31T13:48:57.937818Z",
     "start_time": "2017-10-31T13:48:57.703166Z"
    },
    "collapsed": true
   },
   "outputs": [],
   "source": [
    "cols = ['lat', 'lon', 'plant id', 'year']\n",
    "small_facility = facility_df.loc[:, cols].drop_duplicates()"
   ]
  },
  {
   "cell_type": "markdown",
   "metadata": {},
   "source": [
    "Use `Point` from Shapely to create the `geometry` list of facility locations. `crs` is the coordinate reference system that translates lat/lon into a specific map projection."
   ]
  },
  {
   "cell_type": "code",
   "execution_count": 12,
   "metadata": {
    "ExecuteTime": {
     "end_time": "2017-10-31T13:49:01.630618Z",
     "start_time": "2017-10-31T13:49:00.225123Z"
    },
    "collapsed": true
   },
   "outputs": [],
   "source": [
    "geometry = [Point(xy) for xy in zip(small_facility.lon, small_facility.lat)]\n",
    "# small_facility = small_facility.drop(['lon', 'lat'], axis=1)\n",
    "crs = {'init': 'epsg:4326'}\n",
    "geo_df = GeoDataFrame(small_facility, crs=crs, geometry=geometry)"
   ]
  },
  {
   "cell_type": "code",
   "execution_count": 13,
   "metadata": {
    "ExecuteTime": {
     "end_time": "2017-10-31T13:49:06.221470Z",
     "start_time": "2017-10-31T13:49:06.202644Z"
    }
   },
   "outputs": [
    {
     "data": {
      "text/html": [
       "<div>\n",
       "<style>\n",
       "    .dataframe thead tr:only-child th {\n",
       "        text-align: right;\n",
       "    }\n",
       "\n",
       "    .dataframe thead th {\n",
       "        text-align: left;\n",
       "    }\n",
       "\n",
       "    .dataframe tbody tr th {\n",
       "        vertical-align: top;\n",
       "    }\n",
       "</style>\n",
       "<table border=\"1\" class=\"dataframe\">\n",
       "  <thead>\n",
       "    <tr style=\"text-align: right;\">\n",
       "      <th></th>\n",
       "      <th>lat</th>\n",
       "      <th>lon</th>\n",
       "      <th>plant id</th>\n",
       "      <th>year</th>\n",
       "      <th>geometry</th>\n",
       "    </tr>\n",
       "  </thead>\n",
       "  <tbody>\n",
       "    <tr>\n",
       "      <th>0</th>\n",
       "      <td>44.4936</td>\n",
       "      <td>-88.0303</td>\n",
       "      <td>10360</td>\n",
       "      <td>2017</td>\n",
       "      <td>POINT (-88.0303 44.4936)</td>\n",
       "    </tr>\n",
       "    <tr>\n",
       "      <th>6</th>\n",
       "      <td>44.4936</td>\n",
       "      <td>-88.0303</td>\n",
       "      <td>10360</td>\n",
       "      <td>2016</td>\n",
       "      <td>POINT (-88.0303 44.4936)</td>\n",
       "    </tr>\n",
       "    <tr>\n",
       "      <th>18</th>\n",
       "      <td>44.4936</td>\n",
       "      <td>-88.0303</td>\n",
       "      <td>10360</td>\n",
       "      <td>2015</td>\n",
       "      <td>POINT (-88.0303 44.4936)</td>\n",
       "    </tr>\n",
       "    <tr>\n",
       "      <th>30</th>\n",
       "      <td>44.4936</td>\n",
       "      <td>-88.0303</td>\n",
       "      <td>10360</td>\n",
       "      <td>2014</td>\n",
       "      <td>POINT (-88.0303 44.4936)</td>\n",
       "    </tr>\n",
       "    <tr>\n",
       "      <th>38</th>\n",
       "      <td>44.4936</td>\n",
       "      <td>-88.0303</td>\n",
       "      <td>10360</td>\n",
       "      <td>2008</td>\n",
       "      <td>POINT (-88.0303 44.4936)</td>\n",
       "    </tr>\n",
       "  </tbody>\n",
       "</table>\n",
       "</div>"
      ],
      "text/plain": [
       "        lat      lon  plant id  year                  geometry\n",
       "0   44.4936 -88.0303     10360  2017  POINT (-88.0303 44.4936)\n",
       "6   44.4936 -88.0303     10360  2016  POINT (-88.0303 44.4936)\n",
       "18  44.4936 -88.0303     10360  2015  POINT (-88.0303 44.4936)\n",
       "30  44.4936 -88.0303     10360  2014  POINT (-88.0303 44.4936)\n",
       "38  44.4936 -88.0303     10360  2008  POINT (-88.0303 44.4936)"
      ]
     },
     "execution_count": 13,
     "metadata": {},
     "output_type": "execute_result"
    }
   ],
   "source": [
    "geo_df.head()"
   ]
  },
  {
   "cell_type": "code",
   "execution_count": 14,
   "metadata": {
    "ExecuteTime": {
     "end_time": "2017-10-31T13:49:07.695554Z",
     "start_time": "2017-10-31T13:49:07.689889Z"
    }
   },
   "outputs": [
    {
     "data": {
      "text/plain": [
       "88918"
      ]
     },
     "execution_count": 14,
     "metadata": {},
     "output_type": "execute_result"
    }
   ],
   "source": [
    "len(geo_df)"
   ]
  },
  {
   "cell_type": "markdown",
   "metadata": {},
   "source": [
    "## Spatial join of NERC dataframe with polygons and facility dataframe with points\n",
    "Joining the 9 regions (NERC) with 100,810 records takes much longer with facilities as the left dataframe in the join (2 min vs 12 seconds). Not quite sure why this is. The faster method leaves me with polygons rather than points tho. There might be a better way to rectify this, but I just create a new geodataframe with the geometry set as the lat/lon points.\n",
    "\n",
    "**EDIT**\n",
    "Although the GeoPandas documentation says that the `op` parameter doesn't matter for point-in-polygon operations, using 'within' made the operation much faster (12 seconds). The first method below is probably preferable since it keeps the point geometry."
   ]
  },
  {
   "cell_type": "markdown",
   "metadata": {},
   "source": [
    "**Method 1** (slow unless you use `op='within'`)"
   ]
  },
  {
   "cell_type": "code",
   "execution_count": 15,
   "metadata": {
    "ExecuteTime": {
     "end_time": "2017-10-31T13:49:33.051292Z",
     "start_time": "2017-10-31T13:49:29.161632Z"
    },
    "collapsed": true
   },
   "outputs": [],
   "source": [
    "facility_nerc = gpd.sjoin(geo_df, regions, how='inner', op='within')"
   ]
  },
  {
   "cell_type": "code",
   "execution_count": 16,
   "metadata": {
    "ExecuteTime": {
     "end_time": "2017-10-31T13:49:35.979853Z",
     "start_time": "2017-10-31T13:49:35.962856Z"
    }
   },
   "outputs": [
    {
     "data": {
      "text/html": [
       "<div>\n",
       "<style>\n",
       "    .dataframe thead tr:only-child th {\n",
       "        text-align: right;\n",
       "    }\n",
       "\n",
       "    .dataframe thead th {\n",
       "        text-align: left;\n",
       "    }\n",
       "\n",
       "    .dataframe tbody tr th {\n",
       "        vertical-align: top;\n",
       "    }\n",
       "</style>\n",
       "<table border=\"1\" class=\"dataframe\">\n",
       "  <thead>\n",
       "    <tr style=\"text-align: right;\">\n",
       "      <th></th>\n",
       "      <th>lat</th>\n",
       "      <th>lon</th>\n",
       "      <th>plant id</th>\n",
       "      <th>year</th>\n",
       "      <th>geometry</th>\n",
       "      <th>index_right</th>\n",
       "      <th>NERC</th>\n",
       "      <th>NERC_Label</th>\n",
       "    </tr>\n",
       "  </thead>\n",
       "  <tbody>\n",
       "    <tr>\n",
       "      <th>0</th>\n",
       "      <td>44.4936</td>\n",
       "      <td>-88.0303</td>\n",
       "      <td>10360</td>\n",
       "      <td>2017</td>\n",
       "      <td>POINT (-88.0303 44.4936)</td>\n",
       "      <td>2</td>\n",
       "      <td>MRO</td>\n",
       "      <td>Midwest Reliability Organization (MRO)</td>\n",
       "    </tr>\n",
       "    <tr>\n",
       "      <th>6</th>\n",
       "      <td>44.4936</td>\n",
       "      <td>-88.0303</td>\n",
       "      <td>10360</td>\n",
       "      <td>2016</td>\n",
       "      <td>POINT (-88.0303 44.4936)</td>\n",
       "      <td>2</td>\n",
       "      <td>MRO</td>\n",
       "      <td>Midwest Reliability Organization (MRO)</td>\n",
       "    </tr>\n",
       "    <tr>\n",
       "      <th>18</th>\n",
       "      <td>44.4936</td>\n",
       "      <td>-88.0303</td>\n",
       "      <td>10360</td>\n",
       "      <td>2015</td>\n",
       "      <td>POINT (-88.0303 44.4936)</td>\n",
       "      <td>2</td>\n",
       "      <td>MRO</td>\n",
       "      <td>Midwest Reliability Organization (MRO)</td>\n",
       "    </tr>\n",
       "    <tr>\n",
       "      <th>30</th>\n",
       "      <td>44.4936</td>\n",
       "      <td>-88.0303</td>\n",
       "      <td>10360</td>\n",
       "      <td>2014</td>\n",
       "      <td>POINT (-88.0303 44.4936)</td>\n",
       "      <td>2</td>\n",
       "      <td>MRO</td>\n",
       "      <td>Midwest Reliability Organization (MRO)</td>\n",
       "    </tr>\n",
       "    <tr>\n",
       "      <th>38</th>\n",
       "      <td>44.4936</td>\n",
       "      <td>-88.0303</td>\n",
       "      <td>10360</td>\n",
       "      <td>2008</td>\n",
       "      <td>POINT (-88.0303 44.4936)</td>\n",
       "      <td>2</td>\n",
       "      <td>MRO</td>\n",
       "      <td>Midwest Reliability Organization (MRO)</td>\n",
       "    </tr>\n",
       "  </tbody>\n",
       "</table>\n",
       "</div>"
      ],
      "text/plain": [
       "        lat      lon  plant id  year                  geometry  index_right  \\\n",
       "0   44.4936 -88.0303     10360  2017  POINT (-88.0303 44.4936)            2   \n",
       "6   44.4936 -88.0303     10360  2016  POINT (-88.0303 44.4936)            2   \n",
       "18  44.4936 -88.0303     10360  2015  POINT (-88.0303 44.4936)            2   \n",
       "30  44.4936 -88.0303     10360  2014  POINT (-88.0303 44.4936)            2   \n",
       "38  44.4936 -88.0303     10360  2008  POINT (-88.0303 44.4936)            2   \n",
       "\n",
       "   NERC                              NERC_Label  \n",
       "0   MRO  Midwest Reliability Organization (MRO)  \n",
       "6   MRO  Midwest Reliability Organization (MRO)  \n",
       "18  MRO  Midwest Reliability Organization (MRO)  \n",
       "30  MRO  Midwest Reliability Organization (MRO)  \n",
       "38  MRO  Midwest Reliability Organization (MRO)  "
      ]
     },
     "execution_count": 16,
     "metadata": {},
     "output_type": "execute_result"
    }
   ],
   "source": [
    "facility_nerc.head()"
   ]
  },
  {
   "cell_type": "markdown",
   "metadata": {},
   "source": [
    "**Method 2** (faster when using the default operation)"
   ]
  },
  {
   "cell_type": "code",
   "execution_count": 10,
   "metadata": {
    "ExecuteTime": {
     "end_time": "2017-07-31T15:16:05.049419",
     "start_time": "2017-07-31T15:15:52.623120Z"
    },
    "collapsed": true
   },
   "outputs": [],
   "source": [
    "facility_nerc = gpd.sjoin(df, geo_df, how=\"inner\")"
   ]
  },
  {
   "cell_type": "code",
   "execution_count": 11,
   "metadata": {
    "ExecuteTime": {
     "end_time": "2017-07-31T15:16:05.120060",
     "start_time": "2017-07-31T15:16:05.051451Z"
    }
   },
   "outputs": [
    {
     "data": {
      "text/html": [
       "<div>\n",
       "<style>\n",
       "    .dataframe thead tr:only-child th {\n",
       "        text-align: right;\n",
       "    }\n",
       "\n",
       "    .dataframe thead th {\n",
       "        text-align: left;\n",
       "    }\n",
       "\n",
       "    .dataframe tbody tr th {\n",
       "        vertical-align: top;\n",
       "    }\n",
       "</style>\n",
       "<table border=\"1\" class=\"dataframe\">\n",
       "  <thead>\n",
       "    <tr style=\"text-align: right;\">\n",
       "      <th></th>\n",
       "      <th>NERC</th>\n",
       "      <th>NERC_Label</th>\n",
       "      <th>geometry</th>\n",
       "      <th>index_right</th>\n",
       "      <th>lat</th>\n",
       "      <th>lon</th>\n",
       "      <th>plant id</th>\n",
       "      <th>year</th>\n",
       "    </tr>\n",
       "  </thead>\n",
       "  <tbody>\n",
       "    <tr>\n",
       "      <th>0</th>\n",
       "      <td>-</td>\n",
       "      <td>Indeterminate - various NERC membership</td>\n",
       "      <td>(POLYGON ((-91.71222639199999 32.9756623780000...</td>\n",
       "      <td>1200931</td>\n",
       "      <td>40.389167</td>\n",
       "      <td>-91.394167</td>\n",
       "      <td>57953</td>\n",
       "      <td>2014</td>\n",
       "    </tr>\n",
       "    <tr>\n",
       "      <th>0</th>\n",
       "      <td>-</td>\n",
       "      <td>Indeterminate - various NERC membership</td>\n",
       "      <td>(POLYGON ((-91.71222639199999 32.9756623780000...</td>\n",
       "      <td>1200919</td>\n",
       "      <td>40.389167</td>\n",
       "      <td>-91.394167</td>\n",
       "      <td>57953</td>\n",
       "      <td>2015</td>\n",
       "    </tr>\n",
       "    <tr>\n",
       "      <th>0</th>\n",
       "      <td>-</td>\n",
       "      <td>Indeterminate - various NERC membership</td>\n",
       "      <td>(POLYGON ((-91.71222639199999 32.9756623780000...</td>\n",
       "      <td>1200907</td>\n",
       "      <td>40.389167</td>\n",
       "      <td>-91.394167</td>\n",
       "      <td>57953</td>\n",
       "      <td>2016</td>\n",
       "    </tr>\n",
       "    <tr>\n",
       "      <th>0</th>\n",
       "      <td>-</td>\n",
       "      <td>Indeterminate - various NERC membership</td>\n",
       "      <td>(POLYGON ((-91.71222639199999 32.9756623780000...</td>\n",
       "      <td>1200904</td>\n",
       "      <td>40.389167</td>\n",
       "      <td>-91.394167</td>\n",
       "      <td>57953</td>\n",
       "      <td>2017</td>\n",
       "    </tr>\n",
       "    <tr>\n",
       "      <th>0</th>\n",
       "      <td>-</td>\n",
       "      <td>Indeterminate - various NERC membership</td>\n",
       "      <td>(POLYGON ((-91.71222639199999 32.9756623780000...</td>\n",
       "      <td>1201030</td>\n",
       "      <td>40.389167</td>\n",
       "      <td>-91.394167</td>\n",
       "      <td>57953</td>\n",
       "      <td>2011</td>\n",
       "    </tr>\n",
       "  </tbody>\n",
       "</table>\n",
       "</div>"
      ],
      "text/plain": [
       "  NERC                               NERC_Label  \\\n",
       "0    -  Indeterminate - various NERC membership   \n",
       "0    -  Indeterminate - various NERC membership   \n",
       "0    -  Indeterminate - various NERC membership   \n",
       "0    -  Indeterminate - various NERC membership   \n",
       "0    -  Indeterminate - various NERC membership   \n",
       "\n",
       "                                            geometry  index_right        lat  \\\n",
       "0  (POLYGON ((-91.71222639199999 32.9756623780000...      1200931  40.389167   \n",
       "0  (POLYGON ((-91.71222639199999 32.9756623780000...      1200919  40.389167   \n",
       "0  (POLYGON ((-91.71222639199999 32.9756623780000...      1200907  40.389167   \n",
       "0  (POLYGON ((-91.71222639199999 32.9756623780000...      1200904  40.389167   \n",
       "0  (POLYGON ((-91.71222639199999 32.9756623780000...      1201030  40.389167   \n",
       "\n",
       "         lon  plant id  year  \n",
       "0 -91.394167     57953  2014  \n",
       "0 -91.394167     57953  2015  \n",
       "0 -91.394167     57953  2016  \n",
       "0 -91.394167     57953  2017  \n",
       "0 -91.394167     57953  2011  "
      ]
     },
     "execution_count": 11,
     "metadata": {},
     "output_type": "execute_result"
    }
   ],
   "source": [
    "facility_nerc.head()"
   ]
  },
  {
   "cell_type": "markdown",
   "metadata": {},
   "source": [
    "Make the new geometry of facility locations"
   ]
  },
  {
   "cell_type": "code",
   "execution_count": 12,
   "metadata": {
    "ExecuteTime": {
     "end_time": "2017-07-31T15:16:09.677274",
     "start_time": "2017-07-31T15:16:08.520811Z"
    },
    "collapsed": true
   },
   "outputs": [],
   "source": [
    "geometry = [Point(xy) for xy in zip(facility_nerc.lon, facility_nerc.lat)]"
   ]
  },
  {
   "cell_type": "markdown",
   "metadata": {},
   "source": [
    "Create new dataframe with the data I want to keep and the new geometry"
   ]
  },
  {
   "cell_type": "code",
   "execution_count": 13,
   "metadata": {
    "ExecuteTime": {
     "end_time": "2017-07-31T15:17:45.636359",
     "start_time": "2017-07-31T15:17:45.604018Z"
    },
    "collapsed": true
   },
   "outputs": [],
   "source": [
    "crs = {'init': 'epsg:4326'}\n",
    "keep_cols = ['NERC_Label', 'plant id', 'year']\n",
    "facility_nerc = GeoDataFrame(facility_nerc[keep_cols], crs=crs, geometry=geometry)"
   ]
  },
  {
   "cell_type": "code",
   "execution_count": 14,
   "metadata": {
    "ExecuteTime": {
     "end_time": "2017-07-31T15:17:53.146153",
     "start_time": "2017-07-31T15:17:53.132367Z"
    }
   },
   "outputs": [
    {
     "data": {
      "text/html": [
       "<div>\n",
       "<style>\n",
       "    .dataframe thead tr:only-child th {\n",
       "        text-align: right;\n",
       "    }\n",
       "\n",
       "    .dataframe thead th {\n",
       "        text-align: left;\n",
       "    }\n",
       "\n",
       "    .dataframe tbody tr th {\n",
       "        vertical-align: top;\n",
       "    }\n",
       "</style>\n",
       "<table border=\"1\" class=\"dataframe\">\n",
       "  <thead>\n",
       "    <tr style=\"text-align: right;\">\n",
       "      <th></th>\n",
       "      <th>NERC_Label</th>\n",
       "      <th>plant id</th>\n",
       "      <th>year</th>\n",
       "      <th>geometry</th>\n",
       "    </tr>\n",
       "  </thead>\n",
       "  <tbody>\n",
       "    <tr>\n",
       "      <th>0</th>\n",
       "      <td>Indeterminate - various NERC membership</td>\n",
       "      <td>57953</td>\n",
       "      <td>2014</td>\n",
       "      <td>POINT (-91.39416700000001 40.389167)</td>\n",
       "    </tr>\n",
       "    <tr>\n",
       "      <th>0</th>\n",
       "      <td>Indeterminate - various NERC membership</td>\n",
       "      <td>57953</td>\n",
       "      <td>2015</td>\n",
       "      <td>POINT (-91.39416700000001 40.389167)</td>\n",
       "    </tr>\n",
       "    <tr>\n",
       "      <th>0</th>\n",
       "      <td>Indeterminate - various NERC membership</td>\n",
       "      <td>57953</td>\n",
       "      <td>2016</td>\n",
       "      <td>POINT (-91.39416700000001 40.389167)</td>\n",
       "    </tr>\n",
       "    <tr>\n",
       "      <th>0</th>\n",
       "      <td>Indeterminate - various NERC membership</td>\n",
       "      <td>57953</td>\n",
       "      <td>2017</td>\n",
       "      <td>POINT (-91.39416700000001 40.389167)</td>\n",
       "    </tr>\n",
       "    <tr>\n",
       "      <th>0</th>\n",
       "      <td>Indeterminate - various NERC membership</td>\n",
       "      <td>57953</td>\n",
       "      <td>2011</td>\n",
       "      <td>POINT (-91.39416700000001 40.389167)</td>\n",
       "    </tr>\n",
       "  </tbody>\n",
       "</table>\n",
       "</div>"
      ],
      "text/plain": [
       "                                NERC_Label  plant id  year  \\\n",
       "0  Indeterminate - various NERC membership     57953  2014   \n",
       "0  Indeterminate - various NERC membership     57953  2015   \n",
       "0  Indeterminate - various NERC membership     57953  2016   \n",
       "0  Indeterminate - various NERC membership     57953  2017   \n",
       "0  Indeterminate - various NERC membership     57953  2011   \n",
       "\n",
       "                               geometry  \n",
       "0  POINT (-91.39416700000001 40.389167)  \n",
       "0  POINT (-91.39416700000001 40.389167)  \n",
       "0  POINT (-91.39416700000001 40.389167)  \n",
       "0  POINT (-91.39416700000001 40.389167)  \n",
       "0  POINT (-91.39416700000001 40.389167)  "
      ]
     },
     "execution_count": 14,
     "metadata": {},
     "output_type": "execute_result"
    }
   ],
   "source": [
    "facility_nerc.head()"
   ]
  },
  {
   "cell_type": "markdown",
   "metadata": {},
   "source": [
    "## Changing the crs to see what happens\n",
    "Just making sure that it does something"
   ]
  },
  {
   "cell_type": "code",
   "execution_count": 31,
   "metadata": {
    "ExecuteTime": {
     "end_time": "2017-07-28T19:20:04.302495",
     "start_time": "2017-07-28T19:20:03.204775Z"
    },
    "collapsed": true
   },
   "outputs": [],
   "source": [
    "df_test = df.to_crs({'init': 'epsg:3395'})"
   ]
  },
  {
   "cell_type": "code",
   "execution_count": 32,
   "metadata": {
    "ExecuteTime": {
     "end_time": "2017-07-28T19:20:26.814114",
     "start_time": "2017-07-28T19:20:17.102754Z"
    }
   },
   "outputs": [
    {
     "data": {
      "text/plain": [
       "<matplotlib.axes._subplots.AxesSubplot at 0x1301c5f28>"
      ]
     },
     "execution_count": 32,
     "metadata": {},
     "output_type": "execute_result"
    },
    {
     "data": {
      "image/png": "[encoded data removed]",
      "text/plain": [
       "<matplotlib.figure.Figure at 0x1301b3fd0>"
      ]
     },
     "metadata": {},
     "output_type": "display_data"
    }
   ],
   "source": [
    "df.plot()"
   ]
  },
  {
   "cell_type": "code",
   "execution_count": 33,
   "metadata": {
    "ExecuteTime": {
     "end_time": "2017-07-28T19:20:35.322416",
     "start_time": "2017-07-28T19:20:26.815800Z"
    },
    "scrolled": true
   },
   "outputs": [
    {
     "data": {
      "text/plain": [
       "<matplotlib.axes._subplots.AxesSubplot at 0x1334af7b8>"
      ]
     },
     "execution_count": 33,
     "metadata": {},
     "output_type": "execute_result"
    },
    {
     "data": {
      "image/png": "[encoded data removed]",
      "text/plain": [
       "<matplotlib.figure.Figure at 0x1301b38d0>"
      ]
     },
     "metadata": {},
     "output_type": "display_data"
    }
   ],
   "source": [
    "df_test.plot()"
   ]
  },
  {
   "cell_type": "markdown",
   "metadata": {},
   "source": [
    "## NEW - read file with only plant id, state, and lat/lon\n",
    "[Link to data file](https://github.com/gschivley/Index-variability/raw/master/Data%20storage/Facility%20labels/Facility%20locations.csv)"
   ]
  },
  {
   "cell_type": "markdown",
   "metadata": {},
   "source": [
    "If you need to load the shapefile, [download it here](https://github.com/gschivley/Index-variability/raw/master/Data%20storage/NERC_Regions_EIA)."
   ]
  },
  {
   "cell_type": "code",
   "execution_count": null,
   "metadata": {
    "collapsed": true
   },
   "outputs": [],
   "source": [
    "# If loading the shapefile\n",
    "shape_path = ''\n",
    "regions = gpd.read_file(shape_path)"
   ]
  },
  {
   "cell_type": "code",
   "execution_count": 3,
   "metadata": {
    "ExecuteTime": {
     "end_time": "2017-11-02T18:30:45.607401Z",
     "start_time": "2017-11-02T18:30:45.585899Z"
    },
    "collapsed": true
   },
   "outputs": [],
   "source": [
    "path = join(data_path, 'Facility labels', 'Facility locations.csv')\n",
    "location = pd.read_csv(path)"
   ]
  },
  {
   "cell_type": "code",
   "execution_count": 20,
   "metadata": {
    "ExecuteTime": {
     "end_time": "2017-10-31T18:49:32.271876Z",
     "start_time": "2017-10-31T18:49:32.265485Z"
    }
   },
   "outputs": [
    {
     "data": {
      "text/plain": [
       "8217"
      ]
     },
     "execution_count": 20,
     "metadata": {},
     "output_type": "execute_result"
    }
   ],
   "source": [
    "len(location)"
   ]
  },
  {
   "cell_type": "markdown",
   "metadata": {},
   "source": [
    "The `nerc` column is labels from a spatial join using this same shapefile and lat/lon data in QGIS."
   ]
  },
  {
   "cell_type": "code",
   "execution_count": 21,
   "metadata": {
    "ExecuteTime": {
     "end_time": "2017-10-31T18:51:46.859717Z",
     "start_time": "2017-10-31T18:51:46.847384Z"
    }
   },
   "outputs": [
    {
     "data": {
      "text/html": [
       "<div>\n",
       "<style>\n",
       "    .dataframe thead tr:only-child th {\n",
       "        text-align: right;\n",
       "    }\n",
       "\n",
       "    .dataframe thead th {\n",
       "        text-align: left;\n",
       "    }\n",
       "\n",
       "    .dataframe tbody tr th {\n",
       "        vertical-align: top;\n",
       "    }\n",
       "</style>\n",
       "<table border=\"1\" class=\"dataframe\">\n",
       "  <thead>\n",
       "    <tr style=\"text-align: right;\">\n",
       "      <th></th>\n",
       "      <th>plant id</th>\n",
       "      <th>state</th>\n",
       "      <th>lat</th>\n",
       "      <th>lon</th>\n",
       "      <th>nerc</th>\n",
       "    </tr>\n",
       "  </thead>\n",
       "  <tbody>\n",
       "    <tr>\n",
       "      <th>0</th>\n",
       "      <td>2</td>\n",
       "      <td>AL</td>\n",
       "      <td>33.458665</td>\n",
       "      <td>-87.356823</td>\n",
       "      <td>SERC</td>\n",
       "    </tr>\n",
       "    <tr>\n",
       "      <th>1</th>\n",
       "      <td>3</td>\n",
       "      <td>AL</td>\n",
       "      <td>31.006900</td>\n",
       "      <td>-88.010300</td>\n",
       "      <td>SERC</td>\n",
       "    </tr>\n",
       "    <tr>\n",
       "      <th>2</th>\n",
       "      <td>4</td>\n",
       "      <td>AL</td>\n",
       "      <td>32.583889</td>\n",
       "      <td>-86.283056</td>\n",
       "      <td>SERC</td>\n",
       "    </tr>\n",
       "    <tr>\n",
       "      <th>3</th>\n",
       "      <td>7</td>\n",
       "      <td>AL</td>\n",
       "      <td>34.012800</td>\n",
       "      <td>-85.970800</td>\n",
       "      <td>SERC</td>\n",
       "    </tr>\n",
       "    <tr>\n",
       "      <th>4</th>\n",
       "      <td>8</td>\n",
       "      <td>AL</td>\n",
       "      <td>33.644344</td>\n",
       "      <td>-87.196486</td>\n",
       "      <td>SERC</td>\n",
       "    </tr>\n",
       "  </tbody>\n",
       "</table>\n",
       "</div>"
      ],
      "text/plain": [
       "   plant id state        lat        lon  nerc\n",
       "0         2    AL  33.458665 -87.356823  SERC\n",
       "1         3    AL  31.006900 -88.010300  SERC\n",
       "2         4    AL  32.583889 -86.283056  SERC\n",
       "3         7    AL  34.012800 -85.970800  SERC\n",
       "4         8    AL  33.644344 -87.196486  SERC"
      ]
     },
     "execution_count": 21,
     "metadata": {},
     "output_type": "execute_result"
    }
   ],
   "source": [
    "location.head()"
   ]
  },
  {
   "cell_type": "code",
   "execution_count": 22,
   "metadata": {
    "ExecuteTime": {
     "end_time": "2017-10-31T18:51:48.617485Z",
     "start_time": "2017-10-31T18:51:48.606127Z"
    }
   },
   "outputs": [
    {
     "data": {
      "text/html": [
       "<div>\n",
       "<style>\n",
       "    .dataframe thead tr:only-child th {\n",
       "        text-align: right;\n",
       "    }\n",
       "\n",
       "    .dataframe thead th {\n",
       "        text-align: left;\n",
       "    }\n",
       "\n",
       "    .dataframe tbody tr th {\n",
       "        vertical-align: top;\n",
       "    }\n",
       "</style>\n",
       "<table border=\"1\" class=\"dataframe\">\n",
       "  <thead>\n",
       "    <tr style=\"text-align: right;\">\n",
       "      <th></th>\n",
       "      <th>plant id</th>\n",
       "      <th>state</th>\n",
       "      <th>lat</th>\n",
       "      <th>lon</th>\n",
       "      <th>nerc</th>\n",
       "    </tr>\n",
       "  </thead>\n",
       "  <tbody>\n",
       "  </tbody>\n",
       "</table>\n",
       "</div>"
      ],
      "text/plain": [
       "Empty DataFrame\n",
       "Columns: [plant id, state, lat, lon, nerc]\n",
       "Index: []"
      ]
     },
     "execution_count": 22,
     "metadata": {},
     "output_type": "execute_result"
    }
   ],
   "source": [
    "location.loc[location['lat'].isnull()]"
   ]
  },
  {
   "cell_type": "code",
   "execution_count": 4,
   "metadata": {
    "ExecuteTime": {
     "end_time": "2017-11-02T18:33:01.802719Z",
     "start_time": "2017-11-02T18:33:01.676764Z"
    },
    "collapsed": true
   },
   "outputs": [],
   "source": [
    "geometry = [Point(xy) for xy in zip(location.lon, location.lat)]\n",
    "# small_facility = small_facility.drop(['lon', 'lat'], axis=1)\n",
    "crs = {'init': 'epsg:4326'}\n",
    "geo_df = GeoDataFrame(location, crs=crs, geometry=geometry)"
   ]
  },
  {
   "cell_type": "code",
   "execution_count": 5,
   "metadata": {
    "ExecuteTime": {
     "end_time": "2017-11-02T18:33:02.932814Z",
     "start_time": "2017-11-02T18:33:02.917012Z"
    }
   },
   "outputs": [
    {
     "data": {
      "text/html": [
       "<div>\n",
       "<style>\n",
       "    .dataframe thead tr:only-child th {\n",
       "        text-align: right;\n",
       "    }\n",
       "\n",
       "    .dataframe thead th {\n",
       "        text-align: left;\n",
       "    }\n",
       "\n",
       "    .dataframe tbody tr th {\n",
       "        vertical-align: top;\n",
       "    }\n",
       "</style>\n",
       "<table border=\"1\" class=\"dataframe\">\n",
       "  <thead>\n",
       "    <tr style=\"text-align: right;\">\n",
       "      <th></th>\n",
       "      <th>plant id</th>\n",
       "      <th>state</th>\n",
       "      <th>lat</th>\n",
       "      <th>lon</th>\n",
       "      <th>nerc</th>\n",
       "      <th>geometry</th>\n",
       "    </tr>\n",
       "  </thead>\n",
       "  <tbody>\n",
       "    <tr>\n",
       "      <th>0</th>\n",
       "      <td>2</td>\n",
       "      <td>AL</td>\n",
       "      <td>33.458665</td>\n",
       "      <td>-87.356823</td>\n",
       "      <td>SERC</td>\n",
       "      <td>POINT (-87.35682299999999 33.458665)</td>\n",
       "    </tr>\n",
       "    <tr>\n",
       "      <th>1</th>\n",
       "      <td>3</td>\n",
       "      <td>AL</td>\n",
       "      <td>31.006900</td>\n",
       "      <td>-88.010300</td>\n",
       "      <td>SERC</td>\n",
       "      <td>POINT (-88.0103 31.0069)</td>\n",
       "    </tr>\n",
       "    <tr>\n",
       "      <th>2</th>\n",
       "      <td>4</td>\n",
       "      <td>AL</td>\n",
       "      <td>32.583889</td>\n",
       "      <td>-86.283056</td>\n",
       "      <td>SERC</td>\n",
       "      <td>POINT (-86.283056 32.583889)</td>\n",
       "    </tr>\n",
       "    <tr>\n",
       "      <th>3</th>\n",
       "      <td>7</td>\n",
       "      <td>AL</td>\n",
       "      <td>34.012800</td>\n",
       "      <td>-85.970800</td>\n",
       "      <td>SERC</td>\n",
       "      <td>POINT (-85.9708 34.0128)</td>\n",
       "    </tr>\n",
       "    <tr>\n",
       "      <th>4</th>\n",
       "      <td>8</td>\n",
       "      <td>AL</td>\n",
       "      <td>33.644344</td>\n",
       "      <td>-87.196486</td>\n",
       "      <td>SERC</td>\n",
       "      <td>POINT (-87.19648599999999 33.644344)</td>\n",
       "    </tr>\n",
       "  </tbody>\n",
       "</table>\n",
       "</div>"
      ],
      "text/plain": [
       "   plant id state        lat        lon  nerc  \\\n",
       "0         2    AL  33.458665 -87.356823  SERC   \n",
       "1         3    AL  31.006900 -88.010300  SERC   \n",
       "2         4    AL  32.583889 -86.283056  SERC   \n",
       "3         7    AL  34.012800 -85.970800  SERC   \n",
       "4         8    AL  33.644344 -87.196486  SERC   \n",
       "\n",
       "                               geometry  \n",
       "0  POINT (-87.35682299999999 33.458665)  \n",
       "1              POINT (-88.0103 31.0069)  \n",
       "2          POINT (-86.283056 32.583889)  \n",
       "3              POINT (-85.9708 34.0128)  \n",
       "4  POINT (-87.19648599999999 33.644344)  "
      ]
     },
     "execution_count": 5,
     "metadata": {},
     "output_type": "execute_result"
    }
   ],
   "source": [
    "geo_df.head()"
   ]
  },
  {
   "cell_type": "markdown",
   "metadata": {},
   "source": [
    "**Every plant id is unique**"
   ]
  },
  {
   "cell_type": "code",
   "execution_count": 24,
   "metadata": {
    "ExecuteTime": {
     "end_time": "2017-10-31T13:50:43.257871Z",
     "start_time": "2017-10-31T13:50:43.253116Z"
    }
   },
   "outputs": [
    {
     "data": {
      "text/plain": [
       "8099"
      ]
     },
     "execution_count": 24,
     "metadata": {},
     "output_type": "execute_result"
    }
   ],
   "source": [
    "len(geo_df)"
   ]
  },
  {
   "cell_type": "code",
   "execution_count": 25,
   "metadata": {
    "ExecuteTime": {
     "end_time": "2017-10-31T13:50:44.183062Z",
     "start_time": "2017-10-31T13:50:44.174410Z"
    }
   },
   "outputs": [
    {
     "data": {
      "text/plain": [
       "8099"
      ]
     },
     "execution_count": 25,
     "metadata": {},
     "output_type": "execute_result"
    }
   ],
   "source": [
    "len(geo_df['plant id'].unique())"
   ]
  },
  {
   "cell_type": "markdown",
   "metadata": {},
   "source": [
    "### Method 1 - use defaults"
   ]
  },
  {
   "cell_type": "code",
   "execution_count": 26,
   "metadata": {
    "ExecuteTime": {
     "end_time": "2017-10-31T13:50:50.604260Z",
     "start_time": "2017-10-31T13:50:50.091253Z"
    },
    "collapsed": true
   },
   "outputs": [],
   "source": [
    "df1 = gpd.sjoin(regions, geo_df)"
   ]
  },
  {
   "cell_type": "code",
   "execution_count": 27,
   "metadata": {
    "ExecuteTime": {
     "end_time": "2017-10-31T13:50:53.758238Z",
     "start_time": "2017-10-31T13:50:53.701578Z"
    }
   },
   "outputs": [
    {
     "data": {
      "text/html": [
       "<div>\n",
       "<style>\n",
       "    .dataframe thead tr:only-child th {\n",
       "        text-align: right;\n",
       "    }\n",
       "\n",
       "    .dataframe thead th {\n",
       "        text-align: left;\n",
       "    }\n",
       "\n",
       "    .dataframe tbody tr th {\n",
       "        vertical-align: top;\n",
       "    }\n",
       "</style>\n",
       "<table border=\"1\" class=\"dataframe\">\n",
       "  <thead>\n",
       "    <tr style=\"text-align: right;\">\n",
       "      <th></th>\n",
       "      <th>NERC</th>\n",
       "      <th>NERC_Label</th>\n",
       "      <th>geometry</th>\n",
       "      <th>index_right</th>\n",
       "      <th>plant id</th>\n",
       "      <th>state</th>\n",
       "      <th>lat</th>\n",
       "      <th>lon</th>\n",
       "      <th>nerc</th>\n",
       "    </tr>\n",
       "  </thead>\n",
       "  <tbody>\n",
       "    <tr>\n",
       "      <th>0</th>\n",
       "      <td>-</td>\n",
       "      <td>Indeterminate - various NERC membership</td>\n",
       "      <td>(POLYGON ((-91.71222639199999 32.9756623780000...</td>\n",
       "      <td>4381</td>\n",
       "      <td>54930</td>\n",
       "      <td>IA</td>\n",
       "      <td>40.584150</td>\n",
       "      <td>-91.424530</td>\n",
       "      <td>-</td>\n",
       "    </tr>\n",
       "    <tr>\n",
       "      <th>0</th>\n",
       "      <td>-</td>\n",
       "      <td>Indeterminate - various NERC membership</td>\n",
       "      <td>(POLYGON ((-91.71222639199999 32.9756623780000...</td>\n",
       "      <td>639</td>\n",
       "      <td>1127</td>\n",
       "      <td>IA</td>\n",
       "      <td>40.703100</td>\n",
       "      <td>-92.425300</td>\n",
       "      <td>-</td>\n",
       "    </tr>\n",
       "    <tr>\n",
       "      <th>0</th>\n",
       "      <td>-</td>\n",
       "      <td>Indeterminate - various NERC membership</td>\n",
       "      <td>(POLYGON ((-91.71222639199999 32.9756623780000...</td>\n",
       "      <td>629</td>\n",
       "      <td>1104</td>\n",
       "      <td>IA</td>\n",
       "      <td>40.741200</td>\n",
       "      <td>-91.116667</td>\n",
       "      <td>-</td>\n",
       "    </tr>\n",
       "    <tr>\n",
       "      <th>0</th>\n",
       "      <td>-</td>\n",
       "      <td>Indeterminate - various NERC membership</td>\n",
       "      <td>(POLYGON ((-91.71222639199999 32.9756623780000...</td>\n",
       "      <td>630</td>\n",
       "      <td>1105</td>\n",
       "      <td>IA</td>\n",
       "      <td>40.747800</td>\n",
       "      <td>-92.873056</td>\n",
       "      <td>-</td>\n",
       "    </tr>\n",
       "    <tr>\n",
       "      <th>0</th>\n",
       "      <td>-</td>\n",
       "      <td>Indeterminate - various NERC membership</td>\n",
       "      <td>(POLYGON ((-91.71222639199999 32.9756623780000...</td>\n",
       "      <td>2562</td>\n",
       "      <td>7706</td>\n",
       "      <td>IA</td>\n",
       "      <td>40.816736</td>\n",
       "      <td>-91.146667</td>\n",
       "      <td>-</td>\n",
       "    </tr>\n",
       "  </tbody>\n",
       "</table>\n",
       "</div>"
      ],
      "text/plain": [
       "  NERC                               NERC_Label  \\\n",
       "0    -  Indeterminate - various NERC membership   \n",
       "0    -  Indeterminate - various NERC membership   \n",
       "0    -  Indeterminate - various NERC membership   \n",
       "0    -  Indeterminate - various NERC membership   \n",
       "0    -  Indeterminate - various NERC membership   \n",
       "\n",
       "                                            geometry  index_right  plant id  \\\n",
       "0  (POLYGON ((-91.71222639199999 32.9756623780000...         4381     54930   \n",
       "0  (POLYGON ((-91.71222639199999 32.9756623780000...          639      1127   \n",
       "0  (POLYGON ((-91.71222639199999 32.9756623780000...          629      1104   \n",
       "0  (POLYGON ((-91.71222639199999 32.9756623780000...          630      1105   \n",
       "0  (POLYGON ((-91.71222639199999 32.9756623780000...         2562      7706   \n",
       "\n",
       "  state        lat        lon nerc  \n",
       "0    IA  40.584150 -91.424530    -  \n",
       "0    IA  40.703100 -92.425300    -  \n",
       "0    IA  40.741200 -91.116667    -  \n",
       "0    IA  40.747800 -92.873056    -  \n",
       "0    IA  40.816736 -91.146667    -  "
      ]
     },
     "execution_count": 27,
     "metadata": {},
     "output_type": "execute_result"
    }
   ],
   "source": [
    "df1.head()"
   ]
  },
  {
   "cell_type": "markdown",
   "metadata": {},
   "source": [
    "We can already see that there are more rows in this dataframe than there were power plants."
   ]
  },
  {
   "cell_type": "code",
   "execution_count": 28,
   "metadata": {
    "ExecuteTime": {
     "end_time": "2017-10-31T13:51:09.971321Z",
     "start_time": "2017-10-31T13:51:09.966549Z"
    }
   },
   "outputs": [
    {
     "data": {
      "text/plain": [
       "8135"
      ]
     },
     "execution_count": 28,
     "metadata": {},
     "output_type": "execute_result"
    }
   ],
   "source": [
    "len(df1)"
   ]
  },
  {
   "cell_type": "markdown",
   "metadata": {},
   "source": [
    "### Method 2 - use 'within'"
   ]
  },
  {
   "cell_type": "code",
   "execution_count": 6,
   "metadata": {
    "ExecuteTime": {
     "end_time": "2017-11-02T18:33:15.404330Z",
     "start_time": "2017-11-02T18:33:14.837525Z"
    },
    "collapsed": true
   },
   "outputs": [],
   "source": [
    "df2 = gpd.sjoin(geo_df, regions, op='within')"
   ]
  },
  {
   "cell_type": "code",
   "execution_count": 31,
   "metadata": {
    "ExecuteTime": {
     "end_time": "2017-10-31T13:51:19.971612Z",
     "start_time": "2017-10-31T13:51:19.947421Z"
    }
   },
   "outputs": [
    {
     "data": {
      "text/html": [
       "<div>\n",
       "<style>\n",
       "    .dataframe thead tr:only-child th {\n",
       "        text-align: right;\n",
       "    }\n",
       "\n",
       "    .dataframe thead th {\n",
       "        text-align: left;\n",
       "    }\n",
       "\n",
       "    .dataframe tbody tr th {\n",
       "        vertical-align: top;\n",
       "    }\n",
       "</style>\n",
       "<table border=\"1\" class=\"dataframe\">\n",
       "  <thead>\n",
       "    <tr style=\"text-align: right;\">\n",
       "      <th></th>\n",
       "      <th>plant id</th>\n",
       "      <th>state</th>\n",
       "      <th>lat</th>\n",
       "      <th>lon</th>\n",
       "      <th>nerc</th>\n",
       "      <th>geometry</th>\n",
       "      <th>index_right</th>\n",
       "      <th>NERC</th>\n",
       "      <th>NERC_Label</th>\n",
       "    </tr>\n",
       "  </thead>\n",
       "  <tbody>\n",
       "    <tr>\n",
       "      <th>0</th>\n",
       "      <td>2</td>\n",
       "      <td>AL</td>\n",
       "      <td>33.458665</td>\n",
       "      <td>-87.356823</td>\n",
       "      <td>SERC</td>\n",
       "      <td>POINT (-87.35682299999999 33.458665)</td>\n",
       "      <td>5</td>\n",
       "      <td>SERC</td>\n",
       "      <td>SERC Reliability Corporation (SERC)</td>\n",
       "    </tr>\n",
       "    <tr>\n",
       "      <th>1</th>\n",
       "      <td>3</td>\n",
       "      <td>AL</td>\n",
       "      <td>31.006900</td>\n",
       "      <td>-88.010300</td>\n",
       "      <td>SERC</td>\n",
       "      <td>POINT (-88.0103 31.0069)</td>\n",
       "      <td>5</td>\n",
       "      <td>SERC</td>\n",
       "      <td>SERC Reliability Corporation (SERC)</td>\n",
       "    </tr>\n",
       "    <tr>\n",
       "      <th>2</th>\n",
       "      <td>4</td>\n",
       "      <td>AL</td>\n",
       "      <td>32.583889</td>\n",
       "      <td>-86.283056</td>\n",
       "      <td>SERC</td>\n",
       "      <td>POINT (-86.283056 32.583889)</td>\n",
       "      <td>5</td>\n",
       "      <td>SERC</td>\n",
       "      <td>SERC Reliability Corporation (SERC)</td>\n",
       "    </tr>\n",
       "    <tr>\n",
       "      <th>3</th>\n",
       "      <td>7</td>\n",
       "      <td>AL</td>\n",
       "      <td>34.012800</td>\n",
       "      <td>-85.970800</td>\n",
       "      <td>SERC</td>\n",
       "      <td>POINT (-85.9708 34.0128)</td>\n",
       "      <td>5</td>\n",
       "      <td>SERC</td>\n",
       "      <td>SERC Reliability Corporation (SERC)</td>\n",
       "    </tr>\n",
       "    <tr>\n",
       "      <th>4</th>\n",
       "      <td>8</td>\n",
       "      <td>AL</td>\n",
       "      <td>33.644344</td>\n",
       "      <td>-87.196486</td>\n",
       "      <td>SERC</td>\n",
       "      <td>POINT (-87.19648599999999 33.644344)</td>\n",
       "      <td>5</td>\n",
       "      <td>SERC</td>\n",
       "      <td>SERC Reliability Corporation (SERC)</td>\n",
       "    </tr>\n",
       "  </tbody>\n",
       "</table>\n",
       "</div>"
      ],
      "text/plain": [
       "   plant id state        lat        lon  nerc  \\\n",
       "0         2    AL  33.458665 -87.356823  SERC   \n",
       "1         3    AL  31.006900 -88.010300  SERC   \n",
       "2         4    AL  32.583889 -86.283056  SERC   \n",
       "3         7    AL  34.012800 -85.970800  SERC   \n",
       "4         8    AL  33.644344 -87.196486  SERC   \n",
       "\n",
       "                               geometry  index_right  NERC  \\\n",
       "0  POINT (-87.35682299999999 33.458665)            5  SERC   \n",
       "1              POINT (-88.0103 31.0069)            5  SERC   \n",
       "2          POINT (-86.283056 32.583889)            5  SERC   \n",
       "3              POINT (-85.9708 34.0128)            5  SERC   \n",
       "4  POINT (-87.19648599999999 33.644344)            5  SERC   \n",
       "\n",
       "                            NERC_Label  \n",
       "0  SERC Reliability Corporation (SERC)  \n",
       "1  SERC Reliability Corporation (SERC)  \n",
       "2  SERC Reliability Corporation (SERC)  \n",
       "3  SERC Reliability Corporation (SERC)  \n",
       "4  SERC Reliability Corporation (SERC)  "
      ]
     },
     "execution_count": 31,
     "metadata": {},
     "output_type": "execute_result"
    }
   ],
   "source": [
    "df2.head()"
   ]
  },
  {
   "cell_type": "markdown",
   "metadata": {},
   "source": [
    "Same size dataframe as from Method 1. Yet again, there appear to be extra results."
   ]
  },
  {
   "cell_type": "code",
   "execution_count": 26,
   "metadata": {
    "ExecuteTime": {
     "end_time": "2017-10-09T15:21:53.966457Z",
     "start_time": "2017-10-09T15:21:53.960588Z"
    }
   },
   "outputs": [
    {
     "data": {
      "text/plain": [
       "8135"
      ]
     },
     "execution_count": 26,
     "metadata": {},
     "output_type": "execute_result"
    }
   ],
   "source": [
    "len(df2)"
   ]
  },
  {
   "cell_type": "markdown",
   "metadata": {},
   "source": [
    "### Method 3 - use 'contains'"
   ]
  },
  {
   "cell_type": "code",
   "execution_count": 39,
   "metadata": {
    "ExecuteTime": {
     "end_time": "2017-10-09T16:20:00.433347Z",
     "start_time": "2017-10-09T16:19:59.207784Z"
    },
    "collapsed": true
   },
   "outputs": [],
   "source": [
    "df3 = gpd.sjoin(regions, geo_df, op='contains')"
   ]
  },
  {
   "cell_type": "code",
   "execution_count": 40,
   "metadata": {
    "ExecuteTime": {
     "end_time": "2017-10-09T16:20:07.101031Z",
     "start_time": "2017-10-09T16:20:07.036510Z"
    }
   },
   "outputs": [
    {
     "data": {
      "text/html": [
       "<div>\n",
       "<style>\n",
       "    .dataframe thead tr:only-child th {\n",
       "        text-align: right;\n",
       "    }\n",
       "\n",
       "    .dataframe thead th {\n",
       "        text-align: left;\n",
       "    }\n",
       "\n",
       "    .dataframe tbody tr th {\n",
       "        vertical-align: top;\n",
       "    }\n",
       "</style>\n",
       "<table border=\"1\" class=\"dataframe\">\n",
       "  <thead>\n",
       "    <tr style=\"text-align: right;\">\n",
       "      <th></th>\n",
       "      <th>NERC</th>\n",
       "      <th>NERC_Label</th>\n",
       "      <th>geometry</th>\n",
       "      <th>index_right</th>\n",
       "      <th>plant id</th>\n",
       "      <th>state</th>\n",
       "      <th>lat</th>\n",
       "      <th>lon</th>\n",
       "    </tr>\n",
       "  </thead>\n",
       "  <tbody>\n",
       "    <tr>\n",
       "      <th>0</th>\n",
       "      <td>-</td>\n",
       "      <td>Indeterminate - various NERC membership</td>\n",
       "      <td>(POLYGON ((-91.71222639199999 32.9756623780000...</td>\n",
       "      <td>4387</td>\n",
       "      <td>55340</td>\n",
       "      <td>AR</td>\n",
       "      <td>35.861900</td>\n",
       "      <td>-90.025300</td>\n",
       "    </tr>\n",
       "    <tr>\n",
       "      <th>0</th>\n",
       "      <td>-</td>\n",
       "      <td>Indeterminate - various NERC membership</td>\n",
       "      <td>(POLYGON ((-91.71222639199999 32.9756623780000...</td>\n",
       "      <td>6136</td>\n",
       "      <td>172</td>\n",
       "      <td>AR</td>\n",
       "      <td>35.689300</td>\n",
       "      <td>-89.994000</td>\n",
       "    </tr>\n",
       "    <tr>\n",
       "      <th>0</th>\n",
       "      <td>-</td>\n",
       "      <td>Indeterminate - various NERC membership</td>\n",
       "      <td>(POLYGON ((-91.71222639199999 32.9756623780000...</td>\n",
       "      <td>152</td>\n",
       "      <td>8055</td>\n",
       "      <td>AR</td>\n",
       "      <td>35.311000</td>\n",
       "      <td>-93.235100</td>\n",
       "    </tr>\n",
       "    <tr>\n",
       "      <th>0</th>\n",
       "      <td>-</td>\n",
       "      <td>Indeterminate - various NERC membership</td>\n",
       "      <td>(POLYGON ((-91.71222639199999 32.9756623780000...</td>\n",
       "      <td>6217</td>\n",
       "      <td>187</td>\n",
       "      <td>AR</td>\n",
       "      <td>34.211913</td>\n",
       "      <td>-93.110963</td>\n",
       "    </tr>\n",
       "    <tr>\n",
       "      <th>0</th>\n",
       "      <td>-</td>\n",
       "      <td>Indeterminate - various NERC membership</td>\n",
       "      <td>(POLYGON ((-91.71222639199999 32.9756623780000...</td>\n",
       "      <td>2928</td>\n",
       "      <td>59947</td>\n",
       "      <td>AR</td>\n",
       "      <td>33.631538</td>\n",
       "      <td>-92.703611</td>\n",
       "    </tr>\n",
       "  </tbody>\n",
       "</table>\n",
       "</div>"
      ],
      "text/plain": [
       "  NERC                               NERC_Label  \\\n",
       "0    -  Indeterminate - various NERC membership   \n",
       "0    -  Indeterminate - various NERC membership   \n",
       "0    -  Indeterminate - various NERC membership   \n",
       "0    -  Indeterminate - various NERC membership   \n",
       "0    -  Indeterminate - various NERC membership   \n",
       "\n",
       "                                            geometry  index_right  plant id  \\\n",
       "0  (POLYGON ((-91.71222639199999 32.9756623780000...         4387     55340   \n",
       "0  (POLYGON ((-91.71222639199999 32.9756623780000...         6136       172   \n",
       "0  (POLYGON ((-91.71222639199999 32.9756623780000...          152      8055   \n",
       "0  (POLYGON ((-91.71222639199999 32.9756623780000...         6217       187   \n",
       "0  (POLYGON ((-91.71222639199999 32.9756623780000...         2928     59947   \n",
       "\n",
       "  state        lat        lon  \n",
       "0    AR  35.861900 -90.025300  \n",
       "0    AR  35.689300 -89.994000  \n",
       "0    AR  35.311000 -93.235100  \n",
       "0    AR  34.211913 -93.110963  \n",
       "0    AR  33.631538 -92.703611  "
      ]
     },
     "execution_count": 40,
     "metadata": {},
     "output_type": "execute_result"
    }
   ],
   "source": [
    "df3.head()"
   ]
  },
  {
   "cell_type": "markdown",
   "metadata": {},
   "source": [
    "Still too many results"
   ]
  },
  {
   "cell_type": "code",
   "execution_count": 41,
   "metadata": {
    "ExecuteTime": {
     "end_time": "2017-10-09T16:20:13.982363Z",
     "start_time": "2017-10-09T16:20:13.976363Z"
    }
   },
   "outputs": [
    {
     "data": {
      "text/plain": [
       "8135"
      ]
     },
     "execution_count": 41,
     "metadata": {},
     "output_type": "execute_result"
    }
   ],
   "source": [
    "len(df3)"
   ]
  },
  {
   "cell_type": "markdown",
   "metadata": {},
   "source": [
    "### What facilities are missing?"
   ]
  },
  {
   "cell_type": "code",
   "execution_count": 32,
   "metadata": {
    "ExecuteTime": {
     "end_time": "2017-10-31T13:51:32.811339Z",
     "start_time": "2017-10-31T13:51:32.383580Z"
    }
   },
   "outputs": [
    {
     "data": {
      "text/html": [
       "<div>\n",
       "<style>\n",
       "    .dataframe thead tr:only-child th {\n",
       "        text-align: right;\n",
       "    }\n",
       "\n",
       "    .dataframe thead th {\n",
       "        text-align: left;\n",
       "    }\n",
       "\n",
       "    .dataframe tbody tr th {\n",
       "        vertical-align: top;\n",
       "    }\n",
       "</style>\n",
       "<table border=\"1\" class=\"dataframe\">\n",
       "  <thead>\n",
       "    <tr style=\"text-align: right;\">\n",
       "      <th></th>\n",
       "      <th>NERC</th>\n",
       "      <th>NERC_Label</th>\n",
       "      <th>geometry</th>\n",
       "    </tr>\n",
       "    <tr>\n",
       "      <th>index_right</th>\n",
       "      <th></th>\n",
       "      <th></th>\n",
       "      <th></th>\n",
       "    </tr>\n",
       "  </thead>\n",
       "  <tbody>\n",
       "    <tr>\n",
       "      <th>0</th>\n",
       "      <td>-</td>\n",
       "      <td>Indeterminate - various NERC membership</td>\n",
       "      <td>(POLYGON ((-91.71222639199999 32.9756623780000...</td>\n",
       "    </tr>\n",
       "    <tr>\n",
       "      <th>1</th>\n",
       "      <td>FRCC</td>\n",
       "      <td>Florida Reliability Coordinating Council (FRCC)</td>\n",
       "      <td>(POLYGON ((-81.95506602699999 24.5196900770000...</td>\n",
       "    </tr>\n",
       "    <tr>\n",
       "      <th>2</th>\n",
       "      <td>MRO</td>\n",
       "      <td>Midwest Reliability Organization (MRO)</td>\n",
       "      <td>POLYGON ((-95.07148604699995 49.36451082200006...</td>\n",
       "    </tr>\n",
       "    <tr>\n",
       "      <th>3</th>\n",
       "      <td>NPCC</td>\n",
       "      <td>Northeast Power Coordinating Council (NPCC)</td>\n",
       "      <td>(POLYGON ((-73.82134384999995 40.6045004290000...</td>\n",
       "    </tr>\n",
       "    <tr>\n",
       "      <th>4</th>\n",
       "      <td>RFC</td>\n",
       "      <td>ReliabilityFirst Corporation (RFC)</td>\n",
       "      <td>(POLYGON ((-90.89359863199996 29.0467829150000...</td>\n",
       "    </tr>\n",
       "    <tr>\n",
       "      <th>5</th>\n",
       "      <td>SERC</td>\n",
       "      <td>SERC Reliability Corporation (SERC)</td>\n",
       "      <td>(POLYGON ((-91.71222639199999 32.9756623780000...</td>\n",
       "    </tr>\n",
       "    <tr>\n",
       "      <th>6</th>\n",
       "      <td>SPP</td>\n",
       "      <td>Southwest Power Pool (SPP)</td>\n",
       "      <td>(POLYGON ((-93.73310749999996 30.4137588960000...</td>\n",
       "    </tr>\n",
       "    <tr>\n",
       "      <th>7</th>\n",
       "      <td>TRE</td>\n",
       "      <td>Texas Reliability Entity (TRE)</td>\n",
       "      <td>POLYGON ((-100.0008629659999 35.02950123100004...</td>\n",
       "    </tr>\n",
       "    <tr>\n",
       "      <th>8</th>\n",
       "      <td>WECC</td>\n",
       "      <td>Western Electricity Coordinating Council (WECC)</td>\n",
       "      <td>(POLYGON ((-117.215183729 32.77737140300007, -...</td>\n",
       "    </tr>\n",
       "  </tbody>\n",
       "</table>\n",
       "</div>"
      ],
      "text/plain": [
       "             NERC                                       NERC_Label  \\\n",
       "index_right                                                          \n",
       "0               -          Indeterminate - various NERC membership   \n",
       "1            FRCC  Florida Reliability Coordinating Council (FRCC)   \n",
       "2             MRO           Midwest Reliability Organization (MRO)   \n",
       "3            NPCC      Northeast Power Coordinating Council (NPCC)   \n",
       "4             RFC               ReliabilityFirst Corporation (RFC)   \n",
       "5            SERC              SERC Reliability Corporation (SERC)   \n",
       "6             SPP                       Southwest Power Pool (SPP)   \n",
       "7             TRE                   Texas Reliability Entity (TRE)   \n",
       "8            WECC  Western Electricity Coordinating Council (WECC)   \n",
       "\n",
       "                                                      geometry  \n",
       "index_right                                                     \n",
       "0            (POLYGON ((-91.71222639199999 32.9756623780000...  \n",
       "1            (POLYGON ((-81.95506602699999 24.5196900770000...  \n",
       "2            POLYGON ((-95.07148604699995 49.36451082200006...  \n",
       "3            (POLYGON ((-73.82134384999995 40.6045004290000...  \n",
       "4            (POLYGON ((-90.89359863199996 29.0467829150000...  \n",
       "5            (POLYGON ((-91.71222639199999 32.9756623780000...  \n",
       "6            (POLYGON ((-93.73310749999996 30.4137588960000...  \n",
       "7            POLYGON ((-100.0008629659999 35.02950123100004...  \n",
       "8            (POLYGON ((-117.215183729 32.77737140300007, -...  "
      ]
     },
     "execution_count": 32,
     "metadata": {},
     "output_type": "execute_result"
    }
   ],
   "source": [
    "regions"
   ]
  },
  {
   "cell_type": "code",
   "execution_count": 23,
   "metadata": {
    "ExecuteTime": {
     "end_time": "2017-10-31T18:55:43.052867Z",
     "start_time": "2017-10-31T18:55:43.047124Z"
    },
    "collapsed": true
   },
   "outputs": [],
   "source": [
    "frcc = regions.loc[1, 'geometry']\n",
    "serc = regions.loc[5, 'geometry']"
   ]
  },
  {
   "cell_type": "markdown",
   "metadata": {},
   "source": [
    "I figured out that plant id 641 is one that shows up in both FRCC and SERC"
   ]
  },
  {
   "cell_type": "code",
   "execution_count": 27,
   "metadata": {
    "ExecuteTime": {
     "end_time": "2017-10-31T18:57:09.262882Z",
     "start_time": "2017-10-31T18:57:09.258488Z"
    },
    "collapsed": true
   },
   "outputs": [],
   "source": [
    "plant_641 = geo_df.loc[geo_df['plant id'] == 641, 'geometry'].values[0]"
   ]
  },
  {
   "cell_type": "code",
   "execution_count": 28,
   "metadata": {
    "ExecuteTime": {
     "end_time": "2017-10-31T18:57:10.483414Z",
     "start_time": "2017-10-31T18:57:10.418570Z"
    }
   },
   "outputs": [
    {
     "data": {
      "text/plain": [
       "True"
      ]
     },
     "execution_count": 28,
     "metadata": {},
     "output_type": "execute_result"
    }
   ],
   "source": [
    "frcc.contains(plant_641)"
   ]
  },
  {
   "cell_type": "code",
   "execution_count": 29,
   "metadata": {
    "ExecuteTime": {
     "end_time": "2017-10-31T18:57:11.155804Z",
     "start_time": "2017-10-31T18:57:11.101613Z"
    }
   },
   "outputs": [
    {
     "data": {
      "text/plain": [
       "True"
      ]
     },
     "execution_count": 29,
     "metadata": {},
     "output_type": "execute_result"
    }
   ],
   "source": [
    "serc.contains(plant_641)"
   ]
  },
  {
   "cell_type": "markdown",
   "metadata": {},
   "source": [
    "So 641 definitely is in both NERC regions. And apparently the regions overlap? But they aren't supposed to. And I didn't have any plants show up in multiple regions when doing the spatial join in QGIS."
   ]
  },
  {
   "cell_type": "code",
   "execution_count": 37,
   "metadata": {
    "ExecuteTime": {
     "end_time": "2017-10-31T13:52:00.314608Z",
     "start_time": "2017-10-31T13:51:59.174113Z"
    }
   },
   "outputs": [
    {
     "data": {
      "text/plain": [
       "True"
      ]
     },
     "execution_count": 37,
     "metadata": {},
     "output_type": "execute_result"
    }
   ],
   "source": [
    "frcc.intersects(serc)"
   ]
  },
  {
   "cell_type": "markdown",
   "metadata": {},
   "source": [
    "There are 36 plants with duplicate NERC regions."
   ]
  },
  {
   "cell_type": "code",
   "execution_count": 38,
   "metadata": {
    "ExecuteTime": {
     "end_time": "2017-10-31T13:52:11.159223Z",
     "start_time": "2017-10-31T13:52:11.151692Z"
    }
   },
   "outputs": [
    {
     "data": {
      "text/plain": [
       "36"
      ]
     },
     "execution_count": 38,
     "metadata": {},
     "output_type": "execute_result"
    }
   ],
   "source": [
    "len(df2.loc[df2['plant id'].duplicated()].sort_values('plant id'))"
   ]
  },
  {
   "cell_type": "code",
   "execution_count": 10,
   "metadata": {
    "ExecuteTime": {
     "end_time": "2017-11-02T18:53:12.392999Z",
     "start_time": "2017-11-02T18:53:12.389322Z"
    },
    "collapsed": true
   },
   "outputs": [],
   "source": [
    "pd.set_option('display.max_rows', 200)"
   ]
  },
  {
   "cell_type": "code",
   "execution_count": 11,
   "metadata": {
    "ExecuteTime": {
     "end_time": "2017-11-02T18:53:13.994147Z",
     "start_time": "2017-11-02T18:53:13.934496Z"
    },
    "scrolled": true
   },
   "outputs": [
    {
     "data": {
      "text/html": [
       "<div>\n",
       "<style>\n",
       "    .dataframe thead tr:only-child th {\n",
       "        text-align: right;\n",
       "    }\n",
       "\n",
       "    .dataframe thead th {\n",
       "        text-align: left;\n",
       "    }\n",
       "\n",
       "    .dataframe tbody tr th {\n",
       "        vertical-align: top;\n",
       "    }\n",
       "</style>\n",
       "<table border=\"1\" class=\"dataframe\">\n",
       "  <thead>\n",
       "    <tr style=\"text-align: right;\">\n",
       "      <th></th>\n",
       "      <th>plant id</th>\n",
       "      <th>state</th>\n",
       "      <th>lat</th>\n",
       "      <th>lon</th>\n",
       "      <th>nerc</th>\n",
       "      <th>geometry</th>\n",
       "      <th>index_right</th>\n",
       "      <th>NERC</th>\n",
       "      <th>NERC_Label</th>\n",
       "    </tr>\n",
       "  </thead>\n",
       "  <tbody>\n",
       "    <tr>\n",
       "      <th>406</th>\n",
       "      <td>641</td>\n",
       "      <td>FL</td>\n",
       "      <td>30.566100</td>\n",
       "      <td>-87.224400</td>\n",
       "      <td>FRCC</td>\n",
       "      <td>POINT (-87.2244 30.5661)</td>\n",
       "      <td>5</td>\n",
       "      <td>SERC</td>\n",
       "      <td>SERC Reliability Corporation (SERC)</td>\n",
       "    </tr>\n",
       "    <tr>\n",
       "      <th>406</th>\n",
       "      <td>641</td>\n",
       "      <td>FL</td>\n",
       "      <td>30.566100</td>\n",
       "      <td>-87.224400</td>\n",
       "      <td>FRCC</td>\n",
       "      <td>POINT (-87.2244 30.5661)</td>\n",
       "      <td>1</td>\n",
       "      <td>FRCC</td>\n",
       "      <td>Florida Reliability Coordinating Council (FRCC)</td>\n",
       "    </tr>\n",
       "    <tr>\n",
       "      <th>407</th>\n",
       "      <td>642</td>\n",
       "      <td>FL</td>\n",
       "      <td>30.669200</td>\n",
       "      <td>-84.886900</td>\n",
       "      <td>FRCC</td>\n",
       "      <td>POINT (-84.8869 30.6692)</td>\n",
       "      <td>5</td>\n",
       "      <td>SERC</td>\n",
       "      <td>SERC Reliability Corporation (SERC)</td>\n",
       "    </tr>\n",
       "    <tr>\n",
       "      <th>407</th>\n",
       "      <td>642</td>\n",
       "      <td>FL</td>\n",
       "      <td>30.669200</td>\n",
       "      <td>-84.886900</td>\n",
       "      <td>FRCC</td>\n",
       "      <td>POINT (-84.8869 30.6692)</td>\n",
       "      <td>1</td>\n",
       "      <td>FRCC</td>\n",
       "      <td>Florida Reliability Coordinating Council (FRCC)</td>\n",
       "    </tr>\n",
       "    <tr>\n",
       "      <th>408</th>\n",
       "      <td>643</td>\n",
       "      <td>FL</td>\n",
       "      <td>30.268600</td>\n",
       "      <td>-85.700300</td>\n",
       "      <td>FRCC</td>\n",
       "      <td>POINT (-85.7003 30.2686)</td>\n",
       "      <td>5</td>\n",
       "      <td>SERC</td>\n",
       "      <td>SERC Reliability Corporation (SERC)</td>\n",
       "    </tr>\n",
       "    <tr>\n",
       "      <th>408</th>\n",
       "      <td>643</td>\n",
       "      <td>FL</td>\n",
       "      <td>30.268600</td>\n",
       "      <td>-85.700300</td>\n",
       "      <td>FRCC</td>\n",
       "      <td>POINT (-85.7003 30.2686)</td>\n",
       "      <td>1</td>\n",
       "      <td>FRCC</td>\n",
       "      <td>Florida Reliability Coordinating Council (FRCC)</td>\n",
       "    </tr>\n",
       "    <tr>\n",
       "      <th>432</th>\n",
       "      <td>690</td>\n",
       "      <td>FL</td>\n",
       "      <td>30.708571</td>\n",
       "      <td>-84.863869</td>\n",
       "      <td>FRCC</td>\n",
       "      <td>POINT (-84.86386899999999 30.708571)</td>\n",
       "      <td>5</td>\n",
       "      <td>SERC</td>\n",
       "      <td>SERC Reliability Corporation (SERC)</td>\n",
       "    </tr>\n",
       "    <tr>\n",
       "      <th>432</th>\n",
       "      <td>690</td>\n",
       "      <td>FL</td>\n",
       "      <td>30.708571</td>\n",
       "      <td>-84.863869</td>\n",
       "      <td>FRCC</td>\n",
       "      <td>POINT (-84.86386899999999 30.708571)</td>\n",
       "      <td>1</td>\n",
       "      <td>FRCC</td>\n",
       "      <td>Florida Reliability Coordinating Council (FRCC)</td>\n",
       "    </tr>\n",
       "    <tr>\n",
       "      <th>963</th>\n",
       "      <td>1773</td>\n",
       "      <td>MI</td>\n",
       "      <td>46.726100</td>\n",
       "      <td>-88.662500</td>\n",
       "      <td>MRO</td>\n",
       "      <td>POINT (-88.66249999999999 46.7261)</td>\n",
       "      <td>4</td>\n",
       "      <td>RFC</td>\n",
       "      <td>ReliabilityFirst Corporation (RFC)</td>\n",
       "    </tr>\n",
       "    <tr>\n",
       "      <th>963</th>\n",
       "      <td>1773</td>\n",
       "      <td>MI</td>\n",
       "      <td>46.726100</td>\n",
       "      <td>-88.662500</td>\n",
       "      <td>MRO</td>\n",
       "      <td>POINT (-88.66249999999999 46.7261)</td>\n",
       "      <td>2</td>\n",
       "      <td>MRO</td>\n",
       "      <td>Midwest Reliability Organization (MRO)</td>\n",
       "    </tr>\n",
       "    <tr>\n",
       "      <th>964</th>\n",
       "      <td>1774</td>\n",
       "      <td>MI</td>\n",
       "      <td>46.696400</td>\n",
       "      <td>-89.208900</td>\n",
       "      <td>MRO</td>\n",
       "      <td>POINT (-89.2089 46.6964)</td>\n",
       "      <td>2</td>\n",
       "      <td>MRO</td>\n",
       "      <td>Midwest Reliability Organization (MRO)</td>\n",
       "    </tr>\n",
       "    <tr>\n",
       "      <th>964</th>\n",
       "      <td>1774</td>\n",
       "      <td>MI</td>\n",
       "      <td>46.696400</td>\n",
       "      <td>-89.208900</td>\n",
       "      <td>MRO</td>\n",
       "      <td>POINT (-89.2089 46.6964)</td>\n",
       "      <td>4</td>\n",
       "      <td>RFC</td>\n",
       "      <td>ReliabilityFirst Corporation (RFC)</td>\n",
       "    </tr>\n",
       "    <tr>\n",
       "      <th>965</th>\n",
       "      <td>1775</td>\n",
       "      <td>WI</td>\n",
       "      <td>45.947200</td>\n",
       "      <td>-88.218900</td>\n",
       "      <td>MRO</td>\n",
       "      <td>POINT (-88.2189 45.9472)</td>\n",
       "      <td>4</td>\n",
       "      <td>RFC</td>\n",
       "      <td>ReliabilityFirst Corporation (RFC)</td>\n",
       "    </tr>\n",
       "    <tr>\n",
       "      <th>965</th>\n",
       "      <td>1775</td>\n",
       "      <td>WI</td>\n",
       "      <td>45.947200</td>\n",
       "      <td>-88.218900</td>\n",
       "      <td>MRO</td>\n",
       "      <td>POINT (-88.2189 45.9472)</td>\n",
       "      <td>2</td>\n",
       "      <td>MRO</td>\n",
       "      <td>Midwest Reliability Organization (MRO)</td>\n",
       "    </tr>\n",
       "    <tr>\n",
       "      <th>967</th>\n",
       "      <td>1777</td>\n",
       "      <td>MI</td>\n",
       "      <td>46.131100</td>\n",
       "      <td>-88.225000</td>\n",
       "      <td>MRO</td>\n",
       "      <td>POINT (-88.22499999999999 46.1311)</td>\n",
       "      <td>4</td>\n",
       "      <td>RFC</td>\n",
       "      <td>ReliabilityFirst Corporation (RFC)</td>\n",
       "    </tr>\n",
       "    <tr>\n",
       "      <th>967</th>\n",
       "      <td>1777</td>\n",
       "      <td>MI</td>\n",
       "      <td>46.131100</td>\n",
       "      <td>-88.225000</td>\n",
       "      <td>MRO</td>\n",
       "      <td>POINT (-88.22499999999999 46.1311)</td>\n",
       "      <td>2</td>\n",
       "      <td>MRO</td>\n",
       "      <td>Midwest Reliability Organization (MRO)</td>\n",
       "    </tr>\n",
       "    <tr>\n",
       "      <th>969</th>\n",
       "      <td>1780</td>\n",
       "      <td>MI</td>\n",
       "      <td>45.955300</td>\n",
       "      <td>-88.195800</td>\n",
       "      <td>MRO</td>\n",
       "      <td>POINT (-88.19580000000001 45.9553)</td>\n",
       "      <td>4</td>\n",
       "      <td>RFC</td>\n",
       "      <td>ReliabilityFirst Corporation (RFC)</td>\n",
       "    </tr>\n",
       "    <tr>\n",
       "      <th>969</th>\n",
       "      <td>1780</td>\n",
       "      <td>MI</td>\n",
       "      <td>45.955300</td>\n",
       "      <td>-88.195800</td>\n",
       "      <td>MRO</td>\n",
       "      <td>POINT (-88.19580000000001 45.9553)</td>\n",
       "      <td>2</td>\n",
       "      <td>MRO</td>\n",
       "      <td>Midwest Reliability Organization (MRO)</td>\n",
       "    </tr>\n",
       "    <tr>\n",
       "      <th>970</th>\n",
       "      <td>1781</td>\n",
       "      <td>MI</td>\n",
       "      <td>45.990781</td>\n",
       "      <td>-88.210514</td>\n",
       "      <td>MRO</td>\n",
       "      <td>POINT (-88.210514 45.990781)</td>\n",
       "      <td>4</td>\n",
       "      <td>RFC</td>\n",
       "      <td>ReliabilityFirst Corporation (RFC)</td>\n",
       "    </tr>\n",
       "    <tr>\n",
       "      <th>970</th>\n",
       "      <td>1781</td>\n",
       "      <td>MI</td>\n",
       "      <td>45.990781</td>\n",
       "      <td>-88.210514</td>\n",
       "      <td>MRO</td>\n",
       "      <td>POINT (-88.210514 45.990781)</td>\n",
       "      <td>2</td>\n",
       "      <td>MRO</td>\n",
       "      <td>Midwest Reliability Organization (MRO)</td>\n",
       "    </tr>\n",
       "    <tr>\n",
       "      <th>971</th>\n",
       "      <td>1784</td>\n",
       "      <td>MI</td>\n",
       "      <td>45.871900</td>\n",
       "      <td>-88.069400</td>\n",
       "      <td>MRO</td>\n",
       "      <td>POINT (-88.0694 45.8719)</td>\n",
       "      <td>4</td>\n",
       "      <td>RFC</td>\n",
       "      <td>ReliabilityFirst Corporation (RFC)</td>\n",
       "    </tr>\n",
       "    <tr>\n",
       "      <th>971</th>\n",
       "      <td>1784</td>\n",
       "      <td>MI</td>\n",
       "      <td>45.871900</td>\n",
       "      <td>-88.069400</td>\n",
       "      <td>MRO</td>\n",
       "      <td>POINT (-88.0694 45.8719)</td>\n",
       "      <td>2</td>\n",
       "      <td>MRO</td>\n",
       "      <td>Midwest Reliability Organization (MRO)</td>\n",
       "    </tr>\n",
       "    <tr>\n",
       "      <th>972</th>\n",
       "      <td>1785</td>\n",
       "      <td>MI</td>\n",
       "      <td>46.159200</td>\n",
       "      <td>-88.235300</td>\n",
       "      <td>MRO</td>\n",
       "      <td>POINT (-88.2353 46.1592)</td>\n",
       "      <td>2</td>\n",
       "      <td>MRO</td>\n",
       "      <td>Midwest Reliability Organization (MRO)</td>\n",
       "    </tr>\n",
       "    <tr>\n",
       "      <th>972</th>\n",
       "      <td>1785</td>\n",
       "      <td>MI</td>\n",
       "      <td>46.159200</td>\n",
       "      <td>-88.235300</td>\n",
       "      <td>MRO</td>\n",
       "      <td>POINT (-88.2353 46.1592)</td>\n",
       "      <td>4</td>\n",
       "      <td>RFC</td>\n",
       "      <td>ReliabilityFirst Corporation (RFC)</td>\n",
       "    </tr>\n",
       "    <tr>\n",
       "      <th>977</th>\n",
       "      <td>1821</td>\n",
       "      <td>MI</td>\n",
       "      <td>46.106278</td>\n",
       "      <td>-88.334531</td>\n",
       "      <td>MRO</td>\n",
       "      <td>POINT (-88.33453100000001 46.106278)</td>\n",
       "      <td>4</td>\n",
       "      <td>RFC</td>\n",
       "      <td>ReliabilityFirst Corporation (RFC)</td>\n",
       "    </tr>\n",
       "    <tr>\n",
       "      <th>977</th>\n",
       "      <td>1821</td>\n",
       "      <td>MI</td>\n",
       "      <td>46.106278</td>\n",
       "      <td>-88.334531</td>\n",
       "      <td>MRO</td>\n",
       "      <td>POINT (-88.33453100000001 46.106278)</td>\n",
       "      <td>2</td>\n",
       "      <td>MRO</td>\n",
       "      <td>Midwest Reliability Organization (MRO)</td>\n",
       "    </tr>\n",
       "    <tr>\n",
       "      <th>992</th>\n",
       "      <td>1848</td>\n",
       "      <td>MI</td>\n",
       "      <td>45.788900</td>\n",
       "      <td>-87.905800</td>\n",
       "      <td>MRO</td>\n",
       "      <td>POINT (-87.9058 45.7889)</td>\n",
       "      <td>2</td>\n",
       "      <td>MRO</td>\n",
       "      <td>Midwest Reliability Organization (MRO)</td>\n",
       "    </tr>\n",
       "    <tr>\n",
       "      <th>992</th>\n",
       "      <td>1848</td>\n",
       "      <td>MI</td>\n",
       "      <td>45.788900</td>\n",
       "      <td>-87.905800</td>\n",
       "      <td>MRO</td>\n",
       "      <td>POINT (-87.9058 45.7889)</td>\n",
       "      <td>4</td>\n",
       "      <td>RFC</td>\n",
       "      <td>ReliabilityFirst Corporation (RFC)</td>\n",
       "    </tr>\n",
       "    <tr>\n",
       "      <th>1978</th>\n",
       "      <td>4043</td>\n",
       "      <td>WI</td>\n",
       "      <td>44.253930</td>\n",
       "      <td>-88.409560</td>\n",
       "      <td>MRO</td>\n",
       "      <td>POINT (-88.40956 44.25393)</td>\n",
       "      <td>2</td>\n",
       "      <td>MRO</td>\n",
       "      <td>Midwest Reliability Organization (MRO)</td>\n",
       "    </tr>\n",
       "    <tr>\n",
       "      <th>1978</th>\n",
       "      <td>4043</td>\n",
       "      <td>WI</td>\n",
       "      <td>44.253930</td>\n",
       "      <td>-88.409560</td>\n",
       "      <td>MRO</td>\n",
       "      <td>POINT (-88.40956 44.25393)</td>\n",
       "      <td>4</td>\n",
       "      <td>RFC</td>\n",
       "      <td>ReliabilityFirst Corporation (RFC)</td>\n",
       "    </tr>\n",
       "    <tr>\n",
       "      <th>2017</th>\n",
       "      <td>4122</td>\n",
       "      <td>WI</td>\n",
       "      <td>44.316400</td>\n",
       "      <td>-88.314700</td>\n",
       "      <td>MRO</td>\n",
       "      <td>POINT (-88.3147 44.3164)</td>\n",
       "      <td>2</td>\n",
       "      <td>MRO</td>\n",
       "      <td>Midwest Reliability Organization (MRO)</td>\n",
       "    </tr>\n",
       "    <tr>\n",
       "      <th>2017</th>\n",
       "      <td>4122</td>\n",
       "      <td>WI</td>\n",
       "      <td>44.316400</td>\n",
       "      <td>-88.314700</td>\n",
       "      <td>MRO</td>\n",
       "      <td>POINT (-88.3147 44.3164)</td>\n",
       "      <td>4</td>\n",
       "      <td>RFC</td>\n",
       "      <td>ReliabilityFirst Corporation (RFC)</td>\n",
       "    </tr>\n",
       "    <tr>\n",
       "      <th>2020</th>\n",
       "      <td>4127</td>\n",
       "      <td>WI</td>\n",
       "      <td>44.200020</td>\n",
       "      <td>-88.458171</td>\n",
       "      <td>MRO</td>\n",
       "      <td>POINT (-88.45817099999999 44.20002)</td>\n",
       "      <td>4</td>\n",
       "      <td>RFC</td>\n",
       "      <td>ReliabilityFirst Corporation (RFC)</td>\n",
       "    </tr>\n",
       "    <tr>\n",
       "      <th>2020</th>\n",
       "      <td>4127</td>\n",
       "      <td>WI</td>\n",
       "      <td>44.200020</td>\n",
       "      <td>-88.458171</td>\n",
       "      <td>MRO</td>\n",
       "      <td>POINT (-88.45817099999999 44.20002)</td>\n",
       "      <td>2</td>\n",
       "      <td>MRO</td>\n",
       "      <td>Midwest Reliability Organization (MRO)</td>\n",
       "    </tr>\n",
       "    <tr>\n",
       "      <th>2191</th>\n",
       "      <td>6192</td>\n",
       "      <td>FL</td>\n",
       "      <td>30.573611</td>\n",
       "      <td>-86.215833</td>\n",
       "      <td>FRCC</td>\n",
       "      <td>POINT (-86.21583299999999 30.573611)</td>\n",
       "      <td>1</td>\n",
       "      <td>FRCC</td>\n",
       "      <td>Florida Reliability Coordinating Council (FRCC)</td>\n",
       "    </tr>\n",
       "    <tr>\n",
       "      <th>2191</th>\n",
       "      <td>6192</td>\n",
       "      <td>FL</td>\n",
       "      <td>30.573611</td>\n",
       "      <td>-86.215833</td>\n",
       "      <td>FRCC</td>\n",
       "      <td>POINT (-86.21583299999999 30.573611)</td>\n",
       "      <td>5</td>\n",
       "      <td>SERC</td>\n",
       "      <td>SERC Reliability Corporation (SERC)</td>\n",
       "    </tr>\n",
       "    <tr>\n",
       "      <th>2565</th>\n",
       "      <td>7715</td>\n",
       "      <td>FL</td>\n",
       "      <td>30.592080</td>\n",
       "      <td>-87.135391</td>\n",
       "      <td>FRCC</td>\n",
       "      <td>POINT (-87.135391 30.59208)</td>\n",
       "      <td>1</td>\n",
       "      <td>FRCC</td>\n",
       "      <td>Florida Reliability Coordinating Council (FRCC)</td>\n",
       "    </tr>\n",
       "    <tr>\n",
       "      <th>2565</th>\n",
       "      <td>7715</td>\n",
       "      <td>FL</td>\n",
       "      <td>30.592080</td>\n",
       "      <td>-87.135391</td>\n",
       "      <td>FRCC</td>\n",
       "      <td>POINT (-87.135391 30.59208)</td>\n",
       "      <td>5</td>\n",
       "      <td>SERC</td>\n",
       "      <td>SERC Reliability Corporation (SERC)</td>\n",
       "    </tr>\n",
       "    <tr>\n",
       "      <th>2614</th>\n",
       "      <td>7822</td>\n",
       "      <td>WI</td>\n",
       "      <td>44.274582</td>\n",
       "      <td>-88.319074</td>\n",
       "      <td>MRO</td>\n",
       "      <td>POINT (-88.319074 44.274582)</td>\n",
       "      <td>2</td>\n",
       "      <td>MRO</td>\n",
       "      <td>Midwest Reliability Organization (MRO)</td>\n",
       "    </tr>\n",
       "    <tr>\n",
       "      <th>2614</th>\n",
       "      <td>7822</td>\n",
       "      <td>WI</td>\n",
       "      <td>44.274582</td>\n",
       "      <td>-88.319074</td>\n",
       "      <td>MRO</td>\n",
       "      <td>POINT (-88.319074 44.274582)</td>\n",
       "      <td>4</td>\n",
       "      <td>RFC</td>\n",
       "      <td>ReliabilityFirst Corporation (RFC)</td>\n",
       "    </tr>\n",
       "    <tr>\n",
       "      <th>2947</th>\n",
       "      <td>10250</td>\n",
       "      <td>FL</td>\n",
       "      <td>30.266057</td>\n",
       "      <td>-85.520670</td>\n",
       "      <td>FRCC</td>\n",
       "      <td>POINT (-85.52067 30.266057)</td>\n",
       "      <td>1</td>\n",
       "      <td>FRCC</td>\n",
       "      <td>Florida Reliability Coordinating Council (FRCC)</td>\n",
       "    </tr>\n",
       "    <tr>\n",
       "      <th>2947</th>\n",
       "      <td>10250</td>\n",
       "      <td>FL</td>\n",
       "      <td>30.266057</td>\n",
       "      <td>-85.520670</td>\n",
       "      <td>FRCC</td>\n",
       "      <td>POINT (-85.52067 30.266057)</td>\n",
       "      <td>5</td>\n",
       "      <td>SERC</td>\n",
       "      <td>SERC Reliability Corporation (SERC)</td>\n",
       "    </tr>\n",
       "    <tr>\n",
       "      <th>3027</th>\n",
       "      <td>10416</td>\n",
       "      <td>FL</td>\n",
       "      <td>30.595800</td>\n",
       "      <td>-87.252500</td>\n",
       "      <td>FRCC</td>\n",
       "      <td>POINT (-87.2525 30.5958)</td>\n",
       "      <td>5</td>\n",
       "      <td>SERC</td>\n",
       "      <td>SERC Reliability Corporation (SERC)</td>\n",
       "    </tr>\n",
       "    <tr>\n",
       "      <th>3027</th>\n",
       "      <td>10416</td>\n",
       "      <td>FL</td>\n",
       "      <td>30.595800</td>\n",
       "      <td>-87.252500</td>\n",
       "      <td>FRCC</td>\n",
       "      <td>POINT (-87.2525 30.5958)</td>\n",
       "      <td>1</td>\n",
       "      <td>FRCC</td>\n",
       "      <td>Florida Reliability Coordinating Council (FRCC)</td>\n",
       "    </tr>\n",
       "    <tr>\n",
       "      <th>3434</th>\n",
       "      <td>50250</td>\n",
       "      <td>FL</td>\n",
       "      <td>30.596600</td>\n",
       "      <td>-87.326400</td>\n",
       "      <td>FRCC</td>\n",
       "      <td>POINT (-87.32640000000001 30.5966)</td>\n",
       "      <td>5</td>\n",
       "      <td>SERC</td>\n",
       "      <td>SERC Reliability Corporation (SERC)</td>\n",
       "    </tr>\n",
       "    <tr>\n",
       "      <th>3434</th>\n",
       "      <td>50250</td>\n",
       "      <td>FL</td>\n",
       "      <td>30.596600</td>\n",
       "      <td>-87.326400</td>\n",
       "      <td>FRCC</td>\n",
       "      <td>POINT (-87.32640000000001 30.5966)</td>\n",
       "      <td>1</td>\n",
       "      <td>FRCC</td>\n",
       "      <td>Florida Reliability Coordinating Council (FRCC)</td>\n",
       "    </tr>\n",
       "    <tr>\n",
       "      <th>3435</th>\n",
       "      <td>50251</td>\n",
       "      <td>MI</td>\n",
       "      <td>45.795600</td>\n",
       "      <td>-87.955600</td>\n",
       "      <td>MRO</td>\n",
       "      <td>POINT (-87.9556 45.7956)</td>\n",
       "      <td>4</td>\n",
       "      <td>RFC</td>\n",
       "      <td>ReliabilityFirst Corporation (RFC)</td>\n",
       "    </tr>\n",
       "    <tr>\n",
       "      <th>3435</th>\n",
       "      <td>50251</td>\n",
       "      <td>MI</td>\n",
       "      <td>45.795600</td>\n",
       "      <td>-87.955600</td>\n",
       "      <td>MRO</td>\n",
       "      <td>POINT (-87.9556 45.7956)</td>\n",
       "      <td>2</td>\n",
       "      <td>MRO</td>\n",
       "      <td>Midwest Reliability Organization (MRO)</td>\n",
       "    </tr>\n",
       "    <tr>\n",
       "      <th>3471</th>\n",
       "      <td>50310</td>\n",
       "      <td>FL</td>\n",
       "      <td>30.473600</td>\n",
       "      <td>-87.236100</td>\n",
       "      <td>FRCC</td>\n",
       "      <td>POINT (-87.23609999999999 30.4736)</td>\n",
       "      <td>5</td>\n",
       "      <td>SERC</td>\n",
       "      <td>SERC Reliability Corporation (SERC)</td>\n",
       "    </tr>\n",
       "    <tr>\n",
       "      <th>3471</th>\n",
       "      <td>50310</td>\n",
       "      <td>FL</td>\n",
       "      <td>30.473600</td>\n",
       "      <td>-87.236100</td>\n",
       "      <td>FRCC</td>\n",
       "      <td>POINT (-87.23609999999999 30.4736)</td>\n",
       "      <td>1</td>\n",
       "      <td>FRCC</td>\n",
       "      <td>Florida Reliability Coordinating Council (FRCC)</td>\n",
       "    </tr>\n",
       "    <tr>\n",
       "      <th>3681</th>\n",
       "      <td>50725</td>\n",
       "      <td>FL</td>\n",
       "      <td>30.848333</td>\n",
       "      <td>-87.113333</td>\n",
       "      <td>FRCC</td>\n",
       "      <td>POINT (-87.113333 30.848333)</td>\n",
       "      <td>1</td>\n",
       "      <td>FRCC</td>\n",
       "      <td>Florida Reliability Coordinating Council (FRCC)</td>\n",
       "    </tr>\n",
       "    <tr>\n",
       "      <th>3681</th>\n",
       "      <td>50725</td>\n",
       "      <td>FL</td>\n",
       "      <td>30.848333</td>\n",
       "      <td>-87.113333</td>\n",
       "      <td>FRCC</td>\n",
       "      <td>POINT (-87.113333 30.848333)</td>\n",
       "      <td>5</td>\n",
       "      <td>SERC</td>\n",
       "      <td>SERC Reliability Corporation (SERC)</td>\n",
       "    </tr>\n",
       "    <tr>\n",
       "      <th>3723</th>\n",
       "      <td>50807</td>\n",
       "      <td>FL</td>\n",
       "      <td>30.141984</td>\n",
       "      <td>-85.621103</td>\n",
       "      <td>FRCC</td>\n",
       "      <td>POINT (-85.62110300000001 30.141984)</td>\n",
       "      <td>1</td>\n",
       "      <td>FRCC</td>\n",
       "      <td>Florida Reliability Coordinating Council (FRCC)</td>\n",
       "    </tr>\n",
       "    <tr>\n",
       "      <th>3723</th>\n",
       "      <td>50807</td>\n",
       "      <td>FL</td>\n",
       "      <td>30.141984</td>\n",
       "      <td>-85.621103</td>\n",
       "      <td>FRCC</td>\n",
       "      <td>POINT (-85.62110300000001 30.141984)</td>\n",
       "      <td>5</td>\n",
       "      <td>SERC</td>\n",
       "      <td>SERC Reliability Corporation (SERC)</td>\n",
       "    </tr>\n",
       "    <tr>\n",
       "      <th>4327</th>\n",
       "      <td>54842</td>\n",
       "      <td>WI</td>\n",
       "      <td>44.286900</td>\n",
       "      <td>-88.333900</td>\n",
       "      <td>MRO</td>\n",
       "      <td>POINT (-88.3339 44.2869)</td>\n",
       "      <td>4</td>\n",
       "      <td>RFC</td>\n",
       "      <td>ReliabilityFirst Corporation (RFC)</td>\n",
       "    </tr>\n",
       "    <tr>\n",
       "      <th>4327</th>\n",
       "      <td>54842</td>\n",
       "      <td>WI</td>\n",
       "      <td>44.286900</td>\n",
       "      <td>-88.333900</td>\n",
       "      <td>MRO</td>\n",
       "      <td>POINT (-88.3339 44.2869)</td>\n",
       "      <td>2</td>\n",
       "      <td>MRO</td>\n",
       "      <td>Midwest Reliability Organization (MRO)</td>\n",
       "    </tr>\n",
       "    <tr>\n",
       "      <th>4352</th>\n",
       "      <td>54885</td>\n",
       "      <td>WI</td>\n",
       "      <td>44.276900</td>\n",
       "      <td>-88.334400</td>\n",
       "      <td>MRO</td>\n",
       "      <td>POINT (-88.3344 44.2769)</td>\n",
       "      <td>2</td>\n",
       "      <td>MRO</td>\n",
       "      <td>Midwest Reliability Organization (MRO)</td>\n",
       "    </tr>\n",
       "    <tr>\n",
       "      <th>4352</th>\n",
       "      <td>54885</td>\n",
       "      <td>WI</td>\n",
       "      <td>44.276900</td>\n",
       "      <td>-88.334400</td>\n",
       "      <td>MRO</td>\n",
       "      <td>POINT (-88.3344 44.2769)</td>\n",
       "      <td>4</td>\n",
       "      <td>RFC</td>\n",
       "      <td>ReliabilityFirst Corporation (RFC)</td>\n",
       "    </tr>\n",
       "    <tr>\n",
       "      <th>4527</th>\n",
       "      <td>55135</td>\n",
       "      <td>WI</td>\n",
       "      <td>44.193600</td>\n",
       "      <td>-88.506400</td>\n",
       "      <td>MRO</td>\n",
       "      <td>POINT (-88.5064 44.1936)</td>\n",
       "      <td>4</td>\n",
       "      <td>RFC</td>\n",
       "      <td>ReliabilityFirst Corporation (RFC)</td>\n",
       "    </tr>\n",
       "    <tr>\n",
       "      <th>4527</th>\n",
       "      <td>55135</td>\n",
       "      <td>WI</td>\n",
       "      <td>44.193600</td>\n",
       "      <td>-88.506400</td>\n",
       "      <td>MRO</td>\n",
       "      <td>POINT (-88.5064 44.1936)</td>\n",
       "      <td>2</td>\n",
       "      <td>MRO</td>\n",
       "      <td>Midwest Reliability Organization (MRO)</td>\n",
       "    </tr>\n",
       "    <tr>\n",
       "      <th>4610</th>\n",
       "      <td>55242</td>\n",
       "      <td>FL</td>\n",
       "      <td>30.566400</td>\n",
       "      <td>-87.115000</td>\n",
       "      <td>FRCC</td>\n",
       "      <td>POINT (-87.11499999999999 30.5664)</td>\n",
       "      <td>1</td>\n",
       "      <td>FRCC</td>\n",
       "      <td>Florida Reliability Coordinating Council (FRCC)</td>\n",
       "    </tr>\n",
       "    <tr>\n",
       "      <th>4610</th>\n",
       "      <td>55242</td>\n",
       "      <td>FL</td>\n",
       "      <td>30.566400</td>\n",
       "      <td>-87.115000</td>\n",
       "      <td>FRCC</td>\n",
       "      <td>POINT (-87.11499999999999 30.5664)</td>\n",
       "      <td>5</td>\n",
       "      <td>SERC</td>\n",
       "      <td>SERC Reliability Corporation (SERC)</td>\n",
       "    </tr>\n",
       "    <tr>\n",
       "      <th>5022</th>\n",
       "      <td>56037</td>\n",
       "      <td>WI</td>\n",
       "      <td>44.189036</td>\n",
       "      <td>-88.468492</td>\n",
       "      <td>MRO</td>\n",
       "      <td>POINT (-88.468492 44.189036)</td>\n",
       "      <td>4</td>\n",
       "      <td>RFC</td>\n",
       "      <td>ReliabilityFirst Corporation (RFC)</td>\n",
       "    </tr>\n",
       "    <tr>\n",
       "      <th>5022</th>\n",
       "      <td>56037</td>\n",
       "      <td>WI</td>\n",
       "      <td>44.189036</td>\n",
       "      <td>-88.468492</td>\n",
       "      <td>MRO</td>\n",
       "      <td>POINT (-88.468492 44.189036)</td>\n",
       "      <td>2</td>\n",
       "      <td>MRO</td>\n",
       "      <td>Midwest Reliability Organization (MRO)</td>\n",
       "    </tr>\n",
       "    <tr>\n",
       "      <th>5397</th>\n",
       "      <td>56522</td>\n",
       "      <td>FL</td>\n",
       "      <td>30.928333</td>\n",
       "      <td>-85.426111</td>\n",
       "      <td>FRCC</td>\n",
       "      <td>POINT (-85.42611099999999 30.928333)</td>\n",
       "      <td>1</td>\n",
       "      <td>FRCC</td>\n",
       "      <td>Florida Reliability Coordinating Council (FRCC)</td>\n",
       "    </tr>\n",
       "    <tr>\n",
       "      <th>5397</th>\n",
       "      <td>56522</td>\n",
       "      <td>FL</td>\n",
       "      <td>30.928333</td>\n",
       "      <td>-85.426111</td>\n",
       "      <td>FRCC</td>\n",
       "      <td>POINT (-85.42611099999999 30.928333)</td>\n",
       "      <td>5</td>\n",
       "      <td>SERC</td>\n",
       "      <td>SERC Reliability Corporation (SERC)</td>\n",
       "    </tr>\n",
       "    <tr>\n",
       "      <th>6162</th>\n",
       "      <td>57502</td>\n",
       "      <td>FL</td>\n",
       "      <td>30.570000</td>\n",
       "      <td>-87.390000</td>\n",
       "      <td>FRCC</td>\n",
       "      <td>POINT (-87.39 30.57)</td>\n",
       "      <td>1</td>\n",
       "      <td>FRCC</td>\n",
       "      <td>Florida Reliability Coordinating Council (FRCC)</td>\n",
       "    </tr>\n",
       "    <tr>\n",
       "      <th>6162</th>\n",
       "      <td>57502</td>\n",
       "      <td>FL</td>\n",
       "      <td>30.570000</td>\n",
       "      <td>-87.390000</td>\n",
       "      <td>FRCC</td>\n",
       "      <td>POINT (-87.39 30.57)</td>\n",
       "      <td>5</td>\n",
       "      <td>SERC</td>\n",
       "      <td>SERC Reliability Corporation (SERC)</td>\n",
       "    </tr>\n",
       "    <tr>\n",
       "      <th>7160</th>\n",
       "      <td>58663</td>\n",
       "      <td>WI</td>\n",
       "      <td>44.115000</td>\n",
       "      <td>-88.217222</td>\n",
       "      <td>MRO</td>\n",
       "      <td>POINT (-88.21722199999999 44.115)</td>\n",
       "      <td>2</td>\n",
       "      <td>MRO</td>\n",
       "      <td>Midwest Reliability Organization (MRO)</td>\n",
       "    </tr>\n",
       "    <tr>\n",
       "      <th>7160</th>\n",
       "      <td>58663</td>\n",
       "      <td>WI</td>\n",
       "      <td>44.115000</td>\n",
       "      <td>-88.217222</td>\n",
       "      <td>MRO</td>\n",
       "      <td>POINT (-88.21722199999999 44.115)</td>\n",
       "      <td>4</td>\n",
       "      <td>RFC</td>\n",
       "      <td>ReliabilityFirst Corporation (RFC)</td>\n",
       "    </tr>\n",
       "    <tr>\n",
       "      <th>7859</th>\n",
       "      <td>59689</td>\n",
       "      <td>FL</td>\n",
       "      <td>30.515448</td>\n",
       "      <td>-86.518407</td>\n",
       "      <td>FRCC</td>\n",
       "      <td>POINT (-86.518407 30.515448)</td>\n",
       "      <td>5</td>\n",
       "      <td>SERC</td>\n",
       "      <td>SERC Reliability Corporation (SERC)</td>\n",
       "    </tr>\n",
       "    <tr>\n",
       "      <th>7859</th>\n",
       "      <td>59689</td>\n",
       "      <td>FL</td>\n",
       "      <td>30.515448</td>\n",
       "      <td>-86.518407</td>\n",
       "      <td>FRCC</td>\n",
       "      <td>POINT (-86.518407 30.515448)</td>\n",
       "      <td>1</td>\n",
       "      <td>FRCC</td>\n",
       "      <td>Florida Reliability Coordinating Council (FRCC)</td>\n",
       "    </tr>\n",
       "  </tbody>\n",
       "</table>\n",
       "</div>"
      ],
      "text/plain": [
       "      plant id state        lat        lon  nerc  \\\n",
       "406        641    FL  30.566100 -87.224400  FRCC   \n",
       "406        641    FL  30.566100 -87.224400  FRCC   \n",
       "407        642    FL  30.669200 -84.886900  FRCC   \n",
       "407        642    FL  30.669200 -84.886900  FRCC   \n",
       "408        643    FL  30.268600 -85.700300  FRCC   \n",
       "408        643    FL  30.268600 -85.700300  FRCC   \n",
       "432        690    FL  30.708571 -84.863869  FRCC   \n",
       "432        690    FL  30.708571 -84.863869  FRCC   \n",
       "963       1773    MI  46.726100 -88.662500   MRO   \n",
       "963       1773    MI  46.726100 -88.662500   MRO   \n",
       "964       1774    MI  46.696400 -89.208900   MRO   \n",
       "964       1774    MI  46.696400 -89.208900   MRO   \n",
       "965       1775    WI  45.947200 -88.218900   MRO   \n",
       "965       1775    WI  45.947200 -88.218900   MRO   \n",
       "967       1777    MI  46.131100 -88.225000   MRO   \n",
       "967       1777    MI  46.131100 -88.225000   MRO   \n",
       "969       1780    MI  45.955300 -88.195800   MRO   \n",
       "969       1780    MI  45.955300 -88.195800   MRO   \n",
       "970       1781    MI  45.990781 -88.210514   MRO   \n",
       "970       1781    MI  45.990781 -88.210514   MRO   \n",
       "971       1784    MI  45.871900 -88.069400   MRO   \n",
       "971       1784    MI  45.871900 -88.069400   MRO   \n",
       "972       1785    MI  46.159200 -88.235300   MRO   \n",
       "972       1785    MI  46.159200 -88.235300   MRO   \n",
       "977       1821    MI  46.106278 -88.334531   MRO   \n",
       "977       1821    MI  46.106278 -88.334531   MRO   \n",
       "992       1848    MI  45.788900 -87.905800   MRO   \n",
       "992       1848    MI  45.788900 -87.905800   MRO   \n",
       "1978      4043    WI  44.253930 -88.409560   MRO   \n",
       "1978      4043    WI  44.253930 -88.409560   MRO   \n",
       "2017      4122    WI  44.316400 -88.314700   MRO   \n",
       "2017      4122    WI  44.316400 -88.314700   MRO   \n",
       "2020      4127    WI  44.200020 -88.458171   MRO   \n",
       "2020      4127    WI  44.200020 -88.458171   MRO   \n",
       "2191      6192    FL  30.573611 -86.215833  FRCC   \n",
       "2191      6192    FL  30.573611 -86.215833  FRCC   \n",
       "2565      7715    FL  30.592080 -87.135391  FRCC   \n",
       "2565      7715    FL  30.592080 -87.135391  FRCC   \n",
       "2614      7822    WI  44.274582 -88.319074   MRO   \n",
       "2614      7822    WI  44.274582 -88.319074   MRO   \n",
       "2947     10250    FL  30.266057 -85.520670  FRCC   \n",
       "2947     10250    FL  30.266057 -85.520670  FRCC   \n",
       "3027     10416    FL  30.595800 -87.252500  FRCC   \n",
       "3027     10416    FL  30.595800 -87.252500  FRCC   \n",
       "3434     50250    FL  30.596600 -87.326400  FRCC   \n",
       "3434     50250    FL  30.596600 -87.326400  FRCC   \n",
       "3435     50251    MI  45.795600 -87.955600   MRO   \n",
       "3435     50251    MI  45.795600 -87.955600   MRO   \n",
       "3471     50310    FL  30.473600 -87.236100  FRCC   \n",
       "3471     50310    FL  30.473600 -87.236100  FRCC   \n",
       "3681     50725    FL  30.848333 -87.113333  FRCC   \n",
       "3681     50725    FL  30.848333 -87.113333  FRCC   \n",
       "3723     50807    FL  30.141984 -85.621103  FRCC   \n",
       "3723     50807    FL  30.141984 -85.621103  FRCC   \n",
       "4327     54842    WI  44.286900 -88.333900   MRO   \n",
       "4327     54842    WI  44.286900 -88.333900   MRO   \n",
       "4352     54885    WI  44.276900 -88.334400   MRO   \n",
       "4352     54885    WI  44.276900 -88.334400   MRO   \n",
       "4527     55135    WI  44.193600 -88.506400   MRO   \n",
       "4527     55135    WI  44.193600 -88.506400   MRO   \n",
       "4610     55242    FL  30.566400 -87.115000  FRCC   \n",
       "4610     55242    FL  30.566400 -87.115000  FRCC   \n",
       "5022     56037    WI  44.189036 -88.468492   MRO   \n",
       "5022     56037    WI  44.189036 -88.468492   MRO   \n",
       "5397     56522    FL  30.928333 -85.426111  FRCC   \n",
       "5397     56522    FL  30.928333 -85.426111  FRCC   \n",
       "6162     57502    FL  30.570000 -87.390000  FRCC   \n",
       "6162     57502    FL  30.570000 -87.390000  FRCC   \n",
       "7160     58663    WI  44.115000 -88.217222   MRO   \n",
       "7160     58663    WI  44.115000 -88.217222   MRO   \n",
       "7859     59689    FL  30.515448 -86.518407  FRCC   \n",
       "7859     59689    FL  30.515448 -86.518407  FRCC   \n",
       "\n",
       "                                  geometry  index_right  NERC  \\\n",
       "406               POINT (-87.2244 30.5661)            5  SERC   \n",
       "406               POINT (-87.2244 30.5661)            1  FRCC   \n",
       "407               POINT (-84.8869 30.6692)            5  SERC   \n",
       "407               POINT (-84.8869 30.6692)            1  FRCC   \n",
       "408               POINT (-85.7003 30.2686)            5  SERC   \n",
       "408               POINT (-85.7003 30.2686)            1  FRCC   \n",
       "432   POINT (-84.86386899999999 30.708571)            5  SERC   \n",
       "432   POINT (-84.86386899999999 30.708571)            1  FRCC   \n",
       "963     POINT (-88.66249999999999 46.7261)            4   RFC   \n",
       "963     POINT (-88.66249999999999 46.7261)            2   MRO   \n",
       "964               POINT (-89.2089 46.6964)            2   MRO   \n",
       "964               POINT (-89.2089 46.6964)            4   RFC   \n",
       "965               POINT (-88.2189 45.9472)            4   RFC   \n",
       "965               POINT (-88.2189 45.9472)            2   MRO   \n",
       "967     POINT (-88.22499999999999 46.1311)            4   RFC   \n",
       "967     POINT (-88.22499999999999 46.1311)            2   MRO   \n",
       "969     POINT (-88.19580000000001 45.9553)            4   RFC   \n",
       "969     POINT (-88.19580000000001 45.9553)            2   MRO   \n",
       "970           POINT (-88.210514 45.990781)            4   RFC   \n",
       "970           POINT (-88.210514 45.990781)            2   MRO   \n",
       "971               POINT (-88.0694 45.8719)            4   RFC   \n",
       "971               POINT (-88.0694 45.8719)            2   MRO   \n",
       "972               POINT (-88.2353 46.1592)            2   MRO   \n",
       "972               POINT (-88.2353 46.1592)            4   RFC   \n",
       "977   POINT (-88.33453100000001 46.106278)            4   RFC   \n",
       "977   POINT (-88.33453100000001 46.106278)            2   MRO   \n",
       "992               POINT (-87.9058 45.7889)            2   MRO   \n",
       "992               POINT (-87.9058 45.7889)            4   RFC   \n",
       "1978            POINT (-88.40956 44.25393)            2   MRO   \n",
       "1978            POINT (-88.40956 44.25393)            4   RFC   \n",
       "2017              POINT (-88.3147 44.3164)            2   MRO   \n",
       "2017              POINT (-88.3147 44.3164)            4   RFC   \n",
       "2020   POINT (-88.45817099999999 44.20002)            4   RFC   \n",
       "2020   POINT (-88.45817099999999 44.20002)            2   MRO   \n",
       "2191  POINT (-86.21583299999999 30.573611)            1  FRCC   \n",
       "2191  POINT (-86.21583299999999 30.573611)            5  SERC   \n",
       "2565           POINT (-87.135391 30.59208)            1  FRCC   \n",
       "2565           POINT (-87.135391 30.59208)            5  SERC   \n",
       "2614          POINT (-88.319074 44.274582)            2   MRO   \n",
       "2614          POINT (-88.319074 44.274582)            4   RFC   \n",
       "2947           POINT (-85.52067 30.266057)            1  FRCC   \n",
       "2947           POINT (-85.52067 30.266057)            5  SERC   \n",
       "3027              POINT (-87.2525 30.5958)            5  SERC   \n",
       "3027              POINT (-87.2525 30.5958)            1  FRCC   \n",
       "3434    POINT (-87.32640000000001 30.5966)            5  SERC   \n",
       "3434    POINT (-87.32640000000001 30.5966)            1  FRCC   \n",
       "3435              POINT (-87.9556 45.7956)            4   RFC   \n",
       "3435              POINT (-87.9556 45.7956)            2   MRO   \n",
       "3471    POINT (-87.23609999999999 30.4736)            5  SERC   \n",
       "3471    POINT (-87.23609999999999 30.4736)            1  FRCC   \n",
       "3681          POINT (-87.113333 30.848333)            1  FRCC   \n",
       "3681          POINT (-87.113333 30.848333)            5  SERC   \n",
       "3723  POINT (-85.62110300000001 30.141984)            1  FRCC   \n",
       "3723  POINT (-85.62110300000001 30.141984)            5  SERC   \n",
       "4327              POINT (-88.3339 44.2869)            4   RFC   \n",
       "4327              POINT (-88.3339 44.2869)            2   MRO   \n",
       "4352              POINT (-88.3344 44.2769)            2   MRO   \n",
       "4352              POINT (-88.3344 44.2769)            4   RFC   \n",
       "4527              POINT (-88.5064 44.1936)            4   RFC   \n",
       "4527              POINT (-88.5064 44.1936)            2   MRO   \n",
       "4610    POINT (-87.11499999999999 30.5664)            1  FRCC   \n",
       "4610    POINT (-87.11499999999999 30.5664)            5  SERC   \n",
       "5022          POINT (-88.468492 44.189036)            4   RFC   \n",
       "5022          POINT (-88.468492 44.189036)            2   MRO   \n",
       "5397  POINT (-85.42611099999999 30.928333)            1  FRCC   \n",
       "5397  POINT (-85.42611099999999 30.928333)            5  SERC   \n",
       "6162                  POINT (-87.39 30.57)            1  FRCC   \n",
       "6162                  POINT (-87.39 30.57)            5  SERC   \n",
       "7160     POINT (-88.21722199999999 44.115)            2   MRO   \n",
       "7160     POINT (-88.21722199999999 44.115)            4   RFC   \n",
       "7859          POINT (-86.518407 30.515448)            5  SERC   \n",
       "7859          POINT (-86.518407 30.515448)            1  FRCC   \n",
       "\n",
       "                                           NERC_Label  \n",
       "406               SERC Reliability Corporation (SERC)  \n",
       "406   Florida Reliability Coordinating Council (FRCC)  \n",
       "407               SERC Reliability Corporation (SERC)  \n",
       "407   Florida Reliability Coordinating Council (FRCC)  \n",
       "408               SERC Reliability Corporation (SERC)  \n",
       "408   Florida Reliability Coordinating Council (FRCC)  \n",
       "432               SERC Reliability Corporation (SERC)  \n",
       "432   Florida Reliability Coordinating Council (FRCC)  \n",
       "963                ReliabilityFirst Corporation (RFC)  \n",
       "963            Midwest Reliability Organization (MRO)  \n",
       "964            Midwest Reliability Organization (MRO)  \n",
       "964                ReliabilityFirst Corporation (RFC)  \n",
       "965                ReliabilityFirst Corporation (RFC)  \n",
       "965            Midwest Reliability Organization (MRO)  \n",
       "967                ReliabilityFirst Corporation (RFC)  \n",
       "967            Midwest Reliability Organization (MRO)  \n",
       "969                ReliabilityFirst Corporation (RFC)  \n",
       "969            Midwest Reliability Organization (MRO)  \n",
       "970                ReliabilityFirst Corporation (RFC)  \n",
       "970            Midwest Reliability Organization (MRO)  \n",
       "971                ReliabilityFirst Corporation (RFC)  \n",
       "971            Midwest Reliability Organization (MRO)  \n",
       "972            Midwest Reliability Organization (MRO)  \n",
       "972                ReliabilityFirst Corporation (RFC)  \n",
       "977                ReliabilityFirst Corporation (RFC)  \n",
       "977            Midwest Reliability Organization (MRO)  \n",
       "992            Midwest Reliability Organization (MRO)  \n",
       "992                ReliabilityFirst Corporation (RFC)  \n",
       "1978           Midwest Reliability Organization (MRO)  \n",
       "1978               ReliabilityFirst Corporation (RFC)  \n",
       "2017           Midwest Reliability Organization (MRO)  \n",
       "2017               ReliabilityFirst Corporation (RFC)  \n",
       "2020               ReliabilityFirst Corporation (RFC)  \n",
       "2020           Midwest Reliability Organization (MRO)  \n",
       "2191  Florida Reliability Coordinating Council (FRCC)  \n",
       "2191              SERC Reliability Corporation (SERC)  \n",
       "2565  Florida Reliability Coordinating Council (FRCC)  \n",
       "2565              SERC Reliability Corporation (SERC)  \n",
       "2614           Midwest Reliability Organization (MRO)  \n",
       "2614               ReliabilityFirst Corporation (RFC)  \n",
       "2947  Florida Reliability Coordinating Council (FRCC)  \n",
       "2947              SERC Reliability Corporation (SERC)  \n",
       "3027              SERC Reliability Corporation (SERC)  \n",
       "3027  Florida Reliability Coordinating Council (FRCC)  \n",
       "3434              SERC Reliability Corporation (SERC)  \n",
       "3434  Florida Reliability Coordinating Council (FRCC)  \n",
       "3435               ReliabilityFirst Corporation (RFC)  \n",
       "3435           Midwest Reliability Organization (MRO)  \n",
       "3471              SERC Reliability Corporation (SERC)  \n",
       "3471  Florida Reliability Coordinating Council (FRCC)  \n",
       "3681  Florida Reliability Coordinating Council (FRCC)  \n",
       "3681              SERC Reliability Corporation (SERC)  \n",
       "3723  Florida Reliability Coordinating Council (FRCC)  \n",
       "3723              SERC Reliability Corporation (SERC)  \n",
       "4327               ReliabilityFirst Corporation (RFC)  \n",
       "4327           Midwest Reliability Organization (MRO)  \n",
       "4352           Midwest Reliability Organization (MRO)  \n",
       "4352               ReliabilityFirst Corporation (RFC)  \n",
       "4527               ReliabilityFirst Corporation (RFC)  \n",
       "4527           Midwest Reliability Organization (MRO)  \n",
       "4610  Florida Reliability Coordinating Council (FRCC)  \n",
       "4610              SERC Reliability Corporation (SERC)  \n",
       "5022               ReliabilityFirst Corporation (RFC)  \n",
       "5022           Midwest Reliability Organization (MRO)  \n",
       "5397  Florida Reliability Coordinating Council (FRCC)  \n",
       "5397              SERC Reliability Corporation (SERC)  \n",
       "6162  Florida Reliability Coordinating Council (FRCC)  \n",
       "6162              SERC Reliability Corporation (SERC)  \n",
       "7160           Midwest Reliability Organization (MRO)  \n",
       "7160               ReliabilityFirst Corporation (RFC)  \n",
       "7859              SERC Reliability Corporation (SERC)  \n",
       "7859  Florida Reliability Coordinating Council (FRCC)  "
      ]
     },
     "execution_count": 11,
     "metadata": {},
     "output_type": "execute_result"
    }
   ],
   "source": [
    "df2.loc[df2['plant id'].duplicated(keep=False)].sort_values('plant id')"
   ]
  },
  {
   "cell_type": "code",
   "execution_count": 17,
   "metadata": {
    "ExecuteTime": {
     "end_time": "2017-11-02T19:49:43.075229Z",
     "start_time": "2017-11-02T19:49:43.051240Z"
    }
   },
   "outputs": [
    {
     "data": {
      "text/html": [
       "<div>\n",
       "<style>\n",
       "    .dataframe thead tr:only-child th {\n",
       "        text-align: right;\n",
       "    }\n",
       "\n",
       "    .dataframe thead th {\n",
       "        text-align: left;\n",
       "    }\n",
       "\n",
       "    .dataframe tbody tr th {\n",
       "        vertical-align: top;\n",
       "    }\n",
       "</style>\n",
       "<table border=\"1\" class=\"dataframe\">\n",
       "  <thead>\n",
       "    <tr style=\"text-align: right;\">\n",
       "      <th></th>\n",
       "      <th>f</th>\n",
       "      <th>fuel</th>\n",
       "      <th>month</th>\n",
       "      <th>plant id</th>\n",
       "      <th>total fuel (mmbtu)</th>\n",
       "      <th>year</th>\n",
       "      <th>generation (MWh)</th>\n",
       "      <th>elec fuel (mmbtu)</th>\n",
       "      <th>geography</th>\n",
       "      <th>last_updated</th>\n",
       "      <th>lat</th>\n",
       "      <th>lon</th>\n",
       "      <th>prime mover</th>\n",
       "      <th>datetime</th>\n",
       "      <th>quarter</th>\n",
       "      <th>all fuel fossil CO2 (kg)</th>\n",
       "      <th>elec fuel fossil CO2 (kg)</th>\n",
       "      <th>all fuel total CO2 (kg)</th>\n",
       "      <th>elec fuel total CO2 (kg)</th>\n",
       "    </tr>\n",
       "  </thead>\n",
       "  <tbody>\n",
       "    <tr>\n",
       "      <th>0</th>\n",
       "      <td>M</td>\n",
       "      <td>SUB</td>\n",
       "      <td>6</td>\n",
       "      <td>10360</td>\n",
       "      <td>0.0</td>\n",
       "      <td>2017</td>\n",
       "      <td>0.0</td>\n",
       "      <td>0.0</td>\n",
       "      <td>USA-WI</td>\n",
       "      <td>2017-08-24T11:46:12-04:00</td>\n",
       "      <td>44.4936</td>\n",
       "      <td>-88.0303</td>\n",
       "      <td>ALL</td>\n",
       "      <td>2017-06-01</td>\n",
       "      <td>2</td>\n",
       "      <td>0.0</td>\n",
       "      <td>0.0</td>\n",
       "      <td>0.0</td>\n",
       "      <td>0.0</td>\n",
       "    </tr>\n",
       "    <tr>\n",
       "      <th>1</th>\n",
       "      <td>M</td>\n",
       "      <td>SUB</td>\n",
       "      <td>5</td>\n",
       "      <td>10360</td>\n",
       "      <td>0.0</td>\n",
       "      <td>2017</td>\n",
       "      <td>0.0</td>\n",
       "      <td>0.0</td>\n",
       "      <td>USA-WI</td>\n",
       "      <td>2017-08-24T11:46:12-04:00</td>\n",
       "      <td>44.4936</td>\n",
       "      <td>-88.0303</td>\n",
       "      <td>ALL</td>\n",
       "      <td>2017-05-01</td>\n",
       "      <td>2</td>\n",
       "      <td>0.0</td>\n",
       "      <td>0.0</td>\n",
       "      <td>0.0</td>\n",
       "      <td>0.0</td>\n",
       "    </tr>\n",
       "    <tr>\n",
       "      <th>2</th>\n",
       "      <td>M</td>\n",
       "      <td>SUB</td>\n",
       "      <td>4</td>\n",
       "      <td>10360</td>\n",
       "      <td>0.0</td>\n",
       "      <td>2017</td>\n",
       "      <td>0.0</td>\n",
       "      <td>0.0</td>\n",
       "      <td>USA-WI</td>\n",
       "      <td>2017-08-24T11:46:12-04:00</td>\n",
       "      <td>44.4936</td>\n",
       "      <td>-88.0303</td>\n",
       "      <td>ALL</td>\n",
       "      <td>2017-04-01</td>\n",
       "      <td>2</td>\n",
       "      <td>0.0</td>\n",
       "      <td>0.0</td>\n",
       "      <td>0.0</td>\n",
       "      <td>0.0</td>\n",
       "    </tr>\n",
       "    <tr>\n",
       "      <th>3</th>\n",
       "      <td>M</td>\n",
       "      <td>SUB</td>\n",
       "      <td>3</td>\n",
       "      <td>10360</td>\n",
       "      <td>0.0</td>\n",
       "      <td>2017</td>\n",
       "      <td>0.0</td>\n",
       "      <td>0.0</td>\n",
       "      <td>USA-WI</td>\n",
       "      <td>2017-08-24T11:46:12-04:00</td>\n",
       "      <td>44.4936</td>\n",
       "      <td>-88.0303</td>\n",
       "      <td>ALL</td>\n",
       "      <td>2017-03-01</td>\n",
       "      <td>1</td>\n",
       "      <td>0.0</td>\n",
       "      <td>0.0</td>\n",
       "      <td>0.0</td>\n",
       "      <td>0.0</td>\n",
       "    </tr>\n",
       "    <tr>\n",
       "      <th>4</th>\n",
       "      <td>M</td>\n",
       "      <td>SUB</td>\n",
       "      <td>2</td>\n",
       "      <td>10360</td>\n",
       "      <td>0.0</td>\n",
       "      <td>2017</td>\n",
       "      <td>0.0</td>\n",
       "      <td>0.0</td>\n",
       "      <td>USA-WI</td>\n",
       "      <td>2017-08-24T11:46:12-04:00</td>\n",
       "      <td>44.4936</td>\n",
       "      <td>-88.0303</td>\n",
       "      <td>ALL</td>\n",
       "      <td>2017-02-01</td>\n",
       "      <td>1</td>\n",
       "      <td>0.0</td>\n",
       "      <td>0.0</td>\n",
       "      <td>0.0</td>\n",
       "      <td>0.0</td>\n",
       "    </tr>\n",
       "  </tbody>\n",
       "</table>\n",
       "</div>"
      ],
      "text/plain": [
       "   f fuel  month  plant id  total fuel (mmbtu)  year  generation (MWh)  \\\n",
       "0  M  SUB      6     10360                 0.0  2017               0.0   \n",
       "1  M  SUB      5     10360                 0.0  2017               0.0   \n",
       "2  M  SUB      4     10360                 0.0  2017               0.0   \n",
       "3  M  SUB      3     10360                 0.0  2017               0.0   \n",
       "4  M  SUB      2     10360                 0.0  2017               0.0   \n",
       "\n",
       "   elec fuel (mmbtu) geography               last_updated      lat      lon  \\\n",
       "0                0.0    USA-WI  2017-08-24T11:46:12-04:00  44.4936 -88.0303   \n",
       "1                0.0    USA-WI  2017-08-24T11:46:12-04:00  44.4936 -88.0303   \n",
       "2                0.0    USA-WI  2017-08-24T11:46:12-04:00  44.4936 -88.0303   \n",
       "3                0.0    USA-WI  2017-08-24T11:46:12-04:00  44.4936 -88.0303   \n",
       "4                0.0    USA-WI  2017-08-24T11:46:12-04:00  44.4936 -88.0303   \n",
       "\n",
       "  prime mover    datetime  quarter  all fuel fossil CO2 (kg)  \\\n",
       "0         ALL  2017-06-01        2                       0.0   \n",
       "1         ALL  2017-05-01        2                       0.0   \n",
       "2         ALL  2017-04-01        2                       0.0   \n",
       "3         ALL  2017-03-01        1                       0.0   \n",
       "4         ALL  2017-02-01        1                       0.0   \n",
       "\n",
       "   elec fuel fossil CO2 (kg)  all fuel total CO2 (kg)  \\\n",
       "0                        0.0                      0.0   \n",
       "1                        0.0                      0.0   \n",
       "2                        0.0                      0.0   \n",
       "3                        0.0                      0.0   \n",
       "4                        0.0                      0.0   \n",
       "\n",
       "   elec fuel total CO2 (kg)  \n",
       "0                       0.0  \n",
       "1                       0.0  \n",
       "2                       0.0  \n",
       "3                       0.0  \n",
       "4                       0.0  "
      ]
     },
     "execution_count": 17,
     "metadata": {},
     "output_type": "execute_result"
    }
   ],
   "source": [
    "facility_df.head()"
   ]
  },
  {
   "cell_type": "code",
   "execution_count": 49,
   "metadata": {
    "ExecuteTime": {
     "end_time": "2017-11-02T20:02:20.963770Z",
     "start_time": "2017-11-02T20:02:20.673806Z"
    },
    "collapsed": true
   },
   "outputs": [],
   "source": [
    "plants = facility_df.loc[:, ['plant id', 'year', 'lat', 'lon']]\n",
    "plants.drop_duplicates(inplace=True)"
   ]
  },
  {
   "cell_type": "code",
   "execution_count": 24,
   "metadata": {
    "ExecuteTime": {
     "end_time": "2017-11-02T19:51:27.369014Z",
     "start_time": "2017-11-02T19:51:27.062773Z"
    }
   },
   "outputs": [
    {
     "data": {
      "text/plain": [
       "array([[<matplotlib.axes._subplots.AxesSubplot object at 0x1165f8ef0>]], dtype=object)"
      ]
     },
     "execution_count": 24,
     "metadata": {},
     "output_type": "execute_result"
    },
    {
     "data": {
      "image/png": "[encoded data removed]",
      "text/plain": [
       "<matplotlib.figure.Figure at 0x11606f1d0>"
      ]
     },
     "metadata": {},
     "output_type": "display_data"
    }
   ],
   "source": [
    "plants.groupby(['plant id']).max().hist()"
   ]
  },
  {
   "cell_type": "code",
   "execution_count": 116,
   "metadata": {
    "ExecuteTime": {
     "end_time": "2017-11-02T20:46:16.715175Z",
     "start_time": "2017-11-02T20:46:10.267698Z"
    },
    "collapsed": true
   },
   "outputs": [],
   "source": [
    "path = join(data_path, 'EIA downloads', 'EIA-860 2015', '2___Plant_Y2015.xlsx')\n",
    "nercs2015 = pd.read_excel(path, skiprows=0, parse_cols='C,L')\n",
    "nercs2015.columns = ['plant id', 'nerc']\n",
    "\n",
    "path = join(data_path, 'EIA downloads', 'eia8602012', 'PlantY2012.xlsx')\n",
    "nercs2012 = pd.read_excel(path, skiprows=0, parse_cols='B,J')\n",
    "nercs2012.columns = ['plant id', 'nerc']"
   ]
  },
  {
   "cell_type": "code",
   "execution_count": 117,
   "metadata": {
    "ExecuteTime": {
     "end_time": "2017-11-02T20:46:18.083637Z",
     "start_time": "2017-11-02T20:46:18.071464Z"
    }
   },
   "outputs": [
    {
     "data": {
      "text/html": [
       "<div>\n",
       "<style>\n",
       "    .dataframe thead tr:only-child th {\n",
       "        text-align: right;\n",
       "    }\n",
       "\n",
       "    .dataframe thead th {\n",
       "        text-align: left;\n",
       "    }\n",
       "\n",
       "    .dataframe tbody tr th {\n",
       "        vertical-align: top;\n",
       "    }\n",
       "</style>\n",
       "<table border=\"1\" class=\"dataframe\">\n",
       "  <thead>\n",
       "    <tr style=\"text-align: right;\">\n",
       "      <th></th>\n",
       "      <th>plant id</th>\n",
       "      <th>nerc</th>\n",
       "    </tr>\n",
       "  </thead>\n",
       "  <tbody>\n",
       "    <tr>\n",
       "      <th>0</th>\n",
       "      <td>10867</td>\n",
       "      <td>SERC</td>\n",
       "    </tr>\n",
       "    <tr>\n",
       "      <th>1</th>\n",
       "      <td>50903</td>\n",
       "      <td>RFC</td>\n",
       "    </tr>\n",
       "    <tr>\n",
       "      <th>2</th>\n",
       "      <td>10671</td>\n",
       "      <td>SPP</td>\n",
       "    </tr>\n",
       "    <tr>\n",
       "      <th>3</th>\n",
       "      <td>2527</td>\n",
       "      <td>NPCC</td>\n",
       "    </tr>\n",
       "    <tr>\n",
       "      <th>4</th>\n",
       "      <td>3305</td>\n",
       "      <td>SERC</td>\n",
       "    </tr>\n",
       "  </tbody>\n",
       "</table>\n",
       "</div>"
      ],
      "text/plain": [
       "   plant id  nerc\n",
       "0     10867  SERC\n",
       "1     50903   RFC\n",
       "2     10671   SPP\n",
       "3      2527  NPCC\n",
       "4      3305  SERC"
      ]
     },
     "execution_count": 117,
     "metadata": {},
     "output_type": "execute_result"
    }
   ],
   "source": [
    "nercs2012.head()"
   ]
  },
  {
   "cell_type": "code",
   "execution_count": 118,
   "metadata": {
    "ExecuteTime": {
     "end_time": "2017-11-02T20:46:23.806266Z",
     "start_time": "2017-11-02T20:46:23.793925Z"
    },
    "collapsed": true
   },
   "outputs": [],
   "source": [
    "nercs = pd.concat([nercs2012, nercs2015]).drop_duplicates()"
   ]
  },
  {
   "cell_type": "code",
   "execution_count": 119,
   "metadata": {
    "ExecuteTime": {
     "end_time": "2017-11-02T20:46:26.431119Z",
     "start_time": "2017-11-02T20:46:26.421839Z"
    }
   },
   "outputs": [
    {
     "data": {
      "text/plain": [
       "(9178, 7289, 8928)"
      ]
     },
     "execution_count": 119,
     "metadata": {},
     "output_type": "execute_result"
    }
   ],
   "source": [
    "len(nercs), len(nercs2012), len(nercs2015)"
   ]
  },
  {
   "cell_type": "code",
   "execution_count": 120,
   "metadata": {
    "ExecuteTime": {
     "end_time": "2017-11-02T20:46:31.530712Z",
     "start_time": "2017-11-02T20:46:31.499222Z"
    },
    "collapsed": true
   },
   "outputs": [],
   "source": [
    "df = pd.merge(plants, nercs, on=['plant id'], how='left')"
   ]
  },
  {
   "cell_type": "code",
   "execution_count": 121,
   "metadata": {
    "ExecuteTime": {
     "end_time": "2017-11-02T20:46:34.731754Z",
     "start_time": "2017-11-02T20:46:34.720874Z"
    }
   },
   "outputs": [
    {
     "data": {
      "text/html": [
       "<div>\n",
       "<style>\n",
       "    .dataframe thead tr:only-child th {\n",
       "        text-align: right;\n",
       "    }\n",
       "\n",
       "    .dataframe thead th {\n",
       "        text-align: left;\n",
       "    }\n",
       "\n",
       "    .dataframe tbody tr th {\n",
       "        vertical-align: top;\n",
       "    }\n",
       "</style>\n",
       "<table border=\"1\" class=\"dataframe\">\n",
       "  <thead>\n",
       "    <tr style=\"text-align: right;\">\n",
       "      <th></th>\n",
       "      <th>plant id</th>\n",
       "      <th>year</th>\n",
       "      <th>lat</th>\n",
       "      <th>lon</th>\n",
       "    </tr>\n",
       "  </thead>\n",
       "  <tbody>\n",
       "    <tr>\n",
       "      <th>1544548</th>\n",
       "      <td>1275</td>\n",
       "      <td>2006</td>\n",
       "      <td>38.947222</td>\n",
       "      <td>-99.528611</td>\n",
       "    </tr>\n",
       "    <tr>\n",
       "      <th>1544560</th>\n",
       "      <td>1275</td>\n",
       "      <td>2005</td>\n",
       "      <td>38.947222</td>\n",
       "      <td>-99.528611</td>\n",
       "    </tr>\n",
       "    <tr>\n",
       "      <th>1544572</th>\n",
       "      <td>1275</td>\n",
       "      <td>2004</td>\n",
       "      <td>38.947222</td>\n",
       "      <td>-99.528611</td>\n",
       "    </tr>\n",
       "    <tr>\n",
       "      <th>1544584</th>\n",
       "      <td>1275</td>\n",
       "      <td>2003</td>\n",
       "      <td>38.947222</td>\n",
       "      <td>-99.528611</td>\n",
       "    </tr>\n",
       "    <tr>\n",
       "      <th>1544596</th>\n",
       "      <td>1275</td>\n",
       "      <td>2002</td>\n",
       "      <td>38.947222</td>\n",
       "      <td>-99.528611</td>\n",
       "    </tr>\n",
       "  </tbody>\n",
       "</table>\n",
       "</div>"
      ],
      "text/plain": [
       "         plant id  year        lat        lon\n",
       "1544548      1275  2006  38.947222 -99.528611\n",
       "1544560      1275  2005  38.947222 -99.528611\n",
       "1544572      1275  2004  38.947222 -99.528611\n",
       "1544584      1275  2003  38.947222 -99.528611\n",
       "1544596      1275  2002  38.947222 -99.528611"
      ]
     },
     "execution_count": 121,
     "metadata": {},
     "output_type": "execute_result"
    }
   ],
   "source": [
    "plants.tail()"
   ]
  },
  {
   "cell_type": "code",
   "execution_count": 122,
   "metadata": {
    "ExecuteTime": {
     "end_time": "2017-11-02T20:46:39.591707Z",
     "start_time": "2017-11-02T20:46:39.578003Z"
    }
   },
   "outputs": [
    {
     "data": {
      "text/html": [
       "<div>\n",
       "<style>\n",
       "    .dataframe thead tr:only-child th {\n",
       "        text-align: right;\n",
       "    }\n",
       "\n",
       "    .dataframe thead th {\n",
       "        text-align: left;\n",
       "    }\n",
       "\n",
       "    .dataframe tbody tr th {\n",
       "        vertical-align: top;\n",
       "    }\n",
       "</style>\n",
       "<table border=\"1\" class=\"dataframe\">\n",
       "  <thead>\n",
       "    <tr style=\"text-align: right;\">\n",
       "      <th></th>\n",
       "      <th>plant id</th>\n",
       "      <th>nerc</th>\n",
       "    </tr>\n",
       "  </thead>\n",
       "  <tbody>\n",
       "    <tr>\n",
       "      <th>8923</th>\n",
       "      <td>60510</td>\n",
       "      <td>SERC</td>\n",
       "    </tr>\n",
       "    <tr>\n",
       "      <th>8924</th>\n",
       "      <td>60511</td>\n",
       "      <td>WECC</td>\n",
       "    </tr>\n",
       "    <tr>\n",
       "      <th>8925</th>\n",
       "      <td>60514</td>\n",
       "      <td>SERC</td>\n",
       "    </tr>\n",
       "    <tr>\n",
       "      <th>8926</th>\n",
       "      <td>60550</td>\n",
       "      <td>SERC</td>\n",
       "    </tr>\n",
       "    <tr>\n",
       "      <th>8927</th>\n",
       "      <td>60571</td>\n",
       "      <td>WECC</td>\n",
       "    </tr>\n",
       "  </tbody>\n",
       "</table>\n",
       "</div>"
      ],
      "text/plain": [
       "      plant id  nerc\n",
       "8923     60510  SERC\n",
       "8924     60511  WECC\n",
       "8925     60514  SERC\n",
       "8926     60550  SERC\n",
       "8927     60571  WECC"
      ]
     },
     "execution_count": 122,
     "metadata": {},
     "output_type": "execute_result"
    }
   ],
   "source": [
    "nercs.tail()"
   ]
  },
  {
   "cell_type": "code",
   "execution_count": 123,
   "metadata": {
    "ExecuteTime": {
     "end_time": "2017-11-02T20:46:54.035731Z",
     "start_time": "2017-11-02T20:46:54.028688Z"
    }
   },
   "outputs": [
    {
     "data": {
      "text/plain": [
       "array(['SERC', 'RFC', 'SPP', 'NPCC', 'WECC', 'MRO', 'TRE', 'HICC', 'ASCC',\n",
       "       'FRCC', nan], dtype=object)"
      ]
     },
     "execution_count": 123,
     "metadata": {},
     "output_type": "execute_result"
    }
   ],
   "source": [
    "nercs.nerc.unique()"
   ]
  },
  {
   "cell_type": "code",
   "execution_count": 67,
   "metadata": {
    "ExecuteTime": {
     "end_time": "2017-11-02T20:18:54.973582Z",
     "start_time": "2017-11-02T20:18:54.961702Z"
    }
   },
   "outputs": [
    {
     "data": {
      "text/html": [
       "<div>\n",
       "<style>\n",
       "    .dataframe thead tr:only-child th {\n",
       "        text-align: right;\n",
       "    }\n",
       "\n",
       "    .dataframe thead th {\n",
       "        text-align: left;\n",
       "    }\n",
       "\n",
       "    .dataframe tbody tr th {\n",
       "        vertical-align: top;\n",
       "    }\n",
       "</style>\n",
       "<table border=\"1\" class=\"dataframe\">\n",
       "  <thead>\n",
       "    <tr style=\"text-align: right;\">\n",
       "      <th></th>\n",
       "      <th>plant id</th>\n",
       "      <th>year</th>\n",
       "      <th>lat</th>\n",
       "      <th>lon</th>\n",
       "      <th>nerc</th>\n",
       "    </tr>\n",
       "  </thead>\n",
       "  <tbody>\n",
       "    <tr>\n",
       "      <th>89242</th>\n",
       "      <td>1275</td>\n",
       "      <td>2006</td>\n",
       "      <td>38.947222</td>\n",
       "      <td>-99.528611</td>\n",
       "      <td>SPP</td>\n",
       "    </tr>\n",
       "    <tr>\n",
       "      <th>89243</th>\n",
       "      <td>1275</td>\n",
       "      <td>2005</td>\n",
       "      <td>38.947222</td>\n",
       "      <td>-99.528611</td>\n",
       "      <td>SPP</td>\n",
       "    </tr>\n",
       "    <tr>\n",
       "      <th>89244</th>\n",
       "      <td>1275</td>\n",
       "      <td>2004</td>\n",
       "      <td>38.947222</td>\n",
       "      <td>-99.528611</td>\n",
       "      <td>SPP</td>\n",
       "    </tr>\n",
       "    <tr>\n",
       "      <th>89245</th>\n",
       "      <td>1275</td>\n",
       "      <td>2003</td>\n",
       "      <td>38.947222</td>\n",
       "      <td>-99.528611</td>\n",
       "      <td>SPP</td>\n",
       "    </tr>\n",
       "    <tr>\n",
       "      <th>89246</th>\n",
       "      <td>1275</td>\n",
       "      <td>2002</td>\n",
       "      <td>38.947222</td>\n",
       "      <td>-99.528611</td>\n",
       "      <td>SPP</td>\n",
       "    </tr>\n",
       "  </tbody>\n",
       "</table>\n",
       "</div>"
      ],
      "text/plain": [
       "       plant id  year        lat        lon nerc\n",
       "89242      1275  2006  38.947222 -99.528611  SPP\n",
       "89243      1275  2005  38.947222 -99.528611  SPP\n",
       "89244      1275  2004  38.947222 -99.528611  SPP\n",
       "89245      1275  2003  38.947222 -99.528611  SPP\n",
       "89246      1275  2002  38.947222 -99.528611  SPP"
      ]
     },
     "execution_count": 67,
     "metadata": {},
     "output_type": "execute_result"
    }
   ],
   "source": [
    "df.tail()"
   ]
  },
  {
   "cell_type": "code",
   "execution_count": 63,
   "metadata": {
    "ExecuteTime": {
     "end_time": "2017-11-02T20:17:46.319652Z",
     "start_time": "2017-11-02T20:17:46.295244Z"
    }
   },
   "outputs": [
    {
     "data": {
      "text/plain": [
       "88"
      ]
     },
     "execution_count": 63,
     "metadata": {},
     "output_type": "execute_result"
    }
   ],
   "source": [
    "len(df.loc[df.isnull().any(axis=1), 'plant id'].unique())"
   ]
  },
  {
   "cell_type": "code",
   "execution_count": 148,
   "metadata": {
    "ExecuteTime": {
     "end_time": "2017-11-02T21:02:19.571139Z",
     "start_time": "2017-11-02T21:02:19.557630Z"
    },
    "collapsed": true
   },
   "outputs": [],
   "source": [
    "from sklearn import neighbors\n",
    "from sklearn.model_selection import train_test_split, GridSearchCV\n",
    "from sklearn.preprocessing import StandardScaler\n",
    "import matplotlib.pyplot as plt\n",
    "from matplotlib.colors import ListedColormap\n",
    "import numpy as np"
   ]
  },
  {
   "cell_type": "code",
   "execution_count": 124,
   "metadata": {
    "ExecuteTime": {
     "end_time": "2017-11-02T20:47:17.663675Z",
     "start_time": "2017-11-02T20:47:17.660112Z"
    },
    "collapsed": true
   },
   "outputs": [],
   "source": [
    "nercs = ['SERC', 'RFC', 'SPP', 'NPCC', 'WECC', 'MRO', 'TRE', 'FRCC']"
   ]
  },
  {
   "cell_type": "code",
   "execution_count": 125,
   "metadata": {
    "ExecuteTime": {
     "end_time": "2017-11-02T20:47:35.495443Z",
     "start_time": "2017-11-02T20:47:35.454473Z"
    },
    "collapsed": true
   },
   "outputs": [],
   "source": [
    "df_slim = df.loc[df.nerc.isin(nercs), ['plant id', 'lat', 'lon', 'nerc']].dropna(subset=['lon']).drop_duplicates()"
   ]
  },
  {
   "cell_type": "code",
   "execution_count": 126,
   "metadata": {
    "ExecuteTime": {
     "end_time": "2017-11-02T20:47:38.181971Z",
     "start_time": "2017-11-02T20:47:38.175845Z"
    },
    "collapsed": true
   },
   "outputs": [],
   "source": [
    "unknown = df_slim.loc[df_slim.nerc.isnull()]"
   ]
  },
  {
   "cell_type": "code",
   "execution_count": 69,
   "metadata": {
    "ExecuteTime": {
     "end_time": "2017-11-02T20:19:37.322247Z",
     "start_time": "2017-11-02T20:19:37.315816Z"
    },
    "collapsed": true
   },
   "outputs": [],
   "source": [
    "n_neighbors = 10"
   ]
  },
  {
   "cell_type": "code",
   "execution_count": 155,
   "metadata": {
    "ExecuteTime": {
     "end_time": "2017-11-02T21:04:28.083243Z",
     "start_time": "2017-11-02T21:04:28.070127Z"
    },
    "collapsed": true
   },
   "outputs": [],
   "source": [
    "X = df_slim.loc[df_slim.notnull().all(axis=1), ['lat', 'lon']]\n",
    "y = df_slim.loc[df_slim.notnull().all(axis=1), 'nerc']\n",
    "\n",
    "X_scale = StandardScaler().fit_transform(X)"
   ]
  },
  {
   "cell_type": "code",
   "execution_count": 164,
   "metadata": {
    "ExecuteTime": {
     "end_time": "2017-11-02T21:06:11.018817Z",
     "start_time": "2017-11-02T21:06:11.010866Z"
    },
    "collapsed": true
   },
   "outputs": [],
   "source": [
    "X_train, X_test, y_train, y_test = train_test_split(\n",
    "    X, y, test_size=0.33, random_state=42)"
   ]
  },
  {
   "cell_type": "code",
   "execution_count": 128,
   "metadata": {
    "ExecuteTime": {
     "end_time": "2017-11-02T20:47:46.181994Z",
     "start_time": "2017-11-02T20:47:46.175564Z"
    }
   },
   "outputs": [
    {
     "data": {
      "text/plain": [
       "array(['MRO', 'WECC', 'NPCC', 'SERC', 'SPP', 'RFC', 'FRCC', 'TRE'], dtype=object)"
      ]
     },
     "execution_count": 128,
     "metadata": {},
     "output_type": "execute_result"
    }
   ],
   "source": [
    "y.unique()"
   ]
  },
  {
   "cell_type": "code",
   "execution_count": 165,
   "metadata": {
    "ExecuteTime": {
     "end_time": "2017-11-02T21:06:12.573829Z",
     "start_time": "2017-11-02T21:06:12.570487Z"
    },
    "collapsed": true
   },
   "outputs": [],
   "source": [
    "knn = neighbors.KNeighborsClassifier()"
   ]
  },
  {
   "cell_type": "code",
   "execution_count": null,
   "metadata": {
    "ExecuteTime": {
     "end_time": "2017-11-02T21:06:13.311863Z",
     "start_time": "2017-11-02T21:06:13.046Z"
    },
    "collapsed": true
   },
   "outputs": [],
   "source": [
    "params = {'weights': ['uniform', 'distance'],\n",
    "          'n_neighbors': [10, 15, 20, 30],\n",
    "          'leaf_size': [3, 5, 10, 30],\n",
    "          'p': [1, 2]}\n",
    "\n",
    "clf = GridSearchCV(knn, params, n_jobs=-1)"
   ]
  },
  {
   "cell_type": "code",
   "execution_count": 160,
   "metadata": {
    "ExecuteTime": {
     "end_time": "2017-11-02T21:04:53.477943Z",
     "start_time": "2017-11-02T21:04:48.784220Z"
    }
   },
   "outputs": [
    {
     "data": {
      "text/plain": [
       "GridSearchCV(cv=None, error_score='raise',\n",
       "       estimator=KNeighborsClassifier(algorithm='auto', leaf_size=30, metric='minkowski',\n",
       "           metric_params=None, n_jobs=1, n_neighbors=5, p=2,\n",
       "           weights='uniform'),\n",
       "       fit_params={}, iid=True, n_jobs=-1,\n",
       "       param_grid={'weights': ['uniform', 'distance'], 'n_neighbors': [10, 15, 20, 30], 'leaf_size': [3, 5, 10, 30], 'p': [1, 2]},\n",
       "       pre_dispatch='2*n_jobs', refit=True, return_train_score=True,\n",
       "       scoring=None, verbose=0)"
      ]
     },
     "execution_count": 160,
     "metadata": {},
     "output_type": "execute_result"
    }
   ],
   "source": [
    "clf.fit(X_train, y_train)"
   ]
  },
  {
   "cell_type": "code",
   "execution_count": 161,
   "metadata": {
    "ExecuteTime": {
     "end_time": "2017-11-02T21:04:54.963439Z",
     "start_time": "2017-11-02T21:04:54.957868Z"
    }
   },
   "outputs": [
    {
     "data": {
      "text/plain": [
       "(KNeighborsClassifier(algorithm='auto', leaf_size=3, metric='minkowski',\n",
       "            metric_params=None, n_jobs=1, n_neighbors=15, p=1,\n",
       "            weights='distance'),\n",
       " {'leaf_size': 3, 'n_neighbors': 15, 'p': 1, 'weights': 'distance'},\n",
       " 0.96590695046148045)"
      ]
     },
     "execution_count": 161,
     "metadata": {},
     "output_type": "execute_result"
    }
   ],
   "source": [
    "clf.best_estimator_, clf.best_params_, clf.best_score_"
   ]
  },
  {
   "cell_type": "markdown",
   "metadata": {},
   "source": [
    "No difference in score when X is preprocessed with `StandardScaler`"
   ]
  },
  {
   "cell_type": "code",
   "execution_count": 163,
   "metadata": {
    "ExecuteTime": {
     "end_time": "2017-11-02T21:05:09.696372Z",
     "start_time": "2017-11-02T21:05:09.638412Z"
    }
   },
   "outputs": [
    {
     "data": {
      "text/plain": [
       "0.98498422712933753"
      ]
     },
     "execution_count": 163,
     "metadata": {},
     "output_type": "execute_result"
    }
   ],
   "source": [
    "clf.score(X_scale, y)"
   ]
  },
  {
   "cell_type": "code",
   "execution_count": null,
   "metadata": {
    "collapsed": true
   },
   "outputs": [],
   "source": []
  },
  {
   "cell_type": "code",
   "execution_count": 102,
   "metadata": {
    "ExecuteTime": {
     "end_time": "2017-11-02T20:36:04.390405Z",
     "start_time": "2017-11-02T20:36:04.371039Z"
    }
   },
   "outputs": [
    {
     "data": {
      "text/plain": [
       "KNeighborsClassifier(algorithm='auto', leaf_size=30, metric='minkowski',\n",
       "           metric_params=None, n_jobs=1, n_neighbors=10, p=2,\n",
       "           weights='uniform')"
      ]
     },
     "execution_count": 102,
     "metadata": {},
     "output_type": "execute_result"
    }
   ],
   "source": [
    "clf = neighbors.KNeighborsClassifier(n_neighbors, weights='uniform')\n",
    "clf.fit(X_train, y_train)"
   ]
  },
  {
   "cell_type": "code",
   "execution_count": 103,
   "metadata": {
    "ExecuteTime": {
     "end_time": "2017-11-02T20:36:50.047487Z",
     "start_time": "2017-11-02T20:36:50.027872Z"
    }
   },
   "outputs": [
    {
     "data": {
      "text/plain": [
       "0.95693087224031848"
      ]
     },
     "execution_count": 103,
     "metadata": {},
     "output_type": "execute_result"
    }
   ],
   "source": [
    "clf.score(X_test, y_test)"
   ]
  },
  {
   "cell_type": "code",
   "execution_count": 104,
   "metadata": {
    "ExecuteTime": {
     "end_time": "2017-11-02T20:37:02.106043Z",
     "start_time": "2017-11-02T20:37:02.084523Z"
    }
   },
   "outputs": [
    {
     "data": {
      "text/plain": [
       "KNeighborsClassifier(algorithm='auto', leaf_size=30, metric='minkowski',\n",
       "           metric_params=None, n_jobs=1, n_neighbors=10, p=2,\n",
       "           weights='distance')"
      ]
     },
     "execution_count": 104,
     "metadata": {},
     "output_type": "execute_result"
    }
   ],
   "source": [
    "clf = neighbors.KNeighborsClassifier(n_neighbors, weights='distance')\n",
    "clf.fit(X_train, y_train)"
   ]
  },
  {
   "cell_type": "code",
   "execution_count": 105,
   "metadata": {
    "ExecuteTime": {
     "end_time": "2017-11-02T20:37:05.078004Z",
     "start_time": "2017-11-02T20:37:05.044278Z"
    }
   },
   "outputs": [
    {
     "data": {
      "text/plain": [
       "0.95946435034382915"
      ]
     },
     "execution_count": 105,
     "metadata": {},
     "output_type": "execute_result"
    }
   ],
   "source": [
    "clf.score(X_test, y_test)"
   ]
  },
  {
   "cell_type": "code",
   "execution_count": 95,
   "metadata": {
    "ExecuteTime": {
     "end_time": "2017-11-02T20:31:59.134545Z",
     "start_time": "2017-11-02T20:30:31.590699Z"
    }
   },
   "outputs": [
    {
     "ename": "AttributeError",
     "evalue": "'str' object has no attribute 'view'",
     "output_type": "error",
     "traceback": [
      "\u001b[0;31m---------------------------------------------------------------------------\u001b[0m",
      "\u001b[0;31mTypeError\u001b[0m                                 Traceback (most recent call last)",
      "\u001b[0;32m~/anaconda/envs/py36/lib/python3.6/site-packages/numpy/ma/core.py\u001b[0m in \u001b[0;36mmin\u001b[0;34m(obj, axis, out, fill_value, keepdims)\u001b[0m\n\u001b[1;32m   6441\u001b[0m     \u001b[0;32mtry\u001b[0m\u001b[0;34m:\u001b[0m\u001b[0;34m\u001b[0m\u001b[0m\n\u001b[0;32m-> 6442\u001b[0;31m         \u001b[0;32mreturn\u001b[0m \u001b[0mobj\u001b[0m\u001b[0;34m.\u001b[0m\u001b[0mmin\u001b[0m\u001b[0;34m(\u001b[0m\u001b[0maxis\u001b[0m\u001b[0;34m=\u001b[0m\u001b[0maxis\u001b[0m\u001b[0;34m,\u001b[0m \u001b[0mfill_value\u001b[0m\u001b[0;34m=\u001b[0m\u001b[0mfill_value\u001b[0m\u001b[0;34m,\u001b[0m \u001b[0mout\u001b[0m\u001b[0;34m=\u001b[0m\u001b[0mout\u001b[0m\u001b[0;34m,\u001b[0m \u001b[0;34m**\u001b[0m\u001b[0mkwargs\u001b[0m\u001b[0;34m)\u001b[0m\u001b[0;34m\u001b[0m\u001b[0m\n\u001b[0m\u001b[1;32m   6443\u001b[0m     \u001b[0;32mexcept\u001b[0m \u001b[0;34m(\u001b[0m\u001b[0mAttributeError\u001b[0m\u001b[0;34m,\u001b[0m \u001b[0mTypeError\u001b[0m\u001b[0;34m)\u001b[0m\u001b[0;34m:\u001b[0m\u001b[0;34m\u001b[0m\u001b[0m\n",
      "\u001b[0;31mTypeError\u001b[0m: _amin() got an unexpected keyword argument 'fill_value'",
      "\nDuring handling of the above exception, another exception occurred:\n",
      "\u001b[0;31mAttributeError\u001b[0m                            Traceback (most recent call last)",
      "\u001b[0;32m<ipython-input-95-cf8de1f4ef1e>\u001b[0m in \u001b[0;36m<module>\u001b[0;34m()\u001b[0m\n\u001b[1;32m     21\u001b[0m     \u001b[0mZ\u001b[0m \u001b[0;34m=\u001b[0m \u001b[0mZ\u001b[0m\u001b[0;34m.\u001b[0m\u001b[0mreshape\u001b[0m\u001b[0;34m(\u001b[0m\u001b[0mxx\u001b[0m\u001b[0;34m.\u001b[0m\u001b[0mshape\u001b[0m\u001b[0;34m)\u001b[0m\u001b[0;34m\u001b[0m\u001b[0m\n\u001b[1;32m     22\u001b[0m     \u001b[0mplt\u001b[0m\u001b[0;34m.\u001b[0m\u001b[0mfigure\u001b[0m\u001b[0;34m(\u001b[0m\u001b[0;34m)\u001b[0m\u001b[0;34m\u001b[0m\u001b[0m\n\u001b[0;32m---> 23\u001b[0;31m     \u001b[0mplt\u001b[0m\u001b[0;34m.\u001b[0m\u001b[0mpcolormesh\u001b[0m\u001b[0;34m(\u001b[0m\u001b[0mxx\u001b[0m\u001b[0;34m,\u001b[0m \u001b[0myy\u001b[0m\u001b[0;34m,\u001b[0m \u001b[0mZ\u001b[0m\u001b[0;34m,\u001b[0m \u001b[0mcmap\u001b[0m\u001b[0;34m=\u001b[0m\u001b[0mcmap_light\u001b[0m\u001b[0;34m)\u001b[0m\u001b[0;34m\u001b[0m\u001b[0m\n\u001b[0m\u001b[1;32m     24\u001b[0m \u001b[0;34m\u001b[0m\u001b[0m\n\u001b[1;32m     25\u001b[0m     \u001b[0;31m# Plot also the training points\u001b[0m\u001b[0;34m\u001b[0m\u001b[0;34m\u001b[0m\u001b[0m\n",
      "\u001b[0;32m~/anaconda/envs/py36/lib/python3.6/site-packages/matplotlib/pyplot.py\u001b[0m in \u001b[0;36mpcolormesh\u001b[0;34m(*args, **kwargs)\u001b[0m\n\u001b[1;32m   3242\u001b[0m                       mplDeprecation)\n\u001b[1;32m   3243\u001b[0m     \u001b[0;32mtry\u001b[0m\u001b[0;34m:\u001b[0m\u001b[0;34m\u001b[0m\u001b[0m\n\u001b[0;32m-> 3244\u001b[0;31m         \u001b[0mret\u001b[0m \u001b[0;34m=\u001b[0m \u001b[0max\u001b[0m\u001b[0;34m.\u001b[0m\u001b[0mpcolormesh\u001b[0m\u001b[0;34m(\u001b[0m\u001b[0;34m*\u001b[0m\u001b[0margs\u001b[0m\u001b[0;34m,\u001b[0m \u001b[0;34m**\u001b[0m\u001b[0mkwargs\u001b[0m\u001b[0;34m)\u001b[0m\u001b[0;34m\u001b[0m\u001b[0m\n\u001b[0m\u001b[1;32m   3245\u001b[0m     \u001b[0;32mfinally\u001b[0m\u001b[0;34m:\u001b[0m\u001b[0;34m\u001b[0m\u001b[0m\n\u001b[1;32m   3246\u001b[0m         \u001b[0max\u001b[0m\u001b[0;34m.\u001b[0m\u001b[0m_hold\u001b[0m \u001b[0;34m=\u001b[0m \u001b[0mwashold\u001b[0m\u001b[0;34m\u001b[0m\u001b[0m\n",
      "\u001b[0;32m~/anaconda/envs/py36/lib/python3.6/site-packages/matplotlib/__init__.py\u001b[0m in \u001b[0;36minner\u001b[0;34m(ax, *args, **kwargs)\u001b[0m\n\u001b[1;32m   1896\u001b[0m                     warnings.warn(msg % (label_namer, func.__name__),\n\u001b[1;32m   1897\u001b[0m                                   RuntimeWarning, stacklevel=2)\n\u001b[0;32m-> 1898\u001b[0;31m             \u001b[0;32mreturn\u001b[0m \u001b[0mfunc\u001b[0m\u001b[0;34m(\u001b[0m\u001b[0max\u001b[0m\u001b[0;34m,\u001b[0m \u001b[0;34m*\u001b[0m\u001b[0margs\u001b[0m\u001b[0;34m,\u001b[0m \u001b[0;34m**\u001b[0m\u001b[0mkwargs\u001b[0m\u001b[0;34m)\u001b[0m\u001b[0;34m\u001b[0m\u001b[0m\n\u001b[0m\u001b[1;32m   1899\u001b[0m         \u001b[0mpre_doc\u001b[0m \u001b[0;34m=\u001b[0m \u001b[0minner\u001b[0m\u001b[0;34m.\u001b[0m\u001b[0m__doc__\u001b[0m\u001b[0;34m\u001b[0m\u001b[0m\n\u001b[1;32m   1900\u001b[0m         \u001b[0;32mif\u001b[0m \u001b[0mpre_doc\u001b[0m \u001b[0;32mis\u001b[0m \u001b[0;32mNone\u001b[0m\u001b[0;34m:\u001b[0m\u001b[0;34m\u001b[0m\u001b[0m\n",
      "\u001b[0;32m~/anaconda/envs/py36/lib/python3.6/site-packages/matplotlib/axes/_axes.py\u001b[0m in \u001b[0;36mpcolormesh\u001b[0;34m(self, *args, **kwargs)\u001b[0m\n\u001b[1;32m   5601\u001b[0m         \u001b[0mcollection\u001b[0m\u001b[0;34m.\u001b[0m\u001b[0mset_norm\u001b[0m\u001b[0;34m(\u001b[0m\u001b[0mnorm\u001b[0m\u001b[0;34m)\u001b[0m\u001b[0;34m\u001b[0m\u001b[0m\n\u001b[1;32m   5602\u001b[0m         \u001b[0mcollection\u001b[0m\u001b[0;34m.\u001b[0m\u001b[0mset_clim\u001b[0m\u001b[0;34m(\u001b[0m\u001b[0mvmin\u001b[0m\u001b[0;34m,\u001b[0m \u001b[0mvmax\u001b[0m\u001b[0;34m)\u001b[0m\u001b[0;34m\u001b[0m\u001b[0m\n\u001b[0;32m-> 5603\u001b[0;31m         \u001b[0mcollection\u001b[0m\u001b[0;34m.\u001b[0m\u001b[0mautoscale_None\u001b[0m\u001b[0;34m(\u001b[0m\u001b[0;34m)\u001b[0m\u001b[0;34m\u001b[0m\u001b[0m\n\u001b[0m\u001b[1;32m   5604\u001b[0m \u001b[0;34m\u001b[0m\u001b[0m\n\u001b[1;32m   5605\u001b[0m         \u001b[0mself\u001b[0m\u001b[0;34m.\u001b[0m\u001b[0mgrid\u001b[0m\u001b[0;34m(\u001b[0m\u001b[0;32mFalse\u001b[0m\u001b[0;34m)\u001b[0m\u001b[0;34m\u001b[0m\u001b[0m\n",
      "\u001b[0;32m~/anaconda/envs/py36/lib/python3.6/site-packages/matplotlib/cm.py\u001b[0m in \u001b[0;36mautoscale_None\u001b[0;34m(self)\u001b[0m\n\u001b[1;32m    343\u001b[0m         \u001b[0;32mif\u001b[0m \u001b[0mself\u001b[0m\u001b[0;34m.\u001b[0m\u001b[0m_A\u001b[0m \u001b[0;32mis\u001b[0m \u001b[0;32mNone\u001b[0m\u001b[0;34m:\u001b[0m\u001b[0;34m\u001b[0m\u001b[0m\n\u001b[1;32m    344\u001b[0m             \u001b[0;32mraise\u001b[0m \u001b[0mTypeError\u001b[0m\u001b[0;34m(\u001b[0m\u001b[0;34m'You must first set_array for mappable'\u001b[0m\u001b[0;34m)\u001b[0m\u001b[0;34m\u001b[0m\u001b[0m\n\u001b[0;32m--> 345\u001b[0;31m         \u001b[0mself\u001b[0m\u001b[0;34m.\u001b[0m\u001b[0mnorm\u001b[0m\u001b[0;34m.\u001b[0m\u001b[0mautoscale_None\u001b[0m\u001b[0;34m(\u001b[0m\u001b[0mself\u001b[0m\u001b[0;34m.\u001b[0m\u001b[0m_A\u001b[0m\u001b[0;34m)\u001b[0m\u001b[0;34m\u001b[0m\u001b[0m\n\u001b[0m\u001b[1;32m    346\u001b[0m         \u001b[0mself\u001b[0m\u001b[0;34m.\u001b[0m\u001b[0mchanged\u001b[0m\u001b[0;34m(\u001b[0m\u001b[0;34m)\u001b[0m\u001b[0;34m\u001b[0m\u001b[0m\n\u001b[1;32m    347\u001b[0m \u001b[0;34m\u001b[0m\u001b[0m\n",
      "\u001b[0;32m~/anaconda/envs/py36/lib/python3.6/site-packages/matplotlib/colors.py\u001b[0m in \u001b[0;36mautoscale_None\u001b[0;34m(self, A)\u001b[0m\n\u001b[1;32m    887\u001b[0m         \u001b[0;34m' autoscale only None-valued vmin or vmax'\u001b[0m\u001b[0;34m\u001b[0m\u001b[0m\n\u001b[1;32m    888\u001b[0m         \u001b[0;32mif\u001b[0m \u001b[0mself\u001b[0m\u001b[0;34m.\u001b[0m\u001b[0mvmin\u001b[0m \u001b[0;32mis\u001b[0m \u001b[0;32mNone\u001b[0m \u001b[0;32mand\u001b[0m \u001b[0mnp\u001b[0m\u001b[0;34m.\u001b[0m\u001b[0msize\u001b[0m\u001b[0;34m(\u001b[0m\u001b[0mA\u001b[0m\u001b[0;34m)\u001b[0m \u001b[0;34m>\u001b[0m \u001b[0;36m0\u001b[0m\u001b[0;34m:\u001b[0m\u001b[0;34m\u001b[0m\u001b[0m\n\u001b[0;32m--> 889\u001b[0;31m             \u001b[0mself\u001b[0m\u001b[0;34m.\u001b[0m\u001b[0mvmin\u001b[0m \u001b[0;34m=\u001b[0m \u001b[0mma\u001b[0m\u001b[0;34m.\u001b[0m\u001b[0mmin\u001b[0m\u001b[0;34m(\u001b[0m\u001b[0mA\u001b[0m\u001b[0;34m)\u001b[0m\u001b[0;34m\u001b[0m\u001b[0m\n\u001b[0m\u001b[1;32m    890\u001b[0m         \u001b[0;32mif\u001b[0m \u001b[0mself\u001b[0m\u001b[0;34m.\u001b[0m\u001b[0mvmax\u001b[0m \u001b[0;32mis\u001b[0m \u001b[0;32mNone\u001b[0m \u001b[0;32mand\u001b[0m \u001b[0mnp\u001b[0m\u001b[0;34m.\u001b[0m\u001b[0msize\u001b[0m\u001b[0;34m(\u001b[0m\u001b[0mA\u001b[0m\u001b[0;34m)\u001b[0m \u001b[0;34m>\u001b[0m \u001b[0;36m0\u001b[0m\u001b[0;34m:\u001b[0m\u001b[0;34m\u001b[0m\u001b[0m\n\u001b[1;32m    891\u001b[0m             \u001b[0mself\u001b[0m\u001b[0;34m.\u001b[0m\u001b[0mvmax\u001b[0m \u001b[0;34m=\u001b[0m \u001b[0mma\u001b[0m\u001b[0;34m.\u001b[0m\u001b[0mmax\u001b[0m\u001b[0;34m(\u001b[0m\u001b[0mA\u001b[0m\u001b[0;34m)\u001b[0m\u001b[0;34m\u001b[0m\u001b[0m\n",
      "\u001b[0;32m~/anaconda/envs/py36/lib/python3.6/site-packages/numpy/ma/core.py\u001b[0m in \u001b[0;36mmin\u001b[0;34m(obj, axis, out, fill_value, keepdims)\u001b[0m\n\u001b[1;32m   6445\u001b[0m         \u001b[0;31m# fill_value argument\u001b[0m\u001b[0;34m\u001b[0m\u001b[0;34m\u001b[0m\u001b[0m\n\u001b[1;32m   6446\u001b[0m         return asanyarray(obj).min(axis=axis, fill_value=fill_value,\n\u001b[0;32m-> 6447\u001b[0;31m                                    out=out, **kwargs)\n\u001b[0m\u001b[1;32m   6448\u001b[0m \u001b[0mmin\u001b[0m\u001b[0;34m.\u001b[0m\u001b[0m__doc__\u001b[0m \u001b[0;34m=\u001b[0m \u001b[0mMaskedArray\u001b[0m\u001b[0;34m.\u001b[0m\u001b[0mmin\u001b[0m\u001b[0;34m.\u001b[0m\u001b[0m__doc__\u001b[0m\u001b[0;34m\u001b[0m\u001b[0m\n\u001b[1;32m   6449\u001b[0m \u001b[0;34m\u001b[0m\u001b[0m\n",
      "\u001b[0;32m~/anaconda/envs/py36/lib/python3.6/site-packages/numpy/ma/core.py\u001b[0m in \u001b[0;36mmin\u001b[0;34m(self, axis, out, fill_value, keepdims)\u001b[0m\n\u001b[1;32m   5592\u001b[0m         \u001b[0;32mif\u001b[0m \u001b[0mout\u001b[0m \u001b[0;32mis\u001b[0m \u001b[0;32mNone\u001b[0m\u001b[0;34m:\u001b[0m\u001b[0;34m\u001b[0m\u001b[0m\n\u001b[1;32m   5593\u001b[0m             result = self.filled(fill_value).min(\n\u001b[0;32m-> 5594\u001b[0;31m                 axis=axis, out=out, **kwargs).view(type(self))\n\u001b[0m\u001b[1;32m   5595\u001b[0m             \u001b[0;32mif\u001b[0m \u001b[0mresult\u001b[0m\u001b[0;34m.\u001b[0m\u001b[0mndim\u001b[0m\u001b[0;34m:\u001b[0m\u001b[0;34m\u001b[0m\u001b[0m\n\u001b[1;32m   5596\u001b[0m                 \u001b[0;31m# Set the mask\u001b[0m\u001b[0;34m\u001b[0m\u001b[0;34m\u001b[0m\u001b[0m\n",
      "\u001b[0;31mAttributeError\u001b[0m: 'str' object has no attribute 'view'"
     ]
    },
    {
     "data": {
      "image/png": "[encoded data removed]",
      "text/plain": [
       "<matplotlib.figure.Figure at 0x117ef1cc0>"
      ]
     },
     "metadata": {},
     "output_type": "display_data"
    }
   ],
   "source": [
    "h = .02  # step size in the mesh\n",
    "\n",
    "# Create color maps\n",
    "cmap_light = ListedColormap(['#FFAAAA', '#AAFFAA', '#AAAAFF'])\n",
    "cmap_bold = ListedColormap(['#FF0000', '#00FF00', '#0000FF'])\n",
    "\n",
    "for weights in ['uniform', 'distance']:\n",
    "    # we create an instance of Neighbours Classifier and fit the data.\n",
    "    clf = neighbors.KNeighborsClassifier(n_neighbors, weights=weights)\n",
    "    clf.fit(X, y)\n",
    "\n",
    "    # Plot the decision boundary. For that, we will assign a color to each\n",
    "    # point in the mesh [x_min, x_max]x[y_min, y_max].\n",
    "    x_min, x_max = X[:, 0].min() - 1, X[:, 0].max() + 1\n",
    "    y_min, y_max = X[:, 1].min() - 1, X[:, 1].max() + 1\n",
    "    xx, yy = np.meshgrid(np.arange(x_min, x_max, h),\n",
    "                         np.arange(y_min, y_max, h))\n",
    "    Z = clf.predict(np.c_[xx.ravel(), yy.ravel()])\n",
    "\n",
    "    # Put the result into a color plot\n",
    "    Z = Z.reshape(xx.shape)\n",
    "    plt.figure()\n",
    "    plt.pcolormesh(xx, yy, Z, cmap=cmap_light)\n",
    "\n",
    "    # Plot also the training points\n",
    "    plt.scatter(X[:, 0], X[:, 1], c=y, cmap=cmap_bold,\n",
    "                edgecolor='k', s=20)\n",
    "    plt.xlim(xx.min(), xx.max())\n",
    "    plt.ylim(yy.min(), yy.max())\n",
    "    plt.title(\"3-Class classification (k = %i, weights = '%s')\"\n",
    "              % (n_neighbors, weights))"
   ]
  },
  {
   "cell_type": "code",
   "execution_count": null,
   "metadata": {
    "collapsed": true
   },
   "outputs": [],
   "source": []
  }
 ],
 "metadata": {
  "_draft": {
   "nbviewer_url": "https://gist.github.com/e88f510346fda8e90c995735c3241054"
  },
  "gist": {
   "data": {
    "description": "Trying geopandas to assign NERC regions",
    "public": false
   },
   "id": "e88f510346fda8e90c995735c3241054"
  },
  "kernelspec": {
   "display_name": "Python 3",
   "language": "python",
   "name": "python3"
  },
  "language_info": {
   "codemirror_mode": {
    "name": "ipython",
    "version": 3
   },
   "file_extension": ".py",
   "mimetype": "text/x-python",
   "name": "python",
   "nbconvert_exporter": "python",
   "pygments_lexer": "ipython3",
   "version": "3.6.2"
  },
  "varInspector": {
   "cols": {
    "lenName": 16,
    "lenType": 16,
    "lenVar": 40
   },
   "kernels_config": {
    "python": {
     "delete_cmd_postfix": "",
     "delete_cmd_prefix": "del ",
     "library": "var_list.py",
     "varRefreshCmd": "print(var_dic_list())"
    },
    "r": {
     "delete_cmd_postfix": ") ",
     "delete_cmd_prefix": "rm(",
     "library": "var_list.r",
     "varRefreshCmd": "cat(var_dic_list()) "
    }
   },
   "types_to_exclude": [
    "module",
    "function",
    "builtin_function_or_method",
    "instance",
    "_Feature"
   ],
   "window_display": false
  }
 },
 "nbformat": 4,
 "nbformat_minor": 2
}
