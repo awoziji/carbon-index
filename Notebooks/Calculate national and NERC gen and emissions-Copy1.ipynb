{
 "cells": [
  {
   "cell_type": "markdown",
   "metadata": {},
   "source": [
    "# Combine national and NERC data\n",
    "Take the various file (EIA facilities, EIA state-level totals, EPA emissions, etc) and combine them to determine total generation, CO₂ emissions, etc nationally and at NERC regions.\n",
    "\n",
    "## Instructions\n",
    "Make sure the `file_date` parameter below is set to whatever value you would like appended to file names.\n",
    "\n",
    "In **Calculate the extra gen/fuel consumption at the state levels** add years after 2017 in the `for` loop if needed.\n",
    "\n",
    "In **Fraction of estimated gen/fuels in each NERC region** update the years that plant ids for annual plants are fetched from EIA-923 files.\n",
    "\n",
    "The entire notebook can be run at once using *Run All Cells*"
   ]
  },
  {
   "cell_type": "code",
   "execution_count": 1,
   "metadata": {
    "ExecuteTime": {
     "end_time": "2017-11-06T16:59:58.123948Z",
     "start_time": "2017-11-06T16:59:57.181973Z"
    },
    "collapsed": true
   },
   "outputs": [],
   "source": [
    "import pandas as pd\n",
    "import numpy as np\n",
    "import os\n",
    "from os.path import join\n",
    "import sys\n",
    "import json\n",
    "\n",
    "idx = pd.IndexSlice\n",
    "cwd = os.getcwd()\n",
    "data_path = join(cwd, '..', 'Data storage')"
   ]
  },
  {
   "cell_type": "markdown",
   "metadata": {},
   "source": [
    "### Date string for filenames\n",
    "This will be inserted into all filenames (reading and writing)"
   ]
  },
  {
   "cell_type": "code",
   "execution_count": 2,
   "metadata": {},
   "outputs": [],
   "source": [
    "file_date = '2019-02-26'"
   ]
  },
  {
   "cell_type": "code",
   "execution_count": 3,
   "metadata": {
    "ExecuteTime": {
     "end_time": "2017-11-06T16:59:59.331142Z",
     "start_time": "2017-11-06T16:59:59.317352Z"
    }
   },
   "outputs": [
    {
     "name": "stdout",
     "output_type": "stream",
     "text": [
      "pandas      0.22.0\n",
      "numpy       1.14.5\n",
      "json        2.0.9\n",
      "CPython 3.6.5\n",
      "IPython 6.4.0\n"
     ]
    }
   ],
   "source": [
    "%load_ext watermark\n",
    "%watermark -iv -v"
   ]
  },
  {
   "cell_type": "code",
   "execution_count": 4,
   "metadata": {
    "ExecuteTime": {
     "end_time": "2017-11-06T17:00:18.821185Z",
     "start_time": "2017-11-06T17:00:18.788505Z"
    },
    "collapsed": true
   },
   "outputs": [],
   "source": [
    "# Load the \"autoreload\" extension\n",
    "%load_ext autoreload\n",
    "\n",
    "# always reload modules marked with \"%aimport\"\n",
    "%autoreload 1"
   ]
  },
  {
   "cell_type": "code",
   "execution_count": 5,
   "metadata": {
    "ExecuteTime": {
     "end_time": "2017-11-06T17:00:18.827565Z",
     "start_time": "2017-11-06T17:00:18.822931Z"
    },
    "collapsed": true
   },
   "outputs": [],
   "source": [
    "# add the 'src' directory as one where we can import modules\n",
    "src_dir = join(os.getcwd(), os.pardir, 'src')\n",
    "sys.path.append(src_dir)"
   ]
  },
  {
   "cell_type": "code",
   "execution_count": 6,
   "metadata": {
    "ExecuteTime": {
     "end_time": "2017-11-06T17:00:18.846980Z",
     "start_time": "2017-11-06T17:00:18.830372Z"
    },
    "collapsed": true
   },
   "outputs": [],
   "source": [
    "%aimport Data.make_data\n",
    "from Data.make_data import states_in_nerc\n",
    "%aimport Analysis.index\n",
    "from Analysis.index import facility_emission_gen, group_facility_data, add_quarter\n",
    "%aimport Analysis.index\n",
    "from Analysis.index import g2lb, change_since_2005, generation_index\n",
    "%aimport Analysis.index\n",
    "from Analysis.index import facility_co2, adjust_epa_emissions, group_fuel_cats\n",
    "%aimport util.utils\n",
    "from util.utils import rename_cols, add_facility_location"
   ]
  },
  {
   "cell_type": "markdown",
   "metadata": {},
   "source": [
    "## Load data"
   ]
  },
  {
   "cell_type": "code",
   "execution_count": 7,
   "metadata": {
    "ExecuteTime": {
     "end_time": "2017-11-06T17:00:25.783044Z",
     "start_time": "2017-11-06T17:00:18.849846Z"
    },
    "collapsed": true
   },
   "outputs": [],
   "source": [
    "cwd = os.getcwd()\n",
    "path = join(data_path, 'Derived data',\n",
    "            'Facility gen fuels and CO2 {}.csv'.format(file_date))\n",
    "eia_fac = pd.read_csv(path)"
   ]
  },
  {
   "cell_type": "code",
   "execution_count": 8,
   "metadata": {
    "ExecuteTime": {
     "end_time": "2017-11-06T17:00:26.096215Z",
     "start_time": "2017-11-06T17:00:25.785006Z"
    },
    "collapsed": true
   },
   "outputs": [],
   "source": [
    "rename_cols(eia_fac)"
   ]
  },
  {
   "cell_type": "code",
   "execution_count": 9,
   "metadata": {
    "ExecuteTime": {
     "end_time": "2017-11-06T17:00:26.526228Z",
     "start_time": "2017-11-06T17:00:26.144542Z"
    },
    "collapsed": true
   },
   "outputs": [],
   "source": [
    "path = join(data_path, 'Derived data',\n",
    "            'Monthly EPA emissions {}.csv'.format(file_date))\n",
    "epa = pd.read_csv(path)\n",
    "epa.rename(columns={'orispl': 'plant id',\n",
    "                    'co2mass_kg': 'co2_mass (kg)',\n",
    "                    'gload_mwh': 'gload (mw)',\n",
    "                    'heatinput_mmbtu': 'heat_input (mmbtu)'}, inplace=True)"
   ]
  },
  {
   "cell_type": "markdown",
   "metadata": {},
   "source": [
    "## Adjusted facility emissions and generation\n",
    "I have both the state and custom fuel categories here, but am only using the state fuel categories for now."
   ]
  },
  {
   "cell_type": "code",
   "execution_count": 10,
   "metadata": {
    "ExecuteTime": {
     "end_time": "2017-11-06T17:00:26.546818Z",
     "start_time": "2017-11-06T17:00:26.528478Z"
    },
    "collapsed": true
   },
   "outputs": [],
   "source": [
    "fuel_cat_folder = join(data_path, 'Fuel categories')\n",
    "state_cats_path = join(fuel_cat_folder, 'State_facility.json')\n",
    "\n",
    "with open(state_cats_path, 'r') as f:\n",
    "    state_fuel_cat = json.load(f)\n",
    "    \n",
    "custom_cats_path = join(fuel_cat_folder, 'Custom_results.json')\n",
    "with open(custom_cats_path, 'r') as f:\n",
    "    custom_fuel_cat = json.load(f)"
   ]
  },
  {
   "cell_type": "code",
   "execution_count": 11,
   "metadata": {
    "ExecuteTime": {
     "end_time": "2017-11-06T17:00:35.435401Z",
     "start_time": "2017-11-06T17:00:28.197939Z"
    }
   },
   "outputs": [
    {
     "name": "stdout",
     "output_type": "stream",
     "text": [
      "Renaming columns\n",
      "Grouping facilities\n",
      "Adjusting EPA emissions\n",
      "Caculating CO2\n",
      "Gen/fuels to state categories\n"
     ]
    }
   ],
   "source": [
    "co2, gen_fuels_state = facility_emission_gen(eia_facility=eia_fac, epa=epa,\n",
    "                                              state_fuel_cat=state_fuel_cat,\n",
    "                                              custom_fuel_cat=custom_fuel_cat,\n",
    "                                              export_state_cats=True)"
   ]
  },
  {
   "cell_type": "markdown",
   "metadata": {},
   "source": [
    "## Extra gen/fuels from non-reporting"
   ]
  },
  {
   "cell_type": "code",
   "execution_count": 12,
   "metadata": {
    "ExecuteTime": {
     "end_time": "2017-11-06T17:00:52.946442Z",
     "start_time": "2017-11-06T17:00:52.942136Z"
    },
    "collapsed": true
   },
   "outputs": [],
   "source": [
    "%aimport Analysis.index\n",
    "from Analysis.index import extra_emissions_gen"
   ]
  },
  {
   "cell_type": "markdown",
   "metadata": {},
   "source": [
    "Total EIA generation/fuel consumption and emission factors"
   ]
  },
  {
   "cell_type": "code",
   "execution_count": 14,
   "metadata": {
    "ExecuteTime": {
     "end_time": "2017-11-06T17:00:55.398938Z",
     "start_time": "2017-11-06T17:00:55.366360Z"
    },
    "collapsed": true
   },
   "outputs": [],
   "source": [
    "cwd = os.getcwd()\n",
    "path = join(data_path, 'Derived data',\n",
    "            'EIA country-wide gen fuel CO2 {}.csv'.format(file_date))\n",
    "eia_total = pd.read_csv(path)\n",
    "\n",
    "path = join(data_path,\n",
    "            'Final emission factors.csv')\n",
    "ef = pd.read_csv(path, index_col=0)"
   ]
  },
  {
   "cell_type": "markdown",
   "metadata": {},
   "source": [
    "### Calculate CO₂, generation, and fuel consumption that is not captured by facilities"
   ]
  },
  {
   "cell_type": "code",
   "execution_count": 15,
   "metadata": {
    "ExecuteTime": {
     "end_time": "2017-11-06T17:01:02.921291Z",
     "start_time": "2017-11-06T17:01:02.438735Z"
    },
    "collapsed": true
   },
   "outputs": [],
   "source": [
    "extra_co2, extra_gen_fuel = extra_emissions_gen(gen_fuels_state, eia_total, ef)"
   ]
  },
  {
   "cell_type": "markdown",
   "metadata": {},
   "source": [
    "## Total CO₂ (national)\n",
    "Combine adjusted CO₂ at facilities and CO₂ from fuel consumption that is not captured by facility data."
   ]
  },
  {
   "cell_type": "code",
   "execution_count": 16,
   "metadata": {
    "ExecuteTime": {
     "end_time": "2017-11-06T17:01:14.842434Z",
     "start_time": "2017-11-06T17:01:14.679060Z"
    },
    "collapsed": true
   },
   "outputs": [],
   "source": [
    "facility_co2 = co2.groupby(['year', 'month']).sum()"
   ]
  },
  {
   "cell_type": "code",
   "execution_count": 17,
   "metadata": {
    "ExecuteTime": {
     "end_time": "2017-11-06T17:01:28.030583Z",
     "start_time": "2017-11-06T17:01:28.023099Z"
    },
    "collapsed": true
   },
   "outputs": [],
   "source": [
    "national_co2 = (facility_co2.loc[:, 'final co2 (kg)']\n",
    "                + extra_co2.loc[:, 'elec fuel co2 (kg)']\n",
    "                           .groupby(['year', 'month']).sum())\n",
    "national_co2.name = 'final co2 (kg)'"
   ]
  },
  {
   "cell_type": "markdown",
   "metadata": {},
   "source": [
    "## National Index and gen by fuels"
   ]
  },
  {
   "cell_type": "markdown",
   "metadata": {},
   "source": [
    "### Total national generation (all fuels)\n",
    "Add generation/fuel consumption reported by facilities (with state-level fuel codes) and extra generation/fuel consumption (which also uses state-level fuel codes)."
   ]
  },
  {
   "cell_type": "code",
   "execution_count": 18,
   "metadata": {},
   "outputs": [
    {
     "data": {
      "text/html": [
       "<div>\n",
       "<style scoped>\n",
       "    .dataframe tbody tr th:only-of-type {\n",
       "        vertical-align: middle;\n",
       "    }\n",
       "\n",
       "    .dataframe tbody tr th {\n",
       "        vertical-align: top;\n",
       "    }\n",
       "\n",
       "    .dataframe thead th {\n",
       "        text-align: right;\n",
       "    }\n",
       "</style>\n",
       "<table border=\"1\" class=\"dataframe\">\n",
       "  <thead>\n",
       "    <tr style=\"text-align: right;\">\n",
       "      <th></th>\n",
       "      <th></th>\n",
       "      <th></th>\n",
       "      <th>plant id</th>\n",
       "      <th>total fuel (mmbtu)</th>\n",
       "      <th>generation (mwh)</th>\n",
       "      <th>elec fuel (mmbtu)</th>\n",
       "      <th>lat</th>\n",
       "      <th>lon</th>\n",
       "      <th>quarter</th>\n",
       "      <th>all fuel fossil co2 (kg)</th>\n",
       "      <th>elec fuel fossil co2 (kg)</th>\n",
       "      <th>all fuel total co2 (kg)</th>\n",
       "      <th>elec fuel total co2 (kg)</th>\n",
       "    </tr>\n",
       "    <tr>\n",
       "      <th>type</th>\n",
       "      <th>year</th>\n",
       "      <th>month</th>\n",
       "      <th></th>\n",
       "      <th></th>\n",
       "      <th></th>\n",
       "      <th></th>\n",
       "      <th></th>\n",
       "      <th></th>\n",
       "      <th></th>\n",
       "      <th></th>\n",
       "      <th></th>\n",
       "      <th></th>\n",
       "      <th></th>\n",
       "    </tr>\n",
       "  </thead>\n",
       "  <tbody>\n",
       "    <tr>\n",
       "      <th rowspan=\"5\" valign=\"top\">COW</th>\n",
       "      <th rowspan=\"5\" valign=\"top\">2001</th>\n",
       "      <th>1</th>\n",
       "      <td>8550284</td>\n",
       "      <td>1.848875e+09</td>\n",
       "      <td>1.762754e+08</td>\n",
       "      <td>1.810304e+09</td>\n",
       "      <td>25142.050268</td>\n",
       "      <td>-53175.8593</td>\n",
       "      <td>645</td>\n",
       "      <td>1.755757e+11</td>\n",
       "      <td>1.719629e+11</td>\n",
       "      <td>1.755757e+11</td>\n",
       "      <td>1.719629e+11</td>\n",
       "    </tr>\n",
       "    <tr>\n",
       "      <th>2</th>\n",
       "      <td>8550284</td>\n",
       "      <td>1.568672e+09</td>\n",
       "      <td>1.488241e+08</td>\n",
       "      <td>1.536017e+09</td>\n",
       "      <td>25142.050268</td>\n",
       "      <td>-53175.8593</td>\n",
       "      <td>645</td>\n",
       "      <td>1.490065e+11</td>\n",
       "      <td>1.459476e+11</td>\n",
       "      <td>1.490065e+11</td>\n",
       "      <td>1.459476e+11</td>\n",
       "    </tr>\n",
       "    <tr>\n",
       "      <th>3</th>\n",
       "      <td>8550284</td>\n",
       "      <td>1.626246e+09</td>\n",
       "      <td>1.541157e+08</td>\n",
       "      <td>1.591151e+09</td>\n",
       "      <td>25142.050268</td>\n",
       "      <td>-53175.8593</td>\n",
       "      <td>645</td>\n",
       "      <td>1.544286e+11</td>\n",
       "      <td>1.511424e+11</td>\n",
       "      <td>1.544286e+11</td>\n",
       "      <td>1.511424e+11</td>\n",
       "    </tr>\n",
       "    <tr>\n",
       "      <th>4</th>\n",
       "      <td>8550284</td>\n",
       "      <td>1.471568e+09</td>\n",
       "      <td>1.398943e+08</td>\n",
       "      <td>1.439361e+09</td>\n",
       "      <td>25142.050268</td>\n",
       "      <td>-53175.8593</td>\n",
       "      <td>1290</td>\n",
       "      <td>1.397181e+11</td>\n",
       "      <td>1.367018e+11</td>\n",
       "      <td>1.397181e+11</td>\n",
       "      <td>1.367018e+11</td>\n",
       "    </tr>\n",
       "    <tr>\n",
       "      <th>5</th>\n",
       "      <td>8498259</td>\n",
       "      <td>1.595267e+09</td>\n",
       "      <td>1.507916e+08</td>\n",
       "      <td>1.563698e+09</td>\n",
       "      <td>25147.539168</td>\n",
       "      <td>-53176.2288</td>\n",
       "      <td>1290</td>\n",
       "      <td>1.515424e+11</td>\n",
       "      <td>1.485856e+11</td>\n",
       "      <td>1.515424e+11</td>\n",
       "      <td>1.485856e+11</td>\n",
       "    </tr>\n",
       "  </tbody>\n",
       "</table>\n",
       "</div>"
      ],
      "text/plain": [
       "                 plant id  total fuel (mmbtu)  generation (mwh)  \\\n",
       "type year month                                                   \n",
       "COW  2001 1       8550284        1.848875e+09      1.762754e+08   \n",
       "          2       8550284        1.568672e+09      1.488241e+08   \n",
       "          3       8550284        1.626246e+09      1.541157e+08   \n",
       "          4       8550284        1.471568e+09      1.398943e+08   \n",
       "          5       8498259        1.595267e+09      1.507916e+08   \n",
       "\n",
       "                 elec fuel (mmbtu)           lat         lon  quarter  \\\n",
       "type year month                                                         \n",
       "COW  2001 1           1.810304e+09  25142.050268 -53175.8593      645   \n",
       "          2           1.536017e+09  25142.050268 -53175.8593      645   \n",
       "          3           1.591151e+09  25142.050268 -53175.8593      645   \n",
       "          4           1.439361e+09  25142.050268 -53175.8593     1290   \n",
       "          5           1.563698e+09  25147.539168 -53176.2288     1290   \n",
       "\n",
       "                 all fuel fossil co2 (kg)  elec fuel fossil co2 (kg)  \\\n",
       "type year month                                                        \n",
       "COW  2001 1                  1.755757e+11               1.719629e+11   \n",
       "          2                  1.490065e+11               1.459476e+11   \n",
       "          3                  1.544286e+11               1.511424e+11   \n",
       "          4                  1.397181e+11               1.367018e+11   \n",
       "          5                  1.515424e+11               1.485856e+11   \n",
       "\n",
       "                 all fuel total co2 (kg)  elec fuel total co2 (kg)  \n",
       "type year month                                                     \n",
       "COW  2001 1                 1.755757e+11              1.719629e+11  \n",
       "          2                 1.490065e+11              1.459476e+11  \n",
       "          3                 1.544286e+11              1.511424e+11  \n",
       "          4                 1.397181e+11              1.367018e+11  \n",
       "          5                 1.515424e+11              1.485856e+11  "
      ]
     },
     "execution_count": 18,
     "metadata": {},
     "output_type": "execute_result"
    }
   ],
   "source": [
    "gen_fuels_state.groupby(['type', 'year', 'month']).sum().head()"
   ]
  },
  {
   "cell_type": "code",
   "execution_count": 19,
   "metadata": {
    "ExecuteTime": {
     "end_time": "2017-11-06T17:01:40.579779Z",
     "start_time": "2017-11-06T17:01:40.407271Z"
    },
    "collapsed": true
   },
   "outputs": [],
   "source": [
    "national_gen = (gen_fuels_state\n",
    "                .groupby(['type', 'year', 'month'])['generation (mwh)'].sum()\n",
    "                .add(extra_gen_fuel['generation (mwh)'], fill_value=0))"
   ]
  },
  {
   "cell_type": "markdown",
   "metadata": {},
   "source": [
    "#### Regroup generation from state codes to my custom fuel codes"
   ]
  },
  {
   "cell_type": "code",
   "execution_count": 20,
   "metadata": {
    "ExecuteTime": {
     "end_time": "2017-11-06T17:01:50.832843Z",
     "start_time": "2017-11-06T17:01:50.784218Z"
    },
    "collapsed": true
   },
   "outputs": [],
   "source": [
    "national_gen = group_fuel_cats(national_gen.reset_index(), custom_fuel_cat,\n",
    "                               'type', 'fuel category').set_index(['fuel category', 'year', 'month'])"
   ]
  },
  {
   "cell_type": "code",
   "execution_count": 21,
   "metadata": {
    "ExecuteTime": {
     "end_time": "2017-11-06T17:01:53.709009Z",
     "start_time": "2017-11-06T17:01:53.695991Z"
    }
   },
   "outputs": [],
   "source": [
    "total_gen = national_gen.groupby(['year', 'month']).sum()"
   ]
  },
  {
   "cell_type": "markdown",
   "metadata": {},
   "source": [
    "### National Index"
   ]
  },
  {
   "cell_type": "code",
   "execution_count": 22,
   "metadata": {},
   "outputs": [],
   "source": [
    "national_index = total_gen.copy()\n",
    "national_index['final co2 (kg)'] = national_co2\n",
    "national_index['index (g/kwh)'] = (national_index['final co2 (kg)']\n",
    "                                   / national_index['generation (mwh)'])\n",
    "national_index.reset_index(inplace=True)\n",
    "add_quarter(national_index)\n",
    "g2lb(national_index)\n",
    "change_since_2005(national_index)"
   ]
  },
  {
   "cell_type": "code",
   "execution_count": 23,
   "metadata": {},
   "outputs": [
    {
     "data": {
      "text/html": [
       "<div>\n",
       "<style scoped>\n",
       "    .dataframe tbody tr th:only-of-type {\n",
       "        vertical-align: middle;\n",
       "    }\n",
       "\n",
       "    .dataframe tbody tr th {\n",
       "        vertical-align: top;\n",
       "    }\n",
       "\n",
       "    .dataframe thead th {\n",
       "        text-align: right;\n",
       "    }\n",
       "</style>\n",
       "<table border=\"1\" class=\"dataframe\">\n",
       "  <thead>\n",
       "    <tr style=\"text-align: right;\">\n",
       "      <th></th>\n",
       "      <th>year</th>\n",
       "      <th>month</th>\n",
       "      <th>generation (mwh)</th>\n",
       "      <th>final co2 (kg)</th>\n",
       "      <th>index (g/kwh)</th>\n",
       "      <th>datetime</th>\n",
       "      <th>quarter</th>\n",
       "      <th>index (lb/mwh)</th>\n",
       "      <th>change since 2005</th>\n",
       "    </tr>\n",
       "  </thead>\n",
       "  <tbody>\n",
       "    <tr>\n",
       "      <th>0</th>\n",
       "      <td>2001</td>\n",
       "      <td>1</td>\n",
       "      <td>3.324839e+08</td>\n",
       "      <td>2.145910e+11</td>\n",
       "      <td>645.417791</td>\n",
       "      <td>2001-01-01</td>\n",
       "      <td>1</td>\n",
       "      <td>1422.888061</td>\n",
       "      <td>0.077265</td>\n",
       "    </tr>\n",
       "    <tr>\n",
       "      <th>1</th>\n",
       "      <td>2001</td>\n",
       "      <td>2</td>\n",
       "      <td>2.829402e+08</td>\n",
       "      <td>1.799390e+11</td>\n",
       "      <td>635.961238</td>\n",
       "      <td>2001-02-01</td>\n",
       "      <td>1</td>\n",
       "      <td>1402.040145</td>\n",
       "      <td>0.061481</td>\n",
       "    </tr>\n",
       "    <tr>\n",
       "      <th>2</th>\n",
       "      <td>2001</td>\n",
       "      <td>3</td>\n",
       "      <td>3.007065e+08</td>\n",
       "      <td>1.887118e+11</td>\n",
       "      <td>627.561201</td>\n",
       "      <td>2001-03-01</td>\n",
       "      <td>1</td>\n",
       "      <td>1383.521424</td>\n",
       "      <td>0.047461</td>\n",
       "    </tr>\n",
       "    <tr>\n",
       "      <th>3</th>\n",
       "      <td>2001</td>\n",
       "      <td>4</td>\n",
       "      <td>2.780781e+08</td>\n",
       "      <td>1.744797e+11</td>\n",
       "      <td>627.448373</td>\n",
       "      <td>2001-04-01</td>\n",
       "      <td>2</td>\n",
       "      <td>1383.272683</td>\n",
       "      <td>0.047272</td>\n",
       "    </tr>\n",
       "    <tr>\n",
       "      <th>4</th>\n",
       "      <td>2001</td>\n",
       "      <td>5</td>\n",
       "      <td>3.004857e+08</td>\n",
       "      <td>1.887982e+11</td>\n",
       "      <td>628.310206</td>\n",
       "      <td>2001-05-01</td>\n",
       "      <td>2</td>\n",
       "      <td>1385.172680</td>\n",
       "      <td>0.048711</td>\n",
       "    </tr>\n",
       "  </tbody>\n",
       "</table>\n",
       "</div>"
      ],
      "text/plain": [
       "   year  month  generation (mwh)  final co2 (kg)  index (g/kwh)   datetime  \\\n",
       "0  2001      1      3.324839e+08    2.145910e+11     645.417791 2001-01-01   \n",
       "1  2001      2      2.829402e+08    1.799390e+11     635.961238 2001-02-01   \n",
       "2  2001      3      3.007065e+08    1.887118e+11     627.561201 2001-03-01   \n",
       "3  2001      4      2.780781e+08    1.744797e+11     627.448373 2001-04-01   \n",
       "4  2001      5      3.004857e+08    1.887982e+11     628.310206 2001-05-01   \n",
       "\n",
       "   quarter  index (lb/mwh)  change since 2005  \n",
       "0        1     1422.888061           0.077265  \n",
       "1        1     1402.040145           0.061481  \n",
       "2        1     1383.521424           0.047461  \n",
       "3        2     1383.272683           0.047272  \n",
       "4        2     1385.172680           0.048711  "
      ]
     },
     "execution_count": 23,
     "metadata": {},
     "output_type": "execute_result"
    }
   ],
   "source": [
    "national_index.head()"
   ]
  },
  {
   "cell_type": "code",
   "execution_count": 24,
   "metadata": {},
   "outputs": [],
   "source": [
    "national_index_annual = national_index.groupby('year', as_index=False).sum()\n",
    "national_index_annual['index (g/kwh)'] = (national_index_annual['final co2 (kg)'] \n",
    "                         / national_index_annual['generation (mwh)'])\n",
    "g2lb(national_index_annual)\n",
    "change_since_2005(national_index_annual)"
   ]
  },
  {
   "cell_type": "code",
   "execution_count": 25,
   "metadata": {},
   "outputs": [
    {
     "data": {
      "text/html": [
       "<div>\n",
       "<style scoped>\n",
       "    .dataframe tbody tr th:only-of-type {\n",
       "        vertical-align: middle;\n",
       "    }\n",
       "\n",
       "    .dataframe tbody tr th {\n",
       "        vertical-align: top;\n",
       "    }\n",
       "\n",
       "    .dataframe thead th {\n",
       "        text-align: right;\n",
       "    }\n",
       "</style>\n",
       "<table border=\"1\" class=\"dataframe\">\n",
       "  <thead>\n",
       "    <tr style=\"text-align: right;\">\n",
       "      <th></th>\n",
       "      <th>year</th>\n",
       "      <th>month</th>\n",
       "      <th>generation (mwh)</th>\n",
       "      <th>final co2 (kg)</th>\n",
       "      <th>index (g/kwh)</th>\n",
       "      <th>quarter</th>\n",
       "      <th>index (lb/mwh)</th>\n",
       "      <th>change since 2005</th>\n",
       "    </tr>\n",
       "  </thead>\n",
       "  <tbody>\n",
       "    <tr>\n",
       "      <th>0</th>\n",
       "      <td>2001</td>\n",
       "      <td>78</td>\n",
       "      <td>3.736520e+09</td>\n",
       "      <td>2.353860e+12</td>\n",
       "      <td>629.960437</td>\n",
       "      <td>30</td>\n",
       "      <td>1388.810778</td>\n",
       "      <td>0.051465</td>\n",
       "    </tr>\n",
       "    <tr>\n",
       "      <th>1</th>\n",
       "      <td>2002</td>\n",
       "      <td>78</td>\n",
       "      <td>3.858190e+09</td>\n",
       "      <td>2.373896e+12</td>\n",
       "      <td>615.287481</td>\n",
       "      <td>30</td>\n",
       "      <td>1356.462780</td>\n",
       "      <td>0.026975</td>\n",
       "    </tr>\n",
       "    <tr>\n",
       "      <th>2</th>\n",
       "      <td>2003</td>\n",
       "      <td>78</td>\n",
       "      <td>3.883111e+09</td>\n",
       "      <td>2.401071e+12</td>\n",
       "      <td>618.336818</td>\n",
       "      <td>30</td>\n",
       "      <td>1363.185348</td>\n",
       "      <td>0.032064</td>\n",
       "    </tr>\n",
       "    <tr>\n",
       "      <th>3</th>\n",
       "      <td>2004</td>\n",
       "      <td>78</td>\n",
       "      <td>3.970519e+09</td>\n",
       "      <td>2.384366e+12</td>\n",
       "      <td>600.517477</td>\n",
       "      <td>30</td>\n",
       "      <td>1323.900830</td>\n",
       "      <td>0.002322</td>\n",
       "    </tr>\n",
       "    <tr>\n",
       "      <th>4</th>\n",
       "      <td>2005</td>\n",
       "      <td>78</td>\n",
       "      <td>4.055197e+09</td>\n",
       "      <td>2.429575e+12</td>\n",
       "      <td>599.126186</td>\n",
       "      <td>30</td>\n",
       "      <td>1320.833590</td>\n",
       "      <td>0.000000</td>\n",
       "    </tr>\n",
       "    <tr>\n",
       "      <th>5</th>\n",
       "      <td>2006</td>\n",
       "      <td>78</td>\n",
       "      <td>4.064621e+09</td>\n",
       "      <td>2.380089e+12</td>\n",
       "      <td>585.562472</td>\n",
       "      <td>30</td>\n",
       "      <td>1290.931026</td>\n",
       "      <td>-0.022639</td>\n",
       "    </tr>\n",
       "    <tr>\n",
       "      <th>6</th>\n",
       "      <td>2007</td>\n",
       "      <td>78</td>\n",
       "      <td>4.156669e+09</td>\n",
       "      <td>2.444679e+12</td>\n",
       "      <td>588.134088</td>\n",
       "      <td>30</td>\n",
       "      <td>1296.600410</td>\n",
       "      <td>-0.018347</td>\n",
       "    </tr>\n",
       "    <tr>\n",
       "      <th>7</th>\n",
       "      <td>2008</td>\n",
       "      <td>78</td>\n",
       "      <td>4.119315e+09</td>\n",
       "      <td>2.390254e+12</td>\n",
       "      <td>580.255228</td>\n",
       "      <td>30</td>\n",
       "      <td>1279.230676</td>\n",
       "      <td>-0.031497</td>\n",
       "    </tr>\n",
       "    <tr>\n",
       "      <th>8</th>\n",
       "      <td>2009</td>\n",
       "      <td>78</td>\n",
       "      <td>3.950295e+09</td>\n",
       "      <td>2.174215e+12</td>\n",
       "      <td>550.393087</td>\n",
       "      <td>30</td>\n",
       "      <td>1213.396599</td>\n",
       "      <td>-0.081340</td>\n",
       "    </tr>\n",
       "    <tr>\n",
       "      <th>9</th>\n",
       "      <td>2010</td>\n",
       "      <td>78</td>\n",
       "      <td>4.124852e+09</td>\n",
       "      <td>2.303208e+12</td>\n",
       "      <td>558.373525</td>\n",
       "      <td>30</td>\n",
       "      <td>1230.990274</td>\n",
       "      <td>-0.068020</td>\n",
       "    </tr>\n",
       "    <tr>\n",
       "      <th>10</th>\n",
       "      <td>2011</td>\n",
       "      <td>78</td>\n",
       "      <td>4.099904e+09</td>\n",
       "      <td>2.210237e+12</td>\n",
       "      <td>539.094725</td>\n",
       "      <td>30</td>\n",
       "      <td>1188.488230</td>\n",
       "      <td>-0.100198</td>\n",
       "    </tr>\n",
       "    <tr>\n",
       "      <th>11</th>\n",
       "      <td>2012</td>\n",
       "      <td>78</td>\n",
       "      <td>4.047592e+09</td>\n",
       "      <td>2.078784e+12</td>\n",
       "      <td>513.585391</td>\n",
       "      <td>30</td>\n",
       "      <td>1132.250353</td>\n",
       "      <td>-0.142776</td>\n",
       "    </tr>\n",
       "    <tr>\n",
       "      <th>12</th>\n",
       "      <td>2013</td>\n",
       "      <td>78</td>\n",
       "      <td>4.065839e+09</td>\n",
       "      <td>2.097523e+12</td>\n",
       "      <td>515.889370</td>\n",
       "      <td>30</td>\n",
       "      <td>1137.329706</td>\n",
       "      <td>-0.138930</td>\n",
       "    </tr>\n",
       "    <tr>\n",
       "      <th>13</th>\n",
       "      <td>2014</td>\n",
       "      <td>78</td>\n",
       "      <td>4.104659e+09</td>\n",
       "      <td>2.093933e+12</td>\n",
       "      <td>510.135636</td>\n",
       "      <td>30</td>\n",
       "      <td>1124.645023</td>\n",
       "      <td>-0.148534</td>\n",
       "    </tr>\n",
       "    <tr>\n",
       "      <th>14</th>\n",
       "      <td>2015</td>\n",
       "      <td>78</td>\n",
       "      <td>4.091520e+09</td>\n",
       "      <td>1.969343e+12</td>\n",
       "      <td>481.323191</td>\n",
       "      <td>30</td>\n",
       "      <td>1061.125108</td>\n",
       "      <td>-0.196625</td>\n",
       "    </tr>\n",
       "    <tr>\n",
       "      <th>15</th>\n",
       "      <td>2016</td>\n",
       "      <td>78</td>\n",
       "      <td>4.095209e+09</td>\n",
       "      <td>1.856464e+12</td>\n",
       "      <td>453.325779</td>\n",
       "      <td>30</td>\n",
       "      <td>999.402013</td>\n",
       "      <td>-0.243355</td>\n",
       "    </tr>\n",
       "    <tr>\n",
       "      <th>16</th>\n",
       "      <td>2017</td>\n",
       "      <td>78</td>\n",
       "      <td>4.058029e+09</td>\n",
       "      <td>1.779877e+12</td>\n",
       "      <td>438.606181</td>\n",
       "      <td>30</td>\n",
       "      <td>966.951186</td>\n",
       "      <td>-0.267924</td>\n",
       "    </tr>\n",
       "    <tr>\n",
       "      <th>17</th>\n",
       "      <td>2018</td>\n",
       "      <td>66</td>\n",
       "      <td>3.867230e+09</td>\n",
       "      <td>1.645244e+12</td>\n",
       "      <td>425.432177</td>\n",
       "      <td>26</td>\n",
       "      <td>937.907778</td>\n",
       "      <td>-0.289912</td>\n",
       "    </tr>\n",
       "  </tbody>\n",
       "</table>\n",
       "</div>"
      ],
      "text/plain": [
       "    year  month  generation (mwh)  final co2 (kg)  index (g/kwh)  quarter  \\\n",
       "0   2001     78      3.736520e+09    2.353860e+12     629.960437       30   \n",
       "1   2002     78      3.858190e+09    2.373896e+12     615.287481       30   \n",
       "2   2003     78      3.883111e+09    2.401071e+12     618.336818       30   \n",
       "3   2004     78      3.970519e+09    2.384366e+12     600.517477       30   \n",
       "4   2005     78      4.055197e+09    2.429575e+12     599.126186       30   \n",
       "5   2006     78      4.064621e+09    2.380089e+12     585.562472       30   \n",
       "6   2007     78      4.156669e+09    2.444679e+12     588.134088       30   \n",
       "7   2008     78      4.119315e+09    2.390254e+12     580.255228       30   \n",
       "8   2009     78      3.950295e+09    2.174215e+12     550.393087       30   \n",
       "9   2010     78      4.124852e+09    2.303208e+12     558.373525       30   \n",
       "10  2011     78      4.099904e+09    2.210237e+12     539.094725       30   \n",
       "11  2012     78      4.047592e+09    2.078784e+12     513.585391       30   \n",
       "12  2013     78      4.065839e+09    2.097523e+12     515.889370       30   \n",
       "13  2014     78      4.104659e+09    2.093933e+12     510.135636       30   \n",
       "14  2015     78      4.091520e+09    1.969343e+12     481.323191       30   \n",
       "15  2016     78      4.095209e+09    1.856464e+12     453.325779       30   \n",
       "16  2017     78      4.058029e+09    1.779877e+12     438.606181       30   \n",
       "17  2018     66      3.867230e+09    1.645244e+12     425.432177       26   \n",
       "\n",
       "    index (lb/mwh)  change since 2005  \n",
       "0      1388.810778           0.051465  \n",
       "1      1356.462780           0.026975  \n",
       "2      1363.185348           0.032064  \n",
       "3      1323.900830           0.002322  \n",
       "4      1320.833590           0.000000  \n",
       "5      1290.931026          -0.022639  \n",
       "6      1296.600410          -0.018347  \n",
       "7      1279.230676          -0.031497  \n",
       "8      1213.396599          -0.081340  \n",
       "9      1230.990274          -0.068020  \n",
       "10     1188.488230          -0.100198  \n",
       "11     1132.250353          -0.142776  \n",
       "12     1137.329706          -0.138930  \n",
       "13     1124.645023          -0.148534  \n",
       "14     1061.125108          -0.196625  \n",
       "15      999.402013          -0.243355  \n",
       "16      966.951186          -0.267924  \n",
       "17      937.907778          -0.289912  "
      ]
     },
     "execution_count": 25,
     "metadata": {},
     "output_type": "execute_result"
    }
   ],
   "source": [
    "national_index_annual"
   ]
  },
  {
   "cell_type": "code",
   "execution_count": 26,
   "metadata": {
    "collapsed": true
   },
   "outputs": [],
   "source": [
    "path = join(data_path, 'National data',\n",
    "            'National index {}.csv'.format(file_date))\n",
    "national_index.to_csv(path, index=False)"
   ]
  },
  {
   "cell_type": "markdown",
   "metadata": {},
   "source": [
    "### Percent generation by custom fuel type"
   ]
  },
  {
   "cell_type": "code",
   "execution_count": 27,
   "metadata": {
    "ExecuteTime": {
     "end_time": "2017-10-31T19:16:32.688527Z",
     "start_time": "2017-10-31T19:16:32.649752Z"
    },
    "collapsed": true
   },
   "outputs": [],
   "source": [
    "df_list = []\n",
    "for fuel in national_gen.index.get_level_values('fuel category').unique():\n",
    "    percent_gen = national_gen.loc[fuel].divide(total_gen, fill_value=0)\n",
    "    percent_gen['fuel category'] = fuel\n",
    "    percent_gen.set_index('fuel category', inplace=True, append=True)\n",
    "    df_list.append(percent_gen)\n",
    "percent_gen = pd.concat(df_list)"
   ]
  },
  {
   "cell_type": "code",
   "execution_count": 28,
   "metadata": {
    "collapsed": true
   },
   "outputs": [],
   "source": [
    "path = join(data_path, 'National data',\n",
    "            'National generation {}.csv'.format(file_date))\n",
    "national_gen.to_csv(path)\n",
    "\n",
    "path = join(data_path, 'National data',\n",
    "            'National percent gen {}.csv'.format(file_date))\n",
    "percent_gen.to_csv(path)"
   ]
  },
  {
   "cell_type": "markdown",
   "metadata": {},
   "source": [
    "## Facility state and lat/lon file generation\n",
    "~~Create a .csv with lat/lon and state code for each facility. Need to manually add the NERC region label.~~ ~~I've done this with a spatial join between the lat/lon and NERC shapefiles in QGIS. It should be possible to do the spatial join in [GeoPandas](http://geopandas.org/).  Could also add custom region labels (e.g. eGRID subregions, ISO/RTO boundaries, etc).~~\n",
    "\n",
    "This isn't possible with a spatial join because NERC regions aren't strictly based on geography. Instead, I've taken the NERC codes from EIA-860 and assigned unknown plants (mostly those that retired before 2012 when modern NERCs were mostly defined, and those that were assigned a plant id in 2017) NERC labels using a k-nearest neighbors algorithm and lat/lon information.\n",
    "\n",
    "See the `Assign NERC region labels` notebook for the creation of this file."
   ]
  },
  {
   "cell_type": "markdown",
   "metadata": {},
   "source": [
    "## Fraction of estimated gen/fuels in each NERC region\n",
    "\n",
    "**NOTE** EIA changed the reporting requirements for wind and solar facilities in 2017. I'm now going to use the list of annual facilities from 2017 rather than from 2015, but still use the reported generation by those facilities in 2015."
   ]
  },
  {
   "cell_type": "code",
   "execution_count": 29,
   "metadata": {
    "ExecuteTime": {
     "end_time": "2017-11-06T17:06:53.740258Z",
     "start_time": "2017-11-06T17:06:53.735390Z"
    },
    "collapsed": true
   },
   "outputs": [],
   "source": [
    "%aimport Data.make_data\n",
    "from Data.make_data import get_annual_plants"
   ]
  },
  {
   "cell_type": "code",
   "execution_count": 39,
   "metadata": {
    "ExecuteTime": {
     "end_time": "2017-11-06T17:07:38.755682Z",
     "start_time": "2017-11-06T17:07:11.747334Z"
    },
    "collapsed": true
   },
   "outputs": [
    {
     "name": "stdout",
     "output_type": "stream",
     "text": [
      "/Users/greg/Documents/GitHub/carbon-index/Data storage/EIA downloads/f923_2015.zip\n"
     ]
    }
   ],
   "source": [
    "annual_ids_2015 = get_annual_plants(2015)"
   ]
  },
  {
   "cell_type": "code",
   "execution_count": 30,
   "metadata": {
    "ExecuteTime": {
     "end_time": "2017-11-06T17:07:38.755682Z",
     "start_time": "2017-11-06T17:07:11.747334Z"
    },
    "collapsed": true
   },
   "outputs": [
    {
     "name": "stdout",
     "output_type": "stream",
     "text": [
      "/Users/greg/Documents/GitHub/carbon-index/Data storage/EIA downloads/f923_2017.zip\n"
     ]
    }
   ],
   "source": [
    "annual_ids_2017 = get_annual_plants(2017)"
   ]
  },
  {
   "cell_type": "code",
   "execution_count": 42,
   "metadata": {
    "ExecuteTime": {
     "end_time": "2017-11-06T17:07:57.886913Z",
     "start_time": "2017-11-06T17:07:38.757559Z"
    },
    "collapsed": true
   },
   "outputs": [
    {
     "name": "stdout",
     "output_type": "stream",
     "text": [
      "/Users/greg/Documents/GitHub/carbon-index/Data storage/EIA downloads/f923_2017er.zip\n"
     ]
    }
   ],
   "source": [
    "pf_kws = {\n",
    "    'header': 5,\n",
    "    'index_col': 1\n",
    "}\n",
    "annual_ids_2017 = get_annual_plants('2017er', plant_frame_kws=pf_kws)"
   ]
  },
  {
   "cell_type": "markdown",
   "metadata": {},
   "source": [
    "Combine the lists of annual plants in 2015 and 2017. This lets us catch facilities that have gone from monthly to annual since 2015, but it also includes plants that were annual in 2015 an may have retired.\n",
    "\n",
    "There is the possibility of an error in allocation to NERC regions for 2016 state-level generation when using the facilities that changed to annual in 2017. But since the state-level generation is so much smaller in 2016 I don't think this is much of an issue."
   ]
  },
  {
   "cell_type": "code",
   "execution_count": 43,
   "metadata": {
    "ExecuteTime": {
     "end_time": "2017-11-06T17:08:20.140523Z",
     "start_time": "2017-11-06T17:08:20.128770Z"
    },
    "collapsed": true
   },
   "outputs": [],
   "source": [
    "annual_ids = set(annual_ids_2015.tolist() + annual_ids_2017.tolist())"
   ]
  },
  {
   "cell_type": "code",
   "execution_count": 44,
   "metadata": {
    "ExecuteTime": {
     "end_time": "2017-11-06T17:08:20.153975Z",
     "start_time": "2017-11-06T17:08:20.142993Z"
    }
   },
   "outputs": [
    {
     "data": {
      "text/plain": [
       "7569"
      ]
     },
     "execution_count": 44,
     "metadata": {},
     "output_type": "execute_result"
    }
   ],
   "source": [
    "len(annual_ids)"
   ]
  },
  {
   "cell_type": "markdown",
   "metadata": {},
   "source": [
    "### Add NERC region labels"
   ]
  },
  {
   "cell_type": "code",
   "execution_count": 32,
   "metadata": {
    "ExecuteTime": {
     "end_time": "2017-11-06T17:08:20.165890Z",
     "start_time": "2017-11-06T17:08:20.156452Z"
    },
    "collapsed": true
   },
   "outputs": [],
   "source": [
    "%aimport Analysis.state2nerc\n",
    "from Analysis.state2nerc import fraction_state2nerc, add_region"
   ]
  },
  {
   "cell_type": "code",
   "execution_count": 33,
   "metadata": {
    "ExecuteTime": {
     "end_time": "2017-11-06T17:08:20.206633Z",
     "start_time": "2017-11-06T17:08:20.168272Z"
    },
    "collapsed": true
   },
   "outputs": [],
   "source": [
    "cwd = os.getcwd()\n",
    "path = join(data_path, 'Facility labels',\n",
    "            'Facility locations_RF.csv')\n",
    "location_labels = pd.read_csv(path)"
   ]
  },
  {
   "cell_type": "code",
   "execution_count": 34,
   "metadata": {
    "ExecuteTime": {
     "end_time": "2017-11-06T17:08:20.225873Z",
     "start_time": "2017-11-06T17:08:20.209690Z"
    },
    "collapsed": true
   },
   "outputs": [],
   "source": [
    "nerc_state_path = join(data_path, 'Derived data',\n",
    "                  'NERC_states.json')\n",
    "\n",
    "with open(nerc_state_path, 'r') as f:\n",
    "    nerc_states = json.load(f)"
   ]
  },
  {
   "cell_type": "markdown",
   "metadata": {},
   "source": [
    "Added the filter that year must be 2015 - was getting all 2015 annual plants, but for all years!"
   ]
  },
  {
   "cell_type": "code",
   "execution_count": 35,
   "metadata": {},
   "outputs": [
    {
     "data": {
      "text/html": [
       "<div>\n",
       "<style scoped>\n",
       "    .dataframe tbody tr th:only-of-type {\n",
       "        vertical-align: middle;\n",
       "    }\n",
       "\n",
       "    .dataframe tbody tr th {\n",
       "        vertical-align: top;\n",
       "    }\n",
       "\n",
       "    .dataframe thead th {\n",
       "        text-align: right;\n",
       "    }\n",
       "</style>\n",
       "<table border=\"1\" class=\"dataframe\">\n",
       "  <thead>\n",
       "    <tr style=\"text-align: right;\">\n",
       "      <th></th>\n",
       "      <th>f</th>\n",
       "      <th>fuel</th>\n",
       "      <th>month</th>\n",
       "      <th>plant id</th>\n",
       "      <th>total fuel (mmbtu)</th>\n",
       "      <th>year</th>\n",
       "      <th>generation (mwh)</th>\n",
       "      <th>elec fuel (mmbtu)</th>\n",
       "      <th>geography</th>\n",
       "      <th>last_updated</th>\n",
       "      <th>lat</th>\n",
       "      <th>lon</th>\n",
       "      <th>prime mover</th>\n",
       "      <th>datetime</th>\n",
       "      <th>quarter</th>\n",
       "      <th>all fuel fossil co2 (kg)</th>\n",
       "      <th>elec fuel fossil co2 (kg)</th>\n",
       "      <th>all fuel total co2 (kg)</th>\n",
       "      <th>elec fuel total co2 (kg)</th>\n",
       "      <th>type</th>\n",
       "    </tr>\n",
       "  </thead>\n",
       "  <tbody>\n",
       "    <tr>\n",
       "      <th>1195386</th>\n",
       "      <td>M</td>\n",
       "      <td>NG</td>\n",
       "      <td>2</td>\n",
       "      <td>2248</td>\n",
       "      <td>0.0</td>\n",
       "      <td>2012</td>\n",
       "      <td>0.014</td>\n",
       "      <td>0.0</td>\n",
       "      <td>USA-NE</td>\n",
       "      <td>2019-01-25T18:54:34-05:00</td>\n",
       "      <td>41.238200</td>\n",
       "      <td>-103.66670</td>\n",
       "      <td>ALL</td>\n",
       "      <td>2012-02-01</td>\n",
       "      <td>1</td>\n",
       "      <td>0.00</td>\n",
       "      <td>0.00</td>\n",
       "      <td>0.00</td>\n",
       "      <td>0.00</td>\n",
       "      <td>NG</td>\n",
       "    </tr>\n",
       "    <tr>\n",
       "      <th>115715</th>\n",
       "      <td>M</td>\n",
       "      <td>PC</td>\n",
       "      <td>4</td>\n",
       "      <td>7030</td>\n",
       "      <td>0.0</td>\n",
       "      <td>2012</td>\n",
       "      <td>0.000</td>\n",
       "      <td>0.0</td>\n",
       "      <td>USA-TX</td>\n",
       "      <td>2019-01-25T18:54:34-05:00</td>\n",
       "      <td>31.091925</td>\n",
       "      <td>-96.69503</td>\n",
       "      <td>ALL</td>\n",
       "      <td>2012-04-01</td>\n",
       "      <td>2</td>\n",
       "      <td>0.00</td>\n",
       "      <td>0.00</td>\n",
       "      <td>0.00</td>\n",
       "      <td>0.00</td>\n",
       "      <td>PC</td>\n",
       "    </tr>\n",
       "    <tr>\n",
       "      <th>1547479</th>\n",
       "      <td>M</td>\n",
       "      <td>DFO</td>\n",
       "      <td>9</td>\n",
       "      <td>2850</td>\n",
       "      <td>20019.0</td>\n",
       "      <td>2006</td>\n",
       "      <td>1904.000</td>\n",
       "      <td>20019.0</td>\n",
       "      <td>USA-OH</td>\n",
       "      <td>2018-12-24T15:04:35-05:00</td>\n",
       "      <td>38.636100</td>\n",
       "      <td>-83.69390</td>\n",
       "      <td>ALL</td>\n",
       "      <td>2006-09-01</td>\n",
       "      <td>3</td>\n",
       "      <td>1464590.04</td>\n",
       "      <td>1464590.04</td>\n",
       "      <td>1464590.04</td>\n",
       "      <td>1464590.04</td>\n",
       "      <td>PEL</td>\n",
       "    </tr>\n",
       "    <tr>\n",
       "      <th>493400</th>\n",
       "      <td>M</td>\n",
       "      <td>WND</td>\n",
       "      <td>6</td>\n",
       "      <td>56371</td>\n",
       "      <td>0.0</td>\n",
       "      <td>2007</td>\n",
       "      <td>0.000</td>\n",
       "      <td>0.0</td>\n",
       "      <td>USA-CO</td>\n",
       "      <td>2019-01-25T18:54:34-05:00</td>\n",
       "      <td>40.894400</td>\n",
       "      <td>-104.02060</td>\n",
       "      <td>ALL</td>\n",
       "      <td>2007-06-01</td>\n",
       "      <td>2</td>\n",
       "      <td>0.00</td>\n",
       "      <td>0.00</td>\n",
       "      <td>0.00</td>\n",
       "      <td>0.00</td>\n",
       "      <td>WND</td>\n",
       "    </tr>\n",
       "    <tr>\n",
       "      <th>772298</th>\n",
       "      <td>M</td>\n",
       "      <td>LFG</td>\n",
       "      <td>6</td>\n",
       "      <td>54662</td>\n",
       "      <td>44988.0</td>\n",
       "      <td>2012</td>\n",
       "      <td>4055.861</td>\n",
       "      <td>44988.0</td>\n",
       "      <td>USA-IL</td>\n",
       "      <td>2019-01-25T18:54:34-05:00</td>\n",
       "      <td>41.981004</td>\n",
       "      <td>-88.27452</td>\n",
       "      <td>ALL</td>\n",
       "      <td>2012-06-01</td>\n",
       "      <td>2</td>\n",
       "      <td>0.00</td>\n",
       "      <td>0.00</td>\n",
       "      <td>2347023.96</td>\n",
       "      <td>2347023.96</td>\n",
       "      <td>WAS</td>\n",
       "    </tr>\n",
       "  </tbody>\n",
       "</table>\n",
       "</div>"
      ],
      "text/plain": [
       "         f fuel  month  plant id  total fuel (mmbtu)  year  generation (mwh)  \\\n",
       "1195386  M   NG      2      2248                 0.0  2012             0.014   \n",
       "115715   M   PC      4      7030                 0.0  2012             0.000   \n",
       "1547479  M  DFO      9      2850             20019.0  2006          1904.000   \n",
       "493400   M  WND      6     56371                 0.0  2007             0.000   \n",
       "772298   M  LFG      6     54662             44988.0  2012          4055.861   \n",
       "\n",
       "         elec fuel (mmbtu) geography               last_updated        lat  \\\n",
       "1195386                0.0    USA-NE  2019-01-25T18:54:34-05:00  41.238200   \n",
       "115715                 0.0    USA-TX  2019-01-25T18:54:34-05:00  31.091925   \n",
       "1547479            20019.0    USA-OH  2018-12-24T15:04:35-05:00  38.636100   \n",
       "493400                 0.0    USA-CO  2019-01-25T18:54:34-05:00  40.894400   \n",
       "772298             44988.0    USA-IL  2019-01-25T18:54:34-05:00  41.981004   \n",
       "\n",
       "               lon prime mover    datetime  quarter  all fuel fossil co2 (kg)  \\\n",
       "1195386 -103.66670         ALL  2012-02-01        1                      0.00   \n",
       "115715   -96.69503         ALL  2012-04-01        2                      0.00   \n",
       "1547479  -83.69390         ALL  2006-09-01        3                1464590.04   \n",
       "493400  -104.02060         ALL  2007-06-01        2                      0.00   \n",
       "772298   -88.27452         ALL  2012-06-01        2                      0.00   \n",
       "\n",
       "         elec fuel fossil co2 (kg)  all fuel total co2 (kg)  \\\n",
       "1195386                       0.00                     0.00   \n",
       "115715                        0.00                     0.00   \n",
       "1547479                 1464590.04               1464590.04   \n",
       "493400                        0.00                     0.00   \n",
       "772298                        0.00               2347023.96   \n",
       "\n",
       "         elec fuel total co2 (kg) type  \n",
       "1195386                      0.00   NG  \n",
       "115715                       0.00   PC  \n",
       "1547479                1464590.04  PEL  \n",
       "493400                       0.00  WND  \n",
       "772298                 2347023.96  WAS  "
      ]
     },
     "execution_count": 35,
     "metadata": {},
     "output_type": "execute_result"
    }
   ],
   "source": [
    "eia_fac.sample(5)"
   ]
  },
  {
   "cell_type": "markdown",
   "metadata": {},
   "source": [
    "**Need to change this so that it can automate the year filter**"
   ]
  },
  {
   "cell_type": "code",
   "execution_count": 48,
   "metadata": {
    "ExecuteTime": {
     "end_time": "2017-11-06T17:08:20.746670Z",
     "start_time": "2017-11-06T17:08:20.229488Z"
    },
    "collapsed": true
   },
   "outputs": [],
   "source": [
    "eia_2015_annual = eia_fac.loc[(eia_fac['plant id'].isin(annual_ids_2015)) & \n",
    "                              (eia_fac['year'] == 2015)].copy()\n",
    "\n",
    "# Group to state-level fuel categories\n",
    "eia_2015_annual = group_fuel_cats(eia_2015_annual, state_fuel_cat)"
   ]
  },
  {
   "cell_type": "code",
   "execution_count": 36,
   "metadata": {
    "ExecuteTime": {
     "end_time": "2017-11-06T17:08:20.746670Z",
     "start_time": "2017-11-06T17:08:20.229488Z"
    },
    "collapsed": true
   },
   "outputs": [],
   "source": [
    "eia_2017_annual = eia_fac.loc[(eia_fac['plant id'].isin(annual_ids_2017)) & \n",
    "                              (eia_fac['year'] == 2017)].copy()\n",
    "\n",
    "# Group to state-level fuel categories\n",
    "eia_2017_annual = group_fuel_cats(eia_2017_annual, state_fuel_cat)"
   ]
  },
  {
   "cell_type": "code",
   "execution_count": 37,
   "metadata": {
    "ExecuteTime": {
     "end_time": "2017-11-06T17:08:20.808948Z",
     "start_time": "2017-11-06T17:08:20.748469Z"
    },
    "collapsed": true
   },
   "outputs": [],
   "source": [
    "eia_2017_annual_nerc = add_facility_location(eia_2017_annual, location_labels, \n",
    "                                        labels=['state', 'nerc', 'year'])"
   ]
  },
  {
   "cell_type": "code",
   "execution_count": 38,
   "metadata": {},
   "outputs": [
    {
     "data": {
      "text/html": [
       "<div>\n",
       "<style scoped>\n",
       "    .dataframe tbody tr th:only-of-type {\n",
       "        vertical-align: middle;\n",
       "    }\n",
       "\n",
       "    .dataframe tbody tr th {\n",
       "        vertical-align: top;\n",
       "    }\n",
       "\n",
       "    .dataframe thead th {\n",
       "        text-align: right;\n",
       "    }\n",
       "</style>\n",
       "<table border=\"1\" class=\"dataframe\">\n",
       "  <thead>\n",
       "    <tr style=\"text-align: right;\">\n",
       "      <th></th>\n",
       "      <th>type</th>\n",
       "      <th>year</th>\n",
       "      <th>month</th>\n",
       "      <th>plant id</th>\n",
       "      <th>total fuel (mmbtu)</th>\n",
       "      <th>generation (mwh)</th>\n",
       "      <th>elec fuel (mmbtu)</th>\n",
       "      <th>lat</th>\n",
       "      <th>lon</th>\n",
       "      <th>quarter</th>\n",
       "      <th>all fuel fossil co2 (kg)</th>\n",
       "      <th>elec fuel fossil co2 (kg)</th>\n",
       "      <th>all fuel total co2 (kg)</th>\n",
       "      <th>elec fuel total co2 (kg)</th>\n",
       "      <th>state</th>\n",
       "      <th>nerc</th>\n",
       "    </tr>\n",
       "  </thead>\n",
       "  <tbody>\n",
       "    <tr>\n",
       "      <th>0</th>\n",
       "      <td>COW</td>\n",
       "      <td>2017</td>\n",
       "      <td>1</td>\n",
       "      <td>59</td>\n",
       "      <td>485196.0</td>\n",
       "      <td>42216.979</td>\n",
       "      <td>485196.0</td>\n",
       "      <td>40.854765</td>\n",
       "      <td>-98.348222</td>\n",
       "      <td>1</td>\n",
       "      <td>47161051.2</td>\n",
       "      <td>47161051.2</td>\n",
       "      <td>47161051.2</td>\n",
       "      <td>47161051.2</td>\n",
       "      <td>NE</td>\n",
       "      <td>MRO</td>\n",
       "    </tr>\n",
       "    <tr>\n",
       "      <th>1</th>\n",
       "      <td>COW</td>\n",
       "      <td>2017</td>\n",
       "      <td>1</td>\n",
       "      <td>79</td>\n",
       "      <td>302267.0</td>\n",
       "      <td>15642.000</td>\n",
       "      <td>198135.0</td>\n",
       "      <td>64.847743</td>\n",
       "      <td>-147.735063</td>\n",
       "      <td>1</td>\n",
       "      <td>29380352.4</td>\n",
       "      <td>19258722.0</td>\n",
       "      <td>29380352.4</td>\n",
       "      <td>19258722.0</td>\n",
       "      <td>AK</td>\n",
       "      <td>ASCC</td>\n",
       "    </tr>\n",
       "    <tr>\n",
       "      <th>2</th>\n",
       "      <td>COW</td>\n",
       "      <td>2017</td>\n",
       "      <td>1</td>\n",
       "      <td>508</td>\n",
       "      <td>0.0</td>\n",
       "      <td>0.000</td>\n",
       "      <td>0.0</td>\n",
       "      <td>38.033327</td>\n",
       "      <td>-102.537915</td>\n",
       "      <td>1</td>\n",
       "      <td>0.0</td>\n",
       "      <td>0.0</td>\n",
       "      <td>0.0</td>\n",
       "      <td>0.0</td>\n",
       "      <td>CO</td>\n",
       "      <td>WECC</td>\n",
       "    </tr>\n",
       "    <tr>\n",
       "      <th>3</th>\n",
       "      <td>COW</td>\n",
       "      <td>2017</td>\n",
       "      <td>1</td>\n",
       "      <td>728</td>\n",
       "      <td>0.0</td>\n",
       "      <td>0.000</td>\n",
       "      <td>0.0</td>\n",
       "      <td>33.462200</td>\n",
       "      <td>-84.898600</td>\n",
       "      <td>1</td>\n",
       "      <td>0.0</td>\n",
       "      <td>0.0</td>\n",
       "      <td>0.0</td>\n",
       "      <td>0.0</td>\n",
       "      <td>GA</td>\n",
       "      <td>SERC</td>\n",
       "    </tr>\n",
       "    <tr>\n",
       "      <th>4</th>\n",
       "      <td>COW</td>\n",
       "      <td>2017</td>\n",
       "      <td>1</td>\n",
       "      <td>753</td>\n",
       "      <td>18385.0</td>\n",
       "      <td>721.087</td>\n",
       "      <td>18385.0</td>\n",
       "      <td>31.844708</td>\n",
       "      <td>-83.940734</td>\n",
       "      <td>1</td>\n",
       "      <td>1715320.5</td>\n",
       "      <td>1715320.5</td>\n",
       "      <td>1715320.5</td>\n",
       "      <td>1715320.5</td>\n",
       "      <td>GA</td>\n",
       "      <td>SERC</td>\n",
       "    </tr>\n",
       "  </tbody>\n",
       "</table>\n",
       "</div>"
      ],
      "text/plain": [
       "  type  year  month  plant id  total fuel (mmbtu)  generation (mwh)  \\\n",
       "0  COW  2017      1        59            485196.0         42216.979   \n",
       "1  COW  2017      1        79            302267.0         15642.000   \n",
       "2  COW  2017      1       508                 0.0             0.000   \n",
       "3  COW  2017      1       728                 0.0             0.000   \n",
       "4  COW  2017      1       753             18385.0           721.087   \n",
       "\n",
       "   elec fuel (mmbtu)        lat         lon  quarter  \\\n",
       "0           485196.0  40.854765  -98.348222        1   \n",
       "1           198135.0  64.847743 -147.735063        1   \n",
       "2                0.0  38.033327 -102.537915        1   \n",
       "3                0.0  33.462200  -84.898600        1   \n",
       "4            18385.0  31.844708  -83.940734        1   \n",
       "\n",
       "   all fuel fossil co2 (kg)  elec fuel fossil co2 (kg)  \\\n",
       "0                47161051.2                 47161051.2   \n",
       "1                29380352.4                 19258722.0   \n",
       "2                       0.0                        0.0   \n",
       "3                       0.0                        0.0   \n",
       "4                 1715320.5                  1715320.5   \n",
       "\n",
       "   all fuel total co2 (kg)  elec fuel total co2 (kg) state  nerc  \n",
       "0               47161051.2                47161051.2    NE   MRO  \n",
       "1               29380352.4                19258722.0    AK  ASCC  \n",
       "2                      0.0                       0.0    CO  WECC  \n",
       "3                      0.0                       0.0    GA  SERC  \n",
       "4                1715320.5                 1715320.5    GA  SERC  "
      ]
     },
     "execution_count": 38,
     "metadata": {},
     "output_type": "execute_result"
    }
   ],
   "source": [
    "eia_2017_annual_nerc.head()"
   ]
  },
  {
   "cell_type": "markdown",
   "metadata": {},
   "source": [
    "This is 2015 data on annual reporting facilities (from both 2015 and 2017)"
   ]
  },
  {
   "cell_type": "code",
   "execution_count": 39,
   "metadata": {
    "ExecuteTime": {
     "end_time": "2017-11-06T17:08:36.285221Z",
     "start_time": "2017-11-06T17:08:36.277897Z"
    },
    "collapsed": true
   },
   "outputs": [],
   "source": [
    "# Get a list of all state abbreviations\n",
    "\n",
    "all_states = []\n",
    "for value in nerc_states.values():\n",
    "    all_states.extend(value)\n",
    "all_states = set(all_states)"
   ]
  },
  {
   "cell_type": "code",
   "execution_count": 52,
   "metadata": {
    "ExecuteTime": {
     "end_time": "2017-11-06T17:08:38.924387Z",
     "start_time": "2017-11-06T17:08:36.287865Z"
    }
   },
   "outputs": [],
   "source": [
    "df_list = []\n",
    "\n",
    "for state in all_states:\n",
    "    try:\n",
    "        df_list.append(fraction_state2nerc(eia_2015_annual_nerc,\n",
    "                       state, region_col='nerc', fuel_col='type'))\n",
    "    except:\n",
    "        print(state)\n",
    "        pass"
   ]
  },
  {
   "cell_type": "code",
   "execution_count": 40,
   "metadata": {
    "ExecuteTime": {
     "end_time": "2017-11-06T17:08:38.924387Z",
     "start_time": "2017-11-06T17:08:36.287865Z"
    }
   },
   "outputs": [
    {
     "name": "stdout",
     "output_type": "stream",
     "text": [
      "DC\n"
     ]
    }
   ],
   "source": [
    "df_list = []\n",
    "\n",
    "for state in all_states:\n",
    "    try:\n",
    "        df_list.append(fraction_state2nerc(eia_2017_annual_nerc,\n",
    "                       state, region_col='nerc', fuel_col='type'))\n",
    "    except:\n",
    "        print(state)\n",
    "        pass"
   ]
  },
  {
   "cell_type": "code",
   "execution_count": 41,
   "metadata": {
    "ExecuteTime": {
     "end_time": "2017-11-06T17:08:38.970750Z",
     "start_time": "2017-11-06T17:08:38.928892Z"
    },
    "collapsed": true
   },
   "outputs": [],
   "source": [
    "nerc_fraction = pd.concat(df_list)\n",
    "nerc_fraction.set_index(['state', 'nerc', 'type'], inplace=True)\n",
    "nerc_fraction.sort_index(inplace=True)"
   ]
  },
  {
   "cell_type": "markdown",
   "metadata": {},
   "source": [
    "With the values below I can allocate extra state-level generation and fuel use to each of the NERC regions!"
   ]
  },
  {
   "cell_type": "markdown",
   "metadata": {},
   "source": [
    "Making sure that no values are greater than 1 (within tolerance)"
   ]
  },
  {
   "cell_type": "code",
   "execution_count": 42,
   "metadata": {
    "ExecuteTime": {
     "end_time": "2017-11-06T17:16:30.022250Z",
     "start_time": "2017-11-06T17:16:30.012576Z"
    }
   },
   "outputs": [
    {
     "data": {
      "text/plain": [
       "% generation    False\n",
       "% total fuel    False\n",
       "% elec fuel     False\n",
       "dtype: bool"
      ]
     },
     "execution_count": 42,
     "metadata": {},
     "output_type": "execute_result"
    }
   ],
   "source": [
    "(nerc_fraction.groupby(['state', 'type']).sum() > 1.0001).any()"
   ]
  },
  {
   "cell_type": "markdown",
   "metadata": {},
   "source": [
    "## Allocate extra gen from the state-level to regions\n",
    "\n",
    "I still need to generate state-level total generation and fuel use!"
   ]
  },
  {
   "cell_type": "code",
   "execution_count": 43,
   "metadata": {
    "ExecuteTime": {
     "end_time": "2017-11-06T17:17:13.954207Z",
     "start_time": "2017-11-06T17:17:13.950071Z"
    },
    "collapsed": true
   },
   "outputs": [],
   "source": [
    "idx = pd.IndexSlice"
   ]
  },
  {
   "cell_type": "code",
   "execution_count": 44,
   "metadata": {
    "ExecuteTime": {
     "end_time": "2017-11-06T17:17:21.163335Z",
     "start_time": "2017-11-06T17:17:21.158742Z"
    },
    "collapsed": true
   },
   "outputs": [],
   "source": [
    "# a dictionary to match column names\n",
    "nerc_frac_match = {'% generation': 'generation (mwh)',\n",
    "                   '% total fuel': 'total fuel (mmbtu)',\n",
    "                   '% elec fuel': 'elec fuel (mmbtu)'}"
   ]
  },
  {
   "cell_type": "markdown",
   "metadata": {},
   "source": [
    "### Load state-level total gen/fuel consumption"
   ]
  },
  {
   "cell_type": "code",
   "execution_count": 45,
   "metadata": {
    "ExecuteTime": {
     "end_time": "2017-11-06T17:17:24.615168Z",
     "start_time": "2017-11-06T17:17:24.212473Z"
    },
    "collapsed": true
   },
   "outputs": [],
   "source": [
    "path = join(data_path, 'Derived data',\n",
    "            'EIA state-level gen fuel CO2 {}.csv'.format(file_date))\n",
    "\n",
    "state_total = pd.read_csv(path, parse_dates=['datetime'])"
   ]
  },
  {
   "cell_type": "code",
   "execution_count": 46,
   "metadata": {
    "ExecuteTime": {
     "end_time": "2017-11-06T17:17:26.684456Z",
     "start_time": "2017-11-06T17:17:26.625319Z"
    },
    "collapsed": true
   },
   "outputs": [],
   "source": [
    "rename_cols(state_total)\n",
    "state_total['state'] = state_total['geography'].str[-2:]"
   ]
  },
  {
   "cell_type": "markdown",
   "metadata": {},
   "source": [
    "Simplify the dataframe"
   ]
  },
  {
   "cell_type": "code",
   "execution_count": 47,
   "metadata": {
    "ExecuteTime": {
     "end_time": "2017-11-06T17:17:33.931547Z",
     "start_time": "2017-11-06T17:17:33.823487Z"
    }
   },
   "outputs": [],
   "source": [
    "cols = list(nerc_frac_match.values())\n",
    "state_total = state_total.groupby(['state', 'year', 'month', 'type'])[cols].sum()"
   ]
  },
  {
   "cell_type": "code",
   "execution_count": 48,
   "metadata": {
    "ExecuteTime": {
     "end_time": "2017-11-06T17:17:37.589401Z",
     "start_time": "2017-11-06T17:17:37.584045Z"
    },
    "collapsed": true
   },
   "outputs": [],
   "source": [
    "# list of NERC regions\n",
    "nercs = nerc_fraction.index.get_level_values('nerc').unique()"
   ]
  },
  {
   "cell_type": "markdown",
   "metadata": {},
   "source": [
    "### Group the facility data to state fuel categories and add state labels"
   ]
  },
  {
   "cell_type": "code",
   "execution_count": 49,
   "metadata": {
    "ExecuteTime": {
     "end_time": "2017-11-06T17:18:04.557540Z",
     "start_time": "2017-11-06T17:17:58.399196Z"
    },
    "collapsed": true
   },
   "outputs": [],
   "source": [
    "cols = list(nerc_frac_match.values())\n",
    "eia_fac_type = group_fuel_cats(eia_fac, state_fuel_cat)\n",
    "eia_fac_type = add_facility_location(eia_fac_type, location_labels, ['state', 'year'])\n",
    "eia_fac_type = eia_fac_type.groupby(['state', 'year', 'month', 'type'])[cols].sum()"
   ]
  },
  {
   "cell_type": "markdown",
   "metadata": {},
   "source": [
    "### Calculate the extra gen/fuel consumption at the state levels\n",
    "**Only worrying about extra generation from 2016 forward.**"
   ]
  },
  {
   "cell_type": "code",
   "execution_count": 50,
   "metadata": {
    "ExecuteTime": {
     "end_time": "2017-11-06T17:18:29.739841Z",
     "start_time": "2017-11-06T17:18:29.638943Z"
    }
   },
   "outputs": [],
   "source": [
    "state_extra = (state_total.loc[idx[:, 2016:, :, :], :]\n",
    "               - eia_fac_type.loc[idx[:, 2016:, :, :], :])\n",
    "state_extra.dropna(how='all', inplace=True)\n",
    "state_extra = state_extra.reorder_levels(['year', 'state', 'month', 'type'])\n",
    "state_extra.sort_index(inplace=True)"
   ]
  },
  {
   "cell_type": "markdown",
   "metadata": {},
   "source": [
    "Sort the index of each dataframe to make sure they can be easily combined."
   ]
  },
  {
   "cell_type": "code",
   "execution_count": 51,
   "metadata": {
    "ExecuteTime": {
     "end_time": "2017-11-06T17:18:29.824834Z",
     "start_time": "2017-11-06T17:18:29.801409Z"
    }
   },
   "outputs": [],
   "source": [
    "nerc_fraction.sort_index(inplace=True)"
   ]
  },
  {
   "cell_type": "code",
   "execution_count": 52,
   "metadata": {
    "ExecuteTime": {
     "end_time": "2017-11-06T17:18:29.851377Z",
     "start_time": "2017-11-06T17:18:29.826926Z"
    }
   },
   "outputs": [],
   "source": [
    "state_extra.sort_index(inplace=True)"
   ]
  },
  {
   "cell_type": "markdown",
   "metadata": {},
   "source": [
    "Create a copy of the `nerc_fraction` dataframe with repeated values for every month of the year, so that they MultiIndex matches the `state_extra` MultiIndex"
   ]
  },
  {
   "cell_type": "code",
   "execution_count": 53,
   "metadata": {
    "ExecuteTime": {
     "end_time": "2017-11-06T17:18:29.913157Z",
     "start_time": "2017-11-06T17:18:29.853842Z"
    },
    "collapsed": true
   },
   "outputs": [],
   "source": [
    "df_list = []\n",
    "for month in range(1, 13):\n",
    "    df = nerc_fraction.copy()\n",
    "    df['month'] = month\n",
    "    df.set_index('month', append=True, inplace=True)\n",
    "    df_list.append(df)\n",
    "\n",
    "nerc_frac_monthly = pd.concat(df_list, axis=0)\n",
    "nerc_frac_monthly.sort_index(inplace=True)\n",
    "nerc_frac_monthly = (nerc_frac_monthly\n",
    "                     .reorder_levels(['nerc', 'state', 'month', 'type']))"
   ]
  },
  {
   "cell_type": "markdown",
   "metadata": {},
   "source": [
    "Cycle through each year (2016 and 2017 in this case) and each NERC, multiplying the state-level extra generation, total fuel consumption, and fuel consumption for electricity by the share that should be allocated to each NERC."
   ]
  },
  {
   "cell_type": "code",
   "execution_count": 54,
   "metadata": {
    "ExecuteTime": {
     "end_time": "2017-11-06T17:18:31.126440Z",
     "start_time": "2017-11-06T17:18:29.923008Z"
    },
    "collapsed": true
   },
   "outputs": [],
   "source": [
    "df_list_outer = []\n",
    "for year in [2016, 2017]:\n",
    "    df_list_inner = []\n",
    "    for nerc in nercs:\n",
    "        df = pd.concat([(nerc_frac_monthly\n",
    "                         .loc[nerc]['% generation']\n",
    "                         * state_extra\n",
    "                         .loc[year]['generation (mwh)']).dropna(),\n",
    "                        (nerc_frac_monthly.\n",
    "                         loc[nerc]['% total fuel']\n",
    "                         * state_extra\n",
    "                         .loc[year]['total fuel (mmbtu)']).dropna(),\n",
    "                        (nerc_frac_monthly\n",
    "                         .loc[nerc]['% elec fuel']\n",
    "                         * state_extra\n",
    "                         .loc[year]['elec fuel (mmbtu)']).dropna()],\n",
    "                        axis=1)\n",
    "        df.columns = nerc_frac_match.values()\n",
    "        df['nerc'] = nerc\n",
    "        df['year'] = year\n",
    "        df = df.groupby(['year', 'nerc', 'month', 'type']).sum()\n",
    "        df_list_inner.append(df)\n",
    "\n",
    "    df_list_outer.append(pd.concat(df_list_inner))\n",
    "final = pd.concat(df_list_outer)\n",
    "final.sort_index(inplace=True)"
   ]
  },
  {
   "cell_type": "code",
   "execution_count": 55,
   "metadata": {
    "ExecuteTime": {
     "end_time": "2017-11-06T17:18:31.126440Z",
     "start_time": "2017-11-06T17:18:29.923008Z"
    },
    "collapsed": true
   },
   "outputs": [],
   "source": [
    "df_list_outer = []\n",
    "for year in [2018]:\n",
    "    df_list_inner = []\n",
    "    for nerc in nercs:\n",
    "        df = pd.concat([(nerc_frac_monthly\n",
    "                         .loc[nerc]['% generation']\n",
    "                         * state_extra\n",
    "                         .loc[year]['generation (mwh)']).dropna(),\n",
    "                        (nerc_frac_monthly.\n",
    "                         loc[nerc]['% total fuel']\n",
    "                         * state_extra\n",
    "                         .loc[year]['total fuel (mmbtu)']).dropna(),\n",
    "                        (nerc_frac_monthly\n",
    "                         .loc[nerc]['% elec fuel']\n",
    "                         * state_extra\n",
    "                         .loc[year]['elec fuel (mmbtu)']).dropna()],\n",
    "                        axis=1)\n",
    "        df.columns = nerc_frac_match.values()\n",
    "        df['nerc'] = nerc\n",
    "        df['year'] = year\n",
    "        df = df.groupby(['year', 'nerc', 'month', 'type']).sum()\n",
    "        df_list_inner.append(df)\n",
    "\n",
    "    df_list_outer.append(pd.concat(df_list_inner))\n",
    "final = pd.concat(df_list_outer)\n",
    "final.sort_index(inplace=True)"
   ]
  },
  {
   "cell_type": "code",
   "execution_count": 56,
   "metadata": {
    "ExecuteTime": {
     "end_time": "2017-11-06T17:18:31.155192Z",
     "start_time": "2017-11-06T17:18:31.129610Z"
    },
    "collapsed": true
   },
   "outputs": [],
   "source": [
    "nerc_frac_monthly.sort_index(inplace=True)"
   ]
  },
  {
   "cell_type": "code",
   "execution_count": 57,
   "metadata": {},
   "outputs": [
    {
     "data": {
      "text/html": [
       "<div>\n",
       "<style scoped>\n",
       "    .dataframe tbody tr th:only-of-type {\n",
       "        vertical-align: middle;\n",
       "    }\n",
       "\n",
       "    .dataframe tbody tr th {\n",
       "        vertical-align: top;\n",
       "    }\n",
       "\n",
       "    .dataframe thead th {\n",
       "        text-align: right;\n",
       "    }\n",
       "</style>\n",
       "<table border=\"1\" class=\"dataframe\">\n",
       "  <thead>\n",
       "    <tr style=\"text-align: right;\">\n",
       "      <th></th>\n",
       "      <th></th>\n",
       "      <th></th>\n",
       "      <th></th>\n",
       "      <th>% generation</th>\n",
       "      <th>% total fuel</th>\n",
       "      <th>% elec fuel</th>\n",
       "    </tr>\n",
       "    <tr>\n",
       "      <th>nerc</th>\n",
       "      <th>state</th>\n",
       "      <th>month</th>\n",
       "      <th>type</th>\n",
       "      <th></th>\n",
       "      <th></th>\n",
       "      <th></th>\n",
       "    </tr>\n",
       "  </thead>\n",
       "  <tbody>\n",
       "    <tr>\n",
       "      <th>WECC</th>\n",
       "      <th>AZ</th>\n",
       "      <th>1</th>\n",
       "      <th>HYC</th>\n",
       "      <td>1.000000</td>\n",
       "      <td>1.000000</td>\n",
       "      <td>1.000000</td>\n",
       "    </tr>\n",
       "    <tr>\n",
       "      <th rowspan=\"2\" valign=\"top\">SERC</th>\n",
       "      <th>FL</th>\n",
       "      <th>2</th>\n",
       "      <th>NG</th>\n",
       "      <td>0.067419</td>\n",
       "      <td>0.075664</td>\n",
       "      <td>0.065527</td>\n",
       "    </tr>\n",
       "    <tr>\n",
       "      <th>TX</th>\n",
       "      <th>11</th>\n",
       "      <th>OOG</th>\n",
       "      <td>0.357988</td>\n",
       "      <td>0.702261</td>\n",
       "      <td>0.290326</td>\n",
       "    </tr>\n",
       "    <tr>\n",
       "      <th>MRO</th>\n",
       "      <th>ND</th>\n",
       "      <th>10</th>\n",
       "      <th>COW</th>\n",
       "      <td>1.000000</td>\n",
       "      <td>1.000000</td>\n",
       "      <td>1.000000</td>\n",
       "    </tr>\n",
       "    <tr>\n",
       "      <th rowspan=\"2\" valign=\"top\">RFC</th>\n",
       "      <th>MI</th>\n",
       "      <th>1</th>\n",
       "      <th>PEL</th>\n",
       "      <td>0.967294</td>\n",
       "      <td>0.924488</td>\n",
       "      <td>0.924253</td>\n",
       "    </tr>\n",
       "    <tr>\n",
       "      <th>VA</th>\n",
       "      <th>10</th>\n",
       "      <th>HYC</th>\n",
       "      <td>0.467742</td>\n",
       "      <td>0.467742</td>\n",
       "      <td>0.467742</td>\n",
       "    </tr>\n",
       "    <tr>\n",
       "      <th>MRO</th>\n",
       "      <th>IA</th>\n",
       "      <th>9</th>\n",
       "      <th>COW</th>\n",
       "      <td>1.000000</td>\n",
       "      <td>1.000000</td>\n",
       "      <td>1.000000</td>\n",
       "    </tr>\n",
       "    <tr>\n",
       "      <th>SPP</th>\n",
       "      <th>NM</th>\n",
       "      <th>11</th>\n",
       "      <th>WND</th>\n",
       "      <td>0.267420</td>\n",
       "      <td>0.267420</td>\n",
       "      <td>0.267420</td>\n",
       "    </tr>\n",
       "    <tr>\n",
       "      <th rowspan=\"2\" valign=\"top\">WECC</th>\n",
       "      <th>NM</th>\n",
       "      <th>10</th>\n",
       "      <th>HYC</th>\n",
       "      <td>1.000000</td>\n",
       "      <td>1.000000</td>\n",
       "      <td>1.000000</td>\n",
       "    </tr>\n",
       "    <tr>\n",
       "      <th>WY</th>\n",
       "      <th>7</th>\n",
       "      <th>NG</th>\n",
       "      <td>1.000000</td>\n",
       "      <td>1.000000</td>\n",
       "      <td>1.000000</td>\n",
       "    </tr>\n",
       "  </tbody>\n",
       "</table>\n",
       "</div>"
      ],
      "text/plain": [
       "                       % generation  % total fuel  % elec fuel\n",
       "nerc state month type                                         \n",
       "WECC AZ    1     HYC       1.000000      1.000000     1.000000\n",
       "SERC FL    2     NG        0.067419      0.075664     0.065527\n",
       "     TX    11    OOG       0.357988      0.702261     0.290326\n",
       "MRO  ND    10    COW       1.000000      1.000000     1.000000\n",
       "RFC  MI    1     PEL       0.967294      0.924488     0.924253\n",
       "     VA    10    HYC       0.467742      0.467742     0.467742\n",
       "MRO  IA    9     COW       1.000000      1.000000     1.000000\n",
       "SPP  NM    11    WND       0.267420      0.267420     0.267420\n",
       "WECC NM    10    HYC       1.000000      1.000000     1.000000\n",
       "     WY    7     NG        1.000000      1.000000     1.000000"
      ]
     },
     "execution_count": 57,
     "metadata": {},
     "output_type": "execute_result"
    }
   ],
   "source": [
    "nerc_frac_monthly.sample(10)"
   ]
  },
  {
   "cell_type": "markdown",
   "metadata": {},
   "source": [
    "Although the dataframe is called `final`, it's really just the final allocated extra state-level generation/fuel consumption"
   ]
  },
  {
   "cell_type": "code",
   "execution_count": 58,
   "metadata": {
    "ExecuteTime": {
     "end_time": "2017-11-06T17:19:01.406924Z",
     "start_time": "2017-11-06T17:19:01.377498Z"
    },
    "collapsed": true
   },
   "outputs": [],
   "source": [
    "path = join(data_path, 'Derived data',\n",
    "            'NERC extra gen fuels {}.csv'.format(file_date))\n",
    "final.to_csv(path)"
   ]
  },
  {
   "cell_type": "code",
   "execution_count": null,
   "metadata": {},
   "outputs": [],
   "source": []
  }
 ],
 "metadata": {
  "kernelspec": {
   "display_name": "psci",
   "language": "python",
   "name": "psci"
  },
  "language_info": {
   "codemirror_mode": {
    "name": "ipython",
    "version": 3
   },
   "file_extension": ".py",
   "mimetype": "text/x-python",
   "name": "python",
   "nbconvert_exporter": "python",
   "pygments_lexer": "ipython3",
   "version": "3.6.5"
  },
  "varInspector": {
   "cols": {
    "lenName": 16,
    "lenType": 16,
    "lenVar": 40
   },
   "kernels_config": {
    "python": {
     "delete_cmd_postfix": "",
     "delete_cmd_prefix": "del ",
     "library": "var_list.py",
     "varRefreshCmd": "print(var_dic_list())"
    },
    "r": {
     "delete_cmd_postfix": ") ",
     "delete_cmd_prefix": "rm(",
     "library": "var_list.r",
     "varRefreshCmd": "cat(var_dic_list()) "
    }
   },
   "types_to_exclude": [
    "module",
    "function",
    "builtin_function_or_method",
    "instance",
    "_Feature"
   ],
   "window_display": false
  }
 },
 "nbformat": 4,
 "nbformat_minor": 2
}
