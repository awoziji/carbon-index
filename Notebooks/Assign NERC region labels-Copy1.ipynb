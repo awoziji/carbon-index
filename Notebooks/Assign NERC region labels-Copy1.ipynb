{
 "cells": [
  {
   "cell_type": "markdown",
   "metadata": {},
   "source": [
    "# Assign NERC labels to plants using 860 data and RandomForest\n",
    "\n",
    "## Instructions\n",
    "Make sure the `file_date` parameter below is set to whatever value you would like appended to file names.\n",
    "\n",
    "Change the `most_recent_860_year` parameter below to match the most up-to-date EIA-860 annual data file. As of March 2018 this is 2016.\n",
    "\n",
    "EIA-860 (annual) excel files will need to be [downloaded](https://www.eia.gov/electricity/data/eia860/) and unzipped to the `EIA downloads` folder. Make sure that all years from 2012 through the most recent data year are available. Also download the most recent [EIA-860m](https://www.eia.gov/electricity/data/eia860m/) to `EIA downloads`.\n",
    "\n",
    "The most recent annual 860 file available (as of March 2018) represents 2016 data. When newer EIA-860 annual files are added the dictionary with pandas `read_excel` parameters will need to be updated. Note that EIA puts out an Early Release version of 860 with extra header rows and columns, so be sure to appropriately adjust the `skiprows` and `usecols` parameters if using an Early Release file.\n",
    "\n",
    "The entire notebook can be run at once using *Run All Cells*"
   ]
  },
  {
   "cell_type": "code",
   "execution_count": 26,
   "metadata": {
    "ExecuteTime": {
     "end_time": "2017-11-06T20:00:19.547289Z",
     "start_time": "2017-11-06T20:00:19.534260Z"
    },
    "collapsed": true
   },
   "outputs": [],
   "source": [
    "%matplotlib inline\n",
    "import matplotlib.pyplot as plt\n",
    "import os\n",
    "from os.path import join\n",
    "import pandas as pd\n",
    "from sklearn import neighbors, metrics\n",
    "from sklearn.preprocessing import LabelEncoder\n",
    "from sklearn.model_selection import train_test_split, GridSearchCV\n",
    "from collections import Counter\n",
    "from copy import deepcopy\n",
    "\n",
    "from src.params import DATA_PATHS, DATA_DATE, LAST_ANNUAL_923_YEAR, EIA_860_NERC_INFO\n",
    "from src.util import download_unzip, download_save\n",
    "\n",
    "\n",
    "# cwd = os.getcwd()\n",
    "# data_path = join(cwd, '..', 'Data storage')"
   ]
  },
  {
   "cell_type": "markdown",
   "metadata": {},
   "source": [
    "## Load data\n",
    "This loads facility data that has been assembled from the EIA bulk data file, and EIA-860 excel files. The EIA-860 excel files need to be downloaded manually."
   ]
  },
  {
   "cell_type": "code",
   "execution_count": 104,
   "metadata": {},
   "outputs": [],
   "source": [
    "def load_plants():\n",
    "\n",
    "    from src.analysis.load_transformed_data import FACILITY_DF\n",
    "\n",
    "    plants = FACILITY_DF.loc[:, ['plant id', 'year', 'lat', 'lon', 'state']]\n",
    "\n",
    "    # Because the most recent year facility dataframe only includes annually reporting\n",
    "    # facilities I'm going to duplicate the plant id, lat/lon, and state information\n",
    "    # from the last year will full data (LAST_ANNUAL_923_YEAR).\n",
    "\n",
    "    all_years = plants['year'].unique()\n",
    "\n",
    "    df_list = []\n",
    "    last_full_year_plants = plants.loc[plants.year == LAST_ANNUAL_923_YEAR, :].copy()\n",
    "    for year in all_years:\n",
    "        if year > LAST_ANNUAL_923_YEAR:\n",
    "            copy_plants = last_full_year_plants.copy()\n",
    "            copy_plants['year'] = year\n",
    "            df_list.append(copy_plants)\n",
    "    \n",
    "    copy_years = pd.concat(df_list)\n",
    "\n",
    "    plants = pd.concat([plants.loc[plants.year <= LAST_ANNUAL_923_YEAR, :], copy_years])\n",
    "    plants.drop_duplicates(inplace=True)\n",
    "    plants.reset_index(inplace=True, drop=True)\n",
    "\n",
    "    return plants"
   ]
  },
  {
   "cell_type": "code",
   "execution_count": 105,
   "metadata": {},
   "outputs": [],
   "source": [
    "plants = load_plants()"
   ]
  },
  {
   "cell_type": "code",
   "execution_count": 106,
   "metadata": {},
   "outputs": [
    {
     "data": {
      "text/html": [
       "<div>\n",
       "<style scoped>\n",
       "    .dataframe tbody tr th:only-of-type {\n",
       "        vertical-align: middle;\n",
       "    }\n",
       "\n",
       "    .dataframe tbody tr th {\n",
       "        vertical-align: top;\n",
       "    }\n",
       "\n",
       "    .dataframe thead th {\n",
       "        text-align: right;\n",
       "    }\n",
       "</style>\n",
       "<table border=\"1\" class=\"dataframe\">\n",
       "  <thead>\n",
       "    <tr style=\"text-align: right;\">\n",
       "      <th></th>\n",
       "      <th>plant id</th>\n",
       "      <th>year</th>\n",
       "      <th>lat</th>\n",
       "      <th>lon</th>\n",
       "      <th>state</th>\n",
       "    </tr>\n",
       "  </thead>\n",
       "  <tbody>\n",
       "    <tr>\n",
       "      <th>0</th>\n",
       "      <td>10120</td>\n",
       "      <td>2017</td>\n",
       "      <td>31.164772</td>\n",
       "      <td>-81.478724</td>\n",
       "      <td>GA</td>\n",
       "    </tr>\n",
       "    <tr>\n",
       "      <th>1</th>\n",
       "      <td>10120</td>\n",
       "      <td>2016</td>\n",
       "      <td>31.164772</td>\n",
       "      <td>-81.478724</td>\n",
       "      <td>GA</td>\n",
       "    </tr>\n",
       "    <tr>\n",
       "      <th>2</th>\n",
       "      <td>10120</td>\n",
       "      <td>2015</td>\n",
       "      <td>31.164772</td>\n",
       "      <td>-81.478724</td>\n",
       "      <td>GA</td>\n",
       "    </tr>\n",
       "    <tr>\n",
       "      <th>3</th>\n",
       "      <td>10120</td>\n",
       "      <td>2014</td>\n",
       "      <td>31.164772</td>\n",
       "      <td>-81.478724</td>\n",
       "      <td>GA</td>\n",
       "    </tr>\n",
       "    <tr>\n",
       "      <th>4</th>\n",
       "      <td>10120</td>\n",
       "      <td>2013</td>\n",
       "      <td>31.164772</td>\n",
       "      <td>-81.478724</td>\n",
       "      <td>GA</td>\n",
       "    </tr>\n",
       "    <tr>\n",
       "      <th>5</th>\n",
       "      <td>10120</td>\n",
       "      <td>2012</td>\n",
       "      <td>31.164772</td>\n",
       "      <td>-81.478724</td>\n",
       "      <td>GA</td>\n",
       "    </tr>\n",
       "    <tr>\n",
       "      <th>6</th>\n",
       "      <td>10120</td>\n",
       "      <td>2011</td>\n",
       "      <td>31.164772</td>\n",
       "      <td>-81.478724</td>\n",
       "      <td>GA</td>\n",
       "    </tr>\n",
       "    <tr>\n",
       "      <th>7</th>\n",
       "      <td>10120</td>\n",
       "      <td>2010</td>\n",
       "      <td>31.164772</td>\n",
       "      <td>-81.478724</td>\n",
       "      <td>GA</td>\n",
       "    </tr>\n",
       "    <tr>\n",
       "      <th>8</th>\n",
       "      <td>10120</td>\n",
       "      <td>2009</td>\n",
       "      <td>31.164772</td>\n",
       "      <td>-81.478724</td>\n",
       "      <td>GA</td>\n",
       "    </tr>\n",
       "    <tr>\n",
       "      <th>9</th>\n",
       "      <td>10120</td>\n",
       "      <td>2008</td>\n",
       "      <td>31.164772</td>\n",
       "      <td>-81.478724</td>\n",
       "      <td>GA</td>\n",
       "    </tr>\n",
       "  </tbody>\n",
       "</table>\n",
       "</div>"
      ],
      "text/plain": [
       "   plant id  year        lat        lon state\n",
       "0     10120  2017  31.164772 -81.478724    GA\n",
       "1     10120  2016  31.164772 -81.478724    GA\n",
       "2     10120  2015  31.164772 -81.478724    GA\n",
       "3     10120  2014  31.164772 -81.478724    GA\n",
       "4     10120  2013  31.164772 -81.478724    GA\n",
       "5     10120  2012  31.164772 -81.478724    GA\n",
       "6     10120  2011  31.164772 -81.478724    GA\n",
       "7     10120  2010  31.164772 -81.478724    GA\n",
       "8     10120  2009  31.164772 -81.478724    GA\n",
       "9     10120  2008  31.164772 -81.478724    GA"
      ]
     },
     "execution_count": 106,
     "metadata": {},
     "output_type": "execute_result"
    }
   ],
   "source": [
    "plants.head(10)"
   ]
  },
  {
   "cell_type": "markdown",
   "metadata": {},
   "source": [
    "### Load known NERC labels from EIA-860\n",
    "Current NERCS go back to 2012. Use all annual 860 files from 2012 through the most recent available. Extend the dictionary of dictionaries below with any files available after 2016. `io`, `skiprows`, and `usecols` are all input parameters for the Pandas `read_excel` function."
   ]
  },
  {
   "cell_type": "code",
   "execution_count": 7,
   "metadata": {
    "ExecuteTime": {
     "end_time": "2017-11-06T14:27:35.633747Z",
     "start_time": "2017-11-06T14:27:35.621006Z"
    },
    "collapsed": true
   },
   "outputs": [],
   "source": [
    "eia_base_path = join(data_path, 'EIA downloads')\n",
    "file_860_info = {\n",
    "#     2011: {'io': join(eia_base_path, 'eia8602011', 'Plant.xlsx'),\n",
    "#            'skiprows': 0,\n",
    "#            'parse_cols': 'B,J'},\n",
    "    2012: {'io': join(eia_base_path, 'eia8602012', 'PlantY2012.xlsx'),\n",
    "           'skiprows': 0,\n",
    "           'usecols': 'B,J'},\n",
    "    2013: {'io': join(eia_base_path, 'eia8602013', '2___Plant_Y2013.xlsx'),\n",
    "           'skiprows': 0,\n",
    "           'usecols': 'C,L'},\n",
    "    2014: {'io': join(eia_base_path, 'eia8602014', '2___Plant_Y2014.xlsx'),\n",
    "           'skiprows': 0,\n",
    "           'usecols': 'C,L'},\n",
    "    2015: {'io': join(eia_base_path, 'eia8602015', '2___Plant_Y2015.xlsx'),\n",
    "           'skiprows': 0,\n",
    "           'usecols': 'C,L'},\n",
    "    2016: {'io': join(eia_base_path, 'eia8602016', '2___Plant_Y2016.xlsx'),\n",
    "           'skiprows': 0,\n",
    "           'usecols': 'C,L'},\n",
    "    2017: {'io': join(eia_base_path, 'eia8602017', '2___Plant_Y2017.xlsx'),\n",
    "           'skiprows': 0,\n",
    "           'usecols': 'C,L'},\n",
    "}"
   ]
  },
  {
   "cell_type": "code",
   "execution_count": 58,
   "metadata": {},
   "outputs": [],
   "source": [
    "def extract_860_nerc_labels(year):\n",
    "    \n",
    "    if year <= 2012:\n",
    "        params = {'io': DATA_PATHS['eia860'] / 'eia8602012' / 'PlantY2012.xlsx',\n",
    "           'skiprows': 1,\n",
    "           'usecols': 'B,J'}\n",
    "        data_year = 2012\n",
    "    else:\n",
    "        params = {'io': DATA_PATHS['eia860'] / f'eia860{year}' / f'2___Plant_Y{year}.xlsx',\n",
    "           'skiprows': 1,\n",
    "           'usecols': 'C,L'}\n",
    "        data_year = year\n",
    "    \n",
    "    \n",
    "    if not params['io'].exists():\n",
    "        save_path = params['io'].parent\n",
    "        try:\n",
    "            url = (\n",
    "                'https://www.eia.gov/electricity/data/eia860/'\n",
    "                + f'archive/xls/eia860{data_year}.zip'\n",
    "            )\n",
    "            download_unzip(url, save_path)\n",
    "        except ValueError:\n",
    "            url = (\n",
    "                'https://www.eia.gov/electricity/data/eia860/'\n",
    "                + f'xls/eia860{data_year}.zip'\n",
    "            )\n",
    "            download_unzip(url, save_path)\n",
    "    \n",
    "    eia_nercs = pd.read_excel(**params)\n",
    "    eia_nercs.columns = ['plant id', 'nerc']\n",
    "    eia_nercs['year'] = year\n",
    "    \n",
    "    return eia_nercs"
   ]
  },
  {
   "cell_type": "code",
   "execution_count": 59,
   "metadata": {},
   "outputs": [],
   "source": [
    "test = extract_860_nerc_labels(2015)"
   ]
  },
  {
   "cell_type": "code",
   "execution_count": 60,
   "metadata": {},
   "outputs": [
    {
     "data": {
      "text/html": [
       "<div>\n",
       "<style scoped>\n",
       "    .dataframe tbody tr th:only-of-type {\n",
       "        vertical-align: middle;\n",
       "    }\n",
       "\n",
       "    .dataframe tbody tr th {\n",
       "        vertical-align: top;\n",
       "    }\n",
       "\n",
       "    .dataframe thead th {\n",
       "        text-align: right;\n",
       "    }\n",
       "</style>\n",
       "<table border=\"1\" class=\"dataframe\">\n",
       "  <thead>\n",
       "    <tr style=\"text-align: right;\">\n",
       "      <th></th>\n",
       "      <th>plant id</th>\n",
       "      <th>nerc</th>\n",
       "      <th>year</th>\n",
       "    </tr>\n",
       "  </thead>\n",
       "  <tbody>\n",
       "    <tr>\n",
       "      <th>0</th>\n",
       "      <td>2</td>\n",
       "      <td>SERC</td>\n",
       "      <td>2015</td>\n",
       "    </tr>\n",
       "    <tr>\n",
       "      <th>1</th>\n",
       "      <td>3</td>\n",
       "      <td>SERC</td>\n",
       "      <td>2015</td>\n",
       "    </tr>\n",
       "    <tr>\n",
       "      <th>2</th>\n",
       "      <td>4</td>\n",
       "      <td>SERC</td>\n",
       "      <td>2015</td>\n",
       "    </tr>\n",
       "    <tr>\n",
       "      <th>3</th>\n",
       "      <td>7</td>\n",
       "      <td>SERC</td>\n",
       "      <td>2015</td>\n",
       "    </tr>\n",
       "    <tr>\n",
       "      <th>4</th>\n",
       "      <td>8</td>\n",
       "      <td>SERC</td>\n",
       "      <td>2015</td>\n",
       "    </tr>\n",
       "  </tbody>\n",
       "</table>\n",
       "</div>"
      ],
      "text/plain": [
       "   plant id  nerc  year\n",
       "0         2  SERC  2015\n",
       "1         3  SERC  2015\n",
       "2         4  SERC  2015\n",
       "3         7  SERC  2015\n",
       "4         8  SERC  2015"
      ]
     },
     "execution_count": 60,
     "metadata": {},
     "output_type": "execute_result"
    }
   ],
   "source": [
    "test.head()"
   ]
  },
  {
   "cell_type": "code",
   "execution_count": 77,
   "metadata": {},
   "outputs": [],
   "source": [
    "nercs = pd.concat(\n",
    "    [extract_860_nerc_labels(year) for year in range(2001, LAST_ANNUAL_923_YEAR + 1)]\n",
    ")"
   ]
  },
  {
   "cell_type": "code",
   "execution_count": 62,
   "metadata": {},
   "outputs": [
    {
     "data": {
      "text/html": [
       "<div>\n",
       "<style scoped>\n",
       "    .dataframe tbody tr th:only-of-type {\n",
       "        vertical-align: middle;\n",
       "    }\n",
       "\n",
       "    .dataframe tbody tr th {\n",
       "        vertical-align: top;\n",
       "    }\n",
       "\n",
       "    .dataframe thead th {\n",
       "        text-align: right;\n",
       "    }\n",
       "</style>\n",
       "<table border=\"1\" class=\"dataframe\">\n",
       "  <thead>\n",
       "    <tr style=\"text-align: right;\">\n",
       "      <th></th>\n",
       "      <th>plant id</th>\n",
       "      <th>nerc</th>\n",
       "      <th>year</th>\n",
       "    </tr>\n",
       "  </thead>\n",
       "  <tbody>\n",
       "    <tr>\n",
       "      <th>0</th>\n",
       "      <td>10867</td>\n",
       "      <td>SERC</td>\n",
       "      <td>2001</td>\n",
       "    </tr>\n",
       "    <tr>\n",
       "      <th>1</th>\n",
       "      <td>50903</td>\n",
       "      <td>RFC</td>\n",
       "      <td>2001</td>\n",
       "    </tr>\n",
       "    <tr>\n",
       "      <th>2</th>\n",
       "      <td>10671</td>\n",
       "      <td>SPP</td>\n",
       "      <td>2001</td>\n",
       "    </tr>\n",
       "    <tr>\n",
       "      <th>3</th>\n",
       "      <td>2527</td>\n",
       "      <td>NPCC</td>\n",
       "      <td>2001</td>\n",
       "    </tr>\n",
       "    <tr>\n",
       "      <th>4</th>\n",
       "      <td>3305</td>\n",
       "      <td>SERC</td>\n",
       "      <td>2001</td>\n",
       "    </tr>\n",
       "  </tbody>\n",
       "</table>\n",
       "</div>"
      ],
      "text/plain": [
       "   plant id  nerc  year\n",
       "0     10867  SERC  2001\n",
       "1     50903   RFC  2001\n",
       "2     10671   SPP  2001\n",
       "3      2527  NPCC  2001\n",
       "4      3305  SERC  2001"
      ]
     },
     "execution_count": 62,
     "metadata": {},
     "output_type": "execute_result"
    }
   ],
   "source": [
    "nercs.head()"
   ]
  },
  {
   "cell_type": "code",
   "execution_count": 63,
   "metadata": {},
   "outputs": [
    {
     "data": {
      "text/html": [
       "<div>\n",
       "<style scoped>\n",
       "    .dataframe tbody tr th:only-of-type {\n",
       "        vertical-align: middle;\n",
       "    }\n",
       "\n",
       "    .dataframe tbody tr th {\n",
       "        vertical-align: top;\n",
       "    }\n",
       "\n",
       "    .dataframe thead th {\n",
       "        text-align: right;\n",
       "    }\n",
       "</style>\n",
       "<table border=\"1\" class=\"dataframe\">\n",
       "  <thead>\n",
       "    <tr style=\"text-align: right;\">\n",
       "      <th></th>\n",
       "      <th>plant id</th>\n",
       "      <th>nerc</th>\n",
       "      <th>year</th>\n",
       "    </tr>\n",
       "  </thead>\n",
       "  <tbody>\n",
       "    <tr>\n",
       "      <th>10122</th>\n",
       "      <td>61955</td>\n",
       "      <td>RFC</td>\n",
       "      <td>2017</td>\n",
       "    </tr>\n",
       "    <tr>\n",
       "      <th>10123</th>\n",
       "      <td>61956</td>\n",
       "      <td>SERC</td>\n",
       "      <td>2017</td>\n",
       "    </tr>\n",
       "    <tr>\n",
       "      <th>10124</th>\n",
       "      <td>61957</td>\n",
       "      <td>SPP</td>\n",
       "      <td>2017</td>\n",
       "    </tr>\n",
       "    <tr>\n",
       "      <th>10125</th>\n",
       "      <td>61958</td>\n",
       "      <td>NPCC</td>\n",
       "      <td>2017</td>\n",
       "    </tr>\n",
       "    <tr>\n",
       "      <th>10126</th>\n",
       "      <td>61959</td>\n",
       "      <td>NPCC</td>\n",
       "      <td>2017</td>\n",
       "    </tr>\n",
       "  </tbody>\n",
       "</table>\n",
       "</div>"
      ],
      "text/plain": [
       "       plant id  nerc  year\n",
       "10122     61955   RFC  2017\n",
       "10123     61956  SERC  2017\n",
       "10124     61957   SPP  2017\n",
       "10125     61958  NPCC  2017\n",
       "10126     61959  NPCC  2017"
      ]
     },
     "execution_count": 63,
     "metadata": {},
     "output_type": "execute_result"
    }
   ],
   "source": [
    "nercs.tail()"
   ]
  },
  {
   "cell_type": "markdown",
   "metadata": {},
   "source": [
    "### Define training data (has all info)"
   ]
  },
  {
   "cell_type": "code",
   "execution_count": 113,
   "metadata": {},
   "outputs": [],
   "source": [
    "training = nercs.dropna()\n",
    "unknown = nercs.loc[nercs['nerc'].isnull(), :]"
   ]
  },
  {
   "cell_type": "code",
   "execution_count": 118,
   "metadata": {},
   "outputs": [
    {
     "data": {
      "text/html": [
       "<div>\n",
       "<style scoped>\n",
       "    .dataframe tbody tr th:only-of-type {\n",
       "        vertical-align: middle;\n",
       "    }\n",
       "\n",
       "    .dataframe tbody tr th {\n",
       "        vertical-align: top;\n",
       "    }\n",
       "\n",
       "    .dataframe thead th {\n",
       "        text-align: right;\n",
       "    }\n",
       "</style>\n",
       "<table border=\"1\" class=\"dataframe\">\n",
       "  <thead>\n",
       "    <tr style=\"text-align: right;\">\n",
       "      <th></th>\n",
       "      <th>plant id</th>\n",
       "      <th>nerc</th>\n",
       "      <th>year</th>\n",
       "    </tr>\n",
       "  </thead>\n",
       "  <tbody>\n",
       "    <tr>\n",
       "      <th>1637</th>\n",
       "      <td>58277</td>\n",
       "      <td>NaN</td>\n",
       "      <td>2001</td>\n",
       "    </tr>\n",
       "    <tr>\n",
       "      <th>1961</th>\n",
       "      <td>58405</td>\n",
       "      <td>NaN</td>\n",
       "      <td>2001</td>\n",
       "    </tr>\n",
       "    <tr>\n",
       "      <th>4145</th>\n",
       "      <td>58469</td>\n",
       "      <td>NaN</td>\n",
       "      <td>2001</td>\n",
       "    </tr>\n",
       "    <tr>\n",
       "      <th>6945</th>\n",
       "      <td>58117</td>\n",
       "      <td>NaN</td>\n",
       "      <td>2001</td>\n",
       "    </tr>\n",
       "    <tr>\n",
       "      <th>6946</th>\n",
       "      <td>58278</td>\n",
       "      <td>NaN</td>\n",
       "      <td>2001</td>\n",
       "    </tr>\n",
       "  </tbody>\n",
       "</table>\n",
       "</div>"
      ],
      "text/plain": [
       "      plant id nerc  year\n",
       "1637     58277  NaN  2001\n",
       "1961     58405  NaN  2001\n",
       "4145     58469  NaN  2001\n",
       "6945     58117  NaN  2001\n",
       "6946     58278  NaN  2001"
      ]
     },
     "execution_count": 118,
     "metadata": {},
     "output_type": "execute_result"
    }
   ],
   "source": [
    "unknown.head()"
   ]
  },
  {
   "cell_type": "markdown",
   "metadata": {},
   "source": [
    "### Some plants in EIA-860 don't have NERC labels. Drop them now.\n",
    "This is my training data. All of these plants should still be in my `plants` dataframe."
   ]
  },
  {
   "cell_type": "markdown",
   "metadata": {},
   "source": [
    "nan_plants = {}\n",
    "all_nan = []\n",
    "years = nercs.year.unique()\n",
    "for year in years:\n",
    "    nan_plants[year] = nercs.loc[(nercs.year == year) &\n",
    "                                 (nercs.isnull().any(axis=1)), 'plant id'].tolist()\n",
    "    all_nan.extend(nan_plants[year])\n",
    "\n",
    "# number of plants that don't have a nerc in at least one year\n",
    "len(all_nan)"
   ]
  },
  {
   "cell_type": "markdown",
   "metadata": {},
   "source": [
    "# drop all the rows without a nerc value\n",
    "nercs.dropna(inplace=True)"
   ]
  },
  {
   "cell_type": "markdown",
   "metadata": {},
   "source": [
    "nan_plants[2017]"
   ]
  },
  {
   "cell_type": "markdown",
   "metadata": {},
   "source": [
    "## Load EIA-860m for some info on recent facilities\n",
    "The EIA-860m (monthly) data file has an up-to-date list of all operating power plants and their associated balancing authority. It does not list the NERC region, so it can't be used to assign NERC labels for all plants. But in some cases knowing the state and balancing authority is enough to make a good guess about which NERC a plant is in.\n",
    "\n",
    "Assigning NERC region labels has the lowest accuracy for plants in SPP and TRE. To compensate, I'm going to assume that anything in TX or OK and SWPP balancing authority is in SPP. On the flip side, if it's in TX and ERCOT I'll assign it to TRE.\n",
    "\n",
    "Only do this for plants that come online since the most recent 860 annual data.\n",
    "\n",
    "**NOTE**\n",
    "Because I'm looking at units that came online in 2017 some of the plant ids will already exist"
   ]
  },
  {
   "cell_type": "code",
   "execution_count": 111,
   "metadata": {},
   "outputs": [],
   "source": [
    "def label_new_spp_ercot(filename=None):\n",
    "    \"\"\"\n",
    "    Download and save an EIA860 monthly generator excel file. Can either be the\n",
    "    most recent month available or a specific month.\n",
    "    \n",
    "    Parameters\n",
    "    ----------\n",
    "    filename : str, optional\n",
    "        the excel filename to download, in format <month>_generator<year>.xlsx\n",
    "        (the default is None, in which case the most recent file is determined\n",
    "        from the 860m website)\n",
    "    \n",
    "    \"\"\"\n",
    "    base_url = 'https://www.eia.gov/electricity/data/eia860m/'\n",
    "    \n",
    "    if not filename:\n",
    "        \n",
    "        # Scrape the 860m website and find the newest monthly file\n",
    "        table = pd.read_html(base_url, header=0, flavor='lxml')[0]\n",
    "        month, year = table['EIA 860M'][0].split() # 'Month year' as a string\n",
    "        month = month.lower()\n",
    "        filename = '{}_generator{}.xlsx'.format(month, year)\n",
    "\n",
    "    url = base_url + f'xls/{filename}'\n",
    "    save_path = DATA_PATHS['eia860m'] / filename\n",
    "    if not save_path.exists():\n",
    "        download_save(url=url, save_path=save_path)\n",
    "    \n",
    "    _m860 = pd.read_excel(save_path, sheet_name='Operating',skipfooter=1,\n",
    "                         usecols='C,F,P,AE', skiprows=1)\n",
    "    _m860.columns = _m860.columns.str.lower()\n",
    "#     print(_m860.columns)\n",
    "    \n",
    "    m860 = _m860.loc[(_m860['operating year'] > LAST_ANNUAL_923_YEAR)].copy()\n",
    "    \n",
    "    m860.loc[(m860['plant state'].isin(['TX', 'OK'])) &\n",
    "             (m860['balancing authority code'] == 'SWPP'), 'nerc'] = 'SPP'\n",
    "\n",
    "    m860.loc[(m860['plant state'].isin(['TX'])) &\n",
    "             (m860['balancing authority code'] == 'ERCO'), 'nerc'] = 'TRE'\n",
    "    \n",
    "    m860.dropna(inplace=True)\n",
    "    m860.reset_index(inplace=True, drop=True)\n",
    "    \n",
    "    \n",
    "    m860 = m860[['plant id', 'nerc', 'operating year']]\n",
    "    m860.columns = ['plant id', 'nerc', 'year']\n",
    "    m860.drop_duplicates(inplace=True)\n",
    "    \n",
    "    return m860"
   ]
  },
  {
   "cell_type": "markdown",
   "metadata": {},
   "source": [
    "### Append my 2017 SPP and TRE guesses to the full nerc dataframe"
   ]
  },
  {
   "cell_type": "code",
   "execution_count": 112,
   "metadata": {},
   "outputs": [],
   "source": [
    "def add_new_spp_tre_labels(nercs):\n",
    "    \n",
    "    new_spp_ercot = label_new_spp_ercot()\n",
    "    \n",
    "    nercs = pd.concat([nercs, new_spp_ercot])\n",
    "    \n",
    "    return nercs"
   ]
  },
  {
   "cell_type": "code",
   "execution_count": null,
   "metadata": {},
   "outputs": [],
   "source": []
  },
  {
   "cell_type": "code",
   "execution_count": 114,
   "metadata": {},
   "outputs": [],
   "source": [
    "# nercs = pd.concat([nercs, new_spp_ercot])\n",
    "\n",
    "training = add_new_spp_tre_labels(training)"
   ]
  },
  {
   "cell_type": "markdown",
   "metadata": {},
   "source": [
    "## Clean and prep data for KNN"
   ]
  },
  {
   "cell_type": "code",
   "execution_count": 107,
   "metadata": {},
   "outputs": [
    {
     "data": {
      "text/html": [
       "<div>\n",
       "<style scoped>\n",
       "    .dataframe tbody tr th:only-of-type {\n",
       "        vertical-align: middle;\n",
       "    }\n",
       "\n",
       "    .dataframe tbody tr th {\n",
       "        vertical-align: top;\n",
       "    }\n",
       "\n",
       "    .dataframe thead th {\n",
       "        text-align: right;\n",
       "    }\n",
       "</style>\n",
       "<table border=\"1\" class=\"dataframe\">\n",
       "  <thead>\n",
       "    <tr style=\"text-align: right;\">\n",
       "      <th></th>\n",
       "      <th>plant id</th>\n",
       "      <th>year</th>\n",
       "      <th>lat</th>\n",
       "      <th>lon</th>\n",
       "      <th>state</th>\n",
       "    </tr>\n",
       "  </thead>\n",
       "  <tbody>\n",
       "    <tr>\n",
       "      <th>0</th>\n",
       "      <td>10120</td>\n",
       "      <td>2017</td>\n",
       "      <td>31.164772</td>\n",
       "      <td>-81.478724</td>\n",
       "      <td>GA</td>\n",
       "    </tr>\n",
       "    <tr>\n",
       "      <th>1</th>\n",
       "      <td>10120</td>\n",
       "      <td>2016</td>\n",
       "      <td>31.164772</td>\n",
       "      <td>-81.478724</td>\n",
       "      <td>GA</td>\n",
       "    </tr>\n",
       "    <tr>\n",
       "      <th>2</th>\n",
       "      <td>10120</td>\n",
       "      <td>2015</td>\n",
       "      <td>31.164772</td>\n",
       "      <td>-81.478724</td>\n",
       "      <td>GA</td>\n",
       "    </tr>\n",
       "    <tr>\n",
       "      <th>3</th>\n",
       "      <td>10120</td>\n",
       "      <td>2014</td>\n",
       "      <td>31.164772</td>\n",
       "      <td>-81.478724</td>\n",
       "      <td>GA</td>\n",
       "    </tr>\n",
       "    <tr>\n",
       "      <th>4</th>\n",
       "      <td>10120</td>\n",
       "      <td>2013</td>\n",
       "      <td>31.164772</td>\n",
       "      <td>-81.478724</td>\n",
       "      <td>GA</td>\n",
       "    </tr>\n",
       "  </tbody>\n",
       "</table>\n",
       "</div>"
      ],
      "text/plain": [
       "   plant id  year        lat        lon state\n",
       "0     10120  2017  31.164772 -81.478724    GA\n",
       "1     10120  2016  31.164772 -81.478724    GA\n",
       "2     10120  2015  31.164772 -81.478724    GA\n",
       "3     10120  2014  31.164772 -81.478724    GA\n",
       "4     10120  2013  31.164772 -81.478724    GA"
      ]
     },
     "execution_count": 107,
     "metadata": {},
     "output_type": "execute_result"
    }
   ],
   "source": [
    "plants.head()"
   ]
  },
  {
   "cell_type": "code",
   "execution_count": 82,
   "metadata": {},
   "outputs": [
    {
     "data": {
      "text/html": [
       "<div>\n",
       "<style scoped>\n",
       "    .dataframe tbody tr th:only-of-type {\n",
       "        vertical-align: middle;\n",
       "    }\n",
       "\n",
       "    .dataframe tbody tr th {\n",
       "        vertical-align: top;\n",
       "    }\n",
       "\n",
       "    .dataframe thead th {\n",
       "        text-align: right;\n",
       "    }\n",
       "</style>\n",
       "<table border=\"1\" class=\"dataframe\">\n",
       "  <thead>\n",
       "    <tr style=\"text-align: right;\">\n",
       "      <th></th>\n",
       "      <th>plant id</th>\n",
       "      <th>nerc</th>\n",
       "      <th>year</th>\n",
       "    </tr>\n",
       "  </thead>\n",
       "  <tbody>\n",
       "    <tr>\n",
       "      <th>10122</th>\n",
       "      <td>61955</td>\n",
       "      <td>RFC</td>\n",
       "      <td>2017</td>\n",
       "    </tr>\n",
       "    <tr>\n",
       "      <th>10123</th>\n",
       "      <td>61956</td>\n",
       "      <td>SERC</td>\n",
       "      <td>2017</td>\n",
       "    </tr>\n",
       "    <tr>\n",
       "      <th>10124</th>\n",
       "      <td>61957</td>\n",
       "      <td>SPP</td>\n",
       "      <td>2017</td>\n",
       "    </tr>\n",
       "    <tr>\n",
       "      <th>10125</th>\n",
       "      <td>61958</td>\n",
       "      <td>NPCC</td>\n",
       "      <td>2017</td>\n",
       "    </tr>\n",
       "    <tr>\n",
       "      <th>10126</th>\n",
       "      <td>61959</td>\n",
       "      <td>NPCC</td>\n",
       "      <td>2017</td>\n",
       "    </tr>\n",
       "  </tbody>\n",
       "</table>\n",
       "</div>"
      ],
      "text/plain": [
       "       plant id  nerc  year\n",
       "10122     61955   RFC  2017\n",
       "10123     61956  SERC  2017\n",
       "10124     61957   SPP  2017\n",
       "10125     61958  NPCC  2017\n",
       "10126     61959  NPCC  2017"
      ]
     },
     "execution_count": 82,
     "metadata": {},
     "output_type": "execute_result"
    }
   ],
   "source": [
    "nercs.tail()"
   ]
  },
  {
   "cell_type": "markdown",
   "metadata": {},
   "source": [
    "Checked to make sure the type of merge doesn't matter once rows without nerc values are dropped"
   ]
  },
  {
   "cell_type": "code",
   "execution_count": 115,
   "metadata": {
    "ExecuteTime": {
     "end_time": "2017-11-06T16:39:54.416966Z",
     "start_time": "2017-11-06T16:39:54.383812Z"
    },
    "collapsed": true
   },
   "outputs": [],
   "source": [
    "training_features = pd.merge(training, plants, on=['plant id', 'year'], how='inner')\n",
    "training_features.dropna(inplace=True)"
   ]
  },
  {
   "cell_type": "code",
   "execution_count": 116,
   "metadata": {},
   "outputs": [
    {
     "data": {
      "text/html": [
       "<div>\n",
       "<style scoped>\n",
       "    .dataframe tbody tr th:only-of-type {\n",
       "        vertical-align: middle;\n",
       "    }\n",
       "\n",
       "    .dataframe tbody tr th {\n",
       "        vertical-align: top;\n",
       "    }\n",
       "\n",
       "    .dataframe thead th {\n",
       "        text-align: right;\n",
       "    }\n",
       "</style>\n",
       "<table border=\"1\" class=\"dataframe\">\n",
       "  <thead>\n",
       "    <tr style=\"text-align: right;\">\n",
       "      <th></th>\n",
       "      <th>plant id</th>\n",
       "      <th>nerc</th>\n",
       "      <th>year</th>\n",
       "      <th>lat</th>\n",
       "      <th>lon</th>\n",
       "      <th>state</th>\n",
       "    </tr>\n",
       "  </thead>\n",
       "  <tbody>\n",
       "    <tr>\n",
       "      <th>11599</th>\n",
       "      <td>976</td>\n",
       "      <td>SERC</td>\n",
       "      <td>2003</td>\n",
       "      <td>37.619747</td>\n",
       "      <td>-88.953114</td>\n",
       "      <td>IL</td>\n",
       "    </tr>\n",
       "    <tr>\n",
       "      <th>28226</th>\n",
       "      <td>54710</td>\n",
       "      <td>MRO</td>\n",
       "      <td>2007</td>\n",
       "      <td>42.490556</td>\n",
       "      <td>-90.745000</td>\n",
       "      <td>IA</td>\n",
       "    </tr>\n",
       "    <tr>\n",
       "      <th>19978</th>\n",
       "      <td>1844</td>\n",
       "      <td>RFC</td>\n",
       "      <td>2005</td>\n",
       "      <td>42.271700</td>\n",
       "      <td>-84.941100</td>\n",
       "      <td>MI</td>\n",
       "    </tr>\n",
       "    <tr>\n",
       "      <th>57463</th>\n",
       "      <td>71</td>\n",
       "      <td>ASCC</td>\n",
       "      <td>2012</td>\n",
       "      <td>57.686100</td>\n",
       "      <td>-152.895000</td>\n",
       "      <td>AK</td>\n",
       "    </tr>\n",
       "    <tr>\n",
       "      <th>12658</th>\n",
       "      <td>54365</td>\n",
       "      <td>FRCC</td>\n",
       "      <td>2003</td>\n",
       "      <td>27.870820</td>\n",
       "      <td>-81.825061</td>\n",
       "      <td>FL</td>\n",
       "    </tr>\n",
       "  </tbody>\n",
       "</table>\n",
       "</div>"
      ],
      "text/plain": [
       "       plant id  nerc  year        lat         lon state\n",
       "11599       976  SERC  2003  37.619747  -88.953114    IL\n",
       "28226     54710   MRO  2007  42.490556  -90.745000    IA\n",
       "19978      1844   RFC  2005  42.271700  -84.941100    MI\n",
       "57463        71  ASCC  2012  57.686100 -152.895000    AK\n",
       "12658     54365  FRCC  2003  27.870820  -81.825061    FL"
      ]
     },
     "execution_count": 116,
     "metadata": {},
     "output_type": "execute_result"
    }
   ],
   "source": [
    "training_features.sample(5)"
   ]
  },
  {
   "cell_type": "code",
   "execution_count": 117,
   "metadata": {},
   "outputs": [
    {
     "data": {
      "text/html": [
       "<div>\n",
       "<style scoped>\n",
       "    .dataframe tbody tr th:only-of-type {\n",
       "        vertical-align: middle;\n",
       "    }\n",
       "\n",
       "    .dataframe tbody tr th {\n",
       "        vertical-align: top;\n",
       "    }\n",
       "\n",
       "    .dataframe thead th {\n",
       "        text-align: right;\n",
       "    }\n",
       "</style>\n",
       "<table border=\"1\" class=\"dataframe\">\n",
       "  <thead>\n",
       "    <tr style=\"text-align: right;\">\n",
       "      <th></th>\n",
       "      <th>plant id</th>\n",
       "      <th>nerc</th>\n",
       "      <th>year</th>\n",
       "      <th>lat</th>\n",
       "      <th>lon</th>\n",
       "      <th>state</th>\n",
       "    </tr>\n",
       "  </thead>\n",
       "  <tbody>\n",
       "  </tbody>\n",
       "</table>\n",
       "</div>"
      ],
      "text/plain": [
       "Empty DataFrame\n",
       "Columns: [plant id, nerc, year, lat, lon, state]\n",
       "Index: []"
      ]
     },
     "execution_count": 117,
     "metadata": {},
     "output_type": "execute_result"
    }
   ],
   "source": [
    "training_features.loc[training_features.duplicated()]"
   ]
  },
  {
   "cell_type": "code",
   "execution_count": null,
   "metadata": {},
   "outputs": [],
   "source": []
  },
  {
   "cell_type": "code",
   "execution_count": 35,
   "metadata": {},
   "outputs": [],
   "source": [
    "omitted = set(df['plant id'].unique()) - set(nercs['plant id'].unique())"
   ]
  },
  {
   "cell_type": "code",
   "execution_count": 36,
   "metadata": {},
   "outputs": [
    {
     "data": {
      "text/html": [
       "<div>\n",
       "<style scoped>\n",
       "    .dataframe tbody tr th:only-of-type {\n",
       "        vertical-align: middle;\n",
       "    }\n",
       "\n",
       "    .dataframe tbody tr th {\n",
       "        vertical-align: top;\n",
       "    }\n",
       "\n",
       "    .dataframe thead th {\n",
       "        text-align: right;\n",
       "    }\n",
       "</style>\n",
       "<table border=\"1\" class=\"dataframe\">\n",
       "  <thead>\n",
       "    <tr style=\"text-align: right;\">\n",
       "      <th></th>\n",
       "      <th>plant id</th>\n",
       "      <th>year</th>\n",
       "      <th>lat</th>\n",
       "      <th>lon</th>\n",
       "      <th>state</th>\n",
       "      <th>nerc</th>\n",
       "    </tr>\n",
       "  </thead>\n",
       "  <tbody>\n",
       "    <tr>\n",
       "      <th>0</th>\n",
       "      <td>936</td>\n",
       "      <td>2017</td>\n",
       "      <td>38.6106</td>\n",
       "      <td>-89.3583</td>\n",
       "      <td>IL</td>\n",
       "      <td>SERC</td>\n",
       "    </tr>\n",
       "    <tr>\n",
       "      <th>1</th>\n",
       "      <td>936</td>\n",
       "      <td>2016</td>\n",
       "      <td>38.6106</td>\n",
       "      <td>-89.3583</td>\n",
       "      <td>IL</td>\n",
       "      <td>SERC</td>\n",
       "    </tr>\n",
       "    <tr>\n",
       "      <th>2</th>\n",
       "      <td>936</td>\n",
       "      <td>2015</td>\n",
       "      <td>38.6106</td>\n",
       "      <td>-89.3583</td>\n",
       "      <td>IL</td>\n",
       "      <td>SERC</td>\n",
       "    </tr>\n",
       "    <tr>\n",
       "      <th>3</th>\n",
       "      <td>936</td>\n",
       "      <td>2014</td>\n",
       "      <td>38.6106</td>\n",
       "      <td>-89.3583</td>\n",
       "      <td>IL</td>\n",
       "      <td>SERC</td>\n",
       "    </tr>\n",
       "    <tr>\n",
       "      <th>4</th>\n",
       "      <td>936</td>\n",
       "      <td>2013</td>\n",
       "      <td>38.6106</td>\n",
       "      <td>-89.3583</td>\n",
       "      <td>IL</td>\n",
       "      <td>SERC</td>\n",
       "    </tr>\n",
       "  </tbody>\n",
       "</table>\n",
       "</div>"
      ],
      "text/plain": [
       "   plant id  year      lat      lon state  nerc\n",
       "0       936  2017  38.6106 -89.3583    IL  SERC\n",
       "1       936  2016  38.6106 -89.3583    IL  SERC\n",
       "2       936  2015  38.6106 -89.3583    IL  SERC\n",
       "3       936  2014  38.6106 -89.3583    IL  SERC\n",
       "4       936  2013  38.6106 -89.3583    IL  SERC"
      ]
     },
     "execution_count": 36,
     "metadata": {},
     "output_type": "execute_result"
    }
   ],
   "source": [
    "df.head()"
   ]
  },
  {
   "cell_type": "code",
   "execution_count": 37,
   "metadata": {},
   "outputs": [
    {
     "data": {
      "text/html": [
       "<div>\n",
       "<style scoped>\n",
       "    .dataframe tbody tr th:only-of-type {\n",
       "        vertical-align: middle;\n",
       "    }\n",
       "\n",
       "    .dataframe tbody tr th {\n",
       "        vertical-align: top;\n",
       "    }\n",
       "\n",
       "    .dataframe thead th {\n",
       "        text-align: right;\n",
       "    }\n",
       "</style>\n",
       "<table border=\"1\" class=\"dataframe\">\n",
       "  <thead>\n",
       "    <tr style=\"text-align: right;\">\n",
       "      <th></th>\n",
       "      <th>plant id</th>\n",
       "      <th>year</th>\n",
       "      <th>lat</th>\n",
       "      <th>lon</th>\n",
       "      <th>state</th>\n",
       "      <th>nerc</th>\n",
       "    </tr>\n",
       "  </thead>\n",
       "  <tbody>\n",
       "    <tr>\n",
       "      <th>110046</th>\n",
       "      <td>57729</td>\n",
       "      <td>2018</td>\n",
       "      <td>33.058611</td>\n",
       "      <td>-117.119444</td>\n",
       "      <td>CA</td>\n",
       "      <td>WECC</td>\n",
       "    </tr>\n",
       "    <tr>\n",
       "      <th>110047</th>\n",
       "      <td>57716</td>\n",
       "      <td>2018</td>\n",
       "      <td>40.949536</td>\n",
       "      <td>-76.047390</td>\n",
       "      <td>PA</td>\n",
       "      <td>RFC</td>\n",
       "    </tr>\n",
       "    <tr>\n",
       "      <th>110048</th>\n",
       "      <td>57583</td>\n",
       "      <td>2018</td>\n",
       "      <td>64.816700</td>\n",
       "      <td>-147.725000</td>\n",
       "      <td>AK</td>\n",
       "      <td>ASCC</td>\n",
       "    </tr>\n",
       "    <tr>\n",
       "      <th>110049</th>\n",
       "      <td>57710</td>\n",
       "      <td>2018</td>\n",
       "      <td>42.556501</td>\n",
       "      <td>-73.377477</td>\n",
       "      <td>NY</td>\n",
       "      <td>NPCC</td>\n",
       "    </tr>\n",
       "    <tr>\n",
       "      <th>110050</th>\n",
       "      <td>58826</td>\n",
       "      <td>2018</td>\n",
       "      <td>39.728611</td>\n",
       "      <td>-84.208333</td>\n",
       "      <td>OH</td>\n",
       "      <td>RFC</td>\n",
       "    </tr>\n",
       "  </tbody>\n",
       "</table>\n",
       "</div>"
      ],
      "text/plain": [
       "        plant id  year        lat         lon state  nerc\n",
       "110046     57729  2018  33.058611 -117.119444    CA  WECC\n",
       "110047     57716  2018  40.949536  -76.047390    PA   RFC\n",
       "110048     57583  2018  64.816700 -147.725000    AK  ASCC\n",
       "110049     57710  2018  42.556501  -73.377477    NY  NPCC\n",
       "110050     58826  2018  39.728611  -84.208333    OH   RFC"
      ]
     },
     "execution_count": 37,
     "metadata": {},
     "output_type": "execute_result"
    }
   ],
   "source": [
    "df.tail()"
   ]
  },
  {
   "cell_type": "code",
   "execution_count": 38,
   "metadata": {
    "ExecuteTime": {
     "end_time": "2017-11-06T16:39:55.684713Z",
     "start_time": "2017-11-06T16:39:55.678207Z"
    }
   },
   "outputs": [
    {
     "data": {
      "text/plain": [
       "Index(['plant id', 'year', 'lat', 'lon', 'state', 'nerc'], dtype='object')"
      ]
     },
     "execution_count": 38,
     "metadata": {},
     "output_type": "execute_result"
    }
   ],
   "source": [
    "df.columns"
   ]
  },
  {
   "cell_type": "markdown",
   "metadata": {},
   "source": [
    "Drop plants that don't have lat/lon data (using just lon to check), and then drop duplicates. If any plants have kept the same plant id but moved over time (maybe a diesel generator?) or switched NERC they will show up twice."
   ]
  },
  {
   "cell_type": "code",
   "execution_count": 39,
   "metadata": {
    "ExecuteTime": {
     "end_time": "2017-11-06T16:40:08.841245Z",
     "start_time": "2017-11-06T16:40:08.805376Z"
    },
    "collapsed": true
   },
   "outputs": [],
   "source": [
    "cols = ['plant id', 'lat', 'lon', 'nerc', 'state', 'year']\n",
    "df_slim = (df.loc[:, cols].dropna(subset=['lon'])\n",
    "             .drop_duplicates(subset=['plant id', 'year', 'nerc']))"
   ]
  },
  {
   "cell_type": "code",
   "execution_count": 40,
   "metadata": {
    "ExecuteTime": {
     "end_time": "2017-11-06T16:40:29.960293Z",
     "start_time": "2017-11-06T16:40:29.944141Z"
    }
   },
   "outputs": [
    {
     "data": {
      "text/html": [
       "<div>\n",
       "<style scoped>\n",
       "    .dataframe tbody tr th:only-of-type {\n",
       "        vertical-align: middle;\n",
       "    }\n",
       "\n",
       "    .dataframe tbody tr th {\n",
       "        vertical-align: top;\n",
       "    }\n",
       "\n",
       "    .dataframe thead th {\n",
       "        text-align: right;\n",
       "    }\n",
       "</style>\n",
       "<table border=\"1\" class=\"dataframe\">\n",
       "  <thead>\n",
       "    <tr style=\"text-align: right;\">\n",
       "      <th></th>\n",
       "      <th>plant id</th>\n",
       "      <th>lat</th>\n",
       "      <th>lon</th>\n",
       "      <th>nerc</th>\n",
       "      <th>state</th>\n",
       "      <th>year</th>\n",
       "    </tr>\n",
       "  </thead>\n",
       "  <tbody>\n",
       "    <tr>\n",
       "      <th>110046</th>\n",
       "      <td>57729</td>\n",
       "      <td>33.058611</td>\n",
       "      <td>-117.119444</td>\n",
       "      <td>WECC</td>\n",
       "      <td>CA</td>\n",
       "      <td>2018</td>\n",
       "    </tr>\n",
       "    <tr>\n",
       "      <th>110047</th>\n",
       "      <td>57716</td>\n",
       "      <td>40.949536</td>\n",
       "      <td>-76.047390</td>\n",
       "      <td>RFC</td>\n",
       "      <td>PA</td>\n",
       "      <td>2018</td>\n",
       "    </tr>\n",
       "    <tr>\n",
       "      <th>110048</th>\n",
       "      <td>57583</td>\n",
       "      <td>64.816700</td>\n",
       "      <td>-147.725000</td>\n",
       "      <td>ASCC</td>\n",
       "      <td>AK</td>\n",
       "      <td>2018</td>\n",
       "    </tr>\n",
       "    <tr>\n",
       "      <th>110049</th>\n",
       "      <td>57710</td>\n",
       "      <td>42.556501</td>\n",
       "      <td>-73.377477</td>\n",
       "      <td>NPCC</td>\n",
       "      <td>NY</td>\n",
       "      <td>2018</td>\n",
       "    </tr>\n",
       "    <tr>\n",
       "      <th>110050</th>\n",
       "      <td>58826</td>\n",
       "      <td>39.728611</td>\n",
       "      <td>-84.208333</td>\n",
       "      <td>RFC</td>\n",
       "      <td>OH</td>\n",
       "      <td>2018</td>\n",
       "    </tr>\n",
       "  </tbody>\n",
       "</table>\n",
       "</div>"
      ],
      "text/plain": [
       "        plant id        lat         lon  nerc state  year\n",
       "110046     57729  33.058611 -117.119444  WECC    CA  2018\n",
       "110047     57716  40.949536  -76.047390   RFC    PA  2018\n",
       "110048     57583  64.816700 -147.725000  ASCC    AK  2018\n",
       "110049     57710  42.556501  -73.377477  NPCC    NY  2018\n",
       "110050     58826  39.728611  -84.208333   RFC    OH  2018"
      ]
     },
     "execution_count": 40,
     "metadata": {},
     "output_type": "execute_result"
    }
   ],
   "source": [
    "df_slim.tail()"
   ]
  },
  {
   "cell_type": "markdown",
   "metadata": {},
   "source": [
    "Separate out the list of plants where we don't have NERC labels from EIA-860."
   ]
  },
  {
   "cell_type": "code",
   "execution_count": 41,
   "metadata": {
    "ExecuteTime": {
     "end_time": "2017-11-06T16:40:35.247883Z",
     "start_time": "2017-11-06T16:40:35.239582Z"
    },
    "collapsed": true
   },
   "outputs": [],
   "source": [
    "unknown = df_slim.loc[df_slim.nerc.isnull()].copy()"
   ]
  },
  {
   "cell_type": "code",
   "execution_count": 42,
   "metadata": {
    "ExecuteTime": {
     "end_time": "2017-11-06T16:40:37.583325Z",
     "start_time": "2017-11-06T16:40:37.568223Z"
    }
   },
   "outputs": [
    {
     "name": "stdout",
     "output_type": "stream",
     "text": [
      "1604 plants/years don't have NERC labels\n",
      "\n",
      "      plant id      lat       lon nerc state  year\n",
      "2032        66  59.4545 -135.3131  NaN    AK  2017\n",
      "2033        66  59.4545 -135.3131  NaN    AK  2016\n",
      "2034        66  59.4545 -135.3131  NaN    AK  2015\n",
      "2035        66  59.4545 -135.3131  NaN    AK  2014\n",
      "2036        66  59.4545 -135.3131  NaN    AK  2013\n"
     ]
    }
   ],
   "source": [
    "print(\"{} plants/years don't have NERC labels\\n\".format(len(unknown)))\n",
    "print(unknown.head())"
   ]
  },
  {
   "cell_type": "code",
   "execution_count": 43,
   "metadata": {},
   "outputs": [
    {
     "data": {
      "text/html": [
       "<div>\n",
       "<style scoped>\n",
       "    .dataframe tbody tr th:only-of-type {\n",
       "        vertical-align: middle;\n",
       "    }\n",
       "\n",
       "    .dataframe tbody tr th {\n",
       "        vertical-align: top;\n",
       "    }\n",
       "\n",
       "    .dataframe thead th {\n",
       "        text-align: right;\n",
       "    }\n",
       "</style>\n",
       "<table border=\"1\" class=\"dataframe\">\n",
       "  <thead>\n",
       "    <tr style=\"text-align: right;\">\n",
       "      <th></th>\n",
       "      <th>plant id</th>\n",
       "      <th>lat</th>\n",
       "      <th>lon</th>\n",
       "      <th>nerc</th>\n",
       "      <th>state</th>\n",
       "      <th>year</th>\n",
       "    </tr>\n",
       "  </thead>\n",
       "  <tbody>\n",
       "    <tr>\n",
       "      <th>105025</th>\n",
       "      <td>58277</td>\n",
       "      <td>20.8867</td>\n",
       "      <td>-156.337800</td>\n",
       "      <td>NaN</td>\n",
       "      <td>HI</td>\n",
       "      <td>2018</td>\n",
       "    </tr>\n",
       "    <tr>\n",
       "      <th>109895</th>\n",
       "      <td>10672</td>\n",
       "      <td>30.4225</td>\n",
       "      <td>-81.606400</td>\n",
       "      <td>NaN</td>\n",
       "      <td>FL</td>\n",
       "      <td>2018</td>\n",
       "    </tr>\n",
       "    <tr>\n",
       "      <th>110004</th>\n",
       "      <td>57932</td>\n",
       "      <td>38.8200</td>\n",
       "      <td>-90.818056</td>\n",
       "      <td>NaN</td>\n",
       "      <td>MO</td>\n",
       "      <td>2018</td>\n",
       "    </tr>\n",
       "    <tr>\n",
       "      <th>110005</th>\n",
       "      <td>55098</td>\n",
       "      <td>26.2080</td>\n",
       "      <td>-98.399200</td>\n",
       "      <td>NaN</td>\n",
       "      <td>TX</td>\n",
       "      <td>2018</td>\n",
       "    </tr>\n",
       "    <tr>\n",
       "      <th>110006</th>\n",
       "      <td>50730</td>\n",
       "      <td>33.4885</td>\n",
       "      <td>-86.921200</td>\n",
       "      <td>NaN</td>\n",
       "      <td>AL</td>\n",
       "      <td>2018</td>\n",
       "    </tr>\n",
       "  </tbody>\n",
       "</table>\n",
       "</div>"
      ],
      "text/plain": [
       "        plant id      lat         lon nerc state  year\n",
       "105025     58277  20.8867 -156.337800  NaN    HI  2018\n",
       "109895     10672  30.4225  -81.606400  NaN    FL  2018\n",
       "110004     57932  38.8200  -90.818056  NaN    MO  2018\n",
       "110005     55098  26.2080  -98.399200  NaN    TX  2018\n",
       "110006     50730  33.4885  -86.921200  NaN    AL  2018"
      ]
     },
     "execution_count": 43,
     "metadata": {},
     "output_type": "execute_result"
    }
   ],
   "source": [
    "unknown.tail()"
   ]
  },
  {
   "cell_type": "markdown",
   "metadata": {},
   "source": [
    "### Create X and y matricies\n",
    "X is lat/lon and year\n",
    "\n",
    "y is the NERC label\n",
    "\n",
    "For both, I'm only using plants where we have all data (no `NaN`s). Not doing any transformation of the lat/lon at this time."
   ]
  },
  {
   "cell_type": "code",
   "execution_count": null,
   "metadata": {},
   "outputs": [],
   "source": [
    "def train_model(training_df):\n",
    "    "
   ]
  },
  {
   "cell_type": "code",
   "execution_count": 44,
   "metadata": {
    "ExecuteTime": {
     "end_time": "2017-11-06T20:06:21.393849Z",
     "start_time": "2017-11-06T20:06:21.367798Z"
    },
    "collapsed": true
   },
   "outputs": [],
   "source": [
    "X = df_slim.loc[df_slim.notnull().all(axis=1), ['lat', 'lon', 'year']]\n",
    "y = df_slim.loc[df_slim.notnull().all(axis=1), 'nerc']"
   ]
  },
  {
   "cell_type": "code",
   "execution_count": 45,
   "metadata": {
    "ExecuteTime": {
     "end_time": "2017-11-06T20:06:27.239811Z",
     "start_time": "2017-11-06T20:06:27.233495Z"
    }
   },
   "outputs": [
    {
     "data": {
      "text/plain": [
       "108300"
      ]
     },
     "execution_count": 45,
     "metadata": {},
     "output_type": "execute_result"
    }
   ],
   "source": [
    "len(X)"
   ]
  },
  {
   "cell_type": "code",
   "execution_count": 46,
   "metadata": {},
   "outputs": [
    {
     "data": {
      "text/plain": [
       "0"
      ]
     },
     "execution_count": 46,
     "metadata": {},
     "output_type": "execute_result"
    }
   ],
   "source": [
    "# Make sure that unknown and X include all records from df_slim\n",
    "len(X) + len(unknown) - len(df_slim)"
   ]
  },
  {
   "cell_type": "code",
   "execution_count": 47,
   "metadata": {
    "ExecuteTime": {
     "end_time": "2017-11-06T20:06:27.249590Z",
     "start_time": "2017-11-06T20:06:27.242414Z"
    },
    "collapsed": true
   },
   "outputs": [],
   "source": [
    "X_train, X_test, y_train, y_test = train_test_split(\n",
    "    X, y, test_size=0.33, random_state=42)"
   ]
  },
  {
   "cell_type": "markdown",
   "metadata": {},
   "source": [
    "## GridSearch to find the best parameters in a RandomForest Classifier\n",
    "\n",
    "I previously used k-nearest neighbors with just lat/lon as input features. The problem is that some facilities don't have lat/lon data. They do usually have a state geography label though. Categorical labels don't work well in KNN, but the combination of lat/lon and a state label will work well in a tree model. RandomForest is usually a quite effective tree model and my results are more accurate with this than they were with KNN."
   ]
  },
  {
   "cell_type": "code",
   "execution_count": 48,
   "metadata": {},
   "outputs": [],
   "source": [
    "from sklearn.ensemble import RandomForestClassifier"
   ]
  },
  {
   "cell_type": "code",
   "execution_count": null,
   "metadata": {},
   "outputs": [],
   "source": [
    "def classify_rf(X, y, feature_cols, unknown, verbose=1):\n",
    "    \n",
    "    rf = RandomForestClassifier()\n",
    "    params = dict(\n",
    "        n_estimators = [10, 25, 50],\n",
    "        min_samples_split = [2, 5, 10],\n",
    "        min_samples_leaf = [1, 3, 5],\n",
    "    )\n",
    "    \n",
    "    clf_rf = GridSearchCV(rf, params, n_jobs=-1, iid=False, verbose=verbose)\n",
    "    clf_rf.fit(X[feature_cols], y)\n",
    "    \n",
    "    unknown.loc[:, 'nerc'] = clf_rf.predict(uknown[feature_cols])\n",
    "    \n",
    "    return unknown\n",
    "\n",
    "def classify_latlon()\n",
    "    \n",
    "    \n",
    "    \n",
    "    "
   ]
  },
  {
   "cell_type": "code",
   "execution_count": null,
   "metadata": {},
   "outputs": [],
   "source": []
  },
  {
   "cell_type": "code",
   "execution_count": 49,
   "metadata": {},
   "outputs": [
    {
     "name": "stdout",
     "output_type": "stream",
     "text": [
      "Fitting 3 folds for each of 36 candidates, totalling 108 fits\n"
     ]
    },
    {
     "name": "stderr",
     "output_type": "stream",
     "text": [
      "[Parallel(n_jobs=-1)]: Done  42 tasks      | elapsed:   20.4s\n",
      "[Parallel(n_jobs=-1)]: Done 108 out of 108 | elapsed:   57.8s finished\n"
     ]
    },
    {
     "data": {
      "text/plain": [
       "GridSearchCV(cv=None, error_score='raise',\n",
       "       estimator=RandomForestClassifier(bootstrap=True, class_weight=None, criterion='gini',\n",
       "            max_depth=None, max_features='auto', max_leaf_nodes=None,\n",
       "            min_impurity_decrease=0.0, min_impurity_split=None,\n",
       "            min_samples_leaf=1, min_samples_split=2,\n",
       "            min_weight_fraction_leaf=0.0, n_estimators=10, n_jobs=1,\n",
       "            oob_score=False, random_state=None, verbose=0,\n",
       "            warm_start=False),\n",
       "       fit_params=None, iid=False, n_jobs=-1,\n",
       "       param_grid={'n_estimators': [5, 10, 25, 50], 'min_samples_split': [2, 5, 10], 'min_samples_leaf': [1, 3, 5]},\n",
       "       pre_dispatch='2*n_jobs', refit=True, return_train_score='warn',\n",
       "       scoring=None, verbose=1)"
      ]
     },
     "execution_count": 49,
     "metadata": {},
     "output_type": "execute_result"
    }
   ],
   "source": [
    "rf = RandomForestClassifier()\n",
    "params = dict(\n",
    "    n_estimators = [5, 10, 25, 50],\n",
    "    min_samples_split = [2, 5, 10],\n",
    "    min_samples_leaf = [1, 3, 5],\n",
    ")\n",
    "\n",
    "clf_rf = GridSearchCV(rf, params, n_jobs=-1, iid=False, verbose=1)\n",
    "clf_rf.fit(X_train, y_train)"
   ]
  },
  {
   "cell_type": "code",
   "execution_count": 50,
   "metadata": {},
   "outputs": [
    {
     "data": {
      "text/plain": [
       "(RandomForestClassifier(bootstrap=True, class_weight=None, criterion='gini',\n",
       "             max_depth=None, max_features='auto', max_leaf_nodes=None,\n",
       "             min_impurity_decrease=0.0, min_impurity_split=None,\n",
       "             min_samples_leaf=1, min_samples_split=2,\n",
       "             min_weight_fraction_leaf=0.0, n_estimators=25, n_jobs=1,\n",
       "             oob_score=False, random_state=None, verbose=0,\n",
       "             warm_start=False), 0.9802648406321238)"
      ]
     },
     "execution_count": 50,
     "metadata": {},
     "output_type": "execute_result"
    }
   ],
   "source": [
    "clf_rf.best_estimator_, clf_rf.best_score_"
   ]
  },
  {
   "cell_type": "code",
   "execution_count": 51,
   "metadata": {},
   "outputs": [
    {
     "data": {
      "text/plain": [
       "0.9820364307898934"
      ]
     },
     "execution_count": 51,
     "metadata": {},
     "output_type": "execute_result"
    }
   ],
   "source": [
    "clf_rf.score(X_test, y_test)"
   ]
  },
  {
   "cell_type": "code",
   "execution_count": 52,
   "metadata": {
    "ExecuteTime": {
     "end_time": "2017-11-06T20:10:03.521287Z",
     "start_time": "2017-11-06T20:10:03.510982Z"
    }
   },
   "outputs": [],
   "source": [
    "nerc_labels = nercs.nerc.dropna().unique()"
   ]
  },
  {
   "cell_type": "markdown",
   "metadata": {},
   "source": [
    "Accuracy score by region"
   ]
  },
  {
   "cell_type": "code",
   "execution_count": 53,
   "metadata": {
    "ExecuteTime": {
     "end_time": "2017-11-06T20:15:48.830308Z",
     "start_time": "2017-11-06T20:15:48.737017Z"
    }
   },
   "outputs": [
    {
     "name": "stdout",
     "output_type": "stream",
     "text": [
      "WECC : 0.9984802431610942\n",
      "NPCC : 0.9926676730644813\n",
      "RFC : 0.9676161410647677\n",
      "SERC : 0.9771043771043771\n",
      "SPP : 0.9272338148742643\n",
      "TRE : 0.9808087731322824\n",
      "MRO : 0.9820689655172414\n",
      "FRCC : 0.9697732997481109\n",
      "ASCC : 1.0\n",
      "HICC : 1.0\n"
     ]
    }
   ],
   "source": [
    "for region in nerc_labels:\n",
    "    mask = y_test == region\n",
    "    \n",
    "    X_masked = X_test[mask]\n",
    "    y_hat_masked = clf_rf.predict(X_masked)\n",
    "    y_test_masked = y_test[mask]\n",
    "    \n",
    "    accuracy = metrics.accuracy_score(y_test_masked, y_hat_masked)\n",
    "    print('{} : {}'.format(region, accuracy))"
   ]
  },
  {
   "cell_type": "markdown",
   "metadata": {},
   "source": [
    "F1 score by region"
   ]
  },
  {
   "cell_type": "code",
   "execution_count": 54,
   "metadata": {
    "ExecuteTime": {
     "end_time": "2017-11-06T20:18:57.242329Z",
     "start_time": "2017-11-06T20:18:57.079002Z"
    }
   },
   "outputs": [
    {
     "name": "stdout",
     "output_type": "stream",
     "text": [
      "WECC : 0.9982779578606159\n",
      "NPCC : 0.9933103150625809\n",
      "RFC : 0.9690949227373067\n",
      "SERC : 0.9725201072386058\n",
      "SPP : 0.9462189462189461\n",
      "TRE : 0.9808087731322824\n",
      "MRO : 0.9755651975336835\n",
      "FRCC : 0.9821428571428571\n",
      "ASCC : 1.0\n",
      "HICC : 0.9979959919839679\n"
     ]
    }
   ],
   "source": [
    "y_hat = clf_rf.predict(X_test)\n",
    "\n",
    "for region in nerc_labels:\n",
    "    f1 = metrics.f1_score(y_test, y_hat, labels=[region], average='macro')\n",
    "    print('{} : {}'.format(region, f1))"
   ]
  },
  {
   "cell_type": "markdown",
   "metadata": {},
   "source": [
    "## Plants without lat/lon\n",
    "Use just the state for plants that don't have lat/lon info. Less accurate, especially where NERC regions cross state lines, but better than nothing.\n",
    "\n",
    "Need to start with the `lon` column so I can filter to only unknown facilities that also don't have lon"
   ]
  },
  {
   "cell_type": "code",
   "execution_count": 55,
   "metadata": {},
   "outputs": [],
   "source": [
    "cols = ['plant id', 'nerc', 'state', 'year', 'lon']\n",
    "df_state_slim = (df.loc[:, cols].dropna(subset=['state']).copy())"
   ]
  },
  {
   "cell_type": "code",
   "execution_count": 56,
   "metadata": {},
   "outputs": [
    {
     "data": {
      "text/html": [
       "<div>\n",
       "<style scoped>\n",
       "    .dataframe tbody tr th:only-of-type {\n",
       "        vertical-align: middle;\n",
       "    }\n",
       "\n",
       "    .dataframe tbody tr th {\n",
       "        vertical-align: top;\n",
       "    }\n",
       "\n",
       "    .dataframe thead th {\n",
       "        text-align: right;\n",
       "    }\n",
       "</style>\n",
       "<table border=\"1\" class=\"dataframe\">\n",
       "  <thead>\n",
       "    <tr style=\"text-align: right;\">\n",
       "      <th></th>\n",
       "      <th>plant id</th>\n",
       "      <th>nerc</th>\n",
       "      <th>state</th>\n",
       "      <th>year</th>\n",
       "      <th>lon</th>\n",
       "    </tr>\n",
       "  </thead>\n",
       "  <tbody>\n",
       "    <tr>\n",
       "      <th>0</th>\n",
       "      <td>936</td>\n",
       "      <td>SERC</td>\n",
       "      <td>IL</td>\n",
       "      <td>2017</td>\n",
       "      <td>-89.3583</td>\n",
       "    </tr>\n",
       "    <tr>\n",
       "      <th>1</th>\n",
       "      <td>936</td>\n",
       "      <td>SERC</td>\n",
       "      <td>IL</td>\n",
       "      <td>2016</td>\n",
       "      <td>-89.3583</td>\n",
       "    </tr>\n",
       "    <tr>\n",
       "      <th>2</th>\n",
       "      <td>936</td>\n",
       "      <td>SERC</td>\n",
       "      <td>IL</td>\n",
       "      <td>2015</td>\n",
       "      <td>-89.3583</td>\n",
       "    </tr>\n",
       "    <tr>\n",
       "      <th>3</th>\n",
       "      <td>936</td>\n",
       "      <td>SERC</td>\n",
       "      <td>IL</td>\n",
       "      <td>2014</td>\n",
       "      <td>-89.3583</td>\n",
       "    </tr>\n",
       "    <tr>\n",
       "      <th>4</th>\n",
       "      <td>936</td>\n",
       "      <td>SERC</td>\n",
       "      <td>IL</td>\n",
       "      <td>2013</td>\n",
       "      <td>-89.3583</td>\n",
       "    </tr>\n",
       "  </tbody>\n",
       "</table>\n",
       "</div>"
      ],
      "text/plain": [
       "   plant id  nerc state  year      lon\n",
       "0       936  SERC    IL  2017 -89.3583\n",
       "1       936  SERC    IL  2016 -89.3583\n",
       "2       936  SERC    IL  2015 -89.3583\n",
       "3       936  SERC    IL  2014 -89.3583\n",
       "4       936  SERC    IL  2013 -89.3583"
      ]
     },
     "execution_count": 56,
     "metadata": {},
     "output_type": "execute_result"
    }
   ],
   "source": [
    "df_state_slim.head()"
   ]
  },
  {
   "cell_type": "code",
   "execution_count": 57,
   "metadata": {},
   "outputs": [
    {
     "data": {
      "text/plain": [
       "110026"
      ]
     },
     "execution_count": 57,
     "metadata": {},
     "output_type": "execute_result"
    }
   ],
   "source": [
    "len(df_state_slim)"
   ]
  },
  {
   "cell_type": "markdown",
   "metadata": {},
   "source": [
    "### Encode state names as numbers for use in sklearn"
   ]
  },
  {
   "cell_type": "code",
   "execution_count": 58,
   "metadata": {},
   "outputs": [],
   "source": [
    "le = LabelEncoder()\n",
    "df_state_slim.loc[:, 'enc state'] = le.fit_transform(df_state_slim.loc[:, 'state'].tolist())"
   ]
  },
  {
   "cell_type": "code",
   "execution_count": 59,
   "metadata": {},
   "outputs": [
    {
     "data": {
      "text/plain": [
       "110026"
      ]
     },
     "execution_count": 59,
     "metadata": {},
     "output_type": "execute_result"
    }
   ],
   "source": [
    "len(df_state_slim)"
   ]
  },
  {
   "cell_type": "code",
   "execution_count": 60,
   "metadata": {
    "ExecuteTime": {
     "end_time": "2017-11-06T16:40:35.247883Z",
     "start_time": "2017-11-06T16:40:35.239582Z"
    },
    "collapsed": true
   },
   "outputs": [],
   "source": [
    "unknown_state = df_state_slim.loc[(df_state_slim.nerc.isnull()) &\n",
    "                                  (df_state_slim.lon.isnull())].copy()"
   ]
  },
  {
   "cell_type": "code",
   "execution_count": 61,
   "metadata": {},
   "outputs": [
    {
     "data": {
      "text/plain": [
       "(116, 1604)"
      ]
     },
     "execution_count": 61,
     "metadata": {},
     "output_type": "execute_result"
    }
   ],
   "source": [
    "len(unknown_state), len(unknown)"
   ]
  },
  {
   "cell_type": "code",
   "execution_count": 62,
   "metadata": {
    "ExecuteTime": {
     "end_time": "2017-11-06T20:06:21.393849Z",
     "start_time": "2017-11-06T20:06:21.367798Z"
    },
    "collapsed": true
   },
   "outputs": [],
   "source": [
    "X_state = df_state_slim.loc[df_state_slim.notnull().all(axis=1), ['enc state', 'year']].copy()\n",
    "y_state = df_state_slim.loc[df_state_slim.notnull().all(axis=1), 'nerc'].copy()"
   ]
  },
  {
   "cell_type": "code",
   "execution_count": 63,
   "metadata": {
    "ExecuteTime": {
     "end_time": "2017-11-06T20:06:27.249590Z",
     "start_time": "2017-11-06T20:06:27.242414Z"
    },
    "collapsed": true
   },
   "outputs": [],
   "source": [
    "X_state_train, X_state_test, y_state_train, y_state_test = train_test_split(\n",
    "    X_state, y_state, test_size=0.33, random_state=42)"
   ]
  },
  {
   "cell_type": "code",
   "execution_count": 64,
   "metadata": {},
   "outputs": [
    {
     "name": "stdout",
     "output_type": "stream",
     "text": [
      "Fitting 3 folds for each of 36 candidates, totalling 108 fits\n"
     ]
    },
    {
     "name": "stderr",
     "output_type": "stream",
     "text": [
      "[Parallel(n_jobs=-1)]: Done  42 tasks      | elapsed:   16.0s\n",
      "[Parallel(n_jobs=-1)]: Done 108 out of 108 | elapsed:   39.9s finished\n"
     ]
    },
    {
     "data": {
      "text/plain": [
       "GridSearchCV(cv=None, error_score='raise',\n",
       "       estimator=RandomForestClassifier(bootstrap=True, class_weight=None, criterion='gini',\n",
       "            max_depth=None, max_features='auto', max_leaf_nodes=None,\n",
       "            min_impurity_decrease=0.0, min_impurity_split=None,\n",
       "            min_samples_leaf=1, min_samples_split=2,\n",
       "            min_weight_fraction_leaf=0.0, n_estimators=10, n_jobs=1,\n",
       "            oob_score=False, random_state=None, verbose=0,\n",
       "            warm_start=False),\n",
       "       fit_params=None, iid=False, n_jobs=-1,\n",
       "       param_grid={'n_estimators': [5, 10, 25, 50], 'min_samples_split': [2, 5, 10], 'min_samples_leaf': [1, 3, 5]},\n",
       "       pre_dispatch='2*n_jobs', refit=True, return_train_score='warn',\n",
       "       scoring=None, verbose=1)"
      ]
     },
     "execution_count": 64,
     "metadata": {},
     "output_type": "execute_result"
    }
   ],
   "source": [
    "rf = RandomForestClassifier()\n",
    "params = dict(\n",
    "    n_estimators = [5, 10, 25, 50],\n",
    "    min_samples_split = [2, 5, 10],\n",
    "    min_samples_leaf = [1, 3, 5],\n",
    ")\n",
    "\n",
    "clf_rf_state = GridSearchCV(rf, params, n_jobs=-1, iid=False, verbose=1)\n",
    "clf_rf_state.fit(X_state_train, y_state_train)"
   ]
  },
  {
   "cell_type": "code",
   "execution_count": 65,
   "metadata": {},
   "outputs": [
    {
     "data": {
      "text/plain": [
       "(RandomForestClassifier(bootstrap=True, class_weight=None, criterion='gini',\n",
       "             max_depth=None, max_features='auto', max_leaf_nodes=None,\n",
       "             min_impurity_decrease=0.0, min_impurity_split=None,\n",
       "             min_samples_leaf=1, min_samples_split=10,\n",
       "             min_weight_fraction_leaf=0.0, n_estimators=50, n_jobs=1,\n",
       "             oob_score=False, random_state=None, verbose=0,\n",
       "             warm_start=False), 0.9408513917858344)"
      ]
     },
     "execution_count": 65,
     "metadata": {},
     "output_type": "execute_result"
    }
   ],
   "source": [
    "clf_rf_state.best_estimator_, clf_rf_state.best_score_"
   ]
  },
  {
   "cell_type": "code",
   "execution_count": 66,
   "metadata": {},
   "outputs": [
    {
     "data": {
      "text/plain": [
       "0.939199776161164"
      ]
     },
     "execution_count": 66,
     "metadata": {},
     "output_type": "execute_result"
    }
   ],
   "source": [
    "clf_rf_state.score(X_state_test, y_state_test)"
   ]
  },
  {
   "cell_type": "markdown",
   "metadata": {},
   "source": [
    "Accuracy score by region"
   ]
  },
  {
   "cell_type": "code",
   "execution_count": 244,
   "metadata": {
    "ExecuteTime": {
     "end_time": "2017-11-06T20:15:48.830308Z",
     "start_time": "2017-11-06T20:15:48.737017Z"
    }
   },
   "outputs": [
    {
     "name": "stdout",
     "output_type": "stream",
     "text": [
      "RFC : 0.9243697478991597\n",
      "NPCC : 0.9938519744620478\n",
      "WECC : 0.9943912900032993\n",
      "SERC : 0.8831431726168568\n",
      "SPP : 0.5765453495089543\n",
      "TRE : 1.0\n",
      "MRO : 0.9614311088556204\n",
      "FRCC : 0.9973992197659298\n",
      "ASCC : 1.0\n",
      "HICC : 1.0\n"
     ]
    }
   ],
   "source": [
    "nerc_labels = nercs.nerc.dropna().unique()\n",
    "\n",
    "for region in nerc_labels:\n",
    "    mask = y_state_test == region\n",
    "    \n",
    "    X_state_masked = X_state_test[mask]\n",
    "    y_state_hat_masked = clf_rf_state.predict(X_state_masked)\n",
    "    y_state_test_masked = y_state_test[mask]\n",
    "    \n",
    "    accuracy = metrics.accuracy_score(y_state_test_masked, y_state_hat_masked)\n",
    "    print('{} : {}'.format(region, accuracy))"
   ]
  },
  {
   "cell_type": "markdown",
   "metadata": {},
   "source": [
    "F1 score by region"
   ]
  },
  {
   "cell_type": "code",
   "execution_count": 245,
   "metadata": {
    "ExecuteTime": {
     "end_time": "2017-11-06T20:18:57.242329Z",
     "start_time": "2017-11-06T20:18:57.079002Z"
    }
   },
   "outputs": [
    {
     "name": "stdout",
     "output_type": "stream",
     "text": [
      "RFC : 0.9088405397961994\n",
      "NPCC : 0.9958535718516763\n",
      "WECC : 0.9933534743202416\n",
      "SERC : 0.8819259395387301\n",
      "SPP : 0.7300658376005852\n",
      "TRE : 0.8763183125599233\n",
      "MRO : 0.9512929952297263\n",
      "FRCC : 0.962962962962963\n",
      "ASCC : 0.9991474850809888\n",
      "HICC : 0.9975669099756691\n"
     ]
    }
   ],
   "source": [
    "y_state_hat = clf_rf_state.predict(X_state_test)\n",
    "\n",
    "for region in nerc_labels:\n",
    "    f1 = metrics.f1_score(y_state_test, y_state_hat, labels=[region], average='macro')\n",
    "    print('{} : {}'.format(region, f1))"
   ]
  },
  {
   "cell_type": "markdown",
   "metadata": {},
   "source": [
    "## Use best RandomForest parameters to predict NERC for unknown plants"
   ]
  },
  {
   "cell_type": "code",
   "execution_count": 67,
   "metadata": {
    "ExecuteTime": {
     "end_time": "2017-11-06T16:53:30.016363Z",
     "start_time": "2017-11-06T16:53:29.583624Z"
    }
   },
   "outputs": [],
   "source": [
    "unknown.loc[:, 'nerc'] = clf_rf.predict(unknown.loc[:, ['lat', 'lon', 'year']])\n",
    "unknown_state.loc[:, 'nerc'] = clf_rf_state.predict(unknown_state.loc[:, ['enc state', 'year']])"
   ]
  },
  {
   "cell_type": "markdown",
   "metadata": {},
   "source": [
    "Ensuring that no plants in Alaska or Hawaii are assigned to continental NERCs, or the other way around."
   ]
  },
  {
   "cell_type": "code",
   "execution_count": 68,
   "metadata": {
    "ExecuteTime": {
     "end_time": "2017-11-06T16:53:34.746917Z",
     "start_time": "2017-11-06T16:53:34.734080Z"
    }
   },
   "outputs": [
    {
     "name": "stdout",
     "output_type": "stream",
     "text": [
      "['ASCC' 'HICC' 'WECC']\n",
      "['AK' 'HI']\n"
     ]
    }
   ],
   "source": [
    "print(unknown.loc[unknown.state.isin(['AK', 'HI']), 'nerc'].unique())\n",
    "print(unknown.loc[unknown.nerc.isin(['HICC', 'ASCC']), 'state'].unique())"
   ]
  },
  {
   "cell_type": "code",
   "execution_count": 69,
   "metadata": {
    "ExecuteTime": {
     "end_time": "2017-11-06T16:53:38.090243Z",
     "start_time": "2017-11-06T16:53:38.084127Z"
    }
   },
   "outputs": [
    {
     "data": {
      "text/plain": [
       "Counter({'ASCC': 63,\n",
       "         'HICC': 51,\n",
       "         'SERC': 324,\n",
       "         'WECC': 378,\n",
       "         'FRCC': 7,\n",
       "         'TRE': 153,\n",
       "         'NPCC': 252,\n",
       "         'SPP': 98,\n",
       "         'RFC': 219,\n",
       "         'MRO': 59})"
      ]
     },
     "execution_count": 69,
     "metadata": {},
     "output_type": "execute_result"
    }
   ],
   "source": [
    "Counter(unknown['nerc'])"
   ]
  },
  {
   "cell_type": "code",
   "execution_count": 249,
   "metadata": {},
   "outputs": [
    {
     "data": {
      "text/html": [
       "<div>\n",
       "<style scoped>\n",
       "    .dataframe tbody tr th:only-of-type {\n",
       "        vertical-align: middle;\n",
       "    }\n",
       "\n",
       "    .dataframe tbody tr th {\n",
       "        vertical-align: top;\n",
       "    }\n",
       "\n",
       "    .dataframe thead th {\n",
       "        text-align: right;\n",
       "    }\n",
       "</style>\n",
       "<table border=\"1\" class=\"dataframe\">\n",
       "  <thead>\n",
       "    <tr style=\"text-align: right;\">\n",
       "      <th></th>\n",
       "      <th>plant id</th>\n",
       "      <th>lat</th>\n",
       "      <th>lon</th>\n",
       "      <th>nerc</th>\n",
       "      <th>state</th>\n",
       "      <th>year</th>\n",
       "    </tr>\n",
       "  </thead>\n",
       "  <tbody>\n",
       "    <tr>\n",
       "      <th>28205</th>\n",
       "      <td>3823</td>\n",
       "      <td>38.27</td>\n",
       "      <td>-78.035</td>\n",
       "      <td>SERC</td>\n",
       "      <td>VA</td>\n",
       "      <td>2009</td>\n",
       "    </tr>\n",
       "    <tr>\n",
       "      <th>28206</th>\n",
       "      <td>3823</td>\n",
       "      <td>38.27</td>\n",
       "      <td>-78.035</td>\n",
       "      <td>SERC</td>\n",
       "      <td>VA</td>\n",
       "      <td>2005</td>\n",
       "    </tr>\n",
       "    <tr>\n",
       "      <th>28207</th>\n",
       "      <td>3823</td>\n",
       "      <td>38.27</td>\n",
       "      <td>-78.035</td>\n",
       "      <td>SERC</td>\n",
       "      <td>VA</td>\n",
       "      <td>2004</td>\n",
       "    </tr>\n",
       "    <tr>\n",
       "      <th>28208</th>\n",
       "      <td>3823</td>\n",
       "      <td>38.27</td>\n",
       "      <td>-78.035</td>\n",
       "      <td>SERC</td>\n",
       "      <td>VA</td>\n",
       "      <td>2003</td>\n",
       "    </tr>\n",
       "    <tr>\n",
       "      <th>28209</th>\n",
       "      <td>3823</td>\n",
       "      <td>38.27</td>\n",
       "      <td>-78.035</td>\n",
       "      <td>SERC</td>\n",
       "      <td>VA</td>\n",
       "      <td>2002</td>\n",
       "    </tr>\n",
       "  </tbody>\n",
       "</table>\n",
       "</div>"
      ],
      "text/plain": [
       "       plant id    lat     lon  nerc state  year\n",
       "28205      3823  38.27 -78.035  SERC    VA  2009\n",
       "28206      3823  38.27 -78.035  SERC    VA  2005\n",
       "28207      3823  38.27 -78.035  SERC    VA  2004\n",
       "28208      3823  38.27 -78.035  SERC    VA  2003\n",
       "28209      3823  38.27 -78.035  SERC    VA  2002"
      ]
     },
     "execution_count": 249,
     "metadata": {},
     "output_type": "execute_result"
    }
   ],
   "source": [
    "unknown.head()"
   ]
  },
  {
   "cell_type": "code",
   "execution_count": 250,
   "metadata": {},
   "outputs": [
    {
     "data": {
      "text/html": [
       "<div>\n",
       "<style scoped>\n",
       "    .dataframe tbody tr th:only-of-type {\n",
       "        vertical-align: middle;\n",
       "    }\n",
       "\n",
       "    .dataframe tbody tr th {\n",
       "        vertical-align: top;\n",
       "    }\n",
       "\n",
       "    .dataframe thead th {\n",
       "        text-align: right;\n",
       "    }\n",
       "</style>\n",
       "<table border=\"1\" class=\"dataframe\">\n",
       "  <thead>\n",
       "    <tr style=\"text-align: right;\">\n",
       "      <th></th>\n",
       "      <th>plant id</th>\n",
       "      <th>nerc</th>\n",
       "      <th>state</th>\n",
       "      <th>year</th>\n",
       "      <th>lon</th>\n",
       "      <th>enc state</th>\n",
       "    </tr>\n",
       "  </thead>\n",
       "  <tbody>\n",
       "    <tr>\n",
       "      <th>84867</th>\n",
       "      <td>10851</td>\n",
       "      <td>RFC</td>\n",
       "      <td>NJ</td>\n",
       "      <td>2006</td>\n",
       "      <td>NaN</td>\n",
       "      <td>31</td>\n",
       "    </tr>\n",
       "    <tr>\n",
       "      <th>84868</th>\n",
       "      <td>10851</td>\n",
       "      <td>RFC</td>\n",
       "      <td>NJ</td>\n",
       "      <td>2005</td>\n",
       "      <td>NaN</td>\n",
       "      <td>31</td>\n",
       "    </tr>\n",
       "    <tr>\n",
       "      <th>84869</th>\n",
       "      <td>10851</td>\n",
       "      <td>RFC</td>\n",
       "      <td>NJ</td>\n",
       "      <td>2004</td>\n",
       "      <td>NaN</td>\n",
       "      <td>31</td>\n",
       "    </tr>\n",
       "    <tr>\n",
       "      <th>84870</th>\n",
       "      <td>10851</td>\n",
       "      <td>RFC</td>\n",
       "      <td>NJ</td>\n",
       "      <td>2002</td>\n",
       "      <td>NaN</td>\n",
       "      <td>31</td>\n",
       "    </tr>\n",
       "    <tr>\n",
       "      <th>84871</th>\n",
       "      <td>10851</td>\n",
       "      <td>RFC</td>\n",
       "      <td>NJ</td>\n",
       "      <td>2001</td>\n",
       "      <td>NaN</td>\n",
       "      <td>31</td>\n",
       "    </tr>\n",
       "  </tbody>\n",
       "</table>\n",
       "</div>"
      ],
      "text/plain": [
       "       plant id nerc state  year  lon  enc state\n",
       "84867     10851  RFC    NJ  2006  NaN         31\n",
       "84868     10851  RFC    NJ  2005  NaN         31\n",
       "84869     10851  RFC    NJ  2004  NaN         31\n",
       "84870     10851  RFC    NJ  2002  NaN         31\n",
       "84871     10851  RFC    NJ  2001  NaN         31"
      ]
     },
     "execution_count": 250,
     "metadata": {},
     "output_type": "execute_result"
    }
   ],
   "source": [
    "unknown_state.head()"
   ]
  },
  {
   "cell_type": "markdown",
   "metadata": {},
   "source": [
    "## Export plants with lat/lon, state, and nerc"
   ]
  },
  {
   "cell_type": "code",
   "execution_count": 251,
   "metadata": {},
   "outputs": [
    {
     "data": {
      "text/html": [
       "<div>\n",
       "<style scoped>\n",
       "    .dataframe tbody tr th:only-of-type {\n",
       "        vertical-align: middle;\n",
       "    }\n",
       "\n",
       "    .dataframe tbody tr th {\n",
       "        vertical-align: top;\n",
       "    }\n",
       "\n",
       "    .dataframe thead th {\n",
       "        text-align: right;\n",
       "    }\n",
       "</style>\n",
       "<table border=\"1\" class=\"dataframe\">\n",
       "  <thead>\n",
       "    <tr style=\"text-align: right;\">\n",
       "      <th></th>\n",
       "      <th>plant id</th>\n",
       "      <th>nerc</th>\n",
       "      <th>year</th>\n",
       "    </tr>\n",
       "  </thead>\n",
       "  <tbody>\n",
       "    <tr>\n",
       "      <th>24</th>\n",
       "      <td>61309</td>\n",
       "      <td>TRE</td>\n",
       "      <td>2017</td>\n",
       "    </tr>\n",
       "    <tr>\n",
       "      <th>25</th>\n",
       "      <td>61362</td>\n",
       "      <td>TRE</td>\n",
       "      <td>2017</td>\n",
       "    </tr>\n",
       "    <tr>\n",
       "      <th>26</th>\n",
       "      <td>61409</td>\n",
       "      <td>TRE</td>\n",
       "      <td>2017</td>\n",
       "    </tr>\n",
       "    <tr>\n",
       "      <th>27</th>\n",
       "      <td>61410</td>\n",
       "      <td>TRE</td>\n",
       "      <td>2017</td>\n",
       "    </tr>\n",
       "    <tr>\n",
       "      <th>28</th>\n",
       "      <td>61411</td>\n",
       "      <td>TRE</td>\n",
       "      <td>2017</td>\n",
       "    </tr>\n",
       "  </tbody>\n",
       "</table>\n",
       "</div>"
      ],
      "text/plain": [
       "    plant id nerc  year\n",
       "24     61309  TRE  2017\n",
       "25     61362  TRE  2017\n",
       "26     61409  TRE  2017\n",
       "27     61410  TRE  2017\n",
       "28     61411  TRE  2017"
      ]
     },
     "execution_count": 251,
     "metadata": {},
     "output_type": "execute_result"
    }
   ],
   "source": [
    "nercs.tail()"
   ]
  },
  {
   "cell_type": "code",
   "execution_count": 252,
   "metadata": {
    "ExecuteTime": {
     "end_time": "2017-11-06T16:54:00.912370Z",
     "start_time": "2017-11-06T16:54:00.897855Z"
    }
   },
   "outputs": [
    {
     "data": {
      "text/html": [
       "<div>\n",
       "<style scoped>\n",
       "    .dataframe tbody tr th:only-of-type {\n",
       "        vertical-align: middle;\n",
       "    }\n",
       "\n",
       "    .dataframe tbody tr th {\n",
       "        vertical-align: top;\n",
       "    }\n",
       "\n",
       "    .dataframe thead th {\n",
       "        text-align: right;\n",
       "    }\n",
       "</style>\n",
       "<table border=\"1\" class=\"dataframe\">\n",
       "  <thead>\n",
       "    <tr style=\"text-align: right;\">\n",
       "      <th></th>\n",
       "      <th>plant id</th>\n",
       "      <th>lat</th>\n",
       "      <th>lon</th>\n",
       "      <th>nerc</th>\n",
       "      <th>state</th>\n",
       "      <th>year</th>\n",
       "    </tr>\n",
       "  </thead>\n",
       "  <tbody>\n",
       "    <tr>\n",
       "      <th>28205</th>\n",
       "      <td>3823</td>\n",
       "      <td>38.27</td>\n",
       "      <td>-78.035</td>\n",
       "      <td>SERC</td>\n",
       "      <td>VA</td>\n",
       "      <td>2009</td>\n",
       "    </tr>\n",
       "    <tr>\n",
       "      <th>28206</th>\n",
       "      <td>3823</td>\n",
       "      <td>38.27</td>\n",
       "      <td>-78.035</td>\n",
       "      <td>SERC</td>\n",
       "      <td>VA</td>\n",
       "      <td>2005</td>\n",
       "    </tr>\n",
       "    <tr>\n",
       "      <th>28207</th>\n",
       "      <td>3823</td>\n",
       "      <td>38.27</td>\n",
       "      <td>-78.035</td>\n",
       "      <td>SERC</td>\n",
       "      <td>VA</td>\n",
       "      <td>2004</td>\n",
       "    </tr>\n",
       "    <tr>\n",
       "      <th>28208</th>\n",
       "      <td>3823</td>\n",
       "      <td>38.27</td>\n",
       "      <td>-78.035</td>\n",
       "      <td>SERC</td>\n",
       "      <td>VA</td>\n",
       "      <td>2003</td>\n",
       "    </tr>\n",
       "    <tr>\n",
       "      <th>28209</th>\n",
       "      <td>3823</td>\n",
       "      <td>38.27</td>\n",
       "      <td>-78.035</td>\n",
       "      <td>SERC</td>\n",
       "      <td>VA</td>\n",
       "      <td>2002</td>\n",
       "    </tr>\n",
       "  </tbody>\n",
       "</table>\n",
       "</div>"
      ],
      "text/plain": [
       "       plant id    lat     lon  nerc state  year\n",
       "28205      3823  38.27 -78.035  SERC    VA  2009\n",
       "28206      3823  38.27 -78.035  SERC    VA  2005\n",
       "28207      3823  38.27 -78.035  SERC    VA  2004\n",
       "28208      3823  38.27 -78.035  SERC    VA  2003\n",
       "28209      3823  38.27 -78.035  SERC    VA  2002"
      ]
     },
     "execution_count": 252,
     "metadata": {},
     "output_type": "execute_result"
    }
   ],
   "source": [
    "unknown.head()"
   ]
  },
  {
   "cell_type": "code",
   "execution_count": 253,
   "metadata": {
    "ExecuteTime": {
     "end_time": "2017-11-06T16:54:02.144417Z",
     "start_time": "2017-11-06T16:54:02.126662Z"
    }
   },
   "outputs": [
    {
     "data": {
      "text/html": [
       "<div>\n",
       "<style scoped>\n",
       "    .dataframe tbody tr th:only-of-type {\n",
       "        vertical-align: middle;\n",
       "    }\n",
       "\n",
       "    .dataframe tbody tr th {\n",
       "        vertical-align: top;\n",
       "    }\n",
       "\n",
       "    .dataframe thead th {\n",
       "        text-align: right;\n",
       "    }\n",
       "</style>\n",
       "<table border=\"1\" class=\"dataframe\">\n",
       "  <thead>\n",
       "    <tr style=\"text-align: right;\">\n",
       "      <th></th>\n",
       "      <th>plant id</th>\n",
       "      <th>nerc</th>\n",
       "      <th>state</th>\n",
       "      <th>year</th>\n",
       "      <th>lon</th>\n",
       "      <th>enc state</th>\n",
       "    </tr>\n",
       "  </thead>\n",
       "  <tbody>\n",
       "    <tr>\n",
       "      <th>92615</th>\n",
       "      <td>10257</td>\n",
       "      <td>WECC</td>\n",
       "      <td>CA</td>\n",
       "      <td>2004</td>\n",
       "      <td>NaN</td>\n",
       "      <td>4</td>\n",
       "    </tr>\n",
       "    <tr>\n",
       "      <th>92616</th>\n",
       "      <td>10257</td>\n",
       "      <td>WECC</td>\n",
       "      <td>CA</td>\n",
       "      <td>2003</td>\n",
       "      <td>NaN</td>\n",
       "      <td>4</td>\n",
       "    </tr>\n",
       "    <tr>\n",
       "      <th>92617</th>\n",
       "      <td>10257</td>\n",
       "      <td>WECC</td>\n",
       "      <td>CA</td>\n",
       "      <td>2002</td>\n",
       "      <td>NaN</td>\n",
       "      <td>4</td>\n",
       "    </tr>\n",
       "    <tr>\n",
       "      <th>92618</th>\n",
       "      <td>10257</td>\n",
       "      <td>WECC</td>\n",
       "      <td>CA</td>\n",
       "      <td>2001</td>\n",
       "      <td>NaN</td>\n",
       "      <td>4</td>\n",
       "    </tr>\n",
       "    <tr>\n",
       "      <th>92782</th>\n",
       "      <td>56508</td>\n",
       "      <td>WECC</td>\n",
       "      <td>CA</td>\n",
       "      <td>2007</td>\n",
       "      <td>NaN</td>\n",
       "      <td>4</td>\n",
       "    </tr>\n",
       "  </tbody>\n",
       "</table>\n",
       "</div>"
      ],
      "text/plain": [
       "       plant id  nerc state  year  lon  enc state\n",
       "92615     10257  WECC    CA  2004  NaN          4\n",
       "92616     10257  WECC    CA  2003  NaN          4\n",
       "92617     10257  WECC    CA  2002  NaN          4\n",
       "92618     10257  WECC    CA  2001  NaN          4\n",
       "92782     56508  WECC    CA  2007  NaN          4"
      ]
     },
     "execution_count": 253,
     "metadata": {},
     "output_type": "execute_result"
    }
   ],
   "source": [
    "unknown_state.tail()"
   ]
  },
  {
   "cell_type": "code",
   "execution_count": 267,
   "metadata": {},
   "outputs": [
    {
     "data": {
      "text/plain": [
       "31"
      ]
     },
     "execution_count": 267,
     "metadata": {},
     "output_type": "execute_result"
    }
   ],
   "source": [
    "len(unknown_state['plant id'].unique())"
   ]
  },
  {
   "cell_type": "code",
   "execution_count": 254,
   "metadata": {
    "ExecuteTime": {
     "end_time": "2017-11-06T16:54:06.371732Z",
     "start_time": "2017-11-06T16:54:06.354901Z"
    }
   },
   "outputs": [
    {
     "data": {
      "text/html": [
       "<div>\n",
       "<style scoped>\n",
       "    .dataframe tbody tr th:only-of-type {\n",
       "        vertical-align: middle;\n",
       "    }\n",
       "\n",
       "    .dataframe tbody tr th {\n",
       "        vertical-align: top;\n",
       "    }\n",
       "\n",
       "    .dataframe thead th {\n",
       "        text-align: right;\n",
       "    }\n",
       "</style>\n",
       "<table border=\"1\" class=\"dataframe\">\n",
       "  <thead>\n",
       "    <tr style=\"text-align: right;\">\n",
       "      <th></th>\n",
       "      <th>plant id</th>\n",
       "      <th>lat</th>\n",
       "      <th>lon</th>\n",
       "      <th>nerc</th>\n",
       "      <th>state</th>\n",
       "      <th>year</th>\n",
       "    </tr>\n",
       "  </thead>\n",
       "  <tbody>\n",
       "    <tr>\n",
       "      <th>0</th>\n",
       "      <td>1001</td>\n",
       "      <td>39.9242</td>\n",
       "      <td>-87.4244</td>\n",
       "      <td>RFC</td>\n",
       "      <td>IN</td>\n",
       "      <td>2016</td>\n",
       "    </tr>\n",
       "    <tr>\n",
       "      <th>1</th>\n",
       "      <td>1001</td>\n",
       "      <td>39.9242</td>\n",
       "      <td>-87.4244</td>\n",
       "      <td>RFC</td>\n",
       "      <td>IN</td>\n",
       "      <td>2015</td>\n",
       "    </tr>\n",
       "    <tr>\n",
       "      <th>2</th>\n",
       "      <td>1001</td>\n",
       "      <td>39.9242</td>\n",
       "      <td>-87.4244</td>\n",
       "      <td>RFC</td>\n",
       "      <td>IN</td>\n",
       "      <td>2014</td>\n",
       "    </tr>\n",
       "    <tr>\n",
       "      <th>3</th>\n",
       "      <td>1001</td>\n",
       "      <td>39.9242</td>\n",
       "      <td>-87.4244</td>\n",
       "      <td>RFC</td>\n",
       "      <td>IN</td>\n",
       "      <td>2013</td>\n",
       "    </tr>\n",
       "    <tr>\n",
       "      <th>4</th>\n",
       "      <td>1001</td>\n",
       "      <td>39.9242</td>\n",
       "      <td>-87.4244</td>\n",
       "      <td>RFC</td>\n",
       "      <td>IN</td>\n",
       "      <td>2012</td>\n",
       "    </tr>\n",
       "  </tbody>\n",
       "</table>\n",
       "</div>"
      ],
      "text/plain": [
       "   plant id      lat      lon nerc state  year\n",
       "0      1001  39.9242 -87.4244  RFC    IN  2016\n",
       "1      1001  39.9242 -87.4244  RFC    IN  2015\n",
       "2      1001  39.9242 -87.4244  RFC    IN  2014\n",
       "3      1001  39.9242 -87.4244  RFC    IN  2013\n",
       "4      1001  39.9242 -87.4244  RFC    IN  2012"
      ]
     },
     "execution_count": 254,
     "metadata": {},
     "output_type": "execute_result"
    }
   ],
   "source": [
    "df_slim.head()"
   ]
  },
  {
   "cell_type": "code",
   "execution_count": 70,
   "metadata": {
    "ExecuteTime": {
     "end_time": "2017-11-06T16:54:07.622073Z",
     "start_time": "2017-11-06T16:54:07.597436Z"
    },
    "collapsed": true
   },
   "outputs": [],
   "source": [
    "labeled = pd.concat([df_slim.loc[df_slim.notnull().all(axis=1)],\n",
    "                     unknown,\n",
    "                     unknown_state.loc[:, ['plant id', 'nerc', 'state', 'year']]])"
   ]
  },
  {
   "cell_type": "code",
   "execution_count": 71,
   "metadata": {},
   "outputs": [
    {
     "data": {
      "text/html": [
       "<div>\n",
       "<style scoped>\n",
       "    .dataframe tbody tr th:only-of-type {\n",
       "        vertical-align: middle;\n",
       "    }\n",
       "\n",
       "    .dataframe tbody tr th {\n",
       "        vertical-align: top;\n",
       "    }\n",
       "\n",
       "    .dataframe thead th {\n",
       "        text-align: right;\n",
       "    }\n",
       "</style>\n",
       "<table border=\"1\" class=\"dataframe\">\n",
       "  <thead>\n",
       "    <tr style=\"text-align: right;\">\n",
       "      <th></th>\n",
       "      <th>lat</th>\n",
       "      <th>lon</th>\n",
       "      <th>nerc</th>\n",
       "      <th>plant id</th>\n",
       "      <th>state</th>\n",
       "      <th>year</th>\n",
       "    </tr>\n",
       "  </thead>\n",
       "  <tbody>\n",
       "    <tr>\n",
       "      <th>101370</th>\n",
       "      <td>NaN</td>\n",
       "      <td>NaN</td>\n",
       "      <td>WECC</td>\n",
       "      <td>10257</td>\n",
       "      <td>CA</td>\n",
       "      <td>2005</td>\n",
       "    </tr>\n",
       "    <tr>\n",
       "      <th>101371</th>\n",
       "      <td>NaN</td>\n",
       "      <td>NaN</td>\n",
       "      <td>WECC</td>\n",
       "      <td>10257</td>\n",
       "      <td>CA</td>\n",
       "      <td>2004</td>\n",
       "    </tr>\n",
       "    <tr>\n",
       "      <th>101372</th>\n",
       "      <td>NaN</td>\n",
       "      <td>NaN</td>\n",
       "      <td>WECC</td>\n",
       "      <td>10257</td>\n",
       "      <td>CA</td>\n",
       "      <td>2003</td>\n",
       "    </tr>\n",
       "    <tr>\n",
       "      <th>101373</th>\n",
       "      <td>NaN</td>\n",
       "      <td>NaN</td>\n",
       "      <td>WECC</td>\n",
       "      <td>10257</td>\n",
       "      <td>CA</td>\n",
       "      <td>2002</td>\n",
       "    </tr>\n",
       "    <tr>\n",
       "      <th>101374</th>\n",
       "      <td>NaN</td>\n",
       "      <td>NaN</td>\n",
       "      <td>WECC</td>\n",
       "      <td>10257</td>\n",
       "      <td>CA</td>\n",
       "      <td>2001</td>\n",
       "    </tr>\n",
       "  </tbody>\n",
       "</table>\n",
       "</div>"
      ],
      "text/plain": [
       "        lat  lon  nerc  plant id state  year\n",
       "101370  NaN  NaN  WECC     10257    CA  2005\n",
       "101371  NaN  NaN  WECC     10257    CA  2004\n",
       "101372  NaN  NaN  WECC     10257    CA  2003\n",
       "101373  NaN  NaN  WECC     10257    CA  2002\n",
       "101374  NaN  NaN  WECC     10257    CA  2001"
      ]
     },
     "execution_count": 71,
     "metadata": {},
     "output_type": "execute_result"
    }
   ],
   "source": [
    "labeled.tail()"
   ]
  },
  {
   "cell_type": "code",
   "execution_count": 72,
   "metadata": {
    "ExecuteTime": {
     "end_time": "2017-11-06T16:54:09.653819Z",
     "start_time": "2017-11-06T16:54:09.640776Z"
    }
   },
   "outputs": [
    {
     "data": {
      "text/html": [
       "<div>\n",
       "<style scoped>\n",
       "    .dataframe tbody tr th:only-of-type {\n",
       "        vertical-align: middle;\n",
       "    }\n",
       "\n",
       "    .dataframe tbody tr th {\n",
       "        vertical-align: top;\n",
       "    }\n",
       "\n",
       "    .dataframe thead th {\n",
       "        text-align: right;\n",
       "    }\n",
       "</style>\n",
       "<table border=\"1\" class=\"dataframe\">\n",
       "  <thead>\n",
       "    <tr style=\"text-align: right;\">\n",
       "      <th></th>\n",
       "      <th>lat</th>\n",
       "      <th>lon</th>\n",
       "      <th>nerc</th>\n",
       "      <th>plant id</th>\n",
       "      <th>state</th>\n",
       "      <th>year</th>\n",
       "    </tr>\n",
       "  </thead>\n",
       "  <tbody>\n",
       "  </tbody>\n",
       "</table>\n",
       "</div>"
      ],
      "text/plain": [
       "Empty DataFrame\n",
       "Columns: [lat, lon, nerc, plant id, state, year]\n",
       "Index: []"
      ]
     },
     "execution_count": 72,
     "metadata": {},
     "output_type": "execute_result"
    }
   ],
   "source": [
    "labeled.loc[labeled.nerc.isnull()]"
   ]
  },
  {
   "cell_type": "markdown",
   "metadata": {},
   "source": [
    "There are 7 facilities that don't show up in my labeled data."
   ]
  },
  {
   "cell_type": "code",
   "execution_count": 258,
   "metadata": {},
   "outputs": [
    {
     "data": {
      "text/plain": [
       "array([57116, 57794, 58690, 58236, 58098, 57913, 57400, 57628, 61084,\n",
       "       60539, 60540, 60991, 61079, 60383, 61172, 61020, 61221, 61021,\n",
       "       61022, 60682, 60688, 61407, 60689, 61330, 61357, 60414, 60366,\n",
       "       60983, 60989, 60372, 60658, 60581, 60583, 60901, 60902, 60905,\n",
       "       60883, 60885, 60856, 60552, 60467, 60145, 60152, 59308, 59220,\n",
       "       59309, 59315, 60237, 60306, 60303, 60340, 59665, 59666, 59684,\n",
       "       59827, 59061, 60033, 59066, 60210, 60261, 61039, 61040, 61048,\n",
       "       60258, 61050, 60346, 59689, 59690, 59691, 59764, 61261, 61268,\n",
       "       61303, 59812, 59875, 60043, 59888, 61561, 60122, 59245, 59193,\n",
       "       59004, 60655, 60987, 61512, 59206, 60436, 60217, 59712, 59940,\n",
       "       60785, 61222, 61422, 55314, 55952,  7704,  6339, 55975, 55073,\n",
       "       50728, 60569, 60570, 61197, 60690, 60506])"
      ]
     },
     "execution_count": 258,
     "metadata": {},
     "output_type": "execute_result"
    }
   ],
   "source": [
    "facility_df.loc[~facility_df['plant id'].isin(labeled['plant id']), 'plant id'].unique()"
   ]
  },
  {
   "cell_type": "code",
   "execution_count": 259,
   "metadata": {},
   "outputs": [
    {
     "data": {
      "text/plain": [
       "(100822, 132244)"
      ]
     },
     "execution_count": 259,
     "metadata": {},
     "output_type": "execute_result"
    }
   ],
   "source": [
    "len(labeled), len(nercs)"
   ]
  },
  {
   "cell_type": "code",
   "execution_count": null,
   "metadata": {},
   "outputs": [],
   "source": []
  },
  {
   "cell_type": "code",
   "execution_count": 260,
   "metadata": {},
   "outputs": [
    {
     "data": {
      "text/plain": [
       "array(['RFC', 'NPCC', 'WECC', 'SERC', 'SPP', 'TRE', 'MRO', 'FRCC', 'ASCC',\n",
       "       'HICC'], dtype=object)"
      ]
     },
     "execution_count": 260,
     "metadata": {},
     "output_type": "execute_result"
    }
   ],
   "source": [
    "nerc_labels"
   ]
  },
  {
   "cell_type": "code",
   "execution_count": 261,
   "metadata": {},
   "outputs": [],
   "source": [
    "mro_2016 = set(labeled.loc[(labeled.nerc == 'MRO') &\n",
    "                                  (labeled.year == 2016), 'plant id'])\n",
    "mro_2017 = set(labeled.loc[(labeled.nerc == 'MRO') &\n",
    "                                  (labeled.year == 2017), 'plant id'])"
   ]
  },
  {
   "cell_type": "code",
   "execution_count": null,
   "metadata": {},
   "outputs": [],
   "source": []
  },
  {
   "cell_type": "code",
   "execution_count": 262,
   "metadata": {},
   "outputs": [
    {
     "data": {
      "text/plain": [
       "{1052,\n",
       " 1058,\n",
       " 1175,\n",
       " 1189,\n",
       " 1218,\n",
       " 1771,\n",
       " 1889,\n",
       " 1914,\n",
       " 1918,\n",
       " 1932,\n",
       " 1960,\n",
       " 1995,\n",
       " 2008,\n",
       " 2217,\n",
       " 2791,\n",
       " 2821,\n",
       " 2822,\n",
       " 3334,\n",
       " 3343,\n",
       " 3347,\n",
       " 3348,\n",
       " 3996,\n",
       " 4048,\n",
       " 4054,\n",
       " 4062,\n",
       " 4121,\n",
       " 4140,\n",
       " 7376,\n",
       " 7377,\n",
       " 7602,\n",
       " 7706,\n",
       " 7882,\n",
       " 7956,\n",
       " 8014,\n",
       " 8025,\n",
       " 8057,\n",
       " 10476,\n",
       " 54713,\n",
       " 54930,\n",
       " 55315,\n",
       " 55638,\n",
       " 55764,\n",
       " 55834,\n",
       " 56072,\n",
       " 56183,\n",
       " 56366,\n",
       " 57048,\n",
       " 57116,\n",
       " 57255,\n",
       " 57659,\n",
       " 58236,\n",
       " 58434,\n",
       " 58903,\n",
       " 59053,\n",
       " 59197,\n",
       " 59223,\n",
       " 59224,\n",
       " 59225,\n",
       " 59226,\n",
       " 59227,\n",
       " 59228,\n",
       " 59230,\n",
       " 59231,\n",
       " 59307,\n",
       " 59684,\n",
       " 59875,\n",
       " 59902,\n",
       " 59903,\n",
       " 60066,\n",
       " 60203,\n",
       " 60254,\n",
       " 60503,\n",
       " 60504,\n",
       " 60505,\n",
       " 60519,\n",
       " 60520,\n",
       " 60521,\n",
       " 60522,\n",
       " 60523,\n",
       " 60524,\n",
       " 60525,\n",
       " 60526,\n",
       " 60527,\n",
       " 60528,\n",
       " 60529,\n",
       " 60530,\n",
       " 60531,\n",
       " 60532,\n",
       " 60533,\n",
       " 60534,\n",
       " 60564,\n",
       " 60595,\n",
       " 60631,\n",
       " 60632,\n",
       " 60647,\n",
       " 60674,\n",
       " 60694,\n",
       " 60695,\n",
       " 60711,\n",
       " 60712,\n",
       " 60713,\n",
       " 60714,\n",
       " 60715,\n",
       " 60716,\n",
       " 60717,\n",
       " 60795,\n",
       " 60823,\n",
       " 60830,\n",
       " 60832,\n",
       " 60833,\n",
       " 60834,\n",
       " 60835,\n",
       " 60836,\n",
       " 60837,\n",
       " 60838,\n",
       " 60873,\n",
       " 60887,\n",
       " 60888,\n",
       " 60889,\n",
       " 60890,\n",
       " 60891,\n",
       " 60892,\n",
       " 60893,\n",
       " 60894,\n",
       " 60895,\n",
       " 60905,\n",
       " 60934,\n",
       " 60935,\n",
       " 60936,\n",
       " 60937,\n",
       " 60938,\n",
       " 60939,\n",
       " 60940,\n",
       " 60941,\n",
       " 60942,\n",
       " 60943,\n",
       " 60944,\n",
       " 60951,\n",
       " 60955,\n",
       " 60957,\n",
       " 60958,\n",
       " 60962,\n",
       " 60966,\n",
       " 60971,\n",
       " 60977,\n",
       " 61046,\n",
       " 61047,\n",
       " 61056,\n",
       " 61057,\n",
       " 61058,\n",
       " 61059,\n",
       " 61060,\n",
       " 61070,\n",
       " 61071,\n",
       " 61072,\n",
       " 61077,\n",
       " 61078,\n",
       " 61079,\n",
       " 61138,\n",
       " 61139,\n",
       " 61140,\n",
       " 61141,\n",
       " 61142,\n",
       " 61144,\n",
       " 61174,\n",
       " 61175,\n",
       " 61176,\n",
       " 61177,\n",
       " 61178,\n",
       " 61179,\n",
       " 61180,\n",
       " 61181,\n",
       " 61182,\n",
       " 61183,\n",
       " 61203,\n",
       " 61328,\n",
       " 61329,\n",
       " 61357,\n",
       " 61363,\n",
       " 61379,\n",
       " 61380,\n",
       " 61381,\n",
       " 61382,\n",
       " 61383,\n",
       " 61384,\n",
       " 61426,\n",
       " 61427,\n",
       " 61428}"
      ]
     },
     "execution_count": 262,
     "metadata": {},
     "output_type": "execute_result"
    }
   ],
   "source": [
    "(set(nercs.loc[(nercs.nerc=='MRO') &\n",
    "              (nercs.year==2017),'plant id'])\n",
    " - mro_2017)"
   ]
  },
  {
   "cell_type": "code",
   "execution_count": 263,
   "metadata": {},
   "outputs": [
    {
     "name": "stdout",
     "output_type": "stream",
     "text": [
      "0 plants dropped in RFC\n",
      "0 plants dropped in NPCC\n",
      "0 plants dropped in WECC\n",
      "0 plants dropped in SERC\n",
      "0 plants dropped in SPP\n",
      "0 plants dropped in TRE\n",
      "0 plants dropped in MRO\n",
      "0 plants dropped in FRCC\n",
      "0 plants dropped in ASCC\n",
      "0 plants dropped in HICC\n"
     ]
    }
   ],
   "source": [
    "for nerc in nerc_labels:\n",
    "    l = len((set(labeled.loc[(labeled.nerc == nerc) &\n",
    "              (labeled.year == 2016), 'plant id'])\n",
    "     - set(labeled.loc[(labeled.nerc == nerc) &\n",
    "              (labeled.year == 2017), 'plant id'])))\n",
    "    \n",
    "    print('{} plants dropped in {}'.format(l, nerc))"
   ]
  },
  {
   "cell_type": "code",
   "execution_count": 264,
   "metadata": {},
   "outputs": [
    {
     "data": {
      "text/plain": [
       "set()"
      ]
     },
     "execution_count": 264,
     "metadata": {},
     "output_type": "execute_result"
    }
   ],
   "source": [
    "(set(labeled.loc[(labeled.nerc == 'MRO') &\n",
    "              (labeled.year == 2016), 'plant id'])\n",
    " - set(labeled.loc[(labeled.nerc == 'MRO') &\n",
    "              (labeled.year == 2017), 'plant id']))"
   ]
  },
  {
   "cell_type": "code",
   "execution_count": 73,
   "metadata": {
    "ExecuteTime": {
     "end_time": "2017-11-06T16:59:09.744166Z",
     "start_time": "2017-11-06T16:59:09.667898Z"
    },
    "collapsed": true
   },
   "outputs": [],
   "source": [
    "path = join(data_path, 'Facility labels', 'Facility locations_RF.csv')\n",
    "labeled.to_csv(path, index=False)"
   ]
  },
  {
   "cell_type": "code",
   "execution_count": null,
   "metadata": {
    "collapsed": true
   },
   "outputs": [],
   "source": []
  }
 ],
 "metadata": {
  "kernelspec": {
   "display_name": "psci",
   "language": "python",
   "name": "psci"
  },
  "language_info": {
   "codemirror_mode": {
    "name": "ipython",
    "version": 3
   },
   "file_extension": ".py",
   "mimetype": "text/x-python",
   "name": "python",
   "nbconvert_exporter": "python",
   "pygments_lexer": "ipython3",
   "version": "3.6.8"
  },
  "varInspector": {
   "cols": {
    "lenName": 16,
    "lenType": 16,
    "lenVar": 40
   },
   "kernels_config": {
    "python": {
     "delete_cmd_postfix": "",
     "delete_cmd_prefix": "del ",
     "library": "var_list.py",
     "varRefreshCmd": "print(var_dic_list())"
    },
    "r": {
     "delete_cmd_postfix": ") ",
     "delete_cmd_prefix": "rm(",
     "library": "var_list.r",
     "varRefreshCmd": "cat(var_dic_list()) "
    }
   },
   "types_to_exclude": [
    "module",
    "function",
    "builtin_function_or_method",
    "instance",
    "_Feature"
   ],
   "window_display": false
  }
 },
 "nbformat": 4,
 "nbformat_minor": 2
}
