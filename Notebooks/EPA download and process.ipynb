{
 "cells": [
  {
   "cell_type": "markdown",
   "metadata": {},
   "source": [
    "# Download and process EPA CEMS data\n",
    "This notebook downloads daily aggregations of the EPA CEMS data from EPA's ftp server. It then cleans the data and saves it as a csv file."
   ]
  },
  {
   "cell_type": "code",
   "execution_count": 1,
   "metadata": {},
   "outputs": [],
   "source": [
    "import pandas as pd\n",
    "import numpy as np\n",
    "from ftplib import FTP\n",
    "import timeit\n",
    "import urllib\n",
    "import re\n",
    "import os\n",
    "from os.path import join\n",
    "import sys\n",
    "import io, time, json"
   ]
  },
  {
   "cell_type": "code",
   "execution_count": 6,
   "metadata": {},
   "outputs": [],
   "source": [
    "# csv date extension\n",
    "file_date = '2019-02-26'\n",
    "\n",
    "# Years of data to download\n",
    "years = range(2001, 2019)\n",
    "\n",
    "# Values should be None unless only specific months/states are needed\n",
    "month = None\n",
    "state = None"
   ]
  },
  {
   "cell_type": "code",
   "execution_count": 3,
   "metadata": {
    "ExecuteTime": {
     "end_time": "2017-10-31T15:19:47.830026Z",
     "start_time": "2017-10-31T15:19:47.789798Z"
    },
    "collapsed": true
   },
   "outputs": [],
   "source": [
    "# Load the \"autoreload\" extension\n",
    "%load_ext autoreload\n",
    "\n",
    "# always reload modules marked with \"%aimport\"\n",
    "%autoreload 1\n",
    "\n",
    "# add the 'src' directory as one where we can import modules\n",
    "src_dir = join(os.getcwd(), os.pardir, 'src')\n",
    "sys.path.append(src_dir)"
   ]
  },
  {
   "cell_type": "code",
   "execution_count": 4,
   "metadata": {
    "ExecuteTime": {
     "end_time": "2017-10-31T15:20:10.111890Z",
     "start_time": "2017-10-31T15:20:10.105877Z"
    },
    "collapsed": true
   },
   "outputs": [],
   "source": [
    "%aimport Data.cems\n",
    "from Data.cems import CEMS"
   ]
  },
  {
   "cell_type": "code",
   "execution_count": 5,
   "metadata": {},
   "outputs": [],
   "source": [
    "ftp_base = 'newftp.epa.gov'\n",
    "ftp_ext = '/dmdnload/emissions/daily/quarterly'"
   ]
  },
  {
   "cell_type": "code",
   "execution_count": 7,
   "metadata": {},
   "outputs": [
    {
     "name": "stdout",
     "output_type": "stream",
     "text": [
      "Opening ftp connection\n",
      "Downloading 2001 data\n",
      "2.46 min total\n",
      "Downloading 2002 data\n",
      "2.48 min total\n",
      "Downloading 2003 data\n",
      "2.41 min total\n",
      "Downloading 2004 data\n",
      "2.79 min total\n",
      "Downloading 2005 data\n",
      "2.75 min total\n",
      "Downloading 2006 data\n"
     ]
    },
    {
     "name": "stderr",
     "output_type": "stream",
     "text": [
      "/Users/greg/miniconda3/envs/marginal_emiss/lib/python3.6/site-packages/pandas/core/indexing.py:1472: FutureWarning: \n",
      "Passing list-likes to .loc or [] with any missing label will raise\n",
      "KeyError in the future, you can use .reindex() as an alternative.\n",
      "\n",
      "See the documentation here:\n",
      "https://pandas.pydata.org/pandas-docs/stable/indexing.html#deprecate-loc-reindex-listlike\n",
      "  return self._getitem_tuple(key)\n"
     ]
    },
    {
     "name": "stdout",
     "output_type": "stream",
     "text": [
      "2.62 min total\n",
      "Downloading 2007 data\n",
      "2.62 min total\n",
      "Downloading 2008 data\n",
      "2.63 min total\n",
      "Downloading 2009 data\n",
      "2.47 min total\n",
      "Downloading 2010 data\n",
      "2.55 min total\n",
      "Downloading 2011 data\n",
      "2.42 min total\n",
      "Downloading 2012 data\n",
      "3.02 min total\n",
      "Downloading 2013 data\n",
      "3.79 min total\n",
      "Downloading 2014 data\n",
      "3.56 min total\n",
      "Downloading 2015 data\n",
      "3.07 min total\n",
      "Downloading 2016 data\n",
      "2.66 min total\n",
      "Downloading 2017 data\n",
      "0.72 min so far\n",
      "DLY_2017iaQ3.zip\n",
      "DLY_2017iaQ3.zip had an error but was successfully downloaded\n",
      "2.93 min total\n",
      "Downloading 2018 data\n",
      "3.11 min total\n"
     ]
    }
   ],
   "source": [
    "cems = CEMS(ftp_base, ftp_ext, months=month, states=states)\n",
    "df = cems.fetch_cems_data(years)"
   ]
  },
  {
   "cell_type": "code",
   "execution_count": 14,
   "metadata": {},
   "outputs": [],
   "source": [
    "cwd = os.getcwd()\n",
    "path = join(cwd, '..', 'Data storage', 'Derived data',\n",
    "            'Monthly EPA emissions {}.csv'.format(file_date))\n",
    "df.to_csv(path, index=False)"
   ]
  },
  {
   "cell_type": "code",
   "execution_count": null,
   "metadata": {},
   "outputs": [],
   "source": []
  }
 ],
 "metadata": {
  "kernelspec": {
   "display_name": "marginal_emiss",
   "language": "python",
   "name": "marginal_emiss"
  },
  "language_info": {
   "codemirror_mode": {
    "name": "ipython",
    "version": 3
   },
   "file_extension": ".py",
   "mimetype": "text/x-python",
   "name": "python",
   "nbconvert_exporter": "python",
   "pygments_lexer": "ipython3",
   "version": "3.6.5"
  }
 },
 "nbformat": 4,
 "nbformat_minor": 2
}
