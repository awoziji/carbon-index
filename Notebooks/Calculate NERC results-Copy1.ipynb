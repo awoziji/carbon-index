{
 "cells": [
  {
   "cell_type": "markdown",
   "metadata": {},
   "source": [
    "# Calculate NERC level results\n",
    "Use the NERC extra generation and fuel consumption (things not yet reported in EIA-923 final data) from the *Calculate national and NERC gen and emissions* notebook, along with facility EIA and EPA data to calculate generation and emissions in each NERC region.\n",
    "\n",
    "## Instructions\n",
    "Make sure the `file_date` parameter below is set to whatever value you would like appended to file names.\n",
    "\n",
    "The entire notebook can be run at once using *Run All Cells*"
   ]
  },
  {
   "cell_type": "code",
   "execution_count": 1,
   "metadata": {},
   "outputs": [],
   "source": [
    "# Load the \"autoreload\" extension\n",
    "%load_ext autoreload\n",
    "%autoreload 2"
   ]
  },
  {
   "cell_type": "code",
   "execution_count": 2,
   "metadata": {
    "ExecuteTime": {
     "end_time": "2017-11-06T17:27:29.210505Z",
     "start_time": "2017-11-06T17:27:27.751371Z"
    },
    "collapsed": true
   },
   "outputs": [],
   "source": [
    "%matplotlib inline\n",
    "import matplotlib.pyplot as plt\n",
    "import seaborn as sns\n",
    "import pandas as pd\n",
    "import numpy as np\n",
    "import os\n",
    "from os.path import join\n",
    "import sys\n",
    "import json\n",
    "idx = pd.IndexSlice"
   ]
  },
  {
   "cell_type": "code",
   "execution_count": 20,
   "metadata": {},
   "outputs": [],
   "source": [
    "from src.analysis.index import (\n",
    "    facility_emission_gen,\n",
    "    group_facility_data,\n",
    "    g2lb,\n",
    "    change_since_2005,\n",
    "    generation_index,\n",
    "    facility_co2,\n",
    "    adjust_epa_emissions,\n",
    "    group_fuel_cats,\n",
    "    extra_emissions_gen,\n",
    "    reduce_emission_factors\n",
    ")\n",
    "from src.util import add_quarter, add_facility_location, rename_cols, add_datetime\n",
    "from src.params import (\n",
    "    DATA_DATE,\n",
    "    DATA_PATHS,\n",
    "    QUARTER_YEAR,\n",
    "    STATE_FACILITY_FUELS,\n",
    "    CUSTOM_FUELS,\n",
    "    FINAL_DATA_YEAR,\n",
    "    STATES,\n",
    "    NERCS\n",
    ")\n",
    "\n",
    "prev_year = FINAL_DATA_YEAR - 1"
   ]
  },
  {
   "cell_type": "markdown",
   "metadata": {},
   "source": [
    "### Date string for filenames\n",
    "This will be inserted into all filenames (reading and writing)"
   ]
  },
  {
   "cell_type": "code",
   "execution_count": null,
   "metadata": {},
   "outputs": [],
   "source": [
    "file_date = '2019-02-26'"
   ]
  },
  {
   "cell_type": "code",
   "execution_count": null,
   "metadata": {
    "ExecuteTime": {
     "end_time": "2017-11-06T17:27:29.234050Z",
     "start_time": "2017-11-06T17:27:29.212202Z"
    },
    "collapsed": true
   },
   "outputs": [],
   "source": [
    "%load_ext watermark"
   ]
  },
  {
   "cell_type": "code",
   "execution_count": null,
   "metadata": {
    "ExecuteTime": {
     "end_time": "2017-11-06T17:27:29.257707Z",
     "start_time": "2017-11-06T17:27:29.241283Z"
    }
   },
   "outputs": [],
   "source": [
    "%watermark -v -iv"
   ]
  },
  {
   "cell_type": "code",
   "execution_count": null,
   "metadata": {
    "ExecuteTime": {
     "end_time": "2017-11-06T17:27:29.305341Z",
     "start_time": "2017-11-06T17:27:29.260163Z"
    },
    "collapsed": true
   },
   "outputs": [],
   "source": [
    "# Load the \"autoreload\" extension\n",
    "%load_ext autoreload\n",
    "\n",
    "# always reload modules marked with \"%aimport\"\n",
    "%autoreload 1"
   ]
  },
  {
   "cell_type": "code",
   "execution_count": null,
   "metadata": {
    "ExecuteTime": {
     "end_time": "2017-11-06T17:27:29.314381Z",
     "start_time": "2017-11-06T17:27:29.307927Z"
    },
    "collapsed": true
   },
   "outputs": [],
   "source": [
    "# add the 'src' directory as one where we can import modules\n",
    "src_dir = join(os.getcwd(), os.pardir, 'src')\n",
    "sys.path.append(src_dir)"
   ]
  },
  {
   "cell_type": "code",
   "execution_count": null,
   "metadata": {
    "ExecuteTime": {
     "end_time": "2017-11-06T17:27:29.351484Z",
     "start_time": "2017-11-06T17:27:29.318977Z"
    },
    "collapsed": true
   },
   "outputs": [],
   "source": [
    "%aimport Data.make_data\n",
    "from Data.make_data import states_in_nerc\n",
    "%aimport Analysis.index\n",
    "from Analysis.index import facility_emission_gen, group_facility_data\n",
    "%aimport Analysis.index\n",
    "from Analysis.index import facility_co2, adjust_epa_emissions, group_fuel_cats\n",
    "from Analysis.index import reduce_emission_factors, add_datetime\n",
    "%aimport util.utils\n",
    "from util.utils import rename_cols, add_facility_location"
   ]
  },
  {
   "cell_type": "markdown",
   "metadata": {},
   "source": [
    "## Extra NERC emissions and generation"
   ]
  },
  {
   "cell_type": "markdown",
   "metadata": {},
   "source": [
    "### Load extra NERC generation and fuel consumption"
   ]
  },
  {
   "cell_type": "code",
   "execution_count": null,
   "metadata": {
    "ExecuteTime": {
     "end_time": "2017-11-06T17:27:29.374809Z",
     "start_time": "2017-11-06T17:27:29.354370Z"
    },
    "collapsed": true
   },
   "outputs": [],
   "source": [
    "cwd = os.getcwd()\n",
    "path = join(cwd, '..', 'Data storage', 'Derived data',\n",
    "            'NERC extra gen fuels {}.csv'.format(file_date))\n",
    "extra_nerc = pd.read_csv(path, index_col=[0, 1, 2, 3])"
   ]
  },
  {
   "cell_type": "code",
   "execution_count": 4,
   "metadata": {},
   "outputs": [],
   "source": [
    "path = (\n",
    "    DATA_PATHS['nerc_extra']\n",
    "    / f'NERC extra gen fuels {DATA_DATE}.csv'\n",
    ")\n",
    "extra_nerc = pd.read_csv(path, index_col=[0, 1, 2, 3])"
   ]
  },
  {
   "cell_type": "markdown",
   "metadata": {},
   "source": [
    "### Load emission factors"
   ]
  },
  {
   "cell_type": "code",
   "execution_count": null,
   "metadata": {
    "ExecuteTime": {
     "end_time": "2017-11-06T17:27:29.414840Z",
     "start_time": "2017-11-06T17:27:29.406038Z"
    },
    "collapsed": true
   },
   "outputs": [],
   "source": [
    "path = join(cwd, '..', 'Data storage', 'Final emission factors.csv')\n",
    "ef = pd.read_csv(path, index_col=0)"
   ]
  },
  {
   "cell_type": "code",
   "execution_count": 5,
   "metadata": {},
   "outputs": [],
   "source": [
    "EF_PATH = DATA_PATHS['inputs'] / 'Final emission factors.csv'\n",
    "EF = pd.read_csv(EF_PATH, index_col=0)"
   ]
  },
  {
   "cell_type": "code",
   "execution_count": 6,
   "metadata": {
    "ExecuteTime": {
     "end_time": "2017-11-06T17:27:29.448755Z",
     "start_time": "2017-11-06T17:27:29.441287Z"
    },
    "collapsed": true
   },
   "outputs": [],
   "source": [
    "ef_type = reduce_emission_factors(EF)"
   ]
  },
  {
   "cell_type": "code",
   "execution_count": 7,
   "metadata": {
    "ExecuteTime": {
     "end_time": "2017-11-06T17:27:29.460547Z",
     "start_time": "2017-11-06T17:27:29.451228Z"
    }
   },
   "outputs": [],
   "source": [
    "ef_type = pd.Series(ef_type, name='type')"
   ]
  },
  {
   "cell_type": "markdown",
   "metadata": {},
   "source": [
    "### Calculate CO₂ emissions"
   ]
  },
  {
   "cell_type": "code",
   "execution_count": 8,
   "metadata": {
    "ExecuteTime": {
     "end_time": "2017-11-06T17:27:29.483194Z",
     "start_time": "2017-11-06T17:27:29.463567Z"
    },
    "collapsed": true
   },
   "outputs": [],
   "source": [
    "extra_nerc.loc[:, 'total co2 (kg)'] = (extra_nerc\n",
    "                                       .loc[:, 'total fuel (mmbtu)']\n",
    "                                       .multiply(ef_type, 'type'))\n",
    "extra_nerc.loc[:, 'elec co2 (kg)'] = (extra_nerc\n",
    "                                       .loc[:, 'elec fuel (mmbtu)']\n",
    "                                       .multiply(ef_type, 'type'))"
   ]
  },
  {
   "cell_type": "code",
   "execution_count": 9,
   "metadata": {
    "ExecuteTime": {
     "end_time": "2017-11-06T17:27:29.515226Z",
     "start_time": "2017-11-06T17:27:29.486122Z"
    }
   },
   "outputs": [],
   "source": [
    "extra_nerc.sort_index(inplace=True)"
   ]
  },
  {
   "cell_type": "markdown",
   "metadata": {},
   "source": [
    "## Facilities by NERC"
   ]
  },
  {
   "cell_type": "code",
   "execution_count": null,
   "metadata": {
    "ExecuteTime": {
     "end_time": "2017-11-06T17:27:51.521345Z",
     "start_time": "2017-11-06T17:27:51.510547Z"
    },
    "collapsed": true
   },
   "outputs": [],
   "source": [
    "# %aimport Analysis.state2nerc\n",
    "from src.analysis.state2nerc import fraction_state2nerc, add_region"
   ]
  },
  {
   "cell_type": "code",
   "execution_count": null,
   "metadata": {
    "ExecuteTime": {
     "end_time": "2017-11-06T17:27:51.550854Z",
     "start_time": "2017-11-06T17:27:51.526120Z"
    },
    "collapsed": true
   },
   "outputs": [],
   "source": [
    "fuel_cat_folder = join(cwd, '..', 'Data storage', 'Fuel categories')\n",
    "state_cats_path = join(fuel_cat_folder, 'State_facility.json')\n",
    "\n",
    "with open(state_cats_path, 'r') as f:\n",
    "    state_fuel_cat = json.load(f)\n",
    "    \n",
    "custom_cats_path = join(fuel_cat_folder, 'Custom_results.json')\n",
    "with open(custom_cats_path, 'r') as f:\n",
    "    custom_fuel_cat = json.load(f)"
   ]
  },
  {
   "cell_type": "code",
   "execution_count": null,
   "metadata": {
    "ExecuteTime": {
     "end_time": "2017-11-06T17:27:52.031911Z",
     "start_time": "2017-11-06T17:27:51.555342Z"
    },
    "collapsed": true
   },
   "outputs": [],
   "source": [
    "path = join(cwd, '..', 'Data storage', 'Derived data',\n",
    "            'Monthly EPA emissions {}.csv'.format(file_date))\n",
    "epa = pd.read_csv(path)\n",
    "\n",
    "epa.rename(columns={'orispl': 'plant id',\n",
    "                    'co2mass_kg': 'co2_mass (kg)',\n",
    "                    'gload_mwh': 'gload (mw)',\n",
    "                    'heatinput_mmbtu': 'heat_input (mmbtu)'}, inplace=True)"
   ]
  },
  {
   "cell_type": "code",
   "execution_count": 10,
   "metadata": {},
   "outputs": [],
   "source": [
    "location_path = DATA_PATHS['transformed_data'] / 'Facility locations_RF.csv'\n",
    "location_labels = pd.read_csv(location_path)"
   ]
  },
  {
   "cell_type": "code",
   "execution_count": null,
   "metadata": {
    "ExecuteTime": {
     "end_time": "2017-11-06T17:27:52.056983Z",
     "start_time": "2017-11-06T17:27:52.034133Z"
    },
    "collapsed": true
   },
   "outputs": [],
   "source": [
    "path = join(cwd, '..', 'Data storage', 'Facility labels',\n",
    "            'Facility locations_RF.csv')\n",
    "facility_labels = pd.read_csv(path)"
   ]
  },
  {
   "cell_type": "code",
   "execution_count": null,
   "metadata": {
    "ExecuteTime": {
     "end_time": "2017-11-06T17:27:59.157939Z",
     "start_time": "2017-11-06T17:27:52.060055Z"
    },
    "collapsed": true
   },
   "outputs": [],
   "source": [
    "path = join(cwd, '..', 'Data storage', 'Derived data',\n",
    "            'Facility gen fuels and CO2 {}.csv'.format(file_date))\n",
    "eia_fac = pd.read_csv(path)"
   ]
  },
  {
   "cell_type": "code",
   "execution_count": 11,
   "metadata": {},
   "outputs": [],
   "source": [
    "FACILITY_PATH = (\n",
    "    DATA_PATHS['eia_compiled']\n",
    "    / 'facility_gen_fuel_data_{}.parquet'.format(DATA_DATE)\n",
    ")\n",
    "eia_fac = pd.read_parquet(FACILITY_PATH)\n",
    "\n",
    "epa_path = (\n",
    "    DATA_PATHS['epa_emissions']\n",
    "    / 'epa_emissions_{}.parquet'.format(DATA_DATE)\n",
    ")\n",
    "epa = pd.read_parquet(epa_path)"
   ]
  },
  {
   "cell_type": "code",
   "execution_count": 12,
   "metadata": {
    "ExecuteTime": {
     "end_time": "2017-11-06T17:28:07.326534Z",
     "start_time": "2017-11-06T17:27:59.213972Z"
    }
   },
   "outputs": [
    {
     "name": "stdout",
     "output_type": "stream",
     "text": [
      "Renaming columns\n",
      "Grouping facilities\n",
      "Adjusting EPA emissions\n",
      "Caculating CO2\n",
      "Gen/fuels to state categories\n"
     ]
    }
   ],
   "source": [
    "co2, gen_fuels_state = facility_emission_gen(eia_facility=eia_fac, epa=epa,\n",
    "                                              state_fuel_cat=STATE_FACILITY_FUELS,\n",
    "                                              custom_fuel_cat=CUSTOM_FUELS,\n",
    "                                              export_state_cats=True)"
   ]
  },
  {
   "cell_type": "markdown",
   "metadata": {},
   "source": [
    "### Monthly CO₂ emissions"
   ]
  },
  {
   "cell_type": "code",
   "execution_count": 14,
   "metadata": {
    "ExecuteTime": {
     "end_time": "2017-11-06T17:28:07.609118Z",
     "start_time": "2017-11-06T17:28:07.331549Z"
    },
    "collapsed": true
   },
   "outputs": [],
   "source": [
    "co2 = add_facility_location(co2, location_labels,\n",
    "                            labels=['lat', 'lon', 'state', 'nerc', 'year'])"
   ]
  },
  {
   "cell_type": "code",
   "execution_count": 15,
   "metadata": {
    "ExecuteTime": {
     "end_time": "2017-11-06T17:28:07.818065Z",
     "start_time": "2017-11-06T17:28:07.612075Z"
    },
    "collapsed": true
   },
   "outputs": [],
   "source": [
    "co2_nerc = co2.groupby(['year', 'nerc', 'month'])['final co2 (kg)'].sum()"
   ]
  },
  {
   "cell_type": "code",
   "execution_count": 16,
   "metadata": {},
   "outputs": [],
   "source": [
    "# This now includes facility emissions (measured and adjusted) and state-level estimated \n",
    "# emissions from fuel consumption that have been allocated to NERC regions.\n",
    "co2_nerc_total = co2_nerc.add(extra_nerc.groupby(['year', 'nerc', 'month'])['elec co2 (kg)'].sum(), fill_value=0)\n",
    "co2_nerc_total.name = 'final co2 (kg)'"
   ]
  },
  {
   "cell_type": "markdown",
   "metadata": {},
   "source": [
    "### Monthly generation"
   ]
  },
  {
   "cell_type": "code",
   "execution_count": 26,
   "metadata": {
    "ExecuteTime": {
     "end_time": "2017-11-06T17:28:18.796370Z",
     "start_time": "2017-11-06T17:28:17.459668Z"
    }
   },
   "outputs": [],
   "source": [
    "gen_fuels_nerc = add_facility_location(gen_fuels_state,\n",
    "                                       location_labels, labels=['nerc', 'year'])\n",
    "gen_fuels_nerc = (gen_fuels_nerc\n",
    "                  .groupby(['year', 'nerc', 'month', 'type'])\n",
    "                  ['generation (mwh)'].sum())"
   ]
  },
  {
   "cell_type": "markdown",
   "metadata": {},
   "source": [
    "## Combine generation"
   ]
  },
  {
   "cell_type": "code",
   "execution_count": 27,
   "metadata": {
    "ExecuteTime": {
     "end_time": "2017-11-06T17:28:51.837438Z",
     "start_time": "2017-11-06T17:28:51.832133Z"
    },
    "collapsed": true
   },
   "outputs": [],
   "source": [
    "total_gen = gen_fuels_nerc.copy()"
   ]
  },
  {
   "cell_type": "code",
   "execution_count": 28,
   "metadata": {},
   "outputs": [
    {
     "data": {
      "text/plain": [
       "year  nerc  month  type\n",
       "2018  WECC  12     PEL       15799.251\n",
       "                   SUN      642262.000\n",
       "                   WAS      123329.873\n",
       "                   WND     1169305.000\n",
       "                   WWW      156203.172\n",
       "Name: generation (mwh), dtype: float64"
      ]
     },
     "execution_count": 28,
     "metadata": {},
     "output_type": "execute_result"
    }
   ],
   "source": [
    "total_gen.tail()"
   ]
  },
  {
   "cell_type": "code",
   "execution_count": 31,
   "metadata": {},
   "outputs": [
    {
     "data": {
      "text/html": [
       "<div>\n",
       "<style scoped>\n",
       "    .dataframe tbody tr th:only-of-type {\n",
       "        vertical-align: middle;\n",
       "    }\n",
       "\n",
       "    .dataframe tbody tr th {\n",
       "        vertical-align: top;\n",
       "    }\n",
       "\n",
       "    .dataframe thead th {\n",
       "        text-align: right;\n",
       "    }\n",
       "</style>\n",
       "<table border=\"1\" class=\"dataframe\">\n",
       "  <thead>\n",
       "    <tr style=\"text-align: right;\">\n",
       "      <th></th>\n",
       "      <th></th>\n",
       "      <th></th>\n",
       "      <th></th>\n",
       "      <th>generation (mwh)</th>\n",
       "      <th>total fuel (mmbtu)</th>\n",
       "      <th>elec fuel (mmbtu)</th>\n",
       "      <th>total co2 (kg)</th>\n",
       "      <th>elec co2 (kg)</th>\n",
       "    </tr>\n",
       "    <tr>\n",
       "      <th>year</th>\n",
       "      <th>nerc</th>\n",
       "      <th>month</th>\n",
       "      <th>type</th>\n",
       "      <th></th>\n",
       "      <th></th>\n",
       "      <th></th>\n",
       "      <th></th>\n",
       "      <th></th>\n",
       "    </tr>\n",
       "  </thead>\n",
       "  <tbody>\n",
       "    <tr>\n",
       "      <th rowspan=\"5\" valign=\"top\">2018</th>\n",
       "      <th rowspan=\"5\" valign=\"top\">ASCC</th>\n",
       "      <th rowspan=\"4\" valign=\"top\">1</th>\n",
       "      <th>COW</th>\n",
       "      <td>35156.169</td>\n",
       "      <td>876859.0</td>\n",
       "      <td>306116.0</td>\n",
       "      <td>8.352082e+07</td>\n",
       "      <td>2.915755e+07</td>\n",
       "    </tr>\n",
       "    <tr>\n",
       "      <th>NG</th>\n",
       "      <td>265348.871</td>\n",
       "      <td>2631767.0</td>\n",
       "      <td>2631758.0</td>\n",
       "      <td>1.396679e+08</td>\n",
       "      <td>1.396674e+08</td>\n",
       "    </tr>\n",
       "    <tr>\n",
       "      <th>PEL</th>\n",
       "      <td>36141.871</td>\n",
       "      <td>354537.0</td>\n",
       "      <td>333281.0</td>\n",
       "      <td>2.693595e+07</td>\n",
       "      <td>2.532102e+07</td>\n",
       "    </tr>\n",
       "    <tr>\n",
       "      <th>WAS</th>\n",
       "      <td>140.649</td>\n",
       "      <td>-38796.0</td>\n",
       "      <td>-38796.0</td>\n",
       "      <td>NaN</td>\n",
       "      <td>NaN</td>\n",
       "    </tr>\n",
       "    <tr>\n",
       "      <th>2</th>\n",
       "      <th>COW</th>\n",
       "      <td>27788.456</td>\n",
       "      <td>774869.0</td>\n",
       "      <td>246976.0</td>\n",
       "      <td>7.380627e+07</td>\n",
       "      <td>2.352446e+07</td>\n",
       "    </tr>\n",
       "  </tbody>\n",
       "</table>\n",
       "</div>"
      ],
      "text/plain": [
       "                      generation (mwh)  total fuel (mmbtu)  elec fuel (mmbtu)  \\\n",
       "year nerc month type                                                            \n",
       "2018 ASCC 1     COW          35156.169            876859.0           306116.0   \n",
       "                NG          265348.871           2631767.0          2631758.0   \n",
       "                PEL          36141.871            354537.0           333281.0   \n",
       "                WAS            140.649            -38796.0           -38796.0   \n",
       "          2     COW          27788.456            774869.0           246976.0   \n",
       "\n",
       "                      total co2 (kg)  elec co2 (kg)  \n",
       "year nerc month type                                 \n",
       "2018 ASCC 1     COW     8.352082e+07   2.915755e+07  \n",
       "                NG      1.396679e+08   1.396674e+08  \n",
       "                PEL     2.693595e+07   2.532102e+07  \n",
       "                WAS              NaN            NaN  \n",
       "          2     COW     7.380627e+07   2.352446e+07  "
      ]
     },
     "execution_count": 31,
     "metadata": {},
     "output_type": "execute_result"
    }
   ],
   "source": [
    "extra_nerc.head()"
   ]
  },
  {
   "cell_type": "code",
   "execution_count": 30,
   "metadata": {
    "ExecuteTime": {
     "end_time": "2017-11-06T17:28:52.069486Z",
     "start_time": "2017-11-06T17:28:51.840287Z"
    },
    "collapsed": true
   },
   "outputs": [],
   "source": [
    "total_gen.loc[idx[FINAL_DATA_YEAR:, :, :, :]] = (total_gen.loc[FINAL_DATA_YEAR:] \n",
    "                                     .add(extra_nerc.loc[:, 'generation (mwh)']\n",
    "                                          , fill_value=0))\n",
    "total_gen = total_gen.reset_index()\n",
    "add_datetime(total_gen)"
   ]
  },
  {
   "cell_type": "code",
   "execution_count": null,
   "metadata": {
    "ExecuteTime": {
     "end_time": "2017-11-06T17:28:52.069486Z",
     "start_time": "2017-11-06T17:28:51.840287Z"
    },
    "collapsed": true
   },
   "outputs": [],
   "source": [
    "total_gen.loc[idx[2017:, :, :, :]] = (total_gen.loc[2017:] \n",
    "                                     .add(extra_nerc.loc[:, 'generation (mwh)']\n",
    "                                          , fill_value=0))\n",
    "total_gen = total_gen.reset_index()\n",
    "add_datetime(total_gen)"
   ]
  },
  {
   "cell_type": "code",
   "execution_count": 32,
   "metadata": {
    "ExecuteTime": {
     "end_time": "2017-11-06T17:28:52.204252Z",
     "start_time": "2017-11-06T17:28:52.102359Z"
    },
    "collapsed": true
   },
   "outputs": [],
   "source": [
    "final = group_fuel_cats(total_gen,\n",
    "                        CUSTOM_FUELS, 'type',\n",
    "                        'fuel category', extra_group_cols=['nerc', 'datetime'])\n",
    "final.set_index(['nerc', 'fuel category', 'datetime'], inplace=True)"
   ]
  },
  {
   "cell_type": "code",
   "execution_count": 33,
   "metadata": {
    "ExecuteTime": {
     "end_time": "2017-11-06T17:28:52.300816Z",
     "start_time": "2017-11-06T17:28:52.280851Z"
    }
   },
   "outputs": [],
   "source": [
    "total = final.groupby(['nerc', 'datetime']).sum()"
   ]
  },
  {
   "cell_type": "code",
   "execution_count": null,
   "metadata": {
    "ExecuteTime": {
     "end_time": "2017-11-06T17:28:52.307679Z",
     "start_time": "2017-11-06T17:28:52.303033Z"
    },
    "collapsed": true
   },
   "outputs": [],
   "source": [
    "nercs = total.index.get_level_values('nerc').unique()"
   ]
  },
  {
   "cell_type": "markdown",
   "metadata": {},
   "source": [
    "### Percent generation by fuel\n",
    "    "
   ]
  },
  {
   "cell_type": "code",
   "execution_count": 34,
   "metadata": {
    "ExecuteTime": {
     "end_time": "2017-11-06T17:28:52.406279Z",
     "start_time": "2017-11-06T17:28:52.310398Z"
    }
   },
   "outputs": [],
   "source": [
    "df_list = []\n",
    "for nerc in NERCS:\n",
    "    percent_gen = final.loc[nerc].divide(total.loc[nerc], level='datetime')\n",
    "    percent_gen['nerc'] = nerc\n",
    "    percent_gen.set_index('nerc', append=True, inplace=True)\n",
    "    df_list.append(percent_gen)\n",
    "    \n",
    "percent_gen = pd.concat(df_list)\n",
    "percent_gen.drop(['year', 'month'], axis=1, inplace=True)\n",
    "percent_gen.columns = ['% generation']"
   ]
  },
  {
   "cell_type": "code",
   "execution_count": null,
   "metadata": {
    "ExecuteTime": {
     "end_time": "2017-11-06T17:28:52.580429Z",
     "start_time": "2017-11-06T17:28:52.516168Z"
    },
    "collapsed": true
   },
   "outputs": [],
   "source": [
    "path = join(cwd, '..', 'Data storage', 'Final NERC data',\n",
    "            'NERC percent gen {}.csv'.format(file_date))\n",
    "percent_gen.to_csv(path)"
   ]
  },
  {
   "cell_type": "code",
   "execution_count": 35,
   "metadata": {
    "ExecuteTime": {
     "end_time": "2017-11-06T17:29:00.802358Z",
     "start_time": "2017-11-06T17:29:00.752682Z"
    },
    "collapsed": true
   },
   "outputs": [],
   "source": [
    "total_monthly_gen = final.groupby(['fuel category', 'year', 'nerc', 'month']).sum()\n",
    "total_monthly_gen.sort_index(inplace=True)"
   ]
  },
  {
   "cell_type": "code",
   "execution_count": 42,
   "metadata": {},
   "outputs": [
    {
     "data": {
      "text/html": [
       "<div>\n",
       "<style scoped>\n",
       "    .dataframe tbody tr th:only-of-type {\n",
       "        vertical-align: middle;\n",
       "    }\n",
       "\n",
       "    .dataframe tbody tr th {\n",
       "        vertical-align: top;\n",
       "    }\n",
       "\n",
       "    .dataframe thead th {\n",
       "        text-align: right;\n",
       "    }\n",
       "</style>\n",
       "<table border=\"1\" class=\"dataframe\">\n",
       "  <thead>\n",
       "    <tr style=\"text-align: right;\">\n",
       "      <th></th>\n",
       "      <th></th>\n",
       "      <th></th>\n",
       "      <th>generation (mwh)</th>\n",
       "    </tr>\n",
       "    <tr>\n",
       "      <th>year</th>\n",
       "      <th>nerc</th>\n",
       "      <th>month</th>\n",
       "      <th></th>\n",
       "    </tr>\n",
       "  </thead>\n",
       "  <tbody>\n",
       "    <tr>\n",
       "      <th>2003</th>\n",
       "      <th>HICC</th>\n",
       "      <th>3</th>\n",
       "      <td>8.924938e+05</td>\n",
       "    </tr>\n",
       "    <tr>\n",
       "      <th>2015</th>\n",
       "      <th>SPP</th>\n",
       "      <th>6</th>\n",
       "      <td>2.115690e+07</td>\n",
       "    </tr>\n",
       "    <tr>\n",
       "      <th>2018</th>\n",
       "      <th>SERC</th>\n",
       "      <th>6</th>\n",
       "      <td>1.022821e+08</td>\n",
       "    </tr>\n",
       "    <tr>\n",
       "      <th>2009</th>\n",
       "      <th>WECC</th>\n",
       "      <th>4</th>\n",
       "      <td>5.487179e+07</td>\n",
       "    </tr>\n",
       "    <tr>\n",
       "      <th>2015</th>\n",
       "      <th>NPCC</th>\n",
       "      <th>10</th>\n",
       "      <td>1.934880e+07</td>\n",
       "    </tr>\n",
       "  </tbody>\n",
       "</table>\n",
       "</div>"
      ],
      "text/plain": [
       "                 generation (mwh)\n",
       "year nerc month                  \n",
       "2003 HICC 3          8.924938e+05\n",
       "2015 SPP  6          2.115690e+07\n",
       "2018 SERC 6          1.022821e+08\n",
       "2009 WECC 4          5.487179e+07\n",
       "2015 NPCC 10         1.934880e+07"
      ]
     },
     "execution_count": 42,
     "metadata": {},
     "output_type": "execute_result"
    }
   ],
   "source": [
    "total_monthly_gen.sample(5)"
   ]
  },
  {
   "cell_type": "code",
   "execution_count": 36,
   "metadata": {
    "ExecuteTime": {
     "end_time": "2017-11-06T17:30:33.838463Z",
     "start_time": "2017-11-06T17:30:33.685143Z"
    },
    "collapsed": true
   },
   "outputs": [],
   "source": [
    "# path = join(cwd, '..', 'Data storage', 'Final NERC data',\n",
    "#             'NERC generation {}.csv'.format(file_date))\n",
    "\n",
    "path = DATA_PATHS['results'] / f'NERC generation {DATA_DATE}.csv'\n",
    "total_monthly_gen.to_csv(path)"
   ]
  },
  {
   "cell_type": "markdown",
   "metadata": {},
   "source": [
    "## CO₂ emissions intensity by NERC region"
   ]
  },
  {
   "cell_type": "code",
   "execution_count": 37,
   "metadata": {
    "ExecuteTime": {
     "end_time": "2017-11-06T17:30:48.134154Z",
     "start_time": "2017-11-06T17:30:48.124056Z"
    },
    "collapsed": true
   },
   "outputs": [],
   "source": [
    "total_monthly_gen = total_monthly_gen.groupby(['year', 'nerc', 'month']).sum()"
   ]
  },
  {
   "cell_type": "code",
   "execution_count": 38,
   "metadata": {
    "ExecuteTime": {
     "end_time": "2017-11-06T17:30:48.173027Z",
     "start_time": "2017-11-06T17:30:48.137030Z"
    },
    "collapsed": true
   },
   "outputs": [],
   "source": [
    "nerc_index = pd.concat([co2_nerc.sort_index(), total_monthly_gen.sort_index()], axis=1)\n",
    "nerc_index['index'] = nerc_index['final co2 (kg)'] / nerc_index['generation (mwh)']\n",
    "nerc_index = nerc_index.reset_index()\n",
    "add_datetime(nerc_index)"
   ]
  },
  {
   "cell_type": "code",
   "execution_count": 39,
   "metadata": {
    "ExecuteTime": {
     "end_time": "2017-11-06T17:30:48.173027Z",
     "start_time": "2017-11-06T17:30:48.137030Z"
    },
    "collapsed": true
   },
   "outputs": [],
   "source": [
    "nerc_index = pd.concat([co2_nerc_total.sort_index(), total_monthly_gen.sort_index()], axis=1)\n",
    "nerc_index['index'] = nerc_index['final co2 (kg)'] / nerc_index['generation (mwh)']\n",
    "nerc_index = nerc_index.reset_index()\n",
    "add_datetime(nerc_index)"
   ]
  },
  {
   "cell_type": "markdown",
   "metadata": {},
   "source": [
    "### Write data to file"
   ]
  },
  {
   "cell_type": "code",
   "execution_count": 43,
   "metadata": {
    "ExecuteTime": {
     "end_time": "2017-11-06T17:30:53.479109Z",
     "start_time": "2017-11-06T17:30:53.439239Z"
    },
    "collapsed": true
   },
   "outputs": [],
   "source": [
    "# path = join(cwd, '..', 'Data storage', 'Final NERC data',\n",
    "#             '_NERC gen emissions and index {}.csv'.format(file_date))\n",
    "\n",
    "path = (\n",
    "    DATA_PATHS['results']\n",
    "    / f'NERC gen emissions and index {DATA_DATE}.csv'\n",
    ")\n",
    "nerc_index.to_csv(path, index=False)"
   ]
  },
  {
   "cell_type": "code",
   "execution_count": null,
   "metadata": {},
   "outputs": [],
   "source": []
  }
 ],
 "metadata": {
  "kernelspec": {
   "display_name": "psci",
   "language": "python",
   "name": "psci"
  },
  "language_info": {
   "codemirror_mode": {
    "name": "ipython",
    "version": 3
   },
   "file_extension": ".py",
   "mimetype": "text/x-python",
   "name": "python",
   "nbconvert_exporter": "python",
   "pygments_lexer": "ipython3",
   "version": "3.6.8"
  },
  "varInspector": {
   "cols": {
    "lenName": 16,
    "lenType": 16,
    "lenVar": 40
   },
   "kernels_config": {
    "python": {
     "delete_cmd_postfix": "",
     "delete_cmd_prefix": "del ",
     "library": "var_list.py",
     "varRefreshCmd": "print(var_dic_list())"
    },
    "r": {
     "delete_cmd_postfix": ") ",
     "delete_cmd_prefix": "rm(",
     "library": "var_list.r",
     "varRefreshCmd": "cat(var_dic_list()) "
    }
   },
   "types_to_exclude": [
    "module",
    "function",
    "builtin_function_or_method",
    "instance",
    "_Feature"
   ],
   "window_display": false
  }
 },
 "nbformat": 4,
 "nbformat_minor": 2
}
