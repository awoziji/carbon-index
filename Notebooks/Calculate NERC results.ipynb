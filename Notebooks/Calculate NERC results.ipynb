{
 "cells": [
  {
   "cell_type": "code",
   "execution_count": 26,
   "metadata": {
    "ExecuteTime": {
     "end_time": "2017-10-12T20:28:35.214655Z",
     "start_time": "2017-10-12T20:28:35.201676Z"
    },
    "collapsed": true
   },
   "outputs": [],
   "source": [
    "%matplotlib inline\n",
    "import matplotlib.pyplot as plt\n",
    "import seaborn as sns\n",
    "import pandas as pd\n",
    "import numpy as np\n",
    "import os\n",
    "from os.path import join\n",
    "import sys\n",
    "import json\n",
    "import geopandas as gpd\n",
    "idx = pd.IndexSlice"
   ]
  },
  {
   "cell_type": "code",
   "execution_count": 2,
   "metadata": {
    "ExecuteTime": {
     "end_time": "2017-10-12T20:26:57.784378Z",
     "start_time": "2017-10-12T20:26:57.735166Z"
    },
    "collapsed": true
   },
   "outputs": [],
   "source": [
    "# Load the \"autoreload\" extension\n",
    "%load_ext autoreload\n",
    "\n",
    "# always reload modules marked with \"%aimport\"\n",
    "%autoreload 1"
   ]
  },
  {
   "cell_type": "code",
   "execution_count": 3,
   "metadata": {
    "ExecuteTime": {
     "end_time": "2017-10-12T20:26:57.802074Z",
     "start_time": "2017-10-12T20:26:57.795554Z"
    },
    "collapsed": true
   },
   "outputs": [],
   "source": [
    "# add the 'src' directory as one where we can import modules\n",
    "src_dir = join(os.getcwd(), os.pardir, 'src')\n",
    "sys.path.append(src_dir)"
   ]
  },
  {
   "cell_type": "code",
   "execution_count": 4,
   "metadata": {
    "ExecuteTime": {
     "end_time": "2017-10-12T20:26:57.829658Z",
     "start_time": "2017-10-12T20:26:57.812359Z"
    },
    "collapsed": true
   },
   "outputs": [],
   "source": [
    "%aimport Data.make_data\n",
    "from Data.make_data import states_in_nerc\n",
    "%aimport Analysis.index\n",
    "from Analysis.index import facility_emission_gen, group_facility_data\n",
    "%aimport Analysis.index\n",
    "from Analysis.index import facility_co2, adjust_epa_emissions, group_fuel_cats\n",
    "from Analysis.index import reduce_emission_factors, add_datetime\n",
    "%aimport util.utils\n",
    "from util.utils import rename_cols, add_facility_location"
   ]
  },
  {
   "cell_type": "markdown",
   "metadata": {},
   "source": [
    "## Extra NERC emissions and generation"
   ]
  },
  {
   "cell_type": "markdown",
   "metadata": {},
   "source": [
    "### Load extra NERC generation and fuel consumption"
   ]
  },
  {
   "cell_type": "code",
   "execution_count": 5,
   "metadata": {
    "ExecuteTime": {
     "end_time": "2017-10-12T20:27:00.615724Z",
     "start_time": "2017-10-12T20:27:00.603514Z"
    },
    "collapsed": true
   },
   "outputs": [],
   "source": [
    "cwd = os.getcwd()\n",
    "path = join(cwd, '..', 'Data storage', 'NERC extra gen fuels_rev.csv')\n",
    "extra_nerc = pd.read_csv(path, index_col=[0, 1, 2, 3])"
   ]
  },
  {
   "cell_type": "code",
   "execution_count": 6,
   "metadata": {
    "ExecuteTime": {
     "end_time": "2017-10-12T20:27:01.098820Z",
     "start_time": "2017-10-12T20:27:01.079868Z"
    }
   },
   "outputs": [
    {
     "data": {
      "text/html": [
       "<div>\n",
       "<style>\n",
       "    .dataframe thead tr:only-child th {\n",
       "        text-align: right;\n",
       "    }\n",
       "\n",
       "    .dataframe thead th {\n",
       "        text-align: left;\n",
       "    }\n",
       "\n",
       "    .dataframe tbody tr th {\n",
       "        vertical-align: top;\n",
       "    }\n",
       "</style>\n",
       "<table border=\"1\" class=\"dataframe\">\n",
       "  <thead>\n",
       "    <tr style=\"text-align: right;\">\n",
       "      <th></th>\n",
       "      <th></th>\n",
       "      <th></th>\n",
       "      <th></th>\n",
       "      <th>generation (mwh)</th>\n",
       "      <th>total fuel (mmbtu)</th>\n",
       "      <th>elec fuel (mmbtu)</th>\n",
       "    </tr>\n",
       "    <tr>\n",
       "      <th>year</th>\n",
       "      <th>nerc</th>\n",
       "      <th>month</th>\n",
       "      <th>type</th>\n",
       "      <th></th>\n",
       "      <th></th>\n",
       "      <th></th>\n",
       "    </tr>\n",
       "  </thead>\n",
       "  <tbody>\n",
       "    <tr>\n",
       "      <th rowspan=\"5\" valign=\"top\">2016</th>\n",
       "      <th rowspan=\"5\" valign=\"top\">-</th>\n",
       "      <th rowspan=\"5\" valign=\"top\">1</th>\n",
       "      <th>COW</th>\n",
       "      <td>44246.086330</td>\n",
       "      <td>1.251727e+06</td>\n",
       "      <td>301734.691114</td>\n",
       "    </tr>\n",
       "    <tr>\n",
       "      <th>HYC</th>\n",
       "      <td>40886.353698</td>\n",
       "      <td>NaN</td>\n",
       "      <td>NaN</td>\n",
       "    </tr>\n",
       "    <tr>\n",
       "      <th>NG</th>\n",
       "      <td>16667.567025</td>\n",
       "      <td>3.841908e+05</td>\n",
       "      <td>171271.038569</td>\n",
       "    </tr>\n",
       "    <tr>\n",
       "      <th>PEL</th>\n",
       "      <td>97.422087</td>\n",
       "      <td>1.129043e+03</td>\n",
       "      <td>1128.361346</td>\n",
       "    </tr>\n",
       "    <tr>\n",
       "      <th>WND</th>\n",
       "      <td>1361.688387</td>\n",
       "      <td>NaN</td>\n",
       "      <td>NaN</td>\n",
       "    </tr>\n",
       "  </tbody>\n",
       "</table>\n",
       "</div>"
      ],
      "text/plain": [
       "                      generation (mwh)  total fuel (mmbtu)  elec fuel (mmbtu)\n",
       "year nerc month type                                                         \n",
       "2016 -    1     COW       44246.086330        1.251727e+06      301734.691114\n",
       "                HYC       40886.353698                 NaN                NaN\n",
       "                NG        16667.567025        3.841908e+05      171271.038569\n",
       "                PEL          97.422087        1.129043e+03        1128.361346\n",
       "                WND        1361.688387                 NaN                NaN"
      ]
     },
     "execution_count": 6,
     "metadata": {},
     "output_type": "execute_result"
    }
   ],
   "source": [
    "extra_nerc.head()"
   ]
  },
  {
   "cell_type": "markdown",
   "metadata": {},
   "source": [
    "### Load emission factors"
   ]
  },
  {
   "cell_type": "code",
   "execution_count": 7,
   "metadata": {
    "ExecuteTime": {
     "end_time": "2017-10-12T20:27:03.160175Z",
     "start_time": "2017-10-12T20:27:03.152369Z"
    },
    "collapsed": true
   },
   "outputs": [],
   "source": [
    "path = join(cwd, '..', 'Data storage', 'Final emission factors.csv')\n",
    "ef = pd.read_csv(path, index_col=0)"
   ]
  },
  {
   "cell_type": "code",
   "execution_count": 8,
   "metadata": {
    "ExecuteTime": {
     "end_time": "2017-10-12T20:27:05.611590Z",
     "start_time": "2017-10-12T20:27:05.598783Z"
    }
   },
   "outputs": [
    {
     "data": {
      "text/html": [
       "<div>\n",
       "<style>\n",
       "    .dataframe thead tr:only-child th {\n",
       "        text-align: right;\n",
       "    }\n",
       "\n",
       "    .dataframe thead th {\n",
       "        text-align: left;\n",
       "    }\n",
       "\n",
       "    .dataframe tbody tr th {\n",
       "        vertical-align: top;\n",
       "    }\n",
       "</style>\n",
       "<table border=\"1\" class=\"dataframe\">\n",
       "  <thead>\n",
       "    <tr style=\"text-align: right;\">\n",
       "      <th></th>\n",
       "      <th>Fuel</th>\n",
       "      <th>Fossil Factor</th>\n",
       "      <th>Notes</th>\n",
       "      <th>Link</th>\n",
       "      <th>Total Factor</th>\n",
       "    </tr>\n",
       "    <tr>\n",
       "      <th>EIA Fuel Code</th>\n",
       "      <th></th>\n",
       "      <th></th>\n",
       "      <th></th>\n",
       "      <th></th>\n",
       "      <th></th>\n",
       "    </tr>\n",
       "  </thead>\n",
       "  <tbody>\n",
       "    <tr>\n",
       "      <th>BIT</th>\n",
       "      <td>Bituminous Coal</td>\n",
       "      <td>93.30</td>\n",
       "      <td>NaN</td>\n",
       "      <td>https://www.eia.gov/electricity/annual/html/ep...</td>\n",
       "      <td>93.30</td>\n",
       "    </tr>\n",
       "    <tr>\n",
       "      <th>DFO</th>\n",
       "      <td>Distillate Fuel Oil</td>\n",
       "      <td>73.16</td>\n",
       "      <td>NaN</td>\n",
       "      <td>https://www.eia.gov/electricity/annual/html/ep...</td>\n",
       "      <td>73.16</td>\n",
       "    </tr>\n",
       "    <tr>\n",
       "      <th>GEO</th>\n",
       "      <td>Geothermal</td>\n",
       "      <td>7.71</td>\n",
       "      <td>NaN</td>\n",
       "      <td>https://www.eia.gov/electricity/annual/html/ep...</td>\n",
       "      <td>7.71</td>\n",
       "    </tr>\n",
       "    <tr>\n",
       "      <th>JF</th>\n",
       "      <td>Jet Fuel</td>\n",
       "      <td>70.90</td>\n",
       "      <td>NaN</td>\n",
       "      <td>https://www.eia.gov/electricity/annual/html/ep...</td>\n",
       "      <td>70.90</td>\n",
       "    </tr>\n",
       "    <tr>\n",
       "      <th>KER</th>\n",
       "      <td>Kerosene</td>\n",
       "      <td>72.30</td>\n",
       "      <td>NaN</td>\n",
       "      <td>https://www.eia.gov/electricity/annual/html/ep...</td>\n",
       "      <td>72.30</td>\n",
       "    </tr>\n",
       "  </tbody>\n",
       "</table>\n",
       "</div>"
      ],
      "text/plain": [
       "                              Fuel  Fossil Factor Notes  \\\n",
       "EIA Fuel Code                                             \n",
       "BIT                Bituminous Coal          93.30   NaN   \n",
       "DFO            Distillate Fuel Oil          73.16   NaN   \n",
       "GEO                     Geothermal           7.71   NaN   \n",
       "JF                        Jet Fuel          70.90   NaN   \n",
       "KER                       Kerosene          72.30   NaN   \n",
       "\n",
       "                                                            Link  Total Factor  \n",
       "EIA Fuel Code                                                                   \n",
       "BIT            https://www.eia.gov/electricity/annual/html/ep...         93.30  \n",
       "DFO            https://www.eia.gov/electricity/annual/html/ep...         73.16  \n",
       "GEO            https://www.eia.gov/electricity/annual/html/ep...          7.71  \n",
       "JF             https://www.eia.gov/electricity/annual/html/ep...         70.90  \n",
       "KER            https://www.eia.gov/electricity/annual/html/ep...         72.30  "
      ]
     },
     "execution_count": 8,
     "metadata": {},
     "output_type": "execute_result"
    }
   ],
   "source": [
    "ef.head()"
   ]
  },
  {
   "cell_type": "code",
   "execution_count": 9,
   "metadata": {
    "ExecuteTime": {
     "end_time": "2017-10-12T20:27:06.466179Z",
     "start_time": "2017-10-12T20:27:06.457769Z"
    },
    "collapsed": true
   },
   "outputs": [],
   "source": [
    "ef_type = reduce_emission_factors(ef)"
   ]
  },
  {
   "cell_type": "code",
   "execution_count": 10,
   "metadata": {
    "ExecuteTime": {
     "end_time": "2017-10-12T20:27:07.927259Z",
     "start_time": "2017-10-12T20:27:07.919059Z"
    }
   },
   "outputs": [
    {
     "data": {
      "text/plain": [
       "COW     95.250\n",
       "NG      53.070\n",
       "OOG     59.000\n",
       "PC     102.100\n",
       "PEL     75.975\n",
       "Name: type, dtype: float64"
      ]
     },
     "execution_count": 10,
     "metadata": {},
     "output_type": "execute_result"
    }
   ],
   "source": [
    "ef_type = pd.Series(ef_type, name='type')\n",
    "ef_type"
   ]
  },
  {
   "cell_type": "markdown",
   "metadata": {},
   "source": [
    "### Calculate CO₂ emissions"
   ]
  },
  {
   "cell_type": "code",
   "execution_count": 11,
   "metadata": {
    "ExecuteTime": {
     "end_time": "2017-10-12T20:27:09.926906Z",
     "start_time": "2017-10-12T20:27:09.908706Z"
    },
    "collapsed": true
   },
   "outputs": [],
   "source": [
    "extra_nerc.loc[:, 'total co2 (kg)'] = (extra_nerc\n",
    "                                       .loc[:, 'total fuel (mmbtu)']\n",
    "                                       .multiply(ef_type, 'type'))\n",
    "extra_nerc.loc[:, 'elec co2 (kg)'] = (extra_nerc\n",
    "                                       .loc[:, 'elec fuel (mmbtu)']\n",
    "                                       .multiply(ef_type, 'type'))"
   ]
  },
  {
   "cell_type": "code",
   "execution_count": 12,
   "metadata": {
    "ExecuteTime": {
     "end_time": "2017-10-12T20:27:11.437516Z",
     "start_time": "2017-10-12T20:27:11.409783Z"
    }
   },
   "outputs": [
    {
     "data": {
      "text/html": [
       "<div>\n",
       "<style>\n",
       "    .dataframe thead tr:only-child th {\n",
       "        text-align: right;\n",
       "    }\n",
       "\n",
       "    .dataframe thead th {\n",
       "        text-align: left;\n",
       "    }\n",
       "\n",
       "    .dataframe tbody tr th {\n",
       "        vertical-align: top;\n",
       "    }\n",
       "</style>\n",
       "<table border=\"1\" class=\"dataframe\">\n",
       "  <thead>\n",
       "    <tr style=\"text-align: right;\">\n",
       "      <th></th>\n",
       "      <th></th>\n",
       "      <th></th>\n",
       "      <th></th>\n",
       "      <th>generation (mwh)</th>\n",
       "      <th>total fuel (mmbtu)</th>\n",
       "      <th>elec fuel (mmbtu)</th>\n",
       "      <th>total co2 (kg)</th>\n",
       "      <th>elec co2 (kg)</th>\n",
       "    </tr>\n",
       "    <tr>\n",
       "      <th>year</th>\n",
       "      <th>nerc</th>\n",
       "      <th>month</th>\n",
       "      <th>type</th>\n",
       "      <th></th>\n",
       "      <th></th>\n",
       "      <th></th>\n",
       "      <th></th>\n",
       "      <th></th>\n",
       "    </tr>\n",
       "  </thead>\n",
       "  <tbody>\n",
       "    <tr>\n",
       "      <th rowspan=\"5\" valign=\"top\">2016</th>\n",
       "      <th rowspan=\"5\" valign=\"top\">-</th>\n",
       "      <th rowspan=\"5\" valign=\"top\">1</th>\n",
       "      <th>COW</th>\n",
       "      <td>44246.086330</td>\n",
       "      <td>1.251727e+06</td>\n",
       "      <td>301734.691114</td>\n",
       "      <td>1.192270e+08</td>\n",
       "      <td>2.874023e+07</td>\n",
       "    </tr>\n",
       "    <tr>\n",
       "      <th>HYC</th>\n",
       "      <td>40886.353698</td>\n",
       "      <td>NaN</td>\n",
       "      <td>NaN</td>\n",
       "      <td>NaN</td>\n",
       "      <td>NaN</td>\n",
       "    </tr>\n",
       "    <tr>\n",
       "      <th>NG</th>\n",
       "      <td>16667.567025</td>\n",
       "      <td>3.841908e+05</td>\n",
       "      <td>171271.038569</td>\n",
       "      <td>2.038901e+07</td>\n",
       "      <td>9.089354e+06</td>\n",
       "    </tr>\n",
       "    <tr>\n",
       "      <th>PEL</th>\n",
       "      <td>97.422087</td>\n",
       "      <td>1.129043e+03</td>\n",
       "      <td>1128.361346</td>\n",
       "      <td>8.577902e+04</td>\n",
       "      <td>8.572725e+04</td>\n",
       "    </tr>\n",
       "    <tr>\n",
       "      <th>WND</th>\n",
       "      <td>1361.688387</td>\n",
       "      <td>NaN</td>\n",
       "      <td>NaN</td>\n",
       "      <td>NaN</td>\n",
       "      <td>NaN</td>\n",
       "    </tr>\n",
       "  </tbody>\n",
       "</table>\n",
       "</div>"
      ],
      "text/plain": [
       "                      generation (mwh)  total fuel (mmbtu)  elec fuel (mmbtu)  \\\n",
       "year nerc month type                                                            \n",
       "2016 -    1     COW       44246.086330        1.251727e+06      301734.691114   \n",
       "                HYC       40886.353698                 NaN                NaN   \n",
       "                NG        16667.567025        3.841908e+05      171271.038569   \n",
       "                PEL          97.422087        1.129043e+03        1128.361346   \n",
       "                WND        1361.688387                 NaN                NaN   \n",
       "\n",
       "                      total co2 (kg)  elec co2 (kg)  \n",
       "year nerc month type                                 \n",
       "2016 -    1     COW     1.192270e+08   2.874023e+07  \n",
       "                HYC              NaN            NaN  \n",
       "                NG      2.038901e+07   9.089354e+06  \n",
       "                PEL     8.577902e+04   8.572725e+04  \n",
       "                WND              NaN            NaN  "
      ]
     },
     "execution_count": 12,
     "metadata": {},
     "output_type": "execute_result"
    }
   ],
   "source": [
    "extra_nerc.sort_index(inplace=True)\n",
    "extra_nerc.head()"
   ]
  },
  {
   "cell_type": "markdown",
   "metadata": {},
   "source": [
    "## Facilities by NERC"
   ]
  },
  {
   "cell_type": "code",
   "execution_count": 13,
   "metadata": {
    "ExecuteTime": {
     "end_time": "2017-10-12T20:27:20.020017Z",
     "start_time": "2017-10-12T20:27:20.013444Z"
    },
    "collapsed": true
   },
   "outputs": [],
   "source": [
    "%aimport Analysis.state2nerc\n",
    "from Analysis.state2nerc import fraction_state2nerc, add_region"
   ]
  },
  {
   "cell_type": "code",
   "execution_count": 14,
   "metadata": {
    "ExecuteTime": {
     "end_time": "2017-10-12T20:27:20.031916Z",
     "start_time": "2017-10-12T20:27:20.022237Z"
    },
    "collapsed": true
   },
   "outputs": [],
   "source": [
    "fuel_cat_folder = join(cwd, '..', 'Data storage', 'Fuel categories')\n",
    "state_cats_path = join(fuel_cat_folder, 'State_facility.json')\n",
    "\n",
    "with open(state_cats_path, 'r') as f:\n",
    "    state_fuel_cat = json.load(f)\n",
    "    \n",
    "custom_cats_path = join(fuel_cat_folder, 'Custom_results.json')\n",
    "with open(custom_cats_path, 'r') as f:\n",
    "    custom_fuel_cat = json.load(f)"
   ]
  },
  {
   "cell_type": "code",
   "execution_count": 15,
   "metadata": {
    "ExecuteTime": {
     "end_time": "2017-10-12T20:27:20.386220Z",
     "start_time": "2017-10-12T20:27:20.034431Z"
    },
    "collapsed": true
   },
   "outputs": [],
   "source": [
    "path = join(cwd, '..', 'Data storage', 'Derived data',\n",
    "            'Monthly EPA emissions 2017-08-31.csv')\n",
    "epa = pd.read_csv(path)"
   ]
  },
  {
   "cell_type": "code",
   "execution_count": 16,
   "metadata": {
    "ExecuteTime": {
     "end_time": "2017-10-12T20:27:20.411201Z",
     "start_time": "2017-10-12T20:27:20.388404Z"
    },
    "collapsed": true
   },
   "outputs": [],
   "source": [
    "path = join(cwd, '..', 'Data storage', 'Facility labels',\n",
    "            'Facility locations.csv')\n",
    "facility_labels = pd.read_csv(path)"
   ]
  },
  {
   "cell_type": "code",
   "execution_count": 17,
   "metadata": {
    "ExecuteTime": {
     "end_time": "2017-10-12T20:27:29.037231Z",
     "start_time": "2017-10-12T20:27:20.414172Z"
    },
    "collapsed": true
   },
   "outputs": [],
   "source": [
    "path = join(cwd, '..', 'Data storage',\n",
    "            'Facility gen fuels and CO2 2017-08-31.zip')\n",
    "eia_fac = pd.read_csv(path)"
   ]
  },
  {
   "cell_type": "code",
   "execution_count": 18,
   "metadata": {
    "ExecuteTime": {
     "end_time": "2017-10-12T20:27:29.089611Z",
     "start_time": "2017-10-12T20:27:29.039613Z"
    }
   },
   "outputs": [
    {
     "data": {
      "text/html": [
       "<div>\n",
       "<style>\n",
       "    .dataframe thead tr:only-child th {\n",
       "        text-align: right;\n",
       "    }\n",
       "\n",
       "    .dataframe thead th {\n",
       "        text-align: left;\n",
       "    }\n",
       "\n",
       "    .dataframe tbody tr th {\n",
       "        vertical-align: top;\n",
       "    }\n",
       "</style>\n",
       "<table border=\"1\" class=\"dataframe\">\n",
       "  <thead>\n",
       "    <tr style=\"text-align: right;\">\n",
       "      <th></th>\n",
       "      <th>f</th>\n",
       "      <th>fuel</th>\n",
       "      <th>month</th>\n",
       "      <th>plant id</th>\n",
       "      <th>total fuel (mmbtu)</th>\n",
       "      <th>year</th>\n",
       "      <th>generation (MWh)</th>\n",
       "      <th>elec fuel (mmbtu)</th>\n",
       "      <th>geography</th>\n",
       "      <th>last_updated</th>\n",
       "      <th>lat</th>\n",
       "      <th>lon</th>\n",
       "      <th>prime mover</th>\n",
       "      <th>datetime</th>\n",
       "      <th>quarter</th>\n",
       "      <th>all fuel fossil CO2 (kg)</th>\n",
       "      <th>elec fuel fossil CO2 (kg)</th>\n",
       "      <th>all fuel total CO2 (kg)</th>\n",
       "      <th>elec fuel total CO2 (kg)</th>\n",
       "    </tr>\n",
       "  </thead>\n",
       "  <tbody>\n",
       "    <tr>\n",
       "      <th>0</th>\n",
       "      <td>M</td>\n",
       "      <td>SUB</td>\n",
       "      <td>6</td>\n",
       "      <td>10360</td>\n",
       "      <td>0.0</td>\n",
       "      <td>2017</td>\n",
       "      <td>0.0</td>\n",
       "      <td>0.0</td>\n",
       "      <td>USA-WI</td>\n",
       "      <td>2017-08-24T11:46:12-04:00</td>\n",
       "      <td>44.4936</td>\n",
       "      <td>-88.0303</td>\n",
       "      <td>ALL</td>\n",
       "      <td>2017-06-01</td>\n",
       "      <td>2</td>\n",
       "      <td>0.0</td>\n",
       "      <td>0.0</td>\n",
       "      <td>0.0</td>\n",
       "      <td>0.0</td>\n",
       "    </tr>\n",
       "    <tr>\n",
       "      <th>1</th>\n",
       "      <td>M</td>\n",
       "      <td>SUB</td>\n",
       "      <td>5</td>\n",
       "      <td>10360</td>\n",
       "      <td>0.0</td>\n",
       "      <td>2017</td>\n",
       "      <td>0.0</td>\n",
       "      <td>0.0</td>\n",
       "      <td>USA-WI</td>\n",
       "      <td>2017-08-24T11:46:12-04:00</td>\n",
       "      <td>44.4936</td>\n",
       "      <td>-88.0303</td>\n",
       "      <td>ALL</td>\n",
       "      <td>2017-05-01</td>\n",
       "      <td>2</td>\n",
       "      <td>0.0</td>\n",
       "      <td>0.0</td>\n",
       "      <td>0.0</td>\n",
       "      <td>0.0</td>\n",
       "    </tr>\n",
       "    <tr>\n",
       "      <th>2</th>\n",
       "      <td>M</td>\n",
       "      <td>SUB</td>\n",
       "      <td>4</td>\n",
       "      <td>10360</td>\n",
       "      <td>0.0</td>\n",
       "      <td>2017</td>\n",
       "      <td>0.0</td>\n",
       "      <td>0.0</td>\n",
       "      <td>USA-WI</td>\n",
       "      <td>2017-08-24T11:46:12-04:00</td>\n",
       "      <td>44.4936</td>\n",
       "      <td>-88.0303</td>\n",
       "      <td>ALL</td>\n",
       "      <td>2017-04-01</td>\n",
       "      <td>2</td>\n",
       "      <td>0.0</td>\n",
       "      <td>0.0</td>\n",
       "      <td>0.0</td>\n",
       "      <td>0.0</td>\n",
       "    </tr>\n",
       "    <tr>\n",
       "      <th>3</th>\n",
       "      <td>M</td>\n",
       "      <td>SUB</td>\n",
       "      <td>3</td>\n",
       "      <td>10360</td>\n",
       "      <td>0.0</td>\n",
       "      <td>2017</td>\n",
       "      <td>0.0</td>\n",
       "      <td>0.0</td>\n",
       "      <td>USA-WI</td>\n",
       "      <td>2017-08-24T11:46:12-04:00</td>\n",
       "      <td>44.4936</td>\n",
       "      <td>-88.0303</td>\n",
       "      <td>ALL</td>\n",
       "      <td>2017-03-01</td>\n",
       "      <td>1</td>\n",
       "      <td>0.0</td>\n",
       "      <td>0.0</td>\n",
       "      <td>0.0</td>\n",
       "      <td>0.0</td>\n",
       "    </tr>\n",
       "    <tr>\n",
       "      <th>4</th>\n",
       "      <td>M</td>\n",
       "      <td>SUB</td>\n",
       "      <td>2</td>\n",
       "      <td>10360</td>\n",
       "      <td>0.0</td>\n",
       "      <td>2017</td>\n",
       "      <td>0.0</td>\n",
       "      <td>0.0</td>\n",
       "      <td>USA-WI</td>\n",
       "      <td>2017-08-24T11:46:12-04:00</td>\n",
       "      <td>44.4936</td>\n",
       "      <td>-88.0303</td>\n",
       "      <td>ALL</td>\n",
       "      <td>2017-02-01</td>\n",
       "      <td>1</td>\n",
       "      <td>0.0</td>\n",
       "      <td>0.0</td>\n",
       "      <td>0.0</td>\n",
       "      <td>0.0</td>\n",
       "    </tr>\n",
       "  </tbody>\n",
       "</table>\n",
       "</div>"
      ],
      "text/plain": [
       "   f fuel  month  plant id  total fuel (mmbtu)  year  generation (MWh)  \\\n",
       "0  M  SUB      6     10360                 0.0  2017               0.0   \n",
       "1  M  SUB      5     10360                 0.0  2017               0.0   \n",
       "2  M  SUB      4     10360                 0.0  2017               0.0   \n",
       "3  M  SUB      3     10360                 0.0  2017               0.0   \n",
       "4  M  SUB      2     10360                 0.0  2017               0.0   \n",
       "\n",
       "   elec fuel (mmbtu) geography               last_updated      lat      lon  \\\n",
       "0                0.0    USA-WI  2017-08-24T11:46:12-04:00  44.4936 -88.0303   \n",
       "1                0.0    USA-WI  2017-08-24T11:46:12-04:00  44.4936 -88.0303   \n",
       "2                0.0    USA-WI  2017-08-24T11:46:12-04:00  44.4936 -88.0303   \n",
       "3                0.0    USA-WI  2017-08-24T11:46:12-04:00  44.4936 -88.0303   \n",
       "4                0.0    USA-WI  2017-08-24T11:46:12-04:00  44.4936 -88.0303   \n",
       "\n",
       "  prime mover    datetime  quarter  all fuel fossil CO2 (kg)  \\\n",
       "0         ALL  2017-06-01        2                       0.0   \n",
       "1         ALL  2017-05-01        2                       0.0   \n",
       "2         ALL  2017-04-01        2                       0.0   \n",
       "3         ALL  2017-03-01        1                       0.0   \n",
       "4         ALL  2017-02-01        1                       0.0   \n",
       "\n",
       "   elec fuel fossil CO2 (kg)  all fuel total CO2 (kg)  \\\n",
       "0                        0.0                      0.0   \n",
       "1                        0.0                      0.0   \n",
       "2                        0.0                      0.0   \n",
       "3                        0.0                      0.0   \n",
       "4                        0.0                      0.0   \n",
       "\n",
       "   elec fuel total CO2 (kg)  \n",
       "0                       0.0  \n",
       "1                       0.0  \n",
       "2                       0.0  \n",
       "3                       0.0  \n",
       "4                       0.0  "
      ]
     },
     "execution_count": 18,
     "metadata": {},
     "output_type": "execute_result"
    }
   ],
   "source": [
    "eia_fac.head()"
   ]
  },
  {
   "cell_type": "code",
   "execution_count": 19,
   "metadata": {
    "ExecuteTime": {
     "end_time": "2017-10-12T20:27:38.685002Z",
     "start_time": "2017-10-12T20:27:29.093279Z"
    }
   },
   "outputs": [
    {
     "name": "stdout",
     "output_type": "stream",
     "text": [
      "Renaming columns\n",
      "Grouping facilities\n",
      "Adjusting EPA emissions\n",
      "Caculating CO2\n",
      "Gen/fuels to state categories\n"
     ]
    }
   ],
   "source": [
    "co2, gen_fuels_state = facility_emission_gen(eia_facility=eia_fac, epa=epa,\n",
    "                                              state_fuel_cat=state_fuel_cat,\n",
    "                                              custom_fuel_cat=custom_fuel_cat,\n",
    "                                              export_state_cats=True)"
   ]
  },
  {
   "cell_type": "markdown",
   "metadata": {},
   "source": [
    "### Monthly CO₂ emissions"
   ]
  },
  {
   "cell_type": "code",
   "execution_count": 20,
   "metadata": {
    "ExecuteTime": {
     "end_time": "2017-10-12T20:28:14.017763Z",
     "start_time": "2017-10-12T20:28:13.712660Z"
    },
    "collapsed": true
   },
   "outputs": [],
   "source": [
    "co2 = add_facility_location(co2, facility_labels, labels=['lat', 'lon', 'state', 'nerc'])"
   ]
  },
  {
   "cell_type": "code",
   "execution_count": 21,
   "metadata": {
    "ExecuteTime": {
     "end_time": "2017-10-12T20:28:14.222737Z",
     "start_time": "2017-10-12T20:28:14.019957Z"
    },
    "collapsed": true
   },
   "outputs": [],
   "source": [
    "co2_nerc = co2.groupby(['year', 'nerc', 'month'])['final co2 (kg)'].sum()"
   ]
  },
  {
   "cell_type": "code",
   "execution_count": 22,
   "metadata": {
    "ExecuteTime": {
     "end_time": "2017-10-12T20:28:14.240357Z",
     "start_time": "2017-10-12T20:28:14.224758Z"
    }
   },
   "outputs": [
    {
     "data": {
      "text/plain": [
       "year  nerc  month\n",
       "2017  WECC  2        1.797939e+10\n",
       "            3        1.622878e+10\n",
       "            4        1.410046e+10\n",
       "            5        1.635295e+10\n",
       "            6        1.998163e+10\n",
       "Name: final co2 (kg), dtype: float64"
      ]
     },
     "execution_count": 22,
     "metadata": {},
     "output_type": "execute_result"
    }
   ],
   "source": [
    "co2_nerc.tail()"
   ]
  },
  {
   "cell_type": "markdown",
   "metadata": {},
   "source": [
    "### Monthly generation"
   ]
  },
  {
   "cell_type": "code",
   "execution_count": 23,
   "metadata": {
    "ExecuteTime": {
     "end_time": "2017-10-12T20:28:15.753478Z",
     "start_time": "2017-10-12T20:28:14.243494Z"
    }
   },
   "outputs": [
    {
     "data": {
      "text/plain": [
       "year  nerc  month  type\n",
       "2001  -     1      COW     4984145.332\n",
       "                   HYC      278484.523\n",
       "                   NG       245740.990\n",
       "                   NUC     1599398.000\n",
       "                   PEL       77892.543\n",
       "Name: generation (mwh), dtype: float64"
      ]
     },
     "execution_count": 23,
     "metadata": {},
     "output_type": "execute_result"
    }
   ],
   "source": [
    "gen_fuels_nerc = add_facility_location(gen_fuels_state, facility_labels, labels=['nerc'])\n",
    "gen_fuels_nerc = (gen_fuels_nerc\n",
    "                  .groupby(['year', 'nerc', 'month', 'type'])\n",
    "                  ['generation (mwh)'].sum())\n",
    "gen_fuels_nerc.head()"
   ]
  },
  {
   "cell_type": "code",
   "execution_count": 24,
   "metadata": {
    "ExecuteTime": {
     "end_time": "2017-10-12T20:28:15.767246Z",
     "start_time": "2017-10-12T20:28:15.755837Z"
    }
   },
   "outputs": [
    {
     "data": {
      "text/plain": [
       "year  nerc  month  type\n",
       "2017  WECC  6      PEL       19776.466\n",
       "                   SUN     1502622.000\n",
       "                   WAS       42851.264\n",
       "                   WND     1048324.000\n",
       "                   WWW      163238.315\n",
       "Name: generation (mwh), dtype: float64"
      ]
     },
     "execution_count": 24,
     "metadata": {},
     "output_type": "execute_result"
    }
   ],
   "source": [
    "gen_fuels_nerc.tail()"
   ]
  },
  {
   "cell_type": "code",
   "execution_count": 27,
   "metadata": {
    "ExecuteTime": {
     "end_time": "2017-10-12T20:28:42.628494Z",
     "start_time": "2017-10-12T20:28:42.610269Z"
    }
   },
   "outputs": [
    {
     "data": {
      "text/plain": [
       "year  nerc  month\n",
       "2015  NPCC  1        2.018215e+07\n",
       "            2        1.908706e+07\n",
       "            3        1.912367e+07\n",
       "            4        1.730879e+07\n",
       "            5        1.920187e+07\n",
       "            6        1.981127e+07\n",
       "            7        2.319538e+07\n",
       "            8        2.314866e+07\n",
       "            9        1.990933e+07\n",
       "            10       1.815993e+07\n",
       "            11       1.776335e+07\n",
       "            12       1.891339e+07\n",
       "Name: generation (mwh), dtype: float64"
      ]
     },
     "execution_count": 27,
     "metadata": {},
     "output_type": "execute_result"
    }
   ],
   "source": [
    "gen_fuels_nerc.loc[idx[2015, 'NPCC', :, :]].groupby(['year', 'nerc', 'month']).sum()"
   ]
  },
  {
   "cell_type": "markdown",
   "metadata": {},
   "source": [
    "## Combine generation"
   ]
  },
  {
   "cell_type": "code",
   "execution_count": 28,
   "metadata": {
    "ExecuteTime": {
     "end_time": "2017-10-12T20:28:54.324100Z",
     "start_time": "2017-10-12T20:28:54.303288Z"
    }
   },
   "outputs": [
    {
     "data": {
      "text/html": [
       "<div>\n",
       "<style>\n",
       "    .dataframe thead tr:only-child th {\n",
       "        text-align: right;\n",
       "    }\n",
       "\n",
       "    .dataframe thead th {\n",
       "        text-align: left;\n",
       "    }\n",
       "\n",
       "    .dataframe tbody tr th {\n",
       "        vertical-align: top;\n",
       "    }\n",
       "</style>\n",
       "<table border=\"1\" class=\"dataframe\">\n",
       "  <thead>\n",
       "    <tr style=\"text-align: right;\">\n",
       "      <th></th>\n",
       "      <th></th>\n",
       "      <th></th>\n",
       "      <th></th>\n",
       "      <th>generation (mwh)</th>\n",
       "      <th>total fuel (mmbtu)</th>\n",
       "      <th>elec fuel (mmbtu)</th>\n",
       "      <th>total co2 (kg)</th>\n",
       "      <th>elec co2 (kg)</th>\n",
       "    </tr>\n",
       "    <tr>\n",
       "      <th>year</th>\n",
       "      <th>nerc</th>\n",
       "      <th>month</th>\n",
       "      <th>type</th>\n",
       "      <th></th>\n",
       "      <th></th>\n",
       "      <th></th>\n",
       "      <th></th>\n",
       "      <th></th>\n",
       "    </tr>\n",
       "  </thead>\n",
       "  <tbody>\n",
       "    <tr>\n",
       "      <th rowspan=\"5\" valign=\"top\">2016</th>\n",
       "      <th rowspan=\"5\" valign=\"top\">-</th>\n",
       "      <th rowspan=\"5\" valign=\"top\">1</th>\n",
       "      <th>COW</th>\n",
       "      <td>44246.086330</td>\n",
       "      <td>1.251727e+06</td>\n",
       "      <td>301734.691114</td>\n",
       "      <td>1.192270e+08</td>\n",
       "      <td>2.874023e+07</td>\n",
       "    </tr>\n",
       "    <tr>\n",
       "      <th>HYC</th>\n",
       "      <td>40886.353698</td>\n",
       "      <td>NaN</td>\n",
       "      <td>NaN</td>\n",
       "      <td>NaN</td>\n",
       "      <td>NaN</td>\n",
       "    </tr>\n",
       "    <tr>\n",
       "      <th>NG</th>\n",
       "      <td>16667.567025</td>\n",
       "      <td>3.841908e+05</td>\n",
       "      <td>171271.038569</td>\n",
       "      <td>2.038901e+07</td>\n",
       "      <td>9.089354e+06</td>\n",
       "    </tr>\n",
       "    <tr>\n",
       "      <th>PEL</th>\n",
       "      <td>97.422087</td>\n",
       "      <td>1.129043e+03</td>\n",
       "      <td>1128.361346</td>\n",
       "      <td>8.577902e+04</td>\n",
       "      <td>8.572725e+04</td>\n",
       "    </tr>\n",
       "    <tr>\n",
       "      <th>WND</th>\n",
       "      <td>1361.688387</td>\n",
       "      <td>NaN</td>\n",
       "      <td>NaN</td>\n",
       "      <td>NaN</td>\n",
       "      <td>NaN</td>\n",
       "    </tr>\n",
       "  </tbody>\n",
       "</table>\n",
       "</div>"
      ],
      "text/plain": [
       "                      generation (mwh)  total fuel (mmbtu)  elec fuel (mmbtu)  \\\n",
       "year nerc month type                                                            \n",
       "2016 -    1     COW       44246.086330        1.251727e+06      301734.691114   \n",
       "                HYC       40886.353698                 NaN                NaN   \n",
       "                NG        16667.567025        3.841908e+05      171271.038569   \n",
       "                PEL          97.422087        1.129043e+03        1128.361346   \n",
       "                WND        1361.688387                 NaN                NaN   \n",
       "\n",
       "                      total co2 (kg)  elec co2 (kg)  \n",
       "year nerc month type                                 \n",
       "2016 -    1     COW     1.192270e+08   2.874023e+07  \n",
       "                HYC              NaN            NaN  \n",
       "                NG      2.038901e+07   9.089354e+06  \n",
       "                PEL     8.577902e+04   8.572725e+04  \n",
       "                WND              NaN            NaN  "
      ]
     },
     "execution_count": 28,
     "metadata": {},
     "output_type": "execute_result"
    }
   ],
   "source": [
    "extra_nerc.head()"
   ]
  },
  {
   "cell_type": "code",
   "execution_count": 29,
   "metadata": {
    "ExecuteTime": {
     "end_time": "2017-10-12T20:28:54.355307Z",
     "start_time": "2017-10-12T20:28:54.326647Z"
    }
   },
   "outputs": [
    {
     "data": {
      "text/html": [
       "<div>\n",
       "<style>\n",
       "    .dataframe thead tr:only-child th {\n",
       "        text-align: right;\n",
       "    }\n",
       "\n",
       "    .dataframe thead th {\n",
       "        text-align: left;\n",
       "    }\n",
       "\n",
       "    .dataframe tbody tr th {\n",
       "        vertical-align: top;\n",
       "    }\n",
       "</style>\n",
       "<table border=\"1\" class=\"dataframe\">\n",
       "  <thead>\n",
       "    <tr style=\"text-align: right;\">\n",
       "      <th></th>\n",
       "      <th></th>\n",
       "      <th></th>\n",
       "      <th>generation (mwh)</th>\n",
       "      <th>total fuel (mmbtu)</th>\n",
       "      <th>elec fuel (mmbtu)</th>\n",
       "      <th>total co2 (kg)</th>\n",
       "      <th>elec co2 (kg)</th>\n",
       "    </tr>\n",
       "    <tr>\n",
       "      <th>year</th>\n",
       "      <th>nerc</th>\n",
       "      <th>month</th>\n",
       "      <th></th>\n",
       "      <th></th>\n",
       "      <th></th>\n",
       "      <th></th>\n",
       "      <th></th>\n",
       "    </tr>\n",
       "  </thead>\n",
       "  <tbody>\n",
       "    <tr>\n",
       "      <th rowspan=\"12\" valign=\"top\">2016</th>\n",
       "      <th rowspan=\"12\" valign=\"top\">NPCC</th>\n",
       "      <th>1</th>\n",
       "      <td>1781.561</td>\n",
       "      <td>88947.0</td>\n",
       "      <td>7737.0</td>\n",
       "      <td>8472201.75</td>\n",
       "      <td>736949.25</td>\n",
       "    </tr>\n",
       "    <tr>\n",
       "      <th>2</th>\n",
       "      <td>1680.031</td>\n",
       "      <td>85481.0</td>\n",
       "      <td>7301.0</td>\n",
       "      <td>8142065.25</td>\n",
       "      <td>695420.25</td>\n",
       "    </tr>\n",
       "    <tr>\n",
       "      <th>3</th>\n",
       "      <td>1610.375</td>\n",
       "      <td>85363.0</td>\n",
       "      <td>6993.0</td>\n",
       "      <td>8130825.75</td>\n",
       "      <td>666083.25</td>\n",
       "    </tr>\n",
       "    <tr>\n",
       "      <th>4</th>\n",
       "      <td>1260.518</td>\n",
       "      <td>32027.0</td>\n",
       "      <td>5477.0</td>\n",
       "      <td>3050571.75</td>\n",
       "      <td>521684.25</td>\n",
       "    </tr>\n",
       "    <tr>\n",
       "      <th>5</th>\n",
       "      <td>1385.231</td>\n",
       "      <td>64247.0</td>\n",
       "      <td>6017.0</td>\n",
       "      <td>6119526.75</td>\n",
       "      <td>573119.25</td>\n",
       "    </tr>\n",
       "    <tr>\n",
       "      <th>6</th>\n",
       "      <td>1387.291</td>\n",
       "      <td>67951.0</td>\n",
       "      <td>6021.0</td>\n",
       "      <td>6472332.75</td>\n",
       "      <td>573500.25</td>\n",
       "    </tr>\n",
       "    <tr>\n",
       "      <th>7</th>\n",
       "      <td>1550.541</td>\n",
       "      <td>68297.0</td>\n",
       "      <td>6737.0</td>\n",
       "      <td>6505289.25</td>\n",
       "      <td>641699.25</td>\n",
       "    </tr>\n",
       "    <tr>\n",
       "      <th>8</th>\n",
       "      <td>1613.613</td>\n",
       "      <td>71508.0</td>\n",
       "      <td>7008.0</td>\n",
       "      <td>6811137.00</td>\n",
       "      <td>667512.00</td>\n",
       "    </tr>\n",
       "    <tr>\n",
       "      <th>9</th>\n",
       "      <td>1269.468</td>\n",
       "      <td>56081.0</td>\n",
       "      <td>5511.0</td>\n",
       "      <td>5341715.25</td>\n",
       "      <td>524922.75</td>\n",
       "    </tr>\n",
       "    <tr>\n",
       "      <th>10</th>\n",
       "      <td>1217.758</td>\n",
       "      <td>41953.0</td>\n",
       "      <td>5293.0</td>\n",
       "      <td>3996023.25</td>\n",
       "      <td>504158.25</td>\n",
       "    </tr>\n",
       "    <tr>\n",
       "      <th>11</th>\n",
       "      <td>1244.601</td>\n",
       "      <td>56774.0</td>\n",
       "      <td>5404.0</td>\n",
       "      <td>5407723.50</td>\n",
       "      <td>514731.00</td>\n",
       "    </tr>\n",
       "    <tr>\n",
       "      <th>12</th>\n",
       "      <td>1547.188</td>\n",
       "      <td>62441.0</td>\n",
       "      <td>6721.0</td>\n",
       "      <td>5947505.25</td>\n",
       "      <td>640175.25</td>\n",
       "    </tr>\n",
       "  </tbody>\n",
       "</table>\n",
       "</div>"
      ],
      "text/plain": [
       "                 generation (mwh)  total fuel (mmbtu)  elec fuel (mmbtu)  \\\n",
       "year nerc month                                                            \n",
       "2016 NPCC 1              1781.561             88947.0             7737.0   \n",
       "          2              1680.031             85481.0             7301.0   \n",
       "          3              1610.375             85363.0             6993.0   \n",
       "          4              1260.518             32027.0             5477.0   \n",
       "          5              1385.231             64247.0             6017.0   \n",
       "          6              1387.291             67951.0             6021.0   \n",
       "          7              1550.541             68297.0             6737.0   \n",
       "          8              1613.613             71508.0             7008.0   \n",
       "          9              1269.468             56081.0             5511.0   \n",
       "          10             1217.758             41953.0             5293.0   \n",
       "          11             1244.601             56774.0             5404.0   \n",
       "          12             1547.188             62441.0             6721.0   \n",
       "\n",
       "                 total co2 (kg)  elec co2 (kg)  \n",
       "year nerc month                                 \n",
       "2016 NPCC 1          8472201.75      736949.25  \n",
       "          2          8142065.25      695420.25  \n",
       "          3          8130825.75      666083.25  \n",
       "          4          3050571.75      521684.25  \n",
       "          5          6119526.75      573119.25  \n",
       "          6          6472332.75      573500.25  \n",
       "          7          6505289.25      641699.25  \n",
       "          8          6811137.00      667512.00  \n",
       "          9          5341715.25      524922.75  \n",
       "          10         3996023.25      504158.25  \n",
       "          11         5407723.50      514731.00  \n",
       "          12         5947505.25      640175.25  "
      ]
     },
     "execution_count": 29,
     "metadata": {},
     "output_type": "execute_result"
    }
   ],
   "source": [
    "extra_nerc.loc[idx[2016, 'NPCC', :, 'COW']].groupby(['year', 'nerc', 'month']).sum()"
   ]
  },
  {
   "cell_type": "code",
   "execution_count": 30,
   "metadata": {
    "ExecuteTime": {
     "end_time": "2017-10-12T20:28:54.363688Z",
     "start_time": "2017-10-12T20:28:54.357877Z"
    },
    "collapsed": true
   },
   "outputs": [],
   "source": [
    "total_gen = gen_fuels_nerc.copy()\n",
    "# total_gen.loc[idx[2015:, 'RFC', :, :]]"
   ]
  },
  {
   "cell_type": "code",
   "execution_count": 31,
   "metadata": {
    "ExecuteTime": {
     "end_time": "2017-10-12T20:28:54.599947Z",
     "start_time": "2017-10-12T20:28:54.366376Z"
    },
    "collapsed": true
   },
   "outputs": [],
   "source": [
    "total_gen.loc[idx[2016:, :, :, :]] = (total_gen.loc[2016:] \n",
    "                                     .add(extra_nerc.loc[:, 'generation (mwh)']\n",
    "                                          , fill_value=0))\n",
    "total_gen = total_gen.reset_index()\n",
    "add_datetime(total_gen)\n",
    "# total_gen.set_index(['year', 'nerc', ''])"
   ]
  },
  {
   "cell_type": "code",
   "execution_count": 32,
   "metadata": {
    "ExecuteTime": {
     "end_time": "2017-10-12T20:28:54.621955Z",
     "start_time": "2017-10-12T20:28:54.601659Z"
    }
   },
   "outputs": [
    {
     "data": {
      "text/html": [
       "<div>\n",
       "<style>\n",
       "    .dataframe thead tr:only-child th {\n",
       "        text-align: right;\n",
       "    }\n",
       "\n",
       "    .dataframe thead th {\n",
       "        text-align: left;\n",
       "    }\n",
       "\n",
       "    .dataframe tbody tr th {\n",
       "        vertical-align: top;\n",
       "    }\n",
       "</style>\n",
       "<table border=\"1\" class=\"dataframe\">\n",
       "  <thead>\n",
       "    <tr style=\"text-align: right;\">\n",
       "      <th></th>\n",
       "      <th>year</th>\n",
       "      <th>nerc</th>\n",
       "      <th>month</th>\n",
       "      <th>type</th>\n",
       "      <th>generation (mwh)</th>\n",
       "      <th>datetime</th>\n",
       "    </tr>\n",
       "  </thead>\n",
       "  <tbody>\n",
       "    <tr>\n",
       "      <th>0</th>\n",
       "      <td>2001</td>\n",
       "      <td>-</td>\n",
       "      <td>1</td>\n",
       "      <td>COW</td>\n",
       "      <td>4984145.332</td>\n",
       "      <td>2001-01-01</td>\n",
       "    </tr>\n",
       "    <tr>\n",
       "      <th>1</th>\n",
       "      <td>2001</td>\n",
       "      <td>-</td>\n",
       "      <td>1</td>\n",
       "      <td>HYC</td>\n",
       "      <td>278484.523</td>\n",
       "      <td>2001-01-01</td>\n",
       "    </tr>\n",
       "    <tr>\n",
       "      <th>2</th>\n",
       "      <td>2001</td>\n",
       "      <td>-</td>\n",
       "      <td>1</td>\n",
       "      <td>NG</td>\n",
       "      <td>245740.990</td>\n",
       "      <td>2001-01-01</td>\n",
       "    </tr>\n",
       "    <tr>\n",
       "      <th>3</th>\n",
       "      <td>2001</td>\n",
       "      <td>-</td>\n",
       "      <td>1</td>\n",
       "      <td>NUC</td>\n",
       "      <td>1599398.000</td>\n",
       "      <td>2001-01-01</td>\n",
       "    </tr>\n",
       "    <tr>\n",
       "      <th>4</th>\n",
       "      <td>2001</td>\n",
       "      <td>-</td>\n",
       "      <td>1</td>\n",
       "      <td>PEL</td>\n",
       "      <td>77892.543</td>\n",
       "      <td>2001-01-01</td>\n",
       "    </tr>\n",
       "  </tbody>\n",
       "</table>\n",
       "</div>"
      ],
      "text/plain": [
       "   year nerc  month type  generation (mwh)   datetime\n",
       "0  2001    -      1  COW       4984145.332 2001-01-01\n",
       "1  2001    -      1  HYC        278484.523 2001-01-01\n",
       "2  2001    -      1   NG        245740.990 2001-01-01\n",
       "3  2001    -      1  NUC       1599398.000 2001-01-01\n",
       "4  2001    -      1  PEL         77892.543 2001-01-01"
      ]
     },
     "execution_count": 32,
     "metadata": {},
     "output_type": "execute_result"
    }
   ],
   "source": [
    "total_gen.head()"
   ]
  },
  {
   "cell_type": "code",
   "execution_count": 33,
   "metadata": {
    "ExecuteTime": {
     "end_time": "2017-10-12T20:28:54.869476Z",
     "start_time": "2017-10-12T20:28:54.624417Z"
    },
    "collapsed": true
   },
   "outputs": [],
   "source": [
    "final = group_fuel_cats(total_gen,\n",
    "                        custom_fuel_cat, 'type',\n",
    "                        'fuel category', extra_group_cols=['nerc', 'datetime'])\n",
    "final.set_index(['nerc', 'fuel category', 'datetime'], inplace=True)"
   ]
  },
  {
   "cell_type": "code",
   "execution_count": 34,
   "metadata": {
    "ExecuteTime": {
     "end_time": "2017-10-12T20:28:54.895096Z",
     "start_time": "2017-10-12T20:28:54.871890Z"
    }
   },
   "outputs": [
    {
     "data": {
      "text/html": [
       "<div>\n",
       "<style>\n",
       "    .dataframe thead tr:only-child th {\n",
       "        text-align: right;\n",
       "    }\n",
       "\n",
       "    .dataframe thead th {\n",
       "        text-align: left;\n",
       "    }\n",
       "\n",
       "    .dataframe tbody tr th {\n",
       "        vertical-align: top;\n",
       "    }\n",
       "</style>\n",
       "<table border=\"1\" class=\"dataframe\">\n",
       "  <thead>\n",
       "    <tr style=\"text-align: right;\">\n",
       "      <th></th>\n",
       "      <th></th>\n",
       "      <th></th>\n",
       "      <th>year</th>\n",
       "      <th>month</th>\n",
       "      <th>generation (mwh)</th>\n",
       "    </tr>\n",
       "    <tr>\n",
       "      <th>nerc</th>\n",
       "      <th>fuel category</th>\n",
       "      <th>datetime</th>\n",
       "      <th></th>\n",
       "      <th></th>\n",
       "      <th></th>\n",
       "    </tr>\n",
       "  </thead>\n",
       "  <tbody>\n",
       "    <tr>\n",
       "      <th>-</th>\n",
       "      <th>Coal</th>\n",
       "      <th>2001-01-01</th>\n",
       "      <td>2001</td>\n",
       "      <td>1</td>\n",
       "      <td>4.984145e+06</td>\n",
       "    </tr>\n",
       "    <tr>\n",
       "      <th>FRCC</th>\n",
       "      <th>Coal</th>\n",
       "      <th>2001-01-01</th>\n",
       "      <td>2001</td>\n",
       "      <td>1</td>\n",
       "      <td>5.667654e+06</td>\n",
       "    </tr>\n",
       "    <tr>\n",
       "      <th>MRO</th>\n",
       "      <th>Coal</th>\n",
       "      <th>2001-01-01</th>\n",
       "      <td>2001</td>\n",
       "      <td>1</td>\n",
       "      <td>1.135828e+07</td>\n",
       "    </tr>\n",
       "    <tr>\n",
       "      <th>NPCC</th>\n",
       "      <th>Coal</th>\n",
       "      <th>2001-01-01</th>\n",
       "      <td>2001</td>\n",
       "      <td>1</td>\n",
       "      <td>4.033044e+06</td>\n",
       "    </tr>\n",
       "    <tr>\n",
       "      <th>RFC</th>\n",
       "      <th>Coal</th>\n",
       "      <th>2001-01-01</th>\n",
       "      <td>2001</td>\n",
       "      <td>1</td>\n",
       "      <td>5.187368e+07</td>\n",
       "    </tr>\n",
       "  </tbody>\n",
       "</table>\n",
       "</div>"
      ],
      "text/plain": [
       "                               year  month  generation (mwh)\n",
       "nerc fuel category datetime                                 \n",
       "-    Coal          2001-01-01  2001      1      4.984145e+06\n",
       "FRCC Coal          2001-01-01  2001      1      5.667654e+06\n",
       "MRO  Coal          2001-01-01  2001      1      1.135828e+07\n",
       "NPCC Coal          2001-01-01  2001      1      4.033044e+06\n",
       "RFC  Coal          2001-01-01  2001      1      5.187368e+07"
      ]
     },
     "execution_count": 34,
     "metadata": {},
     "output_type": "execute_result"
    }
   ],
   "source": [
    "final.head()"
   ]
  },
  {
   "cell_type": "code",
   "execution_count": 35,
   "metadata": {
    "ExecuteTime": {
     "end_time": "2017-10-12T20:28:54.919137Z",
     "start_time": "2017-10-12T20:28:54.897121Z"
    }
   },
   "outputs": [
    {
     "data": {
      "text/html": [
       "<div>\n",
       "<style>\n",
       "    .dataframe thead tr:only-child th {\n",
       "        text-align: right;\n",
       "    }\n",
       "\n",
       "    .dataframe thead th {\n",
       "        text-align: left;\n",
       "    }\n",
       "\n",
       "    .dataframe tbody tr th {\n",
       "        vertical-align: top;\n",
       "    }\n",
       "</style>\n",
       "<table border=\"1\" class=\"dataframe\">\n",
       "  <thead>\n",
       "    <tr style=\"text-align: right;\">\n",
       "      <th></th>\n",
       "      <th></th>\n",
       "      <th></th>\n",
       "      <th>year</th>\n",
       "      <th>month</th>\n",
       "      <th>generation (mwh)</th>\n",
       "    </tr>\n",
       "    <tr>\n",
       "      <th>nerc</th>\n",
       "      <th>fuel category</th>\n",
       "      <th>datetime</th>\n",
       "      <th></th>\n",
       "      <th></th>\n",
       "      <th></th>\n",
       "    </tr>\n",
       "  </thead>\n",
       "  <tbody>\n",
       "    <tr>\n",
       "      <th>RFC</th>\n",
       "      <th>Wind</th>\n",
       "      <th>2017-06-01</th>\n",
       "      <td>2017</td>\n",
       "      <td>6</td>\n",
       "      <td>1.576365e+06</td>\n",
       "    </tr>\n",
       "    <tr>\n",
       "      <th>SERC</th>\n",
       "      <th>Wind</th>\n",
       "      <th>2017-06-01</th>\n",
       "      <td>2017</td>\n",
       "      <td>6</td>\n",
       "      <td>6.123520e+05</td>\n",
       "    </tr>\n",
       "    <tr>\n",
       "      <th>SPP</th>\n",
       "      <th>Wind</th>\n",
       "      <th>2017-06-01</th>\n",
       "      <td>2017</td>\n",
       "      <td>6</td>\n",
       "      <td>5.488991e+06</td>\n",
       "    </tr>\n",
       "    <tr>\n",
       "      <th>TRE</th>\n",
       "      <th>Wind</th>\n",
       "      <th>2017-06-01</th>\n",
       "      <td>2017</td>\n",
       "      <td>6</td>\n",
       "      <td>2.946654e+06</td>\n",
       "    </tr>\n",
       "    <tr>\n",
       "      <th>WECC</th>\n",
       "      <th>Wind</th>\n",
       "      <th>2017-06-01</th>\n",
       "      <td>2017</td>\n",
       "      <td>6</td>\n",
       "      <td>3.231000e+06</td>\n",
       "    </tr>\n",
       "  </tbody>\n",
       "</table>\n",
       "</div>"
      ],
      "text/plain": [
       "                               year  month  generation (mwh)\n",
       "nerc fuel category datetime                                 \n",
       "RFC  Wind          2017-06-01  2017      6      1.576365e+06\n",
       "SERC Wind          2017-06-01  2017      6      6.123520e+05\n",
       "SPP  Wind          2017-06-01  2017      6      5.488991e+06\n",
       "TRE  Wind          2017-06-01  2017      6      2.946654e+06\n",
       "WECC Wind          2017-06-01  2017      6      3.231000e+06"
      ]
     },
     "execution_count": 35,
     "metadata": {},
     "output_type": "execute_result"
    }
   ],
   "source": [
    "final.tail()"
   ]
  },
  {
   "cell_type": "code",
   "execution_count": 36,
   "metadata": {
    "ExecuteTime": {
     "end_time": "2017-10-12T20:28:54.938875Z",
     "start_time": "2017-10-12T20:28:54.921829Z"
    }
   },
   "outputs": [
    {
     "data": {
      "text/html": [
       "<div>\n",
       "<style>\n",
       "    .dataframe thead tr:only-child th {\n",
       "        text-align: right;\n",
       "    }\n",
       "\n",
       "    .dataframe thead th {\n",
       "        text-align: left;\n",
       "    }\n",
       "\n",
       "    .dataframe tbody tr th {\n",
       "        vertical-align: top;\n",
       "    }\n",
       "</style>\n",
       "<table border=\"1\" class=\"dataframe\">\n",
       "  <thead>\n",
       "    <tr style=\"text-align: right;\">\n",
       "      <th></th>\n",
       "      <th></th>\n",
       "      <th>year</th>\n",
       "      <th>month</th>\n",
       "      <th>generation (mwh)</th>\n",
       "    </tr>\n",
       "    <tr>\n",
       "      <th>nerc</th>\n",
       "      <th>datetime</th>\n",
       "      <th></th>\n",
       "      <th></th>\n",
       "      <th></th>\n",
       "    </tr>\n",
       "  </thead>\n",
       "  <tbody>\n",
       "    <tr>\n",
       "      <th rowspan=\"5\" valign=\"top\">-</th>\n",
       "      <th>2001-01-01</th>\n",
       "      <td>10005</td>\n",
       "      <td>5</td>\n",
       "      <td>7185661.388</td>\n",
       "    </tr>\n",
       "    <tr>\n",
       "      <th>2001-02-01</th>\n",
       "      <td>10005</td>\n",
       "      <td>10</td>\n",
       "      <td>6526739.453</td>\n",
       "    </tr>\n",
       "    <tr>\n",
       "      <th>2001-03-01</th>\n",
       "      <td>10005</td>\n",
       "      <td>15</td>\n",
       "      <td>6304139.884</td>\n",
       "    </tr>\n",
       "    <tr>\n",
       "      <th>2001-04-01</th>\n",
       "      <td>10005</td>\n",
       "      <td>20</td>\n",
       "      <td>6624660.323</td>\n",
       "    </tr>\n",
       "    <tr>\n",
       "      <th>2001-05-01</th>\n",
       "      <td>10005</td>\n",
       "      <td>25</td>\n",
       "      <td>7045482.729</td>\n",
       "    </tr>\n",
       "  </tbody>\n",
       "</table>\n",
       "</div>"
      ],
      "text/plain": [
       "                  year  month  generation (mwh)\n",
       "nerc datetime                                  \n",
       "-    2001-01-01  10005      5       7185661.388\n",
       "     2001-02-01  10005     10       6526739.453\n",
       "     2001-03-01  10005     15       6304139.884\n",
       "     2001-04-01  10005     20       6624660.323\n",
       "     2001-05-01  10005     25       7045482.729"
      ]
     },
     "execution_count": 36,
     "metadata": {},
     "output_type": "execute_result"
    }
   ],
   "source": [
    "total = final.groupby(['nerc', 'datetime']).sum()\n",
    "# total.reset_index(inplace=True)\n",
    "# add_datetime(total)\n",
    "# total['fuel category'] = 'Total'\n",
    "total.head()"
   ]
  },
  {
   "cell_type": "code",
   "execution_count": 37,
   "metadata": {
    "ExecuteTime": {
     "end_time": "2017-10-12T20:28:54.945521Z",
     "start_time": "2017-10-12T20:28:54.941340Z"
    },
    "collapsed": true
   },
   "outputs": [],
   "source": [
    "nercs = total.index.get_level_values('nerc').unique()"
   ]
  },
  {
   "cell_type": "markdown",
   "metadata": {},
   "source": [
    "### Percent generation by fuel\n",
    "    "
   ]
  },
  {
   "cell_type": "code",
   "execution_count": 38,
   "metadata": {
    "ExecuteTime": {
     "end_time": "2017-10-12T20:29:17.407322Z",
     "start_time": "2017-10-12T20:29:17.329338Z"
    },
    "collapsed": true
   },
   "outputs": [],
   "source": [
    "df_list = []\n",
    "for nerc in nercs:\n",
    "    percent_gen = final.loc[nerc].divide(total.loc[nerc], level='datetime')\n",
    "    percent_gen['nerc'] = nerc\n",
    "    percent_gen.set_index('nerc', append=True, inplace=True)\n",
    "    df_list.append(percent_gen)\n",
    "    \n",
    "percent_gen = pd.concat(df_list)"
   ]
  },
  {
   "cell_type": "code",
   "execution_count": 39,
   "metadata": {
    "ExecuteTime": {
     "end_time": "2017-10-12T20:29:17.429146Z",
     "start_time": "2017-10-12T20:29:17.409031Z"
    }
   },
   "outputs": [
    {
     "data": {
      "text/html": [
       "<div>\n",
       "<style>\n",
       "    .dataframe thead tr:only-child th {\n",
       "        text-align: right;\n",
       "    }\n",
       "\n",
       "    .dataframe thead th {\n",
       "        text-align: left;\n",
       "    }\n",
       "\n",
       "    .dataframe tbody tr th {\n",
       "        vertical-align: top;\n",
       "    }\n",
       "</style>\n",
       "<table border=\"1\" class=\"dataframe\">\n",
       "  <thead>\n",
       "    <tr style=\"text-align: right;\">\n",
       "      <th></th>\n",
       "      <th></th>\n",
       "      <th></th>\n",
       "      <th>year</th>\n",
       "      <th>month</th>\n",
       "      <th>generation (mwh)</th>\n",
       "    </tr>\n",
       "    <tr>\n",
       "      <th>fuel category</th>\n",
       "      <th>datetime</th>\n",
       "      <th>nerc</th>\n",
       "      <th></th>\n",
       "      <th></th>\n",
       "      <th></th>\n",
       "    </tr>\n",
       "  </thead>\n",
       "  <tbody>\n",
       "    <tr>\n",
       "      <th rowspan=\"5\" valign=\"top\">Coal</th>\n",
       "      <th>2001-01-01</th>\n",
       "      <th>-</th>\n",
       "      <td>0.2</td>\n",
       "      <td>0.2</td>\n",
       "      <td>0.693624</td>\n",
       "    </tr>\n",
       "    <tr>\n",
       "      <th>2001-02-01</th>\n",
       "      <th>-</th>\n",
       "      <td>0.2</td>\n",
       "      <td>0.2</td>\n",
       "      <td>0.616249</td>\n",
       "    </tr>\n",
       "    <tr>\n",
       "      <th>2001-03-01</th>\n",
       "      <th>-</th>\n",
       "      <td>0.2</td>\n",
       "      <td>0.2</td>\n",
       "      <td>0.601500</td>\n",
       "    </tr>\n",
       "    <tr>\n",
       "      <th>2001-04-01</th>\n",
       "      <th>-</th>\n",
       "      <td>0.2</td>\n",
       "      <td>0.2</td>\n",
       "      <td>0.621707</td>\n",
       "    </tr>\n",
       "    <tr>\n",
       "      <th>2001-05-01</th>\n",
       "      <th>-</th>\n",
       "      <td>0.2</td>\n",
       "      <td>0.2</td>\n",
       "      <td>0.637201</td>\n",
       "    </tr>\n",
       "  </tbody>\n",
       "</table>\n",
       "</div>"
      ],
      "text/plain": [
       "                               year  month  generation (mwh)\n",
       "fuel category datetime   nerc                               \n",
       "Coal          2001-01-01 -      0.2    0.2          0.693624\n",
       "              2001-02-01 -      0.2    0.2          0.616249\n",
       "              2001-03-01 -      0.2    0.2          0.601500\n",
       "              2001-04-01 -      0.2    0.2          0.621707\n",
       "              2001-05-01 -      0.2    0.2          0.637201"
      ]
     },
     "execution_count": 39,
     "metadata": {},
     "output_type": "execute_result"
    }
   ],
   "source": [
    "percent_gen.head()"
   ]
  },
  {
   "cell_type": "code",
   "execution_count": 40,
   "metadata": {
    "ExecuteTime": {
     "end_time": "2017-10-12T20:29:17.574616Z",
     "start_time": "2017-10-12T20:29:17.433710Z"
    },
    "collapsed": true
   },
   "outputs": [],
   "source": [
    "path = join(cwd, '..', 'Data storage', 'Final NERC data', 'NERC percent gen.csv')\n",
    "percent_gen.to_csv(path)"
   ]
  },
  {
   "cell_type": "code",
   "execution_count": 41,
   "metadata": {
    "ExecuteTime": {
     "end_time": "2017-10-12T20:29:20.857907Z",
     "start_time": "2017-10-12T20:29:17.577235Z"
    }
   },
   "outputs": [
    {
     "data": {
      "text/plain": [
       "<seaborn.axisgrid.FacetGrid at 0x11eea0b70>"
      ]
     },
     "execution_count": 41,
     "metadata": {},
     "output_type": "execute_result"
    },
    {
     "data": {
      "image/png": "[encoded data removed]",
      "text/plain": [
       "<matplotlib.figure.Figure at 0x11eea06a0>"
      ]
     },
     "metadata": {},
     "output_type": "display_data"
    }
   ],
   "source": [
    "g = sns.FacetGrid(final.reset_index(), col='nerc', col_wrap=3, hue='fuel category')\n",
    "g.map(plt.plot, 'datetime', 'generation (mwh)')"
   ]
  },
  {
   "cell_type": "code",
   "execution_count": 42,
   "metadata": {
    "ExecuteTime": {
     "end_time": "2017-10-12T20:29:25.266332Z",
     "start_time": "2017-10-12T20:29:20.861307Z"
    }
   },
   "outputs": [
    {
     "data": {
      "text/plain": [
       "<seaborn.axisgrid.FacetGrid at 0x11e17c898>"
      ]
     },
     "execution_count": 42,
     "metadata": {},
     "output_type": "execute_result"
    },
    {
     "data": {
      "image/png": "[encoded data removed]",
      "text/plain": [
       "<matplotlib.figure.Figure at 0x11e10d710>"
      ]
     },
     "metadata": {},
     "output_type": "display_data"
    }
   ],
   "source": [
    "g = sns.FacetGrid(percent_gen.reset_index(), col='nerc', col_wrap=3, hue='fuel category')\n",
    "g.map(plt.plot, 'datetime', 'generation (mwh)').add_legend()"
   ]
  },
  {
   "cell_type": "code",
   "execution_count": 59,
   "metadata": {
    "ExecuteTime": {
     "end_time": "2017-10-12T20:35:00.951947Z",
     "start_time": "2017-10-12T20:35:00.910415Z"
    },
    "collapsed": true
   },
   "outputs": [],
   "source": [
    "total_monthly_gen = final.groupby(['fuel category', 'year', 'nerc', 'month']).sum()\n",
    "total_monthly_gen.sort_index(inplace=True)"
   ]
  },
  {
   "cell_type": "code",
   "execution_count": 60,
   "metadata": {
    "ExecuteTime": {
     "end_time": "2017-10-12T20:35:01.661512Z",
     "start_time": "2017-10-12T20:35:01.649632Z"
    }
   },
   "outputs": [
    {
     "data": {
      "text/html": [
       "<div>\n",
       "<style>\n",
       "    .dataframe thead tr:only-child th {\n",
       "        text-align: right;\n",
       "    }\n",
       "\n",
       "    .dataframe thead th {\n",
       "        text-align: left;\n",
       "    }\n",
       "\n",
       "    .dataframe tbody tr th {\n",
       "        vertical-align: top;\n",
       "    }\n",
       "</style>\n",
       "<table border=\"1\" class=\"dataframe\">\n",
       "  <thead>\n",
       "    <tr style=\"text-align: right;\">\n",
       "      <th></th>\n",
       "      <th></th>\n",
       "      <th></th>\n",
       "      <th></th>\n",
       "      <th>generation (mwh)</th>\n",
       "    </tr>\n",
       "    <tr>\n",
       "      <th>fuel category</th>\n",
       "      <th>year</th>\n",
       "      <th>nerc</th>\n",
       "      <th>month</th>\n",
       "      <th></th>\n",
       "    </tr>\n",
       "  </thead>\n",
       "  <tbody>\n",
       "    <tr>\n",
       "      <th rowspan=\"5\" valign=\"top\">Coal</th>\n",
       "      <th rowspan=\"5\" valign=\"top\">2001</th>\n",
       "      <th rowspan=\"5\" valign=\"top\">-</th>\n",
       "      <th>1</th>\n",
       "      <td>4984145.332</td>\n",
       "    </tr>\n",
       "    <tr>\n",
       "      <th>2</th>\n",
       "      <td>4022096.265</td>\n",
       "    </tr>\n",
       "    <tr>\n",
       "      <th>3</th>\n",
       "      <td>3791937.999</td>\n",
       "    </tr>\n",
       "    <tr>\n",
       "      <th>4</th>\n",
       "      <td>4118597.061</td>\n",
       "    </tr>\n",
       "    <tr>\n",
       "      <th>5</th>\n",
       "      <td>4489386.854</td>\n",
       "    </tr>\n",
       "  </tbody>\n",
       "</table>\n",
       "</div>"
      ],
      "text/plain": [
       "                               generation (mwh)\n",
       "fuel category year nerc month                  \n",
       "Coal          2001 -    1           4984145.332\n",
       "                        2           4022096.265\n",
       "                        3           3791937.999\n",
       "                        4           4118597.061\n",
       "                        5           4489386.854"
      ]
     },
     "execution_count": 60,
     "metadata": {},
     "output_type": "execute_result"
    }
   ],
   "source": [
    "total_monthly_gen.head()"
   ]
  },
  {
   "cell_type": "code",
   "execution_count": 45,
   "metadata": {
    "ExecuteTime": {
     "end_time": "2017-10-12T20:30:39.565076Z",
     "start_time": "2017-10-12T20:30:39.557500Z"
    }
   },
   "outputs": [
    {
     "data": {
      "text/plain": [
       "Index(['-', 'FRCC', 'MRO', 'NPCC', 'RFC', 'SERC', 'SPP', 'TRE', 'WECC'], dtype='object', name='nerc')"
      ]
     },
     "execution_count": 45,
     "metadata": {},
     "output_type": "execute_result"
    }
   ],
   "source": [
    "nercs"
   ]
  },
  {
   "cell_type": "code",
   "execution_count": 62,
   "metadata": {
    "ExecuteTime": {
     "end_time": "2017-10-12T20:35:27.948829Z",
     "start_time": "2017-10-12T20:35:27.930313Z"
    }
   },
   "outputs": [
    {
     "data": {
      "text/html": [
       "<div>\n",
       "<style>\n",
       "    .dataframe thead tr:only-child th {\n",
       "        text-align: right;\n",
       "    }\n",
       "\n",
       "    .dataframe thead th {\n",
       "        text-align: left;\n",
       "    }\n",
       "\n",
       "    .dataframe tbody tr th {\n",
       "        vertical-align: top;\n",
       "    }\n",
       "</style>\n",
       "<table border=\"1\" class=\"dataframe\">\n",
       "  <thead>\n",
       "    <tr style=\"text-align: right;\">\n",
       "      <th></th>\n",
       "      <th></th>\n",
       "      <th></th>\n",
       "      <th></th>\n",
       "      <th>generation (mwh)</th>\n",
       "    </tr>\n",
       "    <tr>\n",
       "      <th>fuel category</th>\n",
       "      <th>year</th>\n",
       "      <th>nerc</th>\n",
       "      <th>month</th>\n",
       "      <th></th>\n",
       "    </tr>\n",
       "  </thead>\n",
       "  <tbody>\n",
       "    <tr>\n",
       "      <th rowspan=\"18\" valign=\"top\">Wind</th>\n",
       "      <th rowspan=\"12\" valign=\"top\">2016</th>\n",
       "      <th rowspan=\"12\" valign=\"top\">SPP</th>\n",
       "      <th>1</th>\n",
       "      <td>3.408207e+06</td>\n",
       "    </tr>\n",
       "    <tr>\n",
       "      <th>2</th>\n",
       "      <td>4.193141e+06</td>\n",
       "    </tr>\n",
       "    <tr>\n",
       "      <th>3</th>\n",
       "      <td>4.598598e+06</td>\n",
       "    </tr>\n",
       "    <tr>\n",
       "      <th>4</th>\n",
       "      <td>4.040583e+06</td>\n",
       "    </tr>\n",
       "    <tr>\n",
       "      <th>5</th>\n",
       "      <td>4.019386e+06</td>\n",
       "    </tr>\n",
       "    <tr>\n",
       "      <th>6</th>\n",
       "      <td>3.314925e+06</td>\n",
       "    </tr>\n",
       "    <tr>\n",
       "      <th>7</th>\n",
       "      <td>4.020584e+06</td>\n",
       "    </tr>\n",
       "    <tr>\n",
       "      <th>8</th>\n",
       "      <td>3.015184e+06</td>\n",
       "    </tr>\n",
       "    <tr>\n",
       "      <th>9</th>\n",
       "      <td>3.693485e+06</td>\n",
       "    </tr>\n",
       "    <tr>\n",
       "      <th>10</th>\n",
       "      <td>4.879534e+06</td>\n",
       "    </tr>\n",
       "    <tr>\n",
       "      <th>11</th>\n",
       "      <td>3.958848e+06</td>\n",
       "    </tr>\n",
       "    <tr>\n",
       "      <th>12</th>\n",
       "      <td>4.346685e+06</td>\n",
       "    </tr>\n",
       "    <tr>\n",
       "      <th rowspan=\"6\" valign=\"top\">2017</th>\n",
       "      <th rowspan=\"6\" valign=\"top\">SPP</th>\n",
       "      <th>1</th>\n",
       "      <td>5.770468e+06</td>\n",
       "    </tr>\n",
       "    <tr>\n",
       "      <th>2</th>\n",
       "      <td>5.910061e+06</td>\n",
       "    </tr>\n",
       "    <tr>\n",
       "      <th>3</th>\n",
       "      <td>7.154622e+06</td>\n",
       "    </tr>\n",
       "    <tr>\n",
       "      <th>4</th>\n",
       "      <td>7.099981e+06</td>\n",
       "    </tr>\n",
       "    <tr>\n",
       "      <th>5</th>\n",
       "      <td>6.277379e+06</td>\n",
       "    </tr>\n",
       "    <tr>\n",
       "      <th>6</th>\n",
       "      <td>5.488991e+06</td>\n",
       "    </tr>\n",
       "  </tbody>\n",
       "</table>\n",
       "</div>"
      ],
      "text/plain": [
       "                               generation (mwh)\n",
       "fuel category year nerc month                  \n",
       "Wind          2016 SPP  1          3.408207e+06\n",
       "                        2          4.193141e+06\n",
       "                        3          4.598598e+06\n",
       "                        4          4.040583e+06\n",
       "                        5          4.019386e+06\n",
       "                        6          3.314925e+06\n",
       "                        7          4.020584e+06\n",
       "                        8          3.015184e+06\n",
       "                        9          3.693485e+06\n",
       "                        10         4.879534e+06\n",
       "                        11         3.958848e+06\n",
       "                        12         4.346685e+06\n",
       "              2017 SPP  1          5.770468e+06\n",
       "                        2          5.910061e+06\n",
       "                        3          7.154622e+06\n",
       "                        4          7.099981e+06\n",
       "                        5          6.277379e+06\n",
       "                        6          5.488991e+06"
      ]
     },
     "execution_count": 62,
     "metadata": {},
     "output_type": "execute_result"
    }
   ],
   "source": [
    "total_monthly_gen.loc[idx['Wind', 2016:, 'SPP', :]]"
   ]
  },
  {
   "cell_type": "code",
   "execution_count": 65,
   "metadata": {
    "ExecuteTime": {
     "end_time": "2017-10-12T20:39:28.940089Z",
     "start_time": "2017-10-12T20:39:28.896505Z"
    }
   },
   "outputs": [
    {
     "data": {
      "text/html": [
       "<div>\n",
       "<style>\n",
       "    .dataframe thead tr:only-child th {\n",
       "        text-align: right;\n",
       "    }\n",
       "\n",
       "    .dataframe thead th {\n",
       "        text-align: left;\n",
       "    }\n",
       "\n",
       "    .dataframe tbody tr th {\n",
       "        vertical-align: top;\n",
       "    }\n",
       "</style>\n",
       "<table border=\"1\" class=\"dataframe\">\n",
       "  <thead>\n",
       "    <tr style=\"text-align: right;\">\n",
       "      <th></th>\n",
       "      <th></th>\n",
       "      <th></th>\n",
       "      <th></th>\n",
       "      <th>generation (mwh)</th>\n",
       "    </tr>\n",
       "    <tr>\n",
       "      <th>fuel category</th>\n",
       "      <th>year</th>\n",
       "      <th>nerc</th>\n",
       "      <th>month</th>\n",
       "      <th></th>\n",
       "    </tr>\n",
       "  </thead>\n",
       "  <tbody>\n",
       "    <tr>\n",
       "      <th rowspan=\"18\" valign=\"top\">Wind</th>\n",
       "      <th rowspan=\"12\" valign=\"top\">2016</th>\n",
       "      <th rowspan=\"12\" valign=\"top\">TRE</th>\n",
       "      <th>1</th>\n",
       "      <td>3.647913e+06</td>\n",
       "    </tr>\n",
       "    <tr>\n",
       "      <th>2</th>\n",
       "      <td>4.115776e+06</td>\n",
       "    </tr>\n",
       "    <tr>\n",
       "      <th>3</th>\n",
       "      <td>4.599883e+06</td>\n",
       "    </tr>\n",
       "    <tr>\n",
       "      <th>4</th>\n",
       "      <td>3.795958e+06</td>\n",
       "    </tr>\n",
       "    <tr>\n",
       "      <th>5</th>\n",
       "      <td>4.014262e+06</td>\n",
       "    </tr>\n",
       "    <tr>\n",
       "      <th>6</th>\n",
       "      <td>2.968315e+06</td>\n",
       "    </tr>\n",
       "    <tr>\n",
       "      <th>7</th>\n",
       "      <td>4.576180e+06</td>\n",
       "    </tr>\n",
       "    <tr>\n",
       "      <th>8</th>\n",
       "      <td>2.903140e+06</td>\n",
       "    </tr>\n",
       "    <tr>\n",
       "      <th>9</th>\n",
       "      <td>2.984526e+06</td>\n",
       "    </tr>\n",
       "    <tr>\n",
       "      <th>10</th>\n",
       "      <td>4.174139e+06</td>\n",
       "    </tr>\n",
       "    <tr>\n",
       "      <th>11</th>\n",
       "      <td>3.595799e+06</td>\n",
       "    </tr>\n",
       "    <tr>\n",
       "      <th>12</th>\n",
       "      <td>4.160033e+06</td>\n",
       "    </tr>\n",
       "    <tr>\n",
       "      <th rowspan=\"6\" valign=\"top\">2017</th>\n",
       "      <th rowspan=\"6\" valign=\"top\">TRE</th>\n",
       "      <th>1</th>\n",
       "      <td>3.785727e+06</td>\n",
       "    </tr>\n",
       "    <tr>\n",
       "      <th>2</th>\n",
       "      <td>3.663461e+06</td>\n",
       "    </tr>\n",
       "    <tr>\n",
       "      <th>3</th>\n",
       "      <td>4.437260e+06</td>\n",
       "    </tr>\n",
       "    <tr>\n",
       "      <th>4</th>\n",
       "      <td>4.358116e+06</td>\n",
       "    </tr>\n",
       "    <tr>\n",
       "      <th>5</th>\n",
       "      <td>3.897864e+06</td>\n",
       "    </tr>\n",
       "    <tr>\n",
       "      <th>6</th>\n",
       "      <td>2.946654e+06</td>\n",
       "    </tr>\n",
       "  </tbody>\n",
       "</table>\n",
       "</div>"
      ],
      "text/plain": [
       "                               generation (mwh)\n",
       "fuel category year nerc month                  \n",
       "Wind          2016 TRE  1          3.647913e+06\n",
       "                        2          4.115776e+06\n",
       "                        3          4.599883e+06\n",
       "                        4          3.795958e+06\n",
       "                        5          4.014262e+06\n",
       "                        6          2.968315e+06\n",
       "                        7          4.576180e+06\n",
       "                        8          2.903140e+06\n",
       "                        9          2.984526e+06\n",
       "                        10         4.174139e+06\n",
       "                        11         3.595799e+06\n",
       "                        12         4.160033e+06\n",
       "              2017 TRE  1          3.785727e+06\n",
       "                        2          3.663461e+06\n",
       "                        3          4.437260e+06\n",
       "                        4          4.358116e+06\n",
       "                        5          3.897864e+06\n",
       "                        6          2.946654e+06"
      ]
     },
     "execution_count": 65,
     "metadata": {},
     "output_type": "execute_result"
    }
   ],
   "source": [
    "total_monthly_gen.loc[idx['Wind', 2016:, 'TRE', :]]"
   ]
  },
  {
   "cell_type": "code",
   "execution_count": null,
   "metadata": {
    "collapsed": true
   },
   "outputs": [],
   "source": []
  },
  {
   "cell_type": "code",
   "execution_count": 63,
   "metadata": {
    "ExecuteTime": {
     "end_time": "2017-10-12T20:36:37.405095Z",
     "start_time": "2017-10-12T20:36:37.396690Z"
    },
    "collapsed": true
   },
   "outputs": [],
   "source": [
    "national = total_monthly_gen.groupby(['fuel category', 'year', 'month']).sum()"
   ]
  },
  {
   "cell_type": "code",
   "execution_count": 64,
   "metadata": {
    "ExecuteTime": {
     "end_time": "2017-10-12T20:36:46.363738Z",
     "start_time": "2017-10-12T20:36:46.342004Z"
    }
   },
   "outputs": [
    {
     "data": {
      "text/html": [
       "<div>\n",
       "<style>\n",
       "    .dataframe thead tr:only-child th {\n",
       "        text-align: right;\n",
       "    }\n",
       "\n",
       "    .dataframe thead th {\n",
       "        text-align: left;\n",
       "    }\n",
       "\n",
       "    .dataframe tbody tr th {\n",
       "        vertical-align: top;\n",
       "    }\n",
       "</style>\n",
       "<table border=\"1\" class=\"dataframe\">\n",
       "  <thead>\n",
       "    <tr style=\"text-align: right;\">\n",
       "      <th></th>\n",
       "      <th></th>\n",
       "      <th>generation (mwh)</th>\n",
       "    </tr>\n",
       "    <tr>\n",
       "      <th>year</th>\n",
       "      <th>month</th>\n",
       "      <th></th>\n",
       "    </tr>\n",
       "  </thead>\n",
       "  <tbody>\n",
       "    <tr>\n",
       "      <th rowspan=\"12\" valign=\"top\">2001</th>\n",
       "      <th>1</th>\n",
       "      <td>3.333854e+05</td>\n",
       "    </tr>\n",
       "    <tr>\n",
       "      <th>2</th>\n",
       "      <td>3.180357e+05</td>\n",
       "    </tr>\n",
       "    <tr>\n",
       "      <th>3</th>\n",
       "      <td>4.641913e+05</td>\n",
       "    </tr>\n",
       "    <tr>\n",
       "      <th>4</th>\n",
       "      <td>5.964168e+05</td>\n",
       "    </tr>\n",
       "    <tr>\n",
       "      <th>5</th>\n",
       "      <td>5.508860e+05</td>\n",
       "    </tr>\n",
       "    <tr>\n",
       "      <th>6</th>\n",
       "      <td>5.921092e+05</td>\n",
       "    </tr>\n",
       "    <tr>\n",
       "      <th>7</th>\n",
       "      <td>5.637226e+05</td>\n",
       "    </tr>\n",
       "    <tr>\n",
       "      <th>8</th>\n",
       "      <td>5.232015e+05</td>\n",
       "    </tr>\n",
       "    <tr>\n",
       "      <th>9</th>\n",
       "      <td>4.400808e+05</td>\n",
       "    </tr>\n",
       "    <tr>\n",
       "      <th>10</th>\n",
       "      <td>5.482939e+05</td>\n",
       "    </tr>\n",
       "    <tr>\n",
       "      <th>11</th>\n",
       "      <td>4.402245e+05</td>\n",
       "    </tr>\n",
       "    <tr>\n",
       "      <th>12</th>\n",
       "      <td>5.876466e+05</td>\n",
       "    </tr>\n",
       "    <tr>\n",
       "      <th rowspan=\"12\" valign=\"top\">2002</th>\n",
       "      <th>1</th>\n",
       "      <td>8.096774e+05</td>\n",
       "    </tr>\n",
       "    <tr>\n",
       "      <th>2</th>\n",
       "      <td>7.122176e+05</td>\n",
       "    </tr>\n",
       "    <tr>\n",
       "      <th>3</th>\n",
       "      <td>8.501622e+05</td>\n",
       "    </tr>\n",
       "    <tr>\n",
       "      <th>4</th>\n",
       "      <td>1.022825e+06</td>\n",
       "    </tr>\n",
       "    <tr>\n",
       "      <th>5</th>\n",
       "      <td>1.076013e+06</td>\n",
       "    </tr>\n",
       "    <tr>\n",
       "      <th>6</th>\n",
       "      <td>1.124236e+06</td>\n",
       "    </tr>\n",
       "    <tr>\n",
       "      <th>7</th>\n",
       "      <td>8.880868e+05</td>\n",
       "    </tr>\n",
       "    <tr>\n",
       "      <th>8</th>\n",
       "      <td>9.744372e+05</td>\n",
       "    </tr>\n",
       "    <tr>\n",
       "      <th>9</th>\n",
       "      <td>7.337742e+05</td>\n",
       "    </tr>\n",
       "    <tr>\n",
       "      <th>10</th>\n",
       "      <td>7.325252e+05</td>\n",
       "    </tr>\n",
       "    <tr>\n",
       "      <th>11</th>\n",
       "      <td>6.542521e+05</td>\n",
       "    </tr>\n",
       "    <tr>\n",
       "      <th>12</th>\n",
       "      <td>7.533280e+05</td>\n",
       "    </tr>\n",
       "    <tr>\n",
       "      <th rowspan=\"6\" valign=\"top\">2003</th>\n",
       "      <th>1</th>\n",
       "      <td>6.320539e+05</td>\n",
       "    </tr>\n",
       "    <tr>\n",
       "      <th>2</th>\n",
       "      <td>7.450431e+05</td>\n",
       "    </tr>\n",
       "    <tr>\n",
       "      <th>3</th>\n",
       "      <td>1.035804e+06</td>\n",
       "    </tr>\n",
       "    <tr>\n",
       "      <th>4</th>\n",
       "      <td>1.092412e+06</td>\n",
       "    </tr>\n",
       "    <tr>\n",
       "      <th>5</th>\n",
       "      <td>1.006074e+06</td>\n",
       "    </tr>\n",
       "    <tr>\n",
       "      <th>6</th>\n",
       "      <td>1.046792e+06</td>\n",
       "    </tr>\n",
       "    <tr>\n",
       "      <th>...</th>\n",
       "      <th>...</th>\n",
       "      <td>...</td>\n",
       "    </tr>\n",
       "    <tr>\n",
       "      <th rowspan=\"12\" valign=\"top\">2015</th>\n",
       "      <th>1</th>\n",
       "      <td>1.513446e+07</td>\n",
       "    </tr>\n",
       "    <tr>\n",
       "      <th>2</th>\n",
       "      <td>1.486940e+07</td>\n",
       "    </tr>\n",
       "    <tr>\n",
       "      <th>3</th>\n",
       "      <td>1.525001e+07</td>\n",
       "    </tr>\n",
       "    <tr>\n",
       "      <th>4</th>\n",
       "      <td>1.776832e+07</td>\n",
       "    </tr>\n",
       "    <tr>\n",
       "      <th>5</th>\n",
       "      <td>1.706237e+07</td>\n",
       "    </tr>\n",
       "    <tr>\n",
       "      <th>6</th>\n",
       "      <td>1.335309e+07</td>\n",
       "    </tr>\n",
       "    <tr>\n",
       "      <th>7</th>\n",
       "      <td>1.360589e+07</td>\n",
       "    </tr>\n",
       "    <tr>\n",
       "      <th>8</th>\n",
       "      <td>1.301915e+07</td>\n",
       "    </tr>\n",
       "    <tr>\n",
       "      <th>9</th>\n",
       "      <td>1.387127e+07</td>\n",
       "    </tr>\n",
       "    <tr>\n",
       "      <th>10</th>\n",
       "      <td>1.632488e+07</td>\n",
       "    </tr>\n",
       "    <tr>\n",
       "      <th>11</th>\n",
       "      <td>1.958666e+07</td>\n",
       "    </tr>\n",
       "    <tr>\n",
       "      <th>12</th>\n",
       "      <td>2.001270e+07</td>\n",
       "    </tr>\n",
       "    <tr>\n",
       "      <th rowspan=\"12\" valign=\"top\">2016</th>\n",
       "      <th>1</th>\n",
       "      <td>1.848814e+07</td>\n",
       "    </tr>\n",
       "    <tr>\n",
       "      <th>2</th>\n",
       "      <td>2.014599e+07</td>\n",
       "    </tr>\n",
       "    <tr>\n",
       "      <th>3</th>\n",
       "      <td>2.191629e+07</td>\n",
       "    </tr>\n",
       "    <tr>\n",
       "      <th>4</th>\n",
       "      <td>2.065752e+07</td>\n",
       "    </tr>\n",
       "    <tr>\n",
       "      <th>5</th>\n",
       "      <td>1.872730e+07</td>\n",
       "    </tr>\n",
       "    <tr>\n",
       "      <th>6</th>\n",
       "      <td>1.623909e+07</td>\n",
       "    </tr>\n",
       "    <tr>\n",
       "      <th>7</th>\n",
       "      <td>1.752073e+07</td>\n",
       "    </tr>\n",
       "    <tr>\n",
       "      <th>8</th>\n",
       "      <td>1.348392e+07</td>\n",
       "    </tr>\n",
       "    <tr>\n",
       "      <th>9</th>\n",
       "      <td>1.635427e+07</td>\n",
       "    </tr>\n",
       "    <tr>\n",
       "      <th>10</th>\n",
       "      <td>2.028793e+07</td>\n",
       "    </tr>\n",
       "    <tr>\n",
       "      <th>11</th>\n",
       "      <td>1.925545e+07</td>\n",
       "    </tr>\n",
       "    <tr>\n",
       "      <th>12</th>\n",
       "      <td>2.291829e+07</td>\n",
       "    </tr>\n",
       "    <tr>\n",
       "      <th rowspan=\"6\" valign=\"top\">2017</th>\n",
       "      <th>1</th>\n",
       "      <td>1.876248e+07</td>\n",
       "    </tr>\n",
       "    <tr>\n",
       "      <th>2</th>\n",
       "      <td>2.026906e+07</td>\n",
       "    </tr>\n",
       "    <tr>\n",
       "      <th>3</th>\n",
       "      <td>2.393028e+07</td>\n",
       "    </tr>\n",
       "    <tr>\n",
       "      <th>4</th>\n",
       "      <td>2.371895e+07</td>\n",
       "    </tr>\n",
       "    <tr>\n",
       "      <th>5</th>\n",
       "      <td>2.091056e+07</td>\n",
       "    </tr>\n",
       "    <tr>\n",
       "      <th>6</th>\n",
       "      <td>1.808618e+07</td>\n",
       "    </tr>\n",
       "  </tbody>\n",
       "</table>\n",
       "<p>198 rows × 1 columns</p>\n",
       "</div>"
      ],
      "text/plain": [
       "            generation (mwh)\n",
       "year month                  \n",
       "2001 1          3.333854e+05\n",
       "     2          3.180357e+05\n",
       "     3          4.641913e+05\n",
       "     4          5.964168e+05\n",
       "     5          5.508860e+05\n",
       "     6          5.921092e+05\n",
       "     7          5.637226e+05\n",
       "     8          5.232015e+05\n",
       "     9          4.400808e+05\n",
       "     10         5.482939e+05\n",
       "     11         4.402245e+05\n",
       "     12         5.876466e+05\n",
       "2002 1          8.096774e+05\n",
       "     2          7.122176e+05\n",
       "     3          8.501622e+05\n",
       "     4          1.022825e+06\n",
       "     5          1.076013e+06\n",
       "     6          1.124236e+06\n",
       "     7          8.880868e+05\n",
       "     8          9.744372e+05\n",
       "     9          7.337742e+05\n",
       "     10         7.325252e+05\n",
       "     11         6.542521e+05\n",
       "     12         7.533280e+05\n",
       "2003 1          6.320539e+05\n",
       "     2          7.450431e+05\n",
       "     3          1.035804e+06\n",
       "     4          1.092412e+06\n",
       "     5          1.006074e+06\n",
       "     6          1.046792e+06\n",
       "...                      ...\n",
       "2015 1          1.513446e+07\n",
       "     2          1.486940e+07\n",
       "     3          1.525001e+07\n",
       "     4          1.776832e+07\n",
       "     5          1.706237e+07\n",
       "     6          1.335309e+07\n",
       "     7          1.360589e+07\n",
       "     8          1.301915e+07\n",
       "     9          1.387127e+07\n",
       "     10         1.632488e+07\n",
       "     11         1.958666e+07\n",
       "     12         2.001270e+07\n",
       "2016 1          1.848814e+07\n",
       "     2          2.014599e+07\n",
       "     3          2.191629e+07\n",
       "     4          2.065752e+07\n",
       "     5          1.872730e+07\n",
       "     6          1.623909e+07\n",
       "     7          1.752073e+07\n",
       "     8          1.348392e+07\n",
       "     9          1.635427e+07\n",
       "     10         2.028793e+07\n",
       "     11         1.925545e+07\n",
       "     12         2.291829e+07\n",
       "2017 1          1.876248e+07\n",
       "     2          2.026906e+07\n",
       "     3          2.393028e+07\n",
       "     4          2.371895e+07\n",
       "     5          2.091056e+07\n",
       "     6          1.808618e+07\n",
       "\n",
       "[198 rows x 1 columns]"
      ]
     },
     "execution_count": 64,
     "metadata": {},
     "output_type": "execute_result"
    }
   ],
   "source": [
    "national.loc['Wind']"
   ]
  },
  {
   "cell_type": "code",
   "execution_count": 53,
   "metadata": {
    "ExecuteTime": {
     "end_time": "2017-10-12T20:33:11.125393Z",
     "start_time": "2017-10-12T20:33:11.116652Z"
    }
   },
   "outputs": [
    {
     "data": {
      "text/plain": [
       "year  nerc  month\n",
       "2001  -     1        7185661.388\n",
       "            2        6526739.453\n",
       "            3        6304139.884\n",
       "            4        6624660.323\n",
       "            5        7045482.729\n",
       "Name: generation (mwh), dtype: float64"
      ]
     },
     "execution_count": 53,
     "metadata": {},
     "output_type": "execute_result"
    }
   ],
   "source": [
    "total_monthly_gen.head()"
   ]
  },
  {
   "cell_type": "code",
   "execution_count": 56,
   "metadata": {
    "ExecuteTime": {
     "end_time": "2017-10-12T20:33:39.851435Z",
     "start_time": "2017-10-12T20:33:39.836793Z"
    },
    "collapsed": true
   },
   "outputs": [],
   "source": [
    "path = join(cwd, '..', 'Data storage', 'Final NERC data', 'NERC generation.csv')\n",
    "total_monthly_gen.to_csv(path)"
   ]
  },
  {
   "cell_type": "markdown",
   "metadata": {},
   "source": [
    "## CO₂ emissions intensity by NERC region"
   ]
  },
  {
   "cell_type": "code",
   "execution_count": 127,
   "metadata": {
    "ExecuteTime": {
     "end_time": "2017-10-06T02:47:24.622898Z",
     "start_time": "2017-10-06T02:47:24.613872Z"
    }
   },
   "outputs": [
    {
     "data": {
      "text/plain": [
       "year  nerc  month\n",
       "2001  -     1        5.476076e+09\n",
       "            2        4.349473e+09\n",
       "            3        4.223575e+09\n",
       "            4        4.544873e+09\n",
       "            5        4.972656e+09\n",
       "Name: final co2 (kg), dtype: float64"
      ]
     },
     "execution_count": 127,
     "metadata": {},
     "output_type": "execute_result"
    }
   ],
   "source": [
    "co2_nerc.head()"
   ]
  },
  {
   "cell_type": "code",
   "execution_count": 128,
   "metadata": {
    "ExecuteTime": {
     "end_time": "2017-10-06T02:49:00.917993Z",
     "start_time": "2017-10-06T02:49:00.911555Z"
    }
   },
   "outputs": [
    {
     "data": {
      "text/plain": [
       "(pandas.core.series.Series, pandas.core.series.Series)"
      ]
     },
     "execution_count": 128,
     "metadata": {},
     "output_type": "execute_result"
    }
   ],
   "source": [
    "type(co2_nerc), type(total_monthly_gen)"
   ]
  },
  {
   "cell_type": "code",
   "execution_count": 47,
   "metadata": {
    "ExecuteTime": {
     "end_time": "2017-10-12T20:31:02.033983Z",
     "start_time": "2017-10-12T20:31:01.997424Z"
    },
    "collapsed": true
   },
   "outputs": [],
   "source": [
    "nerc_index = pd.concat([co2_nerc.sort_index(), total_monthly_gen.sort_index()], axis=1)\n",
    "nerc_index['index'] = nerc_index['final co2 (kg)'] / nerc_index['generation (mwh)']\n",
    "nerc_index = nerc_index.reset_index()\n",
    "add_datetime(nerc_index)"
   ]
  },
  {
   "cell_type": "code",
   "execution_count": 48,
   "metadata": {
    "ExecuteTime": {
     "end_time": "2017-10-12T20:31:02.051868Z",
     "start_time": "2017-10-12T20:31:02.035880Z"
    }
   },
   "outputs": [
    {
     "data": {
      "text/html": [
       "<div>\n",
       "<style>\n",
       "    .dataframe thead tr:only-child th {\n",
       "        text-align: right;\n",
       "    }\n",
       "\n",
       "    .dataframe thead th {\n",
       "        text-align: left;\n",
       "    }\n",
       "\n",
       "    .dataframe tbody tr th {\n",
       "        vertical-align: top;\n",
       "    }\n",
       "</style>\n",
       "<table border=\"1\" class=\"dataframe\">\n",
       "  <thead>\n",
       "    <tr style=\"text-align: right;\">\n",
       "      <th></th>\n",
       "      <th>year</th>\n",
       "      <th>nerc</th>\n",
       "      <th>month</th>\n",
       "      <th>final co2 (kg)</th>\n",
       "      <th>generation (mwh)</th>\n",
       "      <th>index</th>\n",
       "      <th>datetime</th>\n",
       "    </tr>\n",
       "  </thead>\n",
       "  <tbody>\n",
       "    <tr>\n",
       "      <th>1777</th>\n",
       "      <td>2017</td>\n",
       "      <td>WECC</td>\n",
       "      <td>2</td>\n",
       "      <td>1.797939e+10</td>\n",
       "      <td>5.140333e+07</td>\n",
       "      <td>349.770842</td>\n",
       "      <td>2017-02-01</td>\n",
       "    </tr>\n",
       "    <tr>\n",
       "      <th>1778</th>\n",
       "      <td>2017</td>\n",
       "      <td>WECC</td>\n",
       "      <td>3</td>\n",
       "      <td>1.622878e+10</td>\n",
       "      <td>5.552177e+07</td>\n",
       "      <td>292.295730</td>\n",
       "      <td>2017-03-01</td>\n",
       "    </tr>\n",
       "    <tr>\n",
       "      <th>1779</th>\n",
       "      <td>2017</td>\n",
       "      <td>WECC</td>\n",
       "      <td>4</td>\n",
       "      <td>1.410046e+10</td>\n",
       "      <td>5.204510e+07</td>\n",
       "      <td>270.927657</td>\n",
       "      <td>2017-04-01</td>\n",
       "    </tr>\n",
       "    <tr>\n",
       "      <th>1780</th>\n",
       "      <td>2017</td>\n",
       "      <td>WECC</td>\n",
       "      <td>5</td>\n",
       "      <td>1.635295e+10</td>\n",
       "      <td>5.640916e+07</td>\n",
       "      <td>289.898906</td>\n",
       "      <td>2017-05-01</td>\n",
       "    </tr>\n",
       "    <tr>\n",
       "      <th>1781</th>\n",
       "      <td>2017</td>\n",
       "      <td>WECC</td>\n",
       "      <td>6</td>\n",
       "      <td>1.998163e+10</td>\n",
       "      <td>6.281548e+07</td>\n",
       "      <td>318.100423</td>\n",
       "      <td>2017-06-01</td>\n",
       "    </tr>\n",
       "  </tbody>\n",
       "</table>\n",
       "</div>"
      ],
      "text/plain": [
       "      year  nerc  month  final co2 (kg)  generation (mwh)       index  \\\n",
       "1777  2017  WECC      2    1.797939e+10      5.140333e+07  349.770842   \n",
       "1778  2017  WECC      3    1.622878e+10      5.552177e+07  292.295730   \n",
       "1779  2017  WECC      4    1.410046e+10      5.204510e+07  270.927657   \n",
       "1780  2017  WECC      5    1.635295e+10      5.640916e+07  289.898906   \n",
       "1781  2017  WECC      6    1.998163e+10      6.281548e+07  318.100423   \n",
       "\n",
       "       datetime  \n",
       "1777 2017-02-01  \n",
       "1778 2017-03-01  \n",
       "1779 2017-04-01  \n",
       "1780 2017-05-01  \n",
       "1781 2017-06-01  "
      ]
     },
     "execution_count": 48,
     "metadata": {},
     "output_type": "execute_result"
    }
   ],
   "source": [
    "nerc_index.tail()"
   ]
  },
  {
   "cell_type": "markdown",
   "metadata": {},
   "source": [
    "### Write data to file"
   ]
  },
  {
   "cell_type": "code",
   "execution_count": 49,
   "metadata": {
    "ExecuteTime": {
     "end_time": "2017-10-12T20:31:02.073431Z",
     "start_time": "2017-10-12T20:31:02.054462Z"
    }
   },
   "outputs": [
    {
     "data": {
      "text/html": [
       "<div>\n",
       "<style>\n",
       "    .dataframe thead tr:only-child th {\n",
       "        text-align: right;\n",
       "    }\n",
       "\n",
       "    .dataframe thead th {\n",
       "        text-align: left;\n",
       "    }\n",
       "\n",
       "    .dataframe tbody tr th {\n",
       "        vertical-align: top;\n",
       "    }\n",
       "</style>\n",
       "<table border=\"1\" class=\"dataframe\">\n",
       "  <thead>\n",
       "    <tr style=\"text-align: right;\">\n",
       "      <th></th>\n",
       "      <th>year</th>\n",
       "      <th>nerc</th>\n",
       "      <th>month</th>\n",
       "      <th>final co2 (kg)</th>\n",
       "      <th>generation (mwh)</th>\n",
       "      <th>index</th>\n",
       "      <th>datetime</th>\n",
       "    </tr>\n",
       "  </thead>\n",
       "  <tbody>\n",
       "    <tr>\n",
       "      <th>0</th>\n",
       "      <td>2001</td>\n",
       "      <td>-</td>\n",
       "      <td>1</td>\n",
       "      <td>5.476076e+09</td>\n",
       "      <td>7185661.388</td>\n",
       "      <td>762.083771</td>\n",
       "      <td>2001-01-01</td>\n",
       "    </tr>\n",
       "    <tr>\n",
       "      <th>1</th>\n",
       "      <td>2001</td>\n",
       "      <td>-</td>\n",
       "      <td>2</td>\n",
       "      <td>4.349473e+09</td>\n",
       "      <td>6526739.453</td>\n",
       "      <td>666.408193</td>\n",
       "      <td>2001-02-01</td>\n",
       "    </tr>\n",
       "    <tr>\n",
       "      <th>2</th>\n",
       "      <td>2001</td>\n",
       "      <td>-</td>\n",
       "      <td>3</td>\n",
       "      <td>4.223575e+09</td>\n",
       "      <td>6304139.884</td>\n",
       "      <td>669.968545</td>\n",
       "      <td>2001-03-01</td>\n",
       "    </tr>\n",
       "    <tr>\n",
       "      <th>3</th>\n",
       "      <td>2001</td>\n",
       "      <td>-</td>\n",
       "      <td>4</td>\n",
       "      <td>4.544873e+09</td>\n",
       "      <td>6624660.323</td>\n",
       "      <td>686.053817</td>\n",
       "      <td>2001-04-01</td>\n",
       "    </tr>\n",
       "    <tr>\n",
       "      <th>4</th>\n",
       "      <td>2001</td>\n",
       "      <td>-</td>\n",
       "      <td>5</td>\n",
       "      <td>4.972656e+09</td>\n",
       "      <td>7045482.729</td>\n",
       "      <td>705.793523</td>\n",
       "      <td>2001-05-01</td>\n",
       "    </tr>\n",
       "  </tbody>\n",
       "</table>\n",
       "</div>"
      ],
      "text/plain": [
       "   year nerc  month  final co2 (kg)  generation (mwh)       index   datetime\n",
       "0  2001    -      1    5.476076e+09       7185661.388  762.083771 2001-01-01\n",
       "1  2001    -      2    4.349473e+09       6526739.453  666.408193 2001-02-01\n",
       "2  2001    -      3    4.223575e+09       6304139.884  669.968545 2001-03-01\n",
       "3  2001    -      4    4.544873e+09       6624660.323  686.053817 2001-04-01\n",
       "4  2001    -      5    4.972656e+09       7045482.729  705.793523 2001-05-01"
      ]
     },
     "execution_count": 49,
     "metadata": {},
     "output_type": "execute_result"
    }
   ],
   "source": [
    "nerc_index.head()"
   ]
  },
  {
   "cell_type": "code",
   "execution_count": 50,
   "metadata": {
    "ExecuteTime": {
     "end_time": "2017-10-12T20:31:02.125997Z",
     "start_time": "2017-10-12T20:31:02.076070Z"
    },
    "collapsed": true
   },
   "outputs": [],
   "source": [
    "path = join(cwd, '..', 'Data storage', 'Final NERC data',\n",
    "            'NERC gen emissions and index.csv')\n",
    "nerc_index.to_csv(path)"
   ]
  },
  {
   "cell_type": "code",
   "execution_count": 51,
   "metadata": {
    "ExecuteTime": {
     "end_time": "2017-10-12T20:31:11.505102Z",
     "start_time": "2017-10-12T20:31:09.793810Z"
    }
   },
   "outputs": [
    {
     "data": {
      "text/plain": [
       "<seaborn.axisgrid.FacetGrid at 0x11e5ffd30>"
      ]
     },
     "execution_count": 51,
     "metadata": {},
     "output_type": "execute_result"
    },
    {
     "data": {
      "image/png": "[encoded data removed]",
      "text/plain": [
       "<matplotlib.figure.Figure at 0x11e586400>"
      ]
     },
     "metadata": {},
     "output_type": "display_data"
    }
   ],
   "source": [
    "g = sns.FacetGrid(nerc_index, col='nerc', col_wrap=3, hue='nerc')\n",
    "g.map(plt.plot, 'datetime', 'index')\n",
    "g.set(ylim=(0, 1000))"
   ]
  },
  {
   "cell_type": "code",
   "execution_count": 218,
   "metadata": {
    "ExecuteTime": {
     "end_time": "2017-10-06T02:52:10.290228Z",
     "start_time": "2017-10-06T02:52:08.548175Z"
    }
   },
   "outputs": [
    {
     "data": {
      "text/plain": [
       "<seaborn.axisgrid.FacetGrid at 0x1277d1940>"
      ]
     },
     "execution_count": 218,
     "metadata": {},
     "output_type": "execute_result"
    },
    {
     "data": {
      "image/png": "[encoded data removed]",
      "text/plain": [
       "<matplotlib.figure.Figure at 0x1277e0240>"
      ]
     },
     "metadata": {},
     "output_type": "display_data"
    }
   ],
   "source": [
    "g = sns.FacetGrid(nerc_index, col='nerc', col_wrap=3, hue='nerc')\n",
    "g.map(plt.plot, 'datetime', 'index')\n",
    "g.set(ylim=(0, 1000))"
   ]
  },
  {
   "cell_type": "code",
   "execution_count": 219,
   "metadata": {
    "collapsed": true
   },
   "outputs": [],
   "source": [
    "nerc_index.set_index(['nerc', 'year', 'month'], inplace=True)\n",
    "nerc_index.sort_index(inplace=True)"
   ]
  },
  {
   "cell_type": "code",
   "execution_count": 220,
   "metadata": {},
   "outputs": [
    {
     "data": {
      "text/html": [
       "<div>\n",
       "<style>\n",
       "    .dataframe thead tr:only-child th {\n",
       "        text-align: right;\n",
       "    }\n",
       "\n",
       "    .dataframe thead th {\n",
       "        text-align: left;\n",
       "    }\n",
       "\n",
       "    .dataframe tbody tr th {\n",
       "        vertical-align: top;\n",
       "    }\n",
       "</style>\n",
       "<table border=\"1\" class=\"dataframe\">\n",
       "  <thead>\n",
       "    <tr style=\"text-align: right;\">\n",
       "      <th></th>\n",
       "      <th></th>\n",
       "      <th></th>\n",
       "      <th>final co2 (kg)</th>\n",
       "      <th>generation (mwh)</th>\n",
       "      <th>index</th>\n",
       "      <th>datetime</th>\n",
       "    </tr>\n",
       "    <tr>\n",
       "      <th>nerc</th>\n",
       "      <th>year</th>\n",
       "      <th>month</th>\n",
       "      <th></th>\n",
       "      <th></th>\n",
       "      <th></th>\n",
       "      <th></th>\n",
       "    </tr>\n",
       "  </thead>\n",
       "  <tbody>\n",
       "    <tr>\n",
       "      <th rowspan=\"5\" valign=\"top\">-</th>\n",
       "      <th rowspan=\"5\" valign=\"top\">2001</th>\n",
       "      <th>1</th>\n",
       "      <td>5.476076e+09</td>\n",
       "      <td>7185661.388</td>\n",
       "      <td>762.083771</td>\n",
       "      <td>2001-01-01</td>\n",
       "    </tr>\n",
       "    <tr>\n",
       "      <th>2</th>\n",
       "      <td>4.349473e+09</td>\n",
       "      <td>6526739.453</td>\n",
       "      <td>666.408193</td>\n",
       "      <td>2001-02-01</td>\n",
       "    </tr>\n",
       "    <tr>\n",
       "      <th>3</th>\n",
       "      <td>4.223575e+09</td>\n",
       "      <td>6304139.884</td>\n",
       "      <td>669.968545</td>\n",
       "      <td>2001-03-01</td>\n",
       "    </tr>\n",
       "    <tr>\n",
       "      <th>4</th>\n",
       "      <td>4.544873e+09</td>\n",
       "      <td>6624660.323</td>\n",
       "      <td>686.053817</td>\n",
       "      <td>2001-04-01</td>\n",
       "    </tr>\n",
       "    <tr>\n",
       "      <th>5</th>\n",
       "      <td>4.972656e+09</td>\n",
       "      <td>7045482.729</td>\n",
       "      <td>705.793523</td>\n",
       "      <td>2001-05-01</td>\n",
       "    </tr>\n",
       "  </tbody>\n",
       "</table>\n",
       "</div>"
      ],
      "text/plain": [
       "                 final co2 (kg)  generation (mwh)       index   datetime\n",
       "nerc year month                                                         \n",
       "-    2001 1        5.476076e+09       7185661.388  762.083771 2001-01-01\n",
       "          2        4.349473e+09       6526739.453  666.408193 2001-02-01\n",
       "          3        4.223575e+09       6304139.884  669.968545 2001-03-01\n",
       "          4        4.544873e+09       6624660.323  686.053817 2001-04-01\n",
       "          5        4.972656e+09       7045482.729  705.793523 2001-05-01"
      ]
     },
     "execution_count": 220,
     "metadata": {},
     "output_type": "execute_result"
    }
   ],
   "source": [
    "nerc_index.head()"
   ]
  },
  {
   "cell_type": "code",
   "execution_count": 221,
   "metadata": {},
   "outputs": [
    {
     "data": {
      "text/html": [
       "<div>\n",
       "<style>\n",
       "    .dataframe thead tr:only-child th {\n",
       "        text-align: right;\n",
       "    }\n",
       "\n",
       "    .dataframe thead th {\n",
       "        text-align: left;\n",
       "    }\n",
       "\n",
       "    .dataframe tbody tr th {\n",
       "        vertical-align: top;\n",
       "    }\n",
       "</style>\n",
       "<table border=\"1\" class=\"dataframe\">\n",
       "  <thead>\n",
       "    <tr style=\"text-align: right;\">\n",
       "      <th></th>\n",
       "      <th></th>\n",
       "      <th></th>\n",
       "      <th>final co2 (kg)</th>\n",
       "      <th>generation (mwh)</th>\n",
       "      <th>index</th>\n",
       "      <th>datetime</th>\n",
       "    </tr>\n",
       "    <tr>\n",
       "      <th>nerc</th>\n",
       "      <th>year</th>\n",
       "      <th>month</th>\n",
       "      <th></th>\n",
       "      <th></th>\n",
       "      <th></th>\n",
       "      <th></th>\n",
       "    </tr>\n",
       "  </thead>\n",
       "  <tbody>\n",
       "    <tr>\n",
       "      <th rowspan=\"24\" valign=\"top\">RFC</th>\n",
       "      <th rowspan=\"12\" valign=\"top\">2015</th>\n",
       "      <th>1</th>\n",
       "      <td>4.306783e+10</td>\n",
       "      <td>7.783863e+07</td>\n",
       "      <td>553.296296</td>\n",
       "      <td>2015-01-01</td>\n",
       "    </tr>\n",
       "    <tr>\n",
       "      <th>2</th>\n",
       "      <td>4.263669e+10</td>\n",
       "      <td>7.343447e+07</td>\n",
       "      <td>580.608713</td>\n",
       "      <td>2015-02-01</td>\n",
       "    </tr>\n",
       "    <tr>\n",
       "      <th>3</th>\n",
       "      <td>3.679073e+10</td>\n",
       "      <td>6.970127e+07</td>\n",
       "      <td>527.834464</td>\n",
       "      <td>2015-03-01</td>\n",
       "    </tr>\n",
       "    <tr>\n",
       "      <th>4</th>\n",
       "      <td>2.828605e+10</td>\n",
       "      <td>5.710803e+07</td>\n",
       "      <td>495.307651</td>\n",
       "      <td>2015-04-01</td>\n",
       "    </tr>\n",
       "    <tr>\n",
       "      <th>5</th>\n",
       "      <td>3.231308e+10</td>\n",
       "      <td>6.272971e+07</td>\n",
       "      <td>515.116141</td>\n",
       "      <td>2015-05-01</td>\n",
       "    </tr>\n",
       "    <tr>\n",
       "      <th>6</th>\n",
       "      <td>3.677572e+10</td>\n",
       "      <td>6.869253e+07</td>\n",
       "      <td>535.367126</td>\n",
       "      <td>2015-06-01</td>\n",
       "    </tr>\n",
       "    <tr>\n",
       "      <th>7</th>\n",
       "      <td>4.232129e+10</td>\n",
       "      <td>7.648261e+07</td>\n",
       "      <td>553.345283</td>\n",
       "      <td>2015-07-01</td>\n",
       "    </tr>\n",
       "    <tr>\n",
       "      <th>8</th>\n",
       "      <td>4.159511e+10</td>\n",
       "      <td>7.505784e+07</td>\n",
       "      <td>554.174043</td>\n",
       "      <td>2015-08-01</td>\n",
       "    </tr>\n",
       "    <tr>\n",
       "      <th>9</th>\n",
       "      <td>3.837479e+10</td>\n",
       "      <td>6.971716e+07</td>\n",
       "      <td>550.435332</td>\n",
       "      <td>2015-09-01</td>\n",
       "    </tr>\n",
       "    <tr>\n",
       "      <th>10</th>\n",
       "      <td>3.023574e+10</td>\n",
       "      <td>6.177795e+07</td>\n",
       "      <td>489.426034</td>\n",
       "      <td>2015-10-01</td>\n",
       "    </tr>\n",
       "    <tr>\n",
       "      <th>11</th>\n",
       "      <td>2.935812e+10</td>\n",
       "      <td>6.109637e+07</td>\n",
       "      <td>480.521521</td>\n",
       "      <td>2015-11-01</td>\n",
       "    </tr>\n",
       "    <tr>\n",
       "      <th>12</th>\n",
       "      <td>2.883434e+10</td>\n",
       "      <td>6.308340e+07</td>\n",
       "      <td>457.082838</td>\n",
       "      <td>2015-12-01</td>\n",
       "    </tr>\n",
       "    <tr>\n",
       "      <th rowspan=\"12\" valign=\"top\">2016</th>\n",
       "      <th>1</th>\n",
       "      <td>3.626499e+10</td>\n",
       "      <td>7.411975e+07</td>\n",
       "      <td>489.275724</td>\n",
       "      <td>2016-01-01</td>\n",
       "    </tr>\n",
       "    <tr>\n",
       "      <th>2</th>\n",
       "      <td>3.226399e+10</td>\n",
       "      <td>6.618790e+07</td>\n",
       "      <td>487.460489</td>\n",
       "      <td>2016-02-01</td>\n",
       "    </tr>\n",
       "    <tr>\n",
       "      <th>3</th>\n",
       "      <td>2.617552e+10</td>\n",
       "      <td>6.120764e+07</td>\n",
       "      <td>427.651158</td>\n",
       "      <td>2016-03-01</td>\n",
       "    </tr>\n",
       "    <tr>\n",
       "      <th>4</th>\n",
       "      <td>2.656983e+10</td>\n",
       "      <td>5.762905e+07</td>\n",
       "      <td>461.049263</td>\n",
       "      <td>2016-04-01</td>\n",
       "    </tr>\n",
       "    <tr>\n",
       "      <th>5</th>\n",
       "      <td>2.706978e+10</td>\n",
       "      <td>6.038847e+07</td>\n",
       "      <td>448.260692</td>\n",
       "      <td>2016-05-01</td>\n",
       "    </tr>\n",
       "    <tr>\n",
       "      <th>6</th>\n",
       "      <td>3.520189e+10</td>\n",
       "      <td>6.987611e+07</td>\n",
       "      <td>503.775732</td>\n",
       "      <td>2016-06-01</td>\n",
       "    </tr>\n",
       "    <tr>\n",
       "      <th>7</th>\n",
       "      <td>4.294938e+10</td>\n",
       "      <td>8.074331e+07</td>\n",
       "      <td>531.924999</td>\n",
       "      <td>2016-07-01</td>\n",
       "    </tr>\n",
       "    <tr>\n",
       "      <th>8</th>\n",
       "      <td>4.409355e+10</td>\n",
       "      <td>8.366931e+07</td>\n",
       "      <td>526.997935</td>\n",
       "      <td>2016-08-01</td>\n",
       "    </tr>\n",
       "    <tr>\n",
       "      <th>9</th>\n",
       "      <td>3.513746e+10</td>\n",
       "      <td>6.976534e+07</td>\n",
       "      <td>503.652138</td>\n",
       "      <td>2016-09-01</td>\n",
       "    </tr>\n",
       "    <tr>\n",
       "      <th>10</th>\n",
       "      <td>2.906225e+10</td>\n",
       "      <td>6.198996e+07</td>\n",
       "      <td>468.821809</td>\n",
       "      <td>2016-10-01</td>\n",
       "    </tr>\n",
       "    <tr>\n",
       "      <th>11</th>\n",
       "      <td>2.727237e+10</td>\n",
       "      <td>6.111087e+07</td>\n",
       "      <td>446.276917</td>\n",
       "      <td>2016-11-01</td>\n",
       "    </tr>\n",
       "    <tr>\n",
       "      <th>12</th>\n",
       "      <td>3.530546e+10</td>\n",
       "      <td>7.224450e+07</td>\n",
       "      <td>488.694083</td>\n",
       "      <td>2016-12-01</td>\n",
       "    </tr>\n",
       "  </tbody>\n",
       "</table>\n",
       "</div>"
      ],
      "text/plain": [
       "                 final co2 (kg)  generation (mwh)       index   datetime\n",
       "nerc year month                                                         \n",
       "RFC  2015 1        4.306783e+10      7.783863e+07  553.296296 2015-01-01\n",
       "          2        4.263669e+10      7.343447e+07  580.608713 2015-02-01\n",
       "          3        3.679073e+10      6.970127e+07  527.834464 2015-03-01\n",
       "          4        2.828605e+10      5.710803e+07  495.307651 2015-04-01\n",
       "          5        3.231308e+10      6.272971e+07  515.116141 2015-05-01\n",
       "          6        3.677572e+10      6.869253e+07  535.367126 2015-06-01\n",
       "          7        4.232129e+10      7.648261e+07  553.345283 2015-07-01\n",
       "          8        4.159511e+10      7.505784e+07  554.174043 2015-08-01\n",
       "          9        3.837479e+10      6.971716e+07  550.435332 2015-09-01\n",
       "          10       3.023574e+10      6.177795e+07  489.426034 2015-10-01\n",
       "          11       2.935812e+10      6.109637e+07  480.521521 2015-11-01\n",
       "          12       2.883434e+10      6.308340e+07  457.082838 2015-12-01\n",
       "     2016 1        3.626499e+10      7.411975e+07  489.275724 2016-01-01\n",
       "          2        3.226399e+10      6.618790e+07  487.460489 2016-02-01\n",
       "          3        2.617552e+10      6.120764e+07  427.651158 2016-03-01\n",
       "          4        2.656983e+10      5.762905e+07  461.049263 2016-04-01\n",
       "          5        2.706978e+10      6.038847e+07  448.260692 2016-05-01\n",
       "          6        3.520189e+10      6.987611e+07  503.775732 2016-06-01\n",
       "          7        4.294938e+10      8.074331e+07  531.924999 2016-07-01\n",
       "          8        4.409355e+10      8.366931e+07  526.997935 2016-08-01\n",
       "          9        3.513746e+10      6.976534e+07  503.652138 2016-09-01\n",
       "          10       2.906225e+10      6.198996e+07  468.821809 2016-10-01\n",
       "          11       2.727237e+10      6.111087e+07  446.276917 2016-11-01\n",
       "          12       3.530546e+10      7.224450e+07  488.694083 2016-12-01"
      ]
     },
     "execution_count": 221,
     "metadata": {},
     "output_type": "execute_result"
    }
   ],
   "source": [
    "nerc_index.loc[idx['RFC', [2015, 2016], :]]"
   ]
  },
  {
   "cell_type": "code",
   "execution_count": 149,
   "metadata": {},
   "outputs": [
    {
     "data": {
      "text/html": [
       "<div>\n",
       "<style>\n",
       "    .dataframe thead tr:only-child th {\n",
       "        text-align: right;\n",
       "    }\n",
       "\n",
       "    .dataframe thead th {\n",
       "        text-align: left;\n",
       "    }\n",
       "\n",
       "    .dataframe tbody tr th {\n",
       "        vertical-align: top;\n",
       "    }\n",
       "</style>\n",
       "<table border=\"1\" class=\"dataframe\">\n",
       "  <thead>\n",
       "    <tr style=\"text-align: right;\">\n",
       "      <th></th>\n",
       "      <th></th>\n",
       "      <th></th>\n",
       "      <th></th>\n",
       "      <th>generation (mwh)</th>\n",
       "      <th>total fuel (mmbtu)</th>\n",
       "      <th>elec fuel (mmbtu)</th>\n",
       "      <th>total co2 (kg)</th>\n",
       "      <th>elec co2 (kg)</th>\n",
       "    </tr>\n",
       "    <tr>\n",
       "      <th>year</th>\n",
       "      <th>nerc</th>\n",
       "      <th>month</th>\n",
       "      <th>type</th>\n",
       "      <th></th>\n",
       "      <th></th>\n",
       "      <th></th>\n",
       "      <th></th>\n",
       "      <th></th>\n",
       "    </tr>\n",
       "  </thead>\n",
       "  <tbody>\n",
       "    <tr>\n",
       "      <th rowspan=\"5\" valign=\"top\">2016</th>\n",
       "      <th rowspan=\"5\" valign=\"top\">-</th>\n",
       "      <th rowspan=\"5\" valign=\"top\">1</th>\n",
       "      <th>COW</th>\n",
       "      <td>41906.627497</td>\n",
       "      <td>1.191174e+06</td>\n",
       "      <td>282550.319599</td>\n",
       "      <td>1.134594e+08</td>\n",
       "      <td>2.691292e+07</td>\n",
       "    </tr>\n",
       "    <tr>\n",
       "      <th>HYC</th>\n",
       "      <td>41084.477887</td>\n",
       "      <td>NaN</td>\n",
       "      <td>NaN</td>\n",
       "      <td>NaN</td>\n",
       "      <td>NaN</td>\n",
       "    </tr>\n",
       "    <tr>\n",
       "      <th>NG</th>\n",
       "      <td>4616.426184</td>\n",
       "      <td>1.396837e+05</td>\n",
       "      <td>43306.395889</td>\n",
       "      <td>7.413013e+06</td>\n",
       "      <td>2.298270e+06</td>\n",
       "    </tr>\n",
       "    <tr>\n",
       "      <th>PEL</th>\n",
       "      <td>229.742217</td>\n",
       "      <td>1.099033e+03</td>\n",
       "      <td>965.454965</td>\n",
       "      <td>8.349906e+04</td>\n",
       "      <td>7.335044e+04</td>\n",
       "    </tr>\n",
       "    <tr>\n",
       "      <th>WND</th>\n",
       "      <td>1154.326185</td>\n",
       "      <td>NaN</td>\n",
       "      <td>NaN</td>\n",
       "      <td>NaN</td>\n",
       "      <td>NaN</td>\n",
       "    </tr>\n",
       "  </tbody>\n",
       "</table>\n",
       "</div>"
      ],
      "text/plain": [
       "                      generation (mwh)  total fuel (mmbtu)  elec fuel (mmbtu)  \\\n",
       "year nerc month type                                                            \n",
       "2016 -    1     COW       41906.627497        1.191174e+06      282550.319599   \n",
       "                HYC       41084.477887                 NaN                NaN   \n",
       "                NG         4616.426184        1.396837e+05       43306.395889   \n",
       "                PEL         229.742217        1.099033e+03         965.454965   \n",
       "                WND        1154.326185                 NaN                NaN   \n",
       "\n",
       "                      total co2 (kg)  elec co2 (kg)  \n",
       "year nerc month type                                 \n",
       "2016 -    1     COW     1.134594e+08   2.691292e+07  \n",
       "                HYC              NaN            NaN  \n",
       "                NG      7.413013e+06   2.298270e+06  \n",
       "                PEL     8.349906e+04   7.335044e+04  \n",
       "                WND              NaN            NaN  "
      ]
     },
     "execution_count": 149,
     "metadata": {},
     "output_type": "execute_result"
    }
   ],
   "source": [
    "extra_nerc.head()"
   ]
  },
  {
   "cell_type": "code",
   "execution_count": 151,
   "metadata": {},
   "outputs": [
    {
     "data": {
      "text/html": [
       "<div>\n",
       "<style>\n",
       "    .dataframe thead tr:only-child th {\n",
       "        text-align: right;\n",
       "    }\n",
       "\n",
       "    .dataframe thead th {\n",
       "        text-align: left;\n",
       "    }\n",
       "\n",
       "    .dataframe tbody tr th {\n",
       "        vertical-align: top;\n",
       "    }\n",
       "</style>\n",
       "<table border=\"1\" class=\"dataframe\">\n",
       "  <thead>\n",
       "    <tr style=\"text-align: right;\">\n",
       "      <th></th>\n",
       "      <th>generation (mwh)</th>\n",
       "      <th>total fuel (mmbtu)</th>\n",
       "      <th>elec fuel (mmbtu)</th>\n",
       "      <th>total co2 (kg)</th>\n",
       "      <th>elec co2 (kg)</th>\n",
       "    </tr>\n",
       "    <tr>\n",
       "      <th>month</th>\n",
       "      <th></th>\n",
       "      <th></th>\n",
       "      <th></th>\n",
       "      <th></th>\n",
       "      <th></th>\n",
       "    </tr>\n",
       "  </thead>\n",
       "  <tbody>\n",
       "    <tr>\n",
       "      <th>1</th>\n",
       "      <td>2.975293e+06</td>\n",
       "      <td>2.654826e+07</td>\n",
       "      <td>1.746824e+07</td>\n",
       "      <td>1.851243e+09</td>\n",
       "      <td>1.240129e+09</td>\n",
       "    </tr>\n",
       "    <tr>\n",
       "      <th>2</th>\n",
       "      <td>2.330573e+06</td>\n",
       "      <td>2.369033e+07</td>\n",
       "      <td>1.400473e+07</td>\n",
       "      <td>1.707539e+09</td>\n",
       "      <td>1.016863e+09</td>\n",
       "    </tr>\n",
       "    <tr>\n",
       "      <th>3</th>\n",
       "      <td>2.348359e+06</td>\n",
       "      <td>2.398724e+07</td>\n",
       "      <td>1.417536e+07</td>\n",
       "      <td>1.691622e+09</td>\n",
       "      <td>9.937365e+08</td>\n",
       "    </tr>\n",
       "    <tr>\n",
       "      <th>4</th>\n",
       "      <td>2.174804e+06</td>\n",
       "      <td>2.102326e+07</td>\n",
       "      <td>1.268165e+07</td>\n",
       "      <td>1.456520e+09</td>\n",
       "      <td>8.732754e+08</td>\n",
       "    </tr>\n",
       "    <tr>\n",
       "      <th>5</th>\n",
       "      <td>2.278637e+06</td>\n",
       "      <td>2.194446e+07</td>\n",
       "      <td>1.359598e+07</td>\n",
       "      <td>1.537301e+09</td>\n",
       "      <td>9.452902e+08</td>\n",
       "    </tr>\n",
       "    <tr>\n",
       "      <th>6</th>\n",
       "      <td>2.633743e+06</td>\n",
       "      <td>2.501806e+07</td>\n",
       "      <td>1.638540e+07</td>\n",
       "      <td>1.766071e+09</td>\n",
       "      <td>1.153384e+09</td>\n",
       "    </tr>\n",
       "    <tr>\n",
       "      <th>7</th>\n",
       "      <td>3.049505e+06</td>\n",
       "      <td>2.975092e+07</td>\n",
       "      <td>2.038828e+07</td>\n",
       "      <td>2.046732e+09</td>\n",
       "      <td>1.396636e+09</td>\n",
       "    </tr>\n",
       "    <tr>\n",
       "      <th>8</th>\n",
       "      <td>3.174413e+06</td>\n",
       "      <td>3.092805e+07</td>\n",
       "      <td>2.145855e+07</td>\n",
       "      <td>2.112901e+09</td>\n",
       "      <td>1.458313e+09</td>\n",
       "    </tr>\n",
       "    <tr>\n",
       "      <th>9</th>\n",
       "      <td>2.474695e+06</td>\n",
       "      <td>2.455273e+07</td>\n",
       "      <td>1.621045e+07</td>\n",
       "      <td>1.703640e+09</td>\n",
       "      <td>1.127224e+09</td>\n",
       "    </tr>\n",
       "    <tr>\n",
       "      <th>10</th>\n",
       "      <td>2.012946e+06</td>\n",
       "      <td>2.071169e+07</td>\n",
       "      <td>1.250891e+07</td>\n",
       "      <td>1.474052e+09</td>\n",
       "      <td>8.773869e+08</td>\n",
       "    </tr>\n",
       "    <tr>\n",
       "      <th>11</th>\n",
       "      <td>2.010420e+06</td>\n",
       "      <td>2.100414e+07</td>\n",
       "      <td>1.291635e+07</td>\n",
       "      <td>1.479431e+09</td>\n",
       "      <td>9.196113e+08</td>\n",
       "    </tr>\n",
       "    <tr>\n",
       "      <th>12</th>\n",
       "      <td>2.319937e+06</td>\n",
       "      <td>2.419603e+07</td>\n",
       "      <td>1.524913e+07</td>\n",
       "      <td>1.740267e+09</td>\n",
       "      <td>1.109141e+09</td>\n",
       "    </tr>\n",
       "  </tbody>\n",
       "</table>\n",
       "</div>"
      ],
      "text/plain": [
       "       generation (mwh)  total fuel (mmbtu)  elec fuel (mmbtu)  \\\n",
       "month                                                            \n",
       "1          2.975293e+06        2.654826e+07       1.746824e+07   \n",
       "2          2.330573e+06        2.369033e+07       1.400473e+07   \n",
       "3          2.348359e+06        2.398724e+07       1.417536e+07   \n",
       "4          2.174804e+06        2.102326e+07       1.268165e+07   \n",
       "5          2.278637e+06        2.194446e+07       1.359598e+07   \n",
       "6          2.633743e+06        2.501806e+07       1.638540e+07   \n",
       "7          3.049505e+06        2.975092e+07       2.038828e+07   \n",
       "8          3.174413e+06        3.092805e+07       2.145855e+07   \n",
       "9          2.474695e+06        2.455273e+07       1.621045e+07   \n",
       "10         2.012946e+06        2.071169e+07       1.250891e+07   \n",
       "11         2.010420e+06        2.100414e+07       1.291635e+07   \n",
       "12         2.319937e+06        2.419603e+07       1.524913e+07   \n",
       "\n",
       "       total co2 (kg)  elec co2 (kg)  \n",
       "month                                 \n",
       "1        1.851243e+09   1.240129e+09  \n",
       "2        1.707539e+09   1.016863e+09  \n",
       "3        1.691622e+09   9.937365e+08  \n",
       "4        1.456520e+09   8.732754e+08  \n",
       "5        1.537301e+09   9.452902e+08  \n",
       "6        1.766071e+09   1.153384e+09  \n",
       "7        2.046732e+09   1.396636e+09  \n",
       "8        2.112901e+09   1.458313e+09  \n",
       "9        1.703640e+09   1.127224e+09  \n",
       "10       1.474052e+09   8.773869e+08  \n",
       "11       1.479431e+09   9.196113e+08  \n",
       "12       1.740267e+09   1.109141e+09  "
      ]
     },
     "execution_count": 151,
     "metadata": {},
     "output_type": "execute_result"
    }
   ],
   "source": [
    "extra_nerc.loc[idx[[2015, 2016], 'RFC', :, :]].groupby(['month']).sum()"
   ]
  },
  {
   "cell_type": "code",
   "execution_count": null,
   "metadata": {
    "collapsed": true
   },
   "outputs": [],
   "source": []
  }
 ],
 "metadata": {
  "kernelspec": {
   "display_name": "Python [default]",
   "language": "python",
   "name": "python3"
  },
  "language_info": {
   "codemirror_mode": {
    "name": "ipython",
    "version": 3
   },
   "file_extension": ".py",
   "mimetype": "text/x-python",
   "name": "python",
   "nbconvert_exporter": "python",
   "pygments_lexer": "ipython3",
   "version": "3.6.2"
  },
  "varInspector": {
   "cols": {
    "lenName": 16,
    "lenType": 16,
    "lenVar": 40
   },
   "kernels_config": {
    "python": {
     "delete_cmd_postfix": "",
     "delete_cmd_prefix": "del ",
     "library": "var_list.py",
     "varRefreshCmd": "print(var_dic_list())"
    },
    "r": {
     "delete_cmd_postfix": ") ",
     "delete_cmd_prefix": "rm(",
     "library": "var_list.r",
     "varRefreshCmd": "cat(var_dic_list()) "
    }
   },
   "types_to_exclude": [
    "module",
    "function",
    "builtin_function_or_method",
    "instance",
    "_Feature"
   ],
   "window_display": false
  }
 },
 "nbformat": 4,
 "nbformat_minor": 2
}
