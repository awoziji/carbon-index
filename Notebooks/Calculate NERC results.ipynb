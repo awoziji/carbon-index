{
 "cells": [
  {
   "cell_type": "code",
   "execution_count": 1,
   "metadata": {
    "ExecuteTime": {
     "end_time": "2017-11-06T17:27:29.210505Z",
     "start_time": "2017-11-06T17:27:27.751371Z"
    },
    "collapsed": true
   },
   "outputs": [],
   "source": [
    "%matplotlib inline\n",
    "import matplotlib.pyplot as plt\n",
    "import seaborn as sns\n",
    "import pandas as pd\n",
    "import numpy as np\n",
    "import os\n",
    "from os.path import join\n",
    "import sys\n",
    "import json\n",
    "idx = pd.IndexSlice"
   ]
  },
  {
   "cell_type": "markdown",
   "metadata": {},
   "source": [
    "### Date string for filenames\n",
    "This will be inserted into all filenames (reading and writing)"
   ]
  },
  {
   "cell_type": "code",
   "execution_count": 2,
   "metadata": {},
   "outputs": [],
   "source": [
    "file_date = '2018-03-06'"
   ]
  },
  {
   "cell_type": "code",
   "execution_count": 3,
   "metadata": {
    "ExecuteTime": {
     "end_time": "2017-11-06T17:27:29.234050Z",
     "start_time": "2017-11-06T17:27:29.212202Z"
    },
    "collapsed": true
   },
   "outputs": [],
   "source": [
    "%load_ext watermark"
   ]
  },
  {
   "cell_type": "code",
   "execution_count": 4,
   "metadata": {
    "ExecuteTime": {
     "end_time": "2017-11-06T17:27:29.257707Z",
     "start_time": "2017-11-06T17:27:29.241283Z"
    }
   },
   "outputs": [
    {
     "name": "stdout",
     "output_type": "stream",
     "text": [
      "seaborn     0.8.1\n",
      "pandas      0.22.0\n",
      "numpy       1.14.1\n",
      "json        2.0.9\n",
      "CPython 3.6.4\n",
      "IPython 6.2.1\n"
     ]
    }
   ],
   "source": [
    "%watermark -v -iv"
   ]
  },
  {
   "cell_type": "code",
   "execution_count": 5,
   "metadata": {
    "ExecuteTime": {
     "end_time": "2017-11-06T17:27:29.305341Z",
     "start_time": "2017-11-06T17:27:29.260163Z"
    },
    "collapsed": true
   },
   "outputs": [],
   "source": [
    "# Load the \"autoreload\" extension\n",
    "%load_ext autoreload\n",
    "\n",
    "# always reload modules marked with \"%aimport\"\n",
    "%autoreload 1"
   ]
  },
  {
   "cell_type": "code",
   "execution_count": 6,
   "metadata": {
    "ExecuteTime": {
     "end_time": "2017-11-06T17:27:29.314381Z",
     "start_time": "2017-11-06T17:27:29.307927Z"
    },
    "collapsed": true
   },
   "outputs": [],
   "source": [
    "# add the 'src' directory as one where we can import modules\n",
    "src_dir = join(os.getcwd(), os.pardir, 'src')\n",
    "sys.path.append(src_dir)"
   ]
  },
  {
   "cell_type": "code",
   "execution_count": 7,
   "metadata": {
    "ExecuteTime": {
     "end_time": "2017-11-06T17:27:29.351484Z",
     "start_time": "2017-11-06T17:27:29.318977Z"
    },
    "collapsed": true
   },
   "outputs": [],
   "source": [
    "%aimport Data.make_data\n",
    "from Data.make_data import states_in_nerc\n",
    "%aimport Analysis.index\n",
    "from Analysis.index import facility_emission_gen, group_facility_data\n",
    "%aimport Analysis.index\n",
    "from Analysis.index import facility_co2, adjust_epa_emissions, group_fuel_cats\n",
    "from Analysis.index import reduce_emission_factors, add_datetime\n",
    "%aimport util.utils\n",
    "from util.utils import rename_cols, add_facility_location"
   ]
  },
  {
   "cell_type": "markdown",
   "metadata": {},
   "source": [
    "## Extra NERC emissions and generation"
   ]
  },
  {
   "cell_type": "markdown",
   "metadata": {},
   "source": [
    "### Load extra NERC generation and fuel consumption"
   ]
  },
  {
   "cell_type": "code",
   "execution_count": 8,
   "metadata": {
    "ExecuteTime": {
     "end_time": "2017-11-06T17:27:29.374809Z",
     "start_time": "2017-11-06T17:27:29.354370Z"
    },
    "collapsed": true
   },
   "outputs": [],
   "source": [
    "cwd = os.getcwd()\n",
    "path = join(cwd, '..', 'Data storage', 'Derived data',\n",
    "            'NERC extra gen fuels {}.csv'.format(file_date))\n",
    "extra_nerc = pd.read_csv(path, index_col=[0, 1, 2, 3])"
   ]
  },
  {
   "cell_type": "code",
   "execution_count": 9,
   "metadata": {
    "ExecuteTime": {
     "end_time": "2017-11-06T17:27:29.403459Z",
     "start_time": "2017-11-06T17:27:29.377637Z"
    }
   },
   "outputs": [
    {
     "data": {
      "text/html": [
       "<div>\n",
       "<style scoped>\n",
       "    .dataframe tbody tr th:only-of-type {\n",
       "        vertical-align: middle;\n",
       "    }\n",
       "\n",
       "    .dataframe tbody tr th {\n",
       "        vertical-align: top;\n",
       "    }\n",
       "\n",
       "    .dataframe thead th {\n",
       "        text-align: right;\n",
       "    }\n",
       "</style>\n",
       "<table border=\"1\" class=\"dataframe\">\n",
       "  <thead>\n",
       "    <tr style=\"text-align: right;\">\n",
       "      <th></th>\n",
       "      <th></th>\n",
       "      <th></th>\n",
       "      <th></th>\n",
       "      <th>generation (mwh)</th>\n",
       "      <th>total fuel (mmbtu)</th>\n",
       "      <th>elec fuel (mmbtu)</th>\n",
       "    </tr>\n",
       "    <tr>\n",
       "      <th>year</th>\n",
       "      <th>nerc</th>\n",
       "      <th>month</th>\n",
       "      <th>type</th>\n",
       "      <th></th>\n",
       "      <th></th>\n",
       "      <th></th>\n",
       "    </tr>\n",
       "  </thead>\n",
       "  <tbody>\n",
       "    <tr>\n",
       "      <th rowspan=\"5\" valign=\"top\">2016</th>\n",
       "      <th rowspan=\"5\" valign=\"top\">FRCC</th>\n",
       "      <th rowspan=\"5\" valign=\"top\">1</th>\n",
       "      <th>COW</th>\n",
       "      <td>0.004112</td>\n",
       "      <td>2.668777e+00</td>\n",
       "      <td>-1.346289e+00</td>\n",
       "    </tr>\n",
       "    <tr>\n",
       "      <th>HYC</th>\n",
       "      <td>0.002000</td>\n",
       "      <td>-3.253440e+05</td>\n",
       "      <td>-3.253440e+05</td>\n",
       "    </tr>\n",
       "    <tr>\n",
       "      <th>NG</th>\n",
       "      <td>0.002867</td>\n",
       "      <td>-1.883063e+00</td>\n",
       "      <td>1.916231e+00</td>\n",
       "    </tr>\n",
       "    <tr>\n",
       "      <th>OTH</th>\n",
       "      <td>0.000975</td>\n",
       "      <td>-3.980957e+06</td>\n",
       "      <td>-3.690502e+06</td>\n",
       "    </tr>\n",
       "    <tr>\n",
       "      <th>PEL</th>\n",
       "      <td>0.001999</td>\n",
       "      <td>-3.999099e+00</td>\n",
       "      <td>9.995208e-01</td>\n",
       "    </tr>\n",
       "  </tbody>\n",
       "</table>\n",
       "</div>"
      ],
      "text/plain": [
       "                      generation (mwh)  total fuel (mmbtu)  elec fuel (mmbtu)\n",
       "year nerc month type                                                         \n",
       "2016 FRCC 1     COW           0.004112        2.668777e+00      -1.346289e+00\n",
       "                HYC           0.002000       -3.253440e+05      -3.253440e+05\n",
       "                NG            0.002867       -1.883063e+00       1.916231e+00\n",
       "                OTH           0.000975       -3.980957e+06      -3.690502e+06\n",
       "                PEL           0.001999       -3.999099e+00       9.995208e-01"
      ]
     },
     "execution_count": 9,
     "metadata": {},
     "output_type": "execute_result"
    }
   ],
   "source": [
    "extra_nerc.head()"
   ]
  },
  {
   "cell_type": "markdown",
   "metadata": {},
   "source": [
    "### Load emission factors"
   ]
  },
  {
   "cell_type": "code",
   "execution_count": 10,
   "metadata": {
    "ExecuteTime": {
     "end_time": "2017-11-06T17:27:29.414840Z",
     "start_time": "2017-11-06T17:27:29.406038Z"
    },
    "collapsed": true
   },
   "outputs": [],
   "source": [
    "path = join(cwd, '..', 'Data storage', 'Final emission factors.csv')\n",
    "ef = pd.read_csv(path, index_col=0)"
   ]
  },
  {
   "cell_type": "code",
   "execution_count": 11,
   "metadata": {
    "ExecuteTime": {
     "end_time": "2017-11-06T17:27:29.438342Z",
     "start_time": "2017-11-06T17:27:29.417815Z"
    }
   },
   "outputs": [
    {
     "data": {
      "text/html": [
       "<div>\n",
       "<style scoped>\n",
       "    .dataframe tbody tr th:only-of-type {\n",
       "        vertical-align: middle;\n",
       "    }\n",
       "\n",
       "    .dataframe tbody tr th {\n",
       "        vertical-align: top;\n",
       "    }\n",
       "\n",
       "    .dataframe thead th {\n",
       "        text-align: right;\n",
       "    }\n",
       "</style>\n",
       "<table border=\"1\" class=\"dataframe\">\n",
       "  <thead>\n",
       "    <tr style=\"text-align: right;\">\n",
       "      <th></th>\n",
       "      <th>Fuel</th>\n",
       "      <th>Fossil Factor</th>\n",
       "      <th>Notes</th>\n",
       "      <th>Link</th>\n",
       "      <th>Total Factor</th>\n",
       "    </tr>\n",
       "    <tr>\n",
       "      <th>EIA Fuel Code</th>\n",
       "      <th></th>\n",
       "      <th></th>\n",
       "      <th></th>\n",
       "      <th></th>\n",
       "      <th></th>\n",
       "    </tr>\n",
       "  </thead>\n",
       "  <tbody>\n",
       "    <tr>\n",
       "      <th>BIT</th>\n",
       "      <td>Bituminous Coal</td>\n",
       "      <td>93.30</td>\n",
       "      <td>NaN</td>\n",
       "      <td>https://www.eia.gov/electricity/annual/html/ep...</td>\n",
       "      <td>93.30</td>\n",
       "    </tr>\n",
       "    <tr>\n",
       "      <th>DFO</th>\n",
       "      <td>Distillate Fuel Oil</td>\n",
       "      <td>73.16</td>\n",
       "      <td>NaN</td>\n",
       "      <td>https://www.eia.gov/electricity/annual/html/ep...</td>\n",
       "      <td>73.16</td>\n",
       "    </tr>\n",
       "    <tr>\n",
       "      <th>GEO</th>\n",
       "      <td>Geothermal</td>\n",
       "      <td>7.71</td>\n",
       "      <td>NaN</td>\n",
       "      <td>https://www.eia.gov/electricity/annual/html/ep...</td>\n",
       "      <td>7.71</td>\n",
       "    </tr>\n",
       "    <tr>\n",
       "      <th>JF</th>\n",
       "      <td>Jet Fuel</td>\n",
       "      <td>70.90</td>\n",
       "      <td>NaN</td>\n",
       "      <td>https://www.eia.gov/electricity/annual/html/ep...</td>\n",
       "      <td>70.90</td>\n",
       "    </tr>\n",
       "    <tr>\n",
       "      <th>KER</th>\n",
       "      <td>Kerosene</td>\n",
       "      <td>72.30</td>\n",
       "      <td>NaN</td>\n",
       "      <td>https://www.eia.gov/electricity/annual/html/ep...</td>\n",
       "      <td>72.30</td>\n",
       "    </tr>\n",
       "  </tbody>\n",
       "</table>\n",
       "</div>"
      ],
      "text/plain": [
       "                              Fuel  Fossil Factor Notes  \\\n",
       "EIA Fuel Code                                             \n",
       "BIT                Bituminous Coal          93.30   NaN   \n",
       "DFO            Distillate Fuel Oil          73.16   NaN   \n",
       "GEO                     Geothermal           7.71   NaN   \n",
       "JF                        Jet Fuel          70.90   NaN   \n",
       "KER                       Kerosene          72.30   NaN   \n",
       "\n",
       "                                                            Link  Total Factor  \n",
       "EIA Fuel Code                                                                   \n",
       "BIT            https://www.eia.gov/electricity/annual/html/ep...         93.30  \n",
       "DFO            https://www.eia.gov/electricity/annual/html/ep...         73.16  \n",
       "GEO            https://www.eia.gov/electricity/annual/html/ep...          7.71  \n",
       "JF             https://www.eia.gov/electricity/annual/html/ep...         70.90  \n",
       "KER            https://www.eia.gov/electricity/annual/html/ep...         72.30  "
      ]
     },
     "execution_count": 11,
     "metadata": {},
     "output_type": "execute_result"
    }
   ],
   "source": [
    "ef.head()"
   ]
  },
  {
   "cell_type": "code",
   "execution_count": 12,
   "metadata": {
    "ExecuteTime": {
     "end_time": "2017-11-06T17:27:29.448755Z",
     "start_time": "2017-11-06T17:27:29.441287Z"
    },
    "collapsed": true
   },
   "outputs": [],
   "source": [
    "ef_type = reduce_emission_factors(ef)"
   ]
  },
  {
   "cell_type": "code",
   "execution_count": 13,
   "metadata": {
    "ExecuteTime": {
     "end_time": "2017-11-06T17:27:29.460547Z",
     "start_time": "2017-11-06T17:27:29.451228Z"
    }
   },
   "outputs": [
    {
     "data": {
      "text/plain": [
       "COW     95.250\n",
       "NG      53.070\n",
       "OOG     59.000\n",
       "PC     102.100\n",
       "PEL     75.975\n",
       "Name: type, dtype: float64"
      ]
     },
     "execution_count": 13,
     "metadata": {},
     "output_type": "execute_result"
    }
   ],
   "source": [
    "ef_type = pd.Series(ef_type, name='type')\n",
    "ef_type"
   ]
  },
  {
   "cell_type": "markdown",
   "metadata": {},
   "source": [
    "### Calculate CO₂ emissions"
   ]
  },
  {
   "cell_type": "code",
   "execution_count": 14,
   "metadata": {
    "ExecuteTime": {
     "end_time": "2017-11-06T17:27:29.483194Z",
     "start_time": "2017-11-06T17:27:29.463567Z"
    },
    "collapsed": true
   },
   "outputs": [],
   "source": [
    "extra_nerc.loc[:, 'total co2 (kg)'] = (extra_nerc\n",
    "                                       .loc[:, 'total fuel (mmbtu)']\n",
    "                                       .multiply(ef_type, 'type'))\n",
    "extra_nerc.loc[:, 'elec co2 (kg)'] = (extra_nerc\n",
    "                                       .loc[:, 'elec fuel (mmbtu)']\n",
    "                                       .multiply(ef_type, 'type'))"
   ]
  },
  {
   "cell_type": "code",
   "execution_count": 15,
   "metadata": {
    "ExecuteTime": {
     "end_time": "2017-11-06T17:27:29.515226Z",
     "start_time": "2017-11-06T17:27:29.486122Z"
    }
   },
   "outputs": [
    {
     "data": {
      "text/html": [
       "<div>\n",
       "<style scoped>\n",
       "    .dataframe tbody tr th:only-of-type {\n",
       "        vertical-align: middle;\n",
       "    }\n",
       "\n",
       "    .dataframe tbody tr th {\n",
       "        vertical-align: top;\n",
       "    }\n",
       "\n",
       "    .dataframe thead th {\n",
       "        text-align: right;\n",
       "    }\n",
       "</style>\n",
       "<table border=\"1\" class=\"dataframe\">\n",
       "  <thead>\n",
       "    <tr style=\"text-align: right;\">\n",
       "      <th></th>\n",
       "      <th></th>\n",
       "      <th></th>\n",
       "      <th></th>\n",
       "      <th>generation (mwh)</th>\n",
       "      <th>total fuel (mmbtu)</th>\n",
       "      <th>elec fuel (mmbtu)</th>\n",
       "      <th>total co2 (kg)</th>\n",
       "      <th>elec co2 (kg)</th>\n",
       "    </tr>\n",
       "    <tr>\n",
       "      <th>year</th>\n",
       "      <th>nerc</th>\n",
       "      <th>month</th>\n",
       "      <th>type</th>\n",
       "      <th></th>\n",
       "      <th></th>\n",
       "      <th></th>\n",
       "      <th></th>\n",
       "      <th></th>\n",
       "    </tr>\n",
       "  </thead>\n",
       "  <tbody>\n",
       "    <tr>\n",
       "      <th rowspan=\"5\" valign=\"top\">2016</th>\n",
       "      <th rowspan=\"5\" valign=\"top\">FRCC</th>\n",
       "      <th rowspan=\"5\" valign=\"top\">1</th>\n",
       "      <th>COW</th>\n",
       "      <td>0.004112</td>\n",
       "      <td>2.668777e+00</td>\n",
       "      <td>-1.346289e+00</td>\n",
       "      <td>254.201050</td>\n",
       "      <td>-128.233995</td>\n",
       "    </tr>\n",
       "    <tr>\n",
       "      <th>HYC</th>\n",
       "      <td>0.002000</td>\n",
       "      <td>-3.253440e+05</td>\n",
       "      <td>-3.253440e+05</td>\n",
       "      <td>NaN</td>\n",
       "      <td>NaN</td>\n",
       "    </tr>\n",
       "    <tr>\n",
       "      <th>NG</th>\n",
       "      <td>0.002867</td>\n",
       "      <td>-1.883063e+00</td>\n",
       "      <td>1.916231e+00</td>\n",
       "      <td>-99.934141</td>\n",
       "      <td>101.694366</td>\n",
       "    </tr>\n",
       "    <tr>\n",
       "      <th>OTH</th>\n",
       "      <td>0.000975</td>\n",
       "      <td>-3.980957e+06</td>\n",
       "      <td>-3.690502e+06</td>\n",
       "      <td>NaN</td>\n",
       "      <td>NaN</td>\n",
       "    </tr>\n",
       "    <tr>\n",
       "      <th>PEL</th>\n",
       "      <td>0.001999</td>\n",
       "      <td>-3.999099e+00</td>\n",
       "      <td>9.995208e-01</td>\n",
       "      <td>-303.831527</td>\n",
       "      <td>75.938596</td>\n",
       "    </tr>\n",
       "  </tbody>\n",
       "</table>\n",
       "</div>"
      ],
      "text/plain": [
       "                      generation (mwh)  total fuel (mmbtu)  elec fuel (mmbtu)  \\\n",
       "year nerc month type                                                            \n",
       "2016 FRCC 1     COW           0.004112        2.668777e+00      -1.346289e+00   \n",
       "                HYC           0.002000       -3.253440e+05      -3.253440e+05   \n",
       "                NG            0.002867       -1.883063e+00       1.916231e+00   \n",
       "                OTH           0.000975       -3.980957e+06      -3.690502e+06   \n",
       "                PEL           0.001999       -3.999099e+00       9.995208e-01   \n",
       "\n",
       "                      total co2 (kg)  elec co2 (kg)  \n",
       "year nerc month type                                 \n",
       "2016 FRCC 1     COW       254.201050    -128.233995  \n",
       "                HYC              NaN            NaN  \n",
       "                NG        -99.934141     101.694366  \n",
       "                OTH              NaN            NaN  \n",
       "                PEL      -303.831527      75.938596  "
      ]
     },
     "execution_count": 15,
     "metadata": {},
     "output_type": "execute_result"
    }
   ],
   "source": [
    "extra_nerc.sort_index(inplace=True)\n",
    "extra_nerc.head()"
   ]
  },
  {
   "cell_type": "markdown",
   "metadata": {},
   "source": [
    "## Facilities by NERC"
   ]
  },
  {
   "cell_type": "code",
   "execution_count": 16,
   "metadata": {
    "ExecuteTime": {
     "end_time": "2017-11-06T17:27:51.521345Z",
     "start_time": "2017-11-06T17:27:51.510547Z"
    },
    "collapsed": true
   },
   "outputs": [],
   "source": [
    "%aimport Analysis.state2nerc\n",
    "from Analysis.state2nerc import fraction_state2nerc, add_region"
   ]
  },
  {
   "cell_type": "code",
   "execution_count": 17,
   "metadata": {
    "ExecuteTime": {
     "end_time": "2017-11-06T17:27:51.550854Z",
     "start_time": "2017-11-06T17:27:51.526120Z"
    },
    "collapsed": true
   },
   "outputs": [],
   "source": [
    "fuel_cat_folder = join(cwd, '..', 'Data storage', 'Fuel categories')\n",
    "state_cats_path = join(fuel_cat_folder, 'State_facility.json')\n",
    "\n",
    "with open(state_cats_path, 'r') as f:\n",
    "    state_fuel_cat = json.load(f)\n",
    "    \n",
    "custom_cats_path = join(fuel_cat_folder, 'Custom_results.json')\n",
    "with open(custom_cats_path, 'r') as f:\n",
    "    custom_fuel_cat = json.load(f)"
   ]
  },
  {
   "cell_type": "code",
   "execution_count": 18,
   "metadata": {
    "ExecuteTime": {
     "end_time": "2017-11-06T17:27:52.031911Z",
     "start_time": "2017-11-06T17:27:51.555342Z"
    },
    "collapsed": true
   },
   "outputs": [],
   "source": [
    "path = join(cwd, '..', 'Data storage', 'Derived data',\n",
    "            'Monthly EPA emissions {}.csv'.format(file_date))\n",
    "epa = pd.read_csv(path)"
   ]
  },
  {
   "cell_type": "code",
   "execution_count": 19,
   "metadata": {
    "ExecuteTime": {
     "end_time": "2017-11-06T17:27:52.056983Z",
     "start_time": "2017-11-06T17:27:52.034133Z"
    },
    "collapsed": true
   },
   "outputs": [],
   "source": [
    "path = join(cwd, '..', 'Data storage', 'Facility labels',\n",
    "            'Facility locations_knn.csv')\n",
    "facility_labels = pd.read_csv(path)"
   ]
  },
  {
   "cell_type": "code",
   "execution_count": 20,
   "metadata": {
    "ExecuteTime": {
     "end_time": "2017-11-06T17:27:59.157939Z",
     "start_time": "2017-11-06T17:27:52.060055Z"
    },
    "collapsed": true
   },
   "outputs": [],
   "source": [
    "path = join(cwd, '..', 'Data storage', 'Derived data',\n",
    "            'Facility gen fuels and CO2 {}.csv'.format(file_date))\n",
    "eia_fac = pd.read_csv(path)"
   ]
  },
  {
   "cell_type": "code",
   "execution_count": 21,
   "metadata": {
    "ExecuteTime": {
     "end_time": "2017-11-06T17:27:59.204112Z",
     "start_time": "2017-11-06T17:27:59.159784Z"
    }
   },
   "outputs": [
    {
     "data": {
      "text/html": [
       "<div>\n",
       "<style scoped>\n",
       "    .dataframe tbody tr th:only-of-type {\n",
       "        vertical-align: middle;\n",
       "    }\n",
       "\n",
       "    .dataframe tbody tr th {\n",
       "        vertical-align: top;\n",
       "    }\n",
       "\n",
       "    .dataframe thead th {\n",
       "        text-align: right;\n",
       "    }\n",
       "</style>\n",
       "<table border=\"1\" class=\"dataframe\">\n",
       "  <thead>\n",
       "    <tr style=\"text-align: right;\">\n",
       "      <th></th>\n",
       "      <th>f</th>\n",
       "      <th>fuel</th>\n",
       "      <th>month</th>\n",
       "      <th>plant id</th>\n",
       "      <th>total fuel (mmbtu)</th>\n",
       "      <th>year</th>\n",
       "      <th>generation (MWh)</th>\n",
       "      <th>elec fuel (mmbtu)</th>\n",
       "      <th>geography</th>\n",
       "      <th>last_updated</th>\n",
       "      <th>lat</th>\n",
       "      <th>lon</th>\n",
       "      <th>prime mover</th>\n",
       "      <th>datetime</th>\n",
       "      <th>quarter</th>\n",
       "      <th>all fuel fossil CO2 (kg)</th>\n",
       "      <th>elec fuel fossil CO2 (kg)</th>\n",
       "      <th>all fuel total CO2 (kg)</th>\n",
       "      <th>elec fuel total CO2 (kg)</th>\n",
       "    </tr>\n",
       "  </thead>\n",
       "  <tbody>\n",
       "    <tr>\n",
       "      <th>0</th>\n",
       "      <td>M</td>\n",
       "      <td>DFO</td>\n",
       "      <td>12</td>\n",
       "      <td>1001</td>\n",
       "      <td>1116.0</td>\n",
       "      <td>2017</td>\n",
       "      <td>114.587</td>\n",
       "      <td>1116.0</td>\n",
       "      <td>USA-IN</td>\n",
       "      <td>2018-02-28T02:03:13-05:00</td>\n",
       "      <td>39.9242</td>\n",
       "      <td>-87.4244</td>\n",
       "      <td>ALL</td>\n",
       "      <td>2017-12-01</td>\n",
       "      <td>4</td>\n",
       "      <td>81646.56</td>\n",
       "      <td>81646.56</td>\n",
       "      <td>81646.56</td>\n",
       "      <td>81646.56</td>\n",
       "    </tr>\n",
       "    <tr>\n",
       "      <th>1</th>\n",
       "      <td>M</td>\n",
       "      <td>DFO</td>\n",
       "      <td>11</td>\n",
       "      <td>1001</td>\n",
       "      <td>2772.0</td>\n",
       "      <td>2017</td>\n",
       "      <td>265.428</td>\n",
       "      <td>2772.0</td>\n",
       "      <td>USA-IN</td>\n",
       "      <td>2018-02-28T02:03:13-05:00</td>\n",
       "      <td>39.9242</td>\n",
       "      <td>-87.4244</td>\n",
       "      <td>ALL</td>\n",
       "      <td>2017-11-01</td>\n",
       "      <td>4</td>\n",
       "      <td>202799.52</td>\n",
       "      <td>202799.52</td>\n",
       "      <td>202799.52</td>\n",
       "      <td>202799.52</td>\n",
       "    </tr>\n",
       "    <tr>\n",
       "      <th>2</th>\n",
       "      <td>M</td>\n",
       "      <td>DFO</td>\n",
       "      <td>10</td>\n",
       "      <td>1001</td>\n",
       "      <td>4819.0</td>\n",
       "      <td>2017</td>\n",
       "      <td>460.695</td>\n",
       "      <td>4819.0</td>\n",
       "      <td>USA-IN</td>\n",
       "      <td>2018-02-28T02:03:13-05:00</td>\n",
       "      <td>39.9242</td>\n",
       "      <td>-87.4244</td>\n",
       "      <td>ALL</td>\n",
       "      <td>2017-10-01</td>\n",
       "      <td>4</td>\n",
       "      <td>352558.04</td>\n",
       "      <td>352558.04</td>\n",
       "      <td>352558.04</td>\n",
       "      <td>352558.04</td>\n",
       "    </tr>\n",
       "    <tr>\n",
       "      <th>3</th>\n",
       "      <td>M</td>\n",
       "      <td>DFO</td>\n",
       "      <td>9</td>\n",
       "      <td>1001</td>\n",
       "      <td>2720.0</td>\n",
       "      <td>2017</td>\n",
       "      <td>300.705</td>\n",
       "      <td>2720.0</td>\n",
       "      <td>USA-IN</td>\n",
       "      <td>2018-02-28T02:03:13-05:00</td>\n",
       "      <td>39.9242</td>\n",
       "      <td>-87.4244</td>\n",
       "      <td>ALL</td>\n",
       "      <td>2017-09-01</td>\n",
       "      <td>3</td>\n",
       "      <td>198995.20</td>\n",
       "      <td>198995.20</td>\n",
       "      <td>198995.20</td>\n",
       "      <td>198995.20</td>\n",
       "    </tr>\n",
       "    <tr>\n",
       "      <th>4</th>\n",
       "      <td>M</td>\n",
       "      <td>DFO</td>\n",
       "      <td>8</td>\n",
       "      <td>1001</td>\n",
       "      <td>6273.0</td>\n",
       "      <td>2017</td>\n",
       "      <td>609.358</td>\n",
       "      <td>6273.0</td>\n",
       "      <td>USA-IN</td>\n",
       "      <td>2018-02-28T02:03:13-05:00</td>\n",
       "      <td>39.9242</td>\n",
       "      <td>-87.4244</td>\n",
       "      <td>ALL</td>\n",
       "      <td>2017-08-01</td>\n",
       "      <td>3</td>\n",
       "      <td>458932.68</td>\n",
       "      <td>458932.68</td>\n",
       "      <td>458932.68</td>\n",
       "      <td>458932.68</td>\n",
       "    </tr>\n",
       "  </tbody>\n",
       "</table>\n",
       "</div>"
      ],
      "text/plain": [
       "   f fuel  month  plant id  total fuel (mmbtu)  year  generation (MWh)  \\\n",
       "0  M  DFO     12      1001              1116.0  2017           114.587   \n",
       "1  M  DFO     11      1001              2772.0  2017           265.428   \n",
       "2  M  DFO     10      1001              4819.0  2017           460.695   \n",
       "3  M  DFO      9      1001              2720.0  2017           300.705   \n",
       "4  M  DFO      8      1001              6273.0  2017           609.358   \n",
       "\n",
       "   elec fuel (mmbtu) geography               last_updated      lat      lon  \\\n",
       "0             1116.0    USA-IN  2018-02-28T02:03:13-05:00  39.9242 -87.4244   \n",
       "1             2772.0    USA-IN  2018-02-28T02:03:13-05:00  39.9242 -87.4244   \n",
       "2             4819.0    USA-IN  2018-02-28T02:03:13-05:00  39.9242 -87.4244   \n",
       "3             2720.0    USA-IN  2018-02-28T02:03:13-05:00  39.9242 -87.4244   \n",
       "4             6273.0    USA-IN  2018-02-28T02:03:13-05:00  39.9242 -87.4244   \n",
       "\n",
       "  prime mover    datetime  quarter  all fuel fossil CO2 (kg)  \\\n",
       "0         ALL  2017-12-01        4                  81646.56   \n",
       "1         ALL  2017-11-01        4                 202799.52   \n",
       "2         ALL  2017-10-01        4                 352558.04   \n",
       "3         ALL  2017-09-01        3                 198995.20   \n",
       "4         ALL  2017-08-01        3                 458932.68   \n",
       "\n",
       "   elec fuel fossil CO2 (kg)  all fuel total CO2 (kg)  \\\n",
       "0                   81646.56                 81646.56   \n",
       "1                  202799.52                202799.52   \n",
       "2                  352558.04                352558.04   \n",
       "3                  198995.20                198995.20   \n",
       "4                  458932.68                458932.68   \n",
       "\n",
       "   elec fuel total CO2 (kg)  \n",
       "0                  81646.56  \n",
       "1                 202799.52  \n",
       "2                 352558.04  \n",
       "3                 198995.20  \n",
       "4                 458932.68  "
      ]
     },
     "execution_count": 21,
     "metadata": {},
     "output_type": "execute_result"
    }
   ],
   "source": [
    "eia_fac.head()"
   ]
  },
  {
   "cell_type": "code",
   "execution_count": 22,
   "metadata": {
    "ExecuteTime": {
     "end_time": "2017-11-06T17:28:07.326534Z",
     "start_time": "2017-11-06T17:27:59.213972Z"
    }
   },
   "outputs": [
    {
     "name": "stdout",
     "output_type": "stream",
     "text": [
      "Renaming columns\n",
      "Grouping facilities\n",
      "Adjusting EPA emissions\n",
      "Caculating CO2\n",
      "Gen/fuels to state categories\n"
     ]
    }
   ],
   "source": [
    "co2, gen_fuels_state = facility_emission_gen(eia_facility=eia_fac, epa=epa,\n",
    "                                              state_fuel_cat=state_fuel_cat,\n",
    "                                              custom_fuel_cat=custom_fuel_cat,\n",
    "                                              export_state_cats=True)"
   ]
  },
  {
   "cell_type": "markdown",
   "metadata": {},
   "source": [
    "### Monthly CO₂ emissions"
   ]
  },
  {
   "cell_type": "code",
   "execution_count": 23,
   "metadata": {
    "ExecuteTime": {
     "end_time": "2017-11-06T17:28:07.609118Z",
     "start_time": "2017-11-06T17:28:07.331549Z"
    },
    "collapsed": true
   },
   "outputs": [],
   "source": [
    "co2 = add_facility_location(co2, facility_labels, labels=['lat', 'lon', 'state', 'nerc'])"
   ]
  },
  {
   "cell_type": "code",
   "execution_count": 24,
   "metadata": {
    "ExecuteTime": {
     "end_time": "2017-11-06T17:28:07.818065Z",
     "start_time": "2017-11-06T17:28:07.612075Z"
    },
    "collapsed": true
   },
   "outputs": [],
   "source": [
    "co2_nerc = co2.groupby(['year', 'nerc', 'month'])['final co2 (kg)'].sum()"
   ]
  },
  {
   "cell_type": "code",
   "execution_count": 25,
   "metadata": {
    "ExecuteTime": {
     "end_time": "2017-11-06T17:28:07.844186Z",
     "start_time": "2017-11-06T17:28:07.821841Z"
    }
   },
   "outputs": [
    {
     "data": {
      "text/plain": [
       "year  nerc  month\n",
       "2017  WECC  8        2.730900e+10\n",
       "            9        2.301635e+10\n",
       "            10       2.127247e+10\n",
       "            11       2.029870e+10\n",
       "            12       2.134598e+10\n",
       "Name: final co2 (kg), dtype: float64"
      ]
     },
     "execution_count": 25,
     "metadata": {},
     "output_type": "execute_result"
    }
   ],
   "source": [
    "co2_nerc.tail()"
   ]
  },
  {
   "cell_type": "markdown",
   "metadata": {},
   "source": [
    "### Monthly generation"
   ]
  },
  {
   "cell_type": "code",
   "execution_count": 26,
   "metadata": {
    "ExecuteTime": {
     "end_time": "2017-11-06T17:28:18.796370Z",
     "start_time": "2017-11-06T17:28:17.459668Z"
    }
   },
   "outputs": [
    {
     "data": {
      "text/plain": [
       "year  nerc  month  type\n",
       "2001  ASCC  1      COW      26493.302\n",
       "                   HYC     103940.302\n",
       "                   NG      314206.726\n",
       "                   PEL      64782.245\n",
       "                   WND         86.518\n",
       "Name: generation (mwh), dtype: float64"
      ]
     },
     "execution_count": 26,
     "metadata": {},
     "output_type": "execute_result"
    }
   ],
   "source": [
    "gen_fuels_nerc = add_facility_location(gen_fuels_state, facility_labels, labels=['nerc'])\n",
    "gen_fuels_nerc = (gen_fuels_nerc\n",
    "                  .groupby(['year', 'nerc', 'month', 'type'])\n",
    "                  ['generation (mwh)'].sum())\n",
    "gen_fuels_nerc.head()"
   ]
  },
  {
   "cell_type": "code",
   "execution_count": 27,
   "metadata": {
    "ExecuteTime": {
     "end_time": "2017-11-06T17:28:27.331731Z",
     "start_time": "2017-11-06T17:28:27.322299Z"
    }
   },
   "outputs": [
    {
     "data": {
      "text/plain": [
       "year  nerc  month  type\n",
       "2017  WECC  12     PEL       24138.457\n",
       "                   SUN      723979.000\n",
       "                   WAS      150435.111\n",
       "                   WND     1008289.000\n",
       "                   WWW      159861.530\n",
       "Name: generation (mwh), dtype: float64"
      ]
     },
     "execution_count": 27,
     "metadata": {},
     "output_type": "execute_result"
    }
   ],
   "source": [
    "gen_fuels_nerc.tail()"
   ]
  },
  {
   "cell_type": "code",
   "execution_count": 28,
   "metadata": {
    "ExecuteTime": {
     "end_time": "2017-11-06T17:28:27.347620Z",
     "start_time": "2017-11-06T17:28:27.333926Z"
    }
   },
   "outputs": [
    {
     "data": {
      "text/plain": [
       "year  nerc  month\n",
       "2015  NPCC  1        2.087961e+07\n",
       "            2        2.026406e+07\n",
       "            3        1.990096e+07\n",
       "            4        1.806322e+07\n",
       "            5        2.006970e+07\n",
       "            6        2.068304e+07\n",
       "            7        2.449400e+07\n",
       "            8        2.442134e+07\n",
       "            9        2.127549e+07\n",
       "            10       1.934880e+07\n",
       "            11       1.842305e+07\n",
       "            12       1.958938e+07\n",
       "Name: generation (mwh), dtype: float64"
      ]
     },
     "execution_count": 28,
     "metadata": {},
     "output_type": "execute_result"
    }
   ],
   "source": [
    "gen_fuels_nerc.loc[idx[2015, 'NPCC', :, :]].groupby(['year', 'nerc', 'month']).sum()"
   ]
  },
  {
   "cell_type": "markdown",
   "metadata": {},
   "source": [
    "## Combine generation"
   ]
  },
  {
   "cell_type": "code",
   "execution_count": 29,
   "metadata": {
    "ExecuteTime": {
     "end_time": "2017-11-06T17:28:51.800128Z",
     "start_time": "2017-11-06T17:28:51.780373Z"
    }
   },
   "outputs": [
    {
     "data": {
      "text/html": [
       "<div>\n",
       "<style scoped>\n",
       "    .dataframe tbody tr th:only-of-type {\n",
       "        vertical-align: middle;\n",
       "    }\n",
       "\n",
       "    .dataframe tbody tr th {\n",
       "        vertical-align: top;\n",
       "    }\n",
       "\n",
       "    .dataframe thead th {\n",
       "        text-align: right;\n",
       "    }\n",
       "</style>\n",
       "<table border=\"1\" class=\"dataframe\">\n",
       "  <thead>\n",
       "    <tr style=\"text-align: right;\">\n",
       "      <th></th>\n",
       "      <th></th>\n",
       "      <th></th>\n",
       "      <th></th>\n",
       "      <th>generation (mwh)</th>\n",
       "      <th>total fuel (mmbtu)</th>\n",
       "      <th>elec fuel (mmbtu)</th>\n",
       "      <th>total co2 (kg)</th>\n",
       "      <th>elec co2 (kg)</th>\n",
       "    </tr>\n",
       "    <tr>\n",
       "      <th>year</th>\n",
       "      <th>nerc</th>\n",
       "      <th>month</th>\n",
       "      <th>type</th>\n",
       "      <th></th>\n",
       "      <th></th>\n",
       "      <th></th>\n",
       "      <th></th>\n",
       "      <th></th>\n",
       "    </tr>\n",
       "  </thead>\n",
       "  <tbody>\n",
       "    <tr>\n",
       "      <th rowspan=\"5\" valign=\"top\">2016</th>\n",
       "      <th rowspan=\"5\" valign=\"top\">FRCC</th>\n",
       "      <th rowspan=\"5\" valign=\"top\">1</th>\n",
       "      <th>COW</th>\n",
       "      <td>0.004112</td>\n",
       "      <td>2.668777e+00</td>\n",
       "      <td>-1.346289e+00</td>\n",
       "      <td>254.201050</td>\n",
       "      <td>-128.233995</td>\n",
       "    </tr>\n",
       "    <tr>\n",
       "      <th>HYC</th>\n",
       "      <td>0.002000</td>\n",
       "      <td>-3.253440e+05</td>\n",
       "      <td>-3.253440e+05</td>\n",
       "      <td>NaN</td>\n",
       "      <td>NaN</td>\n",
       "    </tr>\n",
       "    <tr>\n",
       "      <th>NG</th>\n",
       "      <td>0.002867</td>\n",
       "      <td>-1.883063e+00</td>\n",
       "      <td>1.916231e+00</td>\n",
       "      <td>-99.934141</td>\n",
       "      <td>101.694366</td>\n",
       "    </tr>\n",
       "    <tr>\n",
       "      <th>OTH</th>\n",
       "      <td>0.000975</td>\n",
       "      <td>-3.980957e+06</td>\n",
       "      <td>-3.690502e+06</td>\n",
       "      <td>NaN</td>\n",
       "      <td>NaN</td>\n",
       "    </tr>\n",
       "    <tr>\n",
       "      <th>PEL</th>\n",
       "      <td>0.001999</td>\n",
       "      <td>-3.999099e+00</td>\n",
       "      <td>9.995208e-01</td>\n",
       "      <td>-303.831527</td>\n",
       "      <td>75.938596</td>\n",
       "    </tr>\n",
       "  </tbody>\n",
       "</table>\n",
       "</div>"
      ],
      "text/plain": [
       "                      generation (mwh)  total fuel (mmbtu)  elec fuel (mmbtu)  \\\n",
       "year nerc month type                                                            \n",
       "2016 FRCC 1     COW           0.004112        2.668777e+00      -1.346289e+00   \n",
       "                HYC           0.002000       -3.253440e+05      -3.253440e+05   \n",
       "                NG            0.002867       -1.883063e+00       1.916231e+00   \n",
       "                OTH           0.000975       -3.980957e+06      -3.690502e+06   \n",
       "                PEL           0.001999       -3.999099e+00       9.995208e-01   \n",
       "\n",
       "                      total co2 (kg)  elec co2 (kg)  \n",
       "year nerc month type                                 \n",
       "2016 FRCC 1     COW       254.201050    -128.233995  \n",
       "                HYC              NaN            NaN  \n",
       "                NG        -99.934141     101.694366  \n",
       "                OTH              NaN            NaN  \n",
       "                PEL      -303.831527      75.938596  "
      ]
     },
     "execution_count": 29,
     "metadata": {},
     "output_type": "execute_result"
    }
   ],
   "source": [
    "extra_nerc.head()"
   ]
  },
  {
   "cell_type": "code",
   "execution_count": 30,
   "metadata": {
    "ExecuteTime": {
     "end_time": "2017-11-06T17:28:51.829505Z",
     "start_time": "2017-11-06T17:28:51.802951Z"
    }
   },
   "outputs": [
    {
     "data": {
      "text/html": [
       "<div>\n",
       "<style scoped>\n",
       "    .dataframe tbody tr th:only-of-type {\n",
       "        vertical-align: middle;\n",
       "    }\n",
       "\n",
       "    .dataframe tbody tr th {\n",
       "        vertical-align: top;\n",
       "    }\n",
       "\n",
       "    .dataframe thead th {\n",
       "        text-align: right;\n",
       "    }\n",
       "</style>\n",
       "<table border=\"1\" class=\"dataframe\">\n",
       "  <thead>\n",
       "    <tr style=\"text-align: right;\">\n",
       "      <th></th>\n",
       "      <th></th>\n",
       "      <th></th>\n",
       "      <th>generation (mwh)</th>\n",
       "      <th>total fuel (mmbtu)</th>\n",
       "      <th>elec fuel (mmbtu)</th>\n",
       "      <th>total co2 (kg)</th>\n",
       "      <th>elec co2 (kg)</th>\n",
       "    </tr>\n",
       "    <tr>\n",
       "      <th>year</th>\n",
       "      <th>nerc</th>\n",
       "      <th>month</th>\n",
       "      <th></th>\n",
       "      <th></th>\n",
       "      <th></th>\n",
       "      <th></th>\n",
       "      <th></th>\n",
       "    </tr>\n",
       "  </thead>\n",
       "  <tbody>\n",
       "    <tr>\n",
       "      <th rowspan=\"12\" valign=\"top\">2016</th>\n",
       "      <th rowspan=\"12\" valign=\"top\">NPCC</th>\n",
       "      <th>1</th>\n",
       "      <td>0.002</td>\n",
       "      <td>2.0</td>\n",
       "      <td>-2.0</td>\n",
       "      <td>190.50</td>\n",
       "      <td>-190.50</td>\n",
       "    </tr>\n",
       "    <tr>\n",
       "      <th>2</th>\n",
       "      <td>0.002</td>\n",
       "      <td>5.0</td>\n",
       "      <td>2.0</td>\n",
       "      <td>476.25</td>\n",
       "      <td>190.50</td>\n",
       "    </tr>\n",
       "    <tr>\n",
       "      <th>3</th>\n",
       "      <td>0.010</td>\n",
       "      <td>5.0</td>\n",
       "      <td>6.0</td>\n",
       "      <td>476.25</td>\n",
       "      <td>571.50</td>\n",
       "    </tr>\n",
       "    <tr>\n",
       "      <th>4</th>\n",
       "      <td>-0.002</td>\n",
       "      <td>2.0</td>\n",
       "      <td>-2.0</td>\n",
       "      <td>190.50</td>\n",
       "      <td>-190.50</td>\n",
       "    </tr>\n",
       "    <tr>\n",
       "      <th>5</th>\n",
       "      <td>-0.003</td>\n",
       "      <td>2.0</td>\n",
       "      <td>1.0</td>\n",
       "      <td>190.50</td>\n",
       "      <td>95.25</td>\n",
       "    </tr>\n",
       "    <tr>\n",
       "      <th>6</th>\n",
       "      <td>0.009</td>\n",
       "      <td>10.0</td>\n",
       "      <td>2.0</td>\n",
       "      <td>952.50</td>\n",
       "      <td>190.50</td>\n",
       "    </tr>\n",
       "    <tr>\n",
       "      <th>7</th>\n",
       "      <td>0.003</td>\n",
       "      <td>-11.0</td>\n",
       "      <td>-3.0</td>\n",
       "      <td>-1047.75</td>\n",
       "      <td>-285.75</td>\n",
       "    </tr>\n",
       "    <tr>\n",
       "      <th>8</th>\n",
       "      <td>0.010</td>\n",
       "      <td>3.0</td>\n",
       "      <td>-8.0</td>\n",
       "      <td>285.75</td>\n",
       "      <td>-762.00</td>\n",
       "    </tr>\n",
       "    <tr>\n",
       "      <th>9</th>\n",
       "      <td>-0.001</td>\n",
       "      <td>1.0</td>\n",
       "      <td>9.0</td>\n",
       "      <td>95.25</td>\n",
       "      <td>857.25</td>\n",
       "    </tr>\n",
       "    <tr>\n",
       "      <th>10</th>\n",
       "      <td>0.002</td>\n",
       "      <td>2.0</td>\n",
       "      <td>3.0</td>\n",
       "      <td>190.50</td>\n",
       "      <td>285.75</td>\n",
       "    </tr>\n",
       "    <tr>\n",
       "      <th>11</th>\n",
       "      <td>0.008</td>\n",
       "      <td>3.0</td>\n",
       "      <td>2.0</td>\n",
       "      <td>285.75</td>\n",
       "      <td>190.50</td>\n",
       "    </tr>\n",
       "    <tr>\n",
       "      <th>12</th>\n",
       "      <td>0.002</td>\n",
       "      <td>-4.0</td>\n",
       "      <td>2.0</td>\n",
       "      <td>-381.00</td>\n",
       "      <td>190.50</td>\n",
       "    </tr>\n",
       "  </tbody>\n",
       "</table>\n",
       "</div>"
      ],
      "text/plain": [
       "                 generation (mwh)  total fuel (mmbtu)  elec fuel (mmbtu)  \\\n",
       "year nerc month                                                            \n",
       "2016 NPCC 1                 0.002                 2.0               -2.0   \n",
       "          2                 0.002                 5.0                2.0   \n",
       "          3                 0.010                 5.0                6.0   \n",
       "          4                -0.002                 2.0               -2.0   \n",
       "          5                -0.003                 2.0                1.0   \n",
       "          6                 0.009                10.0                2.0   \n",
       "          7                 0.003               -11.0               -3.0   \n",
       "          8                 0.010                 3.0               -8.0   \n",
       "          9                -0.001                 1.0                9.0   \n",
       "          10                0.002                 2.0                3.0   \n",
       "          11                0.008                 3.0                2.0   \n",
       "          12                0.002                -4.0                2.0   \n",
       "\n",
       "                 total co2 (kg)  elec co2 (kg)  \n",
       "year nerc month                                 \n",
       "2016 NPCC 1              190.50        -190.50  \n",
       "          2              476.25         190.50  \n",
       "          3              476.25         571.50  \n",
       "          4              190.50        -190.50  \n",
       "          5              190.50          95.25  \n",
       "          6              952.50         190.50  \n",
       "          7            -1047.75        -285.75  \n",
       "          8              285.75        -762.00  \n",
       "          9               95.25         857.25  \n",
       "          10             190.50         285.75  \n",
       "          11             285.75         190.50  \n",
       "          12            -381.00         190.50  "
      ]
     },
     "execution_count": 30,
     "metadata": {},
     "output_type": "execute_result"
    }
   ],
   "source": [
    "extra_nerc.loc[idx[2016, 'NPCC', :, 'COW']].groupby(['year', 'nerc', 'month']).sum()"
   ]
  },
  {
   "cell_type": "code",
   "execution_count": 31,
   "metadata": {
    "ExecuteTime": {
     "end_time": "2017-11-06T17:28:51.837438Z",
     "start_time": "2017-11-06T17:28:51.832133Z"
    },
    "collapsed": true
   },
   "outputs": [],
   "source": [
    "total_gen = gen_fuels_nerc.copy()\n",
    "# total_gen.loc[idx[2015:, 'RFC', :, :]]"
   ]
  },
  {
   "cell_type": "code",
   "execution_count": 32,
   "metadata": {
    "ExecuteTime": {
     "end_time": "2017-11-06T17:28:52.069486Z",
     "start_time": "2017-11-06T17:28:51.840287Z"
    },
    "collapsed": true
   },
   "outputs": [],
   "source": [
    "total_gen.loc[idx[2016:, :, :, :]] = (total_gen.loc[2016:] \n",
    "                                     .add(extra_nerc.loc[:, 'generation (mwh)']\n",
    "                                          , fill_value=0))\n",
    "total_gen = total_gen.reset_index()\n",
    "add_datetime(total_gen)\n",
    "# total_gen.set_index(['year', 'nerc', ''])"
   ]
  },
  {
   "cell_type": "code",
   "execution_count": 33,
   "metadata": {
    "ExecuteTime": {
     "end_time": "2017-11-06T17:28:52.098621Z",
     "start_time": "2017-11-06T17:28:52.071862Z"
    }
   },
   "outputs": [
    {
     "data": {
      "text/html": [
       "<div>\n",
       "<style scoped>\n",
       "    .dataframe tbody tr th:only-of-type {\n",
       "        vertical-align: middle;\n",
       "    }\n",
       "\n",
       "    .dataframe tbody tr th {\n",
       "        vertical-align: top;\n",
       "    }\n",
       "\n",
       "    .dataframe thead th {\n",
       "        text-align: right;\n",
       "    }\n",
       "</style>\n",
       "<table border=\"1\" class=\"dataframe\">\n",
       "  <thead>\n",
       "    <tr style=\"text-align: right;\">\n",
       "      <th></th>\n",
       "      <th>year</th>\n",
       "      <th>nerc</th>\n",
       "      <th>month</th>\n",
       "      <th>type</th>\n",
       "      <th>generation (mwh)</th>\n",
       "      <th>datetime</th>\n",
       "    </tr>\n",
       "  </thead>\n",
       "  <tbody>\n",
       "    <tr>\n",
       "      <th>0</th>\n",
       "      <td>2001</td>\n",
       "      <td>ASCC</td>\n",
       "      <td>1</td>\n",
       "      <td>COW</td>\n",
       "      <td>26493.302</td>\n",
       "      <td>2001-01-01</td>\n",
       "    </tr>\n",
       "    <tr>\n",
       "      <th>1</th>\n",
       "      <td>2001</td>\n",
       "      <td>ASCC</td>\n",
       "      <td>1</td>\n",
       "      <td>HYC</td>\n",
       "      <td>103940.302</td>\n",
       "      <td>2001-01-01</td>\n",
       "    </tr>\n",
       "    <tr>\n",
       "      <th>2</th>\n",
       "      <td>2001</td>\n",
       "      <td>ASCC</td>\n",
       "      <td>1</td>\n",
       "      <td>NG</td>\n",
       "      <td>314206.726</td>\n",
       "      <td>2001-01-01</td>\n",
       "    </tr>\n",
       "    <tr>\n",
       "      <th>3</th>\n",
       "      <td>2001</td>\n",
       "      <td>ASCC</td>\n",
       "      <td>1</td>\n",
       "      <td>PEL</td>\n",
       "      <td>64782.245</td>\n",
       "      <td>2001-01-01</td>\n",
       "    </tr>\n",
       "    <tr>\n",
       "      <th>4</th>\n",
       "      <td>2001</td>\n",
       "      <td>ASCC</td>\n",
       "      <td>1</td>\n",
       "      <td>WND</td>\n",
       "      <td>86.518</td>\n",
       "      <td>2001-01-01</td>\n",
       "    </tr>\n",
       "  </tbody>\n",
       "</table>\n",
       "</div>"
      ],
      "text/plain": [
       "   year  nerc  month type  generation (mwh)   datetime\n",
       "0  2001  ASCC      1  COW         26493.302 2001-01-01\n",
       "1  2001  ASCC      1  HYC        103940.302 2001-01-01\n",
       "2  2001  ASCC      1   NG        314206.726 2001-01-01\n",
       "3  2001  ASCC      1  PEL         64782.245 2001-01-01\n",
       "4  2001  ASCC      1  WND            86.518 2001-01-01"
      ]
     },
     "execution_count": 33,
     "metadata": {},
     "output_type": "execute_result"
    }
   ],
   "source": [
    "total_gen.head()"
   ]
  },
  {
   "cell_type": "code",
   "execution_count": 34,
   "metadata": {
    "ExecuteTime": {
     "end_time": "2017-11-06T17:28:52.204252Z",
     "start_time": "2017-11-06T17:28:52.102359Z"
    },
    "collapsed": true
   },
   "outputs": [],
   "source": [
    "final = group_fuel_cats(total_gen,\n",
    "                        custom_fuel_cat, 'type',\n",
    "                        'fuel category', extra_group_cols=['nerc', 'datetime'])\n",
    "final.set_index(['nerc', 'fuel category', 'datetime'], inplace=True)"
   ]
  },
  {
   "cell_type": "code",
   "execution_count": 35,
   "metadata": {
    "ExecuteTime": {
     "end_time": "2017-11-06T17:28:52.252092Z",
     "start_time": "2017-11-06T17:28:52.211255Z"
    }
   },
   "outputs": [
    {
     "data": {
      "text/html": [
       "<div>\n",
       "<style scoped>\n",
       "    .dataframe tbody tr th:only-of-type {\n",
       "        vertical-align: middle;\n",
       "    }\n",
       "\n",
       "    .dataframe tbody tr th {\n",
       "        vertical-align: top;\n",
       "    }\n",
       "\n",
       "    .dataframe thead th {\n",
       "        text-align: right;\n",
       "    }\n",
       "</style>\n",
       "<table border=\"1\" class=\"dataframe\">\n",
       "  <thead>\n",
       "    <tr style=\"text-align: right;\">\n",
       "      <th></th>\n",
       "      <th></th>\n",
       "      <th></th>\n",
       "      <th>year</th>\n",
       "      <th>month</th>\n",
       "      <th>generation (mwh)</th>\n",
       "    </tr>\n",
       "    <tr>\n",
       "      <th>nerc</th>\n",
       "      <th>fuel category</th>\n",
       "      <th>datetime</th>\n",
       "      <th></th>\n",
       "      <th></th>\n",
       "      <th></th>\n",
       "    </tr>\n",
       "  </thead>\n",
       "  <tbody>\n",
       "    <tr>\n",
       "      <th>ASCC</th>\n",
       "      <th>Coal</th>\n",
       "      <th>2001-01-01</th>\n",
       "      <td>2001</td>\n",
       "      <td>1</td>\n",
       "      <td>2.649330e+04</td>\n",
       "    </tr>\n",
       "    <tr>\n",
       "      <th>FRCC</th>\n",
       "      <th>Coal</th>\n",
       "      <th>2001-01-01</th>\n",
       "      <td>2001</td>\n",
       "      <td>1</td>\n",
       "      <td>6.032943e+06</td>\n",
       "    </tr>\n",
       "    <tr>\n",
       "      <th>HICC</th>\n",
       "      <th>Coal</th>\n",
       "      <th>2001-01-01</th>\n",
       "      <td>2001</td>\n",
       "      <td>1</td>\n",
       "      <td>1.341608e+05</td>\n",
       "    </tr>\n",
       "    <tr>\n",
       "      <th>MRO</th>\n",
       "      <th>Coal</th>\n",
       "      <th>2001-01-01</th>\n",
       "      <td>2001</td>\n",
       "      <td>1</td>\n",
       "      <td>1.327117e+07</td>\n",
       "    </tr>\n",
       "    <tr>\n",
       "      <th>NPCC</th>\n",
       "      <th>Coal</th>\n",
       "      <th>2001-01-01</th>\n",
       "      <td>2001</td>\n",
       "      <td>1</td>\n",
       "      <td>4.318327e+06</td>\n",
       "    </tr>\n",
       "  </tbody>\n",
       "</table>\n",
       "</div>"
      ],
      "text/plain": [
       "                               year  month  generation (mwh)\n",
       "nerc fuel category datetime                                 \n",
       "ASCC Coal          2001-01-01  2001      1      2.649330e+04\n",
       "FRCC Coal          2001-01-01  2001      1      6.032943e+06\n",
       "HICC Coal          2001-01-01  2001      1      1.341608e+05\n",
       "MRO  Coal          2001-01-01  2001      1      1.327117e+07\n",
       "NPCC Coal          2001-01-01  2001      1      4.318327e+06"
      ]
     },
     "execution_count": 35,
     "metadata": {},
     "output_type": "execute_result"
    }
   ],
   "source": [
    "final.head()"
   ]
  },
  {
   "cell_type": "code",
   "execution_count": 36,
   "metadata": {
    "ExecuteTime": {
     "end_time": "2017-11-06T17:28:52.278048Z",
     "start_time": "2017-11-06T17:28:52.255434Z"
    }
   },
   "outputs": [
    {
     "data": {
      "text/html": [
       "<div>\n",
       "<style scoped>\n",
       "    .dataframe tbody tr th:only-of-type {\n",
       "        vertical-align: middle;\n",
       "    }\n",
       "\n",
       "    .dataframe tbody tr th {\n",
       "        vertical-align: top;\n",
       "    }\n",
       "\n",
       "    .dataframe thead th {\n",
       "        text-align: right;\n",
       "    }\n",
       "</style>\n",
       "<table border=\"1\" class=\"dataframe\">\n",
       "  <thead>\n",
       "    <tr style=\"text-align: right;\">\n",
       "      <th></th>\n",
       "      <th></th>\n",
       "      <th></th>\n",
       "      <th>year</th>\n",
       "      <th>month</th>\n",
       "      <th>generation (mwh)</th>\n",
       "    </tr>\n",
       "    <tr>\n",
       "      <th>nerc</th>\n",
       "      <th>fuel category</th>\n",
       "      <th>datetime</th>\n",
       "      <th></th>\n",
       "      <th></th>\n",
       "      <th></th>\n",
       "    </tr>\n",
       "  </thead>\n",
       "  <tbody>\n",
       "    <tr>\n",
       "      <th>RFC</th>\n",
       "      <th>Wind</th>\n",
       "      <th>2017-12-01</th>\n",
       "      <td>2017</td>\n",
       "      <td>12</td>\n",
       "      <td>2.407732e+06</td>\n",
       "    </tr>\n",
       "    <tr>\n",
       "      <th>SERC</th>\n",
       "      <th>Wind</th>\n",
       "      <th>2017-12-01</th>\n",
       "      <td>2017</td>\n",
       "      <td>12</td>\n",
       "      <td>3.733354e+05</td>\n",
       "    </tr>\n",
       "    <tr>\n",
       "      <th>SPP</th>\n",
       "      <th>Wind</th>\n",
       "      <th>2017-12-01</th>\n",
       "      <td>2017</td>\n",
       "      <td>12</td>\n",
       "      <td>4.974190e+06</td>\n",
       "    </tr>\n",
       "    <tr>\n",
       "      <th>TRE</th>\n",
       "      <th>Wind</th>\n",
       "      <th>2017-12-01</th>\n",
       "      <td>2017</td>\n",
       "      <td>12</td>\n",
       "      <td>4.866436e+06</td>\n",
       "    </tr>\n",
       "    <tr>\n",
       "      <th>WECC</th>\n",
       "      <th>Wind</th>\n",
       "      <th>2017-12-01</th>\n",
       "      <td>2017</td>\n",
       "      <td>12</td>\n",
       "      <td>3.147145e+06</td>\n",
       "    </tr>\n",
       "  </tbody>\n",
       "</table>\n",
       "</div>"
      ],
      "text/plain": [
       "                               year  month  generation (mwh)\n",
       "nerc fuel category datetime                                 \n",
       "RFC  Wind          2017-12-01  2017     12      2.407732e+06\n",
       "SERC Wind          2017-12-01  2017     12      3.733354e+05\n",
       "SPP  Wind          2017-12-01  2017     12      4.974190e+06\n",
       "TRE  Wind          2017-12-01  2017     12      4.866436e+06\n",
       "WECC Wind          2017-12-01  2017     12      3.147145e+06"
      ]
     },
     "execution_count": 36,
     "metadata": {},
     "output_type": "execute_result"
    }
   ],
   "source": [
    "final.tail()"
   ]
  },
  {
   "cell_type": "code",
   "execution_count": 37,
   "metadata": {
    "ExecuteTime": {
     "end_time": "2017-11-06T17:28:52.300816Z",
     "start_time": "2017-11-06T17:28:52.280851Z"
    }
   },
   "outputs": [
    {
     "data": {
      "text/html": [
       "<div>\n",
       "<style scoped>\n",
       "    .dataframe tbody tr th:only-of-type {\n",
       "        vertical-align: middle;\n",
       "    }\n",
       "\n",
       "    .dataframe tbody tr th {\n",
       "        vertical-align: top;\n",
       "    }\n",
       "\n",
       "    .dataframe thead th {\n",
       "        text-align: right;\n",
       "    }\n",
       "</style>\n",
       "<table border=\"1\" class=\"dataframe\">\n",
       "  <thead>\n",
       "    <tr style=\"text-align: right;\">\n",
       "      <th></th>\n",
       "      <th></th>\n",
       "      <th>year</th>\n",
       "      <th>month</th>\n",
       "      <th>generation (mwh)</th>\n",
       "    </tr>\n",
       "    <tr>\n",
       "      <th>nerc</th>\n",
       "      <th>datetime</th>\n",
       "      <th></th>\n",
       "      <th></th>\n",
       "      <th></th>\n",
       "    </tr>\n",
       "  </thead>\n",
       "  <tbody>\n",
       "    <tr>\n",
       "      <th rowspan=\"5\" valign=\"top\">ASCC</th>\n",
       "      <th>2001-01-01</th>\n",
       "      <td>10005</td>\n",
       "      <td>5</td>\n",
       "      <td>509509.093</td>\n",
       "    </tr>\n",
       "    <tr>\n",
       "      <th>2001-02-01</th>\n",
       "      <td>10005</td>\n",
       "      <td>10</td>\n",
       "      <td>456570.631</td>\n",
       "    </tr>\n",
       "    <tr>\n",
       "      <th>2001-03-01</th>\n",
       "      <td>10005</td>\n",
       "      <td>15</td>\n",
       "      <td>492752.208</td>\n",
       "    </tr>\n",
       "    <tr>\n",
       "      <th>2001-04-01</th>\n",
       "      <td>10005</td>\n",
       "      <td>20</td>\n",
       "      <td>416745.544</td>\n",
       "    </tr>\n",
       "    <tr>\n",
       "      <th>2001-05-01</th>\n",
       "      <td>10005</td>\n",
       "      <td>25</td>\n",
       "      <td>408946.508</td>\n",
       "    </tr>\n",
       "  </tbody>\n",
       "</table>\n",
       "</div>"
      ],
      "text/plain": [
       "                  year  month  generation (mwh)\n",
       "nerc datetime                                  \n",
       "ASCC 2001-01-01  10005      5        509509.093\n",
       "     2001-02-01  10005     10        456570.631\n",
       "     2001-03-01  10005     15        492752.208\n",
       "     2001-04-01  10005     20        416745.544\n",
       "     2001-05-01  10005     25        408946.508"
      ]
     },
     "execution_count": 37,
     "metadata": {},
     "output_type": "execute_result"
    }
   ],
   "source": [
    "total = final.groupby(['nerc', 'datetime']).sum()\n",
    "# total.reset_index(inplace=True)\n",
    "# add_datetime(total)\n",
    "# total['fuel category'] = 'Total'\n",
    "total.head()"
   ]
  },
  {
   "cell_type": "code",
   "execution_count": 38,
   "metadata": {
    "ExecuteTime": {
     "end_time": "2017-11-06T17:28:52.307679Z",
     "start_time": "2017-11-06T17:28:52.303033Z"
    },
    "collapsed": true
   },
   "outputs": [],
   "source": [
    "nercs = total.index.get_level_values('nerc').unique()"
   ]
  },
  {
   "cell_type": "markdown",
   "metadata": {},
   "source": [
    "### Percent generation by fuel\n",
    "    "
   ]
  },
  {
   "cell_type": "code",
   "execution_count": 39,
   "metadata": {
    "ExecuteTime": {
     "end_time": "2017-11-06T17:28:52.406279Z",
     "start_time": "2017-11-06T17:28:52.310398Z"
    }
   },
   "outputs": [],
   "source": [
    "df_list = []\n",
    "for nerc in nercs:\n",
    "    percent_gen = final.loc[nerc].divide(total.loc[nerc], level='datetime')\n",
    "    percent_gen['nerc'] = nerc\n",
    "    percent_gen.set_index('nerc', append=True, inplace=True)\n",
    "    df_list.append(percent_gen)\n",
    "    \n",
    "percent_gen = pd.concat(df_list)\n",
    "percent_gen.drop(['year', 'month'], axis=1, inplace=True)\n",
    "percent_gen.columns = ['% generation']"
   ]
  },
  {
   "cell_type": "code",
   "execution_count": 40,
   "metadata": {
    "ExecuteTime": {
     "end_time": "2017-11-06T17:28:52.425818Z",
     "start_time": "2017-11-06T17:28:52.409945Z"
    }
   },
   "outputs": [
    {
     "data": {
      "text/html": [
       "<div>\n",
       "<style scoped>\n",
       "    .dataframe tbody tr th:only-of-type {\n",
       "        vertical-align: middle;\n",
       "    }\n",
       "\n",
       "    .dataframe tbody tr th {\n",
       "        vertical-align: top;\n",
       "    }\n",
       "\n",
       "    .dataframe thead th {\n",
       "        text-align: right;\n",
       "    }\n",
       "</style>\n",
       "<table border=\"1\" class=\"dataframe\">\n",
       "  <thead>\n",
       "    <tr style=\"text-align: right;\">\n",
       "      <th></th>\n",
       "      <th></th>\n",
       "      <th></th>\n",
       "      <th>% generation</th>\n",
       "    </tr>\n",
       "    <tr>\n",
       "      <th>fuel category</th>\n",
       "      <th>datetime</th>\n",
       "      <th>nerc</th>\n",
       "      <th></th>\n",
       "    </tr>\n",
       "  </thead>\n",
       "  <tbody>\n",
       "    <tr>\n",
       "      <th rowspan=\"5\" valign=\"top\">Coal</th>\n",
       "      <th>2001-01-01</th>\n",
       "      <th>ASCC</th>\n",
       "      <td>0.051998</td>\n",
       "    </tr>\n",
       "    <tr>\n",
       "      <th>2001-02-01</th>\n",
       "      <th>ASCC</th>\n",
       "      <td>0.068475</td>\n",
       "    </tr>\n",
       "    <tr>\n",
       "      <th>2001-03-01</th>\n",
       "      <th>ASCC</th>\n",
       "      <td>0.057757</td>\n",
       "    </tr>\n",
       "    <tr>\n",
       "      <th>2001-04-01</th>\n",
       "      <th>ASCC</th>\n",
       "      <td>0.049085</td>\n",
       "    </tr>\n",
       "    <tr>\n",
       "      <th>2001-05-01</th>\n",
       "      <th>ASCC</th>\n",
       "      <td>0.058924</td>\n",
       "    </tr>\n",
       "  </tbody>\n",
       "</table>\n",
       "</div>"
      ],
      "text/plain": [
       "                               % generation\n",
       "fuel category datetime   nerc              \n",
       "Coal          2001-01-01 ASCC      0.051998\n",
       "              2001-02-01 ASCC      0.068475\n",
       "              2001-03-01 ASCC      0.057757\n",
       "              2001-04-01 ASCC      0.049085\n",
       "              2001-05-01 ASCC      0.058924"
      ]
     },
     "execution_count": 40,
     "metadata": {},
     "output_type": "execute_result"
    }
   ],
   "source": [
    "percent_gen.head()"
   ]
  },
  {
   "cell_type": "code",
   "execution_count": 41,
   "metadata": {
    "ExecuteTime": {
     "end_time": "2017-11-06T17:28:52.513635Z",
     "start_time": "2017-11-06T17:28:52.430656Z"
    }
   },
   "outputs": [
    {
     "data": {
      "text/html": [
       "<div>\n",
       "<style scoped>\n",
       "    .dataframe tbody tr th:only-of-type {\n",
       "        vertical-align: middle;\n",
       "    }\n",
       "\n",
       "    .dataframe tbody tr th {\n",
       "        vertical-align: top;\n",
       "    }\n",
       "\n",
       "    .dataframe thead th {\n",
       "        text-align: right;\n",
       "    }\n",
       "</style>\n",
       "<table border=\"1\" class=\"dataframe\">\n",
       "  <thead>\n",
       "    <tr style=\"text-align: right;\">\n",
       "      <th></th>\n",
       "      <th></th>\n",
       "      <th></th>\n",
       "      <th>% generation</th>\n",
       "    </tr>\n",
       "    <tr>\n",
       "      <th>fuel category</th>\n",
       "      <th>datetime</th>\n",
       "      <th>nerc</th>\n",
       "      <th></th>\n",
       "    </tr>\n",
       "  </thead>\n",
       "  <tbody>\n",
       "    <tr>\n",
       "      <th rowspan=\"61\" valign=\"top\">Wind</th>\n",
       "      <th>2001-12-01</th>\n",
       "      <th>SPP</th>\n",
       "      <td>0.004024</td>\n",
       "    </tr>\n",
       "    <tr>\n",
       "      <th>2002-01-01</th>\n",
       "      <th>SPP</th>\n",
       "      <td>0.003390</td>\n",
       "    </tr>\n",
       "    <tr>\n",
       "      <th>2002-02-01</th>\n",
       "      <th>SPP</th>\n",
       "      <td>0.004475</td>\n",
       "    </tr>\n",
       "    <tr>\n",
       "      <th>2002-03-01</th>\n",
       "      <th>SPP</th>\n",
       "      <td>0.004750</td>\n",
       "    </tr>\n",
       "    <tr>\n",
       "      <th>2002-04-01</th>\n",
       "      <th>SPP</th>\n",
       "      <td>0.004879</td>\n",
       "    </tr>\n",
       "    <tr>\n",
       "      <th>2002-05-01</th>\n",
       "      <th>SPP</th>\n",
       "      <td>0.004433</td>\n",
       "    </tr>\n",
       "    <tr>\n",
       "      <th>2002-06-01</th>\n",
       "      <th>SPP</th>\n",
       "      <td>0.003600</td>\n",
       "    </tr>\n",
       "    <tr>\n",
       "      <th>2002-07-01</th>\n",
       "      <th>SPP</th>\n",
       "      <td>0.002133</td>\n",
       "    </tr>\n",
       "    <tr>\n",
       "      <th>2002-08-01</th>\n",
       "      <th>SPP</th>\n",
       "      <td>0.002530</td>\n",
       "    </tr>\n",
       "    <tr>\n",
       "      <th>2002-09-01</th>\n",
       "      <th>SPP</th>\n",
       "      <td>0.002867</td>\n",
       "    </tr>\n",
       "    <tr>\n",
       "      <th>2002-10-01</th>\n",
       "      <th>SPP</th>\n",
       "      <td>0.002823</td>\n",
       "    </tr>\n",
       "    <tr>\n",
       "      <th>2002-11-01</th>\n",
       "      <th>SPP</th>\n",
       "      <td>0.003400</td>\n",
       "    </tr>\n",
       "    <tr>\n",
       "      <th>2002-12-01</th>\n",
       "      <th>SPP</th>\n",
       "      <td>0.003074</td>\n",
       "    </tr>\n",
       "    <tr>\n",
       "      <th>2003-01-01</th>\n",
       "      <th>SPP</th>\n",
       "      <td>0.002991</td>\n",
       "    </tr>\n",
       "    <tr>\n",
       "      <th>2003-02-01</th>\n",
       "      <th>SPP</th>\n",
       "      <td>0.002843</td>\n",
       "    </tr>\n",
       "    <tr>\n",
       "      <th>2003-03-01</th>\n",
       "      <th>SPP</th>\n",
       "      <td>0.004401</td>\n",
       "    </tr>\n",
       "    <tr>\n",
       "      <th>2003-04-01</th>\n",
       "      <th>SPP</th>\n",
       "      <td>0.005039</td>\n",
       "    </tr>\n",
       "    <tr>\n",
       "      <th>2003-05-01</th>\n",
       "      <th>SPP</th>\n",
       "      <td>0.003430</td>\n",
       "    </tr>\n",
       "    <tr>\n",
       "      <th>2003-06-01</th>\n",
       "      <th>SPP</th>\n",
       "      <td>0.002309</td>\n",
       "    </tr>\n",
       "    <tr>\n",
       "      <th>2003-07-01</th>\n",
       "      <th>SPP</th>\n",
       "      <td>0.002568</td>\n",
       "    </tr>\n",
       "    <tr>\n",
       "      <th>2003-08-01</th>\n",
       "      <th>SPP</th>\n",
       "      <td>0.001982</td>\n",
       "    </tr>\n",
       "    <tr>\n",
       "      <th>2003-09-01</th>\n",
       "      <th>SPP</th>\n",
       "      <td>0.003240</td>\n",
       "    </tr>\n",
       "    <tr>\n",
       "      <th>2003-10-01</th>\n",
       "      <th>SPP</th>\n",
       "      <td>0.003083</td>\n",
       "    </tr>\n",
       "    <tr>\n",
       "      <th>2003-11-01</th>\n",
       "      <th>SPP</th>\n",
       "      <td>0.003904</td>\n",
       "    </tr>\n",
       "    <tr>\n",
       "      <th>2003-12-01</th>\n",
       "      <th>SPP</th>\n",
       "      <td>0.007363</td>\n",
       "    </tr>\n",
       "    <tr>\n",
       "      <th>2004-01-01</th>\n",
       "      <th>SPP</th>\n",
       "      <td>0.005239</td>\n",
       "    </tr>\n",
       "    <tr>\n",
       "      <th>2004-02-01</th>\n",
       "      <th>SPP</th>\n",
       "      <td>0.006250</td>\n",
       "    </tr>\n",
       "    <tr>\n",
       "      <th>2004-03-01</th>\n",
       "      <th>SPP</th>\n",
       "      <td>0.007606</td>\n",
       "    </tr>\n",
       "    <tr>\n",
       "      <th>2004-04-01</th>\n",
       "      <th>SPP</th>\n",
       "      <td>0.007366</td>\n",
       "    </tr>\n",
       "    <tr>\n",
       "      <th>2004-05-01</th>\n",
       "      <th>SPP</th>\n",
       "      <td>0.008773</td>\n",
       "    </tr>\n",
       "    <tr>\n",
       "      <th>...</th>\n",
       "      <th>...</th>\n",
       "      <td>...</td>\n",
       "    </tr>\n",
       "    <tr>\n",
       "      <th>2015-07-01</th>\n",
       "      <th>SPP</th>\n",
       "      <td>0.097514</td>\n",
       "    </tr>\n",
       "    <tr>\n",
       "      <th>2015-08-01</th>\n",
       "      <th>SPP</th>\n",
       "      <td>0.092048</td>\n",
       "    </tr>\n",
       "    <tr>\n",
       "      <th>2015-09-01</th>\n",
       "      <th>SPP</th>\n",
       "      <td>0.144196</td>\n",
       "    </tr>\n",
       "    <tr>\n",
       "      <th>2015-10-01</th>\n",
       "      <th>SPP</th>\n",
       "      <td>0.147812</td>\n",
       "    </tr>\n",
       "    <tr>\n",
       "      <th>2015-11-01</th>\n",
       "      <th>SPP</th>\n",
       "      <td>0.209035</td>\n",
       "    </tr>\n",
       "    <tr>\n",
       "      <th>2015-12-01</th>\n",
       "      <th>SPP</th>\n",
       "      <td>0.185220</td>\n",
       "    </tr>\n",
       "    <tr>\n",
       "      <th>2016-01-01</th>\n",
       "      <th>SPP</th>\n",
       "      <td>0.157545</td>\n",
       "    </tr>\n",
       "    <tr>\n",
       "      <th>2016-02-01</th>\n",
       "      <th>SPP</th>\n",
       "      <td>0.220237</td>\n",
       "    </tr>\n",
       "    <tr>\n",
       "      <th>2016-03-01</th>\n",
       "      <th>SPP</th>\n",
       "      <td>0.247169</td>\n",
       "    </tr>\n",
       "    <tr>\n",
       "      <th>2016-04-01</th>\n",
       "      <th>SPP</th>\n",
       "      <td>0.234039</td>\n",
       "    </tr>\n",
       "    <tr>\n",
       "      <th>2016-05-01</th>\n",
       "      <th>SPP</th>\n",
       "      <td>0.195901</td>\n",
       "    </tr>\n",
       "    <tr>\n",
       "      <th>2016-06-01</th>\n",
       "      <th>SPP</th>\n",
       "      <td>0.133662</td>\n",
       "    </tr>\n",
       "    <tr>\n",
       "      <th>2016-07-01</th>\n",
       "      <th>SPP</th>\n",
       "      <td>0.145072</td>\n",
       "    </tr>\n",
       "    <tr>\n",
       "      <th>2016-08-01</th>\n",
       "      <th>SPP</th>\n",
       "      <td>0.115024</td>\n",
       "    </tr>\n",
       "    <tr>\n",
       "      <th>2016-09-01</th>\n",
       "      <th>SPP</th>\n",
       "      <td>0.163217</td>\n",
       "    </tr>\n",
       "    <tr>\n",
       "      <th>2016-10-01</th>\n",
       "      <th>SPP</th>\n",
       "      <td>0.247822</td>\n",
       "    </tr>\n",
       "    <tr>\n",
       "      <th>2016-11-01</th>\n",
       "      <th>SPP</th>\n",
       "      <td>0.225534</td>\n",
       "    </tr>\n",
       "    <tr>\n",
       "      <th>2016-12-01</th>\n",
       "      <th>SPP</th>\n",
       "      <td>0.200701</td>\n",
       "    </tr>\n",
       "    <tr>\n",
       "      <th>2017-01-01</th>\n",
       "      <th>SPP</th>\n",
       "      <td>0.226313</td>\n",
       "    </tr>\n",
       "    <tr>\n",
       "      <th>2017-02-01</th>\n",
       "      <th>SPP</th>\n",
       "      <td>0.272240</td>\n",
       "    </tr>\n",
       "    <tr>\n",
       "      <th>2017-03-01</th>\n",
       "      <th>SPP</th>\n",
       "      <td>0.301908</td>\n",
       "    </tr>\n",
       "    <tr>\n",
       "      <th>2017-04-01</th>\n",
       "      <th>SPP</th>\n",
       "      <td>0.330530</td>\n",
       "    </tr>\n",
       "    <tr>\n",
       "      <th>2017-05-01</th>\n",
       "      <th>SPP</th>\n",
       "      <td>0.254924</td>\n",
       "    </tr>\n",
       "    <tr>\n",
       "      <th>2017-06-01</th>\n",
       "      <th>SPP</th>\n",
       "      <td>0.198277</td>\n",
       "    </tr>\n",
       "    <tr>\n",
       "      <th>2017-07-01</th>\n",
       "      <th>SPP</th>\n",
       "      <td>0.141674</td>\n",
       "    </tr>\n",
       "    <tr>\n",
       "      <th>2017-08-01</th>\n",
       "      <th>SPP</th>\n",
       "      <td>0.121146</td>\n",
       "    </tr>\n",
       "    <tr>\n",
       "      <th>2017-09-01</th>\n",
       "      <th>SPP</th>\n",
       "      <td>0.209842</td>\n",
       "    </tr>\n",
       "    <tr>\n",
       "      <th>2017-10-01</th>\n",
       "      <th>SPP</th>\n",
       "      <td>0.300563</td>\n",
       "    </tr>\n",
       "    <tr>\n",
       "      <th>2017-11-01</th>\n",
       "      <th>SPP</th>\n",
       "      <td>0.276251</td>\n",
       "    </tr>\n",
       "    <tr>\n",
       "      <th>2017-12-01</th>\n",
       "      <th>SPP</th>\n",
       "      <td>0.253897</td>\n",
       "    </tr>\n",
       "  </tbody>\n",
       "</table>\n",
       "<p>193 rows × 1 columns</p>\n",
       "</div>"
      ],
      "text/plain": [
       "                               % generation\n",
       "fuel category datetime   nerc              \n",
       "Wind          2001-12-01 SPP       0.004024\n",
       "              2002-01-01 SPP       0.003390\n",
       "              2002-02-01 SPP       0.004475\n",
       "              2002-03-01 SPP       0.004750\n",
       "              2002-04-01 SPP       0.004879\n",
       "              2002-05-01 SPP       0.004433\n",
       "              2002-06-01 SPP       0.003600\n",
       "              2002-07-01 SPP       0.002133\n",
       "              2002-08-01 SPP       0.002530\n",
       "              2002-09-01 SPP       0.002867\n",
       "              2002-10-01 SPP       0.002823\n",
       "              2002-11-01 SPP       0.003400\n",
       "              2002-12-01 SPP       0.003074\n",
       "              2003-01-01 SPP       0.002991\n",
       "              2003-02-01 SPP       0.002843\n",
       "              2003-03-01 SPP       0.004401\n",
       "              2003-04-01 SPP       0.005039\n",
       "              2003-05-01 SPP       0.003430\n",
       "              2003-06-01 SPP       0.002309\n",
       "              2003-07-01 SPP       0.002568\n",
       "              2003-08-01 SPP       0.001982\n",
       "              2003-09-01 SPP       0.003240\n",
       "              2003-10-01 SPP       0.003083\n",
       "              2003-11-01 SPP       0.003904\n",
       "              2003-12-01 SPP       0.007363\n",
       "              2004-01-01 SPP       0.005239\n",
       "              2004-02-01 SPP       0.006250\n",
       "              2004-03-01 SPP       0.007606\n",
       "              2004-04-01 SPP       0.007366\n",
       "              2004-05-01 SPP       0.008773\n",
       "...                                     ...\n",
       "              2015-07-01 SPP       0.097514\n",
       "              2015-08-01 SPP       0.092048\n",
       "              2015-09-01 SPP       0.144196\n",
       "              2015-10-01 SPP       0.147812\n",
       "              2015-11-01 SPP       0.209035\n",
       "              2015-12-01 SPP       0.185220\n",
       "              2016-01-01 SPP       0.157545\n",
       "              2016-02-01 SPP       0.220237\n",
       "              2016-03-01 SPP       0.247169\n",
       "              2016-04-01 SPP       0.234039\n",
       "              2016-05-01 SPP       0.195901\n",
       "              2016-06-01 SPP       0.133662\n",
       "              2016-07-01 SPP       0.145072\n",
       "              2016-08-01 SPP       0.115024\n",
       "              2016-09-01 SPP       0.163217\n",
       "              2016-10-01 SPP       0.247822\n",
       "              2016-11-01 SPP       0.225534\n",
       "              2016-12-01 SPP       0.200701\n",
       "              2017-01-01 SPP       0.226313\n",
       "              2017-02-01 SPP       0.272240\n",
       "              2017-03-01 SPP       0.301908\n",
       "              2017-04-01 SPP       0.330530\n",
       "              2017-05-01 SPP       0.254924\n",
       "              2017-06-01 SPP       0.198277\n",
       "              2017-07-01 SPP       0.141674\n",
       "              2017-08-01 SPP       0.121146\n",
       "              2017-09-01 SPP       0.209842\n",
       "              2017-10-01 SPP       0.300563\n",
       "              2017-11-01 SPP       0.276251\n",
       "              2017-12-01 SPP       0.253897\n",
       "\n",
       "[193 rows x 1 columns]"
      ]
     },
     "execution_count": 41,
     "metadata": {},
     "output_type": "execute_result"
    }
   ],
   "source": [
    "percent_gen.sort_index().loc[idx['Wind', :, 'SPP'], :]"
   ]
  },
  {
   "cell_type": "code",
   "execution_count": 42,
   "metadata": {
    "ExecuteTime": {
     "end_time": "2017-11-06T17:28:52.580429Z",
     "start_time": "2017-11-06T17:28:52.516168Z"
    },
    "collapsed": true
   },
   "outputs": [],
   "source": [
    "path = join(cwd, '..', 'Data storage', 'Final NERC data',\n",
    "            'NERC percent gen {}.csv'.format(file_date))\n",
    "percent_gen.to_csv(path)"
   ]
  },
  {
   "cell_type": "code",
   "execution_count": 43,
   "metadata": {
    "ExecuteTime": {
     "end_time": "2017-11-06T17:28:56.747538Z",
     "start_time": "2017-11-06T17:28:52.582537Z"
    }
   },
   "outputs": [
    {
     "data": {
      "text/plain": [
       "<seaborn.axisgrid.FacetGrid at 0x1a1f6c5d30>"
      ]
     },
     "execution_count": 43,
     "metadata": {},
     "output_type": "execute_result"
    },
    {
     "data": {
      "image/png": "[encoded data removed]",
      "text/plain": [
       "<Figure size 648x864 with 10 Axes>"
      ]
     },
     "metadata": {},
     "output_type": "display_data"
    }
   ],
   "source": [
    "g = sns.FacetGrid(final.reset_index(), col='nerc', col_wrap=3, hue='fuel category')\n",
    "g.map(plt.plot, 'datetime', 'generation (mwh)')"
   ]
  },
  {
   "cell_type": "code",
   "execution_count": 44,
   "metadata": {
    "ExecuteTime": {
     "end_time": "2017-11-06T17:29:00.750563Z",
     "start_time": "2017-11-06T17:28:56.750943Z"
    }
   },
   "outputs": [
    {
     "data": {
      "text/plain": [
       "<seaborn.axisgrid.FacetGrid at 0x1191600f0>"
      ]
     },
     "execution_count": 44,
     "metadata": {},
     "output_type": "execute_result"
    },
    {
     "data": {
      "image/png": "[encoded data removed]",
      "text/plain": [
       "<Figure size 775.625x864 with 10 Axes>"
      ]
     },
     "metadata": {},
     "output_type": "display_data"
    }
   ],
   "source": [
    "g = sns.FacetGrid(percent_gen.reset_index(), col='nerc', col_wrap=3, hue='fuel category')\n",
    "g.map(plt.plot, 'datetime', '% generation').add_legend()"
   ]
  },
  {
   "cell_type": "code",
   "execution_count": 45,
   "metadata": {
    "ExecuteTime": {
     "end_time": "2017-11-06T17:29:00.802358Z",
     "start_time": "2017-11-06T17:29:00.752682Z"
    },
    "collapsed": true
   },
   "outputs": [],
   "source": [
    "total_monthly_gen = final.groupby(['fuel category', 'year', 'nerc', 'month']).sum()\n",
    "total_monthly_gen.sort_index(inplace=True)"
   ]
  },
  {
   "cell_type": "code",
   "execution_count": 46,
   "metadata": {
    "ExecuteTime": {
     "end_time": "2017-11-06T17:29:00.817747Z",
     "start_time": "2017-11-06T17:29:00.804609Z"
    }
   },
   "outputs": [
    {
     "data": {
      "text/html": [
       "<div>\n",
       "<style scoped>\n",
       "    .dataframe tbody tr th:only-of-type {\n",
       "        vertical-align: middle;\n",
       "    }\n",
       "\n",
       "    .dataframe tbody tr th {\n",
       "        vertical-align: top;\n",
       "    }\n",
       "\n",
       "    .dataframe thead th {\n",
       "        text-align: right;\n",
       "    }\n",
       "</style>\n",
       "<table border=\"1\" class=\"dataframe\">\n",
       "  <thead>\n",
       "    <tr style=\"text-align: right;\">\n",
       "      <th></th>\n",
       "      <th></th>\n",
       "      <th></th>\n",
       "      <th></th>\n",
       "      <th>generation (mwh)</th>\n",
       "    </tr>\n",
       "    <tr>\n",
       "      <th>fuel category</th>\n",
       "      <th>year</th>\n",
       "      <th>nerc</th>\n",
       "      <th>month</th>\n",
       "      <th></th>\n",
       "    </tr>\n",
       "  </thead>\n",
       "  <tbody>\n",
       "    <tr>\n",
       "      <th rowspan=\"5\" valign=\"top\">Coal</th>\n",
       "      <th rowspan=\"5\" valign=\"top\">2001</th>\n",
       "      <th rowspan=\"5\" valign=\"top\">ASCC</th>\n",
       "      <th>1</th>\n",
       "      <td>26493.302</td>\n",
       "    </tr>\n",
       "    <tr>\n",
       "      <th>2</th>\n",
       "      <td>31263.704</td>\n",
       "    </tr>\n",
       "    <tr>\n",
       "      <th>3</th>\n",
       "      <td>28459.894</td>\n",
       "    </tr>\n",
       "    <tr>\n",
       "      <th>4</th>\n",
       "      <td>20455.924</td>\n",
       "    </tr>\n",
       "    <tr>\n",
       "      <th>5</th>\n",
       "      <td>24096.734</td>\n",
       "    </tr>\n",
       "  </tbody>\n",
       "</table>\n",
       "</div>"
      ],
      "text/plain": [
       "                               generation (mwh)\n",
       "fuel category year nerc month                  \n",
       "Coal          2001 ASCC 1             26493.302\n",
       "                        2             31263.704\n",
       "                        3             28459.894\n",
       "                        4             20455.924\n",
       "                        5             24096.734"
      ]
     },
     "execution_count": 46,
     "metadata": {},
     "output_type": "execute_result"
    }
   ],
   "source": [
    "total_monthly_gen.head()"
   ]
  },
  {
   "cell_type": "code",
   "execution_count": 47,
   "metadata": {
    "ExecuteTime": {
     "end_time": "2017-11-06T17:29:00.839446Z",
     "start_time": "2017-11-06T17:29:00.820895Z"
    }
   },
   "outputs": [
    {
     "data": {
      "text/plain": [
       "Index(['ASCC', 'FRCC', 'HICC', 'MRO', 'NPCC', 'RFC', 'SERC', 'SPP', 'TRE',\n",
       "       'WECC'],\n",
       "      dtype='object', name='nerc')"
      ]
     },
     "execution_count": 47,
     "metadata": {},
     "output_type": "execute_result"
    }
   ],
   "source": [
    "nercs"
   ]
  },
  {
   "cell_type": "code",
   "execution_count": 52,
   "metadata": {
    "ExecuteTime": {
     "end_time": "2017-11-06T17:30:33.838463Z",
     "start_time": "2017-11-06T17:30:33.685143Z"
    },
    "collapsed": true
   },
   "outputs": [],
   "source": [
    "path = join(cwd, '..', 'Data storage', 'Final NERC data',\n",
    "            'NERC generation {}.csv'.format(file_date))\n",
    "total_monthly_gen.to_csv(path)"
   ]
  },
  {
   "cell_type": "markdown",
   "metadata": {},
   "source": [
    "## CO₂ emissions intensity by NERC region"
   ]
  },
  {
   "cell_type": "code",
   "execution_count": 49,
   "metadata": {
    "ExecuteTime": {
     "end_time": "2017-11-06T17:30:48.110628Z",
     "start_time": "2017-11-06T17:30:48.102015Z"
    }
   },
   "outputs": [
    {
     "data": {
      "text/plain": [
       "year  nerc  month\n",
       "2001  ASCC  1        2.776167e+08\n",
       "            2        2.687019e+08\n",
       "            3        2.937043e+08\n",
       "            4        2.354016e+08\n",
       "            5        2.303100e+08\n",
       "Name: final co2 (kg), dtype: float64"
      ]
     },
     "execution_count": 49,
     "metadata": {},
     "output_type": "execute_result"
    }
   ],
   "source": [
    "co2_nerc.head()"
   ]
  },
  {
   "cell_type": "code",
   "execution_count": 50,
   "metadata": {
    "ExecuteTime": {
     "end_time": "2017-11-06T17:30:48.121279Z",
     "start_time": "2017-11-06T17:30:48.113729Z"
    }
   },
   "outputs": [
    {
     "data": {
      "text/plain": [
       "(pandas.core.series.Series, pandas.core.frame.DataFrame)"
      ]
     },
     "execution_count": 50,
     "metadata": {},
     "output_type": "execute_result"
    }
   ],
   "source": [
    "type(co2_nerc), type(total_monthly_gen)"
   ]
  },
  {
   "cell_type": "code",
   "execution_count": 48,
   "metadata": {
    "ExecuteTime": {
     "end_time": "2017-11-06T17:30:48.134154Z",
     "start_time": "2017-11-06T17:30:48.124056Z"
    },
    "collapsed": true
   },
   "outputs": [],
   "source": [
    "total_monthly_gen = total_monthly_gen.groupby(['year', 'nerc', 'month']).sum()"
   ]
  },
  {
   "cell_type": "code",
   "execution_count": 49,
   "metadata": {
    "ExecuteTime": {
     "end_time": "2017-11-06T17:30:48.173027Z",
     "start_time": "2017-11-06T17:30:48.137030Z"
    },
    "collapsed": true
   },
   "outputs": [],
   "source": [
    "nerc_index = pd.concat([co2_nerc.sort_index(), total_monthly_gen.sort_index()], axis=1)\n",
    "nerc_index['index'] = nerc_index['final co2 (kg)'] / nerc_index['generation (mwh)']\n",
    "nerc_index = nerc_index.reset_index()\n",
    "add_datetime(nerc_index)"
   ]
  },
  {
   "cell_type": "code",
   "execution_count": 50,
   "metadata": {
    "ExecuteTime": {
     "end_time": "2017-11-06T17:30:48.192160Z",
     "start_time": "2017-11-06T17:30:48.175353Z"
    }
   },
   "outputs": [
    {
     "data": {
      "text/html": [
       "<div>\n",
       "<style scoped>\n",
       "    .dataframe tbody tr th:only-of-type {\n",
       "        vertical-align: middle;\n",
       "    }\n",
       "\n",
       "    .dataframe tbody tr th {\n",
       "        vertical-align: top;\n",
       "    }\n",
       "\n",
       "    .dataframe thead th {\n",
       "        text-align: right;\n",
       "    }\n",
       "</style>\n",
       "<table border=\"1\" class=\"dataframe\">\n",
       "  <thead>\n",
       "    <tr style=\"text-align: right;\">\n",
       "      <th></th>\n",
       "      <th>year</th>\n",
       "      <th>nerc</th>\n",
       "      <th>month</th>\n",
       "      <th>final co2 (kg)</th>\n",
       "      <th>generation (mwh)</th>\n",
       "      <th>index</th>\n",
       "      <th>datetime</th>\n",
       "    </tr>\n",
       "  </thead>\n",
       "  <tbody>\n",
       "    <tr>\n",
       "      <th>2035</th>\n",
       "      <td>2017</td>\n",
       "      <td>WECC</td>\n",
       "      <td>8</td>\n",
       "      <td>2.730900e+10</td>\n",
       "      <td>6.893889e+07</td>\n",
       "      <td>396.133437</td>\n",
       "      <td>2017-08-01</td>\n",
       "    </tr>\n",
       "    <tr>\n",
       "      <th>2036</th>\n",
       "      <td>2017</td>\n",
       "      <td>WECC</td>\n",
       "      <td>9</td>\n",
       "      <td>2.301635e+10</td>\n",
       "      <td>5.995524e+07</td>\n",
       "      <td>383.892221</td>\n",
       "      <td>2017-09-01</td>\n",
       "    </tr>\n",
       "    <tr>\n",
       "      <th>2037</th>\n",
       "      <td>2017</td>\n",
       "      <td>WECC</td>\n",
       "      <td>10</td>\n",
       "      <td>2.127247e+10</td>\n",
       "      <td>5.624146e+07</td>\n",
       "      <td>378.234615</td>\n",
       "      <td>2017-10-01</td>\n",
       "    </tr>\n",
       "    <tr>\n",
       "      <th>2038</th>\n",
       "      <td>2017</td>\n",
       "      <td>WECC</td>\n",
       "      <td>11</td>\n",
       "      <td>2.029870e+10</td>\n",
       "      <td>5.300900e+07</td>\n",
       "      <td>382.929310</td>\n",
       "      <td>2017-11-01</td>\n",
       "    </tr>\n",
       "    <tr>\n",
       "      <th>2039</th>\n",
       "      <td>2017</td>\n",
       "      <td>WECC</td>\n",
       "      <td>12</td>\n",
       "      <td>2.134598e+10</td>\n",
       "      <td>5.847142e+07</td>\n",
       "      <td>365.066908</td>\n",
       "      <td>2017-12-01</td>\n",
       "    </tr>\n",
       "  </tbody>\n",
       "</table>\n",
       "</div>"
      ],
      "text/plain": [
       "      year  nerc  month  final co2 (kg)  generation (mwh)       index  \\\n",
       "2035  2017  WECC      8    2.730900e+10      6.893889e+07  396.133437   \n",
       "2036  2017  WECC      9    2.301635e+10      5.995524e+07  383.892221   \n",
       "2037  2017  WECC     10    2.127247e+10      5.624146e+07  378.234615   \n",
       "2038  2017  WECC     11    2.029870e+10      5.300900e+07  382.929310   \n",
       "2039  2017  WECC     12    2.134598e+10      5.847142e+07  365.066908   \n",
       "\n",
       "       datetime  \n",
       "2035 2017-08-01  \n",
       "2036 2017-09-01  \n",
       "2037 2017-10-01  \n",
       "2038 2017-11-01  \n",
       "2039 2017-12-01  "
      ]
     },
     "execution_count": 50,
     "metadata": {},
     "output_type": "execute_result"
    }
   ],
   "source": [
    "nerc_index.tail()"
   ]
  },
  {
   "cell_type": "markdown",
   "metadata": {},
   "source": [
    "### Write data to file"
   ]
  },
  {
   "cell_type": "code",
   "execution_count": 51,
   "metadata": {
    "ExecuteTime": {
     "end_time": "2017-11-06T17:30:48.213043Z",
     "start_time": "2017-11-06T17:30:48.194201Z"
    }
   },
   "outputs": [
    {
     "data": {
      "text/html": [
       "<div>\n",
       "<style scoped>\n",
       "    .dataframe tbody tr th:only-of-type {\n",
       "        vertical-align: middle;\n",
       "    }\n",
       "\n",
       "    .dataframe tbody tr th {\n",
       "        vertical-align: top;\n",
       "    }\n",
       "\n",
       "    .dataframe thead th {\n",
       "        text-align: right;\n",
       "    }\n",
       "</style>\n",
       "<table border=\"1\" class=\"dataframe\">\n",
       "  <thead>\n",
       "    <tr style=\"text-align: right;\">\n",
       "      <th></th>\n",
       "      <th>year</th>\n",
       "      <th>nerc</th>\n",
       "      <th>month</th>\n",
       "      <th>final co2 (kg)</th>\n",
       "      <th>generation (mwh)</th>\n",
       "      <th>index</th>\n",
       "      <th>datetime</th>\n",
       "    </tr>\n",
       "  </thead>\n",
       "  <tbody>\n",
       "    <tr>\n",
       "      <th>0</th>\n",
       "      <td>2001</td>\n",
       "      <td>ASCC</td>\n",
       "      <td>1</td>\n",
       "      <td>2.776167e+08</td>\n",
       "      <td>509509.093</td>\n",
       "      <td>544.870957</td>\n",
       "      <td>2001-01-01</td>\n",
       "    </tr>\n",
       "    <tr>\n",
       "      <th>1</th>\n",
       "      <td>2001</td>\n",
       "      <td>ASCC</td>\n",
       "      <td>2</td>\n",
       "      <td>2.687019e+08</td>\n",
       "      <td>456570.631</td>\n",
       "      <td>588.522012</td>\n",
       "      <td>2001-02-01</td>\n",
       "    </tr>\n",
       "    <tr>\n",
       "      <th>2</th>\n",
       "      <td>2001</td>\n",
       "      <td>ASCC</td>\n",
       "      <td>3</td>\n",
       "      <td>2.937043e+08</td>\n",
       "      <td>492752.208</td>\n",
       "      <td>596.048720</td>\n",
       "      <td>2001-03-01</td>\n",
       "    </tr>\n",
       "    <tr>\n",
       "      <th>3</th>\n",
       "      <td>2001</td>\n",
       "      <td>ASCC</td>\n",
       "      <td>4</td>\n",
       "      <td>2.354016e+08</td>\n",
       "      <td>416745.544</td>\n",
       "      <td>564.856988</td>\n",
       "      <td>2001-04-01</td>\n",
       "    </tr>\n",
       "    <tr>\n",
       "      <th>4</th>\n",
       "      <td>2001</td>\n",
       "      <td>ASCC</td>\n",
       "      <td>5</td>\n",
       "      <td>2.303100e+08</td>\n",
       "      <td>408946.508</td>\n",
       "      <td>563.178907</td>\n",
       "      <td>2001-05-01</td>\n",
       "    </tr>\n",
       "  </tbody>\n",
       "</table>\n",
       "</div>"
      ],
      "text/plain": [
       "   year  nerc  month  final co2 (kg)  generation (mwh)       index   datetime\n",
       "0  2001  ASCC      1    2.776167e+08        509509.093  544.870957 2001-01-01\n",
       "1  2001  ASCC      2    2.687019e+08        456570.631  588.522012 2001-02-01\n",
       "2  2001  ASCC      3    2.937043e+08        492752.208  596.048720 2001-03-01\n",
       "3  2001  ASCC      4    2.354016e+08        416745.544  564.856988 2001-04-01\n",
       "4  2001  ASCC      5    2.303100e+08        408946.508  563.178907 2001-05-01"
      ]
     },
     "execution_count": 51,
     "metadata": {},
     "output_type": "execute_result"
    }
   ],
   "source": [
    "nerc_index.head()"
   ]
  },
  {
   "cell_type": "code",
   "execution_count": 53,
   "metadata": {
    "ExecuteTime": {
     "end_time": "2017-11-06T17:30:53.479109Z",
     "start_time": "2017-11-06T17:30:53.439239Z"
    },
    "collapsed": true
   },
   "outputs": [],
   "source": [
    "path = join(cwd, '..', 'Data storage', 'Final NERC data',\n",
    "            'NERC gen emissions and index {}.csv'.format(file_date))\n",
    "nerc_index.to_csv(path, index=False)"
   ]
  }
 ],
 "metadata": {
  "kernelspec": {
   "display_name": "py36",
   "language": "python",
   "name": "py36"
  },
  "language_info": {
   "codemirror_mode": {
    "name": "ipython",
    "version": 3
   },
   "file_extension": ".py",
   "mimetype": "text/x-python",
   "name": "python",
   "nbconvert_exporter": "python",
   "pygments_lexer": "ipython3",
   "version": "3.6.4"
  },
  "varInspector": {
   "cols": {
    "lenName": 16,
    "lenType": 16,
    "lenVar": 40
   },
   "kernels_config": {
    "python": {
     "delete_cmd_postfix": "",
     "delete_cmd_prefix": "del ",
     "library": "var_list.py",
     "varRefreshCmd": "print(var_dic_list())"
    },
    "r": {
     "delete_cmd_postfix": ") ",
     "delete_cmd_prefix": "rm(",
     "library": "var_list.r",
     "varRefreshCmd": "cat(var_dic_list()) "
    }
   },
   "types_to_exclude": [
    "module",
    "function",
    "builtin_function_or_method",
    "instance",
    "_Feature"
   ],
   "window_display": false
  }
 },
 "nbformat": 4,
 "nbformat_minor": 2
}
