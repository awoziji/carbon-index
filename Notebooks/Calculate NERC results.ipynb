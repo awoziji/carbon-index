{
 "cells": [
  {
   "cell_type": "code",
   "execution_count": 1,
   "metadata": {
    "ExecuteTime": {
     "end_time": "2017-10-05T21:01:50.088690Z",
     "start_time": "2017-10-05T21:01:47.610107Z"
    },
    "collapsed": true
   },
   "outputs": [],
   "source": [
    "%matplotlib inline\n",
    "import matplotlib.pyplot as plt\n",
    "import seaborn as sns\n",
    "import pandas as pd\n",
    "import numpy as np\n",
    "import os\n",
    "from os.path import join\n",
    "import sys\n",
    "import json\n",
    "import geopandas as gpd"
   ]
  },
  {
   "cell_type": "code",
   "execution_count": 2,
   "metadata": {
    "ExecuteTime": {
     "end_time": "2017-10-05T21:02:04.231929Z",
     "start_time": "2017-10-05T21:02:04.192679Z"
    },
    "collapsed": true
   },
   "outputs": [],
   "source": [
    "# Load the \"autoreload\" extension\n",
    "%load_ext autoreload\n",
    "\n",
    "# always reload modules marked with \"%aimport\"\n",
    "%autoreload 1"
   ]
  },
  {
   "cell_type": "code",
   "execution_count": 3,
   "metadata": {
    "ExecuteTime": {
     "end_time": "2017-10-05T21:02:10.916974Z",
     "start_time": "2017-10-05T21:02:10.912189Z"
    },
    "collapsed": true
   },
   "outputs": [],
   "source": [
    "# add the 'src' directory as one where we can import modules\n",
    "src_dir = join(os.getcwd(), os.pardir, 'src')\n",
    "sys.path.append(src_dir)"
   ]
  },
  {
   "cell_type": "code",
   "execution_count": 79,
   "metadata": {
    "ExecuteTime": {
     "end_time": "2017-10-06T02:40:25.181157Z",
     "start_time": "2017-10-06T02:40:25.171448Z"
    }
   },
   "outputs": [],
   "source": [
    "%aimport Data.make_data\n",
    "from Data.make_data import states_in_nerc\n",
    "%aimport Analysis.index\n",
    "from Analysis.index import facility_emission_gen, group_facility_data\n",
    "%aimport Analysis.index\n",
    "from Analysis.index import facility_co2, adjust_epa_emissions, group_fuel_cats\n",
    "from Analysis.index import reduce_emission_factors, add_datetime\n",
    "%aimport util.utils\n",
    "from util.utils import rename_cols, add_facility_location"
   ]
  },
  {
   "cell_type": "markdown",
   "metadata": {},
   "source": [
    "## Extra NERC emissions and generation"
   ]
  },
  {
   "cell_type": "markdown",
   "metadata": {},
   "source": [
    "### Load extra NERC generation and fuel consumption"
   ]
  },
  {
   "cell_type": "code",
   "execution_count": 7,
   "metadata": {
    "ExecuteTime": {
     "end_time": "2017-10-05T21:03:22.952775Z",
     "start_time": "2017-10-05T21:03:22.940161Z"
    }
   },
   "outputs": [],
   "source": [
    "cwd = os.getcwd()\n",
    "path = join(cwd, '..', 'Data storage', 'NERC extra gen fuels.csv')\n",
    "extra_nerc = pd.read_csv(path, index_col=[0, 1, 2, 3])"
   ]
  },
  {
   "cell_type": "code",
   "execution_count": 8,
   "metadata": {
    "ExecuteTime": {
     "end_time": "2017-10-05T21:03:24.076355Z",
     "start_time": "2017-10-05T21:03:24.061664Z"
    }
   },
   "outputs": [
    {
     "data": {
      "text/html": [
       "<div>\n",
       "<style>\n",
       "    .dataframe thead tr:only-child th {\n",
       "        text-align: right;\n",
       "    }\n",
       "\n",
       "    .dataframe thead th {\n",
       "        text-align: left;\n",
       "    }\n",
       "\n",
       "    .dataframe tbody tr th {\n",
       "        vertical-align: top;\n",
       "    }\n",
       "</style>\n",
       "<table border=\"1\" class=\"dataframe\">\n",
       "  <thead>\n",
       "    <tr style=\"text-align: right;\">\n",
       "      <th></th>\n",
       "      <th></th>\n",
       "      <th></th>\n",
       "      <th></th>\n",
       "      <th>generation (mwh)</th>\n",
       "      <th>total fuel (mmbtu)</th>\n",
       "      <th>elec fuel (mmbtu)</th>\n",
       "    </tr>\n",
       "    <tr>\n",
       "      <th>year</th>\n",
       "      <th>nerc</th>\n",
       "      <th>month</th>\n",
       "      <th>type</th>\n",
       "      <th></th>\n",
       "      <th></th>\n",
       "      <th></th>\n",
       "    </tr>\n",
       "  </thead>\n",
       "  <tbody>\n",
       "    <tr>\n",
       "      <th rowspan=\"5\" valign=\"top\">2016</th>\n",
       "      <th rowspan=\"5\" valign=\"top\">WECC</th>\n",
       "      <th rowspan=\"5\" valign=\"top\">1</th>\n",
       "      <th>COW</th>\n",
       "      <td>3.758774e+05</td>\n",
       "      <td>6.325535e+06</td>\n",
       "      <td>4.298811e+06</td>\n",
       "    </tr>\n",
       "    <tr>\n",
       "      <th>GEO</th>\n",
       "      <td>5.326896e+05</td>\n",
       "      <td>NaN</td>\n",
       "      <td>NaN</td>\n",
       "    </tr>\n",
       "    <tr>\n",
       "      <th>HYC</th>\n",
       "      <td>2.137328e+06</td>\n",
       "      <td>NaN</td>\n",
       "      <td>NaN</td>\n",
       "    </tr>\n",
       "    <tr>\n",
       "      <th>NG</th>\n",
       "      <td>2.231104e+06</td>\n",
       "      <td>2.732402e+07</td>\n",
       "      <td>1.755353e+07</td>\n",
       "    </tr>\n",
       "    <tr>\n",
       "      <th>OOG</th>\n",
       "      <td>-3.632221e+04</td>\n",
       "      <td>NaN</td>\n",
       "      <td>NaN</td>\n",
       "    </tr>\n",
       "  </tbody>\n",
       "</table>\n",
       "</div>"
      ],
      "text/plain": [
       "                      generation (mwh)  total fuel (mmbtu)  elec fuel (mmbtu)\n",
       "year nerc month type                                                         \n",
       "2016 WECC 1     COW       3.758774e+05        6.325535e+06       4.298811e+06\n",
       "                GEO       5.326896e+05                 NaN                NaN\n",
       "                HYC       2.137328e+06                 NaN                NaN\n",
       "                NG        2.231104e+06        2.732402e+07       1.755353e+07\n",
       "                OOG      -3.632221e+04                 NaN                NaN"
      ]
     },
     "execution_count": 8,
     "metadata": {},
     "output_type": "execute_result"
    }
   ],
   "source": [
    "extra_nerc.head()"
   ]
  },
  {
   "cell_type": "markdown",
   "metadata": {},
   "source": [
    "### Load emission factors"
   ]
  },
  {
   "cell_type": "code",
   "execution_count": 12,
   "metadata": {
    "ExecuteTime": {
     "end_time": "2017-10-05T21:07:02.450876Z",
     "start_time": "2017-10-05T21:07:02.444241Z"
    }
   },
   "outputs": [],
   "source": [
    "path = join(cwd, '..', 'Data storage', 'Final emission factors.csv')\n",
    "ef = pd.read_csv(path, index_col=0)"
   ]
  },
  {
   "cell_type": "code",
   "execution_count": 13,
   "metadata": {
    "ExecuteTime": {
     "end_time": "2017-10-05T21:07:03.136049Z",
     "start_time": "2017-10-05T21:07:03.122908Z"
    }
   },
   "outputs": [
    {
     "data": {
      "text/html": [
       "<div>\n",
       "<style>\n",
       "    .dataframe thead tr:only-child th {\n",
       "        text-align: right;\n",
       "    }\n",
       "\n",
       "    .dataframe thead th {\n",
       "        text-align: left;\n",
       "    }\n",
       "\n",
       "    .dataframe tbody tr th {\n",
       "        vertical-align: top;\n",
       "    }\n",
       "</style>\n",
       "<table border=\"1\" class=\"dataframe\">\n",
       "  <thead>\n",
       "    <tr style=\"text-align: right;\">\n",
       "      <th></th>\n",
       "      <th>Fuel</th>\n",
       "      <th>Fossil Factor</th>\n",
       "      <th>Notes</th>\n",
       "      <th>Link</th>\n",
       "      <th>Total Factor</th>\n",
       "    </tr>\n",
       "    <tr>\n",
       "      <th>EIA Fuel Code</th>\n",
       "      <th></th>\n",
       "      <th></th>\n",
       "      <th></th>\n",
       "      <th></th>\n",
       "      <th></th>\n",
       "    </tr>\n",
       "  </thead>\n",
       "  <tbody>\n",
       "    <tr>\n",
       "      <th>BIT</th>\n",
       "      <td>Bituminous Coal</td>\n",
       "      <td>93.30</td>\n",
       "      <td>NaN</td>\n",
       "      <td>https://www.eia.gov/electricity/annual/html/ep...</td>\n",
       "      <td>93.30</td>\n",
       "    </tr>\n",
       "    <tr>\n",
       "      <th>DFO</th>\n",
       "      <td>Distillate Fuel Oil</td>\n",
       "      <td>73.16</td>\n",
       "      <td>NaN</td>\n",
       "      <td>https://www.eia.gov/electricity/annual/html/ep...</td>\n",
       "      <td>73.16</td>\n",
       "    </tr>\n",
       "    <tr>\n",
       "      <th>GEO</th>\n",
       "      <td>Geothermal</td>\n",
       "      <td>7.71</td>\n",
       "      <td>NaN</td>\n",
       "      <td>https://www.eia.gov/electricity/annual/html/ep...</td>\n",
       "      <td>7.71</td>\n",
       "    </tr>\n",
       "    <tr>\n",
       "      <th>JF</th>\n",
       "      <td>Jet Fuel</td>\n",
       "      <td>70.90</td>\n",
       "      <td>NaN</td>\n",
       "      <td>https://www.eia.gov/electricity/annual/html/ep...</td>\n",
       "      <td>70.90</td>\n",
       "    </tr>\n",
       "    <tr>\n",
       "      <th>KER</th>\n",
       "      <td>Kerosene</td>\n",
       "      <td>72.30</td>\n",
       "      <td>NaN</td>\n",
       "      <td>https://www.eia.gov/electricity/annual/html/ep...</td>\n",
       "      <td>72.30</td>\n",
       "    </tr>\n",
       "  </tbody>\n",
       "</table>\n",
       "</div>"
      ],
      "text/plain": [
       "                              Fuel  Fossil Factor Notes  \\\n",
       "EIA Fuel Code                                             \n",
       "BIT                Bituminous Coal          93.30   NaN   \n",
       "DFO            Distillate Fuel Oil          73.16   NaN   \n",
       "GEO                     Geothermal           7.71   NaN   \n",
       "JF                        Jet Fuel          70.90   NaN   \n",
       "KER                       Kerosene          72.30   NaN   \n",
       "\n",
       "                                                            Link  Total Factor  \n",
       "EIA Fuel Code                                                                   \n",
       "BIT            https://www.eia.gov/electricity/annual/html/ep...         93.30  \n",
       "DFO            https://www.eia.gov/electricity/annual/html/ep...         73.16  \n",
       "GEO            https://www.eia.gov/electricity/annual/html/ep...          7.71  \n",
       "JF             https://www.eia.gov/electricity/annual/html/ep...         70.90  \n",
       "KER            https://www.eia.gov/electricity/annual/html/ep...         72.30  "
      ]
     },
     "execution_count": 13,
     "metadata": {},
     "output_type": "execute_result"
    }
   ],
   "source": [
    "ef.head()"
   ]
  },
  {
   "cell_type": "code",
   "execution_count": 19,
   "metadata": {
    "ExecuteTime": {
     "end_time": "2017-10-06T01:49:28.792929Z",
     "start_time": "2017-10-06T01:49:28.769202Z"
    },
    "collapsed": true
   },
   "outputs": [],
   "source": [
    "ef_type = reduce_emission_factors(ef)"
   ]
  },
  {
   "cell_type": "code",
   "execution_count": 22,
   "metadata": {
    "ExecuteTime": {
     "end_time": "2017-10-06T01:50:47.904827Z",
     "start_time": "2017-10-06T01:50:47.896286Z"
    }
   },
   "outputs": [
    {
     "data": {
      "text/plain": [
       "COW     95.250\n",
       "NG      53.070\n",
       "OOG     59.000\n",
       "PC     102.100\n",
       "PEL     75.975\n",
       "Name: type, dtype: float64"
      ]
     },
     "execution_count": 22,
     "metadata": {},
     "output_type": "execute_result"
    }
   ],
   "source": [
    "ef_type = pd.Series(ef_type, name='type')\n",
    "ef_type"
   ]
  },
  {
   "cell_type": "markdown",
   "metadata": {},
   "source": [
    "### Calculate CO₂ emissions"
   ]
  },
  {
   "cell_type": "code",
   "execution_count": 25,
   "metadata": {
    "ExecuteTime": {
     "end_time": "2017-10-06T01:52:10.718811Z",
     "start_time": "2017-10-06T01:52:10.707215Z"
    }
   },
   "outputs": [],
   "source": [
    "extra_nerc.loc[:, 'total co2 (kg)'] = (extra_nerc\n",
    "                                       .loc[:, 'total fuel (mmbtu)']\n",
    "                                       .multiply(ef_type, 'type'))\n",
    "extra_nerc.loc[:, 'elec co2 (kg)'] = (extra_nerc\n",
    "                                       .loc[:, 'elec fuel (mmbtu)']\n",
    "                                       .multiply(ef_type, 'type'))"
   ]
  },
  {
   "cell_type": "code",
   "execution_count": 26,
   "metadata": {
    "ExecuteTime": {
     "end_time": "2017-10-06T01:52:16.637155Z",
     "start_time": "2017-10-06T01:52:16.619578Z"
    }
   },
   "outputs": [
    {
     "data": {
      "text/html": [
       "<div>\n",
       "<style>\n",
       "    .dataframe thead tr:only-child th {\n",
       "        text-align: right;\n",
       "    }\n",
       "\n",
       "    .dataframe thead th {\n",
       "        text-align: left;\n",
       "    }\n",
       "\n",
       "    .dataframe tbody tr th {\n",
       "        vertical-align: top;\n",
       "    }\n",
       "</style>\n",
       "<table border=\"1\" class=\"dataframe\">\n",
       "  <thead>\n",
       "    <tr style=\"text-align: right;\">\n",
       "      <th></th>\n",
       "      <th></th>\n",
       "      <th></th>\n",
       "      <th></th>\n",
       "      <th>generation (mwh)</th>\n",
       "      <th>total fuel (mmbtu)</th>\n",
       "      <th>elec fuel (mmbtu)</th>\n",
       "      <th>total co2 (kg)</th>\n",
       "      <th>elec co2 (kg)</th>\n",
       "    </tr>\n",
       "    <tr>\n",
       "      <th>year</th>\n",
       "      <th>nerc</th>\n",
       "      <th>month</th>\n",
       "      <th>type</th>\n",
       "      <th></th>\n",
       "      <th></th>\n",
       "      <th></th>\n",
       "      <th></th>\n",
       "      <th></th>\n",
       "    </tr>\n",
       "  </thead>\n",
       "  <tbody>\n",
       "    <tr>\n",
       "      <th rowspan=\"5\" valign=\"top\">2016</th>\n",
       "      <th rowspan=\"5\" valign=\"top\">WECC</th>\n",
       "      <th rowspan=\"5\" valign=\"top\">1</th>\n",
       "      <th>COW</th>\n",
       "      <td>3.758774e+05</td>\n",
       "      <td>6.325535e+06</td>\n",
       "      <td>4.298811e+06</td>\n",
       "      <td>6.025072e+08</td>\n",
       "      <td>4.094617e+08</td>\n",
       "    </tr>\n",
       "    <tr>\n",
       "      <th>GEO</th>\n",
       "      <td>5.326896e+05</td>\n",
       "      <td>NaN</td>\n",
       "      <td>NaN</td>\n",
       "      <td>NaN</td>\n",
       "      <td>NaN</td>\n",
       "    </tr>\n",
       "    <tr>\n",
       "      <th>HYC</th>\n",
       "      <td>2.137328e+06</td>\n",
       "      <td>NaN</td>\n",
       "      <td>NaN</td>\n",
       "      <td>NaN</td>\n",
       "      <td>NaN</td>\n",
       "    </tr>\n",
       "    <tr>\n",
       "      <th>NG</th>\n",
       "      <td>2.231104e+06</td>\n",
       "      <td>2.732402e+07</td>\n",
       "      <td>1.755353e+07</td>\n",
       "      <td>1.450086e+09</td>\n",
       "      <td>9.315656e+08</td>\n",
       "    </tr>\n",
       "    <tr>\n",
       "      <th>OOG</th>\n",
       "      <td>-3.632221e+04</td>\n",
       "      <td>NaN</td>\n",
       "      <td>NaN</td>\n",
       "      <td>NaN</td>\n",
       "      <td>NaN</td>\n",
       "    </tr>\n",
       "  </tbody>\n",
       "</table>\n",
       "</div>"
      ],
      "text/plain": [
       "                      generation (mwh)  total fuel (mmbtu)  elec fuel (mmbtu)  \\\n",
       "year nerc month type                                                            \n",
       "2016 WECC 1     COW       3.758774e+05        6.325535e+06       4.298811e+06   \n",
       "                GEO       5.326896e+05                 NaN                NaN   \n",
       "                HYC       2.137328e+06                 NaN                NaN   \n",
       "                NG        2.231104e+06        2.732402e+07       1.755353e+07   \n",
       "                OOG      -3.632221e+04                 NaN                NaN   \n",
       "\n",
       "                      total co2 (kg)  elec co2 (kg)  \n",
       "year nerc month type                                 \n",
       "2016 WECC 1     COW     6.025072e+08   4.094617e+08  \n",
       "                GEO              NaN            NaN  \n",
       "                HYC              NaN            NaN  \n",
       "                NG      1.450086e+09   9.315656e+08  \n",
       "                OOG              NaN            NaN  "
      ]
     },
     "execution_count": 26,
     "metadata": {},
     "output_type": "execute_result"
    }
   ],
   "source": [
    "extra_nerc.head()"
   ]
  },
  {
   "cell_type": "markdown",
   "metadata": {},
   "source": [
    "## Facilities by NERC"
   ]
  },
  {
   "cell_type": "code",
   "execution_count": 27,
   "metadata": {
    "ExecuteTime": {
     "end_time": "2017-10-06T02:14:37.992879Z",
     "start_time": "2017-10-06T02:14:37.972478Z"
    },
    "collapsed": true
   },
   "outputs": [],
   "source": [
    "%aimport Analysis.state2nerc\n",
    "from Analysis.state2nerc import fraction_state2nerc, add_region"
   ]
  },
  {
   "cell_type": "code",
   "execution_count": 36,
   "metadata": {
    "ExecuteTime": {
     "end_time": "2017-10-06T02:21:01.514119Z",
     "start_time": "2017-10-06T02:21:01.500010Z"
    },
    "collapsed": true
   },
   "outputs": [],
   "source": [
    "fuel_cat_folder = join(cwd, '..', 'Data storage', 'Fuel categories')\n",
    "state_cats_path = join(fuel_cat_folder, 'State_facility.json')\n",
    "\n",
    "with open(state_cats_path, 'r') as f:\n",
    "    state_fuel_cat = json.load(f)\n",
    "    \n",
    "custom_cats_path = join(fuel_cat_folder, 'Custom_results.json')\n",
    "with open(custom_cats_path, 'r') as f:\n",
    "    custom_fuel_cat = json.load(f)"
   ]
  },
  {
   "cell_type": "code",
   "execution_count": 37,
   "metadata": {
    "ExecuteTime": {
     "end_time": "2017-10-06T02:21:11.013950Z",
     "start_time": "2017-10-06T02:21:10.629837Z"
    },
    "collapsed": true
   },
   "outputs": [],
   "source": [
    "path = join(cwd, '..', 'Data storage', 'Derived data',\n",
    "            'Monthly EPA emissions 2017-08-31.csv')\n",
    "epa = pd.read_csv(path)"
   ]
  },
  {
   "cell_type": "code",
   "execution_count": 31,
   "metadata": {
    "ExecuteTime": {
     "end_time": "2017-10-06T02:17:57.593540Z",
     "start_time": "2017-10-06T02:17:57.038689Z"
    },
    "collapsed": true
   },
   "outputs": [],
   "source": [
    "path = join(cwd, '..', 'Data storage', 'NERC_Regions_EIA',\n",
    "            'NercRegions_201610.shp')\n",
    "regions = gpd.read_file(path)"
   ]
  },
  {
   "cell_type": "code",
   "execution_count": 33,
   "metadata": {
    "ExecuteTime": {
     "end_time": "2017-10-06T02:18:26.803590Z",
     "start_time": "2017-10-06T02:18:26.784623Z"
    },
    "collapsed": true
   },
   "outputs": [],
   "source": [
    "path = join(cwd, '..', 'Data storage', 'Facility labels',\n",
    "            'Facility locations.csv')\n",
    "state_labels = pd.read_csv(path)"
   ]
  },
  {
   "cell_type": "code",
   "execution_count": 29,
   "metadata": {
    "ExecuteTime": {
     "end_time": "2017-10-06T02:16:17.958703Z",
     "start_time": "2017-10-06T02:16:08.918918Z"
    },
    "collapsed": true
   },
   "outputs": [],
   "source": [
    "path = join(cwd, '..', 'Data storage',\n",
    "            'Facility gen fuels and CO2 2017-08-31.zip')\n",
    "eia_fac = pd.read_csv(path)"
   ]
  },
  {
   "cell_type": "code",
   "execution_count": 114,
   "metadata": {
    "ExecuteTime": {
     "end_time": "2017-10-06T19:43:30.536034Z",
     "start_time": "2017-10-06T19:43:30.342021Z"
    }
   },
   "outputs": [
    {
     "data": {
      "text/html": [
       "<div>\n",
       "<style>\n",
       "    .dataframe thead tr:only-child th {\n",
       "        text-align: right;\n",
       "    }\n",
       "\n",
       "    .dataframe thead th {\n",
       "        text-align: left;\n",
       "    }\n",
       "\n",
       "    .dataframe tbody tr th {\n",
       "        vertical-align: top;\n",
       "    }\n",
       "</style>\n",
       "<table border=\"1\" class=\"dataframe\">\n",
       "  <thead>\n",
       "    <tr style=\"text-align: right;\">\n",
       "      <th></th>\n",
       "      <th>f</th>\n",
       "      <th>fuel</th>\n",
       "      <th>month</th>\n",
       "      <th>plant id</th>\n",
       "      <th>total fuel (mmbtu)</th>\n",
       "      <th>year</th>\n",
       "      <th>generation (mwh)</th>\n",
       "      <th>elec fuel (mmbtu)</th>\n",
       "      <th>geography</th>\n",
       "      <th>last_updated</th>\n",
       "      <th>lat</th>\n",
       "      <th>lon</th>\n",
       "      <th>prime mover</th>\n",
       "      <th>datetime</th>\n",
       "      <th>quarter</th>\n",
       "      <th>all fuel fossil co2 (kg)</th>\n",
       "      <th>elec fuel fossil co2 (kg)</th>\n",
       "      <th>all fuel total co2 (kg)</th>\n",
       "      <th>elec fuel total co2 (kg)</th>\n",
       "      <th>type</th>\n",
       "    </tr>\n",
       "  </thead>\n",
       "  <tbody>\n",
       "    <tr>\n",
       "      <th>0</th>\n",
       "      <td>M</td>\n",
       "      <td>SUB</td>\n",
       "      <td>6</td>\n",
       "      <td>10360</td>\n",
       "      <td>0.0</td>\n",
       "      <td>2017</td>\n",
       "      <td>0.0</td>\n",
       "      <td>0.0</td>\n",
       "      <td>USA-WI</td>\n",
       "      <td>2017-08-24T11:46:12-04:00</td>\n",
       "      <td>44.4936</td>\n",
       "      <td>-88.0303</td>\n",
       "      <td>ALL</td>\n",
       "      <td>2017-06-01</td>\n",
       "      <td>2</td>\n",
       "      <td>0.0</td>\n",
       "      <td>0.0</td>\n",
       "      <td>0.0</td>\n",
       "      <td>0.0</td>\n",
       "      <td>COW</td>\n",
       "    </tr>\n",
       "    <tr>\n",
       "      <th>1</th>\n",
       "      <td>M</td>\n",
       "      <td>SUB</td>\n",
       "      <td>5</td>\n",
       "      <td>10360</td>\n",
       "      <td>0.0</td>\n",
       "      <td>2017</td>\n",
       "      <td>0.0</td>\n",
       "      <td>0.0</td>\n",
       "      <td>USA-WI</td>\n",
       "      <td>2017-08-24T11:46:12-04:00</td>\n",
       "      <td>44.4936</td>\n",
       "      <td>-88.0303</td>\n",
       "      <td>ALL</td>\n",
       "      <td>2017-05-01</td>\n",
       "      <td>2</td>\n",
       "      <td>0.0</td>\n",
       "      <td>0.0</td>\n",
       "      <td>0.0</td>\n",
       "      <td>0.0</td>\n",
       "      <td>COW</td>\n",
       "    </tr>\n",
       "    <tr>\n",
       "      <th>2</th>\n",
       "      <td>M</td>\n",
       "      <td>SUB</td>\n",
       "      <td>4</td>\n",
       "      <td>10360</td>\n",
       "      <td>0.0</td>\n",
       "      <td>2017</td>\n",
       "      <td>0.0</td>\n",
       "      <td>0.0</td>\n",
       "      <td>USA-WI</td>\n",
       "      <td>2017-08-24T11:46:12-04:00</td>\n",
       "      <td>44.4936</td>\n",
       "      <td>-88.0303</td>\n",
       "      <td>ALL</td>\n",
       "      <td>2017-04-01</td>\n",
       "      <td>2</td>\n",
       "      <td>0.0</td>\n",
       "      <td>0.0</td>\n",
       "      <td>0.0</td>\n",
       "      <td>0.0</td>\n",
       "      <td>COW</td>\n",
       "    </tr>\n",
       "    <tr>\n",
       "      <th>3</th>\n",
       "      <td>M</td>\n",
       "      <td>SUB</td>\n",
       "      <td>3</td>\n",
       "      <td>10360</td>\n",
       "      <td>0.0</td>\n",
       "      <td>2017</td>\n",
       "      <td>0.0</td>\n",
       "      <td>0.0</td>\n",
       "      <td>USA-WI</td>\n",
       "      <td>2017-08-24T11:46:12-04:00</td>\n",
       "      <td>44.4936</td>\n",
       "      <td>-88.0303</td>\n",
       "      <td>ALL</td>\n",
       "      <td>2017-03-01</td>\n",
       "      <td>1</td>\n",
       "      <td>0.0</td>\n",
       "      <td>0.0</td>\n",
       "      <td>0.0</td>\n",
       "      <td>0.0</td>\n",
       "      <td>COW</td>\n",
       "    </tr>\n",
       "    <tr>\n",
       "      <th>4</th>\n",
       "      <td>M</td>\n",
       "      <td>SUB</td>\n",
       "      <td>2</td>\n",
       "      <td>10360</td>\n",
       "      <td>0.0</td>\n",
       "      <td>2017</td>\n",
       "      <td>0.0</td>\n",
       "      <td>0.0</td>\n",
       "      <td>USA-WI</td>\n",
       "      <td>2017-08-24T11:46:12-04:00</td>\n",
       "      <td>44.4936</td>\n",
       "      <td>-88.0303</td>\n",
       "      <td>ALL</td>\n",
       "      <td>2017-02-01</td>\n",
       "      <td>1</td>\n",
       "      <td>0.0</td>\n",
       "      <td>0.0</td>\n",
       "      <td>0.0</td>\n",
       "      <td>0.0</td>\n",
       "      <td>COW</td>\n",
       "    </tr>\n",
       "  </tbody>\n",
       "</table>\n",
       "</div>"
      ],
      "text/plain": [
       "   f fuel  month  plant id  total fuel (mmbtu)  year  generation (mwh)  \\\n",
       "0  M  SUB      6     10360                 0.0  2017               0.0   \n",
       "1  M  SUB      5     10360                 0.0  2017               0.0   \n",
       "2  M  SUB      4     10360                 0.0  2017               0.0   \n",
       "3  M  SUB      3     10360                 0.0  2017               0.0   \n",
       "4  M  SUB      2     10360                 0.0  2017               0.0   \n",
       "\n",
       "   elec fuel (mmbtu) geography               last_updated      lat      lon  \\\n",
       "0                0.0    USA-WI  2017-08-24T11:46:12-04:00  44.4936 -88.0303   \n",
       "1                0.0    USA-WI  2017-08-24T11:46:12-04:00  44.4936 -88.0303   \n",
       "2                0.0    USA-WI  2017-08-24T11:46:12-04:00  44.4936 -88.0303   \n",
       "3                0.0    USA-WI  2017-08-24T11:46:12-04:00  44.4936 -88.0303   \n",
       "4                0.0    USA-WI  2017-08-24T11:46:12-04:00  44.4936 -88.0303   \n",
       "\n",
       "  prime mover    datetime  quarter  all fuel fossil co2 (kg)  \\\n",
       "0         ALL  2017-06-01        2                       0.0   \n",
       "1         ALL  2017-05-01        2                       0.0   \n",
       "2         ALL  2017-04-01        2                       0.0   \n",
       "3         ALL  2017-03-01        1                       0.0   \n",
       "4         ALL  2017-02-01        1                       0.0   \n",
       "\n",
       "   elec fuel fossil co2 (kg)  all fuel total co2 (kg)  \\\n",
       "0                        0.0                      0.0   \n",
       "1                        0.0                      0.0   \n",
       "2                        0.0                      0.0   \n",
       "3                        0.0                      0.0   \n",
       "4                        0.0                      0.0   \n",
       "\n",
       "   elec fuel total co2 (kg) type  \n",
       "0                       0.0  COW  \n",
       "1                       0.0  COW  \n",
       "2                       0.0  COW  \n",
       "3                       0.0  COW  \n",
       "4                       0.0  COW  "
      ]
     },
     "execution_count": 114,
     "metadata": {},
     "output_type": "execute_result"
    }
   ],
   "source": [
    "eia_fac.head()"
   ]
  },
  {
   "cell_type": "code",
   "execution_count": 38,
   "metadata": {
    "ExecuteTime": {
     "end_time": "2017-10-06T02:21:20.962724Z",
     "start_time": "2017-10-06T02:21:14.189270Z"
    }
   },
   "outputs": [
    {
     "name": "stdout",
     "output_type": "stream",
     "text": [
      "Renaming columns\n",
      "Grouping facilities\n",
      "Adjusting EPA emissions\n",
      "Caculating CO2\n",
      "Gen/fuels to state categories\n"
     ]
    }
   ],
   "source": [
    "co2, gen_fuels_state = facility_emission_gen(eia_facility=eia_fac, epa=epa,\n",
    "                                              state_fuel_cat=state_fuel_cat,\n",
    "                                              custom_fuel_cat=custom_fuel_cat,\n",
    "                                              export_state_cats=True)"
   ]
  },
  {
   "cell_type": "markdown",
   "metadata": {},
   "source": [
    "### Monthly CO₂ emissions"
   ]
  },
  {
   "cell_type": "code",
   "execution_count": 40,
   "metadata": {
    "ExecuteTime": {
     "end_time": "2017-10-06T02:22:52.489661Z",
     "start_time": "2017-10-06T02:22:52.219384Z"
    }
   },
   "outputs": [],
   "source": [
    "co2 = add_facility_location(co2, state_labels, labels=['lat', 'lon'])"
   ]
  },
  {
   "cell_type": "code",
   "execution_count": 42,
   "metadata": {
    "ExecuteTime": {
     "end_time": "2017-10-06T02:23:22.347084Z",
     "start_time": "2017-10-06T02:23:20.726410Z"
    }
   },
   "outputs": [],
   "source": [
    "co2 = add_region(co2, regions)"
   ]
  },
  {
   "cell_type": "code",
   "execution_count": 50,
   "metadata": {
    "ExecuteTime": {
     "end_time": "2017-10-06T02:24:52.328746Z",
     "start_time": "2017-10-06T02:24:52.147686Z"
    }
   },
   "outputs": [],
   "source": [
    "co2_nerc = co2.groupby(['year', 'nerc', 'month'])['final co2 (kg)'].sum()"
   ]
  },
  {
   "cell_type": "code",
   "execution_count": 51,
   "metadata": {
    "ExecuteTime": {
     "end_time": "2017-10-06T02:24:54.225763Z",
     "start_time": "2017-10-06T02:24:54.218155Z"
    }
   },
   "outputs": [
    {
     "data": {
      "text/plain": [
       "year  nerc  month\n",
       "2017  WECC  2        1.797939e+10\n",
       "            3        1.622878e+10\n",
       "            4        1.410046e+10\n",
       "            5        1.635295e+10\n",
       "            6        1.998163e+10\n",
       "Name: final co2 (kg), dtype: float64"
      ]
     },
     "execution_count": 51,
     "metadata": {},
     "output_type": "execute_result"
    }
   ],
   "source": [
    "co2_nerc.tail()"
   ]
  },
  {
   "cell_type": "markdown",
   "metadata": {},
   "source": [
    "### Monthly generation"
   ]
  },
  {
   "cell_type": "code",
   "execution_count": 59,
   "metadata": {
    "ExecuteTime": {
     "end_time": "2017-10-06T02:31:32.346847Z",
     "start_time": "2017-10-06T02:31:29.584599Z"
    }
   },
   "outputs": [
    {
     "data": {
      "text/plain": [
       "year  nerc  month  type\n",
       "2001  -     1      COW     4984145.332\n",
       "                   HYC      278484.523\n",
       "                   NG       245740.990\n",
       "                   NUC     1599398.000\n",
       "                   PEL       77892.543\n",
       "Name: generation (mwh), dtype: float64"
      ]
     },
     "execution_count": 59,
     "metadata": {},
     "output_type": "execute_result"
    }
   ],
   "source": [
    "gen_fuels_nerc = add_region(gen_fuels_state, regions)\n",
    "gen_fuels_nerc = (gen_fuels_nerc\n",
    "                  .groupby(['year', 'nerc', 'month', 'type'])\n",
    "                  ['generation (mwh)'].sum())\n",
    "gen_fuels_nerc.head()"
   ]
  },
  {
   "cell_type": "markdown",
   "metadata": {},
   "source": [
    "## Combine generation"
   ]
  },
  {
   "cell_type": "code",
   "execution_count": 58,
   "metadata": {
    "ExecuteTime": {
     "end_time": "2017-10-06T02:30:24.932509Z",
     "start_time": "2017-10-06T02:30:24.922898Z"
    }
   },
   "outputs": [
    {
     "data": {
      "text/plain": [
       "year  nerc  month  type\n",
       "2001  SERC  1      COW      852306.0\n",
       "                   COW       45991.0\n",
       "                   COW      706857.0\n",
       "                   COW      320454.0\n",
       "                   COW     1005460.0\n",
       "Name: generation (mwh), dtype: float64"
      ]
     },
     "execution_count": 58,
     "metadata": {},
     "output_type": "execute_result"
    }
   ],
   "source": [
    "gen_fuels_nerc.loc[:, 'generation (mwh)'].head()"
   ]
  },
  {
   "cell_type": "code",
   "execution_count": 69,
   "metadata": {
    "ExecuteTime": {
     "end_time": "2017-10-06T02:35:17.420558Z",
     "start_time": "2017-10-06T02:35:17.374554Z"
    }
   },
   "outputs": [
    {
     "data": {
      "text/html": [
       "<div>\n",
       "<style>\n",
       "    .dataframe thead tr:only-child th {\n",
       "        text-align: right;\n",
       "    }\n",
       "\n",
       "    .dataframe thead th {\n",
       "        text-align: left;\n",
       "    }\n",
       "\n",
       "    .dataframe tbody tr th {\n",
       "        vertical-align: top;\n",
       "    }\n",
       "</style>\n",
       "<table border=\"1\" class=\"dataframe\">\n",
       "  <thead>\n",
       "    <tr style=\"text-align: right;\">\n",
       "      <th></th>\n",
       "      <th></th>\n",
       "      <th></th>\n",
       "      <th></th>\n",
       "      <th>generation (mwh)</th>\n",
       "      <th>total fuel (mmbtu)</th>\n",
       "      <th>elec fuel (mmbtu)</th>\n",
       "      <th>total co2 (kg)</th>\n",
       "      <th>elec co2 (kg)</th>\n",
       "    </tr>\n",
       "    <tr>\n",
       "      <th>year</th>\n",
       "      <th>nerc</th>\n",
       "      <th>month</th>\n",
       "      <th>type</th>\n",
       "      <th></th>\n",
       "      <th></th>\n",
       "      <th></th>\n",
       "      <th></th>\n",
       "      <th></th>\n",
       "    </tr>\n",
       "  </thead>\n",
       "  <tbody>\n",
       "    <tr>\n",
       "      <th rowspan=\"30\" valign=\"top\">2016</th>\n",
       "      <th rowspan=\"30\" valign=\"top\">WECC</th>\n",
       "      <th rowspan=\"12\" valign=\"top\">1</th>\n",
       "      <th>COW</th>\n",
       "      <td>3.758774e+05</td>\n",
       "      <td>6.325535e+06</td>\n",
       "      <td>4.298811e+06</td>\n",
       "      <td>6.025072e+08</td>\n",
       "      <td>4.094617e+08</td>\n",
       "    </tr>\n",
       "    <tr>\n",
       "      <th>GEO</th>\n",
       "      <td>5.326896e+05</td>\n",
       "      <td>NaN</td>\n",
       "      <td>NaN</td>\n",
       "      <td>NaN</td>\n",
       "      <td>NaN</td>\n",
       "    </tr>\n",
       "    <tr>\n",
       "      <th>HYC</th>\n",
       "      <td>2.137328e+06</td>\n",
       "      <td>NaN</td>\n",
       "      <td>NaN</td>\n",
       "      <td>NaN</td>\n",
       "      <td>NaN</td>\n",
       "    </tr>\n",
       "    <tr>\n",
       "      <th>NG</th>\n",
       "      <td>2.231104e+06</td>\n",
       "      <td>2.732402e+07</td>\n",
       "      <td>1.755353e+07</td>\n",
       "      <td>1.450086e+09</td>\n",
       "      <td>9.315656e+08</td>\n",
       "    </tr>\n",
       "    <tr>\n",
       "      <th>OOG</th>\n",
       "      <td>-3.632221e+04</td>\n",
       "      <td>NaN</td>\n",
       "      <td>NaN</td>\n",
       "      <td>NaN</td>\n",
       "      <td>NaN</td>\n",
       "    </tr>\n",
       "    <tr>\n",
       "      <th>OTH</th>\n",
       "      <td>5.475943e+04</td>\n",
       "      <td>NaN</td>\n",
       "      <td>NaN</td>\n",
       "      <td>NaN</td>\n",
       "      <td>NaN</td>\n",
       "    </tr>\n",
       "    <tr>\n",
       "      <th>PC</th>\n",
       "      <td>0.000000e+00</td>\n",
       "      <td>0.000000e+00</td>\n",
       "      <td>0.000000e+00</td>\n",
       "      <td>0.000000e+00</td>\n",
       "      <td>0.000000e+00</td>\n",
       "    </tr>\n",
       "    <tr>\n",
       "      <th>PEL</th>\n",
       "      <td>1.538360e+03</td>\n",
       "      <td>5.864537e+04</td>\n",
       "      <td>1.877487e+04</td>\n",
       "      <td>4.455582e+06</td>\n",
       "      <td>1.426420e+06</td>\n",
       "    </tr>\n",
       "    <tr>\n",
       "      <th>SUN</th>\n",
       "      <td>2.913541e+05</td>\n",
       "      <td>NaN</td>\n",
       "      <td>NaN</td>\n",
       "      <td>NaN</td>\n",
       "      <td>NaN</td>\n",
       "    </tr>\n",
       "    <tr>\n",
       "      <th>WAS</th>\n",
       "      <td>2.592628e+05</td>\n",
       "      <td>NaN</td>\n",
       "      <td>NaN</td>\n",
       "      <td>NaN</td>\n",
       "      <td>NaN</td>\n",
       "    </tr>\n",
       "    <tr>\n",
       "      <th>WND</th>\n",
       "      <td>2.451469e+05</td>\n",
       "      <td>NaN</td>\n",
       "      <td>NaN</td>\n",
       "      <td>NaN</td>\n",
       "      <td>NaN</td>\n",
       "    </tr>\n",
       "    <tr>\n",
       "      <th>WWW</th>\n",
       "      <td>2.416416e+05</td>\n",
       "      <td>NaN</td>\n",
       "      <td>NaN</td>\n",
       "      <td>NaN</td>\n",
       "      <td>NaN</td>\n",
       "    </tr>\n",
       "    <tr>\n",
       "      <th rowspan=\"12\" valign=\"top\">2</th>\n",
       "      <th>COW</th>\n",
       "      <td>3.051662e+05</td>\n",
       "      <td>5.529328e+06</td>\n",
       "      <td>3.600548e+06</td>\n",
       "      <td>5.266685e+08</td>\n",
       "      <td>3.429522e+08</td>\n",
       "    </tr>\n",
       "    <tr>\n",
       "      <th>GEO</th>\n",
       "      <td>4.955619e+05</td>\n",
       "      <td>NaN</td>\n",
       "      <td>NaN</td>\n",
       "      <td>NaN</td>\n",
       "      <td>NaN</td>\n",
       "    </tr>\n",
       "    <tr>\n",
       "      <th>HYC</th>\n",
       "      <td>2.254750e+06</td>\n",
       "      <td>NaN</td>\n",
       "      <td>NaN</td>\n",
       "      <td>NaN</td>\n",
       "      <td>NaN</td>\n",
       "    </tr>\n",
       "    <tr>\n",
       "      <th>NG</th>\n",
       "      <td>1.662090e+06</td>\n",
       "      <td>2.052736e+07</td>\n",
       "      <td>1.241505e+07</td>\n",
       "      <td>1.089387e+09</td>\n",
       "      <td>6.588667e+08</td>\n",
       "    </tr>\n",
       "    <tr>\n",
       "      <th>OOG</th>\n",
       "      <td>-3.554078e+04</td>\n",
       "      <td>NaN</td>\n",
       "      <td>NaN</td>\n",
       "      <td>NaN</td>\n",
       "      <td>NaN</td>\n",
       "    </tr>\n",
       "    <tr>\n",
       "      <th>OTH</th>\n",
       "      <td>4.359569e+04</td>\n",
       "      <td>NaN</td>\n",
       "      <td>NaN</td>\n",
       "      <td>NaN</td>\n",
       "      <td>NaN</td>\n",
       "    </tr>\n",
       "    <tr>\n",
       "      <th>PC</th>\n",
       "      <td>0.000000e+00</td>\n",
       "      <td>0.000000e+00</td>\n",
       "      <td>0.000000e+00</td>\n",
       "      <td>0.000000e+00</td>\n",
       "      <td>0.000000e+00</td>\n",
       "    </tr>\n",
       "    <tr>\n",
       "      <th>PEL</th>\n",
       "      <td>1.702053e+03</td>\n",
       "      <td>6.981510e+04</td>\n",
       "      <td>1.626148e+04</td>\n",
       "      <td>5.304203e+06</td>\n",
       "      <td>1.235466e+06</td>\n",
       "    </tr>\n",
       "    <tr>\n",
       "      <th>SUN</th>\n",
       "      <td>4.657585e+05</td>\n",
       "      <td>NaN</td>\n",
       "      <td>NaN</td>\n",
       "      <td>NaN</td>\n",
       "      <td>NaN</td>\n",
       "    </tr>\n",
       "    <tr>\n",
       "      <th>WAS</th>\n",
       "      <td>2.315461e+05</td>\n",
       "      <td>NaN</td>\n",
       "      <td>NaN</td>\n",
       "      <td>NaN</td>\n",
       "      <td>NaN</td>\n",
       "    </tr>\n",
       "    <tr>\n",
       "      <th>WND</th>\n",
       "      <td>2.645454e+05</td>\n",
       "      <td>NaN</td>\n",
       "      <td>NaN</td>\n",
       "      <td>NaN</td>\n",
       "      <td>NaN</td>\n",
       "    </tr>\n",
       "    <tr>\n",
       "      <th>WWW</th>\n",
       "      <td>2.280932e+05</td>\n",
       "      <td>NaN</td>\n",
       "      <td>NaN</td>\n",
       "      <td>NaN</td>\n",
       "      <td>NaN</td>\n",
       "    </tr>\n",
       "    <tr>\n",
       "      <th rowspan=\"6\" valign=\"top\">3</th>\n",
       "      <th>COW</th>\n",
       "      <td>2.519467e+05</td>\n",
       "      <td>4.855183e+06</td>\n",
       "      <td>2.935199e+06</td>\n",
       "      <td>4.624562e+08</td>\n",
       "      <td>2.795777e+08</td>\n",
       "    </tr>\n",
       "    <tr>\n",
       "      <th>GEO</th>\n",
       "      <td>5.317773e+05</td>\n",
       "      <td>NaN</td>\n",
       "      <td>NaN</td>\n",
       "      <td>NaN</td>\n",
       "      <td>NaN</td>\n",
       "    </tr>\n",
       "    <tr>\n",
       "      <th>HYC</th>\n",
       "      <td>2.991431e+06</td>\n",
       "      <td>NaN</td>\n",
       "      <td>NaN</td>\n",
       "      <td>NaN</td>\n",
       "      <td>NaN</td>\n",
       "    </tr>\n",
       "    <tr>\n",
       "      <th>NG</th>\n",
       "      <td>1.588727e+06</td>\n",
       "      <td>2.065276e+07</td>\n",
       "      <td>1.233239e+07</td>\n",
       "      <td>1.096042e+09</td>\n",
       "      <td>6.544800e+08</td>\n",
       "    </tr>\n",
       "    <tr>\n",
       "      <th>OOG</th>\n",
       "      <td>-3.570532e+04</td>\n",
       "      <td>NaN</td>\n",
       "      <td>NaN</td>\n",
       "      <td>NaN</td>\n",
       "      <td>NaN</td>\n",
       "    </tr>\n",
       "    <tr>\n",
       "      <th>OTH</th>\n",
       "      <td>4.803096e+04</td>\n",
       "      <td>NaN</td>\n",
       "      <td>NaN</td>\n",
       "      <td>NaN</td>\n",
       "      <td>NaN</td>\n",
       "    </tr>\n",
       "    <tr>\n",
       "      <th>...</th>\n",
       "      <th>...</th>\n",
       "      <th>...</th>\n",
       "      <th>...</th>\n",
       "      <td>...</td>\n",
       "      <td>...</td>\n",
       "      <td>...</td>\n",
       "      <td>...</td>\n",
       "      <td>...</td>\n",
       "    </tr>\n",
       "    <tr>\n",
       "      <th rowspan=\"30\" valign=\"top\">2017</th>\n",
       "      <th rowspan=\"30\" valign=\"top\">TRE</th>\n",
       "      <th rowspan=\"10\" valign=\"top\">4</th>\n",
       "      <th>HYC</th>\n",
       "      <td>1.032891e+05</td>\n",
       "      <td>NaN</td>\n",
       "      <td>NaN</td>\n",
       "      <td>NaN</td>\n",
       "      <td>NaN</td>\n",
       "    </tr>\n",
       "    <tr>\n",
       "      <th>NG</th>\n",
       "      <td>3.361071e+06</td>\n",
       "      <td>3.723031e+07</td>\n",
       "      <td>2.851581e+07</td>\n",
       "      <td>1.975812e+09</td>\n",
       "      <td>1.513334e+09</td>\n",
       "    </tr>\n",
       "    <tr>\n",
       "      <th>OOG</th>\n",
       "      <td>3.592197e+04</td>\n",
       "      <td>NaN</td>\n",
       "      <td>NaN</td>\n",
       "      <td>NaN</td>\n",
       "      <td>NaN</td>\n",
       "    </tr>\n",
       "    <tr>\n",
       "      <th>OTH</th>\n",
       "      <td>3.620240e+03</td>\n",
       "      <td>NaN</td>\n",
       "      <td>NaN</td>\n",
       "      <td>NaN</td>\n",
       "      <td>NaN</td>\n",
       "    </tr>\n",
       "    <tr>\n",
       "      <th>PC</th>\n",
       "      <td>0.000000e+00</td>\n",
       "      <td>1.006100e+04</td>\n",
       "      <td>-4.000000e+00</td>\n",
       "      <td>1.027228e+06</td>\n",
       "      <td>-4.084000e+02</td>\n",
       "    </tr>\n",
       "    <tr>\n",
       "      <th>PEL</th>\n",
       "      <td>2.303771e+01</td>\n",
       "      <td>2.171757e+02</td>\n",
       "      <td>3.065437e+02</td>\n",
       "      <td>1.649992e+04</td>\n",
       "      <td>2.328966e+04</td>\n",
       "    </tr>\n",
       "    <tr>\n",
       "      <th>SUN</th>\n",
       "      <td>9.248117e+04</td>\n",
       "      <td>NaN</td>\n",
       "      <td>NaN</td>\n",
       "      <td>NaN</td>\n",
       "      <td>NaN</td>\n",
       "    </tr>\n",
       "    <tr>\n",
       "      <th>WAS</th>\n",
       "      <td>1.533996e+04</td>\n",
       "      <td>NaN</td>\n",
       "      <td>NaN</td>\n",
       "      <td>NaN</td>\n",
       "      <td>NaN</td>\n",
       "    </tr>\n",
       "    <tr>\n",
       "      <th>WND</th>\n",
       "      <td>6.339001e+05</td>\n",
       "      <td>NaN</td>\n",
       "      <td>NaN</td>\n",
       "      <td>NaN</td>\n",
       "      <td>NaN</td>\n",
       "    </tr>\n",
       "    <tr>\n",
       "      <th>WWW</th>\n",
       "      <td>2.542933e+04</td>\n",
       "      <td>NaN</td>\n",
       "      <td>NaN</td>\n",
       "      <td>NaN</td>\n",
       "      <td>NaN</td>\n",
       "    </tr>\n",
       "    <tr>\n",
       "      <th rowspan=\"10\" valign=\"top\">5</th>\n",
       "      <th>HYC</th>\n",
       "      <td>1.264384e+05</td>\n",
       "      <td>NaN</td>\n",
       "      <td>NaN</td>\n",
       "      <td>NaN</td>\n",
       "      <td>NaN</td>\n",
       "    </tr>\n",
       "    <tr>\n",
       "      <th>NG</th>\n",
       "      <td>3.600007e+06</td>\n",
       "      <td>3.985479e+07</td>\n",
       "      <td>3.140188e+07</td>\n",
       "      <td>2.115094e+09</td>\n",
       "      <td>1.666498e+09</td>\n",
       "    </tr>\n",
       "    <tr>\n",
       "      <th>OOG</th>\n",
       "      <td>3.692411e+04</td>\n",
       "      <td>NaN</td>\n",
       "      <td>NaN</td>\n",
       "      <td>NaN</td>\n",
       "      <td>NaN</td>\n",
       "    </tr>\n",
       "    <tr>\n",
       "      <th>OTH</th>\n",
       "      <td>4.674410e+03</td>\n",
       "      <td>NaN</td>\n",
       "      <td>NaN</td>\n",
       "      <td>NaN</td>\n",
       "      <td>NaN</td>\n",
       "    </tr>\n",
       "    <tr>\n",
       "      <th>PC</th>\n",
       "      <td>4.283650e+02</td>\n",
       "      <td>1.966200e+04</td>\n",
       "      <td>5.025000e+03</td>\n",
       "      <td>2.007490e+06</td>\n",
       "      <td>5.130525e+05</td>\n",
       "    </tr>\n",
       "    <tr>\n",
       "      <th>PEL</th>\n",
       "      <td>2.383657e+01</td>\n",
       "      <td>2.141016e+02</td>\n",
       "      <td>3.036934e+02</td>\n",
       "      <td>1.626637e+04</td>\n",
       "      <td>2.307310e+04</td>\n",
       "    </tr>\n",
       "    <tr>\n",
       "      <th>SUN</th>\n",
       "      <td>1.142562e+05</td>\n",
       "      <td>NaN</td>\n",
       "      <td>NaN</td>\n",
       "      <td>NaN</td>\n",
       "      <td>NaN</td>\n",
       "    </tr>\n",
       "    <tr>\n",
       "      <th>WAS</th>\n",
       "      <td>1.606144e+04</td>\n",
       "      <td>NaN</td>\n",
       "      <td>NaN</td>\n",
       "      <td>NaN</td>\n",
       "      <td>NaN</td>\n",
       "    </tr>\n",
       "    <tr>\n",
       "      <th>WND</th>\n",
       "      <td>5.626438e+05</td>\n",
       "      <td>NaN</td>\n",
       "      <td>NaN</td>\n",
       "      <td>NaN</td>\n",
       "      <td>NaN</td>\n",
       "    </tr>\n",
       "    <tr>\n",
       "      <th>WWW</th>\n",
       "      <td>2.635988e+04</td>\n",
       "      <td>NaN</td>\n",
       "      <td>NaN</td>\n",
       "      <td>NaN</td>\n",
       "      <td>NaN</td>\n",
       "    </tr>\n",
       "    <tr>\n",
       "      <th rowspan=\"10\" valign=\"top\">6</th>\n",
       "      <th>HYC</th>\n",
       "      <td>9.661602e+04</td>\n",
       "      <td>NaN</td>\n",
       "      <td>NaN</td>\n",
       "      <td>NaN</td>\n",
       "      <td>NaN</td>\n",
       "    </tr>\n",
       "    <tr>\n",
       "      <th>NG</th>\n",
       "      <td>3.963976e+06</td>\n",
       "      <td>4.393014e+07</td>\n",
       "      <td>3.514864e+07</td>\n",
       "      <td>2.331373e+09</td>\n",
       "      <td>1.865338e+09</td>\n",
       "    </tr>\n",
       "    <tr>\n",
       "      <th>OOG</th>\n",
       "      <td>3.673275e+04</td>\n",
       "      <td>NaN</td>\n",
       "      <td>NaN</td>\n",
       "      <td>NaN</td>\n",
       "      <td>NaN</td>\n",
       "    </tr>\n",
       "    <tr>\n",
       "      <th>OTH</th>\n",
       "      <td>3.564520e+03</td>\n",
       "      <td>NaN</td>\n",
       "      <td>NaN</td>\n",
       "      <td>NaN</td>\n",
       "      <td>NaN</td>\n",
       "    </tr>\n",
       "    <tr>\n",
       "      <th>PC</th>\n",
       "      <td>7.677440e+02</td>\n",
       "      <td>2.105800e+04</td>\n",
       "      <td>9.005000e+03</td>\n",
       "      <td>2.150022e+06</td>\n",
       "      <td>9.194105e+05</td>\n",
       "    </tr>\n",
       "    <tr>\n",
       "      <th>PEL</th>\n",
       "      <td>2.141938e+01</td>\n",
       "      <td>1.795632e+02</td>\n",
       "      <td>2.542007e+02</td>\n",
       "      <td>1.364232e+04</td>\n",
       "      <td>1.931290e+04</td>\n",
       "    </tr>\n",
       "    <tr>\n",
       "      <th>SUN</th>\n",
       "      <td>1.218703e+05</td>\n",
       "      <td>NaN</td>\n",
       "      <td>NaN</td>\n",
       "      <td>NaN</td>\n",
       "      <td>NaN</td>\n",
       "    </tr>\n",
       "    <tr>\n",
       "      <th>WAS</th>\n",
       "      <td>1.504799e+04</td>\n",
       "      <td>NaN</td>\n",
       "      <td>NaN</td>\n",
       "      <td>NaN</td>\n",
       "      <td>NaN</td>\n",
       "    </tr>\n",
       "    <tr>\n",
       "      <th>WND</th>\n",
       "      <td>4.516129e+05</td>\n",
       "      <td>NaN</td>\n",
       "      <td>NaN</td>\n",
       "      <td>NaN</td>\n",
       "      <td>NaN</td>\n",
       "    </tr>\n",
       "    <tr>\n",
       "      <th>WWW</th>\n",
       "      <td>2.727325e+04</td>\n",
       "      <td>NaN</td>\n",
       "      <td>NaN</td>\n",
       "      <td>NaN</td>\n",
       "      <td>NaN</td>\n",
       "    </tr>\n",
       "  </tbody>\n",
       "</table>\n",
       "<p>1583 rows × 5 columns</p>\n",
       "</div>"
      ],
      "text/plain": [
       "                      generation (mwh)  total fuel (mmbtu)  elec fuel (mmbtu)  \\\n",
       "year nerc month type                                                            \n",
       "2016 WECC 1     COW       3.758774e+05        6.325535e+06       4.298811e+06   \n",
       "                GEO       5.326896e+05                 NaN                NaN   \n",
       "                HYC       2.137328e+06                 NaN                NaN   \n",
       "                NG        2.231104e+06        2.732402e+07       1.755353e+07   \n",
       "                OOG      -3.632221e+04                 NaN                NaN   \n",
       "                OTH       5.475943e+04                 NaN                NaN   \n",
       "                PC        0.000000e+00        0.000000e+00       0.000000e+00   \n",
       "                PEL       1.538360e+03        5.864537e+04       1.877487e+04   \n",
       "                SUN       2.913541e+05                 NaN                NaN   \n",
       "                WAS       2.592628e+05                 NaN                NaN   \n",
       "                WND       2.451469e+05                 NaN                NaN   \n",
       "                WWW       2.416416e+05                 NaN                NaN   \n",
       "          2     COW       3.051662e+05        5.529328e+06       3.600548e+06   \n",
       "                GEO       4.955619e+05                 NaN                NaN   \n",
       "                HYC       2.254750e+06                 NaN                NaN   \n",
       "                NG        1.662090e+06        2.052736e+07       1.241505e+07   \n",
       "                OOG      -3.554078e+04                 NaN                NaN   \n",
       "                OTH       4.359569e+04                 NaN                NaN   \n",
       "                PC        0.000000e+00        0.000000e+00       0.000000e+00   \n",
       "                PEL       1.702053e+03        6.981510e+04       1.626148e+04   \n",
       "                SUN       4.657585e+05                 NaN                NaN   \n",
       "                WAS       2.315461e+05                 NaN                NaN   \n",
       "                WND       2.645454e+05                 NaN                NaN   \n",
       "                WWW       2.280932e+05                 NaN                NaN   \n",
       "          3     COW       2.519467e+05        4.855183e+06       2.935199e+06   \n",
       "                GEO       5.317773e+05                 NaN                NaN   \n",
       "                HYC       2.991431e+06                 NaN                NaN   \n",
       "                NG        1.588727e+06        2.065276e+07       1.233239e+07   \n",
       "                OOG      -3.570532e+04                 NaN                NaN   \n",
       "                OTH       4.803096e+04                 NaN                NaN   \n",
       "...                                ...                 ...                ...   \n",
       "2017 TRE  4     HYC       1.032891e+05                 NaN                NaN   \n",
       "                NG        3.361071e+06        3.723031e+07       2.851581e+07   \n",
       "                OOG       3.592197e+04                 NaN                NaN   \n",
       "                OTH       3.620240e+03                 NaN                NaN   \n",
       "                PC        0.000000e+00        1.006100e+04      -4.000000e+00   \n",
       "                PEL       2.303771e+01        2.171757e+02       3.065437e+02   \n",
       "                SUN       9.248117e+04                 NaN                NaN   \n",
       "                WAS       1.533996e+04                 NaN                NaN   \n",
       "                WND       6.339001e+05                 NaN                NaN   \n",
       "                WWW       2.542933e+04                 NaN                NaN   \n",
       "          5     HYC       1.264384e+05                 NaN                NaN   \n",
       "                NG        3.600007e+06        3.985479e+07       3.140188e+07   \n",
       "                OOG       3.692411e+04                 NaN                NaN   \n",
       "                OTH       4.674410e+03                 NaN                NaN   \n",
       "                PC        4.283650e+02        1.966200e+04       5.025000e+03   \n",
       "                PEL       2.383657e+01        2.141016e+02       3.036934e+02   \n",
       "                SUN       1.142562e+05                 NaN                NaN   \n",
       "                WAS       1.606144e+04                 NaN                NaN   \n",
       "                WND       5.626438e+05                 NaN                NaN   \n",
       "                WWW       2.635988e+04                 NaN                NaN   \n",
       "          6     HYC       9.661602e+04                 NaN                NaN   \n",
       "                NG        3.963976e+06        4.393014e+07       3.514864e+07   \n",
       "                OOG       3.673275e+04                 NaN                NaN   \n",
       "                OTH       3.564520e+03                 NaN                NaN   \n",
       "                PC        7.677440e+02        2.105800e+04       9.005000e+03   \n",
       "                PEL       2.141938e+01        1.795632e+02       2.542007e+02   \n",
       "                SUN       1.218703e+05                 NaN                NaN   \n",
       "                WAS       1.504799e+04                 NaN                NaN   \n",
       "                WND       4.516129e+05                 NaN                NaN   \n",
       "                WWW       2.727325e+04                 NaN                NaN   \n",
       "\n",
       "                      total co2 (kg)  elec co2 (kg)  \n",
       "year nerc month type                                 \n",
       "2016 WECC 1     COW     6.025072e+08   4.094617e+08  \n",
       "                GEO              NaN            NaN  \n",
       "                HYC              NaN            NaN  \n",
       "                NG      1.450086e+09   9.315656e+08  \n",
       "                OOG              NaN            NaN  \n",
       "                OTH              NaN            NaN  \n",
       "                PC      0.000000e+00   0.000000e+00  \n",
       "                PEL     4.455582e+06   1.426420e+06  \n",
       "                SUN              NaN            NaN  \n",
       "                WAS              NaN            NaN  \n",
       "                WND              NaN            NaN  \n",
       "                WWW              NaN            NaN  \n",
       "          2     COW     5.266685e+08   3.429522e+08  \n",
       "                GEO              NaN            NaN  \n",
       "                HYC              NaN            NaN  \n",
       "                NG      1.089387e+09   6.588667e+08  \n",
       "                OOG              NaN            NaN  \n",
       "                OTH              NaN            NaN  \n",
       "                PC      0.000000e+00   0.000000e+00  \n",
       "                PEL     5.304203e+06   1.235466e+06  \n",
       "                SUN              NaN            NaN  \n",
       "                WAS              NaN            NaN  \n",
       "                WND              NaN            NaN  \n",
       "                WWW              NaN            NaN  \n",
       "          3     COW     4.624562e+08   2.795777e+08  \n",
       "                GEO              NaN            NaN  \n",
       "                HYC              NaN            NaN  \n",
       "                NG      1.096042e+09   6.544800e+08  \n",
       "                OOG              NaN            NaN  \n",
       "                OTH              NaN            NaN  \n",
       "...                              ...            ...  \n",
       "2017 TRE  4     HYC              NaN            NaN  \n",
       "                NG      1.975812e+09   1.513334e+09  \n",
       "                OOG              NaN            NaN  \n",
       "                OTH              NaN            NaN  \n",
       "                PC      1.027228e+06  -4.084000e+02  \n",
       "                PEL     1.649992e+04   2.328966e+04  \n",
       "                SUN              NaN            NaN  \n",
       "                WAS              NaN            NaN  \n",
       "                WND              NaN            NaN  \n",
       "                WWW              NaN            NaN  \n",
       "          5     HYC              NaN            NaN  \n",
       "                NG      2.115094e+09   1.666498e+09  \n",
       "                OOG              NaN            NaN  \n",
       "                OTH              NaN            NaN  \n",
       "                PC      2.007490e+06   5.130525e+05  \n",
       "                PEL     1.626637e+04   2.307310e+04  \n",
       "                SUN              NaN            NaN  \n",
       "                WAS              NaN            NaN  \n",
       "                WND              NaN            NaN  \n",
       "                WWW              NaN            NaN  \n",
       "          6     HYC              NaN            NaN  \n",
       "                NG      2.331373e+09   1.865338e+09  \n",
       "                OOG              NaN            NaN  \n",
       "                OTH              NaN            NaN  \n",
       "                PC      2.150022e+06   9.194105e+05  \n",
       "                PEL     1.364232e+04   1.931290e+04  \n",
       "                SUN              NaN            NaN  \n",
       "                WAS              NaN            NaN  \n",
       "                WND              NaN            NaN  \n",
       "                WWW              NaN            NaN  \n",
       "\n",
       "[1583 rows x 5 columns]"
      ]
     },
     "execution_count": 69,
     "metadata": {},
     "output_type": "execute_result"
    }
   ],
   "source": [
    "extra_nerc"
   ]
  },
  {
   "cell_type": "code",
   "execution_count": 70,
   "metadata": {
    "ExecuteTime": {
     "end_time": "2017-10-06T02:36:20.668792Z",
     "start_time": "2017-10-06T02:36:20.665088Z"
    },
    "collapsed": true
   },
   "outputs": [],
   "source": [
    "idx = pd.IndexSlice"
   ]
  },
  {
   "cell_type": "code",
   "execution_count": 84,
   "metadata": {
    "ExecuteTime": {
     "end_time": "2017-10-06T02:42:26.965012Z",
     "start_time": "2017-10-06T02:42:26.793758Z"
    }
   },
   "outputs": [],
   "source": [
    "total_gen = gen_fuels_nerc\n",
    "total_gen.loc[idx[2016:, :, :, :]] += extra_nerc.loc[:, 'generation (mwh)'].sort_index()\n",
    "total_gen = total_gen.reset_index()\n",
    "add_datetime(total_gen)\n",
    "# total_gen.set_index(['year', 'nerc', ''])"
   ]
  },
  {
   "cell_type": "code",
   "execution_count": 85,
   "metadata": {
    "ExecuteTime": {
     "end_time": "2017-10-06T02:42:28.095856Z",
     "start_time": "2017-10-06T02:42:28.081118Z"
    }
   },
   "outputs": [
    {
     "data": {
      "text/html": [
       "<div>\n",
       "<style>\n",
       "    .dataframe thead tr:only-child th {\n",
       "        text-align: right;\n",
       "    }\n",
       "\n",
       "    .dataframe thead th {\n",
       "        text-align: left;\n",
       "    }\n",
       "\n",
       "    .dataframe tbody tr th {\n",
       "        vertical-align: top;\n",
       "    }\n",
       "</style>\n",
       "<table border=\"1\" class=\"dataframe\">\n",
       "  <thead>\n",
       "    <tr style=\"text-align: right;\">\n",
       "      <th></th>\n",
       "      <th>year</th>\n",
       "      <th>nerc</th>\n",
       "      <th>month</th>\n",
       "      <th>type</th>\n",
       "      <th>generation (mwh)</th>\n",
       "      <th>datetime</th>\n",
       "    </tr>\n",
       "  </thead>\n",
       "  <tbody>\n",
       "    <tr>\n",
       "      <th>0</th>\n",
       "      <td>2001</td>\n",
       "      <td>-</td>\n",
       "      <td>1</td>\n",
       "      <td>COW</td>\n",
       "      <td>4984145.332</td>\n",
       "      <td>2001-01-01</td>\n",
       "    </tr>\n",
       "    <tr>\n",
       "      <th>1</th>\n",
       "      <td>2001</td>\n",
       "      <td>-</td>\n",
       "      <td>1</td>\n",
       "      <td>HYC</td>\n",
       "      <td>278484.523</td>\n",
       "      <td>2001-01-01</td>\n",
       "    </tr>\n",
       "    <tr>\n",
       "      <th>2</th>\n",
       "      <td>2001</td>\n",
       "      <td>-</td>\n",
       "      <td>1</td>\n",
       "      <td>NG</td>\n",
       "      <td>245740.990</td>\n",
       "      <td>2001-01-01</td>\n",
       "    </tr>\n",
       "    <tr>\n",
       "      <th>3</th>\n",
       "      <td>2001</td>\n",
       "      <td>-</td>\n",
       "      <td>1</td>\n",
       "      <td>NUC</td>\n",
       "      <td>1599398.000</td>\n",
       "      <td>2001-01-01</td>\n",
       "    </tr>\n",
       "    <tr>\n",
       "      <th>4</th>\n",
       "      <td>2001</td>\n",
       "      <td>-</td>\n",
       "      <td>1</td>\n",
       "      <td>PEL</td>\n",
       "      <td>77892.543</td>\n",
       "      <td>2001-01-01</td>\n",
       "    </tr>\n",
       "  </tbody>\n",
       "</table>\n",
       "</div>"
      ],
      "text/plain": [
       "   year nerc  month type  generation (mwh)   datetime\n",
       "0  2001    -      1  COW       4984145.332 2001-01-01\n",
       "1  2001    -      1  HYC        278484.523 2001-01-01\n",
       "2  2001    -      1   NG        245740.990 2001-01-01\n",
       "3  2001    -      1  NUC       1599398.000 2001-01-01\n",
       "4  2001    -      1  PEL         77892.543 2001-01-01"
      ]
     },
     "execution_count": 85,
     "metadata": {},
     "output_type": "execute_result"
    }
   ],
   "source": [
    "total_gen.head()"
   ]
  },
  {
   "cell_type": "code",
   "execution_count": 92,
   "metadata": {
    "ExecuteTime": {
     "end_time": "2017-10-06T02:44:38.730895Z",
     "start_time": "2017-10-06T02:44:38.668921Z"
    }
   },
   "outputs": [],
   "source": [
    "final = group_fuel_cats(total_gen,\n",
    "                        custom_fuel_cat, 'type',\n",
    "                        'fuel category', extra_group_cols=['nerc', 'datetime'])"
   ]
  },
  {
   "cell_type": "code",
   "execution_count": 93,
   "metadata": {
    "ExecuteTime": {
     "end_time": "2017-10-06T02:44:39.819216Z",
     "start_time": "2017-10-06T02:44:39.805680Z"
    }
   },
   "outputs": [
    {
     "data": {
      "text/html": [
       "<div>\n",
       "<style>\n",
       "    .dataframe thead tr:only-child th {\n",
       "        text-align: right;\n",
       "    }\n",
       "\n",
       "    .dataframe thead th {\n",
       "        text-align: left;\n",
       "    }\n",
       "\n",
       "    .dataframe tbody tr th {\n",
       "        vertical-align: top;\n",
       "    }\n",
       "</style>\n",
       "<table border=\"1\" class=\"dataframe\">\n",
       "  <thead>\n",
       "    <tr style=\"text-align: right;\">\n",
       "      <th></th>\n",
       "      <th>fuel category</th>\n",
       "      <th>year</th>\n",
       "      <th>month</th>\n",
       "      <th>nerc</th>\n",
       "      <th>datetime</th>\n",
       "      <th>generation (mwh)</th>\n",
       "    </tr>\n",
       "  </thead>\n",
       "  <tbody>\n",
       "    <tr>\n",
       "      <th>0</th>\n",
       "      <td>Coal</td>\n",
       "      <td>2001</td>\n",
       "      <td>1</td>\n",
       "      <td>-</td>\n",
       "      <td>2001-01-01</td>\n",
       "      <td>4.984145e+06</td>\n",
       "    </tr>\n",
       "    <tr>\n",
       "      <th>1</th>\n",
       "      <td>Coal</td>\n",
       "      <td>2001</td>\n",
       "      <td>1</td>\n",
       "      <td>FRCC</td>\n",
       "      <td>2001-01-01</td>\n",
       "      <td>5.667654e+06</td>\n",
       "    </tr>\n",
       "    <tr>\n",
       "      <th>2</th>\n",
       "      <td>Coal</td>\n",
       "      <td>2001</td>\n",
       "      <td>1</td>\n",
       "      <td>MRO</td>\n",
       "      <td>2001-01-01</td>\n",
       "      <td>1.135828e+07</td>\n",
       "    </tr>\n",
       "    <tr>\n",
       "      <th>3</th>\n",
       "      <td>Coal</td>\n",
       "      <td>2001</td>\n",
       "      <td>1</td>\n",
       "      <td>NPCC</td>\n",
       "      <td>2001-01-01</td>\n",
       "      <td>4.033044e+06</td>\n",
       "    </tr>\n",
       "    <tr>\n",
       "      <th>4</th>\n",
       "      <td>Coal</td>\n",
       "      <td>2001</td>\n",
       "      <td>1</td>\n",
       "      <td>RFC</td>\n",
       "      <td>2001-01-01</td>\n",
       "      <td>5.187936e+07</td>\n",
       "    </tr>\n",
       "  </tbody>\n",
       "</table>\n",
       "</div>"
      ],
      "text/plain": [
       "  fuel category  year  month  nerc   datetime  generation (mwh)\n",
       "0          Coal  2001      1     - 2001-01-01      4.984145e+06\n",
       "1          Coal  2001      1  FRCC 2001-01-01      5.667654e+06\n",
       "2          Coal  2001      1   MRO 2001-01-01      1.135828e+07\n",
       "3          Coal  2001      1  NPCC 2001-01-01      4.033044e+06\n",
       "4          Coal  2001      1   RFC 2001-01-01      5.187936e+07"
      ]
     },
     "execution_count": 93,
     "metadata": {},
     "output_type": "execute_result"
    }
   ],
   "source": [
    "final.head()"
   ]
  },
  {
   "cell_type": "code",
   "execution_count": 94,
   "metadata": {
    "ExecuteTime": {
     "end_time": "2017-10-06T02:44:54.487306Z",
     "start_time": "2017-10-06T02:44:52.145521Z"
    }
   },
   "outputs": [
    {
     "data": {
      "text/plain": [
       "<seaborn.axisgrid.FacetGrid at 0x129be1f98>"
      ]
     },
     "execution_count": 94,
     "metadata": {},
     "output_type": "execute_result"
    },
    {
     "data": {
      "image/png": "[encoded data removed]",
      "text/plain": [
       "<matplotlib.figure.Figure at 0x129befac8>"
      ]
     },
     "metadata": {},
     "output_type": "display_data"
    }
   ],
   "source": [
    "g = sns.FacetGrid(final, col='nerc', col_wrap=3, hue='fuel category')\n",
    "g.map(plt.plot, 'datetime', 'generation (mwh)')"
   ]
  },
  {
   "cell_type": "code",
   "execution_count": 102,
   "metadata": {
    "ExecuteTime": {
     "end_time": "2017-10-06T02:48:56.306434Z",
     "start_time": "2017-10-06T02:48:56.298074Z"
    },
    "collapsed": true
   },
   "outputs": [],
   "source": [
    "total_monthly_gen = final.groupby(['year', 'nerc', 'month'])['generation (mwh)'].sum()"
   ]
  },
  {
   "cell_type": "code",
   "execution_count": 103,
   "metadata": {
    "ExecuteTime": {
     "end_time": "2017-10-06T02:48:57.928367Z",
     "start_time": "2017-10-06T02:48:57.920329Z"
    }
   },
   "outputs": [
    {
     "data": {
      "text/plain": [
       "year  nerc  month\n",
       "2001  -     1        7185661.388\n",
       "            2        6526739.453\n",
       "            3        6304139.884\n",
       "            4        6624660.323\n",
       "            5        7045482.729\n",
       "Name: generation (mwh), dtype: float64"
      ]
     },
     "execution_count": 103,
     "metadata": {},
     "output_type": "execute_result"
    }
   ],
   "source": [
    "total_monthly_gen.head()"
   ]
  },
  {
   "cell_type": "markdown",
   "metadata": {},
   "source": [
    "## CO₂ emissions intensity by NERC region"
   ]
  },
  {
   "cell_type": "code",
   "execution_count": 98,
   "metadata": {
    "ExecuteTime": {
     "end_time": "2017-10-06T02:47:24.622898Z",
     "start_time": "2017-10-06T02:47:24.613872Z"
    }
   },
   "outputs": [
    {
     "data": {
      "text/plain": [
       "year  nerc  month\n",
       "2001  -     1        5.476076e+09\n",
       "            2        4.349473e+09\n",
       "            3        4.223575e+09\n",
       "            4        4.544873e+09\n",
       "            5        4.972656e+09\n",
       "Name: final co2 (kg), dtype: float64"
      ]
     },
     "execution_count": 98,
     "metadata": {},
     "output_type": "execute_result"
    }
   ],
   "source": [
    "co2_nerc.head()"
   ]
  },
  {
   "cell_type": "code",
   "execution_count": 104,
   "metadata": {
    "ExecuteTime": {
     "end_time": "2017-10-06T02:49:00.917993Z",
     "start_time": "2017-10-06T02:49:00.911555Z"
    }
   },
   "outputs": [
    {
     "data": {
      "text/plain": [
       "(pandas.core.series.Series, pandas.core.series.Series)"
      ]
     },
     "execution_count": 104,
     "metadata": {},
     "output_type": "execute_result"
    }
   ],
   "source": [
    "type(co2_nerc), type(total_monthly_gen)"
   ]
  },
  {
   "cell_type": "code",
   "execution_count": null,
   "metadata": {
    "collapsed": true
   },
   "outputs": [],
   "source": [
    "co2_nerc.n"
   ]
  },
  {
   "cell_type": "code",
   "execution_count": 110,
   "metadata": {
    "ExecuteTime": {
     "end_time": "2017-10-06T02:51:01.270368Z",
     "start_time": "2017-10-06T02:51:01.245454Z"
    }
   },
   "outputs": [],
   "source": [
    "nerc_index = co2_nerc.sort_index() / total_monthly_gen.sort_index()\n",
    "nerc_index.name = 'index'\n",
    "nerc_index = nerc_index.reset_index()\n",
    "add_datetime(nerc_index)"
   ]
  },
  {
   "cell_type": "code",
   "execution_count": 111,
   "metadata": {
    "ExecuteTime": {
     "end_time": "2017-10-06T02:51:02.516333Z",
     "start_time": "2017-10-06T02:51:02.503628Z"
    }
   },
   "outputs": [
    {
     "data": {
      "text/html": [
       "<div>\n",
       "<style>\n",
       "    .dataframe thead tr:only-child th {\n",
       "        text-align: right;\n",
       "    }\n",
       "\n",
       "    .dataframe thead th {\n",
       "        text-align: left;\n",
       "    }\n",
       "\n",
       "    .dataframe tbody tr th {\n",
       "        vertical-align: top;\n",
       "    }\n",
       "</style>\n",
       "<table border=\"1\" class=\"dataframe\">\n",
       "  <thead>\n",
       "    <tr style=\"text-align: right;\">\n",
       "      <th></th>\n",
       "      <th>year</th>\n",
       "      <th>nerc</th>\n",
       "      <th>month</th>\n",
       "      <th>index</th>\n",
       "      <th>datetime</th>\n",
       "    </tr>\n",
       "  </thead>\n",
       "  <tbody>\n",
       "    <tr>\n",
       "      <th>1777</th>\n",
       "      <td>2017</td>\n",
       "      <td>WECC</td>\n",
       "      <td>2</td>\n",
       "      <td>205.111206</td>\n",
       "      <td>2017-02-01</td>\n",
       "    </tr>\n",
       "    <tr>\n",
       "      <th>1778</th>\n",
       "      <td>2017</td>\n",
       "      <td>WECC</td>\n",
       "      <td>3</td>\n",
       "      <td>159.526334</td>\n",
       "      <td>2017-03-01</td>\n",
       "    </tr>\n",
       "    <tr>\n",
       "      <th>1779</th>\n",
       "      <td>2017</td>\n",
       "      <td>WECC</td>\n",
       "      <td>4</td>\n",
       "      <td>142.802089</td>\n",
       "      <td>2017-04-01</td>\n",
       "    </tr>\n",
       "    <tr>\n",
       "      <th>1780</th>\n",
       "      <td>2017</td>\n",
       "      <td>WECC</td>\n",
       "      <td>5</td>\n",
       "      <td>155.643177</td>\n",
       "      <td>2017-05-01</td>\n",
       "    </tr>\n",
       "    <tr>\n",
       "      <th>1781</th>\n",
       "      <td>2017</td>\n",
       "      <td>WECC</td>\n",
       "      <td>6</td>\n",
       "      <td>179.053433</td>\n",
       "      <td>2017-06-01</td>\n",
       "    </tr>\n",
       "  </tbody>\n",
       "</table>\n",
       "</div>"
      ],
      "text/plain": [
       "      year  nerc  month       index   datetime\n",
       "1777  2017  WECC      2  205.111206 2017-02-01\n",
       "1778  2017  WECC      3  159.526334 2017-03-01\n",
       "1779  2017  WECC      4  142.802089 2017-04-01\n",
       "1780  2017  WECC      5  155.643177 2017-05-01\n",
       "1781  2017  WECC      6  179.053433 2017-06-01"
      ]
     },
     "execution_count": 111,
     "metadata": {},
     "output_type": "execute_result"
    }
   ],
   "source": [
    "nerc_index.tail()"
   ]
  },
  {
   "cell_type": "markdown",
   "metadata": {},
   "source": [
    "And it looks like something is wrong with the generation or emissions data :("
   ]
  },
  {
   "cell_type": "code",
   "execution_count": 113,
   "metadata": {
    "ExecuteTime": {
     "end_time": "2017-10-06T02:52:10.290228Z",
     "start_time": "2017-10-06T02:52:08.548175Z"
    }
   },
   "outputs": [
    {
     "data": {
      "text/plain": [
       "<seaborn.axisgrid.FacetGrid at 0x12c60c438>"
      ]
     },
     "execution_count": 113,
     "metadata": {},
     "output_type": "execute_result"
    },
    {
     "data": {
      "image/png": "[encoded data removed]",
      "text/plain": [
       "<matplotlib.figure.Figure at 0x12c60c630>"
      ]
     },
     "metadata": {},
     "output_type": "display_data"
    }
   ],
   "source": [
    "g = sns.FacetGrid(nerc_index, col='nerc', col_wrap=3, hue='nerc')\n",
    "g.map(plt.plot, 'datetime', 'index')\n",
    "g.set(ylim=(0, 1000))"
   ]
  },
  {
   "cell_type": "code",
   "execution_count": null,
   "metadata": {
    "collapsed": true
   },
   "outputs": [],
   "source": []
  }
 ],
 "metadata": {
  "kernelspec": {
   "display_name": "py36",
   "language": "python",
   "name": "py36"
  },
  "language_info": {
   "codemirror_mode": {
    "name": "ipython",
    "version": 3
   },
   "file_extension": ".py",
   "mimetype": "text/x-python",
   "name": "python",
   "nbconvert_exporter": "python",
   "pygments_lexer": "ipython3",
   "version": "3.6.2"
  },
  "varInspector": {
   "cols": {
    "lenName": 16,
    "lenType": 16,
    "lenVar": 40
   },
   "kernels_config": {
    "python": {
     "delete_cmd_postfix": "",
     "delete_cmd_prefix": "del ",
     "library": "var_list.py",
     "varRefreshCmd": "print(var_dic_list())"
    },
    "r": {
     "delete_cmd_postfix": ") ",
     "delete_cmd_prefix": "rm(",
     "library": "var_list.r",
     "varRefreshCmd": "cat(var_dic_list()) "
    }
   },
   "types_to_exclude": [
    "module",
    "function",
    "builtin_function_or_method",
    "instance",
    "_Feature"
   ],
   "window_display": false
  }
 },
 "nbformat": 4,
 "nbformat_minor": 2
}
