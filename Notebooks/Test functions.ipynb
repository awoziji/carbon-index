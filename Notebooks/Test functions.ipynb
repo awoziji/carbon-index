{
 "cells": [
  {
   "cell_type": "code",
   "execution_count": 1,
   "metadata": {
    "ExecuteTime": {
     "end_time": "2017-10-02T18:27:09.851034Z",
     "start_time": "2017-10-02T18:27:08.355765Z"
    },
    "collapsed": true
   },
   "outputs": [],
   "source": [
    "%matplotlib inline\n",
    "import matplotlib.pyplot as plt\n",
    "import seaborn as sns\n",
    "import pandas as pd\n",
    "import numpy as np\n",
    "import os\n",
    "from os.path import join\n",
    "import sys\n",
    "import json"
   ]
  },
  {
   "cell_type": "code",
   "execution_count": 2,
   "metadata": {
    "ExecuteTime": {
     "end_time": "2017-10-02T18:27:10.064300Z",
     "start_time": "2017-10-02T18:27:09.894484Z"
    },
    "collapsed": true
   },
   "outputs": [],
   "source": [
    "# Load the \"autoreload\" extension\n",
    "%load_ext autoreload\n",
    "\n",
    "# always reload modules marked with \"%aimport\"\n",
    "%autoreload 1"
   ]
  },
  {
   "cell_type": "code",
   "execution_count": 3,
   "metadata": {
    "ExecuteTime": {
     "end_time": "2017-10-02T18:27:10.450470Z",
     "start_time": "2017-10-02T18:27:10.443718Z"
    },
    "collapsed": true
   },
   "outputs": [],
   "source": [
    "# add the 'src' directory as one where we can import modules\n",
    "src_dir = join(os.getcwd(), os.pardir, 'src')\n",
    "sys.path.append(src_dir)"
   ]
  },
  {
   "cell_type": "code",
   "execution_count": 20,
   "metadata": {
    "ExecuteTime": {
     "end_time": "2017-10-02T18:32:23.056196Z",
     "start_time": "2017-10-02T18:32:23.047915Z"
    }
   },
   "outputs": [],
   "source": [
    "%aimport Data.make_data\n",
    "from Data.make_data import states_in_nerc\n",
    "%aimport Analysis.index\n",
    "from Analysis.index import facility_emission_gen, group_facility_data, facility_co2, adjust_epa_emissions, group_fuel_cats\n",
    "%aimport util.utils\n",
    "from util.utils import rename_cols"
   ]
  },
  {
   "cell_type": "markdown",
   "metadata": {},
   "source": [
    "## Load data"
   ]
  },
  {
   "cell_type": "code",
   "execution_count": 5,
   "metadata": {
    "ExecuteTime": {
     "end_time": "2017-10-02T18:27:19.963747Z",
     "start_time": "2017-10-02T18:27:12.473985Z"
    },
    "collapsed": true
   },
   "outputs": [],
   "source": [
    "cwd = os.getcwd()\n",
    "path = join(cwd, '..', 'Data storage',\n",
    "            'Facility gen fuels and CO2 2017-05-25.zip')\n",
    "eia_fac = pd.read_csv(path)"
   ]
  },
  {
   "cell_type": "code",
   "execution_count": 6,
   "metadata": {
    "ExecuteTime": {
     "end_time": "2017-10-02T18:27:22.306017Z",
     "start_time": "2017-10-02T18:27:21.962606Z"
    },
    "collapsed": true
   },
   "outputs": [],
   "source": [
    "path = join(cwd, '..', 'Data storage', 'Derived data',\n",
    "            'Monthly EPA emissions 2017-05-25.csv')\n",
    "epa = pd.read_csv(path)"
   ]
  },
  {
   "cell_type": "markdown",
   "metadata": {},
   "source": [
    "## Test facility_emissions_gen"
   ]
  },
  {
   "cell_type": "code",
   "execution_count": 10,
   "metadata": {
    "ExecuteTime": {
     "end_time": "2017-10-02T18:28:01.232337Z",
     "start_time": "2017-10-02T18:28:01.219987Z"
    },
    "collapsed": true
   },
   "outputs": [],
   "source": [
    "fuel_cat_folder = join(cwd, '..', 'Data storage', 'Fuel categories')\n",
    "state_cats_path = join(fuel_cat_folder, 'State_facility.json')\n",
    "\n",
    "with open(state_cats_path, 'r') as f:\n",
    "    state_fuel_cat = json.load(f)\n",
    "    \n",
    "custom_cats_path = join(fuel_cat_folder, 'Custom_results.json')\n",
    "with open(custom_cats_path, 'r') as f:\n",
    "    custom_fuel_cat = json.load(f)"
   ]
  },
  {
   "cell_type": "code",
   "execution_count": 38,
   "metadata": {
    "ExecuteTime": {
     "end_time": "2017-10-02T18:44:50.780599Z",
     "start_time": "2017-10-02T18:44:41.981483Z"
    }
   },
   "outputs": [
    {
     "name": "stdout",
     "output_type": "stream",
     "text": [
      "Renaming columns\n",
      "Grouping facilities\n",
      "Adjusting EPA emissions\n",
      "Caculating CO2\n",
      "Gen/fuels to state categories\n",
      "Gen/fuels to custom categories\n"
     ]
    }
   ],
   "source": [
    "co2, gen_fuels = facility_emission_gen(eia_facility=eia_fac, epa=epa,\n",
    "                                       state_fuel_cat=state_fuel_cat,\n",
    "                                       custom_fuel_cat=custom_fuel_cat)"
   ]
  },
  {
   "cell_type": "code",
   "execution_count": 30,
   "metadata": {
    "ExecuteTime": {
     "end_time": "2017-10-02T18:38:47.691400Z",
     "start_time": "2017-10-02T18:38:47.678147Z"
    }
   },
   "outputs": [
    {
     "data": {
      "text/html": [
       "<div>\n",
       "<style>\n",
       "    .dataframe thead tr:only-child th {\n",
       "        text-align: right;\n",
       "    }\n",
       "\n",
       "    .dataframe thead th {\n",
       "        text-align: left;\n",
       "    }\n",
       "\n",
       "    .dataframe tbody tr th {\n",
       "        vertical-align: top;\n",
       "    }\n",
       "</style>\n",
       "<table border=\"1\" class=\"dataframe\">\n",
       "  <thead>\n",
       "    <tr style=\"text-align: right;\">\n",
       "      <th></th>\n",
       "      <th>year</th>\n",
       "      <th>month</th>\n",
       "      <th>plant id</th>\n",
       "      <th>final co2 (kg)</th>\n",
       "    </tr>\n",
       "  </thead>\n",
       "  <tbody>\n",
       "    <tr>\n",
       "      <th>0</th>\n",
       "      <td>2001</td>\n",
       "      <td>1</td>\n",
       "      <td>2</td>\n",
       "      <td>0.000000e+00</td>\n",
       "    </tr>\n",
       "    <tr>\n",
       "      <th>1</th>\n",
       "      <td>2001</td>\n",
       "      <td>1</td>\n",
       "      <td>3</td>\n",
       "      <td>9.625411e+08</td>\n",
       "    </tr>\n",
       "    <tr>\n",
       "      <th>2</th>\n",
       "      <td>2001</td>\n",
       "      <td>1</td>\n",
       "      <td>4</td>\n",
       "      <td>0.000000e+00</td>\n",
       "    </tr>\n",
       "    <tr>\n",
       "      <th>3</th>\n",
       "      <td>2001</td>\n",
       "      <td>1</td>\n",
       "      <td>7</td>\n",
       "      <td>6.700092e+07</td>\n",
       "    </tr>\n",
       "    <tr>\n",
       "      <th>4</th>\n",
       "      <td>2001</td>\n",
       "      <td>1</td>\n",
       "      <td>8</td>\n",
       "      <td>7.530204e+08</td>\n",
       "    </tr>\n",
       "  </tbody>\n",
       "</table>\n",
       "</div>"
      ],
      "text/plain": [
       "   year  month  plant id  final co2 (kg)\n",
       "0  2001      1         2    0.000000e+00\n",
       "1  2001      1         3    9.625411e+08\n",
       "2  2001      1         4    0.000000e+00\n",
       "3  2001      1         7    6.700092e+07\n",
       "4  2001      1         8    7.530204e+08"
      ]
     },
     "execution_count": 30,
     "metadata": {},
     "output_type": "execute_result"
    }
   ],
   "source": [
    "co2.head()"
   ]
  },
  {
   "cell_type": "code",
   "execution_count": 39,
   "metadata": {
    "ExecuteTime": {
     "end_time": "2017-10-02T18:44:52.400662Z",
     "start_time": "2017-10-02T18:44:52.381892Z"
    }
   },
   "outputs": [
    {
     "data": {
      "text/html": [
       "<div>\n",
       "<style>\n",
       "    .dataframe thead tr:only-child th {\n",
       "        text-align: right;\n",
       "    }\n",
       "\n",
       "    .dataframe thead th {\n",
       "        text-align: left;\n",
       "    }\n",
       "\n",
       "    .dataframe tbody tr th {\n",
       "        vertical-align: top;\n",
       "    }\n",
       "</style>\n",
       "<table border=\"1\" class=\"dataframe\">\n",
       "  <thead>\n",
       "    <tr style=\"text-align: right;\">\n",
       "      <th></th>\n",
       "      <th>plant id</th>\n",
       "      <th>fuel category</th>\n",
       "      <th>year</th>\n",
       "      <th>month</th>\n",
       "      <th>total fuel (mmbtu)</th>\n",
       "      <th>generation (mwh)</th>\n",
       "      <th>elec fuel (mmbtu)</th>\n",
       "      <th>all fuel fossil co2 (kg)</th>\n",
       "      <th>elec fuel fossil co2 (kg)</th>\n",
       "      <th>all fuel total co2 (kg)</th>\n",
       "      <th>elec fuel total co2 (kg)</th>\n",
       "    </tr>\n",
       "  </thead>\n",
       "  <tbody>\n",
       "    <tr>\n",
       "      <th>0</th>\n",
       "      <td>2</td>\n",
       "      <td>Hydro</td>\n",
       "      <td>2001</td>\n",
       "      <td>1</td>\n",
       "      <td>195479.69</td>\n",
       "      <td>18918.0</td>\n",
       "      <td>195479.69</td>\n",
       "      <td>0.0</td>\n",
       "      <td>0.0</td>\n",
       "      <td>0.0</td>\n",
       "      <td>0.0</td>\n",
       "    </tr>\n",
       "    <tr>\n",
       "      <th>1</th>\n",
       "      <td>2</td>\n",
       "      <td>Hydro</td>\n",
       "      <td>2001</td>\n",
       "      <td>2</td>\n",
       "      <td>312128.93</td>\n",
       "      <td>30207.0</td>\n",
       "      <td>312128.93</td>\n",
       "      <td>0.0</td>\n",
       "      <td>0.0</td>\n",
       "      <td>0.0</td>\n",
       "      <td>0.0</td>\n",
       "    </tr>\n",
       "    <tr>\n",
       "      <th>2</th>\n",
       "      <td>2</td>\n",
       "      <td>Hydro</td>\n",
       "      <td>2001</td>\n",
       "      <td>3</td>\n",
       "      <td>390060.42</td>\n",
       "      <td>37749.0</td>\n",
       "      <td>390060.42</td>\n",
       "      <td>0.0</td>\n",
       "      <td>0.0</td>\n",
       "      <td>0.0</td>\n",
       "      <td>0.0</td>\n",
       "    </tr>\n",
       "    <tr>\n",
       "      <th>3</th>\n",
       "      <td>2</td>\n",
       "      <td>Hydro</td>\n",
       "      <td>2001</td>\n",
       "      <td>4</td>\n",
       "      <td>281925.57</td>\n",
       "      <td>27284.0</td>\n",
       "      <td>281925.57</td>\n",
       "      <td>0.0</td>\n",
       "      <td>0.0</td>\n",
       "      <td>0.0</td>\n",
       "      <td>0.0</td>\n",
       "    </tr>\n",
       "    <tr>\n",
       "      <th>4</th>\n",
       "      <td>2</td>\n",
       "      <td>Hydro</td>\n",
       "      <td>2001</td>\n",
       "      <td>5</td>\n",
       "      <td>92594.01</td>\n",
       "      <td>8961.0</td>\n",
       "      <td>92594.01</td>\n",
       "      <td>0.0</td>\n",
       "      <td>0.0</td>\n",
       "      <td>0.0</td>\n",
       "      <td>0.0</td>\n",
       "    </tr>\n",
       "  </tbody>\n",
       "</table>\n",
       "</div>"
      ],
      "text/plain": [
       "   plant id fuel category  year  month  total fuel (mmbtu)  generation (mwh)  \\\n",
       "0         2         Hydro  2001      1           195479.69           18918.0   \n",
       "1         2         Hydro  2001      2           312128.93           30207.0   \n",
       "2         2         Hydro  2001      3           390060.42           37749.0   \n",
       "3         2         Hydro  2001      4           281925.57           27284.0   \n",
       "4         2         Hydro  2001      5            92594.01            8961.0   \n",
       "\n",
       "   elec fuel (mmbtu)  all fuel fossil co2 (kg)  elec fuel fossil co2 (kg)  \\\n",
       "0          195479.69                       0.0                        0.0   \n",
       "1          312128.93                       0.0                        0.0   \n",
       "2          390060.42                       0.0                        0.0   \n",
       "3          281925.57                       0.0                        0.0   \n",
       "4           92594.01                       0.0                        0.0   \n",
       "\n",
       "   all fuel total co2 (kg)  elec fuel total co2 (kg)  \n",
       "0                      0.0                       0.0  \n",
       "1                      0.0                       0.0  \n",
       "2                      0.0                       0.0  \n",
       "3                      0.0                       0.0  \n",
       "4                      0.0                       0.0  "
      ]
     },
     "execution_count": 39,
     "metadata": {},
     "output_type": "execute_result"
    }
   ],
   "source": [
    "gen_fuels.head()"
   ]
  }
 ],
 "metadata": {
  "kernelspec": {
   "display_name": "py36",
   "language": "python",
   "name": "py36"
  },
  "language_info": {
   "codemirror_mode": {
    "name": "ipython",
    "version": 3
   },
   "file_extension": ".py",
   "mimetype": "text/x-python",
   "name": "python",
   "nbconvert_exporter": "python",
   "pygments_lexer": "ipython3",
   "version": "3.6.2"
  },
  "varInspector": {
   "cols": {
    "lenName": 16,
    "lenType": 16,
    "lenVar": 40
   },
   "kernels_config": {
    "python": {
     "delete_cmd_postfix": "",
     "delete_cmd_prefix": "del ",
     "library": "var_list.py",
     "varRefreshCmd": "print(var_dic_list())"
    },
    "r": {
     "delete_cmd_postfix": ") ",
     "delete_cmd_prefix": "rm(",
     "library": "var_list.r",
     "varRefreshCmd": "cat(var_dic_list()) "
    }
   },
   "types_to_exclude": [
    "module",
    "function",
    "builtin_function_or_method",
    "instance",
    "_Feature"
   ],
   "window_display": false
  }
 },
 "nbformat": 4,
 "nbformat_minor": 2
}
