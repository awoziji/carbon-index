{
 "cells": [
  {
   "cell_type": "code",
   "execution_count": 1,
   "metadata": {
    "ExecuteTime": {
     "end_time": "2017-10-03T13:28:26.577000Z",
     "start_time": "2017-10-03T13:28:25.360000Z"
    },
    "collapsed": true
   },
   "outputs": [],
   "source": [
    "%matplotlib inline\n",
    "import matplotlib.pyplot as plt\n",
    "import seaborn as sns\n",
    "import pandas as pd\n",
    "import numpy as np\n",
    "import os\n",
    "from os.path import join\n",
    "import sys\n",
    "import json"
   ]
  },
  {
   "cell_type": "code",
   "execution_count": 2,
   "metadata": {
    "ExecuteTime": {
     "end_time": "2017-10-03T13:28:26.925000Z",
     "start_time": "2017-10-03T13:28:26.580000Z"
    },
    "collapsed": true
   },
   "outputs": [],
   "source": [
    "# Load the \"autoreload\" extension\n",
    "%load_ext autoreload\n",
    "\n",
    "# always reload modules marked with \"%aimport\"\n",
    "%autoreload 1"
   ]
  },
  {
   "cell_type": "code",
   "execution_count": 3,
   "metadata": {
    "ExecuteTime": {
     "end_time": "2017-10-03T13:28:27.074000Z",
     "start_time": "2017-10-03T13:28:27.068000Z"
    },
    "collapsed": true
   },
   "outputs": [],
   "source": [
    "# add the 'src' directory as one where we can import modules\n",
    "src_dir = join(os.getcwd(), os.pardir, 'src')\n",
    "sys.path.append(src_dir)"
   ]
  },
  {
   "cell_type": "code",
   "execution_count": 4,
   "metadata": {
    "ExecuteTime": {
     "end_time": "2017-10-03T13:28:28.689000Z",
     "start_time": "2017-10-03T13:28:28.653000Z"
    },
    "collapsed": true
   },
   "outputs": [],
   "source": [
    "%aimport Data.make_data\n",
    "from Data.make_data import states_in_nerc\n",
    "%aimport Analysis.index\n",
    "from Analysis.index import facility_emission_gen, group_facility_data, facility_co2, adjust_epa_emissions, group_fuel_cats\n",
    "%aimport util.utils\n",
    "from util.utils import rename_cols"
   ]
  },
  {
   "cell_type": "markdown",
   "metadata": {},
   "source": [
    "## Load data"
   ]
  },
  {
   "cell_type": "code",
   "execution_count": 116,
   "metadata": {
    "ExecuteTime": {
     "end_time": "2017-10-03T17:06:50.877000Z",
     "start_time": "2017-10-03T17:06:43.965000Z"
    },
    "collapsed": true
   },
   "outputs": [],
   "source": [
    "cwd = os.getcwd()\n",
    "path = join(cwd, '..', 'Data storage',\n",
    "            'Facility gen fuels and CO2 2017-08-31.zip')\n",
    "eia_fac = pd.read_csv(path)"
   ]
  },
  {
   "cell_type": "code",
   "execution_count": 143,
   "metadata": {
    "ExecuteTime": {
     "end_time": "2017-10-03T17:31:37.135000Z",
     "start_time": "2017-10-03T17:31:37.078000Z"
    }
   },
   "outputs": [
    {
     "data": {
      "text/html": [
       "<div>\n",
       "<style>\n",
       "    .dataframe thead tr:only-child th {\n",
       "        text-align: right;\n",
       "    }\n",
       "\n",
       "    .dataframe thead th {\n",
       "        text-align: left;\n",
       "    }\n",
       "\n",
       "    .dataframe tbody tr th {\n",
       "        vertical-align: top;\n",
       "    }\n",
       "</style>\n",
       "<table border=\"1\" class=\"dataframe\">\n",
       "  <thead>\n",
       "    <tr style=\"text-align: right;\">\n",
       "      <th></th>\n",
       "      <th>f</th>\n",
       "      <th>fuel</th>\n",
       "      <th>month</th>\n",
       "      <th>plant id</th>\n",
       "      <th>total fuel (mmbtu)</th>\n",
       "      <th>year</th>\n",
       "      <th>generation (mwh)</th>\n",
       "      <th>elec fuel (mmbtu)</th>\n",
       "      <th>geography</th>\n",
       "      <th>last_updated</th>\n",
       "      <th>lat</th>\n",
       "      <th>lon</th>\n",
       "      <th>prime mover</th>\n",
       "      <th>datetime</th>\n",
       "      <th>quarter</th>\n",
       "      <th>all fuel fossil co2 (kg)</th>\n",
       "      <th>elec fuel fossil co2 (kg)</th>\n",
       "      <th>all fuel total co2 (kg)</th>\n",
       "      <th>elec fuel total co2 (kg)</th>\n",
       "      <th>type</th>\n",
       "    </tr>\n",
       "  </thead>\n",
       "  <tbody>\n",
       "    <tr>\n",
       "      <th>0</th>\n",
       "      <td>M</td>\n",
       "      <td>SUB</td>\n",
       "      <td>6</td>\n",
       "      <td>10360</td>\n",
       "      <td>0.0</td>\n",
       "      <td>2017</td>\n",
       "      <td>0.0</td>\n",
       "      <td>0.0</td>\n",
       "      <td>USA-WI</td>\n",
       "      <td>2017-08-24T11:46:12-04:00</td>\n",
       "      <td>44.4936</td>\n",
       "      <td>-88.0303</td>\n",
       "      <td>ALL</td>\n",
       "      <td>2017-06-01</td>\n",
       "      <td>2</td>\n",
       "      <td>0.0</td>\n",
       "      <td>0.0</td>\n",
       "      <td>0.0</td>\n",
       "      <td>0.0</td>\n",
       "      <td>COW</td>\n",
       "    </tr>\n",
       "    <tr>\n",
       "      <th>1</th>\n",
       "      <td>M</td>\n",
       "      <td>SUB</td>\n",
       "      <td>5</td>\n",
       "      <td>10360</td>\n",
       "      <td>0.0</td>\n",
       "      <td>2017</td>\n",
       "      <td>0.0</td>\n",
       "      <td>0.0</td>\n",
       "      <td>USA-WI</td>\n",
       "      <td>2017-08-24T11:46:12-04:00</td>\n",
       "      <td>44.4936</td>\n",
       "      <td>-88.0303</td>\n",
       "      <td>ALL</td>\n",
       "      <td>2017-05-01</td>\n",
       "      <td>2</td>\n",
       "      <td>0.0</td>\n",
       "      <td>0.0</td>\n",
       "      <td>0.0</td>\n",
       "      <td>0.0</td>\n",
       "      <td>COW</td>\n",
       "    </tr>\n",
       "    <tr>\n",
       "      <th>2</th>\n",
       "      <td>M</td>\n",
       "      <td>SUB</td>\n",
       "      <td>4</td>\n",
       "      <td>10360</td>\n",
       "      <td>0.0</td>\n",
       "      <td>2017</td>\n",
       "      <td>0.0</td>\n",
       "      <td>0.0</td>\n",
       "      <td>USA-WI</td>\n",
       "      <td>2017-08-24T11:46:12-04:00</td>\n",
       "      <td>44.4936</td>\n",
       "      <td>-88.0303</td>\n",
       "      <td>ALL</td>\n",
       "      <td>2017-04-01</td>\n",
       "      <td>2</td>\n",
       "      <td>0.0</td>\n",
       "      <td>0.0</td>\n",
       "      <td>0.0</td>\n",
       "      <td>0.0</td>\n",
       "      <td>COW</td>\n",
       "    </tr>\n",
       "    <tr>\n",
       "      <th>3</th>\n",
       "      <td>M</td>\n",
       "      <td>SUB</td>\n",
       "      <td>3</td>\n",
       "      <td>10360</td>\n",
       "      <td>0.0</td>\n",
       "      <td>2017</td>\n",
       "      <td>0.0</td>\n",
       "      <td>0.0</td>\n",
       "      <td>USA-WI</td>\n",
       "      <td>2017-08-24T11:46:12-04:00</td>\n",
       "      <td>44.4936</td>\n",
       "      <td>-88.0303</td>\n",
       "      <td>ALL</td>\n",
       "      <td>2017-03-01</td>\n",
       "      <td>1</td>\n",
       "      <td>0.0</td>\n",
       "      <td>0.0</td>\n",
       "      <td>0.0</td>\n",
       "      <td>0.0</td>\n",
       "      <td>COW</td>\n",
       "    </tr>\n",
       "    <tr>\n",
       "      <th>4</th>\n",
       "      <td>M</td>\n",
       "      <td>SUB</td>\n",
       "      <td>2</td>\n",
       "      <td>10360</td>\n",
       "      <td>0.0</td>\n",
       "      <td>2017</td>\n",
       "      <td>0.0</td>\n",
       "      <td>0.0</td>\n",
       "      <td>USA-WI</td>\n",
       "      <td>2017-08-24T11:46:12-04:00</td>\n",
       "      <td>44.4936</td>\n",
       "      <td>-88.0303</td>\n",
       "      <td>ALL</td>\n",
       "      <td>2017-02-01</td>\n",
       "      <td>1</td>\n",
       "      <td>0.0</td>\n",
       "      <td>0.0</td>\n",
       "      <td>0.0</td>\n",
       "      <td>0.0</td>\n",
       "      <td>COW</td>\n",
       "    </tr>\n",
       "  </tbody>\n",
       "</table>\n",
       "</div>"
      ],
      "text/plain": [
       "   f fuel  month  plant id  total fuel (mmbtu)  year  generation (mwh)  \\\n",
       "0  M  SUB      6     10360                 0.0  2017               0.0   \n",
       "1  M  SUB      5     10360                 0.0  2017               0.0   \n",
       "2  M  SUB      4     10360                 0.0  2017               0.0   \n",
       "3  M  SUB      3     10360                 0.0  2017               0.0   \n",
       "4  M  SUB      2     10360                 0.0  2017               0.0   \n",
       "\n",
       "   elec fuel (mmbtu) geography               last_updated      lat      lon  \\\n",
       "0                0.0    USA-WI  2017-08-24T11:46:12-04:00  44.4936 -88.0303   \n",
       "1                0.0    USA-WI  2017-08-24T11:46:12-04:00  44.4936 -88.0303   \n",
       "2                0.0    USA-WI  2017-08-24T11:46:12-04:00  44.4936 -88.0303   \n",
       "3                0.0    USA-WI  2017-08-24T11:46:12-04:00  44.4936 -88.0303   \n",
       "4                0.0    USA-WI  2017-08-24T11:46:12-04:00  44.4936 -88.0303   \n",
       "\n",
       "  prime mover    datetime  quarter  all fuel fossil co2 (kg)  \\\n",
       "0         ALL  2017-06-01        2                       0.0   \n",
       "1         ALL  2017-05-01        2                       0.0   \n",
       "2         ALL  2017-04-01        2                       0.0   \n",
       "3         ALL  2017-03-01        1                       0.0   \n",
       "4         ALL  2017-02-01        1                       0.0   \n",
       "\n",
       "   elec fuel fossil co2 (kg)  all fuel total co2 (kg)  \\\n",
       "0                        0.0                      0.0   \n",
       "1                        0.0                      0.0   \n",
       "2                        0.0                      0.0   \n",
       "3                        0.0                      0.0   \n",
       "4                        0.0                      0.0   \n",
       "\n",
       "   elec fuel total co2 (kg) type  \n",
       "0                       0.0  COW  \n",
       "1                       0.0  COW  \n",
       "2                       0.0  COW  \n",
       "3                       0.0  COW  \n",
       "4                       0.0  COW  "
      ]
     },
     "execution_count": 143,
     "metadata": {},
     "output_type": "execute_result"
    }
   ],
   "source": [
    "eia_fac.head()"
   ]
  },
  {
   "cell_type": "code",
   "execution_count": 118,
   "metadata": {
    "ExecuteTime": {
     "end_time": "2017-10-03T17:08:08.348000Z",
     "start_time": "2017-10-03T17:08:07.947000Z"
    }
   },
   "outputs": [],
   "source": [
    "path = join(cwd, '..', 'Data storage', 'Derived data',\n",
    "            'Monthly EPA emissions 2017-08-31.csv')\n",
    "epa = pd.read_csv(path)"
   ]
  },
  {
   "cell_type": "markdown",
   "metadata": {},
   "source": [
    "## Test facility_emissions_gen"
   ]
  },
  {
   "cell_type": "code",
   "execution_count": 119,
   "metadata": {
    "ExecuteTime": {
     "end_time": "2017-10-03T17:08:11.410000Z",
     "start_time": "2017-10-03T17:08:11.401000Z"
    },
    "collapsed": true
   },
   "outputs": [],
   "source": [
    "fuel_cat_folder = join(cwd, '..', 'Data storage', 'Fuel categories')\n",
    "state_cats_path = join(fuel_cat_folder, 'State_facility.json')\n",
    "\n",
    "with open(state_cats_path, 'r') as f:\n",
    "    state_fuel_cat = json.load(f)\n",
    "    \n",
    "custom_cats_path = join(fuel_cat_folder, 'Custom_results.json')\n",
    "with open(custom_cats_path, 'r') as f:\n",
    "    custom_fuel_cat = json.load(f)"
   ]
  },
  {
   "cell_type": "code",
   "execution_count": 32,
   "metadata": {
    "ExecuteTime": {
     "end_time": "2017-10-03T13:47:20.714000Z",
     "start_time": "2017-10-03T13:47:04.176000Z"
    }
   },
   "outputs": [
    {
     "name": "stdout",
     "output_type": "stream",
     "text": [
      "Renaming columns\n",
      "Grouping facilities\n",
      "Adjusting EPA emissions\n",
      "Caculating CO2\n",
      "Gen/fuels to state categories\n"
     ]
    }
   ],
   "source": [
    "co2, gen_fuels_custom = facility_emission_gen(eia_facility=eia_fac, epa=epa,\n",
    "                                              state_fuel_cat=state_fuel_cat,\n",
    "                                              custom_fuel_cat=custom_fuel_cat,\n",
    "                                              export_state_cats=False)"
   ]
  },
  {
   "cell_type": "code",
   "execution_count": 120,
   "metadata": {
    "ExecuteTime": {
     "end_time": "2017-10-03T17:08:31.790000Z",
     "start_time": "2017-10-03T17:08:15.533000Z"
    }
   },
   "outputs": [
    {
     "name": "stdout",
     "output_type": "stream",
     "text": [
      "Renaming columns\n",
      "Grouping facilities\n",
      "Adjusting EPA emissions\n",
      "Caculating CO2\n",
      "Gen/fuels to state categories\n"
     ]
    }
   ],
   "source": [
    "co2, gen_fuels_state = facility_emission_gen(eia_facility=eia_fac, epa=epa,\n",
    "                                              state_fuel_cat=state_fuel_cat,\n",
    "                                              custom_fuel_cat=custom_fuel_cat,\n",
    "                                              export_state_cats=True)"
   ]
  },
  {
   "cell_type": "code",
   "execution_count": 9,
   "metadata": {
    "ExecuteTime": {
     "end_time": "2017-10-03T13:29:24.289000Z",
     "start_time": "2017-10-03T13:29:24.268000Z"
    }
   },
   "outputs": [
    {
     "data": {
      "text/html": [
       "<div>\n",
       "<style>\n",
       "    .dataframe thead tr:only-child th {\n",
       "        text-align: right;\n",
       "    }\n",
       "\n",
       "    .dataframe thead th {\n",
       "        text-align: left;\n",
       "    }\n",
       "\n",
       "    .dataframe tbody tr th {\n",
       "        vertical-align: top;\n",
       "    }\n",
       "</style>\n",
       "<table border=\"1\" class=\"dataframe\">\n",
       "  <thead>\n",
       "    <tr style=\"text-align: right;\">\n",
       "      <th></th>\n",
       "      <th>year</th>\n",
       "      <th>month</th>\n",
       "      <th>plant id</th>\n",
       "      <th>final co2 (kg)</th>\n",
       "    </tr>\n",
       "  </thead>\n",
       "  <tbody>\n",
       "    <tr>\n",
       "      <th>0</th>\n",
       "      <td>2001</td>\n",
       "      <td>1</td>\n",
       "      <td>2</td>\n",
       "      <td>0.000000e+00</td>\n",
       "    </tr>\n",
       "    <tr>\n",
       "      <th>1</th>\n",
       "      <td>2001</td>\n",
       "      <td>1</td>\n",
       "      <td>3</td>\n",
       "      <td>9.625411e+08</td>\n",
       "    </tr>\n",
       "    <tr>\n",
       "      <th>2</th>\n",
       "      <td>2001</td>\n",
       "      <td>1</td>\n",
       "      <td>4</td>\n",
       "      <td>0.000000e+00</td>\n",
       "    </tr>\n",
       "    <tr>\n",
       "      <th>3</th>\n",
       "      <td>2001</td>\n",
       "      <td>1</td>\n",
       "      <td>7</td>\n",
       "      <td>6.700092e+07</td>\n",
       "    </tr>\n",
       "    <tr>\n",
       "      <th>4</th>\n",
       "      <td>2001</td>\n",
       "      <td>1</td>\n",
       "      <td>8</td>\n",
       "      <td>7.530204e+08</td>\n",
       "    </tr>\n",
       "  </tbody>\n",
       "</table>\n",
       "</div>"
      ],
      "text/plain": [
       "   year  month  plant id  final co2 (kg)\n",
       "0  2001      1         2    0.000000e+00\n",
       "1  2001      1         3    9.625411e+08\n",
       "2  2001      1         4    0.000000e+00\n",
       "3  2001      1         7    6.700092e+07\n",
       "4  2001      1         8    7.530204e+08"
      ]
     },
     "execution_count": 9,
     "metadata": {},
     "output_type": "execute_result"
    }
   ],
   "source": [
    "co2.head()"
   ]
  },
  {
   "cell_type": "code",
   "execution_count": 10,
   "metadata": {
    "ExecuteTime": {
     "end_time": "2017-10-03T13:29:25.754000Z",
     "start_time": "2017-10-03T13:29:25.673000Z"
    }
   },
   "outputs": [
    {
     "data": {
      "text/html": [
       "<div>\n",
       "<style>\n",
       "    .dataframe thead tr:only-child th {\n",
       "        text-align: right;\n",
       "    }\n",
       "\n",
       "    .dataframe thead th {\n",
       "        text-align: left;\n",
       "    }\n",
       "\n",
       "    .dataframe tbody tr th {\n",
       "        vertical-align: top;\n",
       "    }\n",
       "</style>\n",
       "<table border=\"1\" class=\"dataframe\">\n",
       "  <thead>\n",
       "    <tr style=\"text-align: right;\">\n",
       "      <th></th>\n",
       "      <th>plant id</th>\n",
       "      <th>fuel category</th>\n",
       "      <th>year</th>\n",
       "      <th>month</th>\n",
       "      <th>total fuel (mmbtu)</th>\n",
       "      <th>generation (mwh)</th>\n",
       "      <th>elec fuel (mmbtu)</th>\n",
       "      <th>all fuel fossil co2 (kg)</th>\n",
       "      <th>elec fuel fossil co2 (kg)</th>\n",
       "      <th>all fuel total co2 (kg)</th>\n",
       "      <th>elec fuel total co2 (kg)</th>\n",
       "    </tr>\n",
       "  </thead>\n",
       "  <tbody>\n",
       "    <tr>\n",
       "      <th>0</th>\n",
       "      <td>2</td>\n",
       "      <td>Hydro</td>\n",
       "      <td>2001</td>\n",
       "      <td>1</td>\n",
       "      <td>195479.69</td>\n",
       "      <td>18918.0</td>\n",
       "      <td>195479.69</td>\n",
       "      <td>0.0</td>\n",
       "      <td>0.0</td>\n",
       "      <td>0.0</td>\n",
       "      <td>0.0</td>\n",
       "    </tr>\n",
       "    <tr>\n",
       "      <th>1</th>\n",
       "      <td>2</td>\n",
       "      <td>Hydro</td>\n",
       "      <td>2001</td>\n",
       "      <td>2</td>\n",
       "      <td>312128.93</td>\n",
       "      <td>30207.0</td>\n",
       "      <td>312128.93</td>\n",
       "      <td>0.0</td>\n",
       "      <td>0.0</td>\n",
       "      <td>0.0</td>\n",
       "      <td>0.0</td>\n",
       "    </tr>\n",
       "    <tr>\n",
       "      <th>2</th>\n",
       "      <td>2</td>\n",
       "      <td>Hydro</td>\n",
       "      <td>2001</td>\n",
       "      <td>3</td>\n",
       "      <td>390060.42</td>\n",
       "      <td>37749.0</td>\n",
       "      <td>390060.42</td>\n",
       "      <td>0.0</td>\n",
       "      <td>0.0</td>\n",
       "      <td>0.0</td>\n",
       "      <td>0.0</td>\n",
       "    </tr>\n",
       "    <tr>\n",
       "      <th>3</th>\n",
       "      <td>2</td>\n",
       "      <td>Hydro</td>\n",
       "      <td>2001</td>\n",
       "      <td>4</td>\n",
       "      <td>281925.57</td>\n",
       "      <td>27284.0</td>\n",
       "      <td>281925.57</td>\n",
       "      <td>0.0</td>\n",
       "      <td>0.0</td>\n",
       "      <td>0.0</td>\n",
       "      <td>0.0</td>\n",
       "    </tr>\n",
       "    <tr>\n",
       "      <th>4</th>\n",
       "      <td>2</td>\n",
       "      <td>Hydro</td>\n",
       "      <td>2001</td>\n",
       "      <td>5</td>\n",
       "      <td>92594.01</td>\n",
       "      <td>8961.0</td>\n",
       "      <td>92594.01</td>\n",
       "      <td>0.0</td>\n",
       "      <td>0.0</td>\n",
       "      <td>0.0</td>\n",
       "      <td>0.0</td>\n",
       "    </tr>\n",
       "  </tbody>\n",
       "</table>\n",
       "</div>"
      ],
      "text/plain": [
       "   plant id fuel category  year  month  total fuel (mmbtu)  generation (mwh)  \\\n",
       "0         2         Hydro  2001      1           195479.69           18918.0   \n",
       "1         2         Hydro  2001      2           312128.93           30207.0   \n",
       "2         2         Hydro  2001      3           390060.42           37749.0   \n",
       "3         2         Hydro  2001      4           281925.57           27284.0   \n",
       "4         2         Hydro  2001      5            92594.01            8961.0   \n",
       "\n",
       "   elec fuel (mmbtu)  all fuel fossil co2 (kg)  elec fuel fossil co2 (kg)  \\\n",
       "0          195479.69                       0.0                        0.0   \n",
       "1          312128.93                       0.0                        0.0   \n",
       "2          390060.42                       0.0                        0.0   \n",
       "3          281925.57                       0.0                        0.0   \n",
       "4           92594.01                       0.0                        0.0   \n",
       "\n",
       "   all fuel total co2 (kg)  elec fuel total co2 (kg)  \n",
       "0                      0.0                       0.0  \n",
       "1                      0.0                       0.0  \n",
       "2                      0.0                       0.0  \n",
       "3                      0.0                       0.0  \n",
       "4                      0.0                       0.0  "
      ]
     },
     "execution_count": 10,
     "metadata": {},
     "output_type": "execute_result"
    }
   ],
   "source": [
    "gen_fuels.head()"
   ]
  },
  {
   "cell_type": "markdown",
   "metadata": {},
   "source": [
    "### Check generation and fuel consumption totals"
   ]
  },
  {
   "cell_type": "markdown",
   "metadata": {},
   "source": [
    "Interesting - there is some small part of generation that I'm losing along the way. It's 5 orders of magnitude smaller than the total though."
   ]
  },
  {
   "cell_type": "code",
   "execution_count": 121,
   "metadata": {
    "ExecuteTime": {
     "end_time": "2017-10-03T17:08:43.720000Z",
     "start_time": "2017-10-03T17:08:43.707000Z"
    }
   },
   "outputs": [
    {
     "data": {
      "text/plain": [
       "65594379743.76258"
      ]
     },
     "execution_count": 121,
     "metadata": {},
     "output_type": "execute_result"
    }
   ],
   "source": [
    "eia_fac['generation (mwh)'].sum()"
   ]
  },
  {
   "cell_type": "code",
   "execution_count": 123,
   "metadata": {
    "ExecuteTime": {
     "end_time": "2017-10-03T17:09:00.048000Z",
     "start_time": "2017-10-03T17:09:00.036000Z"
    }
   },
   "outputs": [
    {
     "data": {
      "text/plain": [
       "65594327524.76352"
      ]
     },
     "execution_count": 123,
     "metadata": {},
     "output_type": "execute_result"
    }
   ],
   "source": [
    "gen_fuels_state['generation (mwh)'].sum()"
   ]
  },
  {
   "cell_type": "markdown",
   "metadata": {},
   "source": [
    "Fuel consumption is pretty identical though"
   ]
  },
  {
   "cell_type": "code",
   "execution_count": 124,
   "metadata": {
    "ExecuteTime": {
     "end_time": "2017-10-03T17:09:07.921000Z",
     "start_time": "2017-10-03T17:09:07.907000Z"
    }
   },
   "outputs": [
    {
     "data": {
      "text/plain": [
       "(686393145435.8103, 645653921528.091)"
      ]
     },
     "execution_count": 124,
     "metadata": {},
     "output_type": "execute_result"
    }
   ],
   "source": [
    "eia_fac['total fuel (mmbtu)'].sum(), eia_fac['elec fuel (mmbtu)'].sum()"
   ]
  },
  {
   "cell_type": "code",
   "execution_count": 125,
   "metadata": {
    "ExecuteTime": {
     "end_time": "2017-10-03T17:09:13.723000Z",
     "start_time": "2017-10-03T17:09:13.707000Z"
    }
   },
   "outputs": [
    {
     "data": {
      "text/plain": [
       "(686393145435.7861, 645653921528.0757)"
      ]
     },
     "execution_count": 125,
     "metadata": {},
     "output_type": "execute_result"
    }
   ],
   "source": [
    "gen_fuels_state['total fuel (mmbtu)'].sum(), gen_fuels_state['elec fuel (mmbtu)'].sum()"
   ]
  },
  {
   "cell_type": "markdown",
   "metadata": {
    "collapsed": true
   },
   "source": [
    "## Extra gen/fuels from non-reporting"
   ]
  },
  {
   "cell_type": "code",
   "execution_count": 142,
   "metadata": {
    "ExecuteTime": {
     "end_time": "2017-10-03T17:27:47.168000Z",
     "start_time": "2017-10-03T17:27:47.155000Z"
    },
    "collapsed": true
   },
   "outputs": [],
   "source": [
    "%aimport Analysis.index\n",
    "from Analysis.index import extra_emissions_gen"
   ]
  },
  {
   "cell_type": "markdown",
   "metadata": {},
   "source": [
    "Total EIA generation/fuel consumption and emission factors"
   ]
  },
  {
   "cell_type": "code",
   "execution_count": 128,
   "metadata": {
    "ExecuteTime": {
     "end_time": "2017-10-03T17:09:57.017000Z",
     "start_time": "2017-10-03T17:09:56.989000Z"
    }
   },
   "outputs": [],
   "source": [
    "cwd = os.getcwd()\n",
    "path = join(cwd, '..', 'Data storage',\n",
    "            'EIA country-wide gen fuel CO2 2017-08-31.csv')\n",
    "eia_total = pd.read_csv(path)\n",
    "\n",
    "path = join(cwd, '..', 'Data storage',\n",
    "            'Final emission factors.csv')\n",
    "ef = pd.read_csv(path, index_col=0)"
   ]
  },
  {
   "cell_type": "code",
   "execution_count": 136,
   "metadata": {
    "ExecuteTime": {
     "end_time": "2017-10-03T17:18:47.183000Z",
     "start_time": "2017-10-03T17:18:46.252000Z"
    }
   },
   "outputs": [],
   "source": [
    "extra_co2, extra_gen_fuel = extra_emissions_gen(gen_fuels_state, eia_total, ef)"
   ]
  },
  {
   "cell_type": "markdown",
   "metadata": {},
   "source": [
    "Results match what I have previously found in the notebooks up on GitHub (Emissions Index repo)"
   ]
  },
  {
   "cell_type": "code",
   "execution_count": 94,
   "metadata": {
    "ExecuteTime": {
     "end_time": "2017-10-03T16:36:49.467000Z",
     "start_time": "2017-10-03T16:36:49.443000Z"
    }
   },
   "outputs": [
    {
     "data": {
      "text/html": [
       "<div>\n",
       "<style>\n",
       "    .dataframe thead tr:only-child th {\n",
       "        text-align: right;\n",
       "    }\n",
       "\n",
       "    .dataframe thead th {\n",
       "        text-align: left;\n",
       "    }\n",
       "\n",
       "    .dataframe tbody tr th {\n",
       "        vertical-align: top;\n",
       "    }\n",
       "</style>\n",
       "<table border=\"1\" class=\"dataframe\">\n",
       "  <thead>\n",
       "    <tr style=\"text-align: right;\">\n",
       "      <th></th>\n",
       "      <th></th>\n",
       "      <th></th>\n",
       "      <th>total fuel (mmbtu)</th>\n",
       "      <th>generation (mwh)</th>\n",
       "      <th>elec fuel (mmbtu)</th>\n",
       "    </tr>\n",
       "    <tr>\n",
       "      <th>type</th>\n",
       "      <th>year</th>\n",
       "      <th>month</th>\n",
       "      <th></th>\n",
       "      <th></th>\n",
       "      <th></th>\n",
       "    </tr>\n",
       "  </thead>\n",
       "  <tbody>\n",
       "    <tr>\n",
       "      <th rowspan=\"5\" valign=\"top\">COW</th>\n",
       "      <th rowspan=\"5\" valign=\"top\">2001</th>\n",
       "      <th>1</th>\n",
       "      <td>16918390.0</td>\n",
       "      <td>1011665.061</td>\n",
       "      <td>13157576.0</td>\n",
       "    </tr>\n",
       "    <tr>\n",
       "      <th>2</th>\n",
       "      <td>14968346.0</td>\n",
       "      <td>911346.865</td>\n",
       "      <td>11574491.0</td>\n",
       "    </tr>\n",
       "    <tr>\n",
       "      <th>3</th>\n",
       "      <td>18321543.0</td>\n",
       "      <td>1153328.913</td>\n",
       "      <td>14765162.0</td>\n",
       "    </tr>\n",
       "    <tr>\n",
       "      <th>4</th>\n",
       "      <td>13530117.0</td>\n",
       "      <td>776341.623</td>\n",
       "      <td>10374008.0</td>\n",
       "    </tr>\n",
       "    <tr>\n",
       "      <th>5</th>\n",
       "      <td>14014024.0</td>\n",
       "      <td>801266.923</td>\n",
       "      <td>10920463.0</td>\n",
       "    </tr>\n",
       "  </tbody>\n",
       "</table>\n",
       "</div>"
      ],
      "text/plain": [
       "                 total fuel (mmbtu)  generation (mwh)  elec fuel (mmbtu)\n",
       "type year month                                                         \n",
       "COW  2001 1              16918390.0       1011665.061         13157576.0\n",
       "          2              14968346.0        911346.865         11574491.0\n",
       "          3              18321543.0       1153328.913         14765162.0\n",
       "          4              13530117.0        776341.623         10374008.0\n",
       "          5              14014024.0        801266.923         10920463.0"
      ]
     },
     "execution_count": 94,
     "metadata": {},
     "output_type": "execute_result"
    }
   ],
   "source": [
    "extra_gen_fuel.head()"
   ]
  },
  {
   "cell_type": "code",
   "execution_count": 95,
   "metadata": {
    "ExecuteTime": {
     "end_time": "2017-10-03T16:37:21.929000Z",
     "start_time": "2017-10-03T16:37:21.882000Z"
    },
    "scrolled": true
   },
   "outputs": [
    {
     "data": {
      "text/html": [
       "<div>\n",
       "<style>\n",
       "    .dataframe thead tr:only-child th {\n",
       "        text-align: right;\n",
       "    }\n",
       "\n",
       "    .dataframe thead th {\n",
       "        text-align: left;\n",
       "    }\n",
       "\n",
       "    .dataframe tbody tr th {\n",
       "        vertical-align: top;\n",
       "    }\n",
       "</style>\n",
       "<table border=\"1\" class=\"dataframe\">\n",
       "  <thead>\n",
       "    <tr style=\"text-align: right;\">\n",
       "      <th></th>\n",
       "      <th></th>\n",
       "      <th></th>\n",
       "      <th>total fuel (mmbtu)</th>\n",
       "      <th>generation (mwh)</th>\n",
       "      <th>elec fuel (mmbtu)</th>\n",
       "    </tr>\n",
       "    <tr>\n",
       "      <th>type</th>\n",
       "      <th>year</th>\n",
       "      <th>month</th>\n",
       "      <th></th>\n",
       "      <th></th>\n",
       "      <th></th>\n",
       "    </tr>\n",
       "  </thead>\n",
       "  <tbody>\n",
       "    <tr>\n",
       "      <th rowspan=\"42\" valign=\"top\">DPV</th>\n",
       "      <th rowspan=\"12\" valign=\"top\">2014</th>\n",
       "      <th>1</th>\n",
       "      <td>NaN</td>\n",
       "      <td>624032.82</td>\n",
       "      <td>NaN</td>\n",
       "    </tr>\n",
       "    <tr>\n",
       "      <th>2</th>\n",
       "      <td>NaN</td>\n",
       "      <td>663828.73</td>\n",
       "      <td>NaN</td>\n",
       "    </tr>\n",
       "    <tr>\n",
       "      <th>3</th>\n",
       "      <td>NaN</td>\n",
       "      <td>907029.95</td>\n",
       "      <td>NaN</td>\n",
       "    </tr>\n",
       "    <tr>\n",
       "      <th>4</th>\n",
       "      <td>NaN</td>\n",
       "      <td>988423.77</td>\n",
       "      <td>NaN</td>\n",
       "    </tr>\n",
       "    <tr>\n",
       "      <th>5</th>\n",
       "      <td>NaN</td>\n",
       "      <td>1092011.80</td>\n",
       "      <td>NaN</td>\n",
       "    </tr>\n",
       "    <tr>\n",
       "      <th>6</th>\n",
       "      <td>NaN</td>\n",
       "      <td>1100560.82</td>\n",
       "      <td>NaN</td>\n",
       "    </tr>\n",
       "    <tr>\n",
       "      <th>7</th>\n",
       "      <td>NaN</td>\n",
       "      <td>1148527.79</td>\n",
       "      <td>NaN</td>\n",
       "    </tr>\n",
       "    <tr>\n",
       "      <th>8</th>\n",
       "      <td>NaN</td>\n",
       "      <td>1139134.66</td>\n",
       "      <td>NaN</td>\n",
       "    </tr>\n",
       "    <tr>\n",
       "      <th>9</th>\n",
       "      <td>NaN</td>\n",
       "      <td>1046360.70</td>\n",
       "      <td>NaN</td>\n",
       "    </tr>\n",
       "    <tr>\n",
       "      <th>10</th>\n",
       "      <td>NaN</td>\n",
       "      <td>964877.96</td>\n",
       "      <td>NaN</td>\n",
       "    </tr>\n",
       "    <tr>\n",
       "      <th>11</th>\n",
       "      <td>NaN</td>\n",
       "      <td>791801.55</td>\n",
       "      <td>NaN</td>\n",
       "    </tr>\n",
       "    <tr>\n",
       "      <th>12</th>\n",
       "      <td>NaN</td>\n",
       "      <td>766068.15</td>\n",
       "      <td>NaN</td>\n",
       "    </tr>\n",
       "    <tr>\n",
       "      <th rowspan=\"12\" valign=\"top\">2015</th>\n",
       "      <th>1</th>\n",
       "      <td>NaN</td>\n",
       "      <td>746445.84</td>\n",
       "      <td>NaN</td>\n",
       "    </tr>\n",
       "    <tr>\n",
       "      <th>2</th>\n",
       "      <td>NaN</td>\n",
       "      <td>815764.50</td>\n",
       "      <td>NaN</td>\n",
       "    </tr>\n",
       "    <tr>\n",
       "      <th>3</th>\n",
       "      <td>NaN</td>\n",
       "      <td>1133577.23</td>\n",
       "      <td>NaN</td>\n",
       "    </tr>\n",
       "    <tr>\n",
       "      <th>4</th>\n",
       "      <td>NaN</td>\n",
       "      <td>1263528.30</td>\n",
       "      <td>NaN</td>\n",
       "    </tr>\n",
       "    <tr>\n",
       "      <th>5</th>\n",
       "      <td>NaN</td>\n",
       "      <td>1393836.75</td>\n",
       "      <td>NaN</td>\n",
       "    </tr>\n",
       "    <tr>\n",
       "      <th>6</th>\n",
       "      <td>NaN</td>\n",
       "      <td>1408013.52</td>\n",
       "      <td>NaN</td>\n",
       "    </tr>\n",
       "    <tr>\n",
       "      <th>7</th>\n",
       "      <td>NaN</td>\n",
       "      <td>1486681.59</td>\n",
       "      <td>NaN</td>\n",
       "    </tr>\n",
       "    <tr>\n",
       "      <th>8</th>\n",
       "      <td>NaN</td>\n",
       "      <td>1468048.33</td>\n",
       "      <td>NaN</td>\n",
       "    </tr>\n",
       "    <tr>\n",
       "      <th>9</th>\n",
       "      <td>NaN</td>\n",
       "      <td>1329651.46</td>\n",
       "      <td>NaN</td>\n",
       "    </tr>\n",
       "    <tr>\n",
       "      <th>10</th>\n",
       "      <td>NaN</td>\n",
       "      <td>1197707.54</td>\n",
       "      <td>NaN</td>\n",
       "    </tr>\n",
       "    <tr>\n",
       "      <th>11</th>\n",
       "      <td>NaN</td>\n",
       "      <td>982048.27</td>\n",
       "      <td>NaN</td>\n",
       "    </tr>\n",
       "    <tr>\n",
       "      <th>12</th>\n",
       "      <td>NaN</td>\n",
       "      <td>913963.95</td>\n",
       "      <td>NaN</td>\n",
       "    </tr>\n",
       "    <tr>\n",
       "      <th rowspan=\"12\" valign=\"top\">2016</th>\n",
       "      <th>1</th>\n",
       "      <td>NaN</td>\n",
       "      <td>1020588.78</td>\n",
       "      <td>NaN</td>\n",
       "    </tr>\n",
       "    <tr>\n",
       "      <th>2</th>\n",
       "      <td>NaN</td>\n",
       "      <td>1189469.53</td>\n",
       "      <td>NaN</td>\n",
       "    </tr>\n",
       "    <tr>\n",
       "      <th>3</th>\n",
       "      <td>NaN</td>\n",
       "      <td>1582361.09</td>\n",
       "      <td>NaN</td>\n",
       "    </tr>\n",
       "    <tr>\n",
       "      <th>4</th>\n",
       "      <td>NaN</td>\n",
       "      <td>1763404.74</td>\n",
       "      <td>NaN</td>\n",
       "    </tr>\n",
       "    <tr>\n",
       "      <th>5</th>\n",
       "      <td>NaN</td>\n",
       "      <td>1944571.47</td>\n",
       "      <td>NaN</td>\n",
       "    </tr>\n",
       "    <tr>\n",
       "      <th>6</th>\n",
       "      <td>NaN</td>\n",
       "      <td>1991456.73</td>\n",
       "      <td>NaN</td>\n",
       "    </tr>\n",
       "    <tr>\n",
       "      <th>7</th>\n",
       "      <td>NaN</td>\n",
       "      <td>2065890.59</td>\n",
       "      <td>NaN</td>\n",
       "    </tr>\n",
       "    <tr>\n",
       "      <th>8</th>\n",
       "      <td>NaN</td>\n",
       "      <td>2003636.20</td>\n",
       "      <td>NaN</td>\n",
       "    </tr>\n",
       "    <tr>\n",
       "      <th>9</th>\n",
       "      <td>NaN</td>\n",
       "      <td>1789836.27</td>\n",
       "      <td>NaN</td>\n",
       "    </tr>\n",
       "    <tr>\n",
       "      <th>10</th>\n",
       "      <td>NaN</td>\n",
       "      <td>1607185.85</td>\n",
       "      <td>NaN</td>\n",
       "    </tr>\n",
       "    <tr>\n",
       "      <th>11</th>\n",
       "      <td>NaN</td>\n",
       "      <td>1306748.99</td>\n",
       "      <td>NaN</td>\n",
       "    </tr>\n",
       "    <tr>\n",
       "      <th>12</th>\n",
       "      <td>NaN</td>\n",
       "      <td>1201677.95</td>\n",
       "      <td>NaN</td>\n",
       "    </tr>\n",
       "    <tr>\n",
       "      <th rowspan=\"6\" valign=\"top\">2017</th>\n",
       "      <th>1</th>\n",
       "      <td>NaN</td>\n",
       "      <td>1282339.18</td>\n",
       "      <td>NaN</td>\n",
       "    </tr>\n",
       "    <tr>\n",
       "      <th>2</th>\n",
       "      <td>NaN</td>\n",
       "      <td>1449156.85</td>\n",
       "      <td>NaN</td>\n",
       "    </tr>\n",
       "    <tr>\n",
       "      <th>3</th>\n",
       "      <td>NaN</td>\n",
       "      <td>2054274.30</td>\n",
       "      <td>NaN</td>\n",
       "    </tr>\n",
       "    <tr>\n",
       "      <th>4</th>\n",
       "      <td>NaN</td>\n",
       "      <td>2267811.28</td>\n",
       "      <td>NaN</td>\n",
       "    </tr>\n",
       "    <tr>\n",
       "      <th>5</th>\n",
       "      <td>NaN</td>\n",
       "      <td>2479480.14</td>\n",
       "      <td>NaN</td>\n",
       "    </tr>\n",
       "    <tr>\n",
       "      <th>6</th>\n",
       "      <td>NaN</td>\n",
       "      <td>2524250.11</td>\n",
       "      <td>NaN</td>\n",
       "    </tr>\n",
       "  </tbody>\n",
       "</table>\n",
       "</div>"
      ],
      "text/plain": [
       "                 total fuel (mmbtu)  generation (mwh)  elec fuel (mmbtu)\n",
       "type year month                                                         \n",
       "DPV  2014 1                     NaN         624032.82                NaN\n",
       "          2                     NaN         663828.73                NaN\n",
       "          3                     NaN         907029.95                NaN\n",
       "          4                     NaN         988423.77                NaN\n",
       "          5                     NaN        1092011.80                NaN\n",
       "          6                     NaN        1100560.82                NaN\n",
       "          7                     NaN        1148527.79                NaN\n",
       "          8                     NaN        1139134.66                NaN\n",
       "          9                     NaN        1046360.70                NaN\n",
       "          10                    NaN         964877.96                NaN\n",
       "          11                    NaN         791801.55                NaN\n",
       "          12                    NaN         766068.15                NaN\n",
       "     2015 1                     NaN         746445.84                NaN\n",
       "          2                     NaN         815764.50                NaN\n",
       "          3                     NaN        1133577.23                NaN\n",
       "          4                     NaN        1263528.30                NaN\n",
       "          5                     NaN        1393836.75                NaN\n",
       "          6                     NaN        1408013.52                NaN\n",
       "          7                     NaN        1486681.59                NaN\n",
       "          8                     NaN        1468048.33                NaN\n",
       "          9                     NaN        1329651.46                NaN\n",
       "          10                    NaN        1197707.54                NaN\n",
       "          11                    NaN         982048.27                NaN\n",
       "          12                    NaN         913963.95                NaN\n",
       "     2016 1                     NaN        1020588.78                NaN\n",
       "          2                     NaN        1189469.53                NaN\n",
       "          3                     NaN        1582361.09                NaN\n",
       "          4                     NaN        1763404.74                NaN\n",
       "          5                     NaN        1944571.47                NaN\n",
       "          6                     NaN        1991456.73                NaN\n",
       "          7                     NaN        2065890.59                NaN\n",
       "          8                     NaN        2003636.20                NaN\n",
       "          9                     NaN        1789836.27                NaN\n",
       "          10                    NaN        1607185.85                NaN\n",
       "          11                    NaN        1306748.99                NaN\n",
       "          12                    NaN        1201677.95                NaN\n",
       "     2017 1                     NaN        1282339.18                NaN\n",
       "          2                     NaN        1449156.85                NaN\n",
       "          3                     NaN        2054274.30                NaN\n",
       "          4                     NaN        2267811.28                NaN\n",
       "          5                     NaN        2479480.14                NaN\n",
       "          6                     NaN        2524250.11                NaN"
      ]
     },
     "execution_count": 95,
     "metadata": {},
     "output_type": "execute_result"
    }
   ],
   "source": [
    "eia_extra.loc[idx['DPV',:,:]]"
   ]
  },
  {
   "cell_type": "markdown",
   "metadata": {},
   "source": [
    "## Total CO₂ (national)"
   ]
  },
  {
   "cell_type": "code",
   "execution_count": 130,
   "metadata": {
    "ExecuteTime": {
     "end_time": "2017-10-03T17:10:13.863000Z",
     "start_time": "2017-10-03T17:10:13.669000Z"
    }
   },
   "outputs": [],
   "source": [
    "facility_co2 = co2.groupby(['year', 'month']).sum()"
   ]
  },
  {
   "cell_type": "code",
   "execution_count": 131,
   "metadata": {
    "ExecuteTime": {
     "end_time": "2017-10-03T17:10:15.196000Z",
     "start_time": "2017-10-03T17:10:15.176000Z"
    }
   },
   "outputs": [
    {
     "data": {
      "text/html": [
       "<div>\n",
       "<style>\n",
       "    .dataframe thead tr:only-child th {\n",
       "        text-align: right;\n",
       "    }\n",
       "\n",
       "    .dataframe thead th {\n",
       "        text-align: left;\n",
       "    }\n",
       "\n",
       "    .dataframe tbody tr th {\n",
       "        vertical-align: top;\n",
       "    }\n",
       "</style>\n",
       "<table border=\"1\" class=\"dataframe\">\n",
       "  <thead>\n",
       "    <tr style=\"text-align: right;\">\n",
       "      <th></th>\n",
       "      <th></th>\n",
       "      <th>plant id</th>\n",
       "      <th>final co2 (kg)</th>\n",
       "    </tr>\n",
       "    <tr>\n",
       "      <th>year</th>\n",
       "      <th>month</th>\n",
       "      <th></th>\n",
       "      <th></th>\n",
       "    </tr>\n",
       "  </thead>\n",
       "  <tbody>\n",
       "    <tr>\n",
       "      <th rowspan=\"5\" valign=\"top\">2017</th>\n",
       "      <th>2</th>\n",
       "      <td>57482310</td>\n",
       "      <td>1.165442e+11</td>\n",
       "    </tr>\n",
       "    <tr>\n",
       "      <th>3</th>\n",
       "      <td>58485598</td>\n",
       "      <td>1.237187e+11</td>\n",
       "    </tr>\n",
       "    <tr>\n",
       "      <th>4</th>\n",
       "      <td>58955690</td>\n",
       "      <td>1.133454e+11</td>\n",
       "    </tr>\n",
       "    <tr>\n",
       "      <th>5</th>\n",
       "      <td>59223601</td>\n",
       "      <td>1.292581e+11</td>\n",
       "    </tr>\n",
       "    <tr>\n",
       "      <th>6</th>\n",
       "      <td>59451819</td>\n",
       "      <td>1.512113e+11</td>\n",
       "    </tr>\n",
       "  </tbody>\n",
       "</table>\n",
       "</div>"
      ],
      "text/plain": [
       "            plant id  final co2 (kg)\n",
       "year month                          \n",
       "2017 2      57482310    1.165442e+11\n",
       "     3      58485598    1.237187e+11\n",
       "     4      58955690    1.133454e+11\n",
       "     5      59223601    1.292581e+11\n",
       "     6      59451819    1.512113e+11"
      ]
     },
     "execution_count": 131,
     "metadata": {},
     "output_type": "execute_result"
    }
   ],
   "source": [
    "facility_co2.tail()"
   ]
  },
  {
   "cell_type": "code",
   "execution_count": 141,
   "metadata": {
    "ExecuteTime": {
     "end_time": "2017-10-03T17:21:47.399000Z",
     "start_time": "2017-10-03T17:21:47.374000Z"
    }
   },
   "outputs": [
    {
     "data": {
      "text/html": [
       "<div>\n",
       "<style>\n",
       "    .dataframe thead tr:only-child th {\n",
       "        text-align: right;\n",
       "    }\n",
       "\n",
       "    .dataframe thead th {\n",
       "        text-align: left;\n",
       "    }\n",
       "\n",
       "    .dataframe tbody tr th {\n",
       "        vertical-align: top;\n",
       "    }\n",
       "</style>\n",
       "<table border=\"1\" class=\"dataframe\">\n",
       "  <thead>\n",
       "    <tr style=\"text-align: right;\">\n",
       "      <th></th>\n",
       "      <th></th>\n",
       "      <th></th>\n",
       "      <th>all fuel co2 (kg)</th>\n",
       "      <th>elec fuel co2 (kg)</th>\n",
       "    </tr>\n",
       "    <tr>\n",
       "      <th>type</th>\n",
       "      <th>year</th>\n",
       "      <th>month</th>\n",
       "      <th></th>\n",
       "      <th></th>\n",
       "    </tr>\n",
       "  </thead>\n",
       "  <tbody>\n",
       "    <tr>\n",
       "      <th rowspan=\"11\" valign=\"top\">NG</th>\n",
       "      <th rowspan=\"5\" valign=\"top\">2016</th>\n",
       "      <th>8</th>\n",
       "      <td>6.022574e+09</td>\n",
       "      <td>4.039321e+09</td>\n",
       "    </tr>\n",
       "    <tr>\n",
       "      <th>9</th>\n",
       "      <td>4.917984e+09</td>\n",
       "      <td>3.118869e+09</td>\n",
       "    </tr>\n",
       "    <tr>\n",
       "      <th>10</th>\n",
       "      <td>4.312456e+09</td>\n",
       "      <td>2.624005e+09</td>\n",
       "    </tr>\n",
       "    <tr>\n",
       "      <th>11</th>\n",
       "      <td>4.231444e+09</td>\n",
       "      <td>2.458983e+09</td>\n",
       "    </tr>\n",
       "    <tr>\n",
       "      <th>12</th>\n",
       "      <td>4.418713e+09</td>\n",
       "      <td>2.530048e+09</td>\n",
       "    </tr>\n",
       "    <tr>\n",
       "      <th rowspan=\"6\" valign=\"top\">2017</th>\n",
       "      <th>1</th>\n",
       "      <td>7.823823e+09</td>\n",
       "      <td>6.101011e+09</td>\n",
       "    </tr>\n",
       "    <tr>\n",
       "      <th>2</th>\n",
       "      <td>6.601814e+09</td>\n",
       "      <td>5.030973e+09</td>\n",
       "    </tr>\n",
       "    <tr>\n",
       "      <th>3</th>\n",
       "      <td>8.630216e+09</td>\n",
       "      <td>6.986014e+09</td>\n",
       "    </tr>\n",
       "    <tr>\n",
       "      <th>4</th>\n",
       "      <td>7.823192e+09</td>\n",
       "      <td>6.280070e+09</td>\n",
       "    </tr>\n",
       "    <tr>\n",
       "      <th>5</th>\n",
       "      <td>8.749634e+09</td>\n",
       "      <td>7.244919e+09</td>\n",
       "    </tr>\n",
       "    <tr>\n",
       "      <th>6</th>\n",
       "      <td>1.000377e+10</td>\n",
       "      <td>8.465898e+09</td>\n",
       "    </tr>\n",
       "  </tbody>\n",
       "</table>\n",
       "</div>"
      ],
      "text/plain": [
       "                 all fuel co2 (kg)  elec fuel co2 (kg)\n",
       "type year month                                       \n",
       "NG   2016 8           6.022574e+09        4.039321e+09\n",
       "          9           4.917984e+09        3.118869e+09\n",
       "          10          4.312456e+09        2.624005e+09\n",
       "          11          4.231444e+09        2.458983e+09\n",
       "          12          4.418713e+09        2.530048e+09\n",
       "     2017 1           7.823823e+09        6.101011e+09\n",
       "          2           6.601814e+09        5.030973e+09\n",
       "          3           8.630216e+09        6.986014e+09\n",
       "          4           7.823192e+09        6.280070e+09\n",
       "          5           8.749634e+09        7.244919e+09\n",
       "          6           1.000377e+10        8.465898e+09"
      ]
     },
     "execution_count": 141,
     "metadata": {},
     "output_type": "execute_result"
    }
   ],
   "source": [
    "extra_co2.loc[idx['NG', :, :],:].tail(n=11)"
   ]
  },
  {
   "cell_type": "code",
   "execution_count": 133,
   "metadata": {
    "ExecuteTime": {
     "end_time": "2017-10-03T17:10:21.358000Z",
     "start_time": "2017-10-03T17:10:21.351000Z"
    },
    "collapsed": true
   },
   "outputs": [],
   "source": [
    "national_co2 = (facility_co2.loc[:, 'final co2 (kg)']\n",
    "                + extra_co2.loc[:, 'elec fuel co2 (kg)'])"
   ]
  },
  {
   "cell_type": "markdown",
   "metadata": {},
   "source": [
    "These values are very close, but not quite exactly the same as what I've put up on the website.\n",
    "\n",
    "Why? Could it be because the extra "
   ]
  },
  {
   "cell_type": "code",
   "execution_count": 134,
   "metadata": {
    "ExecuteTime": {
     "end_time": "2017-10-03T17:10:22.055000Z",
     "start_time": "2017-10-03T17:10:22.032000Z"
    }
   },
   "outputs": [
    {
     "data": {
      "text/plain": [
       "year  month\n",
       "2001  1        2.162121e+11\n",
       "      2        1.814475e+11\n",
       "      3        1.900841e+11\n",
       "      4        1.761317e+11\n",
       "      5        1.905779e+11\n",
       "      6        2.062662e+11\n",
       "      7        2.311815e+11\n",
       "      8        2.404311e+11\n",
       "      9        1.950060e+11\n",
       "      10       1.845210e+11\n",
       "      11       1.731834e+11\n",
       "      12       1.882633e+11\n",
       "2002  1        1.951862e+11\n",
       "      2        1.709727e+11\n",
       "      3        1.855136e+11\n",
       "      4        1.759043e+11\n",
       "      5        1.863580e+11\n",
       "      6        2.081023e+11\n",
       "      7        2.385440e+11\n",
       "      8        2.355222e+11\n",
       "      9        2.092338e+11\n",
       "      10       1.948277e+11\n",
       "      11       1.844629e+11\n",
       "      12       2.023788e+11\n",
       "2003  1        2.167834e+11\n",
       "      2        1.880347e+11\n",
       "      3        1.876779e+11\n",
       "      4        1.727763e+11\n",
       "      5        1.840170e+11\n",
       "      6        2.007602e+11\n",
       "                   ...     \n",
       "2015  1        1.779027e+11\n",
       "      2        1.696220e+11\n",
       "      3        1.522496e+11\n",
       "      4        1.310557e+11\n",
       "      5        1.528002e+11\n",
       "      6        1.832968e+11\n",
       "      7        2.064158e+11\n",
       "      8        2.014883e+11\n",
       "      9        1.763120e+11\n",
       "      10       1.481904e+11\n",
       "      11       1.354895e+11\n",
       "      12       1.401263e+11\n",
       "2016  1        1.621712e+11\n",
       "      2        1.365738e+11\n",
       "      3        1.199239e+11\n",
       "      4        1.177496e+11\n",
       "      5        1.331820e+11\n",
       "      6        1.769082e+11\n",
       "      7        2.072912e+11\n",
       "      8        2.076151e+11\n",
       "      9        1.719625e+11\n",
       "      10       1.456412e+11\n",
       "      11       1.293671e+11\n",
       "      12       1.608219e+11\n",
       "2017  1        1.569224e+11\n",
       "      2        1.232792e+11\n",
       "      3        1.322684e+11\n",
       "      4        1.210157e+11\n",
       "      5        1.380568e+11\n",
       "      6        1.615045e+11\n",
       "Length: 198, dtype: float64"
      ]
     },
     "execution_count": 134,
     "metadata": {},
     "output_type": "execute_result"
    }
   ],
   "source": [
    "national_co2"
   ]
  },
  {
   "cell_type": "markdown",
   "metadata": {},
   "source": [
    "## Facility state and lat/lon file generation"
   ]
  },
  {
   "cell_type": "code",
   "execution_count": 148,
   "metadata": {
    "ExecuteTime": {
     "end_time": "2017-10-03T17:48:02.269000Z",
     "start_time": "2017-10-03T17:48:02.260000Z"
    },
    "collapsed": true
   },
   "outputs": [],
   "source": [
    "%aimport Data.make_data\n",
    "from Data.make_data import facility_location_data"
   ]
  },
  {
   "cell_type": "code",
   "execution_count": 150,
   "metadata": {
    "ExecuteTime": {
     "end_time": "2017-10-03T17:49:01.575000Z",
     "start_time": "2017-10-03T17:49:00.330000Z"
    },
    "collapsed": true
   },
   "outputs": [],
   "source": [
    "facility_location_data(eia_fac)"
   ]
  },
  {
   "cell_type": "code",
   "execution_count": null,
   "metadata": {
    "collapsed": true
   },
   "outputs": [],
   "source": []
  }
 ],
 "metadata": {
  "kernelspec": {
   "display_name": "py36",
   "language": "python",
   "name": "py36"
  },
  "language_info": {
   "codemirror_mode": {
    "name": "ipython",
    "version": 2
   },
   "file_extension": ".py",
   "mimetype": "text/x-python",
   "name": "python",
   "nbconvert_exporter": "python",
   "pygments_lexer": "ipython2",
   "version": "2.7.13"
  },
  "varInspector": {
   "cols": {
    "lenName": 16,
    "lenType": 16,
    "lenVar": 40
   },
   "kernels_config": {
    "python": {
     "delete_cmd_postfix": "",
     "delete_cmd_prefix": "del ",
     "library": "var_list.py",
     "varRefreshCmd": "print(var_dic_list())"
    },
    "r": {
     "delete_cmd_postfix": ") ",
     "delete_cmd_prefix": "rm(",
     "library": "var_list.r",
     "varRefreshCmd": "cat(var_dic_list()) "
    }
   },
   "types_to_exclude": [
    "module",
    "function",
    "builtin_function_or_method",
    "instance",
    "_Feature"
   ],
   "window_display": false
  }
 },
 "nbformat": 4,
 "nbformat_minor": 2
}
