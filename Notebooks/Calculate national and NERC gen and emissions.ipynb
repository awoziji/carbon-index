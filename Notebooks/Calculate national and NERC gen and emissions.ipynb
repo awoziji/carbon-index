{
 "cells": [
  {
   "cell_type": "markdown",
   "metadata": {},
   "source": [
    "# Combine national and NERC data\n",
    "Take the various file (EIA facilities, EIA state-level totals, EPA emissions, etc) and combine them to determine total generation, CO₂ emissions, etc nationally and at NERC regions.\n",
    "\n",
    "## Instructions\n",
    "Make sure the `file_date` parameter below is set to whatever value you would like appended to file names.\n",
    "\n",
    "In **Calculate the extra gen/fuel consumption at the state levels** add years after 2017 in the `for` loop if needed.\n",
    "\n",
    "In **Fraction of estimated gen/fuels in each NERC region** update the years that plant ids for annual plants are fetched from EIA-923 files.\n",
    "\n",
    "The entire notebook can be run at once using *Run All Cells*"
   ]
  },
  {
   "cell_type": "code",
   "execution_count": 2,
   "metadata": {
    "ExecuteTime": {
     "end_time": "2017-11-06T16:59:58.123948Z",
     "start_time": "2017-11-06T16:59:57.181973Z"
    },
    "collapsed": true
   },
   "outputs": [],
   "source": [
    "import pandas as pd\n",
    "import numpy as np\n",
    "import os\n",
    "from os.path import join\n",
    "import sys\n",
    "import json\n",
    "\n",
    "idx = pd.IndexSlice\n",
    "cwd = os.getcwd()\n",
    "data_path = join(cwd, '..', 'Data storage')"
   ]
  },
  {
   "cell_type": "markdown",
   "metadata": {},
   "source": [
    "### Date string for filenames\n",
    "This will be inserted into all filenames (reading and writing)"
   ]
  },
  {
   "cell_type": "code",
   "execution_count": 58,
   "metadata": {},
   "outputs": [],
   "source": [
    "file_date = '2018-03-06'\n",
    "export_quarter = '2017 Q4'"
   ]
  },
  {
   "cell_type": "code",
   "execution_count": 4,
   "metadata": {
    "ExecuteTime": {
     "end_time": "2017-11-06T16:59:59.331142Z",
     "start_time": "2017-11-06T16:59:59.317352Z"
    }
   },
   "outputs": [
    {
     "name": "stdout",
     "output_type": "stream",
     "text": [
      "pandas      0.22.0\n",
      "numpy       1.14.2\n",
      "json        2.0.9\n",
      "CPython 3.6.4\n",
      "IPython 6.2.1\n"
     ]
    }
   ],
   "source": [
    "%load_ext watermark\n",
    "%watermark -iv -v"
   ]
  },
  {
   "cell_type": "code",
   "execution_count": 5,
   "metadata": {
    "ExecuteTime": {
     "end_time": "2017-11-06T17:00:18.821185Z",
     "start_time": "2017-11-06T17:00:18.788505Z"
    },
    "collapsed": true
   },
   "outputs": [],
   "source": [
    "# Load the \"autoreload\" extension\n",
    "%load_ext autoreload\n",
    "\n",
    "# always reload modules marked with \"%aimport\"\n",
    "%autoreload 1"
   ]
  },
  {
   "cell_type": "code",
   "execution_count": 6,
   "metadata": {
    "ExecuteTime": {
     "end_time": "2017-11-06T17:00:18.827565Z",
     "start_time": "2017-11-06T17:00:18.822931Z"
    },
    "collapsed": true
   },
   "outputs": [],
   "source": [
    "# add the 'src' directory as one where we can import modules\n",
    "src_dir = join(os.getcwd(), os.pardir, 'src')\n",
    "sys.path.append(src_dir)"
   ]
  },
  {
   "cell_type": "code",
   "execution_count": 121,
   "metadata": {
    "ExecuteTime": {
     "end_time": "2017-11-06T17:00:18.846980Z",
     "start_time": "2017-11-06T17:00:18.830372Z"
    },
    "collapsed": true
   },
   "outputs": [],
   "source": [
    "%aimport Data.make_data\n",
    "from Data.make_data import states_in_nerc\n",
    "%aimport Analysis.index\n",
    "from Analysis.index import facility_emission_gen, group_facility_data, add_quarter\n",
    "%aimport Analysis.index\n",
    "from Analysis.index import g2lb, change_since_2005, generation_index, reduce_emission_factors\n",
    "%aimport Analysis.index\n",
    "from Analysis.index import facility_co2, adjust_epa_emissions, group_fuel_cats\n",
    "%aimport util.utils\n",
    "from util.utils import rename_cols, add_facility_location"
   ]
  },
  {
   "cell_type": "markdown",
   "metadata": {},
   "source": [
    "## Load data"
   ]
  },
  {
   "cell_type": "code",
   "execution_count": 8,
   "metadata": {
    "ExecuteTime": {
     "end_time": "2017-11-06T17:00:25.783044Z",
     "start_time": "2017-11-06T17:00:18.849846Z"
    },
    "collapsed": true
   },
   "outputs": [],
   "source": [
    "cwd = os.getcwd()\n",
    "path = join(data_path, 'Derived data',\n",
    "            'Facility gen fuels and CO2 {}.csv'.format(file_date))\n",
    "eia_fac = pd.read_csv(path)"
   ]
  },
  {
   "cell_type": "code",
   "execution_count": 9,
   "metadata": {
    "ExecuteTime": {
     "end_time": "2017-11-06T17:00:26.096215Z",
     "start_time": "2017-11-06T17:00:25.785006Z"
    },
    "collapsed": true
   },
   "outputs": [],
   "source": [
    "rename_cols(eia_fac)"
   ]
  },
  {
   "cell_type": "code",
   "execution_count": 10,
   "metadata": {
    "ExecuteTime": {
     "end_time": "2017-11-06T17:00:26.526228Z",
     "start_time": "2017-11-06T17:00:26.144542Z"
    },
    "collapsed": true
   },
   "outputs": [],
   "source": [
    "path = join(data_path, 'Derived data',\n",
    "            'Monthly EPA emissions {}.csv'.format(file_date))\n",
    "epa = pd.read_csv(path)"
   ]
  },
  {
   "cell_type": "markdown",
   "metadata": {},
   "source": [
    "## Adjusted facility emissions and generation\n",
    "I have both the state and custom fuel categories here, but am only using the state fuel categories for now."
   ]
  },
  {
   "cell_type": "code",
   "execution_count": 11,
   "metadata": {
    "ExecuteTime": {
     "end_time": "2017-11-06T17:00:26.546818Z",
     "start_time": "2017-11-06T17:00:26.528478Z"
    },
    "collapsed": true
   },
   "outputs": [],
   "source": [
    "fuel_cat_folder = join(data_path, 'Fuel categories')\n",
    "state_cats_path = join(fuel_cat_folder, 'State_facility.json')\n",
    "\n",
    "with open(state_cats_path, 'r') as f:\n",
    "    state_fuel_cat = json.load(f)\n",
    "    \n",
    "custom_cats_path = join(fuel_cat_folder, 'Custom_results.json')\n",
    "with open(custom_cats_path, 'r') as f:\n",
    "    custom_fuel_cat = json.load(f)"
   ]
  },
  {
   "cell_type": "code",
   "execution_count": 12,
   "metadata": {
    "ExecuteTime": {
     "end_time": "2017-11-06T17:00:35.435401Z",
     "start_time": "2017-11-06T17:00:28.197939Z"
    }
   },
   "outputs": [
    {
     "name": "stdout",
     "output_type": "stream",
     "text": [
      "Renaming columns\n",
      "Grouping facilities\n",
      "Adjusting EPA emissions\n",
      "Caculating CO2\n",
      "Gen/fuels to state categories\n"
     ]
    }
   ],
   "source": [
    "co2, gen_fuels_state = facility_emission_gen(eia_facility=eia_fac, epa=epa,\n",
    "                                              state_fuel_cat=state_fuel_cat,\n",
    "                                              custom_fuel_cat=custom_fuel_cat,\n",
    "                                              export_state_cats=True)"
   ]
  },
  {
   "cell_type": "code",
   "execution_count": 13,
   "metadata": {},
   "outputs": [
    {
     "data": {
      "text/html": [
       "<div>\n",
       "<style scoped>\n",
       "    .dataframe tbody tr th:only-of-type {\n",
       "        vertical-align: middle;\n",
       "    }\n",
       "\n",
       "    .dataframe tbody tr th {\n",
       "        vertical-align: top;\n",
       "    }\n",
       "\n",
       "    .dataframe thead th {\n",
       "        text-align: right;\n",
       "    }\n",
       "</style>\n",
       "<table border=\"1\" class=\"dataframe\">\n",
       "  <thead>\n",
       "    <tr style=\"text-align: right;\">\n",
       "      <th></th>\n",
       "      <th>type</th>\n",
       "      <th>year</th>\n",
       "      <th>month</th>\n",
       "      <th>plant id</th>\n",
       "      <th>total fuel (mmbtu)</th>\n",
       "      <th>generation (mwh)</th>\n",
       "      <th>elec fuel (mmbtu)</th>\n",
       "      <th>lat</th>\n",
       "      <th>lon</th>\n",
       "      <th>quarter</th>\n",
       "      <th>all fuel fossil co2 (kg)</th>\n",
       "      <th>elec fuel fossil co2 (kg)</th>\n",
       "      <th>all fuel total co2 (kg)</th>\n",
       "      <th>elec fuel total co2 (kg)</th>\n",
       "    </tr>\n",
       "  </thead>\n",
       "  <tbody>\n",
       "    <tr>\n",
       "      <th>0</th>\n",
       "      <td>COW</td>\n",
       "      <td>2001</td>\n",
       "      <td>1</td>\n",
       "      <td>3</td>\n",
       "      <td>8275496.0</td>\n",
       "      <td>852306.0</td>\n",
       "      <td>8275496.0</td>\n",
       "      <td>31.006900</td>\n",
       "      <td>-88.010300</td>\n",
       "      <td>1</td>\n",
       "      <td>772103776.8</td>\n",
       "      <td>772103776.8</td>\n",
       "      <td>772103776.8</td>\n",
       "      <td>772103776.8</td>\n",
       "    </tr>\n",
       "    <tr>\n",
       "      <th>1</th>\n",
       "      <td>COW</td>\n",
       "      <td>2001</td>\n",
       "      <td>1</td>\n",
       "      <td>7</td>\n",
       "      <td>587162.0</td>\n",
       "      <td>45991.0</td>\n",
       "      <td>587162.0</td>\n",
       "      <td>34.012800</td>\n",
       "      <td>-85.970800</td>\n",
       "      <td>1</td>\n",
       "      <td>54782214.6</td>\n",
       "      <td>54782214.6</td>\n",
       "      <td>54782214.6</td>\n",
       "      <td>54782214.6</td>\n",
       "    </tr>\n",
       "    <tr>\n",
       "      <th>2</th>\n",
       "      <td>COW</td>\n",
       "      <td>2001</td>\n",
       "      <td>1</td>\n",
       "      <td>8</td>\n",
       "      <td>6910786.0</td>\n",
       "      <td>706857.0</td>\n",
       "      <td>6910786.0</td>\n",
       "      <td>33.644344</td>\n",
       "      <td>-87.196486</td>\n",
       "      <td>1</td>\n",
       "      <td>644776333.8</td>\n",
       "      <td>644776333.8</td>\n",
       "      <td>644776333.8</td>\n",
       "      <td>644776333.8</td>\n",
       "    </tr>\n",
       "    <tr>\n",
       "      <th>3</th>\n",
       "      <td>COW</td>\n",
       "      <td>2001</td>\n",
       "      <td>1</td>\n",
       "      <td>10</td>\n",
       "      <td>3108892.0</td>\n",
       "      <td>320454.0</td>\n",
       "      <td>3108892.0</td>\n",
       "      <td>32.601700</td>\n",
       "      <td>-87.781100</td>\n",
       "      <td>1</td>\n",
       "      <td>290059623.6</td>\n",
       "      <td>290059623.6</td>\n",
       "      <td>290059623.6</td>\n",
       "      <td>290059623.6</td>\n",
       "    </tr>\n",
       "    <tr>\n",
       "      <th>4</th>\n",
       "      <td>COW</td>\n",
       "      <td>2001</td>\n",
       "      <td>1</td>\n",
       "      <td>26</td>\n",
       "      <td>9745127.0</td>\n",
       "      <td>1005460.0</td>\n",
       "      <td>9745127.0</td>\n",
       "      <td>33.244211</td>\n",
       "      <td>-86.458056</td>\n",
       "      <td>1</td>\n",
       "      <td>909220349.1</td>\n",
       "      <td>909220349.1</td>\n",
       "      <td>909220349.1</td>\n",
       "      <td>909220349.1</td>\n",
       "    </tr>\n",
       "  </tbody>\n",
       "</table>\n",
       "</div>"
      ],
      "text/plain": [
       "  type  year  month  plant id  total fuel (mmbtu)  generation (mwh)  \\\n",
       "0  COW  2001      1         3           8275496.0          852306.0   \n",
       "1  COW  2001      1         7            587162.0           45991.0   \n",
       "2  COW  2001      1         8           6910786.0          706857.0   \n",
       "3  COW  2001      1        10           3108892.0          320454.0   \n",
       "4  COW  2001      1        26           9745127.0         1005460.0   \n",
       "\n",
       "   elec fuel (mmbtu)        lat        lon  quarter  all fuel fossil co2 (kg)  \\\n",
       "0          8275496.0  31.006900 -88.010300        1               772103776.8   \n",
       "1           587162.0  34.012800 -85.970800        1                54782214.6   \n",
       "2          6910786.0  33.644344 -87.196486        1               644776333.8   \n",
       "3          3108892.0  32.601700 -87.781100        1               290059623.6   \n",
       "4          9745127.0  33.244211 -86.458056        1               909220349.1   \n",
       "\n",
       "   elec fuel fossil co2 (kg)  all fuel total co2 (kg)  \\\n",
       "0                772103776.8              772103776.8   \n",
       "1                 54782214.6               54782214.6   \n",
       "2                644776333.8              644776333.8   \n",
       "3                290059623.6              290059623.6   \n",
       "4                909220349.1              909220349.1   \n",
       "\n",
       "   elec fuel total co2 (kg)  \n",
       "0               772103776.8  \n",
       "1                54782214.6  \n",
       "2               644776333.8  \n",
       "3               290059623.6  \n",
       "4               909220349.1  "
      ]
     },
     "execution_count": 13,
     "metadata": {},
     "output_type": "execute_result"
    }
   ],
   "source": [
    "gen_fuels_state.head()"
   ]
  },
  {
   "cell_type": "markdown",
   "metadata": {},
   "source": [
    "## Extra gen/fuels from non-reporting"
   ]
  },
  {
   "cell_type": "code",
   "execution_count": 14,
   "metadata": {
    "ExecuteTime": {
     "end_time": "2017-11-06T17:00:52.946442Z",
     "start_time": "2017-11-06T17:00:52.942136Z"
    },
    "collapsed": true
   },
   "outputs": [],
   "source": [
    "%aimport Analysis.index\n",
    "from Analysis.index import extra_emissions_gen"
   ]
  },
  {
   "cell_type": "markdown",
   "metadata": {},
   "source": [
    "Total EIA generation/fuel consumption and emission factors"
   ]
  },
  {
   "cell_type": "code",
   "execution_count": 15,
   "metadata": {
    "ExecuteTime": {
     "end_time": "2017-11-06T17:00:55.398938Z",
     "start_time": "2017-11-06T17:00:55.366360Z"
    },
    "collapsed": true
   },
   "outputs": [],
   "source": [
    "cwd = os.getcwd()\n",
    "path = join(data_path, 'Derived data',\n",
    "            'EIA country-wide gen fuel CO2 {}.csv'.format(file_date))\n",
    "eia_total = pd.read_csv(path)\n",
    "\n",
    "path = join(data_path,\n",
    "            'Final emission factors.csv')\n",
    "ef = pd.read_csv(path, index_col=0)"
   ]
  },
  {
   "cell_type": "markdown",
   "metadata": {},
   "source": [
    "### Calculate CO₂, generation, and fuel consumption that is not captured by facilities"
   ]
  },
  {
   "cell_type": "code",
   "execution_count": 16,
   "metadata": {
    "ExecuteTime": {
     "end_time": "2017-11-06T17:01:02.921291Z",
     "start_time": "2017-11-06T17:01:02.438735Z"
    },
    "collapsed": true
   },
   "outputs": [],
   "source": [
    "extra_co2, extra_gen_fuel = extra_emissions_gen(gen_fuels_state, eia_total, ef)"
   ]
  },
  {
   "cell_type": "code",
   "execution_count": 17,
   "metadata": {},
   "outputs": [
    {
     "data": {
      "text/html": [
       "<div>\n",
       "<style scoped>\n",
       "    .dataframe tbody tr th:only-of-type {\n",
       "        vertical-align: middle;\n",
       "    }\n",
       "\n",
       "    .dataframe tbody tr th {\n",
       "        vertical-align: top;\n",
       "    }\n",
       "\n",
       "    .dataframe thead th {\n",
       "        text-align: right;\n",
       "    }\n",
       "</style>\n",
       "<table border=\"1\" class=\"dataframe\">\n",
       "  <thead>\n",
       "    <tr style=\"text-align: right;\">\n",
       "      <th></th>\n",
       "      <th></th>\n",
       "      <th></th>\n",
       "      <th>total fuel (mmbtu)</th>\n",
       "      <th>generation (mwh)</th>\n",
       "      <th>elec fuel (mmbtu)</th>\n",
       "    </tr>\n",
       "    <tr>\n",
       "      <th>type</th>\n",
       "      <th>year</th>\n",
       "      <th>month</th>\n",
       "      <th></th>\n",
       "      <th></th>\n",
       "      <th></th>\n",
       "    </tr>\n",
       "  </thead>\n",
       "  <tbody>\n",
       "    <tr>\n",
       "      <th rowspan=\"5\" valign=\"top\">COW</th>\n",
       "      <th rowspan=\"5\" valign=\"top\">2001</th>\n",
       "      <th>1</th>\n",
       "      <td>16916390.0</td>\n",
       "      <td>1011665.061</td>\n",
       "      <td>13155576.0</td>\n",
       "    </tr>\n",
       "    <tr>\n",
       "      <th>2</th>\n",
       "      <td>14970346.0</td>\n",
       "      <td>911345.865</td>\n",
       "      <td>11576491.0</td>\n",
       "    </tr>\n",
       "    <tr>\n",
       "      <th>3</th>\n",
       "      <td>18320543.0</td>\n",
       "      <td>1153327.913</td>\n",
       "      <td>14764162.0</td>\n",
       "    </tr>\n",
       "    <tr>\n",
       "      <th>4</th>\n",
       "      <td>13530117.0</td>\n",
       "      <td>776339.623</td>\n",
       "      <td>10374008.0</td>\n",
       "    </tr>\n",
       "    <tr>\n",
       "      <th>5</th>\n",
       "      <td>14016024.0</td>\n",
       "      <td>801267.923</td>\n",
       "      <td>10922463.0</td>\n",
       "    </tr>\n",
       "  </tbody>\n",
       "</table>\n",
       "</div>"
      ],
      "text/plain": [
       "                 total fuel (mmbtu)  generation (mwh)  elec fuel (mmbtu)\n",
       "type year month                                                         \n",
       "COW  2001 1              16916390.0       1011665.061         13155576.0\n",
       "          2              14970346.0        911345.865         11576491.0\n",
       "          3              18320543.0       1153327.913         14764162.0\n",
       "          4              13530117.0        776339.623         10374008.0\n",
       "          5              14016024.0        801267.923         10922463.0"
      ]
     },
     "execution_count": 17,
     "metadata": {},
     "output_type": "execute_result"
    }
   ],
   "source": [
    "extra_gen_fuel.head()"
   ]
  },
  {
   "cell_type": "code",
   "execution_count": 116,
   "metadata": {},
   "outputs": [
    {
     "data": {
      "text/html": [
       "<div>\n",
       "<style scoped>\n",
       "    .dataframe tbody tr th:only-of-type {\n",
       "        vertical-align: middle;\n",
       "    }\n",
       "\n",
       "    .dataframe tbody tr th {\n",
       "        vertical-align: top;\n",
       "    }\n",
       "\n",
       "    .dataframe thead th {\n",
       "        text-align: right;\n",
       "    }\n",
       "</style>\n",
       "<table border=\"1\" class=\"dataframe\">\n",
       "  <thead>\n",
       "    <tr style=\"text-align: right;\">\n",
       "      <th></th>\n",
       "      <th></th>\n",
       "      <th></th>\n",
       "      <th>all fuel co2 (kg)</th>\n",
       "      <th>elec fuel co2 (kg)</th>\n",
       "    </tr>\n",
       "    <tr>\n",
       "      <th>type</th>\n",
       "      <th>year</th>\n",
       "      <th>month</th>\n",
       "      <th></th>\n",
       "      <th></th>\n",
       "    </tr>\n",
       "  </thead>\n",
       "  <tbody>\n",
       "    <tr>\n",
       "      <th rowspan=\"5\" valign=\"top\">COW</th>\n",
       "      <th rowspan=\"5\" valign=\"top\">2001</th>\n",
       "      <th>1</th>\n",
       "      <td>1.611286e+09</td>\n",
       "      <td>1.253069e+09</td>\n",
       "    </tr>\n",
       "    <tr>\n",
       "      <th>2</th>\n",
       "      <td>1.425925e+09</td>\n",
       "      <td>1.102661e+09</td>\n",
       "    </tr>\n",
       "    <tr>\n",
       "      <th>3</th>\n",
       "      <td>1.745032e+09</td>\n",
       "      <td>1.406286e+09</td>\n",
       "    </tr>\n",
       "    <tr>\n",
       "      <th>4</th>\n",
       "      <td>1.288744e+09</td>\n",
       "      <td>9.881243e+08</td>\n",
       "    </tr>\n",
       "    <tr>\n",
       "      <th>5</th>\n",
       "      <td>1.335026e+09</td>\n",
       "      <td>1.040365e+09</td>\n",
       "    </tr>\n",
       "  </tbody>\n",
       "</table>\n",
       "</div>"
      ],
      "text/plain": [
       "                 all fuel co2 (kg)  elec fuel co2 (kg)\n",
       "type year month                                       \n",
       "COW  2001 1           1.611286e+09        1.253069e+09\n",
       "          2           1.425925e+09        1.102661e+09\n",
       "          3           1.745032e+09        1.406286e+09\n",
       "          4           1.288744e+09        9.881243e+08\n",
       "          5           1.335026e+09        1.040365e+09"
      ]
     },
     "execution_count": 116,
     "metadata": {},
     "output_type": "execute_result"
    }
   ],
   "source": [
    "extra_co2.head()"
   ]
  },
  {
   "cell_type": "markdown",
   "metadata": {},
   "source": [
    "## Total CO₂ (national)\n",
    "Combine adjusted CO₂ at facilities and CO₂ from fuel consumption that is not captured by facility data."
   ]
  },
  {
   "cell_type": "code",
   "execution_count": 18,
   "metadata": {
    "ExecuteTime": {
     "end_time": "2017-11-06T17:01:14.842434Z",
     "start_time": "2017-11-06T17:01:14.679060Z"
    },
    "collapsed": true
   },
   "outputs": [],
   "source": [
    "facility_co2 = co2.groupby(['year', 'month']).sum()"
   ]
  },
  {
   "cell_type": "code",
   "execution_count": 19,
   "metadata": {
    "ExecuteTime": {
     "end_time": "2017-11-06T17:01:28.030583Z",
     "start_time": "2017-11-06T17:01:28.023099Z"
    },
    "collapsed": true
   },
   "outputs": [],
   "source": [
    "national_co2 = (facility_co2.loc[:, 'final co2 (kg)']\n",
    "                + extra_co2.loc[:, 'elec fuel co2 (kg)']\n",
    "                           .groupby(['year', 'month']).sum())\n",
    "national_co2.name = 'final co2 (kg)'"
   ]
  },
  {
   "cell_type": "code",
   "execution_count": 115,
   "metadata": {},
   "outputs": [
    {
     "data": {
      "text/plain": [
       "year  month\n",
       "2001  1        2.145929e+11\n",
       "      2        1.799442e+11\n",
       "      3        1.887242e+11\n",
       "      4        1.744977e+11\n",
       "      5        1.888085e+11\n",
       "Name: final co2 (kg), dtype: float64"
      ]
     },
     "execution_count": 115,
     "metadata": {},
     "output_type": "execute_result"
    }
   ],
   "source": [
    "national_co2.head()"
   ]
  },
  {
   "cell_type": "markdown",
   "metadata": {},
   "source": [
    "## National Index and gen by fuels"
   ]
  },
  {
   "cell_type": "markdown",
   "metadata": {},
   "source": [
    "### Total national generation (all fuels)\n",
    "Add generation/fuel consumption reported by facilities (with state-level fuel codes) and extra generation/fuel consumption (which also uses state-level fuel codes)."
   ]
  },
  {
   "cell_type": "code",
   "execution_count": 20,
   "metadata": {},
   "outputs": [
    {
     "data": {
      "text/html": [
       "<div>\n",
       "<style scoped>\n",
       "    .dataframe tbody tr th:only-of-type {\n",
       "        vertical-align: middle;\n",
       "    }\n",
       "\n",
       "    .dataframe tbody tr th {\n",
       "        vertical-align: top;\n",
       "    }\n",
       "\n",
       "    .dataframe thead th {\n",
       "        text-align: right;\n",
       "    }\n",
       "</style>\n",
       "<table border=\"1\" class=\"dataframe\">\n",
       "  <thead>\n",
       "    <tr style=\"text-align: right;\">\n",
       "      <th></th>\n",
       "      <th></th>\n",
       "      <th></th>\n",
       "      <th>plant id</th>\n",
       "      <th>total fuel (mmbtu)</th>\n",
       "      <th>generation (mwh)</th>\n",
       "      <th>elec fuel (mmbtu)</th>\n",
       "      <th>lat</th>\n",
       "      <th>lon</th>\n",
       "      <th>quarter</th>\n",
       "      <th>all fuel fossil co2 (kg)</th>\n",
       "      <th>elec fuel fossil co2 (kg)</th>\n",
       "      <th>all fuel total co2 (kg)</th>\n",
       "      <th>elec fuel total co2 (kg)</th>\n",
       "    </tr>\n",
       "    <tr>\n",
       "      <th>type</th>\n",
       "      <th>year</th>\n",
       "      <th>month</th>\n",
       "      <th></th>\n",
       "      <th></th>\n",
       "      <th></th>\n",
       "      <th></th>\n",
       "      <th></th>\n",
       "      <th></th>\n",
       "      <th></th>\n",
       "      <th></th>\n",
       "      <th></th>\n",
       "      <th></th>\n",
       "      <th></th>\n",
       "    </tr>\n",
       "  </thead>\n",
       "  <tbody>\n",
       "    <tr>\n",
       "      <th rowspan=\"5\" valign=\"top\">COW</th>\n",
       "      <th rowspan=\"5\" valign=\"top\">2001</th>\n",
       "      <th>1</th>\n",
       "      <td>8550284</td>\n",
       "      <td>1.848875e+09</td>\n",
       "      <td>1.762754e+08</td>\n",
       "      <td>1.810304e+09</td>\n",
       "      <td>25142.050268</td>\n",
       "      <td>-53175.8593</td>\n",
       "      <td>645</td>\n",
       "      <td>1.755757e+11</td>\n",
       "      <td>1.719629e+11</td>\n",
       "      <td>1.755757e+11</td>\n",
       "      <td>1.719629e+11</td>\n",
       "    </tr>\n",
       "    <tr>\n",
       "      <th>2</th>\n",
       "      <td>8550284</td>\n",
       "      <td>1.568672e+09</td>\n",
       "      <td>1.488241e+08</td>\n",
       "      <td>1.536017e+09</td>\n",
       "      <td>25142.050268</td>\n",
       "      <td>-53175.8593</td>\n",
       "      <td>645</td>\n",
       "      <td>1.490065e+11</td>\n",
       "      <td>1.459476e+11</td>\n",
       "      <td>1.490065e+11</td>\n",
       "      <td>1.459476e+11</td>\n",
       "    </tr>\n",
       "    <tr>\n",
       "      <th>3</th>\n",
       "      <td>8550284</td>\n",
       "      <td>1.626246e+09</td>\n",
       "      <td>1.541157e+08</td>\n",
       "      <td>1.591151e+09</td>\n",
       "      <td>25142.050268</td>\n",
       "      <td>-53175.8593</td>\n",
       "      <td>645</td>\n",
       "      <td>1.544286e+11</td>\n",
       "      <td>1.511424e+11</td>\n",
       "      <td>1.544286e+11</td>\n",
       "      <td>1.511424e+11</td>\n",
       "    </tr>\n",
       "    <tr>\n",
       "      <th>4</th>\n",
       "      <td>8550284</td>\n",
       "      <td>1.471568e+09</td>\n",
       "      <td>1.398943e+08</td>\n",
       "      <td>1.439361e+09</td>\n",
       "      <td>25142.050268</td>\n",
       "      <td>-53175.8593</td>\n",
       "      <td>1290</td>\n",
       "      <td>1.397181e+11</td>\n",
       "      <td>1.367018e+11</td>\n",
       "      <td>1.397181e+11</td>\n",
       "      <td>1.367018e+11</td>\n",
       "    </tr>\n",
       "    <tr>\n",
       "      <th>5</th>\n",
       "      <td>8498259</td>\n",
       "      <td>1.595267e+09</td>\n",
       "      <td>1.507916e+08</td>\n",
       "      <td>1.563698e+09</td>\n",
       "      <td>25147.539168</td>\n",
       "      <td>-53176.2288</td>\n",
       "      <td>1290</td>\n",
       "      <td>1.515424e+11</td>\n",
       "      <td>1.485856e+11</td>\n",
       "      <td>1.515424e+11</td>\n",
       "      <td>1.485856e+11</td>\n",
       "    </tr>\n",
       "  </tbody>\n",
       "</table>\n",
       "</div>"
      ],
      "text/plain": [
       "                 plant id  total fuel (mmbtu)  generation (mwh)  \\\n",
       "type year month                                                   \n",
       "COW  2001 1       8550284        1.848875e+09      1.762754e+08   \n",
       "          2       8550284        1.568672e+09      1.488241e+08   \n",
       "          3       8550284        1.626246e+09      1.541157e+08   \n",
       "          4       8550284        1.471568e+09      1.398943e+08   \n",
       "          5       8498259        1.595267e+09      1.507916e+08   \n",
       "\n",
       "                 elec fuel (mmbtu)           lat         lon  quarter  \\\n",
       "type year month                                                         \n",
       "COW  2001 1           1.810304e+09  25142.050268 -53175.8593      645   \n",
       "          2           1.536017e+09  25142.050268 -53175.8593      645   \n",
       "          3           1.591151e+09  25142.050268 -53175.8593      645   \n",
       "          4           1.439361e+09  25142.050268 -53175.8593     1290   \n",
       "          5           1.563698e+09  25147.539168 -53176.2288     1290   \n",
       "\n",
       "                 all fuel fossil co2 (kg)  elec fuel fossil co2 (kg)  \\\n",
       "type year month                                                        \n",
       "COW  2001 1                  1.755757e+11               1.719629e+11   \n",
       "          2                  1.490065e+11               1.459476e+11   \n",
       "          3                  1.544286e+11               1.511424e+11   \n",
       "          4                  1.397181e+11               1.367018e+11   \n",
       "          5                  1.515424e+11               1.485856e+11   \n",
       "\n",
       "                 all fuel total co2 (kg)  elec fuel total co2 (kg)  \n",
       "type year month                                                     \n",
       "COW  2001 1                 1.755757e+11              1.719629e+11  \n",
       "          2                 1.490065e+11              1.459476e+11  \n",
       "          3                 1.544286e+11              1.511424e+11  \n",
       "          4                 1.397181e+11              1.367018e+11  \n",
       "          5                 1.515424e+11              1.485856e+11  "
      ]
     },
     "execution_count": 20,
     "metadata": {},
     "output_type": "execute_result"
    }
   ],
   "source": [
    "gen_fuels_state.groupby(['type', 'year', 'month']).sum().head()"
   ]
  },
  {
   "cell_type": "code",
   "execution_count": 102,
   "metadata": {},
   "outputs": [
    {
     "data": {
      "text/plain": [
       "Index(['total fuel (mmbtu)', 'generation (mwh)', 'elec fuel (mmbtu)'], dtype='object')"
      ]
     },
     "execution_count": 102,
     "metadata": {},
     "output_type": "execute_result"
    }
   ],
   "source": [
    "extra_gen_fuel.columns"
   ]
  },
  {
   "cell_type": "code",
   "execution_count": 126,
   "metadata": {
    "ExecuteTime": {
     "end_time": "2017-11-06T17:01:40.579779Z",
     "start_time": "2017-11-06T17:01:40.407271Z"
    },
    "collapsed": true
   },
   "outputs": [],
   "source": [
    "gen_fuel_cols = ['total fuel (mmbtu)', 'generation (mwh)', 'elec fuel (mmbtu)']\n",
    "\n",
    "national_gen = (gen_fuels_state\n",
    "                .groupby(['type', 'year', 'month'])[gen_fuel_cols].sum()\n",
    "                .add(extra_gen_fuel[gen_fuel_cols], fill_value=0))"
   ]
  },
  {
   "cell_type": "code",
   "execution_count": 127,
   "metadata": {},
   "outputs": [
    {
     "data": {
      "text/html": [
       "<div>\n",
       "<style scoped>\n",
       "    .dataframe tbody tr th:only-of-type {\n",
       "        vertical-align: middle;\n",
       "    }\n",
       "\n",
       "    .dataframe tbody tr th {\n",
       "        vertical-align: top;\n",
       "    }\n",
       "\n",
       "    .dataframe thead th {\n",
       "        text-align: right;\n",
       "    }\n",
       "</style>\n",
       "<table border=\"1\" class=\"dataframe\">\n",
       "  <thead>\n",
       "    <tr style=\"text-align: right;\">\n",
       "      <th></th>\n",
       "      <th></th>\n",
       "      <th></th>\n",
       "      <th>total fuel (mmbtu)</th>\n",
       "      <th>generation (mwh)</th>\n",
       "      <th>elec fuel (mmbtu)</th>\n",
       "    </tr>\n",
       "    <tr>\n",
       "      <th>type</th>\n",
       "      <th>year</th>\n",
       "      <th>month</th>\n",
       "      <th></th>\n",
       "      <th></th>\n",
       "      <th></th>\n",
       "    </tr>\n",
       "  </thead>\n",
       "  <tbody>\n",
       "    <tr>\n",
       "      <th rowspan=\"5\" valign=\"top\">COW</th>\n",
       "      <th rowspan=\"5\" valign=\"top\">2001</th>\n",
       "      <th>1</th>\n",
       "      <td>1.865791e+09</td>\n",
       "      <td>177287111.0</td>\n",
       "      <td>1.823460e+09</td>\n",
       "    </tr>\n",
       "    <tr>\n",
       "      <th>2</th>\n",
       "      <td>1.583642e+09</td>\n",
       "      <td>149735483.0</td>\n",
       "      <td>1.547593e+09</td>\n",
       "    </tr>\n",
       "    <tr>\n",
       "      <th>3</th>\n",
       "      <td>1.644567e+09</td>\n",
       "      <td>155269010.0</td>\n",
       "      <td>1.605915e+09</td>\n",
       "    </tr>\n",
       "    <tr>\n",
       "      <th>4</th>\n",
       "      <td>1.485098e+09</td>\n",
       "      <td>140670652.0</td>\n",
       "      <td>1.449735e+09</td>\n",
       "    </tr>\n",
       "    <tr>\n",
       "      <th>5</th>\n",
       "      <td>1.609283e+09</td>\n",
       "      <td>151592915.0</td>\n",
       "      <td>1.574620e+09</td>\n",
       "    </tr>\n",
       "  </tbody>\n",
       "</table>\n",
       "</div>"
      ],
      "text/plain": [
       "                 total fuel (mmbtu)  generation (mwh)  elec fuel (mmbtu)\n",
       "type year month                                                         \n",
       "COW  2001 1            1.865791e+09       177287111.0       1.823460e+09\n",
       "          2            1.583642e+09       149735483.0       1.547593e+09\n",
       "          3            1.644567e+09       155269010.0       1.605915e+09\n",
       "          4            1.485098e+09       140670652.0       1.449735e+09\n",
       "          5            1.609283e+09       151592915.0       1.574620e+09"
      ]
     },
     "execution_count": 127,
     "metadata": {},
     "output_type": "execute_result"
    }
   ],
   "source": [
    "national_gen.head()"
   ]
  },
  {
   "cell_type": "code",
   "execution_count": 128,
   "metadata": {},
   "outputs": [
    {
     "data": {
      "text/plain": [
       "array(['COW', 'DPV', 'GEO', 'HPS', 'HYC', 'NG', 'NUC', 'OOG', 'OTH', 'PC',\n",
       "       'PEL', 'SUN', 'WAS', 'WND', 'WWW'], dtype=object)"
      ]
     },
     "execution_count": 128,
     "metadata": {},
     "output_type": "execute_result"
    }
   ],
   "source": [
    "national_gen.reset_index().type.unique()"
   ]
  },
  {
   "cell_type": "markdown",
   "metadata": {},
   "source": [
    "#### Regroup generation from state codes to my custom fuel codes"
   ]
  },
  {
   "cell_type": "code",
   "execution_count": 129,
   "metadata": {
    "ExecuteTime": {
     "end_time": "2017-11-06T17:01:50.832843Z",
     "start_time": "2017-11-06T17:01:50.784218Z"
    },
    "collapsed": true
   },
   "outputs": [],
   "source": [
    "national_gen_cat = group_fuel_cats(national_gen.reset_index(), custom_fuel_cat,\n",
    "                               'type', 'fuel category').set_index(['fuel category', 'year', 'month'])"
   ]
  },
  {
   "cell_type": "code",
   "execution_count": 130,
   "metadata": {},
   "outputs": [
    {
     "data": {
      "text/html": [
       "<div>\n",
       "<style scoped>\n",
       "    .dataframe tbody tr th:only-of-type {\n",
       "        vertical-align: middle;\n",
       "    }\n",
       "\n",
       "    .dataframe tbody tr th {\n",
       "        vertical-align: top;\n",
       "    }\n",
       "\n",
       "    .dataframe thead th {\n",
       "        text-align: right;\n",
       "    }\n",
       "</style>\n",
       "<table border=\"1\" class=\"dataframe\">\n",
       "  <thead>\n",
       "    <tr style=\"text-align: right;\">\n",
       "      <th></th>\n",
       "      <th></th>\n",
       "      <th></th>\n",
       "      <th>total fuel (mmbtu)</th>\n",
       "      <th>generation (mwh)</th>\n",
       "      <th>elec fuel (mmbtu)</th>\n",
       "    </tr>\n",
       "    <tr>\n",
       "      <th>fuel category</th>\n",
       "      <th>year</th>\n",
       "      <th>month</th>\n",
       "      <th></th>\n",
       "      <th></th>\n",
       "      <th></th>\n",
       "    </tr>\n",
       "  </thead>\n",
       "  <tbody>\n",
       "    <tr>\n",
       "      <th rowspan=\"5\" valign=\"top\">Coal</th>\n",
       "      <th rowspan=\"5\" valign=\"top\">2001</th>\n",
       "      <th>1</th>\n",
       "      <td>1.865791e+09</td>\n",
       "      <td>177287111.0</td>\n",
       "      <td>1.823460e+09</td>\n",
       "    </tr>\n",
       "    <tr>\n",
       "      <th>2</th>\n",
       "      <td>1.583642e+09</td>\n",
       "      <td>149735483.0</td>\n",
       "      <td>1.547593e+09</td>\n",
       "    </tr>\n",
       "    <tr>\n",
       "      <th>3</th>\n",
       "      <td>1.644567e+09</td>\n",
       "      <td>155269010.0</td>\n",
       "      <td>1.605915e+09</td>\n",
       "    </tr>\n",
       "    <tr>\n",
       "      <th>4</th>\n",
       "      <td>1.485098e+09</td>\n",
       "      <td>140670652.0</td>\n",
       "      <td>1.449735e+09</td>\n",
       "    </tr>\n",
       "    <tr>\n",
       "      <th>5</th>\n",
       "      <td>1.609283e+09</td>\n",
       "      <td>151592915.0</td>\n",
       "      <td>1.574620e+09</td>\n",
       "    </tr>\n",
       "  </tbody>\n",
       "</table>\n",
       "</div>"
      ],
      "text/plain": [
       "                          total fuel (mmbtu)  generation (mwh)  \\\n",
       "fuel category year month                                         \n",
       "Coal          2001 1            1.865791e+09       177287111.0   \n",
       "                   2            1.583642e+09       149735483.0   \n",
       "                   3            1.644567e+09       155269010.0   \n",
       "                   4            1.485098e+09       140670652.0   \n",
       "                   5            1.609283e+09       151592915.0   \n",
       "\n",
       "                          elec fuel (mmbtu)  \n",
       "fuel category year month                     \n",
       "Coal          2001 1           1.823460e+09  \n",
       "                   2           1.547593e+09  \n",
       "                   3           1.605915e+09  \n",
       "                   4           1.449735e+09  \n",
       "                   5           1.574620e+09  "
      ]
     },
     "execution_count": 130,
     "metadata": {},
     "output_type": "execute_result"
    }
   ],
   "source": [
    "national_gen_cat.head()"
   ]
  },
  {
   "cell_type": "code",
   "execution_count": 131,
   "metadata": {
    "ExecuteTime": {
     "end_time": "2017-11-06T17:01:53.709009Z",
     "start_time": "2017-11-06T17:01:53.695991Z"
    }
   },
   "outputs": [],
   "source": [
    "total_gen = national_gen_cat.groupby(['year', 'month']).sum()"
   ]
  },
  {
   "cell_type": "markdown",
   "metadata": {},
   "source": [
    "### National Index"
   ]
  },
  {
   "cell_type": "code",
   "execution_count": 111,
   "metadata": {},
   "outputs": [],
   "source": [
    "national_index = total_gen.copy()\n",
    "national_index['final co2 (kg)'] = national_co2\n",
    "national_index['index (g/kwh)'] = (national_index['final co2 (kg)']\n",
    "                                   / national_index['generation (mwh)'])\n",
    "national_index.reset_index(inplace=True)\n",
    "add_quarter(national_index)\n",
    "g2lb(national_index)\n",
    "change_since_2005(national_index)"
   ]
  },
  {
   "cell_type": "code",
   "execution_count": 112,
   "metadata": {},
   "outputs": [
    {
     "data": {
      "text/html": [
       "<div>\n",
       "<style scoped>\n",
       "    .dataframe tbody tr th:only-of-type {\n",
       "        vertical-align: middle;\n",
       "    }\n",
       "\n",
       "    .dataframe tbody tr th {\n",
       "        vertical-align: top;\n",
       "    }\n",
       "\n",
       "    .dataframe thead th {\n",
       "        text-align: right;\n",
       "    }\n",
       "</style>\n",
       "<table border=\"1\" class=\"dataframe\">\n",
       "  <thead>\n",
       "    <tr style=\"text-align: right;\">\n",
       "      <th></th>\n",
       "      <th>year</th>\n",
       "      <th>month</th>\n",
       "      <th>total fuel (mmbtu)</th>\n",
       "      <th>generation (mwh)</th>\n",
       "      <th>elec fuel (mmbtu)</th>\n",
       "      <th>final co2 (kg)</th>\n",
       "      <th>index (g/kwh)</th>\n",
       "      <th>datetime</th>\n",
       "      <th>quarter</th>\n",
       "      <th>index (lb/mwh)</th>\n",
       "      <th>change since 2005</th>\n",
       "    </tr>\n",
       "  </thead>\n",
       "  <tbody>\n",
       "    <tr>\n",
       "      <th>0</th>\n",
       "      <td>2001</td>\n",
       "      <td>1</td>\n",
       "      <td>2.548580e+09</td>\n",
       "      <td>3.324839e+08</td>\n",
       "      <td>2.413033e+09</td>\n",
       "      <td>2.145929e+11</td>\n",
       "      <td>645.423413</td>\n",
       "      <td>2001-01-01</td>\n",
       "      <td>1</td>\n",
       "      <td>1422.900456</td>\n",
       "      <td>0.077267</td>\n",
       "    </tr>\n",
       "    <tr>\n",
       "      <th>1</th>\n",
       "      <td>2001</td>\n",
       "      <td>2</td>\n",
       "      <td>2.134672e+09</td>\n",
       "      <td>2.829402e+08</td>\n",
       "      <td>2.016862e+09</td>\n",
       "      <td>1.799442e+11</td>\n",
       "      <td>635.979511</td>\n",
       "      <td>2001-02-01</td>\n",
       "      <td>1</td>\n",
       "      <td>1402.080431</td>\n",
       "      <td>0.061504</td>\n",
       "    </tr>\n",
       "    <tr>\n",
       "      <th>2</th>\n",
       "      <td>2001</td>\n",
       "      <td>3</td>\n",
       "      <td>2.271867e+09</td>\n",
       "      <td>3.007065e+08</td>\n",
       "      <td>2.145616e+09</td>\n",
       "      <td>1.887242e+11</td>\n",
       "      <td>627.602684</td>\n",
       "      <td>2001-03-01</td>\n",
       "      <td>1</td>\n",
       "      <td>1383.612877</td>\n",
       "      <td>0.047523</td>\n",
       "    </tr>\n",
       "    <tr>\n",
       "      <th>3</th>\n",
       "      <td>2001</td>\n",
       "      <td>4</td>\n",
       "      <td>2.119103e+09</td>\n",
       "      <td>2.780781e+08</td>\n",
       "      <td>2.003578e+09</td>\n",
       "      <td>1.744977e+11</td>\n",
       "      <td>627.513263</td>\n",
       "      <td>2001-04-01</td>\n",
       "      <td>2</td>\n",
       "      <td>1383.415739</td>\n",
       "      <td>0.047373</td>\n",
       "    </tr>\n",
       "    <tr>\n",
       "      <th>4</th>\n",
       "      <td>2001</td>\n",
       "      <td>5</td>\n",
       "      <td>2.289648e+09</td>\n",
       "      <td>3.004857e+08</td>\n",
       "      <td>2.174221e+09</td>\n",
       "      <td>1.888085e+11</td>\n",
       "      <td>628.344387</td>\n",
       "      <td>2001-05-01</td>\n",
       "      <td>2</td>\n",
       "      <td>1385.248036</td>\n",
       "      <td>0.048761</td>\n",
       "    </tr>\n",
       "  </tbody>\n",
       "</table>\n",
       "</div>"
      ],
      "text/plain": [
       "   year  month  total fuel (mmbtu)  generation (mwh)  elec fuel (mmbtu)  \\\n",
       "0  2001      1        2.548580e+09      3.324839e+08       2.413033e+09   \n",
       "1  2001      2        2.134672e+09      2.829402e+08       2.016862e+09   \n",
       "2  2001      3        2.271867e+09      3.007065e+08       2.145616e+09   \n",
       "3  2001      4        2.119103e+09      2.780781e+08       2.003578e+09   \n",
       "4  2001      5        2.289648e+09      3.004857e+08       2.174221e+09   \n",
       "\n",
       "   final co2 (kg)  index (g/kwh)   datetime  quarter  index (lb/mwh)  \\\n",
       "0    2.145929e+11     645.423413 2001-01-01        1     1422.900456   \n",
       "1    1.799442e+11     635.979511 2001-02-01        1     1402.080431   \n",
       "2    1.887242e+11     627.602684 2001-03-01        1     1383.612877   \n",
       "3    1.744977e+11     627.513263 2001-04-01        2     1383.415739   \n",
       "4    1.888085e+11     628.344387 2001-05-01        2     1385.248036   \n",
       "\n",
       "   change since 2005  \n",
       "0           0.077267  \n",
       "1           0.061504  \n",
       "2           0.047523  \n",
       "3           0.047373  \n",
       "4           0.048761  "
      ]
     },
     "execution_count": 112,
     "metadata": {},
     "output_type": "execute_result"
    }
   ],
   "source": [
    "national_index.head()"
   ]
  },
  {
   "cell_type": "code",
   "execution_count": 70,
   "metadata": {},
   "outputs": [
    {
     "data": {
      "text/html": [
       "<div>\n",
       "<style scoped>\n",
       "    .dataframe tbody tr th:only-of-type {\n",
       "        vertical-align: middle;\n",
       "    }\n",
       "\n",
       "    .dataframe tbody tr th {\n",
       "        vertical-align: top;\n",
       "    }\n",
       "\n",
       "    .dataframe thead th {\n",
       "        text-align: right;\n",
       "    }\n",
       "</style>\n",
       "<table border=\"1\" class=\"dataframe\">\n",
       "  <thead>\n",
       "    <tr style=\"text-align: right;\">\n",
       "      <th></th>\n",
       "      <th>year</th>\n",
       "      <th>month</th>\n",
       "      <th>generation (mwh)</th>\n",
       "      <th>final co2 (kg)</th>\n",
       "      <th>index (g/kwh)</th>\n",
       "      <th>datetime</th>\n",
       "      <th>quarter</th>\n",
       "      <th>index (lb/mwh)</th>\n",
       "      <th>change since 2005</th>\n",
       "    </tr>\n",
       "  </thead>\n",
       "  <tbody>\n",
       "    <tr>\n",
       "      <th>0</th>\n",
       "      <td>2001</td>\n",
       "      <td>1</td>\n",
       "      <td>3.324839e+08</td>\n",
       "      <td>2.145929e+11</td>\n",
       "      <td>645.423413</td>\n",
       "      <td>2001-01-01</td>\n",
       "      <td>1</td>\n",
       "      <td>1422.900456</td>\n",
       "      <td>0.077267</td>\n",
       "    </tr>\n",
       "    <tr>\n",
       "      <th>1</th>\n",
       "      <td>2001</td>\n",
       "      <td>2</td>\n",
       "      <td>2.829402e+08</td>\n",
       "      <td>1.799442e+11</td>\n",
       "      <td>635.979511</td>\n",
       "      <td>2001-02-01</td>\n",
       "      <td>1</td>\n",
       "      <td>1402.080431</td>\n",
       "      <td>0.061504</td>\n",
       "    </tr>\n",
       "    <tr>\n",
       "      <th>2</th>\n",
       "      <td>2001</td>\n",
       "      <td>3</td>\n",
       "      <td>3.007065e+08</td>\n",
       "      <td>1.887242e+11</td>\n",
       "      <td>627.602684</td>\n",
       "      <td>2001-03-01</td>\n",
       "      <td>1</td>\n",
       "      <td>1383.612877</td>\n",
       "      <td>0.047523</td>\n",
       "    </tr>\n",
       "    <tr>\n",
       "      <th>3</th>\n",
       "      <td>2001</td>\n",
       "      <td>4</td>\n",
       "      <td>2.780781e+08</td>\n",
       "      <td>1.744977e+11</td>\n",
       "      <td>627.513263</td>\n",
       "      <td>2001-04-01</td>\n",
       "      <td>2</td>\n",
       "      <td>1383.415739</td>\n",
       "      <td>0.047373</td>\n",
       "    </tr>\n",
       "    <tr>\n",
       "      <th>4</th>\n",
       "      <td>2001</td>\n",
       "      <td>5</td>\n",
       "      <td>3.004857e+08</td>\n",
       "      <td>1.888085e+11</td>\n",
       "      <td>628.344387</td>\n",
       "      <td>2001-05-01</td>\n",
       "      <td>2</td>\n",
       "      <td>1385.248036</td>\n",
       "      <td>0.048761</td>\n",
       "    </tr>\n",
       "  </tbody>\n",
       "</table>\n",
       "</div>"
      ],
      "text/plain": [
       "   year  month  generation (mwh)  final co2 (kg)  index (g/kwh)   datetime  \\\n",
       "0  2001      1      3.324839e+08    2.145929e+11     645.423413 2001-01-01   \n",
       "1  2001      2      2.829402e+08    1.799442e+11     635.979511 2001-02-01   \n",
       "2  2001      3      3.007065e+08    1.887242e+11     627.602684 2001-03-01   \n",
       "3  2001      4      2.780781e+08    1.744977e+11     627.513263 2001-04-01   \n",
       "4  2001      5      3.004857e+08    1.888085e+11     628.344387 2001-05-01   \n",
       "\n",
       "   quarter  index (lb/mwh)  change since 2005  \n",
       "0        1     1422.900456           0.077267  \n",
       "1        1     1402.080431           0.061504  \n",
       "2        1     1383.612877           0.047523  \n",
       "3        2     1383.415739           0.047373  \n",
       "4        2     1385.248036           0.048761  "
      ]
     },
     "execution_count": 70,
     "metadata": {},
     "output_type": "execute_result"
    }
   ],
   "source": [
    "national_index.head()"
   ]
  },
  {
   "cell_type": "code",
   "execution_count": null,
   "metadata": {
    "collapsed": true
   },
   "outputs": [],
   "source": [
    "path = join(data_path, 'National data',\n",
    "            'National index {}.csv'.format(file_date))\n",
    "national_index.to_csv(path, index=False)"
   ]
  },
  {
   "cell_type": "markdown",
   "metadata": {},
   "source": [
    "#### files for website"
   ]
  },
  {
   "cell_type": "code",
   "execution_count": 72,
   "metadata": {},
   "outputs": [],
   "source": [
    "monthly_index = national_index.copy()\n",
    "\n",
    "\n",
    "quarterly_index = monthly_index.groupby(['year', 'quarter'])['generation (mwh)', 'final co2 (kg)'].sum()\n",
    "quarterly_index.reset_index(inplace=True)\n",
    "quarterly_index['index (g/kwh)'] = quarterly_index.loc[:, 'final co2 (kg)'] / quarterly_index.loc[:, 'generation (mwh)']\n",
    "quarterly_index['year_quarter'] = quarterly_index['year'].astype(str) + ' Q' + quarterly_index['quarter'].astype(str)\n",
    "change_since_2005(quarterly_index)\n",
    "g2lb(quarterly_index)\n",
    "\n",
    "annual_index = quarterly_index.groupby('year')['generation (mwh)', 'final co2 (kg)'].sum()\n",
    "annual_index.reset_index(inplace=True)\n",
    "annual_index['index (g/kwh)'] = annual_index.loc[:, 'final co2 (kg)'] / annual_index.loc[:, 'generation (mwh)']\n",
    "\n",
    "change_since_2005(annual_index)\n",
    "g2lb(annual_index)"
   ]
  },
  {
   "cell_type": "code",
   "execution_count": 73,
   "metadata": {},
   "outputs": [
    {
     "data": {
      "text/html": [
       "<div>\n",
       "<style scoped>\n",
       "    .dataframe tbody tr th:only-of-type {\n",
       "        vertical-align: middle;\n",
       "    }\n",
       "\n",
       "    .dataframe tbody tr th {\n",
       "        vertical-align: top;\n",
       "    }\n",
       "\n",
       "    .dataframe thead th {\n",
       "        text-align: right;\n",
       "    }\n",
       "</style>\n",
       "<table border=\"1\" class=\"dataframe\">\n",
       "  <thead>\n",
       "    <tr style=\"text-align: right;\">\n",
       "      <th></th>\n",
       "      <th>year</th>\n",
       "      <th>quarter</th>\n",
       "      <th>generation (mwh)</th>\n",
       "      <th>final co2 (kg)</th>\n",
       "      <th>index (g/kwh)</th>\n",
       "      <th>year_quarter</th>\n",
       "      <th>change since 2005</th>\n",
       "      <th>index (lb/mwh)</th>\n",
       "    </tr>\n",
       "  </thead>\n",
       "  <tbody>\n",
       "    <tr>\n",
       "      <th>0</th>\n",
       "      <td>2001</td>\n",
       "      <td>1</td>\n",
       "      <td>9.161307e+08</td>\n",
       "      <td>5.832613e+11</td>\n",
       "      <td>636.657339</td>\n",
       "      <td>2001 Q1</td>\n",
       "      <td>0.062636</td>\n",
       "      <td>1403.574769</td>\n",
       "    </tr>\n",
       "    <tr>\n",
       "      <th>1</th>\n",
       "      <td>2001</td>\n",
       "      <td>2</td>\n",
       "      <td>9.062573e+08</td>\n",
       "      <td>5.680978e+11</td>\n",
       "      <td>626.861502</td>\n",
       "      <td>2001 Q2</td>\n",
       "      <td>0.046286</td>\n",
       "      <td>1381.978866</td>\n",
       "    </tr>\n",
       "    <tr>\n",
       "      <th>2</th>\n",
       "      <td>2001</td>\n",
       "      <td>3</td>\n",
       "      <td>1.035004e+09</td>\n",
       "      <td>6.617222e+11</td>\n",
       "      <td>639.342879</td>\n",
       "      <td>2001 Q3</td>\n",
       "      <td>0.067118</td>\n",
       "      <td>1409.495312</td>\n",
       "    </tr>\n",
       "    <tr>\n",
       "      <th>3</th>\n",
       "      <td>2001</td>\n",
       "      <td>4</td>\n",
       "      <td>8.791288e+08</td>\n",
       "      <td>5.409828e+11</td>\n",
       "      <td>615.362401</td>\n",
       "      <td>2001 Q4</td>\n",
       "      <td>0.027093</td>\n",
       "      <td>1356.627950</td>\n",
       "    </tr>\n",
       "    <tr>\n",
       "      <th>4</th>\n",
       "      <td>2002</td>\n",
       "      <td>1</td>\n",
       "      <td>9.043011e+08</td>\n",
       "      <td>5.475895e+11</td>\n",
       "      <td>605.538917</td>\n",
       "      <td>2002 Q1</td>\n",
       "      <td>0.010696</td>\n",
       "      <td>1334.971096</td>\n",
       "    </tr>\n",
       "  </tbody>\n",
       "</table>\n",
       "</div>"
      ],
      "text/plain": [
       "   year  quarter  generation (mwh)  final co2 (kg)  index (g/kwh)  \\\n",
       "0  2001        1      9.161307e+08    5.832613e+11     636.657339   \n",
       "1  2001        2      9.062573e+08    5.680978e+11     626.861502   \n",
       "2  2001        3      1.035004e+09    6.617222e+11     639.342879   \n",
       "3  2001        4      8.791288e+08    5.409828e+11     615.362401   \n",
       "4  2002        1      9.043011e+08    5.475895e+11     605.538917   \n",
       "\n",
       "  year_quarter  change since 2005  index (lb/mwh)  \n",
       "0      2001 Q1           0.062636     1403.574769  \n",
       "1      2001 Q2           0.046286     1381.978866  \n",
       "2      2001 Q3           0.067118     1409.495312  \n",
       "3      2001 Q4           0.027093     1356.627950  \n",
       "4      2002 Q1           0.010696     1334.971096  "
      ]
     },
     "execution_count": 73,
     "metadata": {},
     "output_type": "execute_result"
    }
   ],
   "source": [
    "quarterly_index.head()"
   ]
  },
  {
   "cell_type": "code",
   "execution_count": 74,
   "metadata": {},
   "outputs": [
    {
     "data": {
      "text/html": [
       "<div>\n",
       "<style scoped>\n",
       "    .dataframe tbody tr th:only-of-type {\n",
       "        vertical-align: middle;\n",
       "    }\n",
       "\n",
       "    .dataframe tbody tr th {\n",
       "        vertical-align: top;\n",
       "    }\n",
       "\n",
       "    .dataframe thead th {\n",
       "        text-align: right;\n",
       "    }\n",
       "</style>\n",
       "<table border=\"1\" class=\"dataframe\">\n",
       "  <thead>\n",
       "    <tr style=\"text-align: right;\">\n",
       "      <th></th>\n",
       "      <th>year</th>\n",
       "      <th>generation (mwh)</th>\n",
       "      <th>final co2 (kg)</th>\n",
       "      <th>index (g/kwh)</th>\n",
       "      <th>change since 2005</th>\n",
       "      <th>index (lb/mwh)</th>\n",
       "    </tr>\n",
       "  </thead>\n",
       "  <tbody>\n",
       "    <tr>\n",
       "      <th>12</th>\n",
       "      <td>2013</td>\n",
       "      <td>4.065839e+09</td>\n",
       "      <td>2.095628e+12</td>\n",
       "      <td>515.423252</td>\n",
       "      <td>-0.139714</td>\n",
       "      <td>1136.302101</td>\n",
       "    </tr>\n",
       "    <tr>\n",
       "      <th>13</th>\n",
       "      <td>2014</td>\n",
       "      <td>4.104659e+09</td>\n",
       "      <td>2.092147e+12</td>\n",
       "      <td>509.700555</td>\n",
       "      <td>-0.149266</td>\n",
       "      <td>1123.685843</td>\n",
       "    </tr>\n",
       "    <tr>\n",
       "      <th>14</th>\n",
       "      <td>2015</td>\n",
       "      <td>4.091520e+09</td>\n",
       "      <td>1.967419e+12</td>\n",
       "      <td>480.852898</td>\n",
       "      <td>-0.197415</td>\n",
       "      <td>1060.088300</td>\n",
       "    </tr>\n",
       "    <tr>\n",
       "      <th>15</th>\n",
       "      <td>2016</td>\n",
       "      <td>4.095209e+09</td>\n",
       "      <td>1.854639e+12</td>\n",
       "      <td>452.880147</td>\n",
       "      <td>-0.244104</td>\n",
       "      <td>998.419572</td>\n",
       "    </tr>\n",
       "    <tr>\n",
       "      <th>16</th>\n",
       "      <td>2017</td>\n",
       "      <td>4.034598e+09</td>\n",
       "      <td>1.769787e+12</td>\n",
       "      <td>438.652664</td>\n",
       "      <td>-0.267851</td>\n",
       "      <td>967.053663</td>\n",
       "    </tr>\n",
       "  </tbody>\n",
       "</table>\n",
       "</div>"
      ],
      "text/plain": [
       "    year  generation (mwh)  final co2 (kg)  index (g/kwh)  change since 2005  \\\n",
       "12  2013      4.065839e+09    2.095628e+12     515.423252          -0.139714   \n",
       "13  2014      4.104659e+09    2.092147e+12     509.700555          -0.149266   \n",
       "14  2015      4.091520e+09    1.967419e+12     480.852898          -0.197415   \n",
       "15  2016      4.095209e+09    1.854639e+12     452.880147          -0.244104   \n",
       "16  2017      4.034598e+09    1.769787e+12     438.652664          -0.267851   \n",
       "\n",
       "    index (lb/mwh)  \n",
       "12     1136.302101  \n",
       "13     1123.685843  \n",
       "14     1060.088300  \n",
       "15      998.419572  \n",
       "16      967.053663  "
      ]
     },
     "execution_count": 74,
     "metadata": {},
     "output_type": "execute_result"
    }
   ],
   "source": [
    "annual_index.tail()"
   ]
  },
  {
   "cell_type": "code",
   "execution_count": 75,
   "metadata": {},
   "outputs": [],
   "source": [
    "path = join(data_path, 'Website results',\n",
    "            'Monthly index {}.csv'.format(export_quarter))\n",
    "monthly_index.to_csv(path, index=False)"
   ]
  },
  {
   "cell_type": "code",
   "execution_count": 76,
   "metadata": {},
   "outputs": [],
   "source": [
    "path = join(data_path, 'Website results',\n",
    "            'Quarterly index {}.csv'.format(export_quarter))\n",
    "quarterly_index.to_csv(path, index=False)"
   ]
  },
  {
   "cell_type": "code",
   "execution_count": 77,
   "metadata": {},
   "outputs": [],
   "source": [
    "path = join(data_path, 'Website results',\n",
    "            'Annual index {}.csv'.format(export_quarter))\n",
    "annual_index.to_csv(path, index=False)"
   ]
  },
  {
   "cell_type": "code",
   "execution_count": null,
   "metadata": {},
   "outputs": [],
   "source": []
  },
  {
   "cell_type": "code",
   "execution_count": null,
   "metadata": {},
   "outputs": [],
   "source": []
  },
  {
   "cell_type": "code",
   "execution_count": null,
   "metadata": {},
   "outputs": [],
   "source": []
  },
  {
   "cell_type": "markdown",
   "metadata": {},
   "source": [
    "### CO₂ intensity of each fuel category, plus files for website"
   ]
  },
  {
   "cell_type": "code",
   "execution_count": 113,
   "metadata": {},
   "outputs": [
    {
     "data": {
      "text/html": [
       "<div>\n",
       "<style scoped>\n",
       "    .dataframe tbody tr th:only-of-type {\n",
       "        vertical-align: middle;\n",
       "    }\n",
       "\n",
       "    .dataframe tbody tr th {\n",
       "        vertical-align: top;\n",
       "    }\n",
       "\n",
       "    .dataframe thead th {\n",
       "        text-align: right;\n",
       "    }\n",
       "</style>\n",
       "<table border=\"1\" class=\"dataframe\">\n",
       "  <thead>\n",
       "    <tr style=\"text-align: right;\">\n",
       "      <th></th>\n",
       "      <th>type</th>\n",
       "      <th>year</th>\n",
       "      <th>month</th>\n",
       "      <th>plant id</th>\n",
       "      <th>total fuel (mmbtu)</th>\n",
       "      <th>generation (mwh)</th>\n",
       "      <th>elec fuel (mmbtu)</th>\n",
       "      <th>lat</th>\n",
       "      <th>lon</th>\n",
       "      <th>quarter</th>\n",
       "      <th>all fuel fossil co2 (kg)</th>\n",
       "      <th>elec fuel fossil co2 (kg)</th>\n",
       "      <th>all fuel total co2 (kg)</th>\n",
       "      <th>elec fuel total co2 (kg)</th>\n",
       "      <th>fuel category</th>\n",
       "    </tr>\n",
       "  </thead>\n",
       "  <tbody>\n",
       "    <tr>\n",
       "      <th>0</th>\n",
       "      <td>COW</td>\n",
       "      <td>2001</td>\n",
       "      <td>1</td>\n",
       "      <td>3</td>\n",
       "      <td>8275496.0</td>\n",
       "      <td>852306.0</td>\n",
       "      <td>8275496.0</td>\n",
       "      <td>31.006900</td>\n",
       "      <td>-88.010300</td>\n",
       "      <td>1</td>\n",
       "      <td>772103776.8</td>\n",
       "      <td>772103776.8</td>\n",
       "      <td>772103776.8</td>\n",
       "      <td>772103776.8</td>\n",
       "      <td>Coal</td>\n",
       "    </tr>\n",
       "    <tr>\n",
       "      <th>1</th>\n",
       "      <td>COW</td>\n",
       "      <td>2001</td>\n",
       "      <td>1</td>\n",
       "      <td>7</td>\n",
       "      <td>587162.0</td>\n",
       "      <td>45991.0</td>\n",
       "      <td>587162.0</td>\n",
       "      <td>34.012800</td>\n",
       "      <td>-85.970800</td>\n",
       "      <td>1</td>\n",
       "      <td>54782214.6</td>\n",
       "      <td>54782214.6</td>\n",
       "      <td>54782214.6</td>\n",
       "      <td>54782214.6</td>\n",
       "      <td>Coal</td>\n",
       "    </tr>\n",
       "    <tr>\n",
       "      <th>2</th>\n",
       "      <td>COW</td>\n",
       "      <td>2001</td>\n",
       "      <td>1</td>\n",
       "      <td>8</td>\n",
       "      <td>6910786.0</td>\n",
       "      <td>706857.0</td>\n",
       "      <td>6910786.0</td>\n",
       "      <td>33.644344</td>\n",
       "      <td>-87.196486</td>\n",
       "      <td>1</td>\n",
       "      <td>644776333.8</td>\n",
       "      <td>644776333.8</td>\n",
       "      <td>644776333.8</td>\n",
       "      <td>644776333.8</td>\n",
       "      <td>Coal</td>\n",
       "    </tr>\n",
       "    <tr>\n",
       "      <th>3</th>\n",
       "      <td>COW</td>\n",
       "      <td>2001</td>\n",
       "      <td>1</td>\n",
       "      <td>10</td>\n",
       "      <td>3108892.0</td>\n",
       "      <td>320454.0</td>\n",
       "      <td>3108892.0</td>\n",
       "      <td>32.601700</td>\n",
       "      <td>-87.781100</td>\n",
       "      <td>1</td>\n",
       "      <td>290059623.6</td>\n",
       "      <td>290059623.6</td>\n",
       "      <td>290059623.6</td>\n",
       "      <td>290059623.6</td>\n",
       "      <td>Coal</td>\n",
       "    </tr>\n",
       "    <tr>\n",
       "      <th>4</th>\n",
       "      <td>COW</td>\n",
       "      <td>2001</td>\n",
       "      <td>1</td>\n",
       "      <td>26</td>\n",
       "      <td>9745127.0</td>\n",
       "      <td>1005460.0</td>\n",
       "      <td>9745127.0</td>\n",
       "      <td>33.244211</td>\n",
       "      <td>-86.458056</td>\n",
       "      <td>1</td>\n",
       "      <td>909220349.1</td>\n",
       "      <td>909220349.1</td>\n",
       "      <td>909220349.1</td>\n",
       "      <td>909220349.1</td>\n",
       "      <td>Coal</td>\n",
       "    </tr>\n",
       "  </tbody>\n",
       "</table>\n",
       "</div>"
      ],
      "text/plain": [
       "  type  year  month  plant id  total fuel (mmbtu)  generation (mwh)  \\\n",
       "0  COW  2001      1         3           8275496.0          852306.0   \n",
       "1  COW  2001      1         7            587162.0           45991.0   \n",
       "2  COW  2001      1         8           6910786.0          706857.0   \n",
       "3  COW  2001      1        10           3108892.0          320454.0   \n",
       "4  COW  2001      1        26           9745127.0         1005460.0   \n",
       "\n",
       "   elec fuel (mmbtu)        lat        lon  quarter  all fuel fossil co2 (kg)  \\\n",
       "0          8275496.0  31.006900 -88.010300        1               772103776.8   \n",
       "1           587162.0  34.012800 -85.970800        1                54782214.6   \n",
       "2          6910786.0  33.644344 -87.196486        1               644776333.8   \n",
       "3          3108892.0  32.601700 -87.781100        1               290059623.6   \n",
       "4          9745127.0  33.244211 -86.458056        1               909220349.1   \n",
       "\n",
       "   elec fuel fossil co2 (kg)  all fuel total co2 (kg)  \\\n",
       "0                772103776.8              772103776.8   \n",
       "1                 54782214.6               54782214.6   \n",
       "2                644776333.8              644776333.8   \n",
       "3                290059623.6              290059623.6   \n",
       "4                909220349.1              909220349.1   \n",
       "\n",
       "   elec fuel total co2 (kg) fuel category  \n",
       "0               772103776.8          Coal  \n",
       "1                54782214.6          Coal  \n",
       "2               644776333.8          Coal  \n",
       "3               290059623.6          Coal  \n",
       "4               909220349.1          Coal  "
      ]
     },
     "execution_count": 113,
     "metadata": {},
     "output_type": "execute_result"
    }
   ],
   "source": [
    "gen_fuels_state.head()"
   ]
  },
  {
   "cell_type": "code",
   "execution_count": 132,
   "metadata": {},
   "outputs": [
    {
     "data": {
      "text/html": [
       "<div>\n",
       "<style scoped>\n",
       "    .dataframe tbody tr th:only-of-type {\n",
       "        vertical-align: middle;\n",
       "    }\n",
       "\n",
       "    .dataframe tbody tr th {\n",
       "        vertical-align: top;\n",
       "    }\n",
       "\n",
       "    .dataframe thead th {\n",
       "        text-align: right;\n",
       "    }\n",
       "</style>\n",
       "<table border=\"1\" class=\"dataframe\">\n",
       "  <thead>\n",
       "    <tr style=\"text-align: right;\">\n",
       "      <th></th>\n",
       "      <th></th>\n",
       "      <th></th>\n",
       "      <th>total fuel (mmbtu)</th>\n",
       "      <th>generation (mwh)</th>\n",
       "      <th>elec fuel (mmbtu)</th>\n",
       "    </tr>\n",
       "    <tr>\n",
       "      <th>type</th>\n",
       "      <th>year</th>\n",
       "      <th>month</th>\n",
       "      <th></th>\n",
       "      <th></th>\n",
       "      <th></th>\n",
       "    </tr>\n",
       "  </thead>\n",
       "  <tbody>\n",
       "    <tr>\n",
       "      <th rowspan=\"5\" valign=\"top\">WWW</th>\n",
       "      <th rowspan=\"5\" valign=\"top\">2017</th>\n",
       "      <th>8</th>\n",
       "      <td>0.0</td>\n",
       "      <td>3879727.60</td>\n",
       "      <td>0.0</td>\n",
       "    </tr>\n",
       "    <tr>\n",
       "      <th>9</th>\n",
       "      <td>0.0</td>\n",
       "      <td>3357157.33</td>\n",
       "      <td>0.0</td>\n",
       "    </tr>\n",
       "    <tr>\n",
       "      <th>10</th>\n",
       "      <td>0.0</td>\n",
       "      <td>3558432.79</td>\n",
       "      <td>0.0</td>\n",
       "    </tr>\n",
       "    <tr>\n",
       "      <th>11</th>\n",
       "      <td>0.0</td>\n",
       "      <td>3512302.55</td>\n",
       "      <td>0.0</td>\n",
       "    </tr>\n",
       "    <tr>\n",
       "      <th>12</th>\n",
       "      <td>0.0</td>\n",
       "      <td>3831624.38</td>\n",
       "      <td>0.0</td>\n",
       "    </tr>\n",
       "  </tbody>\n",
       "</table>\n",
       "</div>"
      ],
      "text/plain": [
       "                 total fuel (mmbtu)  generation (mwh)  elec fuel (mmbtu)\n",
       "type year month                                                         \n",
       "WWW  2017 8                     0.0        3879727.60                0.0\n",
       "          9                     0.0        3357157.33                0.0\n",
       "          10                    0.0        3558432.79                0.0\n",
       "          11                    0.0        3512302.55                0.0\n",
       "          12                    0.0        3831624.38                0.0"
      ]
     },
     "execution_count": 132,
     "metadata": {},
     "output_type": "execute_result"
    }
   ],
   "source": [
    "national_gen.tail()"
   ]
  },
  {
   "cell_type": "code",
   "execution_count": 124,
   "metadata": {},
   "outputs": [
    {
     "data": {
      "text/plain": [
       "{'COW': 95.25, 'NG': 53.07, 'OOG': 59.0, 'PC': 102.1, 'PEL': 75.975}"
      ]
     },
     "execution_count": 124,
     "metadata": {},
     "output_type": "execute_result"
    }
   ],
   "source": [
    "category_ef = reduce_emission_factors(ef)\n",
    "category_ef"
   ]
  },
  {
   "cell_type": "code",
   "execution_count": 133,
   "metadata": {},
   "outputs": [
    {
     "data": {
      "text/html": [
       "<div>\n",
       "<style scoped>\n",
       "    .dataframe tbody tr th:only-of-type {\n",
       "        vertical-align: middle;\n",
       "    }\n",
       "\n",
       "    .dataframe tbody tr th {\n",
       "        vertical-align: top;\n",
       "    }\n",
       "\n",
       "    .dataframe thead th {\n",
       "        text-align: right;\n",
       "    }\n",
       "</style>\n",
       "<table border=\"1\" class=\"dataframe\">\n",
       "  <thead>\n",
       "    <tr style=\"text-align: right;\">\n",
       "      <th></th>\n",
       "      <th></th>\n",
       "      <th></th>\n",
       "      <th>all fuel co2 (kg)</th>\n",
       "      <th>elec fuel co2 (kg)</th>\n",
       "    </tr>\n",
       "    <tr>\n",
       "      <th>type</th>\n",
       "      <th>year</th>\n",
       "      <th>month</th>\n",
       "      <th></th>\n",
       "      <th></th>\n",
       "    </tr>\n",
       "  </thead>\n",
       "  <tbody>\n",
       "    <tr>\n",
       "      <th rowspan=\"5\" valign=\"top\">COW</th>\n",
       "      <th rowspan=\"5\" valign=\"top\">2001</th>\n",
       "      <th>1</th>\n",
       "      <td>1.611286e+09</td>\n",
       "      <td>1.253069e+09</td>\n",
       "    </tr>\n",
       "    <tr>\n",
       "      <th>2</th>\n",
       "      <td>1.425925e+09</td>\n",
       "      <td>1.102661e+09</td>\n",
       "    </tr>\n",
       "    <tr>\n",
       "      <th>3</th>\n",
       "      <td>1.745032e+09</td>\n",
       "      <td>1.406286e+09</td>\n",
       "    </tr>\n",
       "    <tr>\n",
       "      <th>4</th>\n",
       "      <td>1.288744e+09</td>\n",
       "      <td>9.881243e+08</td>\n",
       "    </tr>\n",
       "    <tr>\n",
       "      <th>5</th>\n",
       "      <td>1.335026e+09</td>\n",
       "      <td>1.040365e+09</td>\n",
       "    </tr>\n",
       "  </tbody>\n",
       "</table>\n",
       "</div>"
      ],
      "text/plain": [
       "                 all fuel co2 (kg)  elec fuel co2 (kg)\n",
       "type year month                                       \n",
       "COW  2001 1           1.611286e+09        1.253069e+09\n",
       "          2           1.425925e+09        1.102661e+09\n",
       "          3           1.745032e+09        1.406286e+09\n",
       "          4           1.288744e+09        9.881243e+08\n",
       "          5           1.335026e+09        1.040365e+09"
      ]
     },
     "execution_count": 133,
     "metadata": {},
     "output_type": "execute_result"
    }
   ],
   "source": [
    "extra_co2.head()"
   ]
  },
  {
   "cell_type": "code",
   "execution_count": 141,
   "metadata": {},
   "outputs": [],
   "source": [
    "national_gen['elec fuel fossil co2 (kg)'] = 0\n",
    "for fuel in category_ef.keys():\n",
    "    national_gen.loc[idx[fuel, :, :], 'elec fuel fossil co2 (kg)'] = (national_gen.loc[idx[fuel, :, :], 'elec fuel (mmbtu)'] \n",
    "                                                              * category_ef[fuel])\n",
    "\n",
    "national_gen['elec fuel fossil co2 (kg)'] = (national_gen['elec fuel fossil co2 (kg)'] \n",
    "                                             + extra_co2['elec fuel co2 (kg)'])"
   ]
  },
  {
   "cell_type": "code",
   "execution_count": 143,
   "metadata": {},
   "outputs": [
    {
     "data": {
      "text/html": [
       "<div>\n",
       "<style scoped>\n",
       "    .dataframe tbody tr th:only-of-type {\n",
       "        vertical-align: middle;\n",
       "    }\n",
       "\n",
       "    .dataframe tbody tr th {\n",
       "        vertical-align: top;\n",
       "    }\n",
       "\n",
       "    .dataframe thead th {\n",
       "        text-align: right;\n",
       "    }\n",
       "</style>\n",
       "<table border=\"1\" class=\"dataframe\">\n",
       "  <thead>\n",
       "    <tr style=\"text-align: right;\">\n",
       "      <th></th>\n",
       "      <th></th>\n",
       "      <th></th>\n",
       "      <th>total fuel (mmbtu)</th>\n",
       "      <th>generation (mwh)</th>\n",
       "      <th>elec fuel (mmbtu)</th>\n",
       "      <th>elec fuel co2 (kg)</th>\n",
       "      <th>elec fuel fossil co2 (kg)</th>\n",
       "    </tr>\n",
       "    <tr>\n",
       "      <th>type</th>\n",
       "      <th>year</th>\n",
       "      <th>month</th>\n",
       "      <th></th>\n",
       "      <th></th>\n",
       "      <th></th>\n",
       "      <th></th>\n",
       "      <th></th>\n",
       "    </tr>\n",
       "  </thead>\n",
       "  <tbody>\n",
       "    <tr>\n",
       "      <th rowspan=\"5\" valign=\"top\">COW</th>\n",
       "      <th rowspan=\"5\" valign=\"top\">2001</th>\n",
       "      <th>1</th>\n",
       "      <td>1.865791e+09</td>\n",
       "      <td>177287111.0</td>\n",
       "      <td>1.823460e+09</td>\n",
       "      <td>1.736846e+11</td>\n",
       "      <td>1.749376e+11</td>\n",
       "    </tr>\n",
       "    <tr>\n",
       "      <th>2</th>\n",
       "      <td>1.583642e+09</td>\n",
       "      <td>149735483.0</td>\n",
       "      <td>1.547593e+09</td>\n",
       "      <td>1.474082e+11</td>\n",
       "      <td>1.485109e+11</td>\n",
       "    </tr>\n",
       "    <tr>\n",
       "      <th>3</th>\n",
       "      <td>1.644567e+09</td>\n",
       "      <td>155269010.0</td>\n",
       "      <td>1.605915e+09</td>\n",
       "      <td>1.529634e+11</td>\n",
       "      <td>1.543697e+11</td>\n",
       "    </tr>\n",
       "    <tr>\n",
       "      <th>4</th>\n",
       "      <td>1.485098e+09</td>\n",
       "      <td>140670652.0</td>\n",
       "      <td>1.449735e+09</td>\n",
       "      <td>1.380873e+11</td>\n",
       "      <td>1.390754e+11</td>\n",
       "    </tr>\n",
       "    <tr>\n",
       "      <th>5</th>\n",
       "      <td>1.609283e+09</td>\n",
       "      <td>151592915.0</td>\n",
       "      <td>1.574620e+09</td>\n",
       "      <td>1.499826e+11</td>\n",
       "      <td>1.510229e+11</td>\n",
       "    </tr>\n",
       "  </tbody>\n",
       "</table>\n",
       "</div>"
      ],
      "text/plain": [
       "                 total fuel (mmbtu)  generation (mwh)  elec fuel (mmbtu)  \\\n",
       "type year month                                                            \n",
       "COW  2001 1            1.865791e+09       177287111.0       1.823460e+09   \n",
       "          2            1.583642e+09       149735483.0       1.547593e+09   \n",
       "          3            1.644567e+09       155269010.0       1.605915e+09   \n",
       "          4            1.485098e+09       140670652.0       1.449735e+09   \n",
       "          5            1.609283e+09       151592915.0       1.574620e+09   \n",
       "\n",
       "                 elec fuel co2 (kg)  elec fuel fossil co2 (kg)  \n",
       "type year month                                                 \n",
       "COW  2001 1            1.736846e+11               1.749376e+11  \n",
       "          2            1.474082e+11               1.485109e+11  \n",
       "          3            1.529634e+11               1.543697e+11  \n",
       "          4            1.380873e+11               1.390754e+11  \n",
       "          5            1.499826e+11               1.510229e+11  "
      ]
     },
     "execution_count": 143,
     "metadata": {},
     "output_type": "execute_result"
    }
   ],
   "source": [
    "national_gen.head()"
   ]
  },
  {
   "cell_type": "code",
   "execution_count": 138,
   "metadata": {},
   "outputs": [
    {
     "data": {
      "text/html": [
       "<div>\n",
       "<style scoped>\n",
       "    .dataframe tbody tr th:only-of-type {\n",
       "        vertical-align: middle;\n",
       "    }\n",
       "\n",
       "    .dataframe tbody tr th {\n",
       "        vertical-align: top;\n",
       "    }\n",
       "\n",
       "    .dataframe thead th {\n",
       "        text-align: right;\n",
       "    }\n",
       "</style>\n",
       "<table border=\"1\" class=\"dataframe\">\n",
       "  <thead>\n",
       "    <tr style=\"text-align: right;\">\n",
       "      <th></th>\n",
       "      <th>fuel category</th>\n",
       "      <th>year</th>\n",
       "      <th>month</th>\n",
       "      <th>total fuel (mmbtu)</th>\n",
       "      <th>generation (mwh)</th>\n",
       "      <th>elec fuel (mmbtu)</th>\n",
       "      <th>quarter</th>\n",
       "      <th>all fuel fossil co2 (kg)</th>\n",
       "      <th>elec fuel fossil co2 (kg)</th>\n",
       "      <th>all fuel total co2 (kg)</th>\n",
       "      <th>elec fuel total co2 (kg)</th>\n",
       "      <th>adjusted co2 (kg)</th>\n",
       "      <th>adjusted index (g/kwh)</th>\n",
       "      <th>adjusted index (lb/mwh)</th>\n",
       "      <th>datetime</th>\n",
       "    </tr>\n",
       "  </thead>\n",
       "  <tbody>\n",
       "    <tr>\n",
       "      <th>0</th>\n",
       "      <td>Coal</td>\n",
       "      <td>2001</td>\n",
       "      <td>1</td>\n",
       "      <td>1.848875e+09</td>\n",
       "      <td>1.762754e+08</td>\n",
       "      <td>1.810304e+09</td>\n",
       "      <td>1</td>\n",
       "      <td>1.755757e+11</td>\n",
       "      <td>1.719629e+11</td>\n",
       "      <td>1.755757e+11</td>\n",
       "      <td>1.719629e+11</td>\n",
       "      <td>1.762533e+11</td>\n",
       "      <td>999.874627</td>\n",
       "      <td>2204.323602</td>\n",
       "      <td>2001-01-01</td>\n",
       "    </tr>\n",
       "    <tr>\n",
       "      <th>1</th>\n",
       "      <td>Coal</td>\n",
       "      <td>2001</td>\n",
       "      <td>2</td>\n",
       "      <td>1.568672e+09</td>\n",
       "      <td>1.488241e+08</td>\n",
       "      <td>1.536017e+09</td>\n",
       "      <td>1</td>\n",
       "      <td>1.490065e+11</td>\n",
       "      <td>1.459476e+11</td>\n",
       "      <td>1.490065e+11</td>\n",
       "      <td>1.459476e+11</td>\n",
       "      <td>1.501817e+11</td>\n",
       "      <td>1009.121784</td>\n",
       "      <td>2224.709885</td>\n",
       "      <td>2001-02-01</td>\n",
       "    </tr>\n",
       "    <tr>\n",
       "      <th>2</th>\n",
       "      <td>Coal</td>\n",
       "      <td>2001</td>\n",
       "      <td>3</td>\n",
       "      <td>1.626246e+09</td>\n",
       "      <td>1.541157e+08</td>\n",
       "      <td>1.591151e+09</td>\n",
       "      <td>1</td>\n",
       "      <td>1.544286e+11</td>\n",
       "      <td>1.511424e+11</td>\n",
       "      <td>1.544286e+11</td>\n",
       "      <td>1.511424e+11</td>\n",
       "      <td>1.547682e+11</td>\n",
       "      <td>1004.234117</td>\n",
       "      <td>2213.934533</td>\n",
       "      <td>2001-03-01</td>\n",
       "    </tr>\n",
       "    <tr>\n",
       "      <th>3</th>\n",
       "      <td>Coal</td>\n",
       "      <td>2001</td>\n",
       "      <td>4</td>\n",
       "      <td>1.471568e+09</td>\n",
       "      <td>1.398943e+08</td>\n",
       "      <td>1.439361e+09</td>\n",
       "      <td>2</td>\n",
       "      <td>1.397181e+11</td>\n",
       "      <td>1.367018e+11</td>\n",
       "      <td>1.397181e+11</td>\n",
       "      <td>1.367018e+11</td>\n",
       "      <td>1.399598e+11</td>\n",
       "      <td>1000.468383</td>\n",
       "      <td>2205.632597</td>\n",
       "      <td>2001-04-01</td>\n",
       "    </tr>\n",
       "    <tr>\n",
       "      <th>4</th>\n",
       "      <td>Coal</td>\n",
       "      <td>2001</td>\n",
       "      <td>5</td>\n",
       "      <td>1.595267e+09</td>\n",
       "      <td>1.507916e+08</td>\n",
       "      <td>1.563698e+09</td>\n",
       "      <td>2</td>\n",
       "      <td>1.515424e+11</td>\n",
       "      <td>1.485856e+11</td>\n",
       "      <td>1.515424e+11</td>\n",
       "      <td>1.485856e+11</td>\n",
       "      <td>1.519525e+11</td>\n",
       "      <td>1007.698474</td>\n",
       "      <td>2221.572055</td>\n",
       "      <td>2001-05-01</td>\n",
       "    </tr>\n",
       "  </tbody>\n",
       "</table>\n",
       "</div>"
      ],
      "text/plain": [
       "  fuel category  year  month  total fuel (mmbtu)  generation (mwh)  \\\n",
       "0          Coal  2001      1        1.848875e+09      1.762754e+08   \n",
       "1          Coal  2001      2        1.568672e+09      1.488241e+08   \n",
       "2          Coal  2001      3        1.626246e+09      1.541157e+08   \n",
       "3          Coal  2001      4        1.471568e+09      1.398943e+08   \n",
       "4          Coal  2001      5        1.595267e+09      1.507916e+08   \n",
       "\n",
       "   elec fuel (mmbtu)  quarter  all fuel fossil co2 (kg)  \\\n",
       "0       1.810304e+09        1              1.755757e+11   \n",
       "1       1.536017e+09        1              1.490065e+11   \n",
       "2       1.591151e+09        1              1.544286e+11   \n",
       "3       1.439361e+09        2              1.397181e+11   \n",
       "4       1.563698e+09        2              1.515424e+11   \n",
       "\n",
       "   elec fuel fossil co2 (kg)  all fuel total co2 (kg)  \\\n",
       "0               1.719629e+11             1.755757e+11   \n",
       "1               1.459476e+11             1.490065e+11   \n",
       "2               1.511424e+11             1.544286e+11   \n",
       "3               1.367018e+11             1.397181e+11   \n",
       "4               1.485856e+11             1.515424e+11   \n",
       "\n",
       "   elec fuel total co2 (kg)  adjusted co2 (kg)  adjusted index (g/kwh)  \\\n",
       "0              1.719629e+11       1.762533e+11              999.874627   \n",
       "1              1.459476e+11       1.501817e+11             1009.121784   \n",
       "2              1.511424e+11       1.547682e+11             1004.234117   \n",
       "3              1.367018e+11       1.399598e+11             1000.468383   \n",
       "4              1.485856e+11       1.519525e+11             1007.698474   \n",
       "\n",
       "   adjusted index (lb/mwh)   datetime  \n",
       "0              2204.323602 2001-01-01  \n",
       "1              2224.709885 2001-02-01  \n",
       "2              2213.934533 2001-03-01  \n",
       "3              2205.632597 2001-04-01  \n",
       "4              2221.572055 2001-05-01  "
      ]
     },
     "execution_count": 138,
     "metadata": {},
     "output_type": "execute_result"
    }
   ],
   "source": [
    "gen_monthly.head()"
   ]
  },
  {
   "cell_type": "code",
   "execution_count": 60,
   "metadata": {},
   "outputs": [
    {
     "data": {
      "text/html": [
       "<div>\n",
       "<style scoped>\n",
       "    .dataframe tbody tr th:only-of-type {\n",
       "        vertical-align: middle;\n",
       "    }\n",
       "\n",
       "    .dataframe tbody tr th {\n",
       "        vertical-align: top;\n",
       "    }\n",
       "\n",
       "    .dataframe thead th {\n",
       "        text-align: right;\n",
       "    }\n",
       "</style>\n",
       "<table border=\"1\" class=\"dataframe\">\n",
       "  <thead>\n",
       "    <tr style=\"text-align: right;\">\n",
       "      <th></th>\n",
       "      <th>fuel category</th>\n",
       "      <th>year</th>\n",
       "      <th>month</th>\n",
       "      <th>total fuel (mmbtu)</th>\n",
       "      <th>generation (mwh)</th>\n",
       "      <th>elec fuel (mmbtu)</th>\n",
       "      <th>quarter</th>\n",
       "      <th>all fuel fossil co2 (kg)</th>\n",
       "      <th>elec fuel fossil co2 (kg)</th>\n",
       "      <th>all fuel total co2 (kg)</th>\n",
       "      <th>elec fuel total co2 (kg)</th>\n",
       "      <th>adjusted co2 (kg)</th>\n",
       "      <th>adjusted index (g/kwh)</th>\n",
       "      <th>adjusted index (lb/mwh)</th>\n",
       "      <th>datetime</th>\n",
       "    </tr>\n",
       "  </thead>\n",
       "  <tbody>\n",
       "    <tr>\n",
       "      <th>0</th>\n",
       "      <td>Coal</td>\n",
       "      <td>2001</td>\n",
       "      <td>1</td>\n",
       "      <td>1.848875e+09</td>\n",
       "      <td>1.762754e+08</td>\n",
       "      <td>1.810304e+09</td>\n",
       "      <td>1</td>\n",
       "      <td>1.755757e+11</td>\n",
       "      <td>1.719629e+11</td>\n",
       "      <td>1.755757e+11</td>\n",
       "      <td>1.719629e+11</td>\n",
       "      <td>1.762533e+11</td>\n",
       "      <td>999.874627</td>\n",
       "      <td>2204.323602</td>\n",
       "      <td>2001-01-01</td>\n",
       "    </tr>\n",
       "    <tr>\n",
       "      <th>1</th>\n",
       "      <td>Coal</td>\n",
       "      <td>2001</td>\n",
       "      <td>2</td>\n",
       "      <td>1.568672e+09</td>\n",
       "      <td>1.488241e+08</td>\n",
       "      <td>1.536017e+09</td>\n",
       "      <td>1</td>\n",
       "      <td>1.490065e+11</td>\n",
       "      <td>1.459476e+11</td>\n",
       "      <td>1.490065e+11</td>\n",
       "      <td>1.459476e+11</td>\n",
       "      <td>1.501817e+11</td>\n",
       "      <td>1009.121784</td>\n",
       "      <td>2224.709885</td>\n",
       "      <td>2001-02-01</td>\n",
       "    </tr>\n",
       "    <tr>\n",
       "      <th>2</th>\n",
       "      <td>Coal</td>\n",
       "      <td>2001</td>\n",
       "      <td>3</td>\n",
       "      <td>1.626246e+09</td>\n",
       "      <td>1.541157e+08</td>\n",
       "      <td>1.591151e+09</td>\n",
       "      <td>1</td>\n",
       "      <td>1.544286e+11</td>\n",
       "      <td>1.511424e+11</td>\n",
       "      <td>1.544286e+11</td>\n",
       "      <td>1.511424e+11</td>\n",
       "      <td>1.547682e+11</td>\n",
       "      <td>1004.234117</td>\n",
       "      <td>2213.934533</td>\n",
       "      <td>2001-03-01</td>\n",
       "    </tr>\n",
       "    <tr>\n",
       "      <th>3</th>\n",
       "      <td>Coal</td>\n",
       "      <td>2001</td>\n",
       "      <td>4</td>\n",
       "      <td>1.471568e+09</td>\n",
       "      <td>1.398943e+08</td>\n",
       "      <td>1.439361e+09</td>\n",
       "      <td>2</td>\n",
       "      <td>1.397181e+11</td>\n",
       "      <td>1.367018e+11</td>\n",
       "      <td>1.397181e+11</td>\n",
       "      <td>1.367018e+11</td>\n",
       "      <td>1.399598e+11</td>\n",
       "      <td>1000.468383</td>\n",
       "      <td>2205.632597</td>\n",
       "      <td>2001-04-01</td>\n",
       "    </tr>\n",
       "    <tr>\n",
       "      <th>4</th>\n",
       "      <td>Coal</td>\n",
       "      <td>2001</td>\n",
       "      <td>5</td>\n",
       "      <td>1.595267e+09</td>\n",
       "      <td>1.507916e+08</td>\n",
       "      <td>1.563698e+09</td>\n",
       "      <td>2</td>\n",
       "      <td>1.515424e+11</td>\n",
       "      <td>1.485856e+11</td>\n",
       "      <td>1.515424e+11</td>\n",
       "      <td>1.485856e+11</td>\n",
       "      <td>1.519525e+11</td>\n",
       "      <td>1007.698474</td>\n",
       "      <td>2221.572055</td>\n",
       "      <td>2001-05-01</td>\n",
       "    </tr>\n",
       "  </tbody>\n",
       "</table>\n",
       "</div>"
      ],
      "text/plain": [
       "  fuel category  year  month  total fuel (mmbtu)  generation (mwh)  \\\n",
       "0          Coal  2001      1        1.848875e+09      1.762754e+08   \n",
       "1          Coal  2001      2        1.568672e+09      1.488241e+08   \n",
       "2          Coal  2001      3        1.626246e+09      1.541157e+08   \n",
       "3          Coal  2001      4        1.471568e+09      1.398943e+08   \n",
       "4          Coal  2001      5        1.595267e+09      1.507916e+08   \n",
       "\n",
       "   elec fuel (mmbtu)  quarter  all fuel fossil co2 (kg)  \\\n",
       "0       1.810304e+09        1              1.755757e+11   \n",
       "1       1.536017e+09        1              1.490065e+11   \n",
       "2       1.591151e+09        1              1.544286e+11   \n",
       "3       1.439361e+09        2              1.397181e+11   \n",
       "4       1.563698e+09        2              1.515424e+11   \n",
       "\n",
       "   elec fuel fossil co2 (kg)  all fuel total co2 (kg)  \\\n",
       "0               1.719629e+11             1.755757e+11   \n",
       "1               1.459476e+11             1.490065e+11   \n",
       "2               1.511424e+11             1.544286e+11   \n",
       "3               1.367018e+11             1.397181e+11   \n",
       "4               1.485856e+11             1.515424e+11   \n",
       "\n",
       "   elec fuel total co2 (kg)  adjusted co2 (kg)  adjusted index (g/kwh)  \\\n",
       "0              1.719629e+11       1.762533e+11              999.874627   \n",
       "1              1.459476e+11       1.501817e+11             1009.121784   \n",
       "2              1.511424e+11       1.547682e+11             1004.234117   \n",
       "3              1.367018e+11       1.399598e+11             1000.468383   \n",
       "4              1.485856e+11       1.519525e+11             1007.698474   \n",
       "\n",
       "   adjusted index (lb/mwh)   datetime  \n",
       "0              2204.323602 2001-01-01  \n",
       "1              2224.709885 2001-02-01  \n",
       "2              2213.934533 2001-03-01  \n",
       "3              2205.632597 2001-04-01  \n",
       "4              2221.572055 2001-05-01  "
      ]
     },
     "execution_count": 60,
     "metadata": {},
     "output_type": "execute_result"
    }
   ],
   "source": [
    "gen_monthly = (group_fuel_cats(gen_fuels_state, custom_fuel_cat,\n",
    "                              'type', 'fuel category')\n",
    "                               .groupby(['fuel category', 'year', 'month'])\n",
    "                               .sum()\n",
    "                               .reset_index())\n",
    "\n",
    "generation_index(gen_monthly, national_index, ['year', 'month'])\n",
    "add_quarter(gen_monthly)\n",
    "gen_monthly.drop(columns=['plant id', 'lat', 'lon'], inplace=True)\n",
    "gen_monthly.head()"
   ]
  },
  {
   "cell_type": "code",
   "execution_count": 145,
   "metadata": {},
   "outputs": [
    {
     "data": {
      "text/html": [
       "<div>\n",
       "<style scoped>\n",
       "    .dataframe tbody tr th:only-of-type {\n",
       "        vertical-align: middle;\n",
       "    }\n",
       "\n",
       "    .dataframe tbody tr th {\n",
       "        vertical-align: top;\n",
       "    }\n",
       "\n",
       "    .dataframe thead th {\n",
       "        text-align: right;\n",
       "    }\n",
       "</style>\n",
       "<table border=\"1\" class=\"dataframe\">\n",
       "  <thead>\n",
       "    <tr style=\"text-align: right;\">\n",
       "      <th></th>\n",
       "      <th>fuel category</th>\n",
       "      <th>year</th>\n",
       "      <th>month</th>\n",
       "      <th>total fuel (mmbtu)</th>\n",
       "      <th>generation (mwh)</th>\n",
       "      <th>elec fuel (mmbtu)</th>\n",
       "      <th>elec fuel co2 (kg)</th>\n",
       "      <th>elec fuel fossil co2 (kg)</th>\n",
       "      <th>adjusted co2 (kg)</th>\n",
       "      <th>adjusted index (g/kwh)</th>\n",
       "      <th>adjusted index (lb/mwh)</th>\n",
       "      <th>datetime</th>\n",
       "      <th>quarter</th>\n",
       "    </tr>\n",
       "  </thead>\n",
       "  <tbody>\n",
       "    <tr>\n",
       "      <th>0</th>\n",
       "      <td>Coal</td>\n",
       "      <td>2001</td>\n",
       "      <td>1</td>\n",
       "      <td>1.865791e+09</td>\n",
       "      <td>177287111.0</td>\n",
       "      <td>1.823460e+09</td>\n",
       "      <td>1.736846e+11</td>\n",
       "      <td>1.749376e+11</td>\n",
       "      <td>1.776697e+11</td>\n",
       "      <td>1002.157827</td>\n",
       "      <td>2209.357145</td>\n",
       "      <td>2001-01-01</td>\n",
       "      <td>1</td>\n",
       "    </tr>\n",
       "    <tr>\n",
       "      <th>1</th>\n",
       "      <td>Coal</td>\n",
       "      <td>2001</td>\n",
       "      <td>2</td>\n",
       "      <td>1.583642e+09</td>\n",
       "      <td>149735483.0</td>\n",
       "      <td>1.547593e+09</td>\n",
       "      <td>1.474082e+11</td>\n",
       "      <td>1.485109e+11</td>\n",
       "      <td>1.514844e+11</td>\n",
       "      <td>1011.679843</td>\n",
       "      <td>2230.349382</td>\n",
       "      <td>2001-02-01</td>\n",
       "      <td>1</td>\n",
       "    </tr>\n",
       "    <tr>\n",
       "      <th>2</th>\n",
       "      <td>Coal</td>\n",
       "      <td>2001</td>\n",
       "      <td>3</td>\n",
       "      <td>1.644567e+09</td>\n",
       "      <td>155269010.0</td>\n",
       "      <td>1.605915e+09</td>\n",
       "      <td>1.529634e+11</td>\n",
       "      <td>1.543697e+11</td>\n",
       "      <td>1.562857e+11</td>\n",
       "      <td>1006.547807</td>\n",
       "      <td>2219.035294</td>\n",
       "      <td>2001-03-01</td>\n",
       "      <td>1</td>\n",
       "    </tr>\n",
       "    <tr>\n",
       "      <th>3</th>\n",
       "      <td>Coal</td>\n",
       "      <td>2001</td>\n",
       "      <td>4</td>\n",
       "      <td>1.485098e+09</td>\n",
       "      <td>140670652.0</td>\n",
       "      <td>1.449735e+09</td>\n",
       "      <td>1.380873e+11</td>\n",
       "      <td>1.390754e+11</td>\n",
       "      <td>1.414209e+11</td>\n",
       "      <td>1005.333147</td>\n",
       "      <td>2216.357455</td>\n",
       "      <td>2001-04-01</td>\n",
       "      <td>2</td>\n",
       "    </tr>\n",
       "    <tr>\n",
       "      <th>4</th>\n",
       "      <td>Coal</td>\n",
       "      <td>2001</td>\n",
       "      <td>5</td>\n",
       "      <td>1.609283e+09</td>\n",
       "      <td>151592915.0</td>\n",
       "      <td>1.574620e+09</td>\n",
       "      <td>1.499826e+11</td>\n",
       "      <td>1.510229e+11</td>\n",
       "      <td>1.534224e+11</td>\n",
       "      <td>1012.068577</td>\n",
       "      <td>2231.206385</td>\n",
       "      <td>2001-05-01</td>\n",
       "      <td>2</td>\n",
       "    </tr>\n",
       "  </tbody>\n",
       "</table>\n",
       "</div>"
      ],
      "text/plain": [
       "  fuel category  year  month  total fuel (mmbtu)  generation (mwh)  \\\n",
       "0          Coal  2001      1        1.865791e+09       177287111.0   \n",
       "1          Coal  2001      2        1.583642e+09       149735483.0   \n",
       "2          Coal  2001      3        1.644567e+09       155269010.0   \n",
       "3          Coal  2001      4        1.485098e+09       140670652.0   \n",
       "4          Coal  2001      5        1.609283e+09       151592915.0   \n",
       "\n",
       "   elec fuel (mmbtu)  elec fuel co2 (kg)  elec fuel fossil co2 (kg)  \\\n",
       "0       1.823460e+09        1.736846e+11               1.749376e+11   \n",
       "1       1.547593e+09        1.474082e+11               1.485109e+11   \n",
       "2       1.605915e+09        1.529634e+11               1.543697e+11   \n",
       "3       1.449735e+09        1.380873e+11               1.390754e+11   \n",
       "4       1.574620e+09        1.499826e+11               1.510229e+11   \n",
       "\n",
       "   adjusted co2 (kg)  adjusted index (g/kwh)  adjusted index (lb/mwh)  \\\n",
       "0       1.776697e+11             1002.157827              2209.357145   \n",
       "1       1.514844e+11             1011.679843              2230.349382   \n",
       "2       1.562857e+11             1006.547807              2219.035294   \n",
       "3       1.414209e+11             1005.333147              2216.357455   \n",
       "4       1.534224e+11             1012.068577              2231.206385   \n",
       "\n",
       "    datetime  quarter  \n",
       "0 2001-01-01        1  \n",
       "1 2001-02-01        1  \n",
       "2 2001-03-01        1  \n",
       "3 2001-04-01        2  \n",
       "4 2001-05-01        2  "
      ]
     },
     "execution_count": 145,
     "metadata": {},
     "output_type": "execute_result"
    }
   ],
   "source": [
    "gen_monthly = (group_fuel_cats(national_gen.reset_index(), custom_fuel_cat,\n",
    "                              'type', 'fuel category')\n",
    "                               .groupby(['fuel category', 'year', 'month'])\n",
    "                               .sum()\n",
    "                               .reset_index())\n",
    "\n",
    "generation_index(gen_monthly, national_index, ['year', 'month'])\n",
    "add_quarter(gen_monthly)\n",
    "# gen_monthly.drop(columns=['plant id', 'lat', 'lon'], inplace=True)\n",
    "gen_monthly.head()"
   ]
  },
  {
   "cell_type": "code",
   "execution_count": 146,
   "metadata": {},
   "outputs": [
    {
     "data": {
      "text/html": [
       "<div>\n",
       "<style scoped>\n",
       "    .dataframe tbody tr th:only-of-type {\n",
       "        vertical-align: middle;\n",
       "    }\n",
       "\n",
       "    .dataframe tbody tr th {\n",
       "        vertical-align: top;\n",
       "    }\n",
       "\n",
       "    .dataframe thead th {\n",
       "        text-align: right;\n",
       "    }\n",
       "</style>\n",
       "<table border=\"1\" class=\"dataframe\">\n",
       "  <thead>\n",
       "    <tr style=\"text-align: right;\">\n",
       "      <th></th>\n",
       "      <th></th>\n",
       "      <th></th>\n",
       "      <th>total fuel (mmbtu)</th>\n",
       "      <th>generation (mwh)</th>\n",
       "      <th>elec fuel (mmbtu)</th>\n",
       "      <th>elec fuel co2 (kg)</th>\n",
       "      <th>elec fuel fossil co2 (kg)</th>\n",
       "      <th>adjusted co2 (kg)</th>\n",
       "      <th>adjusted index (g/kwh)</th>\n",
       "      <th>adjusted index (lb/mwh)</th>\n",
       "      <th>year_quarter</th>\n",
       "    </tr>\n",
       "    <tr>\n",
       "      <th>fuel category</th>\n",
       "      <th>year</th>\n",
       "      <th>quarter</th>\n",
       "      <th></th>\n",
       "      <th></th>\n",
       "      <th></th>\n",
       "      <th></th>\n",
       "      <th></th>\n",
       "      <th></th>\n",
       "      <th></th>\n",
       "      <th></th>\n",
       "      <th></th>\n",
       "    </tr>\n",
       "  </thead>\n",
       "  <tbody>\n",
       "    <tr>\n",
       "      <th rowspan=\"5\" valign=\"top\">Coal</th>\n",
       "      <th rowspan=\"4\" valign=\"top\">2001</th>\n",
       "      <th>1</th>\n",
       "      <td>5.094000e+09</td>\n",
       "      <td>482291604.0</td>\n",
       "      <td>4.976968e+09</td>\n",
       "      <td>4.740562e+11</td>\n",
       "      <td>4.778182e+11</td>\n",
       "      <td>4.854397e+11</td>\n",
       "      <td>1006.527406</td>\n",
       "      <td>2218.990320</td>\n",
       "      <td>2001 Q1</td>\n",
       "    </tr>\n",
       "    <tr>\n",
       "      <th>2</th>\n",
       "      <td>4.822767e+09</td>\n",
       "      <td>454879371.0</td>\n",
       "      <td>4.716978e+09</td>\n",
       "      <td>4.492922e+11</td>\n",
       "      <td>4.522444e+11</td>\n",
       "      <td>4.596810e+11</td>\n",
       "      <td>1010.555733</td>\n",
       "      <td>2227.871169</td>\n",
       "      <td>2001 Q2</td>\n",
       "    </tr>\n",
       "    <tr>\n",
       "      <th>3</th>\n",
       "      <td>5.521643e+09</td>\n",
       "      <td>516334801.0</td>\n",
       "      <td>5.407625e+09</td>\n",
       "      <td>5.150763e+11</td>\n",
       "      <td>5.181080e+11</td>\n",
       "      <td>5.246841e+11</td>\n",
       "      <td>1016.170400</td>\n",
       "      <td>2240.249265</td>\n",
       "      <td>2001 Q3</td>\n",
       "    </tr>\n",
       "    <tr>\n",
       "      <th>4</th>\n",
       "      <td>4.793881e+09</td>\n",
       "      <td>450450163.0</td>\n",
       "      <td>4.687877e+09</td>\n",
       "      <td>4.465203e+11</td>\n",
       "      <td>4.490041e+11</td>\n",
       "      <td>4.523317e+11</td>\n",
       "      <td>1004.177080</td>\n",
       "      <td>2213.808791</td>\n",
       "      <td>2001 Q4</td>\n",
       "    </tr>\n",
       "    <tr>\n",
       "      <th>2002</th>\n",
       "      <th>1</th>\n",
       "      <td>4.826986e+09</td>\n",
       "      <td>458892491.0</td>\n",
       "      <td>4.717666e+09</td>\n",
       "      <td>4.493577e+11</td>\n",
       "      <td>4.506617e+11</td>\n",
       "      <td>4.600400e+11</td>\n",
       "      <td>1002.500601</td>\n",
       "      <td>2210.112824</td>\n",
       "      <td>2002 Q1</td>\n",
       "    </tr>\n",
       "  </tbody>\n",
       "</table>\n",
       "</div>"
      ],
      "text/plain": [
       "                            total fuel (mmbtu)  generation (mwh)  \\\n",
       "fuel category year quarter                                         \n",
       "Coal          2001 1              5.094000e+09       482291604.0   \n",
       "                   2              4.822767e+09       454879371.0   \n",
       "                   3              5.521643e+09       516334801.0   \n",
       "                   4              4.793881e+09       450450163.0   \n",
       "              2002 1              4.826986e+09       458892491.0   \n",
       "\n",
       "                            elec fuel (mmbtu)  elec fuel co2 (kg)  \\\n",
       "fuel category year quarter                                          \n",
       "Coal          2001 1             4.976968e+09        4.740562e+11   \n",
       "                   2             4.716978e+09        4.492922e+11   \n",
       "                   3             5.407625e+09        5.150763e+11   \n",
       "                   4             4.687877e+09        4.465203e+11   \n",
       "              2002 1             4.717666e+09        4.493577e+11   \n",
       "\n",
       "                            elec fuel fossil co2 (kg)  adjusted co2 (kg)  \\\n",
       "fuel category year quarter                                                 \n",
       "Coal          2001 1                     4.778182e+11       4.854397e+11   \n",
       "                   2                     4.522444e+11       4.596810e+11   \n",
       "                   3                     5.181080e+11       5.246841e+11   \n",
       "                   4                     4.490041e+11       4.523317e+11   \n",
       "              2002 1                     4.506617e+11       4.600400e+11   \n",
       "\n",
       "                            adjusted index (g/kwh)  adjusted index (lb/mwh)  \\\n",
       "fuel category year quarter                                                    \n",
       "Coal          2001 1                   1006.527406              2218.990320   \n",
       "                   2                   1010.555733              2227.871169   \n",
       "                   3                   1016.170400              2240.249265   \n",
       "                   4                   1004.177080              2213.808791   \n",
       "              2002 1                   1002.500601              2210.112824   \n",
       "\n",
       "                           year_quarter  \n",
       "fuel category year quarter               \n",
       "Coal          2001 1            2001 Q1  \n",
       "                   2            2001 Q2  \n",
       "                   3            2001 Q3  \n",
       "                   4            2001 Q4  \n",
       "              2002 1            2002 Q1  "
      ]
     },
     "execution_count": 146,
     "metadata": {},
     "output_type": "execute_result"
    }
   ],
   "source": [
    "gen_quarter = gen_monthly.groupby(['fuel category', 'year', 'quarter']).sum()\n",
    "gen_quarter['adjusted index (g/kwh)'] = (gen_quarter['adjusted co2 (kg)']\n",
    "                                         / gen_quarter['generation (mwh)'])\n",
    "gen_quarter['adjusted index (lb/mwh)'] = gen_quarter['adjusted index (g/kwh)'] * 2.2046\n",
    "gen_quarter['year_quarter'] = (gen_quarter.index.get_level_values('year').astype(str)\n",
    "                               + ' Q'\n",
    "                               + gen_quarter.index.get_level_values('quarter').astype(str))\n",
    "\n",
    "gen_quarter.drop(columns=['month'], inplace=True)\n",
    "\n",
    "gen_quarter.head()"
   ]
  },
  {
   "cell_type": "code",
   "execution_count": 147,
   "metadata": {},
   "outputs": [
    {
     "data": {
      "text/html": [
       "<div>\n",
       "<style scoped>\n",
       "    .dataframe tbody tr th:only-of-type {\n",
       "        vertical-align: middle;\n",
       "    }\n",
       "\n",
       "    .dataframe tbody tr th {\n",
       "        vertical-align: top;\n",
       "    }\n",
       "\n",
       "    .dataframe thead th {\n",
       "        text-align: right;\n",
       "    }\n",
       "</style>\n",
       "<table border=\"1\" class=\"dataframe\">\n",
       "  <thead>\n",
       "    <tr style=\"text-align: right;\">\n",
       "      <th>fuel category</th>\n",
       "      <th>Coal</th>\n",
       "      <th>Hydro</th>\n",
       "      <th>Natural Gas</th>\n",
       "      <th>Nuclear</th>\n",
       "      <th>Other</th>\n",
       "      <th>Other Renewables</th>\n",
       "      <th>Solar</th>\n",
       "      <th>Wind</th>\n",
       "    </tr>\n",
       "    <tr>\n",
       "      <th>year_quarter</th>\n",
       "      <th></th>\n",
       "      <th></th>\n",
       "      <th></th>\n",
       "      <th></th>\n",
       "      <th></th>\n",
       "      <th></th>\n",
       "      <th></th>\n",
       "      <th></th>\n",
       "    </tr>\n",
       "  </thead>\n",
       "  <tbody>\n",
       "    <tr>\n",
       "      <th>2016 Q1</th>\n",
       "      <td>2.783367e+08</td>\n",
       "      <td>77143435.03</td>\n",
       "      <td>3.124807e+08</td>\n",
       "      <td>204311810.0</td>\n",
       "      <td>12014944.08</td>\n",
       "      <td>19599002.47</td>\n",
       "      <td>9972423.08</td>\n",
       "      <td>60544038.75</td>\n",
       "    </tr>\n",
       "    <tr>\n",
       "      <th>2016 Q2</th>\n",
       "      <td>2.698418e+08</td>\n",
       "      <td>74601277.68</td>\n",
       "      <td>3.406956e+08</td>\n",
       "      <td>196483662.0</td>\n",
       "      <td>11217089.07</td>\n",
       "      <td>18871160.64</td>\n",
       "      <td>15221929.60</td>\n",
       "      <td>55950643.49</td>\n",
       "    </tr>\n",
       "    <tr>\n",
       "      <th>2016 Q3</th>\n",
       "      <td>3.860889e+08</td>\n",
       "      <td>57392554.18</td>\n",
       "      <td>4.319093e+08</td>\n",
       "      <td>207323928.0</td>\n",
       "      <td>10983016.57</td>\n",
       "      <td>20193989.75</td>\n",
       "      <td>17163262.54</td>\n",
       "      <td>47611323.49</td>\n",
       "    </tr>\n",
       "    <tr>\n",
       "      <th>2016 Q4</th>\n",
       "      <td>3.048812e+08</td>\n",
       "      <td>58674886.41</td>\n",
       "      <td>2.931986e+08</td>\n",
       "      <td>197574548.0</td>\n",
       "      <td>9864296.10</td>\n",
       "      <td>19869341.28</td>\n",
       "      <td>12306929.89</td>\n",
       "      <td>62886556.72</td>\n",
       "    </tr>\n",
       "    <tr>\n",
       "      <th>2017 Q1</th>\n",
       "      <td>2.917082e+08</td>\n",
       "      <td>82446476.08</td>\n",
       "      <td>2.671844e+08</td>\n",
       "      <td>201774183.0</td>\n",
       "      <td>10486886.26</td>\n",
       "      <td>19901616.03</td>\n",
       "      <td>13627415.87</td>\n",
       "      <td>68963728.97</td>\n",
       "    </tr>\n",
       "    <tr>\n",
       "      <th>2017 Q2</th>\n",
       "      <td>2.820069e+08</td>\n",
       "      <td>91780415.21</td>\n",
       "      <td>2.988013e+08</td>\n",
       "      <td>185066887.0</td>\n",
       "      <td>10189620.94</td>\n",
       "      <td>19341343.45</td>\n",
       "      <td>23871870.06</td>\n",
       "      <td>68090275.09</td>\n",
       "    </tr>\n",
       "    <tr>\n",
       "      <th>2017 Q3</th>\n",
       "      <td>3.459834e+08</td>\n",
       "      <td>65841424.07</td>\n",
       "      <td>4.004177e+08</td>\n",
       "      <td>211796355.0</td>\n",
       "      <td>10195268.75</td>\n",
       "      <td>20375956.56</td>\n",
       "      <td>23312119.15</td>\n",
       "      <td>46041120.63</td>\n",
       "    </tr>\n",
       "    <tr>\n",
       "      <th>2017 Q4</th>\n",
       "      <td>2.876587e+08</td>\n",
       "      <td>59505103.34</td>\n",
       "      <td>3.045420e+08</td>\n",
       "      <td>206312210.0</td>\n",
       "      <td>10483252.65</td>\n",
       "      <td>20049532.47</td>\n",
       "      <td>15954262.49</td>\n",
       "      <td>70888373.89</td>\n",
       "    </tr>\n",
       "  </tbody>\n",
       "</table>\n",
       "</div>"
      ],
      "text/plain": [
       "fuel category          Coal        Hydro   Natural Gas      Nuclear  \\\n",
       "year_quarter                                                          \n",
       "2016 Q1        2.783367e+08  77143435.03  3.124807e+08  204311810.0   \n",
       "2016 Q2        2.698418e+08  74601277.68  3.406956e+08  196483662.0   \n",
       "2016 Q3        3.860889e+08  57392554.18  4.319093e+08  207323928.0   \n",
       "2016 Q4        3.048812e+08  58674886.41  2.931986e+08  197574548.0   \n",
       "2017 Q1        2.917082e+08  82446476.08  2.671844e+08  201774183.0   \n",
       "2017 Q2        2.820069e+08  91780415.21  2.988013e+08  185066887.0   \n",
       "2017 Q3        3.459834e+08  65841424.07  4.004177e+08  211796355.0   \n",
       "2017 Q4        2.876587e+08  59505103.34  3.045420e+08  206312210.0   \n",
       "\n",
       "fuel category        Other  Other Renewables        Solar         Wind  \n",
       "year_quarter                                                            \n",
       "2016 Q1        12014944.08       19599002.47   9972423.08  60544038.75  \n",
       "2016 Q2        11217089.07       18871160.64  15221929.60  55950643.49  \n",
       "2016 Q3        10983016.57       20193989.75  17163262.54  47611323.49  \n",
       "2016 Q4         9864296.10       19869341.28  12306929.89  62886556.72  \n",
       "2017 Q1        10486886.26       19901616.03  13627415.87  68963728.97  \n",
       "2017 Q2        10189620.94       19341343.45  23871870.06  68090275.09  \n",
       "2017 Q3        10195268.75       20375956.56  23312119.15  46041120.63  \n",
       "2017 Q4        10483252.65       20049532.47  15954262.49  70888373.89  "
      ]
     },
     "execution_count": 147,
     "metadata": {},
     "output_type": "execute_result"
    }
   ],
   "source": [
    "gen_quarter.loc[idx[:, [2016, 2017], :], :].pivot_table(values='generation (mwh)', index='year_quarter', columns='fuel category')"
   ]
  },
  {
   "cell_type": "code",
   "execution_count": 148,
   "metadata": {},
   "outputs": [
    {
     "data": {
      "text/html": [
       "<div>\n",
       "<style scoped>\n",
       "    .dataframe tbody tr th:only-of-type {\n",
       "        vertical-align: middle;\n",
       "    }\n",
       "\n",
       "    .dataframe tbody tr th {\n",
       "        vertical-align: top;\n",
       "    }\n",
       "\n",
       "    .dataframe thead th {\n",
       "        text-align: right;\n",
       "    }\n",
       "</style>\n",
       "<table border=\"1\" class=\"dataframe\">\n",
       "  <thead>\n",
       "    <tr style=\"text-align: right;\">\n",
       "      <th></th>\n",
       "      <th></th>\n",
       "      <th>total fuel (mmbtu)</th>\n",
       "      <th>generation (mwh)</th>\n",
       "      <th>elec fuel (mmbtu)</th>\n",
       "      <th>elec fuel co2 (kg)</th>\n",
       "      <th>elec fuel fossil co2 (kg)</th>\n",
       "      <th>adjusted co2 (kg)</th>\n",
       "      <th>adjusted index (g/kwh)</th>\n",
       "      <th>adjusted index (lb/mwh)</th>\n",
       "      <th>quarter</th>\n",
       "    </tr>\n",
       "    <tr>\n",
       "      <th>fuel category</th>\n",
       "      <th>year</th>\n",
       "      <th></th>\n",
       "      <th></th>\n",
       "      <th></th>\n",
       "      <th></th>\n",
       "      <th></th>\n",
       "      <th></th>\n",
       "      <th></th>\n",
       "      <th></th>\n",
       "      <th></th>\n",
       "    </tr>\n",
       "  </thead>\n",
       "  <tbody>\n",
       "    <tr>\n",
       "      <th rowspan=\"5\" valign=\"top\">Coal</th>\n",
       "      <th>2001</th>\n",
       "      <td>2.023229e+10</td>\n",
       "      <td>1.903956e+09</td>\n",
       "      <td>1.978945e+10</td>\n",
       "      <td>1.884945e+12</td>\n",
       "      <td>1.897175e+12</td>\n",
       "      <td>1.922137e+12</td>\n",
       "      <td>1009.548858</td>\n",
       "      <td>2225.651413</td>\n",
       "      <td>30</td>\n",
       "    </tr>\n",
       "    <tr>\n",
       "      <th>2002</th>\n",
       "      <td>2.041797e+10</td>\n",
       "      <td>1.933130e+09</td>\n",
       "      <td>1.999690e+10</td>\n",
       "      <td>1.904705e+12</td>\n",
       "      <td>1.911224e+12</td>\n",
       "      <td>1.951006e+12</td>\n",
       "      <td>1009.247234</td>\n",
       "      <td>2224.986452</td>\n",
       "      <td>30</td>\n",
       "    </tr>\n",
       "    <tr>\n",
       "      <th>2003</th>\n",
       "      <td>2.078358e+10</td>\n",
       "      <td>1.973737e+09</td>\n",
       "      <td>2.036688e+10</td>\n",
       "      <td>1.939946e+12</td>\n",
       "      <td>1.946207e+12</td>\n",
       "      <td>1.986245e+12</td>\n",
       "      <td>1006.337463</td>\n",
       "      <td>2218.571571</td>\n",
       "      <td>30</td>\n",
       "    </tr>\n",
       "    <tr>\n",
       "      <th>2004</th>\n",
       "      <td>2.094025e+10</td>\n",
       "      <td>1.978301e+09</td>\n",
       "      <td>2.037575e+10</td>\n",
       "      <td>1.940790e+12</td>\n",
       "      <td>1.945684e+12</td>\n",
       "      <td>1.968793e+12</td>\n",
       "      <td>995.193906</td>\n",
       "      <td>2194.004484</td>\n",
       "      <td>30</td>\n",
       "    </tr>\n",
       "    <tr>\n",
       "      <th>2005</th>\n",
       "      <td>2.135038e+10</td>\n",
       "      <td>2.012873e+09</td>\n",
       "      <td>2.080172e+10</td>\n",
       "      <td>1.981363e+12</td>\n",
       "      <td>1.982397e+12</td>\n",
       "      <td>1.994736e+12</td>\n",
       "      <td>990.989297</td>\n",
       "      <td>2184.735004</td>\n",
       "      <td>30</td>\n",
       "    </tr>\n",
       "  </tbody>\n",
       "</table>\n",
       "</div>"
      ],
      "text/plain": [
       "                    total fuel (mmbtu)  generation (mwh)  elec fuel (mmbtu)  \\\n",
       "fuel category year                                                            \n",
       "Coal          2001        2.023229e+10      1.903956e+09       1.978945e+10   \n",
       "              2002        2.041797e+10      1.933130e+09       1.999690e+10   \n",
       "              2003        2.078358e+10      1.973737e+09       2.036688e+10   \n",
       "              2004        2.094025e+10      1.978301e+09       2.037575e+10   \n",
       "              2005        2.135038e+10      2.012873e+09       2.080172e+10   \n",
       "\n",
       "                    elec fuel co2 (kg)  elec fuel fossil co2 (kg)  \\\n",
       "fuel category year                                                  \n",
       "Coal          2001        1.884945e+12               1.897175e+12   \n",
       "              2002        1.904705e+12               1.911224e+12   \n",
       "              2003        1.939946e+12               1.946207e+12   \n",
       "              2004        1.940790e+12               1.945684e+12   \n",
       "              2005        1.981363e+12               1.982397e+12   \n",
       "\n",
       "                    adjusted co2 (kg)  adjusted index (g/kwh)  \\\n",
       "fuel category year                                              \n",
       "Coal          2001       1.922137e+12             1009.548858   \n",
       "              2002       1.951006e+12             1009.247234   \n",
       "              2003       1.986245e+12             1006.337463   \n",
       "              2004       1.968793e+12              995.193906   \n",
       "              2005       1.994736e+12              990.989297   \n",
       "\n",
       "                    adjusted index (lb/mwh)  quarter  \n",
       "fuel category year                                    \n",
       "Coal          2001              2225.651413       30  \n",
       "              2002              2224.986452       30  \n",
       "              2003              2218.571571       30  \n",
       "              2004              2194.004484       30  \n",
       "              2005              2184.735004       30  "
      ]
     },
     "execution_count": 148,
     "metadata": {},
     "output_type": "execute_result"
    }
   ],
   "source": [
    "gen_annual = gen_monthly.groupby(['fuel category', 'year']).sum()\n",
    "gen_annual['adjusted index (g/kwh)'] = (gen_annual['adjusted co2 (kg)']\n",
    "                                         / gen_annual['generation (mwh)'])\n",
    "gen_annual['adjusted index (lb/mwh)'] = gen_annual['adjusted index (g/kwh)'] * 2.2046\n",
    "\n",
    "gen_annual.drop(columns=['month'], inplace=True)\n",
    "\n",
    "gen_annual.head()"
   ]
  },
  {
   "cell_type": "code",
   "execution_count": 149,
   "metadata": {},
   "outputs": [],
   "source": [
    "path = join(data_path, 'Website results',\n",
    "            'Monthly generation {}.csv'.format(export_quarter))\n",
    "gen_monthly.to_csv(path, index=False)"
   ]
  },
  {
   "cell_type": "code",
   "execution_count": 150,
   "metadata": {},
   "outputs": [],
   "source": [
    "path = join(data_path, 'Website results',\n",
    "            'Quarterly generation {}.csv'.format(export_quarter))\n",
    "gen_quarter.to_csv(path)"
   ]
  },
  {
   "cell_type": "code",
   "execution_count": 151,
   "metadata": {},
   "outputs": [],
   "source": [
    "path = join(data_path, 'Website results',\n",
    "            'Annual generation {}.csv'.format(export_quarter))\n",
    "gen_annual.to_csv(path)"
   ]
  },
  {
   "cell_type": "code",
   "execution_count": 152,
   "metadata": {},
   "outputs": [],
   "source": [
    "path = join(data_path, 'Website results',\n",
    "            '{} US Generation By Fuel Type.xlsx'.format(export_quarter))\n",
    "writer = pd.ExcelWriter(path)\n",
    "\n",
    "gen_monthly.to_excel(writer, sheet_name='Monthly', index=False)\n",
    "\n",
    "gen_quarter.to_excel(writer, sheet_name='Quarterly')\n",
    "\n",
    "gen_annual.to_excel(writer, sheet_name='Annual')\n",
    "writer.save()"
   ]
  },
  {
   "cell_type": "markdown",
   "metadata": {},
   "source": [
    "### Percent generation by custom fuel type"
   ]
  },
  {
   "cell_type": "code",
   "execution_count": null,
   "metadata": {
    "ExecuteTime": {
     "end_time": "2017-10-31T19:16:32.688527Z",
     "start_time": "2017-10-31T19:16:32.649752Z"
    },
    "collapsed": true
   },
   "outputs": [],
   "source": [
    "df_list = []\n",
    "for fuel in national_gen_cat.index.get_level_values('fuel category').unique():\n",
    "    percent_gen = national_gen_cat.loc[fuel].divide(total_gen, fill_value=0)\n",
    "    percent_gen['fuel category'] = fuel\n",
    "    percent_gen.set_index('fuel category', inplace=True, append=True)\n",
    "    df_list.append(percent_gen)\n",
    "percent_gen = pd.concat(df_list)"
   ]
  },
  {
   "cell_type": "code",
   "execution_count": null,
   "metadata": {
    "collapsed": true
   },
   "outputs": [],
   "source": [
    "path = join(data_path, 'National data',\n",
    "            'National generation {}.csv'.format(file_date))\n",
    "national_gen_cat.to_csv(path)\n",
    "\n",
    "path = join(data_path, 'National data',\n",
    "            'National percent gen {}.csv'.format(file_date))\n",
    "percent_gen.to_csv(path)"
   ]
  },
  {
   "cell_type": "markdown",
   "metadata": {},
   "source": [
    "## Facility state and lat/lon file generation\n",
    "~~Create a .csv with lat/lon and state code for each facility. Need to manually add the NERC region label.~~ ~~I've done this with a spatial join between the lat/lon and NERC shapefiles in QGIS. It should be possible to do the spatial join in [GeoPandas](http://geopandas.org/).  Could also add custom region labels (e.g. eGRID subregions, ISO/RTO boundaries, etc).~~\n",
    "\n",
    "This isn't possible with a spatial join because NERC regions aren't strictly based on geography. Instead, I've taken the NERC codes from EIA-860 and assigned unknown plants (mostly those that retired before 2012 when modern NERCs were mostly defined, and those that were assigned a plant id in 2017) NERC labels using a k-nearest neighbors algorithm and lat/lon information.\n",
    "\n",
    "See the `Assign NERC region labels` notebook for the creation of this file."
   ]
  },
  {
   "cell_type": "markdown",
   "metadata": {},
   "source": [
    "## Fraction of estimated gen/fuels in each NERC region\n",
    "\n",
    "**NOTE** EIA changed the reporting requirements for wind and solar facilities in 2017. I'm now going to use the list of annual facilities from 2017 rather than from 2015, but still use the reported generation by those facilities in 2015."
   ]
  },
  {
   "cell_type": "code",
   "execution_count": null,
   "metadata": {
    "ExecuteTime": {
     "end_time": "2017-11-06T17:06:53.740258Z",
     "start_time": "2017-11-06T17:06:53.735390Z"
    },
    "collapsed": true
   },
   "outputs": [],
   "source": [
    "%aimport Data.make_data\n",
    "from Data.make_data import get_annual_plants"
   ]
  },
  {
   "cell_type": "code",
   "execution_count": null,
   "metadata": {
    "ExecuteTime": {
     "end_time": "2017-11-06T17:07:38.755682Z",
     "start_time": "2017-11-06T17:07:11.747334Z"
    },
    "collapsed": true
   },
   "outputs": [],
   "source": [
    "annual_ids_2015 = get_annual_plants(2015)"
   ]
  },
  {
   "cell_type": "code",
   "execution_count": null,
   "metadata": {
    "ExecuteTime": {
     "end_time": "2017-11-06T17:07:57.886913Z",
     "start_time": "2017-11-06T17:07:38.757559Z"
    },
    "collapsed": true
   },
   "outputs": [],
   "source": [
    "annual_ids_2017 = get_annual_plants(2017)"
   ]
  },
  {
   "cell_type": "markdown",
   "metadata": {},
   "source": [
    "Combine the lists of annual plants in 2015 and 2017. This lets us catch facilities that have gone from monthly to annual since 2015, but it also includes plants that were annual in 2015 an may have retired.\n",
    "\n",
    "There is the possibility of an error in allocation to NERC regions for 2016 state-level generation when using the facilities that changed to annual in 2017. But since the state-level generation is so much smaller in 2016 I don't think this is much of an issue."
   ]
  },
  {
   "cell_type": "code",
   "execution_count": null,
   "metadata": {
    "ExecuteTime": {
     "end_time": "2017-11-06T17:08:20.140523Z",
     "start_time": "2017-11-06T17:08:20.128770Z"
    },
    "collapsed": true
   },
   "outputs": [],
   "source": [
    "annual_ids = set(annual_ids_2015.tolist() + annual_ids_2017.tolist())"
   ]
  },
  {
   "cell_type": "code",
   "execution_count": null,
   "metadata": {
    "ExecuteTime": {
     "end_time": "2017-11-06T17:08:20.153975Z",
     "start_time": "2017-11-06T17:08:20.142993Z"
    }
   },
   "outputs": [],
   "source": [
    "len(annual_ids)"
   ]
  },
  {
   "cell_type": "markdown",
   "metadata": {},
   "source": [
    "### Add NERC region labels"
   ]
  },
  {
   "cell_type": "code",
   "execution_count": null,
   "metadata": {
    "ExecuteTime": {
     "end_time": "2017-11-06T17:08:20.165890Z",
     "start_time": "2017-11-06T17:08:20.156452Z"
    },
    "collapsed": true
   },
   "outputs": [],
   "source": [
    "%aimport Analysis.state2nerc\n",
    "from Analysis.state2nerc import fraction_state2nerc, add_region"
   ]
  },
  {
   "cell_type": "code",
   "execution_count": null,
   "metadata": {
    "ExecuteTime": {
     "end_time": "2017-11-06T17:08:20.206633Z",
     "start_time": "2017-11-06T17:08:20.168272Z"
    },
    "collapsed": true
   },
   "outputs": [],
   "source": [
    "cwd = os.getcwd()\n",
    "path = join(data_path, 'Facility labels',\n",
    "            'Facility locations_knn.csv')\n",
    "location_labels = pd.read_csv(path)"
   ]
  },
  {
   "cell_type": "code",
   "execution_count": null,
   "metadata": {
    "ExecuteTime": {
     "end_time": "2017-11-06T17:08:20.225873Z",
     "start_time": "2017-11-06T17:08:20.209690Z"
    },
    "collapsed": true
   },
   "outputs": [],
   "source": [
    "nerc_state_path = join(data_path, 'Derived data',\n",
    "                  'NERC_states.json')\n",
    "\n",
    "with open(nerc_state_path, 'r') as f:\n",
    "    nerc_states = json.load(f)"
   ]
  },
  {
   "cell_type": "markdown",
   "metadata": {},
   "source": [
    "Added the filter that year must be 2015 - was getting all 2015 annual plants, but for all years!"
   ]
  },
  {
   "cell_type": "code",
   "execution_count": null,
   "metadata": {
    "ExecuteTime": {
     "end_time": "2017-11-06T17:08:20.746670Z",
     "start_time": "2017-11-06T17:08:20.229488Z"
    },
    "collapsed": true
   },
   "outputs": [],
   "source": [
    "eia_2015_annual = eia_fac.loc[(eia_fac['plant id'].isin(annual_ids)) & \n",
    "                              (eia_fac['year'] == 2015)].copy()\n",
    "\n",
    "# Group to state-level fuel categories\n",
    "eia_2015_annual = group_fuel_cats(eia_2015_annual, state_fuel_cat)"
   ]
  },
  {
   "cell_type": "code",
   "execution_count": null,
   "metadata": {
    "ExecuteTime": {
     "end_time": "2017-11-06T17:08:20.808948Z",
     "start_time": "2017-11-06T17:08:20.748469Z"
    },
    "collapsed": true
   },
   "outputs": [],
   "source": [
    "eia_2015_annual_nerc = add_facility_location(eia_2015_annual, location_labels, \n",
    "                                        labels=['state', 'nerc'])"
   ]
  },
  {
   "cell_type": "markdown",
   "metadata": {},
   "source": [
    "This is 2015 data on annual reporting facilities (from both 2015 and 2017)"
   ]
  },
  {
   "cell_type": "code",
   "execution_count": null,
   "metadata": {
    "ExecuteTime": {
     "end_time": "2017-11-06T17:08:36.285221Z",
     "start_time": "2017-11-06T17:08:36.277897Z"
    },
    "collapsed": true
   },
   "outputs": [],
   "source": [
    "# Get a list of all state abbreviations\n",
    "\n",
    "all_states = []\n",
    "for value in nerc_states.values():\n",
    "    all_states.extend(value)\n",
    "all_states = set(all_states)"
   ]
  },
  {
   "cell_type": "code",
   "execution_count": null,
   "metadata": {
    "ExecuteTime": {
     "end_time": "2017-11-06T17:08:38.924387Z",
     "start_time": "2017-11-06T17:08:36.287865Z"
    }
   },
   "outputs": [],
   "source": [
    "df_list = []\n",
    "\n",
    "for state in all_states:\n",
    "    try:\n",
    "        df_list.append(fraction_state2nerc(eia_2015_annual_nerc,\n",
    "                       state, region_col='nerc', fuel_col='type'))\n",
    "    except:\n",
    "        print(state)\n",
    "        pass"
   ]
  },
  {
   "cell_type": "code",
   "execution_count": null,
   "metadata": {
    "ExecuteTime": {
     "end_time": "2017-11-06T17:08:38.970750Z",
     "start_time": "2017-11-06T17:08:38.928892Z"
    },
    "collapsed": true
   },
   "outputs": [],
   "source": [
    "nerc_fraction = pd.concat(df_list)\n",
    "nerc_fraction.set_index(['state', 'nerc', 'type'], inplace=True)\n",
    "nerc_fraction.sort_index(inplace=True)"
   ]
  },
  {
   "cell_type": "markdown",
   "metadata": {},
   "source": [
    "With the values below I can allocate extra state-level generation and fuel use to each of the NERC regions!"
   ]
  },
  {
   "cell_type": "markdown",
   "metadata": {},
   "source": [
    "Making sure that no values are greater than 1 (within tolerance)"
   ]
  },
  {
   "cell_type": "code",
   "execution_count": null,
   "metadata": {
    "ExecuteTime": {
     "end_time": "2017-11-06T17:16:30.022250Z",
     "start_time": "2017-11-06T17:16:30.012576Z"
    }
   },
   "outputs": [],
   "source": [
    "(nerc_fraction.groupby(['state', 'type']).sum() > 1.0001).any()"
   ]
  },
  {
   "cell_type": "markdown",
   "metadata": {},
   "source": [
    "## Allocate extra gen from the state-level to regions\n",
    "\n",
    "I still need to generate state-level total generation and fuel use!"
   ]
  },
  {
   "cell_type": "code",
   "execution_count": null,
   "metadata": {
    "ExecuteTime": {
     "end_time": "2017-11-06T17:17:13.954207Z",
     "start_time": "2017-11-06T17:17:13.950071Z"
    },
    "collapsed": true
   },
   "outputs": [],
   "source": [
    "idx = pd.IndexSlice"
   ]
  },
  {
   "cell_type": "code",
   "execution_count": null,
   "metadata": {
    "ExecuteTime": {
     "end_time": "2017-11-06T17:17:21.163335Z",
     "start_time": "2017-11-06T17:17:21.158742Z"
    },
    "collapsed": true
   },
   "outputs": [],
   "source": [
    "# a dictionary to match column names\n",
    "nerc_frac_match = {'% generation': 'generation (mwh)',\n",
    "                   '% total fuel': 'total fuel (mmbtu)',\n",
    "                   '% elec fuel': 'elec fuel (mmbtu)'}"
   ]
  },
  {
   "cell_type": "markdown",
   "metadata": {},
   "source": [
    "### Load state-level total gen/fuel consumption"
   ]
  },
  {
   "cell_type": "code",
   "execution_count": null,
   "metadata": {
    "ExecuteTime": {
     "end_time": "2017-11-06T17:17:24.615168Z",
     "start_time": "2017-11-06T17:17:24.212473Z"
    },
    "collapsed": true
   },
   "outputs": [],
   "source": [
    "path = join(data_path, 'Derived data',\n",
    "            'EIA state-level gen fuel CO2 {}.csv'.format(file_date))\n",
    "\n",
    "state_total = pd.read_csv(path, parse_dates=['datetime'])"
   ]
  },
  {
   "cell_type": "code",
   "execution_count": null,
   "metadata": {
    "ExecuteTime": {
     "end_time": "2017-11-06T17:17:26.684456Z",
     "start_time": "2017-11-06T17:17:26.625319Z"
    },
    "collapsed": true
   },
   "outputs": [],
   "source": [
    "rename_cols(state_total)\n",
    "state_total['state'] = state_total['geography'].str[-2:]"
   ]
  },
  {
   "cell_type": "markdown",
   "metadata": {},
   "source": [
    "Simplify the dataframe"
   ]
  },
  {
   "cell_type": "code",
   "execution_count": null,
   "metadata": {
    "ExecuteTime": {
     "end_time": "2017-11-06T17:17:33.931547Z",
     "start_time": "2017-11-06T17:17:33.823487Z"
    }
   },
   "outputs": [],
   "source": [
    "cols = list(nerc_frac_match.values())\n",
    "state_total = state_total.groupby(['state', 'year', 'month', 'type'])[cols].sum()"
   ]
  },
  {
   "cell_type": "code",
   "execution_count": null,
   "metadata": {
    "ExecuteTime": {
     "end_time": "2017-11-06T17:17:37.589401Z",
     "start_time": "2017-11-06T17:17:37.584045Z"
    },
    "collapsed": true
   },
   "outputs": [],
   "source": [
    "# list of NERC regions\n",
    "nercs = nerc_fraction.index.get_level_values('nerc').unique()"
   ]
  },
  {
   "cell_type": "markdown",
   "metadata": {},
   "source": [
    "### Group the facility data to state fuel categories and add state labels"
   ]
  },
  {
   "cell_type": "code",
   "execution_count": null,
   "metadata": {
    "ExecuteTime": {
     "end_time": "2017-11-06T17:18:04.557540Z",
     "start_time": "2017-11-06T17:17:58.399196Z"
    },
    "collapsed": true
   },
   "outputs": [],
   "source": [
    "cols = list(nerc_frac_match.values())\n",
    "eia_fac_type = group_fuel_cats(eia_fac, state_fuel_cat)\n",
    "eia_fac_type = add_facility_location(eia_fac_type, location_labels, ['state'])\n",
    "eia_fac_type = eia_fac_type.groupby(['state', 'year', 'month', 'type'])[cols].sum()"
   ]
  },
  {
   "cell_type": "markdown",
   "metadata": {},
   "source": [
    "### Calculate the extra gen/fuel consumption at the state levels\n",
    "**Only worrying about extra generation from 2016 forward.**"
   ]
  },
  {
   "cell_type": "code",
   "execution_count": null,
   "metadata": {
    "ExecuteTime": {
     "end_time": "2017-11-06T17:18:29.739841Z",
     "start_time": "2017-11-06T17:18:29.638943Z"
    }
   },
   "outputs": [],
   "source": [
    "state_extra = (state_total.loc[idx[:, 2016:, :, :], :]\n",
    "               - eia_fac_type.loc[idx[:, 2016:, :, :], :])\n",
    "state_extra.dropna(how='all', inplace=True)\n",
    "state_extra = state_extra.reorder_levels(['year', 'state', 'month', 'type'])\n",
    "state_extra.sort_index(inplace=True)"
   ]
  },
  {
   "cell_type": "markdown",
   "metadata": {},
   "source": [
    "Sort the index of each dataframe to make sure they can be easily combined."
   ]
  },
  {
   "cell_type": "code",
   "execution_count": null,
   "metadata": {
    "ExecuteTime": {
     "end_time": "2017-11-06T17:18:29.824834Z",
     "start_time": "2017-11-06T17:18:29.801409Z"
    }
   },
   "outputs": [],
   "source": [
    "nerc_fraction.sort_index(inplace=True)"
   ]
  },
  {
   "cell_type": "code",
   "execution_count": null,
   "metadata": {
    "ExecuteTime": {
     "end_time": "2017-11-06T17:18:29.851377Z",
     "start_time": "2017-11-06T17:18:29.826926Z"
    }
   },
   "outputs": [],
   "source": [
    "state_extra.sort_index(inplace=True)"
   ]
  },
  {
   "cell_type": "markdown",
   "metadata": {},
   "source": [
    "Create a copy of the `nerc_fraction` dataframe with repeated values for every month of the year, so that they MultiIndex matches the `state_extra` MultiIndex"
   ]
  },
  {
   "cell_type": "code",
   "execution_count": null,
   "metadata": {
    "ExecuteTime": {
     "end_time": "2017-11-06T17:18:29.913157Z",
     "start_time": "2017-11-06T17:18:29.853842Z"
    },
    "collapsed": true
   },
   "outputs": [],
   "source": [
    "df_list = []\n",
    "for month in range(1, 13):\n",
    "    df = nerc_fraction.copy()\n",
    "    df['month'] = month\n",
    "    df.set_index('month', append=True, inplace=True)\n",
    "    df_list.append(df)\n",
    "\n",
    "nerc_frac_monthly = pd.concat(df_list, axis=0)\n",
    "nerc_frac_monthly.sort_index(inplace=True)\n",
    "nerc_frac_monthly = (nerc_frac_monthly\n",
    "                     .reorder_levels(['nerc', 'state', 'month', 'type']))"
   ]
  },
  {
   "cell_type": "markdown",
   "metadata": {},
   "source": [
    "Cycle through each year (2016 and 2017 in this case) and each NERC, multiplying the state-level extra generation, total fuel consumption, and fuel consumption for electricity by the share that should be allocated to each NERC."
   ]
  },
  {
   "cell_type": "code",
   "execution_count": null,
   "metadata": {
    "ExecuteTime": {
     "end_time": "2017-11-06T17:18:31.126440Z",
     "start_time": "2017-11-06T17:18:29.923008Z"
    },
    "collapsed": true
   },
   "outputs": [],
   "source": [
    "df_list_outer = []\n",
    "for year in [2016, 2017]:\n",
    "    df_list_inner = []\n",
    "    for nerc in nercs:\n",
    "        df = pd.concat([(nerc_frac_monthly\n",
    "                         .loc[nerc]['% generation']\n",
    "                         * state_extra\n",
    "                         .loc[year]['generation (mwh)']).dropna(),\n",
    "                        (nerc_frac_monthly.\n",
    "                         loc[nerc]['% total fuel']\n",
    "                         * state_extra\n",
    "                         .loc[year]['total fuel (mmbtu)']).dropna(),\n",
    "                        (nerc_frac_monthly\n",
    "                         .loc[nerc]['% elec fuel']\n",
    "                         * state_extra\n",
    "                         .loc[year]['elec fuel (mmbtu)']).dropna()],\n",
    "                        axis=1)\n",
    "        df.columns = nerc_frac_match.values()\n",
    "        df['nerc'] = nerc\n",
    "        df['year'] = year\n",
    "        df = df.groupby(['year', 'nerc', 'month', 'type']).sum()\n",
    "        df_list_inner.append(df)\n",
    "\n",
    "    df_list_outer.append(pd.concat(df_list_inner))\n",
    "final = pd.concat(df_list_outer)\n",
    "final.sort_index(inplace=True)"
   ]
  },
  {
   "cell_type": "code",
   "execution_count": null,
   "metadata": {
    "ExecuteTime": {
     "end_time": "2017-11-06T17:18:31.155192Z",
     "start_time": "2017-11-06T17:18:31.129610Z"
    },
    "collapsed": true
   },
   "outputs": [],
   "source": [
    "nerc_frac_monthly.sort_index(inplace=True)"
   ]
  },
  {
   "cell_type": "markdown",
   "metadata": {},
   "source": [
    "Although the dataframe is called `final`, it's really just the final allocated extra state-level generation/fuel consumption"
   ]
  },
  {
   "cell_type": "code",
   "execution_count": null,
   "metadata": {
    "ExecuteTime": {
     "end_time": "2017-11-06T17:19:01.406924Z",
     "start_time": "2017-11-06T17:19:01.377498Z"
    },
    "collapsed": true
   },
   "outputs": [],
   "source": [
    "path = join(data_path, 'Derived data',\n",
    "            'NERC extra gen fuels {}.csv'.format(file_date))\n",
    "final.to_csv(path)"
   ]
  },
  {
   "cell_type": "code",
   "execution_count": null,
   "metadata": {},
   "outputs": [],
   "source": []
  }
 ],
 "metadata": {
  "kernelspec": {
   "display_name": "psci",
   "language": "python",
   "name": "psci"
  },
  "language_info": {
   "codemirror_mode": {
    "name": "ipython",
    "version": 3
   },
   "file_extension": ".py",
   "mimetype": "text/x-python",
   "name": "python",
   "nbconvert_exporter": "python",
   "pygments_lexer": "ipython3",
   "version": "3.6.4"
  },
  "varInspector": {
   "cols": {
    "lenName": 16,
    "lenType": 16,
    "lenVar": 40
   },
   "kernels_config": {
    "python": {
     "delete_cmd_postfix": "",
     "delete_cmd_prefix": "del ",
     "library": "var_list.py",
     "varRefreshCmd": "print(var_dic_list())"
    },
    "r": {
     "delete_cmd_postfix": ") ",
     "delete_cmd_prefix": "rm(",
     "library": "var_list.r",
     "varRefreshCmd": "cat(var_dic_list()) "
    }
   },
   "types_to_exclude": [
    "module",
    "function",
    "builtin_function_or_method",
    "instance",
    "_Feature"
   ],
   "window_display": false
  }
 },
 "nbformat": 4,
 "nbformat_minor": 2
}
