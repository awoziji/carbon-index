{
 "cells": [
  {
   "cell_type": "markdown",
   "metadata": {},
   "source": [
    "# Combine national and NERC data\n",
    "Take the various file (EIA facilities, EIA state-level totals, EPA emissions, etc) and combine them to determine total generation, CO₂ emissions, etc nationally and at NERC regions.\n",
    "\n",
    "## Instructions\n",
    "Make sure the `file_date` parameter below is set to whatever value you would like appended to file names.\n",
    "\n",
    "In **Calculate the extra gen/fuel consumption at the state levels** add years after 2017 in the `for` loop if needed.\n",
    "\n",
    "In **Fraction of estimated gen/fuels in each NERC region** update the years that plant ids for annual plants are fetched from EIA-923 files.\n",
    "\n",
    "The entire notebook can be run at once using *Run All Cells*"
   ]
  },
  {
   "cell_type": "code",
   "execution_count": 1,
   "metadata": {},
   "outputs": [],
   "source": [
    "%load_ext autoreload\n",
    "%autoreload 2"
   ]
  },
  {
   "cell_type": "code",
   "execution_count": 2,
   "metadata": {
    "ExecuteTime": {
     "end_time": "2017-11-06T16:59:58.123948Z",
     "start_time": "2017-11-06T16:59:57.181973Z"
    },
    "collapsed": true
   },
   "outputs": [],
   "source": [
    "import pandas as pd\n",
    "import numpy as np\n",
    "import os\n",
    "from os.path import join\n",
    "import sys\n",
    "import json\n",
    "\n",
    "\n",
    "idx = pd.IndexSlice\n",
    "cwd = os.getcwd()\n",
    "# data_path = join(cwd, '..', 'Data storage')"
   ]
  },
  {
   "cell_type": "markdown",
   "metadata": {},
   "source": [
    "### Date string for filenames\n",
    "This will be inserted into all filenames (reading and writing)"
   ]
  },
  {
   "cell_type": "code",
   "execution_count": null,
   "metadata": {},
   "outputs": [],
   "source": [
    "file_date = '2018-06-15'"
   ]
  },
  {
   "cell_type": "code",
   "execution_count": null,
   "metadata": {
    "ExecuteTime": {
     "end_time": "2017-11-06T16:59:59.331142Z",
     "start_time": "2017-11-06T16:59:59.317352Z"
    }
   },
   "outputs": [],
   "source": [
    "%load_ext watermark\n",
    "%watermark -iv -v"
   ]
  },
  {
   "cell_type": "code",
   "execution_count": null,
   "metadata": {
    "ExecuteTime": {
     "end_time": "2017-11-06T17:00:18.821185Z",
     "start_time": "2017-11-06T17:00:18.788505Z"
    },
    "collapsed": true
   },
   "outputs": [],
   "source": [
    "# Load the \"autoreload\" extension\n",
    "%load_ext autoreload\n",
    "\n",
    "# always reload modules marked with \"%aimport\"\n",
    "%autoreload 1"
   ]
  },
  {
   "cell_type": "code",
   "execution_count": null,
   "metadata": {
    "ExecuteTime": {
     "end_time": "2017-11-06T17:00:18.827565Z",
     "start_time": "2017-11-06T17:00:18.822931Z"
    },
    "collapsed": true
   },
   "outputs": [],
   "source": [
    "# add the 'src' directory as one where we can import modules\n",
    "src_dir = join(os.getcwd(), os.pardir, 'src')\n",
    "sys.path.append(src_dir)"
   ]
  },
  {
   "cell_type": "code",
   "execution_count": null,
   "metadata": {},
   "outputs": [],
   "source": []
  },
  {
   "cell_type": "code",
   "execution_count": 86,
   "metadata": {},
   "outputs": [
    {
     "ename": "ImportError",
     "evalue": "cannot import name 'NERCS'",
     "output_type": "error",
     "traceback": [
      "\u001b[0;31m---------------------------------------------------------------------------\u001b[0m",
      "\u001b[0;31mImportError\u001b[0m                               Traceback (most recent call last)",
      "\u001b[0;32m<ipython-input-86-aa585f854673>\u001b[0m in \u001b[0;36m<module>\u001b[0;34m()\u001b[0m\n\u001b[1;32m     12\u001b[0m )\n\u001b[1;32m     13\u001b[0m \u001b[0;32mfrom\u001b[0m \u001b[0msrc\u001b[0m\u001b[0;34m.\u001b[0m\u001b[0mutil\u001b[0m \u001b[0;32mimport\u001b[0m \u001b[0madd_quarter\u001b[0m\u001b[0;34m,\u001b[0m \u001b[0madd_facility_location\u001b[0m\u001b[0;34m,\u001b[0m \u001b[0mrename_cols\u001b[0m\u001b[0;34m\u001b[0m\u001b[0;34m\u001b[0m\u001b[0m\n\u001b[0;32m---> 14\u001b[0;31m from src.params import (\n\u001b[0m\u001b[1;32m     15\u001b[0m     \u001b[0mDATA_DATE\u001b[0m\u001b[0;34m,\u001b[0m\u001b[0;34m\u001b[0m\u001b[0;34m\u001b[0m\u001b[0m\n\u001b[1;32m     16\u001b[0m     \u001b[0mDATA_PATHS\u001b[0m\u001b[0;34m,\u001b[0m\u001b[0;34m\u001b[0m\u001b[0;34m\u001b[0m\u001b[0m\n",
      "\u001b[0;31mImportError\u001b[0m: cannot import name 'NERCS'"
     ]
    },
    {
     "name": "stdout",
     "output_type": "stream",
     "text": [
      "> \u001b[0;32m<ipython-input-86-aa585f854673>\u001b[0m(14)\u001b[0;36m<module>\u001b[0;34m()\u001b[0m\n",
      "\u001b[0;32m     12 \u001b[0;31m)\n",
      "\u001b[0m\u001b[0;32m     13 \u001b[0;31m\u001b[0;32mfrom\u001b[0m \u001b[0msrc\u001b[0m\u001b[0;34m.\u001b[0m\u001b[0mutil\u001b[0m \u001b[0;32mimport\u001b[0m \u001b[0madd_quarter\u001b[0m\u001b[0;34m,\u001b[0m \u001b[0madd_facility_location\u001b[0m\u001b[0;34m,\u001b[0m \u001b[0mrename_cols\u001b[0m\u001b[0;34m\u001b[0m\u001b[0;34m\u001b[0m\u001b[0m\n",
      "\u001b[0m\u001b[0;32m---> 14 \u001b[0;31mfrom src.params import (\n",
      "\u001b[0m\u001b[0;32m     15 \u001b[0;31m    \u001b[0mDATA_DATE\u001b[0m\u001b[0;34m,\u001b[0m\u001b[0;34m\u001b[0m\u001b[0;34m\u001b[0m\u001b[0m\n",
      "\u001b[0m\u001b[0;32m     16 \u001b[0;31m    \u001b[0mDATA_PATHS\u001b[0m\u001b[0;34m,\u001b[0m\u001b[0;34m\u001b[0m\u001b[0;34m\u001b[0m\u001b[0m\n",
      "\u001b[0m\n"
     ]
    }
   ],
   "source": [
    "from src.analysis.index import (\n",
    "    facility_emission_gen,\n",
    "    group_facility_data,\n",
    "    g2lb,\n",
    "    change_since_2005,\n",
    "    generation_index,\n",
    "    facility_co2,\n",
    "    adjust_epa_emissions,\n",
    "    group_fuel_cats,\n",
    "    extra_emissions_gen,\n",
    "    reduce_emission_factors\n",
    ")\n",
    "from src.util import add_quarter, add_facility_location, rename_cols\n",
    "from src.params import (\n",
    "    DATA_DATE,\n",
    "    DATA_PATHS,\n",
    "    QUARTER_YEAR,\n",
    "    STATE_FACILITY_FUELS,\n",
    "    CUSTOM_FUELS,\n",
    "    FINAL_DATA_YEAR,\n",
    "    STATES,\n",
    "    NERCS\n",
    ")\n",
    "\n",
    "prev_year = FINAL_DATA_YEAR - 1"
   ]
  },
  {
   "cell_type": "code",
   "execution_count": null,
   "metadata": {
    "ExecuteTime": {
     "end_time": "2017-11-06T17:00:18.846980Z",
     "start_time": "2017-11-06T17:00:18.830372Z"
    },
    "collapsed": true
   },
   "outputs": [],
   "source": [
    "# %aimport src.data.make_data\n",
    "# from src.data.make_data import states_in_nerc\n",
    "%aimport src.analysis.index\n",
    "from Analysis.index import facility_emission_gen, group_facility_data, add_quarter\n",
    "%aimport Analysis.index\n",
    "from Analysis.index import g2lb, change_since_2005, generation_index\n",
    "%aimport Analysis.index\n",
    "from Analysis.index import facility_co2, adjust_epa_emissions, group_fuel_cats\n",
    "%aimport src.util\n",
    "from src.util import rename_cols, add_facility_location"
   ]
  },
  {
   "cell_type": "markdown",
   "metadata": {},
   "source": [
    "## Load data"
   ]
  },
  {
   "cell_type": "code",
   "execution_count": null,
   "metadata": {
    "ExecuteTime": {
     "end_time": "2017-11-06T17:00:25.783044Z",
     "start_time": "2017-11-06T17:00:18.849846Z"
    },
    "collapsed": true
   },
   "outputs": [],
   "source": [
    "# cwd = os.getcwd()\n",
    "# path = join(data_path, 'Derived data',\n",
    "#             'Facility gen fuels and CO2 {}.csv'.format(file_date))\n",
    "\n",
    "\n",
    "eia_fac = pd.read_csv(path)"
   ]
  },
  {
   "cell_type": "code",
   "execution_count": null,
   "metadata": {
    "ExecuteTime": {
     "end_time": "2017-11-06T17:00:26.096215Z",
     "start_time": "2017-11-06T17:00:25.785006Z"
    },
    "collapsed": true
   },
   "outputs": [],
   "source": [
    "rename_cols(eia_fac)"
   ]
  },
  {
   "cell_type": "code",
   "execution_count": null,
   "metadata": {
    "ExecuteTime": {
     "end_time": "2017-11-06T17:00:26.526228Z",
     "start_time": "2017-11-06T17:00:26.144542Z"
    },
    "collapsed": true
   },
   "outputs": [],
   "source": [
    "path = join(data_path, 'Derived data',\n",
    "            'Monthly EPA emissions {}.csv'.format(file_date))\n",
    "epa = pd.read_csv(path)"
   ]
  },
  {
   "cell_type": "code",
   "execution_count": null,
   "metadata": {},
   "outputs": [],
   "source": []
  },
  {
   "cell_type": "code",
   "execution_count": 4,
   "metadata": {},
   "outputs": [],
   "source": [
    "FACILITY_PATH = (\n",
    "    DATA_PATHS['eia_compiled']\n",
    "    / 'facility_gen_fuel_data_{}.parquet'.format(DATA_DATE)\n",
    ")\n",
    "eia_fac = pd.read_parquet(FACILITY_PATH)\n",
    "\n",
    "epa_path = (\n",
    "    DATA_PATHS['epa_emissions']\n",
    "    / 'epa_emissions_{}.parquet'.format(DATA_DATE)\n",
    ")\n",
    "epa = pd.read_parquet(epa_path)"
   ]
  },
  {
   "cell_type": "code",
   "execution_count": null,
   "metadata": {},
   "outputs": [],
   "source": []
  },
  {
   "cell_type": "code",
   "execution_count": null,
   "metadata": {},
   "outputs": [],
   "source": []
  },
  {
   "cell_type": "markdown",
   "metadata": {},
   "source": [
    "## Adjusted facility emissions and generation\n",
    "I have both the state and custom fuel categories here, but am only using the state fuel categories for now."
   ]
  },
  {
   "cell_type": "code",
   "execution_count": null,
   "metadata": {
    "ExecuteTime": {
     "end_time": "2017-11-06T17:00:26.546818Z",
     "start_time": "2017-11-06T17:00:26.528478Z"
    },
    "collapsed": true
   },
   "outputs": [],
   "source": [
    "fuel_cat_folder = join(data_path, 'Fuel categories')\n",
    "state_cats_path = join(fuel_cat_folder, 'State_facility.json')\n",
    "\n",
    "with open(state_cats_path, 'r') as f:\n",
    "    state_fuel_cat = json.load(f)\n",
    "    \n",
    "custom_cats_path = join(fuel_cat_folder, 'Custom_results.json')\n",
    "with open(custom_cats_path, 'r') as f:\n",
    "    custom_fuel_cat = json.load(f)"
   ]
  },
  {
   "cell_type": "code",
   "execution_count": 81,
   "metadata": {
    "ExecuteTime": {
     "end_time": "2017-11-06T17:00:35.435401Z",
     "start_time": "2017-11-06T17:00:28.197939Z"
    }
   },
   "outputs": [
    {
     "name": "stdout",
     "output_type": "stream",
     "text": [
      "Renaming columns\n",
      "Grouping facilities\n",
      "Adjusting EPA emissions\n",
      "Caculating CO2\n",
      "Gen/fuels to state categories\n"
     ]
    }
   ],
   "source": [
    "co2, gen_fuels_state = facility_emission_gen(eia_facility=eia_fac, epa=epa,\n",
    "                                              state_fuel_cat=STATE_FACILITY_FUELS,\n",
    "                                              custom_fuel_cat=CUSTOM_FUELS,\n",
    "                                              export_state_cats=True)"
   ]
  },
  {
   "cell_type": "markdown",
   "metadata": {},
   "source": [
    "## Extra gen/fuels from non-reporting"
   ]
  },
  {
   "cell_type": "code",
   "execution_count": null,
   "metadata": {
    "ExecuteTime": {
     "end_time": "2017-11-06T17:00:52.946442Z",
     "start_time": "2017-11-06T17:00:52.942136Z"
    },
    "collapsed": true
   },
   "outputs": [],
   "source": [
    "%aimport Analysis.index\n",
    "from Analysis.index import extra_emissions_gen"
   ]
  },
  {
   "cell_type": "markdown",
   "metadata": {},
   "source": [
    "Total EIA generation/fuel consumption and emission factors"
   ]
  },
  {
   "cell_type": "code",
   "execution_count": null,
   "metadata": {
    "ExecuteTime": {
     "end_time": "2017-11-06T17:00:55.398938Z",
     "start_time": "2017-11-06T17:00:55.366360Z"
    },
    "collapsed": true
   },
   "outputs": [],
   "source": [
    "cwd = os.getcwd()\n",
    "path = join(data_path, 'Derived data',\n",
    "            'EIA country-wide gen fuel CO2 {}.csv'.format(file_date))\n",
    "eia_total = pd.read_csv(path)\n",
    "\n",
    "path = join(data_path,\n",
    "            'Final emission factors.csv')\n",
    "ef = pd.read_csv(path, index_col=0)"
   ]
  },
  {
   "cell_type": "code",
   "execution_count": 6,
   "metadata": {},
   "outputs": [],
   "source": [
    "EF_PATH = DATA_PATHS['inputs'] / 'Final emission factors.csv'\n",
    "EF = pd.read_csv(EF_PATH, index_col=0)\n",
    "\n",
    "TOTAL_EIA_PATH = (\n",
    "    DATA_PATHS['eia_compiled']\n",
    "    / f'national_gen_fuel_data_{DATA_DATE}.parquet')\n",
    "eia_total = pd.read_parquet(TOTAL_EIA_PATH)\n",
    "eia_total.reset_index(inplace=True)"
   ]
  },
  {
   "cell_type": "markdown",
   "metadata": {},
   "source": [
    "### Calculate CO₂, generation, and fuel consumption that is not captured by facilities"
   ]
  },
  {
   "cell_type": "code",
   "execution_count": 82,
   "metadata": {
    "ExecuteTime": {
     "end_time": "2017-11-06T17:01:02.921291Z",
     "start_time": "2017-11-06T17:01:02.438735Z"
    },
    "collapsed": true
   },
   "outputs": [],
   "source": [
    "extra_co2, extra_gen_fuel = extra_emissions_gen(gen_fuels_state, eia_total, EF)"
   ]
  },
  {
   "cell_type": "code",
   "execution_count": 83,
   "metadata": {},
   "outputs": [
    {
     "data": {
      "text/html": [
       "<div>\n",
       "<style scoped>\n",
       "    .dataframe tbody tr th:only-of-type {\n",
       "        vertical-align: middle;\n",
       "    }\n",
       "\n",
       "    .dataframe tbody tr th {\n",
       "        vertical-align: top;\n",
       "    }\n",
       "\n",
       "    .dataframe thead th {\n",
       "        text-align: right;\n",
       "    }\n",
       "</style>\n",
       "<table border=\"1\" class=\"dataframe\">\n",
       "  <thead>\n",
       "    <tr style=\"text-align: right;\">\n",
       "      <th></th>\n",
       "      <th></th>\n",
       "      <th></th>\n",
       "      <th>total fuel (mmbtu)</th>\n",
       "      <th>generation (mwh)</th>\n",
       "      <th>elec fuel (mmbtu)</th>\n",
       "    </tr>\n",
       "    <tr>\n",
       "      <th>type</th>\n",
       "      <th>year</th>\n",
       "      <th>month</th>\n",
       "      <th></th>\n",
       "      <th></th>\n",
       "      <th></th>\n",
       "    </tr>\n",
       "  </thead>\n",
       "  <tbody>\n",
       "    <tr>\n",
       "      <th>NUC</th>\n",
       "      <th>2001</th>\n",
       "      <th>6</th>\n",
       "      <td>-7.103733e+08</td>\n",
       "      <td>0.000</td>\n",
       "      <td>-7.103733e+08</td>\n",
       "    </tr>\n",
       "    <tr>\n",
       "      <th>OTH</th>\n",
       "      <th>2014</th>\n",
       "      <th>9</th>\n",
       "      <td>-1.994694e+07</td>\n",
       "      <td>2817.196</td>\n",
       "      <td>-1.694408e+07</td>\n",
       "    </tr>\n",
       "    <tr>\n",
       "      <th rowspan=\"3\" valign=\"top\">GEO</th>\n",
       "      <th>2004</th>\n",
       "      <th>7</th>\n",
       "      <td>-1.178739e+07</td>\n",
       "      <td>101379.390</td>\n",
       "      <td>-1.178739e+07</td>\n",
       "    </tr>\n",
       "    <tr>\n",
       "      <th>2006</th>\n",
       "      <th>4</th>\n",
       "      <td>-1.119944e+07</td>\n",
       "      <td>-0.002</td>\n",
       "      <td>-1.119944e+07</td>\n",
       "    </tr>\n",
       "    <tr>\n",
       "      <th>2009</th>\n",
       "      <th>10</th>\n",
       "      <td>-1.191773e+07</td>\n",
       "      <td>0.004</td>\n",
       "      <td>-1.191773e+07</td>\n",
       "    </tr>\n",
       "  </tbody>\n",
       "</table>\n",
       "</div>"
      ],
      "text/plain": [
       "                 total fuel (mmbtu)  generation (mwh)  elec fuel (mmbtu)\n",
       "type year month                                                         \n",
       "NUC  2001 6           -7.103733e+08             0.000      -7.103733e+08\n",
       "OTH  2014 9           -1.994694e+07          2817.196      -1.694408e+07\n",
       "GEO  2004 7           -1.178739e+07        101379.390      -1.178739e+07\n",
       "     2006 4           -1.119944e+07            -0.002      -1.119944e+07\n",
       "     2009 10          -1.191773e+07             0.004      -1.191773e+07"
      ]
     },
     "execution_count": 83,
     "metadata": {},
     "output_type": "execute_result"
    }
   ],
   "source": [
    "extra_gen_fuel.sample(5)"
   ]
  },
  {
   "cell_type": "markdown",
   "metadata": {},
   "source": [
    "## Total CO₂ (national)\n",
    "Combine adjusted CO₂ at facilities and CO₂ from fuel consumption that is not captured by facility data."
   ]
  },
  {
   "cell_type": "code",
   "execution_count": 8,
   "metadata": {
    "ExecuteTime": {
     "end_time": "2017-11-06T17:01:14.842434Z",
     "start_time": "2017-11-06T17:01:14.679060Z"
    },
    "collapsed": true
   },
   "outputs": [],
   "source": [
    "facility_co2 = co2.groupby(['year', 'month']).sum()"
   ]
  },
  {
   "cell_type": "code",
   "execution_count": 9,
   "metadata": {
    "ExecuteTime": {
     "end_time": "2017-11-06T17:01:28.030583Z",
     "start_time": "2017-11-06T17:01:28.023099Z"
    },
    "collapsed": true
   },
   "outputs": [],
   "source": [
    "national_co2 = (facility_co2.loc[:, 'final co2 (kg)']\n",
    "                + extra_co2.loc[:, 'elec fuel co2 (kg)']\n",
    "                           .groupby(['year', 'month']).sum())\n",
    "national_co2.name = 'final co2 (kg)'"
   ]
  },
  {
   "cell_type": "markdown",
   "metadata": {},
   "source": [
    "## National Index and gen by fuels"
   ]
  },
  {
   "cell_type": "markdown",
   "metadata": {},
   "source": [
    "### Total national generation (all fuels)\n",
    "Add generation/fuel consumption reported by facilities (with state-level fuel codes) and extra generation/fuel consumption (which also uses state-level fuel codes)."
   ]
  },
  {
   "cell_type": "code",
   "execution_count": null,
   "metadata": {},
   "outputs": [],
   "source": [
    "gen_fuels_state.groupby(['type', 'year', 'month']).sum().head()"
   ]
  },
  {
   "cell_type": "code",
   "execution_count": 10,
   "metadata": {
    "ExecuteTime": {
     "end_time": "2017-11-06T17:01:40.579779Z",
     "start_time": "2017-11-06T17:01:40.407271Z"
    },
    "collapsed": true
   },
   "outputs": [],
   "source": [
    "national_gen = (gen_fuels_state\n",
    "                .groupby(['type', 'year', 'month'])['generation (mwh)'].sum()\n",
    "                .add(extra_gen_fuel['generation (mwh)'], fill_value=0))"
   ]
  },
  {
   "cell_type": "markdown",
   "metadata": {},
   "source": [
    "#### Regroup generation from state codes to my custom fuel codes"
   ]
  },
  {
   "cell_type": "code",
   "execution_count": 11,
   "metadata": {
    "ExecuteTime": {
     "end_time": "2017-11-06T17:01:50.832843Z",
     "start_time": "2017-11-06T17:01:50.784218Z"
    },
    "collapsed": true
   },
   "outputs": [],
   "source": [
    "national_gen = group_fuel_cats(national_gen.reset_index(), CUSTOM_FUELS,\n",
    "                               'type', 'fuel category').set_index(['fuel category', 'year', 'month'])"
   ]
  },
  {
   "cell_type": "code",
   "execution_count": 12,
   "metadata": {
    "ExecuteTime": {
     "end_time": "2017-11-06T17:01:53.709009Z",
     "start_time": "2017-11-06T17:01:53.695991Z"
    }
   },
   "outputs": [],
   "source": [
    "total_gen = national_gen.groupby(['year', 'month']).sum()"
   ]
  },
  {
   "cell_type": "markdown",
   "metadata": {},
   "source": [
    "### National Index"
   ]
  },
  {
   "cell_type": "code",
   "execution_count": 13,
   "metadata": {},
   "outputs": [],
   "source": [
    "national_index = total_gen.copy()\n",
    "national_index['final co2 (kg)'] = national_co2\n",
    "national_index['index (g/kwh)'] = (national_index['final co2 (kg)']\n",
    "                                   / national_index['generation (mwh)'])\n",
    "national_index.reset_index(inplace=True)\n",
    "add_quarter(national_index)\n",
    "g2lb(national_index)\n",
    "change_since_2005(national_index)"
   ]
  },
  {
   "cell_type": "code",
   "execution_count": null,
   "metadata": {
    "collapsed": true
   },
   "outputs": [],
   "source": [
    "path = join(data_path, 'National data',\n",
    "            'National index {}.csv'.format(file_date))\n",
    "national_index.to_csv(path, index=False)"
   ]
  },
  {
   "cell_type": "code",
   "execution_count": 14,
   "metadata": {},
   "outputs": [],
   "source": [
    "monthly_index = national_index.copy()\n",
    "\n",
    "\n",
    "quarterly_index = monthly_index.groupby(['year', 'quarter'])['generation (mwh)', 'final co2 (kg)'].sum()\n",
    "quarterly_index.reset_index(inplace=True)\n",
    "quarterly_index['index (g/kwh)'] = quarterly_index.loc[:, 'final co2 (kg)'] / quarterly_index.loc[:, 'generation (mwh)']\n",
    "quarterly_index['year_quarter'] = quarterly_index['year'].astype(str) + ' Q' + quarterly_index['quarter'].astype(str)\n",
    "change_since_2005(quarterly_index)\n",
    "g2lb(quarterly_index)\n",
    "\n",
    "annual_index = quarterly_index.groupby('year')['generation (mwh)', 'final co2 (kg)'].sum()\n",
    "annual_index.reset_index(inplace=True)\n",
    "annual_index['index (g/kwh)'] = annual_index.loc[:, 'final co2 (kg)'] / annual_index.loc[:, 'generation (mwh)']\n",
    "\n",
    "change_since_2005(annual_index)\n",
    "g2lb(annual_index)"
   ]
  },
  {
   "cell_type": "code",
   "execution_count": 93,
   "metadata": {},
   "outputs": [
    {
     "data": {
      "text/html": [
       "<div>\n",
       "<style scoped>\n",
       "    .dataframe tbody tr th:only-of-type {\n",
       "        vertical-align: middle;\n",
       "    }\n",
       "\n",
       "    .dataframe tbody tr th {\n",
       "        vertical-align: top;\n",
       "    }\n",
       "\n",
       "    .dataframe thead th {\n",
       "        text-align: right;\n",
       "    }\n",
       "</style>\n",
       "<table border=\"1\" class=\"dataframe\">\n",
       "  <thead>\n",
       "    <tr style=\"text-align: right;\">\n",
       "      <th></th>\n",
       "      <th>year</th>\n",
       "      <th>month</th>\n",
       "      <th>generation (mwh)</th>\n",
       "      <th>final co2 (kg)</th>\n",
       "      <th>index (g/kwh)</th>\n",
       "      <th>datetime</th>\n",
       "      <th>quarter</th>\n",
       "      <th>index (lb/mwh)</th>\n",
       "      <th>change since 2005</th>\n",
       "    </tr>\n",
       "  </thead>\n",
       "  <tbody>\n",
       "    <tr>\n",
       "      <th>211</th>\n",
       "      <td>2018</td>\n",
       "      <td>8</td>\n",
       "      <td>4.107660e+08</td>\n",
       "      <td>1.869340e+11</td>\n",
       "      <td>455.086314</td>\n",
       "      <td>2018-08-01</td>\n",
       "      <td>3</td>\n",
       "      <td>1003.283289</td>\n",
       "      <td>-0.240417</td>\n",
       "    </tr>\n",
       "    <tr>\n",
       "      <th>212</th>\n",
       "      <td>2018</td>\n",
       "      <td>9</td>\n",
       "      <td>3.592436e+08</td>\n",
       "      <td>1.597507e+11</td>\n",
       "      <td>444.686247</td>\n",
       "      <td>2018-09-01</td>\n",
       "      <td>3</td>\n",
       "      <td>980.355300</td>\n",
       "      <td>-0.257775</td>\n",
       "    </tr>\n",
       "    <tr>\n",
       "      <th>213</th>\n",
       "      <td>2018</td>\n",
       "      <td>10</td>\n",
       "      <td>3.277448e+08</td>\n",
       "      <td>1.404711e+11</td>\n",
       "      <td>428.598987</td>\n",
       "      <td>2018-10-01</td>\n",
       "      <td>4</td>\n",
       "      <td>944.889326</td>\n",
       "      <td>-0.284627</td>\n",
       "    </tr>\n",
       "    <tr>\n",
       "      <th>214</th>\n",
       "      <td>2018</td>\n",
       "      <td>11</td>\n",
       "      <td>3.237941e+08</td>\n",
       "      <td>1.376966e+11</td>\n",
       "      <td>425.259679</td>\n",
       "      <td>2018-11-01</td>\n",
       "      <td>4</td>\n",
       "      <td>937.527487</td>\n",
       "      <td>-0.290200</td>\n",
       "    </tr>\n",
       "    <tr>\n",
       "      <th>215</th>\n",
       "      <td>2018</td>\n",
       "      <td>12</td>\n",
       "      <td>3.388554e+08</td>\n",
       "      <td>1.452962e+11</td>\n",
       "      <td>428.785259</td>\n",
       "      <td>2018-12-01</td>\n",
       "      <td>4</td>\n",
       "      <td>945.299982</td>\n",
       "      <td>-0.284316</td>\n",
       "    </tr>\n",
       "  </tbody>\n",
       "</table>\n",
       "</div>"
      ],
      "text/plain": [
       "     year  month  generation (mwh)  final co2 (kg)  index (g/kwh)   datetime  \\\n",
       "211  2018      8      4.107660e+08    1.869340e+11     455.086314 2018-08-01   \n",
       "212  2018      9      3.592436e+08    1.597507e+11     444.686247 2018-09-01   \n",
       "213  2018     10      3.277448e+08    1.404711e+11     428.598987 2018-10-01   \n",
       "214  2018     11      3.237941e+08    1.376966e+11     425.259679 2018-11-01   \n",
       "215  2018     12      3.388554e+08    1.452962e+11     428.785259 2018-12-01   \n",
       "\n",
       "     quarter  index (lb/mwh)  change since 2005  \n",
       "211        3     1003.283289          -0.240417  \n",
       "212        3      980.355300          -0.257775  \n",
       "213        4      944.889326          -0.284627  \n",
       "214        4      937.527487          -0.290200  \n",
       "215        4      945.299982          -0.284316  "
      ]
     },
     "execution_count": 93,
     "metadata": {},
     "output_type": "execute_result"
    }
   ],
   "source": [
    "monthly_index.tail()"
   ]
  },
  {
   "cell_type": "code",
   "execution_count": null,
   "metadata": {},
   "outputs": [],
   "source": [
    "# path = join(data_path, 'Website results',\n",
    "#             'Monthly index {}.csv'.format(export_quarter))\n",
    "path = DATA_PATHS['results'] / f'Monthly index {QUARTER_YEAR}.csv'\n",
    "monthly_index.to_csv(path, index=False)"
   ]
  },
  {
   "cell_type": "code",
   "execution_count": null,
   "metadata": {},
   "outputs": [],
   "source": [
    "# path = join(data_path, 'Website results',\n",
    "#             'Monthly index {}.csv'.format(export_quarter))\n",
    "path = DATA_PATHS['results'] / f'Quarterly index {QUARTER_YEAR}.csv'\n",
    "quarterly_index.to_csv(path, index=False)"
   ]
  },
  {
   "cell_type": "code",
   "execution_count": null,
   "metadata": {},
   "outputs": [],
   "source": [
    "# path = join(data_path, 'Website results',\n",
    "#             'Monthly index {}.csv'.format(export_quarter))\n",
    "path = DATA_PATHS['results'] / f'Annual index {QUARTER_YEAR}.csv'\n",
    "annual_index.to_csv(path, index=False)"
   ]
  },
  {
   "cell_type": "markdown",
   "metadata": {},
   "source": [
    "### CO₂ intensity of each fuel category, plus files for website"
   ]
  },
  {
   "cell_type": "code",
   "execution_count": 87,
   "metadata": {},
   "outputs": [],
   "source": [
    "category_ef = reduce_emission_factors(EF)"
   ]
  },
  {
   "cell_type": "code",
   "execution_count": 90,
   "metadata": {},
   "outputs": [
    {
     "data": {
      "text/plain": [
       "{'NG': 53.07, 'PEL': 75.975, 'PC': 102.1, 'COW': 95.25, 'OOG': 59.0}"
      ]
     },
     "execution_count": 90,
     "metadata": {},
     "output_type": "execute_result"
    }
   ],
   "source": [
    "category_ef"
   ]
  },
  {
   "cell_type": "code",
   "execution_count": 92,
   "metadata": {},
   "outputs": [
    {
     "data": {
      "text/html": [
       "<div>\n",
       "<style scoped>\n",
       "    .dataframe tbody tr th:only-of-type {\n",
       "        vertical-align: middle;\n",
       "    }\n",
       "\n",
       "    .dataframe tbody tr th {\n",
       "        vertical-align: top;\n",
       "    }\n",
       "\n",
       "    .dataframe thead th {\n",
       "        text-align: right;\n",
       "    }\n",
       "</style>\n",
       "<table border=\"1\" class=\"dataframe\">\n",
       "  <thead>\n",
       "    <tr style=\"text-align: right;\">\n",
       "      <th></th>\n",
       "      <th></th>\n",
       "      <th></th>\n",
       "      <th>COW</th>\n",
       "      <th>NG</th>\n",
       "      <th>OOG</th>\n",
       "      <th>PC</th>\n",
       "      <th>PEL</th>\n",
       "      <th>generation (mwh)</th>\n",
       "    </tr>\n",
       "    <tr>\n",
       "      <th>fuel category</th>\n",
       "      <th>year</th>\n",
       "      <th>month</th>\n",
       "      <th></th>\n",
       "      <th></th>\n",
       "      <th></th>\n",
       "      <th></th>\n",
       "      <th></th>\n",
       "      <th></th>\n",
       "    </tr>\n",
       "  </thead>\n",
       "  <tbody>\n",
       "    <tr>\n",
       "      <th>Hydro</th>\n",
       "      <th>2009</th>\n",
       "      <th>4</th>\n",
       "      <td>NaN</td>\n",
       "      <td>NaN</td>\n",
       "      <td>NaN</td>\n",
       "      <td>NaN</td>\n",
       "      <td>NaN</td>\n",
       "      <td>NaN</td>\n",
       "    </tr>\n",
       "    <tr>\n",
       "      <th>Nuclear</th>\n",
       "      <th>2010</th>\n",
       "      <th>12</th>\n",
       "      <td>NaN</td>\n",
       "      <td>NaN</td>\n",
       "      <td>NaN</td>\n",
       "      <td>NaN</td>\n",
       "      <td>NaN</td>\n",
       "      <td>NaN</td>\n",
       "    </tr>\n",
       "    <tr>\n",
       "      <th>Other</th>\n",
       "      <th>2011</th>\n",
       "      <th>7</th>\n",
       "      <td>NaN</td>\n",
       "      <td>NaN</td>\n",
       "      <td>NaN</td>\n",
       "      <td>NaN</td>\n",
       "      <td>NaN</td>\n",
       "      <td>NaN</td>\n",
       "    </tr>\n",
       "    <tr>\n",
       "      <th>Nuclear</th>\n",
       "      <th>2005</th>\n",
       "      <th>7</th>\n",
       "      <td>NaN</td>\n",
       "      <td>NaN</td>\n",
       "      <td>NaN</td>\n",
       "      <td>NaN</td>\n",
       "      <td>NaN</td>\n",
       "      <td>NaN</td>\n",
       "    </tr>\n",
       "    <tr>\n",
       "      <th>Natural Gas</th>\n",
       "      <th>2001</th>\n",
       "      <th>4</th>\n",
       "      <td>NaN</td>\n",
       "      <td>NaN</td>\n",
       "      <td>NaN</td>\n",
       "      <td>NaN</td>\n",
       "      <td>NaN</td>\n",
       "      <td>NaN</td>\n",
       "    </tr>\n",
       "  </tbody>\n",
       "</table>\n",
       "</div>"
      ],
      "text/plain": [
       "                          COW  NG  OOG  PC  PEL  generation (mwh)\n",
       "fuel category year month                                         \n",
       "Hydro         2009 4      NaN NaN  NaN NaN  NaN               NaN\n",
       "Nuclear       2010 12     NaN NaN  NaN NaN  NaN               NaN\n",
       "Other         2011 7      NaN NaN  NaN NaN  NaN               NaN\n",
       "Nuclear       2005 7      NaN NaN  NaN NaN  NaN               NaN\n",
       "Natural Gas   2001 4      NaN NaN  NaN NaN  NaN               NaN"
      ]
     },
     "execution_count": 92,
     "metadata": {},
     "output_type": "execute_result"
    }
   ],
   "source": [
    "pd.Series(category_ef, name='fuel category') * national_gen.sample(5)"
   ]
  },
  {
   "cell_type": "code",
   "execution_count": 89,
   "metadata": {},
   "outputs": [
    {
     "data": {
      "text/html": [
       "<div>\n",
       "<style scoped>\n",
       "    .dataframe tbody tr th:only-of-type {\n",
       "        vertical-align: middle;\n",
       "    }\n",
       "\n",
       "    .dataframe tbody tr th {\n",
       "        vertical-align: top;\n",
       "    }\n",
       "\n",
       "    .dataframe thead th {\n",
       "        text-align: right;\n",
       "    }\n",
       "</style>\n",
       "<table border=\"1\" class=\"dataframe\">\n",
       "  <thead>\n",
       "    <tr style=\"text-align: right;\">\n",
       "      <th></th>\n",
       "      <th></th>\n",
       "      <th></th>\n",
       "      <th>generation (mwh)</th>\n",
       "    </tr>\n",
       "    <tr>\n",
       "      <th>fuel category</th>\n",
       "      <th>year</th>\n",
       "      <th>month</th>\n",
       "      <th></th>\n",
       "    </tr>\n",
       "  </thead>\n",
       "  <tbody>\n",
       "    <tr>\n",
       "      <th>Hydro</th>\n",
       "      <th>2014</th>\n",
       "      <th>10</th>\n",
       "      <td>17159212.27</td>\n",
       "    </tr>\n",
       "    <tr>\n",
       "      <th rowspan=\"2\" valign=\"top\">Wind</th>\n",
       "      <th>2009</th>\n",
       "      <th>11</th>\n",
       "      <td>6875183.04</td>\n",
       "    </tr>\n",
       "    <tr>\n",
       "      <th>2001</th>\n",
       "      <th>9</th>\n",
       "      <td>490229.00</td>\n",
       "    </tr>\n",
       "    <tr>\n",
       "      <th>Nuclear</th>\n",
       "      <th>2010</th>\n",
       "      <th>6</th>\n",
       "      <td>68301321.56</td>\n",
       "    </tr>\n",
       "    <tr>\n",
       "      <th>Hydro</th>\n",
       "      <th>2015</th>\n",
       "      <th>2</th>\n",
       "      <td>22286076.01</td>\n",
       "    </tr>\n",
       "  </tbody>\n",
       "</table>\n",
       "</div>"
      ],
      "text/plain": [
       "                          generation (mwh)\n",
       "fuel category year month                  \n",
       "Hydro         2014 10          17159212.27\n",
       "Wind          2009 11           6875183.04\n",
       "              2001 9             490229.00\n",
       "Nuclear       2010 6           68301321.56\n",
       "Hydro         2015 2           22286076.01"
      ]
     },
     "execution_count": 89,
     "metadata": {},
     "output_type": "execute_result"
    }
   ],
   "source": [
    "national_gen.sample(5)"
   ]
  },
  {
   "cell_type": "code",
   "execution_count": null,
   "metadata": {},
   "outputs": [],
   "source": [
    "national_gen['elec fuel fossil co2 (kg)'] = 0\n",
    "for fuel in category_ef.keys():\n",
    "    national_gen.loc[idx[fuel, :, :], 'elec fuel fossil co2 (kg)'] = (\n",
    "        national_gen.loc[idx[fuel, :, :], 'elec fuel (mmbtu)'] \n",
    "        * category_ef[fuel]\n",
    "    )\n",
    "\n",
    "national_gen['elec fuel fossil co2 (kg)'] = (national_gen['elec fuel fossil co2 (kg)'] \n",
    "                                             + extra_co2['elec fuel co2 (kg)'])"
   ]
  },
  {
   "cell_type": "code",
   "execution_count": null,
   "metadata": {},
   "outputs": [],
   "source": []
  },
  {
   "cell_type": "code",
   "execution_count": null,
   "metadata": {},
   "outputs": [],
   "source": []
  },
  {
   "cell_type": "markdown",
   "metadata": {},
   "source": [
    "### Percent generation by custom fuel type"
   ]
  },
  {
   "cell_type": "code",
   "execution_count": null,
   "metadata": {
    "ExecuteTime": {
     "end_time": "2017-10-31T19:16:32.688527Z",
     "start_time": "2017-10-31T19:16:32.649752Z"
    },
    "collapsed": true
   },
   "outputs": [],
   "source": [
    "df_list = []\n",
    "for fuel in national_gen.index.get_level_values('fuel category').unique():\n",
    "    percent_gen = national_gen.loc[fuel].divide(total_gen, fill_value=0)\n",
    "    percent_gen['fuel category'] = fuel\n",
    "    percent_gen.set_index('fuel category', inplace=True, append=True)\n",
    "    df_list.append(percent_gen)\n",
    "percent_gen = pd.concat(df_list)"
   ]
  },
  {
   "cell_type": "code",
   "execution_count": null,
   "metadata": {
    "collapsed": true
   },
   "outputs": [],
   "source": [
    "path = join(data_path, 'National data',\n",
    "            'National generation {}.csv'.format(file_date))\n",
    "national_gen.to_csv(path)\n",
    "\n",
    "path = join(data_path, 'National data',\n",
    "            'National percent gen {}.csv'.format(file_date))\n",
    "percent_gen.to_csv(path)"
   ]
  },
  {
   "cell_type": "markdown",
   "metadata": {},
   "source": [
    "## Facility state and lat/lon file generation\n",
    "~~Create a .csv with lat/lon and state code for each facility. Need to manually add the NERC region label.~~ ~~I've done this with a spatial join between the lat/lon and NERC shapefiles in QGIS. It should be possible to do the spatial join in [GeoPandas](http://geopandas.org/).  Could also add custom region labels (e.g. eGRID subregions, ISO/RTO boundaries, etc).~~\n",
    "\n",
    "This isn't possible with a spatial join because NERC regions aren't strictly based on geography. Instead, I've taken the NERC codes from EIA-860 and assigned unknown plants (mostly those that retired before 2012 when modern NERCs were mostly defined, and those that were assigned a plant id in 2017) NERC labels using a k-nearest neighbors algorithm and lat/lon information.\n",
    "\n",
    "See the `Assign NERC region labels` notebook for the creation of this file."
   ]
  },
  {
   "cell_type": "markdown",
   "metadata": {},
   "source": [
    "## Fraction of estimated gen/fuels in each NERC region\n",
    "\n",
    "**NOTE** EIA changed the reporting requirements for wind and solar facilities in 2017. I'm now going to use the list of annual facilities from 2017 rather than from 2015, but still use the reported generation by those facilities in 2015."
   ]
  },
  {
   "cell_type": "code",
   "execution_count": null,
   "metadata": {
    "ExecuteTime": {
     "end_time": "2017-11-06T17:06:53.740258Z",
     "start_time": "2017-11-06T17:06:53.735390Z"
    },
    "collapsed": true
   },
   "outputs": [],
   "source": [
    "%aimport Data.make_data\n",
    "from Data.make_data import get_annual_plants"
   ]
  },
  {
   "cell_type": "code",
   "execution_count": 15,
   "metadata": {},
   "outputs": [],
   "source": [
    "from src.data.make_data import get_annual_plants"
   ]
  },
  {
   "cell_type": "code",
   "execution_count": 17,
   "metadata": {},
   "outputs": [
    {
     "name": "stdout",
     "output_type": "stream",
     "text": [
      "Automatic pdb calling has been turned ON\n"
     ]
    }
   ],
   "source": [
    "%pdb"
   ]
  },
  {
   "cell_type": "code",
   "execution_count": 25,
   "metadata": {
    "ExecuteTime": {
     "end_time": "2017-11-06T17:07:38.755682Z",
     "start_time": "2017-11-06T17:07:11.747334Z"
    },
    "collapsed": true
   },
   "outputs": [],
   "source": [
    "annual_ids_2015 = get_annual_plants(2015)"
   ]
  },
  {
   "cell_type": "code",
   "execution_count": null,
   "metadata": {},
   "outputs": [],
   "source": []
  },
  {
   "cell_type": "code",
   "execution_count": 29,
   "metadata": {
    "ExecuteTime": {
     "end_time": "2017-11-06T17:07:57.886913Z",
     "start_time": "2017-11-06T17:07:38.757559Z"
    },
    "collapsed": true
   },
   "outputs": [],
   "source": [
    "annual_ids_2017 = get_annual_plants('2017')"
   ]
  },
  {
   "cell_type": "code",
   "execution_count": 32,
   "metadata": {
    "ExecuteTime": {
     "end_time": "2017-11-06T17:07:57.886913Z",
     "start_time": "2017-11-06T17:07:38.757559Z"
    },
    "collapsed": true
   },
   "outputs": [],
   "source": [
    "prev_annual_ids = get_annual_plants(prev_year)"
   ]
  },
  {
   "cell_type": "code",
   "execution_count": null,
   "metadata": {},
   "outputs": [],
   "source": [
    "annual_ids_2017"
   ]
  },
  {
   "cell_type": "markdown",
   "metadata": {},
   "source": [
    "Combine the lists of annual plants in 2015 and 2017. This lets us catch facilities that have gone from monthly to annual since 2015, but it also includes plants that were annual in 2015 an may have retired.\n",
    "\n",
    "There is the possibility of an error in allocation to NERC regions for 2016 state-level generation when using the facilities that changed to annual in 2017. But since the state-level generation is so much smaller in 2016 I don't think this is much of an issue."
   ]
  },
  {
   "cell_type": "code",
   "execution_count": null,
   "metadata": {
    "ExecuteTime": {
     "end_time": "2017-11-06T17:08:20.140523Z",
     "start_time": "2017-11-06T17:08:20.128770Z"
    },
    "collapsed": true
   },
   "outputs": [],
   "source": [
    "annual_ids = set(annual_ids_2015.tolist() + annual_ids_2017.tolist())"
   ]
  },
  {
   "cell_type": "code",
   "execution_count": null,
   "metadata": {
    "ExecuteTime": {
     "end_time": "2017-11-06T17:08:20.153975Z",
     "start_time": "2017-11-06T17:08:20.142993Z"
    }
   },
   "outputs": [],
   "source": [
    "len(annual_ids)"
   ]
  },
  {
   "cell_type": "markdown",
   "metadata": {},
   "source": [
    "### Add NERC region labels"
   ]
  },
  {
   "cell_type": "code",
   "execution_count": null,
   "metadata": {
    "ExecuteTime": {
     "end_time": "2017-11-06T17:08:20.165890Z",
     "start_time": "2017-11-06T17:08:20.156452Z"
    },
    "collapsed": true
   },
   "outputs": [],
   "source": [
    "%aimport Analysis.state2nerc\n",
    "from Analysis.state2nerc import fraction_state2nerc, add_region"
   ]
  },
  {
   "cell_type": "code",
   "execution_count": 27,
   "metadata": {},
   "outputs": [],
   "source": [
    "from src.analysis.state2nerc import fraction_state2nerc, add_region"
   ]
  },
  {
   "cell_type": "code",
   "execution_count": 28,
   "metadata": {
    "ExecuteTime": {
     "end_time": "2017-11-06T17:08:20.206633Z",
     "start_time": "2017-11-06T17:08:20.168272Z"
    },
    "collapsed": true
   },
   "outputs": [],
   "source": [
    "# cwd = os.getcwd()\n",
    "# path = join(data_path, 'Facility labels',\n",
    "#             'Facility locations_RF.csv')\n",
    "location_path = DATA_PATHS['transformed_data'] / 'Facility locations_RF.csv'\n",
    "location_labels = pd.read_csv(location_path)"
   ]
  },
  {
   "cell_type": "code",
   "execution_count": null,
   "metadata": {
    "ExecuteTime": {
     "end_time": "2017-11-06T17:08:20.225873Z",
     "start_time": "2017-11-06T17:08:20.209690Z"
    },
    "collapsed": true
   },
   "outputs": [],
   "source": [
    "nerc_state_path = join(data_path, 'Derived data',\n",
    "                  'NERC_states.json')\n",
    "\n",
    "with open(nerc_state_path, 'r') as f:\n",
    "    nerc_states = json.load(f)"
   ]
  },
  {
   "cell_type": "markdown",
   "metadata": {},
   "source": [
    "Added the filter that year must be 2015 - was getting all 2015 annual plants, but for all years!"
   ]
  },
  {
   "cell_type": "code",
   "execution_count": null,
   "metadata": {
    "ExecuteTime": {
     "end_time": "2017-11-06T17:08:20.746670Z",
     "start_time": "2017-11-06T17:08:20.229488Z"
    },
    "collapsed": true
   },
   "outputs": [],
   "source": [
    "eia_2015_annual = eia_fac.loc[(eia_fac['plant id'].isin(annual_ids)) & \n",
    "                              (eia_fac['year'] == 2015)].copy()\n",
    "\n",
    "# Group to state-level fuel categories\n",
    "eia_2015_annual = group_fuel_cats(eia_2015_annual, state_fuel_cat)"
   ]
  },
  {
   "cell_type": "code",
   "execution_count": null,
   "metadata": {
    "ExecuteTime": {
     "end_time": "2017-11-06T17:08:20.808948Z",
     "start_time": "2017-11-06T17:08:20.748469Z"
    },
    "collapsed": true
   },
   "outputs": [],
   "source": [
    "eia_2015_annual_nerc = add_facility_location(eia_2015_annual, location_labels, \n",
    "                                        labels=['state', 'nerc', 'year'])"
   ]
  },
  {
   "cell_type": "code",
   "execution_count": null,
   "metadata": {},
   "outputs": [],
   "source": [
    "eia_2015_annual_nerc.head()"
   ]
  },
  {
   "cell_type": "code",
   "execution_count": null,
   "metadata": {},
   "outputs": [],
   "source": []
  },
  {
   "cell_type": "code",
   "execution_count": 33,
   "metadata": {
    "ExecuteTime": {
     "end_time": "2017-11-06T17:08:20.746670Z",
     "start_time": "2017-11-06T17:08:20.229488Z"
    },
    "collapsed": true
   },
   "outputs": [],
   "source": [
    "eia_prev_annual = eia_fac.loc[(eia_fac['plant id'].isin(prev_annual_ids)) & \n",
    "                              (eia_fac['year'] == prev_year)].copy()\n",
    "\n",
    "# Group to state-level fuel categories\n",
    "eia_prev_annual = group_fuel_cats(eia_prev_annual, STATE_FACILITY_FUELS)\n"
   ]
  },
  {
   "cell_type": "code",
   "execution_count": 36,
   "metadata": {
    "ExecuteTime": {
     "end_time": "2017-11-06T17:08:20.746670Z",
     "start_time": "2017-11-06T17:08:20.229488Z"
    },
    "collapsed": true
   },
   "outputs": [],
   "source": [
    "eia_prev_annual = eia_fac.loc[(eia_fac['plant id'].isin(prev_annual_ids)) & \n",
    "                              (eia_fac['year'] == prev_year)].copy()\n",
    "\n",
    "# Group to state-level fuel categories\n",
    "eia_prev_annual_nerc = (\n",
    "    eia_prev_annual.pipe(group_fuel_cats, fuel_cats=STATE_FACILITY_FUELS)\n",
    "                   .pipe(add_facility_location,\n",
    "                         label_df=location_labels,\n",
    "                         labels=['state', 'nerc', 'year'])\n",
    ")\n"
   ]
  },
  {
   "cell_type": "code",
   "execution_count": 37,
   "metadata": {},
   "outputs": [
    {
     "data": {
      "text/html": [
       "<div>\n",
       "<style scoped>\n",
       "    .dataframe tbody tr th:only-of-type {\n",
       "        vertical-align: middle;\n",
       "    }\n",
       "\n",
       "    .dataframe tbody tr th {\n",
       "        vertical-align: top;\n",
       "    }\n",
       "\n",
       "    .dataframe thead th {\n",
       "        text-align: right;\n",
       "    }\n",
       "</style>\n",
       "<table border=\"1\" class=\"dataframe\">\n",
       "  <thead>\n",
       "    <tr style=\"text-align: right;\">\n",
       "      <th></th>\n",
       "      <th>f</th>\n",
       "      <th>fuel</th>\n",
       "      <th>month</th>\n",
       "      <th>plant id</th>\n",
       "      <th>total fuel (mmbtu)</th>\n",
       "      <th>year</th>\n",
       "      <th>generation (mwh)</th>\n",
       "      <th>elec fuel (mmbtu)</th>\n",
       "      <th>last_updated</th>\n",
       "      <th>lat</th>\n",
       "      <th>lon</th>\n",
       "      <th>prime mover</th>\n",
       "      <th>state</th>\n",
       "      <th>datetime</th>\n",
       "      <th>quarter</th>\n",
       "      <th>all fuel fossil co2 (kg)</th>\n",
       "      <th>elec fuel fossil co2 (kg)</th>\n",
       "      <th>all fuel total co2 (kg)</th>\n",
       "      <th>elec fuel total co2 (kg)</th>\n",
       "      <th>type</th>\n",
       "    </tr>\n",
       "  </thead>\n",
       "  <tbody>\n",
       "    <tr>\n",
       "      <th>0</th>\n",
       "      <td>M</td>\n",
       "      <td>OBL</td>\n",
       "      <td>12</td>\n",
       "      <td>10120</td>\n",
       "      <td>1260.0</td>\n",
       "      <td>2017</td>\n",
       "      <td>0.0</td>\n",
       "      <td>38.0</td>\n",
       "      <td>2019-03-01T00:40:06-05:00</td>\n",
       "      <td>31.164772</td>\n",
       "      <td>-81.478724</td>\n",
       "      <td>ALL</td>\n",
       "      <td>GA</td>\n",
       "      <td>2017-12-01</td>\n",
       "      <td>4</td>\n",
       "      <td>0.0</td>\n",
       "      <td>0.0</td>\n",
       "      <td>105814.80</td>\n",
       "      <td>3191.24</td>\n",
       "      <td>WAS</td>\n",
       "    </tr>\n",
       "    <tr>\n",
       "      <th>1</th>\n",
       "      <td>M</td>\n",
       "      <td>OBL</td>\n",
       "      <td>11</td>\n",
       "      <td>10120</td>\n",
       "      <td>1167.0</td>\n",
       "      <td>2017</td>\n",
       "      <td>0.0</td>\n",
       "      <td>36.0</td>\n",
       "      <td>2019-03-01T00:40:06-05:00</td>\n",
       "      <td>31.164772</td>\n",
       "      <td>-81.478724</td>\n",
       "      <td>ALL</td>\n",
       "      <td>GA</td>\n",
       "      <td>2017-11-01</td>\n",
       "      <td>4</td>\n",
       "      <td>0.0</td>\n",
       "      <td>0.0</td>\n",
       "      <td>98004.66</td>\n",
       "      <td>3023.28</td>\n",
       "      <td>WAS</td>\n",
       "    </tr>\n",
       "    <tr>\n",
       "      <th>2</th>\n",
       "      <td>M</td>\n",
       "      <td>OBL</td>\n",
       "      <td>10</td>\n",
       "      <td>10120</td>\n",
       "      <td>1414.0</td>\n",
       "      <td>2017</td>\n",
       "      <td>0.0</td>\n",
       "      <td>43.0</td>\n",
       "      <td>2019-03-01T00:40:06-05:00</td>\n",
       "      <td>31.164772</td>\n",
       "      <td>-81.478724</td>\n",
       "      <td>ALL</td>\n",
       "      <td>GA</td>\n",
       "      <td>2017-10-01</td>\n",
       "      <td>4</td>\n",
       "      <td>0.0</td>\n",
       "      <td>0.0</td>\n",
       "      <td>118747.72</td>\n",
       "      <td>3611.14</td>\n",
       "      <td>WAS</td>\n",
       "    </tr>\n",
       "    <tr>\n",
       "      <th>3</th>\n",
       "      <td>M</td>\n",
       "      <td>OBL</td>\n",
       "      <td>9</td>\n",
       "      <td>10120</td>\n",
       "      <td>1425.0</td>\n",
       "      <td>2017</td>\n",
       "      <td>0.0</td>\n",
       "      <td>44.0</td>\n",
       "      <td>2019-03-01T00:40:06-05:00</td>\n",
       "      <td>31.164772</td>\n",
       "      <td>-81.478724</td>\n",
       "      <td>ALL</td>\n",
       "      <td>GA</td>\n",
       "      <td>2017-09-01</td>\n",
       "      <td>3</td>\n",
       "      <td>0.0</td>\n",
       "      <td>0.0</td>\n",
       "      <td>119671.50</td>\n",
       "      <td>3695.12</td>\n",
       "      <td>WAS</td>\n",
       "    </tr>\n",
       "    <tr>\n",
       "      <th>4</th>\n",
       "      <td>M</td>\n",
       "      <td>OBL</td>\n",
       "      <td>8</td>\n",
       "      <td>10120</td>\n",
       "      <td>1770.0</td>\n",
       "      <td>2017</td>\n",
       "      <td>0.0</td>\n",
       "      <td>54.0</td>\n",
       "      <td>2019-03-01T00:40:06-05:00</td>\n",
       "      <td>31.164772</td>\n",
       "      <td>-81.478724</td>\n",
       "      <td>ALL</td>\n",
       "      <td>GA</td>\n",
       "      <td>2017-08-01</td>\n",
       "      <td>3</td>\n",
       "      <td>0.0</td>\n",
       "      <td>0.0</td>\n",
       "      <td>148644.60</td>\n",
       "      <td>4534.92</td>\n",
       "      <td>WAS</td>\n",
       "    </tr>\n",
       "  </tbody>\n",
       "</table>\n",
       "</div>"
      ],
      "text/plain": [
       "   f fuel  month  plant id  total fuel (mmbtu)  year  generation (mwh)  \\\n",
       "0  M  OBL     12     10120              1260.0  2017               0.0   \n",
       "1  M  OBL     11     10120              1167.0  2017               0.0   \n",
       "2  M  OBL     10     10120              1414.0  2017               0.0   \n",
       "3  M  OBL      9     10120              1425.0  2017               0.0   \n",
       "4  M  OBL      8     10120              1770.0  2017               0.0   \n",
       "\n",
       "   elec fuel (mmbtu)               last_updated        lat        lon  \\\n",
       "0               38.0  2019-03-01T00:40:06-05:00  31.164772 -81.478724   \n",
       "1               36.0  2019-03-01T00:40:06-05:00  31.164772 -81.478724   \n",
       "2               43.0  2019-03-01T00:40:06-05:00  31.164772 -81.478724   \n",
       "3               44.0  2019-03-01T00:40:06-05:00  31.164772 -81.478724   \n",
       "4               54.0  2019-03-01T00:40:06-05:00  31.164772 -81.478724   \n",
       "\n",
       "  prime mover state   datetime  quarter  all fuel fossil co2 (kg)  \\\n",
       "0         ALL    GA 2017-12-01        4                       0.0   \n",
       "1         ALL    GA 2017-11-01        4                       0.0   \n",
       "2         ALL    GA 2017-10-01        4                       0.0   \n",
       "3         ALL    GA 2017-09-01        3                       0.0   \n",
       "4         ALL    GA 2017-08-01        3                       0.0   \n",
       "\n",
       "   elec fuel fossil co2 (kg)  all fuel total co2 (kg)  \\\n",
       "0                        0.0                105814.80   \n",
       "1                        0.0                 98004.66   \n",
       "2                        0.0                118747.72   \n",
       "3                        0.0                119671.50   \n",
       "4                        0.0                148644.60   \n",
       "\n",
       "   elec fuel total co2 (kg) type  \n",
       "0                   3191.24  WAS  \n",
       "1                   3023.28  WAS  \n",
       "2                   3611.14  WAS  \n",
       "3                   3695.12  WAS  \n",
       "4                   4534.92  WAS  "
      ]
     },
     "execution_count": 37,
     "metadata": {},
     "output_type": "execute_result"
    }
   ],
   "source": [
    "eia_prev_annual.head()"
   ]
  },
  {
   "cell_type": "code",
   "execution_count": 38,
   "metadata": {},
   "outputs": [
    {
     "data": {
      "text/html": [
       "<div>\n",
       "<style scoped>\n",
       "    .dataframe tbody tr th:only-of-type {\n",
       "        vertical-align: middle;\n",
       "    }\n",
       "\n",
       "    .dataframe tbody tr th {\n",
       "        vertical-align: top;\n",
       "    }\n",
       "\n",
       "    .dataframe thead th {\n",
       "        text-align: right;\n",
       "    }\n",
       "</style>\n",
       "<table border=\"1\" class=\"dataframe\">\n",
       "  <thead>\n",
       "    <tr style=\"text-align: right;\">\n",
       "      <th></th>\n",
       "      <th>type</th>\n",
       "      <th>year</th>\n",
       "      <th>month</th>\n",
       "      <th>plant id</th>\n",
       "      <th>total fuel (mmbtu)</th>\n",
       "      <th>generation (mwh)</th>\n",
       "      <th>elec fuel (mmbtu)</th>\n",
       "      <th>lat</th>\n",
       "      <th>lon</th>\n",
       "      <th>quarter</th>\n",
       "      <th>all fuel fossil co2 (kg)</th>\n",
       "      <th>elec fuel fossil co2 (kg)</th>\n",
       "      <th>all fuel total co2 (kg)</th>\n",
       "      <th>elec fuel total co2 (kg)</th>\n",
       "      <th>state</th>\n",
       "      <th>nerc</th>\n",
       "    </tr>\n",
       "  </thead>\n",
       "  <tbody>\n",
       "    <tr>\n",
       "      <th>0</th>\n",
       "      <td>COW</td>\n",
       "      <td>2017</td>\n",
       "      <td>1</td>\n",
       "      <td>59</td>\n",
       "      <td>485196.0</td>\n",
       "      <td>42216.979</td>\n",
       "      <td>485196.0</td>\n",
       "      <td>40.854765</td>\n",
       "      <td>-98.348222</td>\n",
       "      <td>1</td>\n",
       "      <td>47161051.2</td>\n",
       "      <td>47161051.2</td>\n",
       "      <td>47161051.2</td>\n",
       "      <td>47161051.2</td>\n",
       "      <td>NE</td>\n",
       "      <td>MRO</td>\n",
       "    </tr>\n",
       "    <tr>\n",
       "      <th>1</th>\n",
       "      <td>COW</td>\n",
       "      <td>2017</td>\n",
       "      <td>1</td>\n",
       "      <td>79</td>\n",
       "      <td>302267.0</td>\n",
       "      <td>15642.000</td>\n",
       "      <td>198135.0</td>\n",
       "      <td>64.847743</td>\n",
       "      <td>-147.735063</td>\n",
       "      <td>1</td>\n",
       "      <td>29380352.4</td>\n",
       "      <td>19258722.0</td>\n",
       "      <td>29380352.4</td>\n",
       "      <td>19258722.0</td>\n",
       "      <td>AK</td>\n",
       "      <td>ASCC</td>\n",
       "    </tr>\n",
       "    <tr>\n",
       "      <th>2</th>\n",
       "      <td>COW</td>\n",
       "      <td>2017</td>\n",
       "      <td>1</td>\n",
       "      <td>508</td>\n",
       "      <td>0.0</td>\n",
       "      <td>0.000</td>\n",
       "      <td>0.0</td>\n",
       "      <td>38.033327</td>\n",
       "      <td>-102.537915</td>\n",
       "      <td>1</td>\n",
       "      <td>0.0</td>\n",
       "      <td>0.0</td>\n",
       "      <td>0.0</td>\n",
       "      <td>0.0</td>\n",
       "      <td>CO</td>\n",
       "      <td>WECC</td>\n",
       "    </tr>\n",
       "    <tr>\n",
       "      <th>3</th>\n",
       "      <td>COW</td>\n",
       "      <td>2017</td>\n",
       "      <td>1</td>\n",
       "      <td>728</td>\n",
       "      <td>0.0</td>\n",
       "      <td>0.000</td>\n",
       "      <td>0.0</td>\n",
       "      <td>33.462200</td>\n",
       "      <td>-84.898600</td>\n",
       "      <td>1</td>\n",
       "      <td>0.0</td>\n",
       "      <td>0.0</td>\n",
       "      <td>0.0</td>\n",
       "      <td>0.0</td>\n",
       "      <td>GA</td>\n",
       "      <td>SERC</td>\n",
       "    </tr>\n",
       "    <tr>\n",
       "      <th>4</th>\n",
       "      <td>COW</td>\n",
       "      <td>2017</td>\n",
       "      <td>1</td>\n",
       "      <td>753</td>\n",
       "      <td>18385.0</td>\n",
       "      <td>721.087</td>\n",
       "      <td>18385.0</td>\n",
       "      <td>31.844708</td>\n",
       "      <td>-83.940734</td>\n",
       "      <td>1</td>\n",
       "      <td>1715320.5</td>\n",
       "      <td>1715320.5</td>\n",
       "      <td>1715320.5</td>\n",
       "      <td>1715320.5</td>\n",
       "      <td>GA</td>\n",
       "      <td>SERC</td>\n",
       "    </tr>\n",
       "  </tbody>\n",
       "</table>\n",
       "</div>"
      ],
      "text/plain": [
       "  type  year  month  plant id  total fuel (mmbtu)  generation (mwh)  \\\n",
       "0  COW  2017      1        59            485196.0         42216.979   \n",
       "1  COW  2017      1        79            302267.0         15642.000   \n",
       "2  COW  2017      1       508                 0.0             0.000   \n",
       "3  COW  2017      1       728                 0.0             0.000   \n",
       "4  COW  2017      1       753             18385.0           721.087   \n",
       "\n",
       "   elec fuel (mmbtu)        lat         lon  quarter  \\\n",
       "0           485196.0  40.854765  -98.348222        1   \n",
       "1           198135.0  64.847743 -147.735063        1   \n",
       "2                0.0  38.033327 -102.537915        1   \n",
       "3                0.0  33.462200  -84.898600        1   \n",
       "4            18385.0  31.844708  -83.940734        1   \n",
       "\n",
       "   all fuel fossil co2 (kg)  elec fuel fossil co2 (kg)  \\\n",
       "0                47161051.2                 47161051.2   \n",
       "1                29380352.4                 19258722.0   \n",
       "2                       0.0                        0.0   \n",
       "3                       0.0                        0.0   \n",
       "4                 1715320.5                  1715320.5   \n",
       "\n",
       "   all fuel total co2 (kg)  elec fuel total co2 (kg) state  nerc  \n",
       "0               47161051.2                47161051.2    NE   MRO  \n",
       "1               29380352.4                19258722.0    AK  ASCC  \n",
       "2                      0.0                       0.0    CO  WECC  \n",
       "3                      0.0                       0.0    GA  SERC  \n",
       "4                1715320.5                 1715320.5    GA  SERC  "
      ]
     },
     "execution_count": 38,
     "metadata": {},
     "output_type": "execute_result"
    }
   ],
   "source": [
    "eia_prev_annual_nerc.head()"
   ]
  },
  {
   "cell_type": "code",
   "execution_count": null,
   "metadata": {},
   "outputs": [],
   "source": [
    "eia_prev_annual.pipe()"
   ]
  },
  {
   "cell_type": "code",
   "execution_count": null,
   "metadata": {
    "ExecuteTime": {
     "end_time": "2017-11-06T17:08:20.808948Z",
     "start_time": "2017-11-06T17:08:20.748469Z"
    },
    "collapsed": true
   },
   "outputs": [],
   "source": [
    "eia_2015_annual_nerc = add_facility_location(eia_2015_annual, location_labels, \n",
    "                                        labels=['state', 'nerc', 'year'])"
   ]
  },
  {
   "cell_type": "markdown",
   "metadata": {},
   "source": [
    "This is 2015 data on annual reporting facilities (from both 2015 and 2017)"
   ]
  },
  {
   "cell_type": "code",
   "execution_count": null,
   "metadata": {
    "ExecuteTime": {
     "end_time": "2017-11-06T17:08:36.285221Z",
     "start_time": "2017-11-06T17:08:36.277897Z"
    },
    "collapsed": true
   },
   "outputs": [],
   "source": [
    "# Get a list of all state abbreviations\n",
    "\n",
    "all_states = []\n",
    "for value in nerc_states.values():\n",
    "    all_states.extend(value)\n",
    "all_states = set(all_states)"
   ]
  },
  {
   "cell_type": "code",
   "execution_count": 43,
   "metadata": {
    "ExecuteTime": {
     "end_time": "2017-11-06T17:08:38.924387Z",
     "start_time": "2017-11-06T17:08:36.287865Z"
    }
   },
   "outputs": [],
   "source": [
    "df_list = []\n",
    "\n",
    "for state in STATES:\n",
    "    try:\n",
    "        df_list.append(fraction_state2nerc(eia_prev_annual_nerc,\n",
    "                       state, region_col='nerc', fuel_col='type'))\n",
    "    except:\n",
    "        print(state)\n",
    "        pass"
   ]
  },
  {
   "cell_type": "code",
   "execution_count": 44,
   "metadata": {
    "ExecuteTime": {
     "end_time": "2017-11-06T17:08:38.970750Z",
     "start_time": "2017-11-06T17:08:38.928892Z"
    },
    "collapsed": true
   },
   "outputs": [],
   "source": [
    "nerc_fraction = pd.concat(df_list)\n",
    "nerc_fraction.set_index(['state', 'nerc', 'type'], inplace=True)\n",
    "nerc_fraction.sort_index(inplace=True)"
   ]
  },
  {
   "cell_type": "markdown",
   "metadata": {},
   "source": [
    "With the values below I can allocate extra state-level generation and fuel use to each of the NERC regions!"
   ]
  },
  {
   "cell_type": "markdown",
   "metadata": {},
   "source": [
    "Making sure that no values are greater than 1 (within tolerance)"
   ]
  },
  {
   "cell_type": "code",
   "execution_count": 45,
   "metadata": {
    "ExecuteTime": {
     "end_time": "2017-11-06T17:16:30.022250Z",
     "start_time": "2017-11-06T17:16:30.012576Z"
    }
   },
   "outputs": [
    {
     "data": {
      "text/plain": [
       "% generation    False\n",
       "% total fuel    False\n",
       "% elec fuel     False\n",
       "dtype: bool"
      ]
     },
     "execution_count": 45,
     "metadata": {},
     "output_type": "execute_result"
    }
   ],
   "source": [
    "(nerc_fraction.groupby(['state', 'type']).sum() > 1.0001).any()"
   ]
  },
  {
   "cell_type": "markdown",
   "metadata": {},
   "source": [
    "## Allocate extra gen from the state-level to regions\n",
    "\n",
    "I still need to generate state-level total generation and fuel use!"
   ]
  },
  {
   "cell_type": "code",
   "execution_count": null,
   "metadata": {
    "ExecuteTime": {
     "end_time": "2017-11-06T17:17:13.954207Z",
     "start_time": "2017-11-06T17:17:13.950071Z"
    },
    "collapsed": true
   },
   "outputs": [],
   "source": [
    "idx = pd.IndexSlice"
   ]
  },
  {
   "cell_type": "code",
   "execution_count": 46,
   "metadata": {
    "ExecuteTime": {
     "end_time": "2017-11-06T17:17:21.163335Z",
     "start_time": "2017-11-06T17:17:21.158742Z"
    },
    "collapsed": true
   },
   "outputs": [],
   "source": [
    "# a dictionary to match column names\n",
    "nerc_frac_match = {'% generation': 'generation (mwh)',\n",
    "                   '% total fuel': 'total fuel (mmbtu)',\n",
    "                   '% elec fuel': 'elec fuel (mmbtu)'}"
   ]
  },
  {
   "cell_type": "markdown",
   "metadata": {},
   "source": [
    "### Load state-level total gen/fuel consumption"
   ]
  },
  {
   "cell_type": "code",
   "execution_count": 48,
   "metadata": {
    "ExecuteTime": {
     "end_time": "2017-11-06T17:17:24.615168Z",
     "start_time": "2017-11-06T17:17:24.212473Z"
    },
    "collapsed": true
   },
   "outputs": [],
   "source": [
    "# path = join(data_path, 'Derived data',\n",
    "#             'EIA state-level gen fuel CO2 {}.csv'.format(file_date))\n",
    "STATE_PATH = (\n",
    "    DATA_PATHS['eia_compiled']\n",
    "    / f'state_gen_fuel_data_{DATA_DATE}.parquet'\n",
    ")\n",
    "\n",
    "state_total = pd.read_parquet(STATE_PATH)"
   ]
  },
  {
   "cell_type": "code",
   "execution_count": 49,
   "metadata": {},
   "outputs": [
    {
     "data": {
      "text/plain": [
       "Index(['generation (MWh)', 'total fuel (mmbtu)', 'elec fuel (mmbtu)',\n",
       "       'all fuel CO2 (kg)', 'elec fuel CO2 (kg)', 'datetime', 'quarter'],\n",
       "      dtype='object')"
      ]
     },
     "execution_count": 49,
     "metadata": {},
     "output_type": "execute_result"
    }
   ],
   "source": [
    "state_total.columns"
   ]
  },
  {
   "cell_type": "code",
   "execution_count": 58,
   "metadata": {
    "ExecuteTime": {
     "end_time": "2017-11-06T17:17:26.684456Z",
     "start_time": "2017-11-06T17:17:26.625319Z"
    },
    "collapsed": true
   },
   "outputs": [],
   "source": [
    "rename_cols(state_total)\n",
    "# state_total['state'] = state_total['geography'].str[-2:]"
   ]
  },
  {
   "cell_type": "markdown",
   "metadata": {},
   "source": [
    "Simplify the dataframe"
   ]
  },
  {
   "cell_type": "code",
   "execution_count": 59,
   "metadata": {},
   "outputs": [
    {
     "data": {
      "text/html": [
       "<div>\n",
       "<style scoped>\n",
       "    .dataframe tbody tr th:only-of-type {\n",
       "        vertical-align: middle;\n",
       "    }\n",
       "\n",
       "    .dataframe tbody tr th {\n",
       "        vertical-align: top;\n",
       "    }\n",
       "\n",
       "    .dataframe thead th {\n",
       "        text-align: right;\n",
       "    }\n",
       "</style>\n",
       "<table border=\"1\" class=\"dataframe\">\n",
       "  <thead>\n",
       "    <tr style=\"text-align: right;\">\n",
       "      <th></th>\n",
       "      <th></th>\n",
       "      <th></th>\n",
       "      <th></th>\n",
       "      <th>generation (mwh)</th>\n",
       "      <th>total fuel (mmbtu)</th>\n",
       "      <th>elec fuel (mmbtu)</th>\n",
       "      <th>all fuel co2 (kg)</th>\n",
       "      <th>elec fuel co2 (kg)</th>\n",
       "      <th>datetime</th>\n",
       "      <th>quarter</th>\n",
       "    </tr>\n",
       "    <tr>\n",
       "      <th>type</th>\n",
       "      <th>year</th>\n",
       "      <th>month</th>\n",
       "      <th>state</th>\n",
       "      <th></th>\n",
       "      <th></th>\n",
       "      <th></th>\n",
       "      <th></th>\n",
       "      <th></th>\n",
       "      <th></th>\n",
       "      <th></th>\n",
       "    </tr>\n",
       "  </thead>\n",
       "  <tbody>\n",
       "    <tr>\n",
       "      <th>SPV</th>\n",
       "      <th>2017</th>\n",
       "      <th>2</th>\n",
       "      <th>NY</th>\n",
       "      <td>12428.09</td>\n",
       "      <td>NaN</td>\n",
       "      <td>NaN</td>\n",
       "      <td>NaN</td>\n",
       "      <td>NaN</td>\n",
       "      <td>2017-02-01</td>\n",
       "      <td>1</td>\n",
       "    </tr>\n",
       "    <tr>\n",
       "      <th>OTH</th>\n",
       "      <th>2002</th>\n",
       "      <th>4</th>\n",
       "      <th>TN</th>\n",
       "      <td>662.32</td>\n",
       "      <td>NaN</td>\n",
       "      <td>NaN</td>\n",
       "      <td>NaN</td>\n",
       "      <td>NaN</td>\n",
       "      <td>2002-04-01</td>\n",
       "      <td>2</td>\n",
       "    </tr>\n",
       "    <tr>\n",
       "      <th>HPS</th>\n",
       "      <th>2005</th>\n",
       "      <th>12</th>\n",
       "      <th>MI</th>\n",
       "      <td>-87093.00</td>\n",
       "      <td>NaN</td>\n",
       "      <td>NaN</td>\n",
       "      <td>NaN</td>\n",
       "      <td>NaN</td>\n",
       "      <td>2005-12-01</td>\n",
       "      <td>4</td>\n",
       "    </tr>\n",
       "    <tr>\n",
       "      <th>WWW</th>\n",
       "      <th>2014</th>\n",
       "      <th>3</th>\n",
       "      <th>LA</th>\n",
       "      <td>200558.68</td>\n",
       "      <td>NaN</td>\n",
       "      <td>NaN</td>\n",
       "      <td>NaN</td>\n",
       "      <td>NaN</td>\n",
       "      <td>2014-03-01</td>\n",
       "      <td>1</td>\n",
       "    </tr>\n",
       "    <tr>\n",
       "      <th>NUC</th>\n",
       "      <th>2008</th>\n",
       "      <th>4</th>\n",
       "      <th>FL</th>\n",
       "      <td>2376495.00</td>\n",
       "      <td>NaN</td>\n",
       "      <td>NaN</td>\n",
       "      <td>NaN</td>\n",
       "      <td>NaN</td>\n",
       "      <td>2008-04-01</td>\n",
       "      <td>2</td>\n",
       "    </tr>\n",
       "  </tbody>\n",
       "</table>\n",
       "</div>"
      ],
      "text/plain": [
       "                       generation (mwh)  total fuel (mmbtu)  \\\n",
       "type year month state                                         \n",
       "SPV  2017 2     NY             12428.09                 NaN   \n",
       "OTH  2002 4     TN               662.32                 NaN   \n",
       "HPS  2005 12    MI            -87093.00                 NaN   \n",
       "WWW  2014 3     LA            200558.68                 NaN   \n",
       "NUC  2008 4     FL           2376495.00                 NaN   \n",
       "\n",
       "                       elec fuel (mmbtu)  all fuel co2 (kg)  \\\n",
       "type year month state                                         \n",
       "SPV  2017 2     NY                   NaN                NaN   \n",
       "OTH  2002 4     TN                   NaN                NaN   \n",
       "HPS  2005 12    MI                   NaN                NaN   \n",
       "WWW  2014 3     LA                   NaN                NaN   \n",
       "NUC  2008 4     FL                   NaN                NaN   \n",
       "\n",
       "                       elec fuel co2 (kg)   datetime  quarter  \n",
       "type year month state                                          \n",
       "SPV  2017 2     NY                    NaN 2017-02-01        1  \n",
       "OTH  2002 4     TN                    NaN 2002-04-01        2  \n",
       "HPS  2005 12    MI                    NaN 2005-12-01        4  \n",
       "WWW  2014 3     LA                    NaN 2014-03-01        1  \n",
       "NUC  2008 4     FL                    NaN 2008-04-01        2  "
      ]
     },
     "execution_count": 59,
     "metadata": {},
     "output_type": "execute_result"
    }
   ],
   "source": [
    "state_total.sample(5)"
   ]
  },
  {
   "cell_type": "code",
   "execution_count": 60,
   "metadata": {},
   "outputs": [
    {
     "data": {
      "text/plain": [
       "{'% generation': 'generation (mwh)',\n",
       " '% total fuel': 'total fuel (mmbtu)',\n",
       " '% elec fuel': 'elec fuel (mmbtu)'}"
      ]
     },
     "execution_count": 60,
     "metadata": {},
     "output_type": "execute_result"
    }
   ],
   "source": [
    "nerc_frac_match"
   ]
  },
  {
   "cell_type": "code",
   "execution_count": 61,
   "metadata": {
    "ExecuteTime": {
     "end_time": "2017-11-06T17:17:33.931547Z",
     "start_time": "2017-11-06T17:17:33.823487Z"
    }
   },
   "outputs": [],
   "source": [
    "cols = list(nerc_frac_match.values())\n",
    "state_total = state_total.groupby(['state', 'year', 'month', 'type'])[cols].sum()"
   ]
  },
  {
   "cell_type": "code",
   "execution_count": 62,
   "metadata": {},
   "outputs": [
    {
     "data": {
      "text/html": [
       "<div>\n",
       "<style scoped>\n",
       "    .dataframe tbody tr th:only-of-type {\n",
       "        vertical-align: middle;\n",
       "    }\n",
       "\n",
       "    .dataframe tbody tr th {\n",
       "        vertical-align: top;\n",
       "    }\n",
       "\n",
       "    .dataframe thead th {\n",
       "        text-align: right;\n",
       "    }\n",
       "</style>\n",
       "<table border=\"1\" class=\"dataframe\">\n",
       "  <thead>\n",
       "    <tr style=\"text-align: right;\">\n",
       "      <th></th>\n",
       "      <th></th>\n",
       "      <th></th>\n",
       "      <th></th>\n",
       "      <th>generation (mwh)</th>\n",
       "      <th>total fuel (mmbtu)</th>\n",
       "      <th>elec fuel (mmbtu)</th>\n",
       "    </tr>\n",
       "    <tr>\n",
       "      <th>state</th>\n",
       "      <th>year</th>\n",
       "      <th>month</th>\n",
       "      <th>type</th>\n",
       "      <th></th>\n",
       "      <th></th>\n",
       "      <th></th>\n",
       "    </tr>\n",
       "  </thead>\n",
       "  <tbody>\n",
       "    <tr>\n",
       "      <th>KY</th>\n",
       "      <th>2009</th>\n",
       "      <th>1</th>\n",
       "      <th>NG</th>\n",
       "      <td>115770.67</td>\n",
       "      <td>1599950.0</td>\n",
       "      <td>1315980.0</td>\n",
       "    </tr>\n",
       "    <tr>\n",
       "      <th>NY</th>\n",
       "      <th>2016</th>\n",
       "      <th>4</th>\n",
       "      <th>NUC</th>\n",
       "      <td>2510168.00</td>\n",
       "      <td>0.0</td>\n",
       "      <td>0.0</td>\n",
       "    </tr>\n",
       "    <tr>\n",
       "      <th>MD</th>\n",
       "      <th>2017</th>\n",
       "      <th>5</th>\n",
       "      <th>TSN</th>\n",
       "      <td>96652.48</td>\n",
       "      <td>0.0</td>\n",
       "      <td>0.0</td>\n",
       "    </tr>\n",
       "    <tr>\n",
       "      <th>HI</th>\n",
       "      <th>2014</th>\n",
       "      <th>3</th>\n",
       "      <th>DPV</th>\n",
       "      <td>44233.17</td>\n",
       "      <td>0.0</td>\n",
       "      <td>0.0</td>\n",
       "    </tr>\n",
       "    <tr>\n",
       "      <th>NH</th>\n",
       "      <th>2017</th>\n",
       "      <th>1</th>\n",
       "      <th>TSN</th>\n",
       "      <td>4616.07</td>\n",
       "      <td>0.0</td>\n",
       "      <td>0.0</td>\n",
       "    </tr>\n",
       "  </tbody>\n",
       "</table>\n",
       "</div>"
      ],
      "text/plain": [
       "                       generation (mwh)  total fuel (mmbtu)  elec fuel (mmbtu)\n",
       "state year month type                                                         \n",
       "KY    2009 1     NG           115770.67           1599950.0          1315980.0\n",
       "NY    2016 4     NUC         2510168.00                 0.0                0.0\n",
       "MD    2017 5     TSN           96652.48                 0.0                0.0\n",
       "HI    2014 3     DPV           44233.17                 0.0                0.0\n",
       "NH    2017 1     TSN            4616.07                 0.0                0.0"
      ]
     },
     "execution_count": 62,
     "metadata": {},
     "output_type": "execute_result"
    }
   ],
   "source": [
    "state_total.sample(5)"
   ]
  },
  {
   "cell_type": "code",
   "execution_count": 53,
   "metadata": {
    "ExecuteTime": {
     "end_time": "2017-11-06T17:17:37.589401Z",
     "start_time": "2017-11-06T17:17:37.584045Z"
    },
    "collapsed": true
   },
   "outputs": [],
   "source": [
    "# list of NERC regions\n",
    "NERCS = nerc_fraction.index.get_level_values('nerc').unique()"
   ]
  },
  {
   "cell_type": "code",
   "execution_count": 54,
   "metadata": {},
   "outputs": [
    {
     "data": {
      "text/plain": [
       "Index(['ASCC', 'SERC', 'SPP', 'WECC', 'NPCC', 'RFC', 'FRCC', 'HICC', 'MRO',\n",
       "       'TRE'],\n",
       "      dtype='object', name='nerc')"
      ]
     },
     "execution_count": 54,
     "metadata": {},
     "output_type": "execute_result"
    }
   ],
   "source": [
    "nercs"
   ]
  },
  {
   "cell_type": "markdown",
   "metadata": {},
   "source": [
    "### Group the facility data to state fuel categories and add state labels"
   ]
  },
  {
   "cell_type": "code",
   "execution_count": 64,
   "metadata": {
    "ExecuteTime": {
     "end_time": "2017-11-06T17:18:04.557540Z",
     "start_time": "2017-11-06T17:17:58.399196Z"
    },
    "collapsed": true
   },
   "outputs": [],
   "source": [
    "cols = list(nerc_frac_match.values())\n",
    "eia_fac_type = group_fuel_cats(eia_fac, STATE_FACILITY_FUELS)\n",
    "eia_fac_type = add_facility_location(eia_fac_type, location_labels, ['state', 'year'])\n",
    "eia_fac_type = eia_fac_type.groupby(['state', 'year', 'month', 'type'])[cols].sum()"
   ]
  },
  {
   "cell_type": "markdown",
   "metadata": {},
   "source": [
    "### Calculate the extra gen/fuel consumption at the state levels\n",
    "**Only worrying about extra generation from 2016 forward.**"
   ]
  },
  {
   "cell_type": "code",
   "execution_count": 67,
   "metadata": {
    "ExecuteTime": {
     "end_time": "2017-11-06T17:18:29.739841Z",
     "start_time": "2017-11-06T17:18:29.638943Z"
    }
   },
   "outputs": [],
   "source": [
    "state_extra = (state_total.loc[idx[:, prev_year:, :, :], :]\n",
    "               - eia_fac_type.loc[idx[:, prev_year:, :, :], :])\n",
    "state_extra.dropna(how='all', inplace=True)\n",
    "state_extra = state_extra.reorder_levels(['year', 'state', 'month', 'type'])\n",
    "state_extra.sort_index(inplace=True)"
   ]
  },
  {
   "cell_type": "markdown",
   "metadata": {},
   "source": [
    "Sort the index of each dataframe to make sure they can be easily combined."
   ]
  },
  {
   "cell_type": "code",
   "execution_count": 65,
   "metadata": {
    "ExecuteTime": {
     "end_time": "2017-11-06T17:18:29.824834Z",
     "start_time": "2017-11-06T17:18:29.801409Z"
    }
   },
   "outputs": [],
   "source": [
    "nerc_fraction.sort_index(inplace=True)"
   ]
  },
  {
   "cell_type": "code",
   "execution_count": 68,
   "metadata": {
    "ExecuteTime": {
     "end_time": "2017-11-06T17:18:29.851377Z",
     "start_time": "2017-11-06T17:18:29.826926Z"
    }
   },
   "outputs": [],
   "source": [
    "state_extra.sort_index(inplace=True)"
   ]
  },
  {
   "cell_type": "markdown",
   "metadata": {},
   "source": [
    "Create a copy of the `nerc_fraction` dataframe with repeated values for every month of the year, so that they MultiIndex matches the `state_extra` MultiIndex"
   ]
  },
  {
   "cell_type": "code",
   "execution_count": 69,
   "metadata": {
    "ExecuteTime": {
     "end_time": "2017-11-06T17:18:29.913157Z",
     "start_time": "2017-11-06T17:18:29.853842Z"
    },
    "collapsed": true
   },
   "outputs": [],
   "source": [
    "df_list = []\n",
    "for month in range(1, 13):\n",
    "    df = nerc_fraction.copy()\n",
    "    df['month'] = month\n",
    "    df.set_index('month', append=True, inplace=True)\n",
    "    df_list.append(df)\n",
    "\n",
    "nerc_frac_monthly = pd.concat(df_list, axis=0)\n",
    "nerc_frac_monthly.sort_index(inplace=True)\n",
    "nerc_frac_monthly = (nerc_frac_monthly\n",
    "                     .reorder_levels(['nerc', 'state', 'month', 'type']))"
   ]
  },
  {
   "cell_type": "markdown",
   "metadata": {},
   "source": [
    "Cycle through each year (2016 and 2017 in this case) and each NERC, multiplying the state-level extra generation, total fuel consumption, and fuel consumption for electricity by the share that should be allocated to each NERC."
   ]
  },
  {
   "cell_type": "code",
   "execution_count": 75,
   "metadata": {
    "ExecuteTime": {
     "end_time": "2017-11-06T17:18:31.126440Z",
     "start_time": "2017-11-06T17:18:29.923008Z"
    },
    "collapsed": true
   },
   "outputs": [],
   "source": [
    "df_list_outer = []\n",
    "for year in [FINAL_DATA_YEAR]:\n",
    "    df_list_inner = []\n",
    "    for nerc in nercs:\n",
    "        df = pd.concat([(nerc_frac_monthly\n",
    "                         .loc[nerc]['% generation']\n",
    "                         * state_extra\n",
    "                         .loc[year]['generation (mwh)']).dropna(),\n",
    "                        (nerc_frac_monthly.\n",
    "                         loc[nerc]['% total fuel']\n",
    "                         * state_extra\n",
    "                         .loc[year]['total fuel (mmbtu)']).dropna(),\n",
    "                        (nerc_frac_monthly\n",
    "                         .loc[nerc]['% elec fuel']\n",
    "                         * state_extra\n",
    "                         .loc[year]['elec fuel (mmbtu)']).dropna()],\n",
    "                        axis=1)\n",
    "        df.columns = nerc_frac_match.values()\n",
    "        df['nerc'] = nerc\n",
    "        df['year'] = year\n",
    "        df = df.groupby(['year', 'nerc', 'month', 'type']).sum()\n",
    "        df_list_inner.append(df)\n",
    "\n",
    "    df_list_outer.append(pd.concat(df_list_inner))\n",
    "final = pd.concat(df_list_outer)\n",
    "final.sort_index(inplace=True)"
   ]
  },
  {
   "cell_type": "code",
   "execution_count": 76,
   "metadata": {
    "ExecuteTime": {
     "end_time": "2017-11-06T17:18:31.155192Z",
     "start_time": "2017-11-06T17:18:31.129610Z"
    },
    "collapsed": true
   },
   "outputs": [],
   "source": [
    "nerc_frac_monthly.sort_index(inplace=True)"
   ]
  },
  {
   "cell_type": "markdown",
   "metadata": {},
   "source": [
    "Although the dataframe is called `final`, it's really just the final allocated extra state-level generation/fuel consumption"
   ]
  },
  {
   "cell_type": "code",
   "execution_count": 79,
   "metadata": {
    "ExecuteTime": {
     "end_time": "2017-11-06T17:19:01.406924Z",
     "start_time": "2017-11-06T17:19:01.377498Z"
    },
    "collapsed": true
   },
   "outputs": [],
   "source": [
    "# path = join(data_path, 'Derived data',\n",
    "#             'NERC extra gen fuels {}.csv'.format(file_date))\n",
    "\n",
    "out_path = (\n",
    "    DATA_PATHS['nerc_extra']\n",
    "    / f'NERC extra gen fuels {DATA_DATE}.csv'\n",
    ")\n",
    "final.to_csv(out_path)"
   ]
  },
  {
   "cell_type": "code",
   "execution_count": null,
   "metadata": {},
   "outputs": [],
   "source": []
  }
 ],
 "metadata": {
  "kernelspec": {
   "display_name": "psci",
   "language": "python",
   "name": "psci"
  },
  "language_info": {
   "codemirror_mode": {
    "name": "ipython",
    "version": 3
   },
   "file_extension": ".py",
   "mimetype": "text/x-python",
   "name": "python",
   "nbconvert_exporter": "python",
   "pygments_lexer": "ipython3",
   "version": "3.6.8"
  },
  "varInspector": {
   "cols": {
    "lenName": 16,
    "lenType": 16,
    "lenVar": 40
   },
   "kernels_config": {
    "python": {
     "delete_cmd_postfix": "",
     "delete_cmd_prefix": "del ",
     "library": "var_list.py",
     "varRefreshCmd": "print(var_dic_list())"
    },
    "r": {
     "delete_cmd_postfix": ") ",
     "delete_cmd_prefix": "rm(",
     "library": "var_list.r",
     "varRefreshCmd": "cat(var_dic_list()) "
    }
   },
   "types_to_exclude": [
    "module",
    "function",
    "builtin_function_or_method",
    "instance",
    "_Feature"
   ],
   "window_display": false
  }
 },
 "nbformat": 4,
 "nbformat_minor": 2
}
