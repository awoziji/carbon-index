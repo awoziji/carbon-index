{
 "cells": [
  {
   "cell_type": "markdown",
   "metadata": {},
   "source": [
    "# Assign NERC labels to plants using 860 data and k-nearest neighbors"
   ]
  },
  {
   "cell_type": "code",
   "execution_count": 92,
   "metadata": {},
   "outputs": [],
   "source": [
    "%matplotlib inline\n",
    "import matplotlib.pyplot as plt\n",
    "# import geopandas as gpd\n",
    "# from shapely.geometry import Point\n",
    "# from geopandas import GeoDataFrame\n",
    "import os\n",
    "from os.path import join\n",
    "import pandas as pd\n",
    "# import fiona\n",
    "# from urllib.request import urlopen\n",
    "# from zipfile import ZipFile\n",
    "# from io import BytesIO\n",
    "from sklearn import neighbors\n",
    "from sklearn.model_selection import train_test_split, GridSearchCV\n",
    "from sklearn.preprocessing import StandardScaler\n",
    "from collections import Counter\n",
    "\n",
    "\n",
    "cwd = os.getcwd()\n",
    "data_path = join(cwd, '..', 'Data storage')"
   ]
  },
  {
   "cell_type": "markdown",
   "metadata": {},
   "source": [
    "## Load data"
   ]
  },
  {
   "cell_type": "markdown",
   "metadata": {},
   "source": [
    "### Load EIA facility data\n",
    "Only need to keep the plant id, year (as a check that plants don't move between years), and lat/lon"
   ]
  },
  {
   "cell_type": "code",
   "execution_count": 48,
   "metadata": {
    "collapsed": true
   },
   "outputs": [],
   "source": [
    "path = os.path.join(data_path, 'Facility gen fuels and CO2 2017-08-31.zip')\n",
    "facility_df = pd.read_csv(path)\n",
    "facility_df['state'] = facility_df['geography'].str[-2:]"
   ]
  },
  {
   "cell_type": "code",
   "execution_count": 49,
   "metadata": {
    "collapsed": true
   },
   "outputs": [],
   "source": [
    "plants = facility_df.loc[:, ['plant id', 'year', 'lat', 'lon', 'state']]\n",
    "plants.drop_duplicates(inplace=True)"
   ]
  },
  {
   "cell_type": "markdown",
   "metadata": {},
   "source": [
    "### Load known NERC labels from EIA-860\n",
    "Current NERCS go back to 2011. Use that, 2015, and the 2016 early release."
   ]
  },
  {
   "cell_type": "code",
   "execution_count": 81,
   "metadata": {
    "collapsed": true
   },
   "outputs": [],
   "source": [
    "path = join(data_path, 'EIA downloads', 'eia8602015', '2___Plant_Y2015.xlsx')\n",
    "nercs2015 = pd.read_excel(path, skiprows=0, parse_cols='C,L')\n",
    "nercs2015.columns = ['plant id', 'nerc']\n",
    "nercs2015['year'] = 2015\n",
    "\n",
    "path = join(data_path, 'EIA downloads', 'eia8602016er', '2___Plant_Y2016_Early_Release.xlsx')\n",
    "nercs2016 = pd.read_excel(path, skiprows=[0, 1], parse_cols='D,M')\n",
    "nercs2016.columns = ['plant id', 'nerc']\n",
    "nercs2016['year'] = 2016\n",
    "\n",
    "path = join(data_path, 'EIA downloads', 'eia8602011', 'Plant.xlsx')\n",
    "nercs2012 = pd.read_excel(path, skiprows=0, parse_cols='B,J')\n",
    "nercs2012.columns = ['plant id', 'nerc']\n",
    "nercs2012['year'] = 2012"
   ]
  },
  {
   "cell_type": "code",
   "execution_count": 82,
   "metadata": {
    "collapsed": true
   },
   "outputs": [],
   "source": [
    "nercs = pd.concat([nercs2012, nercs2015, nercs2016]).drop_duplicates(subset=['plant id', 'nerc'])"
   ]
  },
  {
   "cell_type": "markdown",
   "metadata": {},
   "source": [
    "### Look for plants listed with different NERC labels\n",
    "There are 22 plants duplicated. Two of them don't have a NERC label in one of the years. The largest move is from MRO to other regions (12), with most of those to SPP (7). After that, moves from RFC (5) to MRO (3) and SERC (2).\n",
    "\n",
    "The plants that have duplicate NERC region labels represent a small fraction of national generation, but one that is growing over time. By 2016 they consist of 0.15% of national generation."
   ]
  },
  {
   "cell_type": "code",
   "execution_count": 83,
   "metadata": {},
   "outputs": [
    {
     "name": "stdout",
     "output_type": "stream",
     "text": [
      "6855 total records\n",
      "6855 unique plants\n",
      "8928 total records\n",
      "8928 unique plants\n",
      "9610 total records\n",
      "9610 unique plants\n",
      "9997 total records\n",
      "9975 unique plants\n"
     ]
    }
   ],
   "source": [
    "for df_ in [nercs2012, nercs2015, nercs2016, nercs]:\n",
    "    print('{} total records'.format(len(df_)))\n",
    "    print('{} unique plants'.format(len(df_['plant id'].unique())))"
   ]
  },
  {
   "cell_type": "code",
   "execution_count": 99,
   "metadata": {},
   "outputs": [
    {
     "data": {
      "text/plain": [
       "array([   66,  1120,  1121,  7757,  7848,  7847,  6280, 57251, 57252,\n",
       "          70,   899,  1168, 57449, 55836, 56266, 56106, 56856, 56985,\n",
       "       57622, 57623, 57650, 58690])"
      ]
     },
     "execution_count": 99,
     "metadata": {},
     "output_type": "execute_result"
    }
   ],
   "source": [
    "dup_plants = nercs.loc[nercs['plant id'].duplicated(keep=False), 'plant id'].unique()\n",
    "dup_plants"
   ]
  },
  {
   "cell_type": "code",
   "execution_count": 100,
   "metadata": {},
   "outputs": [
    {
     "data": {
      "text/plain": [
       "Counter({('ASCC', nan): 2,\n",
       "         ('MRO', 'RFC'): 2,\n",
       "         ('MRO', 'SERC'): 1,\n",
       "         ('MRO', 'SPP'): 7,\n",
       "         ('MRO', 'WECC'): 2,\n",
       "         ('RFC', 'MRO'): 3,\n",
       "         ('RFC', 'SERC'): 2,\n",
       "         ('SERC', 'SPP'): 1,\n",
       "         ('SPP', 'SERC'): 2})"
      ]
     },
     "execution_count": 100,
     "metadata": {},
     "output_type": "execute_result"
    }
   ],
   "source": [
    "region_list = []\n",
    "for plant in dup_plants:\n",
    "    regions = nercs.loc[nercs['plant id'] == plant, 'nerc'].unique()\n",
    "#     regions = regions.tolist()\n",
    "    region_list.append(regions)\n",
    "Counter(tuple(x) for x in region_list)"
   ]
  },
  {
   "cell_type": "code",
   "execution_count": 97,
   "metadata": {},
   "outputs": [
    {
     "data": {
      "text/plain": [
       "year\n",
       "2001    0.000345\n",
       "2002    0.000269\n",
       "2003    0.000262\n",
       "2004    0.000313\n",
       "2005    0.000426\n",
       "2006    0.000514\n",
       "2007    0.000509\n",
       "2008    0.000527\n",
       "2009    0.000631\n",
       "2010    0.000683\n",
       "2011    0.000763\n",
       "2012    0.001268\n",
       "2013    0.001119\n",
       "2014    0.001032\n",
       "2015    0.001420\n",
       "2016    0.001590\n",
       "2017    0.000878\n",
       "Name: generation (MWh), dtype: float64"
      ]
     },
     "execution_count": 97,
     "metadata": {},
     "output_type": "execute_result"
    }
   ],
   "source": [
    "(facility_df.loc[facility_df['plant id'].isin(plants), :]\n",
    "            .groupby('year')['generation (MWh)'].sum()\n",
    " / facility_df.loc[:, :]\n",
    "              .groupby('year')['generation (MWh)'].sum())"
   ]
  },
  {
   "cell_type": "markdown",
   "metadata": {},
   "source": [
    "### Some plants in EIA-860 don't have NERC labels. Drop them now."
   ]
  },
  {
   "cell_type": "code",
   "execution_count": 17,
   "metadata": {},
   "outputs": [
    {
     "data": {
      "text/plain": [
       "35"
      ]
     },
     "execution_count": 17,
     "metadata": {},
     "output_type": "execute_result"
    }
   ],
   "source": [
    "nan_plants = nercs.loc[nercs.isnull().any(axis=1)]\n",
    "len(nan_plants)"
   ]
  },
  {
   "cell_type": "code",
   "execution_count": 16,
   "metadata": {},
   "outputs": [
    {
     "data": {
      "text/html": [
       "<div>\n",
       "<style>\n",
       "    .dataframe thead tr:only-child th {\n",
       "        text-align: right;\n",
       "    }\n",
       "\n",
       "    .dataframe thead th {\n",
       "        text-align: left;\n",
       "    }\n",
       "\n",
       "    .dataframe tbody tr th {\n",
       "        vertical-align: top;\n",
       "    }\n",
       "</style>\n",
       "<table border=\"1\" class=\"dataframe\">\n",
       "  <thead>\n",
       "    <tr style=\"text-align: right;\">\n",
       "      <th></th>\n",
       "      <th>plant id</th>\n",
       "      <th>nerc</th>\n",
       "    </tr>\n",
       "  </thead>\n",
       "  <tbody>\n",
       "  </tbody>\n",
       "</table>\n",
       "</div>"
      ],
      "text/plain": [
       "Empty DataFrame\n",
       "Columns: [plant id, nerc]\n",
       "Index: []"
      ]
     },
     "execution_count": 16,
     "metadata": {},
     "output_type": "execute_result"
    }
   ],
   "source": [
    "nercs.loc[nercs['plant id'].isin(nan_plants)]"
   ]
  },
  {
   "cell_type": "code",
   "execution_count": 18,
   "metadata": {
    "collapsed": true
   },
   "outputs": [],
   "source": [
    "nercs.dropna(inplace=True)"
   ]
  },
  {
   "cell_type": "markdown",
   "metadata": {},
   "source": [
    "## Clean and prep data for KNN"
   ]
  },
  {
   "cell_type": "code",
   "execution_count": 19,
   "metadata": {},
   "outputs": [
    {
     "data": {
      "text/plain": [
       "array(['SERC', 'RFC', 'SPP', 'NPCC', 'WECC', 'MRO', 'TRE', 'HICC', 'ASCC',\n",
       "       'FRCC'], dtype=object)"
      ]
     },
     "execution_count": 19,
     "metadata": {},
     "output_type": "execute_result"
    }
   ],
   "source": [
    "# nercs = ['SERC', 'RFC', 'SPP', 'NPCC', 'WECC', 'MRO', 'TRE', 'FRCC']\n",
    "nerc_names = nercs.nerc.unique()\n",
    "nerc_names"
   ]
  },
  {
   "cell_type": "code",
   "execution_count": 50,
   "metadata": {
    "collapsed": true
   },
   "outputs": [],
   "source": [
    "df = pd.merge(plants, nercs, on=['plant id'], how='left')"
   ]
  },
  {
   "cell_type": "code",
   "execution_count": 51,
   "metadata": {},
   "outputs": [
    {
     "data": {
      "text/plain": [
       "Index(['plant id', 'year', 'lat', 'lon', 'state', 'nerc'], dtype='object')"
      ]
     },
     "execution_count": 51,
     "metadata": {},
     "output_type": "execute_result"
    }
   ],
   "source": [
    "df.columns"
   ]
  },
  {
   "cell_type": "markdown",
   "metadata": {},
   "source": [
    "Drop plants that don't have lat/lon data (using just lon to check), and then drop duplicates. If any plants have kept the same plant id but moved over time (maybe a diesel generator?) they will show up twice."
   ]
  },
  {
   "cell_type": "code",
   "execution_count": 52,
   "metadata": {
    "collapsed": true
   },
   "outputs": [],
   "source": [
    "cols = ['plant id', 'lat', 'lon', 'nerc', 'state']\n",
    "df_slim = (df.loc[:, cols].dropna(subset=['lon']).drop_duplicates())"
   ]
  },
  {
   "cell_type": "code",
   "execution_count": 108,
   "metadata": {},
   "outputs": [
    {
     "data": {
      "text/plain": [
       "8441"
      ]
     },
     "execution_count": 108,
     "metadata": {},
     "output_type": "execute_result"
    }
   ],
   "source": [
    "len(df_slim)"
   ]
  },
  {
   "cell_type": "markdown",
   "metadata": {},
   "source": [
    "Separate out the list of plants where we don't have NERC labels from EIA-860."
   ]
  },
  {
   "cell_type": "code",
   "execution_count": 107,
   "metadata": {
    "collapsed": true
   },
   "outputs": [],
   "source": [
    "unknown = df_slim.loc[df_slim.nerc.isnull()]"
   ]
  },
  {
   "cell_type": "code",
   "execution_count": 109,
   "metadata": {},
   "outputs": [
    {
     "name": "stdout",
     "output_type": "stream",
     "text": [
      "266 plants don't have NERC labels\n",
      "\n",
      "       plant id        lat         lon nerc state\n",
      "10892     61172  21.452002 -158.187888  NaN    HI\n",
      "12757     58425  61.130000 -150.243611  NaN    AK\n",
      "12799     58380  61.286000 -149.610000  NaN    AK\n",
      "13166     58277  20.886700 -156.337800  NaN    HI\n",
      "19106     58651  21.328056 -158.040000  NaN    HI\n"
     ]
    }
   ],
   "source": [
    "print(\"{} plants don't have NERC labels\\n\".format(len(unknown)))\n",
    "print(unknown.head())"
   ]
  },
  {
   "cell_type": "markdown",
   "metadata": {},
   "source": [
    "### Create X and y matricies\n",
    "X is lat/lon\n",
    "\n",
    "y is the NERC label\n",
    "\n",
    "For both, I'm only using plants where we have all data (no `NaN`s). Not doing any transformation of the lat/lon at this time. There is certainly some error here, as KNN will use the Euclidian distance to calculate nearest neighbors. Not sure how I plan on dealing with this, or if it is even necessary."
   ]
  },
  {
   "cell_type": "code",
   "execution_count": 55,
   "metadata": {
    "collapsed": true
   },
   "outputs": [],
   "source": [
    "X = df_slim.loc[df_slim.notnull().all(axis=1), ['lat', 'lon']]\n",
    "y = df_slim.loc[df_slim.notnull().all(axis=1), 'nerc']"
   ]
  },
  {
   "cell_type": "code",
   "execution_count": 56,
   "metadata": {},
   "outputs": [
    {
     "data": {
      "text/plain": [
       "8175"
      ]
     },
     "execution_count": 56,
     "metadata": {},
     "output_type": "execute_result"
    }
   ],
   "source": [
    "len(X)"
   ]
  },
  {
   "cell_type": "code",
   "execution_count": 30,
   "metadata": {
    "collapsed": true
   },
   "outputs": [],
   "source": [
    "X_train, X_test, y_train, y_test = train_test_split(\n",
    "    X, y, test_size=0.33, random_state=42)"
   ]
  },
  {
   "cell_type": "markdown",
   "metadata": {},
   "source": [
    "## GridSearch to find the best parameters"
   ]
  },
  {
   "cell_type": "markdown",
   "metadata": {},
   "source": [
    "### Regular KNN classifier\n",
    "Run gridsearch testing parameter values for weights, n_neighbors, and p. Interestingly, the score is slightly higher with p=1 (use Manhattan distance rather than Euclidean)."
   ]
  },
  {
   "cell_type": "code",
   "execution_count": 105,
   "metadata": {},
   "outputs": [
    {
     "data": {
      "text/plain": [
       "GridSearchCV(cv=None, error_score='raise',\n",
       "       estimator=KNeighborsClassifier(algorithm='auto', leaf_size=30, metric='minkowski',\n",
       "           metric_params=None, n_jobs=1, n_neighbors=5, p=2,\n",
       "           weights='uniform'),\n",
       "       fit_params=None, iid=True, n_jobs=-1,\n",
       "       param_grid={'weights': ['uniform', 'distance'], 'n_neighbors': [3, 5, 10, 15, 20], 'p': [1, 2]},\n",
       "       pre_dispatch='2*n_jobs', refit=True, return_train_score=True,\n",
       "       scoring=None, verbose=0)"
      ]
     },
     "execution_count": 105,
     "metadata": {},
     "output_type": "execute_result"
    }
   ],
   "source": [
    "knn = neighbors.KNeighborsClassifier()\n",
    "\n",
    "params = {'weights': ['uniform', 'distance'],\n",
    "          'n_neighbors': [3, 5, 10, 15, 20],\n",
    "          'p': [1, 2]\n",
    "         }\n",
    "\n",
    "clf_knn = GridSearchCV(knn, params, n_jobs=-1)\n",
    "\n",
    "clf_knn.fit(X_train, y_train)"
   ]
  },
  {
   "cell_type": "code",
   "execution_count": 104,
   "metadata": {},
   "outputs": [
    {
     "data": {
      "text/plain": [
       "(KNeighborsClassifier(algorithm='auto', leaf_size=30, metric='minkowski',\n",
       "            metric_params=None, n_jobs=1, n_neighbors=10, p=2,\n",
       "            weights='distance'), 0.96439656746394009)"
      ]
     },
     "execution_count": 104,
     "metadata": {},
     "output_type": "execute_result"
    }
   ],
   "source": [
    "clf_knn.best_estimator_, clf_knn.best_score_"
   ]
  },
  {
   "cell_type": "code",
   "execution_count": 106,
   "metadata": {},
   "outputs": [
    {
     "data": {
      "text/plain": [
       "(KNeighborsClassifier(algorithm='auto', leaf_size=30, metric='minkowski',\n",
       "            metric_params=None, n_jobs=1, n_neighbors=5, p=1,\n",
       "            weights='distance'), 0.96457914916925325)"
      ]
     },
     "execution_count": 106,
     "metadata": {},
     "output_type": "execute_result"
    }
   ],
   "source": [
    "clf_knn.best_estimator_, clf_knn.best_score_"
   ]
  },
  {
   "cell_type": "markdown",
   "metadata": {},
   "source": [
    "### Radius neighbors classifier\n",
    "Doesn't work as well as KNN"
   ]
  },
  {
   "cell_type": "code",
   "execution_count": 45,
   "metadata": {},
   "outputs": [
    {
     "data": {
      "text/plain": [
       "GridSearchCV(cv=None, error_score='raise',\n",
       "       estimator=RadiusNeighborsClassifier(algorithm='auto', leaf_size=30, metric='minkowski',\n",
       "             metric_params=None, outlier_label=None, p=2, radius=1.0,\n",
       "             weights='uniform'),\n",
       "       fit_params=None, iid=True, n_jobs=-1,\n",
       "       param_grid={'weights': ['uniform', 'distance'], 'radius': [10, 50, 100], 'leaf_size': [3, 5, 10], 'p': [1, 2]},\n",
       "       pre_dispatch='2*n_jobs', refit=True, return_train_score=True,\n",
       "       scoring=None, verbose=0)"
      ]
     },
     "execution_count": 45,
     "metadata": {},
     "output_type": "execute_result"
    }
   ],
   "source": [
    "rnn = neighbors.RadiusNeighborsClassifier()\n",
    "\n",
    "params = {'weights': ['uniform', 'distance'],\n",
    "          'radius': [10, 50, 100],\n",
    "          'leaf_size': [3, 5, 10],\n",
    "          'p': [1, 2]}\n",
    "\n",
    "clf_rnn = GridSearchCV(rnn, params, n_jobs=-1)\n",
    "\n",
    "clf_rnn.fit(X_train, y_train)"
   ]
  },
  {
   "cell_type": "code",
   "execution_count": 46,
   "metadata": {},
   "outputs": [
    {
     "data": {
      "text/plain": [
       "(RadiusNeighborsClassifier(algorithm='auto', leaf_size=3, metric='minkowski',\n",
       "              metric_params=None, outlier_label=None, p=1, radius=10,\n",
       "              weights='distance'), 0.94431257987949613)"
      ]
     },
     "execution_count": 46,
     "metadata": {},
     "output_type": "execute_result"
    }
   ],
   "source": [
    "clf_rnn.best_estimator_, clf_rnn.best_score_"
   ]
  },
  {
   "cell_type": "markdown",
   "metadata": {},
   "source": [
    "## Use best KNN parameters to predict NERC for unknown plants"
   ]
  },
  {
   "cell_type": "code",
   "execution_count": 111,
   "metadata": {},
   "outputs": [
    {
     "name": "stderr",
     "output_type": "stream",
     "text": [
      "/Users/greg/anaconda/envs/py36/lib/python3.6/site-packages/pandas/core/indexing.py:517: SettingWithCopyWarning: \n",
      "A value is trying to be set on a copy of a slice from a DataFrame.\n",
      "Try using .loc[row_indexer,col_indexer] = value instead\n",
      "\n",
      "See the caveats in the documentation: http://pandas.pydata.org/pandas-docs/stable/indexing.html#indexing-view-versus-copy\n",
      "  self.obj[item] = s\n"
     ]
    }
   ],
   "source": [
    "unknown.loc[:, 'nerc'] = clf.predict(unknown.loc[:, ['lat', 'lon']])"
   ]
  },
  {
   "cell_type": "markdown",
   "metadata": {},
   "source": [
    "Ensuring that no plants in Alaska or Hawaii are assigned to continental NERCs, or the other way around."
   ]
  },
  {
   "cell_type": "code",
   "execution_count": 117,
   "metadata": {},
   "outputs": [
    {
     "name": "stdout",
     "output_type": "stream",
     "text": [
      "['HICC' 'ASCC']\n",
      "['HI' 'AK']\n"
     ]
    }
   ],
   "source": [
    "print(unknown.loc[unknown.state.isin(['AK', 'HI']), 'nerc'].unique())\n",
    "print(unknown.loc[unknown.nerc.isin(['HICC', 'ASCC']), 'state'].unique())"
   ]
  },
  {
   "cell_type": "code",
   "execution_count": 119,
   "metadata": {},
   "outputs": [
    {
     "data": {
      "text/plain": [
       "Counter({'ASCC': 14,\n",
       "         'FRCC': 4,\n",
       "         'HICC': 10,\n",
       "         'MRO': 8,\n",
       "         'NPCC': 30,\n",
       "         'RFC': 52,\n",
       "         'SERC': 39,\n",
       "         'SPP': 21,\n",
       "         'TRE': 23,\n",
       "         'WECC': 65})"
      ]
     },
     "execution_count": 119,
     "metadata": {},
     "output_type": "execute_result"
    }
   ],
   "source": [
    "Counter(unknown['nerc'])"
   ]
  },
  {
   "cell_type": "markdown",
   "metadata": {},
   "source": [
    "## Export plants with lat/lon, state, and nerc"
   ]
  },
  {
   "cell_type": "code",
   "execution_count": 64,
   "metadata": {},
   "outputs": [
    {
     "data": {
      "text/html": [
       "<div>\n",
       "<style>\n",
       "    .dataframe thead tr:only-child th {\n",
       "        text-align: right;\n",
       "    }\n",
       "\n",
       "    .dataframe thead th {\n",
       "        text-align: left;\n",
       "    }\n",
       "\n",
       "    .dataframe tbody tr th {\n",
       "        vertical-align: top;\n",
       "    }\n",
       "</style>\n",
       "<table border=\"1\" class=\"dataframe\">\n",
       "  <thead>\n",
       "    <tr style=\"text-align: right;\">\n",
       "      <th></th>\n",
       "      <th>plant id</th>\n",
       "      <th>lat</th>\n",
       "      <th>lon</th>\n",
       "      <th>nerc</th>\n",
       "      <th>state</th>\n",
       "    </tr>\n",
       "  </thead>\n",
       "  <tbody>\n",
       "    <tr>\n",
       "      <th>10892</th>\n",
       "      <td>61172</td>\n",
       "      <td>21.452002</td>\n",
       "      <td>-158.187888</td>\n",
       "      <td>HICC</td>\n",
       "      <td>HI</td>\n",
       "    </tr>\n",
       "    <tr>\n",
       "      <th>12757</th>\n",
       "      <td>58425</td>\n",
       "      <td>61.130000</td>\n",
       "      <td>-150.243611</td>\n",
       "      <td>ASCC</td>\n",
       "      <td>AK</td>\n",
       "    </tr>\n",
       "    <tr>\n",
       "      <th>12799</th>\n",
       "      <td>58380</td>\n",
       "      <td>61.286000</td>\n",
       "      <td>-149.610000</td>\n",
       "      <td>ASCC</td>\n",
       "      <td>AK</td>\n",
       "    </tr>\n",
       "    <tr>\n",
       "      <th>13166</th>\n",
       "      <td>58277</td>\n",
       "      <td>20.886700</td>\n",
       "      <td>-156.337800</td>\n",
       "      <td>HICC</td>\n",
       "      <td>HI</td>\n",
       "    </tr>\n",
       "    <tr>\n",
       "      <th>19106</th>\n",
       "      <td>58651</td>\n",
       "      <td>21.328056</td>\n",
       "      <td>-158.040000</td>\n",
       "      <td>HICC</td>\n",
       "      <td>HI</td>\n",
       "    </tr>\n",
       "  </tbody>\n",
       "</table>\n",
       "</div>"
      ],
      "text/plain": [
       "       plant id        lat         lon  nerc state\n",
       "10892     61172  21.452002 -158.187888  HICC    HI\n",
       "12757     58425  61.130000 -150.243611  ASCC    AK\n",
       "12799     58380  61.286000 -149.610000  ASCC    AK\n",
       "13166     58277  20.886700 -156.337800  HICC    HI\n",
       "19106     58651  21.328056 -158.040000  HICC    HI"
      ]
     },
     "execution_count": 64,
     "metadata": {},
     "output_type": "execute_result"
    }
   ],
   "source": [
    "unknown.head()"
   ]
  },
  {
   "cell_type": "code",
   "execution_count": 121,
   "metadata": {},
   "outputs": [
    {
     "data": {
      "text/html": [
       "<div>\n",
       "<style>\n",
       "    .dataframe thead tr:only-child th {\n",
       "        text-align: right;\n",
       "    }\n",
       "\n",
       "    .dataframe thead th {\n",
       "        text-align: left;\n",
       "    }\n",
       "\n",
       "    .dataframe tbody tr th {\n",
       "        vertical-align: top;\n",
       "    }\n",
       "</style>\n",
       "<table border=\"1\" class=\"dataframe\">\n",
       "  <thead>\n",
       "    <tr style=\"text-align: right;\">\n",
       "      <th></th>\n",
       "      <th>plant id</th>\n",
       "      <th>lat</th>\n",
       "      <th>lon</th>\n",
       "      <th>nerc</th>\n",
       "      <th>state</th>\n",
       "    </tr>\n",
       "  </thead>\n",
       "  <tbody>\n",
       "    <tr>\n",
       "      <th>89046</th>\n",
       "      <td>499</td>\n",
       "      <td>37.643611</td>\n",
       "      <td>-120.757500</td>\n",
       "      <td>WECC</td>\n",
       "      <td>CA</td>\n",
       "    </tr>\n",
       "    <tr>\n",
       "      <th>89073</th>\n",
       "      <td>7478</td>\n",
       "      <td>32.738889</td>\n",
       "      <td>-114.700278</td>\n",
       "      <td>WECC</td>\n",
       "      <td>AZ</td>\n",
       "    </tr>\n",
       "    <tr>\n",
       "      <th>89076</th>\n",
       "      <td>56197</td>\n",
       "      <td>35.301389</td>\n",
       "      <td>-77.631111</td>\n",
       "      <td>SERC</td>\n",
       "      <td>NC</td>\n",
       "    </tr>\n",
       "    <tr>\n",
       "      <th>89099</th>\n",
       "      <td>56508</td>\n",
       "      <td>35.226389</td>\n",
       "      <td>-119.628333</td>\n",
       "      <td>WECC</td>\n",
       "      <td>CA</td>\n",
       "    </tr>\n",
       "    <tr>\n",
       "      <th>89148</th>\n",
       "      <td>596</td>\n",
       "      <td>39.733889</td>\n",
       "      <td>-75.564444</td>\n",
       "      <td>RFC</td>\n",
       "      <td>DE</td>\n",
       "    </tr>\n",
       "  </tbody>\n",
       "</table>\n",
       "</div>"
      ],
      "text/plain": [
       "       plant id        lat         lon  nerc state\n",
       "89046       499  37.643611 -120.757500  WECC    CA\n",
       "89073      7478  32.738889 -114.700278  WECC    AZ\n",
       "89076     56197  35.301389  -77.631111  SERC    NC\n",
       "89099     56508  35.226389 -119.628333  WECC    CA\n",
       "89148       596  39.733889  -75.564444   RFC    DE"
      ]
     },
     "execution_count": 121,
     "metadata": {},
     "output_type": "execute_result"
    }
   ],
   "source": [
    "unknown.tail()"
   ]
  },
  {
   "cell_type": "code",
   "execution_count": 65,
   "metadata": {},
   "outputs": [
    {
     "data": {
      "text/html": [
       "<div>\n",
       "<style>\n",
       "    .dataframe thead tr:only-child th {\n",
       "        text-align: right;\n",
       "    }\n",
       "\n",
       "    .dataframe thead th {\n",
       "        text-align: left;\n",
       "    }\n",
       "\n",
       "    .dataframe tbody tr th {\n",
       "        vertical-align: top;\n",
       "    }\n",
       "</style>\n",
       "<table border=\"1\" class=\"dataframe\">\n",
       "  <thead>\n",
       "    <tr style=\"text-align: right;\">\n",
       "      <th></th>\n",
       "      <th>plant id</th>\n",
       "      <th>lat</th>\n",
       "      <th>lon</th>\n",
       "      <th>nerc</th>\n",
       "      <th>state</th>\n",
       "    </tr>\n",
       "  </thead>\n",
       "  <tbody>\n",
       "    <tr>\n",
       "      <th>0</th>\n",
       "      <td>10360</td>\n",
       "      <td>44.49360</td>\n",
       "      <td>-88.030300</td>\n",
       "      <td>MRO</td>\n",
       "      <td>WI</td>\n",
       "    </tr>\n",
       "    <tr>\n",
       "      <th>11</th>\n",
       "      <td>10052</td>\n",
       "      <td>40.79950</td>\n",
       "      <td>-124.202800</td>\n",
       "      <td>WECC</td>\n",
       "      <td>CA</td>\n",
       "    </tr>\n",
       "    <tr>\n",
       "      <th>26</th>\n",
       "      <td>10036</td>\n",
       "      <td>43.11391</td>\n",
       "      <td>-71.894001</td>\n",
       "      <td>NPCC</td>\n",
       "      <td>NH</td>\n",
       "    </tr>\n",
       "    <tr>\n",
       "      <th>41</th>\n",
       "      <td>10377</td>\n",
       "      <td>37.29390</td>\n",
       "      <td>-77.269700</td>\n",
       "      <td>SERC</td>\n",
       "      <td>VA</td>\n",
       "    </tr>\n",
       "    <tr>\n",
       "      <th>56</th>\n",
       "      <td>10362</td>\n",
       "      <td>35.73220</td>\n",
       "      <td>-95.293900</td>\n",
       "      <td>SPP</td>\n",
       "      <td>OK</td>\n",
       "    </tr>\n",
       "  </tbody>\n",
       "</table>\n",
       "</div>"
      ],
      "text/plain": [
       "    plant id       lat         lon  nerc state\n",
       "0      10360  44.49360  -88.030300   MRO    WI\n",
       "11     10052  40.79950 -124.202800  WECC    CA\n",
       "26     10036  43.11391  -71.894001  NPCC    NH\n",
       "41     10377  37.29390  -77.269700  SERC    VA\n",
       "56     10362  35.73220  -95.293900   SPP    OK"
      ]
     },
     "execution_count": 65,
     "metadata": {},
     "output_type": "execute_result"
    }
   ],
   "source": [
    "df_slim.head()"
   ]
  },
  {
   "cell_type": "code",
   "execution_count": 122,
   "metadata": {
    "collapsed": true
   },
   "outputs": [],
   "source": [
    "labeled = pd.concat([df_slim.loc[df_slim.notnull().all(axis=1)], unknown])"
   ]
  },
  {
   "cell_type": "code",
   "execution_count": 123,
   "metadata": {},
   "outputs": [
    {
     "data": {
      "text/html": [
       "<div>\n",
       "<style>\n",
       "    .dataframe thead tr:only-child th {\n",
       "        text-align: right;\n",
       "    }\n",
       "\n",
       "    .dataframe thead th {\n",
       "        text-align: left;\n",
       "    }\n",
       "\n",
       "    .dataframe tbody tr th {\n",
       "        vertical-align: top;\n",
       "    }\n",
       "</style>\n",
       "<table border=\"1\" class=\"dataframe\">\n",
       "  <thead>\n",
       "    <tr style=\"text-align: right;\">\n",
       "      <th></th>\n",
       "      <th>plant id</th>\n",
       "      <th>lat</th>\n",
       "      <th>lon</th>\n",
       "      <th>nerc</th>\n",
       "      <th>state</th>\n",
       "    </tr>\n",
       "  </thead>\n",
       "  <tbody>\n",
       "  </tbody>\n",
       "</table>\n",
       "</div>"
      ],
      "text/plain": [
       "Empty DataFrame\n",
       "Columns: [plant id, lat, lon, nerc, state]\n",
       "Index: []"
      ]
     },
     "execution_count": 123,
     "metadata": {},
     "output_type": "execute_result"
    }
   ],
   "source": [
    "labeled.loc[labeled.nerc.isnull()]"
   ]
  },
  {
   "cell_type": "code",
   "execution_count": 124,
   "metadata": {
    "collapsed": true
   },
   "outputs": [],
   "source": [
    "path = join(data_path, 'Facility labels', 'Facility locations_knn.csv')\n",
    "labeled.to_csv(path, index=False)"
   ]
  },
  {
   "cell_type": "code",
   "execution_count": null,
   "metadata": {
    "collapsed": true
   },
   "outputs": [],
   "source": []
  }
 ],
 "metadata": {
  "kernelspec": {
   "display_name": "Python 3",
   "language": "python",
   "name": "python3"
  },
  "language_info": {
   "codemirror_mode": {
    "name": "ipython",
    "version": 3
   },
   "file_extension": ".py",
   "mimetype": "text/x-python",
   "name": "python",
   "nbconvert_exporter": "python",
   "pygments_lexer": "ipython3",
   "version": "3.6.2"
  }
 },
 "nbformat": 4,
 "nbformat_minor": 2
}
