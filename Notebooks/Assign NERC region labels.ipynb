{
 "cells": [
  {
   "cell_type": "markdown",
   "metadata": {},
   "source": [
    "# Assign NERC labels to plants using 860 data and k-nearest neighbors"
   ]
  },
  {
   "cell_type": "code",
   "execution_count": 1,
   "metadata": {
    "ExecuteTime": {
     "end_time": "2017-11-06T20:00:19.547289Z",
     "start_time": "2017-11-06T20:00:19.534260Z"
    },
    "collapsed": true
   },
   "outputs": [],
   "source": [
    "%matplotlib inline\n",
    "import matplotlib.pyplot as plt\n",
    "import os\n",
    "from os.path import join\n",
    "import pandas as pd\n",
    "from sklearn import neighbors, metrics\n",
    "from sklearn.preprocessing import LabelEncoder\n",
    "from sklearn.model_selection import train_test_split, GridSearchCV\n",
    "from collections import Counter\n",
    "\n",
    "\n",
    "cwd = os.getcwd()\n",
    "data_path = join(cwd, '..', 'Data storage')"
   ]
  },
  {
   "cell_type": "markdown",
   "metadata": {},
   "source": [
    "### Date string for filenames\n",
    "This will be inserted into all filenames (reading and writing)"
   ]
  },
  {
   "cell_type": "code",
   "execution_count": 2,
   "metadata": {},
   "outputs": [],
   "source": [
    "file_date = '2018-03-06'"
   ]
  },
  {
   "cell_type": "markdown",
   "metadata": {},
   "source": [
    "## Load data\n",
    "This loads facility data that has been assembled from the EIA bulk data file, and EIA-860 excel files. The EIA-860 excel files need to be downloaded manually."
   ]
  },
  {
   "cell_type": "markdown",
   "metadata": {},
   "source": [
    "### Load EIA facility data\n",
    "Only need to keep the plant id, year (as a check that plants don't move between years), and lat/lon"
   ]
  },
  {
   "cell_type": "code",
   "execution_count": 3,
   "metadata": {
    "ExecuteTime": {
     "end_time": "2017-11-06T14:34:57.939401Z",
     "start_time": "2017-11-06T14:34:48.570853Z"
    },
    "collapsed": true
   },
   "outputs": [],
   "source": [
    "path = os.path.join(data_path, 'Facility gen fuels and CO2 {}.csv'.format(file_date))\n",
    "facility_df = pd.read_csv(path)\n",
    "facility_df['state'] = facility_df['geography'].str[-2:]"
   ]
  },
  {
   "cell_type": "code",
   "execution_count": 4,
   "metadata": {
    "ExecuteTime": {
     "end_time": "2017-11-06T14:42:35.675435Z",
     "start_time": "2017-11-06T14:42:34.964483Z"
    },
    "collapsed": true
   },
   "outputs": [],
   "source": [
    "plants = facility_df.loc[:, ['plant id', 'year', 'lat', 'lon', 'state']]\n",
    "plants.drop_duplicates(inplace=True)"
   ]
  },
  {
   "cell_type": "markdown",
   "metadata": {},
   "source": [
    "### Load known NERC labels from EIA-860\n",
    "Current NERCS go back to 2012. Use that, 2015, and the 2016 early release."
   ]
  },
  {
   "cell_type": "code",
   "execution_count": 5,
   "metadata": {
    "ExecuteTime": {
     "end_time": "2017-11-06T14:27:35.633747Z",
     "start_time": "2017-11-06T14:27:35.621006Z"
    },
    "collapsed": true
   },
   "outputs": [],
   "source": [
    "eia_base_path = join(data_path, 'EIA downloads')\n",
    "file_860_info = {\n",
    "#     2011: {'io': join(eia_base_path, 'eia8602011', 'Plant.xlsx'),\n",
    "#            'skiprows': 0,\n",
    "#            'parse_cols': 'B,J'},\n",
    "    2012: {'io': join(eia_base_path, 'eia8602012', 'PlantY2012.xlsx'),\n",
    "           'skiprows': 0,\n",
    "           'usecols': 'B,J'},\n",
    "    2013: {'io': join(eia_base_path, 'eia8602013', '2___Plant_Y2013.xlsx'),\n",
    "           'skiprows': 0,\n",
    "           'usecols': 'C,L'},\n",
    "    2014: {'io': join(eia_base_path, 'eia8602014', '2___Plant_Y2014.xlsx'),\n",
    "           'skiprows': 0,\n",
    "           'usecols': 'C,L'},\n",
    "    2015: {'io': join(eia_base_path, 'eia8602015', '2___Plant_Y2015.xlsx'),\n",
    "           'skiprows': 0,\n",
    "           'usecols': 'C,L'},\n",
    "    2016: {'io': join(eia_base_path, 'eia8602016', '2___Plant_Y2016.xlsx'),\n",
    "           'skiprows': 0,\n",
    "           'usecols': 'C,L'}\n",
    "}"
   ]
  },
  {
   "cell_type": "code",
   "execution_count": 6,
   "metadata": {
    "ExecuteTime": {
     "end_time": "2017-11-06T14:30:20.380645Z",
     "start_time": "2017-11-06T14:29:57.233977Z"
    }
   },
   "outputs": [],
   "source": [
    "eia_nercs = {}\n",
    "for key, args in file_860_info.items():\n",
    "    eia_nercs[key] = pd.read_excel(**args)\n",
    "    eia_nercs[key].columns = ['plant id', 'nerc']\n",
    "    eia_nercs[key]['year'] = key"
   ]
  },
  {
   "cell_type": "code",
   "execution_count": 7,
   "metadata": {
    "ExecuteTime": {
     "end_time": "2017-11-06T14:30:23.906158Z",
     "start_time": "2017-11-06T14:30:23.877433Z"
    }
   },
   "outputs": [],
   "source": [
    "nercs = pd.concat(eia_nercs.values()).drop_duplicates(subset=['plant id', 'nerc'])"
   ]
  },
  {
   "cell_type": "markdown",
   "metadata": {},
   "source": [
    "### Look for plants listed with different NERC labels\n",
    "There are 30 plants duplicated. Five of them don't have a NERC label in one of the years. The largest move is from MRO to other regions (12), with most of those to SPP (7). After that, moves from RFC (5) to MRO (3) and SERC (2). There are also some moves from WECC and FRCC to HICC/ASCC - these might be diesel generators that get moved.\n",
    "\n",
    "The plants that have duplicate NERC region labels represent a small fraction of national generation, but one that is growing over time. By 2016 they consist of 0.15% of national generation."
   ]
  },
  {
   "cell_type": "code",
   "execution_count": 8,
   "metadata": {
    "ExecuteTime": {
     "end_time": "2017-11-06T14:31:12.401717Z",
     "start_time": "2017-11-06T14:31:12.388812Z"
    }
   },
   "outputs": [
    {
     "name": "stdout",
     "output_type": "stream",
     "text": [
      "7289 total records\n",
      "7289 unique plants\n",
      "8060 total records\n",
      "8060 unique plants\n",
      "8520 total records\n",
      "8520 unique plants\n",
      "8928 total records\n",
      "8928 unique plants\n",
      "9711 total records\n",
      "9711 unique plants\n",
      "10104 total records\n",
      "10068 unique plants\n"
     ]
    }
   ],
   "source": [
    "for df_ in list(eia_nercs.values()) + [nercs]:\n",
    "    print('{} total records'.format(len(df_)))\n",
    "    print('{} unique plants'.format(len(df_['plant id'].unique())))"
   ]
  },
  {
   "cell_type": "code",
   "execution_count": 9,
   "metadata": {
    "ExecuteTime": {
     "end_time": "2017-11-06T14:43:34.109577Z",
     "start_time": "2017-11-06T14:43:34.102600Z"
    }
   },
   "outputs": [
    {
     "data": {
      "text/plain": [
       "array([   66,  1120,  1121,  7757,  7848,  7847,  6280, 57251, 57252,\n",
       "          70,   899,  1168, 57449, 58469, 55836, 56266, 56106, 56856,\n",
       "       56985, 57622, 57623, 57651, 57650, 57983, 58117, 58278, 58511,\n",
       "       59027, 59037, 58690, 58655, 58676], dtype=int64)"
      ]
     },
     "execution_count": 9,
     "metadata": {},
     "output_type": "execute_result"
    }
   ],
   "source": [
    "dup_plants = nercs.loc[nercs['plant id'].duplicated(keep=False), 'plant id'].unique()\n",
    "dup_plants"
   ]
  },
  {
   "cell_type": "code",
   "execution_count": 10,
   "metadata": {
    "ExecuteTime": {
     "end_time": "2017-11-06T14:43:41.526762Z",
     "start_time": "2017-11-06T14:43:41.503604Z"
    }
   },
   "outputs": [
    {
     "data": {
      "text/plain": [
       "Counter({('ASCC', nan): 2,\n",
       "         ('FRCC', 'HICC'): 1,\n",
       "         ('MRO', 'RFC'): 2,\n",
       "         ('MRO', 'SERC'): 1,\n",
       "         ('MRO', 'SPP'): 7,\n",
       "         ('MRO', 'WECC'): 3,\n",
       "         ('RFC', 'MRO'): 3,\n",
       "         ('RFC', 'SERC'): 2,\n",
       "         ('SERC', 'SPP'): 1,\n",
       "         ('SPP', 'SERC'): 2,\n",
       "         ('SPP', 'TRE'): 1,\n",
       "         ('WECC', 'ASCC'): 2,\n",
       "         ('WECC', 'HICC'): 1,\n",
       "         (nan, 'WECC', 'ASCC'): 3,\n",
       "         (nan, 'WECC', 'HICC'): 1})"
      ]
     },
     "execution_count": 10,
     "metadata": {},
     "output_type": "execute_result"
    }
   ],
   "source": [
    "region_list = []\n",
    "for plant in dup_plants:\n",
    "    regions = nercs.loc[nercs['plant id'] == plant, 'nerc'].unique()\n",
    "#     regions = regions.tolist()\n",
    "    region_list.append(regions)\n",
    "Counter(tuple(x) for x in region_list)"
   ]
  },
  {
   "cell_type": "code",
   "execution_count": 11,
   "metadata": {
    "ExecuteTime": {
     "end_time": "2017-11-06T14:43:46.932593Z",
     "start_time": "2017-11-06T14:43:46.804826Z"
    }
   },
   "outputs": [
    {
     "data": {
      "text/plain": [
       "year\n",
       "2001    0.000345\n",
       "2002    0.000269\n",
       "2003    0.000262\n",
       "2004    0.000313\n",
       "2005    0.000426\n",
       "2006    0.000514\n",
       "2007    0.000509\n",
       "2008    0.000527\n",
       "2009    0.000631\n",
       "2010    0.000683\n",
       "2011    0.000763\n",
       "2012    0.001286\n",
       "2013    0.001138\n",
       "2014    0.001079\n",
       "2015    0.001701\n",
       "2016    0.001962\n",
       "2017    0.001460\n",
       "Name: generation (MWh), dtype: float64"
      ]
     },
     "execution_count": 11,
     "metadata": {},
     "output_type": "execute_result"
    }
   ],
   "source": [
    "(facility_df.loc[facility_df['plant id'].isin(dup_plants), :]\n",
    "            .groupby('year')['generation (MWh)'].sum()\n",
    " / facility_df.loc[:, :]\n",
    "              .groupby('year')['generation (MWh)'].sum())"
   ]
  },
  {
   "cell_type": "markdown",
   "metadata": {},
   "source": [
    "### Some plants in EIA-860 don't have NERC labels. Drop them now.\n",
    "This is my training data. All of these plants should still be in my `plants` dataframe."
   ]
  },
  {
   "cell_type": "code",
   "execution_count": 12,
   "metadata": {
    "ExecuteTime": {
     "end_time": "2017-11-06T16:24:20.138841Z",
     "start_time": "2017-11-06T16:24:20.056677Z"
    }
   },
   "outputs": [
    {
     "data": {
      "text/plain": [
       "41"
      ]
     },
     "execution_count": 12,
     "metadata": {},
     "output_type": "execute_result"
    }
   ],
   "source": [
    "nan_plants = nercs.loc[nercs.isnull().any(axis=1)]\n",
    "len(nan_plants)"
   ]
  },
  {
   "cell_type": "code",
   "execution_count": 13,
   "metadata": {
    "ExecuteTime": {
     "end_time": "2017-11-06T16:24:53.142457Z",
     "start_time": "2017-11-06T16:24:53.113360Z"
    }
   },
   "outputs": [
    {
     "data": {
      "text/html": [
       "<div>\n",
       "<style scoped>\n",
       "    .dataframe tbody tr th:only-of-type {\n",
       "        vertical-align: middle;\n",
       "    }\n",
       "\n",
       "    .dataframe tbody tr th {\n",
       "        vertical-align: top;\n",
       "    }\n",
       "\n",
       "    .dataframe thead th {\n",
       "        text-align: right;\n",
       "    }\n",
       "</style>\n",
       "<table border=\"1\" class=\"dataframe\">\n",
       "  <thead>\n",
       "    <tr style=\"text-align: right;\">\n",
       "      <th></th>\n",
       "      <th>plant id</th>\n",
       "      <th>nerc</th>\n",
       "      <th>year</th>\n",
       "    </tr>\n",
       "  </thead>\n",
       "  <tbody>\n",
       "    <tr>\n",
       "      <th>65</th>\n",
       "      <td>66</td>\n",
       "      <td>ASCC</td>\n",
       "      <td>2012</td>\n",
       "    </tr>\n",
       "    <tr>\n",
       "      <th>1637</th>\n",
       "      <td>58277</td>\n",
       "      <td>NaN</td>\n",
       "      <td>2012</td>\n",
       "    </tr>\n",
       "    <tr>\n",
       "      <th>1928</th>\n",
       "      <td>70</td>\n",
       "      <td>ASCC</td>\n",
       "      <td>2012</td>\n",
       "    </tr>\n",
       "    <tr>\n",
       "      <th>1961</th>\n",
       "      <td>58405</td>\n",
       "      <td>NaN</td>\n",
       "      <td>2012</td>\n",
       "    </tr>\n",
       "    <tr>\n",
       "      <th>4145</th>\n",
       "      <td>58469</td>\n",
       "      <td>NaN</td>\n",
       "      <td>2012</td>\n",
       "    </tr>\n",
       "    <tr>\n",
       "      <th>6945</th>\n",
       "      <td>58117</td>\n",
       "      <td>NaN</td>\n",
       "      <td>2012</td>\n",
       "    </tr>\n",
       "    <tr>\n",
       "      <th>6946</th>\n",
       "      <td>58278</td>\n",
       "      <td>NaN</td>\n",
       "      <td>2012</td>\n",
       "    </tr>\n",
       "    <tr>\n",
       "      <th>7164</th>\n",
       "      <td>58380</td>\n",
       "      <td>NaN</td>\n",
       "      <td>2012</td>\n",
       "    </tr>\n",
       "    <tr>\n",
       "      <th>7194</th>\n",
       "      <td>58425</td>\n",
       "      <td>NaN</td>\n",
       "      <td>2012</td>\n",
       "    </tr>\n",
       "    <tr>\n",
       "      <th>7262</th>\n",
       "      <td>58511</td>\n",
       "      <td>NaN</td>\n",
       "      <td>2012</td>\n",
       "    </tr>\n",
       "    <tr>\n",
       "      <th>64</th>\n",
       "      <td>66</td>\n",
       "      <td>NaN</td>\n",
       "      <td>2013</td>\n",
       "    </tr>\n",
       "    <tr>\n",
       "      <th>828</th>\n",
       "      <td>58982</td>\n",
       "      <td>NaN</td>\n",
       "      <td>2013</td>\n",
       "    </tr>\n",
       "    <tr>\n",
       "      <th>1917</th>\n",
       "      <td>58639</td>\n",
       "      <td>NaN</td>\n",
       "      <td>2013</td>\n",
       "    </tr>\n",
       "    <tr>\n",
       "      <th>1918</th>\n",
       "      <td>58640</td>\n",
       "      <td>NaN</td>\n",
       "      <td>2013</td>\n",
       "    </tr>\n",
       "    <tr>\n",
       "      <th>1938</th>\n",
       "      <td>58977</td>\n",
       "      <td>NaN</td>\n",
       "      <td>2013</td>\n",
       "    </tr>\n",
       "    <tr>\n",
       "      <th>2205</th>\n",
       "      <td>58989</td>\n",
       "      <td>NaN</td>\n",
       "      <td>2013</td>\n",
       "    </tr>\n",
       "    <tr>\n",
       "      <th>2213</th>\n",
       "      <td>58549</td>\n",
       "      <td>NaN</td>\n",
       "      <td>2013</td>\n",
       "    </tr>\n",
       "    <tr>\n",
       "      <th>4127</th>\n",
       "      <td>58469</td>\n",
       "      <td>WECC</td>\n",
       "      <td>2013</td>\n",
       "    </tr>\n",
       "    <tr>\n",
       "      <th>6954</th>\n",
       "      <td>58117</td>\n",
       "      <td>WECC</td>\n",
       "      <td>2013</td>\n",
       "    </tr>\n",
       "    <tr>\n",
       "      <th>6955</th>\n",
       "      <td>58278</td>\n",
       "      <td>WECC</td>\n",
       "      <td>2013</td>\n",
       "    </tr>\n",
       "    <tr>\n",
       "      <th>7301</th>\n",
       "      <td>58511</td>\n",
       "      <td>WECC</td>\n",
       "      <td>2013</td>\n",
       "    </tr>\n",
       "    <tr>\n",
       "      <th>7414</th>\n",
       "      <td>58651</td>\n",
       "      <td>NaN</td>\n",
       "      <td>2013</td>\n",
       "    </tr>\n",
       "    <tr>\n",
       "      <th>7422</th>\n",
       "      <td>58656</td>\n",
       "      <td>NaN</td>\n",
       "      <td>2013</td>\n",
       "    </tr>\n",
       "    <tr>\n",
       "      <th>7424</th>\n",
       "      <td>58659</td>\n",
       "      <td>NaN</td>\n",
       "      <td>2013</td>\n",
       "    </tr>\n",
       "    <tr>\n",
       "      <th>7427</th>\n",
       "      <td>58662</td>\n",
       "      <td>NaN</td>\n",
       "      <td>2013</td>\n",
       "    </tr>\n",
       "    <tr>\n",
       "      <th>7432</th>\n",
       "      <td>58684</td>\n",
       "      <td>NaN</td>\n",
       "      <td>2013</td>\n",
       "    </tr>\n",
       "    <tr>\n",
       "      <th>7457</th>\n",
       "      <td>58705</td>\n",
       "      <td>NaN</td>\n",
       "      <td>2013</td>\n",
       "    </tr>\n",
       "    <tr>\n",
       "      <th>7603</th>\n",
       "      <td>58837</td>\n",
       "      <td>NaN</td>\n",
       "      <td>2013</td>\n",
       "    </tr>\n",
       "    <tr>\n",
       "      <th>7750</th>\n",
       "      <td>59035</td>\n",
       "      <td>NaN</td>\n",
       "      <td>2013</td>\n",
       "    </tr>\n",
       "    <tr>\n",
       "      <th>4129</th>\n",
       "      <td>58469</td>\n",
       "      <td>HICC</td>\n",
       "      <td>2014</td>\n",
       "    </tr>\n",
       "    <tr>\n",
       "      <th>6929</th>\n",
       "      <td>58117</td>\n",
       "      <td>ASCC</td>\n",
       "      <td>2014</td>\n",
       "    </tr>\n",
       "    <tr>\n",
       "      <th>6930</th>\n",
       "      <td>58278</td>\n",
       "      <td>ASCC</td>\n",
       "      <td>2014</td>\n",
       "    </tr>\n",
       "    <tr>\n",
       "      <th>7272</th>\n",
       "      <td>58511</td>\n",
       "      <td>ASCC</td>\n",
       "      <td>2014</td>\n",
       "    </tr>\n",
       "    <tr>\n",
       "      <th>8453</th>\n",
       "      <td>60024</td>\n",
       "      <td>NaN</td>\n",
       "      <td>2015</td>\n",
       "    </tr>\n",
       "    <tr>\n",
       "      <th>8550</th>\n",
       "      <td>60125</td>\n",
       "      <td>NaN</td>\n",
       "      <td>2015</td>\n",
       "    </tr>\n",
       "    <tr>\n",
       "      <th>8667</th>\n",
       "      <td>60243</td>\n",
       "      <td>NaN</td>\n",
       "      <td>2015</td>\n",
       "    </tr>\n",
       "    <tr>\n",
       "      <th>8668</th>\n",
       "      <td>60244</td>\n",
       "      <td>NaN</td>\n",
       "      <td>2015</td>\n",
       "    </tr>\n",
       "    <tr>\n",
       "      <th>8669</th>\n",
       "      <td>60245</td>\n",
       "      <td>NaN</td>\n",
       "      <td>2015</td>\n",
       "    </tr>\n",
       "    <tr>\n",
       "      <th>8674</th>\n",
       "      <td>60250</td>\n",
       "      <td>NaN</td>\n",
       "      <td>2015</td>\n",
       "    </tr>\n",
       "    <tr>\n",
       "      <th>8684</th>\n",
       "      <td>60260</td>\n",
       "      <td>NaN</td>\n",
       "      <td>2015</td>\n",
       "    </tr>\n",
       "    <tr>\n",
       "      <th>8749</th>\n",
       "      <td>60328</td>\n",
       "      <td>NaN</td>\n",
       "      <td>2015</td>\n",
       "    </tr>\n",
       "    <tr>\n",
       "      <th>40</th>\n",
       "      <td>70</td>\n",
       "      <td>NaN</td>\n",
       "      <td>2016</td>\n",
       "    </tr>\n",
       "    <tr>\n",
       "      <th>8888</th>\n",
       "      <td>60563</td>\n",
       "      <td>NaN</td>\n",
       "      <td>2016</td>\n",
       "    </tr>\n",
       "    <tr>\n",
       "      <th>8913</th>\n",
       "      <td>60588</td>\n",
       "      <td>NaN</td>\n",
       "      <td>2016</td>\n",
       "    </tr>\n",
       "    <tr>\n",
       "      <th>9128</th>\n",
       "      <td>60814</td>\n",
       "      <td>NaN</td>\n",
       "      <td>2016</td>\n",
       "    </tr>\n",
       "    <tr>\n",
       "      <th>9371</th>\n",
       "      <td>61068</td>\n",
       "      <td>NaN</td>\n",
       "      <td>2016</td>\n",
       "    </tr>\n",
       "    <tr>\n",
       "      <th>9400</th>\n",
       "      <td>61099</td>\n",
       "      <td>NaN</td>\n",
       "      <td>2016</td>\n",
       "    </tr>\n",
       "    <tr>\n",
       "      <th>9402</th>\n",
       "      <td>61101</td>\n",
       "      <td>NaN</td>\n",
       "      <td>2016</td>\n",
       "    </tr>\n",
       "    <tr>\n",
       "      <th>9448</th>\n",
       "      <td>61166</td>\n",
       "      <td>NaN</td>\n",
       "      <td>2016</td>\n",
       "    </tr>\n",
       "    <tr>\n",
       "      <th>9453</th>\n",
       "      <td>61172</td>\n",
       "      <td>NaN</td>\n",
       "      <td>2016</td>\n",
       "    </tr>\n",
       "    <tr>\n",
       "      <th>9626</th>\n",
       "      <td>61364</td>\n",
       "      <td>NaN</td>\n",
       "      <td>2016</td>\n",
       "    </tr>\n",
       "  </tbody>\n",
       "</table>\n",
       "</div>"
      ],
      "text/plain": [
       "      plant id  nerc  year\n",
       "65          66  ASCC  2012\n",
       "1637     58277   NaN  2012\n",
       "1928        70  ASCC  2012\n",
       "1961     58405   NaN  2012\n",
       "4145     58469   NaN  2012\n",
       "6945     58117   NaN  2012\n",
       "6946     58278   NaN  2012\n",
       "7164     58380   NaN  2012\n",
       "7194     58425   NaN  2012\n",
       "7262     58511   NaN  2012\n",
       "64          66   NaN  2013\n",
       "828      58982   NaN  2013\n",
       "1917     58639   NaN  2013\n",
       "1918     58640   NaN  2013\n",
       "1938     58977   NaN  2013\n",
       "2205     58989   NaN  2013\n",
       "2213     58549   NaN  2013\n",
       "4127     58469  WECC  2013\n",
       "6954     58117  WECC  2013\n",
       "6955     58278  WECC  2013\n",
       "7301     58511  WECC  2013\n",
       "7414     58651   NaN  2013\n",
       "7422     58656   NaN  2013\n",
       "7424     58659   NaN  2013\n",
       "7427     58662   NaN  2013\n",
       "7432     58684   NaN  2013\n",
       "7457     58705   NaN  2013\n",
       "7603     58837   NaN  2013\n",
       "7750     59035   NaN  2013\n",
       "4129     58469  HICC  2014\n",
       "6929     58117  ASCC  2014\n",
       "6930     58278  ASCC  2014\n",
       "7272     58511  ASCC  2014\n",
       "8453     60024   NaN  2015\n",
       "8550     60125   NaN  2015\n",
       "8667     60243   NaN  2015\n",
       "8668     60244   NaN  2015\n",
       "8669     60245   NaN  2015\n",
       "8674     60250   NaN  2015\n",
       "8684     60260   NaN  2015\n",
       "8749     60328   NaN  2015\n",
       "40          70   NaN  2016\n",
       "8888     60563   NaN  2016\n",
       "8913     60588   NaN  2016\n",
       "9128     60814   NaN  2016\n",
       "9371     61068   NaN  2016\n",
       "9400     61099   NaN  2016\n",
       "9402     61101   NaN  2016\n",
       "9448     61166   NaN  2016\n",
       "9453     61172   NaN  2016\n",
       "9626     61364   NaN  2016"
      ]
     },
     "execution_count": 13,
     "metadata": {},
     "output_type": "execute_result"
    }
   ],
   "source": [
    "nercs.loc[nercs['plant id'].isin(nan_plants['plant id'])]"
   ]
  },
  {
   "cell_type": "code",
   "execution_count": 14,
   "metadata": {
    "collapsed": true
   },
   "outputs": [],
   "source": [
    "nercs.dropna(inplace=True)"
   ]
  },
  {
   "cell_type": "markdown",
   "metadata": {},
   "source": [
    "## Load EIA-860m for some info on recent facilities\n",
    "SPP and TRE have the lowest accuracy. I'm going to assume that anything in TX or OK and SWPP balancing authority is in SPP. On the flip side, if it's in TX and ERCOT I'll assign it to TRE.\n",
    "\n",
    "Only do this for plants that come online since the most recent 860 annual data."
   ]
  },
  {
   "cell_type": "code",
   "execution_count": 15,
   "metadata": {},
   "outputs": [],
   "source": [
    "path = join(data_path, 'EIA downloads', 'december_generator2017.xlsx')\n",
    "m860 = pd.read_excel(path, sheet_name='Operating',skip_footer=1,\n",
    "                     usecols='C,F,P,AE', skiprows=0)\n",
    "m860.columns = m860.columns.str.lower()"
   ]
  },
  {
   "cell_type": "code",
   "execution_count": 16,
   "metadata": {},
   "outputs": [
    {
     "data": {
      "text/html": [
       "<div>\n",
       "<style scoped>\n",
       "    .dataframe tbody tr th:only-of-type {\n",
       "        vertical-align: middle;\n",
       "    }\n",
       "\n",
       "    .dataframe tbody tr th {\n",
       "        vertical-align: top;\n",
       "    }\n",
       "\n",
       "    .dataframe thead th {\n",
       "        text-align: right;\n",
       "    }\n",
       "</style>\n",
       "<table border=\"1\" class=\"dataframe\">\n",
       "  <thead>\n",
       "    <tr style=\"text-align: right;\">\n",
       "      <th></th>\n",
       "      <th>plant id</th>\n",
       "      <th>plant state</th>\n",
       "      <th>operating year</th>\n",
       "      <th>balancing authority code</th>\n",
       "    </tr>\n",
       "  </thead>\n",
       "  <tbody>\n",
       "    <tr>\n",
       "      <th>21373</th>\n",
       "      <td>61632</td>\n",
       "      <td>IA</td>\n",
       "      <td>2017</td>\n",
       "      <td>MISO</td>\n",
       "    </tr>\n",
       "    <tr>\n",
       "      <th>21374</th>\n",
       "      <td>61633</td>\n",
       "      <td>MA</td>\n",
       "      <td>2017</td>\n",
       "      <td>ISNE</td>\n",
       "    </tr>\n",
       "    <tr>\n",
       "      <th>21375</th>\n",
       "      <td>61634</td>\n",
       "      <td>MA</td>\n",
       "      <td>2017</td>\n",
       "      <td>ISNE</td>\n",
       "    </tr>\n",
       "    <tr>\n",
       "      <th>21376</th>\n",
       "      <td>61635</td>\n",
       "      <td>MA</td>\n",
       "      <td>2017</td>\n",
       "      <td>ISNE</td>\n",
       "    </tr>\n",
       "    <tr>\n",
       "      <th>21377</th>\n",
       "      <td>61636</td>\n",
       "      <td>MA</td>\n",
       "      <td>2017</td>\n",
       "      <td>ISNE</td>\n",
       "    </tr>\n",
       "  </tbody>\n",
       "</table>\n",
       "</div>"
      ],
      "text/plain": [
       "       plant id plant state  operating year balancing authority code\n",
       "21373     61632          IA            2017                     MISO\n",
       "21374     61633          MA            2017                     ISNE\n",
       "21375     61634          MA            2017                     ISNE\n",
       "21376     61635          MA            2017                     ISNE\n",
       "21377     61636          MA            2017                     ISNE"
      ]
     },
     "execution_count": 16,
     "metadata": {},
     "output_type": "execute_result"
    }
   ],
   "source": [
    "m860 = m860.loc[m860['operating year'] == 2017]\n",
    "m860.tail()"
   ]
  },
  {
   "cell_type": "code",
   "execution_count": 17,
   "metadata": {},
   "outputs": [],
   "source": [
    "m860.loc[(m860['plant state'].isin(['TX', 'OK'])) &\n",
    "         (m860['balancing authority code'] == 'SWPP'), 'nerc'] = 'SPP'\n",
    "\n",
    "m860.loc[(m860['plant state'].isin(['TX'])) &\n",
    "         (m860['balancing authority code'] == 'ERCO'), 'nerc'] = 'TRE'"
   ]
  },
  {
   "cell_type": "code",
   "execution_count": 18,
   "metadata": {},
   "outputs": [
    {
     "data": {
      "text/html": [
       "<div>\n",
       "<style scoped>\n",
       "    .dataframe tbody tr th:only-of-type {\n",
       "        vertical-align: middle;\n",
       "    }\n",
       "\n",
       "    .dataframe tbody tr th {\n",
       "        vertical-align: top;\n",
       "    }\n",
       "\n",
       "    .dataframe thead th {\n",
       "        text-align: right;\n",
       "    }\n",
       "</style>\n",
       "<table border=\"1\" class=\"dataframe\">\n",
       "  <thead>\n",
       "    <tr style=\"text-align: right;\">\n",
       "      <th></th>\n",
       "      <th>plant id</th>\n",
       "      <th>plant state</th>\n",
       "      <th>operating year</th>\n",
       "      <th>balancing authority code</th>\n",
       "      <th>nerc</th>\n",
       "    </tr>\n",
       "  </thead>\n",
       "  <tbody>\n",
       "    <tr>\n",
       "      <th>343</th>\n",
       "      <td>165</td>\n",
       "      <td>OK</td>\n",
       "      <td>2017</td>\n",
       "      <td>SWPP</td>\n",
       "      <td>SPP</td>\n",
       "    </tr>\n",
       "    <tr>\n",
       "      <th>344</th>\n",
       "      <td>165</td>\n",
       "      <td>OK</td>\n",
       "      <td>2017</td>\n",
       "      <td>SWPP</td>\n",
       "      <td>SPP</td>\n",
       "    </tr>\n",
       "    <tr>\n",
       "      <th>4836</th>\n",
       "      <td>2953</td>\n",
       "      <td>OK</td>\n",
       "      <td>2017</td>\n",
       "      <td>SWPP</td>\n",
       "      <td>SPP</td>\n",
       "    </tr>\n",
       "    <tr>\n",
       "      <th>4837</th>\n",
       "      <td>2953</td>\n",
       "      <td>OK</td>\n",
       "      <td>2017</td>\n",
       "      <td>SWPP</td>\n",
       "      <td>SPP</td>\n",
       "    </tr>\n",
       "    <tr>\n",
       "      <th>4838</th>\n",
       "      <td>2953</td>\n",
       "      <td>OK</td>\n",
       "      <td>2017</td>\n",
       "      <td>SWPP</td>\n",
       "      <td>SPP</td>\n",
       "    </tr>\n",
       "    <tr>\n",
       "      <th>4839</th>\n",
       "      <td>2953</td>\n",
       "      <td>OK</td>\n",
       "      <td>2017</td>\n",
       "      <td>SWPP</td>\n",
       "      <td>SPP</td>\n",
       "    </tr>\n",
       "    <tr>\n",
       "      <th>4840</th>\n",
       "      <td>2953</td>\n",
       "      <td>OK</td>\n",
       "      <td>2017</td>\n",
       "      <td>SWPP</td>\n",
       "      <td>SPP</td>\n",
       "    </tr>\n",
       "    <tr>\n",
       "      <th>4841</th>\n",
       "      <td>2953</td>\n",
       "      <td>OK</td>\n",
       "      <td>2017</td>\n",
       "      <td>SWPP</td>\n",
       "      <td>SPP</td>\n",
       "    </tr>\n",
       "    <tr>\n",
       "      <th>4842</th>\n",
       "      <td>2953</td>\n",
       "      <td>OK</td>\n",
       "      <td>2017</td>\n",
       "      <td>SWPP</td>\n",
       "      <td>SPP</td>\n",
       "    </tr>\n",
       "    <tr>\n",
       "      <th>15993</th>\n",
       "      <td>56984</td>\n",
       "      <td>TX</td>\n",
       "      <td>2017</td>\n",
       "      <td>ERCO</td>\n",
       "      <td>TRE</td>\n",
       "    </tr>\n",
       "    <tr>\n",
       "      <th>18994</th>\n",
       "      <td>59066</td>\n",
       "      <td>TX</td>\n",
       "      <td>2017</td>\n",
       "      <td>ERCO</td>\n",
       "      <td>TRE</td>\n",
       "    </tr>\n",
       "    <tr>\n",
       "      <th>19143</th>\n",
       "      <td>59193</td>\n",
       "      <td>TX</td>\n",
       "      <td>2017</td>\n",
       "      <td>ERCO</td>\n",
       "      <td>TRE</td>\n",
       "    </tr>\n",
       "    <tr>\n",
       "      <th>19157</th>\n",
       "      <td>59206</td>\n",
       "      <td>TX</td>\n",
       "      <td>2017</td>\n",
       "      <td>ERCO</td>\n",
       "      <td>TRE</td>\n",
       "    </tr>\n",
       "    <tr>\n",
       "      <th>19187</th>\n",
       "      <td>59245</td>\n",
       "      <td>TX</td>\n",
       "      <td>2017</td>\n",
       "      <td>ERCO</td>\n",
       "      <td>TRE</td>\n",
       "    </tr>\n",
       "    <tr>\n",
       "      <th>19665</th>\n",
       "      <td>59712</td>\n",
       "      <td>TX</td>\n",
       "      <td>2017</td>\n",
       "      <td>ERCO</td>\n",
       "      <td>TRE</td>\n",
       "    </tr>\n",
       "    <tr>\n",
       "      <th>19791</th>\n",
       "      <td>59812</td>\n",
       "      <td>TX</td>\n",
       "      <td>2017</td>\n",
       "      <td>ERCO</td>\n",
       "      <td>TRE</td>\n",
       "    </tr>\n",
       "    <tr>\n",
       "      <th>19792</th>\n",
       "      <td>59812</td>\n",
       "      <td>TX</td>\n",
       "      <td>2017</td>\n",
       "      <td>ERCO</td>\n",
       "      <td>TRE</td>\n",
       "    </tr>\n",
       "    <tr>\n",
       "      <th>19793</th>\n",
       "      <td>59812</td>\n",
       "      <td>TX</td>\n",
       "      <td>2017</td>\n",
       "      <td>ERCO</td>\n",
       "      <td>TRE</td>\n",
       "    </tr>\n",
       "    <tr>\n",
       "      <th>20091</th>\n",
       "      <td>60122</td>\n",
       "      <td>TX</td>\n",
       "      <td>2017</td>\n",
       "      <td>ERCO</td>\n",
       "      <td>TRE</td>\n",
       "    </tr>\n",
       "    <tr>\n",
       "      <th>20092</th>\n",
       "      <td>60122</td>\n",
       "      <td>TX</td>\n",
       "      <td>2017</td>\n",
       "      <td>ERCO</td>\n",
       "      <td>TRE</td>\n",
       "    </tr>\n",
       "    <tr>\n",
       "      <th>20093</th>\n",
       "      <td>60122</td>\n",
       "      <td>TX</td>\n",
       "      <td>2017</td>\n",
       "      <td>ERCO</td>\n",
       "      <td>TRE</td>\n",
       "    </tr>\n",
       "    <tr>\n",
       "      <th>20147</th>\n",
       "      <td>60210</td>\n",
       "      <td>TX</td>\n",
       "      <td>2017</td>\n",
       "      <td>ERCO</td>\n",
       "      <td>TRE</td>\n",
       "    </tr>\n",
       "    <tr>\n",
       "      <th>20149</th>\n",
       "      <td>60217</td>\n",
       "      <td>TX</td>\n",
       "      <td>2017</td>\n",
       "      <td>ERCO</td>\n",
       "      <td>TRE</td>\n",
       "    </tr>\n",
       "    <tr>\n",
       "      <th>20296</th>\n",
       "      <td>60366</td>\n",
       "      <td>TX</td>\n",
       "      <td>2017</td>\n",
       "      <td>ERCO</td>\n",
       "      <td>TRE</td>\n",
       "    </tr>\n",
       "    <tr>\n",
       "      <th>20301</th>\n",
       "      <td>60372</td>\n",
       "      <td>TX</td>\n",
       "      <td>2017</td>\n",
       "      <td>ERCO</td>\n",
       "      <td>TRE</td>\n",
       "    </tr>\n",
       "    <tr>\n",
       "      <th>20334</th>\n",
       "      <td>60414</td>\n",
       "      <td>TX</td>\n",
       "      <td>2017</td>\n",
       "      <td>SWPP</td>\n",
       "      <td>SPP</td>\n",
       "    </tr>\n",
       "    <tr>\n",
       "      <th>20350</th>\n",
       "      <td>60436</td>\n",
       "      <td>TX</td>\n",
       "      <td>2017</td>\n",
       "      <td>ERCO</td>\n",
       "      <td>TRE</td>\n",
       "    </tr>\n",
       "    <tr>\n",
       "      <th>20371</th>\n",
       "      <td>60459</td>\n",
       "      <td>TX</td>\n",
       "      <td>2017</td>\n",
       "      <td>ERCO</td>\n",
       "      <td>TRE</td>\n",
       "    </tr>\n",
       "    <tr>\n",
       "      <th>20372</th>\n",
       "      <td>60459</td>\n",
       "      <td>TX</td>\n",
       "      <td>2017</td>\n",
       "      <td>ERCO</td>\n",
       "      <td>TRE</td>\n",
       "    </tr>\n",
       "    <tr>\n",
       "      <th>20373</th>\n",
       "      <td>60460</td>\n",
       "      <td>TX</td>\n",
       "      <td>2017</td>\n",
       "      <td>ERCO</td>\n",
       "      <td>TRE</td>\n",
       "    </tr>\n",
       "    <tr>\n",
       "      <th>20374</th>\n",
       "      <td>60460</td>\n",
       "      <td>TX</td>\n",
       "      <td>2017</td>\n",
       "      <td>ERCO</td>\n",
       "      <td>TRE</td>\n",
       "    </tr>\n",
       "    <tr>\n",
       "      <th>20476</th>\n",
       "      <td>60581</td>\n",
       "      <td>TX</td>\n",
       "      <td>2017</td>\n",
       "      <td>ERCO</td>\n",
       "      <td>TRE</td>\n",
       "    </tr>\n",
       "    <tr>\n",
       "      <th>20556</th>\n",
       "      <td>60682</td>\n",
       "      <td>TX</td>\n",
       "      <td>2017</td>\n",
       "      <td>ERCO</td>\n",
       "      <td>TRE</td>\n",
       "    </tr>\n",
       "    <tr>\n",
       "      <th>20566</th>\n",
       "      <td>60690</td>\n",
       "      <td>TX</td>\n",
       "      <td>2017</td>\n",
       "      <td>ERCO</td>\n",
       "      <td>TRE</td>\n",
       "    </tr>\n",
       "    <tr>\n",
       "      <th>20681</th>\n",
       "      <td>60774</td>\n",
       "      <td>TX</td>\n",
       "      <td>2017</td>\n",
       "      <td>ERCO</td>\n",
       "      <td>TRE</td>\n",
       "    </tr>\n",
       "    <tr>\n",
       "      <th>20785</th>\n",
       "      <td>60901</td>\n",
       "      <td>TX</td>\n",
       "      <td>2017</td>\n",
       "      <td>ERCO</td>\n",
       "      <td>TRE</td>\n",
       "    </tr>\n",
       "    <tr>\n",
       "      <th>20786</th>\n",
       "      <td>60902</td>\n",
       "      <td>TX</td>\n",
       "      <td>2017</td>\n",
       "      <td>ERCO</td>\n",
       "      <td>TRE</td>\n",
       "    </tr>\n",
       "    <tr>\n",
       "      <th>20865</th>\n",
       "      <td>60983</td>\n",
       "      <td>TX</td>\n",
       "      <td>2017</td>\n",
       "      <td>ERCO</td>\n",
       "      <td>TRE</td>\n",
       "    </tr>\n",
       "    <tr>\n",
       "      <th>20870</th>\n",
       "      <td>60989</td>\n",
       "      <td>TX</td>\n",
       "      <td>2017</td>\n",
       "      <td>ERCO</td>\n",
       "      <td>TRE</td>\n",
       "    </tr>\n",
       "    <tr>\n",
       "      <th>21010</th>\n",
       "      <td>61205</td>\n",
       "      <td>TX</td>\n",
       "      <td>2017</td>\n",
       "      <td>ERCO</td>\n",
       "      <td>TRE</td>\n",
       "    </tr>\n",
       "    <tr>\n",
       "      <th>21023</th>\n",
       "      <td>61221</td>\n",
       "      <td>OK</td>\n",
       "      <td>2017</td>\n",
       "      <td>SWPP</td>\n",
       "      <td>SPP</td>\n",
       "    </tr>\n",
       "    <tr>\n",
       "      <th>21050</th>\n",
       "      <td>61261</td>\n",
       "      <td>OK</td>\n",
       "      <td>2017</td>\n",
       "      <td>SWPP</td>\n",
       "      <td>SPP</td>\n",
       "    </tr>\n",
       "    <tr>\n",
       "      <th>21077</th>\n",
       "      <td>61309</td>\n",
       "      <td>TX</td>\n",
       "      <td>2017</td>\n",
       "      <td>ERCO</td>\n",
       "      <td>TRE</td>\n",
       "    </tr>\n",
       "    <tr>\n",
       "      <th>21114</th>\n",
       "      <td>61362</td>\n",
       "      <td>TX</td>\n",
       "      <td>2017</td>\n",
       "      <td>ERCO</td>\n",
       "      <td>TRE</td>\n",
       "    </tr>\n",
       "    <tr>\n",
       "      <th>21171</th>\n",
       "      <td>61409</td>\n",
       "      <td>TX</td>\n",
       "      <td>2017</td>\n",
       "      <td>ERCO</td>\n",
       "      <td>TRE</td>\n",
       "    </tr>\n",
       "    <tr>\n",
       "      <th>21172</th>\n",
       "      <td>61410</td>\n",
       "      <td>TX</td>\n",
       "      <td>2017</td>\n",
       "      <td>ERCO</td>\n",
       "      <td>TRE</td>\n",
       "    </tr>\n",
       "    <tr>\n",
       "      <th>21173</th>\n",
       "      <td>61411</td>\n",
       "      <td>TX</td>\n",
       "      <td>2017</td>\n",
       "      <td>ERCO</td>\n",
       "      <td>TRE</td>\n",
       "    </tr>\n",
       "    <tr>\n",
       "      <th>21362</th>\n",
       "      <td>61614</td>\n",
       "      <td>OK</td>\n",
       "      <td>2017</td>\n",
       "      <td>SWPP</td>\n",
       "      <td>SPP</td>\n",
       "    </tr>\n",
       "    <tr>\n",
       "      <th>21363</th>\n",
       "      <td>61615</td>\n",
       "      <td>OK</td>\n",
       "      <td>2017</td>\n",
       "      <td>SWPP</td>\n",
       "      <td>SPP</td>\n",
       "    </tr>\n",
       "    <tr>\n",
       "      <th>21364</th>\n",
       "      <td>61616</td>\n",
       "      <td>OK</td>\n",
       "      <td>2017</td>\n",
       "      <td>SWPP</td>\n",
       "      <td>SPP</td>\n",
       "    </tr>\n",
       "    <tr>\n",
       "      <th>21365</th>\n",
       "      <td>61617</td>\n",
       "      <td>OK</td>\n",
       "      <td>2017</td>\n",
       "      <td>SWPP</td>\n",
       "      <td>SPP</td>\n",
       "    </tr>\n",
       "    <tr>\n",
       "      <th>21366</th>\n",
       "      <td>61618</td>\n",
       "      <td>OK</td>\n",
       "      <td>2017</td>\n",
       "      <td>SWPP</td>\n",
       "      <td>SPP</td>\n",
       "    </tr>\n",
       "  </tbody>\n",
       "</table>\n",
       "</div>"
      ],
      "text/plain": [
       "       plant id plant state  operating year balancing authority code nerc\n",
       "343         165          OK            2017                     SWPP  SPP\n",
       "344         165          OK            2017                     SWPP  SPP\n",
       "4836       2953          OK            2017                     SWPP  SPP\n",
       "4837       2953          OK            2017                     SWPP  SPP\n",
       "4838       2953          OK            2017                     SWPP  SPP\n",
       "4839       2953          OK            2017                     SWPP  SPP\n",
       "4840       2953          OK            2017                     SWPP  SPP\n",
       "4841       2953          OK            2017                     SWPP  SPP\n",
       "4842       2953          OK            2017                     SWPP  SPP\n",
       "15993     56984          TX            2017                     ERCO  TRE\n",
       "18994     59066          TX            2017                     ERCO  TRE\n",
       "19143     59193          TX            2017                     ERCO  TRE\n",
       "19157     59206          TX            2017                     ERCO  TRE\n",
       "19187     59245          TX            2017                     ERCO  TRE\n",
       "19665     59712          TX            2017                     ERCO  TRE\n",
       "19791     59812          TX            2017                     ERCO  TRE\n",
       "19792     59812          TX            2017                     ERCO  TRE\n",
       "19793     59812          TX            2017                     ERCO  TRE\n",
       "20091     60122          TX            2017                     ERCO  TRE\n",
       "20092     60122          TX            2017                     ERCO  TRE\n",
       "20093     60122          TX            2017                     ERCO  TRE\n",
       "20147     60210          TX            2017                     ERCO  TRE\n",
       "20149     60217          TX            2017                     ERCO  TRE\n",
       "20296     60366          TX            2017                     ERCO  TRE\n",
       "20301     60372          TX            2017                     ERCO  TRE\n",
       "20334     60414          TX            2017                     SWPP  SPP\n",
       "20350     60436          TX            2017                     ERCO  TRE\n",
       "20371     60459          TX            2017                     ERCO  TRE\n",
       "20372     60459          TX            2017                     ERCO  TRE\n",
       "20373     60460          TX            2017                     ERCO  TRE\n",
       "20374     60460          TX            2017                     ERCO  TRE\n",
       "20476     60581          TX            2017                     ERCO  TRE\n",
       "20556     60682          TX            2017                     ERCO  TRE\n",
       "20566     60690          TX            2017                     ERCO  TRE\n",
       "20681     60774          TX            2017                     ERCO  TRE\n",
       "20785     60901          TX            2017                     ERCO  TRE\n",
       "20786     60902          TX            2017                     ERCO  TRE\n",
       "20865     60983          TX            2017                     ERCO  TRE\n",
       "20870     60989          TX            2017                     ERCO  TRE\n",
       "21010     61205          TX            2017                     ERCO  TRE\n",
       "21023     61221          OK            2017                     SWPP  SPP\n",
       "21050     61261          OK            2017                     SWPP  SPP\n",
       "21077     61309          TX            2017                     ERCO  TRE\n",
       "21114     61362          TX            2017                     ERCO  TRE\n",
       "21171     61409          TX            2017                     ERCO  TRE\n",
       "21172     61410          TX            2017                     ERCO  TRE\n",
       "21173     61411          TX            2017                     ERCO  TRE\n",
       "21362     61614          OK            2017                     SWPP  SPP\n",
       "21363     61615          OK            2017                     SWPP  SPP\n",
       "21364     61616          OK            2017                     SWPP  SPP\n",
       "21365     61617          OK            2017                     SWPP  SPP\n",
       "21366     61618          OK            2017                     SWPP  SPP"
      ]
     },
     "execution_count": 18,
     "metadata": {},
     "output_type": "execute_result"
    }
   ],
   "source": [
    "m860.dropna(inplace=True)\n",
    "m860"
   ]
  },
  {
   "cell_type": "markdown",
   "metadata": {},
   "source": [
    "Make lists of plant codes for SPP and TRE facilities"
   ]
  },
  {
   "cell_type": "code",
   "execution_count": 19,
   "metadata": {},
   "outputs": [],
   "source": [
    "m860_spp_plants = (m860.loc[m860['nerc'] == 'SPP', 'plant id']\n",
    "                       .drop_duplicates()\n",
    "                       .tolist())\n",
    "m860_tre_plants = (m860.loc[m860['nerc'] == 'TRE', 'plant id']\n",
    "                       .drop_duplicates()\n",
    "                       .tolist())"
   ]
  },
  {
   "cell_type": "code",
   "execution_count": 20,
   "metadata": {},
   "outputs": [
    {
     "data": {
      "text/plain": [
       "[165, 2953, 60414, 61221, 61261, 61614, 61615, 61616, 61617, 61618]"
      ]
     },
     "execution_count": 20,
     "metadata": {},
     "output_type": "execute_result"
    }
   ],
   "source": [
    "m860_spp_plants"
   ]
  },
  {
   "cell_type": "code",
   "execution_count": 25,
   "metadata": {},
   "outputs": [
    {
     "data": {
      "text/plain": [
       "[56984,\n",
       " 59066,\n",
       " 59193,\n",
       " 59206,\n",
       " 59245,\n",
       " 59712,\n",
       " 59812,\n",
       " 60122,\n",
       " 60210,\n",
       " 60217,\n",
       " 60366,\n",
       " 60372,\n",
       " 60436,\n",
       " 60459,\n",
       " 60460,\n",
       " 60581,\n",
       " 60682,\n",
       " 60690,\n",
       " 60774,\n",
       " 60901,\n",
       " 60902,\n",
       " 60983,\n",
       " 60989,\n",
       " 61205,\n",
       " 61309,\n",
       " 61362,\n",
       " 61409,\n",
       " 61410,\n",
       " 61411]"
      ]
     },
     "execution_count": 25,
     "metadata": {},
     "output_type": "execute_result"
    }
   ],
   "source": [
    "m860_tre_plants"
   ]
  },
  {
   "cell_type": "code",
   "execution_count": 28,
   "metadata": {},
   "outputs": [
    {
     "data": {
      "text/html": [
       "<div>\n",
       "<style scoped>\n",
       "    .dataframe tbody tr th:only-of-type {\n",
       "        vertical-align: middle;\n",
       "    }\n",
       "\n",
       "    .dataframe tbody tr th {\n",
       "        vertical-align: top;\n",
       "    }\n",
       "\n",
       "    .dataframe thead th {\n",
       "        text-align: right;\n",
       "    }\n",
       "</style>\n",
       "<table border=\"1\" class=\"dataframe\">\n",
       "  <thead>\n",
       "    <tr style=\"text-align: right;\">\n",
       "      <th></th>\n",
       "      <th>plant id</th>\n",
       "      <th>nerc</th>\n",
       "      <th>year</th>\n",
       "    </tr>\n",
       "  </thead>\n",
       "  <tbody>\n",
       "  </tbody>\n",
       "</table>\n",
       "</div>"
      ],
      "text/plain": [
       "Empty DataFrame\n",
       "Columns: [plant id, nerc, year]\n",
       "Index: []"
      ]
     },
     "execution_count": 28,
     "metadata": {},
     "output_type": "execute_result"
    }
   ],
   "source": [
    "nan_plants.loc[nan_plants['plant id'].isin(m860_spp_plants)]"
   ]
  },
  {
   "cell_type": "code",
   "execution_count": null,
   "metadata": {},
   "outputs": [],
   "source": []
  },
  {
   "cell_type": "markdown",
   "metadata": {},
   "source": [
    "## Clean and prep data for KNN"
   ]
  },
  {
   "cell_type": "code",
   "execution_count": 21,
   "metadata": {
    "ExecuteTime": {
     "end_time": "2017-11-06T16:39:54.416966Z",
     "start_time": "2017-11-06T16:39:54.383812Z"
    },
    "collapsed": true
   },
   "outputs": [],
   "source": [
    "df = pd.merge(plants, nercs.drop('year', axis=1), on=['plant id'], how='left')"
   ]
  },
  {
   "cell_type": "code",
   "execution_count": 22,
   "metadata": {
    "ExecuteTime": {
     "end_time": "2017-11-06T16:39:55.684713Z",
     "start_time": "2017-11-06T16:39:55.678207Z"
    }
   },
   "outputs": [
    {
     "data": {
      "text/plain": [
       "Index(['plant id', 'year', 'lat', 'lon', 'state', 'nerc'], dtype='object')"
      ]
     },
     "execution_count": 22,
     "metadata": {},
     "output_type": "execute_result"
    }
   ],
   "source": [
    "df.columns"
   ]
  },
  {
   "cell_type": "markdown",
   "metadata": {},
   "source": [
    "Drop plants that don't have lat/lon data (using just lon to check), and then drop duplicates. If any plants have kept the same plant id but moved over time (maybe a diesel generator?) or switched NERC they will show up twice."
   ]
  },
  {
   "cell_type": "code",
   "execution_count": 23,
   "metadata": {
    "ExecuteTime": {
     "end_time": "2017-11-06T16:40:03.957239Z",
     "start_time": "2017-11-06T16:40:03.928838Z"
    }
   },
   "outputs": [
    {
     "data": {
      "text/html": [
       "<div>\n",
       "<style scoped>\n",
       "    .dataframe tbody tr th:only-of-type {\n",
       "        vertical-align: middle;\n",
       "    }\n",
       "\n",
       "    .dataframe tbody tr th {\n",
       "        vertical-align: top;\n",
       "    }\n",
       "\n",
       "    .dataframe thead th {\n",
       "        text-align: right;\n",
       "    }\n",
       "</style>\n",
       "<table border=\"1\" class=\"dataframe\">\n",
       "  <thead>\n",
       "    <tr style=\"text-align: right;\">\n",
       "      <th></th>\n",
       "      <th>plant id</th>\n",
       "      <th>year</th>\n",
       "      <th>lat</th>\n",
       "      <th>lon</th>\n",
       "      <th>state</th>\n",
       "      <th>nerc</th>\n",
       "    </tr>\n",
       "  </thead>\n",
       "  <tbody>\n",
       "    <tr>\n",
       "      <th>86900</th>\n",
       "      <td>10851</td>\n",
       "      <td>2006</td>\n",
       "      <td>NaN</td>\n",
       "      <td>NaN</td>\n",
       "      <td>NJ</td>\n",
       "      <td>NaN</td>\n",
       "    </tr>\n",
       "    <tr>\n",
       "      <th>87088</th>\n",
       "      <td>50291</td>\n",
       "      <td>2005</td>\n",
       "      <td>NaN</td>\n",
       "      <td>NaN</td>\n",
       "      <td>FL</td>\n",
       "      <td>NaN</td>\n",
       "    </tr>\n",
       "    <tr>\n",
       "      <th>87607</th>\n",
       "      <td>56672</td>\n",
       "      <td>2010</td>\n",
       "      <td>NaN</td>\n",
       "      <td>NaN</td>\n",
       "      <td>MN</td>\n",
       "      <td>NaN</td>\n",
       "    </tr>\n",
       "    <tr>\n",
       "      <th>87808</th>\n",
       "      <td>55982</td>\n",
       "      <td>2004</td>\n",
       "      <td>NaN</td>\n",
       "      <td>NaN</td>\n",
       "      <td>AK</td>\n",
       "      <td>NaN</td>\n",
       "    </tr>\n",
       "    <tr>\n",
       "      <th>87857</th>\n",
       "      <td>55150</td>\n",
       "      <td>2004</td>\n",
       "      <td>NaN</td>\n",
       "      <td>NaN</td>\n",
       "      <td>LA</td>\n",
       "      <td>NaN</td>\n",
       "    </tr>\n",
       "    <tr>\n",
       "      <th>87890</th>\n",
       "      <td>55082</td>\n",
       "      <td>2006</td>\n",
       "      <td>NaN</td>\n",
       "      <td>NaN</td>\n",
       "      <td>MS</td>\n",
       "      <td>NaN</td>\n",
       "    </tr>\n",
       "    <tr>\n",
       "      <th>87955</th>\n",
       "      <td>55521</td>\n",
       "      <td>2005</td>\n",
       "      <td>NaN</td>\n",
       "      <td>NaN</td>\n",
       "      <td>CA</td>\n",
       "      <td>NaN</td>\n",
       "    </tr>\n",
       "    <tr>\n",
       "      <th>88021</th>\n",
       "      <td>55314</td>\n",
       "      <td>2003</td>\n",
       "      <td>NaN</td>\n",
       "      <td>NaN</td>\n",
       "      <td>NaN</td>\n",
       "      <td>NaN</td>\n",
       "    </tr>\n",
       "    <tr>\n",
       "      <th>88318</th>\n",
       "      <td>54243</td>\n",
       "      <td>2005</td>\n",
       "      <td>NaN</td>\n",
       "      <td>NaN</td>\n",
       "      <td>GA</td>\n",
       "      <td>NaN</td>\n",
       "    </tr>\n",
       "    <tr>\n",
       "      <th>88441</th>\n",
       "      <td>50726</td>\n",
       "      <td>2007</td>\n",
       "      <td>NaN</td>\n",
       "      <td>NaN</td>\n",
       "      <td>LA</td>\n",
       "      <td>NaN</td>\n",
       "    </tr>\n",
       "    <tr>\n",
       "      <th>88690</th>\n",
       "      <td>50249</td>\n",
       "      <td>2004</td>\n",
       "      <td>NaN</td>\n",
       "      <td>NaN</td>\n",
       "      <td>TX</td>\n",
       "      <td>NaN</td>\n",
       "    </tr>\n",
       "    <tr>\n",
       "      <th>88917</th>\n",
       "      <td>2666</td>\n",
       "      <td>2004</td>\n",
       "      <td>NaN</td>\n",
       "      <td>NaN</td>\n",
       "      <td>NY</td>\n",
       "      <td>NaN</td>\n",
       "    </tr>\n",
       "    <tr>\n",
       "      <th>91857</th>\n",
       "      <td>55952</td>\n",
       "      <td>2014</td>\n",
       "      <td>NaN</td>\n",
       "      <td>NaN</td>\n",
       "      <td>NaN</td>\n",
       "      <td>WECC</td>\n",
       "    </tr>\n",
       "    <tr>\n",
       "      <th>92742</th>\n",
       "      <td>7704</td>\n",
       "      <td>2003</td>\n",
       "      <td>NaN</td>\n",
       "      <td>NaN</td>\n",
       "      <td>NaN</td>\n",
       "      <td>NaN</td>\n",
       "    </tr>\n",
       "    <tr>\n",
       "      <th>92808</th>\n",
       "      <td>6339</td>\n",
       "      <td>2004</td>\n",
       "      <td>NaN</td>\n",
       "      <td>NaN</td>\n",
       "      <td>NaN</td>\n",
       "      <td>NaN</td>\n",
       "    </tr>\n",
       "    <tr>\n",
       "      <th>92930</th>\n",
       "      <td>55840</td>\n",
       "      <td>2003</td>\n",
       "      <td>NaN</td>\n",
       "      <td>NaN</td>\n",
       "      <td>AZ</td>\n",
       "      <td>NaN</td>\n",
       "    </tr>\n",
       "    <tr>\n",
       "      <th>92969</th>\n",
       "      <td>55883</td>\n",
       "      <td>2004</td>\n",
       "      <td>NaN</td>\n",
       "      <td>NaN</td>\n",
       "      <td>KY</td>\n",
       "      <td>NaN</td>\n",
       "    </tr>\n",
       "    <tr>\n",
       "      <th>92980</th>\n",
       "      <td>55955</td>\n",
       "      <td>2003</td>\n",
       "      <td>NaN</td>\n",
       "      <td>NaN</td>\n",
       "      <td>AZ</td>\n",
       "      <td>NaN</td>\n",
       "    </tr>\n",
       "    <tr>\n",
       "      <th>92981</th>\n",
       "      <td>55958</td>\n",
       "      <td>2004</td>\n",
       "      <td>NaN</td>\n",
       "      <td>NaN</td>\n",
       "      <td>LA</td>\n",
       "      <td>NaN</td>\n",
       "    </tr>\n",
       "    <tr>\n",
       "      <th>93017</th>\n",
       "      <td>56043</td>\n",
       "      <td>2004</td>\n",
       "      <td>NaN</td>\n",
       "      <td>NaN</td>\n",
       "      <td>CA</td>\n",
       "      <td>NaN</td>\n",
       "    </tr>\n",
       "    <tr>\n",
       "      <th>93048</th>\n",
       "      <td>56175</td>\n",
       "      <td>2007</td>\n",
       "      <td>NaN</td>\n",
       "      <td>NaN</td>\n",
       "      <td>CA</td>\n",
       "      <td>NaN</td>\n",
       "    </tr>\n",
       "    <tr>\n",
       "      <th>93061</th>\n",
       "      <td>55975</td>\n",
       "      <td>2004</td>\n",
       "      <td>NaN</td>\n",
       "      <td>NaN</td>\n",
       "      <td>NaN</td>\n",
       "      <td>NaN</td>\n",
       "    </tr>\n",
       "    <tr>\n",
       "      <th>93066</th>\n",
       "      <td>56042</td>\n",
       "      <td>2005</td>\n",
       "      <td>NaN</td>\n",
       "      <td>NaN</td>\n",
       "      <td>NY</td>\n",
       "      <td>NaN</td>\n",
       "    </tr>\n",
       "    <tr>\n",
       "      <th>93101</th>\n",
       "      <td>56168</td>\n",
       "      <td>2003</td>\n",
       "      <td>NaN</td>\n",
       "      <td>NaN</td>\n",
       "      <td>MN</td>\n",
       "      <td>NaN</td>\n",
       "    </tr>\n",
       "    <tr>\n",
       "      <th>93129</th>\n",
       "      <td>55073</td>\n",
       "      <td>2004</td>\n",
       "      <td>NaN</td>\n",
       "      <td>NaN</td>\n",
       "      <td>NaN</td>\n",
       "      <td>NaN</td>\n",
       "    </tr>\n",
       "    <tr>\n",
       "      <th>93152</th>\n",
       "      <td>54516</td>\n",
       "      <td>2006</td>\n",
       "      <td>41.8875</td>\n",
       "      <td>NaN</td>\n",
       "      <td>IL</td>\n",
       "      <td>NaN</td>\n",
       "    </tr>\n",
       "    <tr>\n",
       "      <th>93165</th>\n",
       "      <td>55303</td>\n",
       "      <td>2008</td>\n",
       "      <td>NaN</td>\n",
       "      <td>NaN</td>\n",
       "      <td>MS</td>\n",
       "      <td>NaN</td>\n",
       "    </tr>\n",
       "    <tr>\n",
       "      <th>93251</th>\n",
       "      <td>55301</td>\n",
       "      <td>2003</td>\n",
       "      <td>NaN</td>\n",
       "      <td>NaN</td>\n",
       "      <td>AZ</td>\n",
       "      <td>NaN</td>\n",
       "    </tr>\n",
       "    <tr>\n",
       "      <th>93431</th>\n",
       "      <td>52164</td>\n",
       "      <td>2006</td>\n",
       "      <td>NaN</td>\n",
       "      <td>NaN</td>\n",
       "      <td>CA</td>\n",
       "      <td>NaN</td>\n",
       "    </tr>\n",
       "    <tr>\n",
       "      <th>93552</th>\n",
       "      <td>54222</td>\n",
       "      <td>2007</td>\n",
       "      <td>NaN</td>\n",
       "      <td>NaN</td>\n",
       "      <td>AK</td>\n",
       "      <td>NaN</td>\n",
       "    </tr>\n",
       "    <tr>\n",
       "      <th>93734</th>\n",
       "      <td>50728</td>\n",
       "      <td>2003</td>\n",
       "      <td>NaN</td>\n",
       "      <td>NaN</td>\n",
       "      <td>LA</td>\n",
       "      <td>SERC</td>\n",
       "    </tr>\n",
       "    <tr>\n",
       "      <th>93786</th>\n",
       "      <td>50040</td>\n",
       "      <td>2005</td>\n",
       "      <td>NaN</td>\n",
       "      <td>NaN</td>\n",
       "      <td>IL</td>\n",
       "      <td>NaN</td>\n",
       "    </tr>\n",
       "    <tr>\n",
       "      <th>93858</th>\n",
       "      <td>50030</td>\n",
       "      <td>2003</td>\n",
       "      <td>NaN</td>\n",
       "      <td>NaN</td>\n",
       "      <td>LA</td>\n",
       "      <td>NaN</td>\n",
       "    </tr>\n",
       "    <tr>\n",
       "      <th>93906</th>\n",
       "      <td>50168</td>\n",
       "      <td>2003</td>\n",
       "      <td>NaN</td>\n",
       "      <td>NaN</td>\n",
       "      <td>LA</td>\n",
       "      <td>NaN</td>\n",
       "    </tr>\n",
       "    <tr>\n",
       "      <th>94017</th>\n",
       "      <td>50313</td>\n",
       "      <td>2004</td>\n",
       "      <td>NaN</td>\n",
       "      <td>NaN</td>\n",
       "      <td>NJ</td>\n",
       "      <td>NaN</td>\n",
       "    </tr>\n",
       "    <tr>\n",
       "      <th>94423</th>\n",
       "      <td>10683</td>\n",
       "      <td>2007</td>\n",
       "      <td>NaN</td>\n",
       "      <td>NaN</td>\n",
       "      <td>CO</td>\n",
       "      <td>NaN</td>\n",
       "    </tr>\n",
       "    <tr>\n",
       "      <th>94647</th>\n",
       "      <td>10257</td>\n",
       "      <td>2005</td>\n",
       "      <td>NaN</td>\n",
       "      <td>NaN</td>\n",
       "      <td>CA</td>\n",
       "      <td>NaN</td>\n",
       "    </tr>\n",
       "    <tr>\n",
       "      <th>94815</th>\n",
       "      <td>56508</td>\n",
       "      <td>2007</td>\n",
       "      <td>NaN</td>\n",
       "      <td>NaN</td>\n",
       "      <td>CA</td>\n",
       "      <td>NaN</td>\n",
       "    </tr>\n",
       "  </tbody>\n",
       "</table>\n",
       "</div>"
      ],
      "text/plain": [
       "       plant id  year      lat  lon state  nerc\n",
       "86900     10851  2006      NaN  NaN    NJ   NaN\n",
       "87088     50291  2005      NaN  NaN    FL   NaN\n",
       "87607     56672  2010      NaN  NaN    MN   NaN\n",
       "87808     55982  2004      NaN  NaN    AK   NaN\n",
       "87857     55150  2004      NaN  NaN    LA   NaN\n",
       "87890     55082  2006      NaN  NaN    MS   NaN\n",
       "87955     55521  2005      NaN  NaN    CA   NaN\n",
       "88021     55314  2003      NaN  NaN   NaN   NaN\n",
       "88318     54243  2005      NaN  NaN    GA   NaN\n",
       "88441     50726  2007      NaN  NaN    LA   NaN\n",
       "88690     50249  2004      NaN  NaN    TX   NaN\n",
       "88917      2666  2004      NaN  NaN    NY   NaN\n",
       "91857     55952  2014      NaN  NaN   NaN  WECC\n",
       "92742      7704  2003      NaN  NaN   NaN   NaN\n",
       "92808      6339  2004      NaN  NaN   NaN   NaN\n",
       "92930     55840  2003      NaN  NaN    AZ   NaN\n",
       "92969     55883  2004      NaN  NaN    KY   NaN\n",
       "92980     55955  2003      NaN  NaN    AZ   NaN\n",
       "92981     55958  2004      NaN  NaN    LA   NaN\n",
       "93017     56043  2004      NaN  NaN    CA   NaN\n",
       "93048     56175  2007      NaN  NaN    CA   NaN\n",
       "93061     55975  2004      NaN  NaN   NaN   NaN\n",
       "93066     56042  2005      NaN  NaN    NY   NaN\n",
       "93101     56168  2003      NaN  NaN    MN   NaN\n",
       "93129     55073  2004      NaN  NaN   NaN   NaN\n",
       "93152     54516  2006  41.8875  NaN    IL   NaN\n",
       "93165     55303  2008      NaN  NaN    MS   NaN\n",
       "93251     55301  2003      NaN  NaN    AZ   NaN\n",
       "93431     52164  2006      NaN  NaN    CA   NaN\n",
       "93552     54222  2007      NaN  NaN    AK   NaN\n",
       "93734     50728  2003      NaN  NaN    LA  SERC\n",
       "93786     50040  2005      NaN  NaN    IL   NaN\n",
       "93858     50030  2003      NaN  NaN    LA   NaN\n",
       "93906     50168  2003      NaN  NaN    LA   NaN\n",
       "94017     50313  2004      NaN  NaN    NJ   NaN\n",
       "94423     10683  2007      NaN  NaN    CO   NaN\n",
       "94647     10257  2005      NaN  NaN    CA   NaN\n",
       "94815     56508  2007      NaN  NaN    CA   NaN"
      ]
     },
     "execution_count": 23,
     "metadata": {},
     "output_type": "execute_result"
    }
   ],
   "source": [
    "df.loc[df.lon.isnull()].drop_duplicates(subset='plant id')"
   ]
  },
  {
   "cell_type": "code",
   "execution_count": 24,
   "metadata": {
    "ExecuteTime": {
     "end_time": "2017-11-06T16:40:06.598416Z",
     "start_time": "2017-11-06T16:40:06.576972Z"
    }
   },
   "outputs": [
    {
     "data": {
      "text/html": [
       "<div>\n",
       "<style scoped>\n",
       "    .dataframe tbody tr th:only-of-type {\n",
       "        vertical-align: middle;\n",
       "    }\n",
       "\n",
       "    .dataframe tbody tr th {\n",
       "        vertical-align: top;\n",
       "    }\n",
       "\n",
       "    .dataframe thead th {\n",
       "        text-align: right;\n",
       "    }\n",
       "</style>\n",
       "<table border=\"1\" class=\"dataframe\">\n",
       "  <thead>\n",
       "    <tr style=\"text-align: right;\">\n",
       "      <th></th>\n",
       "      <th>plant id</th>\n",
       "      <th>year</th>\n",
       "      <th>lat</th>\n",
       "      <th>lon</th>\n",
       "      <th>state</th>\n",
       "      <th>nerc</th>\n",
       "    </tr>\n",
       "  </thead>\n",
       "  <tbody>\n",
       "    <tr>\n",
       "      <th>86900</th>\n",
       "      <td>10851</td>\n",
       "      <td>2006</td>\n",
       "      <td>NaN</td>\n",
       "      <td>NaN</td>\n",
       "      <td>NJ</td>\n",
       "      <td>NaN</td>\n",
       "    </tr>\n",
       "    <tr>\n",
       "      <th>87088</th>\n",
       "      <td>50291</td>\n",
       "      <td>2005</td>\n",
       "      <td>NaN</td>\n",
       "      <td>NaN</td>\n",
       "      <td>FL</td>\n",
       "      <td>NaN</td>\n",
       "    </tr>\n",
       "    <tr>\n",
       "      <th>87607</th>\n",
       "      <td>56672</td>\n",
       "      <td>2010</td>\n",
       "      <td>NaN</td>\n",
       "      <td>NaN</td>\n",
       "      <td>MN</td>\n",
       "      <td>NaN</td>\n",
       "    </tr>\n",
       "    <tr>\n",
       "      <th>87808</th>\n",
       "      <td>55982</td>\n",
       "      <td>2004</td>\n",
       "      <td>NaN</td>\n",
       "      <td>NaN</td>\n",
       "      <td>AK</td>\n",
       "      <td>NaN</td>\n",
       "    </tr>\n",
       "    <tr>\n",
       "      <th>87857</th>\n",
       "      <td>55150</td>\n",
       "      <td>2004</td>\n",
       "      <td>NaN</td>\n",
       "      <td>NaN</td>\n",
       "      <td>LA</td>\n",
       "      <td>NaN</td>\n",
       "    </tr>\n",
       "    <tr>\n",
       "      <th>87890</th>\n",
       "      <td>55082</td>\n",
       "      <td>2006</td>\n",
       "      <td>NaN</td>\n",
       "      <td>NaN</td>\n",
       "      <td>MS</td>\n",
       "      <td>NaN</td>\n",
       "    </tr>\n",
       "    <tr>\n",
       "      <th>87955</th>\n",
       "      <td>55521</td>\n",
       "      <td>2005</td>\n",
       "      <td>NaN</td>\n",
       "      <td>NaN</td>\n",
       "      <td>CA</td>\n",
       "      <td>NaN</td>\n",
       "    </tr>\n",
       "    <tr>\n",
       "      <th>88021</th>\n",
       "      <td>55314</td>\n",
       "      <td>2003</td>\n",
       "      <td>NaN</td>\n",
       "      <td>NaN</td>\n",
       "      <td>NaN</td>\n",
       "      <td>NaN</td>\n",
       "    </tr>\n",
       "    <tr>\n",
       "      <th>88318</th>\n",
       "      <td>54243</td>\n",
       "      <td>2005</td>\n",
       "      <td>NaN</td>\n",
       "      <td>NaN</td>\n",
       "      <td>GA</td>\n",
       "      <td>NaN</td>\n",
       "    </tr>\n",
       "    <tr>\n",
       "      <th>88441</th>\n",
       "      <td>50726</td>\n",
       "      <td>2007</td>\n",
       "      <td>NaN</td>\n",
       "      <td>NaN</td>\n",
       "      <td>LA</td>\n",
       "      <td>NaN</td>\n",
       "    </tr>\n",
       "    <tr>\n",
       "      <th>88690</th>\n",
       "      <td>50249</td>\n",
       "      <td>2004</td>\n",
       "      <td>NaN</td>\n",
       "      <td>NaN</td>\n",
       "      <td>TX</td>\n",
       "      <td>NaN</td>\n",
       "    </tr>\n",
       "    <tr>\n",
       "      <th>88917</th>\n",
       "      <td>2666</td>\n",
       "      <td>2004</td>\n",
       "      <td>NaN</td>\n",
       "      <td>NaN</td>\n",
       "      <td>NY</td>\n",
       "      <td>NaN</td>\n",
       "    </tr>\n",
       "    <tr>\n",
       "      <th>91857</th>\n",
       "      <td>55952</td>\n",
       "      <td>2014</td>\n",
       "      <td>NaN</td>\n",
       "      <td>NaN</td>\n",
       "      <td>NaN</td>\n",
       "      <td>WECC</td>\n",
       "    </tr>\n",
       "    <tr>\n",
       "      <th>92742</th>\n",
       "      <td>7704</td>\n",
       "      <td>2003</td>\n",
       "      <td>NaN</td>\n",
       "      <td>NaN</td>\n",
       "      <td>NaN</td>\n",
       "      <td>NaN</td>\n",
       "    </tr>\n",
       "    <tr>\n",
       "      <th>92808</th>\n",
       "      <td>6339</td>\n",
       "      <td>2004</td>\n",
       "      <td>NaN</td>\n",
       "      <td>NaN</td>\n",
       "      <td>NaN</td>\n",
       "      <td>NaN</td>\n",
       "    </tr>\n",
       "    <tr>\n",
       "      <th>92930</th>\n",
       "      <td>55840</td>\n",
       "      <td>2003</td>\n",
       "      <td>NaN</td>\n",
       "      <td>NaN</td>\n",
       "      <td>AZ</td>\n",
       "      <td>NaN</td>\n",
       "    </tr>\n",
       "    <tr>\n",
       "      <th>92969</th>\n",
       "      <td>55883</td>\n",
       "      <td>2004</td>\n",
       "      <td>NaN</td>\n",
       "      <td>NaN</td>\n",
       "      <td>KY</td>\n",
       "      <td>NaN</td>\n",
       "    </tr>\n",
       "    <tr>\n",
       "      <th>92980</th>\n",
       "      <td>55955</td>\n",
       "      <td>2003</td>\n",
       "      <td>NaN</td>\n",
       "      <td>NaN</td>\n",
       "      <td>AZ</td>\n",
       "      <td>NaN</td>\n",
       "    </tr>\n",
       "    <tr>\n",
       "      <th>92981</th>\n",
       "      <td>55958</td>\n",
       "      <td>2004</td>\n",
       "      <td>NaN</td>\n",
       "      <td>NaN</td>\n",
       "      <td>LA</td>\n",
       "      <td>NaN</td>\n",
       "    </tr>\n",
       "    <tr>\n",
       "      <th>93017</th>\n",
       "      <td>56043</td>\n",
       "      <td>2004</td>\n",
       "      <td>NaN</td>\n",
       "      <td>NaN</td>\n",
       "      <td>CA</td>\n",
       "      <td>NaN</td>\n",
       "    </tr>\n",
       "    <tr>\n",
       "      <th>93048</th>\n",
       "      <td>56175</td>\n",
       "      <td>2007</td>\n",
       "      <td>NaN</td>\n",
       "      <td>NaN</td>\n",
       "      <td>CA</td>\n",
       "      <td>NaN</td>\n",
       "    </tr>\n",
       "    <tr>\n",
       "      <th>93061</th>\n",
       "      <td>55975</td>\n",
       "      <td>2004</td>\n",
       "      <td>NaN</td>\n",
       "      <td>NaN</td>\n",
       "      <td>NaN</td>\n",
       "      <td>NaN</td>\n",
       "    </tr>\n",
       "    <tr>\n",
       "      <th>93066</th>\n",
       "      <td>56042</td>\n",
       "      <td>2005</td>\n",
       "      <td>NaN</td>\n",
       "      <td>NaN</td>\n",
       "      <td>NY</td>\n",
       "      <td>NaN</td>\n",
       "    </tr>\n",
       "    <tr>\n",
       "      <th>93101</th>\n",
       "      <td>56168</td>\n",
       "      <td>2003</td>\n",
       "      <td>NaN</td>\n",
       "      <td>NaN</td>\n",
       "      <td>MN</td>\n",
       "      <td>NaN</td>\n",
       "    </tr>\n",
       "    <tr>\n",
       "      <th>93129</th>\n",
       "      <td>55073</td>\n",
       "      <td>2004</td>\n",
       "      <td>NaN</td>\n",
       "      <td>NaN</td>\n",
       "      <td>NaN</td>\n",
       "      <td>NaN</td>\n",
       "    </tr>\n",
       "    <tr>\n",
       "      <th>93165</th>\n",
       "      <td>55303</td>\n",
       "      <td>2008</td>\n",
       "      <td>NaN</td>\n",
       "      <td>NaN</td>\n",
       "      <td>MS</td>\n",
       "      <td>NaN</td>\n",
       "    </tr>\n",
       "    <tr>\n",
       "      <th>93251</th>\n",
       "      <td>55301</td>\n",
       "      <td>2003</td>\n",
       "      <td>NaN</td>\n",
       "      <td>NaN</td>\n",
       "      <td>AZ</td>\n",
       "      <td>NaN</td>\n",
       "    </tr>\n",
       "    <tr>\n",
       "      <th>93431</th>\n",
       "      <td>52164</td>\n",
       "      <td>2006</td>\n",
       "      <td>NaN</td>\n",
       "      <td>NaN</td>\n",
       "      <td>CA</td>\n",
       "      <td>NaN</td>\n",
       "    </tr>\n",
       "    <tr>\n",
       "      <th>93552</th>\n",
       "      <td>54222</td>\n",
       "      <td>2007</td>\n",
       "      <td>NaN</td>\n",
       "      <td>NaN</td>\n",
       "      <td>AK</td>\n",
       "      <td>NaN</td>\n",
       "    </tr>\n",
       "    <tr>\n",
       "      <th>93734</th>\n",
       "      <td>50728</td>\n",
       "      <td>2003</td>\n",
       "      <td>NaN</td>\n",
       "      <td>NaN</td>\n",
       "      <td>LA</td>\n",
       "      <td>SERC</td>\n",
       "    </tr>\n",
       "    <tr>\n",
       "      <th>93786</th>\n",
       "      <td>50040</td>\n",
       "      <td>2005</td>\n",
       "      <td>NaN</td>\n",
       "      <td>NaN</td>\n",
       "      <td>IL</td>\n",
       "      <td>NaN</td>\n",
       "    </tr>\n",
       "    <tr>\n",
       "      <th>93858</th>\n",
       "      <td>50030</td>\n",
       "      <td>2003</td>\n",
       "      <td>NaN</td>\n",
       "      <td>NaN</td>\n",
       "      <td>LA</td>\n",
       "      <td>NaN</td>\n",
       "    </tr>\n",
       "    <tr>\n",
       "      <th>93906</th>\n",
       "      <td>50168</td>\n",
       "      <td>2003</td>\n",
       "      <td>NaN</td>\n",
       "      <td>NaN</td>\n",
       "      <td>LA</td>\n",
       "      <td>NaN</td>\n",
       "    </tr>\n",
       "    <tr>\n",
       "      <th>94017</th>\n",
       "      <td>50313</td>\n",
       "      <td>2004</td>\n",
       "      <td>NaN</td>\n",
       "      <td>NaN</td>\n",
       "      <td>NJ</td>\n",
       "      <td>NaN</td>\n",
       "    </tr>\n",
       "    <tr>\n",
       "      <th>94423</th>\n",
       "      <td>10683</td>\n",
       "      <td>2007</td>\n",
       "      <td>NaN</td>\n",
       "      <td>NaN</td>\n",
       "      <td>CO</td>\n",
       "      <td>NaN</td>\n",
       "    </tr>\n",
       "    <tr>\n",
       "      <th>94647</th>\n",
       "      <td>10257</td>\n",
       "      <td>2005</td>\n",
       "      <td>NaN</td>\n",
       "      <td>NaN</td>\n",
       "      <td>CA</td>\n",
       "      <td>NaN</td>\n",
       "    </tr>\n",
       "    <tr>\n",
       "      <th>94815</th>\n",
       "      <td>56508</td>\n",
       "      <td>2007</td>\n",
       "      <td>NaN</td>\n",
       "      <td>NaN</td>\n",
       "      <td>CA</td>\n",
       "      <td>NaN</td>\n",
       "    </tr>\n",
       "  </tbody>\n",
       "</table>\n",
       "</div>"
      ],
      "text/plain": [
       "       plant id  year  lat  lon state  nerc\n",
       "86900     10851  2006  NaN  NaN    NJ   NaN\n",
       "87088     50291  2005  NaN  NaN    FL   NaN\n",
       "87607     56672  2010  NaN  NaN    MN   NaN\n",
       "87808     55982  2004  NaN  NaN    AK   NaN\n",
       "87857     55150  2004  NaN  NaN    LA   NaN\n",
       "87890     55082  2006  NaN  NaN    MS   NaN\n",
       "87955     55521  2005  NaN  NaN    CA   NaN\n",
       "88021     55314  2003  NaN  NaN   NaN   NaN\n",
       "88318     54243  2005  NaN  NaN    GA   NaN\n",
       "88441     50726  2007  NaN  NaN    LA   NaN\n",
       "88690     50249  2004  NaN  NaN    TX   NaN\n",
       "88917      2666  2004  NaN  NaN    NY   NaN\n",
       "91857     55952  2014  NaN  NaN   NaN  WECC\n",
       "92742      7704  2003  NaN  NaN   NaN   NaN\n",
       "92808      6339  2004  NaN  NaN   NaN   NaN\n",
       "92930     55840  2003  NaN  NaN    AZ   NaN\n",
       "92969     55883  2004  NaN  NaN    KY   NaN\n",
       "92980     55955  2003  NaN  NaN    AZ   NaN\n",
       "92981     55958  2004  NaN  NaN    LA   NaN\n",
       "93017     56043  2004  NaN  NaN    CA   NaN\n",
       "93048     56175  2007  NaN  NaN    CA   NaN\n",
       "93061     55975  2004  NaN  NaN   NaN   NaN\n",
       "93066     56042  2005  NaN  NaN    NY   NaN\n",
       "93101     56168  2003  NaN  NaN    MN   NaN\n",
       "93129     55073  2004  NaN  NaN   NaN   NaN\n",
       "93165     55303  2008  NaN  NaN    MS   NaN\n",
       "93251     55301  2003  NaN  NaN    AZ   NaN\n",
       "93431     52164  2006  NaN  NaN    CA   NaN\n",
       "93552     54222  2007  NaN  NaN    AK   NaN\n",
       "93734     50728  2003  NaN  NaN    LA  SERC\n",
       "93786     50040  2005  NaN  NaN    IL   NaN\n",
       "93858     50030  2003  NaN  NaN    LA   NaN\n",
       "93906     50168  2003  NaN  NaN    LA   NaN\n",
       "94017     50313  2004  NaN  NaN    NJ   NaN\n",
       "94423     10683  2007  NaN  NaN    CO   NaN\n",
       "94647     10257  2005  NaN  NaN    CA   NaN\n",
       "94815     56508  2007  NaN  NaN    CA   NaN"
      ]
     },
     "execution_count": 24,
     "metadata": {},
     "output_type": "execute_result"
    }
   ],
   "source": [
    "df.loc[df.lat.isnull()].drop_duplicates(subset='plant id')"
   ]
  },
  {
   "cell_type": "code",
   "execution_count": 25,
   "metadata": {
    "ExecuteTime": {
     "end_time": "2017-11-06T16:40:08.841245Z",
     "start_time": "2017-11-06T16:40:08.805376Z"
    },
    "collapsed": true
   },
   "outputs": [],
   "source": [
    "cols = ['plant id', 'lat', 'lon', 'nerc', 'state']\n",
    "df_slim = (df.loc[:, cols].dropna(subset=['lon'])\n",
    "             .drop_duplicates(subset=['plant id', 'nerc']))"
   ]
  },
  {
   "cell_type": "code",
   "execution_count": 26,
   "metadata": {
    "ExecuteTime": {
     "end_time": "2017-11-06T16:40:09.317698Z",
     "start_time": "2017-11-06T16:40:09.311670Z"
    }
   },
   "outputs": [
    {
     "data": {
      "text/plain": [
       "8982"
      ]
     },
     "execution_count": 26,
     "metadata": {},
     "output_type": "execute_result"
    }
   ],
   "source": [
    "len(df_slim)"
   ]
  },
  {
   "cell_type": "code",
   "execution_count": 27,
   "metadata": {
    "ExecuteTime": {
     "end_time": "2017-11-06T16:40:29.960293Z",
     "start_time": "2017-11-06T16:40:29.944141Z"
    }
   },
   "outputs": [
    {
     "data": {
      "text/html": [
       "<div>\n",
       "<style scoped>\n",
       "    .dataframe tbody tr th:only-of-type {\n",
       "        vertical-align: middle;\n",
       "    }\n",
       "\n",
       "    .dataframe tbody tr th {\n",
       "        vertical-align: top;\n",
       "    }\n",
       "\n",
       "    .dataframe thead th {\n",
       "        text-align: right;\n",
       "    }\n",
       "</style>\n",
       "<table border=\"1\" class=\"dataframe\">\n",
       "  <thead>\n",
       "    <tr style=\"text-align: right;\">\n",
       "      <th></th>\n",
       "      <th>plant id</th>\n",
       "      <th>lat</th>\n",
       "      <th>lon</th>\n",
       "      <th>nerc</th>\n",
       "      <th>state</th>\n",
       "    </tr>\n",
       "  </thead>\n",
       "  <tbody>\n",
       "    <tr>\n",
       "      <th>0</th>\n",
       "      <td>1001</td>\n",
       "      <td>39.924200</td>\n",
       "      <td>-87.424400</td>\n",
       "      <td>RFC</td>\n",
       "      <td>IN</td>\n",
       "    </tr>\n",
       "    <tr>\n",
       "      <th>17</th>\n",
       "      <td>10003</td>\n",
       "      <td>39.760600</td>\n",
       "      <td>-105.215000</td>\n",
       "      <td>WECC</td>\n",
       "      <td>CO</td>\n",
       "    </tr>\n",
       "    <tr>\n",
       "      <th>34</th>\n",
       "      <td>10005</td>\n",
       "      <td>37.047800</td>\n",
       "      <td>-121.170800</td>\n",
       "      <td>WECC</td>\n",
       "      <td>CA</td>\n",
       "    </tr>\n",
       "    <tr>\n",
       "      <th>49</th>\n",
       "      <td>10008</td>\n",
       "      <td>30.314467</td>\n",
       "      <td>-81.662705</td>\n",
       "      <td>FRCC</td>\n",
       "      <td>FL</td>\n",
       "    </tr>\n",
       "    <tr>\n",
       "      <th>62</th>\n",
       "      <td>10091</td>\n",
       "      <td>33.768300</td>\n",
       "      <td>-118.283600</td>\n",
       "      <td>WECC</td>\n",
       "      <td>CA</td>\n",
       "    </tr>\n",
       "  </tbody>\n",
       "</table>\n",
       "</div>"
      ],
      "text/plain": [
       "    plant id        lat         lon  nerc state\n",
       "0       1001  39.924200  -87.424400   RFC    IN\n",
       "17     10003  39.760600 -105.215000  WECC    CO\n",
       "34     10005  37.047800 -121.170800  WECC    CA\n",
       "49     10008  30.314467  -81.662705  FRCC    FL\n",
       "62     10091  33.768300 -118.283600  WECC    CA"
      ]
     },
     "execution_count": 27,
     "metadata": {},
     "output_type": "execute_result"
    }
   ],
   "source": [
    "df_slim.head()"
   ]
  },
  {
   "cell_type": "markdown",
   "metadata": {},
   "source": [
    "Separate out the list of plants where we don't have NERC labels from EIA-860."
   ]
  },
  {
   "cell_type": "code",
   "execution_count": 28,
   "metadata": {
    "ExecuteTime": {
     "end_time": "2017-11-06T16:40:35.247883Z",
     "start_time": "2017-11-06T16:40:35.239582Z"
    },
    "collapsed": true
   },
   "outputs": [],
   "source": [
    "unknown = df_slim.loc[df_slim.nerc.isnull()]"
   ]
  },
  {
   "cell_type": "code",
   "execution_count": 29,
   "metadata": {
    "ExecuteTime": {
     "end_time": "2017-11-06T16:40:37.583325Z",
     "start_time": "2017-11-06T16:40:37.568223Z"
    }
   },
   "outputs": [
    {
     "name": "stdout",
     "output_type": "stream",
     "text": [
      "279 plants don't have NERC labels\n",
      "\n",
      "       plant id      lat         lon nerc state\n",
      "38520     52080  37.9725  122.058333  NaN    CA\n",
      "48717     55647  36.1844  -86.854200  NaN    TN\n",
      "56706     58277  20.8867 -156.337800  NaN    HI\n",
      "57035     58380  61.2860 -149.610000  NaN    AK\n",
      "57071     58425  61.1300 -150.243611  NaN    AK\n"
     ]
    }
   ],
   "source": [
    "print(\"{} plants don't have NERC labels\\n\".format(len(unknown)))\n",
    "print(unknown.head())"
   ]
  },
  {
   "cell_type": "markdown",
   "metadata": {},
   "source": [
    "### Create X and y matricies\n",
    "X is lat/lon\n",
    "\n",
    "y is the NERC label\n",
    "\n",
    "For both, I'm only using plants where we have all data (no `NaN`s). Not doing any transformation of the lat/lon at this time. There is certainly some error here, as KNN will use the Euclidian distance to calculate nearest neighbors. Not sure how I plan on dealing with this, or if it is even necessary."
   ]
  },
  {
   "cell_type": "code",
   "execution_count": 30,
   "metadata": {
    "ExecuteTime": {
     "end_time": "2017-11-06T20:06:21.393849Z",
     "start_time": "2017-11-06T20:06:21.367798Z"
    },
    "collapsed": true
   },
   "outputs": [],
   "source": [
    "X = df_slim.loc[df_slim.notnull().all(axis=1), ['lat', 'lon']]\n",
    "y = df_slim.loc[df_slim.notnull().all(axis=1), 'nerc']\n",
    "\n",
    "# le = LabelEncoder()\n",
    "# le.fit(y)\n",
    "\n",
    "# y = le.transform(y)"
   ]
  },
  {
   "cell_type": "code",
   "execution_count": 31,
   "metadata": {
    "ExecuteTime": {
     "end_time": "2017-11-06T20:06:27.239811Z",
     "start_time": "2017-11-06T20:06:27.233495Z"
    }
   },
   "outputs": [
    {
     "data": {
      "text/plain": [
       "8703"
      ]
     },
     "execution_count": 31,
     "metadata": {},
     "output_type": "execute_result"
    }
   ],
   "source": [
    "len(X)"
   ]
  },
  {
   "cell_type": "code",
   "execution_count": 32,
   "metadata": {
    "ExecuteTime": {
     "end_time": "2017-11-06T20:06:27.249590Z",
     "start_time": "2017-11-06T20:06:27.242414Z"
    },
    "collapsed": true
   },
   "outputs": [],
   "source": [
    "X_train, X_test, y_train, y_test = train_test_split(\n",
    "    X, y, test_size=0.33, random_state=42)"
   ]
  },
  {
   "cell_type": "markdown",
   "metadata": {},
   "source": [
    "## GridSearch to find the best parameters"
   ]
  },
  {
   "cell_type": "markdown",
   "metadata": {},
   "source": [
    "### Regular KNN classifier\n",
    "Run gridsearch testing parameter values for weights, n_neighbors, and p (use Euclidean or Manhattan distance).\n",
    "\n",
    "With 15 neighbors, weights by distance, and Euclidean distance, the model is able to accurately predict the test sample NERC region with 96% accuracy. This varies by region, with the lowest accuracy scores for TRE and SPP (89% and 87%), and the highest accuracy scores for WECC and NPCC (each 99%). F1 scores tend to be similar to the accuracy, although TRE has slightly higher F1 (0.94 vs 0.89)."
   ]
  },
  {
   "cell_type": "code",
   "execution_count": 33,
   "metadata": {
    "ExecuteTime": {
     "end_time": "2017-11-06T20:06:28.581180Z",
     "start_time": "2017-11-06T20:06:27.257246Z"
    }
   },
   "outputs": [
    {
     "name": "stdout",
     "output_type": "stream",
     "text": [
      "Fitting 3 folds for each of 12 candidates, totalling 36 fits\n"
     ]
    },
    {
     "name": "stderr",
     "output_type": "stream",
     "text": [
      "[Parallel(n_jobs=-1)]: Done  20 out of  36 | elapsed:   12.5s remaining:   10.0s\n",
      "[Parallel(n_jobs=-1)]: Done  36 out of  36 | elapsed:   21.1s finished\n"
     ]
    },
    {
     "data": {
      "text/plain": [
       "GridSearchCV(cv=None, error_score='raise',\n",
       "       estimator=KNeighborsClassifier(algorithm='auto', leaf_size=30, metric='minkowski',\n",
       "           metric_params=None, n_jobs=1, n_neighbors=5, p=2,\n",
       "           weights='uniform'),\n",
       "       fit_params=None, iid=False, n_jobs=-1,\n",
       "       param_grid={'weights': ['uniform', 'distance'], 'n_neighbors': [10, 15, 20], 'p': [1, 2]},\n",
       "       pre_dispatch='2*n_jobs', refit=True, return_train_score='warn',\n",
       "       scoring=None, verbose=1)"
      ]
     },
     "execution_count": 33,
     "metadata": {},
     "output_type": "execute_result"
    }
   ],
   "source": [
    "knn = neighbors.KNeighborsClassifier()\n",
    "\n",
    "params = {'weights': ['uniform', 'distance'],\n",
    "          'n_neighbors': [10, 15, 20],\n",
    "          'p': [1, 2]\n",
    "         }\n",
    "\n",
    "clf_knn = GridSearchCV(knn, params, n_jobs=-1, iid=False, verbose=1)\n",
    "\n",
    "clf_knn.fit(X_train, y_train)"
   ]
  },
  {
   "cell_type": "code",
   "execution_count": 34,
   "metadata": {
    "ExecuteTime": {
     "end_time": "2017-11-06T20:06:28.595105Z",
     "start_time": "2017-11-06T20:06:28.586540Z"
    }
   },
   "outputs": [
    {
     "data": {
      "text/plain": [
       "(KNeighborsClassifier(algorithm='auto', leaf_size=30, metric='minkowski',\n",
       "            metric_params=None, n_jobs=1, n_neighbors=10, p=1,\n",
       "            weights='distance'), 0.9590098375679993)"
      ]
     },
     "execution_count": 34,
     "metadata": {},
     "output_type": "execute_result"
    }
   ],
   "source": [
    "clf_knn.best_estimator_, clf_knn.best_score_"
   ]
  },
  {
   "cell_type": "code",
   "execution_count": 35,
   "metadata": {
    "ExecuteTime": {
     "end_time": "2017-11-06T20:06:28.646251Z",
     "start_time": "2017-11-06T20:06:28.597679Z"
    }
   },
   "outputs": [
    {
     "data": {
      "text/plain": [
       "0.9589136490250696"
      ]
     },
     "execution_count": 35,
     "metadata": {},
     "output_type": "execute_result"
    }
   ],
   "source": [
    "clf_knn.score(X_test, y_test)"
   ]
  },
  {
   "cell_type": "code",
   "execution_count": 36,
   "metadata": {
    "ExecuteTime": {
     "end_time": "2017-11-06T20:10:03.521287Z",
     "start_time": "2017-11-06T20:10:03.510982Z"
    }
   },
   "outputs": [],
   "source": [
    "nerc_labels = nercs.nerc.dropna().unique()"
   ]
  },
  {
   "cell_type": "markdown",
   "metadata": {},
   "source": [
    "Accuracy score by region"
   ]
  },
  {
   "cell_type": "code",
   "execution_count": 37,
   "metadata": {
    "ExecuteTime": {
     "end_time": "2017-11-06T20:15:48.830308Z",
     "start_time": "2017-11-06T20:15:48.737017Z"
    }
   },
   "outputs": [
    {
     "name": "stdout",
     "output_type": "stream",
     "text": [
      "SERC : 0.9553752535496958\n",
      "RFC : 0.9523809523809523\n",
      "SPP : 0.8098591549295775\n",
      "NPCC : 0.9768115942028985\n",
      "WECC : 0.9904191616766467\n",
      "MRO : 0.9469964664310954\n",
      "TRE : 0.927007299270073\n",
      "HICC : 1.0\n",
      "ASCC : 0.975609756097561\n",
      "FRCC : 0.9629629629629629\n"
     ]
    }
   ],
   "source": [
    "for region in nerc_labels:\n",
    "    mask = y_test == region\n",
    "    \n",
    "    X_masked = X_test[mask]\n",
    "    y_hat_masked = clf_knn.predict(X_masked)\n",
    "    y_test_masked = y_test[mask]\n",
    "    \n",
    "    accuracy = metrics.accuracy_score(y_test_masked, y_hat_masked)\n",
    "    print('{} : {}'.format(region, accuracy))"
   ]
  },
  {
   "cell_type": "markdown",
   "metadata": {},
   "source": [
    "F1 score by region"
   ]
  },
  {
   "cell_type": "code",
   "execution_count": 38,
   "metadata": {
    "ExecuteTime": {
     "end_time": "2017-11-06T20:18:57.242329Z",
     "start_time": "2017-11-06T20:18:57.079002Z"
    }
   },
   "outputs": [
    {
     "name": "stdout",
     "output_type": "stream",
     "text": [
      "SERC : 0.9534412955465588\n",
      "RFC : 0.949667616334283\n",
      "SPP : 0.8273381294964028\n",
      "NPCC : 0.9810771470160117\n",
      "WECC : 0.9904191616766467\n",
      "MRO : 0.9337979094076655\n",
      "TRE : 0.9407407407407407\n",
      "HICC : 0.9444444444444444\n",
      "ASCC : 0.975609756097561\n",
      "FRCC : 0.9811320754716981\n"
     ]
    }
   ],
   "source": [
    "y_hat = clf_knn.predict(X_test)\n",
    "\n",
    "for region in nerc_labels:\n",
    "    f1 = metrics.f1_score(y_test, y_hat, labels=[region], average='macro')\n",
    "    print('{} : {}'.format(region, f1))"
   ]
  },
  {
   "cell_type": "code",
   "execution_count": 39,
   "metadata": {
    "ExecuteTime": {
     "end_time": "2017-11-06T20:21:11.256728Z",
     "start_time": "2017-11-06T20:21:11.237272Z"
    }
   },
   "outputs": [
    {
     "data": {
      "text/plain": [
       "0.9589136490250696"
      ]
     },
     "execution_count": 39,
     "metadata": {},
     "output_type": "execute_result"
    }
   ],
   "source": [
    "metrics.f1_score(y_test, y_hat, average='micro')"
   ]
  },
  {
   "cell_type": "code",
   "execution_count": 40,
   "metadata": {
    "ExecuteTime": {
     "end_time": "2017-11-06T20:21:24.325435Z",
     "start_time": "2017-11-06T20:21:24.308078Z"
    }
   },
   "outputs": [
    {
     "data": {
      "text/plain": [
       "0.9477668276232013"
      ]
     },
     "execution_count": 40,
     "metadata": {},
     "output_type": "execute_result"
    }
   ],
   "source": [
    "metrics.f1_score(y_test, y_hat, average='macro')"
   ]
  },
  {
   "cell_type": "markdown",
   "metadata": {},
   "source": [
    "## Use best KNN parameters to predict NERC for unknown plants"
   ]
  },
  {
   "cell_type": "code",
   "execution_count": 41,
   "metadata": {
    "ExecuteTime": {
     "end_time": "2017-11-06T16:53:30.016363Z",
     "start_time": "2017-11-06T16:53:29.583624Z"
    }
   },
   "outputs": [
    {
     "name": "stderr",
     "output_type": "stream",
     "text": [
      "C:\\Users\\gschivley\\Anaconda2\\envs\\psci\\lib\\site-packages\\pandas\\core\\indexing.py:537: SettingWithCopyWarning: \n",
      "A value is trying to be set on a copy of a slice from a DataFrame.\n",
      "Try using .loc[row_indexer,col_indexer] = value instead\n",
      "\n",
      "See the caveats in the documentation: http://pandas.pydata.org/pandas-docs/stable/indexing.html#indexing-view-versus-copy\n",
      "  self.obj[item] = s\n"
     ]
    }
   ],
   "source": [
    "unknown.loc[:, 'nerc'] = clf_knn.predict(unknown.loc[:, ['lat', 'lon']])"
   ]
  },
  {
   "cell_type": "markdown",
   "metadata": {},
   "source": [
    "Ensuring that no plants in Alaska or Hawaii are assigned to continental NERCs, or the other way around."
   ]
  },
  {
   "cell_type": "code",
   "execution_count": 42,
   "metadata": {
    "ExecuteTime": {
     "end_time": "2017-11-06T16:53:34.746917Z",
     "start_time": "2017-11-06T16:53:34.734080Z"
    }
   },
   "outputs": [
    {
     "name": "stdout",
     "output_type": "stream",
     "text": [
      "['HICC' 'ASCC' 'WECC']\n",
      "['HI' 'AK']\n"
     ]
    }
   ],
   "source": [
    "print(unknown.loc[unknown.state.isin(['AK', 'HI']), 'nerc'].unique())\n",
    "print(unknown.loc[unknown.nerc.isin(['HICC', 'ASCC']), 'state'].unique())"
   ]
  },
  {
   "cell_type": "code",
   "execution_count": 43,
   "metadata": {
    "ExecuteTime": {
     "end_time": "2017-11-06T16:53:38.090243Z",
     "start_time": "2017-11-06T16:53:38.084127Z"
    }
   },
   "outputs": [
    {
     "data": {
      "text/plain": [
       "Counter({'ASCC': 11,\n",
       "         'FRCC': 2,\n",
       "         'HICC': 11,\n",
       "         'MRO': 8,\n",
       "         'NPCC': 57,\n",
       "         'RFC': 33,\n",
       "         'SERC': 41,\n",
       "         'SPP': 22,\n",
       "         'TRE': 29,\n",
       "         'WECC': 65})"
      ]
     },
     "execution_count": 43,
     "metadata": {},
     "output_type": "execute_result"
    }
   ],
   "source": [
    "Counter(unknown['nerc'])"
   ]
  },
  {
   "cell_type": "markdown",
   "metadata": {},
   "source": [
    "## Export plants with lat/lon, state, and nerc"
   ]
  },
  {
   "cell_type": "code",
   "execution_count": 44,
   "metadata": {
    "ExecuteTime": {
     "end_time": "2017-11-06T16:54:00.912370Z",
     "start_time": "2017-11-06T16:54:00.897855Z"
    }
   },
   "outputs": [
    {
     "data": {
      "text/html": [
       "<div>\n",
       "<style scoped>\n",
       "    .dataframe tbody tr th:only-of-type {\n",
       "        vertical-align: middle;\n",
       "    }\n",
       "\n",
       "    .dataframe tbody tr th {\n",
       "        vertical-align: top;\n",
       "    }\n",
       "\n",
       "    .dataframe thead th {\n",
       "        text-align: right;\n",
       "    }\n",
       "</style>\n",
       "<table border=\"1\" class=\"dataframe\">\n",
       "  <thead>\n",
       "    <tr style=\"text-align: right;\">\n",
       "      <th></th>\n",
       "      <th>plant id</th>\n",
       "      <th>lat</th>\n",
       "      <th>lon</th>\n",
       "      <th>nerc</th>\n",
       "      <th>state</th>\n",
       "    </tr>\n",
       "  </thead>\n",
       "  <tbody>\n",
       "    <tr>\n",
       "      <th>38520</th>\n",
       "      <td>52080</td>\n",
       "      <td>37.9725</td>\n",
       "      <td>122.058333</td>\n",
       "      <td>WECC</td>\n",
       "      <td>CA</td>\n",
       "    </tr>\n",
       "    <tr>\n",
       "      <th>48717</th>\n",
       "      <td>55647</td>\n",
       "      <td>36.1844</td>\n",
       "      <td>-86.854200</td>\n",
       "      <td>SERC</td>\n",
       "      <td>TN</td>\n",
       "    </tr>\n",
       "    <tr>\n",
       "      <th>56706</th>\n",
       "      <td>58277</td>\n",
       "      <td>20.8867</td>\n",
       "      <td>-156.337800</td>\n",
       "      <td>HICC</td>\n",
       "      <td>HI</td>\n",
       "    </tr>\n",
       "    <tr>\n",
       "      <th>57035</th>\n",
       "      <td>58380</td>\n",
       "      <td>61.2860</td>\n",
       "      <td>-149.610000</td>\n",
       "      <td>ASCC</td>\n",
       "      <td>AK</td>\n",
       "    </tr>\n",
       "    <tr>\n",
       "      <th>57071</th>\n",
       "      <td>58425</td>\n",
       "      <td>61.1300</td>\n",
       "      <td>-150.243611</td>\n",
       "      <td>ASCC</td>\n",
       "      <td>AK</td>\n",
       "    </tr>\n",
       "  </tbody>\n",
       "</table>\n",
       "</div>"
      ],
      "text/plain": [
       "       plant id      lat         lon  nerc state\n",
       "38520     52080  37.9725  122.058333  WECC    CA\n",
       "48717     55647  36.1844  -86.854200  SERC    TN\n",
       "56706     58277  20.8867 -156.337800  HICC    HI\n",
       "57035     58380  61.2860 -149.610000  ASCC    AK\n",
       "57071     58425  61.1300 -150.243611  ASCC    AK"
      ]
     },
     "execution_count": 44,
     "metadata": {},
     "output_type": "execute_result"
    }
   ],
   "source": [
    "unknown.head()"
   ]
  },
  {
   "cell_type": "code",
   "execution_count": 45,
   "metadata": {
    "ExecuteTime": {
     "end_time": "2017-11-06T16:54:02.144417Z",
     "start_time": "2017-11-06T16:54:02.126662Z"
    }
   },
   "outputs": [
    {
     "data": {
      "text/html": [
       "<div>\n",
       "<style scoped>\n",
       "    .dataframe tbody tr th:only-of-type {\n",
       "        vertical-align: middle;\n",
       "    }\n",
       "\n",
       "    .dataframe tbody tr th {\n",
       "        vertical-align: top;\n",
       "    }\n",
       "\n",
       "    .dataframe thead th {\n",
       "        text-align: right;\n",
       "    }\n",
       "</style>\n",
       "<table border=\"1\" class=\"dataframe\">\n",
       "  <thead>\n",
       "    <tr style=\"text-align: right;\">\n",
       "      <th></th>\n",
       "      <th>plant id</th>\n",
       "      <th>lat</th>\n",
       "      <th>lon</th>\n",
       "      <th>nerc</th>\n",
       "      <th>state</th>\n",
       "    </tr>\n",
       "  </thead>\n",
       "  <tbody>\n",
       "    <tr>\n",
       "      <th>94762</th>\n",
       "      <td>499</td>\n",
       "      <td>37.643611</td>\n",
       "      <td>120.757500</td>\n",
       "      <td>WECC</td>\n",
       "      <td>CA</td>\n",
       "    </tr>\n",
       "    <tr>\n",
       "      <th>94774</th>\n",
       "      <td>7478</td>\n",
       "      <td>32.738889</td>\n",
       "      <td>114.700278</td>\n",
       "      <td>WECC</td>\n",
       "      <td>AZ</td>\n",
       "    </tr>\n",
       "    <tr>\n",
       "      <th>94792</th>\n",
       "      <td>56197</td>\n",
       "      <td>35.301389</td>\n",
       "      <td>77.631111</td>\n",
       "      <td>SERC</td>\n",
       "      <td>NC</td>\n",
       "    </tr>\n",
       "    <tr>\n",
       "      <th>94796</th>\n",
       "      <td>52205</td>\n",
       "      <td>36.796389</td>\n",
       "      <td>121.448889</td>\n",
       "      <td>WECC</td>\n",
       "      <td>CA</td>\n",
       "    </tr>\n",
       "    <tr>\n",
       "      <th>94894</th>\n",
       "      <td>596</td>\n",
       "      <td>39.733889</td>\n",
       "      <td>75.564444</td>\n",
       "      <td>NPCC</td>\n",
       "      <td>DE</td>\n",
       "    </tr>\n",
       "  </tbody>\n",
       "</table>\n",
       "</div>"
      ],
      "text/plain": [
       "       plant id        lat         lon  nerc state\n",
       "94762       499  37.643611  120.757500  WECC    CA\n",
       "94774      7478  32.738889  114.700278  WECC    AZ\n",
       "94792     56197  35.301389   77.631111  SERC    NC\n",
       "94796     52205  36.796389  121.448889  WECC    CA\n",
       "94894       596  39.733889   75.564444  NPCC    DE"
      ]
     },
     "execution_count": 45,
     "metadata": {},
     "output_type": "execute_result"
    }
   ],
   "source": [
    "unknown.tail()"
   ]
  },
  {
   "cell_type": "code",
   "execution_count": 46,
   "metadata": {
    "ExecuteTime": {
     "end_time": "2017-11-06T16:54:06.371732Z",
     "start_time": "2017-11-06T16:54:06.354901Z"
    }
   },
   "outputs": [
    {
     "data": {
      "text/html": [
       "<div>\n",
       "<style scoped>\n",
       "    .dataframe tbody tr th:only-of-type {\n",
       "        vertical-align: middle;\n",
       "    }\n",
       "\n",
       "    .dataframe tbody tr th {\n",
       "        vertical-align: top;\n",
       "    }\n",
       "\n",
       "    .dataframe thead th {\n",
       "        text-align: right;\n",
       "    }\n",
       "</style>\n",
       "<table border=\"1\" class=\"dataframe\">\n",
       "  <thead>\n",
       "    <tr style=\"text-align: right;\">\n",
       "      <th></th>\n",
       "      <th>plant id</th>\n",
       "      <th>lat</th>\n",
       "      <th>lon</th>\n",
       "      <th>nerc</th>\n",
       "      <th>state</th>\n",
       "    </tr>\n",
       "  </thead>\n",
       "  <tbody>\n",
       "    <tr>\n",
       "      <th>0</th>\n",
       "      <td>1001</td>\n",
       "      <td>39.924200</td>\n",
       "      <td>-87.424400</td>\n",
       "      <td>RFC</td>\n",
       "      <td>IN</td>\n",
       "    </tr>\n",
       "    <tr>\n",
       "      <th>17</th>\n",
       "      <td>10003</td>\n",
       "      <td>39.760600</td>\n",
       "      <td>-105.215000</td>\n",
       "      <td>WECC</td>\n",
       "      <td>CO</td>\n",
       "    </tr>\n",
       "    <tr>\n",
       "      <th>34</th>\n",
       "      <td>10005</td>\n",
       "      <td>37.047800</td>\n",
       "      <td>-121.170800</td>\n",
       "      <td>WECC</td>\n",
       "      <td>CA</td>\n",
       "    </tr>\n",
       "    <tr>\n",
       "      <th>49</th>\n",
       "      <td>10008</td>\n",
       "      <td>30.314467</td>\n",
       "      <td>-81.662705</td>\n",
       "      <td>FRCC</td>\n",
       "      <td>FL</td>\n",
       "    </tr>\n",
       "    <tr>\n",
       "      <th>62</th>\n",
       "      <td>10091</td>\n",
       "      <td>33.768300</td>\n",
       "      <td>-118.283600</td>\n",
       "      <td>WECC</td>\n",
       "      <td>CA</td>\n",
       "    </tr>\n",
       "  </tbody>\n",
       "</table>\n",
       "</div>"
      ],
      "text/plain": [
       "    plant id        lat         lon  nerc state\n",
       "0       1001  39.924200  -87.424400   RFC    IN\n",
       "17     10003  39.760600 -105.215000  WECC    CO\n",
       "34     10005  37.047800 -121.170800  WECC    CA\n",
       "49     10008  30.314467  -81.662705  FRCC    FL\n",
       "62     10091  33.768300 -118.283600  WECC    CA"
      ]
     },
     "execution_count": 46,
     "metadata": {},
     "output_type": "execute_result"
    }
   ],
   "source": [
    "df_slim.head()"
   ]
  },
  {
   "cell_type": "code",
   "execution_count": 47,
   "metadata": {
    "ExecuteTime": {
     "end_time": "2017-11-06T16:54:07.622073Z",
     "start_time": "2017-11-06T16:54:07.597436Z"
    },
    "collapsed": true
   },
   "outputs": [],
   "source": [
    "labeled = pd.concat([df_slim.loc[df_slim.notnull().all(axis=1)], unknown])"
   ]
  },
  {
   "cell_type": "code",
   "execution_count": 48,
   "metadata": {
    "ExecuteTime": {
     "end_time": "2017-11-06T16:54:09.653819Z",
     "start_time": "2017-11-06T16:54:09.640776Z"
    }
   },
   "outputs": [
    {
     "data": {
      "text/html": [
       "<div>\n",
       "<style scoped>\n",
       "    .dataframe tbody tr th:only-of-type {\n",
       "        vertical-align: middle;\n",
       "    }\n",
       "\n",
       "    .dataframe tbody tr th {\n",
       "        vertical-align: top;\n",
       "    }\n",
       "\n",
       "    .dataframe thead th {\n",
       "        text-align: right;\n",
       "    }\n",
       "</style>\n",
       "<table border=\"1\" class=\"dataframe\">\n",
       "  <thead>\n",
       "    <tr style=\"text-align: right;\">\n",
       "      <th></th>\n",
       "      <th>plant id</th>\n",
       "      <th>lat</th>\n",
       "      <th>lon</th>\n",
       "      <th>nerc</th>\n",
       "      <th>state</th>\n",
       "    </tr>\n",
       "  </thead>\n",
       "  <tbody>\n",
       "  </tbody>\n",
       "</table>\n",
       "</div>"
      ],
      "text/plain": [
       "Empty DataFrame\n",
       "Columns: [plant id, lat, lon, nerc, state]\n",
       "Index: []"
      ]
     },
     "execution_count": 48,
     "metadata": {},
     "output_type": "execute_result"
    }
   ],
   "source": [
    "labeled.loc[labeled.nerc.isnull()]"
   ]
  },
  {
   "cell_type": "markdown",
   "metadata": {},
   "source": [
    "There are 11 facilities that don't show up in my labeled data - they didn't have lat/lon info."
   ]
  },
  {
   "cell_type": "code",
   "execution_count": 49,
   "metadata": {
    "ExecuteTime": {
     "end_time": "2017-11-06T16:55:19.867023Z",
     "start_time": "2017-11-06T16:55:19.768985Z"
    }
   },
   "outputs": [
    {
     "data": {
      "text/plain": [
       "array([10851, 50291, 56672, 55982, 55150, 55082, 55521, 55314, 54243,\n",
       "       50726, 50249,  2666, 55952,  7704,  6339, 55840, 55883, 55955,\n",
       "       55958, 56043, 56175, 55975, 56042, 56168, 55073, 54516, 55303,\n",
       "       55301, 52164, 54222, 50728, 50040, 50030, 50168, 50313, 10683,\n",
       "       10257, 56508], dtype=int64)"
      ]
     },
     "execution_count": 49,
     "metadata": {},
     "output_type": "execute_result"
    }
   ],
   "source": [
    "facility_df.loc[~facility_df['plant id'].isin(labeled['plant id']),\n",
    "                'plant id'].unique()"
   ]
  },
  {
   "cell_type": "code",
   "execution_count": 50,
   "metadata": {
    "ExecuteTime": {
     "end_time": "2017-11-06T16:59:09.744166Z",
     "start_time": "2017-11-06T16:59:09.667898Z"
    },
    "collapsed": true
   },
   "outputs": [],
   "source": [
    "path = join(data_path, 'Facility labels', 'Facility locations_knn.csv')\n",
    "labeled.to_csv(path, index=False)"
   ]
  },
  {
   "cell_type": "code",
   "execution_count": null,
   "metadata": {
    "collapsed": true
   },
   "outputs": [],
   "source": []
  }
 ],
 "metadata": {
  "kernelspec": {
   "display_name": "py36",
   "language": "python",
   "name": "py36"
  },
  "language_info": {
   "codemirror_mode": {
    "name": "ipython",
    "version": 3
   },
   "file_extension": ".py",
   "mimetype": "text/x-python",
   "name": "python",
   "nbconvert_exporter": "python",
   "pygments_lexer": "ipython3",
   "version": "3.6.4"
  },
  "varInspector": {
   "cols": {
    "lenName": 16,
    "lenType": 16,
    "lenVar": 40
   },
   "kernels_config": {
    "python": {
     "delete_cmd_postfix": "",
     "delete_cmd_prefix": "del ",
     "library": "var_list.py",
     "varRefreshCmd": "print(var_dic_list())"
    },
    "r": {
     "delete_cmd_postfix": ") ",
     "delete_cmd_prefix": "rm(",
     "library": "var_list.r",
     "varRefreshCmd": "cat(var_dic_list()) "
    }
   },
   "types_to_exclude": [
    "module",
    "function",
    "builtin_function_or_method",
    "instance",
    "_Feature"
   ],
   "window_display": false
  }
 },
 "nbformat": 4,
 "nbformat_minor": 2
}
