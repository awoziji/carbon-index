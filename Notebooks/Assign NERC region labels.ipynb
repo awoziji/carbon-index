{
 "cells": [
  {
   "cell_type": "markdown",
   "metadata": {},
   "source": [
    "# Assign NERC labels to plants using 860 data and k-nearest neighbors\n",
    "\n",
    "## Instructions\n",
    "Make sure the `file_date` parameter below is set to whatever value you would like appended to file names.\n",
    "\n",
    "Change the `most_recent_860_year` parameter below to match the most up-to-date EIA-860 annual data file. As of March 2018 this is 2016.\n",
    "\n",
    "EIA-860 (annual) excel files will need to be [downloaded](https://www.eia.gov/electricity/data/eia860/) and unzipped to the `EIA downloads` folder. Make sure that all years from 2012 through the most recent data year are available. Also download the most recent [EIA-860m](https://www.eia.gov/electricity/data/eia860m/) to `EIA downloads`.\n",
    "\n",
    "The most recent annual 860 file available (as of March 2018) represents 2016 data. When newer EIA-860 annual files are added the dictionary with pandas `read_excel` parameters will need to be updated. Note that EIA puts out an Early Release version of 860 with extra header rows and columns, so be sure to appropriately adjust the `skiprows` and `usecols` parameters if using an Early Release file.\n",
    "\n",
    "The entire notebook can be run at once using *Run All Cells*"
   ]
  },
  {
   "cell_type": "code",
   "execution_count": 1,
   "metadata": {
    "ExecuteTime": {
     "end_time": "2017-11-06T20:00:19.547289Z",
     "start_time": "2017-11-06T20:00:19.534260Z"
    },
    "collapsed": true
   },
   "outputs": [],
   "source": [
    "%matplotlib inline\n",
    "import matplotlib.pyplot as plt\n",
    "import os\n",
    "from os.path import join\n",
    "import pandas as pd\n",
    "from sklearn import neighbors, metrics\n",
    "from sklearn.preprocessing import LabelEncoder\n",
    "from sklearn.model_selection import train_test_split, GridSearchCV\n",
    "from collections import Counter\n",
    "from copy import deepcopy\n",
    "\n",
    "\n",
    "cwd = os.getcwd()\n",
    "data_path = join(cwd, '..', 'Data storage')"
   ]
  },
  {
   "cell_type": "markdown",
   "metadata": {},
   "source": [
    "### Date string for filenames\n",
    "This will be inserted into all filenames (reading and writing)"
   ]
  },
  {
   "cell_type": "code",
   "execution_count": 2,
   "metadata": {},
   "outputs": [],
   "source": [
    "file_date = '2018-03-06'\n",
    "most_recent_860_year = 2016"
   ]
  },
  {
   "cell_type": "markdown",
   "metadata": {},
   "source": [
    "## Load data\n",
    "This loads facility data that has been assembled from the EIA bulk data file, and EIA-860 excel files. The EIA-860 excel files need to be downloaded manually."
   ]
  },
  {
   "cell_type": "markdown",
   "metadata": {},
   "source": [
    "### Load EIA facility data\n",
    "Only need to keep the plant id, year (as a check that plants don't move between years), and lat/lon"
   ]
  },
  {
   "cell_type": "code",
   "execution_count": 3,
   "metadata": {
    "ExecuteTime": {
     "end_time": "2017-11-06T14:34:57.939401Z",
     "start_time": "2017-11-06T14:34:48.570853Z"
    },
    "collapsed": true
   },
   "outputs": [],
   "source": [
    "path = os.path.join(data_path, 'Derived data',\n",
    "                    'Facility gen fuels and CO2 {}.csv'.format(file_date))\n",
    "facility_df = pd.read_csv(path)\n",
    "facility_df['state'] = facility_df['geography'].str[-2:]"
   ]
  },
  {
   "cell_type": "code",
   "execution_count": 4,
   "metadata": {
    "ExecuteTime": {
     "end_time": "2017-11-06T14:42:35.675435Z",
     "start_time": "2017-11-06T14:42:34.964483Z"
    },
    "collapsed": true
   },
   "outputs": [],
   "source": [
    "plants = facility_df.loc[:, ['plant id', 'year', 'lat', 'lon', 'state']]\n",
    "plants.drop_duplicates(inplace=True)"
   ]
  },
  {
   "cell_type": "markdown",
   "metadata": {},
   "source": [
    "### Load known NERC labels from EIA-860\n",
    "Current NERCS go back to 2012. Use all annual 860 files from 2012 through the most recent available. Extend the dictionary of dictionaries below with any files available after 2016. `io`, `skiprows`, and `usecols` are all input parameters for the Pandas `read_excel` function."
   ]
  },
  {
   "cell_type": "code",
   "execution_count": 5,
   "metadata": {
    "ExecuteTime": {
     "end_time": "2017-11-06T14:27:35.633747Z",
     "start_time": "2017-11-06T14:27:35.621006Z"
    },
    "collapsed": true
   },
   "outputs": [],
   "source": [
    "eia_base_path = join(data_path, 'EIA downloads')\n",
    "file_860_info = {\n",
    "#     2011: {'io': join(eia_base_path, 'eia8602011', 'Plant.xlsx'),\n",
    "#            'skiprows': 0,\n",
    "#            'parse_cols': 'B,J'},\n",
    "    2012: {'io': join(eia_base_path, 'eia8602012', 'PlantY2012.xlsx'),\n",
    "           'skiprows': 0,\n",
    "           'usecols': 'B,J'},\n",
    "    2013: {'io': join(eia_base_path, 'eia8602013', '2___Plant_Y2013.xlsx'),\n",
    "           'skiprows': 0,\n",
    "           'usecols': 'C,L'},\n",
    "    2014: {'io': join(eia_base_path, 'eia8602014', '2___Plant_Y2014.xlsx'),\n",
    "           'skiprows': 0,\n",
    "           'usecols': 'C,L'},\n",
    "    2015: {'io': join(eia_base_path, 'eia8602015', '2___Plant_Y2015.xlsx'),\n",
    "           'skiprows': 0,\n",
    "           'usecols': 'C,L'},\n",
    "    2016: {'io': join(eia_base_path, 'eia8602016', '2___Plant_Y2016.xlsx'),\n",
    "           'skiprows': 0,\n",
    "           'usecols': 'C,L'}\n",
    "}"
   ]
  },
  {
   "cell_type": "code",
   "execution_count": 6,
   "metadata": {
    "ExecuteTime": {
     "end_time": "2017-11-06T14:30:20.380645Z",
     "start_time": "2017-11-06T14:29:57.233977Z"
    }
   },
   "outputs": [],
   "source": [
    "eia_nercs = {}\n",
    "for key, args in file_860_info.items():\n",
    "    eia_nercs[key] = pd.read_excel(**args)\n",
    "    eia_nercs[key].columns = ['plant id', 'nerc']\n",
    "    eia_nercs[key]['year'] = key"
   ]
  },
  {
   "cell_type": "markdown",
   "metadata": {},
   "source": [
    "I want to assign NERC regions for every year. We have data for 2012 onward from the EIA-860 files. For the purpose of this analysis I'll assume that all years from 2001-2011 are the same NERC as 2012.\n",
    "\n",
    "Also assume that values in 2017 are the same as in 2016. I'll fill in nerc values for plants that were built in 2017 below."
   ]
  },
  {
   "cell_type": "code",
   "execution_count": 30,
   "metadata": {},
   "outputs": [],
   "source": [
    "for year in range(2001, 2012):\n",
    "    # the pandas .copy() method is deep by default but I'm not sure in this case\n",
    "    df = deepcopy(eia_nercs[2012])\n",
    "    df['year'] = year\n",
    "    \n",
    "    eia_nercs[year] = df\n",
    "    \n",
    "df = deepcopy(eia_nercs[2016])\n",
    "df['year'] = 2017\n",
    "eia_nercs[2017] = df"
   ]
  },
  {
   "cell_type": "code",
   "execution_count": 31,
   "metadata": {},
   "outputs": [
    {
     "data": {
      "text/plain": [
       "dict_keys([2012, 2013, 2014, 2015, 2016, 2001, 2002, 2003, 2004, 2005, 2006, 2007, 2008, 2009, 2010, 2011, 2017])"
      ]
     },
     "execution_count": 31,
     "metadata": {},
     "output_type": "execute_result"
    }
   ],
   "source": [
    "eia_nercs.keys()"
   ]
  },
  {
   "cell_type": "code",
   "execution_count": 32,
   "metadata": {},
   "outputs": [
    {
     "data": {
      "text/html": [
       "<div>\n",
       "<style scoped>\n",
       "    .dataframe tbody tr th:only-of-type {\n",
       "        vertical-align: middle;\n",
       "    }\n",
       "\n",
       "    .dataframe tbody tr th {\n",
       "        vertical-align: top;\n",
       "    }\n",
       "\n",
       "    .dataframe thead th {\n",
       "        text-align: right;\n",
       "    }\n",
       "</style>\n",
       "<table border=\"1\" class=\"dataframe\">\n",
       "  <thead>\n",
       "    <tr style=\"text-align: right;\">\n",
       "      <th></th>\n",
       "      <th>plant id</th>\n",
       "      <th>nerc</th>\n",
       "      <th>year</th>\n",
       "    </tr>\n",
       "  </thead>\n",
       "  <tbody>\n",
       "    <tr>\n",
       "      <th>0</th>\n",
       "      <td>10867</td>\n",
       "      <td>SERC</td>\n",
       "      <td>2001</td>\n",
       "    </tr>\n",
       "    <tr>\n",
       "      <th>1</th>\n",
       "      <td>50903</td>\n",
       "      <td>RFC</td>\n",
       "      <td>2001</td>\n",
       "    </tr>\n",
       "    <tr>\n",
       "      <th>2</th>\n",
       "      <td>10671</td>\n",
       "      <td>SPP</td>\n",
       "      <td>2001</td>\n",
       "    </tr>\n",
       "    <tr>\n",
       "      <th>3</th>\n",
       "      <td>2527</td>\n",
       "      <td>NPCC</td>\n",
       "      <td>2001</td>\n",
       "    </tr>\n",
       "    <tr>\n",
       "      <th>4</th>\n",
       "      <td>3305</td>\n",
       "      <td>SERC</td>\n",
       "      <td>2001</td>\n",
       "    </tr>\n",
       "  </tbody>\n",
       "</table>\n",
       "</div>"
      ],
      "text/plain": [
       "   plant id  nerc  year\n",
       "0     10867  SERC  2001\n",
       "1     50903   RFC  2001\n",
       "2     10671   SPP  2001\n",
       "3      2527  NPCC  2001\n",
       "4      3305  SERC  2001"
      ]
     },
     "execution_count": 32,
     "metadata": {},
     "output_type": "execute_result"
    }
   ],
   "source": [
    "eia_nercs[2001].head()"
   ]
  },
  {
   "cell_type": "code",
   "execution_count": 33,
   "metadata": {
    "ExecuteTime": {
     "end_time": "2017-11-06T14:30:23.906158Z",
     "start_time": "2017-11-06T14:30:23.877433Z"
    }
   },
   "outputs": [],
   "source": [
    "nercs = pd.concat(eia_nercs.values())\n",
    "nercs.sort_values('year', inplace=True)"
   ]
  },
  {
   "cell_type": "code",
   "execution_count": 34,
   "metadata": {},
   "outputs": [
    {
     "data": {
      "text/html": [
       "<div>\n",
       "<style scoped>\n",
       "    .dataframe tbody tr th:only-of-type {\n",
       "        vertical-align: middle;\n",
       "    }\n",
       "\n",
       "    .dataframe tbody tr th {\n",
       "        vertical-align: top;\n",
       "    }\n",
       "\n",
       "    .dataframe thead th {\n",
       "        text-align: right;\n",
       "    }\n",
       "</style>\n",
       "<table border=\"1\" class=\"dataframe\">\n",
       "  <thead>\n",
       "    <tr style=\"text-align: right;\">\n",
       "      <th></th>\n",
       "      <th>plant id</th>\n",
       "      <th>nerc</th>\n",
       "      <th>year</th>\n",
       "    </tr>\n",
       "  </thead>\n",
       "  <tbody>\n",
       "    <tr>\n",
       "      <th>5465</th>\n",
       "      <td>56512</td>\n",
       "      <td>RFC</td>\n",
       "      <td>2001</td>\n",
       "    </tr>\n",
       "    <tr>\n",
       "      <th>4866</th>\n",
       "      <td>1481</td>\n",
       "      <td>NPCC</td>\n",
       "      <td>2001</td>\n",
       "    </tr>\n",
       "    <tr>\n",
       "      <th>4865</th>\n",
       "      <td>1480</td>\n",
       "      <td>NPCC</td>\n",
       "      <td>2001</td>\n",
       "    </tr>\n",
       "    <tr>\n",
       "      <th>4864</th>\n",
       "      <td>805</td>\n",
       "      <td>NPCC</td>\n",
       "      <td>2001</td>\n",
       "    </tr>\n",
       "    <tr>\n",
       "      <th>4863</th>\n",
       "      <td>54451</td>\n",
       "      <td>WECC</td>\n",
       "      <td>2001</td>\n",
       "    </tr>\n",
       "  </tbody>\n",
       "</table>\n",
       "</div>"
      ],
      "text/plain": [
       "      plant id  nerc  year\n",
       "5465     56512   RFC  2001\n",
       "4866      1481  NPCC  2001\n",
       "4865      1480  NPCC  2001\n",
       "4864       805  NPCC  2001\n",
       "4863     54451  WECC  2001"
      ]
     },
     "execution_count": 34,
     "metadata": {},
     "output_type": "execute_result"
    }
   ],
   "source": [
    "nercs.head()"
   ]
  },
  {
   "cell_type": "code",
   "execution_count": 13,
   "metadata": {},
   "outputs": [
    {
     "data": {
      "text/plain": [
       "array([2001, 2002, 2003, 2004, 2005, 2006, 2007, 2008, 2009, 2010, 2011,\n",
       "       2012, 2013, 2014, 2015, 2016])"
      ]
     },
     "execution_count": 13,
     "metadata": {},
     "output_type": "execute_result"
    }
   ],
   "source": [
    "nercs.year.unique()"
   ]
  },
  {
   "cell_type": "markdown",
   "metadata": {},
   "source": [
    "### Look for plants listed with different NERC labels\n",
    "\n",
    "** This may not matter anymore if I use NERC labels for each year **\n",
    "\n",
    "There are 30 plants duplicated. Five of them don't have a NERC label in one of the years. The largest move is from MRO to other regions (12), with most of those to SPP (7). After that, moves from RFC (5) to MRO (3) and SERC (2). There are also some moves from WECC and FRCC to HICC/ASCC - these might be diesel generators that get moved.\n",
    "\n",
    "The plants that have duplicate NERC region labels represent a small fraction of national generation, but one that is growing over time. By 2016 they consist of 0.15% of national generation."
   ]
  },
  {
   "cell_type": "code",
   "execution_count": 14,
   "metadata": {
    "ExecuteTime": {
     "end_time": "2017-11-06T14:31:12.401717Z",
     "start_time": "2017-11-06T14:31:12.388812Z"
    }
   },
   "outputs": [
    {
     "name": "stdout",
     "output_type": "stream",
     "text": [
      "7289 total records\n",
      "7289 unique plants\n",
      "8060 total records\n",
      "8060 unique plants\n",
      "8520 total records\n",
      "8520 unique plants\n",
      "8928 total records\n",
      "8928 unique plants\n",
      "9711 total records\n",
      "9711 unique plants\n",
      "7289 total records\n",
      "7289 unique plants\n",
      "7289 total records\n",
      "7289 unique plants\n",
      "7289 total records\n",
      "7289 unique plants\n",
      "7289 total records\n",
      "7289 unique plants\n",
      "7289 total records\n",
      "7289 unique plants\n",
      "7289 total records\n",
      "7289 unique plants\n",
      "7289 total records\n",
      "7289 unique plants\n",
      "7289 total records\n",
      "7289 unique plants\n",
      "7289 total records\n",
      "7289 unique plants\n",
      "7289 total records\n",
      "7289 unique plants\n",
      "7289 total records\n",
      "7289 unique plants\n",
      "122687 total records\n",
      "10068 unique plants\n"
     ]
    }
   ],
   "source": [
    "for df_ in list(eia_nercs.values()) + [nercs]:\n",
    "    print('{} total records'.format(len(df_)))\n",
    "    print('{} unique plants'.format(len(df_['plant id'].unique())))"
   ]
  },
  {
   "cell_type": "code",
   "execution_count": 9,
   "metadata": {
    "ExecuteTime": {
     "end_time": "2017-11-06T14:43:34.109577Z",
     "start_time": "2017-11-06T14:43:34.102600Z"
    }
   },
   "outputs": [
    {
     "data": {
      "text/plain": [
       "array([   66,  1120,  1121,  7757,  7848,  7847,  6280, 57251, 57252,\n",
       "          70,   899,  1168, 57449, 58469, 55836, 56266, 56106, 56856,\n",
       "       56985, 57622, 57623, 57651, 57650, 57983, 58117, 58278, 58511,\n",
       "       59027, 59037, 58690, 58655, 58676])"
      ]
     },
     "execution_count": 9,
     "metadata": {},
     "output_type": "execute_result"
    }
   ],
   "source": [
    "dup_plants = nercs.loc[nercs['plant id'].duplicated(keep=False), 'plant id'].unique()\n",
    "dup_plants"
   ]
  },
  {
   "cell_type": "code",
   "execution_count": 10,
   "metadata": {
    "ExecuteTime": {
     "end_time": "2017-11-06T14:43:41.526762Z",
     "start_time": "2017-11-06T14:43:41.503604Z"
    }
   },
   "outputs": [
    {
     "data": {
      "text/plain": [
       "Counter({('ASCC', nan): 2,\n",
       "         ('FRCC', 'HICC'): 1,\n",
       "         ('MRO', 'RFC'): 2,\n",
       "         ('MRO', 'SERC'): 1,\n",
       "         ('MRO', 'SPP'): 7,\n",
       "         ('MRO', 'WECC'): 3,\n",
       "         ('RFC', 'MRO'): 3,\n",
       "         ('RFC', 'SERC'): 2,\n",
       "         ('SERC', 'SPP'): 1,\n",
       "         ('SPP', 'SERC'): 2,\n",
       "         ('SPP', 'TRE'): 1,\n",
       "         ('WECC', 'ASCC'): 2,\n",
       "         ('WECC', 'HICC'): 1,\n",
       "         (nan, 'WECC', 'ASCC'): 3,\n",
       "         (nan, 'WECC', 'HICC'): 1})"
      ]
     },
     "execution_count": 10,
     "metadata": {},
     "output_type": "execute_result"
    }
   ],
   "source": [
    "region_list = []\n",
    "for plant in dup_plants:\n",
    "    regions = nercs.loc[nercs['plant id'] == plant, 'nerc'].unique()\n",
    "#     regions = regions.tolist()\n",
    "    region_list.append(regions)\n",
    "Counter(tuple(x) for x in region_list)"
   ]
  },
  {
   "cell_type": "code",
   "execution_count": 11,
   "metadata": {
    "ExecuteTime": {
     "end_time": "2017-11-06T14:43:46.932593Z",
     "start_time": "2017-11-06T14:43:46.804826Z"
    }
   },
   "outputs": [
    {
     "data": {
      "text/plain": [
       "year\n",
       "2001    0.000345\n",
       "2002    0.000269\n",
       "2003    0.000262\n",
       "2004    0.000313\n",
       "2005    0.000426\n",
       "2006    0.000514\n",
       "2007    0.000509\n",
       "2008    0.000527\n",
       "2009    0.000631\n",
       "2010    0.000683\n",
       "2011    0.000763\n",
       "2012    0.001286\n",
       "2013    0.001138\n",
       "2014    0.001079\n",
       "2015    0.001701\n",
       "2016    0.001962\n",
       "2017    0.001460\n",
       "Name: generation (MWh), dtype: float64"
      ]
     },
     "execution_count": 11,
     "metadata": {},
     "output_type": "execute_result"
    }
   ],
   "source": [
    "(facility_df.loc[facility_df['plant id'].isin(dup_plants), :]\n",
    "            .groupby('year')['generation (MWh)'].sum()\n",
    " / facility_df.loc[:, :]\n",
    "              .groupby('year')['generation (MWh)'].sum())"
   ]
  },
  {
   "cell_type": "markdown",
   "metadata": {},
   "source": [
    "### Some plants in EIA-860 don't have NERC labels. Drop them now.\n",
    "This is my training data. All of these plants should still be in my `plants` dataframe."
   ]
  },
  {
   "cell_type": "code",
   "execution_count": 35,
   "metadata": {},
   "outputs": [
    {
     "data": {
      "text/plain": [
       "232"
      ]
     },
     "execution_count": 35,
     "metadata": {},
     "output_type": "execute_result"
    }
   ],
   "source": [
    "nan_plants = {}\n",
    "all_nan = []\n",
    "years = nercs.year.unique()\n",
    "for year in years:\n",
    "    nan_plants[year] = nercs.loc[(nercs.year == year) &\n",
    "                                 (nercs.isnull().any(axis=1)), 'plant id'].tolist()\n",
    "    all_nan.extend(nan_plants[year])\n",
    "\n",
    "# number of plants that don't have a nerc in at least one year\n",
    "len(all_nan)"
   ]
  },
  {
   "cell_type": "code",
   "execution_count": 37,
   "metadata": {
    "collapsed": true
   },
   "outputs": [],
   "source": [
    "# drop all the rows without a nerc value\n",
    "nercs.dropna(inplace=True)"
   ]
  },
  {
   "cell_type": "code",
   "execution_count": 38,
   "metadata": {},
   "outputs": [
    {
     "data": {
      "text/plain": [
       "[58651,\n",
       " 58656,\n",
       " 58659,\n",
       " 58662,\n",
       " 58639,\n",
       " 58640,\n",
       " 58549,\n",
       " 58684,\n",
       " 58277,\n",
       " 58380,\n",
       " 58425,\n",
       " 58405,\n",
       " 60563,\n",
       " 60588,\n",
       " 60260,\n",
       " 60250,\n",
       " 60243,\n",
       " 60244,\n",
       " 60245,\n",
       " 60328,\n",
       " 61166,\n",
       " 61172,\n",
       " 61364,\n",
       " 60814,\n",
       " 61099,\n",
       " 61101,\n",
       " 61068,\n",
       " 58989,\n",
       " 58982,\n",
       " 58977,\n",
       " 58837,\n",
       " 59035,\n",
       " 60125,\n",
       " 60024,\n",
       " 66,\n",
       " 70]"
      ]
     },
     "execution_count": 38,
     "metadata": {},
     "output_type": "execute_result"
    }
   ],
   "source": [
    "nan_plants[2017]"
   ]
  },
  {
   "cell_type": "markdown",
   "metadata": {},
   "source": [
    "## Load EIA-860m for some info on recent facilities\n",
    "The EIA-860m (monthly) data file has an up-to-date list of all operating power plants and their associated balancing authority. It does not list the NERC region, so it can't be used to assign NERC labels for all plants. But in some cases knowing the state and balancing authority is enough to make a good guess about which NERC a plant is in.\n",
    "\n",
    "Assigning NERC region labels has the lowest accuracy for plants in SPP and TRE. To compensate, I'm going to assume that anything in TX or OK and SWPP balancing authority is in SPP. On the flip side, if it's in TX and ERCOT I'll assign it to TRE.\n",
    "\n",
    "Only do this for plants that come online since the most recent 860 annual data."
   ]
  },
  {
   "cell_type": "code",
   "execution_count": 40,
   "metadata": {},
   "outputs": [],
   "source": [
    "path = join(data_path, 'EIA downloads', 'december_generator2017.xlsx')\n",
    "\n",
    "# Check the excel file columns if there is a read error. They should match\n",
    "# the plant id, plant state, operating year, and balancing authority code.\n",
    "m860 = pd.read_excel(path, sheet_name='Operating',skip_footer=1,\n",
    "                     usecols='C,F,P,AE', skiprows=0)\n",
    "m860.columns = m860.columns.str.lower()"
   ]
  },
  {
   "cell_type": "code",
   "execution_count": 41,
   "metadata": {},
   "outputs": [
    {
     "data": {
      "text/html": [
       "<div>\n",
       "<style scoped>\n",
       "    .dataframe tbody tr th:only-of-type {\n",
       "        vertical-align: middle;\n",
       "    }\n",
       "\n",
       "    .dataframe tbody tr th {\n",
       "        vertical-align: top;\n",
       "    }\n",
       "\n",
       "    .dataframe thead th {\n",
       "        text-align: right;\n",
       "    }\n",
       "</style>\n",
       "<table border=\"1\" class=\"dataframe\">\n",
       "  <thead>\n",
       "    <tr style=\"text-align: right;\">\n",
       "      <th></th>\n",
       "      <th>plant id</th>\n",
       "      <th>plant state</th>\n",
       "      <th>operating year</th>\n",
       "      <th>balancing authority code</th>\n",
       "    </tr>\n",
       "  </thead>\n",
       "  <tbody>\n",
       "    <tr>\n",
       "      <th>21373</th>\n",
       "      <td>61632</td>\n",
       "      <td>IA</td>\n",
       "      <td>2017</td>\n",
       "      <td>MISO</td>\n",
       "    </tr>\n",
       "    <tr>\n",
       "      <th>21374</th>\n",
       "      <td>61633</td>\n",
       "      <td>MA</td>\n",
       "      <td>2017</td>\n",
       "      <td>ISNE</td>\n",
       "    </tr>\n",
       "    <tr>\n",
       "      <th>21375</th>\n",
       "      <td>61634</td>\n",
       "      <td>MA</td>\n",
       "      <td>2017</td>\n",
       "      <td>ISNE</td>\n",
       "    </tr>\n",
       "    <tr>\n",
       "      <th>21376</th>\n",
       "      <td>61635</td>\n",
       "      <td>MA</td>\n",
       "      <td>2017</td>\n",
       "      <td>ISNE</td>\n",
       "    </tr>\n",
       "    <tr>\n",
       "      <th>21377</th>\n",
       "      <td>61636</td>\n",
       "      <td>MA</td>\n",
       "      <td>2017</td>\n",
       "      <td>ISNE</td>\n",
       "    </tr>\n",
       "  </tbody>\n",
       "</table>\n",
       "</div>"
      ],
      "text/plain": [
       "       plant id plant state  operating year balancing authority code\n",
       "21373     61632          IA            2017                     MISO\n",
       "21374     61633          MA            2017                     ISNE\n",
       "21375     61634          MA            2017                     ISNE\n",
       "21376     61635          MA            2017                     ISNE\n",
       "21377     61636          MA            2017                     ISNE"
      ]
     },
     "execution_count": 41,
     "metadata": {},
     "output_type": "execute_result"
    }
   ],
   "source": [
    "# most_recent_860_year is defined at the top of this notebook\n",
    "# The goal here is to only look at plants that started operating after\n",
    "# the most recent annual data\n",
    "\n",
    "m860 = m860.loc[m860['operating year'] > most_recent_860_year]\n",
    "m860.tail()"
   ]
  },
  {
   "cell_type": "code",
   "execution_count": 42,
   "metadata": {},
   "outputs": [],
   "source": [
    "m860.loc[(m860['plant state'].isin(['TX', 'OK'])) &\n",
    "         (m860['balancing authority code'] == 'SWPP'), 'nerc'] = 'SPP'\n",
    "\n",
    "m860.loc[(m860['plant state'].isin(['TX'])) &\n",
    "         (m860['balancing authority code'] == 'ERCO'), 'nerc'] = 'TRE'"
   ]
  },
  {
   "cell_type": "code",
   "execution_count": 43,
   "metadata": {},
   "outputs": [
    {
     "data": {
      "text/html": [
       "<div>\n",
       "<style scoped>\n",
       "    .dataframe tbody tr th:only-of-type {\n",
       "        vertical-align: middle;\n",
       "    }\n",
       "\n",
       "    .dataframe tbody tr th {\n",
       "        vertical-align: top;\n",
       "    }\n",
       "\n",
       "    .dataframe thead th {\n",
       "        text-align: right;\n",
       "    }\n",
       "</style>\n",
       "<table border=\"1\" class=\"dataframe\">\n",
       "  <thead>\n",
       "    <tr style=\"text-align: right;\">\n",
       "      <th></th>\n",
       "      <th>plant id</th>\n",
       "      <th>plant state</th>\n",
       "      <th>operating year</th>\n",
       "      <th>balancing authority code</th>\n",
       "      <th>nerc</th>\n",
       "    </tr>\n",
       "  </thead>\n",
       "  <tbody>\n",
       "    <tr>\n",
       "      <th>343</th>\n",
       "      <td>165</td>\n",
       "      <td>OK</td>\n",
       "      <td>2017</td>\n",
       "      <td>SWPP</td>\n",
       "      <td>SPP</td>\n",
       "    </tr>\n",
       "    <tr>\n",
       "      <th>344</th>\n",
       "      <td>165</td>\n",
       "      <td>OK</td>\n",
       "      <td>2017</td>\n",
       "      <td>SWPP</td>\n",
       "      <td>SPP</td>\n",
       "    </tr>\n",
       "    <tr>\n",
       "      <th>4836</th>\n",
       "      <td>2953</td>\n",
       "      <td>OK</td>\n",
       "      <td>2017</td>\n",
       "      <td>SWPP</td>\n",
       "      <td>SPP</td>\n",
       "    </tr>\n",
       "    <tr>\n",
       "      <th>4837</th>\n",
       "      <td>2953</td>\n",
       "      <td>OK</td>\n",
       "      <td>2017</td>\n",
       "      <td>SWPP</td>\n",
       "      <td>SPP</td>\n",
       "    </tr>\n",
       "    <tr>\n",
       "      <th>4838</th>\n",
       "      <td>2953</td>\n",
       "      <td>OK</td>\n",
       "      <td>2017</td>\n",
       "      <td>SWPP</td>\n",
       "      <td>SPP</td>\n",
       "    </tr>\n",
       "  </tbody>\n",
       "</table>\n",
       "</div>"
      ],
      "text/plain": [
       "      plant id plant state  operating year balancing authority code nerc\n",
       "343        165          OK            2017                     SWPP  SPP\n",
       "344        165          OK            2017                     SWPP  SPP\n",
       "4836      2953          OK            2017                     SWPP  SPP\n",
       "4837      2953          OK            2017                     SWPP  SPP\n",
       "4838      2953          OK            2017                     SWPP  SPP"
      ]
     },
     "execution_count": 43,
     "metadata": {},
     "output_type": "execute_result"
    }
   ],
   "source": [
    "# Drop all rows except the ones I've labeled as TRE or SPP\n",
    "m860.dropna(inplace=True)\n",
    "m860.head()"
   ]
  },
  {
   "cell_type": "markdown",
   "metadata": {},
   "source": [
    "Make lists of plant codes for SPP and TRE facilities"
   ]
  },
  {
   "cell_type": "code",
   "execution_count": 29,
   "metadata": {},
   "outputs": [
    {
     "data": {
      "text/html": [
       "<div>\n",
       "<style scoped>\n",
       "    .dataframe tbody tr th:only-of-type {\n",
       "        vertical-align: middle;\n",
       "    }\n",
       "\n",
       "    .dataframe tbody tr th {\n",
       "        vertical-align: top;\n",
       "    }\n",
       "\n",
       "    .dataframe thead th {\n",
       "        text-align: right;\n",
       "    }\n",
       "</style>\n",
       "<table border=\"1\" class=\"dataframe\">\n",
       "  <thead>\n",
       "    <tr style=\"text-align: right;\">\n",
       "      <th></th>\n",
       "      <th>plant id</th>\n",
       "      <th>nerc</th>\n",
       "      <th>year</th>\n",
       "    </tr>\n",
       "  </thead>\n",
       "  <tbody>\n",
       "    <tr>\n",
       "      <th>5465</th>\n",
       "      <td>56512</td>\n",
       "      <td>RFC</td>\n",
       "      <td>2001</td>\n",
       "    </tr>\n",
       "    <tr>\n",
       "      <th>4866</th>\n",
       "      <td>1481</td>\n",
       "      <td>NPCC</td>\n",
       "      <td>2001</td>\n",
       "    </tr>\n",
       "    <tr>\n",
       "      <th>4865</th>\n",
       "      <td>1480</td>\n",
       "      <td>NPCC</td>\n",
       "      <td>2001</td>\n",
       "    </tr>\n",
       "    <tr>\n",
       "      <th>4864</th>\n",
       "      <td>805</td>\n",
       "      <td>NPCC</td>\n",
       "      <td>2001</td>\n",
       "    </tr>\n",
       "    <tr>\n",
       "      <th>4863</th>\n",
       "      <td>54451</td>\n",
       "      <td>WECC</td>\n",
       "      <td>2001</td>\n",
       "    </tr>\n",
       "  </tbody>\n",
       "</table>\n",
       "</div>"
      ],
      "text/plain": [
       "      plant id  nerc  year\n",
       "5465     56512   RFC  2001\n",
       "4866      1481  NPCC  2001\n",
       "4865      1480  NPCC  2001\n",
       "4864       805  NPCC  2001\n",
       "4863     54451  WECC  2001"
      ]
     },
     "execution_count": 29,
     "metadata": {},
     "output_type": "execute_result"
    }
   ],
   "source": [
    "nercs.head()"
   ]
  },
  {
   "cell_type": "code",
   "execution_count": 55,
   "metadata": {},
   "outputs": [],
   "source": [
    "# Create additional dataframes with 2017 SPP and TRE plants.\n",
    "# Use these to fill in values for 2017 plants\n",
    "\n",
    "m860_spp_plants = (m860.loc[m860['nerc'] == 'SPP', 'plant id']\n",
    "                       .drop_duplicates()\n",
    "                       .reset_index(drop=True))\n",
    "\n",
    "additional_spp = pd.DataFrame(m860_spp_plants.copy())\n",
    "# additional_spp['plant id'] = m860_spp_plants\n",
    "additional_spp['nerc'] = 'SPP'\n",
    "additional_spp['year'] = 2017\n",
    "\n",
    "m860_tre_plants = (m860.loc[m860['nerc'] == 'TRE', 'plant id']\n",
    "                       .drop_duplicates()\n",
    "                       .reset_index(drop=True))\n",
    "\n",
    "additional_tre = pd.DataFrame(m860_tre_plants)\n",
    "# additional_tre['plant id'] = m860_tre_plants\n",
    "additional_tre['nerc'] = 'TRE'\n",
    "additional_tre['year'] = 2017"
   ]
  },
  {
   "cell_type": "code",
   "execution_count": 57,
   "metadata": {},
   "outputs": [
    {
     "data": {
      "text/html": [
       "<div>\n",
       "<style scoped>\n",
       "    .dataframe tbody tr th:only-of-type {\n",
       "        vertical-align: middle;\n",
       "    }\n",
       "\n",
       "    .dataframe tbody tr th {\n",
       "        vertical-align: top;\n",
       "    }\n",
       "\n",
       "    .dataframe thead th {\n",
       "        text-align: right;\n",
       "    }\n",
       "</style>\n",
       "<table border=\"1\" class=\"dataframe\">\n",
       "  <thead>\n",
       "    <tr style=\"text-align: right;\">\n",
       "      <th></th>\n",
       "      <th>plant id</th>\n",
       "      <th>nerc</th>\n",
       "      <th>year</th>\n",
       "    </tr>\n",
       "  </thead>\n",
       "  <tbody>\n",
       "    <tr>\n",
       "      <th>0</th>\n",
       "      <td>165</td>\n",
       "      <td>SPP</td>\n",
       "      <td>2017</td>\n",
       "    </tr>\n",
       "    <tr>\n",
       "      <th>1</th>\n",
       "      <td>2953</td>\n",
       "      <td>SPP</td>\n",
       "      <td>2017</td>\n",
       "    </tr>\n",
       "    <tr>\n",
       "      <th>2</th>\n",
       "      <td>60414</td>\n",
       "      <td>SPP</td>\n",
       "      <td>2017</td>\n",
       "    </tr>\n",
       "    <tr>\n",
       "      <th>3</th>\n",
       "      <td>61221</td>\n",
       "      <td>SPP</td>\n",
       "      <td>2017</td>\n",
       "    </tr>\n",
       "    <tr>\n",
       "      <th>4</th>\n",
       "      <td>61261</td>\n",
       "      <td>SPP</td>\n",
       "      <td>2017</td>\n",
       "    </tr>\n",
       "    <tr>\n",
       "      <th>5</th>\n",
       "      <td>61614</td>\n",
       "      <td>SPP</td>\n",
       "      <td>2017</td>\n",
       "    </tr>\n",
       "    <tr>\n",
       "      <th>6</th>\n",
       "      <td>61615</td>\n",
       "      <td>SPP</td>\n",
       "      <td>2017</td>\n",
       "    </tr>\n",
       "    <tr>\n",
       "      <th>7</th>\n",
       "      <td>61616</td>\n",
       "      <td>SPP</td>\n",
       "      <td>2017</td>\n",
       "    </tr>\n",
       "    <tr>\n",
       "      <th>8</th>\n",
       "      <td>61617</td>\n",
       "      <td>SPP</td>\n",
       "      <td>2017</td>\n",
       "    </tr>\n",
       "    <tr>\n",
       "      <th>9</th>\n",
       "      <td>61618</td>\n",
       "      <td>SPP</td>\n",
       "      <td>2017</td>\n",
       "    </tr>\n",
       "  </tbody>\n",
       "</table>\n",
       "</div>"
      ],
      "text/plain": [
       "   plant id nerc  year\n",
       "0       165  SPP  2017\n",
       "1      2953  SPP  2017\n",
       "2     60414  SPP  2017\n",
       "3     61221  SPP  2017\n",
       "4     61261  SPP  2017\n",
       "5     61614  SPP  2017\n",
       "6     61615  SPP  2017\n",
       "7     61616  SPP  2017\n",
       "8     61617  SPP  2017\n",
       "9     61618  SPP  2017"
      ]
     },
     "execution_count": 57,
     "metadata": {},
     "output_type": "execute_result"
    }
   ],
   "source": [
    "additional_spp"
   ]
  },
  {
   "cell_type": "code",
   "execution_count": 58,
   "metadata": {},
   "outputs": [
    {
     "data": {
      "text/html": [
       "<div>\n",
       "<style scoped>\n",
       "    .dataframe tbody tr th:only-of-type {\n",
       "        vertical-align: middle;\n",
       "    }\n",
       "\n",
       "    .dataframe tbody tr th {\n",
       "        vertical-align: top;\n",
       "    }\n",
       "\n",
       "    .dataframe thead th {\n",
       "        text-align: right;\n",
       "    }\n",
       "</style>\n",
       "<table border=\"1\" class=\"dataframe\">\n",
       "  <thead>\n",
       "    <tr style=\"text-align: right;\">\n",
       "      <th></th>\n",
       "      <th>plant id</th>\n",
       "      <th>nerc</th>\n",
       "      <th>year</th>\n",
       "    </tr>\n",
       "  </thead>\n",
       "  <tbody>\n",
       "    <tr>\n",
       "      <th>0</th>\n",
       "      <td>56984</td>\n",
       "      <td>TRE</td>\n",
       "      <td>2017</td>\n",
       "    </tr>\n",
       "    <tr>\n",
       "      <th>1</th>\n",
       "      <td>59066</td>\n",
       "      <td>TRE</td>\n",
       "      <td>2017</td>\n",
       "    </tr>\n",
       "    <tr>\n",
       "      <th>2</th>\n",
       "      <td>59193</td>\n",
       "      <td>TRE</td>\n",
       "      <td>2017</td>\n",
       "    </tr>\n",
       "    <tr>\n",
       "      <th>3</th>\n",
       "      <td>59206</td>\n",
       "      <td>TRE</td>\n",
       "      <td>2017</td>\n",
       "    </tr>\n",
       "    <tr>\n",
       "      <th>4</th>\n",
       "      <td>59245</td>\n",
       "      <td>TRE</td>\n",
       "      <td>2017</td>\n",
       "    </tr>\n",
       "    <tr>\n",
       "      <th>5</th>\n",
       "      <td>59712</td>\n",
       "      <td>TRE</td>\n",
       "      <td>2017</td>\n",
       "    </tr>\n",
       "    <tr>\n",
       "      <th>6</th>\n",
       "      <td>59812</td>\n",
       "      <td>TRE</td>\n",
       "      <td>2017</td>\n",
       "    </tr>\n",
       "    <tr>\n",
       "      <th>7</th>\n",
       "      <td>60122</td>\n",
       "      <td>TRE</td>\n",
       "      <td>2017</td>\n",
       "    </tr>\n",
       "    <tr>\n",
       "      <th>8</th>\n",
       "      <td>60210</td>\n",
       "      <td>TRE</td>\n",
       "      <td>2017</td>\n",
       "    </tr>\n",
       "    <tr>\n",
       "      <th>9</th>\n",
       "      <td>60217</td>\n",
       "      <td>TRE</td>\n",
       "      <td>2017</td>\n",
       "    </tr>\n",
       "    <tr>\n",
       "      <th>10</th>\n",
       "      <td>60366</td>\n",
       "      <td>TRE</td>\n",
       "      <td>2017</td>\n",
       "    </tr>\n",
       "    <tr>\n",
       "      <th>11</th>\n",
       "      <td>60372</td>\n",
       "      <td>TRE</td>\n",
       "      <td>2017</td>\n",
       "    </tr>\n",
       "    <tr>\n",
       "      <th>12</th>\n",
       "      <td>60436</td>\n",
       "      <td>TRE</td>\n",
       "      <td>2017</td>\n",
       "    </tr>\n",
       "    <tr>\n",
       "      <th>13</th>\n",
       "      <td>60459</td>\n",
       "      <td>TRE</td>\n",
       "      <td>2017</td>\n",
       "    </tr>\n",
       "    <tr>\n",
       "      <th>14</th>\n",
       "      <td>60460</td>\n",
       "      <td>TRE</td>\n",
       "      <td>2017</td>\n",
       "    </tr>\n",
       "    <tr>\n",
       "      <th>15</th>\n",
       "      <td>60581</td>\n",
       "      <td>TRE</td>\n",
       "      <td>2017</td>\n",
       "    </tr>\n",
       "    <tr>\n",
       "      <th>16</th>\n",
       "      <td>60682</td>\n",
       "      <td>TRE</td>\n",
       "      <td>2017</td>\n",
       "    </tr>\n",
       "    <tr>\n",
       "      <th>17</th>\n",
       "      <td>60690</td>\n",
       "      <td>TRE</td>\n",
       "      <td>2017</td>\n",
       "    </tr>\n",
       "    <tr>\n",
       "      <th>18</th>\n",
       "      <td>60774</td>\n",
       "      <td>TRE</td>\n",
       "      <td>2017</td>\n",
       "    </tr>\n",
       "    <tr>\n",
       "      <th>19</th>\n",
       "      <td>60901</td>\n",
       "      <td>TRE</td>\n",
       "      <td>2017</td>\n",
       "    </tr>\n",
       "    <tr>\n",
       "      <th>20</th>\n",
       "      <td>60902</td>\n",
       "      <td>TRE</td>\n",
       "      <td>2017</td>\n",
       "    </tr>\n",
       "    <tr>\n",
       "      <th>21</th>\n",
       "      <td>60983</td>\n",
       "      <td>TRE</td>\n",
       "      <td>2017</td>\n",
       "    </tr>\n",
       "    <tr>\n",
       "      <th>22</th>\n",
       "      <td>60989</td>\n",
       "      <td>TRE</td>\n",
       "      <td>2017</td>\n",
       "    </tr>\n",
       "    <tr>\n",
       "      <th>23</th>\n",
       "      <td>61205</td>\n",
       "      <td>TRE</td>\n",
       "      <td>2017</td>\n",
       "    </tr>\n",
       "    <tr>\n",
       "      <th>24</th>\n",
       "      <td>61309</td>\n",
       "      <td>TRE</td>\n",
       "      <td>2017</td>\n",
       "    </tr>\n",
       "    <tr>\n",
       "      <th>25</th>\n",
       "      <td>61362</td>\n",
       "      <td>TRE</td>\n",
       "      <td>2017</td>\n",
       "    </tr>\n",
       "    <tr>\n",
       "      <th>26</th>\n",
       "      <td>61409</td>\n",
       "      <td>TRE</td>\n",
       "      <td>2017</td>\n",
       "    </tr>\n",
       "    <tr>\n",
       "      <th>27</th>\n",
       "      <td>61410</td>\n",
       "      <td>TRE</td>\n",
       "      <td>2017</td>\n",
       "    </tr>\n",
       "    <tr>\n",
       "      <th>28</th>\n",
       "      <td>61411</td>\n",
       "      <td>TRE</td>\n",
       "      <td>2017</td>\n",
       "    </tr>\n",
       "  </tbody>\n",
       "</table>\n",
       "</div>"
      ],
      "text/plain": [
       "    plant id nerc  year\n",
       "0      56984  TRE  2017\n",
       "1      59066  TRE  2017\n",
       "2      59193  TRE  2017\n",
       "3      59206  TRE  2017\n",
       "4      59245  TRE  2017\n",
       "5      59712  TRE  2017\n",
       "6      59812  TRE  2017\n",
       "7      60122  TRE  2017\n",
       "8      60210  TRE  2017\n",
       "9      60217  TRE  2017\n",
       "10     60366  TRE  2017\n",
       "11     60372  TRE  2017\n",
       "12     60436  TRE  2017\n",
       "13     60459  TRE  2017\n",
       "14     60460  TRE  2017\n",
       "15     60581  TRE  2017\n",
       "16     60682  TRE  2017\n",
       "17     60690  TRE  2017\n",
       "18     60774  TRE  2017\n",
       "19     60901  TRE  2017\n",
       "20     60902  TRE  2017\n",
       "21     60983  TRE  2017\n",
       "22     60989  TRE  2017\n",
       "23     61205  TRE  2017\n",
       "24     61309  TRE  2017\n",
       "25     61362  TRE  2017\n",
       "26     61409  TRE  2017\n",
       "27     61410  TRE  2017\n",
       "28     61411  TRE  2017"
      ]
     },
     "execution_count": 58,
     "metadata": {},
     "output_type": "execute_result"
    }
   ],
   "source": [
    "additional_tre"
   ]
  },
  {
   "cell_type": "markdown",
   "metadata": {},
   "source": [
    "### Append my 2017 SPP and TRE guesses to the full nerc dataframe"
   ]
  },
  {
   "cell_type": "code",
   "execution_count": 60,
   "metadata": {},
   "outputs": [],
   "source": [
    "nercs = pd.concat([nercs, additional_spp, additional_tre])"
   ]
  },
  {
   "cell_type": "markdown",
   "metadata": {},
   "source": [
    "## Clean and prep data for KNN"
   ]
  },
  {
   "cell_type": "code",
   "execution_count": 61,
   "metadata": {},
   "outputs": [
    {
     "data": {
      "text/html": [
       "<div>\n",
       "<style scoped>\n",
       "    .dataframe tbody tr th:only-of-type {\n",
       "        vertical-align: middle;\n",
       "    }\n",
       "\n",
       "    .dataframe tbody tr th {\n",
       "        vertical-align: top;\n",
       "    }\n",
       "\n",
       "    .dataframe thead th {\n",
       "        text-align: right;\n",
       "    }\n",
       "</style>\n",
       "<table border=\"1\" class=\"dataframe\">\n",
       "  <thead>\n",
       "    <tr style=\"text-align: right;\">\n",
       "      <th></th>\n",
       "      <th>plant id</th>\n",
       "      <th>year</th>\n",
       "      <th>lat</th>\n",
       "      <th>lon</th>\n",
       "      <th>state</th>\n",
       "    </tr>\n",
       "  </thead>\n",
       "  <tbody>\n",
       "    <tr>\n",
       "      <th>0</th>\n",
       "      <td>1001</td>\n",
       "      <td>2017</td>\n",
       "      <td>39.9242</td>\n",
       "      <td>-87.4244</td>\n",
       "      <td>IN</td>\n",
       "    </tr>\n",
       "    <tr>\n",
       "      <th>12</th>\n",
       "      <td>1001</td>\n",
       "      <td>2016</td>\n",
       "      <td>39.9242</td>\n",
       "      <td>-87.4244</td>\n",
       "      <td>IN</td>\n",
       "    </tr>\n",
       "    <tr>\n",
       "      <th>24</th>\n",
       "      <td>1001</td>\n",
       "      <td>2015</td>\n",
       "      <td>39.9242</td>\n",
       "      <td>-87.4244</td>\n",
       "      <td>IN</td>\n",
       "    </tr>\n",
       "    <tr>\n",
       "      <th>36</th>\n",
       "      <td>1001</td>\n",
       "      <td>2014</td>\n",
       "      <td>39.9242</td>\n",
       "      <td>-87.4244</td>\n",
       "      <td>IN</td>\n",
       "    </tr>\n",
       "    <tr>\n",
       "      <th>48</th>\n",
       "      <td>1001</td>\n",
       "      <td>2013</td>\n",
       "      <td>39.9242</td>\n",
       "      <td>-87.4244</td>\n",
       "      <td>IN</td>\n",
       "    </tr>\n",
       "  </tbody>\n",
       "</table>\n",
       "</div>"
      ],
      "text/plain": [
       "    plant id  year      lat      lon state\n",
       "0       1001  2017  39.9242 -87.4244    IN\n",
       "12      1001  2016  39.9242 -87.4244    IN\n",
       "24      1001  2015  39.9242 -87.4244    IN\n",
       "36      1001  2014  39.9242 -87.4244    IN\n",
       "48      1001  2013  39.9242 -87.4244    IN"
      ]
     },
     "execution_count": 61,
     "metadata": {},
     "output_type": "execute_result"
    }
   ],
   "source": [
    "plants.head()"
   ]
  },
  {
   "cell_type": "code",
   "execution_count": 65,
   "metadata": {},
   "outputs": [
    {
     "data": {
      "text/html": [
       "<div>\n",
       "<style scoped>\n",
       "    .dataframe tbody tr th:only-of-type {\n",
       "        vertical-align: middle;\n",
       "    }\n",
       "\n",
       "    .dataframe tbody tr th {\n",
       "        vertical-align: top;\n",
       "    }\n",
       "\n",
       "    .dataframe thead th {\n",
       "        text-align: right;\n",
       "    }\n",
       "</style>\n",
       "<table border=\"1\" class=\"dataframe\">\n",
       "  <thead>\n",
       "    <tr style=\"text-align: right;\">\n",
       "      <th></th>\n",
       "      <th>plant id</th>\n",
       "      <th>year</th>\n",
       "      <th>lat</th>\n",
       "      <th>lon</th>\n",
       "      <th>state</th>\n",
       "    </tr>\n",
       "  </thead>\n",
       "  <tbody>\n",
       "    <tr>\n",
       "      <th>1647344</th>\n",
       "      <td>1275</td>\n",
       "      <td>2006</td>\n",
       "      <td>38.947222</td>\n",
       "      <td>99.528611</td>\n",
       "      <td>KS</td>\n",
       "    </tr>\n",
       "    <tr>\n",
       "      <th>1647356</th>\n",
       "      <td>1275</td>\n",
       "      <td>2005</td>\n",
       "      <td>38.947222</td>\n",
       "      <td>99.528611</td>\n",
       "      <td>KS</td>\n",
       "    </tr>\n",
       "    <tr>\n",
       "      <th>1647368</th>\n",
       "      <td>1275</td>\n",
       "      <td>2004</td>\n",
       "      <td>38.947222</td>\n",
       "      <td>99.528611</td>\n",
       "      <td>KS</td>\n",
       "    </tr>\n",
       "    <tr>\n",
       "      <th>1647380</th>\n",
       "      <td>1275</td>\n",
       "      <td>2003</td>\n",
       "      <td>38.947222</td>\n",
       "      <td>99.528611</td>\n",
       "      <td>KS</td>\n",
       "    </tr>\n",
       "    <tr>\n",
       "      <th>1647392</th>\n",
       "      <td>1275</td>\n",
       "      <td>2002</td>\n",
       "      <td>38.947222</td>\n",
       "      <td>99.528611</td>\n",
       "      <td>KS</td>\n",
       "    </tr>\n",
       "  </tbody>\n",
       "</table>\n",
       "</div>"
      ],
      "text/plain": [
       "         plant id  year        lat        lon state\n",
       "1647344      1275  2006  38.947222  99.528611    KS\n",
       "1647356      1275  2005  38.947222  99.528611    KS\n",
       "1647368      1275  2004  38.947222  99.528611    KS\n",
       "1647380      1275  2003  38.947222  99.528611    KS\n",
       "1647392      1275  2002  38.947222  99.528611    KS"
      ]
     },
     "execution_count": 65,
     "metadata": {},
     "output_type": "execute_result"
    }
   ],
   "source": [
    "plants.loc[]"
   ]
  },
  {
   "cell_type": "code",
   "execution_count": 62,
   "metadata": {},
   "outputs": [
    {
     "data": {
      "text/html": [
       "<div>\n",
       "<style scoped>\n",
       "    .dataframe tbody tr th:only-of-type {\n",
       "        vertical-align: middle;\n",
       "    }\n",
       "\n",
       "    .dataframe tbody tr th {\n",
       "        vertical-align: top;\n",
       "    }\n",
       "\n",
       "    .dataframe thead th {\n",
       "        text-align: right;\n",
       "    }\n",
       "</style>\n",
       "<table border=\"1\" class=\"dataframe\">\n",
       "  <thead>\n",
       "    <tr style=\"text-align: right;\">\n",
       "      <th></th>\n",
       "      <th>plant id</th>\n",
       "      <th>nerc</th>\n",
       "      <th>year</th>\n",
       "    </tr>\n",
       "  </thead>\n",
       "  <tbody>\n",
       "    <tr>\n",
       "      <th>24</th>\n",
       "      <td>61309</td>\n",
       "      <td>TRE</td>\n",
       "      <td>2017</td>\n",
       "    </tr>\n",
       "    <tr>\n",
       "      <th>25</th>\n",
       "      <td>61362</td>\n",
       "      <td>TRE</td>\n",
       "      <td>2017</td>\n",
       "    </tr>\n",
       "    <tr>\n",
       "      <th>26</th>\n",
       "      <td>61409</td>\n",
       "      <td>TRE</td>\n",
       "      <td>2017</td>\n",
       "    </tr>\n",
       "    <tr>\n",
       "      <th>27</th>\n",
       "      <td>61410</td>\n",
       "      <td>TRE</td>\n",
       "      <td>2017</td>\n",
       "    </tr>\n",
       "    <tr>\n",
       "      <th>28</th>\n",
       "      <td>61411</td>\n",
       "      <td>TRE</td>\n",
       "      <td>2017</td>\n",
       "    </tr>\n",
       "  </tbody>\n",
       "</table>\n",
       "</div>"
      ],
      "text/plain": [
       "    plant id nerc  year\n",
       "24     61309  TRE  2017\n",
       "25     61362  TRE  2017\n",
       "26     61409  TRE  2017\n",
       "27     61410  TRE  2017\n",
       "28     61411  TRE  2017"
      ]
     },
     "execution_count": 62,
     "metadata": {},
     "output_type": "execute_result"
    }
   ],
   "source": [
    "nercs.tail()"
   ]
  },
  {
   "cell_type": "markdown",
   "metadata": {},
   "source": [
    "Checked to make sure the type of merge doesn't matter once rows without nerc values are dropped"
   ]
  },
  {
   "cell_type": "code",
   "execution_count": 63,
   "metadata": {
    "ExecuteTime": {
     "end_time": "2017-11-06T16:39:54.416966Z",
     "start_time": "2017-11-06T16:39:54.383812Z"
    },
    "collapsed": true
   },
   "outputs": [],
   "source": [
    "df = pd.merge(plants, nercs, on=['plant id', 'year'], how='left')"
   ]
  },
  {
   "cell_type": "code",
   "execution_count": 78,
   "metadata": {
    "ExecuteTime": {
     "end_time": "2017-11-06T16:39:54.416966Z",
     "start_time": "2017-11-06T16:39:54.383812Z"
    },
    "collapsed": true
   },
   "outputs": [],
   "source": [
    "df_inner = pd.merge(plants, nercs, on=['plant id', 'year'], how='inner')"
   ]
  },
  {
   "cell_type": "code",
   "execution_count": 90,
   "metadata": {},
   "outputs": [],
   "source": [
    "pd.testing.assert_frame_equal(df_inner.dropna(subset=['nerc']).reset_index(drop=True),\n",
    "                              df.dropna(subset=['nerc']).reset_index(drop=True))"
   ]
  },
  {
   "cell_type": "code",
   "execution_count": 75,
   "metadata": {},
   "outputs": [],
   "source": [
    "omitted = set(df['plant id'].unique()) - set(nercs['plant id'].unique())"
   ]
  },
  {
   "cell_type": "code",
   "execution_count": 64,
   "metadata": {},
   "outputs": [
    {
     "data": {
      "text/html": [
       "<div>\n",
       "<style scoped>\n",
       "    .dataframe tbody tr th:only-of-type {\n",
       "        vertical-align: middle;\n",
       "    }\n",
       "\n",
       "    .dataframe tbody tr th {\n",
       "        vertical-align: top;\n",
       "    }\n",
       "\n",
       "    .dataframe thead th {\n",
       "        text-align: right;\n",
       "    }\n",
       "</style>\n",
       "<table border=\"1\" class=\"dataframe\">\n",
       "  <thead>\n",
       "    <tr style=\"text-align: right;\">\n",
       "      <th></th>\n",
       "      <th>plant id</th>\n",
       "      <th>year</th>\n",
       "      <th>lat</th>\n",
       "      <th>lon</th>\n",
       "      <th>state</th>\n",
       "      <th>nerc</th>\n",
       "    </tr>\n",
       "  </thead>\n",
       "  <tbody>\n",
       "    <tr>\n",
       "      <th>0</th>\n",
       "      <td>1001</td>\n",
       "      <td>2017</td>\n",
       "      <td>39.9242</td>\n",
       "      <td>-87.4244</td>\n",
       "      <td>IN</td>\n",
       "      <td>RFC</td>\n",
       "    </tr>\n",
       "    <tr>\n",
       "      <th>1</th>\n",
       "      <td>1001</td>\n",
       "      <td>2016</td>\n",
       "      <td>39.9242</td>\n",
       "      <td>-87.4244</td>\n",
       "      <td>IN</td>\n",
       "      <td>RFC</td>\n",
       "    </tr>\n",
       "    <tr>\n",
       "      <th>2</th>\n",
       "      <td>1001</td>\n",
       "      <td>2015</td>\n",
       "      <td>39.9242</td>\n",
       "      <td>-87.4244</td>\n",
       "      <td>IN</td>\n",
       "      <td>RFC</td>\n",
       "    </tr>\n",
       "    <tr>\n",
       "      <th>3</th>\n",
       "      <td>1001</td>\n",
       "      <td>2014</td>\n",
       "      <td>39.9242</td>\n",
       "      <td>-87.4244</td>\n",
       "      <td>IN</td>\n",
       "      <td>RFC</td>\n",
       "    </tr>\n",
       "    <tr>\n",
       "      <th>4</th>\n",
       "      <td>1001</td>\n",
       "      <td>2013</td>\n",
       "      <td>39.9242</td>\n",
       "      <td>-87.4244</td>\n",
       "      <td>IN</td>\n",
       "      <td>RFC</td>\n",
       "    </tr>\n",
       "  </tbody>\n",
       "</table>\n",
       "</div>"
      ],
      "text/plain": [
       "   plant id  year      lat      lon state nerc\n",
       "0      1001  2017  39.9242 -87.4244    IN  RFC\n",
       "1      1001  2016  39.9242 -87.4244    IN  RFC\n",
       "2      1001  2015  39.9242 -87.4244    IN  RFC\n",
       "3      1001  2014  39.9242 -87.4244    IN  RFC\n",
       "4      1001  2013  39.9242 -87.4244    IN  RFC"
      ]
     },
     "execution_count": 64,
     "metadata": {},
     "output_type": "execute_result"
    }
   ],
   "source": [
    "df.head()"
   ]
  },
  {
   "cell_type": "code",
   "execution_count": 66,
   "metadata": {},
   "outputs": [
    {
     "data": {
      "text/html": [
       "<div>\n",
       "<style scoped>\n",
       "    .dataframe tbody tr th:only-of-type {\n",
       "        vertical-align: middle;\n",
       "    }\n",
       "\n",
       "    .dataframe tbody tr th {\n",
       "        vertical-align: top;\n",
       "    }\n",
       "\n",
       "    .dataframe thead th {\n",
       "        text-align: right;\n",
       "    }\n",
       "</style>\n",
       "<table border=\"1\" class=\"dataframe\">\n",
       "  <thead>\n",
       "    <tr style=\"text-align: right;\">\n",
       "      <th></th>\n",
       "      <th>plant id</th>\n",
       "      <th>year</th>\n",
       "      <th>lat</th>\n",
       "      <th>lon</th>\n",
       "      <th>state</th>\n",
       "      <th>nerc</th>\n",
       "    </tr>\n",
       "  </thead>\n",
       "  <tbody>\n",
       "    <tr>\n",
       "      <th>94688</th>\n",
       "      <td>1275</td>\n",
       "      <td>2006</td>\n",
       "      <td>38.947222</td>\n",
       "      <td>99.528611</td>\n",
       "      <td>KS</td>\n",
       "      <td>SPP</td>\n",
       "    </tr>\n",
       "    <tr>\n",
       "      <th>94689</th>\n",
       "      <td>1275</td>\n",
       "      <td>2005</td>\n",
       "      <td>38.947222</td>\n",
       "      <td>99.528611</td>\n",
       "      <td>KS</td>\n",
       "      <td>SPP</td>\n",
       "    </tr>\n",
       "    <tr>\n",
       "      <th>94690</th>\n",
       "      <td>1275</td>\n",
       "      <td>2004</td>\n",
       "      <td>38.947222</td>\n",
       "      <td>99.528611</td>\n",
       "      <td>KS</td>\n",
       "      <td>SPP</td>\n",
       "    </tr>\n",
       "    <tr>\n",
       "      <th>94691</th>\n",
       "      <td>1275</td>\n",
       "      <td>2003</td>\n",
       "      <td>38.947222</td>\n",
       "      <td>99.528611</td>\n",
       "      <td>KS</td>\n",
       "      <td>SPP</td>\n",
       "    </tr>\n",
       "    <tr>\n",
       "      <th>94692</th>\n",
       "      <td>1275</td>\n",
       "      <td>2002</td>\n",
       "      <td>38.947222</td>\n",
       "      <td>99.528611</td>\n",
       "      <td>KS</td>\n",
       "      <td>SPP</td>\n",
       "    </tr>\n",
       "  </tbody>\n",
       "</table>\n",
       "</div>"
      ],
      "text/plain": [
       "       plant id  year        lat        lon state nerc\n",
       "94688      1275  2006  38.947222  99.528611    KS  SPP\n",
       "94689      1275  2005  38.947222  99.528611    KS  SPP\n",
       "94690      1275  2004  38.947222  99.528611    KS  SPP\n",
       "94691      1275  2003  38.947222  99.528611    KS  SPP\n",
       "94692      1275  2002  38.947222  99.528611    KS  SPP"
      ]
     },
     "execution_count": 66,
     "metadata": {},
     "output_type": "execute_result"
    }
   ],
   "source": [
    "df.tail()"
   ]
  },
  {
   "cell_type": "code",
   "execution_count": 52,
   "metadata": {
    "ExecuteTime": {
     "end_time": "2017-11-06T16:39:55.684713Z",
     "start_time": "2017-11-06T16:39:55.678207Z"
    }
   },
   "outputs": [
    {
     "data": {
      "text/plain": [
       "Index(['plant id', 'year', 'lat', 'lon', 'state', 'nerc'], dtype='object')"
      ]
     },
     "execution_count": 52,
     "metadata": {},
     "output_type": "execute_result"
    }
   ],
   "source": [
    "df.columns"
   ]
  },
  {
   "cell_type": "markdown",
   "metadata": {},
   "source": [
    "Drop plants that don't have lat/lon data (using just lon to check), and then drop duplicates. If any plants have kept the same plant id but moved over time (maybe a diesel generator?) or switched NERC they will show up twice."
   ]
  },
  {
   "cell_type": "code",
   "execution_count": 94,
   "metadata": {
    "ExecuteTime": {
     "end_time": "2017-11-06T16:40:03.957239Z",
     "start_time": "2017-11-06T16:40:03.928838Z"
    }
   },
   "outputs": [
    {
     "data": {
      "text/html": [
       "<div>\n",
       "<style scoped>\n",
       "    .dataframe tbody tr th:only-of-type {\n",
       "        vertical-align: middle;\n",
       "    }\n",
       "\n",
       "    .dataframe tbody tr th {\n",
       "        vertical-align: top;\n",
       "    }\n",
       "\n",
       "    .dataframe thead th {\n",
       "        text-align: right;\n",
       "    }\n",
       "</style>\n",
       "<table border=\"1\" class=\"dataframe\">\n",
       "  <thead>\n",
       "    <tr style=\"text-align: right;\">\n",
       "      <th></th>\n",
       "      <th>plant id</th>\n",
       "      <th>year</th>\n",
       "      <th>lat</th>\n",
       "      <th>lon</th>\n",
       "      <th>state</th>\n",
       "      <th>nerc</th>\n",
       "    </tr>\n",
       "  </thead>\n",
       "  <tbody>\n",
       "    <tr>\n",
       "      <th>86689</th>\n",
       "      <td>10851</td>\n",
       "      <td>2006</td>\n",
       "      <td>NaN</td>\n",
       "      <td>NaN</td>\n",
       "      <td>NJ</td>\n",
       "      <td>NaN</td>\n",
       "    </tr>\n",
       "    <tr>\n",
       "      <th>86877</th>\n",
       "      <td>50291</td>\n",
       "      <td>2005</td>\n",
       "      <td>NaN</td>\n",
       "      <td>NaN</td>\n",
       "      <td>FL</td>\n",
       "      <td>NaN</td>\n",
       "    </tr>\n",
       "    <tr>\n",
       "      <th>87396</th>\n",
       "      <td>56672</td>\n",
       "      <td>2010</td>\n",
       "      <td>NaN</td>\n",
       "      <td>NaN</td>\n",
       "      <td>MN</td>\n",
       "      <td>NaN</td>\n",
       "    </tr>\n",
       "    <tr>\n",
       "      <th>87597</th>\n",
       "      <td>55982</td>\n",
       "      <td>2004</td>\n",
       "      <td>NaN</td>\n",
       "      <td>NaN</td>\n",
       "      <td>AK</td>\n",
       "      <td>NaN</td>\n",
       "    </tr>\n",
       "    <tr>\n",
       "      <th>87646</th>\n",
       "      <td>55150</td>\n",
       "      <td>2004</td>\n",
       "      <td>NaN</td>\n",
       "      <td>NaN</td>\n",
       "      <td>LA</td>\n",
       "      <td>NaN</td>\n",
       "    </tr>\n",
       "    <tr>\n",
       "      <th>87679</th>\n",
       "      <td>55082</td>\n",
       "      <td>2006</td>\n",
       "      <td>NaN</td>\n",
       "      <td>NaN</td>\n",
       "      <td>MS</td>\n",
       "      <td>NaN</td>\n",
       "    </tr>\n",
       "    <tr>\n",
       "      <th>87744</th>\n",
       "      <td>55521</td>\n",
       "      <td>2005</td>\n",
       "      <td>NaN</td>\n",
       "      <td>NaN</td>\n",
       "      <td>CA</td>\n",
       "      <td>NaN</td>\n",
       "    </tr>\n",
       "    <tr>\n",
       "      <th>87810</th>\n",
       "      <td>55314</td>\n",
       "      <td>2003</td>\n",
       "      <td>NaN</td>\n",
       "      <td>NaN</td>\n",
       "      <td>NaN</td>\n",
       "      <td>NaN</td>\n",
       "    </tr>\n",
       "    <tr>\n",
       "      <th>88107</th>\n",
       "      <td>54243</td>\n",
       "      <td>2005</td>\n",
       "      <td>NaN</td>\n",
       "      <td>NaN</td>\n",
       "      <td>GA</td>\n",
       "      <td>NaN</td>\n",
       "    </tr>\n",
       "    <tr>\n",
       "      <th>88230</th>\n",
       "      <td>50726</td>\n",
       "      <td>2007</td>\n",
       "      <td>NaN</td>\n",
       "      <td>NaN</td>\n",
       "      <td>LA</td>\n",
       "      <td>NaN</td>\n",
       "    </tr>\n",
       "    <tr>\n",
       "      <th>88479</th>\n",
       "      <td>50249</td>\n",
       "      <td>2004</td>\n",
       "      <td>NaN</td>\n",
       "      <td>NaN</td>\n",
       "      <td>TX</td>\n",
       "      <td>NaN</td>\n",
       "    </tr>\n",
       "    <tr>\n",
       "      <th>88706</th>\n",
       "      <td>2666</td>\n",
       "      <td>2004</td>\n",
       "      <td>NaN</td>\n",
       "      <td>NaN</td>\n",
       "      <td>NY</td>\n",
       "      <td>NaN</td>\n",
       "    </tr>\n",
       "    <tr>\n",
       "      <th>91646</th>\n",
       "      <td>55952</td>\n",
       "      <td>2014</td>\n",
       "      <td>NaN</td>\n",
       "      <td>NaN</td>\n",
       "      <td>NaN</td>\n",
       "      <td>NaN</td>\n",
       "    </tr>\n",
       "    <tr>\n",
       "      <th>92531</th>\n",
       "      <td>7704</td>\n",
       "      <td>2003</td>\n",
       "      <td>NaN</td>\n",
       "      <td>NaN</td>\n",
       "      <td>NaN</td>\n",
       "      <td>NaN</td>\n",
       "    </tr>\n",
       "    <tr>\n",
       "      <th>92597</th>\n",
       "      <td>6339</td>\n",
       "      <td>2004</td>\n",
       "      <td>NaN</td>\n",
       "      <td>NaN</td>\n",
       "      <td>NaN</td>\n",
       "      <td>NaN</td>\n",
       "    </tr>\n",
       "    <tr>\n",
       "      <th>92719</th>\n",
       "      <td>55840</td>\n",
       "      <td>2003</td>\n",
       "      <td>NaN</td>\n",
       "      <td>NaN</td>\n",
       "      <td>AZ</td>\n",
       "      <td>NaN</td>\n",
       "    </tr>\n",
       "    <tr>\n",
       "      <th>92758</th>\n",
       "      <td>55883</td>\n",
       "      <td>2004</td>\n",
       "      <td>NaN</td>\n",
       "      <td>NaN</td>\n",
       "      <td>KY</td>\n",
       "      <td>NaN</td>\n",
       "    </tr>\n",
       "    <tr>\n",
       "      <th>92769</th>\n",
       "      <td>55955</td>\n",
       "      <td>2003</td>\n",
       "      <td>NaN</td>\n",
       "      <td>NaN</td>\n",
       "      <td>AZ</td>\n",
       "      <td>NaN</td>\n",
       "    </tr>\n",
       "    <tr>\n",
       "      <th>92770</th>\n",
       "      <td>55958</td>\n",
       "      <td>2004</td>\n",
       "      <td>NaN</td>\n",
       "      <td>NaN</td>\n",
       "      <td>LA</td>\n",
       "      <td>NaN</td>\n",
       "    </tr>\n",
       "    <tr>\n",
       "      <th>92806</th>\n",
       "      <td>56043</td>\n",
       "      <td>2004</td>\n",
       "      <td>NaN</td>\n",
       "      <td>NaN</td>\n",
       "      <td>CA</td>\n",
       "      <td>NaN</td>\n",
       "    </tr>\n",
       "    <tr>\n",
       "      <th>92837</th>\n",
       "      <td>56175</td>\n",
       "      <td>2007</td>\n",
       "      <td>NaN</td>\n",
       "      <td>NaN</td>\n",
       "      <td>CA</td>\n",
       "      <td>NaN</td>\n",
       "    </tr>\n",
       "    <tr>\n",
       "      <th>92850</th>\n",
       "      <td>55975</td>\n",
       "      <td>2004</td>\n",
       "      <td>NaN</td>\n",
       "      <td>NaN</td>\n",
       "      <td>NaN</td>\n",
       "      <td>NaN</td>\n",
       "    </tr>\n",
       "    <tr>\n",
       "      <th>92855</th>\n",
       "      <td>56042</td>\n",
       "      <td>2005</td>\n",
       "      <td>NaN</td>\n",
       "      <td>NaN</td>\n",
       "      <td>NY</td>\n",
       "      <td>NaN</td>\n",
       "    </tr>\n",
       "    <tr>\n",
       "      <th>92890</th>\n",
       "      <td>56168</td>\n",
       "      <td>2003</td>\n",
       "      <td>NaN</td>\n",
       "      <td>NaN</td>\n",
       "      <td>MN</td>\n",
       "      <td>NaN</td>\n",
       "    </tr>\n",
       "    <tr>\n",
       "      <th>92918</th>\n",
       "      <td>55073</td>\n",
       "      <td>2004</td>\n",
       "      <td>NaN</td>\n",
       "      <td>NaN</td>\n",
       "      <td>NaN</td>\n",
       "      <td>NaN</td>\n",
       "    </tr>\n",
       "    <tr>\n",
       "      <th>92941</th>\n",
       "      <td>54516</td>\n",
       "      <td>2006</td>\n",
       "      <td>41.8875</td>\n",
       "      <td>NaN</td>\n",
       "      <td>IL</td>\n",
       "      <td>NaN</td>\n",
       "    </tr>\n",
       "    <tr>\n",
       "      <th>92954</th>\n",
       "      <td>55303</td>\n",
       "      <td>2008</td>\n",
       "      <td>NaN</td>\n",
       "      <td>NaN</td>\n",
       "      <td>MS</td>\n",
       "      <td>NaN</td>\n",
       "    </tr>\n",
       "    <tr>\n",
       "      <th>93040</th>\n",
       "      <td>55301</td>\n",
       "      <td>2003</td>\n",
       "      <td>NaN</td>\n",
       "      <td>NaN</td>\n",
       "      <td>AZ</td>\n",
       "      <td>NaN</td>\n",
       "    </tr>\n",
       "    <tr>\n",
       "      <th>93220</th>\n",
       "      <td>52164</td>\n",
       "      <td>2006</td>\n",
       "      <td>NaN</td>\n",
       "      <td>NaN</td>\n",
       "      <td>CA</td>\n",
       "      <td>NaN</td>\n",
       "    </tr>\n",
       "    <tr>\n",
       "      <th>93341</th>\n",
       "      <td>54222</td>\n",
       "      <td>2007</td>\n",
       "      <td>NaN</td>\n",
       "      <td>NaN</td>\n",
       "      <td>AK</td>\n",
       "      <td>NaN</td>\n",
       "    </tr>\n",
       "    <tr>\n",
       "      <th>93523</th>\n",
       "      <td>50728</td>\n",
       "      <td>2003</td>\n",
       "      <td>NaN</td>\n",
       "      <td>NaN</td>\n",
       "      <td>LA</td>\n",
       "      <td>SERC</td>\n",
       "    </tr>\n",
       "    <tr>\n",
       "      <th>93575</th>\n",
       "      <td>50040</td>\n",
       "      <td>2005</td>\n",
       "      <td>NaN</td>\n",
       "      <td>NaN</td>\n",
       "      <td>IL</td>\n",
       "      <td>NaN</td>\n",
       "    </tr>\n",
       "    <tr>\n",
       "      <th>93647</th>\n",
       "      <td>50030</td>\n",
       "      <td>2003</td>\n",
       "      <td>NaN</td>\n",
       "      <td>NaN</td>\n",
       "      <td>LA</td>\n",
       "      <td>NaN</td>\n",
       "    </tr>\n",
       "    <tr>\n",
       "      <th>93695</th>\n",
       "      <td>50168</td>\n",
       "      <td>2003</td>\n",
       "      <td>NaN</td>\n",
       "      <td>NaN</td>\n",
       "      <td>LA</td>\n",
       "      <td>NaN</td>\n",
       "    </tr>\n",
       "    <tr>\n",
       "      <th>93806</th>\n",
       "      <td>50313</td>\n",
       "      <td>2004</td>\n",
       "      <td>NaN</td>\n",
       "      <td>NaN</td>\n",
       "      <td>NJ</td>\n",
       "      <td>NaN</td>\n",
       "    </tr>\n",
       "    <tr>\n",
       "      <th>94212</th>\n",
       "      <td>10683</td>\n",
       "      <td>2007</td>\n",
       "      <td>NaN</td>\n",
       "      <td>NaN</td>\n",
       "      <td>CO</td>\n",
       "      <td>NaN</td>\n",
       "    </tr>\n",
       "    <tr>\n",
       "      <th>94436</th>\n",
       "      <td>10257</td>\n",
       "      <td>2005</td>\n",
       "      <td>NaN</td>\n",
       "      <td>NaN</td>\n",
       "      <td>CA</td>\n",
       "      <td>NaN</td>\n",
       "    </tr>\n",
       "    <tr>\n",
       "      <th>94604</th>\n",
       "      <td>56508</td>\n",
       "      <td>2007</td>\n",
       "      <td>NaN</td>\n",
       "      <td>NaN</td>\n",
       "      <td>CA</td>\n",
       "      <td>NaN</td>\n",
       "    </tr>\n",
       "  </tbody>\n",
       "</table>\n",
       "</div>"
      ],
      "text/plain": [
       "       plant id  year      lat  lon state  nerc\n",
       "86689     10851  2006      NaN  NaN    NJ   NaN\n",
       "86877     50291  2005      NaN  NaN    FL   NaN\n",
       "87396     56672  2010      NaN  NaN    MN   NaN\n",
       "87597     55982  2004      NaN  NaN    AK   NaN\n",
       "87646     55150  2004      NaN  NaN    LA   NaN\n",
       "87679     55082  2006      NaN  NaN    MS   NaN\n",
       "87744     55521  2005      NaN  NaN    CA   NaN\n",
       "87810     55314  2003      NaN  NaN   NaN   NaN\n",
       "88107     54243  2005      NaN  NaN    GA   NaN\n",
       "88230     50726  2007      NaN  NaN    LA   NaN\n",
       "88479     50249  2004      NaN  NaN    TX   NaN\n",
       "88706      2666  2004      NaN  NaN    NY   NaN\n",
       "91646     55952  2014      NaN  NaN   NaN   NaN\n",
       "92531      7704  2003      NaN  NaN   NaN   NaN\n",
       "92597      6339  2004      NaN  NaN   NaN   NaN\n",
       "92719     55840  2003      NaN  NaN    AZ   NaN\n",
       "92758     55883  2004      NaN  NaN    KY   NaN\n",
       "92769     55955  2003      NaN  NaN    AZ   NaN\n",
       "92770     55958  2004      NaN  NaN    LA   NaN\n",
       "92806     56043  2004      NaN  NaN    CA   NaN\n",
       "92837     56175  2007      NaN  NaN    CA   NaN\n",
       "92850     55975  2004      NaN  NaN   NaN   NaN\n",
       "92855     56042  2005      NaN  NaN    NY   NaN\n",
       "92890     56168  2003      NaN  NaN    MN   NaN\n",
       "92918     55073  2004      NaN  NaN   NaN   NaN\n",
       "92941     54516  2006  41.8875  NaN    IL   NaN\n",
       "92954     55303  2008      NaN  NaN    MS   NaN\n",
       "93040     55301  2003      NaN  NaN    AZ   NaN\n",
       "93220     52164  2006      NaN  NaN    CA   NaN\n",
       "93341     54222  2007      NaN  NaN    AK   NaN\n",
       "93523     50728  2003      NaN  NaN    LA  SERC\n",
       "93575     50040  2005      NaN  NaN    IL   NaN\n",
       "93647     50030  2003      NaN  NaN    LA   NaN\n",
       "93695     50168  2003      NaN  NaN    LA   NaN\n",
       "93806     50313  2004      NaN  NaN    NJ   NaN\n",
       "94212     10683  2007      NaN  NaN    CO   NaN\n",
       "94436     10257  2005      NaN  NaN    CA   NaN\n",
       "94604     56508  2007      NaN  NaN    CA   NaN"
      ]
     },
     "execution_count": 94,
     "metadata": {},
     "output_type": "execute_result"
    }
   ],
   "source": [
    "df.loc[df.lon.isnull()].drop_duplicates(subset='plant id')"
   ]
  },
  {
   "cell_type": "code",
   "execution_count": 96,
   "metadata": {
    "ExecuteTime": {
     "end_time": "2017-11-06T16:40:08.841245Z",
     "start_time": "2017-11-06T16:40:08.805376Z"
    },
    "collapsed": true
   },
   "outputs": [],
   "source": [
    "cols = ['plant id', 'lat', 'lon', 'nerc', 'state', 'year']\n",
    "df_slim = (df.loc[:, cols].dropna(subset=['lon'])\n",
    "             .drop_duplicates(subset=['plant id', 'year', 'nerc']))"
   ]
  },
  {
   "cell_type": "code",
   "execution_count": 97,
   "metadata": {
    "ExecuteTime": {
     "end_time": "2017-11-06T16:40:09.317698Z",
     "start_time": "2017-11-06T16:40:09.311670Z"
    }
   },
   "outputs": [
    {
     "data": {
      "text/plain": [
       "94525"
      ]
     },
     "execution_count": 97,
     "metadata": {},
     "output_type": "execute_result"
    }
   ],
   "source": [
    "len(df_slim)"
   ]
  },
  {
   "cell_type": "code",
   "execution_count": 98,
   "metadata": {
    "ExecuteTime": {
     "end_time": "2017-11-06T16:40:29.960293Z",
     "start_time": "2017-11-06T16:40:29.944141Z"
    }
   },
   "outputs": [
    {
     "data": {
      "text/html": [
       "<div>\n",
       "<style scoped>\n",
       "    .dataframe tbody tr th:only-of-type {\n",
       "        vertical-align: middle;\n",
       "    }\n",
       "\n",
       "    .dataframe tbody tr th {\n",
       "        vertical-align: top;\n",
       "    }\n",
       "\n",
       "    .dataframe thead th {\n",
       "        text-align: right;\n",
       "    }\n",
       "</style>\n",
       "<table border=\"1\" class=\"dataframe\">\n",
       "  <thead>\n",
       "    <tr style=\"text-align: right;\">\n",
       "      <th></th>\n",
       "      <th>plant id</th>\n",
       "      <th>lat</th>\n",
       "      <th>lon</th>\n",
       "      <th>nerc</th>\n",
       "      <th>state</th>\n",
       "      <th>year</th>\n",
       "    </tr>\n",
       "  </thead>\n",
       "  <tbody>\n",
       "    <tr>\n",
       "      <th>0</th>\n",
       "      <td>1001</td>\n",
       "      <td>39.9242</td>\n",
       "      <td>-87.4244</td>\n",
       "      <td>RFC</td>\n",
       "      <td>IN</td>\n",
       "      <td>2017</td>\n",
       "    </tr>\n",
       "    <tr>\n",
       "      <th>1</th>\n",
       "      <td>1001</td>\n",
       "      <td>39.9242</td>\n",
       "      <td>-87.4244</td>\n",
       "      <td>RFC</td>\n",
       "      <td>IN</td>\n",
       "      <td>2016</td>\n",
       "    </tr>\n",
       "    <tr>\n",
       "      <th>2</th>\n",
       "      <td>1001</td>\n",
       "      <td>39.9242</td>\n",
       "      <td>-87.4244</td>\n",
       "      <td>RFC</td>\n",
       "      <td>IN</td>\n",
       "      <td>2015</td>\n",
       "    </tr>\n",
       "    <tr>\n",
       "      <th>3</th>\n",
       "      <td>1001</td>\n",
       "      <td>39.9242</td>\n",
       "      <td>-87.4244</td>\n",
       "      <td>RFC</td>\n",
       "      <td>IN</td>\n",
       "      <td>2014</td>\n",
       "    </tr>\n",
       "    <tr>\n",
       "      <th>4</th>\n",
       "      <td>1001</td>\n",
       "      <td>39.9242</td>\n",
       "      <td>-87.4244</td>\n",
       "      <td>RFC</td>\n",
       "      <td>IN</td>\n",
       "      <td>2013</td>\n",
       "    </tr>\n",
       "  </tbody>\n",
       "</table>\n",
       "</div>"
      ],
      "text/plain": [
       "   plant id      lat      lon nerc state  year\n",
       "0      1001  39.9242 -87.4244  RFC    IN  2017\n",
       "1      1001  39.9242 -87.4244  RFC    IN  2016\n",
       "2      1001  39.9242 -87.4244  RFC    IN  2015\n",
       "3      1001  39.9242 -87.4244  RFC    IN  2014\n",
       "4      1001  39.9242 -87.4244  RFC    IN  2013"
      ]
     },
     "execution_count": 98,
     "metadata": {},
     "output_type": "execute_result"
    }
   ],
   "source": [
    "df_slim.head()"
   ]
  },
  {
   "cell_type": "markdown",
   "metadata": {},
   "source": [
    "Separate out the list of plants where we don't have NERC labels from EIA-860."
   ]
  },
  {
   "cell_type": "code",
   "execution_count": 100,
   "metadata": {
    "ExecuteTime": {
     "end_time": "2017-11-06T16:40:35.247883Z",
     "start_time": "2017-11-06T16:40:35.239582Z"
    },
    "collapsed": true
   },
   "outputs": [],
   "source": [
    "unknown = df_slim.loc[df_slim.nerc.isnull()].copy()"
   ]
  },
  {
   "cell_type": "code",
   "execution_count": 102,
   "metadata": {
    "ExecuteTime": {
     "end_time": "2017-11-06T16:40:37.583325Z",
     "start_time": "2017-11-06T16:40:37.568223Z"
    }
   },
   "outputs": [
    {
     "name": "stdout",
     "output_type": "stream",
     "text": [
      "1552 plants/years don't have NERC labels\n",
      "\n",
      "       plant id    lat     lon nerc state  year\n",
      "28656      3823  38.27 -78.035  NaN    VA  2009\n",
      "28657      3823  38.27 -78.035  NaN    VA  2005\n",
      "28658      3823  38.27 -78.035  NaN    VA  2004\n",
      "28659      3823  38.27 -78.035  NaN    VA  2003\n",
      "28660      3823  38.27 -78.035  NaN    VA  2002\n"
     ]
    }
   ],
   "source": [
    "print(\"{} plants/years don't have NERC labels\\n\".format(len(unknown)))\n",
    "print(unknown.head())"
   ]
  },
  {
   "cell_type": "markdown",
   "metadata": {},
   "source": [
    "### Create X and y matricies\n",
    "X is lat/lon and year\n",
    "\n",
    "y is the NERC label\n",
    "\n",
    "For both, I'm only using plants where we have all data (no `NaN`s). Not doing any transformation of the lat/lon at this time."
   ]
  },
  {
   "cell_type": "code",
   "execution_count": 120,
   "metadata": {
    "ExecuteTime": {
     "end_time": "2017-11-06T20:06:21.393849Z",
     "start_time": "2017-11-06T20:06:21.367798Z"
    },
    "collapsed": true
   },
   "outputs": [],
   "source": [
    "X = df_slim.loc[df_slim.notnull().all(axis=1), ['lat', 'lon', 'year']]\n",
    "y = df_slim.loc[df_slim.notnull().all(axis=1), 'nerc']"
   ]
  },
  {
   "cell_type": "code",
   "execution_count": 121,
   "metadata": {
    "ExecuteTime": {
     "end_time": "2017-11-06T20:06:27.239811Z",
     "start_time": "2017-11-06T20:06:27.233495Z"
    }
   },
   "outputs": [
    {
     "data": {
      "text/plain": [
       "92973"
      ]
     },
     "execution_count": 121,
     "metadata": {},
     "output_type": "execute_result"
    }
   ],
   "source": [
    "len(X)"
   ]
  },
  {
   "cell_type": "code",
   "execution_count": 134,
   "metadata": {},
   "outputs": [
    {
     "data": {
      "text/plain": [
       "0"
      ]
     },
     "execution_count": 134,
     "metadata": {},
     "output_type": "execute_result"
    }
   ],
   "source": [
    "# Make sure that unknown and X include all records from df_slim\n",
    "len(X) + len(unknown) - len(df_slim)"
   ]
  },
  {
   "cell_type": "code",
   "execution_count": 122,
   "metadata": {
    "ExecuteTime": {
     "end_time": "2017-11-06T20:06:27.249590Z",
     "start_time": "2017-11-06T20:06:27.242414Z"
    },
    "collapsed": true
   },
   "outputs": [],
   "source": [
    "X_train, X_test, y_train, y_test = train_test_split(\n",
    "    X, y, test_size=0.33, random_state=42)"
   ]
  },
  {
   "cell_type": "markdown",
   "metadata": {},
   "source": [
    "## GridSearch to find the best parameters"
   ]
  },
  {
   "cell_type": "code",
   "execution_count": 123,
   "metadata": {},
   "outputs": [],
   "source": [
    "from sklearn.ensemble import RandomForestClassifier\n"
   ]
  },
  {
   "cell_type": "code",
   "execution_count": 243,
   "metadata": {},
   "outputs": [
    {
     "name": "stdout",
     "output_type": "stream",
     "text": [
      "Fitting 3 folds for each of 36 candidates, totalling 108 fits\n"
     ]
    },
    {
     "name": "stderr",
     "output_type": "stream",
     "text": [
      "[Parallel(n_jobs=-1)]: Done  42 tasks      | elapsed:   25.8s\n",
      "[Parallel(n_jobs=-1)]: Done 108 out of 108 | elapsed:  1.1min finished\n"
     ]
    },
    {
     "data": {
      "text/plain": [
       "GridSearchCV(cv=None, error_score='raise',\n",
       "       estimator=RandomForestClassifier(bootstrap=True, class_weight=None, criterion='gini',\n",
       "            max_depth=None, max_features='auto', max_leaf_nodes=None,\n",
       "            min_impurity_decrease=0.0, min_impurity_split=None,\n",
       "            min_samples_leaf=1, min_samples_split=2,\n",
       "            min_weight_fraction_leaf=0.0, n_estimators=10, n_jobs=1,\n",
       "            oob_score=False, random_state=None, verbose=0,\n",
       "            warm_start=False),\n",
       "       fit_params=None, iid=False, n_jobs=-1,\n",
       "       param_grid={'n_estimators': [5, 10, 25, 50], 'min_samples_split': [2, 5, 10], 'min_samples_leaf': [1, 3, 5]},\n",
       "       pre_dispatch='2*n_jobs', refit=True, return_train_score='warn',\n",
       "       scoring=None, verbose=1)"
      ]
     },
     "execution_count": 243,
     "metadata": {},
     "output_type": "execute_result"
    }
   ],
   "source": [
    "rf = RandomForestClassifier()\n",
    "params = dict(\n",
    "    n_estimators = [5, 10, 25, 50],\n",
    "    min_samples_split = [2, 5, 10],\n",
    "    min_samples_leaf = [1, 3, 5],\n",
    ")\n",
    "\n",
    "clf_rf = GridSearchCV(rf, params, n_jobs=-1, iid=False, verbose=1)\n",
    "clf_rf.fit(X_train, y_train)"
   ]
  },
  {
   "cell_type": "code",
   "execution_count": 125,
   "metadata": {},
   "outputs": [
    {
     "data": {
      "text/plain": [
       "(RandomForestClassifier(bootstrap=True, class_weight=None, criterion='gini',\n",
       "             max_depth=None, max_features='auto', max_leaf_nodes=None,\n",
       "             min_impurity_decrease=0.0, min_impurity_split=None,\n",
       "             min_samples_leaf=1, min_samples_split=2,\n",
       "             min_weight_fraction_leaf=0.0, n_estimators=10, n_jobs=1,\n",
       "             oob_score=False, random_state=None, verbose=0,\n",
       "             warm_start=False), 0.9835771963992802)"
      ]
     },
     "execution_count": 125,
     "metadata": {},
     "output_type": "execute_result"
    }
   ],
   "source": [
    "clf_rf.best_estimator_, clf_rf.best_score_"
   ]
  },
  {
   "cell_type": "code",
   "execution_count": 126,
   "metadata": {},
   "outputs": [
    {
     "data": {
      "text/plain": [
       "0.982595658692393"
      ]
     },
     "execution_count": 126,
     "metadata": {},
     "output_type": "execute_result"
    }
   ],
   "source": [
    "clf_rf.score(X_test, y_test)"
   ]
  },
  {
   "cell_type": "code",
   "execution_count": 127,
   "metadata": {
    "ExecuteTime": {
     "end_time": "2017-11-06T20:10:03.521287Z",
     "start_time": "2017-11-06T20:10:03.510982Z"
    }
   },
   "outputs": [],
   "source": [
    "nerc_labels = nercs.nerc.dropna().unique()"
   ]
  },
  {
   "cell_type": "markdown",
   "metadata": {},
   "source": [
    "Accuracy score by region"
   ]
  },
  {
   "cell_type": "code",
   "execution_count": 128,
   "metadata": {
    "ExecuteTime": {
     "end_time": "2017-11-06T20:15:48.830308Z",
     "start_time": "2017-11-06T20:15:48.737017Z"
    }
   },
   "outputs": [
    {
     "name": "stdout",
     "output_type": "stream",
     "text": [
      "RFC : 0.9707534379236877\n",
      "NPCC : 0.9964832956543582\n",
      "WECC : 0.9983339283589194\n",
      "SERC : 0.9778310365488316\n",
      "SPP : 0.9159561510353228\n",
      "TRE : 0.9803773584905661\n",
      "MRO : 0.9809056192034915\n",
      "FRCC : 0.9860917941585535\n",
      "ASCC : 1.0\n",
      "HICC : 1.0\n"
     ]
    }
   ],
   "source": [
    "for region in nerc_labels:\n",
    "    mask = y_test == region\n",
    "    \n",
    "    X_masked = X_test[mask]\n",
    "    y_hat_masked = clf_rf.predict(X_masked)\n",
    "    y_test_masked = y_test[mask]\n",
    "    \n",
    "    accuracy = metrics.accuracy_score(y_test_masked, y_hat_masked)\n",
    "    print('{} : {}'.format(region, accuracy))"
   ]
  },
  {
   "cell_type": "markdown",
   "metadata": {},
   "source": [
    "F1 score by region"
   ]
  },
  {
   "cell_type": "code",
   "execution_count": 129,
   "metadata": {
    "ExecuteTime": {
     "end_time": "2017-11-06T20:18:57.242329Z",
     "start_time": "2017-11-06T20:18:57.079002Z"
    }
   },
   "outputs": [
    {
     "name": "stdout",
     "output_type": "stream",
     "text": [
      "RFC : 0.9713178294573643\n",
      "NPCC : 0.9954830614805521\n",
      "WECC : 0.9982151356496907\n",
      "SERC : 0.9729729729729729\n",
      "SPP : 0.9382407985028073\n",
      "TRE : 0.9852104664391353\n",
      "MRO : 0.9753186872796311\n",
      "FRCC : 0.9895324494068388\n",
      "ASCC : 1.0\n",
      "HICC : 1.0\n"
     ]
    }
   ],
   "source": [
    "y_hat = clf_rf.predict(X_test)\n",
    "\n",
    "for region in nerc_labels:\n",
    "    f1 = metrics.f1_score(y_test, y_hat, labels=[region], average='macro')\n",
    "    print('{} : {}'.format(region, f1))"
   ]
  },
  {
   "cell_type": "markdown",
   "metadata": {},
   "source": [
    "## Plants without lat/lon"
   ]
  },
  {
   "cell_type": "code",
   "execution_count": 220,
   "metadata": {},
   "outputs": [],
   "source": [
    "cols = ['plant id', 'nerc', 'state', 'year']\n",
    "df_state_slim = (df.loc[:, cols].dropna(subset=['state']).copy())"
   ]
  },
  {
   "cell_type": "code",
   "execution_count": 221,
   "metadata": {},
   "outputs": [
    {
     "data": {
      "text/html": [
       "<div>\n",
       "<style scoped>\n",
       "    .dataframe tbody tr th:only-of-type {\n",
       "        vertical-align: middle;\n",
       "    }\n",
       "\n",
       "    .dataframe tbody tr th {\n",
       "        vertical-align: top;\n",
       "    }\n",
       "\n",
       "    .dataframe thead th {\n",
       "        text-align: right;\n",
       "    }\n",
       "</style>\n",
       "<table border=\"1\" class=\"dataframe\">\n",
       "  <thead>\n",
       "    <tr style=\"text-align: right;\">\n",
       "      <th></th>\n",
       "      <th>plant id</th>\n",
       "      <th>nerc</th>\n",
       "      <th>state</th>\n",
       "      <th>year</th>\n",
       "    </tr>\n",
       "  </thead>\n",
       "  <tbody>\n",
       "    <tr>\n",
       "      <th>0</th>\n",
       "      <td>1001</td>\n",
       "      <td>RFC</td>\n",
       "      <td>IN</td>\n",
       "      <td>2017</td>\n",
       "    </tr>\n",
       "    <tr>\n",
       "      <th>1</th>\n",
       "      <td>1001</td>\n",
       "      <td>RFC</td>\n",
       "      <td>IN</td>\n",
       "      <td>2016</td>\n",
       "    </tr>\n",
       "    <tr>\n",
       "      <th>2</th>\n",
       "      <td>1001</td>\n",
       "      <td>RFC</td>\n",
       "      <td>IN</td>\n",
       "      <td>2015</td>\n",
       "    </tr>\n",
       "    <tr>\n",
       "      <th>3</th>\n",
       "      <td>1001</td>\n",
       "      <td>RFC</td>\n",
       "      <td>IN</td>\n",
       "      <td>2014</td>\n",
       "    </tr>\n",
       "    <tr>\n",
       "      <th>4</th>\n",
       "      <td>1001</td>\n",
       "      <td>RFC</td>\n",
       "      <td>IN</td>\n",
       "      <td>2013</td>\n",
       "    </tr>\n",
       "  </tbody>\n",
       "</table>\n",
       "</div>"
      ],
      "text/plain": [
       "   plant id nerc state  year\n",
       "0      1001  RFC    IN  2017\n",
       "1      1001  RFC    IN  2016\n",
       "2      1001  RFC    IN  2015\n",
       "3      1001  RFC    IN  2014\n",
       "4      1001  RFC    IN  2013"
      ]
     },
     "execution_count": 221,
     "metadata": {},
     "output_type": "execute_result"
    }
   ],
   "source": [
    "df_state_slim.head()"
   ]
  },
  {
   "cell_type": "code",
   "execution_count": 222,
   "metadata": {},
   "outputs": [
    {
     "data": {
      "text/plain": [
       "94668"
      ]
     },
     "execution_count": 222,
     "metadata": {},
     "output_type": "execute_result"
    }
   ],
   "source": [
    "len(df_state_slim)"
   ]
  },
  {
   "cell_type": "code",
   "execution_count": 223,
   "metadata": {},
   "outputs": [],
   "source": [
    "le = LabelEncoder()"
   ]
  },
  {
   "cell_type": "code",
   "execution_count": 224,
   "metadata": {},
   "outputs": [],
   "source": [
    "df_state_slim.loc[:, 'enc state'] = le.fit_transform(df_state_slim.loc[:, 'state'].tolist())"
   ]
  },
  {
   "cell_type": "code",
   "execution_count": 225,
   "metadata": {
    "ExecuteTime": {
     "end_time": "2017-11-06T16:40:35.247883Z",
     "start_time": "2017-11-06T16:40:35.239582Z"
    },
    "collapsed": true
   },
   "outputs": [],
   "source": [
    "unknown_state = df_state_slim.loc[df_state_slim.nerc.isnull()].copy()"
   ]
  },
  {
   "cell_type": "code",
   "execution_count": null,
   "metadata": {},
   "outputs": [],
   "source": []
  },
  {
   "cell_type": "code",
   "execution_count": 197,
   "metadata": {},
   "outputs": [
    {
     "data": {
      "text/plain": [
       "plant id       int64\n",
       "year           int64\n",
       "lat          float64\n",
       "lon          float64\n",
       "state         object\n",
       "nerc          object\n",
       "enc state      int64\n",
       "dtype: object"
      ]
     },
     "execution_count": 197,
     "metadata": {},
     "output_type": "execute_result"
    }
   ],
   "source": [
    "df_state_slim.dtypes"
   ]
  },
  {
   "cell_type": "code",
   "execution_count": 195,
   "metadata": {},
   "outputs": [
    {
     "name": "stderr",
     "output_type": "stream",
     "text": [
      "/Users/Home/anaconda/envs/psci/lib/python3.6/site-packages/sklearn/preprocessing/label.py:151: DeprecationWarning: The truth value of an empty array is ambiguous. Returning False, but in future this will result in an error. Use `array.size > 0` to check that an array is not empty.\n",
      "  if diff:\n"
     ]
    },
    {
     "data": {
      "text/plain": [
       "array(['IN', 'IN', 'IN', ..., 'KS', 'KS', 'KS'], dtype='<U2')"
      ]
     },
     "execution_count": 195,
     "metadata": {},
     "output_type": "execute_result"
    }
   ],
   "source": [
    "le.inverse_transform(df_state_slim.loc[:, 'enc state'])"
   ]
  },
  {
   "cell_type": "code",
   "execution_count": 226,
   "metadata": {
    "ExecuteTime": {
     "end_time": "2017-11-06T20:06:21.393849Z",
     "start_time": "2017-11-06T20:06:21.367798Z"
    },
    "collapsed": true
   },
   "outputs": [],
   "source": [
    "X_state = df_state_slim.loc[df_state_slim.notnull().all(axis=1), ['enc state', 'year']].copy()\n",
    "y_state = df_state_slim.loc[df_state_slim.notnull().all(axis=1), 'nerc'].copy()"
   ]
  },
  {
   "cell_type": "code",
   "execution_count": 227,
   "metadata": {},
   "outputs": [
    {
     "data": {
      "text/plain": [
       "False"
      ]
     },
     "execution_count": 227,
     "metadata": {},
     "output_type": "execute_result"
    }
   ],
   "source": [
    "y_state.isnull().any()"
   ]
  },
  {
   "cell_type": "code",
   "execution_count": 228,
   "metadata": {
    "ExecuteTime": {
     "end_time": "2017-11-06T20:06:27.249590Z",
     "start_time": "2017-11-06T20:06:27.242414Z"
    },
    "collapsed": true
   },
   "outputs": [],
   "source": [
    "X_state_train, X_state_test, y_state_train, y_state_test = train_test_split(\n",
    "    X_state, y_state, test_size=0.33, random_state=42)"
   ]
  },
  {
   "cell_type": "code",
   "execution_count": 233,
   "metadata": {},
   "outputs": [
    {
     "name": "stdout",
     "output_type": "stream",
     "text": [
      "Fitting 3 folds for each of 36 candidates, totalling 108 fits\n"
     ]
    },
    {
     "name": "stderr",
     "output_type": "stream",
     "text": [
      "[Parallel(n_jobs=-1)]: Done  42 tasks      | elapsed:   15.3s\n",
      "[Parallel(n_jobs=-1)]: Done 108 out of 108 | elapsed:   42.7s finished\n"
     ]
    },
    {
     "data": {
      "text/plain": [
       "GridSearchCV(cv=None, error_score='raise',\n",
       "       estimator=RandomForestClassifier(bootstrap=True, class_weight=None, criterion='gini',\n",
       "            max_depth=None, max_features='auto', max_leaf_nodes=None,\n",
       "            min_impurity_decrease=0.0, min_impurity_split=None,\n",
       "            min_samples_leaf=1, min_samples_split=2,\n",
       "            min_weight_fraction_leaf=0.0, n_estimators=10, n_jobs=1,\n",
       "            oob_score=False, random_state=None, verbose=0,\n",
       "            warm_start=False),\n",
       "       fit_params=None, iid=False, n_jobs=-1,\n",
       "       param_grid={'n_estimators': [5, 10, 25, 50], 'min_samples_split': [2, 5, 10], 'min_samples_leaf': [1, 3, 5]},\n",
       "       pre_dispatch='2*n_jobs', refit=True, return_train_score='warn',\n",
       "       scoring=None, verbose=1)"
      ]
     },
     "execution_count": 233,
     "metadata": {},
     "output_type": "execute_result"
    }
   ],
   "source": [
    "rf = RandomForestClassifier()\n",
    "params = dict(\n",
    "    n_estimators = [5, 10, 25, 50],\n",
    "    min_samples_split = [2, 5, 10],\n",
    "    min_samples_leaf = [1, 3, 5],\n",
    ")\n",
    "\n",
    "clf_rf_state = GridSearchCV(rf, params, n_jobs=-1, iid=False, verbose=1)\n",
    "clf_rf_state.fit(X_state_train, y_state_train)"
   ]
  },
  {
   "cell_type": "code",
   "execution_count": 235,
   "metadata": {},
   "outputs": [
    {
     "data": {
      "text/plain": [
       "(RandomForestClassifier(bootstrap=True, class_weight=None, criterion='gini',\n",
       "             max_depth=None, max_features='auto', max_leaf_nodes=None,\n",
       "             min_impurity_decrease=0.0, min_impurity_split=None,\n",
       "             min_samples_leaf=1, min_samples_split=5,\n",
       "             min_weight_fraction_leaf=0.0, n_estimators=10, n_jobs=1,\n",
       "             oob_score=False, random_state=None, verbose=0,\n",
       "             warm_start=False), 0.9393516437547577)"
      ]
     },
     "execution_count": 235,
     "metadata": {},
     "output_type": "execute_result"
    }
   ],
   "source": [
    "clf_rf_state.best_estimator_, clf_rf_state.best_score_"
   ]
  },
  {
   "cell_type": "code",
   "execution_count": 236,
   "metadata": {},
   "outputs": [
    {
     "data": {
      "text/plain": [
       "0.9382209188660802"
      ]
     },
     "execution_count": 236,
     "metadata": {},
     "output_type": "execute_result"
    }
   ],
   "source": [
    "clf_rf_state.score(X_state_test, y_state_test)"
   ]
  },
  {
   "cell_type": "code",
   "execution_count": 237,
   "metadata": {
    "ExecuteTime": {
     "end_time": "2017-11-06T20:10:03.521287Z",
     "start_time": "2017-11-06T20:10:03.510982Z"
    }
   },
   "outputs": [],
   "source": [
    "nerc_labels = nercs.nerc.dropna().unique()"
   ]
  },
  {
   "cell_type": "markdown",
   "metadata": {},
   "source": [
    "Accuracy score by region"
   ]
  },
  {
   "cell_type": "code",
   "execution_count": 238,
   "metadata": {
    "ExecuteTime": {
     "end_time": "2017-11-06T20:15:48.830308Z",
     "start_time": "2017-11-06T20:15:48.737017Z"
    }
   },
   "outputs": [
    {
     "name": "stdout",
     "output_type": "stream",
     "text": [
      "RFC : 0.9220880405142189\n",
      "NPCC : 0.9957211175434181\n",
      "WECC : 0.9937426210153483\n",
      "SERC : 0.8845998383185125\n",
      "SPP : 0.5650869826034793\n",
      "TRE : 1.0\n",
      "MRO : 0.9643738010413812\n",
      "FRCC : 1.0\n",
      "ASCC : 1.0\n",
      "HICC : 1.0\n"
     ]
    }
   ],
   "source": [
    "for region in nerc_labels:\n",
    "    mask = y_state_test == region\n",
    "    \n",
    "    X_state_masked = X_state_test[mask]\n",
    "    y_state_hat_masked = clf_rf_state.predict(X_state_masked)\n",
    "    y_state_test_masked = y_state_test[mask]\n",
    "    \n",
    "    accuracy = metrics.accuracy_score(y_state_test_masked, y_state_hat_masked)\n",
    "    print('{} : {}'.format(region, accuracy))"
   ]
  },
  {
   "cell_type": "markdown",
   "metadata": {},
   "source": [
    "F1 score by region"
   ]
  },
  {
   "cell_type": "code",
   "execution_count": 240,
   "metadata": {
    "ExecuteTime": {
     "end_time": "2017-11-06T20:18:57.242329Z",
     "start_time": "2017-11-06T20:18:57.079002Z"
    }
   },
   "outputs": [
    {
     "name": "stdout",
     "output_type": "stream",
     "text": [
      "RFC : 0.9102095750817151\n",
      "NPCC : 0.9965990678926816\n",
      "WECC : 0.992629282386933\n",
      "SERC : 0.879003916055829\n",
      "SPP : 0.7196333078686019\n",
      "TRE : 0.8811881188118811\n",
      "MRO : 0.9515954570037858\n",
      "FRCC : 0.9669876203576341\n",
      "ASCC : 0.9991673605328892\n",
      "HICC : 1.0\n"
     ]
    }
   ],
   "source": [
    "y_state_hat = clf_rf_state.predict(X_state_test)\n",
    "\n",
    "for region in nerc_labels:\n",
    "    f1 = metrics.f1_score(y_state_test, y_state_hat, labels=[region], average='macro')\n",
    "    print('{} : {}'.format(region, f1))"
   ]
  },
  {
   "cell_type": "code",
   "execution_count": null,
   "metadata": {},
   "outputs": [],
   "source": []
  },
  {
   "cell_type": "code",
   "execution_count": null,
   "metadata": {},
   "outputs": [],
   "source": []
  },
  {
   "cell_type": "code",
   "execution_count": null,
   "metadata": {},
   "outputs": [],
   "source": []
  },
  {
   "cell_type": "code",
   "execution_count": null,
   "metadata": {},
   "outputs": [],
   "source": []
  },
  {
   "cell_type": "markdown",
   "metadata": {},
   "source": [
    "### Regular KNN classifier\n",
    "Run gridsearch testing parameter values for weights, n_neighbors, and p (use Euclidean or Manhattan distance).\n",
    "\n",
    "With 15 neighbors, weights by distance, and Euclidean distance, the model is able to accurately predict the test sample NERC region with 96% accuracy. This varies by region, with the lowest accuracy scores for TRE and SPP (89% and 87%), and the highest accuracy scores for WECC and NPCC (each 99%). F1 scores tend to be similar to the accuracy, although TRE has slightly higher F1 (0.94 vs 0.89)."
   ]
  },
  {
   "cell_type": "code",
   "execution_count": 55,
   "metadata": {
    "ExecuteTime": {
     "end_time": "2017-11-06T20:06:28.581180Z",
     "start_time": "2017-11-06T20:06:27.257246Z"
    }
   },
   "outputs": [
    {
     "name": "stdout",
     "output_type": "stream",
     "text": [
      "Fitting 3 folds for each of 12 candidates, totalling 36 fits\n"
     ]
    },
    {
     "name": "stderr",
     "output_type": "stream",
     "text": [
      "[Parallel(n_jobs=-1)]: Done  36 out of  36 | elapsed:    0.7s finished\n"
     ]
    },
    {
     "data": {
      "text/plain": [
       "GridSearchCV(cv=None, error_score='raise',\n",
       "       estimator=KNeighborsClassifier(algorithm='auto', leaf_size=30, metric='minkowski',\n",
       "           metric_params=None, n_jobs=1, n_neighbors=5, p=2,\n",
       "           weights='uniform'),\n",
       "       fit_params=None, iid=False, n_jobs=-1,\n",
       "       param_grid={'weights': ['uniform', 'distance'], 'n_neighbors': [10, 15, 20], 'p': [1, 2]},\n",
       "       pre_dispatch='2*n_jobs', refit=True, return_train_score='warn',\n",
       "       scoring=None, verbose=1)"
      ]
     },
     "execution_count": 55,
     "metadata": {},
     "output_type": "execute_result"
    }
   ],
   "source": [
    "knn = neighbors.KNeighborsClassifier()\n",
    "\n",
    "params = {'weights': ['uniform', 'distance'],\n",
    "          'n_neighbors': [10, 15, 20],\n",
    "          'p': [1, 2]\n",
    "         }\n",
    "\n",
    "clf_knn = GridSearchCV(knn, params, n_jobs=-1, iid=False, verbose=1)\n",
    "\n",
    "clf_knn.fit(X_train, y_train)"
   ]
  },
  {
   "cell_type": "code",
   "execution_count": 35,
   "metadata": {
    "ExecuteTime": {
     "end_time": "2017-11-06T20:06:28.595105Z",
     "start_time": "2017-11-06T20:06:28.586540Z"
    }
   },
   "outputs": [
    {
     "data": {
      "text/plain": [
       "(KNeighborsClassifier(algorithm='auto', leaf_size=30, metric='minkowski',\n",
       "            metric_params=None, n_jobs=1, n_neighbors=10, p=1,\n",
       "            weights='distance'), 0.9590098375679993)"
      ]
     },
     "execution_count": 35,
     "metadata": {},
     "output_type": "execute_result"
    }
   ],
   "source": [
    "clf_knn.best_estimator_, clf_knn.best_score_"
   ]
  },
  {
   "cell_type": "code",
   "execution_count": 36,
   "metadata": {
    "ExecuteTime": {
     "end_time": "2017-11-06T20:06:28.646251Z",
     "start_time": "2017-11-06T20:06:28.597679Z"
    }
   },
   "outputs": [
    {
     "data": {
      "text/plain": [
       "0.9589136490250696"
      ]
     },
     "execution_count": 36,
     "metadata": {},
     "output_type": "execute_result"
    }
   ],
   "source": [
    "clf_knn.score(X_test, y_test)"
   ]
  },
  {
   "cell_type": "code",
   "execution_count": 37,
   "metadata": {
    "ExecuteTime": {
     "end_time": "2017-11-06T20:10:03.521287Z",
     "start_time": "2017-11-06T20:10:03.510982Z"
    }
   },
   "outputs": [],
   "source": [
    "nerc_labels = nercs.nerc.dropna().unique()"
   ]
  },
  {
   "cell_type": "markdown",
   "metadata": {},
   "source": [
    "Accuracy score by region"
   ]
  },
  {
   "cell_type": "code",
   "execution_count": 38,
   "metadata": {
    "ExecuteTime": {
     "end_time": "2017-11-06T20:15:48.830308Z",
     "start_time": "2017-11-06T20:15:48.737017Z"
    }
   },
   "outputs": [
    {
     "name": "stdout",
     "output_type": "stream",
     "text": [
      "SERC : 0.9553752535496958\n",
      "RFC : 0.9523809523809523\n",
      "SPP : 0.8098591549295775\n",
      "NPCC : 0.9768115942028985\n",
      "WECC : 0.9904191616766467\n",
      "MRO : 0.9469964664310954\n",
      "TRE : 0.927007299270073\n",
      "HICC : 1.0\n",
      "ASCC : 0.975609756097561\n",
      "FRCC : 0.9629629629629629\n"
     ]
    }
   ],
   "source": [
    "for region in nerc_labels:\n",
    "    mask = y_test == region\n",
    "    \n",
    "    X_masked = X_test[mask]\n",
    "    y_hat_masked = clf_knn.predict(X_masked)\n",
    "    y_test_masked = y_test[mask]\n",
    "    \n",
    "    accuracy = metrics.accuracy_score(y_test_masked, y_hat_masked)\n",
    "    print('{} : {}'.format(region, accuracy))"
   ]
  },
  {
   "cell_type": "markdown",
   "metadata": {},
   "source": [
    "F1 score by region"
   ]
  },
  {
   "cell_type": "code",
   "execution_count": 39,
   "metadata": {
    "ExecuteTime": {
     "end_time": "2017-11-06T20:18:57.242329Z",
     "start_time": "2017-11-06T20:18:57.079002Z"
    }
   },
   "outputs": [
    {
     "name": "stdout",
     "output_type": "stream",
     "text": [
      "SERC : 0.9534412955465588\n",
      "RFC : 0.949667616334283\n",
      "SPP : 0.8273381294964028\n",
      "NPCC : 0.9810771470160117\n",
      "WECC : 0.9904191616766467\n",
      "MRO : 0.9337979094076655\n",
      "TRE : 0.9407407407407407\n",
      "HICC : 0.9444444444444444\n",
      "ASCC : 0.975609756097561\n",
      "FRCC : 0.9811320754716981\n"
     ]
    }
   ],
   "source": [
    "y_hat = clf_knn.predict(X_test)\n",
    "\n",
    "for region in nerc_labels:\n",
    "    f1 = metrics.f1_score(y_test, y_hat, labels=[region], average='macro')\n",
    "    print('{} : {}'.format(region, f1))"
   ]
  },
  {
   "cell_type": "code",
   "execution_count": 40,
   "metadata": {
    "ExecuteTime": {
     "end_time": "2017-11-06T20:21:11.256728Z",
     "start_time": "2017-11-06T20:21:11.237272Z"
    }
   },
   "outputs": [
    {
     "data": {
      "text/plain": [
       "0.9589136490250696"
      ]
     },
     "execution_count": 40,
     "metadata": {},
     "output_type": "execute_result"
    }
   ],
   "source": [
    "metrics.f1_score(y_test, y_hat, average='micro')"
   ]
  },
  {
   "cell_type": "code",
   "execution_count": 41,
   "metadata": {
    "ExecuteTime": {
     "end_time": "2017-11-06T20:21:24.325435Z",
     "start_time": "2017-11-06T20:21:24.308078Z"
    }
   },
   "outputs": [
    {
     "data": {
      "text/plain": [
       "0.9477668276232013"
      ]
     },
     "execution_count": 41,
     "metadata": {},
     "output_type": "execute_result"
    }
   ],
   "source": [
    "metrics.f1_score(y_test, y_hat, average='macro')"
   ]
  },
  {
   "cell_type": "markdown",
   "metadata": {},
   "source": [
    "## Use best RandomForest parameters to predict NERC for unknown plants"
   ]
  },
  {
   "cell_type": "code",
   "execution_count": 244,
   "metadata": {
    "ExecuteTime": {
     "end_time": "2017-11-06T16:53:30.016363Z",
     "start_time": "2017-11-06T16:53:29.583624Z"
    }
   },
   "outputs": [],
   "source": [
    "unknown.loc[:, 'nerc'] = clf_rf.predict(unknown.loc[:, ['lat', 'lon', 'year']])\n",
    "unknown_state.loc[:, 'nerc'] = clf_rf_state.predict(unknown_state.loc[:, ['enc state', 'year']])"
   ]
  },
  {
   "cell_type": "markdown",
   "metadata": {},
   "source": [
    "Ensuring that no plants in Alaska or Hawaii are assigned to continental NERCs, or the other way around."
   ]
  },
  {
   "cell_type": "code",
   "execution_count": 131,
   "metadata": {
    "ExecuteTime": {
     "end_time": "2017-11-06T16:53:34.746917Z",
     "start_time": "2017-11-06T16:53:34.734080Z"
    }
   },
   "outputs": [
    {
     "name": "stdout",
     "output_type": "stream",
     "text": [
      "['ASCC' 'HICC']\n",
      "['AK' 'HI']\n"
     ]
    }
   ],
   "source": [
    "print(unknown.loc[unknown.state.isin(['AK', 'HI']), 'nerc'].unique())\n",
    "print(unknown.loc[unknown.nerc.isin(['HICC', 'ASCC']), 'state'].unique())"
   ]
  },
  {
   "cell_type": "code",
   "execution_count": 135,
   "metadata": {
    "ExecuteTime": {
     "end_time": "2017-11-06T16:53:38.090243Z",
     "start_time": "2017-11-06T16:53:38.084127Z"
    }
   },
   "outputs": [
    {
     "data": {
      "text/plain": [
       "Counter({'ASCC': 39,\n",
       "         'FRCC': 5,\n",
       "         'HICC': 34,\n",
       "         'MRO': 74,\n",
       "         'NPCC': 251,\n",
       "         'RFC': 244,\n",
       "         'SERC': 301,\n",
       "         'SPP': 96,\n",
       "         'TRE': 153,\n",
       "         'WECC': 355})"
      ]
     },
     "execution_count": 135,
     "metadata": {},
     "output_type": "execute_result"
    }
   ],
   "source": [
    "Counter(unknown['nerc'])"
   ]
  },
  {
   "cell_type": "code",
   "execution_count": 137,
   "metadata": {},
   "outputs": [
    {
     "data": {
      "text/html": [
       "<div>\n",
       "<style scoped>\n",
       "    .dataframe tbody tr th:only-of-type {\n",
       "        vertical-align: middle;\n",
       "    }\n",
       "\n",
       "    .dataframe tbody tr th {\n",
       "        vertical-align: top;\n",
       "    }\n",
       "\n",
       "    .dataframe thead th {\n",
       "        text-align: right;\n",
       "    }\n",
       "</style>\n",
       "<table border=\"1\" class=\"dataframe\">\n",
       "  <thead>\n",
       "    <tr style=\"text-align: right;\">\n",
       "      <th></th>\n",
       "      <th>plant id</th>\n",
       "      <th>lat</th>\n",
       "      <th>lon</th>\n",
       "      <th>nerc</th>\n",
       "      <th>state</th>\n",
       "      <th>year</th>\n",
       "    </tr>\n",
       "  </thead>\n",
       "  <tbody>\n",
       "    <tr>\n",
       "      <th>28656</th>\n",
       "      <td>3823</td>\n",
       "      <td>38.27</td>\n",
       "      <td>-78.035</td>\n",
       "      <td>SERC</td>\n",
       "      <td>VA</td>\n",
       "      <td>2009</td>\n",
       "    </tr>\n",
       "    <tr>\n",
       "      <th>28657</th>\n",
       "      <td>3823</td>\n",
       "      <td>38.27</td>\n",
       "      <td>-78.035</td>\n",
       "      <td>SERC</td>\n",
       "      <td>VA</td>\n",
       "      <td>2005</td>\n",
       "    </tr>\n",
       "    <tr>\n",
       "      <th>28658</th>\n",
       "      <td>3823</td>\n",
       "      <td>38.27</td>\n",
       "      <td>-78.035</td>\n",
       "      <td>SERC</td>\n",
       "      <td>VA</td>\n",
       "      <td>2004</td>\n",
       "    </tr>\n",
       "    <tr>\n",
       "      <th>28659</th>\n",
       "      <td>3823</td>\n",
       "      <td>38.27</td>\n",
       "      <td>-78.035</td>\n",
       "      <td>SERC</td>\n",
       "      <td>VA</td>\n",
       "      <td>2003</td>\n",
       "    </tr>\n",
       "    <tr>\n",
       "      <th>28660</th>\n",
       "      <td>3823</td>\n",
       "      <td>38.27</td>\n",
       "      <td>-78.035</td>\n",
       "      <td>SERC</td>\n",
       "      <td>VA</td>\n",
       "      <td>2002</td>\n",
       "    </tr>\n",
       "  </tbody>\n",
       "</table>\n",
       "</div>"
      ],
      "text/plain": [
       "       plant id    lat     lon  nerc state  year\n",
       "28656      3823  38.27 -78.035  SERC    VA  2009\n",
       "28657      3823  38.27 -78.035  SERC    VA  2005\n",
       "28658      3823  38.27 -78.035  SERC    VA  2004\n",
       "28659      3823  38.27 -78.035  SERC    VA  2003\n",
       "28660      3823  38.27 -78.035  SERC    VA  2002"
      ]
     },
     "execution_count": 137,
     "metadata": {},
     "output_type": "execute_result"
    }
   ],
   "source": [
    "unknown.head()"
   ]
  },
  {
   "cell_type": "markdown",
   "metadata": {},
   "source": [
    "## Export plants with lat/lon, state, and nerc"
   ]
  },
  {
   "cell_type": "code",
   "execution_count": 138,
   "metadata": {},
   "outputs": [
    {
     "data": {
      "text/html": [
       "<div>\n",
       "<style scoped>\n",
       "    .dataframe tbody tr th:only-of-type {\n",
       "        vertical-align: middle;\n",
       "    }\n",
       "\n",
       "    .dataframe tbody tr th {\n",
       "        vertical-align: top;\n",
       "    }\n",
       "\n",
       "    .dataframe thead th {\n",
       "        text-align: right;\n",
       "    }\n",
       "</style>\n",
       "<table border=\"1\" class=\"dataframe\">\n",
       "  <thead>\n",
       "    <tr style=\"text-align: right;\">\n",
       "      <th></th>\n",
       "      <th>plant id</th>\n",
       "      <th>nerc</th>\n",
       "      <th>year</th>\n",
       "    </tr>\n",
       "  </thead>\n",
       "  <tbody>\n",
       "    <tr>\n",
       "      <th>24</th>\n",
       "      <td>61309</td>\n",
       "      <td>TRE</td>\n",
       "      <td>2017</td>\n",
       "    </tr>\n",
       "    <tr>\n",
       "      <th>25</th>\n",
       "      <td>61362</td>\n",
       "      <td>TRE</td>\n",
       "      <td>2017</td>\n",
       "    </tr>\n",
       "    <tr>\n",
       "      <th>26</th>\n",
       "      <td>61409</td>\n",
       "      <td>TRE</td>\n",
       "      <td>2017</td>\n",
       "    </tr>\n",
       "    <tr>\n",
       "      <th>27</th>\n",
       "      <td>61410</td>\n",
       "      <td>TRE</td>\n",
       "      <td>2017</td>\n",
       "    </tr>\n",
       "    <tr>\n",
       "      <th>28</th>\n",
       "      <td>61411</td>\n",
       "      <td>TRE</td>\n",
       "      <td>2017</td>\n",
       "    </tr>\n",
       "  </tbody>\n",
       "</table>\n",
       "</div>"
      ],
      "text/plain": [
       "    plant id nerc  year\n",
       "24     61309  TRE  2017\n",
       "25     61362  TRE  2017\n",
       "26     61409  TRE  2017\n",
       "27     61410  TRE  2017\n",
       "28     61411  TRE  2017"
      ]
     },
     "execution_count": 138,
     "metadata": {},
     "output_type": "execute_result"
    }
   ],
   "source": [
    "nercs.tail()"
   ]
  },
  {
   "cell_type": "code",
   "execution_count": 139,
   "metadata": {
    "ExecuteTime": {
     "end_time": "2017-11-06T16:54:00.912370Z",
     "start_time": "2017-11-06T16:54:00.897855Z"
    }
   },
   "outputs": [
    {
     "data": {
      "text/html": [
       "<div>\n",
       "<style scoped>\n",
       "    .dataframe tbody tr th:only-of-type {\n",
       "        vertical-align: middle;\n",
       "    }\n",
       "\n",
       "    .dataframe tbody tr th {\n",
       "        vertical-align: top;\n",
       "    }\n",
       "\n",
       "    .dataframe thead th {\n",
       "        text-align: right;\n",
       "    }\n",
       "</style>\n",
       "<table border=\"1\" class=\"dataframe\">\n",
       "  <thead>\n",
       "    <tr style=\"text-align: right;\">\n",
       "      <th></th>\n",
       "      <th>plant id</th>\n",
       "      <th>lat</th>\n",
       "      <th>lon</th>\n",
       "      <th>nerc</th>\n",
       "      <th>state</th>\n",
       "      <th>year</th>\n",
       "    </tr>\n",
       "  </thead>\n",
       "  <tbody>\n",
       "    <tr>\n",
       "      <th>28656</th>\n",
       "      <td>3823</td>\n",
       "      <td>38.27</td>\n",
       "      <td>-78.035</td>\n",
       "      <td>SERC</td>\n",
       "      <td>VA</td>\n",
       "      <td>2009</td>\n",
       "    </tr>\n",
       "    <tr>\n",
       "      <th>28657</th>\n",
       "      <td>3823</td>\n",
       "      <td>38.27</td>\n",
       "      <td>-78.035</td>\n",
       "      <td>SERC</td>\n",
       "      <td>VA</td>\n",
       "      <td>2005</td>\n",
       "    </tr>\n",
       "    <tr>\n",
       "      <th>28658</th>\n",
       "      <td>3823</td>\n",
       "      <td>38.27</td>\n",
       "      <td>-78.035</td>\n",
       "      <td>SERC</td>\n",
       "      <td>VA</td>\n",
       "      <td>2004</td>\n",
       "    </tr>\n",
       "    <tr>\n",
       "      <th>28659</th>\n",
       "      <td>3823</td>\n",
       "      <td>38.27</td>\n",
       "      <td>-78.035</td>\n",
       "      <td>SERC</td>\n",
       "      <td>VA</td>\n",
       "      <td>2003</td>\n",
       "    </tr>\n",
       "    <tr>\n",
       "      <th>28660</th>\n",
       "      <td>3823</td>\n",
       "      <td>38.27</td>\n",
       "      <td>-78.035</td>\n",
       "      <td>SERC</td>\n",
       "      <td>VA</td>\n",
       "      <td>2002</td>\n",
       "    </tr>\n",
       "  </tbody>\n",
       "</table>\n",
       "</div>"
      ],
      "text/plain": [
       "       plant id    lat     lon  nerc state  year\n",
       "28656      3823  38.27 -78.035  SERC    VA  2009\n",
       "28657      3823  38.27 -78.035  SERC    VA  2005\n",
       "28658      3823  38.27 -78.035  SERC    VA  2004\n",
       "28659      3823  38.27 -78.035  SERC    VA  2003\n",
       "28660      3823  38.27 -78.035  SERC    VA  2002"
      ]
     },
     "execution_count": 139,
     "metadata": {},
     "output_type": "execute_result"
    }
   ],
   "source": [
    "unknown.head()"
   ]
  },
  {
   "cell_type": "code",
   "execution_count": 251,
   "metadata": {
    "ExecuteTime": {
     "end_time": "2017-11-06T16:54:02.144417Z",
     "start_time": "2017-11-06T16:54:02.126662Z"
    }
   },
   "outputs": [
    {
     "data": {
      "text/html": [
       "<div>\n",
       "<style scoped>\n",
       "    .dataframe tbody tr th:only-of-type {\n",
       "        vertical-align: middle;\n",
       "    }\n",
       "\n",
       "    .dataframe tbody tr th {\n",
       "        vertical-align: top;\n",
       "    }\n",
       "\n",
       "    .dataframe thead th {\n",
       "        text-align: right;\n",
       "    }\n",
       "</style>\n",
       "<table border=\"1\" class=\"dataframe\">\n",
       "  <thead>\n",
       "    <tr style=\"text-align: right;\">\n",
       "      <th></th>\n",
       "      <th>plant id</th>\n",
       "      <th>nerc</th>\n",
       "      <th>state</th>\n",
       "      <th>year</th>\n",
       "      <th>enc state</th>\n",
       "    </tr>\n",
       "  </thead>\n",
       "  <tbody>\n",
       "    <tr>\n",
       "      <th>94592</th>\n",
       "      <td>52205</td>\n",
       "      <td>WECC</td>\n",
       "      <td>CA</td>\n",
       "      <td>2002</td>\n",
       "      <td>4</td>\n",
       "    </tr>\n",
       "    <tr>\n",
       "      <th>94593</th>\n",
       "      <td>52205</td>\n",
       "      <td>WECC</td>\n",
       "      <td>CA</td>\n",
       "      <td>2001</td>\n",
       "      <td>4</td>\n",
       "    </tr>\n",
       "    <tr>\n",
       "      <th>94604</th>\n",
       "      <td>56508</td>\n",
       "      <td>WECC</td>\n",
       "      <td>CA</td>\n",
       "      <td>2007</td>\n",
       "      <td>4</td>\n",
       "    </tr>\n",
       "    <tr>\n",
       "      <th>94684</th>\n",
       "      <td>596</td>\n",
       "      <td>RFC</td>\n",
       "      <td>DE</td>\n",
       "      <td>2004</td>\n",
       "      <td>8</td>\n",
       "    </tr>\n",
       "    <tr>\n",
       "      <th>94685</th>\n",
       "      <td>596</td>\n",
       "      <td>RFC</td>\n",
       "      <td>DE</td>\n",
       "      <td>2003</td>\n",
       "      <td>8</td>\n",
       "    </tr>\n",
       "  </tbody>\n",
       "</table>\n",
       "</div>"
      ],
      "text/plain": [
       "       plant id  nerc state  year  enc state\n",
       "94592     52205  WECC    CA  2002          4\n",
       "94593     52205  WECC    CA  2001          4\n",
       "94604     56508  WECC    CA  2007          4\n",
       "94684       596   RFC    DE  2004          8\n",
       "94685       596   RFC    DE  2003          8"
      ]
     },
     "execution_count": 251,
     "metadata": {},
     "output_type": "execute_result"
    }
   ],
   "source": [
    "unknown_state.tail()"
   ]
  },
  {
   "cell_type": "code",
   "execution_count": 141,
   "metadata": {
    "ExecuteTime": {
     "end_time": "2017-11-06T16:54:06.371732Z",
     "start_time": "2017-11-06T16:54:06.354901Z"
    }
   },
   "outputs": [
    {
     "data": {
      "text/html": [
       "<div>\n",
       "<style scoped>\n",
       "    .dataframe tbody tr th:only-of-type {\n",
       "        vertical-align: middle;\n",
       "    }\n",
       "\n",
       "    .dataframe tbody tr th {\n",
       "        vertical-align: top;\n",
       "    }\n",
       "\n",
       "    .dataframe thead th {\n",
       "        text-align: right;\n",
       "    }\n",
       "</style>\n",
       "<table border=\"1\" class=\"dataframe\">\n",
       "  <thead>\n",
       "    <tr style=\"text-align: right;\">\n",
       "      <th></th>\n",
       "      <th>plant id</th>\n",
       "      <th>lat</th>\n",
       "      <th>lon</th>\n",
       "      <th>nerc</th>\n",
       "      <th>state</th>\n",
       "      <th>year</th>\n",
       "    </tr>\n",
       "  </thead>\n",
       "  <tbody>\n",
       "    <tr>\n",
       "      <th>0</th>\n",
       "      <td>1001</td>\n",
       "      <td>39.9242</td>\n",
       "      <td>-87.4244</td>\n",
       "      <td>RFC</td>\n",
       "      <td>IN</td>\n",
       "      <td>2017</td>\n",
       "    </tr>\n",
       "    <tr>\n",
       "      <th>1</th>\n",
       "      <td>1001</td>\n",
       "      <td>39.9242</td>\n",
       "      <td>-87.4244</td>\n",
       "      <td>RFC</td>\n",
       "      <td>IN</td>\n",
       "      <td>2016</td>\n",
       "    </tr>\n",
       "    <tr>\n",
       "      <th>2</th>\n",
       "      <td>1001</td>\n",
       "      <td>39.9242</td>\n",
       "      <td>-87.4244</td>\n",
       "      <td>RFC</td>\n",
       "      <td>IN</td>\n",
       "      <td>2015</td>\n",
       "    </tr>\n",
       "    <tr>\n",
       "      <th>3</th>\n",
       "      <td>1001</td>\n",
       "      <td>39.9242</td>\n",
       "      <td>-87.4244</td>\n",
       "      <td>RFC</td>\n",
       "      <td>IN</td>\n",
       "      <td>2014</td>\n",
       "    </tr>\n",
       "    <tr>\n",
       "      <th>4</th>\n",
       "      <td>1001</td>\n",
       "      <td>39.9242</td>\n",
       "      <td>-87.4244</td>\n",
       "      <td>RFC</td>\n",
       "      <td>IN</td>\n",
       "      <td>2013</td>\n",
       "    </tr>\n",
       "  </tbody>\n",
       "</table>\n",
       "</div>"
      ],
      "text/plain": [
       "   plant id      lat      lon nerc state  year\n",
       "0      1001  39.9242 -87.4244  RFC    IN  2017\n",
       "1      1001  39.9242 -87.4244  RFC    IN  2016\n",
       "2      1001  39.9242 -87.4244  RFC    IN  2015\n",
       "3      1001  39.9242 -87.4244  RFC    IN  2014\n",
       "4      1001  39.9242 -87.4244  RFC    IN  2013"
      ]
     },
     "execution_count": 141,
     "metadata": {},
     "output_type": "execute_result"
    }
   ],
   "source": [
    "df_slim.head()"
   ]
  },
  {
   "cell_type": "code",
   "execution_count": 252,
   "metadata": {
    "ExecuteTime": {
     "end_time": "2017-11-06T16:54:07.622073Z",
     "start_time": "2017-11-06T16:54:07.597436Z"
    },
    "collapsed": true
   },
   "outputs": [],
   "source": [
    "labeled = pd.concat([df_slim.loc[df_slim.notnull().all(axis=1)],\n",
    "                     unknown,\n",
    "                     unknown_state.loc[:, ['plant id', 'nerc', 'state', 'year']]])"
   ]
  },
  {
   "cell_type": "code",
   "execution_count": 254,
   "metadata": {},
   "outputs": [
    {
     "data": {
      "text/html": [
       "<div>\n",
       "<style scoped>\n",
       "    .dataframe tbody tr th:only-of-type {\n",
       "        vertical-align: middle;\n",
       "    }\n",
       "\n",
       "    .dataframe tbody tr th {\n",
       "        vertical-align: top;\n",
       "    }\n",
       "\n",
       "    .dataframe thead th {\n",
       "        text-align: right;\n",
       "    }\n",
       "</style>\n",
       "<table border=\"1\" class=\"dataframe\">\n",
       "  <thead>\n",
       "    <tr style=\"text-align: right;\">\n",
       "      <th></th>\n",
       "      <th>lat</th>\n",
       "      <th>lon</th>\n",
       "      <th>nerc</th>\n",
       "      <th>plant id</th>\n",
       "      <th>state</th>\n",
       "      <th>year</th>\n",
       "    </tr>\n",
       "  </thead>\n",
       "  <tbody>\n",
       "    <tr>\n",
       "      <th>94592</th>\n",
       "      <td>NaN</td>\n",
       "      <td>NaN</td>\n",
       "      <td>WECC</td>\n",
       "      <td>52205</td>\n",
       "      <td>CA</td>\n",
       "      <td>2002</td>\n",
       "    </tr>\n",
       "    <tr>\n",
       "      <th>94593</th>\n",
       "      <td>NaN</td>\n",
       "      <td>NaN</td>\n",
       "      <td>WECC</td>\n",
       "      <td>52205</td>\n",
       "      <td>CA</td>\n",
       "      <td>2001</td>\n",
       "    </tr>\n",
       "    <tr>\n",
       "      <th>94604</th>\n",
       "      <td>NaN</td>\n",
       "      <td>NaN</td>\n",
       "      <td>WECC</td>\n",
       "      <td>56508</td>\n",
       "      <td>CA</td>\n",
       "      <td>2007</td>\n",
       "    </tr>\n",
       "    <tr>\n",
       "      <th>94684</th>\n",
       "      <td>NaN</td>\n",
       "      <td>NaN</td>\n",
       "      <td>RFC</td>\n",
       "      <td>596</td>\n",
       "      <td>DE</td>\n",
       "      <td>2004</td>\n",
       "    </tr>\n",
       "    <tr>\n",
       "      <th>94685</th>\n",
       "      <td>NaN</td>\n",
       "      <td>NaN</td>\n",
       "      <td>RFC</td>\n",
       "      <td>596</td>\n",
       "      <td>DE</td>\n",
       "      <td>2003</td>\n",
       "    </tr>\n",
       "  </tbody>\n",
       "</table>\n",
       "</div>"
      ],
      "text/plain": [
       "       lat  lon  nerc  plant id state  year\n",
       "94592  NaN  NaN  WECC     52205    CA  2002\n",
       "94593  NaN  NaN  WECC     52205    CA  2001\n",
       "94604  NaN  NaN  WECC     56508    CA  2007\n",
       "94684  NaN  NaN   RFC       596    DE  2004\n",
       "94685  NaN  NaN   RFC       596    DE  2003"
      ]
     },
     "execution_count": 254,
     "metadata": {},
     "output_type": "execute_result"
    }
   ],
   "source": [
    "labeled.tail()"
   ]
  },
  {
   "cell_type": "code",
   "execution_count": 253,
   "metadata": {
    "ExecuteTime": {
     "end_time": "2017-11-06T16:54:09.653819Z",
     "start_time": "2017-11-06T16:54:09.640776Z"
    }
   },
   "outputs": [
    {
     "data": {
      "text/html": [
       "<div>\n",
       "<style scoped>\n",
       "    .dataframe tbody tr th:only-of-type {\n",
       "        vertical-align: middle;\n",
       "    }\n",
       "\n",
       "    .dataframe tbody tr th {\n",
       "        vertical-align: top;\n",
       "    }\n",
       "\n",
       "    .dataframe thead th {\n",
       "        text-align: right;\n",
       "    }\n",
       "</style>\n",
       "<table border=\"1\" class=\"dataframe\">\n",
       "  <thead>\n",
       "    <tr style=\"text-align: right;\">\n",
       "      <th></th>\n",
       "      <th>lat</th>\n",
       "      <th>lon</th>\n",
       "      <th>nerc</th>\n",
       "      <th>plant id</th>\n",
       "      <th>state</th>\n",
       "      <th>year</th>\n",
       "    </tr>\n",
       "  </thead>\n",
       "  <tbody>\n",
       "  </tbody>\n",
       "</table>\n",
       "</div>"
      ],
      "text/plain": [
       "Empty DataFrame\n",
       "Columns: [lat, lon, nerc, plant id, state, year]\n",
       "Index: []"
      ]
     },
     "execution_count": 253,
     "metadata": {},
     "output_type": "execute_result"
    }
   ],
   "source": [
    "labeled.loc[labeled.nerc.isnull()]"
   ]
  },
  {
   "cell_type": "markdown",
   "metadata": {},
   "source": [
    "There are 7 facilities that don't show up in my labeled data."
   ]
  },
  {
   "cell_type": "code",
   "execution_count": 257,
   "metadata": {},
   "outputs": [
    {
     "data": {
      "text/plain": [
       "array([55314, 55952,  7704,  6339, 55975, 55073, 50728])"
      ]
     },
     "execution_count": 257,
     "metadata": {},
     "output_type": "execute_result"
    }
   ],
   "source": [
    "facility_df.loc[~facility_df['plant id'].isin(labeled['plant id']), 'plant id'].unique()"
   ]
  },
  {
   "cell_type": "code",
   "execution_count": 258,
   "metadata": {
    "ExecuteTime": {
     "end_time": "2017-11-06T16:59:09.744166Z",
     "start_time": "2017-11-06T16:59:09.667898Z"
    },
    "collapsed": true
   },
   "outputs": [],
   "source": [
    "path = join(data_path, 'Facility labels', 'Facility locations_knn.csv')\n",
    "labeled.to_csv(path, index=False)"
   ]
  },
  {
   "cell_type": "code",
   "execution_count": null,
   "metadata": {
    "collapsed": true
   },
   "outputs": [],
   "source": []
  }
 ],
 "metadata": {
  "kernelspec": {
   "display_name": "psci",
   "language": "python",
   "name": "psci"
  },
  "language_info": {
   "codemirror_mode": {
    "name": "ipython",
    "version": 3
   },
   "file_extension": ".py",
   "mimetype": "text/x-python",
   "name": "python",
   "nbconvert_exporter": "python",
   "pygments_lexer": "ipython3",
   "version": "3.6.4"
  },
  "varInspector": {
   "cols": {
    "lenName": 16,
    "lenType": 16,
    "lenVar": 40
   },
   "kernels_config": {
    "python": {
     "delete_cmd_postfix": "",
     "delete_cmd_prefix": "del ",
     "library": "var_list.py",
     "varRefreshCmd": "print(var_dic_list())"
    },
    "r": {
     "delete_cmd_postfix": ") ",
     "delete_cmd_prefix": "rm(",
     "library": "var_list.r",
     "varRefreshCmd": "cat(var_dic_list()) "
    }
   },
   "types_to_exclude": [
    "module",
    "function",
    "builtin_function_or_method",
    "instance",
    "_Feature"
   ],
   "window_display": false
  }
 },
 "nbformat": 4,
 "nbformat_minor": 2
}
