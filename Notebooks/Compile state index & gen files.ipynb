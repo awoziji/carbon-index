{
 "cells": [
  {
   "cell_type": "markdown",
   "metadata": {},
   "source": [
    "# Create files with index and generation data at state level"
   ]
  },
  {
   "cell_type": "code",
   "execution_count": 177,
   "metadata": {
    "ExecuteTime": {
     "end_time": "2017-10-30T21:41:09.623134-04:00",
     "start_time": "2017-10-30T21:41:09.613062Z"
    }
   },
   "outputs": [],
   "source": [
    "%matplotlib inline\n",
    "import matplotlib.pyplot as plt\n",
    "import pandas as pd\n",
    "import seaborn as sns\n",
    "import os\n",
    "from os.path import join\n",
    "import glob\n",
    "import numpy as np\n",
    "from joblib import Parallel, delayed\n",
    "import sys\n",
    "cwd = os.getcwd()\n",
    "data_path = join(cwd, '..', 'Data storage')\n",
    "idx = pd.IndexSlice"
   ]
  },
  {
   "cell_type": "code",
   "execution_count": 4,
   "metadata": {
    "ExecuteTime": {
     "end_time": "2017-10-30T13:22:54.372603-04:00",
     "start_time": "2017-10-30T13:22:54.305835Z"
    },
    "collapsed": true
   },
   "outputs": [],
   "source": [
    "# Load the \"autoreload\" extension\n",
    "%load_ext autoreload\n",
    "\n",
    "# always reload modules marked with \"%aimport\"\n",
    "%autoreload 1"
   ]
  },
  {
   "cell_type": "code",
   "execution_count": 7,
   "metadata": {
    "ExecuteTime": {
     "end_time": "2017-10-30T13:23:03.867827-04:00",
     "start_time": "2017-10-30T13:23:03.862584Z"
    }
   },
   "outputs": [],
   "source": [
    "# add the 'src' directory as one where we can import modules\n",
    "src_dir = join(os.getcwd(), os.pardir, 'src')\n",
    "sys.path.append(src_dir)"
   ]
  },
  {
   "cell_type": "code",
   "execution_count": 210,
   "metadata": {
    "ExecuteTime": {
     "end_time": "2017-10-30T22:34:38.789596-04:00",
     "start_time": "2017-10-30T22:34:38.773074Z"
    }
   },
   "outputs": [],
   "source": [
    "%aimport Analysis.index\n",
    "from Analysis.index import facility_emission_gen, group_facility_data\n",
    "%aimport Analysis.index\n",
    "from Analysis.index import facility_co2, adjust_epa_emissions, group_fuel_cats\n",
    "%aimport Analysis.index\n",
    "from Analysis.index import extra_emissions_gen, add_datetime, add_quarter\n",
    "%aimport util.utils\n",
    "from util.utils import rename_cols, add_facility_location"
   ]
  },
  {
   "cell_type": "code",
   "execution_count": 10,
   "metadata": {
    "ExecuteTime": {
     "end_time": "2017-10-30T13:23:58.790987-04:00",
     "start_time": "2017-10-30T13:23:58.783720Z"
    },
    "collapsed": true
   },
   "outputs": [],
   "source": [
    "states = [\"AL\", \"AK\", \"AZ\", \"AR\", \"CA\", \"CO\", \"CT\", \"DE\",\n",
    "          \"FL\", \"GA\", \"HI\", \"ID\", \"IL\", \"IN\", \"IA\", \"KS\",\n",
    "          \"KY\", \"LA\", \"ME\", \"MD\", \"MA\", \"MI\", \"MN\", \"MS\",\n",
    "          \"MO\", \"MT\", \"NE\", \"NV\", \"NH\", \"NJ\", \"NM\", \"NY\",\n",
    "          \"NC\", \"ND\", \"OH\", \"OK\", \"OR\", \"PA\", \"RI\", \"SC\",\n",
    "          \"SD\", \"TN\", \"TX\", \"UT\", \"VT\", \"VA\", \"WA\", \"WV\", \"WI\", \"WY\"]"
   ]
  },
  {
   "cell_type": "markdown",
   "metadata": {},
   "source": [
    "## Load data"
   ]
  },
  {
   "cell_type": "markdown",
   "metadata": {},
   "source": [
    "Emission factors"
   ]
  },
  {
   "cell_type": "code",
   "execution_count": 43,
   "metadata": {
    "ExecuteTime": {
     "end_time": "2017-10-30T14:10:58.102223-04:00",
     "start_time": "2017-10-30T14:10:58.093963Z"
    },
    "collapsed": true
   },
   "outputs": [],
   "source": [
    "path = join(data_path, 'Final emission factors.csv')\n",
    "ef = pd.read_csv(path, index_col=0)"
   ]
  },
  {
   "cell_type": "markdown",
   "metadata": {},
   "source": [
    "EIA facility data and EPA monthly emissions"
   ]
  },
  {
   "cell_type": "code",
   "execution_count": 13,
   "metadata": {
    "ExecuteTime": {
     "end_time": "2017-10-30T13:30:11.471354-04:00",
     "start_time": "2017-10-30T13:30:04.111795Z"
    }
   },
   "outputs": [],
   "source": [
    "facility_path = join(data_path, 'Facility gen fuels and CO2 2017-08-31.zip')\n",
    "facility_df = pd.read_csv(facility_path)\n",
    "facility_df['state'] = facility_df.geography.str[-2:]\n",
    "rename_cols(facility_df)\n",
    "\n",
    "epa_path = join(data_path, 'Derived data',\n",
    "                'Monthly EPA emissions 2017-08-31.csv')\n",
    "epa_df = pd.read_csv(epa_path)\n",
    "rename_cols(epa_df)\n",
    "facility_locations = pd.read_csv(join(data_path, 'Facility labels',\n",
    "                                      'Facility locations.csv'))\n",
    "# Add state labels to the EPA facilities\n",
    "epa_df = add_facility_location(epa_df, facility_locations, labels=['state'])"
   ]
  },
  {
   "cell_type": "code",
   "execution_count": 24,
   "metadata": {
    "ExecuteTime": {
     "end_time": "2017-10-30T13:57:01.512630-04:00",
     "start_time": "2017-10-30T13:57:01.457414Z"
    }
   },
   "outputs": [
    {
     "data": {
      "text/html": [
       "<div>\n",
       "<style>\n",
       "    .dataframe thead tr:only-child th {\n",
       "        text-align: right;\n",
       "    }\n",
       "\n",
       "    .dataframe thead th {\n",
       "        text-align: left;\n",
       "    }\n",
       "\n",
       "    .dataframe tbody tr th {\n",
       "        vertical-align: top;\n",
       "    }\n",
       "</style>\n",
       "<table border=\"1\" class=\"dataframe\">\n",
       "  <thead>\n",
       "    <tr style=\"text-align: right;\">\n",
       "      <th></th>\n",
       "      <th>f</th>\n",
       "      <th>fuel</th>\n",
       "      <th>month</th>\n",
       "      <th>plant id</th>\n",
       "      <th>total fuel (mmbtu)</th>\n",
       "      <th>year</th>\n",
       "      <th>generation (mwh)</th>\n",
       "      <th>elec fuel (mmbtu)</th>\n",
       "      <th>geography</th>\n",
       "      <th>last_updated</th>\n",
       "      <th>lat</th>\n",
       "      <th>lon</th>\n",
       "      <th>prime mover</th>\n",
       "      <th>datetime</th>\n",
       "      <th>quarter</th>\n",
       "      <th>all fuel fossil co2 (kg)</th>\n",
       "      <th>elec fuel fossil co2 (kg)</th>\n",
       "      <th>all fuel total co2 (kg)</th>\n",
       "      <th>elec fuel total co2 (kg)</th>\n",
       "      <th>state</th>\n",
       "    </tr>\n",
       "  </thead>\n",
       "  <tbody>\n",
       "    <tr>\n",
       "      <th>0</th>\n",
       "      <td>M</td>\n",
       "      <td>SUB</td>\n",
       "      <td>6</td>\n",
       "      <td>10360</td>\n",
       "      <td>0.0</td>\n",
       "      <td>2017</td>\n",
       "      <td>0.0</td>\n",
       "      <td>0.0</td>\n",
       "      <td>USA-WI</td>\n",
       "      <td>2017-08-24T11:46:12-04:00</td>\n",
       "      <td>44.4936</td>\n",
       "      <td>-88.0303</td>\n",
       "      <td>ALL</td>\n",
       "      <td>2017-06-01</td>\n",
       "      <td>2</td>\n",
       "      <td>0.0</td>\n",
       "      <td>0.0</td>\n",
       "      <td>0.0</td>\n",
       "      <td>0.0</td>\n",
       "      <td>WI</td>\n",
       "    </tr>\n",
       "    <tr>\n",
       "      <th>1</th>\n",
       "      <td>M</td>\n",
       "      <td>SUB</td>\n",
       "      <td>5</td>\n",
       "      <td>10360</td>\n",
       "      <td>0.0</td>\n",
       "      <td>2017</td>\n",
       "      <td>0.0</td>\n",
       "      <td>0.0</td>\n",
       "      <td>USA-WI</td>\n",
       "      <td>2017-08-24T11:46:12-04:00</td>\n",
       "      <td>44.4936</td>\n",
       "      <td>-88.0303</td>\n",
       "      <td>ALL</td>\n",
       "      <td>2017-05-01</td>\n",
       "      <td>2</td>\n",
       "      <td>0.0</td>\n",
       "      <td>0.0</td>\n",
       "      <td>0.0</td>\n",
       "      <td>0.0</td>\n",
       "      <td>WI</td>\n",
       "    </tr>\n",
       "    <tr>\n",
       "      <th>2</th>\n",
       "      <td>M</td>\n",
       "      <td>SUB</td>\n",
       "      <td>4</td>\n",
       "      <td>10360</td>\n",
       "      <td>0.0</td>\n",
       "      <td>2017</td>\n",
       "      <td>0.0</td>\n",
       "      <td>0.0</td>\n",
       "      <td>USA-WI</td>\n",
       "      <td>2017-08-24T11:46:12-04:00</td>\n",
       "      <td>44.4936</td>\n",
       "      <td>-88.0303</td>\n",
       "      <td>ALL</td>\n",
       "      <td>2017-04-01</td>\n",
       "      <td>2</td>\n",
       "      <td>0.0</td>\n",
       "      <td>0.0</td>\n",
       "      <td>0.0</td>\n",
       "      <td>0.0</td>\n",
       "      <td>WI</td>\n",
       "    </tr>\n",
       "    <tr>\n",
       "      <th>3</th>\n",
       "      <td>M</td>\n",
       "      <td>SUB</td>\n",
       "      <td>3</td>\n",
       "      <td>10360</td>\n",
       "      <td>0.0</td>\n",
       "      <td>2017</td>\n",
       "      <td>0.0</td>\n",
       "      <td>0.0</td>\n",
       "      <td>USA-WI</td>\n",
       "      <td>2017-08-24T11:46:12-04:00</td>\n",
       "      <td>44.4936</td>\n",
       "      <td>-88.0303</td>\n",
       "      <td>ALL</td>\n",
       "      <td>2017-03-01</td>\n",
       "      <td>1</td>\n",
       "      <td>0.0</td>\n",
       "      <td>0.0</td>\n",
       "      <td>0.0</td>\n",
       "      <td>0.0</td>\n",
       "      <td>WI</td>\n",
       "    </tr>\n",
       "    <tr>\n",
       "      <th>4</th>\n",
       "      <td>M</td>\n",
       "      <td>SUB</td>\n",
       "      <td>2</td>\n",
       "      <td>10360</td>\n",
       "      <td>0.0</td>\n",
       "      <td>2017</td>\n",
       "      <td>0.0</td>\n",
       "      <td>0.0</td>\n",
       "      <td>USA-WI</td>\n",
       "      <td>2017-08-24T11:46:12-04:00</td>\n",
       "      <td>44.4936</td>\n",
       "      <td>-88.0303</td>\n",
       "      <td>ALL</td>\n",
       "      <td>2017-02-01</td>\n",
       "      <td>1</td>\n",
       "      <td>0.0</td>\n",
       "      <td>0.0</td>\n",
       "      <td>0.0</td>\n",
       "      <td>0.0</td>\n",
       "      <td>WI</td>\n",
       "    </tr>\n",
       "  </tbody>\n",
       "</table>\n",
       "</div>"
      ],
      "text/plain": [
       "   f fuel  month  plant id  total fuel (mmbtu)  year  generation (mwh)  \\\n",
       "0  M  SUB      6     10360                 0.0  2017               0.0   \n",
       "1  M  SUB      5     10360                 0.0  2017               0.0   \n",
       "2  M  SUB      4     10360                 0.0  2017               0.0   \n",
       "3  M  SUB      3     10360                 0.0  2017               0.0   \n",
       "4  M  SUB      2     10360                 0.0  2017               0.0   \n",
       "\n",
       "   elec fuel (mmbtu) geography               last_updated      lat      lon  \\\n",
       "0                0.0    USA-WI  2017-08-24T11:46:12-04:00  44.4936 -88.0303   \n",
       "1                0.0    USA-WI  2017-08-24T11:46:12-04:00  44.4936 -88.0303   \n",
       "2                0.0    USA-WI  2017-08-24T11:46:12-04:00  44.4936 -88.0303   \n",
       "3                0.0    USA-WI  2017-08-24T11:46:12-04:00  44.4936 -88.0303   \n",
       "4                0.0    USA-WI  2017-08-24T11:46:12-04:00  44.4936 -88.0303   \n",
       "\n",
       "  prime mover    datetime  quarter  all fuel fossil co2 (kg)  \\\n",
       "0         ALL  2017-06-01        2                       0.0   \n",
       "1         ALL  2017-05-01        2                       0.0   \n",
       "2         ALL  2017-04-01        2                       0.0   \n",
       "3         ALL  2017-03-01        1                       0.0   \n",
       "4         ALL  2017-02-01        1                       0.0   \n",
       "\n",
       "   elec fuel fossil co2 (kg)  all fuel total co2 (kg)  \\\n",
       "0                        0.0                      0.0   \n",
       "1                        0.0                      0.0   \n",
       "2                        0.0                      0.0   \n",
       "3                        0.0                      0.0   \n",
       "4                        0.0                      0.0   \n",
       "\n",
       "   elec fuel total co2 (kg) state  \n",
       "0                       0.0    WI  \n",
       "1                       0.0    WI  \n",
       "2                       0.0    WI  \n",
       "3                       0.0    WI  \n",
       "4                       0.0    WI  "
      ]
     },
     "execution_count": 24,
     "metadata": {},
     "output_type": "execute_result"
    }
   ],
   "source": [
    "facility_df.head()"
   ]
  },
  {
   "cell_type": "code",
   "execution_count": 18,
   "metadata": {
    "ExecuteTime": {
     "end_time": "2017-10-30T13:34:43.560240-04:00",
     "start_time": "2017-10-30T13:34:43.527135Z"
    }
   },
   "outputs": [
    {
     "data": {
      "text/html": [
       "<div>\n",
       "<style>\n",
       "    .dataframe thead tr:only-child th {\n",
       "        text-align: right;\n",
       "    }\n",
       "\n",
       "    .dataframe thead th {\n",
       "        text-align: left;\n",
       "    }\n",
       "\n",
       "    .dataframe tbody tr th {\n",
       "        vertical-align: top;\n",
       "    }\n",
       "</style>\n",
       "<table border=\"1\" class=\"dataframe\">\n",
       "  <thead>\n",
       "    <tr style=\"text-align: right;\">\n",
       "      <th></th>\n",
       "      <th>co2_mass (kg)</th>\n",
       "      <th>gload (mw)</th>\n",
       "      <th>heat_input (mmbtu)</th>\n",
       "      <th>month</th>\n",
       "      <th>op_time</th>\n",
       "      <th>plant id</th>\n",
       "      <th>sload (1000lb/hr)</th>\n",
       "      <th>year</th>\n",
       "      <th>state</th>\n",
       "    </tr>\n",
       "  </thead>\n",
       "  <tbody>\n",
       "    <tr>\n",
       "      <th>0</th>\n",
       "      <td>9.625411e+08</td>\n",
       "      <td>1167596.0</td>\n",
       "      <td>1.113000e+07</td>\n",
       "      <td>1</td>\n",
       "      <td>4348.25</td>\n",
       "      <td>3</td>\n",
       "      <td>NaN</td>\n",
       "      <td>2001</td>\n",
       "      <td>AL</td>\n",
       "    </tr>\n",
       "    <tr>\n",
       "      <th>1</th>\n",
       "      <td>8.208495e+08</td>\n",
       "      <td>880517.0</td>\n",
       "      <td>8.951275e+06</td>\n",
       "      <td>2</td>\n",
       "      <td>3391.00</td>\n",
       "      <td>3</td>\n",
       "      <td>NaN</td>\n",
       "      <td>2001</td>\n",
       "      <td>AL</td>\n",
       "    </tr>\n",
       "    <tr>\n",
       "      <th>2</th>\n",
       "      <td>6.402928e+08</td>\n",
       "      <td>735523.0</td>\n",
       "      <td>7.175850e+06</td>\n",
       "      <td>3</td>\n",
       "      <td>3846.50</td>\n",
       "      <td>3</td>\n",
       "      <td>NaN</td>\n",
       "      <td>2001</td>\n",
       "      <td>AL</td>\n",
       "    </tr>\n",
       "    <tr>\n",
       "      <th>3</th>\n",
       "      <td>7.417879e+08</td>\n",
       "      <td>898023.0</td>\n",
       "      <td>8.519262e+06</td>\n",
       "      <td>4</td>\n",
       "      <td>4292.75</td>\n",
       "      <td>3</td>\n",
       "      <td>NaN</td>\n",
       "      <td>2001</td>\n",
       "      <td>AL</td>\n",
       "    </tr>\n",
       "    <tr>\n",
       "      <th>4</th>\n",
       "      <td>9.767243e+08</td>\n",
       "      <td>1230441.0</td>\n",
       "      <td>1.138663e+07</td>\n",
       "      <td>5</td>\n",
       "      <td>5029.75</td>\n",
       "      <td>3</td>\n",
       "      <td>NaN</td>\n",
       "      <td>2001</td>\n",
       "      <td>AL</td>\n",
       "    </tr>\n",
       "  </tbody>\n",
       "</table>\n",
       "</div>"
      ],
      "text/plain": [
       "   co2_mass (kg)  gload (mw)  heat_input (mmbtu)  month  op_time  plant id  \\\n",
       "0   9.625411e+08   1167596.0        1.113000e+07      1  4348.25         3   \n",
       "1   8.208495e+08    880517.0        8.951275e+06      2  3391.00         3   \n",
       "2   6.402928e+08    735523.0        7.175850e+06      3  3846.50         3   \n",
       "3   7.417879e+08    898023.0        8.519262e+06      4  4292.75         3   \n",
       "4   9.767243e+08   1230441.0        1.138663e+07      5  5029.75         3   \n",
       "\n",
       "   sload (1000lb/hr)  year state  \n",
       "0                NaN  2001    AL  \n",
       "1                NaN  2001    AL  \n",
       "2                NaN  2001    AL  \n",
       "3                NaN  2001    AL  \n",
       "4                NaN  2001    AL  "
      ]
     },
     "execution_count": 18,
     "metadata": {},
     "output_type": "execute_result"
    }
   ],
   "source": [
    "epa_df.head()"
   ]
  },
  {
   "cell_type": "markdown",
   "metadata": {},
   "source": [
    "JSON files with fuel categories"
   ]
  },
  {
   "cell_type": "code",
   "execution_count": 143,
   "metadata": {
    "ExecuteTime": {
     "end_time": "2017-10-30T20:55:57.394622-04:00",
     "start_time": "2017-10-30T20:55:57.385146Z"
    },
    "collapsed": true
   },
   "outputs": [],
   "source": [
    "fuel_cat_folder = join(data_path, 'Fuel categories')\n",
    "state_cats_path = join(fuel_cat_folder, 'State_facility.json')\n",
    "\n",
    "with open(state_cats_path, 'r') as f:\n",
    "    state_fuel_cat = json.load(f)\n",
    "    \n",
    "custom_cats_path = join(fuel_cat_folder, 'Custom_results.json')\n",
    "with open(custom_cats_path, 'r') as f:\n",
    "    custom_fuel_cat = json.load(f)"
   ]
  },
  {
   "cell_type": "markdown",
   "metadata": {},
   "source": [
    "EIA total monthly gen and fuel consumption"
   ]
  },
  {
   "cell_type": "code",
   "execution_count": 266,
   "metadata": {
    "ExecuteTime": {
     "end_time": "2017-10-31T00:31:33.194701-04:00",
     "start_time": "2017-10-31T00:31:31.847332Z"
    }
   },
   "outputs": [],
   "source": [
    "eia_totals = pd.read_csv(join(data_path, 'EIA state-level gen fuel CO2.csv'),\n",
    "                         parse_dates=['datetime'])\n",
    "rename_cols(eia_totals)\n",
    "eia_totals['state'] = eia_totals.series_id.str.split('-').str[-2]\n",
    "eia_totals['type'] = (eia_totals.series_id.str\n",
    "                      .split('-').str[0].str\n",
    "                      .split('.').str[-1]\n",
    "                      )\n",
    "eia_totals['year'] = eia_totals.datetime.dt.year\n",
    "eia_totals['month'] = eia_totals.datetime.dt.month\n",
    "eia_totals = eia_totals.loc[~eia_totals.type.isin(['SPV', 'AOR', 'TSN'])]"
   ]
  },
  {
   "cell_type": "code",
   "execution_count": 155,
   "metadata": {
    "ExecuteTime": {
     "end_time": "2017-10-30T21:08:31.957336-04:00",
     "start_time": "2017-10-30T21:08:31.913421Z"
    }
   },
   "outputs": [
    {
     "data": {
      "text/html": [
       "<div>\n",
       "<style>\n",
       "    .dataframe thead tr:only-child th {\n",
       "        text-align: right;\n",
       "    }\n",
       "\n",
       "    .dataframe thead th {\n",
       "        text-align: left;\n",
       "    }\n",
       "\n",
       "    .dataframe tbody tr th {\n",
       "        vertical-align: top;\n",
       "    }\n",
       "</style>\n",
       "<table border=\"1\" class=\"dataframe\">\n",
       "  <thead>\n",
       "    <tr style=\"text-align: right;\">\n",
       "      <th></th>\n",
       "      <th>end</th>\n",
       "      <th>f</th>\n",
       "      <th>last_updated</th>\n",
       "      <th>sector</th>\n",
       "      <th>series_id</th>\n",
       "      <th>start</th>\n",
       "      <th>units</th>\n",
       "      <th>generation (mwh)</th>\n",
       "      <th>total fuel (mmbtu)</th>\n",
       "      <th>elec fuel (mmbtu)</th>\n",
       "      <th>all fuel co2 (kg)</th>\n",
       "      <th>elec fuel co2 (kg)</th>\n",
       "      <th>datetime</th>\n",
       "      <th>quarter</th>\n",
       "      <th>state</th>\n",
       "      <th>type</th>\n",
       "      <th>year</th>\n",
       "      <th>month</th>\n",
       "    </tr>\n",
       "  </thead>\n",
       "  <tbody>\n",
       "    <tr>\n",
       "      <th>9826</th>\n",
       "      <td>201706.0</td>\n",
       "      <td>M</td>\n",
       "      <td>2017-08-24T11:46:12-04:00</td>\n",
       "      <td>99.0</td>\n",
       "      <td>ELEC.GEN.COW-AK-99.M</td>\n",
       "      <td>200101.0</td>\n",
       "      <td>megawatthours</td>\n",
       "      <td>46903.0</td>\n",
       "      <td>1120000.0</td>\n",
       "      <td>872000.0</td>\n",
       "      <td>1.066800e+08</td>\n",
       "      <td>8.305800e+07</td>\n",
       "      <td>2001-01-01</td>\n",
       "      <td>1</td>\n",
       "      <td>AK</td>\n",
       "      <td>COW</td>\n",
       "      <td>2001</td>\n",
       "      <td>1</td>\n",
       "    </tr>\n",
       "    <tr>\n",
       "      <th>9827</th>\n",
       "      <td>201706.0</td>\n",
       "      <td>M</td>\n",
       "      <td>2017-08-24T11:46:12-04:00</td>\n",
       "      <td>99.0</td>\n",
       "      <td>ELEC.GEN.COW-AL-99.M</td>\n",
       "      <td>200101.0</td>\n",
       "      <td>megawatthours</td>\n",
       "      <td>6557913.0</td>\n",
       "      <td>67999000.0</td>\n",
       "      <td>66582000.0</td>\n",
       "      <td>6.476905e+09</td>\n",
       "      <td>6.341936e+09</td>\n",
       "      <td>2001-01-01</td>\n",
       "      <td>1</td>\n",
       "      <td>AL</td>\n",
       "      <td>COW</td>\n",
       "      <td>2001</td>\n",
       "      <td>1</td>\n",
       "    </tr>\n",
       "    <tr>\n",
       "      <th>9828</th>\n",
       "      <td>201706.0</td>\n",
       "      <td>M</td>\n",
       "      <td>2017-08-24T11:46:12-04:00</td>\n",
       "      <td>99.0</td>\n",
       "      <td>ELEC.GEN.COW-AR-99.M</td>\n",
       "      <td>200101.0</td>\n",
       "      <td>megawatthours</td>\n",
       "      <td>2149808.0</td>\n",
       "      <td>23099000.0</td>\n",
       "      <td>22700000.0</td>\n",
       "      <td>2.200180e+09</td>\n",
       "      <td>2.162175e+09</td>\n",
       "      <td>2001-01-01</td>\n",
       "      <td>1</td>\n",
       "      <td>AR</td>\n",
       "      <td>COW</td>\n",
       "      <td>2001</td>\n",
       "      <td>1</td>\n",
       "    </tr>\n",
       "    <tr>\n",
       "      <th>9829</th>\n",
       "      <td>201706.0</td>\n",
       "      <td>M</td>\n",
       "      <td>2017-08-24T11:46:12-04:00</td>\n",
       "      <td>99.0</td>\n",
       "      <td>ELEC.GEN.COW-AZ-99.M</td>\n",
       "      <td>200101.0</td>\n",
       "      <td>megawatthours</td>\n",
       "      <td>3418454.0</td>\n",
       "      <td>35873000.0</td>\n",
       "      <td>35483000.0</td>\n",
       "      <td>3.416903e+09</td>\n",
       "      <td>3.379756e+09</td>\n",
       "      <td>2001-01-01</td>\n",
       "      <td>1</td>\n",
       "      <td>AZ</td>\n",
       "      <td>COW</td>\n",
       "      <td>2001</td>\n",
       "      <td>1</td>\n",
       "    </tr>\n",
       "    <tr>\n",
       "      <th>9830</th>\n",
       "      <td>201706.0</td>\n",
       "      <td>M</td>\n",
       "      <td>2017-08-24T11:46:12-04:00</td>\n",
       "      <td>99.0</td>\n",
       "      <td>ELEC.GEN.COW-CA-99.M</td>\n",
       "      <td>200101.0</td>\n",
       "      <td>megawatthours</td>\n",
       "      <td>199857.0</td>\n",
       "      <td>3652000.0</td>\n",
       "      <td>2008000.0</td>\n",
       "      <td>3.478530e+08</td>\n",
       "      <td>1.912620e+08</td>\n",
       "      <td>2001-01-01</td>\n",
       "      <td>1</td>\n",
       "      <td>CA</td>\n",
       "      <td>COW</td>\n",
       "      <td>2001</td>\n",
       "      <td>1</td>\n",
       "    </tr>\n",
       "  </tbody>\n",
       "</table>\n",
       "</div>"
      ],
      "text/plain": [
       "           end  f               last_updated  sector             series_id  \\\n",
       "9826  201706.0  M  2017-08-24T11:46:12-04:00    99.0  ELEC.GEN.COW-AK-99.M   \n",
       "9827  201706.0  M  2017-08-24T11:46:12-04:00    99.0  ELEC.GEN.COW-AL-99.M   \n",
       "9828  201706.0  M  2017-08-24T11:46:12-04:00    99.0  ELEC.GEN.COW-AR-99.M   \n",
       "9829  201706.0  M  2017-08-24T11:46:12-04:00    99.0  ELEC.GEN.COW-AZ-99.M   \n",
       "9830  201706.0  M  2017-08-24T11:46:12-04:00    99.0  ELEC.GEN.COW-CA-99.M   \n",
       "\n",
       "         start          units  generation (mwh)  total fuel (mmbtu)  \\\n",
       "9826  200101.0  megawatthours           46903.0           1120000.0   \n",
       "9827  200101.0  megawatthours         6557913.0          67999000.0   \n",
       "9828  200101.0  megawatthours         2149808.0          23099000.0   \n",
       "9829  200101.0  megawatthours         3418454.0          35873000.0   \n",
       "9830  200101.0  megawatthours          199857.0           3652000.0   \n",
       "\n",
       "      elec fuel (mmbtu)  all fuel co2 (kg)  elec fuel co2 (kg)   datetime  \\\n",
       "9826           872000.0       1.066800e+08        8.305800e+07 2001-01-01   \n",
       "9827         66582000.0       6.476905e+09        6.341936e+09 2001-01-01   \n",
       "9828         22700000.0       2.200180e+09        2.162175e+09 2001-01-01   \n",
       "9829         35483000.0       3.416903e+09        3.379756e+09 2001-01-01   \n",
       "9830          2008000.0       3.478530e+08        1.912620e+08 2001-01-01   \n",
       "\n",
       "      quarter state type  year  month  \n",
       "9826        1    AK  COW  2001      1  \n",
       "9827        1    AL  COW  2001      1  \n",
       "9828        1    AR  COW  2001      1  \n",
       "9829        1    AZ  COW  2001      1  \n",
       "9830        1    CA  COW  2001      1  "
      ]
     },
     "execution_count": 155,
     "metadata": {},
     "output_type": "execute_result"
    }
   ],
   "source": [
    "eia_totals.head()"
   ]
  },
  {
   "cell_type": "markdown",
   "metadata": {},
   "source": [
    "## Calculate state-level monthly CO₂ intensity and generation by fuel category"
   ]
  },
  {
   "cell_type": "code",
   "execution_count": 271,
   "metadata": {
    "ExecuteTime": {
     "end_time": "2017-10-31T00:34:57.361630-04:00",
     "start_time": "2017-10-31T00:34:26.908560Z"
    }
   },
   "outputs": [],
   "source": [
    "index_list = []\n",
    "gen_list = []\n",
    "for state in states:\n",
    "    eia_fac_state = facility_df.loc[facility_df.state == state].copy()\n",
    "    eia_totals_state = eia_totals.loc[eia_totals.state == state].copy()\n",
    "    epa_state = epa_df.loc[epa_df.state == state].copy()\n",
    "    \n",
    "\n",
    "    co2, gen_fuels_state = facility_emission_gen(eia_facility=eia_fac_state,\n",
    "                                                 epa=epa_state,\n",
    "                                                 state_fuel_cat=state_fuel_cat,\n",
    "                                                 custom_fuel_cat=custom_fuel_cat,\n",
    "                                                 export_state_cats=True,\n",
    "                                                 print_status=False)\n",
    "    \n",
    "    extra_co2, extra_gen = extra_emissions_gen(gen_fuels_state,\n",
    "                                               eia_totals_state, ef)\n",
    "    \n",
    "    # Combine facility and extra co2, name the series\n",
    "    co2_monthly = co2.groupby(['year', 'month']).sum()\n",
    "    total_co2 = (co2_monthly.loc[:, 'final co2 (kg)']\n",
    "                 + extra_co2.loc[:, 'elec fuel co2 (kg)']\n",
    "                            .groupby(['year', 'month']).sum())\n",
    "    total_co2.name = 'final co2 (kg)'\n",
    "    \n",
    "    # Total gen, and the co2 intensity\n",
    "    total_gen = (eia_totals_state\n",
    "                 .groupby(['year', 'month'])['generation (mwh)'].sum())\n",
    "    \n",
    "    state_index = pd.concat([total_co2, total_gen], axis=1)\n",
    "    state_index['index (g/kwh)'] = (state_index['final co2 (kg)']\n",
    "                                    / state_index['generation (mwh)'])\n",
    "    state_index['state'] = state\n",
    "    state_index.set_index('state', append=True, inplace=True)\n",
    "    \n",
    "    # Generation by fuel category\n",
    "    gen_category = group_fuel_cats(eia_totals_state, custom_fuel_cat, \n",
    "                                   fuel_col='type', new_col='fuel category')\n",
    "    \n",
    "    keep_cols = ['fuel category', 'generation (mwh)', 'total fuel (mmbtu)',\n",
    "                 'elec fuel (mmbtu)', 'all fuel co2 (kg)',\n",
    "                 'elec fuel co2 (kg)', 'year', 'month']\n",
    "    gen_category = gen_category[keep_cols]\n",
    "    gen_category['state'] = state\n",
    "    gen_category.set_index(['year', 'month', 'state'], inplace=True)\n",
    "    \n",
    "    # Add each df to the list\n",
    "    index_list.append(state_index)\n",
    "    gen_list.append(gen_category)\n",
    "\n",
    "\n",
    "# Combine lists of dataframes\n",
    "state_index_all = pd.concat(index_list)\n",
    "add_quarter(state_index_all)\n",
    "\n",
    "gen_category_all = pd.concat(gen_list)\n",
    "add_quarter(gen_category_all)\n",
    "\n",
    "# output state results to file\n",
    "index_fn = 'Monthly index states.csv'\n",
    "gen_fn = 'Monthly generation states.csv'\n",
    "    \n",
    "state_index_all.to_csv(join(data_path, 'final state data', index_fn))\n",
    "gen_category_all.to_csv(join(data_path, 'final state data', gen_fn))"
   ]
  }
 ],
 "metadata": {
  "kernelspec": {
   "display_name": "Python 2",
   "language": "python",
   "name": "python2"
  },
  "language_info": {
   "codemirror_mode": {
    "name": "ipython",
    "version": 2
   },
   "file_extension": ".py",
   "mimetype": "text/x-python",
   "name": "python",
   "nbconvert_exporter": "python",
   "pygments_lexer": "ipython2",
   "version": "2.7.13"
  },
  "varInspector": {
   "cols": {
    "lenName": 16,
    "lenType": 16,
    "lenVar": 40
   },
   "kernels_config": {
    "python": {
     "delete_cmd_postfix": "",
     "delete_cmd_prefix": "del ",
     "library": "var_list.py",
     "varRefreshCmd": "print(var_dic_list())"
    },
    "r": {
     "delete_cmd_postfix": ") ",
     "delete_cmd_prefix": "rm(",
     "library": "var_list.r",
     "varRefreshCmd": "cat(var_dic_list()) "
    }
   },
   "types_to_exclude": [
    "module",
    "function",
    "builtin_function_or_method",
    "instance",
    "_Feature"
   ],
   "window_display": false
  }
 },
 "nbformat": 4,
 "nbformat_minor": 2
}
