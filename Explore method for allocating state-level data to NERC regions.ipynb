{
 "cells": [
  {
   "cell_type": "code",
   "execution_count": 1,
   "metadata": {
    "ExecuteTime": {
     "end_time": "2017-07-25T12:32:48.802333",
     "start_time": "2017-07-25T12:32:46.993919"
    },
    "collapsed": true
   },
   "outputs": [],
   "source": [
    "%matplotlib inline\n",
    "import pandas as pd\n",
    "import seaborn as sns\n",
    "import matplotlib.pyplot as plt\n",
    "import os\n",
    "import glob\n",
    "import numpy as np"
   ]
  },
  {
   "cell_type": "markdown",
   "metadata": {},
   "source": [
    "## Import facility data and NERC labels"
   ]
  },
  {
   "cell_type": "code",
   "execution_count": 2,
   "metadata": {
    "ExecuteTime": {
     "end_time": "2017-07-25T12:32:57.497106",
     "start_time": "2017-07-25T12:32:48.804316"
    }
   },
   "outputs": [],
   "source": [
    "path = os.path.join('Data storage', 'Facility gen fuels and CO2 2017-05-25.zip')\n",
    "facility_df = pd.read_csv(path, parse_dates=['datetime'])"
   ]
  },
  {
   "cell_type": "code",
   "execution_count": 8,
   "metadata": {
    "ExecuteTime": {
     "end_time": "2017-07-21T11:33:45.565146",
     "start_time": "2017-07-21T11:33:45.554566"
    }
   },
   "outputs": [],
   "source": [
    "path = os.path.join('Data storage', 'Facility NERC labels.csv')\n",
    "labels = pd.read_csv(path)"
   ]
  },
  {
   "cell_type": "code",
   "execution_count": 9,
   "metadata": {
    "ExecuteTime": {
     "end_time": "2017-07-21T11:33:59.071526",
     "start_time": "2017-07-21T11:33:59.056590"
    }
   },
   "outputs": [
    {
     "data": {
      "text/html": [
       "<div>\n",
       "<table border=\"1\" class=\"dataframe\">\n",
       "  <thead>\n",
       "    <tr style=\"text-align: right;\">\n",
       "      <th></th>\n",
       "      <th>plant id</th>\n",
       "      <th>region</th>\n",
       "    </tr>\n",
       "  </thead>\n",
       "  <tbody>\n",
       "    <tr>\n",
       "      <th>0</th>\n",
       "      <td>2</td>\n",
       "      <td>SERC</td>\n",
       "    </tr>\n",
       "    <tr>\n",
       "      <th>1</th>\n",
       "      <td>3</td>\n",
       "      <td>SERC</td>\n",
       "    </tr>\n",
       "    <tr>\n",
       "      <th>2</th>\n",
       "      <td>4</td>\n",
       "      <td>SERC</td>\n",
       "    </tr>\n",
       "    <tr>\n",
       "      <th>3</th>\n",
       "      <td>7</td>\n",
       "      <td>SERC</td>\n",
       "    </tr>\n",
       "    <tr>\n",
       "      <th>4</th>\n",
       "      <td>8</td>\n",
       "      <td>SERC</td>\n",
       "    </tr>\n",
       "  </tbody>\n",
       "</table>\n",
       "</div>"
      ],
      "text/plain": [
       "   plant id region\n",
       "0         2   SERC\n",
       "1         3   SERC\n",
       "2         4   SERC\n",
       "3         7   SERC\n",
       "4         8   SERC"
      ]
     },
     "execution_count": 9,
     "metadata": {},
     "output_type": "execute_result"
    }
   ],
   "source": [
    "labels.head()"
   ]
  },
  {
   "cell_type": "code",
   "execution_count": 30,
   "metadata": {
    "ExecuteTime": {
     "end_time": "2017-07-21T13:10:30.321259",
     "start_time": "2017-07-21T13:10:29.669776"
    },
    "collapsed": true
   },
   "outputs": [],
   "source": [
    "facility_df = facility_df.merge(labels, on='plant id')"
   ]
  },
  {
   "cell_type": "markdown",
   "metadata": {},
   "source": [
    "Filter out data older than 2014 to reduce size"
   ]
  },
  {
   "cell_type": "code",
   "execution_count": 31,
   "metadata": {
    "ExecuteTime": {
     "end_time": "2017-07-21T13:10:31.437980",
     "start_time": "2017-07-21T13:10:30.323462"
    }
   },
   "outputs": [],
   "source": [
    "facility_df['state'] = facility_df['geography'].str[-2:]\n",
    "keep_cols = ['fuel', 'year', 'datetime', 'state', 'plant id', 'region',\n",
    "             'generation (MWh)', 'elec fuel (mmbtu)']\n",
    "facility_df = facility_df.loc[facility_df['year'] >= 2014, keep_cols]"
   ]
  },
  {
   "cell_type": "code",
   "execution_count": 36,
   "metadata": {
    "ExecuteTime": {
     "end_time": "2017-07-21T13:12:58.709612",
     "start_time": "2017-07-21T13:12:58.696371"
    },
    "collapsed": true
   },
   "outputs": [],
   "source": [
    "facility_fuel_cats = {'COW': ['SUB', 'BIT', 'LIG', 'WC', 'SC', 'RC', 'SGC'],\n",
    "                      'NG': ['NG'],\n",
    "                      'PEL': ['DFO', 'RFO', 'KER', 'JF',\n",
    "                              'PG', 'WO', 'SGP'],\n",
    "                      'PC': ['PC'],\n",
    "                      'HYC': ['WAT'],\n",
    "                      'HPS': [],\n",
    "                      'GEO': ['GEO'],\n",
    "                      'NUC': ['NUC'],\n",
    "                      'OOG': ['BFG', 'OG', 'LFG'],\n",
    "                      'OTH': ['OTH', 'MSN', 'MSW', 'PUR', 'TDF', 'WH'],\n",
    "                      'SUN': ['SUN'],\n",
    "                      'DPV': [],\n",
    "                      'WAS': ['OBL', 'OBS', 'OBG', 'MSB', 'SLW'],\n",
    "                      'WND': ['WND'],\n",
    "                      'WWW': ['WDL', 'WDS', 'AB', 'BLQ']\n",
    "                      }\n",
    "def fuel2category(fuel):\n",
    "    if fuel in "
   ]
  },
  {
   "cell_type": "code",
   "execution_count": 39,
   "metadata": {
    "ExecuteTime": {
     "end_time": "2017-07-21T13:15:34.828587",
     "start_time": "2017-07-21T13:15:34.414151"
    },
    "collapsed": true
   },
   "outputs": [],
   "source": [
    "for category in facility_fuel_cats.keys():\n",
    "    fuels = facility_fuel_cats[category]\n",
    "    facility_df.loc[facility_df['fuel'].isin(fuels),\n",
    "                    'fuel category'] = category"
   ]
  },
  {
   "cell_type": "code",
   "execution_count": 40,
   "metadata": {
    "ExecuteTime": {
     "end_time": "2017-07-21T13:15:35.461666",
     "start_time": "2017-07-21T13:15:35.439539"
    }
   },
   "outputs": [
    {
     "data": {
      "text/html": [
       "<div>\n",
       "<table border=\"1\" class=\"dataframe\">\n",
       "  <thead>\n",
       "    <tr style=\"text-align: right;\">\n",
       "      <th></th>\n",
       "      <th>fuel</th>\n",
       "      <th>year</th>\n",
       "      <th>datetime</th>\n",
       "      <th>state</th>\n",
       "      <th>plant id</th>\n",
       "      <th>region</th>\n",
       "      <th>generation (MWh)</th>\n",
       "      <th>elec fuel (mmbtu)</th>\n",
       "      <th>fuel category</th>\n",
       "    </tr>\n",
       "  </thead>\n",
       "  <tbody>\n",
       "    <tr>\n",
       "      <th>0</th>\n",
       "      <td>NG</td>\n",
       "      <td>2017</td>\n",
       "      <td>2017-03-01</td>\n",
       "      <td>FL</td>\n",
       "      <td>10275</td>\n",
       "      <td>FRCC</td>\n",
       "      <td>0.0</td>\n",
       "      <td>0.0</td>\n",
       "      <td>NG</td>\n",
       "    </tr>\n",
       "    <tr>\n",
       "      <th>1</th>\n",
       "      <td>NG</td>\n",
       "      <td>2017</td>\n",
       "      <td>2017-02-01</td>\n",
       "      <td>FL</td>\n",
       "      <td>10275</td>\n",
       "      <td>FRCC</td>\n",
       "      <td>0.0</td>\n",
       "      <td>0.0</td>\n",
       "      <td>NG</td>\n",
       "    </tr>\n",
       "    <tr>\n",
       "      <th>2</th>\n",
       "      <td>NG</td>\n",
       "      <td>2017</td>\n",
       "      <td>2017-01-01</td>\n",
       "      <td>FL</td>\n",
       "      <td>10275</td>\n",
       "      <td>FRCC</td>\n",
       "      <td>0.0</td>\n",
       "      <td>0.0</td>\n",
       "      <td>NG</td>\n",
       "    </tr>\n",
       "    <tr>\n",
       "      <th>3</th>\n",
       "      <td>NG</td>\n",
       "      <td>2016</td>\n",
       "      <td>2016-12-01</td>\n",
       "      <td>FL</td>\n",
       "      <td>10275</td>\n",
       "      <td>FRCC</td>\n",
       "      <td>0.0</td>\n",
       "      <td>0.0</td>\n",
       "      <td>NG</td>\n",
       "    </tr>\n",
       "    <tr>\n",
       "      <th>4</th>\n",
       "      <td>NG</td>\n",
       "      <td>2016</td>\n",
       "      <td>2016-11-01</td>\n",
       "      <td>FL</td>\n",
       "      <td>10275</td>\n",
       "      <td>FRCC</td>\n",
       "      <td>0.0</td>\n",
       "      <td>0.0</td>\n",
       "      <td>NG</td>\n",
       "    </tr>\n",
       "  </tbody>\n",
       "</table>\n",
       "</div>"
      ],
      "text/plain": [
       "  fuel  year   datetime state  plant id region  generation (MWh)  \\\n",
       "0   NG  2017 2017-03-01    FL     10275   FRCC               0.0   \n",
       "1   NG  2017 2017-02-01    FL     10275   FRCC               0.0   \n",
       "2   NG  2017 2017-01-01    FL     10275   FRCC               0.0   \n",
       "3   NG  2016 2016-12-01    FL     10275   FRCC               0.0   \n",
       "4   NG  2016 2016-11-01    FL     10275   FRCC               0.0   \n",
       "\n",
       "   elec fuel (mmbtu) fuel category  \n",
       "0                0.0            NG  \n",
       "1                0.0            NG  \n",
       "2                0.0            NG  \n",
       "3                0.0            NG  \n",
       "4                0.0            NG  "
      ]
     },
     "execution_count": 40,
     "metadata": {},
     "output_type": "execute_result"
    }
   ],
   "source": [
    "facility_df.head()"
   ]
  },
  {
   "cell_type": "code",
   "execution_count": 25,
   "metadata": {
    "ExecuteTime": {
     "end_time": "2017-07-21T11:45:51.870740",
     "start_time": "2017-07-21T11:45:51.862496"
    }
   },
   "outputs": [
    {
     "data": {
      "text/plain": [
       "fuel                        object\n",
       "year                         int64\n",
       "datetime            datetime64[ns]\n",
       "state                       object\n",
       "plant id                     int64\n",
       "region                      object\n",
       "generation (MWh)           float64\n",
       "dtype: object"
      ]
     },
     "execution_count": 25,
     "metadata": {},
     "output_type": "execute_result"
    }
   ],
   "source": [
    "facility_df.dtypes"
   ]
  },
  {
   "cell_type": "markdown",
   "metadata": {},
   "source": [
    "I'm a little surprised that the only plants with NERC region matches are in AK and HI."
   ]
  },
  {
   "cell_type": "code",
   "execution_count": 15,
   "metadata": {
    "ExecuteTime": {
     "end_time": "2017-07-21T11:35:25.858245",
     "start_time": "2017-07-21T11:35:25.827236"
    }
   },
   "outputs": [
    {
     "data": {
      "text/plain": [
       "array(['AK', 'HI'], dtype=object)"
      ]
     },
     "execution_count": 15,
     "metadata": {},
     "output_type": "execute_result"
    }
   ],
   "source": [
    "facility_df.loc[facility_df['region'].isnull(), 'state'].unique()"
   ]
  },
  {
   "cell_type": "markdown",
   "metadata": {},
   "source": [
    "## Import state-level generation data"
   ]
  },
  {
   "cell_type": "code",
   "execution_count": 16,
   "metadata": {
    "ExecuteTime": {
     "end_time": "2017-07-21T11:42:15.963939",
     "start_time": "2017-07-21T11:42:15.951238"
    },
    "collapsed": true
   },
   "outputs": [],
   "source": [
    "folder = os.path.join('Data storage', 'Derived data', 'state gen data')\n",
    "states = [\"AL\", \"AK\", \"AZ\", \"AR\", \"CA\", \"CO\", \"CT\", \"DE\", \n",
    "          \"FL\", \"GA\", \"HI\", \"ID\", \"IL\", \"IN\", \"IA\", \"KS\", \n",
    "          \"KY\", \"LA\", \"ME\", \"MD\", \"MA\", \"MI\", \"MN\", \"MS\", \n",
    "          \"MO\", \"MT\", \"NE\", \"NV\", \"NH\", \"NJ\", \"NM\", \"NY\", \n",
    "          \"NC\", \"ND\", \"OH\", \"OK\", \"OR\", \"PA\", \"RI\", \"SC\", \n",
    "          \"SD\", \"TN\", \"TX\", \"UT\", \"VT\", \"VA\", \"WA\", \"WV\", \"WI\", \"WY\"]"
   ]
  },
  {
   "cell_type": "code",
   "execution_count": 52,
   "metadata": {
    "ExecuteTime": {
     "end_time": "2017-07-21T13:27:39.714711",
     "start_time": "2017-07-21T13:27:39.083569"
    },
    "collapsed": true
   },
   "outputs": [],
   "source": [
    "state_list = []\n",
    "for state in states:\n",
    "    path = os.path.join(folder, '{} fuels gen.csv'.format(state))\n",
    "    df = pd.read_csv(path, parse_dates=['datetime'])\n",
    "    state_list.append(df)\n",
    "state_df = pd.concat(state_list)\n",
    "state_df.reset_index(inplace=True, drop=True)"
   ]
  },
  {
   "cell_type": "code",
   "execution_count": 53,
   "metadata": {
    "ExecuteTime": {
     "end_time": "2017-07-21T13:27:40.117084",
     "start_time": "2017-07-21T13:27:40.109542"
    }
   },
   "outputs": [
    {
     "data": {
      "text/plain": [
       "end                            int64\n",
       "f                             object\n",
       "geography                     object\n",
       "last_updated                  object\n",
       "sector                         int64\n",
       "series_id                     object\n",
       "start                          int64\n",
       "type                          object\n",
       "units                         object\n",
       "year                           int64\n",
       "month                          int64\n",
       "generation (MWh)             float64\n",
       "datetime              datetime64[ns]\n",
       "quarter                        int64\n",
       "total fuel (mmbtu)           float64\n",
       "elec fuel (mmbtu)            float64\n",
       "all fuel CO2 (kg)            float64\n",
       "elec fuel CO2 (kg)           float64\n",
       "dtype: object"
      ]
     },
     "execution_count": 53,
     "metadata": {},
     "output_type": "execute_result"
    }
   ],
   "source": [
    "state_df.dtypes"
   ]
  },
  {
   "cell_type": "code",
   "execution_count": 54,
   "metadata": {
    "ExecuteTime": {
     "end_time": "2017-07-21T13:27:40.403832",
     "start_time": "2017-07-21T13:27:40.299616"
    }
   },
   "outputs": [],
   "source": [
    "state_df['state'] = state_df['geography'].str[-2:]\n",
    "keep_cols = ['state', 'type', 'year', 'datetime', 'generation (MWh)',\n",
    "             'elec fuel (mmbtu)']\n",
    "\n",
    "fuel_cats = facility_fuel_cats.keys()\n",
    "state_df = state_df.loc[(state_df['year'] >= 2014) &\n",
    "                        (state_df['type'].isin(fuel_cats)), keep_cols]"
   ]
  },
  {
   "cell_type": "code",
   "execution_count": 55,
   "metadata": {
    "ExecuteTime": {
     "end_time": "2017-07-21T13:27:41.866694",
     "start_time": "2017-07-21T13:27:41.859158"
    }
   },
   "outputs": [
    {
     "data": {
      "text/plain": [
       "array(['COW', 'HYC', 'NUC', 'NG', 'PEL', 'DPV', 'OTH', 'OOG', 'WWW', 'SUN',\n",
       "       'WAS', 'WND', 'HPS', 'PC', 'GEO'], dtype=object)"
      ]
     },
     "execution_count": 55,
     "metadata": {},
     "output_type": "execute_result"
    }
   ],
   "source": [
    "state_df['type'].unique()"
   ]
  },
  {
   "cell_type": "markdown",
   "metadata": {},
   "source": [
    "## Total generation and fuel consumption for each fuel category"
   ]
  },
  {
   "cell_type": "markdown",
   "metadata": {},
   "source": [
    "### Annual"
   ]
  },
  {
   "cell_type": "code",
   "execution_count": 59,
   "metadata": {
    "ExecuteTime": {
     "end_time": "2017-07-21T13:30:10.802511",
     "start_time": "2017-07-21T13:30:10.682251"
    }
   },
   "outputs": [],
   "source": [
    "annual_facility = facility_df.groupby(['year', 'state', 'fuel category']).sum()\n",
    "# annual_facility.reset_index(inplace=True)\n",
    "annual_facility.drop('plant id', axis=1, inplace=True)"
   ]
  },
  {
   "cell_type": "code",
   "execution_count": 60,
   "metadata": {
    "ExecuteTime": {
     "end_time": "2017-07-21T13:30:11.207811",
     "start_time": "2017-07-21T13:30:11.188509"
    }
   },
   "outputs": [
    {
     "data": {
      "text/html": [
       "<div>\n",
       "<table border=\"1\" class=\"dataframe\">\n",
       "  <thead>\n",
       "    <tr style=\"text-align: right;\">\n",
       "      <th></th>\n",
       "      <th></th>\n",
       "      <th></th>\n",
       "      <th>generation (MWh)</th>\n",
       "      <th>elec fuel (mmbtu)</th>\n",
       "    </tr>\n",
       "    <tr>\n",
       "      <th>year</th>\n",
       "      <th>state</th>\n",
       "      <th>fuel category</th>\n",
       "      <th></th>\n",
       "      <th></th>\n",
       "    </tr>\n",
       "  </thead>\n",
       "  <tbody>\n",
       "    <tr>\n",
       "      <th rowspan=\"5\" valign=\"top\">2014</th>\n",
       "      <th rowspan=\"5\" valign=\"top\">AK</th>\n",
       "      <th>COW</th>\n",
       "      <td>558292.181</td>\n",
       "      <td>7216953.0</td>\n",
       "    </tr>\n",
       "    <tr>\n",
       "      <th>HYC</th>\n",
       "      <td>1538738.000</td>\n",
       "      <td>14633403.0</td>\n",
       "    </tr>\n",
       "    <tr>\n",
       "      <th>NG</th>\n",
       "      <td>3288022.319</td>\n",
       "      <td>32828304.0</td>\n",
       "    </tr>\n",
       "    <tr>\n",
       "      <th>OOG</th>\n",
       "      <td>56165.769</td>\n",
       "      <td>546450.0</td>\n",
       "    </tr>\n",
       "    <tr>\n",
       "      <th>PEL</th>\n",
       "      <td>445621.447</td>\n",
       "      <td>6927101.0</td>\n",
       "    </tr>\n",
       "  </tbody>\n",
       "</table>\n",
       "</div>"
      ],
      "text/plain": [
       "                          generation (MWh)  elec fuel (mmbtu)\n",
       "year state fuel category                                     \n",
       "2014 AK    COW                  558292.181          7216953.0\n",
       "           HYC                 1538738.000         14633403.0\n",
       "           NG                  3288022.319         32828304.0\n",
       "           OOG                   56165.769           546450.0\n",
       "           PEL                  445621.447          6927101.0"
      ]
     },
     "execution_count": 60,
     "metadata": {},
     "output_type": "execute_result"
    }
   ],
   "source": [
    "annual_facility.head()"
   ]
  },
  {
   "cell_type": "code",
   "execution_count": 61,
   "metadata": {
    "ExecuteTime": {
     "end_time": "2017-07-21T13:30:13.360036",
     "start_time": "2017-07-21T13:30:13.345260"
    }
   },
   "outputs": [],
   "source": [
    "annual_state = state_df.groupby(['year', 'state', 'type']).sum()\n",
    "# annual_state.reset_index(inplace=True)"
   ]
  },
  {
   "cell_type": "code",
   "execution_count": 100,
   "metadata": {
    "ExecuteTime": {
     "end_time": "2017-07-21T16:00:30.029955",
     "start_time": "2017-07-21T16:00:30.003307"
    }
   },
   "outputs": [
    {
     "data": {
      "text/html": [
       "<div>\n",
       "<table border=\"1\" class=\"dataframe\">\n",
       "  <thead>\n",
       "    <tr style=\"text-align: right;\">\n",
       "      <th></th>\n",
       "      <th></th>\n",
       "      <th></th>\n",
       "      <th>generation (MWh)</th>\n",
       "      <th>elec fuel (mmbtu)</th>\n",
       "    </tr>\n",
       "    <tr>\n",
       "      <th>year</th>\n",
       "      <th>state</th>\n",
       "      <th>type</th>\n",
       "      <th></th>\n",
       "      <th></th>\n",
       "    </tr>\n",
       "  </thead>\n",
       "  <tbody>\n",
       "    <tr>\n",
       "      <th rowspan=\"25\" valign=\"top\">2014</th>\n",
       "      <th rowspan=\"9\" valign=\"top\">AK</th>\n",
       "      <th>COW</th>\n",
       "      <td>558292.17</td>\n",
       "      <td>7216950.0</td>\n",
       "    </tr>\n",
       "    <tr>\n",
       "      <th>HYC</th>\n",
       "      <td>1538738.00</td>\n",
       "      <td>NaN</td>\n",
       "    </tr>\n",
       "    <tr>\n",
       "      <th>NG</th>\n",
       "      <td>3288022.33</td>\n",
       "      <td>32828310.0</td>\n",
       "    </tr>\n",
       "    <tr>\n",
       "      <th>OOG</th>\n",
       "      <td>NaN</td>\n",
       "      <td>NaN</td>\n",
       "    </tr>\n",
       "    <tr>\n",
       "      <th>OTH</th>\n",
       "      <td>-2312.99</td>\n",
       "      <td>NaN</td>\n",
       "    </tr>\n",
       "    <tr>\n",
       "      <th>PEL</th>\n",
       "      <td>445621.46</td>\n",
       "      <td>6927090.0</td>\n",
       "    </tr>\n",
       "    <tr>\n",
       "      <th>WAS</th>\n",
       "      <td>62511.68</td>\n",
       "      <td>NaN</td>\n",
       "    </tr>\n",
       "    <tr>\n",
       "      <th>WND</th>\n",
       "      <td>151957.00</td>\n",
       "      <td>NaN</td>\n",
       "    </tr>\n",
       "    <tr>\n",
       "      <th>WWW</th>\n",
       "      <td>0.00</td>\n",
       "      <td>NaN</td>\n",
       "    </tr>\n",
       "    <tr>\n",
       "      <th rowspan=\"10\" valign=\"top\">AL</th>\n",
       "      <th>COW</th>\n",
       "      <td>47301626.28</td>\n",
       "      <td>488993810.0</td>\n",
       "    </tr>\n",
       "    <tr>\n",
       "      <th>DPV</th>\n",
       "      <td>3101.38</td>\n",
       "      <td>NaN</td>\n",
       "    </tr>\n",
       "    <tr>\n",
       "      <th>HYC</th>\n",
       "      <td>9466872.01</td>\n",
       "      <td>NaN</td>\n",
       "    </tr>\n",
       "    <tr>\n",
       "      <th>NG</th>\n",
       "      <td>48270074.40</td>\n",
       "      <td>362215370.0</td>\n",
       "    </tr>\n",
       "    <tr>\n",
       "      <th>NUC</th>\n",
       "      <td>41243689.00</td>\n",
       "      <td>NaN</td>\n",
       "    </tr>\n",
       "    <tr>\n",
       "      <th>OOG</th>\n",
       "      <td>180403.48</td>\n",
       "      <td>NaN</td>\n",
       "    </tr>\n",
       "    <tr>\n",
       "      <th>OTH</th>\n",
       "      <td>140.51</td>\n",
       "      <td>NaN</td>\n",
       "    </tr>\n",
       "    <tr>\n",
       "      <th>PEL</th>\n",
       "      <td>98100.01</td>\n",
       "      <td>1199180.0</td>\n",
       "    </tr>\n",
       "    <tr>\n",
       "      <th>WAS</th>\n",
       "      <td>46936.84</td>\n",
       "      <td>NaN</td>\n",
       "    </tr>\n",
       "    <tr>\n",
       "      <th>WWW</th>\n",
       "      <td>2732084.23</td>\n",
       "      <td>NaN</td>\n",
       "    </tr>\n",
       "    <tr>\n",
       "      <th rowspan=\"6\" valign=\"top\">AR</th>\n",
       "      <th>COW</th>\n",
       "      <td>33220754.79</td>\n",
       "      <td>334098580.0</td>\n",
       "    </tr>\n",
       "    <tr>\n",
       "      <th>DPV</th>\n",
       "      <td>4853.48</td>\n",
       "      <td>NaN</td>\n",
       "    </tr>\n",
       "    <tr>\n",
       "      <th>HPS</th>\n",
       "      <td>67070.00</td>\n",
       "      <td>NaN</td>\n",
       "    </tr>\n",
       "    <tr>\n",
       "      <th>HYC</th>\n",
       "      <td>2639776.01</td>\n",
       "      <td>NaN</td>\n",
       "    </tr>\n",
       "    <tr>\n",
       "      <th>NG</th>\n",
       "      <td>9613708.03</td>\n",
       "      <td>70429870.0</td>\n",
       "    </tr>\n",
       "    <tr>\n",
       "      <th>NUC</th>\n",
       "      <td>14478259.00</td>\n",
       "      <td>NaN</td>\n",
       "    </tr>\n",
       "  </tbody>\n",
       "</table>\n",
       "</div>"
      ],
      "text/plain": [
       "                 generation (MWh)  elec fuel (mmbtu)\n",
       "year state type                                     \n",
       "2014 AK    COW          558292.17          7216950.0\n",
       "           HYC         1538738.00                NaN\n",
       "           NG          3288022.33         32828310.0\n",
       "           OOG                NaN                NaN\n",
       "           OTH           -2312.99                NaN\n",
       "           PEL          445621.46          6927090.0\n",
       "           WAS           62511.68                NaN\n",
       "           WND          151957.00                NaN\n",
       "           WWW               0.00                NaN\n",
       "     AL    COW        47301626.28        488993810.0\n",
       "           DPV            3101.38                NaN\n",
       "           HYC         9466872.01                NaN\n",
       "           NG         48270074.40        362215370.0\n",
       "           NUC        41243689.00                NaN\n",
       "           OOG          180403.48                NaN\n",
       "           OTH             140.51                NaN\n",
       "           PEL           98100.01          1199180.0\n",
       "           WAS           46936.84                NaN\n",
       "           WWW         2732084.23                NaN\n",
       "     AR    COW        33220754.79        334098580.0\n",
       "           DPV            4853.48                NaN\n",
       "           HPS           67070.00                NaN\n",
       "           HYC         2639776.01                NaN\n",
       "           NG          9613708.03         70429870.0\n",
       "           NUC        14478259.00                NaN"
      ]
     },
     "execution_count": 100,
     "metadata": {},
     "output_type": "execute_result"
    }
   ],
   "source": [
    "annual_state.head(n=25)"
   ]
  },
  {
   "cell_type": "code",
   "execution_count": 122,
   "metadata": {
    "ExecuteTime": {
     "end_time": "2017-07-22T15:17:58.124738",
     "start_time": "2017-07-22T15:17:58.107659"
    }
   },
   "outputs": [
    {
     "data": {
      "text/plain": [
       "generation (MWh)     19030396.62\n",
       "elec fuel (mmbtu)            NaN\n",
       "Name: (2016, CA, SUN), dtype: float64"
      ]
     },
     "execution_count": 122,
     "metadata": {},
     "output_type": "execute_result"
    }
   ],
   "source": [
    "annual_state.loc[2016, 'CA', 'SUN']"
   ]
  },
  {
   "cell_type": "code",
   "execution_count": 123,
   "metadata": {
    "ExecuteTime": {
     "end_time": "2017-07-22T15:18:12.501735",
     "start_time": "2017-07-22T15:18:12.482852"
    }
   },
   "outputs": [
    {
     "data": {
      "text/plain": [
       "generation (MWh)      14343691.0\n",
       "elec fuel (mmbtu)    133668844.0\n",
       "Name: (2016, CA, SUN), dtype: float64"
      ]
     },
     "execution_count": 123,
     "metadata": {},
     "output_type": "execute_result"
    }
   ],
   "source": [
    "annual_facility.loc[2016, 'CA', 'SUN']"
   ]
  },
  {
   "cell_type": "markdown",
   "metadata": {},
   "source": [
    "How much generation from large sources (Hydro, wind, coal, natural gas, and nuclear) is missed by monthly 923 data? "
   ]
  },
  {
   "cell_type": "code",
   "execution_count": 124,
   "metadata": {
    "ExecuteTime": {
     "end_time": "2017-07-22T15:18:31.653749",
     "start_time": "2017-07-22T15:18:31.621369"
    }
   },
   "outputs": [
    {
     "name": "stdout",
     "output_type": "stream",
     "text": [
      "HYC has an error of 24.60%\n",
      "WND has an error of 3.48%\n",
      "COW has an error of 1.36%\n",
      "NG has an error of 5.66%\n",
      "NUC has an error of 0.00%\n",
      "SUN has an error of 37.47%\n"
     ]
    }
   ],
   "source": [
    "for fuel in ['HYC', 'WND', 'COW', 'NG', 'NUC', 'SUN']:\n",
    "    state_total = annual_state.loc[2016, :, fuel]['generation (MWh)'].sum()\n",
    "    facility_total = annual_facility.loc[2016, :, fuel]['generation (MWh)'].sum()\n",
    "    \n",
    "    error = (state_total - facility_total) / state_total\n",
    "    print '{} has an error of {:.2f}%'.format(fuel, error * 100)"
   ]
  },
  {
   "cell_type": "markdown",
   "metadata": {},
   "source": [
    "#### States that include more than one NERC region"
   ]
  },
  {
   "cell_type": "code",
   "execution_count": 79,
   "metadata": {
    "ExecuteTime": {
     "end_time": "2017-07-21T15:40:07.367990",
     "start_time": "2017-07-21T15:40:07.341486"
    },
    "collapsed": true
   },
   "outputs": [],
   "source": [
    "NERC_states = ['WY', 'SD', 'NE', 'OK', 'TX', 'NM', 'LA', 'AR',\n",
    "               'MO', 'MN', 'IL', 'KY', 'VA', 'FL']"
   ]
  },
  {
   "cell_type": "code",
   "execution_count": 93,
   "metadata": {
    "ExecuteTime": {
     "end_time": "2017-07-21T15:50:04.437271",
     "start_time": "2017-07-21T15:50:04.318767"
    },
    "scrolled": true
   },
   "outputs": [],
   "source": [
    "error_list = []\n",
    "for state in NERC_states:\n",
    "    error = (annual_state.loc[2016, state]\n",
    "             - annual_facility.loc[2016, state]) / annual_state.loc[2016, state]\n",
    "    error['state'] = state\n",
    "    \n",
    "    for col in ['generation (MWh)']:#, 'elec fuel (mmbtu)']:\n",
    "        if error.loc[error[col] > 0.05, col].any():\n",
    "            error_list.append(error.loc[error[col] > 0.05])"
   ]
  },
  {
   "cell_type": "markdown",
   "metadata": {},
   "source": [
    "The dataframe below shows all states with more than one NERC region where facility generation is at least 5% below EIA's state-level estimate in 2016. "
   ]
  },
  {
   "cell_type": "code",
   "execution_count": 94,
   "metadata": {
    "ExecuteTime": {
     "end_time": "2017-07-21T15:50:11.212518",
     "start_time": "2017-07-21T15:50:11.159172"
    }
   },
   "outputs": [
    {
     "data": {
      "text/html": [
       "<div>\n",
       "<table border=\"1\" class=\"dataframe\">\n",
       "  <thead>\n",
       "    <tr style=\"text-align: right;\">\n",
       "      <th></th>\n",
       "      <th>generation (MWh)</th>\n",
       "      <th>elec fuel (mmbtu)</th>\n",
       "      <th>state</th>\n",
       "    </tr>\n",
       "  </thead>\n",
       "  <tbody>\n",
       "    <tr>\n",
       "      <th>COW</th>\n",
       "      <td>0.057014</td>\n",
       "      <td>0.058988</td>\n",
       "      <td>WY</td>\n",
       "    </tr>\n",
       "    <tr>\n",
       "      <th>HYC</th>\n",
       "      <td>0.095835</td>\n",
       "      <td>NaN</td>\n",
       "      <td>WY</td>\n",
       "    </tr>\n",
       "    <tr>\n",
       "      <th>NG</th>\n",
       "      <td>0.413092</td>\n",
       "      <td>0.508736</td>\n",
       "      <td>WY</td>\n",
       "    </tr>\n",
       "    <tr>\n",
       "      <th>NG</th>\n",
       "      <td>0.212550</td>\n",
       "      <td>0.233675</td>\n",
       "      <td>SD</td>\n",
       "    </tr>\n",
       "    <tr>\n",
       "      <th>HYC</th>\n",
       "      <td>1.000000</td>\n",
       "      <td>NaN</td>\n",
       "      <td>NE</td>\n",
       "    </tr>\n",
       "    <tr>\n",
       "      <th>NG</th>\n",
       "      <td>0.141895</td>\n",
       "      <td>0.122942</td>\n",
       "      <td>NE</td>\n",
       "    </tr>\n",
       "    <tr>\n",
       "      <th>WAS</th>\n",
       "      <td>1.000000</td>\n",
       "      <td>NaN</td>\n",
       "      <td>NE</td>\n",
       "    </tr>\n",
       "    <tr>\n",
       "      <th>HYC</th>\n",
       "      <td>0.327894</td>\n",
       "      <td>NaN</td>\n",
       "      <td>OK</td>\n",
       "    </tr>\n",
       "    <tr>\n",
       "      <th>OTH</th>\n",
       "      <td>0.359396</td>\n",
       "      <td>NaN</td>\n",
       "      <td>OK</td>\n",
       "    </tr>\n",
       "    <tr>\n",
       "      <th>PEL</th>\n",
       "      <td>0.098354</td>\n",
       "      <td>0.089782</td>\n",
       "      <td>OK</td>\n",
       "    </tr>\n",
       "    <tr>\n",
       "      <th>WAS</th>\n",
       "      <td>1.000000</td>\n",
       "      <td>NaN</td>\n",
       "      <td>OK</td>\n",
       "    </tr>\n",
       "    <tr>\n",
       "      <th>WWW</th>\n",
       "      <td>1.000000</td>\n",
       "      <td>NaN</td>\n",
       "      <td>OK</td>\n",
       "    </tr>\n",
       "    <tr>\n",
       "      <th>HYC</th>\n",
       "      <td>0.688630</td>\n",
       "      <td>NaN</td>\n",
       "      <td>TX</td>\n",
       "    </tr>\n",
       "    <tr>\n",
       "      <th>NG</th>\n",
       "      <td>0.053121</td>\n",
       "      <td>0.062912</td>\n",
       "      <td>TX</td>\n",
       "    </tr>\n",
       "    <tr>\n",
       "      <th>OOG</th>\n",
       "      <td>0.132470</td>\n",
       "      <td>NaN</td>\n",
       "      <td>TX</td>\n",
       "    </tr>\n",
       "    <tr>\n",
       "      <th>OTH</th>\n",
       "      <td>0.533980</td>\n",
       "      <td>NaN</td>\n",
       "      <td>TX</td>\n",
       "    </tr>\n",
       "    <tr>\n",
       "      <th>SUN</th>\n",
       "      <td>0.247843</td>\n",
       "      <td>NaN</td>\n",
       "      <td>TX</td>\n",
       "    </tr>\n",
       "    <tr>\n",
       "      <th>WAS</th>\n",
       "      <td>1.000000</td>\n",
       "      <td>NaN</td>\n",
       "      <td>TX</td>\n",
       "    </tr>\n",
       "    <tr>\n",
       "      <th>WWW</th>\n",
       "      <td>0.443587</td>\n",
       "      <td>NaN</td>\n",
       "      <td>TX</td>\n",
       "    </tr>\n",
       "    <tr>\n",
       "      <th>GEO</th>\n",
       "      <td>1.000000</td>\n",
       "      <td>NaN</td>\n",
       "      <td>NM</td>\n",
       "    </tr>\n",
       "    <tr>\n",
       "      <th>NG</th>\n",
       "      <td>0.090467</td>\n",
       "      <td>0.085517</td>\n",
       "      <td>NM</td>\n",
       "    </tr>\n",
       "    <tr>\n",
       "      <th>SUN</th>\n",
       "      <td>0.638877</td>\n",
       "      <td>NaN</td>\n",
       "      <td>NM</td>\n",
       "    </tr>\n",
       "    <tr>\n",
       "      <th>WAS</th>\n",
       "      <td>1.000000</td>\n",
       "      <td>NaN</td>\n",
       "      <td>NM</td>\n",
       "    </tr>\n",
       "    <tr>\n",
       "      <th>NG</th>\n",
       "      <td>0.055065</td>\n",
       "      <td>0.050793</td>\n",
       "      <td>LA</td>\n",
       "    </tr>\n",
       "    <tr>\n",
       "      <th>OOG</th>\n",
       "      <td>0.100225</td>\n",
       "      <td>NaN</td>\n",
       "      <td>LA</td>\n",
       "    </tr>\n",
       "    <tr>\n",
       "      <th>OTH</th>\n",
       "      <td>0.580154</td>\n",
       "      <td>NaN</td>\n",
       "      <td>LA</td>\n",
       "    </tr>\n",
       "    <tr>\n",
       "      <th>WAS</th>\n",
       "      <td>0.930467</td>\n",
       "      <td>NaN</td>\n",
       "      <td>LA</td>\n",
       "    </tr>\n",
       "    <tr>\n",
       "      <th>WWW</th>\n",
       "      <td>0.516165</td>\n",
       "      <td>NaN</td>\n",
       "      <td>LA</td>\n",
       "    </tr>\n",
       "    <tr>\n",
       "      <th>HYC</th>\n",
       "      <td>0.202653</td>\n",
       "      <td>NaN</td>\n",
       "      <td>AR</td>\n",
       "    </tr>\n",
       "    <tr>\n",
       "      <th>WAS</th>\n",
       "      <td>1.000000</td>\n",
       "      <td>NaN</td>\n",
       "      <td>AR</td>\n",
       "    </tr>\n",
       "    <tr>\n",
       "      <th>WWW</th>\n",
       "      <td>0.086687</td>\n",
       "      <td>NaN</td>\n",
       "      <td>AR</td>\n",
       "    </tr>\n",
       "    <tr>\n",
       "      <th>NG</th>\n",
       "      <td>0.089319</td>\n",
       "      <td>0.123133</td>\n",
       "      <td>MO</td>\n",
       "    </tr>\n",
       "    <tr>\n",
       "      <th>SUN</th>\n",
       "      <td>0.860146</td>\n",
       "      <td>NaN</td>\n",
       "      <td>MO</td>\n",
       "    </tr>\n",
       "    <tr>\n",
       "      <th>WAS</th>\n",
       "      <td>1.000000</td>\n",
       "      <td>NaN</td>\n",
       "      <td>MO</td>\n",
       "    </tr>\n",
       "    <tr>\n",
       "      <th>HYC</th>\n",
       "      <td>0.942665</td>\n",
       "      <td>NaN</td>\n",
       "      <td>MN</td>\n",
       "    </tr>\n",
       "    <tr>\n",
       "      <th>NG</th>\n",
       "      <td>0.064268</td>\n",
       "      <td>0.084587</td>\n",
       "      <td>MN</td>\n",
       "    </tr>\n",
       "    <tr>\n",
       "      <th>OTH</th>\n",
       "      <td>0.555342</td>\n",
       "      <td>NaN</td>\n",
       "      <td>MN</td>\n",
       "    </tr>\n",
       "    <tr>\n",
       "      <th>SUN</th>\n",
       "      <td>0.794821</td>\n",
       "      <td>NaN</td>\n",
       "      <td>MN</td>\n",
       "    </tr>\n",
       "    <tr>\n",
       "      <th>WAS</th>\n",
       "      <td>0.711827</td>\n",
       "      <td>NaN</td>\n",
       "      <td>MN</td>\n",
       "    </tr>\n",
       "    <tr>\n",
       "      <th>WND</th>\n",
       "      <td>0.112260</td>\n",
       "      <td>NaN</td>\n",
       "      <td>MN</td>\n",
       "    </tr>\n",
       "    <tr>\n",
       "      <th>WWW</th>\n",
       "      <td>0.596931</td>\n",
       "      <td>NaN</td>\n",
       "      <td>MN</td>\n",
       "    </tr>\n",
       "    <tr>\n",
       "      <th>NG</th>\n",
       "      <td>0.060489</td>\n",
       "      <td>0.059321</td>\n",
       "      <td>IL</td>\n",
       "    </tr>\n",
       "    <tr>\n",
       "      <th>OOG</th>\n",
       "      <td>0.961357</td>\n",
       "      <td>NaN</td>\n",
       "      <td>IL</td>\n",
       "    </tr>\n",
       "    <tr>\n",
       "      <th>OTH</th>\n",
       "      <td>0.987482</td>\n",
       "      <td>NaN</td>\n",
       "      <td>IL</td>\n",
       "    </tr>\n",
       "    <tr>\n",
       "      <th>PEL</th>\n",
       "      <td>0.052267</td>\n",
       "      <td>0.059331</td>\n",
       "      <td>IL</td>\n",
       "    </tr>\n",
       "    <tr>\n",
       "      <th>SUN</th>\n",
       "      <td>1.000000</td>\n",
       "      <td>NaN</td>\n",
       "      <td>IL</td>\n",
       "    </tr>\n",
       "    <tr>\n",
       "      <th>WAS</th>\n",
       "      <td>1.000000</td>\n",
       "      <td>NaN</td>\n",
       "      <td>IL</td>\n",
       "    </tr>\n",
       "    <tr>\n",
       "      <th>HYC</th>\n",
       "      <td>0.128468</td>\n",
       "      <td>NaN</td>\n",
       "      <td>KY</td>\n",
       "    </tr>\n",
       "    <tr>\n",
       "      <th>WAS</th>\n",
       "      <td>1.000000</td>\n",
       "      <td>NaN</td>\n",
       "      <td>KY</td>\n",
       "    </tr>\n",
       "    <tr>\n",
       "      <th>HYC</th>\n",
       "      <td>1.139389</td>\n",
       "      <td>NaN</td>\n",
       "      <td>VA</td>\n",
       "    </tr>\n",
       "    <tr>\n",
       "      <th>OTH</th>\n",
       "      <td>0.164274</td>\n",
       "      <td>NaN</td>\n",
       "      <td>VA</td>\n",
       "    </tr>\n",
       "    <tr>\n",
       "      <th>PEL</th>\n",
       "      <td>0.055163</td>\n",
       "      <td>0.055660</td>\n",
       "      <td>VA</td>\n",
       "    </tr>\n",
       "    <tr>\n",
       "      <th>WAS</th>\n",
       "      <td>0.642315</td>\n",
       "      <td>NaN</td>\n",
       "      <td>VA</td>\n",
       "    </tr>\n",
       "    <tr>\n",
       "      <th>WWW</th>\n",
       "      <td>0.095183</td>\n",
       "      <td>NaN</td>\n",
       "      <td>VA</td>\n",
       "    </tr>\n",
       "    <tr>\n",
       "      <th>HYC</th>\n",
       "      <td>1.000000</td>\n",
       "      <td>NaN</td>\n",
       "      <td>FL</td>\n",
       "    </tr>\n",
       "    <tr>\n",
       "      <th>OTH</th>\n",
       "      <td>0.318424</td>\n",
       "      <td>NaN</td>\n",
       "      <td>FL</td>\n",
       "    </tr>\n",
       "    <tr>\n",
       "      <th>SUN</th>\n",
       "      <td>0.317072</td>\n",
       "      <td>NaN</td>\n",
       "      <td>FL</td>\n",
       "    </tr>\n",
       "    <tr>\n",
       "      <th>WAS</th>\n",
       "      <td>0.585390</td>\n",
       "      <td>NaN</td>\n",
       "      <td>FL</td>\n",
       "    </tr>\n",
       "    <tr>\n",
       "      <th>WWW</th>\n",
       "      <td>0.466676</td>\n",
       "      <td>NaN</td>\n",
       "      <td>FL</td>\n",
       "    </tr>\n",
       "  </tbody>\n",
       "</table>\n",
       "</div>"
      ],
      "text/plain": [
       "     generation (MWh)  elec fuel (mmbtu) state\n",
       "COW          0.057014           0.058988    WY\n",
       "HYC          0.095835                NaN    WY\n",
       "NG           0.413092           0.508736    WY\n",
       "NG           0.212550           0.233675    SD\n",
       "HYC          1.000000                NaN    NE\n",
       "NG           0.141895           0.122942    NE\n",
       "WAS          1.000000                NaN    NE\n",
       "HYC          0.327894                NaN    OK\n",
       "OTH          0.359396                NaN    OK\n",
       "PEL          0.098354           0.089782    OK\n",
       "WAS          1.000000                NaN    OK\n",
       "WWW          1.000000                NaN    OK\n",
       "HYC          0.688630                NaN    TX\n",
       "NG           0.053121           0.062912    TX\n",
       "OOG          0.132470                NaN    TX\n",
       "OTH          0.533980                NaN    TX\n",
       "SUN          0.247843                NaN    TX\n",
       "WAS          1.000000                NaN    TX\n",
       "WWW          0.443587                NaN    TX\n",
       "GEO          1.000000                NaN    NM\n",
       "NG           0.090467           0.085517    NM\n",
       "SUN          0.638877                NaN    NM\n",
       "WAS          1.000000                NaN    NM\n",
       "NG           0.055065           0.050793    LA\n",
       "OOG          0.100225                NaN    LA\n",
       "OTH          0.580154                NaN    LA\n",
       "WAS          0.930467                NaN    LA\n",
       "WWW          0.516165                NaN    LA\n",
       "HYC          0.202653                NaN    AR\n",
       "WAS          1.000000                NaN    AR\n",
       "WWW          0.086687                NaN    AR\n",
       "NG           0.089319           0.123133    MO\n",
       "SUN          0.860146                NaN    MO\n",
       "WAS          1.000000                NaN    MO\n",
       "HYC          0.942665                NaN    MN\n",
       "NG           0.064268           0.084587    MN\n",
       "OTH          0.555342                NaN    MN\n",
       "SUN          0.794821                NaN    MN\n",
       "WAS          0.711827                NaN    MN\n",
       "WND          0.112260                NaN    MN\n",
       "WWW          0.596931                NaN    MN\n",
       "NG           0.060489           0.059321    IL\n",
       "OOG          0.961357                NaN    IL\n",
       "OTH          0.987482                NaN    IL\n",
       "PEL          0.052267           0.059331    IL\n",
       "SUN          1.000000                NaN    IL\n",
       "WAS          1.000000                NaN    IL\n",
       "HYC          0.128468                NaN    KY\n",
       "WAS          1.000000                NaN    KY\n",
       "HYC          1.139389                NaN    VA\n",
       "OTH          0.164274                NaN    VA\n",
       "PEL          0.055163           0.055660    VA\n",
       "WAS          0.642315                NaN    VA\n",
       "WWW          0.095183                NaN    VA\n",
       "HYC          1.000000                NaN    FL\n",
       "OTH          0.318424                NaN    FL\n",
       "SUN          0.317072                NaN    FL\n",
       "WAS          0.585390                NaN    FL\n",
       "WWW          0.466676                NaN    FL"
      ]
     },
     "execution_count": 94,
     "metadata": {},
     "output_type": "execute_result"
    }
   ],
   "source": [
    "pd.concat(error_list)"
   ]
  }
 ],
 "metadata": {
  "kernelspec": {
   "display_name": "Python 2",
   "language": "python",
   "name": "python2"
  },
  "language_info": {
   "codemirror_mode": {
    "name": "ipython",
    "version": 2
   },
   "file_extension": ".py",
   "mimetype": "text/x-python",
   "name": "python",
   "nbconvert_exporter": "python",
   "pygments_lexer": "ipython2",
   "version": "2.7.13"
  }
 },
 "nbformat": 4,
 "nbformat_minor": 2
}
