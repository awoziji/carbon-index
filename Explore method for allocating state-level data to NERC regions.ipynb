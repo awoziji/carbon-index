{
 "cells": [
  {
   "cell_type": "code",
   "execution_count": 4,
   "metadata": {
    "ExecuteTime": {
     "end_time": "2017-08-08T16:46:03.602776Z",
     "start_time": "2017-08-08T16:46:03.376758Z"
    },
    "collapsed": true
   },
   "outputs": [],
   "source": [
    "%matplotlib inline\n",
    "import pandas as pd\n",
    "import seaborn as sns\n",
    "import matplotlib.pyplot as plt\n",
    "import os\n",
    "import glob\n",
    "import numpy as np\n",
    "import geopandas as gpd\n",
    "from shapely.geometry import Point\n",
    "from geopandas import GeoDataFrame"
   ]
  },
  {
   "cell_type": "markdown",
   "metadata": {},
   "source": [
    "## Import facility data and NERC labels"
   ]
  },
  {
   "cell_type": "code",
   "execution_count": 164,
   "metadata": {
    "ExecuteTime": {
     "end_time": "2017-08-08T19:39:43.440142Z",
     "start_time": "2017-08-08T19:39:34.762652Z"
    },
    "collapsed": true
   },
   "outputs": [],
   "source": [
    "path = os.path.join('Data storage', 'Facility gen fuels and CO2 2017-05-25.zip')\n",
    "facility_df = pd.read_csv(path, parse_dates=['datetime'])"
   ]
  },
  {
   "cell_type": "code",
   "execution_count": 18,
   "metadata": {
    "ExecuteTime": {
     "end_time": "2017-08-08T16:52:17.840902Z",
     "start_time": "2017-08-08T16:52:17.804900Z"
    }
   },
   "outputs": [
    {
     "data": {
      "text/html": [
       "<div>\n",
       "<style>\n",
       "    .dataframe thead tr:only-child th {\n",
       "        text-align: right;\n",
       "    }\n",
       "\n",
       "    .dataframe thead th {\n",
       "        text-align: left;\n",
       "    }\n",
       "\n",
       "    .dataframe tbody tr th {\n",
       "        vertical-align: top;\n",
       "    }\n",
       "</style>\n",
       "<table border=\"1\" class=\"dataframe\">\n",
       "  <thead>\n",
       "    <tr style=\"text-align: right;\">\n",
       "      <th></th>\n",
       "      <th>f</th>\n",
       "      <th>fuel</th>\n",
       "      <th>month</th>\n",
       "      <th>plant id</th>\n",
       "      <th>total fuel (mmbtu)</th>\n",
       "      <th>year</th>\n",
       "      <th>generation (MWh)</th>\n",
       "      <th>elec fuel (mmbtu)</th>\n",
       "      <th>geography</th>\n",
       "      <th>last_updated</th>\n",
       "      <th>lat</th>\n",
       "      <th>lon</th>\n",
       "      <th>prime mover</th>\n",
       "      <th>datetime</th>\n",
       "      <th>quarter</th>\n",
       "      <th>all fuel fossil CO2 (kg)</th>\n",
       "      <th>elec fuel fossil CO2 (kg)</th>\n",
       "      <th>all fuel total CO2 (kg)</th>\n",
       "      <th>elec fuel total CO2 (kg)</th>\n",
       "    </tr>\n",
       "  </thead>\n",
       "  <tbody>\n",
       "    <tr>\n",
       "      <th>0</th>\n",
       "      <td>M</td>\n",
       "      <td>NG</td>\n",
       "      <td>3</td>\n",
       "      <td>10275</td>\n",
       "      <td>0.0</td>\n",
       "      <td>2017</td>\n",
       "      <td>0.0</td>\n",
       "      <td>0.0</td>\n",
       "      <td>USA-FL</td>\n",
       "      <td>2017-05-24T14:26:30-04:00</td>\n",
       "      <td>27.9114</td>\n",
       "      <td>-81.6006</td>\n",
       "      <td>ALL</td>\n",
       "      <td>2017-03-01</td>\n",
       "      <td>1</td>\n",
       "      <td>0.0</td>\n",
       "      <td>0.0</td>\n",
       "      <td>0.0</td>\n",
       "      <td>0.0</td>\n",
       "    </tr>\n",
       "    <tr>\n",
       "      <th>1</th>\n",
       "      <td>M</td>\n",
       "      <td>NG</td>\n",
       "      <td>2</td>\n",
       "      <td>10275</td>\n",
       "      <td>0.0</td>\n",
       "      <td>2017</td>\n",
       "      <td>0.0</td>\n",
       "      <td>0.0</td>\n",
       "      <td>USA-FL</td>\n",
       "      <td>2017-05-24T14:26:30-04:00</td>\n",
       "      <td>27.9114</td>\n",
       "      <td>-81.6006</td>\n",
       "      <td>ALL</td>\n",
       "      <td>2017-02-01</td>\n",
       "      <td>1</td>\n",
       "      <td>0.0</td>\n",
       "      <td>0.0</td>\n",
       "      <td>0.0</td>\n",
       "      <td>0.0</td>\n",
       "    </tr>\n",
       "    <tr>\n",
       "      <th>2</th>\n",
       "      <td>M</td>\n",
       "      <td>NG</td>\n",
       "      <td>1</td>\n",
       "      <td>10275</td>\n",
       "      <td>0.0</td>\n",
       "      <td>2017</td>\n",
       "      <td>0.0</td>\n",
       "      <td>0.0</td>\n",
       "      <td>USA-FL</td>\n",
       "      <td>2017-05-24T14:26:30-04:00</td>\n",
       "      <td>27.9114</td>\n",
       "      <td>-81.6006</td>\n",
       "      <td>ALL</td>\n",
       "      <td>2017-01-01</td>\n",
       "      <td>1</td>\n",
       "      <td>0.0</td>\n",
       "      <td>0.0</td>\n",
       "      <td>0.0</td>\n",
       "      <td>0.0</td>\n",
       "    </tr>\n",
       "    <tr>\n",
       "      <th>3</th>\n",
       "      <td>M</td>\n",
       "      <td>NG</td>\n",
       "      <td>12</td>\n",
       "      <td>10275</td>\n",
       "      <td>0.0</td>\n",
       "      <td>2016</td>\n",
       "      <td>0.0</td>\n",
       "      <td>0.0</td>\n",
       "      <td>USA-FL</td>\n",
       "      <td>2017-05-24T14:26:30-04:00</td>\n",
       "      <td>27.9114</td>\n",
       "      <td>-81.6006</td>\n",
       "      <td>ALL</td>\n",
       "      <td>2016-12-01</td>\n",
       "      <td>4</td>\n",
       "      <td>0.0</td>\n",
       "      <td>0.0</td>\n",
       "      <td>0.0</td>\n",
       "      <td>0.0</td>\n",
       "    </tr>\n",
       "    <tr>\n",
       "      <th>4</th>\n",
       "      <td>M</td>\n",
       "      <td>NG</td>\n",
       "      <td>11</td>\n",
       "      <td>10275</td>\n",
       "      <td>0.0</td>\n",
       "      <td>2016</td>\n",
       "      <td>0.0</td>\n",
       "      <td>0.0</td>\n",
       "      <td>USA-FL</td>\n",
       "      <td>2017-05-24T14:26:30-04:00</td>\n",
       "      <td>27.9114</td>\n",
       "      <td>-81.6006</td>\n",
       "      <td>ALL</td>\n",
       "      <td>2016-11-01</td>\n",
       "      <td>4</td>\n",
       "      <td>0.0</td>\n",
       "      <td>0.0</td>\n",
       "      <td>0.0</td>\n",
       "      <td>0.0</td>\n",
       "    </tr>\n",
       "  </tbody>\n",
       "</table>\n",
       "</div>"
      ],
      "text/plain": [
       "   f fuel  month  plant id  total fuel (mmbtu)  year  generation (MWh)  \\\n",
       "0  M   NG      3     10275                 0.0  2017               0.0   \n",
       "1  M   NG      2     10275                 0.0  2017               0.0   \n",
       "2  M   NG      1     10275                 0.0  2017               0.0   \n",
       "3  M   NG     12     10275                 0.0  2016               0.0   \n",
       "4  M   NG     11     10275                 0.0  2016               0.0   \n",
       "\n",
       "   elec fuel (mmbtu) geography               last_updated      lat      lon  \\\n",
       "0                0.0    USA-FL  2017-05-24T14:26:30-04:00  27.9114 -81.6006   \n",
       "1                0.0    USA-FL  2017-05-24T14:26:30-04:00  27.9114 -81.6006   \n",
       "2                0.0    USA-FL  2017-05-24T14:26:30-04:00  27.9114 -81.6006   \n",
       "3                0.0    USA-FL  2017-05-24T14:26:30-04:00  27.9114 -81.6006   \n",
       "4                0.0    USA-FL  2017-05-24T14:26:30-04:00  27.9114 -81.6006   \n",
       "\n",
       "  prime mover   datetime  quarter  all fuel fossil CO2 (kg)  \\\n",
       "0         ALL 2017-03-01        1                       0.0   \n",
       "1         ALL 2017-02-01        1                       0.0   \n",
       "2         ALL 2017-01-01        1                       0.0   \n",
       "3         ALL 2016-12-01        4                       0.0   \n",
       "4         ALL 2016-11-01        4                       0.0   \n",
       "\n",
       "   elec fuel fossil CO2 (kg)  all fuel total CO2 (kg)  \\\n",
       "0                        0.0                      0.0   \n",
       "1                        0.0                      0.0   \n",
       "2                        0.0                      0.0   \n",
       "3                        0.0                      0.0   \n",
       "4                        0.0                      0.0   \n",
       "\n",
       "   elec fuel total CO2 (kg)  \n",
       "0                       0.0  \n",
       "1                       0.0  \n",
       "2                       0.0  \n",
       "3                       0.0  \n",
       "4                       0.0  "
      ]
     },
     "execution_count": 18,
     "metadata": {},
     "output_type": "execute_result"
    }
   ],
   "source": [
    "facility_df.head()"
   ]
  },
  {
   "cell_type": "code",
   "execution_count": 165,
   "metadata": {
    "ExecuteTime": {
     "end_time": "2017-08-08T19:39:43.916170Z",
     "start_time": "2017-08-08T19:39:43.443143Z"
    },
    "collapsed": true
   },
   "outputs": [],
   "source": [
    "facility_df.dropna(inplace=True, subset=['lat', 'lon'])"
   ]
  },
  {
   "cell_type": "code",
   "execution_count": 90,
   "metadata": {
    "ExecuteTime": {
     "end_time": "2017-08-08T18:47:29.919203Z",
     "start_time": "2017-08-08T18:47:29.555183Z"
    },
    "collapsed": true
   },
   "outputs": [],
   "source": [
    "cols = ['lat', 'lon', 'plant id', 'year']\n",
    "small_facility = facility_df.loc[:, cols].drop_duplicates()"
   ]
  },
  {
   "cell_type": "code",
   "execution_count": 91,
   "metadata": {
    "ExecuteTime": {
     "end_time": "2017-08-08T18:47:32.042329Z",
     "start_time": "2017-08-08T18:47:29.922204Z"
    },
    "collapsed": true
   },
   "outputs": [],
   "source": [
    "geometry = [Point(xy) for xy in zip(small_facility.lon, small_facility.lat)]\n",
    "# small_facility = small_facility.drop(['lon', 'lat'], axis=1)\n",
    "crs = {'init': 'epsg:4326'}\n",
    "geo_df = GeoDataFrame(small_facility, crs=crs, geometry=geometry)"
   ]
  },
  {
   "cell_type": "markdown",
   "metadata": {},
   "source": [
    "## Read NERC shapefile and merge with `geo_df`"
   ]
  },
  {
   "cell_type": "code",
   "execution_count": 5,
   "metadata": {
    "ExecuteTime": {
     "end_time": "2017-08-08T16:46:05.950909Z",
     "start_time": "2017-08-08T16:46:05.280871Z"
    }
   },
   "outputs": [],
   "source": [
    "path = os.path.join('Data storage', 'NERC_Regions_EIA', 'NercRegions_201610.shp')\n",
    "regions = gpd.read_file(path)"
   ]
  },
  {
   "cell_type": "code",
   "execution_count": 10,
   "metadata": {
    "ExecuteTime": {
     "end_time": "2017-08-08T16:48:45.036910Z",
     "start_time": "2017-08-08T16:48:26.845859Z"
    },
    "collapsed": true
   },
   "outputs": [],
   "source": [
    "facility_nerc = gpd.sjoin(geo_df, regions, how='inner', op='within')"
   ]
  },
  {
   "cell_type": "code",
   "execution_count": 11,
   "metadata": {
    "ExecuteTime": {
     "end_time": "2017-08-08T16:49:03.540936Z",
     "start_time": "2017-08-08T16:49:03.518930Z"
    }
   },
   "outputs": [
    {
     "data": {
      "text/html": [
       "<div>\n",
       "<style>\n",
       "    .dataframe thead tr:only-child th {\n",
       "        text-align: right;\n",
       "    }\n",
       "\n",
       "    .dataframe thead th {\n",
       "        text-align: left;\n",
       "    }\n",
       "\n",
       "    .dataframe tbody tr th {\n",
       "        vertical-align: top;\n",
       "    }\n",
       "</style>\n",
       "<table border=\"1\" class=\"dataframe\">\n",
       "  <thead>\n",
       "    <tr style=\"text-align: right;\">\n",
       "      <th></th>\n",
       "      <th>lat</th>\n",
       "      <th>lon</th>\n",
       "      <th>plant id</th>\n",
       "      <th>year</th>\n",
       "      <th>geometry</th>\n",
       "      <th>index_right</th>\n",
       "      <th>NERC</th>\n",
       "      <th>NERC_Label</th>\n",
       "    </tr>\n",
       "  </thead>\n",
       "  <tbody>\n",
       "    <tr>\n",
       "      <th>0</th>\n",
       "      <td>27.9114</td>\n",
       "      <td>-81.6006</td>\n",
       "      <td>10275</td>\n",
       "      <td>2017</td>\n",
       "      <td>POINT (-81.6006 27.9114)</td>\n",
       "      <td>1</td>\n",
       "      <td>FRCC</td>\n",
       "      <td>Florida Reliability Coordinating Council (FRCC)</td>\n",
       "    </tr>\n",
       "    <tr>\n",
       "      <th>3</th>\n",
       "      <td>27.9114</td>\n",
       "      <td>-81.6006</td>\n",
       "      <td>10275</td>\n",
       "      <td>2016</td>\n",
       "      <td>POINT (-81.6006 27.9114)</td>\n",
       "      <td>1</td>\n",
       "      <td>FRCC</td>\n",
       "      <td>Florida Reliability Coordinating Council (FRCC)</td>\n",
       "    </tr>\n",
       "    <tr>\n",
       "      <th>15</th>\n",
       "      <td>27.9114</td>\n",
       "      <td>-81.6006</td>\n",
       "      <td>10275</td>\n",
       "      <td>2015</td>\n",
       "      <td>POINT (-81.6006 27.9114)</td>\n",
       "      <td>1</td>\n",
       "      <td>FRCC</td>\n",
       "      <td>Florida Reliability Coordinating Council (FRCC)</td>\n",
       "    </tr>\n",
       "    <tr>\n",
       "      <th>27</th>\n",
       "      <td>27.9114</td>\n",
       "      <td>-81.6006</td>\n",
       "      <td>10275</td>\n",
       "      <td>2014</td>\n",
       "      <td>POINT (-81.6006 27.9114)</td>\n",
       "      <td>1</td>\n",
       "      <td>FRCC</td>\n",
       "      <td>Florida Reliability Coordinating Council (FRCC)</td>\n",
       "    </tr>\n",
       "    <tr>\n",
       "      <th>39</th>\n",
       "      <td>27.9114</td>\n",
       "      <td>-81.6006</td>\n",
       "      <td>10275</td>\n",
       "      <td>2013</td>\n",
       "      <td>POINT (-81.6006 27.9114)</td>\n",
       "      <td>1</td>\n",
       "      <td>FRCC</td>\n",
       "      <td>Florida Reliability Coordinating Council (FRCC)</td>\n",
       "    </tr>\n",
       "  </tbody>\n",
       "</table>\n",
       "</div>"
      ],
      "text/plain": [
       "        lat      lon  plant id  year                  geometry  index_right  \\\n",
       "0   27.9114 -81.6006     10275  2017  POINT (-81.6006 27.9114)            1   \n",
       "3   27.9114 -81.6006     10275  2016  POINT (-81.6006 27.9114)            1   \n",
       "15  27.9114 -81.6006     10275  2015  POINT (-81.6006 27.9114)            1   \n",
       "27  27.9114 -81.6006     10275  2014  POINT (-81.6006 27.9114)            1   \n",
       "39  27.9114 -81.6006     10275  2013  POINT (-81.6006 27.9114)            1   \n",
       "\n",
       "    NERC                                       NERC_Label  \n",
       "0   FRCC  Florida Reliability Coordinating Council (FRCC)  \n",
       "3   FRCC  Florida Reliability Coordinating Council (FRCC)  \n",
       "15  FRCC  Florida Reliability Coordinating Council (FRCC)  \n",
       "27  FRCC  Florida Reliability Coordinating Council (FRCC)  \n",
       "39  FRCC  Florida Reliability Coordinating Council (FRCC)  "
      ]
     },
     "execution_count": 11,
     "metadata": {},
     "output_type": "execute_result"
    }
   ],
   "source": [
    "facility_nerc.head()"
   ]
  },
  {
   "cell_type": "markdown",
   "metadata": {},
   "source": [
    "## Merge NERC labels into the facility df"
   ]
  },
  {
   "cell_type": "code",
   "execution_count": 166,
   "metadata": {
    "ExecuteTime": {
     "end_time": "2017-08-08T19:39:53.186693Z",
     "start_time": "2017-08-08T19:39:51.180580Z"
    },
    "collapsed": true
   },
   "outputs": [],
   "source": [
    "cols = ['plant id', 'year', 'NERC']\n",
    "facility_df = facility_df.merge(facility_nerc.loc[:, cols],\n",
    "                                on=['plant id', 'year'], how='left')"
   ]
  },
  {
   "cell_type": "code",
   "execution_count": 167,
   "metadata": {
    "ExecuteTime": {
     "end_time": "2017-08-08T19:39:53.834730Z",
     "start_time": "2017-08-08T19:39:53.797728Z"
    }
   },
   "outputs": [
    {
     "data": {
      "text/html": [
       "<div>\n",
       "<style>\n",
       "    .dataframe thead tr:only-child th {\n",
       "        text-align: right;\n",
       "    }\n",
       "\n",
       "    .dataframe thead th {\n",
       "        text-align: left;\n",
       "    }\n",
       "\n",
       "    .dataframe tbody tr th {\n",
       "        vertical-align: top;\n",
       "    }\n",
       "</style>\n",
       "<table border=\"1\" class=\"dataframe\">\n",
       "  <thead>\n",
       "    <tr style=\"text-align: right;\">\n",
       "      <th></th>\n",
       "      <th>f</th>\n",
       "      <th>fuel</th>\n",
       "      <th>month</th>\n",
       "      <th>plant id</th>\n",
       "      <th>total fuel (mmbtu)</th>\n",
       "      <th>year</th>\n",
       "      <th>generation (MWh)</th>\n",
       "      <th>elec fuel (mmbtu)</th>\n",
       "      <th>geography</th>\n",
       "      <th>last_updated</th>\n",
       "      <th>lat</th>\n",
       "      <th>lon</th>\n",
       "      <th>prime mover</th>\n",
       "      <th>datetime</th>\n",
       "      <th>quarter</th>\n",
       "      <th>all fuel fossil CO2 (kg)</th>\n",
       "      <th>elec fuel fossil CO2 (kg)</th>\n",
       "      <th>all fuel total CO2 (kg)</th>\n",
       "      <th>elec fuel total CO2 (kg)</th>\n",
       "      <th>NERC</th>\n",
       "    </tr>\n",
       "  </thead>\n",
       "  <tbody>\n",
       "    <tr>\n",
       "      <th>0</th>\n",
       "      <td>M</td>\n",
       "      <td>NG</td>\n",
       "      <td>3</td>\n",
       "      <td>10275</td>\n",
       "      <td>0.0</td>\n",
       "      <td>2017</td>\n",
       "      <td>0.0</td>\n",
       "      <td>0.0</td>\n",
       "      <td>USA-FL</td>\n",
       "      <td>2017-05-24T14:26:30-04:00</td>\n",
       "      <td>27.9114</td>\n",
       "      <td>-81.6006</td>\n",
       "      <td>ALL</td>\n",
       "      <td>2017-03-01</td>\n",
       "      <td>1</td>\n",
       "      <td>0.0</td>\n",
       "      <td>0.0</td>\n",
       "      <td>0.0</td>\n",
       "      <td>0.0</td>\n",
       "      <td>FRCC</td>\n",
       "    </tr>\n",
       "    <tr>\n",
       "      <th>1</th>\n",
       "      <td>M</td>\n",
       "      <td>NG</td>\n",
       "      <td>2</td>\n",
       "      <td>10275</td>\n",
       "      <td>0.0</td>\n",
       "      <td>2017</td>\n",
       "      <td>0.0</td>\n",
       "      <td>0.0</td>\n",
       "      <td>USA-FL</td>\n",
       "      <td>2017-05-24T14:26:30-04:00</td>\n",
       "      <td>27.9114</td>\n",
       "      <td>-81.6006</td>\n",
       "      <td>ALL</td>\n",
       "      <td>2017-02-01</td>\n",
       "      <td>1</td>\n",
       "      <td>0.0</td>\n",
       "      <td>0.0</td>\n",
       "      <td>0.0</td>\n",
       "      <td>0.0</td>\n",
       "      <td>FRCC</td>\n",
       "    </tr>\n",
       "    <tr>\n",
       "      <th>2</th>\n",
       "      <td>M</td>\n",
       "      <td>NG</td>\n",
       "      <td>1</td>\n",
       "      <td>10275</td>\n",
       "      <td>0.0</td>\n",
       "      <td>2017</td>\n",
       "      <td>0.0</td>\n",
       "      <td>0.0</td>\n",
       "      <td>USA-FL</td>\n",
       "      <td>2017-05-24T14:26:30-04:00</td>\n",
       "      <td>27.9114</td>\n",
       "      <td>-81.6006</td>\n",
       "      <td>ALL</td>\n",
       "      <td>2017-01-01</td>\n",
       "      <td>1</td>\n",
       "      <td>0.0</td>\n",
       "      <td>0.0</td>\n",
       "      <td>0.0</td>\n",
       "      <td>0.0</td>\n",
       "      <td>FRCC</td>\n",
       "    </tr>\n",
       "    <tr>\n",
       "      <th>3</th>\n",
       "      <td>M</td>\n",
       "      <td>NG</td>\n",
       "      <td>12</td>\n",
       "      <td>10275</td>\n",
       "      <td>0.0</td>\n",
       "      <td>2016</td>\n",
       "      <td>0.0</td>\n",
       "      <td>0.0</td>\n",
       "      <td>USA-FL</td>\n",
       "      <td>2017-05-24T14:26:30-04:00</td>\n",
       "      <td>27.9114</td>\n",
       "      <td>-81.6006</td>\n",
       "      <td>ALL</td>\n",
       "      <td>2016-12-01</td>\n",
       "      <td>4</td>\n",
       "      <td>0.0</td>\n",
       "      <td>0.0</td>\n",
       "      <td>0.0</td>\n",
       "      <td>0.0</td>\n",
       "      <td>FRCC</td>\n",
       "    </tr>\n",
       "    <tr>\n",
       "      <th>4</th>\n",
       "      <td>M</td>\n",
       "      <td>NG</td>\n",
       "      <td>11</td>\n",
       "      <td>10275</td>\n",
       "      <td>0.0</td>\n",
       "      <td>2016</td>\n",
       "      <td>0.0</td>\n",
       "      <td>0.0</td>\n",
       "      <td>USA-FL</td>\n",
       "      <td>2017-05-24T14:26:30-04:00</td>\n",
       "      <td>27.9114</td>\n",
       "      <td>-81.6006</td>\n",
       "      <td>ALL</td>\n",
       "      <td>2016-11-01</td>\n",
       "      <td>4</td>\n",
       "      <td>0.0</td>\n",
       "      <td>0.0</td>\n",
       "      <td>0.0</td>\n",
       "      <td>0.0</td>\n",
       "      <td>FRCC</td>\n",
       "    </tr>\n",
       "  </tbody>\n",
       "</table>\n",
       "</div>"
      ],
      "text/plain": [
       "   f fuel  month  plant id  total fuel (mmbtu)  year  generation (MWh)  \\\n",
       "0  M   NG      3     10275                 0.0  2017               0.0   \n",
       "1  M   NG      2     10275                 0.0  2017               0.0   \n",
       "2  M   NG      1     10275                 0.0  2017               0.0   \n",
       "3  M   NG     12     10275                 0.0  2016               0.0   \n",
       "4  M   NG     11     10275                 0.0  2016               0.0   \n",
       "\n",
       "   elec fuel (mmbtu) geography               last_updated      lat      lon  \\\n",
       "0                0.0    USA-FL  2017-05-24T14:26:30-04:00  27.9114 -81.6006   \n",
       "1                0.0    USA-FL  2017-05-24T14:26:30-04:00  27.9114 -81.6006   \n",
       "2                0.0    USA-FL  2017-05-24T14:26:30-04:00  27.9114 -81.6006   \n",
       "3                0.0    USA-FL  2017-05-24T14:26:30-04:00  27.9114 -81.6006   \n",
       "4                0.0    USA-FL  2017-05-24T14:26:30-04:00  27.9114 -81.6006   \n",
       "\n",
       "  prime mover   datetime  quarter  all fuel fossil CO2 (kg)  \\\n",
       "0         ALL 2017-03-01        1                       0.0   \n",
       "1         ALL 2017-02-01        1                       0.0   \n",
       "2         ALL 2017-01-01        1                       0.0   \n",
       "3         ALL 2016-12-01        4                       0.0   \n",
       "4         ALL 2016-11-01        4                       0.0   \n",
       "\n",
       "   elec fuel fossil CO2 (kg)  all fuel total CO2 (kg)  \\\n",
       "0                        0.0                      0.0   \n",
       "1                        0.0                      0.0   \n",
       "2                        0.0                      0.0   \n",
       "3                        0.0                      0.0   \n",
       "4                        0.0                      0.0   \n",
       "\n",
       "   elec fuel total CO2 (kg)  NERC  \n",
       "0                       0.0  FRCC  \n",
       "1                       0.0  FRCC  \n",
       "2                       0.0  FRCC  \n",
       "3                       0.0  FRCC  \n",
       "4                       0.0  FRCC  "
      ]
     },
     "execution_count": 167,
     "metadata": {},
     "output_type": "execute_result"
    }
   ],
   "source": [
    "facility_df.head()"
   ]
  },
  {
   "cell_type": "markdown",
   "metadata": {},
   "source": [
    "Filter out data older than 2014 to reduce size"
   ]
  },
  {
   "cell_type": "code",
   "execution_count": 168,
   "metadata": {
    "ExecuteTime": {
     "end_time": "2017-08-08T19:40:02.461222Z",
     "start_time": "2017-08-08T19:40:00.995134Z"
    },
    "collapsed": true
   },
   "outputs": [],
   "source": [
    "facility_df['state'] = facility_df['geography'].str[-2:]\n",
    "keep_cols = ['fuel', 'year', 'month', 'datetime', 'state', 'plant id', 'NERC',\n",
    "             'generation (MWh)', 'total fuel (mmbtu)', 'elec fuel (mmbtu)']\n",
    "facility_df = facility_df.loc[facility_df['year'] >= 2014, keep_cols]"
   ]
  },
  {
   "cell_type": "code",
   "execution_count": 169,
   "metadata": {
    "ExecuteTime": {
     "end_time": "2017-08-08T19:40:03.232260Z",
     "start_time": "2017-08-08T19:40:03.075251Z"
    },
    "collapsed": true
   },
   "outputs": [],
   "source": [
    "facility_fuel_cats = {'COW': ['SUB', 'BIT', 'LIG', 'WC', 'SC', 'RC', 'SGC'],\n",
    "                      'NG': ['NG'],\n",
    "                      'PEL': ['DFO', 'RFO', 'KER', 'JF',\n",
    "                              'PG', 'WO', 'SGP'],\n",
    "                      'PC': ['PC'],\n",
    "                      'HYC': ['WAT'],\n",
    "                      'HPS': [],\n",
    "                      'GEO': ['GEO'],\n",
    "                      'NUC': ['NUC'],\n",
    "                      'OOG': ['BFG', 'OG', 'LFG'],\n",
    "                      'OTH': ['OTH', 'MSN', 'MSW', 'PUR', 'TDF', 'WH'],\n",
    "                      'SUN': ['SUN'],\n",
    "                      'DPV': [],\n",
    "                      'WAS': ['OBL', 'OBS', 'OBG', 'MSB', 'SLW'],\n",
    "                      'WND': ['WND'],\n",
    "                      'WWW': ['WDL', 'WDS', 'AB', 'BLQ']\n",
    "                      }"
   ]
  },
  {
   "cell_type": "code",
   "execution_count": 170,
   "metadata": {
    "ExecuteTime": {
     "end_time": "2017-08-08T19:40:04.378330Z",
     "start_time": "2017-08-08T19:40:03.756290Z"
    },
    "collapsed": true
   },
   "outputs": [],
   "source": [
    "for category in facility_fuel_cats.keys():\n",
    "    fuels = facility_fuel_cats[category]\n",
    "    facility_df.loc[facility_df['fuel'].isin(fuels),\n",
    "                    'fuel category'] = category"
   ]
  },
  {
   "cell_type": "code",
   "execution_count": 171,
   "metadata": {
    "ExecuteTime": {
     "end_time": "2017-08-08T19:40:04.514333Z",
     "start_time": "2017-08-08T19:40:04.487331Z"
    }
   },
   "outputs": [
    {
     "data": {
      "text/html": [
       "<div>\n",
       "<style>\n",
       "    .dataframe thead tr:only-child th {\n",
       "        text-align: right;\n",
       "    }\n",
       "\n",
       "    .dataframe thead th {\n",
       "        text-align: left;\n",
       "    }\n",
       "\n",
       "    .dataframe tbody tr th {\n",
       "        vertical-align: top;\n",
       "    }\n",
       "</style>\n",
       "<table border=\"1\" class=\"dataframe\">\n",
       "  <thead>\n",
       "    <tr style=\"text-align: right;\">\n",
       "      <th></th>\n",
       "      <th>fuel</th>\n",
       "      <th>year</th>\n",
       "      <th>month</th>\n",
       "      <th>datetime</th>\n",
       "      <th>state</th>\n",
       "      <th>plant id</th>\n",
       "      <th>NERC</th>\n",
       "      <th>generation (MWh)</th>\n",
       "      <th>total fuel (mmbtu)</th>\n",
       "      <th>elec fuel (mmbtu)</th>\n",
       "      <th>fuel category</th>\n",
       "    </tr>\n",
       "  </thead>\n",
       "  <tbody>\n",
       "    <tr>\n",
       "      <th>0</th>\n",
       "      <td>NG</td>\n",
       "      <td>2017</td>\n",
       "      <td>3</td>\n",
       "      <td>2017-03-01</td>\n",
       "      <td>FL</td>\n",
       "      <td>10275</td>\n",
       "      <td>FRCC</td>\n",
       "      <td>0.0</td>\n",
       "      <td>0.0</td>\n",
       "      <td>0.0</td>\n",
       "      <td>NG</td>\n",
       "    </tr>\n",
       "    <tr>\n",
       "      <th>1</th>\n",
       "      <td>NG</td>\n",
       "      <td>2017</td>\n",
       "      <td>2</td>\n",
       "      <td>2017-02-01</td>\n",
       "      <td>FL</td>\n",
       "      <td>10275</td>\n",
       "      <td>FRCC</td>\n",
       "      <td>0.0</td>\n",
       "      <td>0.0</td>\n",
       "      <td>0.0</td>\n",
       "      <td>NG</td>\n",
       "    </tr>\n",
       "    <tr>\n",
       "      <th>2</th>\n",
       "      <td>NG</td>\n",
       "      <td>2017</td>\n",
       "      <td>1</td>\n",
       "      <td>2017-01-01</td>\n",
       "      <td>FL</td>\n",
       "      <td>10275</td>\n",
       "      <td>FRCC</td>\n",
       "      <td>0.0</td>\n",
       "      <td>0.0</td>\n",
       "      <td>0.0</td>\n",
       "      <td>NG</td>\n",
       "    </tr>\n",
       "    <tr>\n",
       "      <th>3</th>\n",
       "      <td>NG</td>\n",
       "      <td>2016</td>\n",
       "      <td>12</td>\n",
       "      <td>2016-12-01</td>\n",
       "      <td>FL</td>\n",
       "      <td>10275</td>\n",
       "      <td>FRCC</td>\n",
       "      <td>0.0</td>\n",
       "      <td>0.0</td>\n",
       "      <td>0.0</td>\n",
       "      <td>NG</td>\n",
       "    </tr>\n",
       "    <tr>\n",
       "      <th>4</th>\n",
       "      <td>NG</td>\n",
       "      <td>2016</td>\n",
       "      <td>11</td>\n",
       "      <td>2016-11-01</td>\n",
       "      <td>FL</td>\n",
       "      <td>10275</td>\n",
       "      <td>FRCC</td>\n",
       "      <td>0.0</td>\n",
       "      <td>0.0</td>\n",
       "      <td>0.0</td>\n",
       "      <td>NG</td>\n",
       "    </tr>\n",
       "  </tbody>\n",
       "</table>\n",
       "</div>"
      ],
      "text/plain": [
       "  fuel  year  month   datetime state  plant id  NERC  generation (MWh)  \\\n",
       "0   NG  2017      3 2017-03-01    FL     10275  FRCC               0.0   \n",
       "1   NG  2017      2 2017-02-01    FL     10275  FRCC               0.0   \n",
       "2   NG  2017      1 2017-01-01    FL     10275  FRCC               0.0   \n",
       "3   NG  2016     12 2016-12-01    FL     10275  FRCC               0.0   \n",
       "4   NG  2016     11 2016-11-01    FL     10275  FRCC               0.0   \n",
       "\n",
       "   total fuel (mmbtu)  elec fuel (mmbtu) fuel category  \n",
       "0                 0.0                0.0            NG  \n",
       "1                 0.0                0.0            NG  \n",
       "2                 0.0                0.0            NG  \n",
       "3                 0.0                0.0            NG  \n",
       "4                 0.0                0.0            NG  "
      ]
     },
     "execution_count": 171,
     "metadata": {},
     "output_type": "execute_result"
    }
   ],
   "source": [
    "facility_df.head()"
   ]
  },
  {
   "cell_type": "code",
   "execution_count": 172,
   "metadata": {
    "ExecuteTime": {
     "end_time": "2017-08-08T19:40:12.389777Z",
     "start_time": "2017-08-08T19:40:12.379777Z"
    }
   },
   "outputs": [
    {
     "data": {
      "text/plain": [
       "fuel                          object\n",
       "year                           int64\n",
       "month                          int64\n",
       "datetime              datetime64[ns]\n",
       "state                         object\n",
       "plant id                       int64\n",
       "NERC                          object\n",
       "generation (MWh)             float64\n",
       "total fuel (mmbtu)           float64\n",
       "elec fuel (mmbtu)            float64\n",
       "fuel category                 object\n",
       "dtype: object"
      ]
     },
     "execution_count": 172,
     "metadata": {},
     "output_type": "execute_result"
    }
   ],
   "source": [
    "facility_df.dtypes"
   ]
  },
  {
   "cell_type": "code",
   "execution_count": 98,
   "metadata": {
    "ExecuteTime": {
     "end_time": "2017-08-08T18:48:02.434039Z",
     "start_time": "2017-08-08T18:48:02.403037Z"
    }
   },
   "outputs": [
    {
     "data": {
      "text/plain": [
       "array(['HI', 'FL', 'VA', 'MI', 'ME', 'MN', 'CA', 'AK', 'NY', 'MD', 'WI',\n",
       "       'NH', 'PA', 'OR', 'MA', 'IL', 'DC', 'RI', 'TX', 'CT', 'WA'], dtype=object)"
      ]
     },
     "execution_count": 98,
     "metadata": {},
     "output_type": "execute_result"
    }
   ],
   "source": [
    "facility_df.loc[facility_df['NERC'].isnull(), 'state'].unique()"
   ]
  },
  {
   "cell_type": "markdown",
   "metadata": {
    "heading_collapsed": true
   },
   "source": [
    "## Import state-level generation data"
   ]
  },
  {
   "cell_type": "code",
   "execution_count": 28,
   "metadata": {
    "ExecuteTime": {
     "end_time": "2017-08-08T16:54:51.321569Z",
     "start_time": "2017-08-08T16:54:51.311569Z"
    },
    "collapsed": true,
    "hidden": true
   },
   "outputs": [],
   "source": [
    "folder = os.path.join('Data storage', 'Derived data', 'state gen data')\n",
    "states = [\"AL\", \"AK\", \"AZ\", \"AR\", \"CA\", \"CO\", \"CT\", \"DE\", \n",
    "          \"FL\", \"GA\", \"HI\", \"ID\", \"IL\", \"IN\", \"IA\", \"KS\", \n",
    "          \"KY\", \"LA\", \"ME\", \"MD\", \"MA\", \"MI\", \"MN\", \"MS\", \n",
    "          \"MO\", \"MT\", \"NE\", \"NV\", \"NH\", \"NJ\", \"NM\", \"NY\", \n",
    "          \"NC\", \"ND\", \"OH\", \"OK\", \"OR\", \"PA\", \"RI\", \"SC\", \n",
    "          \"SD\", \"TN\", \"TX\", \"UT\", \"VT\", \"VA\", \"WA\", \"WV\", \"WI\", \"WY\"]"
   ]
  },
  {
   "cell_type": "code",
   "execution_count": 29,
   "metadata": {
    "ExecuteTime": {
     "end_time": "2017-08-08T16:55:04.590342Z",
     "start_time": "2017-08-08T16:55:03.431253Z"
    },
    "collapsed": true,
    "hidden": true
   },
   "outputs": [],
   "source": [
    "state_list = []\n",
    "for state in states:\n",
    "    path = os.path.join(folder, '{} fuels gen.csv'.format(state))\n",
    "    df = pd.read_csv(path, parse_dates=['datetime'])\n",
    "    state_list.append(df)\n",
    "state_df = pd.concat(state_list)\n",
    "state_df.reset_index(inplace=True, drop=True)"
   ]
  },
  {
   "cell_type": "code",
   "execution_count": 30,
   "metadata": {
    "ExecuteTime": {
     "end_time": "2017-08-08T16:55:05.447367Z",
     "start_time": "2017-08-08T16:55:05.439366Z"
    },
    "hidden": true
   },
   "outputs": [
    {
     "data": {
      "text/plain": [
       "end                            int64\n",
       "f                             object\n",
       "geography                     object\n",
       "last_updated                  object\n",
       "sector                         int64\n",
       "series_id                     object\n",
       "start                          int64\n",
       "type                          object\n",
       "units                         object\n",
       "year                           int64\n",
       "month                          int64\n",
       "generation (MWh)             float64\n",
       "datetime              datetime64[ns]\n",
       "quarter                        int64\n",
       "total fuel (mmbtu)           float64\n",
       "elec fuel (mmbtu)            float64\n",
       "all fuel CO2 (kg)            float64\n",
       "elec fuel CO2 (kg)           float64\n",
       "dtype: object"
      ]
     },
     "execution_count": 30,
     "metadata": {},
     "output_type": "execute_result"
    }
   ],
   "source": [
    "state_df.dtypes"
   ]
  },
  {
   "cell_type": "code",
   "execution_count": 31,
   "metadata": {
    "ExecuteTime": {
     "end_time": "2017-08-08T16:55:25.906527Z",
     "start_time": "2017-08-08T16:55:25.784515Z"
    },
    "collapsed": true,
    "hidden": true
   },
   "outputs": [],
   "source": [
    "state_df['state'] = state_df['geography'].str[-2:]\n",
    "keep_cols = ['state', 'type', 'year', 'datetime', 'generation (MWh)',\n",
    "             'elec fuel (mmbtu)']\n",
    "\n",
    "fuel_cats = facility_fuel_cats.keys()\n",
    "state_df = state_df.loc[(state_df['year'] >= 2014) &\n",
    "                        (state_df['type'].isin(fuel_cats)), keep_cols]"
   ]
  },
  {
   "cell_type": "code",
   "execution_count": 32,
   "metadata": {
    "ExecuteTime": {
     "end_time": "2017-08-08T16:55:29.381719Z",
     "start_time": "2017-08-08T16:55:29.373718Z"
    },
    "hidden": true
   },
   "outputs": [
    {
     "data": {
      "text/plain": [
       "array(['COW', 'HYC', 'NUC', 'NG', 'PEL', 'DPV', 'OTH', 'OOG', 'WWW', 'SUN',\n",
       "       'WAS', 'WND', 'HPS', 'PC', 'GEO'], dtype=object)"
      ]
     },
     "execution_count": 32,
     "metadata": {},
     "output_type": "execute_result"
    }
   ],
   "source": [
    "state_df['type'].unique()"
   ]
  },
  {
   "cell_type": "markdown",
   "metadata": {
    "heading_collapsed": true
   },
   "source": [
    "## Total generation and fuel consumption for each fuel category"
   ]
  },
  {
   "cell_type": "markdown",
   "metadata": {
    "hidden": true
   },
   "source": [
    "### Annual"
   ]
  },
  {
   "cell_type": "code",
   "execution_count": 33,
   "metadata": {
    "ExecuteTime": {
     "end_time": "2017-08-08T16:56:13.777231Z",
     "start_time": "2017-08-08T16:56:13.601215Z"
    },
    "collapsed": true,
    "hidden": true
   },
   "outputs": [],
   "source": [
    "annual_facility = facility_df.groupby(['year', 'state', 'fuel category']).sum()\n",
    "# annual_facility.reset_index(inplace=True)\n",
    "annual_facility.drop('plant id', axis=1, inplace=True)"
   ]
  },
  {
   "cell_type": "code",
   "execution_count": 34,
   "metadata": {
    "ExecuteTime": {
     "end_time": "2017-08-08T16:56:15.795339Z",
     "start_time": "2017-08-08T16:56:15.780338Z"
    },
    "hidden": true
   },
   "outputs": [
    {
     "data": {
      "text/html": [
       "<div>\n",
       "<style>\n",
       "    .dataframe thead tr:only-child th {\n",
       "        text-align: right;\n",
       "    }\n",
       "\n",
       "    .dataframe thead th {\n",
       "        text-align: left;\n",
       "    }\n",
       "\n",
       "    .dataframe tbody tr th {\n",
       "        vertical-align: top;\n",
       "    }\n",
       "</style>\n",
       "<table border=\"1\" class=\"dataframe\">\n",
       "  <thead>\n",
       "    <tr style=\"text-align: right;\">\n",
       "      <th></th>\n",
       "      <th></th>\n",
       "      <th></th>\n",
       "      <th>generation (MWh)</th>\n",
       "      <th>elec fuel (mmbtu)</th>\n",
       "    </tr>\n",
       "    <tr>\n",
       "      <th>year</th>\n",
       "      <th>state</th>\n",
       "      <th>fuel category</th>\n",
       "      <th></th>\n",
       "      <th></th>\n",
       "    </tr>\n",
       "  </thead>\n",
       "  <tbody>\n",
       "    <tr>\n",
       "      <th rowspan=\"5\" valign=\"top\">2014</th>\n",
       "      <th rowspan=\"5\" valign=\"top\">AK</th>\n",
       "      <th>COW</th>\n",
       "      <td>558292.181</td>\n",
       "      <td>7216953.0</td>\n",
       "    </tr>\n",
       "    <tr>\n",
       "      <th>HYC</th>\n",
       "      <td>1538738.000</td>\n",
       "      <td>14633403.0</td>\n",
       "    </tr>\n",
       "    <tr>\n",
       "      <th>NG</th>\n",
       "      <td>3288022.319</td>\n",
       "      <td>32828304.0</td>\n",
       "    </tr>\n",
       "    <tr>\n",
       "      <th>OOG</th>\n",
       "      <td>56165.769</td>\n",
       "      <td>546450.0</td>\n",
       "    </tr>\n",
       "    <tr>\n",
       "      <th>PEL</th>\n",
       "      <td>445621.447</td>\n",
       "      <td>6927101.0</td>\n",
       "    </tr>\n",
       "  </tbody>\n",
       "</table>\n",
       "</div>"
      ],
      "text/plain": [
       "                          generation (MWh)  elec fuel (mmbtu)\n",
       "year state fuel category                                     \n",
       "2014 AK    COW                  558292.181          7216953.0\n",
       "           HYC                 1538738.000         14633403.0\n",
       "           NG                  3288022.319         32828304.0\n",
       "           OOG                   56165.769           546450.0\n",
       "           PEL                  445621.447          6927101.0"
      ]
     },
     "execution_count": 34,
     "metadata": {},
     "output_type": "execute_result"
    }
   ],
   "source": [
    "annual_facility.head()"
   ]
  },
  {
   "cell_type": "code",
   "execution_count": 35,
   "metadata": {
    "ExecuteTime": {
     "end_time": "2017-08-08T16:56:29.680123Z",
     "start_time": "2017-08-08T16:56:29.666122Z"
    },
    "collapsed": true,
    "hidden": true
   },
   "outputs": [],
   "source": [
    "annual_state = state_df.groupby(['year', 'state', 'type']).sum()\n",
    "# annual_state.reset_index(inplace=True)"
   ]
  },
  {
   "cell_type": "code",
   "execution_count": 36,
   "metadata": {
    "ExecuteTime": {
     "end_time": "2017-08-08T16:56:34.046370Z",
     "start_time": "2017-08-08T16:56:34.022368Z"
    },
    "hidden": true
   },
   "outputs": [
    {
     "data": {
      "text/html": [
       "<div>\n",
       "<style>\n",
       "    .dataframe thead tr:only-child th {\n",
       "        text-align: right;\n",
       "    }\n",
       "\n",
       "    .dataframe thead th {\n",
       "        text-align: left;\n",
       "    }\n",
       "\n",
       "    .dataframe tbody tr th {\n",
       "        vertical-align: top;\n",
       "    }\n",
       "</style>\n",
       "<table border=\"1\" class=\"dataframe\">\n",
       "  <thead>\n",
       "    <tr style=\"text-align: right;\">\n",
       "      <th></th>\n",
       "      <th></th>\n",
       "      <th></th>\n",
       "      <th>generation (MWh)</th>\n",
       "      <th>elec fuel (mmbtu)</th>\n",
       "    </tr>\n",
       "    <tr>\n",
       "      <th>year</th>\n",
       "      <th>state</th>\n",
       "      <th>type</th>\n",
       "      <th></th>\n",
       "      <th></th>\n",
       "    </tr>\n",
       "  </thead>\n",
       "  <tbody>\n",
       "    <tr>\n",
       "      <th rowspan=\"25\" valign=\"top\">2014</th>\n",
       "      <th rowspan=\"9\" valign=\"top\">AK</th>\n",
       "      <th>COW</th>\n",
       "      <td>558292.17</td>\n",
       "      <td>7216950.0</td>\n",
       "    </tr>\n",
       "    <tr>\n",
       "      <th>HYC</th>\n",
       "      <td>1538738.00</td>\n",
       "      <td>NaN</td>\n",
       "    </tr>\n",
       "    <tr>\n",
       "      <th>NG</th>\n",
       "      <td>3288022.33</td>\n",
       "      <td>32828310.0</td>\n",
       "    </tr>\n",
       "    <tr>\n",
       "      <th>OOG</th>\n",
       "      <td>NaN</td>\n",
       "      <td>NaN</td>\n",
       "    </tr>\n",
       "    <tr>\n",
       "      <th>OTH</th>\n",
       "      <td>-2312.99</td>\n",
       "      <td>NaN</td>\n",
       "    </tr>\n",
       "    <tr>\n",
       "      <th>PEL</th>\n",
       "      <td>445621.46</td>\n",
       "      <td>6927090.0</td>\n",
       "    </tr>\n",
       "    <tr>\n",
       "      <th>WAS</th>\n",
       "      <td>62511.68</td>\n",
       "      <td>NaN</td>\n",
       "    </tr>\n",
       "    <tr>\n",
       "      <th>WND</th>\n",
       "      <td>151957.00</td>\n",
       "      <td>NaN</td>\n",
       "    </tr>\n",
       "    <tr>\n",
       "      <th>WWW</th>\n",
       "      <td>0.00</td>\n",
       "      <td>NaN</td>\n",
       "    </tr>\n",
       "    <tr>\n",
       "      <th rowspan=\"10\" valign=\"top\">AL</th>\n",
       "      <th>COW</th>\n",
       "      <td>47301626.28</td>\n",
       "      <td>488993810.0</td>\n",
       "    </tr>\n",
       "    <tr>\n",
       "      <th>DPV</th>\n",
       "      <td>3101.38</td>\n",
       "      <td>NaN</td>\n",
       "    </tr>\n",
       "    <tr>\n",
       "      <th>HYC</th>\n",
       "      <td>9466872.01</td>\n",
       "      <td>NaN</td>\n",
       "    </tr>\n",
       "    <tr>\n",
       "      <th>NG</th>\n",
       "      <td>48270074.40</td>\n",
       "      <td>362215370.0</td>\n",
       "    </tr>\n",
       "    <tr>\n",
       "      <th>NUC</th>\n",
       "      <td>41243689.00</td>\n",
       "      <td>NaN</td>\n",
       "    </tr>\n",
       "    <tr>\n",
       "      <th>OOG</th>\n",
       "      <td>180403.48</td>\n",
       "      <td>NaN</td>\n",
       "    </tr>\n",
       "    <tr>\n",
       "      <th>OTH</th>\n",
       "      <td>140.51</td>\n",
       "      <td>NaN</td>\n",
       "    </tr>\n",
       "    <tr>\n",
       "      <th>PEL</th>\n",
       "      <td>98100.01</td>\n",
       "      <td>1199180.0</td>\n",
       "    </tr>\n",
       "    <tr>\n",
       "      <th>WAS</th>\n",
       "      <td>46936.84</td>\n",
       "      <td>NaN</td>\n",
       "    </tr>\n",
       "    <tr>\n",
       "      <th>WWW</th>\n",
       "      <td>2732084.23</td>\n",
       "      <td>NaN</td>\n",
       "    </tr>\n",
       "    <tr>\n",
       "      <th rowspan=\"6\" valign=\"top\">AR</th>\n",
       "      <th>COW</th>\n",
       "      <td>33220754.79</td>\n",
       "      <td>334098580.0</td>\n",
       "    </tr>\n",
       "    <tr>\n",
       "      <th>DPV</th>\n",
       "      <td>4853.48</td>\n",
       "      <td>NaN</td>\n",
       "    </tr>\n",
       "    <tr>\n",
       "      <th>HPS</th>\n",
       "      <td>67070.00</td>\n",
       "      <td>NaN</td>\n",
       "    </tr>\n",
       "    <tr>\n",
       "      <th>HYC</th>\n",
       "      <td>2639776.01</td>\n",
       "      <td>NaN</td>\n",
       "    </tr>\n",
       "    <tr>\n",
       "      <th>NG</th>\n",
       "      <td>9613708.03</td>\n",
       "      <td>70429870.0</td>\n",
       "    </tr>\n",
       "    <tr>\n",
       "      <th>NUC</th>\n",
       "      <td>14478259.00</td>\n",
       "      <td>NaN</td>\n",
       "    </tr>\n",
       "  </tbody>\n",
       "</table>\n",
       "</div>"
      ],
      "text/plain": [
       "                 generation (MWh)  elec fuel (mmbtu)\n",
       "year state type                                     \n",
       "2014 AK    COW          558292.17          7216950.0\n",
       "           HYC         1538738.00                NaN\n",
       "           NG          3288022.33         32828310.0\n",
       "           OOG                NaN                NaN\n",
       "           OTH           -2312.99                NaN\n",
       "           PEL          445621.46          6927090.0\n",
       "           WAS           62511.68                NaN\n",
       "           WND          151957.00                NaN\n",
       "           WWW               0.00                NaN\n",
       "     AL    COW        47301626.28        488993810.0\n",
       "           DPV            3101.38                NaN\n",
       "           HYC         9466872.01                NaN\n",
       "           NG         48270074.40        362215370.0\n",
       "           NUC        41243689.00                NaN\n",
       "           OOG          180403.48                NaN\n",
       "           OTH             140.51                NaN\n",
       "           PEL           98100.01          1199180.0\n",
       "           WAS           46936.84                NaN\n",
       "           WWW         2732084.23                NaN\n",
       "     AR    COW        33220754.79        334098580.0\n",
       "           DPV            4853.48                NaN\n",
       "           HPS           67070.00                NaN\n",
       "           HYC         2639776.01                NaN\n",
       "           NG          9613708.03         70429870.0\n",
       "           NUC        14478259.00                NaN"
      ]
     },
     "execution_count": 36,
     "metadata": {},
     "output_type": "execute_result"
    }
   ],
   "source": [
    "annual_state.head(n=25)"
   ]
  },
  {
   "cell_type": "markdown",
   "metadata": {
    "hidden": true
   },
   "source": [
    "It's interesting that the facility data has fuel consumption for solar generation and the state data doesn't. Looking at a 923 data file, it's clear that the fuel consumption is just based on a conversion efficiency of 36.6% across all facilities."
   ]
  },
  {
   "cell_type": "code",
   "execution_count": 37,
   "metadata": {
    "ExecuteTime": {
     "end_time": "2017-08-08T16:57:05.735159Z",
     "start_time": "2017-08-08T16:57:05.717158Z"
    },
    "hidden": true
   },
   "outputs": [
    {
     "data": {
      "text/plain": [
       "generation (MWh)     19030396.62\n",
       "elec fuel (mmbtu)            NaN\n",
       "Name: (2016, CA, SUN), dtype: float64"
      ]
     },
     "execution_count": 37,
     "metadata": {},
     "output_type": "execute_result"
    }
   ],
   "source": [
    "annual_state.loc[2016, 'CA', 'SUN']"
   ]
  },
  {
   "cell_type": "code",
   "execution_count": 38,
   "metadata": {
    "ExecuteTime": {
     "end_time": "2017-08-08T16:57:06.679212Z",
     "start_time": "2017-08-08T16:57:06.669212Z"
    },
    "hidden": true
   },
   "outputs": [
    {
     "data": {
      "text/plain": [
       "generation (MWh)      14354970.0\n",
       "elec fuel (mmbtu)    133773953.0\n",
       "Name: (2016, CA, SUN), dtype: float64"
      ]
     },
     "execution_count": 38,
     "metadata": {},
     "output_type": "execute_result"
    }
   ],
   "source": [
    "annual_facility.loc[2016, 'CA', 'SUN']"
   ]
  },
  {
   "cell_type": "markdown",
   "metadata": {
    "hidden": true
   },
   "source": [
    "How much generation from large sources (Hydro, wind, coal, natural gas, and nuclear) is missed by monthly 923 data? "
   ]
  },
  {
   "cell_type": "code",
   "execution_count": 40,
   "metadata": {
    "ExecuteTime": {
     "end_time": "2017-08-08T16:59:00.892661Z",
     "start_time": "2017-08-08T16:59:00.853659Z"
    },
    "hidden": true
   },
   "outputs": [
    {
     "name": "stdout",
     "output_type": "stream",
     "text": [
      "HYC has an error of 24.60%\n",
      "WND has an error of 3.35%\n",
      "COW has an error of 1.15%\n",
      "NG has an error of 5.21%\n",
      "NUC has an error of 0.00%\n",
      "SUN has an error of 37.42%\n"
     ]
    }
   ],
   "source": [
    "for fuel in ['HYC', 'WND', 'COW', 'NG', 'NUC', 'SUN']:\n",
    "    state_total = annual_state.loc[2016, :, fuel]['generation (MWh)'].sum()\n",
    "    facility_total = annual_facility.loc[2016, :, fuel]['generation (MWh)'].sum()\n",
    "    \n",
    "    error = (state_total - facility_total) / state_total\n",
    "    print('{} has an error of {:.2f}%'.format(fuel, error * 100))"
   ]
  },
  {
   "cell_type": "markdown",
   "metadata": {},
   "source": [
    "## 2015 generation and fuel consumption from annual vs monthly reporting plants\n",
    "The goal here is to figure out how much of generation and fuel consumption from facilities that only report annually is in each NERC region (by state)"
   ]
  },
  {
   "cell_type": "code",
   "execution_count": 53,
   "metadata": {
    "ExecuteTime": {
     "end_time": "2017-08-08T18:06:18.811693Z",
     "start_time": "2017-08-08T18:05:36.522281Z"
    }
   },
   "outputs": [],
   "source": [
    "path = os.path.join('Data storage', 'EIA923_Schedules_2_3_4_5_M_12_2015_Final.xlsx')\n",
    "frequency = pd.read_excel(path, sheetname='Page 6 Plant Frame', header=4)"
   ]
  },
  {
   "cell_type": "code",
   "execution_count": 43,
   "metadata": {
    "ExecuteTime": {
     "end_time": "2017-08-08T17:56:22.758012Z",
     "start_time": "2017-08-08T17:56:22.738010Z"
    }
   },
   "outputs": [
    {
     "data": {
      "text/html": [
       "<div>\n",
       "<style>\n",
       "    .dataframe thead tr:only-child th {\n",
       "        text-align: right;\n",
       "    }\n",
       "\n",
       "    .dataframe thead th {\n",
       "        text-align: left;\n",
       "    }\n",
       "\n",
       "    .dataframe tbody tr th {\n",
       "        vertical-align: top;\n",
       "    }\n",
       "</style>\n",
       "<table border=\"1\" class=\"dataframe\">\n",
       "  <thead>\n",
       "    <tr style=\"text-align: right;\">\n",
       "      <th></th>\n",
       "      <th>YEAR</th>\n",
       "      <th>Plant Id</th>\n",
       "      <th>Plant State</th>\n",
       "      <th>Sector Number</th>\n",
       "      <th>NAICS Code</th>\n",
       "      <th>Plant Name</th>\n",
       "      <th>Combined Heat And\n",
       "Power Status</th>\n",
       "      <th>Reporting\n",
       "Frequency</th>\n",
       "    </tr>\n",
       "  </thead>\n",
       "  <tbody>\n",
       "    <tr>\n",
       "      <th>0</th>\n",
       "      <td>2015</td>\n",
       "      <td>2</td>\n",
       "      <td>AL</td>\n",
       "      <td>1</td>\n",
       "      <td>22</td>\n",
       "      <td>Bankhead Dam</td>\n",
       "      <td>N</td>\n",
       "      <td>A</td>\n",
       "    </tr>\n",
       "    <tr>\n",
       "      <th>1</th>\n",
       "      <td>2015</td>\n",
       "      <td>3</td>\n",
       "      <td>AL</td>\n",
       "      <td>1</td>\n",
       "      <td>22</td>\n",
       "      <td>Barry</td>\n",
       "      <td>N</td>\n",
       "      <td>M</td>\n",
       "    </tr>\n",
       "    <tr>\n",
       "      <th>2</th>\n",
       "      <td>2015</td>\n",
       "      <td>4</td>\n",
       "      <td>AL</td>\n",
       "      <td>1</td>\n",
       "      <td>22</td>\n",
       "      <td>Walter Bouldin Dam</td>\n",
       "      <td>N</td>\n",
       "      <td>M</td>\n",
       "    </tr>\n",
       "    <tr>\n",
       "      <th>3</th>\n",
       "      <td>2015</td>\n",
       "      <td>7</td>\n",
       "      <td>AL</td>\n",
       "      <td>1</td>\n",
       "      <td>22</td>\n",
       "      <td>Gadsden</td>\n",
       "      <td>Y</td>\n",
       "      <td>A</td>\n",
       "    </tr>\n",
       "    <tr>\n",
       "      <th>4</th>\n",
       "      <td>2015</td>\n",
       "      <td>8</td>\n",
       "      <td>AL</td>\n",
       "      <td>1</td>\n",
       "      <td>22</td>\n",
       "      <td>Gorgas</td>\n",
       "      <td>N</td>\n",
       "      <td>M</td>\n",
       "    </tr>\n",
       "  </tbody>\n",
       "</table>\n",
       "</div>"
      ],
      "text/plain": [
       "   YEAR  Plant Id Plant State  Sector Number  NAICS Code          Plant Name  \\\n",
       "0  2015         2          AL              1          22        Bankhead Dam   \n",
       "1  2015         3          AL              1          22               Barry   \n",
       "2  2015         4          AL              1          22  Walter Bouldin Dam   \n",
       "3  2015         7          AL              1          22             Gadsden   \n",
       "4  2015         8          AL              1          22              Gorgas   \n",
       "\n",
       "  Combined Heat And\\nPower Status Reporting\\nFrequency  \n",
       "0                               N                    A  \n",
       "1                               N                    M  \n",
       "2                               N                    M  \n",
       "3                               Y                    A  \n",
       "4                               N                    M  "
      ]
     },
     "execution_count": 43,
     "metadata": {},
     "output_type": "execute_result"
    }
   ],
   "source": [
    "frequency.head()"
   ]
  },
  {
   "cell_type": "code",
   "execution_count": 54,
   "metadata": {
    "ExecuteTime": {
     "end_time": "2017-08-08T18:06:23.326924Z",
     "start_time": "2017-08-08T18:06:23.320923Z"
    },
    "collapsed": true
   },
   "outputs": [],
   "source": [
    "frequency.rename(columns={'Plant Id': 'plant id',\n",
    "                          'Plant State': 'state',\n",
    "                          'YEAR': 'year',\n",
    "                          'Reporting\\nFrequency': 'Reporting Frequency'}, inplace=True)"
   ]
  },
  {
   "cell_type": "code",
   "execution_count": 99,
   "metadata": {
    "ExecuteTime": {
     "end_time": "2017-08-08T18:48:29.635576Z",
     "start_time": "2017-08-08T18:48:29.618575Z"
    }
   },
   "outputs": [
    {
     "data": {
      "text/html": [
       "<div>\n",
       "<style>\n",
       "    .dataframe thead tr:only-child th {\n",
       "        text-align: right;\n",
       "    }\n",
       "\n",
       "    .dataframe thead th {\n",
       "        text-align: left;\n",
       "    }\n",
       "\n",
       "    .dataframe tbody tr th {\n",
       "        vertical-align: top;\n",
       "    }\n",
       "</style>\n",
       "<table border=\"1\" class=\"dataframe\">\n",
       "  <thead>\n",
       "    <tr style=\"text-align: right;\">\n",
       "      <th></th>\n",
       "      <th>year</th>\n",
       "      <th>plant id</th>\n",
       "      <th>state</th>\n",
       "      <th>Sector Number</th>\n",
       "      <th>NAICS Code</th>\n",
       "      <th>Plant Name</th>\n",
       "      <th>Combined Heat And\n",
       "Power Status</th>\n",
       "      <th>Reporting Frequency</th>\n",
       "    </tr>\n",
       "  </thead>\n",
       "  <tbody>\n",
       "    <tr>\n",
       "      <th>0</th>\n",
       "      <td>2015</td>\n",
       "      <td>2</td>\n",
       "      <td>AL</td>\n",
       "      <td>1</td>\n",
       "      <td>22</td>\n",
       "      <td>Bankhead Dam</td>\n",
       "      <td>N</td>\n",
       "      <td>A</td>\n",
       "    </tr>\n",
       "    <tr>\n",
       "      <th>1</th>\n",
       "      <td>2015</td>\n",
       "      <td>3</td>\n",
       "      <td>AL</td>\n",
       "      <td>1</td>\n",
       "      <td>22</td>\n",
       "      <td>Barry</td>\n",
       "      <td>N</td>\n",
       "      <td>M</td>\n",
       "    </tr>\n",
       "    <tr>\n",
       "      <th>2</th>\n",
       "      <td>2015</td>\n",
       "      <td>4</td>\n",
       "      <td>AL</td>\n",
       "      <td>1</td>\n",
       "      <td>22</td>\n",
       "      <td>Walter Bouldin Dam</td>\n",
       "      <td>N</td>\n",
       "      <td>M</td>\n",
       "    </tr>\n",
       "    <tr>\n",
       "      <th>3</th>\n",
       "      <td>2015</td>\n",
       "      <td>7</td>\n",
       "      <td>AL</td>\n",
       "      <td>1</td>\n",
       "      <td>22</td>\n",
       "      <td>Gadsden</td>\n",
       "      <td>Y</td>\n",
       "      <td>A</td>\n",
       "    </tr>\n",
       "    <tr>\n",
       "      <th>4</th>\n",
       "      <td>2015</td>\n",
       "      <td>8</td>\n",
       "      <td>AL</td>\n",
       "      <td>1</td>\n",
       "      <td>22</td>\n",
       "      <td>Gorgas</td>\n",
       "      <td>N</td>\n",
       "      <td>M</td>\n",
       "    </tr>\n",
       "  </tbody>\n",
       "</table>\n",
       "</div>"
      ],
      "text/plain": [
       "   year  plant id state  Sector Number  NAICS Code          Plant Name  \\\n",
       "0  2015         2    AL              1          22        Bankhead Dam   \n",
       "1  2015         3    AL              1          22               Barry   \n",
       "2  2015         4    AL              1          22  Walter Bouldin Dam   \n",
       "3  2015         7    AL              1          22             Gadsden   \n",
       "4  2015         8    AL              1          22              Gorgas   \n",
       "\n",
       "  Combined Heat And\\nPower Status Reporting Frequency  \n",
       "0                               N                   A  \n",
       "1                               N                   M  \n",
       "2                               N                   M  \n",
       "3                               Y                   A  \n",
       "4                               N                   M  "
      ]
     },
     "execution_count": 99,
     "metadata": {},
     "output_type": "execute_result"
    }
   ],
   "source": [
    "frequency.head()"
   ]
  },
  {
   "cell_type": "code",
   "execution_count": 56,
   "metadata": {
    "ExecuteTime": {
     "end_time": "2017-08-08T18:06:26.345094Z",
     "start_time": "2017-08-08T18:06:26.338094Z"
    }
   },
   "outputs": [
    {
     "data": {
      "text/plain": [
       "year                                int64\n",
       "plant id                            int64\n",
       "state                              object\n",
       "Sector Number                       int64\n",
       "NAICS Code                          int64\n",
       "Plant Name                         object\n",
       "Combined Heat And\\nPower Status    object\n",
       "Reporting Frequency                object\n",
       "dtype: object"
      ]
     },
     "execution_count": 56,
     "metadata": {},
     "output_type": "execute_result"
    }
   ],
   "source": [
    "frequency.dtypes"
   ]
  },
  {
   "cell_type": "markdown",
   "metadata": {},
   "source": [
    "Make a dataframe with generation, fuel consumption, and reporting frequency of facilities in 2015 "
   ]
  },
  {
   "cell_type": "code",
   "execution_count": 173,
   "metadata": {
    "ExecuteTime": {
     "end_time": "2017-08-08T19:40:27.236621Z",
     "start_time": "2017-08-08T19:40:27.052605Z"
    }
   },
   "outputs": [],
   "source": [
    "freq_cols = ['year', 'plant id', 'Reporting Frequency']\n",
    "df = pd.merge(facility_df, frequency.loc[:, freq_cols], on=['year', 'plant id'])"
   ]
  },
  {
   "cell_type": "code",
   "execution_count": 174,
   "metadata": {
    "ExecuteTime": {
     "end_time": "2017-08-08T19:40:28.030661Z",
     "start_time": "2017-08-08T19:40:28.005659Z"
    }
   },
   "outputs": [
    {
     "data": {
      "text/html": [
       "<div>\n",
       "<style>\n",
       "    .dataframe thead tr:only-child th {\n",
       "        text-align: right;\n",
       "    }\n",
       "\n",
       "    .dataframe thead th {\n",
       "        text-align: left;\n",
       "    }\n",
       "\n",
       "    .dataframe tbody tr th {\n",
       "        vertical-align: top;\n",
       "    }\n",
       "</style>\n",
       "<table border=\"1\" class=\"dataframe\">\n",
       "  <thead>\n",
       "    <tr style=\"text-align: right;\">\n",
       "      <th></th>\n",
       "      <th>fuel</th>\n",
       "      <th>year</th>\n",
       "      <th>month</th>\n",
       "      <th>datetime</th>\n",
       "      <th>state</th>\n",
       "      <th>plant id</th>\n",
       "      <th>NERC</th>\n",
       "      <th>generation (MWh)</th>\n",
       "      <th>total fuel (mmbtu)</th>\n",
       "      <th>elec fuel (mmbtu)</th>\n",
       "      <th>fuel category</th>\n",
       "      <th>Reporting Frequency</th>\n",
       "    </tr>\n",
       "  </thead>\n",
       "  <tbody>\n",
       "    <tr>\n",
       "      <th>0</th>\n",
       "      <td>NG</td>\n",
       "      <td>2015</td>\n",
       "      <td>12</td>\n",
       "      <td>2015-12-01</td>\n",
       "      <td>FL</td>\n",
       "      <td>10275</td>\n",
       "      <td>FRCC</td>\n",
       "      <td>4344.509</td>\n",
       "      <td>55210.0</td>\n",
       "      <td>22133.0</td>\n",
       "      <td>NG</td>\n",
       "      <td>A</td>\n",
       "    </tr>\n",
       "    <tr>\n",
       "      <th>1</th>\n",
       "      <td>NG</td>\n",
       "      <td>2015</td>\n",
       "      <td>11</td>\n",
       "      <td>2015-11-01</td>\n",
       "      <td>FL</td>\n",
       "      <td>10275</td>\n",
       "      <td>FRCC</td>\n",
       "      <td>4304.052</td>\n",
       "      <td>54695.0</td>\n",
       "      <td>21927.0</td>\n",
       "      <td>NG</td>\n",
       "      <td>A</td>\n",
       "    </tr>\n",
       "    <tr>\n",
       "      <th>2</th>\n",
       "      <td>NG</td>\n",
       "      <td>2015</td>\n",
       "      <td>10</td>\n",
       "      <td>2015-10-01</td>\n",
       "      <td>FL</td>\n",
       "      <td>10275</td>\n",
       "      <td>FRCC</td>\n",
       "      <td>4810.546</td>\n",
       "      <td>61133.0</td>\n",
       "      <td>24507.0</td>\n",
       "      <td>NG</td>\n",
       "      <td>A</td>\n",
       "    </tr>\n",
       "    <tr>\n",
       "      <th>3</th>\n",
       "      <td>NG</td>\n",
       "      <td>2015</td>\n",
       "      <td>9</td>\n",
       "      <td>2015-09-01</td>\n",
       "      <td>FL</td>\n",
       "      <td>10275</td>\n",
       "      <td>FRCC</td>\n",
       "      <td>5058.453</td>\n",
       "      <td>64282.0</td>\n",
       "      <td>25770.0</td>\n",
       "      <td>NG</td>\n",
       "      <td>A</td>\n",
       "    </tr>\n",
       "    <tr>\n",
       "      <th>4</th>\n",
       "      <td>NG</td>\n",
       "      <td>2015</td>\n",
       "      <td>8</td>\n",
       "      <td>2015-08-01</td>\n",
       "      <td>FL</td>\n",
       "      <td>10275</td>\n",
       "      <td>FRCC</td>\n",
       "      <td>5404.571</td>\n",
       "      <td>68680.0</td>\n",
       "      <td>27533.0</td>\n",
       "      <td>NG</td>\n",
       "      <td>A</td>\n",
       "    </tr>\n",
       "  </tbody>\n",
       "</table>\n",
       "</div>"
      ],
      "text/plain": [
       "  fuel  year  month   datetime state  plant id  NERC  generation (MWh)  \\\n",
       "0   NG  2015     12 2015-12-01    FL     10275  FRCC          4344.509   \n",
       "1   NG  2015     11 2015-11-01    FL     10275  FRCC          4304.052   \n",
       "2   NG  2015     10 2015-10-01    FL     10275  FRCC          4810.546   \n",
       "3   NG  2015      9 2015-09-01    FL     10275  FRCC          5058.453   \n",
       "4   NG  2015      8 2015-08-01    FL     10275  FRCC          5404.571   \n",
       "\n",
       "   total fuel (mmbtu)  elec fuel (mmbtu) fuel category Reporting Frequency  \n",
       "0             55210.0            22133.0            NG                   A  \n",
       "1             54695.0            21927.0            NG                   A  \n",
       "2             61133.0            24507.0            NG                   A  \n",
       "3             64282.0            25770.0            NG                   A  \n",
       "4             68680.0            27533.0            NG                   A  "
      ]
     },
     "execution_count": 174,
     "metadata": {},
     "output_type": "execute_result"
    }
   ],
   "source": [
    "df.head()"
   ]
  },
  {
   "cell_type": "code",
   "execution_count": 76,
   "metadata": {
    "ExecuteTime": {
     "end_time": "2017-08-08T18:33:18.341118Z",
     "start_time": "2017-08-08T18:33:06.228439Z"
    }
   },
   "outputs": [
    {
     "data": {
      "text/plain": [
       "<seaborn.axisgrid.FacetGrid at 0xca624bc6d8>"
      ]
     },
     "execution_count": 76,
     "metadata": {},
     "output_type": "execute_result"
    },
    {
     "data": {
      "image/png": "[encoded data removed]",
      "text/plain": [
       "<matplotlib.figure.Figure at 0xca624b80b8>"
      ]
     },
     "metadata": {},
     "output_type": "display_data"
    }
   ],
   "source": [
    "g = sns.factorplot(x='fuel category', y='generation (MWh)', hue='Reporting Frequency',\n",
    "               col='NERC', col_wrap=3, data=df, estimator=np.sum, ci=0, kind='bar')\n",
    "\n",
    "g.set_xticklabels(rotation=30)"
   ]
  },
  {
   "cell_type": "markdown",
   "metadata": {},
   "source": [
    "Number of NERC regions in a state"
   ]
  },
  {
   "cell_type": "code",
   "execution_count": 75,
   "metadata": {
    "ExecuteTime": {
     "end_time": "2017-08-08T18:29:45.685110Z",
     "start_time": "2017-08-08T18:29:45.660109Z"
    }
   },
   "outputs": [
    {
     "data": {
      "text/plain": [
       "3"
      ]
     },
     "execution_count": 75,
     "metadata": {},
     "output_type": "execute_result"
    }
   ],
   "source": [
    "df.loc[df['state'] == 'TX', 'NERC'].nunique()"
   ]
  },
  {
   "cell_type": "code",
   "execution_count": 193,
   "metadata": {
    "ExecuteTime": {
     "end_time": "2017-08-08T19:48:31.789977Z",
     "start_time": "2017-08-08T19:48:31.703972Z"
    }
   },
   "outputs": [],
   "source": [
    "test = df.loc[(df.state == 'TX') &\n",
    "              (df['Reporting Frequency'] == 'A')].groupby(['NERC', 'fuel category', 'month']).sum()\n",
    "test2 = df.loc[(df.state == 'TX') &\n",
    "              (df['Reporting Frequency'] == 'A')].groupby(['fuel category', 'month']).sum().drop(['year', 'plant id'], axis=1)"
   ]
  },
  {
   "cell_type": "code",
   "execution_count": 197,
   "metadata": {
    "ExecuteTime": {
     "end_time": "2017-08-08T19:49:50.152402Z",
     "start_time": "2017-08-08T19:49:50.146401Z"
    }
   },
   "outputs": [],
   "source": [
    "test.drop(['year', 'plant id'], axis=1, inplace=True)"
   ]
  },
  {
   "cell_type": "code",
   "execution_count": 194,
   "metadata": {
    "ExecuteTime": {
     "end_time": "2017-08-08T19:48:42.593586Z",
     "start_time": "2017-08-08T19:48:42.575586Z"
    }
   },
   "outputs": [
    {
     "data": {
      "text/html": [
       "<div>\n",
       "<style>\n",
       "    .dataframe thead tr:only-child th {\n",
       "        text-align: right;\n",
       "    }\n",
       "\n",
       "    .dataframe thead th {\n",
       "        text-align: left;\n",
       "    }\n",
       "\n",
       "    .dataframe tbody tr th {\n",
       "        vertical-align: top;\n",
       "    }\n",
       "</style>\n",
       "<table border=\"1\" class=\"dataframe\">\n",
       "  <thead>\n",
       "    <tr style=\"text-align: right;\">\n",
       "      <th></th>\n",
       "      <th></th>\n",
       "      <th>generation (MWh)</th>\n",
       "      <th>total fuel (mmbtu)</th>\n",
       "      <th>elec fuel (mmbtu)</th>\n",
       "    </tr>\n",
       "    <tr>\n",
       "      <th>fuel category</th>\n",
       "      <th>month</th>\n",
       "      <th></th>\n",
       "      <th></th>\n",
       "      <th></th>\n",
       "    </tr>\n",
       "  </thead>\n",
       "  <tbody>\n",
       "    <tr>\n",
       "      <th rowspan=\"5\" valign=\"top\">HYC</th>\n",
       "      <th>1</th>\n",
       "      <td>95087.244</td>\n",
       "      <td>886120.0</td>\n",
       "      <td>886120.0</td>\n",
       "    </tr>\n",
       "    <tr>\n",
       "      <th>2</th>\n",
       "      <td>5885.842</td>\n",
       "      <td>54855.0</td>\n",
       "      <td>54855.0</td>\n",
       "    </tr>\n",
       "    <tr>\n",
       "      <th>3</th>\n",
       "      <td>59221.801</td>\n",
       "      <td>551887.0</td>\n",
       "      <td>551887.0</td>\n",
       "    </tr>\n",
       "    <tr>\n",
       "      <th>4</th>\n",
       "      <td>100569.653</td>\n",
       "      <td>937209.0</td>\n",
       "      <td>937209.0</td>\n",
       "    </tr>\n",
       "    <tr>\n",
       "      <th>5</th>\n",
       "      <td>94392.591</td>\n",
       "      <td>879646.0</td>\n",
       "      <td>879646.0</td>\n",
       "    </tr>\n",
       "  </tbody>\n",
       "</table>\n",
       "</div>"
      ],
      "text/plain": [
       "                     generation (MWh)  total fuel (mmbtu)  elec fuel (mmbtu)\n",
       "fuel category month                                                         \n",
       "HYC           1             95087.244            886120.0           886120.0\n",
       "              2              5885.842             54855.0            54855.0\n",
       "              3             59221.801            551887.0           551887.0\n",
       "              4            100569.653            937209.0           937209.0\n",
       "              5             94392.591            879646.0           879646.0"
      ]
     },
     "execution_count": 194,
     "metadata": {},
     "output_type": "execute_result"
    }
   ],
   "source": [
    "test2.head()"
   ]
  },
  {
   "cell_type": "code",
   "execution_count": 200,
   "metadata": {
    "ExecuteTime": {
     "end_time": "2017-08-08T19:50:52.600928Z",
     "start_time": "2017-08-08T19:50:52.584927Z"
    }
   },
   "outputs": [
    {
     "data": {
      "text/html": [
       "<div>\n",
       "<style>\n",
       "    .dataframe thead tr:only-child th {\n",
       "        text-align: right;\n",
       "    }\n",
       "\n",
       "    .dataframe thead th {\n",
       "        text-align: left;\n",
       "    }\n",
       "\n",
       "    .dataframe tbody tr th {\n",
       "        vertical-align: top;\n",
       "    }\n",
       "</style>\n",
       "<table border=\"1\" class=\"dataframe\">\n",
       "  <thead>\n",
       "    <tr style=\"text-align: right;\">\n",
       "      <th></th>\n",
       "      <th>generation (MWh)</th>\n",
       "      <th>total fuel (mmbtu)</th>\n",
       "      <th>elec fuel (mmbtu)</th>\n",
       "    </tr>\n",
       "    <tr>\n",
       "      <th>NERC</th>\n",
       "      <th></th>\n",
       "      <th></th>\n",
       "      <th></th>\n",
       "    </tr>\n",
       "  </thead>\n",
       "  <tbody>\n",
       "    <tr>\n",
       "      <th>SPP</th>\n",
       "      <td>33377.034</td>\n",
       "      <td>615278.0</td>\n",
       "      <td>332409.0</td>\n",
       "    </tr>\n",
       "    <tr>\n",
       "      <th>TRE</th>\n",
       "      <td>934664.841</td>\n",
       "      <td>14526735.0</td>\n",
       "      <td>8469370.0</td>\n",
       "    </tr>\n",
       "    <tr>\n",
       "      <th>WECC</th>\n",
       "      <td>4195.365</td>\n",
       "      <td>75354.0</td>\n",
       "      <td>48450.0</td>\n",
       "    </tr>\n",
       "  </tbody>\n",
       "</table>\n",
       "</div>"
      ],
      "text/plain": [
       "      generation (MWh)  total fuel (mmbtu)  elec fuel (mmbtu)\n",
       "NERC                                                         \n",
       "SPP          33377.034            615278.0           332409.0\n",
       "TRE         934664.841          14526735.0          8469370.0\n",
       "WECC          4195.365             75354.0            48450.0"
      ]
     },
     "execution_count": 200,
     "metadata": {},
     "output_type": "execute_result"
    }
   ],
   "source": [
    "test.xs('NG', level='fuel category').xs(1, level='month')"
   ]
  },
  {
   "cell_type": "code",
   "execution_count": 202,
   "metadata": {
    "ExecuteTime": {
     "end_time": "2017-08-08T19:51:24.618735Z",
     "start_time": "2017-08-08T19:51:24.608735Z"
    }
   },
   "outputs": [
    {
     "data": {
      "text/plain": [
       "generation (MWh)        972237.24\n",
       "total fuel (mmbtu)    15217367.00\n",
       "elec fuel (mmbtu)      8850229.00\n",
       "Name: 1, dtype: float64"
      ]
     },
     "execution_count": 202,
     "metadata": {},
     "output_type": "execute_result"
    }
   ],
   "source": [
    "test2.xs('NG', level='fuel category').loc[1]"
   ]
  },
  {
   "cell_type": "code",
   "execution_count": 206,
   "metadata": {
    "ExecuteTime": {
     "end_time": "2017-08-08T19:54:37.365619Z",
     "start_time": "2017-08-08T19:54:37.345618Z"
    }
   },
   "outputs": [
    {
     "data": {
      "text/html": [
       "<div>\n",
       "<style>\n",
       "    .dataframe thead tr:only-child th {\n",
       "        text-align: right;\n",
       "    }\n",
       "\n",
       "    .dataframe thead th {\n",
       "        text-align: left;\n",
       "    }\n",
       "\n",
       "    .dataframe tbody tr th {\n",
       "        vertical-align: top;\n",
       "    }\n",
       "</style>\n",
       "<table border=\"1\" class=\"dataframe\">\n",
       "  <thead>\n",
       "    <tr style=\"text-align: right;\">\n",
       "      <th></th>\n",
       "      <th>generation (MWh)</th>\n",
       "      <th>total fuel (mmbtu)</th>\n",
       "      <th>elec fuel (mmbtu)</th>\n",
       "    </tr>\n",
       "    <tr>\n",
       "      <th>NERC</th>\n",
       "      <th></th>\n",
       "      <th></th>\n",
       "      <th></th>\n",
       "    </tr>\n",
       "  </thead>\n",
       "  <tbody>\n",
       "    <tr>\n",
       "      <th>SPP</th>\n",
       "      <td>0.034330</td>\n",
       "      <td>0.040433</td>\n",
       "      <td>0.037559</td>\n",
       "    </tr>\n",
       "    <tr>\n",
       "      <th>TRE</th>\n",
       "      <td>0.961355</td>\n",
       "      <td>0.954616</td>\n",
       "      <td>0.956966</td>\n",
       "    </tr>\n",
       "    <tr>\n",
       "      <th>WECC</th>\n",
       "      <td>0.004315</td>\n",
       "      <td>0.004952</td>\n",
       "      <td>0.005474</td>\n",
       "    </tr>\n",
       "  </tbody>\n",
       "</table>\n",
       "</div>"
      ],
      "text/plain": [
       "      generation (MWh)  total fuel (mmbtu)  elec fuel (mmbtu)\n",
       "NERC                                                         \n",
       "SPP           0.034330            0.040433           0.037559\n",
       "TRE           0.961355            0.954616           0.956966\n",
       "WECC          0.004315            0.004952           0.005474"
      ]
     },
     "execution_count": 206,
     "metadata": {},
     "output_type": "execute_result"
    }
   ],
   "source": [
    "test.xs('NG', level='fuel category').xs(1, level='month')/(test.xs('NG', level='fuel category').xs(1, level='month').sum())"
   ]
  },
  {
   "cell_type": "code",
   "execution_count": 159,
   "metadata": {
    "ExecuteTime": {
     "end_time": "2017-08-08T19:36:45.097072Z",
     "start_time": "2017-08-08T19:36:45.042069Z"
    }
   },
   "outputs": [],
   "source": [
    "def annual(df, state):\n",
    "    \"\"\"Return the percent of gen & consumption by fuel type in each NERC region\n",
    "    for a state\"\"\"\n",
    "    a = df.loc[(df.state == state) & \n",
    "                     (df['Reporting Frequency'] == 'A')].copy()\n",
    "    a.drop(['plant id', 'year'], axis=1, inplace=True)\n",
    "    a = a.groupby(['NERC', 'fuel category']).sum()\n",
    "    \n",
    "    fuels = set(a.index.get_level_values('fuel category'))\n",
    "    \n",
    "    temp_list = []\n",
    "    for fuel in fuels:\n",
    "        temp = (a.xs(fuel, level='fuel category')\n",
    "                / a.xs(fuel, level='fuel category').sum())\n",
    "        temp['fuel category'] = fuel\n",
    "        temp_list.append(temp)\n",
    "    \n",
    "    result = pd.concat(temp_list)\n",
    "    result.reset_index(inplace=True)\n",
    "    result['state'] = state\n",
    "    \n",
    "    rename_cols = {'generation (MWh)': '% generation',\n",
    "                   'total fuel (mmbtu)': '% total fuel',\n",
    "                   'elec fuel (mmbtu)': '% elec fuel'}\n",
    "    \n",
    "    result.rename(columns=rename_cols, inplace=True)\n",
    "    \n",
    "    return result"
   ]
  },
  {
   "cell_type": "code",
   "execution_count": 210,
   "metadata": {
    "ExecuteTime": {
     "end_time": "2017-08-08T19:56:34.974260Z",
     "start_time": "2017-08-08T19:56:34.901256Z"
    }
   },
   "outputs": [],
   "source": [
    "def annual_month(df, state):\n",
    "    \"\"\"Return the percent of gen & consumption by fuel type in each NERC region\n",
    "    for a state\"\"\"\n",
    "    a = df.loc[(df.state == state) & \n",
    "                     (df['Reporting Frequency'] == 'A')].copy()\n",
    "    a.drop(['plant id', 'year'], axis=1, inplace=True)\n",
    "    a = a.groupby(['NERC', 'fuel category', 'month']).sum()\n",
    "    \n",
    "    fuels = set(a.index.get_level_values('fuel category'))\n",
    "    \n",
    "    temp_list = []\n",
    "    for fuel in fuels:\n",
    "        for month in range(1, 13):\n",
    "            temp = (a.xs(fuel, level='fuel category')\n",
    "                     .xs(month, level='month')\n",
    "                    / a.xs(fuel, level='fuel category')\n",
    "                       .xs(month, level='month')\n",
    "                       .sum())\n",
    "            temp['fuel category'] = fuel\n",
    "            temp['month'] = month\n",
    "            temp_list.append(temp)\n",
    "    \n",
    "    result = pd.concat(temp_list)\n",
    "    result.reset_index(inplace=True)\n",
    "    result['state'] = state\n",
    "    \n",
    "    rename_cols = {'generation (MWh)': '% generation',\n",
    "                   'total fuel (mmbtu)': '% total fuel',\n",
    "                   'elec fuel (mmbtu)': '% elec fuel'}\n",
    "    \n",
    "    result.rename(columns=rename_cols, inplace=True)\n",
    "    \n",
    "    return result"
   ]
  },
  {
   "cell_type": "markdown",
   "metadata": {},
   "source": [
    "This is the percent of generation, total fuel consumption, and electric fuel consumption from facilities that report annually to EIA-923"
   ]
  },
  {
   "cell_type": "code",
   "execution_count": 160,
   "metadata": {
    "ExecuteTime": {
     "end_time": "2017-08-08T19:36:51.258425Z",
     "start_time": "2017-08-08T19:36:49.361313Z"
    },
    "collapsed": true
   },
   "outputs": [],
   "source": [
    "df_list = []\n",
    "for state in states:\n",
    "    num_nerc = df.loc[df.state == state, 'NERC'].nunique()\n",
    "    if num_nerc > 1:\n",
    "        df_list.append(annual(df, state))"
   ]
  },
  {
   "cell_type": "code",
   "execution_count": 211,
   "metadata": {
    "ExecuteTime": {
     "end_time": "2017-08-08T19:56:46.356903Z",
     "start_time": "2017-08-08T19:56:36.828365Z"
    }
   },
   "outputs": [],
   "source": [
    "df_list = []\n",
    "for state in states:\n",
    "    num_nerc = df.loc[df.state == state, 'NERC'].nunique()\n",
    "    if num_nerc > 1:\n",
    "        df_list.append(annual_month(df, state))"
   ]
  },
  {
   "cell_type": "code",
   "execution_count": 212,
   "metadata": {
    "ExecuteTime": {
     "end_time": "2017-08-08T19:57:01.368750Z",
     "start_time": "2017-08-08T19:57:01.343749Z"
    },
    "collapsed": true
   },
   "outputs": [],
   "source": [
    "fuel_by_nerc_month = pd.concat(df_list).reset_index(drop=True)"
   ]
  },
  {
   "cell_type": "code",
   "execution_count": 161,
   "metadata": {
    "ExecuteTime": {
     "end_time": "2017-08-08T19:36:53.553550Z",
     "start_time": "2017-08-08T19:36:53.537549Z"
    }
   },
   "outputs": [],
   "source": [
    "fuel_by_nerc = pd.concat(df_list).reset_index(drop=True)"
   ]
  },
  {
   "cell_type": "code",
   "execution_count": 162,
   "metadata": {
    "ExecuteTime": {
     "end_time": "2017-08-08T19:36:54.848622Z",
     "start_time": "2017-08-08T19:36:54.828627Z"
    }
   },
   "outputs": [
    {
     "data": {
      "text/html": [
       "<div>\n",
       "<style>\n",
       "    .dataframe thead tr:only-child th {\n",
       "        text-align: right;\n",
       "    }\n",
       "\n",
       "    .dataframe thead th {\n",
       "        text-align: left;\n",
       "    }\n",
       "\n",
       "    .dataframe tbody tr th {\n",
       "        vertical-align: top;\n",
       "    }\n",
       "</style>\n",
       "<table border=\"1\" class=\"dataframe\">\n",
       "  <thead>\n",
       "    <tr style=\"text-align: right;\">\n",
       "      <th></th>\n",
       "      <th>NERC</th>\n",
       "      <th>% generation</th>\n",
       "      <th>% total fuel</th>\n",
       "      <th>% elec fuel</th>\n",
       "      <th>fuel category</th>\n",
       "      <th>state</th>\n",
       "    </tr>\n",
       "  </thead>\n",
       "  <tbody>\n",
       "    <tr>\n",
       "      <th>0</th>\n",
       "      <td>SERC</td>\n",
       "      <td>1.000000</td>\n",
       "      <td>1.000000</td>\n",
       "      <td>1.000000</td>\n",
       "      <td>WAS</td>\n",
       "      <td>AR</td>\n",
       "    </tr>\n",
       "    <tr>\n",
       "      <th>1</th>\n",
       "      <td>-</td>\n",
       "      <td>0.000000</td>\n",
       "      <td>0.000000</td>\n",
       "      <td>0.000000</td>\n",
       "      <td>PEL</td>\n",
       "      <td>AR</td>\n",
       "    </tr>\n",
       "    <tr>\n",
       "      <th>2</th>\n",
       "      <td>SERC</td>\n",
       "      <td>1.000000</td>\n",
       "      <td>1.000000</td>\n",
       "      <td>1.000000</td>\n",
       "      <td>PEL</td>\n",
       "      <td>AR</td>\n",
       "    </tr>\n",
       "    <tr>\n",
       "      <th>3</th>\n",
       "      <td>SERC</td>\n",
       "      <td>0.521641</td>\n",
       "      <td>0.525796</td>\n",
       "      <td>0.525796</td>\n",
       "      <td>OOG</td>\n",
       "      <td>AR</td>\n",
       "    </tr>\n",
       "    <tr>\n",
       "      <th>4</th>\n",
       "      <td>SPP</td>\n",
       "      <td>0.478359</td>\n",
       "      <td>0.474204</td>\n",
       "      <td>0.474204</td>\n",
       "      <td>OOG</td>\n",
       "      <td>AR</td>\n",
       "    </tr>\n",
       "  </tbody>\n",
       "</table>\n",
       "</div>"
      ],
      "text/plain": [
       "   NERC  % generation  % total fuel  % elec fuel fuel category state\n",
       "0  SERC      1.000000      1.000000     1.000000           WAS    AR\n",
       "1     -      0.000000      0.000000     0.000000           PEL    AR\n",
       "2  SERC      1.000000      1.000000     1.000000           PEL    AR\n",
       "3  SERC      0.521641      0.525796     0.525796           OOG    AR\n",
       "4   SPP      0.478359      0.474204     0.474204           OOG    AR"
      ]
     },
     "execution_count": 162,
     "metadata": {},
     "output_type": "execute_result"
    }
   ],
   "source": [
    "fuel_by_nerc.head()"
   ]
  },
  {
   "cell_type": "code",
   "execution_count": 214,
   "metadata": {
    "ExecuteTime": {
     "end_time": "2017-08-08T19:57:16.667614Z",
     "start_time": "2017-08-08T19:57:16.646613Z"
    }
   },
   "outputs": [
    {
     "data": {
      "text/html": [
       "<div>\n",
       "<style>\n",
       "    .dataframe thead tr:only-child th {\n",
       "        text-align: right;\n",
       "    }\n",
       "\n",
       "    .dataframe thead th {\n",
       "        text-align: left;\n",
       "    }\n",
       "\n",
       "    .dataframe tbody tr th {\n",
       "        vertical-align: top;\n",
       "    }\n",
       "</style>\n",
       "<table border=\"1\" class=\"dataframe\">\n",
       "  <thead>\n",
       "    <tr style=\"text-align: right;\">\n",
       "      <th></th>\n",
       "      <th>NERC</th>\n",
       "      <th>% generation</th>\n",
       "      <th>% total fuel</th>\n",
       "      <th>% elec fuel</th>\n",
       "      <th>fuel category</th>\n",
       "      <th>month</th>\n",
       "      <th>state</th>\n",
       "    </tr>\n",
       "  </thead>\n",
       "  <tbody>\n",
       "    <tr>\n",
       "      <th>2704</th>\n",
       "      <td>RFC</td>\n",
       "      <td>0.249526</td>\n",
       "      <td>0.382119</td>\n",
       "      <td>0.513470</td>\n",
       "      <td>NG</td>\n",
       "      <td>10</td>\n",
       "      <td>WI</td>\n",
       "    </tr>\n",
       "    <tr>\n",
       "      <th>2705</th>\n",
       "      <td>MRO</td>\n",
       "      <td>0.946647</td>\n",
       "      <td>0.666793</td>\n",
       "      <td>0.665857</td>\n",
       "      <td>NG</td>\n",
       "      <td>11</td>\n",
       "      <td>WI</td>\n",
       "    </tr>\n",
       "    <tr>\n",
       "      <th>2706</th>\n",
       "      <td>RFC</td>\n",
       "      <td>0.053353</td>\n",
       "      <td>0.333207</td>\n",
       "      <td>0.334143</td>\n",
       "      <td>NG</td>\n",
       "      <td>11</td>\n",
       "      <td>WI</td>\n",
       "    </tr>\n",
       "    <tr>\n",
       "      <th>2707</th>\n",
       "      <td>MRO</td>\n",
       "      <td>0.923901</td>\n",
       "      <td>0.658481</td>\n",
       "      <td>0.718664</td>\n",
       "      <td>NG</td>\n",
       "      <td>12</td>\n",
       "      <td>WI</td>\n",
       "    </tr>\n",
       "    <tr>\n",
       "      <th>2708</th>\n",
       "      <td>RFC</td>\n",
       "      <td>0.076099</td>\n",
       "      <td>0.341519</td>\n",
       "      <td>0.281336</td>\n",
       "      <td>NG</td>\n",
       "      <td>12</td>\n",
       "      <td>WI</td>\n",
       "    </tr>\n",
       "  </tbody>\n",
       "</table>\n",
       "</div>"
      ],
      "text/plain": [
       "     NERC  % generation  % total fuel  % elec fuel fuel category  month state\n",
       "2704  RFC      0.249526      0.382119     0.513470            NG     10    WI\n",
       "2705  MRO      0.946647      0.666793     0.665857            NG     11    WI\n",
       "2706  RFC      0.053353      0.333207     0.334143            NG     11    WI\n",
       "2707  MRO      0.923901      0.658481     0.718664            NG     12    WI\n",
       "2708  RFC      0.076099      0.341519     0.281336            NG     12    WI"
      ]
     },
     "execution_count": 214,
     "metadata": {},
     "output_type": "execute_result"
    }
   ],
   "source": [
    "fuel_by_nerc_month.tail()"
   ]
  },
  {
   "cell_type": "code",
   "execution_count": null,
   "metadata": {
    "collapsed": true
   },
   "outputs": [],
   "source": []
  },
  {
   "cell_type": "markdown",
   "metadata": {},
   "source": [
    "#### States that include more than one NERC region"
   ]
  },
  {
   "cell_type": "code",
   "execution_count": 79,
   "metadata": {
    "ExecuteTime": {
     "end_time": "2017-07-21T15:40:07.367990",
     "start_time": "2017-07-21T15:40:07.341486"
    },
    "collapsed": true
   },
   "outputs": [],
   "source": [
    "NERC_states = ['WY', 'SD', 'NE', 'OK', 'TX', 'NM', 'LA', 'AR',\n",
    "               'MO', 'MN', 'IL', 'KY', 'VA', 'FL']"
   ]
  },
  {
   "cell_type": "code",
   "execution_count": 93,
   "metadata": {
    "ExecuteTime": {
     "end_time": "2017-07-21T15:50:04.437271",
     "start_time": "2017-07-21T15:50:04.318767"
    },
    "collapsed": true,
    "scrolled": true
   },
   "outputs": [],
   "source": [
    "error_list = []\n",
    "for state in NERC_states:\n",
    "    error = (annual_state.loc[2016, state]\n",
    "             - annual_facility.loc[2016, state]) / annual_state.loc[2016, state]\n",
    "    error['state'] = state\n",
    "    \n",
    "    for col in ['generation (MWh)']:#, 'elec fuel (mmbtu)']:\n",
    "        if error.loc[error[col] > 0.05, col].any():\n",
    "            error_list.append(error.loc[error[col] > 0.05])"
   ]
  },
  {
   "cell_type": "markdown",
   "metadata": {},
   "source": [
    "The dataframe below shows all states with more than one NERC region where facility generation is at least 5% below EIA's state-level estimate in 2016. "
   ]
  },
  {
   "cell_type": "code",
   "execution_count": 94,
   "metadata": {
    "ExecuteTime": {
     "end_time": "2017-07-21T15:50:11.212518",
     "start_time": "2017-07-21T15:50:11.159172"
    }
   },
   "outputs": [
    {
     "data": {
      "text/html": [
       "<div>\n",
       "<table border=\"1\" class=\"dataframe\">\n",
       "  <thead>\n",
       "    <tr style=\"text-align: right;\">\n",
       "      <th></th>\n",
       "      <th>generation (MWh)</th>\n",
       "      <th>elec fuel (mmbtu)</th>\n",
       "      <th>state</th>\n",
       "    </tr>\n",
       "  </thead>\n",
       "  <tbody>\n",
       "    <tr>\n",
       "      <th>COW</th>\n",
       "      <td>0.057014</td>\n",
       "      <td>0.058988</td>\n",
       "      <td>WY</td>\n",
       "    </tr>\n",
       "    <tr>\n",
       "      <th>HYC</th>\n",
       "      <td>0.095835</td>\n",
       "      <td>NaN</td>\n",
       "      <td>WY</td>\n",
       "    </tr>\n",
       "    <tr>\n",
       "      <th>NG</th>\n",
       "      <td>0.413092</td>\n",
       "      <td>0.508736</td>\n",
       "      <td>WY</td>\n",
       "    </tr>\n",
       "    <tr>\n",
       "      <th>NG</th>\n",
       "      <td>0.212550</td>\n",
       "      <td>0.233675</td>\n",
       "      <td>SD</td>\n",
       "    </tr>\n",
       "    <tr>\n",
       "      <th>HYC</th>\n",
       "      <td>1.000000</td>\n",
       "      <td>NaN</td>\n",
       "      <td>NE</td>\n",
       "    </tr>\n",
       "    <tr>\n",
       "      <th>NG</th>\n",
       "      <td>0.141895</td>\n",
       "      <td>0.122942</td>\n",
       "      <td>NE</td>\n",
       "    </tr>\n",
       "    <tr>\n",
       "      <th>WAS</th>\n",
       "      <td>1.000000</td>\n",
       "      <td>NaN</td>\n",
       "      <td>NE</td>\n",
       "    </tr>\n",
       "    <tr>\n",
       "      <th>HYC</th>\n",
       "      <td>0.327894</td>\n",
       "      <td>NaN</td>\n",
       "      <td>OK</td>\n",
       "    </tr>\n",
       "    <tr>\n",
       "      <th>OTH</th>\n",
       "      <td>0.359396</td>\n",
       "      <td>NaN</td>\n",
       "      <td>OK</td>\n",
       "    </tr>\n",
       "    <tr>\n",
       "      <th>PEL</th>\n",
       "      <td>0.098354</td>\n",
       "      <td>0.089782</td>\n",
       "      <td>OK</td>\n",
       "    </tr>\n",
       "    <tr>\n",
       "      <th>WAS</th>\n",
       "      <td>1.000000</td>\n",
       "      <td>NaN</td>\n",
       "      <td>OK</td>\n",
       "    </tr>\n",
       "    <tr>\n",
       "      <th>WWW</th>\n",
       "      <td>1.000000</td>\n",
       "      <td>NaN</td>\n",
       "      <td>OK</td>\n",
       "    </tr>\n",
       "    <tr>\n",
       "      <th>HYC</th>\n",
       "      <td>0.688630</td>\n",
       "      <td>NaN</td>\n",
       "      <td>TX</td>\n",
       "    </tr>\n",
       "    <tr>\n",
       "      <th>NG</th>\n",
       "      <td>0.053121</td>\n",
       "      <td>0.062912</td>\n",
       "      <td>TX</td>\n",
       "    </tr>\n",
       "    <tr>\n",
       "      <th>OOG</th>\n",
       "      <td>0.132470</td>\n",
       "      <td>NaN</td>\n",
       "      <td>TX</td>\n",
       "    </tr>\n",
       "    <tr>\n",
       "      <th>OTH</th>\n",
       "      <td>0.533980</td>\n",
       "      <td>NaN</td>\n",
       "      <td>TX</td>\n",
       "    </tr>\n",
       "    <tr>\n",
       "      <th>SUN</th>\n",
       "      <td>0.247843</td>\n",
       "      <td>NaN</td>\n",
       "      <td>TX</td>\n",
       "    </tr>\n",
       "    <tr>\n",
       "      <th>WAS</th>\n",
       "      <td>1.000000</td>\n",
       "      <td>NaN</td>\n",
       "      <td>TX</td>\n",
       "    </tr>\n",
       "    <tr>\n",
       "      <th>WWW</th>\n",
       "      <td>0.443587</td>\n",
       "      <td>NaN</td>\n",
       "      <td>TX</td>\n",
       "    </tr>\n",
       "    <tr>\n",
       "      <th>GEO</th>\n",
       "      <td>1.000000</td>\n",
       "      <td>NaN</td>\n",
       "      <td>NM</td>\n",
       "    </tr>\n",
       "    <tr>\n",
       "      <th>NG</th>\n",
       "      <td>0.090467</td>\n",
       "      <td>0.085517</td>\n",
       "      <td>NM</td>\n",
       "    </tr>\n",
       "    <tr>\n",
       "      <th>SUN</th>\n",
       "      <td>0.638877</td>\n",
       "      <td>NaN</td>\n",
       "      <td>NM</td>\n",
       "    </tr>\n",
       "    <tr>\n",
       "      <th>WAS</th>\n",
       "      <td>1.000000</td>\n",
       "      <td>NaN</td>\n",
       "      <td>NM</td>\n",
       "    </tr>\n",
       "    <tr>\n",
       "      <th>NG</th>\n",
       "      <td>0.055065</td>\n",
       "      <td>0.050793</td>\n",
       "      <td>LA</td>\n",
       "    </tr>\n",
       "    <tr>\n",
       "      <th>OOG</th>\n",
       "      <td>0.100225</td>\n",
       "      <td>NaN</td>\n",
       "      <td>LA</td>\n",
       "    </tr>\n",
       "    <tr>\n",
       "      <th>OTH</th>\n",
       "      <td>0.580154</td>\n",
       "      <td>NaN</td>\n",
       "      <td>LA</td>\n",
       "    </tr>\n",
       "    <tr>\n",
       "      <th>WAS</th>\n",
       "      <td>0.930467</td>\n",
       "      <td>NaN</td>\n",
       "      <td>LA</td>\n",
       "    </tr>\n",
       "    <tr>\n",
       "      <th>WWW</th>\n",
       "      <td>0.516165</td>\n",
       "      <td>NaN</td>\n",
       "      <td>LA</td>\n",
       "    </tr>\n",
       "    <tr>\n",
       "      <th>HYC</th>\n",
       "      <td>0.202653</td>\n",
       "      <td>NaN</td>\n",
       "      <td>AR</td>\n",
       "    </tr>\n",
       "    <tr>\n",
       "      <th>WAS</th>\n",
       "      <td>1.000000</td>\n",
       "      <td>NaN</td>\n",
       "      <td>AR</td>\n",
       "    </tr>\n",
       "    <tr>\n",
       "      <th>WWW</th>\n",
       "      <td>0.086687</td>\n",
       "      <td>NaN</td>\n",
       "      <td>AR</td>\n",
       "    </tr>\n",
       "    <tr>\n",
       "      <th>NG</th>\n",
       "      <td>0.089319</td>\n",
       "      <td>0.123133</td>\n",
       "      <td>MO</td>\n",
       "    </tr>\n",
       "    <tr>\n",
       "      <th>SUN</th>\n",
       "      <td>0.860146</td>\n",
       "      <td>NaN</td>\n",
       "      <td>MO</td>\n",
       "    </tr>\n",
       "    <tr>\n",
       "      <th>WAS</th>\n",
       "      <td>1.000000</td>\n",
       "      <td>NaN</td>\n",
       "      <td>MO</td>\n",
       "    </tr>\n",
       "    <tr>\n",
       "      <th>HYC</th>\n",
       "      <td>0.942665</td>\n",
       "      <td>NaN</td>\n",
       "      <td>MN</td>\n",
       "    </tr>\n",
       "    <tr>\n",
       "      <th>NG</th>\n",
       "      <td>0.064268</td>\n",
       "      <td>0.084587</td>\n",
       "      <td>MN</td>\n",
       "    </tr>\n",
       "    <tr>\n",
       "      <th>OTH</th>\n",
       "      <td>0.555342</td>\n",
       "      <td>NaN</td>\n",
       "      <td>MN</td>\n",
       "    </tr>\n",
       "    <tr>\n",
       "      <th>SUN</th>\n",
       "      <td>0.794821</td>\n",
       "      <td>NaN</td>\n",
       "      <td>MN</td>\n",
       "    </tr>\n",
       "    <tr>\n",
       "      <th>WAS</th>\n",
       "      <td>0.711827</td>\n",
       "      <td>NaN</td>\n",
       "      <td>MN</td>\n",
       "    </tr>\n",
       "    <tr>\n",
       "      <th>WND</th>\n",
       "      <td>0.112260</td>\n",
       "      <td>NaN</td>\n",
       "      <td>MN</td>\n",
       "    </tr>\n",
       "    <tr>\n",
       "      <th>WWW</th>\n",
       "      <td>0.596931</td>\n",
       "      <td>NaN</td>\n",
       "      <td>MN</td>\n",
       "    </tr>\n",
       "    <tr>\n",
       "      <th>NG</th>\n",
       "      <td>0.060489</td>\n",
       "      <td>0.059321</td>\n",
       "      <td>IL</td>\n",
       "    </tr>\n",
       "    <tr>\n",
       "      <th>OOG</th>\n",
       "      <td>0.961357</td>\n",
       "      <td>NaN</td>\n",
       "      <td>IL</td>\n",
       "    </tr>\n",
       "    <tr>\n",
       "      <th>OTH</th>\n",
       "      <td>0.987482</td>\n",
       "      <td>NaN</td>\n",
       "      <td>IL</td>\n",
       "    </tr>\n",
       "    <tr>\n",
       "      <th>PEL</th>\n",
       "      <td>0.052267</td>\n",
       "      <td>0.059331</td>\n",
       "      <td>IL</td>\n",
       "    </tr>\n",
       "    <tr>\n",
       "      <th>SUN</th>\n",
       "      <td>1.000000</td>\n",
       "      <td>NaN</td>\n",
       "      <td>IL</td>\n",
       "    </tr>\n",
       "    <tr>\n",
       "      <th>WAS</th>\n",
       "      <td>1.000000</td>\n",
       "      <td>NaN</td>\n",
       "      <td>IL</td>\n",
       "    </tr>\n",
       "    <tr>\n",
       "      <th>HYC</th>\n",
       "      <td>0.128468</td>\n",
       "      <td>NaN</td>\n",
       "      <td>KY</td>\n",
       "    </tr>\n",
       "    <tr>\n",
       "      <th>WAS</th>\n",
       "      <td>1.000000</td>\n",
       "      <td>NaN</td>\n",
       "      <td>KY</td>\n",
       "    </tr>\n",
       "    <tr>\n",
       "      <th>HYC</th>\n",
       "      <td>1.139389</td>\n",
       "      <td>NaN</td>\n",
       "      <td>VA</td>\n",
       "    </tr>\n",
       "    <tr>\n",
       "      <th>OTH</th>\n",
       "      <td>0.164274</td>\n",
       "      <td>NaN</td>\n",
       "      <td>VA</td>\n",
       "    </tr>\n",
       "    <tr>\n",
       "      <th>PEL</th>\n",
       "      <td>0.055163</td>\n",
       "      <td>0.055660</td>\n",
       "      <td>VA</td>\n",
       "    </tr>\n",
       "    <tr>\n",
       "      <th>WAS</th>\n",
       "      <td>0.642315</td>\n",
       "      <td>NaN</td>\n",
       "      <td>VA</td>\n",
       "    </tr>\n",
       "    <tr>\n",
       "      <th>WWW</th>\n",
       "      <td>0.095183</td>\n",
       "      <td>NaN</td>\n",
       "      <td>VA</td>\n",
       "    </tr>\n",
       "    <tr>\n",
       "      <th>HYC</th>\n",
       "      <td>1.000000</td>\n",
       "      <td>NaN</td>\n",
       "      <td>FL</td>\n",
       "    </tr>\n",
       "    <tr>\n",
       "      <th>OTH</th>\n",
       "      <td>0.318424</td>\n",
       "      <td>NaN</td>\n",
       "      <td>FL</td>\n",
       "    </tr>\n",
       "    <tr>\n",
       "      <th>SUN</th>\n",
       "      <td>0.317072</td>\n",
       "      <td>NaN</td>\n",
       "      <td>FL</td>\n",
       "    </tr>\n",
       "    <tr>\n",
       "      <th>WAS</th>\n",
       "      <td>0.585390</td>\n",
       "      <td>NaN</td>\n",
       "      <td>FL</td>\n",
       "    </tr>\n",
       "    <tr>\n",
       "      <th>WWW</th>\n",
       "      <td>0.466676</td>\n",
       "      <td>NaN</td>\n",
       "      <td>FL</td>\n",
       "    </tr>\n",
       "  </tbody>\n",
       "</table>\n",
       "</div>"
      ],
      "text/plain": [
       "     generation (MWh)  elec fuel (mmbtu) state\n",
       "COW          0.057014           0.058988    WY\n",
       "HYC          0.095835                NaN    WY\n",
       "NG           0.413092           0.508736    WY\n",
       "NG           0.212550           0.233675    SD\n",
       "HYC          1.000000                NaN    NE\n",
       "NG           0.141895           0.122942    NE\n",
       "WAS          1.000000                NaN    NE\n",
       "HYC          0.327894                NaN    OK\n",
       "OTH          0.359396                NaN    OK\n",
       "PEL          0.098354           0.089782    OK\n",
       "WAS          1.000000                NaN    OK\n",
       "WWW          1.000000                NaN    OK\n",
       "HYC          0.688630                NaN    TX\n",
       "NG           0.053121           0.062912    TX\n",
       "OOG          0.132470                NaN    TX\n",
       "OTH          0.533980                NaN    TX\n",
       "SUN          0.247843                NaN    TX\n",
       "WAS          1.000000                NaN    TX\n",
       "WWW          0.443587                NaN    TX\n",
       "GEO          1.000000                NaN    NM\n",
       "NG           0.090467           0.085517    NM\n",
       "SUN          0.638877                NaN    NM\n",
       "WAS          1.000000                NaN    NM\n",
       "NG           0.055065           0.050793    LA\n",
       "OOG          0.100225                NaN    LA\n",
       "OTH          0.580154                NaN    LA\n",
       "WAS          0.930467                NaN    LA\n",
       "WWW          0.516165                NaN    LA\n",
       "HYC          0.202653                NaN    AR\n",
       "WAS          1.000000                NaN    AR\n",
       "WWW          0.086687                NaN    AR\n",
       "NG           0.089319           0.123133    MO\n",
       "SUN          0.860146                NaN    MO\n",
       "WAS          1.000000                NaN    MO\n",
       "HYC          0.942665                NaN    MN\n",
       "NG           0.064268           0.084587    MN\n",
       "OTH          0.555342                NaN    MN\n",
       "SUN          0.794821                NaN    MN\n",
       "WAS          0.711827                NaN    MN\n",
       "WND          0.112260                NaN    MN\n",
       "WWW          0.596931                NaN    MN\n",
       "NG           0.060489           0.059321    IL\n",
       "OOG          0.961357                NaN    IL\n",
       "OTH          0.987482                NaN    IL\n",
       "PEL          0.052267           0.059331    IL\n",
       "SUN          1.000000                NaN    IL\n",
       "WAS          1.000000                NaN    IL\n",
       "HYC          0.128468                NaN    KY\n",
       "WAS          1.000000                NaN    KY\n",
       "HYC          1.139389                NaN    VA\n",
       "OTH          0.164274                NaN    VA\n",
       "PEL          0.055163           0.055660    VA\n",
       "WAS          0.642315                NaN    VA\n",
       "WWW          0.095183                NaN    VA\n",
       "HYC          1.000000                NaN    FL\n",
       "OTH          0.318424                NaN    FL\n",
       "SUN          0.317072                NaN    FL\n",
       "WAS          0.585390                NaN    FL\n",
       "WWW          0.466676                NaN    FL"
      ]
     },
     "execution_count": 94,
     "metadata": {},
     "output_type": "execute_result"
    }
   ],
   "source": [
    "pd.concat(error_list)"
   ]
  }
 ],
 "metadata": {
  "kernelspec": {
   "display_name": "Python 3",
   "language": "python",
   "name": "python3"
  },
  "language_info": {
   "codemirror_mode": {
    "name": "ipython",
    "version": 3
   },
   "file_extension": ".py",
   "mimetype": "text/x-python",
   "name": "python",
   "nbconvert_exporter": "python",
   "pygments_lexer": "ipython3",
   "version": "3.6.2"
  }
 },
 "nbformat": 4,
 "nbformat_minor": 2
}
