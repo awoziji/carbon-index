{
 "cells": [
  {
   "cell_type": "code",
   "execution_count": 1,
   "metadata": {},
   "outputs": [],
   "source": [
    "from os.path import join\n",
    "import pandas as pd\n",
    "idx = pd.IndexSlice"
   ]
  },
  {
   "cell_type": "code",
   "execution_count": 2,
   "metadata": {},
   "outputs": [],
   "source": [
    "current_quarter_num = 4\n",
    "current_quarter = 'Q{}'.format(current_quarter_num)\n",
    "current_year = 2017\n",
    "prev_year = current_year - 1\n",
    "quarter_word = 'fourth'\n",
    "current_y_q = '{} {}'.format(current_year, current_quarter)\n",
    "prev_y_q = '{} {}'.format(prev_year, current_quarter)\n",
    "roll_y_q = '{} Q{}'.format(prev_year, current_quarter_num - 1)\n",
    "\n",
    "index_2005 = 599.1\n",
    "index_2005_lb = 1321"
   ]
  },
  {
   "cell_type": "markdown",
   "metadata": {},
   "source": [
    "## Import quarterly index and generation results"
   ]
  },
  {
   "cell_type": "code",
   "execution_count": 3,
   "metadata": {},
   "outputs": [],
   "source": [
    "index = pd.read_csv('Quarterly index {} {}.csv'.format(current_year, current_quarter))\n",
    "index.set_index('year_quarter', inplace=True)\n",
    "gen = pd.read_csv('Quarterly generation {} {}.csv'.format(current_year, current_quarter))\n",
    "\n",
    "total_gen = gen.groupby(['year', 'quarter'], as_index=False).sum()\n",
    "total_gen['year_quarter'] = total_gen.apply(lambda row: '{} Q{}'\n",
    "                                            .format(int(row['year']), \n",
    "                                                    int(row['quarter'])), axis=1)\n",
    "total_gen['fuel category'] = 'Total'\n",
    "\n",
    "gen = pd.concat([gen, total_gen])\n",
    "fuel_cats = gen['fuel category'].unique()\n",
    "gen.set_index(['fuel category', 'year_quarter'], inplace=True)\n"
   ]
  },
  {
   "cell_type": "markdown",
   "metadata": {},
   "source": [
    "## Compare to previous quarter"
   ]
  },
  {
   "cell_type": "markdown",
   "metadata": {},
   "source": [
    "Comparing Q3 2017 to Q3 2016\n",
    "The Carnegie Mellon Power Sector Carbon Index provides a comprehensive picture of the carbon intensity of electricity production in the during the previous 12 months and over an extended period to 2001. The CMU index also provides a summary of how much electricity generation is from coal, natural gas, nuclear, and renewables. According to the Carnegie Mellon Power Sector Carbon Index, U.S. power plant emissions averaged 1,035 lb CO2 per MWh in the third quarter of 2017, which was down 5 percent from the same time frame in 2016. Continuing the trend seen in Q2 2017 and the first three quarters of 2016, more electricity was generated from natural gas than from coal. Electricity generation from renewables was 10% higher in the third quarter of 2017 when compared to the third quarter of 2016."
   ]
  },
  {
   "cell_type": "code",
   "execution_count": 4,
   "metadata": {},
   "outputs": [
    {
     "data": {
      "text/html": [
       "<div>\n",
       "<style scoped>\n",
       "    .dataframe tbody tr th:only-of-type {\n",
       "        vertical-align: middle;\n",
       "    }\n",
       "\n",
       "    .dataframe tbody tr th {\n",
       "        vertical-align: top;\n",
       "    }\n",
       "\n",
       "    .dataframe thead th {\n",
       "        text-align: right;\n",
       "    }\n",
       "</style>\n",
       "<table border=\"1\" class=\"dataframe\">\n",
       "  <thead>\n",
       "    <tr style=\"text-align: right;\">\n",
       "      <th></th>\n",
       "      <th>year</th>\n",
       "      <th>quarter</th>\n",
       "      <th>generation (mwh)</th>\n",
       "      <th>final co2 (kg)</th>\n",
       "      <th>index (g/kwh)</th>\n",
       "      <th>change since 2005</th>\n",
       "      <th>index (lb/mwh)</th>\n",
       "    </tr>\n",
       "    <tr>\n",
       "      <th>year_quarter</th>\n",
       "      <th></th>\n",
       "      <th></th>\n",
       "      <th></th>\n",
       "      <th></th>\n",
       "      <th></th>\n",
       "      <th></th>\n",
       "      <th></th>\n",
       "    </tr>\n",
       "  </thead>\n",
       "  <tbody>\n",
       "    <tr>\n",
       "      <th>2016 Q4</th>\n",
       "      <td>2016</td>\n",
       "      <td>4</td>\n",
       "      <td>9.592564e+08</td>\n",
       "      <td>4.320641e+11</td>\n",
       "      <td>450.415699</td>\n",
       "      <td>-0.248218</td>\n",
       "      <td>992.986449</td>\n",
       "    </tr>\n",
       "    <tr>\n",
       "      <th>2017 Q1</th>\n",
       "      <td>2017</td>\n",
       "      <td>1</td>\n",
       "      <td>9.560930e+08</td>\n",
       "      <td>4.077586e+11</td>\n",
       "      <td>426.484278</td>\n",
       "      <td>-0.288161</td>\n",
       "      <td>940.227240</td>\n",
       "    </tr>\n",
       "    <tr>\n",
       "      <th>2017 Q2</th>\n",
       "      <td>2017</td>\n",
       "      <td>2</td>\n",
       "      <td>9.791486e+08</td>\n",
       "      <td>4.162425e+11</td>\n",
       "      <td>425.106560</td>\n",
       "      <td>-0.290461</td>\n",
       "      <td>937.189922</td>\n",
       "    </tr>\n",
       "    <tr>\n",
       "      <th>2017 Q3</th>\n",
       "      <td>2017</td>\n",
       "      <td>3</td>\n",
       "      <td>1.123963e+09</td>\n",
       "      <td>5.243688e+11</td>\n",
       "      <td>466.535480</td>\n",
       "      <td>-0.221312</td>\n",
       "      <td>1028.524119</td>\n",
       "    </tr>\n",
       "    <tr>\n",
       "      <th>2017 Q4</th>\n",
       "      <td>2017</td>\n",
       "      <td>4</td>\n",
       "      <td>9.753934e+08</td>\n",
       "      <td>4.214174e+11</td>\n",
       "      <td>432.048656</td>\n",
       "      <td>-0.278874</td>\n",
       "      <td>952.494466</td>\n",
       "    </tr>\n",
       "  </tbody>\n",
       "</table>\n",
       "</div>"
      ],
      "text/plain": [
       "              year  quarter  generation (mwh)  final co2 (kg)  index (g/kwh)  \\\n",
       "year_quarter                                                                   \n",
       "2016 Q4       2016        4      9.592564e+08    4.320641e+11     450.415699   \n",
       "2017 Q1       2017        1      9.560930e+08    4.077586e+11     426.484278   \n",
       "2017 Q2       2017        2      9.791486e+08    4.162425e+11     425.106560   \n",
       "2017 Q3       2017        3      1.123963e+09    5.243688e+11     466.535480   \n",
       "2017 Q4       2017        4      9.753934e+08    4.214174e+11     432.048656   \n",
       "\n",
       "              change since 2005  index (lb/mwh)  \n",
       "year_quarter                                     \n",
       "2016 Q4               -0.248218      992.986449  \n",
       "2017 Q1               -0.288161      940.227240  \n",
       "2017 Q2               -0.290461      937.189922  \n",
       "2017 Q3               -0.221312     1028.524119  \n",
       "2017 Q4               -0.278874      952.494466  "
      ]
     },
     "execution_count": 4,
     "metadata": {},
     "output_type": "execute_result"
    }
   ],
   "source": [
    "index.tail()"
   ]
  },
  {
   "cell_type": "code",
   "execution_count": 5,
   "metadata": {},
   "outputs": [],
   "source": [
    "curr_q_index_lb = index.loc[current_y_q, 'index (lb/mwh)']\n",
    "curr_q_index_str = '{:,}'.format(int(round(curr_q_index_lb)))\n",
    "\n",
    "prev_q_index_lb = index.loc[prev_y_q, 'index (lb/mwh)']\n",
    "prev_q_index_str = '{:,}'.format(int(round(prev_q_index_lb)))\n",
    "\n",
    "index_yoy_change = curr_q_index_lb - prev_q_index_lb\n",
    "index_yoy_per = index_yoy_change / prev_q_index_lb\n",
    "index_yoy_per_str = '{:.0f}'.format(abs(index_yoy_per * 100))\n",
    "\n",
    "if index_yoy_per < 0:\n",
    "    direction = 'down'\n",
    "else:\n",
    "    direction = 'up'"
   ]
  },
  {
   "cell_type": "code",
   "execution_count": 6,
   "metadata": {},
   "outputs": [],
   "source": [
    "base_str_prev_q = 'The Carnegie Mellon Power Sector Carbon Index provides a comprehensive picture of the carbon intensity of electricity production in the during the previous 12 months and over an extended period to 2001. The CMU index also provides a summary of how much electricity generation is from coal, natural gas, nuclear, and renewables. According to the Carnegie Mellon Power Sector Carbon Index, U.S. power plant emissions averaged {} lb CO<sub>2</sub> per MWh in the {} quarter of {}, which was {} {} percent from the same time frame in {}.'\n",
    "prev_q_str = base_str_prev_q.format(curr_q_index_str, quarter_word, current_year, direction, index_yoy_per_str, str(prev_year))"
   ]
  },
  {
   "cell_type": "code",
   "execution_count": 7,
   "metadata": {},
   "outputs": [
    {
     "data": {
      "text/plain": [
       "'The Carnegie Mellon Power Sector Carbon Index provides a comprehensive picture of the carbon intensity of electricity production in the during the previous 12 months and over an extended period to 2001. The CMU index also provides a summary of how much electricity generation is from coal, natural gas, nuclear, and renewables. According to the Carnegie Mellon Power Sector Carbon Index, U.S. power plant emissions averaged 952 lb CO<sub>2</sub> per MWh in the fourth quarter of 2017, which was down 4 percent from the same time frame in 2016.'"
      ]
     },
     "execution_count": 7,
     "metadata": {},
     "output_type": "execute_result"
    }
   ],
   "source": [
    "prev_q_str"
   ]
  },
  {
   "cell_type": "markdown",
   "metadata": {},
   "source": [
    "## Compare to 2005"
   ]
  },
  {
   "cell_type": "markdown",
   "metadata": {},
   "source": [
    "Comparing Performance in 2017 to 2005\n",
    "The Power Sector Carbon Index for Q3 of 2017 was 22% lower than in the annual value in 2005, from 1,324 lb CO2 per MWh to 1,004 lb CO2 per MWh (or 600 to 470 g CO2 per kWh). As of Q3 of 2017, the rolling annual average carbon intensity was 981 lb CO2 per MWh (or 445 g CO2 per kWh), which is 26% lower than the annual value in 2005."
   ]
  },
  {
   "cell_type": "code",
   "execution_count": 8,
   "metadata": {},
   "outputs": [],
   "source": [
    "curr_q_index_lb = round(index.loc[current_y_q, 'index (lb/mwh)'])\n",
    "curr_q_index = index.loc[current_y_q, 'index (g/kwh)']\n",
    "curr_roll_index = (index.loc[roll_y_q:, 'final co2 (kg)'].sum()\n",
    "                   / index.loc[roll_y_q:, 'generation (mwh)'].sum())\n",
    "curr_roll_index_lb = round(curr_roll_index * 2.2046)\n",
    "index_change_2005_str = '{:.0%}'.format(abs(index.loc[current_y_q, 'change since 2005']))\n",
    "roll_change_2005 = abs((index_2005 - curr_roll_index) / index_2005)\n",
    "roll_change_2005_str = '{:.0%}'.format(roll_change_2005)\n"
   ]
  },
  {
   "cell_type": "code",
   "execution_count": 9,
   "metadata": {},
   "outputs": [],
   "source": [
    "base_str_2005 = 'The Power Sector Carbon Index for {} of {} was {} lower than in the annual value in 2005, from {:,} lb CO<sub>2</sub> per MWh to {:,.0f} lb CO<sub>2</sub> per MWh (or {:.0f} to {:.0f} g CO<sub>2</sub> per kWh). As of {} of {}, the rolling annual average carbon intensity was {:,.0f} lb CO<sub>2</sub> per MWh (or {:.0f} g CO<sub>2</sub> per kWh), which is {} lower than the annual value in 2005.'\n",
    "change_2005_str = base_str_2005.format(current_quarter, current_year,\n",
    "                                       index_change_2005_str, index_2005_lb,\n",
    "                                       curr_q_index_lb, index_2005, curr_q_index,\n",
    "                                       current_quarter, current_year, curr_roll_index_lb,\n",
    "                                       curr_roll_index, roll_change_2005_str)"
   ]
  },
  {
   "cell_type": "code",
   "execution_count": 10,
   "metadata": {},
   "outputs": [
    {
     "data": {
      "text/plain": [
       "'The Power Sector Carbon Index for Q4 of 2017 was 28% lower than in the annual value in 2005, from 1,321 lb CO<sub>2</sub> per MWh to 952 lb CO<sub>2</sub> per MWh (or 599 to 432 g CO<sub>2</sub> per kWh). As of Q4 of 2017, the rolling annual average carbon intensity was 995 lb CO<sub>2</sub> per MWh (or 451 g CO<sub>2</sub> per kWh), which is 25% lower than the annual value in 2005.'"
      ]
     },
     "execution_count": 10,
     "metadata": {},
     "output_type": "execute_result"
    }
   ],
   "source": [
    "change_2005_str"
   ]
  },
  {
   "cell_type": "markdown",
   "metadata": {},
   "source": [
    "### Generation stats"
   ]
  },
  {
   "cell_type": "code",
   "execution_count": 11,
   "metadata": {},
   "outputs": [],
   "source": [
    "fuels = ['Total', 'Coal', 'Hydro', 'Natural Gas', 'Wind', 'Solar', \n",
    "         'Nuclear', 'Other', 'Other Renewables', ]\n",
    "gen_results = []\n",
    "for fuel in fuels:\n",
    "    prev_gen = gen.loc[idx[fuel, prev_y_q], 'generation (mwh)']\n",
    "    prev_gen_str = '{:.1f} million MWh'.format(prev_gen / 1e6)\n",
    "    \n",
    "    curr_gen = gen.loc[idx[fuel, current_y_q], 'generation (mwh)']\n",
    "    curr_gen_str = '{:.1f} million MWh'.format(curr_gen / 1e6)\n",
    "    \n",
    "    per_change = (curr_gen - prev_gen) / prev_gen\n",
    "    per_change_str = '{:.0%}'.format(abs(per_change))\n",
    "    \n",
    "    if prev_gen > curr_gen:\n",
    "        direction = 'down'\n",
    "    else:\n",
    "        direction = 'up'\n",
    "    \n",
    "    kwargs = {\n",
    "        'fuel': fuel,\n",
    "        'dir': direction,\n",
    "        'change': per_change_str,\n",
    "        'curr_q': current_y_q,\n",
    "        'curr_gen': curr_gen_str,\n",
    "        'prev_q': prev_y_q,\n",
    "        'prev_gen': prev_gen_str\n",
    "    }\n",
    "    \n",
    "    result_str = '- {fuel} generation was {dir} {change} in {curr_q} ({curr_gen}) when compared to {prev_q} ({prev_gen}).'.format(**kwargs)\n",
    "    \n",
    "    if fuel != 'Total':\n",
    "        total_gen = gen.loc[idx['Total', current_y_q], 'generation (mwh)']\n",
    "        per_gen = curr_gen / total_gen\n",
    "        per_gen_str = '{:.0%}'.format(per_gen)\n",
    "        \n",
    "        second_str = ' {} represented {} of total generation in {}'.format(fuel, per_gen_str, current_y_q)\n",
    "        \n",
    "        result_str += second_str\n",
    "    \n",
    "    gen_results.append(result_str)"
   ]
  },
  {
   "cell_type": "code",
   "execution_count": 12,
   "metadata": {},
   "outputs": [
    {
     "data": {
      "text/plain": [
       "['- Total generation was up 2% in 2017 Q4 (975.4 million MWh) when compared to 2016 Q4 (959.3 million MWh).',\n",
       " '- Coal generation was down -6% in 2017 Q4 (287.7 million MWh) when compared to 2016 Q4 (304.9 million MWh). Coal represented 29% of total generation in 2017 Q4',\n",
       " '- Hydro generation was up 1% in 2017 Q4 (59.5 million MWh) when compared to 2016 Q4 (58.7 million MWh). Hydro represented 6% of total generation in 2017 Q4',\n",
       " '- Natural Gas generation was up 4% in 2017 Q4 (304.5 million MWh) when compared to 2016 Q4 (293.2 million MWh). Natural Gas represented 31% of total generation in 2017 Q4',\n",
       " '- Wind generation was up 13% in 2017 Q4 (70.9 million MWh) when compared to 2016 Q4 (62.9 million MWh). Wind represented 7% of total generation in 2017 Q4',\n",
       " '- Solar generation was up 30% in 2017 Q4 (16.0 million MWh) when compared to 2016 Q4 (12.3 million MWh). Solar represented 2% of total generation in 2017 Q4',\n",
       " '- Nuclear generation was up 4% in 2017 Q4 (206.3 million MWh) when compared to 2016 Q4 (197.6 million MWh). Nuclear represented 21% of total generation in 2017 Q4',\n",
       " '- Other generation was up 6% in 2017 Q4 (10.5 million MWh) when compared to 2016 Q4 (9.9 million MWh). Other represented 1% of total generation in 2017 Q4',\n",
       " '- Other Renewables generation was up 1% in 2017 Q4 (20.0 million MWh) when compared to 2016 Q4 (19.9 million MWh). Other Renewables represented 2% of total generation in 2017 Q4']"
      ]
     },
     "execution_count": 12,
     "metadata": {},
     "output_type": "execute_result"
    }
   ],
   "source": [
    "gen_results"
   ]
  },
  {
   "cell_type": "markdown",
   "metadata": {},
   "source": [
    "## Write to file"
   ]
  },
  {
   "cell_type": "code",
   "execution_count": 13,
   "metadata": {},
   "outputs": [],
   "source": [
    "outF = open(\"blog.txt\", \"w\")\n",
    "outF.write(prev_q_str)\n",
    "outF.write('\\n\\n')\n",
    "outF.write(change_2005_str)\n",
    "outF.write('\\n\\n')\n",
    "\n",
    "for line in gen_results:\n",
    "    outF.write(line)\n",
    "    outF.write('\\n')\n",
    "outF.close()"
   ]
  }
 ],
 "metadata": {
  "kernelspec": {
   "display_name": "psci",
   "language": "python",
   "name": "psci"
  },
  "language_info": {
   "codemirror_mode": {
    "name": "ipython",
    "version": 3
   },
   "file_extension": ".py",
   "mimetype": "text/x-python",
   "name": "python",
   "nbconvert_exporter": "python",
   "pygments_lexer": "ipython3",
   "version": "3.6.4"
  }
 },
 "nbformat": 4,
 "nbformat_minor": 2
}
