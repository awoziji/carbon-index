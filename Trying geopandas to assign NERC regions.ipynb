{
 "cells": [
  {
   "cell_type": "code",
   "execution_count": 1,
   "metadata": {
    "ExecuteTime": {
     "end_time": "2017-08-01T13:44:02.903900",
     "start_time": "2017-08-01T13:44:01.302755Z"
    }
   },
   "outputs": [],
   "source": [
    "%matplotlib inline\n",
    "import matplotlib.pyplot as plt\n",
    "import geopandas as gpd\n",
    "from shapely.geometry import Point\n",
    "from geopandas import GeoDataFrame\n",
    "import os\n",
    "import pandas as pd\n",
    "%load_ext watermark"
   ]
  },
  {
   "cell_type": "code",
   "execution_count": 2,
   "metadata": {
    "ExecuteTime": {
     "end_time": "2017-08-01T13:44:02.920293",
     "start_time": "2017-08-01T13:44:02.913036Z"
    }
   },
   "outputs": [
    {
     "name": "stdout",
     "output_type": "stream",
     "text": [
      "CPython 3.6.2\n",
      "IPython 6.1.0\n",
      "\n",
      "pandas 0.20.2\n",
      "geopandas 0.2.1\n",
      "shapely 1.5.17.post1\n"
     ]
    }
   ],
   "source": [
    "%watermark -v -p pandas,geopandas,shapely"
   ]
  },
  {
   "cell_type": "markdown",
   "metadata": {},
   "source": [
    "## Read NERC regions shapefile"
   ]
  },
  {
   "cell_type": "code",
   "execution_count": 3,
   "metadata": {
    "ExecuteTime": {
     "end_time": "2017-08-01T13:44:12.754784",
     "start_time": "2017-08-01T13:44:12.252546Z"
    },
    "collapsed": true
   },
   "outputs": [],
   "source": [
    "path = os.path.join('Data storage', 'NERC_Regions_EIA', 'NercRegions_201610.shp')\n",
    "regions = gpd.read_file(path)"
   ]
  },
  {
   "cell_type": "code",
   "execution_count": 4,
   "metadata": {
    "ExecuteTime": {
     "end_time": "2017-08-01T13:44:17.466219",
     "start_time": "2017-08-01T13:44:17.031986Z"
    }
   },
   "outputs": [
    {
     "data": {
      "text/html": [
       "<div>\n",
       "<style>\n",
       "    .dataframe thead tr:only-child th {\n",
       "        text-align: right;\n",
       "    }\n",
       "\n",
       "    .dataframe thead th {\n",
       "        text-align: left;\n",
       "    }\n",
       "\n",
       "    .dataframe tbody tr th {\n",
       "        vertical-align: top;\n",
       "    }\n",
       "</style>\n",
       "<table border=\"1\" class=\"dataframe\">\n",
       "  <thead>\n",
       "    <tr style=\"text-align: right;\">\n",
       "      <th></th>\n",
       "      <th>NERC</th>\n",
       "      <th>NERC_Label</th>\n",
       "      <th>geometry</th>\n",
       "    </tr>\n",
       "  </thead>\n",
       "  <tbody>\n",
       "    <tr>\n",
       "      <th>0</th>\n",
       "      <td>-</td>\n",
       "      <td>Indeterminate - various NERC membership</td>\n",
       "      <td>(POLYGON ((-91.71222639199999 32.9756623780000...</td>\n",
       "    </tr>\n",
       "    <tr>\n",
       "      <th>1</th>\n",
       "      <td>FRCC</td>\n",
       "      <td>Florida Reliability Coordinating Council (FRCC)</td>\n",
       "      <td>(POLYGON ((-81.95506602699999 24.5196900770000...</td>\n",
       "    </tr>\n",
       "    <tr>\n",
       "      <th>2</th>\n",
       "      <td>MRO</td>\n",
       "      <td>Midwest Reliability Organization (MRO)</td>\n",
       "      <td>POLYGON ((-95.07148604699995 49.36451082200006...</td>\n",
       "    </tr>\n",
       "    <tr>\n",
       "      <th>3</th>\n",
       "      <td>NPCC</td>\n",
       "      <td>Northeast Power Coordinating Council (NPCC)</td>\n",
       "      <td>(POLYGON ((-73.82134384999995 40.6045004290000...</td>\n",
       "    </tr>\n",
       "    <tr>\n",
       "      <th>4</th>\n",
       "      <td>RFC</td>\n",
       "      <td>ReliabilityFirst Corporation (RFC)</td>\n",
       "      <td>(POLYGON ((-90.89359863199996 29.0467829150000...</td>\n",
       "    </tr>\n",
       "    <tr>\n",
       "      <th>5</th>\n",
       "      <td>SERC</td>\n",
       "      <td>SERC Reliability Corporation (SERC)</td>\n",
       "      <td>(POLYGON ((-91.71222639199999 32.9756623780000...</td>\n",
       "    </tr>\n",
       "    <tr>\n",
       "      <th>6</th>\n",
       "      <td>SPP</td>\n",
       "      <td>Southwest Power Pool (SPP)</td>\n",
       "      <td>(POLYGON ((-93.73310749999996 30.4137588960000...</td>\n",
       "    </tr>\n",
       "    <tr>\n",
       "      <th>7</th>\n",
       "      <td>TRE</td>\n",
       "      <td>Texas Reliability Entity (TRE)</td>\n",
       "      <td>POLYGON ((-100.0008629659999 35.02950123100004...</td>\n",
       "    </tr>\n",
       "    <tr>\n",
       "      <th>8</th>\n",
       "      <td>WECC</td>\n",
       "      <td>Western Electricity Coordinating Council (WECC)</td>\n",
       "      <td>(POLYGON ((-117.215183729 32.77737140300007, -...</td>\n",
       "    </tr>\n",
       "  </tbody>\n",
       "</table>\n",
       "</div>"
      ],
      "text/plain": [
       "   NERC                                       NERC_Label  \\\n",
       "0     -          Indeterminate - various NERC membership   \n",
       "1  FRCC  Florida Reliability Coordinating Council (FRCC)   \n",
       "2   MRO           Midwest Reliability Organization (MRO)   \n",
       "3  NPCC      Northeast Power Coordinating Council (NPCC)   \n",
       "4   RFC               ReliabilityFirst Corporation (RFC)   \n",
       "5  SERC              SERC Reliability Corporation (SERC)   \n",
       "6   SPP                       Southwest Power Pool (SPP)   \n",
       "7   TRE                   Texas Reliability Entity (TRE)   \n",
       "8  WECC  Western Electricity Coordinating Council (WECC)   \n",
       "\n",
       "                                            geometry  \n",
       "0  (POLYGON ((-91.71222639199999 32.9756623780000...  \n",
       "1  (POLYGON ((-81.95506602699999 24.5196900770000...  \n",
       "2  POLYGON ((-95.07148604699995 49.36451082200006...  \n",
       "3  (POLYGON ((-73.82134384999995 40.6045004290000...  \n",
       "4  (POLYGON ((-90.89359863199996 29.0467829150000...  \n",
       "5  (POLYGON ((-91.71222639199999 32.9756623780000...  \n",
       "6  (POLYGON ((-93.73310749999996 30.4137588960000...  \n",
       "7  POLYGON ((-100.0008629659999 35.02950123100004...  \n",
       "8  (POLYGON ((-117.215183729 32.77737140300007, -...  "
      ]
     },
     "execution_count": 4,
     "metadata": {},
     "output_type": "execute_result"
    }
   ],
   "source": [
    "regions"
   ]
  },
  {
   "cell_type": "code",
   "execution_count": 5,
   "metadata": {
    "ExecuteTime": {
     "end_time": "2017-08-01T13:44:32.440666",
     "start_time": "2017-08-01T13:44:23.861122Z"
    }
   },
   "outputs": [
    {
     "data": {
      "text/plain": [
       "<matplotlib.axes._subplots.AxesSubplot at 0x119b57390>"
      ]
     },
     "execution_count": 5,
     "metadata": {},
     "output_type": "execute_result"
    },
    {
     "data": {
      "image/png": "[encoded data removed]",
      "text/plain": [
       "<matplotlib.figure.Figure at 0x1195174a8>"
      ]
     },
     "metadata": {},
     "output_type": "display_data"
    }
   ],
   "source": [
    "regions.plot()"
   ]
  },
  {
   "cell_type": "markdown",
   "metadata": {},
   "source": [
    "## Read file with facility location, generation, and fuel data"
   ]
  },
  {
   "cell_type": "code",
   "execution_count": 6,
   "metadata": {
    "ExecuteTime": {
     "end_time": "2017-08-01T13:44:41.647930",
     "start_time": "2017-08-01T13:44:34.003615Z"
    },
    "collapsed": true
   },
   "outputs": [],
   "source": [
    "path = os.path.join('Data storage', 'Facility gen fuels and CO2 2017-05-25.zip')\n",
    "facility_df = pd.read_csv(path)"
   ]
  },
  {
   "cell_type": "markdown",
   "metadata": {},
   "source": [
    "### Drop plants without lat/lon data\n",
    "From 2001-present, 9 facilities (out of 8,414) don't have valid lat/lon data. All of them are from 2010 or earlier. Drop these rows or the spatial join fails. The amount of generation from these plants is tiny - well under 0.05% in all years."
   ]
  },
  {
   "cell_type": "code",
   "execution_count": 18,
   "metadata": {
    "ExecuteTime": {
     "end_time": "2017-08-01T13:57:29.216577",
     "start_time": "2017-08-01T13:57:29.189743Z"
    }
   },
   "outputs": [
    {
     "name": "stdout",
     "output_type": "stream",
     "text": [
      "8414 total plants\n",
      "9 plants without lat/lon\n"
     ]
    }
   ],
   "source": [
    "print(len(facility_df['plant id'].unique()), 'total plants')\n",
    "print(len(facility_df.loc[facility_df['lat'].isnull(), 'plant id'].unique()),\n",
    "      'plants without lat/lon')"
   ]
  },
  {
   "cell_type": "code",
   "execution_count": 16,
   "metadata": {
    "ExecuteTime": {
     "end_time": "2017-08-01T13:54:40.141744",
     "start_time": "2017-08-01T13:54:39.846466Z"
    }
   },
   "outputs": [
    {
     "name": "stdout",
     "output_type": "stream",
     "text": [
      "In 2010, 0.000% of generation is from plants without lat/lon\n",
      "In 2009, 0.000% of generation is from plants without lat/lon\n",
      "In 2008, 0.000% of generation is from plants without lat/lon\n",
      "In 2007, 0.000% of generation is from plants without lat/lon\n",
      "In 2006, 0.000% of generation is from plants without lat/lon\n",
      "In 2005, 0.001% of generation is from plants without lat/lon\n",
      "In 2004, 0.001% of generation is from plants without lat/lon\n",
      "In 2003, 0.011% of generation is from plants without lat/lon\n",
      "In 2002, 0.024% of generation is from plants without lat/lon\n",
      "In 2001, 0.031% of generation is from plants without lat/lon\n"
     ]
    }
   ],
   "source": [
    "years = facility_df.loc[facility_df['lat'].isnull(), 'year'].unique()\n",
    "for year in years:\n",
    "    total_gen = facility_df.loc[facility_df['year'] == year, 'generation (MWh)'].sum()\n",
    "    \n",
    "    # Plant ids with no 'lat' in year\n",
    "    no_loc_plants = facility_df.loc[(facility_df['lat'].isnull()) & \n",
    "                                    (facility_df['year'] == year), 'plant id'].unique()\n",
    "    \n",
    "    no_loc_gen = facility_df.loc[(facility_df['year'] == year) &\n",
    "                                 (facility_df['plant id'].isin(no_loc_plants)),\n",
    "                                  'generation (MWh)'].sum()\n",
    "    \n",
    "    percent_dropped = no_loc_gen / total_gen * 100\n",
    "    \n",
    "    print('In {}, {:.3f}% of generation is from plants without lat/lon'.format(year, percent_dropped))"
   ]
  },
  {
   "cell_type": "code",
   "execution_count": 19,
   "metadata": {
    "ExecuteTime": {
     "end_time": "2017-08-01T14:00:45.112699",
     "start_time": "2017-08-01T14:00:44.502227Z"
    },
    "collapsed": true
   },
   "outputs": [],
   "source": [
    "facility_df.dropna(inplace=True, subset=['lat', 'lon'])"
   ]
  },
  {
   "cell_type": "code",
   "execution_count": 20,
   "metadata": {
    "ExecuteTime": {
     "end_time": "2017-08-01T14:00:46.717012",
     "start_time": "2017-08-01T14:00:46.709274Z"
    }
   },
   "outputs": [
    {
     "data": {
      "text/plain": [
       "Index(['f', 'fuel', 'month', 'plant id', 'total fuel (mmbtu)', 'year',\n",
       "       'generation (MWh)', 'elec fuel (mmbtu)', 'geography', 'last_updated',\n",
       "       'lat', 'lon', 'prime mover', 'datetime', 'quarter',\n",
       "       'all fuel fossil CO2 (kg)', 'elec fuel fossil CO2 (kg)',\n",
       "       'all fuel total CO2 (kg)', 'elec fuel total CO2 (kg)'],\n",
       "      dtype='object')"
      ]
     },
     "execution_count": 20,
     "metadata": {},
     "output_type": "execute_result"
    }
   ],
   "source": [
    "facility_df.columns"
   ]
  },
  {
   "cell_type": "markdown",
   "metadata": {},
   "source": [
    "Because I have monthly data for every facility from 2001-2017, there are lots of duplicate rows. No need to do a spatial join on every row. Just keep one instance of each facility in each year."
   ]
  },
  {
   "cell_type": "code",
   "execution_count": 21,
   "metadata": {
    "ExecuteTime": {
     "end_time": "2017-08-01T14:00:48.286888",
     "start_time": "2017-08-01T14:00:47.956271Z"
    },
    "collapsed": true
   },
   "outputs": [],
   "source": [
    "cols = ['lat', 'lon', 'plant id', 'year']\n",
    "small_facility = facility_df.loc[:, cols].drop_duplicates()"
   ]
  },
  {
   "cell_type": "markdown",
   "metadata": {},
   "source": [
    "Use `Point` from Shapely to create the `geometry` list of facility locations. `crs` is the coordinate reference system that translates lat/lon into a specific map projection."
   ]
  },
  {
   "cell_type": "code",
   "execution_count": 22,
   "metadata": {
    "ExecuteTime": {
     "end_time": "2017-08-01T14:00:50.041792",
     "start_time": "2017-08-01T14:00:48.723527Z"
    },
    "collapsed": true
   },
   "outputs": [],
   "source": [
    "geometry = [Point(xy) for xy in zip(small_facility.lon, small_facility.lat)]\n",
    "# small_facility = small_facility.drop(['lon', 'lat'], axis=1)\n",
    "crs = {'init': 'epsg:4326'}\n",
    "geo_df = GeoDataFrame(small_facility, crs=crs, geometry=geometry)"
   ]
  },
  {
   "cell_type": "code",
   "execution_count": 23,
   "metadata": {
    "ExecuteTime": {
     "end_time": "2017-08-01T14:00:50.082233",
     "start_time": "2017-08-01T14:00:50.044570Z"
    }
   },
   "outputs": [
    {
     "data": {
      "text/html": [
       "<div>\n",
       "<style>\n",
       "    .dataframe thead tr:only-child th {\n",
       "        text-align: right;\n",
       "    }\n",
       "\n",
       "    .dataframe thead th {\n",
       "        text-align: left;\n",
       "    }\n",
       "\n",
       "    .dataframe tbody tr th {\n",
       "        vertical-align: top;\n",
       "    }\n",
       "</style>\n",
       "<table border=\"1\" class=\"dataframe\">\n",
       "  <thead>\n",
       "    <tr style=\"text-align: right;\">\n",
       "      <th></th>\n",
       "      <th>lat</th>\n",
       "      <th>lon</th>\n",
       "      <th>plant id</th>\n",
       "      <th>year</th>\n",
       "      <th>geometry</th>\n",
       "    </tr>\n",
       "  </thead>\n",
       "  <tbody>\n",
       "    <tr>\n",
       "      <th>0</th>\n",
       "      <td>27.9114</td>\n",
       "      <td>-81.6006</td>\n",
       "      <td>10275</td>\n",
       "      <td>2017</td>\n",
       "      <td>POINT (-81.6006 27.9114)</td>\n",
       "    </tr>\n",
       "    <tr>\n",
       "      <th>3</th>\n",
       "      <td>27.9114</td>\n",
       "      <td>-81.6006</td>\n",
       "      <td>10275</td>\n",
       "      <td>2016</td>\n",
       "      <td>POINT (-81.6006 27.9114)</td>\n",
       "    </tr>\n",
       "    <tr>\n",
       "      <th>15</th>\n",
       "      <td>27.9114</td>\n",
       "      <td>-81.6006</td>\n",
       "      <td>10275</td>\n",
       "      <td>2015</td>\n",
       "      <td>POINT (-81.6006 27.9114)</td>\n",
       "    </tr>\n",
       "    <tr>\n",
       "      <th>27</th>\n",
       "      <td>27.9114</td>\n",
       "      <td>-81.6006</td>\n",
       "      <td>10275</td>\n",
       "      <td>2014</td>\n",
       "      <td>POINT (-81.6006 27.9114)</td>\n",
       "    </tr>\n",
       "    <tr>\n",
       "      <th>39</th>\n",
       "      <td>27.9114</td>\n",
       "      <td>-81.6006</td>\n",
       "      <td>10275</td>\n",
       "      <td>2013</td>\n",
       "      <td>POINT (-81.6006 27.9114)</td>\n",
       "    </tr>\n",
       "  </tbody>\n",
       "</table>\n",
       "</div>"
      ],
      "text/plain": [
       "        lat      lon  plant id  year                  geometry\n",
       "0   27.9114 -81.6006     10275  2017  POINT (-81.6006 27.9114)\n",
       "3   27.9114 -81.6006     10275  2016  POINT (-81.6006 27.9114)\n",
       "15  27.9114 -81.6006     10275  2015  POINT (-81.6006 27.9114)\n",
       "27  27.9114 -81.6006     10275  2014  POINT (-81.6006 27.9114)\n",
       "39  27.9114 -81.6006     10275  2013  POINT (-81.6006 27.9114)"
      ]
     },
     "execution_count": 23,
     "metadata": {},
     "output_type": "execute_result"
    }
   ],
   "source": [
    "geo_df.head()"
   ]
  },
  {
   "cell_type": "code",
   "execution_count": 24,
   "metadata": {
    "ExecuteTime": {
     "end_time": "2017-08-01T14:00:51.801979",
     "start_time": "2017-08-01T14:00:51.797059Z"
    }
   },
   "outputs": [
    {
     "data": {
      "text/plain": [
       "100810"
      ]
     },
     "execution_count": 24,
     "metadata": {},
     "output_type": "execute_result"
    }
   ],
   "source": [
    "len(geo_df)"
   ]
  },
  {
   "cell_type": "markdown",
   "metadata": {},
   "source": [
    "## Spatial join of NERC dataframe with polygons and facility dataframe with points\n",
    "Joining the 9 regions (NERC) with 100,810 records takes much longer with facilities as the left dataframe in the join (2 min vs 12 seconds). Not quite sure why this is. The faster method leaves me with polygons rather than points tho. There might be a better way to rectify this, but I just create a new geodataframe with the geometry set as the lat/lon points.\n",
    "\n",
    "**EDIT**\n",
    "Although the GeoPandas documentation says that the `op` parameter doesn't matter for point-in-polygon operations, using 'within' made the operation much faster (12 seconds). The first method below is probably preferable since it keeps the point geometry."
   ]
  },
  {
   "cell_type": "markdown",
   "metadata": {},
   "source": [
    "**Method 1** (slow unless you use `op='within'`)"
   ]
  },
  {
   "cell_type": "code",
   "execution_count": 26,
   "metadata": {
    "ExecuteTime": {
     "end_time": "2017-08-01T14:06:36.850732",
     "start_time": "2017-08-01T14:06:25.059532Z"
    },
    "collapsed": true
   },
   "outputs": [],
   "source": [
    "facility_nerc = gpd.sjoin(geo_df, regions, how='inner', op='within')"
   ]
  },
  {
   "cell_type": "code",
   "execution_count": 27,
   "metadata": {
    "ExecuteTime": {
     "end_time": "2017-08-01T14:08:50.486466",
     "start_time": "2017-08-01T14:08:50.465862Z"
    }
   },
   "outputs": [
    {
     "data": {
      "text/html": [
       "<div>\n",
       "<style>\n",
       "    .dataframe thead tr:only-child th {\n",
       "        text-align: right;\n",
       "    }\n",
       "\n",
       "    .dataframe thead th {\n",
       "        text-align: left;\n",
       "    }\n",
       "\n",
       "    .dataframe tbody tr th {\n",
       "        vertical-align: top;\n",
       "    }\n",
       "</style>\n",
       "<table border=\"1\" class=\"dataframe\">\n",
       "  <thead>\n",
       "    <tr style=\"text-align: right;\">\n",
       "      <th></th>\n",
       "      <th>lat</th>\n",
       "      <th>lon</th>\n",
       "      <th>plant id</th>\n",
       "      <th>year</th>\n",
       "      <th>geometry</th>\n",
       "      <th>index_right</th>\n",
       "      <th>NERC</th>\n",
       "      <th>NERC_Label</th>\n",
       "    </tr>\n",
       "  </thead>\n",
       "  <tbody>\n",
       "    <tr>\n",
       "      <th>0</th>\n",
       "      <td>27.9114</td>\n",
       "      <td>-81.6006</td>\n",
       "      <td>10275</td>\n",
       "      <td>2017</td>\n",
       "      <td>POINT (-81.6006 27.9114)</td>\n",
       "      <td>1</td>\n",
       "      <td>FRCC</td>\n",
       "      <td>Florida Reliability Coordinating Council (FRCC)</td>\n",
       "    </tr>\n",
       "    <tr>\n",
       "      <th>3</th>\n",
       "      <td>27.9114</td>\n",
       "      <td>-81.6006</td>\n",
       "      <td>10275</td>\n",
       "      <td>2016</td>\n",
       "      <td>POINT (-81.6006 27.9114)</td>\n",
       "      <td>1</td>\n",
       "      <td>FRCC</td>\n",
       "      <td>Florida Reliability Coordinating Council (FRCC)</td>\n",
       "    </tr>\n",
       "    <tr>\n",
       "      <th>15</th>\n",
       "      <td>27.9114</td>\n",
       "      <td>-81.6006</td>\n",
       "      <td>10275</td>\n",
       "      <td>2015</td>\n",
       "      <td>POINT (-81.6006 27.9114)</td>\n",
       "      <td>1</td>\n",
       "      <td>FRCC</td>\n",
       "      <td>Florida Reliability Coordinating Council (FRCC)</td>\n",
       "    </tr>\n",
       "    <tr>\n",
       "      <th>27</th>\n",
       "      <td>27.9114</td>\n",
       "      <td>-81.6006</td>\n",
       "      <td>10275</td>\n",
       "      <td>2014</td>\n",
       "      <td>POINT (-81.6006 27.9114)</td>\n",
       "      <td>1</td>\n",
       "      <td>FRCC</td>\n",
       "      <td>Florida Reliability Coordinating Council (FRCC)</td>\n",
       "    </tr>\n",
       "    <tr>\n",
       "      <th>39</th>\n",
       "      <td>27.9114</td>\n",
       "      <td>-81.6006</td>\n",
       "      <td>10275</td>\n",
       "      <td>2013</td>\n",
       "      <td>POINT (-81.6006 27.9114)</td>\n",
       "      <td>1</td>\n",
       "      <td>FRCC</td>\n",
       "      <td>Florida Reliability Coordinating Council (FRCC)</td>\n",
       "    </tr>\n",
       "  </tbody>\n",
       "</table>\n",
       "</div>"
      ],
      "text/plain": [
       "        lat      lon  plant id  year                  geometry  index_right  \\\n",
       "0   27.9114 -81.6006     10275  2017  POINT (-81.6006 27.9114)            1   \n",
       "3   27.9114 -81.6006     10275  2016  POINT (-81.6006 27.9114)            1   \n",
       "15  27.9114 -81.6006     10275  2015  POINT (-81.6006 27.9114)            1   \n",
       "27  27.9114 -81.6006     10275  2014  POINT (-81.6006 27.9114)            1   \n",
       "39  27.9114 -81.6006     10275  2013  POINT (-81.6006 27.9114)            1   \n",
       "\n",
       "    NERC                                       NERC_Label  \n",
       "0   FRCC  Florida Reliability Coordinating Council (FRCC)  \n",
       "3   FRCC  Florida Reliability Coordinating Council (FRCC)  \n",
       "15  FRCC  Florida Reliability Coordinating Council (FRCC)  \n",
       "27  FRCC  Florida Reliability Coordinating Council (FRCC)  \n",
       "39  FRCC  Florida Reliability Coordinating Council (FRCC)  "
      ]
     },
     "execution_count": 27,
     "metadata": {},
     "output_type": "execute_result"
    }
   ],
   "source": [
    "facility_nerc.head()"
   ]
  },
  {
   "cell_type": "markdown",
   "metadata": {},
   "source": [
    "**Method 2** (faster when using the default operation)"
   ]
  },
  {
   "cell_type": "code",
   "execution_count": 10,
   "metadata": {
    "ExecuteTime": {
     "end_time": "2017-07-31T15:16:05.049419",
     "start_time": "2017-07-31T15:15:52.623120Z"
    },
    "collapsed": true
   },
   "outputs": [],
   "source": [
    "facility_nerc = gpd.sjoin(df, geo_df, how=\"inner\")"
   ]
  },
  {
   "cell_type": "code",
   "execution_count": 11,
   "metadata": {
    "ExecuteTime": {
     "end_time": "2017-07-31T15:16:05.120060",
     "start_time": "2017-07-31T15:16:05.051451Z"
    }
   },
   "outputs": [
    {
     "data": {
      "text/html": [
       "<div>\n",
       "<style>\n",
       "    .dataframe thead tr:only-child th {\n",
       "        text-align: right;\n",
       "    }\n",
       "\n",
       "    .dataframe thead th {\n",
       "        text-align: left;\n",
       "    }\n",
       "\n",
       "    .dataframe tbody tr th {\n",
       "        vertical-align: top;\n",
       "    }\n",
       "</style>\n",
       "<table border=\"1\" class=\"dataframe\">\n",
       "  <thead>\n",
       "    <tr style=\"text-align: right;\">\n",
       "      <th></th>\n",
       "      <th>NERC</th>\n",
       "      <th>NERC_Label</th>\n",
       "      <th>geometry</th>\n",
       "      <th>index_right</th>\n",
       "      <th>lat</th>\n",
       "      <th>lon</th>\n",
       "      <th>plant id</th>\n",
       "      <th>year</th>\n",
       "    </tr>\n",
       "  </thead>\n",
       "  <tbody>\n",
       "    <tr>\n",
       "      <th>0</th>\n",
       "      <td>-</td>\n",
       "      <td>Indeterminate - various NERC membership</td>\n",
       "      <td>(POLYGON ((-91.71222639199999 32.9756623780000...</td>\n",
       "      <td>1200931</td>\n",
       "      <td>40.389167</td>\n",
       "      <td>-91.394167</td>\n",
       "      <td>57953</td>\n",
       "      <td>2014</td>\n",
       "    </tr>\n",
       "    <tr>\n",
       "      <th>0</th>\n",
       "      <td>-</td>\n",
       "      <td>Indeterminate - various NERC membership</td>\n",
       "      <td>(POLYGON ((-91.71222639199999 32.9756623780000...</td>\n",
       "      <td>1200919</td>\n",
       "      <td>40.389167</td>\n",
       "      <td>-91.394167</td>\n",
       "      <td>57953</td>\n",
       "      <td>2015</td>\n",
       "    </tr>\n",
       "    <tr>\n",
       "      <th>0</th>\n",
       "      <td>-</td>\n",
       "      <td>Indeterminate - various NERC membership</td>\n",
       "      <td>(POLYGON ((-91.71222639199999 32.9756623780000...</td>\n",
       "      <td>1200907</td>\n",
       "      <td>40.389167</td>\n",
       "      <td>-91.394167</td>\n",
       "      <td>57953</td>\n",
       "      <td>2016</td>\n",
       "    </tr>\n",
       "    <tr>\n",
       "      <th>0</th>\n",
       "      <td>-</td>\n",
       "      <td>Indeterminate - various NERC membership</td>\n",
       "      <td>(POLYGON ((-91.71222639199999 32.9756623780000...</td>\n",
       "      <td>1200904</td>\n",
       "      <td>40.389167</td>\n",
       "      <td>-91.394167</td>\n",
       "      <td>57953</td>\n",
       "      <td>2017</td>\n",
       "    </tr>\n",
       "    <tr>\n",
       "      <th>0</th>\n",
       "      <td>-</td>\n",
       "      <td>Indeterminate - various NERC membership</td>\n",
       "      <td>(POLYGON ((-91.71222639199999 32.9756623780000...</td>\n",
       "      <td>1201030</td>\n",
       "      <td>40.389167</td>\n",
       "      <td>-91.394167</td>\n",
       "      <td>57953</td>\n",
       "      <td>2011</td>\n",
       "    </tr>\n",
       "  </tbody>\n",
       "</table>\n",
       "</div>"
      ],
      "text/plain": [
       "  NERC                               NERC_Label  \\\n",
       "0    -  Indeterminate - various NERC membership   \n",
       "0    -  Indeterminate - various NERC membership   \n",
       "0    -  Indeterminate - various NERC membership   \n",
       "0    -  Indeterminate - various NERC membership   \n",
       "0    -  Indeterminate - various NERC membership   \n",
       "\n",
       "                                            geometry  index_right        lat  \\\n",
       "0  (POLYGON ((-91.71222639199999 32.9756623780000...      1200931  40.389167   \n",
       "0  (POLYGON ((-91.71222639199999 32.9756623780000...      1200919  40.389167   \n",
       "0  (POLYGON ((-91.71222639199999 32.9756623780000...      1200907  40.389167   \n",
       "0  (POLYGON ((-91.71222639199999 32.9756623780000...      1200904  40.389167   \n",
       "0  (POLYGON ((-91.71222639199999 32.9756623780000...      1201030  40.389167   \n",
       "\n",
       "         lon  plant id  year  \n",
       "0 -91.394167     57953  2014  \n",
       "0 -91.394167     57953  2015  \n",
       "0 -91.394167     57953  2016  \n",
       "0 -91.394167     57953  2017  \n",
       "0 -91.394167     57953  2011  "
      ]
     },
     "execution_count": 11,
     "metadata": {},
     "output_type": "execute_result"
    }
   ],
   "source": [
    "facility_nerc.head()"
   ]
  },
  {
   "cell_type": "markdown",
   "metadata": {},
   "source": [
    "Make the new geometry of facility locations"
   ]
  },
  {
   "cell_type": "code",
   "execution_count": 12,
   "metadata": {
    "ExecuteTime": {
     "end_time": "2017-07-31T15:16:09.677274",
     "start_time": "2017-07-31T15:16:08.520811Z"
    },
    "collapsed": true
   },
   "outputs": [],
   "source": [
    "geometry = [Point(xy) for xy in zip(facility_nerc.lon, facility_nerc.lat)]"
   ]
  },
  {
   "cell_type": "markdown",
   "metadata": {},
   "source": [
    "Create new dataframe with the data I want to keep and the new geometry"
   ]
  },
  {
   "cell_type": "code",
   "execution_count": 13,
   "metadata": {
    "ExecuteTime": {
     "end_time": "2017-07-31T15:17:45.636359",
     "start_time": "2017-07-31T15:17:45.604018Z"
    },
    "collapsed": true
   },
   "outputs": [],
   "source": [
    "crs = {'init': 'epsg:4326'}\n",
    "keep_cols = ['NERC_Label', 'plant id', 'year']\n",
    "facility_nerc = GeoDataFrame(facility_nerc[keep_cols], crs=crs, geometry=geometry)"
   ]
  },
  {
   "cell_type": "code",
   "execution_count": 14,
   "metadata": {
    "ExecuteTime": {
     "end_time": "2017-07-31T15:17:53.146153",
     "start_time": "2017-07-31T15:17:53.132367Z"
    }
   },
   "outputs": [
    {
     "data": {
      "text/html": [
       "<div>\n",
       "<style>\n",
       "    .dataframe thead tr:only-child th {\n",
       "        text-align: right;\n",
       "    }\n",
       "\n",
       "    .dataframe thead th {\n",
       "        text-align: left;\n",
       "    }\n",
       "\n",
       "    .dataframe tbody tr th {\n",
       "        vertical-align: top;\n",
       "    }\n",
       "</style>\n",
       "<table border=\"1\" class=\"dataframe\">\n",
       "  <thead>\n",
       "    <tr style=\"text-align: right;\">\n",
       "      <th></th>\n",
       "      <th>NERC_Label</th>\n",
       "      <th>plant id</th>\n",
       "      <th>year</th>\n",
       "      <th>geometry</th>\n",
       "    </tr>\n",
       "  </thead>\n",
       "  <tbody>\n",
       "    <tr>\n",
       "      <th>0</th>\n",
       "      <td>Indeterminate - various NERC membership</td>\n",
       "      <td>57953</td>\n",
       "      <td>2014</td>\n",
       "      <td>POINT (-91.39416700000001 40.389167)</td>\n",
       "    </tr>\n",
       "    <tr>\n",
       "      <th>0</th>\n",
       "      <td>Indeterminate - various NERC membership</td>\n",
       "      <td>57953</td>\n",
       "      <td>2015</td>\n",
       "      <td>POINT (-91.39416700000001 40.389167)</td>\n",
       "    </tr>\n",
       "    <tr>\n",
       "      <th>0</th>\n",
       "      <td>Indeterminate - various NERC membership</td>\n",
       "      <td>57953</td>\n",
       "      <td>2016</td>\n",
       "      <td>POINT (-91.39416700000001 40.389167)</td>\n",
       "    </tr>\n",
       "    <tr>\n",
       "      <th>0</th>\n",
       "      <td>Indeterminate - various NERC membership</td>\n",
       "      <td>57953</td>\n",
       "      <td>2017</td>\n",
       "      <td>POINT (-91.39416700000001 40.389167)</td>\n",
       "    </tr>\n",
       "    <tr>\n",
       "      <th>0</th>\n",
       "      <td>Indeterminate - various NERC membership</td>\n",
       "      <td>57953</td>\n",
       "      <td>2011</td>\n",
       "      <td>POINT (-91.39416700000001 40.389167)</td>\n",
       "    </tr>\n",
       "  </tbody>\n",
       "</table>\n",
       "</div>"
      ],
      "text/plain": [
       "                                NERC_Label  plant id  year  \\\n",
       "0  Indeterminate - various NERC membership     57953  2014   \n",
       "0  Indeterminate - various NERC membership     57953  2015   \n",
       "0  Indeterminate - various NERC membership     57953  2016   \n",
       "0  Indeterminate - various NERC membership     57953  2017   \n",
       "0  Indeterminate - various NERC membership     57953  2011   \n",
       "\n",
       "                               geometry  \n",
       "0  POINT (-91.39416700000001 40.389167)  \n",
       "0  POINT (-91.39416700000001 40.389167)  \n",
       "0  POINT (-91.39416700000001 40.389167)  \n",
       "0  POINT (-91.39416700000001 40.389167)  \n",
       "0  POINT (-91.39416700000001 40.389167)  "
      ]
     },
     "execution_count": 14,
     "metadata": {},
     "output_type": "execute_result"
    }
   ],
   "source": [
    "facility_nerc.head()"
   ]
  },
  {
   "cell_type": "markdown",
   "metadata": {},
   "source": [
    "## Changing the crs to see what happens\n",
    "Just making sure that it does something"
   ]
  },
  {
   "cell_type": "code",
   "execution_count": 31,
   "metadata": {
    "ExecuteTime": {
     "end_time": "2017-07-28T19:20:04.302495",
     "start_time": "2017-07-28T19:20:03.204775Z"
    },
    "collapsed": true
   },
   "outputs": [],
   "source": [
    "df_test = df.to_crs({'init': 'epsg:3395'})"
   ]
  },
  {
   "cell_type": "code",
   "execution_count": 32,
   "metadata": {
    "ExecuteTime": {
     "end_time": "2017-07-28T19:20:26.814114",
     "start_time": "2017-07-28T19:20:17.102754Z"
    }
   },
   "outputs": [
    {
     "data": {
      "text/plain": [
       "<matplotlib.axes._subplots.AxesSubplot at 0x1301c5f28>"
      ]
     },
     "execution_count": 32,
     "metadata": {},
     "output_type": "execute_result"
    },
    {
     "data": {
      "image/png": "[encoded data removed]",
      "text/plain": [
       "<matplotlib.figure.Figure at 0x1301b3fd0>"
      ]
     },
     "metadata": {},
     "output_type": "display_data"
    }
   ],
   "source": [
    "df.plot()"
   ]
  },
  {
   "cell_type": "code",
   "execution_count": 33,
   "metadata": {
    "ExecuteTime": {
     "end_time": "2017-07-28T19:20:35.322416",
     "start_time": "2017-07-28T19:20:26.815800Z"
    }
   },
   "outputs": [
    {
     "data": {
      "text/plain": [
       "<matplotlib.axes._subplots.AxesSubplot at 0x1334af7b8>"
      ]
     },
     "execution_count": 33,
     "metadata": {},
     "output_type": "execute_result"
    },
    {
     "data": {
      "image/png": "[encoded data removed]",
      "text/plain": [
       "<matplotlib.figure.Figure at 0x1301b38d0>"
      ]
     },
     "metadata": {},
     "output_type": "display_data"
    }
   ],
   "source": [
    "df_test.plot()"
   ]
  }
 ],
 "metadata": {
  "_draft": {
   "nbviewer_url": "https://gist.github.com/e88f510346fda8e90c995735c3241054"
  },
  "gist": {
   "data": {
    "description": "Trying geopandas to assign NERC regions",
    "public": false
   },
   "id": "e88f510346fda8e90c995735c3241054"
  },
  "kernelspec": {
   "display_name": "py36",
   "language": "python",
   "name": "py36"
  },
  "language_info": {
   "codemirror_mode": {
    "name": "ipython",
    "version": 3
   },
   "file_extension": ".py",
   "mimetype": "text/x-python",
   "name": "python",
   "nbconvert_exporter": "python",
   "pygments_lexer": "ipython3",
   "version": "3.6.2"
  }
 },
 "nbformat": 4,
 "nbformat_minor": 2
}
