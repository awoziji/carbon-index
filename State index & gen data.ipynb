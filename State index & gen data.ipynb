{
 "cells": [
  {
   "cell_type": "code",
   "execution_count": 1,
   "metadata": {
    "ExecuteTime": {
     "end_time": "2017-08-07T12:46:27.954826Z",
     "start_time": "2017-08-07T12:46:26.027216Z"
    },
    "collapsed": true
   },
   "outputs": [],
   "source": [
    "%matplotlib inline\n",
    "import pandas as pd\n",
    "import seaborn as sns\n",
    "import matplotlib.pyplot as plt\n",
    "import os\n",
    "from os import listdir\n",
    "from os.path import isfile, join\n",
    "import glob\n",
    "import numpy as np"
   ]
  },
  {
   "cell_type": "markdown",
   "metadata": {},
   "source": [
    "## Import & combine generation and index data"
   ]
  },
  {
   "cell_type": "code",
   "execution_count": 2,
   "metadata": {
    "ExecuteTime": {
     "end_time": "2017-08-07T12:46:29.872510Z",
     "start_time": "2017-08-07T12:46:29.736108Z"
    },
    "collapsed": true
   },
   "outputs": [],
   "source": [
    "def make_gen_index(data_folder, time='Monthly'):\n",
    "    \"\"\"\n",
    "    Read and combine the state-level generation and index files\n",
    "    \n",
    "    inputs:\n",
    "        data_folder: (str or path) path to the state-level data files\n",
    "        time: (str) \"Monthly\", \"Quarterly\", or \"Annual\"\n",
    "        \n",
    "    outputs:\n",
    "        gen_index: (df) a dataframe with combined generation and index data\n",
    "    \"\"\"\n",
    "    \n",
    "    index_path = os.path.join(data_folder, '{} index*'.format(time))\n",
    "    gen_path = os.path.join(data_folder, '{} gen*'.format(time))\n",
    "    \n",
    "    # Get filenames and list of state abbreviations\n",
    "    index_fns = glob.glob(index_path)\n",
    "    gen_fns = glob.glob(gen_path)\n",
    "    \n",
    "    # Not sure why, but DC shows up in index but not gen\n",
    "    index_states = [f.split('.')[0][-2:] for f in index_fns]\n",
    "    gen_states = [f.split('.')[0][-2:] for f in gen_fns]\n",
    "    \n",
    "    \n",
    "    # Read and combine files into single dataframes\n",
    "    def read_combine(paths, states):\n",
    "        df_list = []\n",
    "        for f, state in zip(paths, states):\n",
    "            df = pd.read_csv(f)\n",
    "            df['State'] = state\n",
    "            df_list.append(df)\n",
    "        \n",
    "        full_df = pd.concat(df_list)\n",
    "        full_df.reset_index(inplace=True, drop=True)\n",
    "        full_df.rename(columns={'year': 'Year'},\n",
    "                       inplace=True)\n",
    "        \n",
    "        if 'datetime' in full_df.columns:\n",
    "            full_df['datetime'] = pd.to_datetime(full_df['datetime'])\n",
    "        \n",
    "        return full_df\n",
    "    \n",
    "    index_df = read_combine(index_fns, index_states)\n",
    "    gen_df = read_combine(gen_fns, gen_states)\n",
    "    \n",
    "#     return index_df, gen_df\n",
    "    \n",
    "    # Different timescales will pivot on different columns\n",
    "    gen_pivot_col = {'Monthly': ['Year', 'datetime'],\n",
    "                     'Quarterly': ['Year', 'year_quarter'],\n",
    "                     'Annual': ['Year']}\n",
    "    \n",
    "    gen_pivot = pd.pivot_table(gen_df, index=['State'] + gen_pivot_col[time], \n",
    "                               values='generation (MWh)', columns='fuel category')\n",
    "    gen_pivot.reset_index(inplace=True, drop=False)\n",
    "#     gen_pivot['Year'] = gen_pivot['datetime'].dt.year\n",
    "    gen_pivot.replace(np.nan, 0, inplace=True)\n",
    "    \n",
    "    # Merge gen and index dataframes\n",
    "    merge_col = {'Monthly': ['datetime'],\n",
    "                 'Quarterly': ['year_quarter'],\n",
    "                 'Annual': ['Year']}\n",
    "    \n",
    "    gen_index = pd.merge(gen_pivot, index_df[merge_col[time] + ['State', 'index (g/kWh)', 'final CO2 (kg)']], \n",
    "                         on=merge_col[time] + ['State'])\n",
    "    \n",
    "    return gen_index"
   ]
  },
  {
   "cell_type": "code",
   "execution_count": 3,
   "metadata": {
    "ExecuteTime": {
     "end_time": "2017-08-07T12:46:32.368463Z",
     "start_time": "2017-08-07T12:46:31.359829Z"
    },
    "collapsed": true
   },
   "outputs": [],
   "source": [
    "data_path = os.path.join('Data storage', 'final state data')\n",
    "monthly_gen_index = make_gen_index(data_path, time='Monthly')\n",
    "annual_gen_index = make_gen_index(data_path, time='Annual')"
   ]
  },
  {
   "cell_type": "code",
   "execution_count": 19,
   "metadata": {
    "ExecuteTime": {
     "end_time": "2017-08-07T14:11:25.038445Z",
     "start_time": "2017-08-07T14:11:25.002390Z"
    }
   },
   "outputs": [
    {
     "data": {
      "text/html": [
       "<div>\n",
       "<style>\n",
       "    .dataframe thead tr:only-child th {\n",
       "        text-align: right;\n",
       "    }\n",
       "\n",
       "    .dataframe thead th {\n",
       "        text-align: left;\n",
       "    }\n",
       "\n",
       "    .dataframe tbody tr th {\n",
       "        vertical-align: top;\n",
       "    }\n",
       "</style>\n",
       "<table border=\"1\" class=\"dataframe\">\n",
       "  <thead>\n",
       "    <tr style=\"text-align: right;\">\n",
       "      <th></th>\n",
       "      <th>State</th>\n",
       "      <th>Year</th>\n",
       "      <th>Coal</th>\n",
       "      <th>Hydro</th>\n",
       "      <th>Natural Gas</th>\n",
       "      <th>Nuclear</th>\n",
       "      <th>Other</th>\n",
       "      <th>Other Renewables</th>\n",
       "      <th>Solar</th>\n",
       "      <th>Wind</th>\n",
       "      <th>index (g/kWh)</th>\n",
       "      <th>final CO2 (kg)</th>\n",
       "    </tr>\n",
       "  </thead>\n",
       "  <tbody>\n",
       "    <tr>\n",
       "      <th>0</th>\n",
       "      <td>AK</td>\n",
       "      <td>2001</td>\n",
       "      <td>564593.00</td>\n",
       "      <td>1345664.00</td>\n",
       "      <td>3895568.00</td>\n",
       "      <td>0.0</td>\n",
       "      <td>936990.00</td>\n",
       "      <td>0.00</td>\n",
       "      <td>0.0</td>\n",
       "      <td>951.00</td>\n",
       "      <td>621.611811</td>\n",
       "      <td>4.192005e+09</td>\n",
       "    </tr>\n",
       "    <tr>\n",
       "      <th>1</th>\n",
       "      <td>AK</td>\n",
       "      <td>2002</td>\n",
       "      <td>575286.00</td>\n",
       "      <td>1439351.00</td>\n",
       "      <td>3778161.00</td>\n",
       "      <td>0.0</td>\n",
       "      <td>962369.00</td>\n",
       "      <td>12155.00</td>\n",
       "      <td>0.0</td>\n",
       "      <td>0.00</td>\n",
       "      <td>565.861881</td>\n",
       "      <td>3.829370e+09</td>\n",
       "    </tr>\n",
       "    <tr>\n",
       "      <th>2</th>\n",
       "      <td>AK</td>\n",
       "      <td>2003</td>\n",
       "      <td>549665.00</td>\n",
       "      <td>1582537.00</td>\n",
       "      <td>3354483.00</td>\n",
       "      <td>0.0</td>\n",
       "      <td>846273.00</td>\n",
       "      <td>5780.00</td>\n",
       "      <td>0.0</td>\n",
       "      <td>0.00</td>\n",
       "      <td>548.164631</td>\n",
       "      <td>3.474672e+09</td>\n",
       "    </tr>\n",
       "    <tr>\n",
       "      <th>3</th>\n",
       "      <td>AK</td>\n",
       "      <td>2004</td>\n",
       "      <td>648979.71</td>\n",
       "      <td>1498020.01</td>\n",
       "      <td>3623432.59</td>\n",
       "      <td>0.0</td>\n",
       "      <td>747068.06</td>\n",
       "      <td>9216.55</td>\n",
       "      <td>0.0</td>\n",
       "      <td>0.00</td>\n",
       "      <td>535.042680</td>\n",
       "      <td>3.492072e+09</td>\n",
       "    </tr>\n",
       "    <tr>\n",
       "      <th>4</th>\n",
       "      <td>AK</td>\n",
       "      <td>2005</td>\n",
       "      <td>624317.77</td>\n",
       "      <td>1463942.01</td>\n",
       "      <td>3723625.63</td>\n",
       "      <td>0.0</td>\n",
       "      <td>758928.54</td>\n",
       "      <td>5255.58</td>\n",
       "      <td>0.0</td>\n",
       "      <td>589.01</td>\n",
       "      <td>536.961208</td>\n",
       "      <td>3.531411e+09</td>\n",
       "    </tr>\n",
       "  </tbody>\n",
       "</table>\n",
       "</div>"
      ],
      "text/plain": [
       "  State  Year       Coal       Hydro  Natural Gas  Nuclear      Other  \\\n",
       "0    AK  2001  564593.00  1345664.00   3895568.00      0.0  936990.00   \n",
       "1    AK  2002  575286.00  1439351.00   3778161.00      0.0  962369.00   \n",
       "2    AK  2003  549665.00  1582537.00   3354483.00      0.0  846273.00   \n",
       "3    AK  2004  648979.71  1498020.01   3623432.59      0.0  747068.06   \n",
       "4    AK  2005  624317.77  1463942.01   3723625.63      0.0  758928.54   \n",
       "\n",
       "   Other Renewables  Solar    Wind  index (g/kWh)  final CO2 (kg)  \n",
       "0              0.00    0.0  951.00     621.611811    4.192005e+09  \n",
       "1          12155.00    0.0    0.00     565.861881    3.829370e+09  \n",
       "2           5780.00    0.0    0.00     548.164631    3.474672e+09  \n",
       "3           9216.55    0.0    0.00     535.042680    3.492072e+09  \n",
       "4           5255.58    0.0  589.01     536.961208    3.531411e+09  "
      ]
     },
     "execution_count": 19,
     "metadata": {},
     "output_type": "execute_result"
    }
   ],
   "source": [
    "annual_gen_index.head()"
   ]
  },
  {
   "cell_type": "code",
   "execution_count": 21,
   "metadata": {
    "ExecuteTime": {
     "end_time": "2017-08-07T14:15:18.405991Z",
     "start_time": "2017-08-07T14:15:18.389345Z"
    }
   },
   "outputs": [],
   "source": [
    "fuels = ['Coal', 'Natural Gas', 'Other Renewables', 'Nuclear', 'Other',\n",
    "         'Solar', 'Wind', 'Hydro']\n",
    "annual_gen_index['Total gen'] = annual_gen_index.loc[:, fuels].sum(axis=1)\n",
    "for fuel, new_col in zip(fuels, ['percent {}'.format(x) for x in fuels]):\n",
    "    # Calculate percent of generation from each fuel type\n",
    "    annual_gen_index[new_col] = (annual_gen_index.loc[:, fuel]\n",
    "                                 / annual_gen_index.loc[:, 'Total gen'])"
   ]
  },
  {
   "cell_type": "markdown",
   "metadata": {},
   "source": [
    "## State RPS information"
   ]
  },
  {
   "cell_type": "code",
   "execution_count": 7,
   "metadata": {
    "ExecuteTime": {
     "end_time": "2017-08-07T12:47:49.462847Z",
     "start_time": "2017-08-07T12:47:49.370097Z"
    },
    "collapsed": true
   },
   "outputs": [],
   "source": [
    "path = os.path.join('Data storage', 'rps_compliance_data_july_2017.xlsx')\n",
    "rps = pd.read_excel(path, header=35, parse_cols='A:V', na_values=['-'])\n",
    "\n",
    "rps.index = rps.index.droplevel([1, 2])\n",
    "\n",
    "rps.index.names = ['State', 'Type']\n",
    "\n",
    "rps_tidy = pd.melt(rps.xs('Total RPS', level='Type').reset_index(), \n",
    "                   id_vars='State', var_name='Year', value_vars=rps.columns, \n",
    "                   value_name='Generation').dropna().sort_values(['State', 'Year'])\n",
    "\n",
    "rps_start = {}\n",
    "for state in rps_tidy['State'].unique():\n",
    "    first_year = rps_tidy.loc[rps_tidy['State'] == state, 'Year'].min()\n",
    "    rps_start[state] = first_year"
   ]
  },
  {
   "cell_type": "code",
   "execution_count": 8,
   "metadata": {
    "ExecuteTime": {
     "end_time": "2017-08-07T12:47:51.138037Z",
     "start_time": "2017-08-07T12:47:51.130416Z"
    }
   },
   "outputs": [
    {
     "data": {
      "text/plain": [
       "{'AZ': 2001,\n",
       " 'CA': 2004,\n",
       " 'CO': 2007,\n",
       " 'CT': 2004,\n",
       " 'DC': 2007,\n",
       " 'DE': 2007,\n",
       " 'HI': 2005,\n",
       " 'IA': 1999,\n",
       " 'IL': 2008,\n",
       " 'KS': 2011,\n",
       " 'MA': 2003,\n",
       " 'MD': 2006,\n",
       " 'ME': 2000,\n",
       " 'MI': 2012,\n",
       " 'MN': 2002,\n",
       " 'MO': 2011,\n",
       " 'MT': 2008,\n",
       " 'NC': 2010,\n",
       " 'NH': 2008,\n",
       " 'NJ': 2001,\n",
       " 'NM': 2006,\n",
       " 'NV': 2003,\n",
       " 'NY': 2006,\n",
       " 'OH': 2009,\n",
       " 'OR': 2011,\n",
       " 'PA': 2006,\n",
       " 'RI': 2007,\n",
       " 'TX': 2002,\n",
       " 'WA': 2012,\n",
       " 'WI': 2000}"
      ]
     },
     "execution_count": 8,
     "metadata": {},
     "output_type": "execute_result"
    }
   ],
   "source": [
    "rps_start"
   ]
  },
  {
   "cell_type": "markdown",
   "metadata": {},
   "source": [
    "## Dumbell plot of annual state index"
   ]
  },
  {
   "cell_type": "markdown",
   "metadata": {},
   "source": [
    "### Dumbell plot code\n",
    "https://github.com/iturki/Data-Analysis-and-Visualization-Projects/blob/master/dumbbell-chart-python/dumbbbell_plot.py"
   ]
  },
  {
   "cell_type": "code",
   "execution_count": 15,
   "metadata": {
    "ExecuteTime": {
     "end_time": "2017-08-07T12:58:59.058193Z",
     "start_time": "2017-08-07T12:58:59.053617Z"
    },
    "collapsed": true
   },
   "outputs": [],
   "source": [
    "sns.set()\n",
    "sns.set_style('white')"
   ]
  },
  {
   "cell_type": "markdown",
   "metadata": {},
   "source": [
    "This version of the plot is probably better/more flexible"
   ]
  },
  {
   "cell_type": "code",
   "execution_count": 9,
   "metadata": {
    "ExecuteTime": {
     "end_time": "2017-08-07T12:54:49.796658Z",
     "start_time": "2017-08-07T12:54:49.661715Z"
    },
    "collapsed": true
   },
   "outputs": [],
   "source": [
    "def dumbell_plot(data, years, axis_labels, legend_loc=[], offset_divider=35,\n",
    "                 rps_start={}, fig_kwargs={}, figsize=(5,9), legend=True,\n",
    "                 text_h_align='right', palette='deep'):\n",
    "    '''\n",
    "    This is an example to create a dumbbell chart in Python.\n",
    "    If you would like to provide your data and customize the graph, modify the variables in the section below.\n",
    "    Please be aware that you need matplotlib installed in order for this to work.\n",
    "    '''\n",
    "    prop_cycle = plt.rcParams['axes.prop_cycle']\n",
    "    colors = sns.color_palette(palette)\n",
    "    A_COLOR = colors[0] #'#EA2BA2'  # Color to plot a values\n",
    "    B_COLOR = colors[2] #'#006666'  # Color to plot b values\n",
    "\n",
    "    # Styles to be used when plotting the different elements of the graph.\n",
    "    dumbbell_style_a = dict(color=A_COLOR, linewidths=2,# mec=A_COLOR,\n",
    "                            marker='o', s=50)# markersize=9)\n",
    "    dumbbell_style_b = dict(color=B_COLOR, linewidths=2,# mec=B_COLOR,\n",
    "                            marker='o', s=50) #markersize=9)\n",
    "    axis_label_style = dict(horizontalalignment=text_h_align,\n",
    "                            verticalalignment='center', fontsize=10)\n",
    "    \n",
    "    data = data.loc[:, years]\n",
    "    min_data = data.min(axis=1)\n",
    "    max_data = data.max(axis=1)\n",
    "\n",
    "    # Create the figure\n",
    "    fig, ax = plt.subplots(figsize=figsize, **fig_kwargs)\n",
    "\n",
    "    index = range(len(axis_labels))\n",
    "    \n",
    "    # Auto-set the state abbr text offset\n",
    "    # The divider of 40 is based on the g/kWh figure max of 1185 and\n",
    "    # offset of 30\n",
    "    label_offset = data.max().max() / offset_divider\n",
    "    \n",
    "    # Loop N times\n",
    "    for i, (data, year) in enumerate(zip(data.T.values, years)):\n",
    "        color = colors[i]\n",
    "        for value, label, j in zip(data, axis_labels, index):\n",
    "            facecolor = None\n",
    "            if label in rps_start and rps_start[label] <= year:\n",
    "                facecolor = 'w'\n",
    "            \n",
    "            ax.scatter(value, j, facecolors=facecolor, zorder=3, color=color,\n",
    "                      linewidth=2, s=50)\n",
    "            \n",
    "            plt.hlines(y=j, xmin=min_data[j], xmax=max_data[j], zorder=2)\n",
    "            \n",
    "            if i == 0:\n",
    "                ax.text(min_data[j] - label_offset, j, label,\n",
    "                        **axis_label_style)\n",
    "\n",
    "    plt.yticks(index, ['' for x in axis_labels])\n",
    "\n",
    "    if legend:\n",
    "        for i, year in enumerate(years):\n",
    "            ax.scatter(x=legend_loc[i], y=51, color=colors[i], zorder=3,\n",
    "                       s=50, linewidth=2)\n",
    "            plt.text(x=legend_loc[i], y=52, s=str(year), ha='center')\n",
    "        plt.hlines(y=51, xmin=legend_loc[0], zorder=2, xmax=legend_loc[-1])\n",
    "        "
   ]
  },
  {
   "cell_type": "code",
   "execution_count": 90,
   "metadata": {
    "ExecuteTime": {
     "end_time": "2017-08-07T17:52:02.731322Z",
     "start_time": "2017-08-07T17:52:01.308083Z"
    }
   },
   "outputs": [
    {
     "data": {
      "text/plain": [
       "<matplotlib.collections.LineCollection at 0x12fd96780>"
      ]
     },
     "execution_count": 90,
     "metadata": {},
     "output_type": "execute_result"
    },
    {
     "data": {
      "text/plain": [
       "(-1, 53)"
      ]
     },
     "execution_count": 90,
     "metadata": {},
     "output_type": "execute_result"
    },
    {
     "data": {
      "text/plain": [
       "<matplotlib.text.Text at 0x1303ea9b0>"
      ]
     },
     "execution_count": 90,
     "metadata": {},
     "output_type": "execute_result"
    },
    {
     "data": {
      "text/plain": [
       "<matplotlib.text.Text at 0x12fd99ef0>"
      ]
     },
     "execution_count": 90,
     "metadata": {},
     "output_type": "execute_result"
    },
    {
     "data": {
      "image/png": "[encoded data removed]",
      "text/plain": [
       "<matplotlib.figure.Figure at 0x12fd96cc0>"
      ]
     },
     "metadata": {},
     "output_type": "display_data"
    }
   ],
   "source": [
    "barbell_index = annual_gen_index.pivot_table(values='index (g/kWh)',\n",
    "                                          index='State', columns='Year')\n",
    "barbell_index.sort_values(by=2016, inplace=True)\n",
    "\n",
    "index_2001 = barbell_index[2001]\n",
    "index_2008 = barbell_index[2008]\n",
    "index_2016 = barbell_index[2016]\n",
    "\n",
    "# data = [barbell_index[year] for year in [2001, 2008, 2016]]\n",
    "states_index = list(barbell_index.index)\n",
    "# rps_states = list(rps_tidy['State'].unique())\n",
    "\n",
    "dumbell_plot(barbell_index, [2001, 2008, 2016], states_index, legend_loc=[500, 300, 100],\n",
    "             rps_start=rps_start, palette='colorblind')\n",
    "\n",
    "plt.vlines(456, -1, 50, colors=['0.5'], zorder=1, #linestyles='dashed',\n",
    "           linewidth=1)\n",
    "\n",
    "# Lines for 2008 and 2001 national averages. I'm not sure that I like them,\n",
    "# because they clutter up the figure.\n",
    "# plt.vlines(582, -1, 50, colors=['0.5'], zorder=1, #linestyles='dashed',\n",
    "#            linewidth=1)\n",
    "# plt.vlines(631, -1, 50, colors=['0.5'], zorder=1, #linestyles='dashed',\n",
    "#            linewidth=1)\n",
    "\n",
    "plt.ylim(-1, 53)\n",
    "plt.text(x=240, y=40, s='2016\\nNational Average\\n(456 g/kWh)', ha='center')\n",
    "sns.despine(left=True)\n",
    "plt.xlabel('g CO$_2$/kWh')"
   ]
  },
  {
   "cell_type": "code",
   "execution_count": 10,
   "metadata": {
    "ExecuteTime": {
     "end_time": "2017-08-07T12:55:44.929758Z",
     "start_time": "2017-08-07T12:55:44.911997Z"
    },
    "collapsed": true
   },
   "outputs": [],
   "source": [
    "barbell_index = annual_gen_index.pivot_table(values='index (g/kWh)',\n",
    "                                          index='State', columns='Year')"
   ]
  },
  {
   "cell_type": "code",
   "execution_count": 12,
   "metadata": {
    "ExecuteTime": {
     "end_time": "2017-08-07T12:57:30.060148Z",
     "start_time": "2017-08-07T12:57:30.050941Z"
    },
    "collapsed": true
   },
   "outputs": [],
   "source": [
    "barbell_index['change'] = barbell_index[2016] - barbell_index[2001]\n",
    "barbell_index['% change'] = barbell_index['change'] / barbell_index[2001]"
   ]
  },
  {
   "cell_type": "code",
   "execution_count": 18,
   "metadata": {
    "ExecuteTime": {
     "end_time": "2017-08-07T13:04:12.002289Z",
     "start_time": "2017-08-07T13:04:10.566242Z"
    }
   },
   "outputs": [
    {
     "data": {
      "text/plain": [
       "<matplotlib.collections.LineCollection at 0x11835f0f0>"
      ]
     },
     "execution_count": 18,
     "metadata": {},
     "output_type": "execute_result"
    },
    {
     "data": {
      "text/plain": [
       "(-1, 53)"
      ]
     },
     "execution_count": 18,
     "metadata": {},
     "output_type": "execute_result"
    },
    {
     "data": {
      "text/plain": [
       "<matplotlib.text.Text at 0x1189d7f98>"
      ]
     },
     "execution_count": 18,
     "metadata": {},
     "output_type": "execute_result"
    },
    {
     "data": {
      "text/plain": [
       "<matplotlib.text.Text at 0x1134acd30>"
      ]
     },
     "execution_count": 18,
     "metadata": {},
     "output_type": "execute_result"
    },
    {
     "data": {
      "image/png": "[encoded data removed]",
      "text/plain": [
       "<matplotlib.figure.Figure at 0x1143f97f0>"
      ]
     },
     "metadata": {},
     "output_type": "display_data"
    }
   ],
   "source": [
    "# barbell_index = annual_gen_index.pivot_table(values='index (g/kWh)',\n",
    "#                                           index='State', columns='Year')\n",
    "barbell_index.sort_values(by='change', inplace=True)\n",
    "\n",
    "states_index = list(barbell_index.index)\n",
    "\n",
    "dumbell_plot(barbell_index, [2001, 2008, 2016], states_index, legend_loc=[500, 300, 100],\n",
    "             rps_start=rps_start, palette='colorblind')\n",
    "\n",
    "plt.vlines(456, -1, 50, colors=['0.5'], zorder=1, #linestyles='dashed',\n",
    "           linewidth=1)\n",
    "plt.ylim(-1, 53)\n",
    "plt.text(x=240, y=40, s='2016\\nNational Average\\n(456 g/kWh)', ha='center')\n",
    "sns.despine(left=True)\n",
    "plt.xlabel('g CO$_2$/kWh')"
   ]
  },
  {
   "cell_type": "code",
   "execution_count": 34,
   "metadata": {
    "ExecuteTime": {
     "end_time": "2017-08-07T14:25:56.856895Z",
     "start_time": "2017-08-07T14:25:56.850952Z"
    }
   },
   "outputs": [],
   "source": [
    "year = annual_gen_index['Year']\n",
    "index_order = annual_gen_index.loc[year == 2001].sort_values(by='percent Coal')['State'].values"
   ]
  },
  {
   "cell_type": "code",
   "execution_count": 36,
   "metadata": {
    "ExecuteTime": {
     "end_time": "2017-08-07T14:26:06.225500Z",
     "start_time": "2017-08-07T14:26:06.219579Z"
    }
   },
   "outputs": [
    {
     "data": {
      "text/plain": [
       "array(['VT', 'RI', 'ID', 'CA', 'ME', 'AK', 'OR', 'WA', 'CT', 'HI', 'NJ',\n",
       "       'NY', 'NH', 'LA', 'MA', 'FL', 'MS', 'TX', 'SC', 'IL', 'AZ', 'SD',\n",
       "       'DE', 'VA', 'NV', 'AR', 'PA', 'AL', 'MD', 'MI', 'TN', 'NC', 'OK',\n",
       "       'GA', 'MN', 'NE', 'WI', 'MT', 'KS', 'CO', 'MO', 'NM', 'IA', 'OH',\n",
       "       'UT', 'IN', 'KY', 'ND', 'WY', 'WV'], dtype=object)"
      ]
     },
     "execution_count": 36,
     "metadata": {},
     "output_type": "execute_result"
    }
   ],
   "source": [
    "index_order"
   ]
  },
  {
   "cell_type": "markdown",
   "metadata": {},
   "source": [
    "Order the states by percent generation from coal in 2008"
   ]
  },
  {
   "cell_type": "code",
   "execution_count": 35,
   "metadata": {
    "ExecuteTime": {
     "end_time": "2017-08-07T14:26:00.454326Z",
     "start_time": "2017-08-07T14:25:58.290078Z"
    }
   },
   "outputs": [
    {
     "data": {
      "text/plain": [
       "<matplotlib.collections.LineCollection at 0x119a3bb38>"
      ]
     },
     "execution_count": 35,
     "metadata": {},
     "output_type": "execute_result"
    },
    {
     "data": {
      "text/plain": [
       "(-1, 53)"
      ]
     },
     "execution_count": 35,
     "metadata": {},
     "output_type": "execute_result"
    },
    {
     "data": {
      "text/plain": [
       "<matplotlib.text.Text at 0x119fc3e48>"
      ]
     },
     "execution_count": 35,
     "metadata": {},
     "output_type": "execute_result"
    },
    {
     "data": {
      "text/plain": [
       "<matplotlib.text.Text at 0x1199624e0>"
      ]
     },
     "execution_count": 35,
     "metadata": {},
     "output_type": "execute_result"
    },
    {
     "data": {
      "image/png": "[encoded data removed]",
      "text/plain": [
       "<matplotlib.figure.Figure at 0x119a3b5c0>"
      ]
     },
     "metadata": {},
     "output_type": "display_data"
    }
   ],
   "source": [
    "# barbell_index = annual_gen_index.pivot_table(values='index (g/kWh)',\n",
    "#                                           index='State', columns='Year')\n",
    "# barbell_index.sort_values(by='change', inplace=True)\n",
    "\n",
    "states_index = list(index_order)\n",
    "\n",
    "dumbell_plot(barbell_index.loc[index_order], [2001, 2008, 2016], states_index,\n",
    "             legend_loc=[500, 300, 100], rps_start=rps_start,\n",
    "             palette='colorblind')\n",
    "\n",
    "plt.vlines(456, -1, 50, colors=['0.5'], zorder=1, #linestyles='dashed',\n",
    "           linewidth=1)\n",
    "plt.ylim(-1, 53)\n",
    "plt.text(x=240, y=40, s='2016\\nNational Average\\n(456 g/kWh)', ha='center')\n",
    "sns.despine(left=True)\n",
    "plt.xlabel('g CO$_2$/kWh')"
   ]
  },
  {
   "cell_type": "markdown",
   "metadata": {},
   "source": [
    "### Annual emissions"
   ]
  },
  {
   "cell_type": "code",
   "execution_count": 4,
   "metadata": {
    "ExecuteTime": {
     "end_time": "2017-08-02T19:15:05.537358Z",
     "start_time": "2017-08-02T19:15:05.530739Z"
    },
    "collapsed": true
   },
   "outputs": [],
   "source": [
    "total_emiss = annual_gen_index.groupby('Year')['final CO2 (kg)'].sum()"
   ]
  },
  {
   "cell_type": "code",
   "execution_count": 5,
   "metadata": {
    "ExecuteTime": {
     "end_time": "2017-08-02T19:15:06.587104Z",
     "start_time": "2017-08-02T19:15:06.578064Z"
    }
   },
   "outputs": [
    {
     "data": {
      "text/plain": [
       "Year\n",
       "2001    2.358643e+12\n",
       "2002    2.381871e+12\n",
       "2003    2.406899e+12\n",
       "2004    2.391828e+12\n",
       "2005    2.436053e+12\n",
       "2006    2.386896e+12\n",
       "2007    2.451643e+12\n",
       "2008    2.397060e+12\n",
       "2009    2.180317e+12\n",
       "2010    2.308060e+12\n",
       "2011    2.213991e+12\n",
       "2012    2.084190e+12\n",
       "2013    2.102480e+12\n",
       "2014    2.098176e+12\n",
       "2015    1.973093e+12\n",
       "2016    1.867880e+12\n",
       "2017    4.118497e+11\n",
       "Name: final CO2 (kg), dtype: float64"
      ]
     },
     "execution_count": 5,
     "metadata": {},
     "output_type": "execute_result"
    }
   ],
   "source": [
    "total_emiss"
   ]
  },
  {
   "cell_type": "code",
   "execution_count": 12,
   "metadata": {
    "ExecuteTime": {
     "end_time": "2017-08-02T19:16:08.169278Z",
     "start_time": "2017-08-02T19:16:08.111514Z"
    }
   },
   "outputs": [
    {
     "name": "stdout",
     "output_type": "stream",
     "text": [
      "In 2001, 11 states contributed half the total emissions\n",
      "In 2002, 11 states contributed half the total emissions\n",
      "In 2003, 11 states contributed half the total emissions\n",
      "In 2004, 11 states contributed half the total emissions\n",
      "In 2005, 11 states contributed half the total emissions\n",
      "In 2006, 11 states contributed half the total emissions\n",
      "In 2007, 11 states contributed half the total emissions\n",
      "In 2008, 11 states contributed half the total emissions\n",
      "In 2009, 11 states contributed half the total emissions\n",
      "In 2010, 11 states contributed half the total emissions\n",
      "In 2011, 10 states contributed half the total emissions\n",
      "In 2012, 11 states contributed half the total emissions\n",
      "In 2013, 11 states contributed half the total emissions\n",
      "In 2014, 11 states contributed half the total emissions\n",
      "In 2015, 11 states contributed half the total emissions\n",
      "In 2016, 11 states contributed half the total emissions\n"
     ]
    }
   ],
   "source": [
    "half_states = {}\n",
    "for year in range(2001, 2017):\n",
    "    temp = annual_gen_index.loc[annual_gen_index['Year'] == year].copy()\n",
    "    temp.sort_values(by='final CO2 (kg)', inplace=True)\n",
    "    \n",
    "    cumsum_emiss = temp['final CO2 (kg)'].cumsum()\n",
    "    \n",
    "    num_half = 50 - (cumsum_emiss <= total_emiss.loc[year]/2).sum()\n",
    "    half_states[year] = list(temp.loc[~(cumsum_emiss <= total_emiss.loc[year]/2), 'State'].values)\n",
    "    \n",
    "    print('In {}, {} states contributed half the total emissions'.format(year, num_half))"
   ]
  },
  {
   "cell_type": "code",
   "execution_count": 15,
   "metadata": {
    "ExecuteTime": {
     "end_time": "2017-08-02T19:16:49.154407Z",
     "start_time": "2017-08-02T19:16:49.149101Z"
    },
    "collapsed": true
   },
   "outputs": [],
   "source": [
    "half_states[2011].append(np.nan)"
   ]
  },
  {
   "cell_type": "code",
   "execution_count": 17,
   "metadata": {
    "ExecuteTime": {
     "end_time": "2017-08-02T19:17:02.795343Z",
     "start_time": "2017-08-02T19:17:02.739087Z"
    },
    "collapsed": true
   },
   "outputs": [],
   "source": [
    "pd.DataFrame(half_states).to_clipboard()"
   ]
  },
  {
   "cell_type": "code",
   "execution_count": 31,
   "metadata": {
    "ExecuteTime": {
     "end_time": "2017-07-27T13:21:18.668636",
     "start_time": "2017-07-27T13:21:18.662210"
    },
    "scrolled": false
   },
   "outputs": [
    {
     "data": {
      "text/plain": [
       "['TX', 'OH', 'AL', 'WV', 'PA', 'IL', 'GA', 'IN', 'KY', 'FL']"
      ]
     },
     "execution_count": 31,
     "metadata": {},
     "output_type": "execute_result"
    }
   ],
   "source": [
    "list(set(half_states[2001]).intersection(set(half_states[2016])).intersection(set(half_states)))"
   ]
  },
  {
   "cell_type": "code",
   "execution_count": 35,
   "metadata": {
    "ExecuteTime": {
     "end_time": "2017-07-27T15:05:23.721929",
     "start_time": "2017-07-27T15:05:23.709389"
    }
   },
   "outputs": [
    {
     "data": {
      "text/plain": [
       "[{'AL', 'FL', 'GA', 'IL', 'IN', 'KY', 'MO', 'OH', 'PA', 'TX', 'WV'},\n",
       " {'AL', 'FL', 'GA', 'IL', 'IN', 'KY', 'MI', 'OH', 'PA', 'TX', 'WV'},\n",
       " {'AL', 'FL', 'GA', 'IL', 'IN', 'KY', 'MI', 'OH', 'PA', 'TX', 'WV'},\n",
       " {'AL', 'FL', 'GA', 'IL', 'IN', 'KY', 'MI', 'OH', 'PA', 'TX', 'WV'},\n",
       " {'AL', 'FL', 'GA', 'IL', 'IN', 'KY', 'MI', 'OH', 'PA', 'TX', 'WV'},\n",
       " {'AL', 'FL', 'GA', 'IL', 'IN', 'KY', 'MI', 'OH', 'PA', 'TX', 'WV'},\n",
       " {'AL', 'FL', 'GA', 'IL', 'IN', 'KY', 'MO', 'OH', 'PA', 'TX', 'WV'},\n",
       " {'AL', 'FL', 'GA', 'IL', 'IN', 'KY', 'MI', 'OH', 'PA', 'TX', 'WV'},\n",
       " {'AL', 'FL', 'GA', 'IL', 'IN', 'KY', 'MI', 'OH', 'PA', 'TX', 'WV'},\n",
       " {'AL', 'FL', 'GA', 'IL', 'IN', 'KY', 'MI', 'MO', 'OH', 'PA', 'TX'},\n",
       " {'AL', 'FL', 'GA', 'IL', 'IN', 'KY', 'MO', 'OH', 'PA', 'TX', 'WV'},\n",
       " {'AL', 'FL', 'GA', 'IL', 'IN', 'KY', 'MO', 'OH', 'PA', 'TX'},\n",
       " {'AL', 'FL', 'IL', 'IN', 'KY', 'MI', 'MO', 'OH', 'PA', 'TX', 'WV'},\n",
       " {'AL', 'FL', 'IL', 'IN', 'KY', 'MI', 'MO', 'OH', 'PA', 'TX', 'WV'},\n",
       " {'AL', 'FL', 'IL', 'IN', 'KY', 'MI', 'MO', 'OH', 'PA', 'TX', 'WV'},\n",
       " {'AL', 'FL', 'IL', 'IN', 'KY', 'MI', 'MO', 'OH', 'PA', 'TX', 'WV'}]"
      ]
     },
     "execution_count": 35,
     "metadata": {},
     "output_type": "execute_result"
    }
   ],
   "source": [
    "list(set(x) for x in half_states.values())"
   ]
  },
  {
   "cell_type": "code",
   "execution_count": 37,
   "metadata": {
    "ExecuteTime": {
     "end_time": "2017-07-27T15:07:52.855954",
     "start_time": "2017-07-27T15:07:52.851366"
    },
    "collapsed": true
   },
   "outputs": [],
   "source": [
    "constant_states = set.intersection(*list(set(x) for x in half_states.values()))"
   ]
  },
  {
   "cell_type": "code",
   "execution_count": 42,
   "metadata": {
    "ExecuteTime": {
     "end_time": "2017-07-27T15:15:31.906549",
     "start_time": "2017-07-27T15:15:31.896695"
    }
   },
   "outputs": [
    {
     "data": {
      "text/plain": [
       "{'AL', 'FL', 'IL', 'IN', 'KY', 'OH', 'PA', 'TX'}"
      ]
     },
     "execution_count": 42,
     "metadata": {},
     "output_type": "execute_result"
    }
   ],
   "source": [
    "constant_states"
   ]
  },
  {
   "cell_type": "code",
   "execution_count": 41,
   "metadata": {
    "ExecuteTime": {
     "end_time": "2017-07-27T15:11:38.564707",
     "start_time": "2017-07-27T15:11:38.526951"
    }
   },
   "outputs": [
    {
     "name": "stdout",
     "output_type": "stream",
     "text": [
      "In 2001, they were 41.5% of emissions\n",
      "In 2002, they were 42.0% of emissions\n",
      "In 2003, they were 42.0% of emissions\n",
      "In 2004, they were 41.8% of emissions\n",
      "In 2005, they were 42.0% of emissions\n",
      "In 2006, they were 42.6% of emissions\n",
      "In 2007, they were 42.0% of emissions\n",
      "In 2008, they were 42.2% of emissions\n",
      "In 2009, they were 42.3% of emissions\n",
      "In 2010, they were 42.8% of emissions\n",
      "In 2011, they were 43.8% of emissions\n",
      "In 2012, they were 43.0% of emissions\n",
      "In 2013, they were 43.1% of emissions\n",
      "In 2014, they were 43.0% of emissions\n",
      "In 2015, they were 41.9% of emissions\n",
      "In 2016, they were 41.7% of emissions\n"
     ]
    }
   ],
   "source": [
    "for year in range(2001, 2017):\n",
    "    temp = annual_gen_index.loc[annual_gen_index['Year'] == year].copy()\n",
    "    percent_emissions = (temp.loc[temp['State'].isin(constant_states), 'final CO2 (kg)'].sum()\n",
    "                         / total_emiss.loc[year] * 100)\n",
    "    print 'In {}, they were {:.1f}% of emissions'.format(year, percent_emissions)"
   ]
  },
  {
   "cell_type": "code",
   "execution_count": 33,
   "metadata": {
    "ExecuteTime": {
     "end_time": "2017-07-27T13:22:48.748210",
     "start_time": "2017-07-27T13:22:48.738021"
    }
   },
   "outputs": [
    {
     "name": "stdout",
     "output_type": "stream",
     "text": [
      "153    GA\n",
      "357    MI\n",
      "816    WV\n",
      "17     AL\n",
      "272    KY\n",
      "221    IL\n",
      "629    PA\n",
      "578    OH\n",
      "238    IN\n",
      "136    FL\n",
      "714    TX\n",
      "Name: State, dtype: object\n",
      "32     AL\n",
      "168    GA\n",
      "406    MO\n",
      "831    WV\n",
      "236    IL\n",
      "287    KY\n",
      "593    OH\n",
      "644    PA\n",
      "253    IN\n",
      "151    FL\n",
      "729    TX\n",
      "Name: State, dtype: object\n"
     ]
    }
   ],
   "source": [
    "print half_states[2001]\n",
    "print half_states[2016]"
   ]
  },
  {
   "cell_type": "code",
   "execution_count": 11,
   "metadata": {
    "ExecuteTime": {
     "end_time": "2017-07-27T13:08:02.353145",
     "start_time": "2017-07-27T13:08:02.323940"
    }
   },
   "outputs": [
    {
     "data": {
      "text/html": [
       "<div>\n",
       "<table border=\"1\" class=\"dataframe\">\n",
       "  <thead>\n",
       "    <tr style=\"text-align: right;\">\n",
       "      <th></th>\n",
       "      <th>State</th>\n",
       "      <th>Year</th>\n",
       "      <th>Coal</th>\n",
       "      <th>Hydro</th>\n",
       "      <th>Natural Gas</th>\n",
       "      <th>Nuclear</th>\n",
       "      <th>Other</th>\n",
       "      <th>Other Renewables</th>\n",
       "      <th>Solar</th>\n",
       "      <th>Wind</th>\n",
       "      <th>index (g/kWh)</th>\n",
       "      <th>final CO2 (kg)</th>\n",
       "    </tr>\n",
       "  </thead>\n",
       "  <tbody>\n",
       "    <tr>\n",
       "      <th>0</th>\n",
       "      <td>AK</td>\n",
       "      <td>2001</td>\n",
       "      <td>564593.00</td>\n",
       "      <td>1345664.00</td>\n",
       "      <td>3895568.00</td>\n",
       "      <td>0.0</td>\n",
       "      <td>936990.00</td>\n",
       "      <td>0.00</td>\n",
       "      <td>0.0</td>\n",
       "      <td>951.00</td>\n",
       "      <td>621.611811</td>\n",
       "      <td>4.192005e+09</td>\n",
       "    </tr>\n",
       "    <tr>\n",
       "      <th>1</th>\n",
       "      <td>AK</td>\n",
       "      <td>2002</td>\n",
       "      <td>575286.00</td>\n",
       "      <td>1439351.00</td>\n",
       "      <td>3778161.00</td>\n",
       "      <td>0.0</td>\n",
       "      <td>962369.00</td>\n",
       "      <td>12155.00</td>\n",
       "      <td>0.0</td>\n",
       "      <td>0.00</td>\n",
       "      <td>565.861881</td>\n",
       "      <td>3.829370e+09</td>\n",
       "    </tr>\n",
       "    <tr>\n",
       "      <th>2</th>\n",
       "      <td>AK</td>\n",
       "      <td>2003</td>\n",
       "      <td>549665.00</td>\n",
       "      <td>1582537.00</td>\n",
       "      <td>3354483.00</td>\n",
       "      <td>0.0</td>\n",
       "      <td>846273.00</td>\n",
       "      <td>5780.00</td>\n",
       "      <td>0.0</td>\n",
       "      <td>0.00</td>\n",
       "      <td>548.164631</td>\n",
       "      <td>3.474672e+09</td>\n",
       "    </tr>\n",
       "    <tr>\n",
       "      <th>3</th>\n",
       "      <td>AK</td>\n",
       "      <td>2004</td>\n",
       "      <td>648979.71</td>\n",
       "      <td>1498020.01</td>\n",
       "      <td>3623432.59</td>\n",
       "      <td>0.0</td>\n",
       "      <td>747068.06</td>\n",
       "      <td>9216.55</td>\n",
       "      <td>0.0</td>\n",
       "      <td>0.00</td>\n",
       "      <td>535.042680</td>\n",
       "      <td>3.492072e+09</td>\n",
       "    </tr>\n",
       "    <tr>\n",
       "      <th>4</th>\n",
       "      <td>AK</td>\n",
       "      <td>2005</td>\n",
       "      <td>624317.77</td>\n",
       "      <td>1463942.01</td>\n",
       "      <td>3723625.63</td>\n",
       "      <td>0.0</td>\n",
       "      <td>758928.54</td>\n",
       "      <td>5255.58</td>\n",
       "      <td>0.0</td>\n",
       "      <td>589.01</td>\n",
       "      <td>536.961208</td>\n",
       "      <td>3.531411e+09</td>\n",
       "    </tr>\n",
       "  </tbody>\n",
       "</table>\n",
       "</div>"
      ],
      "text/plain": [
       "  State  Year       Coal       Hydro  Natural Gas  Nuclear      Other  \\\n",
       "0    AK  2001  564593.00  1345664.00   3895568.00      0.0  936990.00   \n",
       "1    AK  2002  575286.00  1439351.00   3778161.00      0.0  962369.00   \n",
       "2    AK  2003  549665.00  1582537.00   3354483.00      0.0  846273.00   \n",
       "3    AK  2004  648979.71  1498020.01   3623432.59      0.0  747068.06   \n",
       "4    AK  2005  624317.77  1463942.01   3723625.63      0.0  758928.54   \n",
       "\n",
       "   Other Renewables  Solar    Wind  index (g/kWh)  final CO2 (kg)  \n",
       "0              0.00    0.0  951.00     621.611811    4.192005e+09  \n",
       "1          12155.00    0.0    0.00     565.861881    3.829370e+09  \n",
       "2           5780.00    0.0    0.00     548.164631    3.474672e+09  \n",
       "3           9216.55    0.0    0.00     535.042680    3.492072e+09  \n",
       "4           5255.58    0.0  589.01     536.961208    3.531411e+09  "
      ]
     },
     "execution_count": 11,
     "metadata": {},
     "output_type": "execute_result"
    }
   ],
   "source": [
    "annual_gen_index.head()"
   ]
  },
  {
   "cell_type": "markdown",
   "metadata": {},
   "source": [
    "## Gross state product data"
   ]
  },
  {
   "cell_type": "code",
   "execution_count": 40,
   "metadata": {
    "ExecuteTime": {
     "end_time": "2017-08-07T16:46:02.456332Z",
     "start_time": "2017-08-07T16:46:02.421660Z"
    },
    "collapsed": true
   },
   "outputs": [],
   "source": [
    "us_state_abbrev = {\n",
    "    'United States': 'US',\n",
    "    'Alabama': 'AL',\n",
    "    'Alaska': 'AK',\n",
    "    'Arizona': 'AZ',\n",
    "    'Arkansas': 'AR',\n",
    "    'California': 'CA',\n",
    "    'Colorado': 'CO',\n",
    "    'Connecticut': 'CT',\n",
    "    'Delaware': 'DE',\n",
    "    'Florida': 'FL',\n",
    "    'Georgia': 'GA',\n",
    "    'Hawaii': 'HI',\n",
    "    'Idaho': 'ID',\n",
    "    'Illinois': 'IL',\n",
    "    'Indiana': 'IN',\n",
    "    'Iowa': 'IA',\n",
    "    'Kansas': 'KS',\n",
    "    'Kentucky': 'KY',\n",
    "    'Louisiana': 'LA',\n",
    "    'Maine': 'ME',\n",
    "    'Maryland': 'MD',\n",
    "    'Massachusetts': 'MA',\n",
    "    'Michigan': 'MI',\n",
    "    'Minnesota': 'MN',\n",
    "    'Mississippi': 'MS',\n",
    "    'Missouri': 'MO',\n",
    "    'Montana': 'MT',\n",
    "    'Nebraska': 'NE',\n",
    "    'Nevada': 'NV',\n",
    "    'New Hampshire': 'NH',\n",
    "    'New Jersey': 'NJ',\n",
    "    'New Mexico': 'NM',\n",
    "    'New York': 'NY',\n",
    "    'North Carolina': 'NC',\n",
    "    'North Dakota': 'ND',\n",
    "    'Ohio': 'OH',\n",
    "    'Oklahoma': 'OK',\n",
    "    'Oregon': 'OR',\n",
    "    'Pennsylvania': 'PA',\n",
    "    'Rhode Island': 'RI',\n",
    "    'South Carolina': 'SC',\n",
    "    'South Dakota': 'SD',\n",
    "    'Tennessee': 'TN',\n",
    "    'Texas': 'TX',\n",
    "    'Utah': 'UT',\n",
    "    'Vermont': 'VT',\n",
    "    'Virginia': 'VA',\n",
    "    'Washington': 'WA',\n",
    "    'West Virginia': 'WV',\n",
    "    'Wisconsin': 'WI',\n",
    "    'Wyoming': 'WY',\n",
    "}"
   ]
  },
  {
   "cell_type": "code",
   "execution_count": 73,
   "metadata": {
    "ExecuteTime": {
     "end_time": "2017-08-07T17:17:40.225215Z",
     "start_time": "2017-08-07T17:17:39.533810Z"
    },
    "collapsed": true
   },
   "outputs": [],
   "source": [
    "path = os.path.join('Data storage', 'GDP data', 'gsp_naics_all_R', 'gsp_naics_all_R.csv')\n",
    "gsp = pd.read_csv(path)\n",
    "gsp = gsp.loc[gsp['IndustryId'] == 1]\n",
    "gsp.drop(['GeoFIPS', 'Region', 'ComponentId', 'ComponentName', 'IndustryId',\n",
    "          'IndustryClassification', 'Description'], axis=1, inplace=True)\n",
    "gsp.rename(columns={'GeoName': 'State'}, inplace=True)\n",
    "gsp = pd.melt(gsp, id_vars='State', var_name='Year', value_name='GSP')\n",
    "gsp['State'] = gsp['State'].map(us_state_abbrev)\n",
    "\n",
    "for col in ['Year', 'GSP']:\n",
    "    gsp.loc[:, col] = pd.to_numeric(gsp.loc[:, col])"
   ]
  },
  {
   "cell_type": "code",
   "execution_count": 74,
   "metadata": {
    "ExecuteTime": {
     "end_time": "2017-08-07T17:17:41.864441Z",
     "start_time": "2017-08-07T17:17:41.853864Z"
    }
   },
   "outputs": [
    {
     "data": {
      "text/html": [
       "<div>\n",
       "<style>\n",
       "    .dataframe thead tr:only-child th {\n",
       "        text-align: right;\n",
       "    }\n",
       "\n",
       "    .dataframe thead th {\n",
       "        text-align: left;\n",
       "    }\n",
       "\n",
       "    .dataframe tbody tr th {\n",
       "        vertical-align: top;\n",
       "    }\n",
       "</style>\n",
       "<table border=\"1\" class=\"dataframe\">\n",
       "  <thead>\n",
       "    <tr style=\"text-align: right;\">\n",
       "      <th></th>\n",
       "      <th>State</th>\n",
       "      <th>Year</th>\n",
       "      <th>GSP</th>\n",
       "    </tr>\n",
       "  </thead>\n",
       "  <tbody>\n",
       "    <tr>\n",
       "      <th>0</th>\n",
       "      <td>US</td>\n",
       "      <td>1997</td>\n",
       "      <td>11118778</td>\n",
       "    </tr>\n",
       "    <tr>\n",
       "      <th>1</th>\n",
       "      <td>AL</td>\n",
       "      <td>1997</td>\n",
       "      <td>137143</td>\n",
       "    </tr>\n",
       "    <tr>\n",
       "      <th>2</th>\n",
       "      <td>AK</td>\n",
       "      <td>1997</td>\n",
       "      <td>37880</td>\n",
       "    </tr>\n",
       "    <tr>\n",
       "      <th>3</th>\n",
       "      <td>AZ</td>\n",
       "      <td>1997</td>\n",
       "      <td>163114</td>\n",
       "    </tr>\n",
       "    <tr>\n",
       "      <th>4</th>\n",
       "      <td>AR</td>\n",
       "      <td>1997</td>\n",
       "      <td>79164</td>\n",
       "    </tr>\n",
       "  </tbody>\n",
       "</table>\n",
       "</div>"
      ],
      "text/plain": [
       "  State  Year       GSP\n",
       "0    US  1997  11118778\n",
       "1    AL  1997    137143\n",
       "2    AK  1997     37880\n",
       "3    AZ  1997    163114\n",
       "4    AR  1997     79164"
      ]
     },
     "execution_count": 74,
     "metadata": {},
     "output_type": "execute_result"
    }
   ],
   "source": [
    "gsp.head()"
   ]
  },
  {
   "cell_type": "markdown",
   "metadata": {},
   "source": [
    "Check to see what percent of GDP is generated in the highest emitting states that are responsible for at least half of US CO<sub>2</sub> emissions from electricity. The fraction is remarkably consistent over time (34-36%). Maybe not too surprising, given that the list of states is pretty stable. "
   ]
  },
  {
   "cell_type": "code",
   "execution_count": 77,
   "metadata": {
    "ExecuteTime": {
     "end_time": "2017-08-07T17:33:26.798010Z",
     "start_time": "2017-08-07T17:33:26.770071Z"
    }
   },
   "outputs": [
    {
     "ename": "NameError",
     "evalue": "name 'half_states' is not defined",
     "output_type": "error",
     "traceback": [
      "\u001b[0;31m---------------------------------------------------------------------------\u001b[0m",
      "\u001b[0;31mNameError\u001b[0m                                 Traceback (most recent call last)",
      "\u001b[0;32m<ipython-input-77-6f03f845a1b4>\u001b[0m in \u001b[0;36m<module>\u001b[0;34m()\u001b[0m\n\u001b[1;32m      1\u001b[0m \u001b[0mtotal_gsp\u001b[0m \u001b[0;34m=\u001b[0m \u001b[0;34m{\u001b[0m\u001b[0;34m}\u001b[0m\u001b[0;34m\u001b[0m\u001b[0m\n\u001b[1;32m      2\u001b[0m \u001b[0mhalf_states_gsp\u001b[0m \u001b[0;34m=\u001b[0m \u001b[0;34m{\u001b[0m\u001b[0;34m}\u001b[0m\u001b[0;34m\u001b[0m\u001b[0m\n\u001b[0;32m----> 3\u001b[0;31m \u001b[0;32mfor\u001b[0m \u001b[0myear\u001b[0m \u001b[0;32min\u001b[0m \u001b[0mhalf_states\u001b[0m\u001b[0;34m.\u001b[0m\u001b[0mkeys\u001b[0m\u001b[0;34m(\u001b[0m\u001b[0;34m)\u001b[0m\u001b[0;34m:\u001b[0m\u001b[0;34m\u001b[0m\u001b[0m\n\u001b[0m\u001b[1;32m      4\u001b[0m     total_gsp[year] = gsp.loc[(gsp['Year'] == year) &\n\u001b[1;32m      5\u001b[0m                               (gsp['State'] == 'US'), 'GSP'].sum()\n",
      "\u001b[0;31mNameError\u001b[0m: name 'half_states' is not defined"
     ]
    }
   ],
   "source": [
    "total_gsp = {}\n",
    "half_states_gsp = {}\n",
    "for year in half_states.keys():\n",
    "    total_gsp[year] = gsp.loc[(gsp['Year'] == year) &\n",
    "                              (gsp['State'] == 'US'), 'GSP'].sum()\n",
    "                               \n",
    "    half_states_gsp[year] = gsp.loc[(gsp['Year'] == year) &\n",
    "                                    (gsp['State'].isin(half_states[year])), 'GSP'].sum()\n",
    "                               \n",
    "    percent = half_states_gsp[year] / total_gsp[year] * 100\n",
    "                               \n",
    "    print('In {}, states with half of emissions contributed to {:.1f}% of GDP'.format(year, percent))"
   ]
  },
  {
   "cell_type": "code",
   "execution_count": 78,
   "metadata": {
    "ExecuteTime": {
     "end_time": "2017-08-07T17:33:30.718038Z",
     "start_time": "2017-08-07T17:33:30.708709Z"
    },
    "collapsed": true
   },
   "outputs": [],
   "source": [
    "annual_gen_index_gsp = annual_gen_index.merge(gsp, on=['State', 'Year'])"
   ]
  },
  {
   "cell_type": "code",
   "execution_count": 79,
   "metadata": {
    "ExecuteTime": {
     "end_time": "2017-08-07T17:33:42.176539Z",
     "start_time": "2017-08-07T17:33:42.164906Z"
    },
    "collapsed": true
   },
   "outputs": [],
   "source": [
    "non_fuels = ['State', 'Year', 'index (g/kWh)', 'GSP']\n",
    "gen_cols = [x for x in annual_gen_index.columns if x not in non_fuels]\n",
    "total_gen = annual_gen_index.loc[:, gen_cols].sum(axis=1)\n",
    "\n",
    "annual_gen_index_gsp.loc[:, 'tonne CO2/mmUSD'] = (annual_gen_index_gsp.loc[:, 'final CO2 (kg)']\n",
    "                                                  / annual_gen_index_gsp.loc[:, 'GSP']\n",
    "                                                  / 1000)"
   ]
  },
  {
   "cell_type": "code",
   "execution_count": 146,
   "metadata": {
    "ExecuteTime": {
     "end_time": "2017-08-04T18:50:35.345392Z",
     "start_time": "2017-08-04T18:50:35.323085Z"
    }
   },
   "outputs": [
    {
     "data": {
      "text/html": [
       "<div>\n",
       "<style>\n",
       "    .dataframe thead tr:only-child th {\n",
       "        text-align: right;\n",
       "    }\n",
       "\n",
       "    .dataframe thead th {\n",
       "        text-align: left;\n",
       "    }\n",
       "\n",
       "    .dataframe tbody tr th {\n",
       "        vertical-align: top;\n",
       "    }\n",
       "</style>\n",
       "<table border=\"1\" class=\"dataframe\">\n",
       "  <thead>\n",
       "    <tr style=\"text-align: right;\">\n",
       "      <th>Year</th>\n",
       "      <th>2001</th>\n",
       "      <th>2002</th>\n",
       "      <th>2003</th>\n",
       "      <th>2004</th>\n",
       "      <th>2005</th>\n",
       "      <th>2006</th>\n",
       "      <th>2007</th>\n",
       "      <th>2008</th>\n",
       "      <th>2009</th>\n",
       "      <th>2010</th>\n",
       "      <th>2011</th>\n",
       "      <th>2012</th>\n",
       "      <th>2013</th>\n",
       "      <th>2014</th>\n",
       "      <th>2015</th>\n",
       "      <th>2016</th>\n",
       "    </tr>\n",
       "    <tr>\n",
       "      <th>State</th>\n",
       "      <th></th>\n",
       "      <th></th>\n",
       "      <th></th>\n",
       "      <th></th>\n",
       "      <th></th>\n",
       "      <th></th>\n",
       "      <th></th>\n",
       "      <th></th>\n",
       "      <th></th>\n",
       "      <th></th>\n",
       "      <th></th>\n",
       "      <th></th>\n",
       "      <th></th>\n",
       "      <th></th>\n",
       "      <th></th>\n",
       "      <th></th>\n",
       "    </tr>\n",
       "  </thead>\n",
       "  <tbody>\n",
       "    <tr>\n",
       "      <th>VT</th>\n",
       "      <td>2.080719</td>\n",
       "      <td>0.604386</td>\n",
       "      <td>0.953365</td>\n",
       "      <td>0.808575</td>\n",
       "      <td>0.537677</td>\n",
       "      <td>0.402272</td>\n",
       "      <td>0.398129</td>\n",
       "      <td>0.290648</td>\n",
       "      <td>0.284273</td>\n",
       "      <td>0.325978</td>\n",
       "      <td>0.927531</td>\n",
       "      <td>0.476878</td>\n",
       "      <td>0.558136</td>\n",
       "      <td>0.522327</td>\n",
       "      <td>0.173791</td>\n",
       "      <td>0.036616</td>\n",
       "    </tr>\n",
       "    <tr>\n",
       "      <th>CA</th>\n",
       "      <td>39.200947</td>\n",
       "      <td>29.321641</td>\n",
       "      <td>27.569651</td>\n",
       "      <td>26.891922</td>\n",
       "      <td>23.534957</td>\n",
       "      <td>25.186866</td>\n",
       "      <td>27.702167</td>\n",
       "      <td>27.607846</td>\n",
       "      <td>26.708384</td>\n",
       "      <td>24.304318</td>\n",
       "      <td>20.284047</td>\n",
       "      <td>25.601103</td>\n",
       "      <td>24.413727</td>\n",
       "      <td>23.789937</td>\n",
       "      <td>22.222309</td>\n",
       "      <td>17.628087</td>\n",
       "    </tr>\n",
       "    <tr>\n",
       "      <th>ID</th>\n",
       "      <td>8.742748</td>\n",
       "      <td>9.478000</td>\n",
       "      <td>13.850141</td>\n",
       "      <td>14.064815</td>\n",
       "      <td>12.651810</td>\n",
       "      <td>10.156846</td>\n",
       "      <td>12.826733</td>\n",
       "      <td>13.270562</td>\n",
       "      <td>13.438802</td>\n",
       "      <td>13.236149</td>\n",
       "      <td>9.179855</td>\n",
       "      <td>14.835388</td>\n",
       "      <td>24.739240</td>\n",
       "      <td>18.120343</td>\n",
       "      <td>26.663683</td>\n",
       "      <td>22.561670</td>\n",
       "    </tr>\n",
       "    <tr>\n",
       "      <th>NY</th>\n",
       "      <td>55.892894</td>\n",
       "      <td>52.537022</td>\n",
       "      <td>52.933861</td>\n",
       "      <td>51.579257</td>\n",
       "      <td>50.814780</td>\n",
       "      <td>42.486970</td>\n",
       "      <td>43.882397</td>\n",
       "      <td>38.638995</td>\n",
       "      <td>30.782576</td>\n",
       "      <td>33.179353</td>\n",
       "      <td>29.841561</td>\n",
       "      <td>28.170799</td>\n",
       "      <td>26.943060</td>\n",
       "      <td>26.660672</td>\n",
       "      <td>25.523978</td>\n",
       "      <td>23.599729</td>\n",
       "    </tr>\n",
       "    <tr>\n",
       "      <th>WA</th>\n",
       "      <td>49.830116</td>\n",
       "      <td>40.056456</td>\n",
       "      <td>50.803696</td>\n",
       "      <td>48.257659</td>\n",
       "      <td>46.250038</td>\n",
       "      <td>30.287404</td>\n",
       "      <td>34.981199</td>\n",
       "      <td>37.457905</td>\n",
       "      <td>38.577325</td>\n",
       "      <td>39.539452</td>\n",
       "      <td>21.651052</td>\n",
       "      <td>17.800732</td>\n",
       "      <td>32.634542</td>\n",
       "      <td>30.873283</td>\n",
       "      <td>28.707404</td>\n",
       "      <td>24.202803</td>\n",
       "    </tr>\n",
       "  </tbody>\n",
       "</table>\n",
       "</div>"
      ],
      "text/plain": [
       "Year        2001       2002       2003       2004       2005       2006  \\\n",
       "State                                                                     \n",
       "VT      2.080719   0.604386   0.953365   0.808575   0.537677   0.402272   \n",
       "CA     39.200947  29.321641  27.569651  26.891922  23.534957  25.186866   \n",
       "ID      8.742748   9.478000  13.850141  14.064815  12.651810  10.156846   \n",
       "NY     55.892894  52.537022  52.933861  51.579257  50.814780  42.486970   \n",
       "WA     49.830116  40.056456  50.803696  48.257659  46.250038  30.287404   \n",
       "\n",
       "Year        2007       2008       2009       2010       2011       2012  \\\n",
       "State                                                                     \n",
       "VT      0.398129   0.290648   0.284273   0.325978   0.927531   0.476878   \n",
       "CA     27.702167  27.607846  26.708384  24.304318  20.284047  25.601103   \n",
       "ID     12.826733  13.270562  13.438802  13.236149   9.179855  14.835388   \n",
       "NY     43.882397  38.638995  30.782576  33.179353  29.841561  28.170799   \n",
       "WA     34.981199  37.457905  38.577325  39.539452  21.651052  17.800732   \n",
       "\n",
       "Year        2013       2014       2015       2016  \n",
       "State                                              \n",
       "VT      0.558136   0.522327   0.173791   0.036616  \n",
       "CA     24.413727  23.789937  22.222309  17.628087  \n",
       "ID     24.739240  18.120343  26.663683  22.561670  \n",
       "NY     26.943060  26.660672  25.523978  23.599729  \n",
       "WA     32.634542  30.873283  28.707404  24.202803  "
      ]
     },
     "execution_count": 146,
     "metadata": {},
     "output_type": "execute_result"
    }
   ],
   "source": [
    "barbell_gsp.head()"
   ]
  },
  {
   "cell_type": "code",
   "execution_count": 80,
   "metadata": {
    "ExecuteTime": {
     "end_time": "2017-08-07T17:33:52.601792Z",
     "start_time": "2017-08-07T17:33:51.277189Z"
    }
   },
   "outputs": [
    {
     "data": {
      "text/plain": [
       "(-1, 53)"
      ]
     },
     "execution_count": 80,
     "metadata": {},
     "output_type": "execute_result"
    },
    {
     "data": {
      "text/plain": [
       "<matplotlib.text.Text at 0x12e1d8b00>"
      ]
     },
     "execution_count": 80,
     "metadata": {},
     "output_type": "execute_result"
    },
    {
     "data": {
      "image/png": "[encoded data removed]",
      "text/plain": [
       "<matplotlib.figure.Figure at 0x12ef6d2b0>"
      ]
     },
     "metadata": {},
     "output_type": "display_data"
    }
   ],
   "source": [
    "barbell_gsp = annual_gen_index_gsp.pivot_table(values='tonne CO2/mmUSD',\n",
    "                                              index='State', columns='Year')\n",
    "barbell_gsp.sort_values(by=2016, inplace=True)\n",
    "barbell_gsp.drop(['WY', 'ND', 'WV'], inplace=True)\n",
    "\n",
    "states_gsp = list(barbell_gsp.index)\n",
    "\n",
    "dumbell_plot(barbell_gsp, [2001, 2008, 2016], states_gsp, offset_divider=40,\n",
    "             rps_start=rps_start, legend=False, palette='colorblind')\n",
    "\n",
    "plt.ylim(-1, 53)\n",
    "sns.despine(left=True)\n",
    "plt.xlabel('Tonne CO$_2$/Million USD')"
   ]
  },
  {
   "cell_type": "code",
   "execution_count": 87,
   "metadata": {
    "ExecuteTime": {
     "end_time": "2017-08-07T17:36:58.713687Z",
     "start_time": "2017-08-07T17:36:58.429094Z"
    }
   },
   "outputs": [
    {
     "data": {
      "text/plain": [
       "(-1, 53)"
      ]
     },
     "execution_count": 87,
     "metadata": {},
     "output_type": "execute_result"
    },
    {
     "data": {
      "text/plain": [
       "(500, 2000)"
      ]
     },
     "execution_count": 87,
     "metadata": {},
     "output_type": "execute_result"
    },
    {
     "data": {
      "text/plain": [
       "<matplotlib.text.Text at 0x12eae6320>"
      ]
     },
     "execution_count": 87,
     "metadata": {},
     "output_type": "execute_result"
    },
    {
     "data": {
      "image/png": "[encoded data removed]",
      "text/plain": [
       "<matplotlib.figure.Figure at 0x12eae64e0>"
      ]
     },
     "metadata": {},
     "output_type": "display_data"
    }
   ],
   "source": [
    "barbell_gsp = annual_gen_index_gsp.pivot_table(values='tonne CO2/mmUSD',\n",
    "                                              index='State', columns='Year')\n",
    "barbell_gsp.sort_values(by=2016, inplace=True)\n",
    "barbell_gsp = barbell_gsp.loc[['ND', 'WV', 'WY']]\n",
    "\n",
    "states_gsp = ['ND', 'WV', 'WY']\n",
    "\n",
    "dumbell_plot(barbell_gsp, [2001, 2008, 2016], states_gsp, offset_divider=30,\n",
    "             rps_start=rps_start, legend=False, palette='colorblind',\n",
    "             figsize=(2.5, 9))\n",
    "\n",
    "plt.ylim(-1, 53)\n",
    "plt.xlim(500, 2000)\n",
    "sns.despine(left=True)\n",
    "plt.xlabel('Tonne CO$_2$/Million USD')"
   ]
  },
  {
   "cell_type": "code",
   "execution_count": 180,
   "metadata": {
    "ExecuteTime": {
     "end_time": "2017-08-04T19:05:56.672782Z",
     "start_time": "2017-08-04T19:05:55.092305Z"
    }
   },
   "outputs": [
    {
     "data": {
      "text/plain": [
       "(-1, 50)"
      ]
     },
     "execution_count": 180,
     "metadata": {},
     "output_type": "execute_result"
    },
    {
     "data": {
      "text/plain": [
       "<matplotlib.text.Text at 0x1462e60b8>"
      ]
     },
     "execution_count": 180,
     "metadata": {},
     "output_type": "execute_result"
    },
    {
     "data": {
      "text/plain": [
       "(8, 1950)"
      ]
     },
     "execution_count": 180,
     "metadata": {},
     "output_type": "execute_result"
    },
    {
     "data": {
      "image/png": "[encoded data removed]",
      "text/plain": [
       "<matplotlib.figure.Figure at 0x147675da0>"
      ]
     },
     "metadata": {},
     "output_type": "display_data"
    }
   ],
   "source": [
    "barbell_gsp = annual_gen_index_gsp.pivot_table(values='tonne CO2/mmUSD',\n",
    "                                              index='State', columns='Year')\n",
    "barbell_gsp.sort_values(by=2016, inplace=True)\n",
    "barbell_gsp.drop('VT', inplace=True)\n",
    "\n",
    "index_2001 = barbell_gsp[2001]\n",
    "index_2008 = barbell_gsp[2008]\n",
    "index_2016 = barbell_gsp[2016]\n",
    "\n",
    "# data = [barbell_gsp[year] for year in [2001, 2008, 2016]]\n",
    "states_gsp = ['{}  '.format(state) for state in barbell_gsp.index]\n",
    "# rps_states = list(rps_tidy['State'].unique())\n",
    "\n",
    "dumbell_plot(barbell_gsp, [2001, 2008, 2016], states_gsp, offset_divider=4000,\n",
    "             rps_start=rps_start, legend=False, palette='colorblind')\n",
    "\n",
    "# plt.vlines(456, -1, 50, colors=['0.5'], zorder=1, #linestyles='dashed',\n",
    "#            linewidth=1)\n",
    "plt.ylim(-1, 50)\n",
    "# plt.text(x=240, y=40, s='2016\\nNational Average\\n(456 g/kWh)', ha='center')\n",
    "sns.despine(left=True)\n",
    "plt.xlabel('Tonne CO$_2$/Million USD')\n",
    "ax = plt.gca()\n",
    "ax.set_xscale(\"log\", nonposx='clip')\n",
    "plt.xlim((8, 1950))"
   ]
  },
  {
   "cell_type": "markdown",
   "metadata": {},
   "source": [
    "Are things changing because states got GSP changed or because electricity emissions changed. Scatter plot might be more appropriate. "
   ]
  },
  {
   "cell_type": "markdown",
   "metadata": {
    "collapsed": true
   },
   "source": [
    "## Population"
   ]
  },
  {
   "cell_type": "code",
   "execution_count": 37,
   "metadata": {
    "ExecuteTime": {
     "end_time": "2017-08-07T16:45:46.498597Z",
     "start_time": "2017-08-07T16:45:46.469855Z"
    },
    "collapsed": true
   },
   "outputs": [],
   "source": [
    "path = os.path.join('Data storage', 'Derived data', 'State population.csv')\n",
    "pop = pd.read_csv(path)"
   ]
  },
  {
   "cell_type": "code",
   "execution_count": 38,
   "metadata": {
    "ExecuteTime": {
     "end_time": "2017-08-07T16:45:52.655315Z",
     "start_time": "2017-08-07T16:45:52.644012Z"
    }
   },
   "outputs": [
    {
     "data": {
      "text/html": [
       "<div>\n",
       "<style>\n",
       "    .dataframe thead tr:only-child th {\n",
       "        text-align: right;\n",
       "    }\n",
       "\n",
       "    .dataframe thead th {\n",
       "        text-align: left;\n",
       "    }\n",
       "\n",
       "    .dataframe tbody tr th {\n",
       "        vertical-align: top;\n",
       "    }\n",
       "</style>\n",
       "<table border=\"1\" class=\"dataframe\">\n",
       "  <thead>\n",
       "    <tr style=\"text-align: right;\">\n",
       "      <th></th>\n",
       "      <th>State</th>\n",
       "      <th>Year</th>\n",
       "      <th>Population</th>\n",
       "    </tr>\n",
       "  </thead>\n",
       "  <tbody>\n",
       "    <tr>\n",
       "      <th>0</th>\n",
       "      <td>United States</td>\n",
       "      <td>2000</td>\n",
       "      <td>282162411</td>\n",
       "    </tr>\n",
       "    <tr>\n",
       "      <th>1</th>\n",
       "      <td>Alabama</td>\n",
       "      <td>2000</td>\n",
       "      <td>4452173</td>\n",
       "    </tr>\n",
       "    <tr>\n",
       "      <th>2</th>\n",
       "      <td>Alaska</td>\n",
       "      <td>2000</td>\n",
       "      <td>627963</td>\n",
       "    </tr>\n",
       "    <tr>\n",
       "      <th>3</th>\n",
       "      <td>Arizona</td>\n",
       "      <td>2000</td>\n",
       "      <td>5160586</td>\n",
       "    </tr>\n",
       "    <tr>\n",
       "      <th>4</th>\n",
       "      <td>Arkansas</td>\n",
       "      <td>2000</td>\n",
       "      <td>2678588</td>\n",
       "    </tr>\n",
       "  </tbody>\n",
       "</table>\n",
       "</div>"
      ],
      "text/plain": [
       "           State  Year  Population\n",
       "0  United States  2000   282162411\n",
       "1        Alabama  2000     4452173\n",
       "2         Alaska  2000      627963\n",
       "3        Arizona  2000     5160586\n",
       "4       Arkansas  2000     2678588"
      ]
     },
     "execution_count": 38,
     "metadata": {},
     "output_type": "execute_result"
    }
   ],
   "source": [
    "pop.head()"
   ]
  },
  {
   "cell_type": "code",
   "execution_count": 41,
   "metadata": {
    "ExecuteTime": {
     "end_time": "2017-08-07T16:46:07.771963Z",
     "start_time": "2017-08-07T16:46:07.765992Z"
    }
   },
   "outputs": [],
   "source": [
    "pop['State'] = pop['State'].map(us_state_abbrev)"
   ]
  },
  {
   "cell_type": "code",
   "execution_count": 42,
   "metadata": {
    "ExecuteTime": {
     "end_time": "2017-08-07T16:46:08.804428Z",
     "start_time": "2017-08-07T16:46:08.793386Z"
    }
   },
   "outputs": [
    {
     "data": {
      "text/html": [
       "<div>\n",
       "<style>\n",
       "    .dataframe thead tr:only-child th {\n",
       "        text-align: right;\n",
       "    }\n",
       "\n",
       "    .dataframe thead th {\n",
       "        text-align: left;\n",
       "    }\n",
       "\n",
       "    .dataframe tbody tr th {\n",
       "        vertical-align: top;\n",
       "    }\n",
       "</style>\n",
       "<table border=\"1\" class=\"dataframe\">\n",
       "  <thead>\n",
       "    <tr style=\"text-align: right;\">\n",
       "      <th></th>\n",
       "      <th>State</th>\n",
       "      <th>Year</th>\n",
       "      <th>Population</th>\n",
       "    </tr>\n",
       "  </thead>\n",
       "  <tbody>\n",
       "    <tr>\n",
       "      <th>0</th>\n",
       "      <td>US</td>\n",
       "      <td>2000</td>\n",
       "      <td>282162411</td>\n",
       "    </tr>\n",
       "    <tr>\n",
       "      <th>1</th>\n",
       "      <td>AL</td>\n",
       "      <td>2000</td>\n",
       "      <td>4452173</td>\n",
       "    </tr>\n",
       "    <tr>\n",
       "      <th>2</th>\n",
       "      <td>AK</td>\n",
       "      <td>2000</td>\n",
       "      <td>627963</td>\n",
       "    </tr>\n",
       "    <tr>\n",
       "      <th>3</th>\n",
       "      <td>AZ</td>\n",
       "      <td>2000</td>\n",
       "      <td>5160586</td>\n",
       "    </tr>\n",
       "    <tr>\n",
       "      <th>4</th>\n",
       "      <td>AR</td>\n",
       "      <td>2000</td>\n",
       "      <td>2678588</td>\n",
       "    </tr>\n",
       "  </tbody>\n",
       "</table>\n",
       "</div>"
      ],
      "text/plain": [
       "  State  Year  Population\n",
       "0    US  2000   282162411\n",
       "1    AL  2000     4452173\n",
       "2    AK  2000      627963\n",
       "3    AZ  2000     5160586\n",
       "4    AR  2000     2678588"
      ]
     },
     "execution_count": 42,
     "metadata": {},
     "output_type": "execute_result"
    }
   ],
   "source": [
    "pop.head()"
   ]
  },
  {
   "cell_type": "code",
   "execution_count": 44,
   "metadata": {
    "ExecuteTime": {
     "end_time": "2017-08-07T16:49:41.961746Z",
     "start_time": "2017-08-07T16:49:41.952680Z"
    },
    "collapsed": true
   },
   "outputs": [],
   "source": [
    "annual_gen_index_pop = annual_gen_index.merge(pop, on=['State', 'Year'])"
   ]
  },
  {
   "cell_type": "code",
   "execution_count": 45,
   "metadata": {
    "ExecuteTime": {
     "end_time": "2017-08-07T16:49:42.767736Z",
     "start_time": "2017-08-07T16:49:42.737467Z"
    }
   },
   "outputs": [
    {
     "data": {
      "text/html": [
       "<div>\n",
       "<style>\n",
       "    .dataframe thead tr:only-child th {\n",
       "        text-align: right;\n",
       "    }\n",
       "\n",
       "    .dataframe thead th {\n",
       "        text-align: left;\n",
       "    }\n",
       "\n",
       "    .dataframe tbody tr th {\n",
       "        vertical-align: top;\n",
       "    }\n",
       "</style>\n",
       "<table border=\"1\" class=\"dataframe\">\n",
       "  <thead>\n",
       "    <tr style=\"text-align: right;\">\n",
       "      <th></th>\n",
       "      <th>State</th>\n",
       "      <th>Year</th>\n",
       "      <th>Coal</th>\n",
       "      <th>Hydro</th>\n",
       "      <th>Natural Gas</th>\n",
       "      <th>Nuclear</th>\n",
       "      <th>Other</th>\n",
       "      <th>Other Renewables</th>\n",
       "      <th>Solar</th>\n",
       "      <th>Wind</th>\n",
       "      <th>...</th>\n",
       "      <th>Total gen</th>\n",
       "      <th>percent Coal</th>\n",
       "      <th>percent Natural Gas</th>\n",
       "      <th>percent Other Renewables</th>\n",
       "      <th>percent Nuclear</th>\n",
       "      <th>percent Other</th>\n",
       "      <th>percent Solar</th>\n",
       "      <th>percent Wind</th>\n",
       "      <th>percent Hydro</th>\n",
       "      <th>Population</th>\n",
       "    </tr>\n",
       "  </thead>\n",
       "  <tbody>\n",
       "    <tr>\n",
       "      <th>0</th>\n",
       "      <td>AK</td>\n",
       "      <td>2001</td>\n",
       "      <td>564593.00</td>\n",
       "      <td>1345664.00</td>\n",
       "      <td>3895568.00</td>\n",
       "      <td>0.0</td>\n",
       "      <td>936990.00</td>\n",
       "      <td>0.00</td>\n",
       "      <td>0.0</td>\n",
       "      <td>951.00</td>\n",
       "      <td>...</td>\n",
       "      <td>6743766.00</td>\n",
       "      <td>0.083721</td>\n",
       "      <td>0.577655</td>\n",
       "      <td>0.000000</td>\n",
       "      <td>0.0</td>\n",
       "      <td>0.138942</td>\n",
       "      <td>0.0</td>\n",
       "      <td>0.000141</td>\n",
       "      <td>0.199542</td>\n",
       "      <td>633714</td>\n",
       "    </tr>\n",
       "    <tr>\n",
       "      <th>1</th>\n",
       "      <td>AK</td>\n",
       "      <td>2002</td>\n",
       "      <td>575286.00</td>\n",
       "      <td>1439351.00</td>\n",
       "      <td>3778161.00</td>\n",
       "      <td>0.0</td>\n",
       "      <td>962369.00</td>\n",
       "      <td>12155.00</td>\n",
       "      <td>0.0</td>\n",
       "      <td>0.00</td>\n",
       "      <td>...</td>\n",
       "      <td>6767322.00</td>\n",
       "      <td>0.085009</td>\n",
       "      <td>0.558295</td>\n",
       "      <td>0.001796</td>\n",
       "      <td>0.0</td>\n",
       "      <td>0.142208</td>\n",
       "      <td>0.0</td>\n",
       "      <td>0.000000</td>\n",
       "      <td>0.212691</td>\n",
       "      <td>642337</td>\n",
       "    </tr>\n",
       "    <tr>\n",
       "      <th>2</th>\n",
       "      <td>AK</td>\n",
       "      <td>2003</td>\n",
       "      <td>549665.00</td>\n",
       "      <td>1582537.00</td>\n",
       "      <td>3354483.00</td>\n",
       "      <td>0.0</td>\n",
       "      <td>846273.00</td>\n",
       "      <td>5780.00</td>\n",
       "      <td>0.0</td>\n",
       "      <td>0.00</td>\n",
       "      <td>...</td>\n",
       "      <td>6338738.00</td>\n",
       "      <td>0.086715</td>\n",
       "      <td>0.529204</td>\n",
       "      <td>0.000912</td>\n",
       "      <td>0.0</td>\n",
       "      <td>0.133508</td>\n",
       "      <td>0.0</td>\n",
       "      <td>0.000000</td>\n",
       "      <td>0.249661</td>\n",
       "      <td>648414</td>\n",
       "    </tr>\n",
       "    <tr>\n",
       "      <th>3</th>\n",
       "      <td>AK</td>\n",
       "      <td>2004</td>\n",
       "      <td>648979.71</td>\n",
       "      <td>1498020.01</td>\n",
       "      <td>3623432.59</td>\n",
       "      <td>0.0</td>\n",
       "      <td>747068.06</td>\n",
       "      <td>9216.55</td>\n",
       "      <td>0.0</td>\n",
       "      <td>0.00</td>\n",
       "      <td>...</td>\n",
       "      <td>6526716.92</td>\n",
       "      <td>0.099434</td>\n",
       "      <td>0.555169</td>\n",
       "      <td>0.001412</td>\n",
       "      <td>0.0</td>\n",
       "      <td>0.114463</td>\n",
       "      <td>0.0</td>\n",
       "      <td>0.000000</td>\n",
       "      <td>0.229521</td>\n",
       "      <td>659286</td>\n",
       "    </tr>\n",
       "    <tr>\n",
       "      <th>4</th>\n",
       "      <td>AK</td>\n",
       "      <td>2005</td>\n",
       "      <td>624317.77</td>\n",
       "      <td>1463942.01</td>\n",
       "      <td>3723625.63</td>\n",
       "      <td>0.0</td>\n",
       "      <td>758928.54</td>\n",
       "      <td>5255.58</td>\n",
       "      <td>0.0</td>\n",
       "      <td>589.01</td>\n",
       "      <td>...</td>\n",
       "      <td>6576658.54</td>\n",
       "      <td>0.094929</td>\n",
       "      <td>0.566188</td>\n",
       "      <td>0.000799</td>\n",
       "      <td>0.0</td>\n",
       "      <td>0.115397</td>\n",
       "      <td>0.0</td>\n",
       "      <td>0.000090</td>\n",
       "      <td>0.222597</td>\n",
       "      <td>666946</td>\n",
       "    </tr>\n",
       "  </tbody>\n",
       "</table>\n",
       "<p>5 rows × 22 columns</p>\n",
       "</div>"
      ],
      "text/plain": [
       "  State  Year       Coal       Hydro  Natural Gas  Nuclear      Other  \\\n",
       "0    AK  2001  564593.00  1345664.00   3895568.00      0.0  936990.00   \n",
       "1    AK  2002  575286.00  1439351.00   3778161.00      0.0  962369.00   \n",
       "2    AK  2003  549665.00  1582537.00   3354483.00      0.0  846273.00   \n",
       "3    AK  2004  648979.71  1498020.01   3623432.59      0.0  747068.06   \n",
       "4    AK  2005  624317.77  1463942.01   3723625.63      0.0  758928.54   \n",
       "\n",
       "   Other Renewables  Solar    Wind     ...       Total gen  percent Coal  \\\n",
       "0              0.00    0.0  951.00     ...      6743766.00      0.083721   \n",
       "1          12155.00    0.0    0.00     ...      6767322.00      0.085009   \n",
       "2           5780.00    0.0    0.00     ...      6338738.00      0.086715   \n",
       "3           9216.55    0.0    0.00     ...      6526716.92      0.099434   \n",
       "4           5255.58    0.0  589.01     ...      6576658.54      0.094929   \n",
       "\n",
       "   percent Natural Gas  percent Other Renewables  percent Nuclear  \\\n",
       "0             0.577655                  0.000000              0.0   \n",
       "1             0.558295                  0.001796              0.0   \n",
       "2             0.529204                  0.000912              0.0   \n",
       "3             0.555169                  0.001412              0.0   \n",
       "4             0.566188                  0.000799              0.0   \n",
       "\n",
       "   percent Other  percent Solar  percent Wind  percent Hydro  Population  \n",
       "0       0.138942            0.0      0.000141       0.199542      633714  \n",
       "1       0.142208            0.0      0.000000       0.212691      642337  \n",
       "2       0.133508            0.0      0.000000       0.249661      648414  \n",
       "3       0.114463            0.0      0.000000       0.229521      659286  \n",
       "4       0.115397            0.0      0.000090       0.222597      666946  \n",
       "\n",
       "[5 rows x 22 columns]"
      ]
     },
     "execution_count": 45,
     "metadata": {},
     "output_type": "execute_result"
    }
   ],
   "source": [
    "annual_gen_index_pop.head()"
   ]
  },
  {
   "cell_type": "code",
   "execution_count": 46,
   "metadata": {
    "ExecuteTime": {
     "end_time": "2017-08-07T16:49:43.531126Z",
     "start_time": "2017-08-07T16:49:43.521661Z"
    }
   },
   "outputs": [],
   "source": [
    "annual_gen_index_pop['tonne CO2/pop'] = (annual_gen_index_pop['final CO2 (kg)']\n",
    "                                         / 1000\n",
    "                                         / annual_gen_index_pop['Population'])\n",
    "annual_gen_index_pop['MWh/pop'] = (annual_gen_index_pop.loc[:, 'Coal':'Wind'].sum(axis=1)\n",
    "                                         / annual_gen_index_pop['Population'])"
   ]
  },
  {
   "cell_type": "code",
   "execution_count": 47,
   "metadata": {
    "ExecuteTime": {
     "end_time": "2017-08-07T16:49:44.342681Z",
     "start_time": "2017-08-07T16:49:44.265391Z"
    }
   },
   "outputs": [
    {
     "data": {
      "text/html": [
       "<div>\n",
       "<style>\n",
       "    .dataframe thead tr:only-child th {\n",
       "        text-align: right;\n",
       "    }\n",
       "\n",
       "    .dataframe thead th {\n",
       "        text-align: left;\n",
       "    }\n",
       "\n",
       "    .dataframe tbody tr th {\n",
       "        vertical-align: top;\n",
       "    }\n",
       "</style>\n",
       "<table border=\"1\" class=\"dataframe\">\n",
       "  <thead>\n",
       "    <tr style=\"text-align: right;\">\n",
       "      <th></th>\n",
       "      <th>Year</th>\n",
       "      <th>Coal</th>\n",
       "      <th>Hydro</th>\n",
       "      <th>Natural Gas</th>\n",
       "      <th>Nuclear</th>\n",
       "      <th>Other</th>\n",
       "      <th>Other Renewables</th>\n",
       "      <th>Solar</th>\n",
       "      <th>Wind</th>\n",
       "      <th>index (g/kWh)</th>\n",
       "      <th>...</th>\n",
       "      <th>percent Natural Gas</th>\n",
       "      <th>percent Other Renewables</th>\n",
       "      <th>percent Nuclear</th>\n",
       "      <th>percent Other</th>\n",
       "      <th>percent Solar</th>\n",
       "      <th>percent Wind</th>\n",
       "      <th>percent Hydro</th>\n",
       "      <th>Population</th>\n",
       "      <th>tonne CO2/pop</th>\n",
       "      <th>MWh/pop</th>\n",
       "    </tr>\n",
       "  </thead>\n",
       "  <tbody>\n",
       "    <tr>\n",
       "      <th>count</th>\n",
       "      <td>800.000000</td>\n",
       "      <td>8.000000e+02</td>\n",
       "      <td>8.000000e+02</td>\n",
       "      <td>8.000000e+02</td>\n",
       "      <td>8.000000e+02</td>\n",
       "      <td>8.000000e+02</td>\n",
       "      <td>8.000000e+02</td>\n",
       "      <td>8.000000e+02</td>\n",
       "      <td>8.000000e+02</td>\n",
       "      <td>800.000000</td>\n",
       "      <td>...</td>\n",
       "      <td>800.000000</td>\n",
       "      <td>800.000000</td>\n",
       "      <td>800.000000</td>\n",
       "      <td>800.000000</td>\n",
       "      <td>8.000000e+02</td>\n",
       "      <td>800.000000</td>\n",
       "      <td>800.000000</td>\n",
       "      <td>8.000000e+02</td>\n",
       "      <td>800.000000</td>\n",
       "      <td>800.000000</td>\n",
       "    </tr>\n",
       "    <tr>\n",
       "      <th>mean</th>\n",
       "      <td>2008.500000</td>\n",
       "      <td>3.550089e+07</td>\n",
       "      <td>5.322606e+06</td>\n",
       "      <td>1.895001e+07</td>\n",
       "      <td>1.579629e+07</td>\n",
       "      <td>1.626548e+06</td>\n",
       "      <td>1.434886e+06</td>\n",
       "      <td>1.819396e+05</td>\n",
       "      <td>1.716463e+06</td>\n",
       "      <td>556.785176</td>\n",
       "      <td>...</td>\n",
       "      <td>0.217832</td>\n",
       "      <td>0.022560</td>\n",
       "      <td>0.171222</td>\n",
       "      <td>0.035361</td>\n",
       "      <td>2.232265e-03</td>\n",
       "      <td>0.024889</td>\n",
       "      <td>0.097672</td>\n",
       "      <td>6.082017e+06</td>\n",
       "      <td>10.849586</td>\n",
       "      <td>16.850713</td>\n",
       "    </tr>\n",
       "    <tr>\n",
       "      <th>std</th>\n",
       "      <td>4.612656</td>\n",
       "      <td>3.516025e+07</td>\n",
       "      <td>1.248921e+07</td>\n",
       "      <td>3.530107e+07</td>\n",
       "      <td>2.040010e+07</td>\n",
       "      <td>4.144479e+06</td>\n",
       "      <td>2.725588e+06</td>\n",
       "      <td>1.388029e+06</td>\n",
       "      <td>4.585832e+06</td>\n",
       "      <td>246.924591</td>\n",
       "      <td>...</td>\n",
       "      <td>0.226154</td>\n",
       "      <td>0.037475</td>\n",
       "      <td>0.180872</td>\n",
       "      <td>0.111552</td>\n",
       "      <td>1.016451e-02</td>\n",
       "      <td>0.050563</td>\n",
       "      <td>0.179955</td>\n",
       "      <td>6.718427e+06</td>\n",
       "      <td>13.640086</td>\n",
       "      <td>13.066728</td>\n",
       "    </tr>\n",
       "    <tr>\n",
       "      <th>min</th>\n",
       "      <td>2001.000000</td>\n",
       "      <td>0.000000e+00</td>\n",
       "      <td>0.000000e+00</td>\n",
       "      <td>-5.114000e+01</td>\n",
       "      <td>0.000000e+00</td>\n",
       "      <td>-9.925681e+05</td>\n",
       "      <td>-8.372700e+02</td>\n",
       "      <td>-5.000000e+00</td>\n",
       "      <td>0.000000e+00</td>\n",
       "      <td>0.577423</td>\n",
       "      <td>...</td>\n",
       "      <td>-0.000002</td>\n",
       "      <td>-0.000012</td>\n",
       "      <td>0.000000</td>\n",
       "      <td>-0.009830</td>\n",
       "      <td>-1.341994e-08</td>\n",
       "      <td>0.000000</td>\n",
       "      <td>0.000000</td>\n",
       "      <td>4.946570e+05</td>\n",
       "      <td>0.001609</td>\n",
       "      <td>2.780122</td>\n",
       "    </tr>\n",
       "    <tr>\n",
       "      <th>10%</th>\n",
       "      <td>2002.000000</td>\n",
       "      <td>6.239303e+05</td>\n",
       "      <td>3.198400e+04</td>\n",
       "      <td>2.864023e+05</td>\n",
       "      <td>0.000000e+00</td>\n",
       "      <td>4.696173e+03</td>\n",
       "      <td>5.576302e+03</td>\n",
       "      <td>0.000000e+00</td>\n",
       "      <td>0.000000e+00</td>\n",
       "      <td>214.701545</td>\n",
       "      <td>...</td>\n",
       "      <td>0.006596</td>\n",
       "      <td>0.000142</td>\n",
       "      <td>0.000000</td>\n",
       "      <td>0.000274</td>\n",
       "      <td>0.000000e+00</td>\n",
       "      <td>0.000000</td>\n",
       "      <td>0.000670</td>\n",
       "      <td>8.438739e+05</td>\n",
       "      <td>1.971700</td>\n",
       "      <td>7.319306</td>\n",
       "    </tr>\n",
       "    <tr>\n",
       "      <th>25%</th>\n",
       "      <td>2004.750000</td>\n",
       "      <td>4.274905e+06</td>\n",
       "      <td>5.544425e+05</td>\n",
       "      <td>1.767547e+06</td>\n",
       "      <td>0.000000e+00</td>\n",
       "      <td>6.290603e+04</td>\n",
       "      <td>1.045773e+05</td>\n",
       "      <td>0.000000e+00</td>\n",
       "      <td>0.000000e+00</td>\n",
       "      <td>412.240404</td>\n",
       "      <td>...</td>\n",
       "      <td>0.031917</td>\n",
       "      <td>0.002519</td>\n",
       "      <td>0.000000</td>\n",
       "      <td>0.001672</td>\n",
       "      <td>0.000000e+00</td>\n",
       "      <td>0.000000</td>\n",
       "      <td>0.008905</td>\n",
       "      <td>1.800205e+06</td>\n",
       "      <td>3.964499</td>\n",
       "      <td>9.959396</td>\n",
       "    </tr>\n",
       "    <tr>\n",
       "      <th>50%</th>\n",
       "      <td>2008.500000</td>\n",
       "      <td>2.838778e+07</td>\n",
       "      <td>1.425966e+06</td>\n",
       "      <td>6.750136e+06</td>\n",
       "      <td>9.341989e+06</td>\n",
       "      <td>4.325305e+05</td>\n",
       "      <td>7.226318e+05</td>\n",
       "      <td>0.000000e+00</td>\n",
       "      <td>6.193089e+04</td>\n",
       "      <td>554.814920</td>\n",
       "      <td>...</td>\n",
       "      <td>0.140771</td>\n",
       "      <td>0.013738</td>\n",
       "      <td>0.126436</td>\n",
       "      <td>0.006010</td>\n",
       "      <td>0.000000e+00</td>\n",
       "      <td>0.001618</td>\n",
       "      <td>0.023205</td>\n",
       "      <td>4.353254e+06</td>\n",
       "      <td>7.777610</td>\n",
       "      <td>14.516478</td>\n",
       "    </tr>\n",
       "    <tr>\n",
       "      <th>max</th>\n",
       "      <td>2016.000000</td>\n",
       "      <td>1.578965e+08</td>\n",
       "      <td>9.181770e+07</td>\n",
       "      <td>2.377314e+08</td>\n",
       "      <td>9.824031e+07</td>\n",
       "      <td>4.362692e+07</td>\n",
       "      <td>1.911608e+07</td>\n",
       "      <td>2.743193e+07</td>\n",
       "      <td>5.755051e+07</td>\n",
       "      <td>1113.788927</td>\n",
       "      <td>...</td>\n",
       "      <td>0.989443</td>\n",
       "      <td>0.274104</td>\n",
       "      <td>0.807704</td>\n",
       "      <td>0.827508</td>\n",
       "      <td>1.322405e-01</td>\n",
       "      <td>0.366584</td>\n",
       "      <td>0.896023</td>\n",
       "      <td>3.925002e+07</td>\n",
       "      <td>96.746995</td>\n",
       "      <td>90.521185</td>\n",
       "    </tr>\n",
       "  </tbody>\n",
       "</table>\n",
       "<p>8 rows × 23 columns</p>\n",
       "</div>"
      ],
      "text/plain": [
       "              Year          Coal         Hydro   Natural Gas       Nuclear  \\\n",
       "count   800.000000  8.000000e+02  8.000000e+02  8.000000e+02  8.000000e+02   \n",
       "mean   2008.500000  3.550089e+07  5.322606e+06  1.895001e+07  1.579629e+07   \n",
       "std       4.612656  3.516025e+07  1.248921e+07  3.530107e+07  2.040010e+07   \n",
       "min    2001.000000  0.000000e+00  0.000000e+00 -5.114000e+01  0.000000e+00   \n",
       "10%    2002.000000  6.239303e+05  3.198400e+04  2.864023e+05  0.000000e+00   \n",
       "25%    2004.750000  4.274905e+06  5.544425e+05  1.767547e+06  0.000000e+00   \n",
       "50%    2008.500000  2.838778e+07  1.425966e+06  6.750136e+06  9.341989e+06   \n",
       "max    2016.000000  1.578965e+08  9.181770e+07  2.377314e+08  9.824031e+07   \n",
       "\n",
       "              Other  Other Renewables         Solar          Wind  \\\n",
       "count  8.000000e+02      8.000000e+02  8.000000e+02  8.000000e+02   \n",
       "mean   1.626548e+06      1.434886e+06  1.819396e+05  1.716463e+06   \n",
       "std    4.144479e+06      2.725588e+06  1.388029e+06  4.585832e+06   \n",
       "min   -9.925681e+05     -8.372700e+02 -5.000000e+00  0.000000e+00   \n",
       "10%    4.696173e+03      5.576302e+03  0.000000e+00  0.000000e+00   \n",
       "25%    6.290603e+04      1.045773e+05  0.000000e+00  0.000000e+00   \n",
       "50%    4.325305e+05      7.226318e+05  0.000000e+00  6.193089e+04   \n",
       "max    4.362692e+07      1.911608e+07  2.743193e+07  5.755051e+07   \n",
       "\n",
       "       index (g/kWh)     ...      percent Natural Gas  \\\n",
       "count     800.000000     ...               800.000000   \n",
       "mean      556.785176     ...                 0.217832   \n",
       "std       246.924591     ...                 0.226154   \n",
       "min         0.577423     ...                -0.000002   \n",
       "10%       214.701545     ...                 0.006596   \n",
       "25%       412.240404     ...                 0.031917   \n",
       "50%       554.814920     ...                 0.140771   \n",
       "max      1113.788927     ...                 0.989443   \n",
       "\n",
       "       percent Other Renewables  percent Nuclear  percent Other  \\\n",
       "count                800.000000       800.000000     800.000000   \n",
       "mean                   0.022560         0.171222       0.035361   \n",
       "std                    0.037475         0.180872       0.111552   \n",
       "min                   -0.000012         0.000000      -0.009830   \n",
       "10%                    0.000142         0.000000       0.000274   \n",
       "25%                    0.002519         0.000000       0.001672   \n",
       "50%                    0.013738         0.126436       0.006010   \n",
       "max                    0.274104         0.807704       0.827508   \n",
       "\n",
       "       percent Solar  percent Wind  percent Hydro    Population  \\\n",
       "count   8.000000e+02    800.000000     800.000000  8.000000e+02   \n",
       "mean    2.232265e-03      0.024889       0.097672  6.082017e+06   \n",
       "std     1.016451e-02      0.050563       0.179955  6.718427e+06   \n",
       "min    -1.341994e-08      0.000000       0.000000  4.946570e+05   \n",
       "10%     0.000000e+00      0.000000       0.000670  8.438739e+05   \n",
       "25%     0.000000e+00      0.000000       0.008905  1.800205e+06   \n",
       "50%     0.000000e+00      0.001618       0.023205  4.353254e+06   \n",
       "max     1.322405e-01      0.366584       0.896023  3.925002e+07   \n",
       "\n",
       "       tonne CO2/pop     MWh/pop  \n",
       "count     800.000000  800.000000  \n",
       "mean       10.849586   16.850713  \n",
       "std        13.640086   13.066728  \n",
       "min         0.001609    2.780122  \n",
       "10%         1.971700    7.319306  \n",
       "25%         3.964499    9.959396  \n",
       "50%         7.777610   14.516478  \n",
       "max        96.746995   90.521185  \n",
       "\n",
       "[8 rows x 23 columns]"
      ]
     },
     "execution_count": 47,
     "metadata": {},
     "output_type": "execute_result"
    }
   ],
   "source": [
    "annual_gen_index_pop.describe(percentiles=[.1, .25])"
   ]
  },
  {
   "cell_type": "code",
   "execution_count": 197,
   "metadata": {
    "ExecuteTime": {
     "end_time": "2017-08-04T19:26:09.464338Z",
     "start_time": "2017-08-04T19:26:07.882134Z"
    }
   },
   "outputs": [
    {
     "data": {
      "text/plain": [
       "(-1, 53)"
      ]
     },
     "execution_count": 197,
     "metadata": {},
     "output_type": "execute_result"
    },
    {
     "data": {
      "text/plain": [
       "<matplotlib.text.Text at 0x14a9dbbe0>"
      ]
     },
     "execution_count": 197,
     "metadata": {},
     "output_type": "execute_result"
    },
    {
     "data": {
      "image/png": "[encoded data removed]",
      "text/plain": [
       "<matplotlib.figure.Figure at 0x14a9db828>"
      ]
     },
     "metadata": {},
     "output_type": "display_data"
    }
   ],
   "source": [
    "barbell_pop = annual_gen_index_pop.pivot_table(values='MWh/pop',\n",
    "                                              index='State', columns='Year')\n",
    "barbell_pop.sort_values(by=2016, inplace=True)\n",
    "# barbell_pop.drop('VT', inplace=True)\n",
    "\n",
    "# data = [barbell_pop[year] for year in [2001, 2008, 2016]]\n",
    "states_pop = list(barbell_pop.index)\n",
    "# rps_states = list(rps_tidy['State'].unique())\n",
    "\n",
    "dumbell_plot(barbell_pop, [2001, 2008, 2016], states_pop, offset_divider=30,\n",
    "             rps_start=rps_start, legend=False, palette='colorblind')\n",
    "\n",
    "# plt.vlines(456, -1, 50, colors=['0.5'], zorder=1, #linestyles='dashed',\n",
    "#            linewidth=1)\n",
    "plt.ylim(-1, 53)\n",
    "# plt.text(x=240, y=40, s='2016\\nNational Average\\n(456 g/kWh)', ha='center')\n",
    "sns.despine(left=True)\n",
    "plt.xlabel('MWh/capita/year')\n",
    "# ax = plt.gca()\n",
    "# ax.set_xscale(\"log\", nonposx='clip')"
   ]
  },
  {
   "cell_type": "code",
   "execution_count": 48,
   "metadata": {
    "ExecuteTime": {
     "end_time": "2017-08-07T16:50:00.926166Z",
     "start_time": "2017-08-07T16:49:59.530211Z"
    }
   },
   "outputs": [
    {
     "data": {
      "text/plain": [
       "(-1, 53)"
      ]
     },
     "execution_count": 48,
     "metadata": {},
     "output_type": "execute_result"
    },
    {
     "data": {
      "text/plain": [
       "<matplotlib.text.Text at 0x11a02e048>"
      ]
     },
     "execution_count": 48,
     "metadata": {},
     "output_type": "execute_result"
    },
    {
     "data": {
      "image/png": "[encoded data removed]",
      "text/plain": [
       "<matplotlib.figure.Figure at 0x119f5e0b8>"
      ]
     },
     "metadata": {},
     "output_type": "display_data"
    }
   ],
   "source": [
    "barbell_pop = annual_gen_index_pop.pivot_table(values='tonne CO2/pop',\n",
    "                                              index='State', columns='Year')\n",
    "barbell_pop.sort_values(by=2016, inplace=True)\n",
    "# barbell_pop.drop('VT', inplace=True)\n",
    "\n",
    "# data = [barbell_pop[year] for year in [2001, 2008, 2016]]\n",
    "states_pop = list(barbell_pop.index)\n",
    "# rps_states = list(rps_tidy['State'].unique())\n",
    "\n",
    "dumbell_plot(barbell_pop, [2001, 2008, 2016], states_pop, offset_divider=30,\n",
    "             rps_start=rps_start, legend=False, palette='colorblind')\n",
    "\n",
    "# plt.vlines(456, -1, 50, colors=['0.5'], zorder=1, #linestyles='dashed',\n",
    "#            linewidth=1)\n",
    "plt.ylim(-1, 53)\n",
    "# plt.text(x=240, y=40, s='2016\\nNational Average\\n(456 g/kWh)', ha='center')\n",
    "sns.despine(left=True)\n",
    "plt.xlabel('tonne CO2/capita')\n",
    "# ax = plt.gca()\n",
    "# ax.set_xscale(\"log\", nonposx='clip')"
   ]
  },
  {
   "cell_type": "code",
   "execution_count": 71,
   "metadata": {
    "ExecuteTime": {
     "end_time": "2017-08-07T17:10:08.104398Z",
     "start_time": "2017-08-07T17:10:05.699815Z"
    }
   },
   "outputs": [
    {
     "data": {
      "text/plain": [
       "(-1, 53)"
      ]
     },
     "execution_count": 71,
     "metadata": {},
     "output_type": "execute_result"
    },
    {
     "data": {
      "text/plain": [
       "(-1.5040565353615745, 25)"
      ]
     },
     "execution_count": 71,
     "metadata": {},
     "output_type": "execute_result"
    },
    {
     "data": {
      "text/plain": [
       "<matplotlib.text.Text at 0x12dc018d0>"
      ]
     },
     "execution_count": 71,
     "metadata": {},
     "output_type": "execute_result"
    },
    {
     "data": {
      "image/png": "[encoded data removed]",
      "text/plain": [
       "<matplotlib.figure.Figure at 0x12db8c080>"
      ]
     },
     "metadata": {},
     "output_type": "display_data"
    }
   ],
   "source": [
    "barbell_pop = annual_gen_index_pop.pivot_table(values='tonne CO2/pop',\n",
    "                                              index='State', columns='Year')\n",
    "barbell_pop.sort_values(by=2016, inplace=True)\n",
    "barbell_pop.drop(['WY', 'ND', 'WV'], inplace=True)\n",
    "\n",
    "# states_pop = ['{}  '.format(x) for x in barbell_pop.index]\n",
    "states_pop = list(barbell_pop.index)\n",
    "# rps_states = list(rps_tidy['State'].unique())\n",
    "\n",
    "dumbell_plot(barbell_pop, [2001, 2008, 2016], states_pop, offset_divider=30,\n",
    "             rps_start=rps_start, legend=False, palette='colorblind')\n",
    "\n",
    "plt.ylim(-1, 53)\n",
    "plt.xlim(None, 25)\n",
    "\n",
    "sns.despine(left=True)\n",
    "plt.xlabel('Tonne CO$_2$/Capita')\n",
    "# plt.tight_layout()\n",
    "# ax = plt.gca()\n",
    "# ax.set_xscale(\"log\", nonposx='clip')"
   ]
  },
  {
   "cell_type": "code",
   "execution_count": 75,
   "metadata": {
    "ExecuteTime": {
     "end_time": "2017-08-07T17:22:13.518132Z",
     "start_time": "2017-08-07T17:22:13.178038Z"
    }
   },
   "outputs": [
    {
     "data": {
      "text/plain": [
       "(-1, 53)"
      ]
     },
     "execution_count": 75,
     "metadata": {},
     "output_type": "execute_result"
    },
    {
     "data": {
      "text/plain": [
       "<matplotlib.text.Text at 0x12e1a3a20>"
      ]
     },
     "execution_count": 75,
     "metadata": {},
     "output_type": "execute_result"
    },
    {
     "data": {
      "image/png": "[encoded data removed]",
      "text/plain": [
       "<matplotlib.figure.Figure at 0x12d3febe0>"
      ]
     },
     "metadata": {},
     "output_type": "display_data"
    }
   ],
   "source": [
    "barbell_pop = annual_gen_index_pop.pivot_table(values='tonne CO2/pop',\n",
    "                                              index='State', columns='Year')\n",
    "barbell_pop.sort_values(by=2016, inplace=True)\n",
    "barbell_pop = barbell_pop.loc[['WV', 'ND', 'WY']]\n",
    "\n",
    "states_pop = ['WY', 'ND', 'WV']\n",
    "# rps_states = list(rps_tidy['State'].unique())\n",
    "\n",
    "dumbell_plot(barbell_pop, [2001, 2008, 2016], states_pop, offset_divider=30,\n",
    "             rps_start=rps_start, legend=False, palette='colorblind',\n",
    "             figsize=(2.5, 9))\n",
    "\n",
    "plt.ylim(-1, 53)\n",
    "# plt.xlim(None, 25)\n",
    "\n",
    "sns.despine(left=True)\n",
    "plt.xlabel('Tonne CO$_2$/Capita')\n",
    "# plt.tight_layout()\n",
    "# ax = plt.gca()\n",
    "# ax.set_xscale(\"log\", nonposx='clip')"
   ]
  },
  {
   "cell_type": "markdown",
   "metadata": {},
   "source": [
    "## State electricity imports/exports\n",
    "Data is from [EIA State Energy Data System](https://www.eia.gov/state/seds/seds-data-complete.php?sid=US#Consumption). 2016 Estimates will be available in October 2017. Code are described in [EIA documentation](https://www.eia.gov/state/seds/sep_use/notes/use_a.pdf). Negative values indicate flows out of the state."
   ]
  },
  {
   "cell_type": "code",
   "execution_count": 152,
   "metadata": {
    "ExecuteTime": {
     "end_time": "2017-08-07T19:19:16.120342Z",
     "start_time": "2017-08-07T19:19:14.563905Z"
    }
   },
   "outputs": [],
   "source": [
    "path = os.path.join('Data storage', 'State energy flows', 'use_all_phy.csv')\n",
    "flows = pd.read_csv(path)\n",
    "flows = flows.loc[flows['MSN'] == 'ELISP']\n",
    "flows.drop([str(x) for x in range(1960, 2001)], axis=1, inplace=True)\n",
    "flows.drop(['Data_Status', 'MSN'], axis=1, inplace=True)\n",
    "\n",
    "# Electricity flows are given in million kWh (see documentation)\n",
    "flows.loc[:, '2001':] *= 1000"
   ]
  },
  {
   "cell_type": "code",
   "execution_count": 153,
   "metadata": {
    "ExecuteTime": {
     "end_time": "2017-08-07T19:19:17.113772Z",
     "start_time": "2017-08-07T19:19:17.107075Z"
    }
   },
   "outputs": [],
   "source": [
    "flows = flows.melt(id_vars='State', var_name='Year',\n",
    "                   value_name='MWh flow')\n",
    "flows['Year'] = flows['Year'].astype(int)"
   ]
  },
  {
   "cell_type": "code",
   "execution_count": 154,
   "metadata": {
    "ExecuteTime": {
     "end_time": "2017-08-07T19:19:17.950714Z",
     "start_time": "2017-08-07T19:19:17.939327Z"
    }
   },
   "outputs": [
    {
     "data": {
      "text/html": [
       "<div>\n",
       "<style>\n",
       "    .dataframe thead tr:only-child th {\n",
       "        text-align: right;\n",
       "    }\n",
       "\n",
       "    .dataframe thead th {\n",
       "        text-align: left;\n",
       "    }\n",
       "\n",
       "    .dataframe tbody tr th {\n",
       "        vertical-align: top;\n",
       "    }\n",
       "</style>\n",
       "<table border=\"1\" class=\"dataframe\">\n",
       "  <thead>\n",
       "    <tr style=\"text-align: right;\">\n",
       "      <th></th>\n",
       "      <th>State</th>\n",
       "      <th>Year</th>\n",
       "      <th>MWh flow</th>\n",
       "    </tr>\n",
       "  </thead>\n",
       "  <tbody>\n",
       "    <tr>\n",
       "      <th>0</th>\n",
       "      <td>AK</td>\n",
       "      <td>2001</td>\n",
       "      <td>0</td>\n",
       "    </tr>\n",
       "    <tr>\n",
       "      <th>1</th>\n",
       "      <td>AL</td>\n",
       "      <td>2001</td>\n",
       "      <td>-35006000</td>\n",
       "    </tr>\n",
       "    <tr>\n",
       "      <th>2</th>\n",
       "      <td>AR</td>\n",
       "      <td>2001</td>\n",
       "      <td>-666000</td>\n",
       "    </tr>\n",
       "    <tr>\n",
       "      <th>3</th>\n",
       "      <td>AZ</td>\n",
       "      <td>2001</td>\n",
       "      <td>-23621000</td>\n",
       "    </tr>\n",
       "    <tr>\n",
       "      <th>4</th>\n",
       "      <td>CA</td>\n",
       "      <td>2001</td>\n",
       "      <td>75510000</td>\n",
       "    </tr>\n",
       "  </tbody>\n",
       "</table>\n",
       "</div>"
      ],
      "text/plain": [
       "  State  Year  MWh flow\n",
       "0    AK  2001         0\n",
       "1    AL  2001 -35006000\n",
       "2    AR  2001   -666000\n",
       "3    AZ  2001 -23621000\n",
       "4    CA  2001  75510000"
      ]
     },
     "execution_count": 154,
     "metadata": {},
     "output_type": "execute_result"
    }
   ],
   "source": [
    "flows.head()"
   ]
  },
  {
   "cell_type": "code",
   "execution_count": 179,
   "metadata": {
    "ExecuteTime": {
     "end_time": "2017-08-07T19:42:12.070326Z",
     "start_time": "2017-08-07T19:42:12.053831Z"
    }
   },
   "outputs": [],
   "source": [
    "annual_gen_index_pop_flows = pd.merge(annual_gen_index_pop, flows, on=['State', 'Year'])\n",
    "annual_gen_index_pop_flows['MWh flow/pop'] = (annual_gen_index_pop_flows['MWh flow']\n",
    "                                          / annual_gen_index_pop_flows['Population'])\n",
    "annual_gen_index_pop_flows['share flow'] = (annual_gen_index_pop_flows['MWh/pop']\n",
    "                                          / annual_gen_index_pop_flows['MWh flow/pop'])"
   ]
  },
  {
   "cell_type": "code",
   "execution_count": 180,
   "metadata": {
    "ExecuteTime": {
     "end_time": "2017-08-07T19:42:13.342400Z",
     "start_time": "2017-08-07T19:42:13.311225Z"
    }
   },
   "outputs": [
    {
     "data": {
      "text/html": [
       "<div>\n",
       "<style>\n",
       "    .dataframe thead tr:only-child th {\n",
       "        text-align: right;\n",
       "    }\n",
       "\n",
       "    .dataframe thead th {\n",
       "        text-align: left;\n",
       "    }\n",
       "\n",
       "    .dataframe tbody tr th {\n",
       "        vertical-align: top;\n",
       "    }\n",
       "</style>\n",
       "<table border=\"1\" class=\"dataframe\">\n",
       "  <thead>\n",
       "    <tr style=\"text-align: right;\">\n",
       "      <th></th>\n",
       "      <th>State</th>\n",
       "      <th>Year</th>\n",
       "      <th>Coal</th>\n",
       "      <th>Hydro</th>\n",
       "      <th>Natural Gas</th>\n",
       "      <th>Nuclear</th>\n",
       "      <th>Other</th>\n",
       "      <th>Other Renewables</th>\n",
       "      <th>Solar</th>\n",
       "      <th>Wind</th>\n",
       "      <th>...</th>\n",
       "      <th>percent Other</th>\n",
       "      <th>percent Solar</th>\n",
       "      <th>percent Wind</th>\n",
       "      <th>percent Hydro</th>\n",
       "      <th>Population</th>\n",
       "      <th>tonne CO2/pop</th>\n",
       "      <th>MWh/pop</th>\n",
       "      <th>MWh flow</th>\n",
       "      <th>MWh flow/pop</th>\n",
       "      <th>share flow</th>\n",
       "    </tr>\n",
       "  </thead>\n",
       "  <tbody>\n",
       "    <tr>\n",
       "      <th>0</th>\n",
       "      <td>AK</td>\n",
       "      <td>2001</td>\n",
       "      <td>564593.00</td>\n",
       "      <td>1345664.00</td>\n",
       "      <td>3895568.00</td>\n",
       "      <td>0.0</td>\n",
       "      <td>936990.00</td>\n",
       "      <td>0.00</td>\n",
       "      <td>0.0</td>\n",
       "      <td>951.00</td>\n",
       "      <td>...</td>\n",
       "      <td>0.138942</td>\n",
       "      <td>0.0</td>\n",
       "      <td>0.000141</td>\n",
       "      <td>0.199542</td>\n",
       "      <td>633714</td>\n",
       "      <td>6.614979</td>\n",
       "      <td>10.641655</td>\n",
       "      <td>0</td>\n",
       "      <td>0.0</td>\n",
       "      <td>inf</td>\n",
       "    </tr>\n",
       "    <tr>\n",
       "      <th>1</th>\n",
       "      <td>AK</td>\n",
       "      <td>2002</td>\n",
       "      <td>575286.00</td>\n",
       "      <td>1439351.00</td>\n",
       "      <td>3778161.00</td>\n",
       "      <td>0.0</td>\n",
       "      <td>962369.00</td>\n",
       "      <td>12155.00</td>\n",
       "      <td>0.0</td>\n",
       "      <td>0.00</td>\n",
       "      <td>...</td>\n",
       "      <td>0.142208</td>\n",
       "      <td>0.0</td>\n",
       "      <td>0.000000</td>\n",
       "      <td>0.212691</td>\n",
       "      <td>642337</td>\n",
       "      <td>5.961621</td>\n",
       "      <td>10.535470</td>\n",
       "      <td>0</td>\n",
       "      <td>0.0</td>\n",
       "      <td>inf</td>\n",
       "    </tr>\n",
       "    <tr>\n",
       "      <th>2</th>\n",
       "      <td>AK</td>\n",
       "      <td>2003</td>\n",
       "      <td>549665.00</td>\n",
       "      <td>1582537.00</td>\n",
       "      <td>3354483.00</td>\n",
       "      <td>0.0</td>\n",
       "      <td>846273.00</td>\n",
       "      <td>5780.00</td>\n",
       "      <td>0.0</td>\n",
       "      <td>0.00</td>\n",
       "      <td>...</td>\n",
       "      <td>0.133508</td>\n",
       "      <td>0.0</td>\n",
       "      <td>0.000000</td>\n",
       "      <td>0.249661</td>\n",
       "      <td>648414</td>\n",
       "      <td>5.358724</td>\n",
       "      <td>9.775757</td>\n",
       "      <td>0</td>\n",
       "      <td>0.0</td>\n",
       "      <td>inf</td>\n",
       "    </tr>\n",
       "    <tr>\n",
       "      <th>3</th>\n",
       "      <td>AK</td>\n",
       "      <td>2004</td>\n",
       "      <td>648979.71</td>\n",
       "      <td>1498020.01</td>\n",
       "      <td>3623432.59</td>\n",
       "      <td>0.0</td>\n",
       "      <td>747068.06</td>\n",
       "      <td>9216.55</td>\n",
       "      <td>0.0</td>\n",
       "      <td>0.00</td>\n",
       "      <td>...</td>\n",
       "      <td>0.114463</td>\n",
       "      <td>0.0</td>\n",
       "      <td>0.000000</td>\n",
       "      <td>0.229521</td>\n",
       "      <td>659286</td>\n",
       "      <td>5.296748</td>\n",
       "      <td>9.899675</td>\n",
       "      <td>0</td>\n",
       "      <td>0.0</td>\n",
       "      <td>inf</td>\n",
       "    </tr>\n",
       "    <tr>\n",
       "      <th>4</th>\n",
       "      <td>AK</td>\n",
       "      <td>2005</td>\n",
       "      <td>624317.77</td>\n",
       "      <td>1463942.01</td>\n",
       "      <td>3723625.63</td>\n",
       "      <td>0.0</td>\n",
       "      <td>758928.54</td>\n",
       "      <td>5255.58</td>\n",
       "      <td>0.0</td>\n",
       "      <td>589.01</td>\n",
       "      <td>...</td>\n",
       "      <td>0.115397</td>\n",
       "      <td>0.0</td>\n",
       "      <td>0.000090</td>\n",
       "      <td>0.222597</td>\n",
       "      <td>666946</td>\n",
       "      <td>5.294897</td>\n",
       "      <td>9.860856</td>\n",
       "      <td>0</td>\n",
       "      <td>0.0</td>\n",
       "      <td>inf</td>\n",
       "    </tr>\n",
       "  </tbody>\n",
       "</table>\n",
       "<p>5 rows × 27 columns</p>\n",
       "</div>"
      ],
      "text/plain": [
       "  State  Year       Coal       Hydro  Natural Gas  Nuclear      Other  \\\n",
       "0    AK  2001  564593.00  1345664.00   3895568.00      0.0  936990.00   \n",
       "1    AK  2002  575286.00  1439351.00   3778161.00      0.0  962369.00   \n",
       "2    AK  2003  549665.00  1582537.00   3354483.00      0.0  846273.00   \n",
       "3    AK  2004  648979.71  1498020.01   3623432.59      0.0  747068.06   \n",
       "4    AK  2005  624317.77  1463942.01   3723625.63      0.0  758928.54   \n",
       "\n",
       "   Other Renewables  Solar    Wind     ...      percent Other  percent Solar  \\\n",
       "0              0.00    0.0  951.00     ...           0.138942            0.0   \n",
       "1          12155.00    0.0    0.00     ...           0.142208            0.0   \n",
       "2           5780.00    0.0    0.00     ...           0.133508            0.0   \n",
       "3           9216.55    0.0    0.00     ...           0.114463            0.0   \n",
       "4           5255.58    0.0  589.01     ...           0.115397            0.0   \n",
       "\n",
       "   percent Wind  percent Hydro  Population  tonne CO2/pop    MWh/pop  \\\n",
       "0      0.000141       0.199542      633714       6.614979  10.641655   \n",
       "1      0.000000       0.212691      642337       5.961621  10.535470   \n",
       "2      0.000000       0.249661      648414       5.358724   9.775757   \n",
       "3      0.000000       0.229521      659286       5.296748   9.899675   \n",
       "4      0.000090       0.222597      666946       5.294897   9.860856   \n",
       "\n",
       "   MWh flow  MWh flow/pop  share flow  \n",
       "0         0           0.0         inf  \n",
       "1         0           0.0         inf  \n",
       "2         0           0.0         inf  \n",
       "3         0           0.0         inf  \n",
       "4         0           0.0         inf  \n",
       "\n",
       "[5 rows x 27 columns]"
      ]
     },
     "execution_count": 180,
     "metadata": {},
     "output_type": "execute_result"
    }
   ],
   "source": [
    "annual_gen_index_pop_flows.head()"
   ]
  },
  {
   "cell_type": "code",
   "execution_count": 185,
   "metadata": {
    "ExecuteTime": {
     "end_time": "2017-08-07T19:44:08.891307Z",
     "start_time": "2017-08-07T19:44:07.522160Z"
    }
   },
   "outputs": [
    {
     "data": {
      "text/plain": [
       "(-1, 53)"
      ]
     },
     "execution_count": 185,
     "metadata": {},
     "output_type": "execute_result"
    },
    {
     "data": {
      "text/plain": [
       "<matplotlib.text.Text at 0x13d1934a8>"
      ]
     },
     "execution_count": 185,
     "metadata": {},
     "output_type": "execute_result"
    },
    {
     "data": {
      "text/plain": [
       "<matplotlib.collections.LineCollection at 0x13d7e76d8>"
      ]
     },
     "execution_count": 185,
     "metadata": {},
     "output_type": "execute_result"
    },
    {
     "data": {
      "image/png": "[encoded data removed]",
      "text/plain": [
       "<matplotlib.figure.Figure at 0x13d1c1278>"
      ]
     },
     "metadata": {},
     "output_type": "display_data"
    }
   ],
   "source": [
    "barbell_flows = annual_gen_index_pop_flows.pivot_table(values='MWh flow/pop',\n",
    "                                              index='State', columns='Year')\n",
    "barbell_flows.sort_values(by=2015, ascending=False, inplace=True)\n",
    "# barbell_flows.drop('VT', inplace=True)\n",
    "\n",
    "states_flows = list(barbell_flows.index)\n",
    "\n",
    "dumbell_plot(barbell_flows, [2001, 2008, 2015], states_flows, offset_divider=8,\n",
    "             rps_start=rps_start, legend=True, palette='colorblind',\n",
    "             legend_loc=[-20, -40, -60])\n",
    "\n",
    "plt.ylim(-1, 53)\n",
    "sns.despine(left=True)\n",
    "plt.xlabel('MWh flow/Capita')\n",
    "plt.vlines(0, -1, 53, colors=['0.5'], linewidth=1)\n",
    "# plt.xticks()\n",
    "# ax = plt.gca()\n",
    "# ax.set_xscale(\"log\", nonposx='clip')"
   ]
  },
  {
   "cell_type": "code",
   "execution_count": 186,
   "metadata": {
    "ExecuteTime": {
     "end_time": "2017-08-07T19:44:17.713792Z",
     "start_time": "2017-08-07T19:44:17.633935Z"
    }
   },
   "outputs": [
    {
     "data": {
      "text/html": [
       "<div>\n",
       "<style>\n",
       "    .dataframe thead tr:only-child th {\n",
       "        text-align: right;\n",
       "    }\n",
       "\n",
       "    .dataframe thead th {\n",
       "        text-align: left;\n",
       "    }\n",
       "\n",
       "    .dataframe tbody tr th {\n",
       "        vertical-align: top;\n",
       "    }\n",
       "</style>\n",
       "<table border=\"1\" class=\"dataframe\">\n",
       "  <thead>\n",
       "    <tr style=\"text-align: right;\">\n",
       "      <th></th>\n",
       "      <th>Year</th>\n",
       "      <th>Coal</th>\n",
       "      <th>Hydro</th>\n",
       "      <th>Natural Gas</th>\n",
       "      <th>Nuclear</th>\n",
       "      <th>Other</th>\n",
       "      <th>Other Renewables</th>\n",
       "      <th>Solar</th>\n",
       "      <th>Wind</th>\n",
       "      <th>index (g/kWh)</th>\n",
       "      <th>...</th>\n",
       "      <th>percent Other</th>\n",
       "      <th>percent Solar</th>\n",
       "      <th>percent Wind</th>\n",
       "      <th>percent Hydro</th>\n",
       "      <th>Population</th>\n",
       "      <th>tonne CO2/pop</th>\n",
       "      <th>MWh/pop</th>\n",
       "      <th>MWh flow</th>\n",
       "      <th>MWh flow/pop</th>\n",
       "      <th>share flow</th>\n",
       "    </tr>\n",
       "  </thead>\n",
       "  <tbody>\n",
       "    <tr>\n",
       "      <th>count</th>\n",
       "      <td>750.000000</td>\n",
       "      <td>7.500000e+02</td>\n",
       "      <td>7.500000e+02</td>\n",
       "      <td>7.500000e+02</td>\n",
       "      <td>7.500000e+02</td>\n",
       "      <td>7.500000e+02</td>\n",
       "      <td>7.500000e+02</td>\n",
       "      <td>7.500000e+02</td>\n",
       "      <td>7.500000e+02</td>\n",
       "      <td>750.000000</td>\n",
       "      <td>...</td>\n",
       "      <td>750.000000</td>\n",
       "      <td>7.500000e+02</td>\n",
       "      <td>750.000000</td>\n",
       "      <td>750.000000</td>\n",
       "      <td>7.500000e+02</td>\n",
       "      <td>750.000000</td>\n",
       "      <td>750.000000</td>\n",
       "      <td>7.500000e+02</td>\n",
       "      <td>750.000000</td>\n",
       "      <td>750.000000</td>\n",
       "    </tr>\n",
       "    <tr>\n",
       "      <th>mean</th>\n",
       "      <td>2008.000000</td>\n",
       "      <td>3.621421e+07</td>\n",
       "      <td>5.324904e+06</td>\n",
       "      <td>1.837333e+07</td>\n",
       "      <td>1.577561e+07</td>\n",
       "      <td>1.677821e+06</td>\n",
       "      <td>1.424305e+06</td>\n",
       "      <td>1.197318e+05</td>\n",
       "      <td>1.528495e+06</td>\n",
       "      <td>563.452002</td>\n",
       "      <td>...</td>\n",
       "      <td>0.036107</td>\n",
       "      <td>1.427088e-03</td>\n",
       "      <td>0.021959</td>\n",
       "      <td>0.097660</td>\n",
       "      <td>6.057556e+06</td>\n",
       "      <td>10.994184</td>\n",
       "      <td>16.908805</td>\n",
       "      <td>-2.433827e+05</td>\n",
       "      <td>-2.645003</td>\n",
       "      <td>inf</td>\n",
       "    </tr>\n",
       "    <tr>\n",
       "      <th>std</th>\n",
       "      <td>4.323377</td>\n",
       "      <td>3.559621e+07</td>\n",
       "      <td>1.249540e+07</td>\n",
       "      <td>3.483507e+07</td>\n",
       "      <td>2.033529e+07</td>\n",
       "      <td>4.253015e+06</td>\n",
       "      <td>2.724845e+06</td>\n",
       "      <td>9.863566e+05</td>\n",
       "      <td>4.046065e+06</td>\n",
       "      <td>247.131923</td>\n",
       "      <td>...</td>\n",
       "      <td>0.112671</td>\n",
       "      <td>7.169996e-03</td>\n",
       "      <td>0.045151</td>\n",
       "      <td>0.180638</td>\n",
       "      <td>6.684421e+06</td>\n",
       "      <td>13.746515</td>\n",
       "      <td>13.117226</td>\n",
       "      <td>2.291679e+07</td>\n",
       "      <td>10.107309</td>\n",
       "      <td>NaN</td>\n",
       "    </tr>\n",
       "    <tr>\n",
       "      <th>min</th>\n",
       "      <td>2001.000000</td>\n",
       "      <td>0.000000e+00</td>\n",
       "      <td>0.000000e+00</td>\n",
       "      <td>-5.114000e+01</td>\n",
       "      <td>0.000000e+00</td>\n",
       "      <td>-9.925681e+05</td>\n",
       "      <td>-8.372700e+02</td>\n",
       "      <td>-5.000000e+00</td>\n",
       "      <td>0.000000e+00</td>\n",
       "      <td>0.996470</td>\n",
       "      <td>...</td>\n",
       "      <td>-0.009830</td>\n",
       "      <td>-1.341994e-08</td>\n",
       "      <td>0.000000</td>\n",
       "      <td>0.000000</td>\n",
       "      <td>4.946570e+05</td>\n",
       "      <td>0.007559</td>\n",
       "      <td>3.252542</td>\n",
       "      <td>-6.790100e+07</td>\n",
       "      <td>-61.493115</td>\n",
       "      <td>-3251.028410</td>\n",
       "    </tr>\n",
       "    <tr>\n",
       "      <th>25%</th>\n",
       "      <td>2004.000000</td>\n",
       "      <td>4.401219e+06</td>\n",
       "      <td>5.509728e+05</td>\n",
       "      <td>1.700621e+06</td>\n",
       "      <td>0.000000e+00</td>\n",
       "      <td>6.462725e+04</td>\n",
       "      <td>1.036491e+05</td>\n",
       "      <td>0.000000e+00</td>\n",
       "      <td>0.000000e+00</td>\n",
       "      <td>415.481460</td>\n",
       "      <td>...</td>\n",
       "      <td>0.001734</td>\n",
       "      <td>0.000000e+00</td>\n",
       "      <td>0.000000</td>\n",
       "      <td>0.009010</td>\n",
       "      <td>1.797654e+06</td>\n",
       "      <td>4.048936</td>\n",
       "      <td>9.981312</td>\n",
       "      <td>-9.621750e+06</td>\n",
       "      <td>-3.066595</td>\n",
       "      <td>-4.774674</td>\n",
       "    </tr>\n",
       "    <tr>\n",
       "      <th>50%</th>\n",
       "      <td>2008.000000</td>\n",
       "      <td>2.884501e+07</td>\n",
       "      <td>1.422502e+06</td>\n",
       "      <td>6.534177e+06</td>\n",
       "      <td>9.330993e+06</td>\n",
       "      <td>4.444923e+05</td>\n",
       "      <td>7.191269e+05</td>\n",
       "      <td>0.000000e+00</td>\n",
       "      <td>4.928850e+04</td>\n",
       "      <td>561.920185</td>\n",
       "      <td>...</td>\n",
       "      <td>0.006158</td>\n",
       "      <td>0.000000e+00</td>\n",
       "      <td>0.001279</td>\n",
       "      <td>0.023205</td>\n",
       "      <td>4.332868e+06</td>\n",
       "      <td>7.864837</td>\n",
       "      <td>14.543854</td>\n",
       "      <td>0.000000e+00</td>\n",
       "      <td>0.000000</td>\n",
       "      <td>1.134967</td>\n",
       "    </tr>\n",
       "    <tr>\n",
       "      <th>75%</th>\n",
       "      <td>2012.000000</td>\n",
       "      <td>5.172627e+07</td>\n",
       "      <td>3.387757e+06</td>\n",
       "      <td>1.765970e+07</td>\n",
       "      <td>2.805020e+07</td>\n",
       "      <td>1.417042e+06</td>\n",
       "      <td>1.751248e+06</td>\n",
       "      <td>2.076642e+03</td>\n",
       "      <td>1.163501e+06</td>\n",
       "      <td>743.697063</td>\n",
       "      <td>...</td>\n",
       "      <td>0.021770</td>\n",
       "      <td>4.013990e-05</td>\n",
       "      <td>0.021524</td>\n",
       "      <td>0.069361</td>\n",
       "      <td>6.748240e+06</td>\n",
       "      <td>12.243678</td>\n",
       "      <td>18.052115</td>\n",
       "      <td>1.132125e+07</td>\n",
       "      <td>2.027638</td>\n",
       "      <td>7.610533</td>\n",
       "    </tr>\n",
       "    <tr>\n",
       "      <th>max</th>\n",
       "      <td>2015.000000</td>\n",
       "      <td>1.578965e+08</td>\n",
       "      <td>9.181770e+07</td>\n",
       "      <td>2.377314e+08</td>\n",
       "      <td>9.785790e+07</td>\n",
       "      <td>4.362692e+07</td>\n",
       "      <td>1.911608e+07</td>\n",
       "      <td>2.082866e+07</td>\n",
       "      <td>4.483337e+07</td>\n",
       "      <td>1113.788927</td>\n",
       "      <td>...</td>\n",
       "      <td>0.827508</td>\n",
       "      <td>1.027469e-01</td>\n",
       "      <td>0.315214</td>\n",
       "      <td>0.896023</td>\n",
       "      <td>3.899394e+07</td>\n",
       "      <td>96.746995</td>\n",
       "      <td>90.521185</td>\n",
       "      <td>9.021000e+07</td>\n",
       "      <td>10.371511</td>\n",
       "      <td>inf</td>\n",
       "    </tr>\n",
       "  </tbody>\n",
       "</table>\n",
       "<p>8 rows × 26 columns</p>\n",
       "</div>"
      ],
      "text/plain": [
       "              Year          Coal         Hydro   Natural Gas       Nuclear  \\\n",
       "count   750.000000  7.500000e+02  7.500000e+02  7.500000e+02  7.500000e+02   \n",
       "mean   2008.000000  3.621421e+07  5.324904e+06  1.837333e+07  1.577561e+07   \n",
       "std       4.323377  3.559621e+07  1.249540e+07  3.483507e+07  2.033529e+07   \n",
       "min    2001.000000  0.000000e+00  0.000000e+00 -5.114000e+01  0.000000e+00   \n",
       "25%    2004.000000  4.401219e+06  5.509728e+05  1.700621e+06  0.000000e+00   \n",
       "50%    2008.000000  2.884501e+07  1.422502e+06  6.534177e+06  9.330993e+06   \n",
       "75%    2012.000000  5.172627e+07  3.387757e+06  1.765970e+07  2.805020e+07   \n",
       "max    2015.000000  1.578965e+08  9.181770e+07  2.377314e+08  9.785790e+07   \n",
       "\n",
       "              Other  Other Renewables         Solar          Wind  \\\n",
       "count  7.500000e+02      7.500000e+02  7.500000e+02  7.500000e+02   \n",
       "mean   1.677821e+06      1.424305e+06  1.197318e+05  1.528495e+06   \n",
       "std    4.253015e+06      2.724845e+06  9.863566e+05  4.046065e+06   \n",
       "min   -9.925681e+05     -8.372700e+02 -5.000000e+00  0.000000e+00   \n",
       "25%    6.462725e+04      1.036491e+05  0.000000e+00  0.000000e+00   \n",
       "50%    4.444923e+05      7.191269e+05  0.000000e+00  4.928850e+04   \n",
       "75%    1.417042e+06      1.751248e+06  2.076642e+03  1.163501e+06   \n",
       "max    4.362692e+07      1.911608e+07  2.082866e+07  4.483337e+07   \n",
       "\n",
       "       index (g/kWh)     ...       percent Other  percent Solar  percent Wind  \\\n",
       "count     750.000000     ...          750.000000   7.500000e+02    750.000000   \n",
       "mean      563.452002     ...            0.036107   1.427088e-03      0.021959   \n",
       "std       247.131923     ...            0.112671   7.169996e-03      0.045151   \n",
       "min         0.996470     ...           -0.009830  -1.341994e-08      0.000000   \n",
       "25%       415.481460     ...            0.001734   0.000000e+00      0.000000   \n",
       "50%       561.920185     ...            0.006158   0.000000e+00      0.001279   \n",
       "75%       743.697063     ...            0.021770   4.013990e-05      0.021524   \n",
       "max      1113.788927     ...            0.827508   1.027469e-01      0.315214   \n",
       "\n",
       "       percent Hydro    Population  tonne CO2/pop     MWh/pop      MWh flow  \\\n",
       "count     750.000000  7.500000e+02     750.000000  750.000000  7.500000e+02   \n",
       "mean        0.097660  6.057556e+06      10.994184   16.908805 -2.433827e+05   \n",
       "std         0.180638  6.684421e+06      13.746515   13.117226  2.291679e+07   \n",
       "min         0.000000  4.946570e+05       0.007559    3.252542 -6.790100e+07   \n",
       "25%         0.009010  1.797654e+06       4.048936    9.981312 -9.621750e+06   \n",
       "50%         0.023205  4.332868e+06       7.864837   14.543854  0.000000e+00   \n",
       "75%         0.069361  6.748240e+06      12.243678   18.052115  1.132125e+07   \n",
       "max         0.896023  3.899394e+07      96.746995   90.521185  9.021000e+07   \n",
       "\n",
       "       MWh flow/pop   share flow  \n",
       "count    750.000000   750.000000  \n",
       "mean      -2.645003          inf  \n",
       "std       10.107309          NaN  \n",
       "min      -61.493115 -3251.028410  \n",
       "25%       -3.066595    -4.774674  \n",
       "50%        0.000000     1.134967  \n",
       "75%        2.027638     7.610533  \n",
       "max       10.371511          inf  \n",
       "\n",
       "[8 rows x 26 columns]"
      ]
     },
     "execution_count": 186,
     "metadata": {},
     "output_type": "execute_result"
    }
   ],
   "source": [
    "annual_gen_index_pop_flows.describe()"
   ]
  },
  {
   "cell_type": "code",
   "execution_count": 175,
   "metadata": {
    "ExecuteTime": {
     "end_time": "2017-08-07T19:36:16.332946Z",
     "start_time": "2017-08-07T19:36:16.096894Z"
    }
   },
   "outputs": [
    {
     "data": {
      "text/plain": [
       "<matplotlib.axes._subplots.AxesSubplot at 0x13c0a7940>"
      ]
     },
     "execution_count": 175,
     "metadata": {},
     "output_type": "execute_result"
    },
    {
     "data": {
      "image/png": "[encoded data removed]",
      "text/plain": [
       "<matplotlib.figure.Figure at 0x13c0b1a20>"
      ]
     },
     "metadata": {},
     "output_type": "display_data"
    }
   ],
   "source": [
    "# g = sns.FacetGrid(annual_gen_index_pop_flows)\n",
    "# g.map(plt.scatter)\n",
    "\n",
    "# plt.scatter(x='MWh/pop', y='MWh flow/pop', data=annual_gen_index_pop_flows)\n",
    "annual_gen_index_pop_flows.plot.scatter(x='MWh/pop', y='MWh flow/pop')"
   ]
  },
  {
   "cell_type": "code",
   "execution_count": 176,
   "metadata": {
    "ExecuteTime": {
     "end_time": "2017-08-07T19:39:05.964082Z",
     "start_time": "2017-08-07T19:39:05.879182Z"
    },
    "collapsed": true
   },
   "outputs": [],
   "source": [
    "from scipy import stats\n",
    "x = annual_gen_index_pop_flows['MWh/pop']\n",
    "y = annual_gen_index_pop_flows['MWh flow/pop']\n",
    "slope, intercept, r_value, p_value, std_err = stats.linregress(x,y)"
   ]
  },
  {
   "cell_type": "code",
   "execution_count": 178,
   "metadata": {
    "ExecuteTime": {
     "end_time": "2017-08-07T19:39:46.488572Z",
     "start_time": "2017-08-07T19:39:46.482577Z"
    }
   },
   "outputs": [
    {
     "data": {
      "text/plain": [
       "(-0.72283194161744402, 9.5772213797742545, -0.93808849183481346)"
      ]
     },
     "execution_count": 178,
     "metadata": {},
     "output_type": "execute_result"
    }
   ],
   "source": [
    "slope, intercept, r_value"
   ]
  },
  {
   "cell_type": "code",
   "execution_count": null,
   "metadata": {
    "collapsed": true
   },
   "outputs": [],
   "source": []
  },
  {
   "cell_type": "code",
   "execution_count": null,
   "metadata": {
    "collapsed": true
   },
   "outputs": [],
   "source": []
  },
  {
   "cell_type": "code",
   "execution_count": null,
   "metadata": {
    "collapsed": true
   },
   "outputs": [],
   "source": []
  },
  {
   "cell_type": "code",
   "execution_count": null,
   "metadata": {
    "collapsed": true
   },
   "outputs": [],
   "source": []
  },
  {
   "cell_type": "code",
   "execution_count": null,
   "metadata": {
    "collapsed": true
   },
   "outputs": [],
   "source": []
  },
  {
   "cell_type": "markdown",
   "metadata": {},
   "source": [
    "## Other analysis"
   ]
  },
  {
   "cell_type": "code",
   "execution_count": 10,
   "metadata": {
    "ExecuteTime": {
     "end_time": "2017-08-04T16:34:54.449099Z",
     "start_time": "2017-08-04T16:34:54.439021Z"
    }
   },
   "outputs": [
    {
     "data": {
      "text/html": [
       "<div>\n",
       "<style>\n",
       "    .dataframe thead tr:only-child th {\n",
       "        text-align: right;\n",
       "    }\n",
       "\n",
       "    .dataframe thead th {\n",
       "        text-align: left;\n",
       "    }\n",
       "\n",
       "    .dataframe tbody tr th {\n",
       "        vertical-align: top;\n",
       "    }\n",
       "</style>\n",
       "<table border=\"1\" class=\"dataframe\">\n",
       "  <thead>\n",
       "    <tr style=\"text-align: right;\">\n",
       "      <th></th>\n",
       "      <th>State</th>\n",
       "      <th>Year</th>\n",
       "      <th>Population</th>\n",
       "    </tr>\n",
       "  </thead>\n",
       "  <tbody>\n",
       "    <tr>\n",
       "      <th>0</th>\n",
       "      <td>US</td>\n",
       "      <td>2000</td>\n",
       "      <td>282162411</td>\n",
       "    </tr>\n",
       "    <tr>\n",
       "      <th>1</th>\n",
       "      <td>AL</td>\n",
       "      <td>2000</td>\n",
       "      <td>4452173</td>\n",
       "    </tr>\n",
       "    <tr>\n",
       "      <th>2</th>\n",
       "      <td>AK</td>\n",
       "      <td>2000</td>\n",
       "      <td>627963</td>\n",
       "    </tr>\n",
       "    <tr>\n",
       "      <th>3</th>\n",
       "      <td>AZ</td>\n",
       "      <td>2000</td>\n",
       "      <td>5160586</td>\n",
       "    </tr>\n",
       "    <tr>\n",
       "      <th>4</th>\n",
       "      <td>AR</td>\n",
       "      <td>2000</td>\n",
       "      <td>2678588</td>\n",
       "    </tr>\n",
       "  </tbody>\n",
       "</table>\n",
       "</div>"
      ],
      "text/plain": [
       "  State  Year  Population\n",
       "0    US  2000   282162411\n",
       "1    AL  2000     4452173\n",
       "2    AK  2000      627963\n",
       "3    AZ  2000     5160586\n",
       "4    AR  2000     2678588"
      ]
     },
     "execution_count": 10,
     "metadata": {},
     "output_type": "execute_result"
    }
   ],
   "source": [
    "pop.head()"
   ]
  },
  {
   "cell_type": "code",
   "execution_count": 11,
   "metadata": {
    "ExecuteTime": {
     "end_time": "2017-08-04T16:34:55.737897Z",
     "start_time": "2017-08-04T16:34:55.727809Z"
    }
   },
   "outputs": [
    {
     "data": {
      "text/html": [
       "<div>\n",
       "<style>\n",
       "    .dataframe thead tr:only-child th {\n",
       "        text-align: right;\n",
       "    }\n",
       "\n",
       "    .dataframe thead th {\n",
       "        text-align: left;\n",
       "    }\n",
       "\n",
       "    .dataframe tbody tr th {\n",
       "        vertical-align: top;\n",
       "    }\n",
       "</style>\n",
       "<table border=\"1\" class=\"dataframe\">\n",
       "  <thead>\n",
       "    <tr style=\"text-align: right;\">\n",
       "      <th></th>\n",
       "      <th>State</th>\n",
       "      <th>Year</th>\n",
       "      <th>GSP</th>\n",
       "    </tr>\n",
       "  </thead>\n",
       "  <tbody>\n",
       "    <tr>\n",
       "      <th>0</th>\n",
       "      <td>US</td>\n",
       "      <td>1997</td>\n",
       "      <td>11118778</td>\n",
       "    </tr>\n",
       "    <tr>\n",
       "      <th>1</th>\n",
       "      <td>AL</td>\n",
       "      <td>1997</td>\n",
       "      <td>137143</td>\n",
       "    </tr>\n",
       "    <tr>\n",
       "      <th>2</th>\n",
       "      <td>AK</td>\n",
       "      <td>1997</td>\n",
       "      <td>37880</td>\n",
       "    </tr>\n",
       "    <tr>\n",
       "      <th>3</th>\n",
       "      <td>AZ</td>\n",
       "      <td>1997</td>\n",
       "      <td>163114</td>\n",
       "    </tr>\n",
       "    <tr>\n",
       "      <th>4</th>\n",
       "      <td>AR</td>\n",
       "      <td>1997</td>\n",
       "      <td>79164</td>\n",
       "    </tr>\n",
       "  </tbody>\n",
       "</table>\n",
       "</div>"
      ],
      "text/plain": [
       "  State  Year       GSP\n",
       "0    US  1997  11118778\n",
       "1    AL  1997    137143\n",
       "2    AK  1997     37880\n",
       "3    AZ  1997    163114\n",
       "4    AR  1997     79164"
      ]
     },
     "execution_count": 11,
     "metadata": {},
     "output_type": "execute_result"
    }
   ],
   "source": [
    "gsp.head()"
   ]
  },
  {
   "cell_type": "code",
   "execution_count": 12,
   "metadata": {
    "ExecuteTime": {
     "end_time": "2017-08-04T16:34:58.003447Z",
     "start_time": "2017-08-04T16:34:57.983405Z"
    }
   },
   "outputs": [
    {
     "data": {
      "text/html": [
       "<div>\n",
       "<style>\n",
       "    .dataframe thead tr:only-child th {\n",
       "        text-align: right;\n",
       "    }\n",
       "\n",
       "    .dataframe thead th {\n",
       "        text-align: left;\n",
       "    }\n",
       "\n",
       "    .dataframe tbody tr th {\n",
       "        vertical-align: top;\n",
       "    }\n",
       "</style>\n",
       "<table border=\"1\" class=\"dataframe\">\n",
       "  <thead>\n",
       "    <tr style=\"text-align: right;\">\n",
       "      <th></th>\n",
       "      <th>State</th>\n",
       "      <th>Year</th>\n",
       "      <th>Coal</th>\n",
       "      <th>Hydro</th>\n",
       "      <th>Natural Gas</th>\n",
       "      <th>Nuclear</th>\n",
       "      <th>Other</th>\n",
       "      <th>Other Renewables</th>\n",
       "      <th>Solar</th>\n",
       "      <th>Wind</th>\n",
       "      <th>index (g/kWh)</th>\n",
       "      <th>final CO2 (kg)</th>\n",
       "    </tr>\n",
       "  </thead>\n",
       "  <tbody>\n",
       "    <tr>\n",
       "      <th>0</th>\n",
       "      <td>AK</td>\n",
       "      <td>2001</td>\n",
       "      <td>564593.00</td>\n",
       "      <td>1345664.00</td>\n",
       "      <td>3895568.00</td>\n",
       "      <td>0.0</td>\n",
       "      <td>936990.00</td>\n",
       "      <td>0.00</td>\n",
       "      <td>0.0</td>\n",
       "      <td>951.00</td>\n",
       "      <td>621.611811</td>\n",
       "      <td>4.192005e+09</td>\n",
       "    </tr>\n",
       "    <tr>\n",
       "      <th>1</th>\n",
       "      <td>AK</td>\n",
       "      <td>2002</td>\n",
       "      <td>575286.00</td>\n",
       "      <td>1439351.00</td>\n",
       "      <td>3778161.00</td>\n",
       "      <td>0.0</td>\n",
       "      <td>962369.00</td>\n",
       "      <td>12155.00</td>\n",
       "      <td>0.0</td>\n",
       "      <td>0.00</td>\n",
       "      <td>565.861881</td>\n",
       "      <td>3.829370e+09</td>\n",
       "    </tr>\n",
       "    <tr>\n",
       "      <th>2</th>\n",
       "      <td>AK</td>\n",
       "      <td>2003</td>\n",
       "      <td>549665.00</td>\n",
       "      <td>1582537.00</td>\n",
       "      <td>3354483.00</td>\n",
       "      <td>0.0</td>\n",
       "      <td>846273.00</td>\n",
       "      <td>5780.00</td>\n",
       "      <td>0.0</td>\n",
       "      <td>0.00</td>\n",
       "      <td>548.164631</td>\n",
       "      <td>3.474672e+09</td>\n",
       "    </tr>\n",
       "    <tr>\n",
       "      <th>3</th>\n",
       "      <td>AK</td>\n",
       "      <td>2004</td>\n",
       "      <td>648979.71</td>\n",
       "      <td>1498020.01</td>\n",
       "      <td>3623432.59</td>\n",
       "      <td>0.0</td>\n",
       "      <td>747068.06</td>\n",
       "      <td>9216.55</td>\n",
       "      <td>0.0</td>\n",
       "      <td>0.00</td>\n",
       "      <td>535.042680</td>\n",
       "      <td>3.492072e+09</td>\n",
       "    </tr>\n",
       "    <tr>\n",
       "      <th>4</th>\n",
       "      <td>AK</td>\n",
       "      <td>2005</td>\n",
       "      <td>624317.77</td>\n",
       "      <td>1463942.01</td>\n",
       "      <td>3723625.63</td>\n",
       "      <td>0.0</td>\n",
       "      <td>758928.54</td>\n",
       "      <td>5255.58</td>\n",
       "      <td>0.0</td>\n",
       "      <td>589.01</td>\n",
       "      <td>536.961208</td>\n",
       "      <td>3.531411e+09</td>\n",
       "    </tr>\n",
       "  </tbody>\n",
       "</table>\n",
       "</div>"
      ],
      "text/plain": [
       "  State  Year       Coal       Hydro  Natural Gas  Nuclear      Other  \\\n",
       "0    AK  2001  564593.00  1345664.00   3895568.00      0.0  936990.00   \n",
       "1    AK  2002  575286.00  1439351.00   3778161.00      0.0  962369.00   \n",
       "2    AK  2003  549665.00  1582537.00   3354483.00      0.0  846273.00   \n",
       "3    AK  2004  648979.71  1498020.01   3623432.59      0.0  747068.06   \n",
       "4    AK  2005  624317.77  1463942.01   3723625.63      0.0  758928.54   \n",
       "\n",
       "   Other Renewables  Solar    Wind  index (g/kWh)  final CO2 (kg)  \n",
       "0              0.00    0.0  951.00     621.611811    4.192005e+09  \n",
       "1          12155.00    0.0    0.00     565.861881    3.829370e+09  \n",
       "2           5780.00    0.0    0.00     548.164631    3.474672e+09  \n",
       "3           9216.55    0.0    0.00     535.042680    3.492072e+09  \n",
       "4           5255.58    0.0  589.01     536.961208    3.531411e+09  "
      ]
     },
     "execution_count": 12,
     "metadata": {},
     "output_type": "execute_result"
    }
   ],
   "source": [
    "annual_gen_index.head()"
   ]
  },
  {
   "cell_type": "code",
   "execution_count": 190,
   "metadata": {
    "ExecuteTime": {
     "end_time": "2017-08-07T19:51:48.792780Z",
     "start_time": "2017-08-07T19:51:48.778238Z"
    },
    "collapsed": true
   },
   "outputs": [],
   "source": [
    "total_gen = pd.DataFrame(columns=['Generation', 'State', 'Year', 'index (g/kWh)'])\n",
    "\n",
    "total_gen['Generation'] = annual_gen_index.loc[:, 'Coal':'Wind'].sum(axis=1)\n",
    "total_gen['State'] = annual_gen_index.loc[:, 'State']\n",
    "total_gen['Year'] = annual_gen_index.loc[:, 'Year']\n",
    "total_gen['index (g/kWh)'] = annual_gen_index.loc[:, 'index (g/kWh)']"
   ]
  },
  {
   "cell_type": "code",
   "execution_count": 191,
   "metadata": {
    "ExecuteTime": {
     "end_time": "2017-08-07T19:51:49.757759Z",
     "start_time": "2017-08-07T19:51:49.745847Z"
    }
   },
   "outputs": [
    {
     "data": {
      "text/html": [
       "<div>\n",
       "<style>\n",
       "    .dataframe thead tr:only-child th {\n",
       "        text-align: right;\n",
       "    }\n",
       "\n",
       "    .dataframe thead th {\n",
       "        text-align: left;\n",
       "    }\n",
       "\n",
       "    .dataframe tbody tr th {\n",
       "        vertical-align: top;\n",
       "    }\n",
       "</style>\n",
       "<table border=\"1\" class=\"dataframe\">\n",
       "  <thead>\n",
       "    <tr style=\"text-align: right;\">\n",
       "      <th></th>\n",
       "      <th>Generation</th>\n",
       "      <th>State</th>\n",
       "      <th>Year</th>\n",
       "      <th>index (g/kWh)</th>\n",
       "    </tr>\n",
       "  </thead>\n",
       "  <tbody>\n",
       "    <tr>\n",
       "      <th>0</th>\n",
       "      <td>6743766.00</td>\n",
       "      <td>AK</td>\n",
       "      <td>2001</td>\n",
       "      <td>621.611811</td>\n",
       "    </tr>\n",
       "    <tr>\n",
       "      <th>1</th>\n",
       "      <td>6767322.00</td>\n",
       "      <td>AK</td>\n",
       "      <td>2002</td>\n",
       "      <td>565.861881</td>\n",
       "    </tr>\n",
       "    <tr>\n",
       "      <th>2</th>\n",
       "      <td>6338738.00</td>\n",
       "      <td>AK</td>\n",
       "      <td>2003</td>\n",
       "      <td>548.164631</td>\n",
       "    </tr>\n",
       "    <tr>\n",
       "      <th>3</th>\n",
       "      <td>6526716.92</td>\n",
       "      <td>AK</td>\n",
       "      <td>2004</td>\n",
       "      <td>535.042680</td>\n",
       "    </tr>\n",
       "    <tr>\n",
       "      <th>4</th>\n",
       "      <td>6576658.54</td>\n",
       "      <td>AK</td>\n",
       "      <td>2005</td>\n",
       "      <td>536.961208</td>\n",
       "    </tr>\n",
       "  </tbody>\n",
       "</table>\n",
       "</div>"
      ],
      "text/plain": [
       "   Generation State  Year  index (g/kWh)\n",
       "0  6743766.00    AK  2001     621.611811\n",
       "1  6767322.00    AK  2002     565.861881\n",
       "2  6338738.00    AK  2003     548.164631\n",
       "3  6526716.92    AK  2004     535.042680\n",
       "4  6576658.54    AK  2005     536.961208"
      ]
     },
     "execution_count": 191,
     "metadata": {},
     "output_type": "execute_result"
    }
   ],
   "source": [
    "total_gen.head()"
   ]
  },
  {
   "cell_type": "code",
   "execution_count": 192,
   "metadata": {
    "ExecuteTime": {
     "end_time": "2017-08-07T19:51:50.846774Z",
     "start_time": "2017-08-07T19:51:50.833265Z"
    },
    "collapsed": true
   },
   "outputs": [],
   "source": [
    "total_gen_pop = pd.merge(total_gen, pop, on=['State', 'Year'])\n",
    "total_gen_pop_gsp = pd.merge(total_gen_pop, gsp, on=['State', 'Year'])"
   ]
  },
  {
   "cell_type": "code",
   "execution_count": 193,
   "metadata": {
    "ExecuteTime": {
     "end_time": "2017-08-07T19:51:51.860016Z",
     "start_time": "2017-08-07T19:51:51.843279Z"
    }
   },
   "outputs": [
    {
     "data": {
      "text/html": [
       "<div>\n",
       "<style>\n",
       "    .dataframe thead tr:only-child th {\n",
       "        text-align: right;\n",
       "    }\n",
       "\n",
       "    .dataframe thead th {\n",
       "        text-align: left;\n",
       "    }\n",
       "\n",
       "    .dataframe tbody tr th {\n",
       "        vertical-align: top;\n",
       "    }\n",
       "</style>\n",
       "<table border=\"1\" class=\"dataframe\">\n",
       "  <thead>\n",
       "    <tr style=\"text-align: right;\">\n",
       "      <th></th>\n",
       "      <th>Generation</th>\n",
       "      <th>State</th>\n",
       "      <th>Year</th>\n",
       "      <th>index (g/kWh)</th>\n",
       "      <th>Population</th>\n",
       "      <th>GSP</th>\n",
       "    </tr>\n",
       "  </thead>\n",
       "  <tbody>\n",
       "    <tr>\n",
       "      <th>0</th>\n",
       "      <td>6743766.00</td>\n",
       "      <td>AK</td>\n",
       "      <td>2001</td>\n",
       "      <td>621.611811</td>\n",
       "      <td>633714</td>\n",
       "      <td>37102</td>\n",
       "    </tr>\n",
       "    <tr>\n",
       "      <th>1</th>\n",
       "      <td>6767322.00</td>\n",
       "      <td>AK</td>\n",
       "      <td>2002</td>\n",
       "      <td>565.861881</td>\n",
       "      <td>642337</td>\n",
       "      <td>38605</td>\n",
       "    </tr>\n",
       "    <tr>\n",
       "      <th>2</th>\n",
       "      <td>6338738.00</td>\n",
       "      <td>AK</td>\n",
       "      <td>2003</td>\n",
       "      <td>548.164631</td>\n",
       "      <td>648414</td>\n",
       "      <td>38262</td>\n",
       "    </tr>\n",
       "    <tr>\n",
       "      <th>3</th>\n",
       "      <td>6526716.92</td>\n",
       "      <td>AK</td>\n",
       "      <td>2004</td>\n",
       "      <td>535.042680</td>\n",
       "      <td>659286</td>\n",
       "      <td>39648</td>\n",
       "    </tr>\n",
       "    <tr>\n",
       "      <th>4</th>\n",
       "      <td>6576658.54</td>\n",
       "      <td>AK</td>\n",
       "      <td>2005</td>\n",
       "      <td>536.961208</td>\n",
       "      <td>666946</td>\n",
       "      <td>40767</td>\n",
       "    </tr>\n",
       "  </tbody>\n",
       "</table>\n",
       "</div>"
      ],
      "text/plain": [
       "   Generation State  Year  index (g/kWh)  Population    GSP\n",
       "0  6743766.00    AK  2001     621.611811      633714  37102\n",
       "1  6767322.00    AK  2002     565.861881      642337  38605\n",
       "2  6338738.00    AK  2003     548.164631      648414  38262\n",
       "3  6526716.92    AK  2004     535.042680      659286  39648\n",
       "4  6576658.54    AK  2005     536.961208      666946  40767"
      ]
     },
     "execution_count": 193,
     "metadata": {},
     "output_type": "execute_result"
    }
   ],
   "source": [
    "total_gen_pop_gsp.head()"
   ]
  },
  {
   "cell_type": "code",
   "execution_count": 194,
   "metadata": {
    "ExecuteTime": {
     "end_time": "2017-08-07T19:51:53.319434Z",
     "start_time": "2017-08-07T19:51:52.865762Z"
    }
   },
   "outputs": [
    {
     "data": {
      "text/plain": [
       "<seaborn.axisgrid.FacetGrid at 0x13e15db70>"
      ]
     },
     "execution_count": 194,
     "metadata": {},
     "output_type": "execute_result"
    },
    {
     "data": {
      "image/png": "[encoded data removed]",
      "text/plain": [
       "<matplotlib.figure.Figure at 0x13e1245f8>"
      ]
     },
     "metadata": {},
     "output_type": "display_data"
    }
   ],
   "source": [
    "temp = total_gen_pop_gsp.loc[total_gen_pop_gsp['Year'].isin([2001, 2008, 2016])]\n",
    "\n",
    "g = sns.FacetGrid(temp, col='Year')\n",
    "g.map(plt.scatter, 'Generation', 'GSP')"
   ]
  },
  {
   "cell_type": "code",
   "execution_count": 197,
   "metadata": {
    "ExecuteTime": {
     "end_time": "2017-08-07T20:02:54.532422Z",
     "start_time": "2017-08-07T20:02:53.530955Z"
    }
   },
   "outputs": [
    {
     "data": {
      "text/plain": [
       "<seaborn.axisgrid.FacetGrid at 0x13d7a6da0>"
      ]
     },
     "execution_count": 197,
     "metadata": {},
     "output_type": "execute_result"
    },
    {
     "data": {
      "image/png": "[encoded data removed]",
      "text/plain": [
       "<matplotlib.figure.Figure at 0x13d7a6780>"
      ]
     },
     "metadata": {},
     "output_type": "display_data"
    }
   ],
   "source": [
    "sns.lmplot(x='Generation', y='GSP', data=temp, col='Year')"
   ]
  },
  {
   "cell_type": "code",
   "execution_count": 187,
   "metadata": {
    "ExecuteTime": {
     "end_time": "2017-08-07T19:51:26.601777Z",
     "start_time": "2017-08-07T19:51:26.259325Z"
    }
   },
   "outputs": [
    {
     "data": {
      "text/html": [
       "<script>requirejs.config({paths: { 'plotly': ['https://cdn.plot.ly/plotly-latest.min']},});if(!window.Plotly) {{require(['plotly'],function(plotly) {window.Plotly=plotly;});}}</script>"
      ],
      "text/vnd.plotly.v1+html": [
       "<script>requirejs.config({paths: { 'plotly': ['https://cdn.plot.ly/plotly-latest.min']},});if(!window.Plotly) {{require(['plotly'],function(plotly) {window.Plotly=plotly;});}}</script>"
      ]
     },
     "metadata": {},
     "output_type": "display_data"
    }
   ],
   "source": [
    "import plotly.plotly as py\n",
    "import cufflinks as cf\n",
    "from plotly.offline import download_plotlyjs, init_notebook_mode, plot, iplot\n",
    "init_notebook_mode(connected=True)\n",
    "import plotly.figure_factory as ff"
   ]
  },
  {
   "cell_type": "code",
   "execution_count": 188,
   "metadata": {
    "ExecuteTime": {
     "end_time": "2017-08-07T19:51:27.948974Z",
     "start_time": "2017-08-07T19:51:27.944510Z"
    }
   },
   "outputs": [
    {
     "data": {
      "text/html": [
       "<script>requirejs.config({paths: { 'plotly': ['https://cdn.plot.ly/plotly-latest.min']},});if(!window.Plotly) {{require(['plotly'],function(plotly) {window.Plotly=plotly;});}}</script>"
      ],
      "text/vnd.plotly.v1+html": [
       "<script>requirejs.config({paths: { 'plotly': ['https://cdn.plot.ly/plotly-latest.min']},});if(!window.Plotly) {{require(['plotly'],function(plotly) {window.Plotly=plotly;});}}</script>"
      ]
     },
     "metadata": {},
     "output_type": "display_data"
    }
   ],
   "source": [
    "cf.go_offline(connected=True)"
   ]
  },
  {
   "cell_type": "code",
   "execution_count": 198,
   "metadata": {
    "ExecuteTime": {
     "end_time": "2017-08-07T20:09:23.267662Z",
     "start_time": "2017-08-07T20:09:23.209314Z"
    }
   },
   "outputs": [
    {
     "data": {
      "application/vnd.plotly.v1+json": {
       "data": [
        {
         "marker": {
          "color": "rgb(31, 119, 180)",
          "line": {
           "color": "darkgrey",
           "width": 1
          },
          "size": 8
         },
         "mode": "markers",
         "name": 2001,
         "opacity": 0.6,
         "type": "scatter",
         "x": [
          6743766,
          125345113.04,
          47192036,
          89911272,
          198596072,
          46876003,
          30490645,
          6807685,
          190945343,
          118316788.05,
          10633092,
          40658512,
          9346942,
          179249282.01,
          122569670,
          44748522,
          95417625,
          87894379.03,
          38478431,
          49062342,
          19564821,
          111845612,
          48523223,
          79544872.01,
          53446448,
          24232487,
          117495851,
          30332072,
          30485213,
          15074624,
          59421260,
          33611643,
          33875966,
          143914556,
          142261809,
          55249453,
          45051906,
          196576590,
          7501892,
          89158990,
          7400743,
          96221976,
          372580005.01,
          35853750,
          74104748,
          5480614,
          83048670,
          58763434,
          81836725,
          44776938
         ],
         "xaxis": "x1",
         "y": [
          37102,
          148824,
          85283,
          206560,
          1627983,
          226211,
          212395,
          56618,
          645193,
          378479,
          53669,
          114313,
          44073,
          610054,
          245953,
          107398,
          144407,
          184946,
          352601,
          251494,
          47564,
          408463,
          235075,
          233240,
          82326,
          29269,
          348010,
          22967,
          72624,
          55920,
          458601,
          69448,
          102262,
          1056708,
          477602,
          121910,
          128873,
          522191,
          44388,
          145941,
          27535,
          222160,
          954786,
          88719,
          346918,
          23031,
          289754,
          227508,
          58120,
          26542
         ],
         "yaxis": "y1"
        },
        {
         "marker": {
          "color": "rgb(255, 127, 14)",
          "line": {
           "color": "darkgrey",
           "width": 1
          },
          "size": 8
         },
         "mode": "markers",
         "name": 2008,
         "opacity": 0.6,
         "type": "scatter",
         "x": [],
         "xaxis": "x1",
         "y": [],
         "yaxis": "y1"
        },
        {
         "marker": {
          "color": "rgb(44, 160, 44)",
          "line": {
           "color": "darkgrey",
           "width": 1
          },
          "size": 8
         },
         "mode": "markers",
         "name": 2016,
         "opacity": 0.6,
         "type": "scatter",
         "x": [],
         "xaxis": "x1",
         "y": [],
         "yaxis": "y1"
        },
        {
         "marker": {
          "color": "rgb(31, 119, 180)",
          "line": {
           "color": "darkgrey",
           "width": 1
          },
          "size": 8
         },
         "mode": "markers",
         "name": 2001,
         "opacity": 0.6,
         "type": "scatter",
         "x": [],
         "xaxis": "x2",
         "y": [],
         "yaxis": "y1"
        },
        {
         "marker": {
          "color": "rgb(255, 127, 14)",
          "line": {
           "color": "darkgrey",
           "width": 1
          },
          "size": 8
         },
         "mode": "markers",
         "name": 2008,
         "opacity": 0.6,
         "type": "scatter",
         "x": [
          6774834.38,
          145869895.23000002,
          55050527.92,
          119459172.41,
          207984262.91000003,
          53441593.60999999,
          30409472.69,
          7523838.630000001,
          219636818.25,
          136173395.35,
          11376385.09,
          53086786.42,
          11970552.950000001,
          199475177.6,
          129510294.00999999,
          46630321.419999994,
          97863340.31,
          92453141.41,
          42505478.510000005,
          47360952.92,
          17094919.46,
          114989805.86,
          54763359.92,
          91028795.48,
          48205711.050000004,
          29637137.03,
          125239062.91,
          32734579.189999998,
          32373522.26,
          22876991.55,
          63674789.099999994,
          37009836.95,
          35089973.58,
          140322100.21,
          153412251.14000002,
          76328908.58,
          58718437.589999996,
          222350924.79,
          7387265.789999999,
          100978004.82,
          7082671.569999999,
          90663312.58,
          404787781.01,
          46578762.7,
          72678531.41,
          6820215.98,
          110828451.08999999,
          63479555.03999999,
          91123096.64000002,
          46500448.36
         ],
         "xaxis": "x2",
         "y": [
          46422,
          174459,
          100485,
          262521,
          1993244,
          252558,
          243856,
          55273,
          764086,
          420483,
          67721,
          140017,
          56296,
          655275,
          279574,
          129313,
          162481,
          206601,
          392817,
          300601,
          51236,
          396515,
          268824,
          255426,
          97655,
          36749,
          424200,
          31812,
          85813,
          62956,
          503365,
          82853,
          130787,
          1124539,
          501477,
          146936,
          182813,
          591039,
          48262,
          166820,
          36373,
          255826,
          1173697,
          115509,
          407227,
          26067,
          360521,
          251711,
          63821,
          37776
         ],
         "yaxis": "y1"
        },
        {
         "marker": {
          "color": "rgb(44, 160, 44)",
          "line": {
           "color": "darkgrey",
           "width": 1
          },
          "size": 8
         },
         "mode": "markers",
         "name": 2016,
         "opacity": 0.6,
         "type": "scatter",
         "x": [],
         "xaxis": "x2",
         "y": [],
         "yaxis": "y1"
        },
        {
         "marker": {
          "color": "rgb(31, 119, 180)",
          "line": {
           "color": "darkgrey",
           "width": 1
          },
          "size": 8
         },
         "mode": "markers",
         "name": 2001,
         "opacity": 0.6,
         "type": "scatter",
         "x": [],
         "xaxis": "x3",
         "y": [],
         "yaxis": "y1"
        },
        {
         "marker": {
          "color": "rgb(255, 127, 14)",
          "line": {
           "color": "darkgrey",
           "width": 1
          },
          "size": 8
         },
         "mode": "markers",
         "name": 2008,
         "opacity": 0.6,
         "type": "scatter",
         "x": [],
         "xaxis": "x3",
         "y": [],
         "yaxis": "y1"
        },
        {
         "marker": {
          "color": "rgb(44, 160, 44)",
          "line": {
           "color": "darkgrey",
           "width": 1
          },
          "size": 8
         },
         "mode": "markers",
         "name": 2016,
         "opacity": 0.6,
         "type": "scatter",
         "x": [
          5395404.48,
          142964353.24999997,
          60391777.38,
          110396202.35000001,
          207439653.12,
          54836024.199999996,
          36563279.89,
          8870526.23,
          238145941.44,
          133326052.00000001,
          10171856.25,
          54692136.55,
          15946293.650000002,
          186714867.11999997,
          101837726.57999998,
          47694367.39,
          80361941.42,
          106882238.54,
          33451915.840000004,
          37931165.260000005,
          11671589.24,
          112729535.99000001,
          60160193.330000006,
          79074594.93,
          62890411.589999996,
          27963469.849999998,
          131647426.15,
          37466060.22,
          37598590.809999995,
          19251943.819999997,
          79062253.83000001,
          32999560.4,
          39899224.04,
          135110995.91,
          119270627.02,
          78129131.36,
          59526026.77,
          215007175.99,
          6553670.96,
          96981064.18,
          10361496.82,
          80080368.38,
          455815996.52000004,
          37879231.85,
          92470294.45,
          1736447.56,
          112866450.72,
          64826681.51,
          75561992.66000001,
          46295682.11000001
         ],
         "xaxis": "x3",
         "y": [
          47460,
          181211,
          108676,
          267472,
          2300793,
          292512,
          230720,
          60613,
          815073,
          461106,
          73252,
          157721,
          59694,
          692453,
          300589,
          136591,
          172975,
          205605,
          446476,
          333336,
          51823,
          430608,
          296443,
          263933,
          95282,
          41030,
          449754,
          47628,
          101294,
          69135,
          510586,
          86046,
          128833,
          1275137,
          552460,
          175082,
          207058,
          651959,
          50327,
          183873,
          41607,
          287776,
          1498881,
          136194,
          435192,
          27448,
          414182,
          273139,
          66496,
          34439
         ],
         "yaxis": "y1"
        }
       ],
       "layout": {
        "annotations": [
         {
          "font": {
           "color": "#0f0f0f",
           "size": 13
          },
          "showarrow": false,
          "text": 2001,
          "textangle": 0,
          "x": 0.16166666666666665,
          "xanchor": "center",
          "xref": "paper",
          "y": 1.03,
          "yanchor": "middle",
          "yref": "paper"
         },
         {
          "font": {
           "color": "#0f0f0f",
           "size": 13
          },
          "showarrow": false,
          "text": 2008,
          "textangle": 0,
          "x": 0.5,
          "xanchor": "center",
          "xref": "paper",
          "y": 1.03,
          "yanchor": "middle",
          "yref": "paper"
         },
         {
          "font": {
           "color": "#0f0f0f",
           "size": 13
          },
          "showarrow": false,
          "text": 2016,
          "textangle": 0,
          "x": 0.8383333333333333,
          "xanchor": "center",
          "xref": "paper",
          "y": 1.03,
          "yanchor": "middle",
          "yref": "paper"
         },
         {
          "font": {
           "color": "#000000",
           "size": 12
          },
          "showarrow": false,
          "text": "Generation",
          "textangle": 0,
          "x": 0.5,
          "xanchor": "center",
          "xref": "paper",
          "y": -0.1,
          "yanchor": "middle",
          "yref": "paper"
         },
         {
          "font": {
           "color": "#000000",
           "size": 12
          },
          "showarrow": false,
          "text": "GSP",
          "textangle": 270,
          "x": -0.1,
          "xanchor": "center",
          "xref": "paper",
          "y": 0.5,
          "yanchor": "middle",
          "yref": "paper"
         }
        ],
        "height": 600,
        "legend": {
         "bgcolor": "#efefef",
         "borderwidth": 1,
         "x": 1.05,
         "y": 1,
         "yanchor": "top"
        },
        "paper_bgcolor": "rgb(251, 251, 251)",
        "showlegend": true,
        "title": "",
        "width": 600,
        "xaxis1": {
         "anchor": "y1",
         "domain": [
          0,
          0.3233333333333333
         ],
         "dtick": 100124540,
         "range": [
          -20967530.5,
          479655173.375
         ],
         "ticklen": 0,
         "zeroline": false
        },
        "xaxis2": {
         "anchor": "free",
         "domain": [
          0.3383333333333333,
          0.6616666666666666
         ],
         "dtick": 100124540,
         "position": 0,
         "range": [
          -20967530.5,
          479655173.375
         ],
         "ticklen": 0,
         "zeroline": false
        },
        "xaxis3": {
         "anchor": "free",
         "domain": [
          0.6766666666666666,
          1
         ],
         "dtick": 100124540,
         "position": 0,
         "range": [
          -20967530.5,
          479655173.375
         ],
         "ticklen": 0,
         "zeroline": false
        },
        "yaxis1": {
         "anchor": "x1",
         "domain": [
          0,
          1
         ],
         "dtick": 502260,
         "range": [
          -90924.3,
          2420378.865
         ],
         "ticklen": 0,
         "zeroline": false
        }
       }
      },
      "text/html": [
       "<div id=\"d22acacf-a2cc-49f3-b506-f6160abd17e3\" style=\"height: 600px; width: 600px;\" class=\"plotly-graph-div\"></div><script type=\"text/javascript\">require([\"plotly\"], function(Plotly) { window.PLOTLYENV=window.PLOTLYENV || {};window.PLOTLYENV.BASE_URL=\"https://plot.ly\";Plotly.newPlot(\"d22acacf-a2cc-49f3-b506-f6160abd17e3\", [{\"type\": \"scatter\", \"name\": 2001, \"marker\": {\"color\": \"rgb(31, 119, 180)\", \"size\": 8, \"line\": {\"color\": \"darkgrey\", \"width\": 1}}, \"opacity\": 0.6, \"x\": [6743766.0, 125345113.04, 47192036.0, 89911272.0, 198596072.0, 46876003.0, 30490645.0, 6807685.0, 190945343.0, 118316788.05, 10633092.0, 40658512.0, 9346942.0, 179249282.01, 122569670.0, 44748522.0, 95417625.0, 87894379.03, 38478431.0, 49062342.0, 19564821.0, 111845612.0, 48523223.0, 79544872.01, 53446448.0, 24232487.0, 117495851.0, 30332072.0, 30485213.0, 15074624.0, 59421260.0, 33611643.0, 33875966.0, 143914556.0, 142261809.0, 55249453.0, 45051906.0, 196576590.0, 7501892.0, 89158990.0, 7400743.0, 96221976.0, 372580005.01, 35853750.0, 74104748.0, 5480614.0, 83048670.0, 58763434.0, 81836725.0, 44776938.0], \"y\": [37102, 148824, 85283, 206560, 1627983, 226211, 212395, 56618, 645193, 378479, 53669, 114313, 44073, 610054, 245953, 107398, 144407, 184946, 352601, 251494, 47564, 408463, 235075, 233240, 82326, 29269, 348010, 22967, 72624, 55920, 458601, 69448, 102262, 1056708, 477602, 121910, 128873, 522191, 44388, 145941, 27535, 222160, 954786, 88719, 346918, 23031, 289754, 227508, 58120, 26542], \"mode\": \"markers\", \"xaxis\": \"x1\", \"yaxis\": \"y1\"}, {\"type\": \"scatter\", \"name\": 2008, \"marker\": {\"color\": \"rgb(255, 127, 14)\", \"size\": 8, \"line\": {\"color\": \"darkgrey\", \"width\": 1}}, \"opacity\": 0.6, \"x\": [], \"y\": [], \"mode\": \"markers\", \"xaxis\": \"x1\", \"yaxis\": \"y1\"}, {\"type\": \"scatter\", \"name\": 2016, \"marker\": {\"color\": \"rgb(44, 160, 44)\", \"size\": 8, \"line\": {\"color\": \"darkgrey\", \"width\": 1}}, \"opacity\": 0.6, \"x\": [], \"y\": [], \"mode\": \"markers\", \"xaxis\": \"x1\", \"yaxis\": \"y1\"}, {\"type\": \"scatter\", \"name\": 2001, \"marker\": {\"color\": \"rgb(31, 119, 180)\", \"size\": 8, \"line\": {\"color\": \"darkgrey\", \"width\": 1}}, \"opacity\": 0.6, \"x\": [], \"y\": [], \"mode\": \"markers\", \"xaxis\": \"x2\", \"yaxis\": \"y1\"}, {\"type\": \"scatter\", \"name\": 2008, \"marker\": {\"color\": \"rgb(255, 127, 14)\", \"size\": 8, \"line\": {\"color\": \"darkgrey\", \"width\": 1}}, \"opacity\": 0.6, \"x\": [6774834.38, 145869895.23000002, 55050527.92, 119459172.41, 207984262.91000003, 53441593.60999999, 30409472.69, 7523838.630000001, 219636818.25, 136173395.35, 11376385.09, 53086786.42, 11970552.950000001, 199475177.6, 129510294.00999999, 46630321.419999994, 97863340.31, 92453141.41, 42505478.510000005, 47360952.92, 17094919.46, 114989805.86, 54763359.92, 91028795.48, 48205711.050000004, 29637137.03, 125239062.91, 32734579.189999998, 32373522.26, 22876991.55, 63674789.099999994, 37009836.95, 35089973.58, 140322100.21, 153412251.14000002, 76328908.58, 58718437.589999996, 222350924.79, 7387265.789999999, 100978004.82, 7082671.569999999, 90663312.58, 404787781.01, 46578762.7, 72678531.41, 6820215.98, 110828451.08999999, 63479555.03999999, 91123096.64000002, 46500448.36], \"y\": [46422, 174459, 100485, 262521, 1993244, 252558, 243856, 55273, 764086, 420483, 67721, 140017, 56296, 655275, 279574, 129313, 162481, 206601, 392817, 300601, 51236, 396515, 268824, 255426, 97655, 36749, 424200, 31812, 85813, 62956, 503365, 82853, 130787, 1124539, 501477, 146936, 182813, 591039, 48262, 166820, 36373, 255826, 1173697, 115509, 407227, 26067, 360521, 251711, 63821, 37776], \"mode\": \"markers\", \"xaxis\": \"x2\", \"yaxis\": \"y1\"}, {\"type\": \"scatter\", \"name\": 2016, \"marker\": {\"color\": \"rgb(44, 160, 44)\", \"size\": 8, \"line\": {\"color\": \"darkgrey\", \"width\": 1}}, \"opacity\": 0.6, \"x\": [], \"y\": [], \"mode\": \"markers\", \"xaxis\": \"x2\", \"yaxis\": \"y1\"}, {\"type\": \"scatter\", \"name\": 2001, \"marker\": {\"color\": \"rgb(31, 119, 180)\", \"size\": 8, \"line\": {\"color\": \"darkgrey\", \"width\": 1}}, \"opacity\": 0.6, \"x\": [], \"y\": [], \"mode\": \"markers\", \"xaxis\": \"x3\", \"yaxis\": \"y1\"}, {\"type\": \"scatter\", \"name\": 2008, \"marker\": {\"color\": \"rgb(255, 127, 14)\", \"size\": 8, \"line\": {\"color\": \"darkgrey\", \"width\": 1}}, \"opacity\": 0.6, \"x\": [], \"y\": [], \"mode\": \"markers\", \"xaxis\": \"x3\", \"yaxis\": \"y1\"}, {\"type\": \"scatter\", \"name\": 2016, \"marker\": {\"color\": \"rgb(44, 160, 44)\", \"size\": 8, \"line\": {\"color\": \"darkgrey\", \"width\": 1}}, \"opacity\": 0.6, \"x\": [5395404.48, 142964353.24999997, 60391777.38, 110396202.35000001, 207439653.12, 54836024.199999996, 36563279.89, 8870526.23, 238145941.44, 133326052.00000001, 10171856.25, 54692136.55, 15946293.650000002, 186714867.11999997, 101837726.57999998, 47694367.39, 80361941.42, 106882238.54, 33451915.840000004, 37931165.260000005, 11671589.24, 112729535.99000001, 60160193.330000006, 79074594.93, 62890411.589999996, 27963469.849999998, 131647426.15, 37466060.22, 37598590.809999995, 19251943.819999997, 79062253.83000001, 32999560.4, 39899224.04, 135110995.91, 119270627.02, 78129131.36, 59526026.77, 215007175.99, 6553670.96, 96981064.18, 10361496.82, 80080368.38, 455815996.52000004, 37879231.85, 92470294.45, 1736447.56, 112866450.72, 64826681.51, 75561992.66000001, 46295682.11000001], \"y\": [47460, 181211, 108676, 267472, 2300793, 292512, 230720, 60613, 815073, 461106, 73252, 157721, 59694, 692453, 300589, 136591, 172975, 205605, 446476, 333336, 51823, 430608, 296443, 263933, 95282, 41030, 449754, 47628, 101294, 69135, 510586, 86046, 128833, 1275137, 552460, 175082, 207058, 651959, 50327, 183873, 41607, 287776, 1498881, 136194, 435192, 27448, 414182, 273139, 66496, 34439], \"mode\": \"markers\", \"xaxis\": \"x3\", \"yaxis\": \"y1\"}], {\"xaxis1\": {\"domain\": [0.0, 0.3233333333333333], \"anchor\": \"y1\", \"dtick\": 100124540, \"ticklen\": 0, \"zeroline\": false, \"range\": [-20967530.5, 479655173.375]}, \"yaxis1\": {\"domain\": [0.0, 1.0], \"anchor\": \"x1\", \"dtick\": 502260, \"ticklen\": 0, \"zeroline\": false, \"range\": [-90924.3, 2420378.865]}, \"xaxis2\": {\"domain\": [0.3383333333333333, 0.6616666666666666], \"anchor\": \"free\", \"position\": 0.0, \"dtick\": 100124540, \"ticklen\": 0, \"zeroline\": false, \"range\": [-20967530.5, 479655173.375]}, \"xaxis3\": {\"domain\": [0.6766666666666666, 1.0], \"anchor\": \"free\", \"position\": 0.0, \"dtick\": 100124540, \"ticklen\": 0, \"zeroline\": false, \"range\": [-20967530.5, 479655173.375]}, \"annotations\": [{\"textangle\": 0, \"xanchor\": \"center\", \"yanchor\": \"middle\", \"x\": 0.16166666666666665, \"y\": 1.03, \"showarrow\": false, \"xref\": \"paper\", \"yref\": \"paper\", \"text\": 2001, \"font\": {\"size\": 13, \"color\": \"#0f0f0f\"}}, {\"textangle\": 0, \"xanchor\": \"center\", \"yanchor\": \"middle\", \"x\": 0.5, \"y\": 1.03, \"showarrow\": false, \"xref\": \"paper\", \"yref\": \"paper\", \"text\": 2008, \"font\": {\"size\": 13, \"color\": \"#0f0f0f\"}}, {\"textangle\": 0, \"xanchor\": \"center\", \"yanchor\": \"middle\", \"x\": 0.8383333333333333, \"y\": 1.03, \"showarrow\": false, \"xref\": \"paper\", \"yref\": \"paper\", \"text\": 2016, \"font\": {\"size\": 13, \"color\": \"#0f0f0f\"}}, {\"font\": {\"color\": \"#000000\", \"size\": 12}, \"showarrow\": false, \"text\": \"Generation\", \"textangle\": 0, \"x\": 0.5, \"xanchor\": \"center\", \"xref\": \"paper\", \"y\": -0.1, \"yanchor\": \"middle\", \"yref\": \"paper\"}, {\"font\": {\"color\": \"#000000\", \"size\": 12}, \"showarrow\": false, \"text\": \"GSP\", \"textangle\": 270, \"x\": -0.1, \"xanchor\": \"center\", \"xref\": \"paper\", \"y\": 0.5, \"yanchor\": \"middle\", \"yref\": \"paper\"}], \"height\": 600, \"width\": 600, \"title\": \"\", \"paper_bgcolor\": \"rgb(251, 251, 251)\", \"showlegend\": true, \"legend\": {\"bgcolor\": \"#efefef\", \"borderwidth\": 1, \"x\": 1.05, \"y\": 1, \"yanchor\": \"top\"}}, {\"showLink\": true, \"linkText\": \"Export to plot.ly\"})});</script>"
      ],
      "text/vnd.plotly.v1+html": [
       "<div id=\"d22acacf-a2cc-49f3-b506-f6160abd17e3\" style=\"height: 600px; width: 600px;\" class=\"plotly-graph-div\"></div><script type=\"text/javascript\">require([\"plotly\"], function(Plotly) { window.PLOTLYENV=window.PLOTLYENV || {};window.PLOTLYENV.BASE_URL=\"https://plot.ly\";Plotly.newPlot(\"d22acacf-a2cc-49f3-b506-f6160abd17e3\", [{\"type\": \"scatter\", \"name\": 2001, \"marker\": {\"color\": \"rgb(31, 119, 180)\", \"size\": 8, \"line\": {\"color\": \"darkgrey\", \"width\": 1}}, \"opacity\": 0.6, \"x\": [6743766.0, 125345113.04, 47192036.0, 89911272.0, 198596072.0, 46876003.0, 30490645.0, 6807685.0, 190945343.0, 118316788.05, 10633092.0, 40658512.0, 9346942.0, 179249282.01, 122569670.0, 44748522.0, 95417625.0, 87894379.03, 38478431.0, 49062342.0, 19564821.0, 111845612.0, 48523223.0, 79544872.01, 53446448.0, 24232487.0, 117495851.0, 30332072.0, 30485213.0, 15074624.0, 59421260.0, 33611643.0, 33875966.0, 143914556.0, 142261809.0, 55249453.0, 45051906.0, 196576590.0, 7501892.0, 89158990.0, 7400743.0, 96221976.0, 372580005.01, 35853750.0, 74104748.0, 5480614.0, 83048670.0, 58763434.0, 81836725.0, 44776938.0], \"y\": [37102, 148824, 85283, 206560, 1627983, 226211, 212395, 56618, 645193, 378479, 53669, 114313, 44073, 610054, 245953, 107398, 144407, 184946, 352601, 251494, 47564, 408463, 235075, 233240, 82326, 29269, 348010, 22967, 72624, 55920, 458601, 69448, 102262, 1056708, 477602, 121910, 128873, 522191, 44388, 145941, 27535, 222160, 954786, 88719, 346918, 23031, 289754, 227508, 58120, 26542], \"mode\": \"markers\", \"xaxis\": \"x1\", \"yaxis\": \"y1\"}, {\"type\": \"scatter\", \"name\": 2008, \"marker\": {\"color\": \"rgb(255, 127, 14)\", \"size\": 8, \"line\": {\"color\": \"darkgrey\", \"width\": 1}}, \"opacity\": 0.6, \"x\": [], \"y\": [], \"mode\": \"markers\", \"xaxis\": \"x1\", \"yaxis\": \"y1\"}, {\"type\": \"scatter\", \"name\": 2016, \"marker\": {\"color\": \"rgb(44, 160, 44)\", \"size\": 8, \"line\": {\"color\": \"darkgrey\", \"width\": 1}}, \"opacity\": 0.6, \"x\": [], \"y\": [], \"mode\": \"markers\", \"xaxis\": \"x1\", \"yaxis\": \"y1\"}, {\"type\": \"scatter\", \"name\": 2001, \"marker\": {\"color\": \"rgb(31, 119, 180)\", \"size\": 8, \"line\": {\"color\": \"darkgrey\", \"width\": 1}}, \"opacity\": 0.6, \"x\": [], \"y\": [], \"mode\": \"markers\", \"xaxis\": \"x2\", \"yaxis\": \"y1\"}, {\"type\": \"scatter\", \"name\": 2008, \"marker\": {\"color\": \"rgb(255, 127, 14)\", \"size\": 8, \"line\": {\"color\": \"darkgrey\", \"width\": 1}}, \"opacity\": 0.6, \"x\": [6774834.38, 145869895.23000002, 55050527.92, 119459172.41, 207984262.91000003, 53441593.60999999, 30409472.69, 7523838.630000001, 219636818.25, 136173395.35, 11376385.09, 53086786.42, 11970552.950000001, 199475177.6, 129510294.00999999, 46630321.419999994, 97863340.31, 92453141.41, 42505478.510000005, 47360952.92, 17094919.46, 114989805.86, 54763359.92, 91028795.48, 48205711.050000004, 29637137.03, 125239062.91, 32734579.189999998, 32373522.26, 22876991.55, 63674789.099999994, 37009836.95, 35089973.58, 140322100.21, 153412251.14000002, 76328908.58, 58718437.589999996, 222350924.79, 7387265.789999999, 100978004.82, 7082671.569999999, 90663312.58, 404787781.01, 46578762.7, 72678531.41, 6820215.98, 110828451.08999999, 63479555.03999999, 91123096.64000002, 46500448.36], \"y\": [46422, 174459, 100485, 262521, 1993244, 252558, 243856, 55273, 764086, 420483, 67721, 140017, 56296, 655275, 279574, 129313, 162481, 206601, 392817, 300601, 51236, 396515, 268824, 255426, 97655, 36749, 424200, 31812, 85813, 62956, 503365, 82853, 130787, 1124539, 501477, 146936, 182813, 591039, 48262, 166820, 36373, 255826, 1173697, 115509, 407227, 26067, 360521, 251711, 63821, 37776], \"mode\": \"markers\", \"xaxis\": \"x2\", \"yaxis\": \"y1\"}, {\"type\": \"scatter\", \"name\": 2016, \"marker\": {\"color\": \"rgb(44, 160, 44)\", \"size\": 8, \"line\": {\"color\": \"darkgrey\", \"width\": 1}}, \"opacity\": 0.6, \"x\": [], \"y\": [], \"mode\": \"markers\", \"xaxis\": \"x2\", \"yaxis\": \"y1\"}, {\"type\": \"scatter\", \"name\": 2001, \"marker\": {\"color\": \"rgb(31, 119, 180)\", \"size\": 8, \"line\": {\"color\": \"darkgrey\", \"width\": 1}}, \"opacity\": 0.6, \"x\": [], \"y\": [], \"mode\": \"markers\", \"xaxis\": \"x3\", \"yaxis\": \"y1\"}, {\"type\": \"scatter\", \"name\": 2008, \"marker\": {\"color\": \"rgb(255, 127, 14)\", \"size\": 8, \"line\": {\"color\": \"darkgrey\", \"width\": 1}}, \"opacity\": 0.6, \"x\": [], \"y\": [], \"mode\": \"markers\", \"xaxis\": \"x3\", \"yaxis\": \"y1\"}, {\"type\": \"scatter\", \"name\": 2016, \"marker\": {\"color\": \"rgb(44, 160, 44)\", \"size\": 8, \"line\": {\"color\": \"darkgrey\", \"width\": 1}}, \"opacity\": 0.6, \"x\": [5395404.48, 142964353.24999997, 60391777.38, 110396202.35000001, 207439653.12, 54836024.199999996, 36563279.89, 8870526.23, 238145941.44, 133326052.00000001, 10171856.25, 54692136.55, 15946293.650000002, 186714867.11999997, 101837726.57999998, 47694367.39, 80361941.42, 106882238.54, 33451915.840000004, 37931165.260000005, 11671589.24, 112729535.99000001, 60160193.330000006, 79074594.93, 62890411.589999996, 27963469.849999998, 131647426.15, 37466060.22, 37598590.809999995, 19251943.819999997, 79062253.83000001, 32999560.4, 39899224.04, 135110995.91, 119270627.02, 78129131.36, 59526026.77, 215007175.99, 6553670.96, 96981064.18, 10361496.82, 80080368.38, 455815996.52000004, 37879231.85, 92470294.45, 1736447.56, 112866450.72, 64826681.51, 75561992.66000001, 46295682.11000001], \"y\": [47460, 181211, 108676, 267472, 2300793, 292512, 230720, 60613, 815073, 461106, 73252, 157721, 59694, 692453, 300589, 136591, 172975, 205605, 446476, 333336, 51823, 430608, 296443, 263933, 95282, 41030, 449754, 47628, 101294, 69135, 510586, 86046, 128833, 1275137, 552460, 175082, 207058, 651959, 50327, 183873, 41607, 287776, 1498881, 136194, 435192, 27448, 414182, 273139, 66496, 34439], \"mode\": \"markers\", \"xaxis\": \"x3\", \"yaxis\": \"y1\"}], {\"xaxis1\": {\"domain\": [0.0, 0.3233333333333333], \"anchor\": \"y1\", \"dtick\": 100124540, \"ticklen\": 0, \"zeroline\": false, \"range\": [-20967530.5, 479655173.375]}, \"yaxis1\": {\"domain\": [0.0, 1.0], \"anchor\": \"x1\", \"dtick\": 502260, \"ticklen\": 0, \"zeroline\": false, \"range\": [-90924.3, 2420378.865]}, \"xaxis2\": {\"domain\": [0.3383333333333333, 0.6616666666666666], \"anchor\": \"free\", \"position\": 0.0, \"dtick\": 100124540, \"ticklen\": 0, \"zeroline\": false, \"range\": [-20967530.5, 479655173.375]}, \"xaxis3\": {\"domain\": [0.6766666666666666, 1.0], \"anchor\": \"free\", \"position\": 0.0, \"dtick\": 100124540, \"ticklen\": 0, \"zeroline\": false, \"range\": [-20967530.5, 479655173.375]}, \"annotations\": [{\"textangle\": 0, \"xanchor\": \"center\", \"yanchor\": \"middle\", \"x\": 0.16166666666666665, \"y\": 1.03, \"showarrow\": false, \"xref\": \"paper\", \"yref\": \"paper\", \"text\": 2001, \"font\": {\"size\": 13, \"color\": \"#0f0f0f\"}}, {\"textangle\": 0, \"xanchor\": \"center\", \"yanchor\": \"middle\", \"x\": 0.5, \"y\": 1.03, \"showarrow\": false, \"xref\": \"paper\", \"yref\": \"paper\", \"text\": 2008, \"font\": {\"size\": 13, \"color\": \"#0f0f0f\"}}, {\"textangle\": 0, \"xanchor\": \"center\", \"yanchor\": \"middle\", \"x\": 0.8383333333333333, \"y\": 1.03, \"showarrow\": false, \"xref\": \"paper\", \"yref\": \"paper\", \"text\": 2016, \"font\": {\"size\": 13, \"color\": \"#0f0f0f\"}}, {\"font\": {\"color\": \"#000000\", \"size\": 12}, \"showarrow\": false, \"text\": \"Generation\", \"textangle\": 0, \"x\": 0.5, \"xanchor\": \"center\", \"xref\": \"paper\", \"y\": -0.1, \"yanchor\": \"middle\", \"yref\": \"paper\"}, {\"font\": {\"color\": \"#000000\", \"size\": 12}, \"showarrow\": false, \"text\": \"GSP\", \"textangle\": 270, \"x\": -0.1, \"xanchor\": \"center\", \"xref\": \"paper\", \"y\": 0.5, \"yanchor\": \"middle\", \"yref\": \"paper\"}], \"height\": 600, \"width\": 600, \"title\": \"\", \"paper_bgcolor\": \"rgb(251, 251, 251)\", \"showlegend\": true, \"legend\": {\"bgcolor\": \"#efefef\", \"borderwidth\": 1, \"x\": 1.05, \"y\": 1, \"yanchor\": \"top\"}}, {\"showLink\": true, \"linkText\": \"Export to plot.ly\"})});</script>"
      ]
     },
     "metadata": {},
     "output_type": "display_data"
    }
   ],
   "source": [
    "grid = ff.create_facet_grid(temp, x='Generation', y='GSP', facet_col='Year',\n",
    "                           color_name='Year', color_is_cat=True)\n",
    "\n",
    "iplot(grid)"
   ]
  },
  {
   "cell_type": "code",
   "execution_count": 195,
   "metadata": {
    "ExecuteTime": {
     "end_time": "2017-08-07T19:51:59.918281Z",
     "start_time": "2017-08-07T19:51:58.293877Z"
    }
   },
   "outputs": [
    {
     "name": "stderr",
     "output_type": "stream",
     "text": [
      "/Users/Home/anaconda/envs/py36/lib/python3.6/site-packages/ipykernel_launcher.py:1: SettingWithCopyWarning:\n",
      "\n",
      "\n",
      "A value is trying to be set on a copy of a slice from a DataFrame.\n",
      "Try using .loc[row_indexer,col_indexer] = value instead\n",
      "\n",
      "See the caveats in the documentation: http://pandas.pydata.org/pandas-docs/stable/indexing.html#indexing-view-versus-copy\n",
      "\n"
     ]
    },
    {
     "data": {
      "application/vnd.plotly.v1+json": {
       "data": [
        {
         "line": {
          "color": "rgba(255, 153, 51, 1.0)",
          "dash": "solid",
          "width": 1.3
         },
         "marker": {
          "size": 12,
          "symbol": "dot"
         },
         "mode": "markers",
         "name": "GSP",
         "text": [
          "AK 2001",
          "AK 2008",
          "AK 2016",
          "AL 2001",
          "AL 2008",
          "AL 2016",
          "AR 2001",
          "AR 2008",
          "AR 2016",
          "AZ 2001",
          "AZ 2008",
          "AZ 2016",
          "CA 2001",
          "CA 2008",
          "CA 2016",
          "CO 2001",
          "CO 2008",
          "CO 2016",
          "CT 2001",
          "CT 2008",
          "CT 2016",
          "DE 2001",
          "DE 2008",
          "DE 2016",
          "FL 2001",
          "FL 2008",
          "FL 2016",
          "GA 2001",
          "GA 2008",
          "GA 2016",
          "HI 2001",
          "HI 2008",
          "HI 2016",
          "IA 2001",
          "IA 2008",
          "IA 2016",
          "ID 2001",
          "ID 2008",
          "ID 2016",
          "IL 2001",
          "IL 2008",
          "IL 2016",
          "IN 2001",
          "IN 2008",
          "IN 2016",
          "KS 2001",
          "KS 2008",
          "KS 2016",
          "KY 2001",
          "KY 2008",
          "KY 2016",
          "LA 2001",
          "LA 2008",
          "LA 2016",
          "MA 2001",
          "MA 2008",
          "MA 2016",
          "MD 2001",
          "MD 2008",
          "MD 2016",
          "ME 2001",
          "ME 2008",
          "ME 2016",
          "MI 2001",
          "MI 2008",
          "MI 2016",
          "MN 2001",
          "MN 2008",
          "MN 2016",
          "MO 2001",
          "MO 2008",
          "MO 2016",
          "MS 2001",
          "MS 2008",
          "MS 2016",
          "MT 2001",
          "MT 2008",
          "MT 2016",
          "NC 2001",
          "NC 2008",
          "NC 2016",
          "ND 2001",
          "ND 2008",
          "ND 2016",
          "NE 2001",
          "NE 2008",
          "NE 2016",
          "NH 2001",
          "NH 2008",
          "NH 2016",
          "NJ 2001",
          "NJ 2008",
          "NJ 2016",
          "NM 2001",
          "NM 2008",
          "NM 2016",
          "NV 2001",
          "NV 2008",
          "NV 2016",
          "NY 2001",
          "NY 2008",
          "NY 2016",
          "OH 2001",
          "OH 2008",
          "OH 2016",
          "OK 2001",
          "OK 2008",
          "OK 2016",
          "OR 2001",
          "OR 2008",
          "OR 2016",
          "PA 2001",
          "PA 2008",
          "PA 2016",
          "RI 2001",
          "RI 2008",
          "RI 2016",
          "SC 2001",
          "SC 2008",
          "SC 2016",
          "SD 2001",
          "SD 2008",
          "SD 2016",
          "TN 2001",
          "TN 2008",
          "TN 2016",
          "TX 2001",
          "TX 2008",
          "TX 2016",
          "UT 2001",
          "UT 2008",
          "UT 2016",
          "VA 2001",
          "VA 2008",
          "VA 2016",
          "VT 2001",
          "VT 2008",
          "VT 2016",
          "WA 2001",
          "WA 2008",
          "WA 2016",
          "WI 2001",
          "WI 2008",
          "WI 2016",
          "WV 2001",
          "WV 2008",
          "WV 2016",
          "WY 2001",
          "WY 2008",
          "WY 2016"
         ],
         "type": "scatter",
         "x": [
          6743766,
          6774834.38,
          5395404.48,
          125345113.04,
          145869895.23000002,
          142964353.24999997,
          47192036,
          55050527.92,
          60391777.38,
          89911272,
          119459172.41,
          110396202.35000001,
          198596072,
          207984262.91000003,
          207439653.12,
          46876003,
          53441593.60999999,
          54836024.199999996,
          30490645,
          30409472.69,
          36563279.89,
          6807685,
          7523838.630000001,
          8870526.23,
          190945343,
          219636818.25,
          238145941.44,
          118316788.05,
          136173395.35,
          133326052.00000001,
          10633092,
          11376385.09,
          10171856.25,
          40658512,
          53086786.42,
          54692136.55,
          9346942,
          11970552.950000001,
          15946293.650000002,
          179249282.01,
          199475177.6,
          186714867.11999997,
          122569670,
          129510294.00999999,
          101837726.57999998,
          44748522,
          46630321.419999994,
          47694367.39,
          95417625,
          97863340.31,
          80361941.42,
          87894379.03,
          92453141.41,
          106882238.54,
          38478431,
          42505478.510000005,
          33451915.840000004,
          49062342,
          47360952.92,
          37931165.260000005,
          19564821,
          17094919.46,
          11671589.24,
          111845612,
          114989805.86,
          112729535.99000001,
          48523223,
          54763359.92,
          60160193.330000006,
          79544872.01,
          91028795.48,
          79074594.93,
          53446448,
          48205711.050000004,
          62890411.589999996,
          24232487,
          29637137.03,
          27963469.849999998,
          117495851,
          125239062.91,
          131647426.15,
          30332072,
          32734579.189999998,
          37466060.22,
          30485213,
          32373522.26,
          37598590.809999995,
          15074624,
          22876991.55,
          19251943.819999997,
          59421260,
          63674789.099999994,
          79062253.83000001,
          33611643,
          37009836.95,
          32999560.4,
          33875966,
          35089973.58,
          39899224.04,
          143914556,
          140322100.21,
          135110995.91,
          142261809,
          153412251.14000002,
          119270627.02,
          55249453,
          76328908.58,
          78129131.36,
          45051906,
          58718437.589999996,
          59526026.77,
          196576590,
          222350924.79,
          215007175.99,
          7501892,
          7387265.789999999,
          6553670.96,
          89158990,
          100978004.82,
          96981064.18,
          7400743,
          7082671.569999999,
          10361496.82,
          96221976,
          90663312.58,
          80080368.38,
          372580005.01,
          404787781.01,
          455815996.52000004,
          35853750,
          46578762.7,
          37879231.85,
          74104748,
          72678531.41,
          92470294.45,
          5480614,
          6820215.98,
          1736447.56,
          83048670,
          110828451.08999999,
          112866450.72,
          58763434,
          63479555.03999999,
          64826681.51,
          81836725,
          91123096.64000002,
          75561992.66000001,
          44776938,
          46500448.36,
          46295682.11000001
         ],
         "y": [
          37102,
          46422,
          47460,
          148824,
          174459,
          181211,
          85283,
          100485,
          108676,
          206560,
          262521,
          267472,
          1627983,
          1993244,
          2300793,
          226211,
          252558,
          292512,
          212395,
          243856,
          230720,
          56618,
          55273,
          60613,
          645193,
          764086,
          815073,
          378479,
          420483,
          461106,
          53669,
          67721,
          73252,
          114313,
          140017,
          157721,
          44073,
          56296,
          59694,
          610054,
          655275,
          692453,
          245953,
          279574,
          300589,
          107398,
          129313,
          136591,
          144407,
          162481,
          172975,
          184946,
          206601,
          205605,
          352601,
          392817,
          446476,
          251494,
          300601,
          333336,
          47564,
          51236,
          51823,
          408463,
          396515,
          430608,
          235075,
          268824,
          296443,
          233240,
          255426,
          263933,
          82326,
          97655,
          95282,
          29269,
          36749,
          41030,
          348010,
          424200,
          449754,
          22967,
          31812,
          47628,
          72624,
          85813,
          101294,
          55920,
          62956,
          69135,
          458601,
          503365,
          510586,
          69448,
          82853,
          86046,
          102262,
          130787,
          128833,
          1056708,
          1124539,
          1275137,
          477602,
          501477,
          552460,
          121910,
          146936,
          175082,
          128873,
          182813,
          207058,
          522191,
          591039,
          651959,
          44388,
          48262,
          50327,
          145941,
          166820,
          183873,
          27535,
          36373,
          41607,
          222160,
          255826,
          287776,
          954786,
          1173697,
          1498881,
          88719,
          115509,
          136194,
          346918,
          407227,
          435192,
          23031,
          26067,
          27448,
          289754,
          360521,
          414182,
          227508,
          251711,
          273139,
          58120,
          63821,
          66496,
          26542,
          37776,
          34439
         ]
        }
       ],
       "layout": {
        "legend": {
         "bgcolor": "#F5F6F9",
         "font": {
          "color": "#4D5663"
         }
        },
        "paper_bgcolor": "#F5F6F9",
        "plot_bgcolor": "#F5F6F9",
        "titlefont": {
         "color": "#4D5663"
        },
        "xaxis1": {
         "gridcolor": "#E1E5ED",
         "showgrid": true,
         "tickfont": {
          "color": "#4D5663"
         },
         "title": "Generation (MWh)",
         "titlefont": {
          "color": "#4D5663"
         },
         "zerolinecolor": "#E1E5ED"
        },
        "yaxis1": {
         "gridcolor": "#E1E5ED",
         "showgrid": true,
         "tickfont": {
          "color": "#4D5663"
         },
         "title": "Gross State Product",
         "titlefont": {
          "color": "#4D5663"
         },
         "zerolinecolor": "#E1E5ED"
        }
       }
      },
      "text/html": [
       "<div id=\"d6546fb8-ab06-417a-8c9e-5ebaedbad209\" style=\"height: 525px; width: 100%;\" class=\"plotly-graph-div\"></div><script type=\"text/javascript\">require([\"plotly\"], function(Plotly) { window.PLOTLYENV=window.PLOTLYENV || {};window.PLOTLYENV.BASE_URL=\"https://plot.ly\";Plotly.newPlot(\"d6546fb8-ab06-417a-8c9e-5ebaedbad209\", [{\"type\": \"scatter\", \"x\": [6743766.0, 6774834.38, 5395404.48, 125345113.04, 145869895.23000002, 142964353.24999997, 47192036.0, 55050527.92, 60391777.38, 89911272.0, 119459172.41, 110396202.35000001, 198596072.0, 207984262.91000003, 207439653.12, 46876003.0, 53441593.60999999, 54836024.199999996, 30490645.0, 30409472.69, 36563279.89, 6807685.0, 7523838.630000001, 8870526.23, 190945343.0, 219636818.25, 238145941.44, 118316788.05, 136173395.35, 133326052.00000001, 10633092.0, 11376385.09, 10171856.25, 40658512.0, 53086786.42, 54692136.55, 9346942.0, 11970552.950000001, 15946293.650000002, 179249282.01, 199475177.6, 186714867.11999997, 122569670.0, 129510294.00999999, 101837726.57999998, 44748522.0, 46630321.419999994, 47694367.39, 95417625.0, 97863340.31, 80361941.42, 87894379.03, 92453141.41, 106882238.54, 38478431.0, 42505478.510000005, 33451915.840000004, 49062342.0, 47360952.92, 37931165.260000005, 19564821.0, 17094919.46, 11671589.24, 111845612.0, 114989805.86, 112729535.99000001, 48523223.0, 54763359.92, 60160193.330000006, 79544872.01, 91028795.48, 79074594.93, 53446448.0, 48205711.050000004, 62890411.589999996, 24232487.0, 29637137.03, 27963469.849999998, 117495851.0, 125239062.91, 131647426.15, 30332072.0, 32734579.189999998, 37466060.22, 30485213.0, 32373522.26, 37598590.809999995, 15074624.0, 22876991.55, 19251943.819999997, 59421260.0, 63674789.099999994, 79062253.83000001, 33611643.0, 37009836.95, 32999560.4, 33875966.0, 35089973.58, 39899224.04, 143914556.0, 140322100.21, 135110995.91, 142261809.0, 153412251.14000002, 119270627.02, 55249453.0, 76328908.58, 78129131.36, 45051906.0, 58718437.589999996, 59526026.77, 196576590.0, 222350924.79, 215007175.99, 7501892.0, 7387265.789999999, 6553670.96, 89158990.0, 100978004.82, 96981064.18, 7400743.0, 7082671.569999999, 10361496.82, 96221976.0, 90663312.58, 80080368.38, 372580005.01, 404787781.01, 455815996.52000004, 35853750.0, 46578762.7, 37879231.85, 74104748.0, 72678531.41, 92470294.45, 5480614.0, 6820215.98, 1736447.56, 83048670.0, 110828451.08999999, 112866450.72, 58763434.0, 63479555.03999999, 64826681.51, 81836725.0, 91123096.64000002, 75561992.66000001, 44776938.0, 46500448.36, 46295682.11000001], \"y\": [37102, 46422, 47460, 148824, 174459, 181211, 85283, 100485, 108676, 206560, 262521, 267472, 1627983, 1993244, 2300793, 226211, 252558, 292512, 212395, 243856, 230720, 56618, 55273, 60613, 645193, 764086, 815073, 378479, 420483, 461106, 53669, 67721, 73252, 114313, 140017, 157721, 44073, 56296, 59694, 610054, 655275, 692453, 245953, 279574, 300589, 107398, 129313, 136591, 144407, 162481, 172975, 184946, 206601, 205605, 352601, 392817, 446476, 251494, 300601, 333336, 47564, 51236, 51823, 408463, 396515, 430608, 235075, 268824, 296443, 233240, 255426, 263933, 82326, 97655, 95282, 29269, 36749, 41030, 348010, 424200, 449754, 22967, 31812, 47628, 72624, 85813, 101294, 55920, 62956, 69135, 458601, 503365, 510586, 69448, 82853, 86046, 102262, 130787, 128833, 1056708, 1124539, 1275137, 477602, 501477, 552460, 121910, 146936, 175082, 128873, 182813, 207058, 522191, 591039, 651959, 44388, 48262, 50327, 145941, 166820, 183873, 27535, 36373, 41607, 222160, 255826, 287776, 954786, 1173697, 1498881, 88719, 115509, 136194, 346918, 407227, 435192, 23031, 26067, 27448, 289754, 360521, 414182, 227508, 251711, 273139, 58120, 63821, 66496, 26542, 37776, 34439], \"name\": \"GSP\", \"text\": [\"AK 2001\", \"AK 2008\", \"AK 2016\", \"AL 2001\", \"AL 2008\", \"AL 2016\", \"AR 2001\", \"AR 2008\", \"AR 2016\", \"AZ 2001\", \"AZ 2008\", \"AZ 2016\", \"CA 2001\", \"CA 2008\", \"CA 2016\", \"CO 2001\", \"CO 2008\", \"CO 2016\", \"CT 2001\", \"CT 2008\", \"CT 2016\", \"DE 2001\", \"DE 2008\", \"DE 2016\", \"FL 2001\", \"FL 2008\", \"FL 2016\", \"GA 2001\", \"GA 2008\", \"GA 2016\", \"HI 2001\", \"HI 2008\", \"HI 2016\", \"IA 2001\", \"IA 2008\", \"IA 2016\", \"ID 2001\", \"ID 2008\", \"ID 2016\", \"IL 2001\", \"IL 2008\", \"IL 2016\", \"IN 2001\", \"IN 2008\", \"IN 2016\", \"KS 2001\", \"KS 2008\", \"KS 2016\", \"KY 2001\", \"KY 2008\", \"KY 2016\", \"LA 2001\", \"LA 2008\", \"LA 2016\", \"MA 2001\", \"MA 2008\", \"MA 2016\", \"MD 2001\", \"MD 2008\", \"MD 2016\", \"ME 2001\", \"ME 2008\", \"ME 2016\", \"MI 2001\", \"MI 2008\", \"MI 2016\", \"MN 2001\", \"MN 2008\", \"MN 2016\", \"MO 2001\", \"MO 2008\", \"MO 2016\", \"MS 2001\", \"MS 2008\", \"MS 2016\", \"MT 2001\", \"MT 2008\", \"MT 2016\", \"NC 2001\", \"NC 2008\", \"NC 2016\", \"ND 2001\", \"ND 2008\", \"ND 2016\", \"NE 2001\", \"NE 2008\", \"NE 2016\", \"NH 2001\", \"NH 2008\", \"NH 2016\", \"NJ 2001\", \"NJ 2008\", \"NJ 2016\", \"NM 2001\", \"NM 2008\", \"NM 2016\", \"NV 2001\", \"NV 2008\", \"NV 2016\", \"NY 2001\", \"NY 2008\", \"NY 2016\", \"OH 2001\", \"OH 2008\", \"OH 2016\", \"OK 2001\", \"OK 2008\", \"OK 2016\", \"OR 2001\", \"OR 2008\", \"OR 2016\", \"PA 2001\", \"PA 2008\", \"PA 2016\", \"RI 2001\", \"RI 2008\", \"RI 2016\", \"SC 2001\", \"SC 2008\", \"SC 2016\", \"SD 2001\", \"SD 2008\", \"SD 2016\", \"TN 2001\", \"TN 2008\", \"TN 2016\", \"TX 2001\", \"TX 2008\", \"TX 2016\", \"UT 2001\", \"UT 2008\", \"UT 2016\", \"VA 2001\", \"VA 2008\", \"VA 2016\", \"VT 2001\", \"VT 2008\", \"VT 2016\", \"WA 2001\", \"WA 2008\", \"WA 2016\", \"WI 2001\", \"WI 2008\", \"WI 2016\", \"WV 2001\", \"WV 2008\", \"WV 2016\", \"WY 2001\", \"WY 2008\", \"WY 2016\"], \"line\": {\"color\": \"rgba(255, 153, 51, 1.0)\", \"width\": 1.3, \"dash\": \"solid\"}, \"mode\": \"markers\", \"marker\": {\"symbol\": \"dot\", \"size\": 12}}], {\"legend\": {\"bgcolor\": \"#F5F6F9\", \"font\": {\"color\": \"#4D5663\"}}, \"paper_bgcolor\": \"#F5F6F9\", \"plot_bgcolor\": \"#F5F6F9\", \"yaxis1\": {\"tickfont\": {\"color\": \"#4D5663\"}, \"gridcolor\": \"#E1E5ED\", \"titlefont\": {\"color\": \"#4D5663\"}, \"zerolinecolor\": \"#E1E5ED\", \"showgrid\": true, \"title\": \"Gross State Product\"}, \"xaxis1\": {\"tickfont\": {\"color\": \"#4D5663\"}, \"gridcolor\": \"#E1E5ED\", \"titlefont\": {\"color\": \"#4D5663\"}, \"zerolinecolor\": \"#E1E5ED\", \"showgrid\": true, \"title\": \"Generation (MWh)\"}, \"titlefont\": {\"color\": \"#4D5663\"}}, {\"showLink\": true, \"linkText\": \"Export to plot.ly\"})});</script>"
      ],
      "text/vnd.plotly.v1+html": [
       "<div id=\"d6546fb8-ab06-417a-8c9e-5ebaedbad209\" style=\"height: 525px; width: 100%;\" class=\"plotly-graph-div\"></div><script type=\"text/javascript\">require([\"plotly\"], function(Plotly) { window.PLOTLYENV=window.PLOTLYENV || {};window.PLOTLYENV.BASE_URL=\"https://plot.ly\";Plotly.newPlot(\"d6546fb8-ab06-417a-8c9e-5ebaedbad209\", [{\"type\": \"scatter\", \"x\": [6743766.0, 6774834.38, 5395404.48, 125345113.04, 145869895.23000002, 142964353.24999997, 47192036.0, 55050527.92, 60391777.38, 89911272.0, 119459172.41, 110396202.35000001, 198596072.0, 207984262.91000003, 207439653.12, 46876003.0, 53441593.60999999, 54836024.199999996, 30490645.0, 30409472.69, 36563279.89, 6807685.0, 7523838.630000001, 8870526.23, 190945343.0, 219636818.25, 238145941.44, 118316788.05, 136173395.35, 133326052.00000001, 10633092.0, 11376385.09, 10171856.25, 40658512.0, 53086786.42, 54692136.55, 9346942.0, 11970552.950000001, 15946293.650000002, 179249282.01, 199475177.6, 186714867.11999997, 122569670.0, 129510294.00999999, 101837726.57999998, 44748522.0, 46630321.419999994, 47694367.39, 95417625.0, 97863340.31, 80361941.42, 87894379.03, 92453141.41, 106882238.54, 38478431.0, 42505478.510000005, 33451915.840000004, 49062342.0, 47360952.92, 37931165.260000005, 19564821.0, 17094919.46, 11671589.24, 111845612.0, 114989805.86, 112729535.99000001, 48523223.0, 54763359.92, 60160193.330000006, 79544872.01, 91028795.48, 79074594.93, 53446448.0, 48205711.050000004, 62890411.589999996, 24232487.0, 29637137.03, 27963469.849999998, 117495851.0, 125239062.91, 131647426.15, 30332072.0, 32734579.189999998, 37466060.22, 30485213.0, 32373522.26, 37598590.809999995, 15074624.0, 22876991.55, 19251943.819999997, 59421260.0, 63674789.099999994, 79062253.83000001, 33611643.0, 37009836.95, 32999560.4, 33875966.0, 35089973.58, 39899224.04, 143914556.0, 140322100.21, 135110995.91, 142261809.0, 153412251.14000002, 119270627.02, 55249453.0, 76328908.58, 78129131.36, 45051906.0, 58718437.589999996, 59526026.77, 196576590.0, 222350924.79, 215007175.99, 7501892.0, 7387265.789999999, 6553670.96, 89158990.0, 100978004.82, 96981064.18, 7400743.0, 7082671.569999999, 10361496.82, 96221976.0, 90663312.58, 80080368.38, 372580005.01, 404787781.01, 455815996.52000004, 35853750.0, 46578762.7, 37879231.85, 74104748.0, 72678531.41, 92470294.45, 5480614.0, 6820215.98, 1736447.56, 83048670.0, 110828451.08999999, 112866450.72, 58763434.0, 63479555.03999999, 64826681.51, 81836725.0, 91123096.64000002, 75561992.66000001, 44776938.0, 46500448.36, 46295682.11000001], \"y\": [37102, 46422, 47460, 148824, 174459, 181211, 85283, 100485, 108676, 206560, 262521, 267472, 1627983, 1993244, 2300793, 226211, 252558, 292512, 212395, 243856, 230720, 56618, 55273, 60613, 645193, 764086, 815073, 378479, 420483, 461106, 53669, 67721, 73252, 114313, 140017, 157721, 44073, 56296, 59694, 610054, 655275, 692453, 245953, 279574, 300589, 107398, 129313, 136591, 144407, 162481, 172975, 184946, 206601, 205605, 352601, 392817, 446476, 251494, 300601, 333336, 47564, 51236, 51823, 408463, 396515, 430608, 235075, 268824, 296443, 233240, 255426, 263933, 82326, 97655, 95282, 29269, 36749, 41030, 348010, 424200, 449754, 22967, 31812, 47628, 72624, 85813, 101294, 55920, 62956, 69135, 458601, 503365, 510586, 69448, 82853, 86046, 102262, 130787, 128833, 1056708, 1124539, 1275137, 477602, 501477, 552460, 121910, 146936, 175082, 128873, 182813, 207058, 522191, 591039, 651959, 44388, 48262, 50327, 145941, 166820, 183873, 27535, 36373, 41607, 222160, 255826, 287776, 954786, 1173697, 1498881, 88719, 115509, 136194, 346918, 407227, 435192, 23031, 26067, 27448, 289754, 360521, 414182, 227508, 251711, 273139, 58120, 63821, 66496, 26542, 37776, 34439], \"name\": \"GSP\", \"text\": [\"AK 2001\", \"AK 2008\", \"AK 2016\", \"AL 2001\", \"AL 2008\", \"AL 2016\", \"AR 2001\", \"AR 2008\", \"AR 2016\", \"AZ 2001\", \"AZ 2008\", \"AZ 2016\", \"CA 2001\", \"CA 2008\", \"CA 2016\", \"CO 2001\", \"CO 2008\", \"CO 2016\", \"CT 2001\", \"CT 2008\", \"CT 2016\", \"DE 2001\", \"DE 2008\", \"DE 2016\", \"FL 2001\", \"FL 2008\", \"FL 2016\", \"GA 2001\", \"GA 2008\", \"GA 2016\", \"HI 2001\", \"HI 2008\", \"HI 2016\", \"IA 2001\", \"IA 2008\", \"IA 2016\", \"ID 2001\", \"ID 2008\", \"ID 2016\", \"IL 2001\", \"IL 2008\", \"IL 2016\", \"IN 2001\", \"IN 2008\", \"IN 2016\", \"KS 2001\", \"KS 2008\", \"KS 2016\", \"KY 2001\", \"KY 2008\", \"KY 2016\", \"LA 2001\", \"LA 2008\", \"LA 2016\", \"MA 2001\", \"MA 2008\", \"MA 2016\", \"MD 2001\", \"MD 2008\", \"MD 2016\", \"ME 2001\", \"ME 2008\", \"ME 2016\", \"MI 2001\", \"MI 2008\", \"MI 2016\", \"MN 2001\", \"MN 2008\", \"MN 2016\", \"MO 2001\", \"MO 2008\", \"MO 2016\", \"MS 2001\", \"MS 2008\", \"MS 2016\", \"MT 2001\", \"MT 2008\", \"MT 2016\", \"NC 2001\", \"NC 2008\", \"NC 2016\", \"ND 2001\", \"ND 2008\", \"ND 2016\", \"NE 2001\", \"NE 2008\", \"NE 2016\", \"NH 2001\", \"NH 2008\", \"NH 2016\", \"NJ 2001\", \"NJ 2008\", \"NJ 2016\", \"NM 2001\", \"NM 2008\", \"NM 2016\", \"NV 2001\", \"NV 2008\", \"NV 2016\", \"NY 2001\", \"NY 2008\", \"NY 2016\", \"OH 2001\", \"OH 2008\", \"OH 2016\", \"OK 2001\", \"OK 2008\", \"OK 2016\", \"OR 2001\", \"OR 2008\", \"OR 2016\", \"PA 2001\", \"PA 2008\", \"PA 2016\", \"RI 2001\", \"RI 2008\", \"RI 2016\", \"SC 2001\", \"SC 2008\", \"SC 2016\", \"SD 2001\", \"SD 2008\", \"SD 2016\", \"TN 2001\", \"TN 2008\", \"TN 2016\", \"TX 2001\", \"TX 2008\", \"TX 2016\", \"UT 2001\", \"UT 2008\", \"UT 2016\", \"VA 2001\", \"VA 2008\", \"VA 2016\", \"VT 2001\", \"VT 2008\", \"VT 2016\", \"WA 2001\", \"WA 2008\", \"WA 2016\", \"WI 2001\", \"WI 2008\", \"WI 2016\", \"WV 2001\", \"WV 2008\", \"WV 2016\", \"WY 2001\", \"WY 2008\", \"WY 2016\"], \"line\": {\"color\": \"rgba(255, 153, 51, 1.0)\", \"width\": 1.3, \"dash\": \"solid\"}, \"mode\": \"markers\", \"marker\": {\"symbol\": \"dot\", \"size\": 12}}], {\"legend\": {\"bgcolor\": \"#F5F6F9\", \"font\": {\"color\": \"#4D5663\"}}, \"paper_bgcolor\": \"#F5F6F9\", \"plot_bgcolor\": \"#F5F6F9\", \"yaxis1\": {\"tickfont\": {\"color\": \"#4D5663\"}, \"gridcolor\": \"#E1E5ED\", \"titlefont\": {\"color\": \"#4D5663\"}, \"zerolinecolor\": \"#E1E5ED\", \"showgrid\": true, \"title\": \"Gross State Product\"}, \"xaxis1\": {\"tickfont\": {\"color\": \"#4D5663\"}, \"gridcolor\": \"#E1E5ED\", \"titlefont\": {\"color\": \"#4D5663\"}, \"zerolinecolor\": \"#E1E5ED\", \"showgrid\": true, \"title\": \"Generation (MWh)\"}, \"titlefont\": {\"color\": \"#4D5663\"}}, {\"showLink\": true, \"linkText\": \"Export to plot.ly\"})});</script>"
      ]
     },
     "metadata": {},
     "output_type": "display_data"
    }
   ],
   "source": [
    "temp['State/Year'] = temp.apply(lambda row: row['State'] + ' {}'.format(row['Year']), axis=1)\n",
    "temp.iplot(kind='scatter', mode='markers', x='Generation', y='GSP', text='State/Year',\n",
    "           xTitle='Generation (MWh)', yTitle='Gross State Product')"
   ]
  },
  {
   "cell_type": "code",
   "execution_count": 196,
   "metadata": {
    "ExecuteTime": {
     "end_time": "2017-08-07T19:52:57.509698Z",
     "start_time": "2017-08-07T19:52:55.924676Z"
    }
   },
   "outputs": [
    {
     "name": "stderr",
     "output_type": "stream",
     "text": [
      "/Users/Home/anaconda/envs/py36/lib/python3.6/site-packages/ipykernel_launcher.py:1: SettingWithCopyWarning:\n",
      "\n",
      "\n",
      "A value is trying to be set on a copy of a slice from a DataFrame.\n",
      "Try using .loc[row_indexer,col_indexer] = value instead\n",
      "\n",
      "See the caveats in the documentation: http://pandas.pydata.org/pandas-docs/stable/indexing.html#indexing-view-versus-copy\n",
      "\n"
     ]
    },
    {
     "data": {
      "application/vnd.plotly.v1+json": {
       "data": [
        {
         "line": {
          "color": "rgba(255, 153, 51, 1.0)",
          "dash": "solid",
          "width": 1.3
         },
         "marker": {
          "size": 12,
          "symbol": "dot"
         },
         "mode": "markers",
         "name": "Population",
         "text": [
          "AK 2001",
          "AK 2008",
          "AK 2016",
          "AL 2001",
          "AL 2008",
          "AL 2016",
          "AR 2001",
          "AR 2008",
          "AR 2016",
          "AZ 2001",
          "AZ 2008",
          "AZ 2016",
          "CA 2001",
          "CA 2008",
          "CA 2016",
          "CO 2001",
          "CO 2008",
          "CO 2016",
          "CT 2001",
          "CT 2008",
          "CT 2016",
          "DE 2001",
          "DE 2008",
          "DE 2016",
          "FL 2001",
          "FL 2008",
          "FL 2016",
          "GA 2001",
          "GA 2008",
          "GA 2016",
          "HI 2001",
          "HI 2008",
          "HI 2016",
          "IA 2001",
          "IA 2008",
          "IA 2016",
          "ID 2001",
          "ID 2008",
          "ID 2016",
          "IL 2001",
          "IL 2008",
          "IL 2016",
          "IN 2001",
          "IN 2008",
          "IN 2016",
          "KS 2001",
          "KS 2008",
          "KS 2016",
          "KY 2001",
          "KY 2008",
          "KY 2016",
          "LA 2001",
          "LA 2008",
          "LA 2016",
          "MA 2001",
          "MA 2008",
          "MA 2016",
          "MD 2001",
          "MD 2008",
          "MD 2016",
          "ME 2001",
          "ME 2008",
          "ME 2016",
          "MI 2001",
          "MI 2008",
          "MI 2016",
          "MN 2001",
          "MN 2008",
          "MN 2016",
          "MO 2001",
          "MO 2008",
          "MO 2016",
          "MS 2001",
          "MS 2008",
          "MS 2016",
          "MT 2001",
          "MT 2008",
          "MT 2016",
          "NC 2001",
          "NC 2008",
          "NC 2016",
          "ND 2001",
          "ND 2008",
          "ND 2016",
          "NE 2001",
          "NE 2008",
          "NE 2016",
          "NH 2001",
          "NH 2008",
          "NH 2016",
          "NJ 2001",
          "NJ 2008",
          "NJ 2016",
          "NM 2001",
          "NM 2008",
          "NM 2016",
          "NV 2001",
          "NV 2008",
          "NV 2016",
          "NY 2001",
          "NY 2008",
          "NY 2016",
          "OH 2001",
          "OH 2008",
          "OH 2016",
          "OK 2001",
          "OK 2008",
          "OK 2016",
          "OR 2001",
          "OR 2008",
          "OR 2016",
          "PA 2001",
          "PA 2008",
          "PA 2016",
          "RI 2001",
          "RI 2008",
          "RI 2016",
          "SC 2001",
          "SC 2008",
          "SC 2016",
          "SD 2001",
          "SD 2008",
          "SD 2016",
          "TN 2001",
          "TN 2008",
          "TN 2016",
          "TX 2001",
          "TX 2008",
          "TX 2016",
          "UT 2001",
          "UT 2008",
          "UT 2016",
          "VA 2001",
          "VA 2008",
          "VA 2016",
          "VT 2001",
          "VT 2008",
          "VT 2016",
          "WA 2001",
          "WA 2008",
          "WA 2016",
          "WI 2001",
          "WI 2008",
          "WI 2016",
          "WV 2001",
          "WV 2008",
          "WV 2016",
          "WY 2001",
          "WY 2008",
          "WY 2016"
         ],
         "type": "scatter",
         "x": [
          6743766,
          6774834.38,
          5395404.48,
          125345113.04,
          145869895.23000002,
          142964353.24999997,
          47192036,
          55050527.92,
          60391777.38,
          89911272,
          119459172.41,
          110396202.35000001,
          198596072,
          207984262.91000003,
          207439653.12,
          46876003,
          53441593.60999999,
          54836024.199999996,
          30490645,
          30409472.69,
          36563279.89,
          6807685,
          7523838.630000001,
          8870526.23,
          190945343,
          219636818.25,
          238145941.44,
          118316788.05,
          136173395.35,
          133326052.00000001,
          10633092,
          11376385.09,
          10171856.25,
          40658512,
          53086786.42,
          54692136.55,
          9346942,
          11970552.950000001,
          15946293.650000002,
          179249282.01,
          199475177.6,
          186714867.11999997,
          122569670,
          129510294.00999999,
          101837726.57999998,
          44748522,
          46630321.419999994,
          47694367.39,
          95417625,
          97863340.31,
          80361941.42,
          87894379.03,
          92453141.41,
          106882238.54,
          38478431,
          42505478.510000005,
          33451915.840000004,
          49062342,
          47360952.92,
          37931165.260000005,
          19564821,
          17094919.46,
          11671589.24,
          111845612,
          114989805.86,
          112729535.99000001,
          48523223,
          54763359.92,
          60160193.330000006,
          79544872.01,
          91028795.48,
          79074594.93,
          53446448,
          48205711.050000004,
          62890411.589999996,
          24232487,
          29637137.03,
          27963469.849999998,
          117495851,
          125239062.91,
          131647426.15,
          30332072,
          32734579.189999998,
          37466060.22,
          30485213,
          32373522.26,
          37598590.809999995,
          15074624,
          22876991.55,
          19251943.819999997,
          59421260,
          63674789.099999994,
          79062253.83000001,
          33611643,
          37009836.95,
          32999560.4,
          33875966,
          35089973.58,
          39899224.04,
          143914556,
          140322100.21,
          135110995.91,
          142261809,
          153412251.14000002,
          119270627.02,
          55249453,
          76328908.58,
          78129131.36,
          45051906,
          58718437.589999996,
          59526026.77,
          196576590,
          222350924.79,
          215007175.99,
          7501892,
          7387265.789999999,
          6553670.96,
          89158990,
          100978004.82,
          96981064.18,
          7400743,
          7082671.569999999,
          10361496.82,
          96221976,
          90663312.58,
          80080368.38,
          372580005.01,
          404787781.01,
          455815996.52000004,
          35853750,
          46578762.7,
          37879231.85,
          74104748,
          72678531.41,
          92470294.45,
          5480614,
          6820215.98,
          1736447.56,
          83048670,
          110828451.08999999,
          112866450.72,
          58763434,
          63479555.03999999,
          64826681.51,
          81836725,
          91123096.64000002,
          75561992.66000001,
          44776938,
          46500448.36,
          46295682.11000001
         ],
         "y": [
          633714,
          687455,
          741894,
          4467634,
          4718206,
          4863300,
          2691571,
          2874554,
          2988248,
          5273477,
          6280362,
          6931071,
          34479458,
          36604337,
          39250017,
          4425687,
          4889730,
          5540545,
          3432835,
          3545579,
          3576452,
          795699,
          883874,
          952065,
          16356966,
          18527305,
          20612439,
          8377038,
          9504843,
          10310371,
          1225948,
          1332213,
          1428557,
          2931997,
          3016734,
          3134693,
          1319962,
          1534320,
          1683140,
          12488445,
          12747038,
          12801539,
          6127760,
          6424806,
          6633053,
          2702162,
          2808076,
          2907289,
          4068132,
          4289878,
          4436974,
          4477875,
          4435586,
          4681666,
          6397634,
          6468967,
          6811779,
          5374691,
          5684965,
          6016447,
          1285692,
          1330509,
          1331479,
          9991120,
          9946889,
          9928300,
          4982796,
          5247018,
          5519952,
          5641142,
          5923916,
          6093000,
          2852994,
          2947806,
          2988726,
          906961,
          976415,
          1042520,
          8210122,
          9309449,
          10146788,
          639062,
          657569,
          757952,
          1719836,
          1796378,
          1907116,
          1255517,
          1315906,
          1334795,
          8492671,
          8711090,
          8944469,
          1831690,
          2010662,
          2081015,
          2098399,
          2653630,
          2940058,
          19082838,
          19212436,
          19745289,
          11387404,
          11515391,
          11614373,
          3467100,
          3668976,
          3923561,
          3467937,
          3768748,
          4093465,
          12298970,
          12612285,
          12784227,
          1057142,
          1055003,
          1056426,
          4064995,
          4528996,
          4961119,
          757972,
          799124,
          865454,
          5750789,
          6247411,
          6651194,
          21319622,
          24309039,
          27862596,
          2283715,
          2663029,
          3051217,
          7198362,
          7833496,
          8411808,
          612223,
          624151,
          624594,
          5985722,
          6562231,
          7288000,
          5406835,
          5640996,
          5778708,
          1801481,
          1840310,
          1831102,
          494657,
          546043,
          585501
         ]
        }
       ],
       "layout": {
        "legend": {
         "bgcolor": "#F5F6F9",
         "font": {
          "color": "#4D5663"
         }
        },
        "paper_bgcolor": "#F5F6F9",
        "plot_bgcolor": "#F5F6F9",
        "titlefont": {
         "color": "#4D5663"
        },
        "xaxis1": {
         "gridcolor": "#E1E5ED",
         "showgrid": true,
         "tickfont": {
          "color": "#4D5663"
         },
         "title": "Generation (MWh)",
         "titlefont": {
          "color": "#4D5663"
         },
         "zerolinecolor": "#E1E5ED"
        },
        "yaxis1": {
         "gridcolor": "#E1E5ED",
         "showgrid": true,
         "tickfont": {
          "color": "#4D5663"
         },
         "title": "Population",
         "titlefont": {
          "color": "#4D5663"
         },
         "zerolinecolor": "#E1E5ED"
        }
       }
      },
      "text/html": [
       "<div id=\"1f115002-bdde-4033-8929-493798ffb613\" style=\"height: 525px; width: 100%;\" class=\"plotly-graph-div\"></div><script type=\"text/javascript\">require([\"plotly\"], function(Plotly) { window.PLOTLYENV=window.PLOTLYENV || {};window.PLOTLYENV.BASE_URL=\"https://plot.ly\";Plotly.newPlot(\"1f115002-bdde-4033-8929-493798ffb613\", [{\"type\": \"scatter\", \"x\": [6743766.0, 6774834.38, 5395404.48, 125345113.04, 145869895.23000002, 142964353.24999997, 47192036.0, 55050527.92, 60391777.38, 89911272.0, 119459172.41, 110396202.35000001, 198596072.0, 207984262.91000003, 207439653.12, 46876003.0, 53441593.60999999, 54836024.199999996, 30490645.0, 30409472.69, 36563279.89, 6807685.0, 7523838.630000001, 8870526.23, 190945343.0, 219636818.25, 238145941.44, 118316788.05, 136173395.35, 133326052.00000001, 10633092.0, 11376385.09, 10171856.25, 40658512.0, 53086786.42, 54692136.55, 9346942.0, 11970552.950000001, 15946293.650000002, 179249282.01, 199475177.6, 186714867.11999997, 122569670.0, 129510294.00999999, 101837726.57999998, 44748522.0, 46630321.419999994, 47694367.39, 95417625.0, 97863340.31, 80361941.42, 87894379.03, 92453141.41, 106882238.54, 38478431.0, 42505478.510000005, 33451915.840000004, 49062342.0, 47360952.92, 37931165.260000005, 19564821.0, 17094919.46, 11671589.24, 111845612.0, 114989805.86, 112729535.99000001, 48523223.0, 54763359.92, 60160193.330000006, 79544872.01, 91028795.48, 79074594.93, 53446448.0, 48205711.050000004, 62890411.589999996, 24232487.0, 29637137.03, 27963469.849999998, 117495851.0, 125239062.91, 131647426.15, 30332072.0, 32734579.189999998, 37466060.22, 30485213.0, 32373522.26, 37598590.809999995, 15074624.0, 22876991.55, 19251943.819999997, 59421260.0, 63674789.099999994, 79062253.83000001, 33611643.0, 37009836.95, 32999560.4, 33875966.0, 35089973.58, 39899224.04, 143914556.0, 140322100.21, 135110995.91, 142261809.0, 153412251.14000002, 119270627.02, 55249453.0, 76328908.58, 78129131.36, 45051906.0, 58718437.589999996, 59526026.77, 196576590.0, 222350924.79, 215007175.99, 7501892.0, 7387265.789999999, 6553670.96, 89158990.0, 100978004.82, 96981064.18, 7400743.0, 7082671.569999999, 10361496.82, 96221976.0, 90663312.58, 80080368.38, 372580005.01, 404787781.01, 455815996.52000004, 35853750.0, 46578762.7, 37879231.85, 74104748.0, 72678531.41, 92470294.45, 5480614.0, 6820215.98, 1736447.56, 83048670.0, 110828451.08999999, 112866450.72, 58763434.0, 63479555.03999999, 64826681.51, 81836725.0, 91123096.64000002, 75561992.66000001, 44776938.0, 46500448.36, 46295682.11000001], \"y\": [633714, 687455, 741894, 4467634, 4718206, 4863300, 2691571, 2874554, 2988248, 5273477, 6280362, 6931071, 34479458, 36604337, 39250017, 4425687, 4889730, 5540545, 3432835, 3545579, 3576452, 795699, 883874, 952065, 16356966, 18527305, 20612439, 8377038, 9504843, 10310371, 1225948, 1332213, 1428557, 2931997, 3016734, 3134693, 1319962, 1534320, 1683140, 12488445, 12747038, 12801539, 6127760, 6424806, 6633053, 2702162, 2808076, 2907289, 4068132, 4289878, 4436974, 4477875, 4435586, 4681666, 6397634, 6468967, 6811779, 5374691, 5684965, 6016447, 1285692, 1330509, 1331479, 9991120, 9946889, 9928300, 4982796, 5247018, 5519952, 5641142, 5923916, 6093000, 2852994, 2947806, 2988726, 906961, 976415, 1042520, 8210122, 9309449, 10146788, 639062, 657569, 757952, 1719836, 1796378, 1907116, 1255517, 1315906, 1334795, 8492671, 8711090, 8944469, 1831690, 2010662, 2081015, 2098399, 2653630, 2940058, 19082838, 19212436, 19745289, 11387404, 11515391, 11614373, 3467100, 3668976, 3923561, 3467937, 3768748, 4093465, 12298970, 12612285, 12784227, 1057142, 1055003, 1056426, 4064995, 4528996, 4961119, 757972, 799124, 865454, 5750789, 6247411, 6651194, 21319622, 24309039, 27862596, 2283715, 2663029, 3051217, 7198362, 7833496, 8411808, 612223, 624151, 624594, 5985722, 6562231, 7288000, 5406835, 5640996, 5778708, 1801481, 1840310, 1831102, 494657, 546043, 585501], \"name\": \"Population\", \"text\": [\"AK 2001\", \"AK 2008\", \"AK 2016\", \"AL 2001\", \"AL 2008\", \"AL 2016\", \"AR 2001\", \"AR 2008\", \"AR 2016\", \"AZ 2001\", \"AZ 2008\", \"AZ 2016\", \"CA 2001\", \"CA 2008\", \"CA 2016\", \"CO 2001\", \"CO 2008\", \"CO 2016\", \"CT 2001\", \"CT 2008\", \"CT 2016\", \"DE 2001\", \"DE 2008\", \"DE 2016\", \"FL 2001\", \"FL 2008\", \"FL 2016\", \"GA 2001\", \"GA 2008\", \"GA 2016\", \"HI 2001\", \"HI 2008\", \"HI 2016\", \"IA 2001\", \"IA 2008\", \"IA 2016\", \"ID 2001\", \"ID 2008\", \"ID 2016\", \"IL 2001\", \"IL 2008\", \"IL 2016\", \"IN 2001\", \"IN 2008\", \"IN 2016\", \"KS 2001\", \"KS 2008\", \"KS 2016\", \"KY 2001\", \"KY 2008\", \"KY 2016\", \"LA 2001\", \"LA 2008\", \"LA 2016\", \"MA 2001\", \"MA 2008\", \"MA 2016\", \"MD 2001\", \"MD 2008\", \"MD 2016\", \"ME 2001\", \"ME 2008\", \"ME 2016\", \"MI 2001\", \"MI 2008\", \"MI 2016\", \"MN 2001\", \"MN 2008\", \"MN 2016\", \"MO 2001\", \"MO 2008\", \"MO 2016\", \"MS 2001\", \"MS 2008\", \"MS 2016\", \"MT 2001\", \"MT 2008\", \"MT 2016\", \"NC 2001\", \"NC 2008\", \"NC 2016\", \"ND 2001\", \"ND 2008\", \"ND 2016\", \"NE 2001\", \"NE 2008\", \"NE 2016\", \"NH 2001\", \"NH 2008\", \"NH 2016\", \"NJ 2001\", \"NJ 2008\", \"NJ 2016\", \"NM 2001\", \"NM 2008\", \"NM 2016\", \"NV 2001\", \"NV 2008\", \"NV 2016\", \"NY 2001\", \"NY 2008\", \"NY 2016\", \"OH 2001\", \"OH 2008\", \"OH 2016\", \"OK 2001\", \"OK 2008\", \"OK 2016\", \"OR 2001\", \"OR 2008\", \"OR 2016\", \"PA 2001\", \"PA 2008\", \"PA 2016\", \"RI 2001\", \"RI 2008\", \"RI 2016\", \"SC 2001\", \"SC 2008\", \"SC 2016\", \"SD 2001\", \"SD 2008\", \"SD 2016\", \"TN 2001\", \"TN 2008\", \"TN 2016\", \"TX 2001\", \"TX 2008\", \"TX 2016\", \"UT 2001\", \"UT 2008\", \"UT 2016\", \"VA 2001\", \"VA 2008\", \"VA 2016\", \"VT 2001\", \"VT 2008\", \"VT 2016\", \"WA 2001\", \"WA 2008\", \"WA 2016\", \"WI 2001\", \"WI 2008\", \"WI 2016\", \"WV 2001\", \"WV 2008\", \"WV 2016\", \"WY 2001\", \"WY 2008\", \"WY 2016\"], \"line\": {\"color\": \"rgba(255, 153, 51, 1.0)\", \"width\": 1.3, \"dash\": \"solid\"}, \"mode\": \"markers\", \"marker\": {\"symbol\": \"dot\", \"size\": 12}}], {\"legend\": {\"bgcolor\": \"#F5F6F9\", \"font\": {\"color\": \"#4D5663\"}}, \"paper_bgcolor\": \"#F5F6F9\", \"plot_bgcolor\": \"#F5F6F9\", \"yaxis1\": {\"tickfont\": {\"color\": \"#4D5663\"}, \"gridcolor\": \"#E1E5ED\", \"titlefont\": {\"color\": \"#4D5663\"}, \"zerolinecolor\": \"#E1E5ED\", \"showgrid\": true, \"title\": \"Population\"}, \"xaxis1\": {\"tickfont\": {\"color\": \"#4D5663\"}, \"gridcolor\": \"#E1E5ED\", \"titlefont\": {\"color\": \"#4D5663\"}, \"zerolinecolor\": \"#E1E5ED\", \"showgrid\": true, \"title\": \"Generation (MWh)\"}, \"titlefont\": {\"color\": \"#4D5663\"}}, {\"showLink\": true, \"linkText\": \"Export to plot.ly\"})});</script>"
      ],
      "text/vnd.plotly.v1+html": [
       "<div id=\"1f115002-bdde-4033-8929-493798ffb613\" style=\"height: 525px; width: 100%;\" class=\"plotly-graph-div\"></div><script type=\"text/javascript\">require([\"plotly\"], function(Plotly) { window.PLOTLYENV=window.PLOTLYENV || {};window.PLOTLYENV.BASE_URL=\"https://plot.ly\";Plotly.newPlot(\"1f115002-bdde-4033-8929-493798ffb613\", [{\"type\": \"scatter\", \"x\": [6743766.0, 6774834.38, 5395404.48, 125345113.04, 145869895.23000002, 142964353.24999997, 47192036.0, 55050527.92, 60391777.38, 89911272.0, 119459172.41, 110396202.35000001, 198596072.0, 207984262.91000003, 207439653.12, 46876003.0, 53441593.60999999, 54836024.199999996, 30490645.0, 30409472.69, 36563279.89, 6807685.0, 7523838.630000001, 8870526.23, 190945343.0, 219636818.25, 238145941.44, 118316788.05, 136173395.35, 133326052.00000001, 10633092.0, 11376385.09, 10171856.25, 40658512.0, 53086786.42, 54692136.55, 9346942.0, 11970552.950000001, 15946293.650000002, 179249282.01, 199475177.6, 186714867.11999997, 122569670.0, 129510294.00999999, 101837726.57999998, 44748522.0, 46630321.419999994, 47694367.39, 95417625.0, 97863340.31, 80361941.42, 87894379.03, 92453141.41, 106882238.54, 38478431.0, 42505478.510000005, 33451915.840000004, 49062342.0, 47360952.92, 37931165.260000005, 19564821.0, 17094919.46, 11671589.24, 111845612.0, 114989805.86, 112729535.99000001, 48523223.0, 54763359.92, 60160193.330000006, 79544872.01, 91028795.48, 79074594.93, 53446448.0, 48205711.050000004, 62890411.589999996, 24232487.0, 29637137.03, 27963469.849999998, 117495851.0, 125239062.91, 131647426.15, 30332072.0, 32734579.189999998, 37466060.22, 30485213.0, 32373522.26, 37598590.809999995, 15074624.0, 22876991.55, 19251943.819999997, 59421260.0, 63674789.099999994, 79062253.83000001, 33611643.0, 37009836.95, 32999560.4, 33875966.0, 35089973.58, 39899224.04, 143914556.0, 140322100.21, 135110995.91, 142261809.0, 153412251.14000002, 119270627.02, 55249453.0, 76328908.58, 78129131.36, 45051906.0, 58718437.589999996, 59526026.77, 196576590.0, 222350924.79, 215007175.99, 7501892.0, 7387265.789999999, 6553670.96, 89158990.0, 100978004.82, 96981064.18, 7400743.0, 7082671.569999999, 10361496.82, 96221976.0, 90663312.58, 80080368.38, 372580005.01, 404787781.01, 455815996.52000004, 35853750.0, 46578762.7, 37879231.85, 74104748.0, 72678531.41, 92470294.45, 5480614.0, 6820215.98, 1736447.56, 83048670.0, 110828451.08999999, 112866450.72, 58763434.0, 63479555.03999999, 64826681.51, 81836725.0, 91123096.64000002, 75561992.66000001, 44776938.0, 46500448.36, 46295682.11000001], \"y\": [633714, 687455, 741894, 4467634, 4718206, 4863300, 2691571, 2874554, 2988248, 5273477, 6280362, 6931071, 34479458, 36604337, 39250017, 4425687, 4889730, 5540545, 3432835, 3545579, 3576452, 795699, 883874, 952065, 16356966, 18527305, 20612439, 8377038, 9504843, 10310371, 1225948, 1332213, 1428557, 2931997, 3016734, 3134693, 1319962, 1534320, 1683140, 12488445, 12747038, 12801539, 6127760, 6424806, 6633053, 2702162, 2808076, 2907289, 4068132, 4289878, 4436974, 4477875, 4435586, 4681666, 6397634, 6468967, 6811779, 5374691, 5684965, 6016447, 1285692, 1330509, 1331479, 9991120, 9946889, 9928300, 4982796, 5247018, 5519952, 5641142, 5923916, 6093000, 2852994, 2947806, 2988726, 906961, 976415, 1042520, 8210122, 9309449, 10146788, 639062, 657569, 757952, 1719836, 1796378, 1907116, 1255517, 1315906, 1334795, 8492671, 8711090, 8944469, 1831690, 2010662, 2081015, 2098399, 2653630, 2940058, 19082838, 19212436, 19745289, 11387404, 11515391, 11614373, 3467100, 3668976, 3923561, 3467937, 3768748, 4093465, 12298970, 12612285, 12784227, 1057142, 1055003, 1056426, 4064995, 4528996, 4961119, 757972, 799124, 865454, 5750789, 6247411, 6651194, 21319622, 24309039, 27862596, 2283715, 2663029, 3051217, 7198362, 7833496, 8411808, 612223, 624151, 624594, 5985722, 6562231, 7288000, 5406835, 5640996, 5778708, 1801481, 1840310, 1831102, 494657, 546043, 585501], \"name\": \"Population\", \"text\": [\"AK 2001\", \"AK 2008\", \"AK 2016\", \"AL 2001\", \"AL 2008\", \"AL 2016\", \"AR 2001\", \"AR 2008\", \"AR 2016\", \"AZ 2001\", \"AZ 2008\", \"AZ 2016\", \"CA 2001\", \"CA 2008\", \"CA 2016\", \"CO 2001\", \"CO 2008\", \"CO 2016\", \"CT 2001\", \"CT 2008\", \"CT 2016\", \"DE 2001\", \"DE 2008\", \"DE 2016\", \"FL 2001\", \"FL 2008\", \"FL 2016\", \"GA 2001\", \"GA 2008\", \"GA 2016\", \"HI 2001\", \"HI 2008\", \"HI 2016\", \"IA 2001\", \"IA 2008\", \"IA 2016\", \"ID 2001\", \"ID 2008\", \"ID 2016\", \"IL 2001\", \"IL 2008\", \"IL 2016\", \"IN 2001\", \"IN 2008\", \"IN 2016\", \"KS 2001\", \"KS 2008\", \"KS 2016\", \"KY 2001\", \"KY 2008\", \"KY 2016\", \"LA 2001\", \"LA 2008\", \"LA 2016\", \"MA 2001\", \"MA 2008\", \"MA 2016\", \"MD 2001\", \"MD 2008\", \"MD 2016\", \"ME 2001\", \"ME 2008\", \"ME 2016\", \"MI 2001\", \"MI 2008\", \"MI 2016\", \"MN 2001\", \"MN 2008\", \"MN 2016\", \"MO 2001\", \"MO 2008\", \"MO 2016\", \"MS 2001\", \"MS 2008\", \"MS 2016\", \"MT 2001\", \"MT 2008\", \"MT 2016\", \"NC 2001\", \"NC 2008\", \"NC 2016\", \"ND 2001\", \"ND 2008\", \"ND 2016\", \"NE 2001\", \"NE 2008\", \"NE 2016\", \"NH 2001\", \"NH 2008\", \"NH 2016\", \"NJ 2001\", \"NJ 2008\", \"NJ 2016\", \"NM 2001\", \"NM 2008\", \"NM 2016\", \"NV 2001\", \"NV 2008\", \"NV 2016\", \"NY 2001\", \"NY 2008\", \"NY 2016\", \"OH 2001\", \"OH 2008\", \"OH 2016\", \"OK 2001\", \"OK 2008\", \"OK 2016\", \"OR 2001\", \"OR 2008\", \"OR 2016\", \"PA 2001\", \"PA 2008\", \"PA 2016\", \"RI 2001\", \"RI 2008\", \"RI 2016\", \"SC 2001\", \"SC 2008\", \"SC 2016\", \"SD 2001\", \"SD 2008\", \"SD 2016\", \"TN 2001\", \"TN 2008\", \"TN 2016\", \"TX 2001\", \"TX 2008\", \"TX 2016\", \"UT 2001\", \"UT 2008\", \"UT 2016\", \"VA 2001\", \"VA 2008\", \"VA 2016\", \"VT 2001\", \"VT 2008\", \"VT 2016\", \"WA 2001\", \"WA 2008\", \"WA 2016\", \"WI 2001\", \"WI 2008\", \"WI 2016\", \"WV 2001\", \"WV 2008\", \"WV 2016\", \"WY 2001\", \"WY 2008\", \"WY 2016\"], \"line\": {\"color\": \"rgba(255, 153, 51, 1.0)\", \"width\": 1.3, \"dash\": \"solid\"}, \"mode\": \"markers\", \"marker\": {\"symbol\": \"dot\", \"size\": 12}}], {\"legend\": {\"bgcolor\": \"#F5F6F9\", \"font\": {\"color\": \"#4D5663\"}}, \"paper_bgcolor\": \"#F5F6F9\", \"plot_bgcolor\": \"#F5F6F9\", \"yaxis1\": {\"tickfont\": {\"color\": \"#4D5663\"}, \"gridcolor\": \"#E1E5ED\", \"titlefont\": {\"color\": \"#4D5663\"}, \"zerolinecolor\": \"#E1E5ED\", \"showgrid\": true, \"title\": \"Population\"}, \"xaxis1\": {\"tickfont\": {\"color\": \"#4D5663\"}, \"gridcolor\": \"#E1E5ED\", \"titlefont\": {\"color\": \"#4D5663\"}, \"zerolinecolor\": \"#E1E5ED\", \"showgrid\": true, \"title\": \"Generation (MWh)\"}, \"titlefont\": {\"color\": \"#4D5663\"}}, {\"showLink\": true, \"linkText\": \"Export to plot.ly\"})});</script>"
      ]
     },
     "metadata": {},
     "output_type": "display_data"
    }
   ],
   "source": [
    "temp['State/Year'] = temp.apply(lambda row: row['State'] + ' {}'.format(row['Year']), axis=1)\n",
    "temp.iplot(kind='scatter', mode='markers', x='Generation', y='Population', text='State/Year',\n",
    "           xTitle='Generation (MWh)', yTitle='Population')"
   ]
  },
  {
   "cell_type": "code",
   "execution_count": null,
   "metadata": {
    "collapsed": true
   },
   "outputs": [],
   "source": []
  }
 ],
 "metadata": {
  "_draft": {
   "nbviewer_url": "https://gist.github.com/f7834c5c2616085cd9236adac70d94b7"
  },
  "gist": {
   "data": {
    "description": "State index & gen data.ipynb",
    "public": false
   },
   "id": "f7834c5c2616085cd9236adac70d94b7"
  },
  "kernelspec": {
   "display_name": "py36",
   "language": "python",
   "name": "py36"
  },
  "language_info": {
   "codemirror_mode": {
    "name": "ipython",
    "version": 3
   },
   "file_extension": ".py",
   "mimetype": "text/x-python",
   "name": "python",
   "nbconvert_exporter": "python",
   "pygments_lexer": "ipython3",
   "version": "3.6.2"
  },
  "varInspector": {
   "cols": {
    "lenName": 16,
    "lenType": 16,
    "lenVar": 40
   },
   "kernels_config": {
    "python": {
     "delete_cmd_postfix": "",
     "delete_cmd_prefix": "del ",
     "library": "var_list.py",
     "varRefreshCmd": "print(var_dic_list())"
    },
    "r": {
     "delete_cmd_postfix": ") ",
     "delete_cmd_prefix": "rm(",
     "library": "var_list.r",
     "varRefreshCmd": "cat(var_dic_list()) "
    }
   },
   "types_to_exclude": [
    "module",
    "function",
    "builtin_function_or_method",
    "instance",
    "_Feature"
   ],
   "window_display": false
  }
 },
 "nbformat": 4,
 "nbformat_minor": 2
}
