{
 "cells": [
  {
   "cell_type": "code",
   "execution_count": 1,
   "metadata": {
    "ExecuteTime": {
     "end_time": "2017-10-20T16:49:21.515718Z",
     "start_time": "2017-10-20T16:49:19.182585Z"
    },
    "collapsed": true
   },
   "outputs": [],
   "source": [
    "%matplotlib inline\n",
    "import pandas as pd\n",
    "import seaborn as sns\n",
    "import matplotlib.pyplot as plt\n",
    "import os\n",
    "from os import listdir\n",
    "from os.path import isfile, join\n",
    "import glob\n",
    "import numpy as np\n",
    "from tabula import read_pdf\n",
    "cwd = os.getcwd()\n",
    "base_path = join(cwd, '..')"
   ]
  },
  {
   "cell_type": "markdown",
   "metadata": {},
   "source": [
    "## Read CPP state goals"
   ]
  },
  {
   "cell_type": "code",
   "execution_count": 2,
   "metadata": {
    "ExecuteTime": {
     "end_time": "2017-10-13T18:51:51.764752Z",
     "start_time": "2017-10-13T18:51:46.797055Z"
    },
    "collapsed": true
   },
   "outputs": [],
   "source": [
    "pd_options = {'header': [0, 1],\n",
    "              'thousands': ','}\n",
    "path = 'https://blog.epa.gov/blog/wp-content/uploads/2015/08/State-tables-tab-1.pdf'\n",
    "cpp_goals = read_pdf(path, pandas_options=pd_options)\n",
    "cpp_goals.columns = ['State', '2012 rate (lb/MWh)', '2030 goal (lb/MWh)', '% Change']"
   ]
  },
  {
   "cell_type": "code",
   "execution_count": 3,
   "metadata": {
    "ExecuteTime": {
     "end_time": "2017-10-13T18:51:51.799143Z",
     "start_time": "2017-10-13T18:51:51.778501Z"
    }
   },
   "outputs": [
    {
     "data": {
      "text/plain": [
       "State                 object\n",
       "2012 rate (lb/MWh)     int64\n",
       "2030 goal (lb/MWh)     int64\n",
       "% Change              object\n",
       "dtype: object"
      ]
     },
     "execution_count": 3,
     "metadata": {},
     "output_type": "execute_result"
    }
   ],
   "source": [
    "cpp_goals.dtypes"
   ]
  },
  {
   "cell_type": "code",
   "execution_count": 4,
   "metadata": {
    "ExecuteTime": {
     "end_time": "2017-10-13T18:51:51.817494Z",
     "start_time": "2017-10-13T18:51:51.801847Z"
    }
   },
   "outputs": [
    {
     "data": {
      "text/html": [
       "<div>\n",
       "<style>\n",
       "    .dataframe thead tr:only-child th {\n",
       "        text-align: right;\n",
       "    }\n",
       "\n",
       "    .dataframe thead th {\n",
       "        text-align: left;\n",
       "    }\n",
       "\n",
       "    .dataframe tbody tr th {\n",
       "        vertical-align: top;\n",
       "    }\n",
       "</style>\n",
       "<table border=\"1\" class=\"dataframe\">\n",
       "  <thead>\n",
       "    <tr style=\"text-align: right;\">\n",
       "      <th></th>\n",
       "      <th>State</th>\n",
       "      <th>2012 rate (lb/MWh)</th>\n",
       "      <th>2030 goal (lb/MWh)</th>\n",
       "      <th>% Change</th>\n",
       "    </tr>\n",
       "  </thead>\n",
       "  <tbody>\n",
       "    <tr>\n",
       "      <th>40</th>\n",
       "      <td>Texas</td>\n",
       "      <td>1553</td>\n",
       "      <td>1042</td>\n",
       "      <td>33%</td>\n",
       "    </tr>\n",
       "    <tr>\n",
       "      <th>41</th>\n",
       "      <td>Utah</td>\n",
       "      <td>1790</td>\n",
       "      <td>1179</td>\n",
       "      <td>34%</td>\n",
       "    </tr>\n",
       "    <tr>\n",
       "      <th>42</th>\n",
       "      <td>Virginia</td>\n",
       "      <td>1366</td>\n",
       "      <td>934</td>\n",
       "      <td>32%</td>\n",
       "    </tr>\n",
       "    <tr>\n",
       "      <th>43</th>\n",
       "      <td>Washington</td>\n",
       "      <td>1566</td>\n",
       "      <td>983</td>\n",
       "      <td>37%</td>\n",
       "    </tr>\n",
       "    <tr>\n",
       "      <th>44</th>\n",
       "      <td>West Virginia</td>\n",
       "      <td>2064</td>\n",
       "      <td>1305</td>\n",
       "      <td>37%</td>\n",
       "    </tr>\n",
       "  </tbody>\n",
       "</table>\n",
       "</div>"
      ],
      "text/plain": [
       "            State  2012 rate (lb/MWh)  2030 goal (lb/MWh) % Change\n",
       "40          Texas                1553                1042      33%\n",
       "41           Utah                1790                1179      34%\n",
       "42       Virginia                1366                 934      32%\n",
       "43     Washington                1566                 983      37%\n",
       "44  West Virginia                2064                1305      37%"
      ]
     },
     "execution_count": 4,
     "metadata": {},
     "output_type": "execute_result"
    }
   ],
   "source": [
    "cpp_goals.tail()"
   ]
  },
  {
   "cell_type": "markdown",
   "metadata": {},
   "source": [
    "Need to add the two states from the second page of the pdf"
   ]
  },
  {
   "cell_type": "code",
   "execution_count": 5,
   "metadata": {
    "ExecuteTime": {
     "end_time": "2017-10-13T18:51:51.839118Z",
     "start_time": "2017-10-13T18:51:51.820271Z"
    },
    "collapsed": true
   },
   "outputs": [],
   "source": [
    "extra_states = {'State': ['Wisconsin', 'Wyoming'],\n",
    "                '2012 rate (lb/MWh)': [1996, 2315],\n",
    "                '2030 goal (lb/MWh)': [1176, 1299],\n",
    "                '% Change': ['41%', '44%']}\n",
    "\n",
    "cpp_goals = cpp_goals.append(pd.DataFrame(data=extra_states, index=[45, 46]))"
   ]
  },
  {
   "cell_type": "code",
   "execution_count": 6,
   "metadata": {
    "ExecuteTime": {
     "end_time": "2017-10-13T18:51:51.849457Z",
     "start_time": "2017-10-13T18:51:51.843784Z"
    },
    "collapsed": true
   },
   "outputs": [],
   "source": [
    "cpp_goals['2030 goals (g/kwh)'] = cpp_goals['2030 goal (lb/MWh)'] / 2.2046"
   ]
  },
  {
   "cell_type": "code",
   "execution_count": 7,
   "metadata": {
    "ExecuteTime": {
     "end_time": "2017-10-13T18:51:51.933896Z",
     "start_time": "2017-10-13T18:51:51.852088Z"
    },
    "collapsed": true
   },
   "outputs": [],
   "source": [
    "us_state_abbrev = {\n",
    "    'United States': 'US',\n",
    "    'Alabama': 'AL',\n",
    "    'Alaska': 'AK',\n",
    "    'Arizona': 'AZ',\n",
    "    'Arkansas': 'AR',\n",
    "    'California': 'CA',\n",
    "    'Colorado': 'CO',\n",
    "    'Connecticut': 'CT',\n",
    "    'Delaware': 'DE',\n",
    "    'Florida': 'FL',\n",
    "    'Georgia': 'GA',\n",
    "    'Hawaii': 'HI',\n",
    "    'Idaho': 'ID',\n",
    "    'Illinois': 'IL',\n",
    "    'Indiana': 'IN',\n",
    "    'Iowa': 'IA',\n",
    "    'Kansas': 'KS',\n",
    "    'Kentucky': 'KY',\n",
    "    'Louisiana': 'LA',\n",
    "    'Maine': 'ME',\n",
    "    'Maryland': 'MD',\n",
    "    'Massachusetts': 'MA',\n",
    "    'Michigan': 'MI',\n",
    "    'Minnesota': 'MN',\n",
    "    'Mississippi': 'MS',\n",
    "    'Missouri': 'MO',\n",
    "    'Montana': 'MT',\n",
    "    'Nebraska': 'NE',\n",
    "    'Nevada': 'NV',\n",
    "    'New Hampshire': 'NH',\n",
    "    'New Jersey': 'NJ',\n",
    "    'New Mexico': 'NM',\n",
    "    'New York': 'NY',\n",
    "    'North Carolina': 'NC',\n",
    "    'North Dakota': 'ND',\n",
    "    'Ohio': 'OH',\n",
    "    'Oklahoma': 'OK',\n",
    "    'Oregon': 'OR',\n",
    "    'Pennsylvania': 'PA',\n",
    "    'Rhode Island': 'RI',\n",
    "    'South Carolina': 'SC',\n",
    "    'South Dakota': 'SD',\n",
    "    'Tennessee': 'TN',\n",
    "    'Texas': 'TX',\n",
    "    'Utah': 'UT',\n",
    "    'Vermont': 'VT',\n",
    "    'Virginia': 'VA',\n",
    "    'Washington': 'WA',\n",
    "    'West Virginia': 'WV',\n",
    "    'Wisconsin': 'WI',\n",
    "    'Wyoming': 'WY',\n",
    "}"
   ]
  },
  {
   "cell_type": "code",
   "execution_count": 8,
   "metadata": {
    "ExecuteTime": {
     "end_time": "2017-10-13T18:51:51.944082Z",
     "start_time": "2017-10-13T18:51:51.937166Z"
    },
    "collapsed": true
   },
   "outputs": [],
   "source": [
    "cpp_goals['State'] = cpp_goals['State'].map(us_state_abbrev)"
   ]
  },
  {
   "cell_type": "code",
   "execution_count": 9,
   "metadata": {
    "ExecuteTime": {
     "end_time": "2017-10-13T18:51:51.952594Z",
     "start_time": "2017-10-13T18:51:51.946958Z"
    },
    "collapsed": true
   },
   "outputs": [],
   "source": [
    "cpp_goals.set_index('State', inplace=True)"
   ]
  },
  {
   "cell_type": "code",
   "execution_count": 10,
   "metadata": {
    "ExecuteTime": {
     "end_time": "2017-10-13T18:51:51.970704Z",
     "start_time": "2017-10-13T18:51:51.955684Z"
    }
   },
   "outputs": [
    {
     "data": {
      "text/html": [
       "<div>\n",
       "<style>\n",
       "    .dataframe thead tr:only-child th {\n",
       "        text-align: right;\n",
       "    }\n",
       "\n",
       "    .dataframe thead th {\n",
       "        text-align: left;\n",
       "    }\n",
       "\n",
       "    .dataframe tbody tr th {\n",
       "        vertical-align: top;\n",
       "    }\n",
       "</style>\n",
       "<table border=\"1\" class=\"dataframe\">\n",
       "  <thead>\n",
       "    <tr style=\"text-align: right;\">\n",
       "      <th></th>\n",
       "      <th>% Change</th>\n",
       "      <th>2012 rate (lb/MWh)</th>\n",
       "      <th>2030 goal (lb/MWh)</th>\n",
       "      <th>2030 goals (g/kwh)</th>\n",
       "    </tr>\n",
       "    <tr>\n",
       "      <th>State</th>\n",
       "      <th></th>\n",
       "      <th></th>\n",
       "      <th></th>\n",
       "      <th></th>\n",
       "    </tr>\n",
       "  </thead>\n",
       "  <tbody>\n",
       "    <tr>\n",
       "      <th>AL</th>\n",
       "      <td>33%</td>\n",
       "      <td>1518</td>\n",
       "      <td>1018</td>\n",
       "      <td>461.761771</td>\n",
       "    </tr>\n",
       "    <tr>\n",
       "      <th>AZ</th>\n",
       "      <td>34%</td>\n",
       "      <td>1552</td>\n",
       "      <td>1031</td>\n",
       "      <td>467.658532</td>\n",
       "    </tr>\n",
       "    <tr>\n",
       "      <th>AR</th>\n",
       "      <td>38%</td>\n",
       "      <td>1816</td>\n",
       "      <td>1130</td>\n",
       "      <td>512.564638</td>\n",
       "    </tr>\n",
       "    <tr>\n",
       "      <th>CA</th>\n",
       "      <td>13%</td>\n",
       "      <td>954</td>\n",
       "      <td>828</td>\n",
       "      <td>375.578336</td>\n",
       "    </tr>\n",
       "    <tr>\n",
       "      <th>CO</th>\n",
       "      <td>38%</td>\n",
       "      <td>1904</td>\n",
       "      <td>1174</td>\n",
       "      <td>532.522907</td>\n",
       "    </tr>\n",
       "  </tbody>\n",
       "</table>\n",
       "</div>"
      ],
      "text/plain": [
       "      % Change  2012 rate (lb/MWh)  2030 goal (lb/MWh)  2030 goals (g/kwh)\n",
       "State                                                                     \n",
       "AL         33%                1518                1018          461.761771\n",
       "AZ         34%                1552                1031          467.658532\n",
       "AR         38%                1816                1130          512.564638\n",
       "CA         13%                 954                 828          375.578336\n",
       "CO         38%                1904                1174          532.522907"
      ]
     },
     "execution_count": 10,
     "metadata": {},
     "output_type": "execute_result"
    }
   ],
   "source": [
    "cpp_goals.head()"
   ]
  },
  {
   "cell_type": "markdown",
   "metadata": {},
   "source": [
    "## Import & combine generation and index data"
   ]
  },
  {
   "cell_type": "code",
   "execution_count": 2,
   "metadata": {
    "ExecuteTime": {
     "end_time": "2017-10-20T16:49:44.338168Z",
     "start_time": "2017-10-20T16:49:44.201531Z"
    },
    "collapsed": true
   },
   "outputs": [],
   "source": [
    "def make_gen_index(data_folder, time='Monthly'):\n",
    "    \"\"\"\n",
    "    Read and combine the state-level generation and index files\n",
    "    \n",
    "    inputs:\n",
    "        data_folder: (str or path) path to the state-level data files\n",
    "        time: (str) \"Monthly\", \"Quarterly\", or \"Annual\"\n",
    "        \n",
    "    outputs:\n",
    "        gen_index: (df) a dataframe with combined generation and index data\n",
    "    \"\"\"\n",
    "    \n",
    "    index_path = os.path.join(data_folder, '{} index*'.format(time))\n",
    "    gen_path = os.path.join(data_folder, '{} gen*'.format(time))\n",
    "    \n",
    "    # Get filenames and list of state abbreviations\n",
    "    index_fns = glob.glob(index_path)\n",
    "    gen_fns = glob.glob(gen_path)\n",
    "    \n",
    "    # Not sure why, but DC shows up in index but not gen\n",
    "    index_states = [f.split('.')[0][-2:] for f in index_fns]\n",
    "    gen_states = [f.split('.')[0][-2:] for f in gen_fns]\n",
    "    \n",
    "    \n",
    "    # Read and combine files into single dataframes\n",
    "    def read_combine(paths, states):\n",
    "        df_list = []\n",
    "        for f, state in zip(paths, states):\n",
    "            df = pd.read_csv(f)\n",
    "            df['State'] = state\n",
    "            df_list.append(df)\n",
    "        \n",
    "        full_df = pd.concat(df_list)\n",
    "        full_df.reset_index(inplace=True, drop=True)\n",
    "        full_df.rename(columns={'year': 'Year'},\n",
    "                       inplace=True)\n",
    "        \n",
    "        if 'datetime' in full_df.columns:\n",
    "            full_df['datetime'] = pd.to_datetime(full_df['datetime'])\n",
    "        \n",
    "        return full_df\n",
    "    \n",
    "    index_df = read_combine(index_fns, index_states)\n",
    "    gen_df = read_combine(gen_fns, gen_states)\n",
    "    \n",
    "#     return index_df, gen_df\n",
    "    \n",
    "    # Different timescales will pivot on different columns\n",
    "    gen_pivot_col = {'Monthly': ['Year', 'datetime'],\n",
    "                     'Quarterly': ['Year', 'year_quarter'],\n",
    "                     'Annual': ['Year']}\n",
    "    \n",
    "    gen_pivot = pd.pivot_table(gen_df, index=['State'] + gen_pivot_col[time], \n",
    "                               values='generation (MWh)', columns='fuel category')\n",
    "    gen_pivot.reset_index(inplace=True, drop=False)\n",
    "#     gen_pivot['Year'] = gen_pivot['datetime'].dt.year\n",
    "    gen_pivot.replace(np.nan, 0, inplace=True)\n",
    "    \n",
    "    # Merge gen and index dataframes\n",
    "    merge_col = {'Monthly': ['datetime'],\n",
    "                 'Quarterly': ['year_quarter'],\n",
    "                 'Annual': ['Year']}\n",
    "    \n",
    "    gen_index = pd.merge(gen_pivot, index_df[merge_col[time] + ['State', 'index (g/kWh)', 'final CO2 (kg)']], \n",
    "                         on=merge_col[time] + ['State'])\n",
    "    \n",
    "    return gen_index, gen_df"
   ]
  },
  {
   "cell_type": "code",
   "execution_count": 3,
   "metadata": {
    "ExecuteTime": {
     "end_time": "2017-10-20T16:49:45.307241Z",
     "start_time": "2017-10-20T16:49:44.340595Z"
    },
    "collapsed": true
   },
   "outputs": [],
   "source": [
    "data_path = os.path.join('Data storage', 'final state data')\n",
    "monthly_gen_index, monthly_gen = make_gen_index(data_path, time='Monthly')\n",
    "annual_gen_index, annual_gen = make_gen_index(data_path, time='Annual')"
   ]
  },
  {
   "cell_type": "markdown",
   "metadata": {
    "collapsed": true
   },
   "source": [
    "### Add a CO₂ intensity for CPP\n",
    "Only fossil gen over fossil CO₂"
   ]
  },
  {
   "cell_type": "code",
   "execution_count": 13,
   "metadata": {
    "ExecuteTime": {
     "end_time": "2017-10-13T18:53:31.548814Z",
     "start_time": "2017-10-13T18:53:31.523063Z"
    }
   },
   "outputs": [
    {
     "data": {
      "text/html": [
       "<div>\n",
       "<style>\n",
       "    .dataframe thead tr:only-child th {\n",
       "        text-align: right;\n",
       "    }\n",
       "\n",
       "    .dataframe thead th {\n",
       "        text-align: left;\n",
       "    }\n",
       "\n",
       "    .dataframe tbody tr th {\n",
       "        vertical-align: top;\n",
       "    }\n",
       "</style>\n",
       "<table border=\"1\" class=\"dataframe\">\n",
       "  <thead>\n",
       "    <tr style=\"text-align: right;\">\n",
       "      <th></th>\n",
       "      <th>State</th>\n",
       "      <th>Year</th>\n",
       "      <th>Coal</th>\n",
       "      <th>Hydro</th>\n",
       "      <th>Natural Gas</th>\n",
       "      <th>Nuclear</th>\n",
       "      <th>Other</th>\n",
       "      <th>Other Renewables</th>\n",
       "      <th>Solar</th>\n",
       "      <th>Wind</th>\n",
       "      <th>index (g/kWh)</th>\n",
       "      <th>final CO2 (kg)</th>\n",
       "    </tr>\n",
       "  </thead>\n",
       "  <tbody>\n",
       "    <tr>\n",
       "      <th>0</th>\n",
       "      <td>AK</td>\n",
       "      <td>2001</td>\n",
       "      <td>564593.00</td>\n",
       "      <td>1345664.00</td>\n",
       "      <td>3895568.00</td>\n",
       "      <td>0.0</td>\n",
       "      <td>936990.00</td>\n",
       "      <td>0.00</td>\n",
       "      <td>0.0</td>\n",
       "      <td>951.00</td>\n",
       "      <td>621.611811</td>\n",
       "      <td>4.192005e+09</td>\n",
       "    </tr>\n",
       "    <tr>\n",
       "      <th>1</th>\n",
       "      <td>AK</td>\n",
       "      <td>2002</td>\n",
       "      <td>575286.00</td>\n",
       "      <td>1439351.00</td>\n",
       "      <td>3778161.00</td>\n",
       "      <td>0.0</td>\n",
       "      <td>962369.00</td>\n",
       "      <td>12155.00</td>\n",
       "      <td>0.0</td>\n",
       "      <td>0.00</td>\n",
       "      <td>565.861881</td>\n",
       "      <td>3.829370e+09</td>\n",
       "    </tr>\n",
       "    <tr>\n",
       "      <th>2</th>\n",
       "      <td>AK</td>\n",
       "      <td>2003</td>\n",
       "      <td>549665.00</td>\n",
       "      <td>1582537.00</td>\n",
       "      <td>3354483.00</td>\n",
       "      <td>0.0</td>\n",
       "      <td>846273.00</td>\n",
       "      <td>5780.00</td>\n",
       "      <td>0.0</td>\n",
       "      <td>0.00</td>\n",
       "      <td>548.164631</td>\n",
       "      <td>3.474672e+09</td>\n",
       "    </tr>\n",
       "    <tr>\n",
       "      <th>3</th>\n",
       "      <td>AK</td>\n",
       "      <td>2004</td>\n",
       "      <td>648979.71</td>\n",
       "      <td>1498020.01</td>\n",
       "      <td>3623432.59</td>\n",
       "      <td>0.0</td>\n",
       "      <td>747068.06</td>\n",
       "      <td>9216.55</td>\n",
       "      <td>0.0</td>\n",
       "      <td>0.00</td>\n",
       "      <td>535.042680</td>\n",
       "      <td>3.492072e+09</td>\n",
       "    </tr>\n",
       "    <tr>\n",
       "      <th>4</th>\n",
       "      <td>AK</td>\n",
       "      <td>2005</td>\n",
       "      <td>624317.77</td>\n",
       "      <td>1463942.01</td>\n",
       "      <td>3723625.63</td>\n",
       "      <td>0.0</td>\n",
       "      <td>758928.54</td>\n",
       "      <td>5255.58</td>\n",
       "      <td>0.0</td>\n",
       "      <td>589.01</td>\n",
       "      <td>536.961208</td>\n",
       "      <td>3.531411e+09</td>\n",
       "    </tr>\n",
       "  </tbody>\n",
       "</table>\n",
       "</div>"
      ],
      "text/plain": [
       "  State  Year       Coal       Hydro  Natural Gas  Nuclear      Other  \\\n",
       "0    AK  2001  564593.00  1345664.00   3895568.00      0.0  936990.00   \n",
       "1    AK  2002  575286.00  1439351.00   3778161.00      0.0  962369.00   \n",
       "2    AK  2003  549665.00  1582537.00   3354483.00      0.0  846273.00   \n",
       "3    AK  2004  648979.71  1498020.01   3623432.59      0.0  747068.06   \n",
       "4    AK  2005  624317.77  1463942.01   3723625.63      0.0  758928.54   \n",
       "\n",
       "   Other Renewables  Solar    Wind  index (g/kWh)  final CO2 (kg)  \n",
       "0              0.00    0.0  951.00     621.611811    4.192005e+09  \n",
       "1          12155.00    0.0    0.00     565.861881    3.829370e+09  \n",
       "2           5780.00    0.0    0.00     548.164631    3.474672e+09  \n",
       "3           9216.55    0.0    0.00     535.042680    3.492072e+09  \n",
       "4           5255.58    0.0  589.01     536.961208    3.531411e+09  "
      ]
     },
     "execution_count": 13,
     "metadata": {},
     "output_type": "execute_result"
    }
   ],
   "source": [
    "annual_gen_index.head()"
   ]
  },
  {
   "cell_type": "code",
   "execution_count": 18,
   "metadata": {
    "ExecuteTime": {
     "end_time": "2017-10-13T18:55:40.250240Z",
     "start_time": "2017-10-13T18:55:40.242784Z"
    },
    "collapsed": true
   },
   "outputs": [],
   "source": [
    "fossil_gen = ['Coal', 'Natural Gas', 'Other']\n",
    "annual_gen_index['Fossil'] = annual_gen_index.loc[:, fossil_gen].sum(axis=1)\n",
    "annual_gen_index['CPP g/kWh'] = (annual_gen_index['final CO2 (kg)']\n",
    "                                 / annual_gen_index['Fossil'])"
   ]
  },
  {
   "cell_type": "code",
   "execution_count": 19,
   "metadata": {
    "ExecuteTime": {
     "end_time": "2017-10-13T18:55:41.277487Z",
     "start_time": "2017-10-13T18:55:41.255873Z"
    }
   },
   "outputs": [
    {
     "data": {
      "text/html": [
       "<div>\n",
       "<style>\n",
       "    .dataframe thead tr:only-child th {\n",
       "        text-align: right;\n",
       "    }\n",
       "\n",
       "    .dataframe thead th {\n",
       "        text-align: left;\n",
       "    }\n",
       "\n",
       "    .dataframe tbody tr th {\n",
       "        vertical-align: top;\n",
       "    }\n",
       "</style>\n",
       "<table border=\"1\" class=\"dataframe\">\n",
       "  <thead>\n",
       "    <tr style=\"text-align: right;\">\n",
       "      <th></th>\n",
       "      <th>State</th>\n",
       "      <th>Year</th>\n",
       "      <th>Coal</th>\n",
       "      <th>Hydro</th>\n",
       "      <th>Natural Gas</th>\n",
       "      <th>Nuclear</th>\n",
       "      <th>Other</th>\n",
       "      <th>Other Renewables</th>\n",
       "      <th>Solar</th>\n",
       "      <th>Wind</th>\n",
       "      <th>index (g/kWh)</th>\n",
       "      <th>final CO2 (kg)</th>\n",
       "      <th>Fossil</th>\n",
       "      <th>CPP g/kWh</th>\n",
       "    </tr>\n",
       "  </thead>\n",
       "  <tbody>\n",
       "    <tr>\n",
       "      <th>0</th>\n",
       "      <td>AK</td>\n",
       "      <td>2001</td>\n",
       "      <td>564593.00</td>\n",
       "      <td>1345664.00</td>\n",
       "      <td>3895568.00</td>\n",
       "      <td>0.0</td>\n",
       "      <td>936990.00</td>\n",
       "      <td>0.00</td>\n",
       "      <td>0.0</td>\n",
       "      <td>951.00</td>\n",
       "      <td>621.611811</td>\n",
       "      <td>4.192005e+09</td>\n",
       "      <td>5397151.00</td>\n",
       "      <td>776.706933</td>\n",
       "    </tr>\n",
       "    <tr>\n",
       "      <th>1</th>\n",
       "      <td>AK</td>\n",
       "      <td>2002</td>\n",
       "      <td>575286.00</td>\n",
       "      <td>1439351.00</td>\n",
       "      <td>3778161.00</td>\n",
       "      <td>0.0</td>\n",
       "      <td>962369.00</td>\n",
       "      <td>12155.00</td>\n",
       "      <td>0.0</td>\n",
       "      <td>0.00</td>\n",
       "      <td>565.861881</td>\n",
       "      <td>3.829370e+09</td>\n",
       "      <td>5315816.00</td>\n",
       "      <td>720.372857</td>\n",
       "    </tr>\n",
       "    <tr>\n",
       "      <th>2</th>\n",
       "      <td>AK</td>\n",
       "      <td>2003</td>\n",
       "      <td>549665.00</td>\n",
       "      <td>1582537.00</td>\n",
       "      <td>3354483.00</td>\n",
       "      <td>0.0</td>\n",
       "      <td>846273.00</td>\n",
       "      <td>5780.00</td>\n",
       "      <td>0.0</td>\n",
       "      <td>0.00</td>\n",
       "      <td>548.164631</td>\n",
       "      <td>3.474672e+09</td>\n",
       "      <td>4750421.00</td>\n",
       "      <td>731.445061</td>\n",
       "    </tr>\n",
       "    <tr>\n",
       "      <th>3</th>\n",
       "      <td>AK</td>\n",
       "      <td>2004</td>\n",
       "      <td>648979.71</td>\n",
       "      <td>1498020.01</td>\n",
       "      <td>3623432.59</td>\n",
       "      <td>0.0</td>\n",
       "      <td>747068.06</td>\n",
       "      <td>9216.55</td>\n",
       "      <td>0.0</td>\n",
       "      <td>0.00</td>\n",
       "      <td>535.042680</td>\n",
       "      <td>3.492072e+09</td>\n",
       "      <td>5019480.36</td>\n",
       "      <td>695.703909</td>\n",
       "    </tr>\n",
       "    <tr>\n",
       "      <th>4</th>\n",
       "      <td>AK</td>\n",
       "      <td>2005</td>\n",
       "      <td>624317.77</td>\n",
       "      <td>1463942.01</td>\n",
       "      <td>3723625.63</td>\n",
       "      <td>0.0</td>\n",
       "      <td>758928.54</td>\n",
       "      <td>5255.58</td>\n",
       "      <td>0.0</td>\n",
       "      <td>589.01</td>\n",
       "      <td>536.961208</td>\n",
       "      <td>3.531411e+09</td>\n",
       "      <td>5106871.94</td>\n",
       "      <td>691.501678</td>\n",
       "    </tr>\n",
       "  </tbody>\n",
       "</table>\n",
       "</div>"
      ],
      "text/plain": [
       "  State  Year       Coal       Hydro  Natural Gas  Nuclear      Other  \\\n",
       "0    AK  2001  564593.00  1345664.00   3895568.00      0.0  936990.00   \n",
       "1    AK  2002  575286.00  1439351.00   3778161.00      0.0  962369.00   \n",
       "2    AK  2003  549665.00  1582537.00   3354483.00      0.0  846273.00   \n",
       "3    AK  2004  648979.71  1498020.01   3623432.59      0.0  747068.06   \n",
       "4    AK  2005  624317.77  1463942.01   3723625.63      0.0  758928.54   \n",
       "\n",
       "   Other Renewables  Solar    Wind  index (g/kWh)  final CO2 (kg)      Fossil  \\\n",
       "0              0.00    0.0  951.00     621.611811    4.192005e+09  5397151.00   \n",
       "1          12155.00    0.0    0.00     565.861881    3.829370e+09  5315816.00   \n",
       "2           5780.00    0.0    0.00     548.164631    3.474672e+09  4750421.00   \n",
       "3           9216.55    0.0    0.00     535.042680    3.492072e+09  5019480.36   \n",
       "4           5255.58    0.0  589.01     536.961208    3.531411e+09  5106871.94   \n",
       "\n",
       "    CPP g/kWh  \n",
       "0  776.706933  \n",
       "1  720.372857  \n",
       "2  731.445061  \n",
       "3  695.703909  \n",
       "4  691.501678  "
      ]
     },
     "execution_count": 19,
     "metadata": {},
     "output_type": "execute_result"
    }
   ],
   "source": [
    "annual_gen_index.head()"
   ]
  },
  {
   "cell_type": "code",
   "execution_count": null,
   "metadata": {
    "collapsed": true
   },
   "outputs": [],
   "source": []
  },
  {
   "cell_type": "code",
   "execution_count": null,
   "metadata": {
    "collapsed": true
   },
   "outputs": [],
   "source": []
  },
  {
   "cell_type": "code",
   "execution_count": 175,
   "metadata": {
    "ExecuteTime": {
     "end_time": "2017-09-28T15:29:49.415477Z",
     "start_time": "2017-09-28T15:29:49.305409Z"
    },
    "collapsed": true
   },
   "outputs": [],
   "source": [
    "annual_gen_index.loc[annual_gen_index['State'] == 'PA', ['Year', 'index (g/kWh)']].to_clipboard(index=False)"
   ]
  },
  {
   "cell_type": "code",
   "execution_count": 5,
   "metadata": {
    "ExecuteTime": {
     "end_time": "2017-10-12T15:23:17.323598Z",
     "start_time": "2017-10-12T15:23:17.235899Z"
    },
    "collapsed": true
   },
   "outputs": [],
   "source": [
    "annual_gen_index.to_clipboard()"
   ]
  },
  {
   "cell_type": "code",
   "execution_count": 62,
   "metadata": {
    "ExecuteTime": {
     "end_time": "2017-10-05T10:48:41.463675Z",
     "start_time": "2017-10-05T10:48:41.077037Z"
    }
   },
   "outputs": [
    {
     "data": {
      "text/html": [
       "<div>\n",
       "<style>\n",
       "    .dataframe thead tr:only-child th {\n",
       "        text-align: right;\n",
       "    }\n",
       "\n",
       "    .dataframe thead th {\n",
       "        text-align: left;\n",
       "    }\n",
       "\n",
       "    .dataframe tbody tr th {\n",
       "        vertical-align: top;\n",
       "    }\n",
       "</style>\n",
       "<table border=\"1\" class=\"dataframe\">\n",
       "  <thead>\n",
       "    <tr style=\"text-align: right;\">\n",
       "      <th></th>\n",
       "      <th>State</th>\n",
       "      <th>Year</th>\n",
       "      <th>Coal</th>\n",
       "      <th>Hydro</th>\n",
       "      <th>Natural Gas</th>\n",
       "      <th>Nuclear</th>\n",
       "      <th>Other</th>\n",
       "      <th>Other Renewables</th>\n",
       "      <th>Solar</th>\n",
       "      <th>Wind</th>\n",
       "      <th>...</th>\n",
       "      <th>final CO2 (kg)</th>\n",
       "      <th>Total gen</th>\n",
       "      <th>percent Coal</th>\n",
       "      <th>percent Natural Gas</th>\n",
       "      <th>percent Other Renewables</th>\n",
       "      <th>percent Nuclear</th>\n",
       "      <th>percent Other</th>\n",
       "      <th>percent Solar</th>\n",
       "      <th>percent Wind</th>\n",
       "      <th>percent Hydro</th>\n",
       "    </tr>\n",
       "  </thead>\n",
       "  <tbody>\n",
       "    <tr>\n",
       "      <th>0</th>\n",
       "      <td>AK</td>\n",
       "      <td>2001</td>\n",
       "      <td>564593.00</td>\n",
       "      <td>1345664.00</td>\n",
       "      <td>3895568.00</td>\n",
       "      <td>0.0</td>\n",
       "      <td>936990.00</td>\n",
       "      <td>0.00</td>\n",
       "      <td>0.0</td>\n",
       "      <td>951.00</td>\n",
       "      <td>...</td>\n",
       "      <td>4.192005e+09</td>\n",
       "      <td>6743766.00</td>\n",
       "      <td>0.083721</td>\n",
       "      <td>0.577655</td>\n",
       "      <td>0.000000</td>\n",
       "      <td>0.0</td>\n",
       "      <td>0.138942</td>\n",
       "      <td>0.0</td>\n",
       "      <td>0.000141</td>\n",
       "      <td>0.199542</td>\n",
       "    </tr>\n",
       "    <tr>\n",
       "      <th>1</th>\n",
       "      <td>AK</td>\n",
       "      <td>2002</td>\n",
       "      <td>575286.00</td>\n",
       "      <td>1439351.00</td>\n",
       "      <td>3778161.00</td>\n",
       "      <td>0.0</td>\n",
       "      <td>962369.00</td>\n",
       "      <td>12155.00</td>\n",
       "      <td>0.0</td>\n",
       "      <td>0.00</td>\n",
       "      <td>...</td>\n",
       "      <td>3.829370e+09</td>\n",
       "      <td>6767322.00</td>\n",
       "      <td>0.085009</td>\n",
       "      <td>0.558295</td>\n",
       "      <td>0.001796</td>\n",
       "      <td>0.0</td>\n",
       "      <td>0.142208</td>\n",
       "      <td>0.0</td>\n",
       "      <td>0.000000</td>\n",
       "      <td>0.212691</td>\n",
       "    </tr>\n",
       "    <tr>\n",
       "      <th>2</th>\n",
       "      <td>AK</td>\n",
       "      <td>2003</td>\n",
       "      <td>549665.00</td>\n",
       "      <td>1582537.00</td>\n",
       "      <td>3354483.00</td>\n",
       "      <td>0.0</td>\n",
       "      <td>846273.00</td>\n",
       "      <td>5780.00</td>\n",
       "      <td>0.0</td>\n",
       "      <td>0.00</td>\n",
       "      <td>...</td>\n",
       "      <td>3.474672e+09</td>\n",
       "      <td>6338738.00</td>\n",
       "      <td>0.086715</td>\n",
       "      <td>0.529204</td>\n",
       "      <td>0.000912</td>\n",
       "      <td>0.0</td>\n",
       "      <td>0.133508</td>\n",
       "      <td>0.0</td>\n",
       "      <td>0.000000</td>\n",
       "      <td>0.249661</td>\n",
       "    </tr>\n",
       "    <tr>\n",
       "      <th>3</th>\n",
       "      <td>AK</td>\n",
       "      <td>2004</td>\n",
       "      <td>648979.71</td>\n",
       "      <td>1498020.01</td>\n",
       "      <td>3623432.59</td>\n",
       "      <td>0.0</td>\n",
       "      <td>747068.06</td>\n",
       "      <td>9216.55</td>\n",
       "      <td>0.0</td>\n",
       "      <td>0.00</td>\n",
       "      <td>...</td>\n",
       "      <td>3.492072e+09</td>\n",
       "      <td>6526716.92</td>\n",
       "      <td>0.099434</td>\n",
       "      <td>0.555169</td>\n",
       "      <td>0.001412</td>\n",
       "      <td>0.0</td>\n",
       "      <td>0.114463</td>\n",
       "      <td>0.0</td>\n",
       "      <td>0.000000</td>\n",
       "      <td>0.229521</td>\n",
       "    </tr>\n",
       "    <tr>\n",
       "      <th>4</th>\n",
       "      <td>AK</td>\n",
       "      <td>2005</td>\n",
       "      <td>624317.77</td>\n",
       "      <td>1463942.01</td>\n",
       "      <td>3723625.63</td>\n",
       "      <td>0.0</td>\n",
       "      <td>758928.54</td>\n",
       "      <td>5255.58</td>\n",
       "      <td>0.0</td>\n",
       "      <td>589.01</td>\n",
       "      <td>...</td>\n",
       "      <td>3.531411e+09</td>\n",
       "      <td>6576658.54</td>\n",
       "      <td>0.094929</td>\n",
       "      <td>0.566188</td>\n",
       "      <td>0.000799</td>\n",
       "      <td>0.0</td>\n",
       "      <td>0.115397</td>\n",
       "      <td>0.0</td>\n",
       "      <td>0.000090</td>\n",
       "      <td>0.222597</td>\n",
       "    </tr>\n",
       "  </tbody>\n",
       "</table>\n",
       "<p>5 rows × 21 columns</p>\n",
       "</div>"
      ],
      "text/plain": [
       "  State  Year       Coal       Hydro  Natural Gas  Nuclear      Other  \\\n",
       "0    AK  2001  564593.00  1345664.00   3895568.00      0.0  936990.00   \n",
       "1    AK  2002  575286.00  1439351.00   3778161.00      0.0  962369.00   \n",
       "2    AK  2003  549665.00  1582537.00   3354483.00      0.0  846273.00   \n",
       "3    AK  2004  648979.71  1498020.01   3623432.59      0.0  747068.06   \n",
       "4    AK  2005  624317.77  1463942.01   3723625.63      0.0  758928.54   \n",
       "\n",
       "   Other Renewables  Solar    Wind      ...        final CO2 (kg)   Total gen  \\\n",
       "0              0.00    0.0  951.00      ...          4.192005e+09  6743766.00   \n",
       "1          12155.00    0.0    0.00      ...          3.829370e+09  6767322.00   \n",
       "2           5780.00    0.0    0.00      ...          3.474672e+09  6338738.00   \n",
       "3           9216.55    0.0    0.00      ...          3.492072e+09  6526716.92   \n",
       "4           5255.58    0.0  589.01      ...          3.531411e+09  6576658.54   \n",
       "\n",
       "   percent Coal  percent Natural Gas  percent Other Renewables  \\\n",
       "0      0.083721             0.577655                  0.000000   \n",
       "1      0.085009             0.558295                  0.001796   \n",
       "2      0.086715             0.529204                  0.000912   \n",
       "3      0.099434             0.555169                  0.001412   \n",
       "4      0.094929             0.566188                  0.000799   \n",
       "\n",
       "   percent Nuclear  percent Other  percent Solar  percent Wind  percent Hydro  \n",
       "0              0.0       0.138942            0.0      0.000141       0.199542  \n",
       "1              0.0       0.142208            0.0      0.000000       0.212691  \n",
       "2              0.0       0.133508            0.0      0.000000       0.249661  \n",
       "3              0.0       0.114463            0.0      0.000000       0.229521  \n",
       "4              0.0       0.115397            0.0      0.000090       0.222597  \n",
       "\n",
       "[5 rows x 21 columns]"
      ]
     },
     "execution_count": 62,
     "metadata": {},
     "output_type": "execute_result"
    }
   ],
   "source": [
    "annual_gen_index.head()"
   ]
  },
  {
   "cell_type": "code",
   "execution_count": 40,
   "metadata": {
    "ExecuteTime": {
     "end_time": "2017-10-04T18:07:42.596470Z",
     "start_time": "2017-10-04T18:07:42.578184Z"
    },
    "collapsed": true
   },
   "outputs": [],
   "source": [
    "fuels = ['Coal', 'Natural Gas', 'Other Renewables', 'Nuclear', 'Other',\n",
    "         'Solar', 'Wind', 'Hydro']\n",
    "annual_gen_index['Total gen'] = annual_gen_index.loc[:, fuels].sum(axis=1)\n",
    "for fuel, new_col in zip(fuels, ['percent {}'.format(x) for x in fuels]):\n",
    "    # Calculate percent of generation from each fuel type\n",
    "    annual_gen_index[new_col] = (annual_gen_index.loc[:, fuel]\n",
    "                                 / annual_gen_index.loc[:, 'Total gen'])"
   ]
  },
  {
   "cell_type": "markdown",
   "metadata": {},
   "source": [
    "## State RPS information"
   ]
  },
  {
   "cell_type": "code",
   "execution_count": 4,
   "metadata": {
    "ExecuteTime": {
     "end_time": "2017-10-20T16:50:03.036195Z",
     "start_time": "2017-10-20T16:50:02.929798Z"
    },
    "collapsed": true
   },
   "outputs": [],
   "source": [
    "path = os.path.join('Data storage', 'rps_compliance_data_july_2017.xlsx')\n",
    "rps = pd.read_excel(path, header=35, parse_cols='A:V', na_values=['-'])\n",
    "\n",
    "rps.index = rps.index.droplevel([1, 2])\n",
    "\n",
    "rps.index.names = ['State', 'Type']\n",
    "\n",
    "rps_tidy = pd.melt(rps.xs('Total RPS', level='Type').reset_index(), \n",
    "                   id_vars='State', var_name='Year', value_vars=rps.columns, \n",
    "                   value_name='Generation').dropna().sort_values(['State', 'Year'])\n",
    "\n",
    "rps_start = {}\n",
    "for state in rps_tidy['State'].unique():\n",
    "    first_year = rps_tidy.loc[rps_tidy['State'] == state, 'Year'].min()\n",
    "    rps_start[state] = first_year"
   ]
  },
  {
   "cell_type": "code",
   "execution_count": 5,
   "metadata": {
    "ExecuteTime": {
     "end_time": "2017-10-20T16:50:04.451142Z",
     "start_time": "2017-10-20T16:50:04.443669Z"
    }
   },
   "outputs": [
    {
     "data": {
      "text/plain": [
       "{'AZ': 2001,\n",
       " 'CA': 2004,\n",
       " 'CO': 2007,\n",
       " 'CT': 2004,\n",
       " 'DC': 2007,\n",
       " 'DE': 2007,\n",
       " 'HI': 2005,\n",
       " 'IA': 1999,\n",
       " 'IL': 2008,\n",
       " 'KS': 2011,\n",
       " 'MA': 2003,\n",
       " 'MD': 2006,\n",
       " 'ME': 2000,\n",
       " 'MI': 2012,\n",
       " 'MN': 2002,\n",
       " 'MO': 2011,\n",
       " 'MT': 2008,\n",
       " 'NC': 2010,\n",
       " 'NH': 2008,\n",
       " 'NJ': 2001,\n",
       " 'NM': 2006,\n",
       " 'NV': 2003,\n",
       " 'NY': 2006,\n",
       " 'OH': 2009,\n",
       " 'OR': 2011,\n",
       " 'PA': 2006,\n",
       " 'RI': 2007,\n",
       " 'TX': 2002,\n",
       " 'WA': 2012,\n",
       " 'WI': 2000}"
      ]
     },
     "execution_count": 5,
     "metadata": {},
     "output_type": "execute_result"
    }
   ],
   "source": [
    "rps_start"
   ]
  },
  {
   "cell_type": "markdown",
   "metadata": {},
   "source": [
    "## Dumbell plot of annual state index"
   ]
  },
  {
   "cell_type": "markdown",
   "metadata": {},
   "source": [
    "### Dumbell plot code\n",
    "https://github.com/iturki/Data-Analysis-and-Visualization-Projects/blob/master/dumbbell-chart-python/dumbbbell_plot.py"
   ]
  },
  {
   "cell_type": "code",
   "execution_count": 6,
   "metadata": {
    "ExecuteTime": {
     "end_time": "2017-10-20T16:50:07.802906Z",
     "start_time": "2017-10-20T16:50:07.797121Z"
    },
    "collapsed": true
   },
   "outputs": [],
   "source": [
    "sns.set()\n",
    "sns.set_style('white')"
   ]
  },
  {
   "cell_type": "markdown",
   "metadata": {},
   "source": [
    "This version of the plot is probably better/more flexible"
   ]
  },
  {
   "cell_type": "code",
   "execution_count": 7,
   "metadata": {
    "ExecuteTime": {
     "end_time": "2017-10-20T16:50:09.077964Z",
     "start_time": "2017-10-20T16:50:08.888200Z"
    },
    "collapsed": true
   },
   "outputs": [],
   "source": [
    "def dumbell_plot(data, years, axis_labels, legend_loc=[], offset_divider=35,\n",
    "                 rps_start={}, fig_kwargs={}, figsize=(5,9), legend=True,\n",
    "                 text_h_align='right', palette='deep'):\n",
    "    '''\n",
    "    This is an example to create a dumbbell chart in Python.\n",
    "    If you would like to provide your data and customize the graph, modify the variables in the section below.\n",
    "    Please be aware that you need matplotlib installed in order for this to work.\n",
    "    '''\n",
    "    prop_cycle = plt.rcParams['axes.prop_cycle']\n",
    "    colors = sns.color_palette(palette)\n",
    "    A_COLOR = colors[0] #'#EA2BA2'  # Color to plot a values\n",
    "    B_COLOR = colors[2] #'#006666'  # Color to plot b values\n",
    "\n",
    "    # Styles to be used when plotting the different elements of the graph.\n",
    "    dumbbell_style_a = dict(color=A_COLOR, linewidths=2,# mec=A_COLOR,\n",
    "                            marker='o', s=50)# markersize=9)\n",
    "    dumbbell_style_b = dict(color=B_COLOR, linewidths=2,# mec=B_COLOR,\n",
    "                            marker='o', s=50) #markersize=9)\n",
    "    axis_label_style = dict(horizontalalignment=text_h_align,\n",
    "                            verticalalignment='center', fontsize=10)\n",
    "    \n",
    "    data = data.loc[:, years]\n",
    "    min_data = data.min(axis=1)\n",
    "    max_data = data.max(axis=1)\n",
    "\n",
    "    # Create the figure\n",
    "    fig, ax = plt.subplots(figsize=figsize, **fig_kwargs)\n",
    "\n",
    "    index = range(len(axis_labels))\n",
    "    \n",
    "    # Auto-set the state abbr text offset\n",
    "    # The divider of 40 is based on the g/kWh figure max of 1185 and\n",
    "    # offset of 30\n",
    "    label_offset = data.max().max() / offset_divider\n",
    "    \n",
    "    # Loop N times\n",
    "    for i, (data, year) in enumerate(zip(data.T.values, years)):\n",
    "        color = colors[i]\n",
    "        for value, label, j in zip(data, axis_labels, index):\n",
    "            facecolor = None\n",
    "            if label in rps_start and rps_start[label] <= year:\n",
    "                facecolor = 'w'\n",
    "            \n",
    "            ax.scatter(value, j, facecolors=facecolor, zorder=3, color=color,\n",
    "                      linewidth=2, s=50)\n",
    "            \n",
    "            plt.hlines(y=j, xmin=min_data[j], xmax=max_data[j], zorder=2)\n",
    "            \n",
    "            if i == 0:\n",
    "                ax.text(min_data[j] - label_offset, j, label,\n",
    "                        **axis_label_style)\n",
    "\n",
    "    plt.yticks(index, ['' for x in axis_labels])\n",
    "\n",
    "    if legend:\n",
    "        for i, year in enumerate(years):\n",
    "            ax.scatter(x=legend_loc[i], y=51, color=colors[i], zorder=3,\n",
    "                       s=50, linewidth=2)\n",
    "            plt.text(x=legend_loc[i], y=52, s=str(year), ha='center')\n",
    "        plt.hlines(y=51, xmin=legend_loc[0], zorder=2, xmax=legend_loc[-1])\n",
    "        "
   ]
  },
  {
   "cell_type": "code",
   "execution_count": 45,
   "metadata": {
    "ExecuteTime": {
     "end_time": "2017-10-04T18:08:42.393438Z",
     "start_time": "2017-10-04T18:08:42.356569Z"
    }
   },
   "outputs": [
    {
     "data": {
      "text/html": [
       "<div>\n",
       "<style>\n",
       "    .dataframe thead tr:only-child th {\n",
       "        text-align: right;\n",
       "    }\n",
       "\n",
       "    .dataframe thead th {\n",
       "        text-align: left;\n",
       "    }\n",
       "\n",
       "    .dataframe tbody tr th {\n",
       "        vertical-align: top;\n",
       "    }\n",
       "</style>\n",
       "<table border=\"1\" class=\"dataframe\">\n",
       "  <thead>\n",
       "    <tr style=\"text-align: right;\">\n",
       "      <th></th>\n",
       "      <th>State</th>\n",
       "      <th>Year</th>\n",
       "      <th>Coal</th>\n",
       "      <th>Hydro</th>\n",
       "      <th>Natural Gas</th>\n",
       "      <th>Nuclear</th>\n",
       "      <th>Other</th>\n",
       "      <th>Other Renewables</th>\n",
       "      <th>Solar</th>\n",
       "      <th>Wind</th>\n",
       "      <th>...</th>\n",
       "      <th>final CO2 (kg)</th>\n",
       "      <th>Total gen</th>\n",
       "      <th>percent Coal</th>\n",
       "      <th>percent Natural Gas</th>\n",
       "      <th>percent Other Renewables</th>\n",
       "      <th>percent Nuclear</th>\n",
       "      <th>percent Other</th>\n",
       "      <th>percent Solar</th>\n",
       "      <th>percent Wind</th>\n",
       "      <th>percent Hydro</th>\n",
       "    </tr>\n",
       "  </thead>\n",
       "  <tbody>\n",
       "    <tr>\n",
       "      <th>0</th>\n",
       "      <td>AK</td>\n",
       "      <td>2001</td>\n",
       "      <td>564593.00</td>\n",
       "      <td>1345664.00</td>\n",
       "      <td>3895568.00</td>\n",
       "      <td>0.0</td>\n",
       "      <td>936990.00</td>\n",
       "      <td>0.00</td>\n",
       "      <td>0.0</td>\n",
       "      <td>951.00</td>\n",
       "      <td>...</td>\n",
       "      <td>4.192005e+09</td>\n",
       "      <td>6743766.00</td>\n",
       "      <td>0.083721</td>\n",
       "      <td>0.577655</td>\n",
       "      <td>0.000000</td>\n",
       "      <td>0.0</td>\n",
       "      <td>0.138942</td>\n",
       "      <td>0.0</td>\n",
       "      <td>0.000141</td>\n",
       "      <td>0.199542</td>\n",
       "    </tr>\n",
       "    <tr>\n",
       "      <th>1</th>\n",
       "      <td>AK</td>\n",
       "      <td>2002</td>\n",
       "      <td>575286.00</td>\n",
       "      <td>1439351.00</td>\n",
       "      <td>3778161.00</td>\n",
       "      <td>0.0</td>\n",
       "      <td>962369.00</td>\n",
       "      <td>12155.00</td>\n",
       "      <td>0.0</td>\n",
       "      <td>0.00</td>\n",
       "      <td>...</td>\n",
       "      <td>3.829370e+09</td>\n",
       "      <td>6767322.00</td>\n",
       "      <td>0.085009</td>\n",
       "      <td>0.558295</td>\n",
       "      <td>0.001796</td>\n",
       "      <td>0.0</td>\n",
       "      <td>0.142208</td>\n",
       "      <td>0.0</td>\n",
       "      <td>0.000000</td>\n",
       "      <td>0.212691</td>\n",
       "    </tr>\n",
       "    <tr>\n",
       "      <th>2</th>\n",
       "      <td>AK</td>\n",
       "      <td>2003</td>\n",
       "      <td>549665.00</td>\n",
       "      <td>1582537.00</td>\n",
       "      <td>3354483.00</td>\n",
       "      <td>0.0</td>\n",
       "      <td>846273.00</td>\n",
       "      <td>5780.00</td>\n",
       "      <td>0.0</td>\n",
       "      <td>0.00</td>\n",
       "      <td>...</td>\n",
       "      <td>3.474672e+09</td>\n",
       "      <td>6338738.00</td>\n",
       "      <td>0.086715</td>\n",
       "      <td>0.529204</td>\n",
       "      <td>0.000912</td>\n",
       "      <td>0.0</td>\n",
       "      <td>0.133508</td>\n",
       "      <td>0.0</td>\n",
       "      <td>0.000000</td>\n",
       "      <td>0.249661</td>\n",
       "    </tr>\n",
       "    <tr>\n",
       "      <th>3</th>\n",
       "      <td>AK</td>\n",
       "      <td>2004</td>\n",
       "      <td>648979.71</td>\n",
       "      <td>1498020.01</td>\n",
       "      <td>3623432.59</td>\n",
       "      <td>0.0</td>\n",
       "      <td>747068.06</td>\n",
       "      <td>9216.55</td>\n",
       "      <td>0.0</td>\n",
       "      <td>0.00</td>\n",
       "      <td>...</td>\n",
       "      <td>3.492072e+09</td>\n",
       "      <td>6526716.92</td>\n",
       "      <td>0.099434</td>\n",
       "      <td>0.555169</td>\n",
       "      <td>0.001412</td>\n",
       "      <td>0.0</td>\n",
       "      <td>0.114463</td>\n",
       "      <td>0.0</td>\n",
       "      <td>0.000000</td>\n",
       "      <td>0.229521</td>\n",
       "    </tr>\n",
       "    <tr>\n",
       "      <th>4</th>\n",
       "      <td>AK</td>\n",
       "      <td>2005</td>\n",
       "      <td>624317.77</td>\n",
       "      <td>1463942.01</td>\n",
       "      <td>3723625.63</td>\n",
       "      <td>0.0</td>\n",
       "      <td>758928.54</td>\n",
       "      <td>5255.58</td>\n",
       "      <td>0.0</td>\n",
       "      <td>589.01</td>\n",
       "      <td>...</td>\n",
       "      <td>3.531411e+09</td>\n",
       "      <td>6576658.54</td>\n",
       "      <td>0.094929</td>\n",
       "      <td>0.566188</td>\n",
       "      <td>0.000799</td>\n",
       "      <td>0.0</td>\n",
       "      <td>0.115397</td>\n",
       "      <td>0.0</td>\n",
       "      <td>0.000090</td>\n",
       "      <td>0.222597</td>\n",
       "    </tr>\n",
       "  </tbody>\n",
       "</table>\n",
       "<p>5 rows × 21 columns</p>\n",
       "</div>"
      ],
      "text/plain": [
       "  State  Year       Coal       Hydro  Natural Gas  Nuclear      Other  \\\n",
       "0    AK  2001  564593.00  1345664.00   3895568.00      0.0  936990.00   \n",
       "1    AK  2002  575286.00  1439351.00   3778161.00      0.0  962369.00   \n",
       "2    AK  2003  549665.00  1582537.00   3354483.00      0.0  846273.00   \n",
       "3    AK  2004  648979.71  1498020.01   3623432.59      0.0  747068.06   \n",
       "4    AK  2005  624317.77  1463942.01   3723625.63      0.0  758928.54   \n",
       "\n",
       "   Other Renewables  Solar    Wind      ...        final CO2 (kg)   Total gen  \\\n",
       "0              0.00    0.0  951.00      ...          4.192005e+09  6743766.00   \n",
       "1          12155.00    0.0    0.00      ...          3.829370e+09  6767322.00   \n",
       "2           5780.00    0.0    0.00      ...          3.474672e+09  6338738.00   \n",
       "3           9216.55    0.0    0.00      ...          3.492072e+09  6526716.92   \n",
       "4           5255.58    0.0  589.01      ...          3.531411e+09  6576658.54   \n",
       "\n",
       "   percent Coal  percent Natural Gas  percent Other Renewables  \\\n",
       "0      0.083721             0.577655                  0.000000   \n",
       "1      0.085009             0.558295                  0.001796   \n",
       "2      0.086715             0.529204                  0.000912   \n",
       "3      0.099434             0.555169                  0.001412   \n",
       "4      0.094929             0.566188                  0.000799   \n",
       "\n",
       "   percent Nuclear  percent Other  percent Solar  percent Wind  percent Hydro  \n",
       "0              0.0       0.138942            0.0      0.000141       0.199542  \n",
       "1              0.0       0.142208            0.0      0.000000       0.212691  \n",
       "2              0.0       0.133508            0.0      0.000000       0.249661  \n",
       "3              0.0       0.114463            0.0      0.000000       0.229521  \n",
       "4              0.0       0.115397            0.0      0.000090       0.222597  \n",
       "\n",
       "[5 rows x 21 columns]"
      ]
     },
     "execution_count": 45,
     "metadata": {},
     "output_type": "execute_result"
    }
   ],
   "source": [
    "annual_gen_index.head()"
   ]
  },
  {
   "cell_type": "code",
   "execution_count": 24,
   "metadata": {
    "ExecuteTime": {
     "end_time": "2017-10-13T18:56:37.923351Z",
     "start_time": "2017-10-13T18:56:37.908627Z"
    },
    "collapsed": true
   },
   "outputs": [],
   "source": [
    "cpp_index = annual_gen_index.pivot_table(values='CPP g/kWh',\n",
    "                                          index='State', columns='Year')\n",
    "cpp_index.sort_values(by=2016, inplace=True)"
   ]
  },
  {
   "cell_type": "code",
   "execution_count": 25,
   "metadata": {
    "ExecuteTime": {
     "end_time": "2017-10-13T18:56:42.431165Z",
     "start_time": "2017-10-13T18:56:42.402527Z"
    }
   },
   "outputs": [
    {
     "data": {
      "text/html": [
       "<div>\n",
       "<style>\n",
       "    .dataframe thead tr:only-child th {\n",
       "        text-align: right;\n",
       "    }\n",
       "\n",
       "    .dataframe thead th {\n",
       "        text-align: left;\n",
       "    }\n",
       "\n",
       "    .dataframe tbody tr th {\n",
       "        vertical-align: top;\n",
       "    }\n",
       "</style>\n",
       "<table border=\"1\" class=\"dataframe\">\n",
       "  <thead>\n",
       "    <tr style=\"text-align: right;\">\n",
       "      <th>Year</th>\n",
       "      <th>2001</th>\n",
       "      <th>2002</th>\n",
       "      <th>2003</th>\n",
       "      <th>2004</th>\n",
       "      <th>2005</th>\n",
       "      <th>2006</th>\n",
       "      <th>2007</th>\n",
       "      <th>2008</th>\n",
       "      <th>2009</th>\n",
       "      <th>2010</th>\n",
       "      <th>2011</th>\n",
       "      <th>2012</th>\n",
       "      <th>2013</th>\n",
       "      <th>2014</th>\n",
       "      <th>2015</th>\n",
       "      <th>2016</th>\n",
       "      <th>2017</th>\n",
       "    </tr>\n",
       "    <tr>\n",
       "      <th>State</th>\n",
       "      <th></th>\n",
       "      <th></th>\n",
       "      <th></th>\n",
       "      <th></th>\n",
       "      <th></th>\n",
       "      <th></th>\n",
       "      <th></th>\n",
       "      <th></th>\n",
       "      <th></th>\n",
       "      <th></th>\n",
       "      <th></th>\n",
       "      <th></th>\n",
       "      <th></th>\n",
       "      <th></th>\n",
       "      <th></th>\n",
       "      <th></th>\n",
       "      <th></th>\n",
       "    </tr>\n",
       "  </thead>\n",
       "  <tbody>\n",
       "    <tr>\n",
       "      <th>ME</th>\n",
       "      <td>474.954880</td>\n",
       "      <td>435.978668</td>\n",
       "      <td>489.495031</td>\n",
       "      <td>431.522707</td>\n",
       "      <td>455.338617</td>\n",
       "      <td>417.629532</td>\n",
       "      <td>428.850934</td>\n",
       "      <td>417.466362</td>\n",
       "      <td>427.540857</td>\n",
       "      <td>404.105634</td>\n",
       "      <td>419.409389</td>\n",
       "      <td>413.054599</td>\n",
       "      <td>412.185315</td>\n",
       "      <td>414.993474</td>\n",
       "      <td>472.523120</td>\n",
       "      <td>373.954387</td>\n",
       "      <td>190.315181</td>\n",
       "    </tr>\n",
       "    <tr>\n",
       "      <th>ID</th>\n",
       "      <td>242.265944</td>\n",
       "      <td>839.049439</td>\n",
       "      <td>420.603289</td>\n",
       "      <td>368.575145</td>\n",
       "      <td>376.390278</td>\n",
       "      <td>378.954396</td>\n",
       "      <td>395.600630</td>\n",
       "      <td>401.733452</td>\n",
       "      <td>402.602534</td>\n",
       "      <td>387.812813</td>\n",
       "      <td>391.846970</td>\n",
       "      <td>394.880762</td>\n",
       "      <td>389.185652</td>\n",
       "      <td>384.065100</td>\n",
       "      <td>394.370492</td>\n",
       "      <td>400.842451</td>\n",
       "      <td>419.248071</td>\n",
       "    </tr>\n",
       "    <tr>\n",
       "      <th>CA</th>\n",
       "      <td>539.895845</td>\n",
       "      <td>513.667236</td>\n",
       "      <td>494.561281</td>\n",
       "      <td>463.223721</td>\n",
       "      <td>445.799649</td>\n",
       "      <td>440.793443</td>\n",
       "      <td>450.725188</td>\n",
       "      <td>434.703385</td>\n",
       "      <td>427.057400</td>\n",
       "      <td>416.341368</td>\n",
       "      <td>421.951718</td>\n",
       "      <td>415.243711</td>\n",
       "      <td>410.337566</td>\n",
       "      <td>413.020549</td>\n",
       "      <td>417.466963</td>\n",
       "      <td>405.899338</td>\n",
       "      <td>400.618390</td>\n",
       "    </tr>\n",
       "    <tr>\n",
       "      <th>RI</th>\n",
       "      <td>457.612783</td>\n",
       "      <td>449.266288</td>\n",
       "      <td>440.844836</td>\n",
       "      <td>425.281148</td>\n",
       "      <td>442.439264</td>\n",
       "      <td>415.501825</td>\n",
       "      <td>420.898941</td>\n",
       "      <td>418.860833</td>\n",
       "      <td>416.368489</td>\n",
       "      <td>423.709962</td>\n",
       "      <td>421.387158</td>\n",
       "      <td>418.095047</td>\n",
       "      <td>414.465935</td>\n",
       "      <td>421.336804</td>\n",
       "      <td>431.197889</td>\n",
       "      <td>412.444053</td>\n",
       "      <td>519.378388</td>\n",
       "    </tr>\n",
       "    <tr>\n",
       "      <th>DE</th>\n",
       "      <td>901.164595</td>\n",
       "      <td>996.090864</td>\n",
       "      <td>840.463783</td>\n",
       "      <td>748.433164</td>\n",
       "      <td>775.107259</td>\n",
       "      <td>781.630369</td>\n",
       "      <td>808.500262</td>\n",
       "      <td>786.828059</td>\n",
       "      <td>740.589680</td>\n",
       "      <td>698.572941</td>\n",
       "      <td>584.638732</td>\n",
       "      <td>524.042099</td>\n",
       "      <td>513.194395</td>\n",
       "      <td>483.438903</td>\n",
       "      <td>425.449681</td>\n",
       "      <td>423.644812</td>\n",
       "      <td>493.137879</td>\n",
       "    </tr>\n",
       "    <tr>\n",
       "      <th>NJ</th>\n",
       "      <td>606.797606</td>\n",
       "      <td>678.587283</td>\n",
       "      <td>721.377650</td>\n",
       "      <td>674.702970</td>\n",
       "      <td>701.818143</td>\n",
       "      <td>675.775126</td>\n",
       "      <td>654.778210</td>\n",
       "      <td>617.385150</td>\n",
       "      <td>559.516994</td>\n",
       "      <td>560.126033</td>\n",
       "      <td>528.119728</td>\n",
       "      <td>493.156783</td>\n",
       "      <td>507.546385</td>\n",
       "      <td>492.184456</td>\n",
       "      <td>465.942676</td>\n",
       "      <td>435.066702</td>\n",
       "      <td>501.297228</td>\n",
       "    </tr>\n",
       "    <tr>\n",
       "      <th>CT</th>\n",
       "      <td>796.812087</td>\n",
       "      <td>660.556303</td>\n",
       "      <td>798.019370</td>\n",
       "      <td>682.068893</td>\n",
       "      <td>674.895082</td>\n",
       "      <td>635.910687</td>\n",
       "      <td>634.898256</td>\n",
       "      <td>661.179374</td>\n",
       "      <td>566.388778</td>\n",
       "      <td>560.102007</td>\n",
       "      <td>469.919533</td>\n",
       "      <td>470.906228</td>\n",
       "      <td>478.512088</td>\n",
       "      <td>495.533799</td>\n",
       "      <td>472.447140</td>\n",
       "      <td>442.332199</td>\n",
       "      <td>460.784769</td>\n",
       "    </tr>\n",
       "    <tr>\n",
       "      <th>NH</th>\n",
       "      <td>1061.401297</td>\n",
       "      <td>1038.188989</td>\n",
       "      <td>781.267762</td>\n",
       "      <td>728.939615</td>\n",
       "      <td>693.035204</td>\n",
       "      <td>682.248268</td>\n",
       "      <td>679.429371</td>\n",
       "      <td>613.280910</td>\n",
       "      <td>642.458297</td>\n",
       "      <td>640.997653</td>\n",
       "      <td>575.046096</td>\n",
       "      <td>517.998730</td>\n",
       "      <td>600.938201</td>\n",
       "      <td>555.497245</td>\n",
       "      <td>496.942100</td>\n",
       "      <td>446.806558</td>\n",
       "      <td>546.887269</td>\n",
       "    </tr>\n",
       "    <tr>\n",
       "      <th>NV</th>\n",
       "      <td>756.638336</td>\n",
       "      <td>795.386683</td>\n",
       "      <td>737.910911</td>\n",
       "      <td>732.316368</td>\n",
       "      <td>709.601269</td>\n",
       "      <td>631.283772</td>\n",
       "      <td>599.926641</td>\n",
       "      <td>564.297039</td>\n",
       "      <td>543.132183</td>\n",
       "      <td>550.019241</td>\n",
       "      <td>541.653527</td>\n",
       "      <td>496.689512</td>\n",
       "      <td>523.817422</td>\n",
       "      <td>545.233542</td>\n",
       "      <td>459.784382</td>\n",
       "      <td>447.194579</td>\n",
       "      <td>470.032929</td>\n",
       "    </tr>\n",
       "    <tr>\n",
       "      <th>MS</th>\n",
       "      <td>577.152398</td>\n",
       "      <td>728.339506</td>\n",
       "      <td>849.812946</td>\n",
       "      <td>814.272819</td>\n",
       "      <td>755.877961</td>\n",
       "      <td>759.332218</td>\n",
       "      <td>718.625584</td>\n",
       "      <td>720.584369</td>\n",
       "      <td>675.675162</td>\n",
       "      <td>643.872190</td>\n",
       "      <td>585.155211</td>\n",
       "      <td>531.453026</td>\n",
       "      <td>558.519610</td>\n",
       "      <td>560.179272</td>\n",
       "      <td>497.356236</td>\n",
       "      <td>477.753118</td>\n",
       "      <td>523.605974</td>\n",
       "    </tr>\n",
       "  </tbody>\n",
       "</table>\n",
       "</div>"
      ],
      "text/plain": [
       "Year          2001         2002        2003        2004        2005  \\\n",
       "State                                                                 \n",
       "ME      474.954880   435.978668  489.495031  431.522707  455.338617   \n",
       "ID      242.265944   839.049439  420.603289  368.575145  376.390278   \n",
       "CA      539.895845   513.667236  494.561281  463.223721  445.799649   \n",
       "RI      457.612783   449.266288  440.844836  425.281148  442.439264   \n",
       "DE      901.164595   996.090864  840.463783  748.433164  775.107259   \n",
       "NJ      606.797606   678.587283  721.377650  674.702970  701.818143   \n",
       "CT      796.812087   660.556303  798.019370  682.068893  674.895082   \n",
       "NH     1061.401297  1038.188989  781.267762  728.939615  693.035204   \n",
       "NV      756.638336   795.386683  737.910911  732.316368  709.601269   \n",
       "MS      577.152398   728.339506  849.812946  814.272819  755.877961   \n",
       "\n",
       "Year         2006        2007        2008        2009        2010        2011  \\\n",
       "State                                                                           \n",
       "ME     417.629532  428.850934  417.466362  427.540857  404.105634  419.409389   \n",
       "ID     378.954396  395.600630  401.733452  402.602534  387.812813  391.846970   \n",
       "CA     440.793443  450.725188  434.703385  427.057400  416.341368  421.951718   \n",
       "RI     415.501825  420.898941  418.860833  416.368489  423.709962  421.387158   \n",
       "DE     781.630369  808.500262  786.828059  740.589680  698.572941  584.638732   \n",
       "NJ     675.775126  654.778210  617.385150  559.516994  560.126033  528.119728   \n",
       "CT     635.910687  634.898256  661.179374  566.388778  560.102007  469.919533   \n",
       "NH     682.248268  679.429371  613.280910  642.458297  640.997653  575.046096   \n",
       "NV     631.283772  599.926641  564.297039  543.132183  550.019241  541.653527   \n",
       "MS     759.332218  718.625584  720.584369  675.675162  643.872190  585.155211   \n",
       "\n",
       "Year         2012        2013        2014        2015        2016        2017  \n",
       "State                                                                          \n",
       "ME     413.054599  412.185315  414.993474  472.523120  373.954387  190.315181  \n",
       "ID     394.880762  389.185652  384.065100  394.370492  400.842451  419.248071  \n",
       "CA     415.243711  410.337566  413.020549  417.466963  405.899338  400.618390  \n",
       "RI     418.095047  414.465935  421.336804  431.197889  412.444053  519.378388  \n",
       "DE     524.042099  513.194395  483.438903  425.449681  423.644812  493.137879  \n",
       "NJ     493.156783  507.546385  492.184456  465.942676  435.066702  501.297228  \n",
       "CT     470.906228  478.512088  495.533799  472.447140  442.332199  460.784769  \n",
       "NH     517.998730  600.938201  555.497245  496.942100  446.806558  546.887269  \n",
       "NV     496.689512  523.817422  545.233542  459.784382  447.194579  470.032929  \n",
       "MS     531.453026  558.519610  560.179272  497.356236  477.753118  523.605974  "
      ]
     },
     "execution_count": 25,
     "metadata": {},
     "output_type": "execute_result"
    }
   ],
   "source": [
    "cpp_index.head(n=10)"
   ]
  },
  {
   "cell_type": "code",
   "execution_count": 26,
   "metadata": {
    "ExecuteTime": {
     "end_time": "2017-10-13T18:56:48.777162Z",
     "start_time": "2017-10-13T18:56:48.764149Z"
    }
   },
   "outputs": [
    {
     "data": {
      "text/html": [
       "<div>\n",
       "<style>\n",
       "    .dataframe thead tr:only-child th {\n",
       "        text-align: right;\n",
       "    }\n",
       "\n",
       "    .dataframe thead th {\n",
       "        text-align: left;\n",
       "    }\n",
       "\n",
       "    .dataframe tbody tr th {\n",
       "        vertical-align: top;\n",
       "    }\n",
       "</style>\n",
       "<table border=\"1\" class=\"dataframe\">\n",
       "  <thead>\n",
       "    <tr style=\"text-align: right;\">\n",
       "      <th></th>\n",
       "      <th>% Change</th>\n",
       "      <th>2012 rate (lb/MWh)</th>\n",
       "      <th>2030 goal (lb/MWh)</th>\n",
       "      <th>2030 goals (g/kwh)</th>\n",
       "    </tr>\n",
       "    <tr>\n",
       "      <th>State</th>\n",
       "      <th></th>\n",
       "      <th></th>\n",
       "      <th></th>\n",
       "      <th></th>\n",
       "    </tr>\n",
       "  </thead>\n",
       "  <tbody>\n",
       "    <tr>\n",
       "      <th>AL</th>\n",
       "      <td>33%</td>\n",
       "      <td>1518</td>\n",
       "      <td>1018</td>\n",
       "      <td>461.761771</td>\n",
       "    </tr>\n",
       "    <tr>\n",
       "      <th>AZ</th>\n",
       "      <td>34%</td>\n",
       "      <td>1552</td>\n",
       "      <td>1031</td>\n",
       "      <td>467.658532</td>\n",
       "    </tr>\n",
       "    <tr>\n",
       "      <th>AR</th>\n",
       "      <td>38%</td>\n",
       "      <td>1816</td>\n",
       "      <td>1130</td>\n",
       "      <td>512.564638</td>\n",
       "    </tr>\n",
       "    <tr>\n",
       "      <th>CA</th>\n",
       "      <td>13%</td>\n",
       "      <td>954</td>\n",
       "      <td>828</td>\n",
       "      <td>375.578336</td>\n",
       "    </tr>\n",
       "    <tr>\n",
       "      <th>CO</th>\n",
       "      <td>38%</td>\n",
       "      <td>1904</td>\n",
       "      <td>1174</td>\n",
       "      <td>532.522907</td>\n",
       "    </tr>\n",
       "  </tbody>\n",
       "</table>\n",
       "</div>"
      ],
      "text/plain": [
       "      % Change  2012 rate (lb/MWh)  2030 goal (lb/MWh)  2030 goals (g/kwh)\n",
       "State                                                                     \n",
       "AL         33%                1518                1018          461.761771\n",
       "AZ         34%                1552                1031          467.658532\n",
       "AR         38%                1816                1130          512.564638\n",
       "CA         13%                 954                 828          375.578336\n",
       "CO         38%                1904                1174          532.522907"
      ]
     },
     "execution_count": 26,
     "metadata": {},
     "output_type": "execute_result"
    }
   ],
   "source": [
    "cpp_goals.head()"
   ]
  },
  {
   "cell_type": "code",
   "execution_count": 27,
   "metadata": {
    "ExecuteTime": {
     "end_time": "2017-10-13T18:57:04.531567Z",
     "start_time": "2017-10-13T18:57:04.524641Z"
    },
    "collapsed": true
   },
   "outputs": [],
   "source": [
    "cpp_goals.rename(columns={'2030 goals (g/kwh)': 2030}, inplace=True)\n",
    "cpp_barbell = pd.merge(cpp_index, cpp_goals, right_index=True, left_index=True)"
   ]
  },
  {
   "cell_type": "code",
   "execution_count": 28,
   "metadata": {
    "ExecuteTime": {
     "end_time": "2017-10-13T18:57:05.988570Z",
     "start_time": "2017-10-13T18:57:05.954709Z"
    }
   },
   "outputs": [
    {
     "data": {
      "text/html": [
       "<div>\n",
       "<style>\n",
       "    .dataframe thead tr:only-child th {\n",
       "        text-align: right;\n",
       "    }\n",
       "\n",
       "    .dataframe thead th {\n",
       "        text-align: left;\n",
       "    }\n",
       "\n",
       "    .dataframe tbody tr th {\n",
       "        vertical-align: top;\n",
       "    }\n",
       "</style>\n",
       "<table border=\"1\" class=\"dataframe\">\n",
       "  <thead>\n",
       "    <tr style=\"text-align: right;\">\n",
       "      <th></th>\n",
       "      <th>2001</th>\n",
       "      <th>2002</th>\n",
       "      <th>2003</th>\n",
       "      <th>2004</th>\n",
       "      <th>2005</th>\n",
       "      <th>2006</th>\n",
       "      <th>2007</th>\n",
       "      <th>2008</th>\n",
       "      <th>2009</th>\n",
       "      <th>2010</th>\n",
       "      <th>...</th>\n",
       "      <th>2012</th>\n",
       "      <th>2013</th>\n",
       "      <th>2014</th>\n",
       "      <th>2015</th>\n",
       "      <th>2016</th>\n",
       "      <th>2017</th>\n",
       "      <th>% Change</th>\n",
       "      <th>2012 rate (lb/MWh)</th>\n",
       "      <th>2030 goal (lb/MWh)</th>\n",
       "      <th>2030</th>\n",
       "    </tr>\n",
       "    <tr>\n",
       "      <th>State</th>\n",
       "      <th></th>\n",
       "      <th></th>\n",
       "      <th></th>\n",
       "      <th></th>\n",
       "      <th></th>\n",
       "      <th></th>\n",
       "      <th></th>\n",
       "      <th></th>\n",
       "      <th></th>\n",
       "      <th></th>\n",
       "      <th></th>\n",
       "      <th></th>\n",
       "      <th></th>\n",
       "      <th></th>\n",
       "      <th></th>\n",
       "      <th></th>\n",
       "      <th></th>\n",
       "      <th></th>\n",
       "      <th></th>\n",
       "      <th></th>\n",
       "      <th></th>\n",
       "    </tr>\n",
       "  </thead>\n",
       "  <tbody>\n",
       "    <tr>\n",
       "      <th>ME</th>\n",
       "      <td>474.954880</td>\n",
       "      <td>435.978668</td>\n",
       "      <td>489.495031</td>\n",
       "      <td>431.522707</td>\n",
       "      <td>455.338617</td>\n",
       "      <td>417.629532</td>\n",
       "      <td>428.850934</td>\n",
       "      <td>417.466362</td>\n",
       "      <td>427.540857</td>\n",
       "      <td>404.105634</td>\n",
       "      <td>...</td>\n",
       "      <td>413.054599</td>\n",
       "      <td>412.185315</td>\n",
       "      <td>414.993474</td>\n",
       "      <td>472.523120</td>\n",
       "      <td>373.954387</td>\n",
       "      <td>190.315181</td>\n",
       "      <td>11%</td>\n",
       "      <td>873</td>\n",
       "      <td>779</td>\n",
       "      <td>353.352082</td>\n",
       "    </tr>\n",
       "    <tr>\n",
       "      <th>ID</th>\n",
       "      <td>242.265944</td>\n",
       "      <td>839.049439</td>\n",
       "      <td>420.603289</td>\n",
       "      <td>368.575145</td>\n",
       "      <td>376.390278</td>\n",
       "      <td>378.954396</td>\n",
       "      <td>395.600630</td>\n",
       "      <td>401.733452</td>\n",
       "      <td>402.602534</td>\n",
       "      <td>387.812813</td>\n",
       "      <td>...</td>\n",
       "      <td>394.880762</td>\n",
       "      <td>389.185652</td>\n",
       "      <td>384.065100</td>\n",
       "      <td>394.370492</td>\n",
       "      <td>400.842451</td>\n",
       "      <td>419.248071</td>\n",
       "      <td>8%</td>\n",
       "      <td>834</td>\n",
       "      <td>771</td>\n",
       "      <td>349.723306</td>\n",
       "    </tr>\n",
       "    <tr>\n",
       "      <th>CA</th>\n",
       "      <td>539.895845</td>\n",
       "      <td>513.667236</td>\n",
       "      <td>494.561281</td>\n",
       "      <td>463.223721</td>\n",
       "      <td>445.799649</td>\n",
       "      <td>440.793443</td>\n",
       "      <td>450.725188</td>\n",
       "      <td>434.703385</td>\n",
       "      <td>427.057400</td>\n",
       "      <td>416.341368</td>\n",
       "      <td>...</td>\n",
       "      <td>415.243711</td>\n",
       "      <td>410.337566</td>\n",
       "      <td>413.020549</td>\n",
       "      <td>417.466963</td>\n",
       "      <td>405.899338</td>\n",
       "      <td>400.618390</td>\n",
       "      <td>13%</td>\n",
       "      <td>954</td>\n",
       "      <td>828</td>\n",
       "      <td>375.578336</td>\n",
       "    </tr>\n",
       "    <tr>\n",
       "      <th>RI</th>\n",
       "      <td>457.612783</td>\n",
       "      <td>449.266288</td>\n",
       "      <td>440.844836</td>\n",
       "      <td>425.281148</td>\n",
       "      <td>442.439264</td>\n",
       "      <td>415.501825</td>\n",
       "      <td>420.898941</td>\n",
       "      <td>418.860833</td>\n",
       "      <td>416.368489</td>\n",
       "      <td>423.709962</td>\n",
       "      <td>...</td>\n",
       "      <td>418.095047</td>\n",
       "      <td>414.465935</td>\n",
       "      <td>421.336804</td>\n",
       "      <td>431.197889</td>\n",
       "      <td>412.444053</td>\n",
       "      <td>519.378388</td>\n",
       "      <td>16%</td>\n",
       "      <td>918</td>\n",
       "      <td>771</td>\n",
       "      <td>349.723306</td>\n",
       "    </tr>\n",
       "    <tr>\n",
       "      <th>DE</th>\n",
       "      <td>901.164595</td>\n",
       "      <td>996.090864</td>\n",
       "      <td>840.463783</td>\n",
       "      <td>748.433164</td>\n",
       "      <td>775.107259</td>\n",
       "      <td>781.630369</td>\n",
       "      <td>808.500262</td>\n",
       "      <td>786.828059</td>\n",
       "      <td>740.589680</td>\n",
       "      <td>698.572941</td>\n",
       "      <td>...</td>\n",
       "      <td>524.042099</td>\n",
       "      <td>513.194395</td>\n",
       "      <td>483.438903</td>\n",
       "      <td>425.449681</td>\n",
       "      <td>423.644812</td>\n",
       "      <td>493.137879</td>\n",
       "      <td>24%</td>\n",
       "      <td>1209</td>\n",
       "      <td>916</td>\n",
       "      <td>415.494874</td>\n",
       "    </tr>\n",
       "  </tbody>\n",
       "</table>\n",
       "<p>5 rows × 21 columns</p>\n",
       "</div>"
      ],
      "text/plain": [
       "             2001        2002        2003        2004        2005        2006  \\\n",
       "State                                                                           \n",
       "ME     474.954880  435.978668  489.495031  431.522707  455.338617  417.629532   \n",
       "ID     242.265944  839.049439  420.603289  368.575145  376.390278  378.954396   \n",
       "CA     539.895845  513.667236  494.561281  463.223721  445.799649  440.793443   \n",
       "RI     457.612783  449.266288  440.844836  425.281148  442.439264  415.501825   \n",
       "DE     901.164595  996.090864  840.463783  748.433164  775.107259  781.630369   \n",
       "\n",
       "             2007        2008        2009        2010     ...            2012  \\\n",
       "State                                                     ...                   \n",
       "ME     428.850934  417.466362  427.540857  404.105634     ...      413.054599   \n",
       "ID     395.600630  401.733452  402.602534  387.812813     ...      394.880762   \n",
       "CA     450.725188  434.703385  427.057400  416.341368     ...      415.243711   \n",
       "RI     420.898941  418.860833  416.368489  423.709962     ...      418.095047   \n",
       "DE     808.500262  786.828059  740.589680  698.572941     ...      524.042099   \n",
       "\n",
       "             2013        2014        2015        2016        2017  % Change  \\\n",
       "State                                                                         \n",
       "ME     412.185315  414.993474  472.523120  373.954387  190.315181       11%   \n",
       "ID     389.185652  384.065100  394.370492  400.842451  419.248071        8%   \n",
       "CA     410.337566  413.020549  417.466963  405.899338  400.618390       13%   \n",
       "RI     414.465935  421.336804  431.197889  412.444053  519.378388       16%   \n",
       "DE     513.194395  483.438903  425.449681  423.644812  493.137879       24%   \n",
       "\n",
       "      2012 rate (lb/MWh)  2030 goal (lb/MWh)        2030  \n",
       "State                                                     \n",
       "ME                   873                 779  353.352082  \n",
       "ID                   834                 771  349.723306  \n",
       "CA                   954                 828  375.578336  \n",
       "RI                   918                 771  349.723306  \n",
       "DE                  1209                 916  415.494874  \n",
       "\n",
       "[5 rows x 21 columns]"
      ]
     },
     "execution_count": 28,
     "metadata": {},
     "output_type": "execute_result"
    }
   ],
   "source": [
    "cpp_barbell.head()"
   ]
  },
  {
   "cell_type": "code",
   "execution_count": 63,
   "metadata": {
    "ExecuteTime": {
     "end_time": "2017-10-12T16:08:13.857504Z",
     "start_time": "2017-10-12T16:08:13.850624Z"
    }
   },
   "outputs": [
    {
     "data": {
      "text/plain": [
       "Index([                2001,                 2002,                 2003,\n",
       "                       2004,                 2005,                 2006,\n",
       "                       2007,                 2008,                 2009,\n",
       "                       2010,                 2011,                 2012,\n",
       "                       2013,                 2014,                 2015,\n",
       "                       2016,                 2017,           '% Change',\n",
       "       '2012 rate (lb/MWh)', '2030 goal (lb/MWh)',                 2030],\n",
       "      dtype='object')"
      ]
     },
     "execution_count": 63,
     "metadata": {},
     "output_type": "execute_result"
    }
   ],
   "source": [
    "cpp_barbell.columns"
   ]
  },
  {
   "cell_type": "code",
   "execution_count": 32,
   "metadata": {
    "ExecuteTime": {
     "end_time": "2017-10-13T18:59:38.770052Z",
     "start_time": "2017-10-13T18:59:36.461333Z"
    }
   },
   "outputs": [
    {
     "data": {
      "image/png": "[encoded data removed]",
      "text/plain": [
       "<matplotlib.figure.Figure at 0x122739780>"
      ]
     },
     "metadata": {},
     "output_type": "display_data"
    }
   ],
   "source": [
    "cpp_barbell.sort_values(by=2016, inplace=True)\n",
    "\n",
    "states_index = list(cpp_barbell.index)\n",
    "\n",
    "dumbell_plot(cpp_barbell, [2005, 2016, 2030], states_index, legend_loc=[500, 300, 100],\n",
    "             rps_start={}, palette='colorblind')\n",
    "plt.ylim(-1, 53)\n",
    "sns.despine(left=True)\n",
    "plt.xlabel('g CO$_2$/kWh')\n",
    "plt.savefig(join('Figures', 'CPP comparison.png'), bbox_inches='tight')"
   ]
  },
  {
   "cell_type": "code",
   "execution_count": null,
   "metadata": {
    "ExecuteTime": {
     "end_time": "2017-10-12T16:08:41.277556Z",
     "start_time": "2017-10-12T16:08:40.282Z"
    },
    "collapsed": true
   },
   "outputs": [],
   "source": [
    "barbell_index = annual_gen_index.pivot_table(values='index (g/kWh)',\n",
    "                                             index='State', columns='Year')\n",
    "barbell_index.sort_values(by=2016, inplace=True)\n",
    "\n",
    "states_index = list(barbell_index.index)\n",
    "\n",
    "dumbell_plot(barbell_index, [2001, 2008, 2016], states_index, legend_loc=[500, 300, 100],\n",
    "             rps_start=rps_start, palette='colorblind')\n",
    "\n",
    "plt.vlines(456, -1, 50, colors=['0.5'], zorder=1, #linestyles='dashed',\n",
    "           linewidth=1)\n",
    "\n",
    "# Lines for 2008 and 2001 national averages. I'm not sure that I like them,\n",
    "# because they clutter up the figure.\n",
    "# plt.vlines(582, -1, 50, colors=['0.5'], zorder=1, #linestyles='dashed',\n",
    "#            linewidth=1)\n",
    "# plt.vlines(631, -1, 50, colors=['0.5'], zorder=1, #linestyles='dashed',\n",
    "#            linewidth=1)\n",
    "\n",
    "plt.ylim(-1, 53)\n",
    "plt.text(x=240, y=40, s='2016\\nNational Average\\n(456 g/kWh)', ha='center')\n",
    "sns.despine(left=True)\n",
    "plt.xlabel('g CO$_2$/kWh')\n",
    "plt.savefig(join('Figures', 'State CO2 intensity.pdf'), bbox_inches='tight')"
   ]
  },
  {
   "cell_type": "code",
   "execution_count": 13,
   "metadata": {
    "ExecuteTime": {
     "end_time": "2017-09-14T15:46:16.178024Z",
     "start_time": "2017-09-14T15:46:13.534398Z"
    }
   },
   "outputs": [
    {
     "data": {
      "text/plain": [
       "<matplotlib.collections.LineCollection at 0x10f98f0f0>"
      ]
     },
     "execution_count": 13,
     "metadata": {},
     "output_type": "execute_result"
    },
    {
     "data": {
      "text/plain": [
       "(-1, 53)"
      ]
     },
     "execution_count": 13,
     "metadata": {},
     "output_type": "execute_result"
    },
    {
     "data": {
      "text/plain": [
       "<matplotlib.text.Text at 0x11026da20>"
      ]
     },
     "execution_count": 13,
     "metadata": {},
     "output_type": "execute_result"
    },
    {
     "data": {
      "text/plain": [
       "<matplotlib.text.Text at 0x10ec4e198>"
      ]
     },
     "execution_count": 13,
     "metadata": {},
     "output_type": "execute_result"
    },
    {
     "data": {
      "image/png": "[encoded data removed]",
      "text/plain": [
       "<matplotlib.figure.Figure at 0x10ec58588>"
      ]
     },
     "metadata": {},
     "output_type": "display_data"
    }
   ],
   "source": [
    "barbell_index = annual_gen_index.pivot_table(values='index (g/kWh)',\n",
    "                                          index='State', columns='Year')\n",
    "barbell_index.sort_values(by=2016, inplace=True)\n",
    "\n",
    "# data = [barbell_index[year] for year in [2001, 2008, 2016]]\n",
    "states_index = list(barbell_index.index)\n",
    "# rps_states = list(rps_tidy['State'].unique())\n",
    "\n",
    "dumbell_plot(barbell_index, [2001, 2008, 2016], states_index, legend_loc=[500, 300, 100],\n",
    "             rps_start=rps_start, palette='colorblind')\n",
    "\n",
    "plt.vlines(456, -1, 50, colors=['0.5'], zorder=1, #linestyles='dashed',\n",
    "           linewidth=1)\n",
    "\n",
    "# Lines for 2008 and 2001 national averages. I'm not sure that I like them,\n",
    "# because they clutter up the figure.\n",
    "# plt.vlines(582, -1, 50, colors=['0.5'], zorder=1, #linestyles='dashed',\n",
    "#            linewidth=1)\n",
    "# plt.vlines(631, -1, 50, colors=['0.5'], zorder=1, #linestyles='dashed',\n",
    "#            linewidth=1)\n",
    "\n",
    "plt.ylim(-1, 53)\n",
    "plt.text(x=240, y=40, s='2016\\nNational Average\\n(456 g/kWh)', ha='center')\n",
    "sns.despine(left=True)\n",
    "plt.xlabel('g CO$_2$/kWh')\n",
    "plt.savefig(join('Figures', 'State CO2 intensity.pdf'), bbox_inches='tight')"
   ]
  },
  {
   "cell_type": "code",
   "execution_count": 8,
   "metadata": {
    "ExecuteTime": {
     "end_time": "2017-10-20T16:50:25.855724Z",
     "start_time": "2017-10-20T16:50:25.838221Z"
    },
    "collapsed": true
   },
   "outputs": [],
   "source": [
    "barbell_index = annual_gen_index.pivot_table(values='index (g/kWh)',\n",
    "                                          index='State', columns='Year')"
   ]
  },
  {
   "cell_type": "code",
   "execution_count": 69,
   "metadata": {
    "ExecuteTime": {
     "end_time": "2017-10-05T10:50:59.317456Z",
     "start_time": "2017-10-05T10:50:59.307626Z"
    },
    "collapsed": true
   },
   "outputs": [],
   "source": [
    "barbell_index['change'] = barbell_index[2016] - barbell_index[2001]\n",
    "barbell_index['% change'] = barbell_index['change'] / barbell_index[2001]"
   ]
  },
  {
   "cell_type": "code",
   "execution_count": 70,
   "metadata": {
    "ExecuteTime": {
     "end_time": "2017-10-05T10:51:04.179294Z",
     "start_time": "2017-10-05T10:51:04.130098Z"
    }
   },
   "outputs": [
    {
     "data": {
      "text/html": [
       "<div>\n",
       "<style>\n",
       "    .dataframe thead tr:only-child th {\n",
       "        text-align: right;\n",
       "    }\n",
       "\n",
       "    .dataframe thead th {\n",
       "        text-align: left;\n",
       "    }\n",
       "\n",
       "    .dataframe tbody tr th {\n",
       "        vertical-align: top;\n",
       "    }\n",
       "</style>\n",
       "<table border=\"1\" class=\"dataframe\">\n",
       "  <thead>\n",
       "    <tr style=\"text-align: right;\">\n",
       "      <th>Year</th>\n",
       "      <th>2001</th>\n",
       "      <th>2002</th>\n",
       "      <th>2003</th>\n",
       "      <th>2004</th>\n",
       "      <th>2005</th>\n",
       "      <th>2006</th>\n",
       "      <th>2007</th>\n",
       "      <th>2008</th>\n",
       "      <th>2009</th>\n",
       "      <th>2010</th>\n",
       "      <th>2011</th>\n",
       "      <th>2012</th>\n",
       "      <th>2013</th>\n",
       "      <th>2014</th>\n",
       "      <th>2015</th>\n",
       "      <th>2016</th>\n",
       "      <th>2017</th>\n",
       "      <th>change</th>\n",
       "      <th>% change</th>\n",
       "    </tr>\n",
       "    <tr>\n",
       "      <th>State</th>\n",
       "      <th></th>\n",
       "      <th></th>\n",
       "      <th></th>\n",
       "      <th></th>\n",
       "      <th></th>\n",
       "      <th></th>\n",
       "      <th></th>\n",
       "      <th></th>\n",
       "      <th></th>\n",
       "      <th></th>\n",
       "      <th></th>\n",
       "      <th></th>\n",
       "      <th></th>\n",
       "      <th></th>\n",
       "      <th></th>\n",
       "      <th></th>\n",
       "      <th></th>\n",
       "      <th></th>\n",
       "      <th></th>\n",
       "    </tr>\n",
       "  </thead>\n",
       "  <tbody>\n",
       "    <tr>\n",
       "      <th>VT</th>\n",
       "      <td>8.743736</td>\n",
       "      <td>2.627368</td>\n",
       "      <td>3.897625</td>\n",
       "      <td>3.771958</td>\n",
       "      <td>2.429857</td>\n",
       "      <td>1.476818</td>\n",
       "      <td>1.767715</td>\n",
       "      <td>1.110861</td>\n",
       "      <td>0.996470</td>\n",
       "      <td>1.299876</td>\n",
       "      <td>3.699465</td>\n",
       "      <td>1.945175</td>\n",
       "      <td>2.181743</td>\n",
       "      <td>1.995218</td>\n",
       "      <td>2.324067</td>\n",
       "      <td>0.577423</td>\n",
       "      <td>2.805629</td>\n",
       "      <td>-8.166313</td>\n",
       "      <td>-0.933962</td>\n",
       "    </tr>\n",
       "    <tr>\n",
       "      <th>ID</th>\n",
       "      <td>41.224086</td>\n",
       "      <td>43.663795</td>\n",
       "      <td>61.658292</td>\n",
       "      <td>62.467341</td>\n",
       "      <td>59.917659</td>\n",
       "      <td>41.155225</td>\n",
       "      <td>62.334927</td>\n",
       "      <td>62.409781</td>\n",
       "      <td>55.274896</td>\n",
       "      <td>59.869191</td>\n",
       "      <td>30.035044</td>\n",
       "      <td>51.975436</td>\n",
       "      <td>91.062983</td>\n",
       "      <td>68.258702</td>\n",
       "      <td>99.458760</td>\n",
       "      <td>84.458268</td>\n",
       "      <td>77.919092</td>\n",
       "      <td>43.234182</td>\n",
       "      <td>1.048760</td>\n",
       "    </tr>\n",
       "    <tr>\n",
       "      <th>WA</th>\n",
       "      <td>173.811143</td>\n",
       "      <td>115.255269</td>\n",
       "      <td>152.271979</td>\n",
       "      <td>144.192385</td>\n",
       "      <td>147.462299</td>\n",
       "      <td>94.334676</td>\n",
       "      <td>116.931263</td>\n",
       "      <td>121.849229</td>\n",
       "      <td>128.676468</td>\n",
       "      <td>135.741278</td>\n",
       "      <td>67.281858</td>\n",
       "      <td>56.139688</td>\n",
       "      <td>107.871885</td>\n",
       "      <td>102.934143</td>\n",
       "      <td>104.860610</td>\n",
       "      <td>88.814613</td>\n",
       "      <td>69.492358</td>\n",
       "      <td>-84.996530</td>\n",
       "      <td>-0.489017</td>\n",
       "    </tr>\n",
       "    <tr>\n",
       "      <th>NH</th>\n",
       "      <td>309.351016</td>\n",
       "      <td>304.237007</td>\n",
       "      <td>370.015899</td>\n",
       "      <td>352.210817</td>\n",
       "      <td>348.663125</td>\n",
       "      <td>320.120228</td>\n",
       "      <td>294.538344</td>\n",
       "      <td>286.322877</td>\n",
       "      <td>268.801303</td>\n",
       "      <td>247.064999</td>\n",
       "      <td>257.592428</td>\n",
       "      <td>225.680532</td>\n",
       "      <td>173.430345</td>\n",
       "      <td>170.858491</td>\n",
       "      <td>178.296926</td>\n",
       "      <td>121.358204</td>\n",
       "      <td>79.468110</td>\n",
       "      <td>-187.992812</td>\n",
       "      <td>-0.607701</td>\n",
       "    </tr>\n",
       "    <tr>\n",
       "      <th>ME</th>\n",
       "      <td>317.868817</td>\n",
       "      <td>304.201610</td>\n",
       "      <td>315.113341</td>\n",
       "      <td>272.725248</td>\n",
       "      <td>258.185640</td>\n",
       "      <td>212.845567</td>\n",
       "      <td>217.593255</td>\n",
       "      <td>209.516342</td>\n",
       "      <td>214.222782</td>\n",
       "      <td>214.754740</td>\n",
       "      <td>196.617475</td>\n",
       "      <td>182.243643</td>\n",
       "      <td>163.422231</td>\n",
       "      <td>160.211300</td>\n",
       "      <td>157.556250</td>\n",
       "      <td>135.628675</td>\n",
       "      <td>38.395263</td>\n",
       "      <td>-182.240142</td>\n",
       "      <td>-0.573319</td>\n",
       "    </tr>\n",
       "  </tbody>\n",
       "</table>\n",
       "</div>"
      ],
      "text/plain": [
       "Year         2001        2002        2003        2004        2005        2006  \\\n",
       "State                                                                           \n",
       "VT       8.743736    2.627368    3.897625    3.771958    2.429857    1.476818   \n",
       "ID      41.224086   43.663795   61.658292   62.467341   59.917659   41.155225   \n",
       "WA     173.811143  115.255269  152.271979  144.192385  147.462299   94.334676   \n",
       "NH     309.351016  304.237007  370.015899  352.210817  348.663125  320.120228   \n",
       "ME     317.868817  304.201610  315.113341  272.725248  258.185640  212.845567   \n",
       "\n",
       "Year         2007        2008        2009        2010        2011        2012  \\\n",
       "State                                                                           \n",
       "VT       1.767715    1.110861    0.996470    1.299876    3.699465    1.945175   \n",
       "ID      62.334927   62.409781   55.274896   59.869191   30.035044   51.975436   \n",
       "WA     116.931263  121.849229  128.676468  135.741278   67.281858   56.139688   \n",
       "NH     294.538344  286.322877  268.801303  247.064999  257.592428  225.680532   \n",
       "ME     217.593255  209.516342  214.222782  214.754740  196.617475  182.243643   \n",
       "\n",
       "Year         2013        2014        2015        2016       2017      change  \\\n",
       "State                                                                          \n",
       "VT       2.181743    1.995218    2.324067    0.577423   2.805629   -8.166313   \n",
       "ID      91.062983   68.258702   99.458760   84.458268  77.919092   43.234182   \n",
       "WA     107.871885  102.934143  104.860610   88.814613  69.492358  -84.996530   \n",
       "NH     173.430345  170.858491  178.296926  121.358204  79.468110 -187.992812   \n",
       "ME     163.422231  160.211300  157.556250  135.628675  38.395263 -182.240142   \n",
       "\n",
       "Year   % change  \n",
       "State            \n",
       "VT    -0.933962  \n",
       "ID     1.048760  \n",
       "WA    -0.489017  \n",
       "NH    -0.607701  \n",
       "ME    -0.573319  "
      ]
     },
     "execution_count": 70,
     "metadata": {},
     "output_type": "execute_result"
    }
   ],
   "source": [
    "barbell_index.head()"
   ]
  },
  {
   "cell_type": "code",
   "execution_count": 71,
   "metadata": {
    "ExecuteTime": {
     "end_time": "2017-10-05T10:52:28.364240Z",
     "start_time": "2017-10-05T10:52:28.314678Z"
    }
   },
   "outputs": [
    {
     "data": {
      "text/html": [
       "<div>\n",
       "<style>\n",
       "    .dataframe thead tr:only-child th {\n",
       "        text-align: right;\n",
       "    }\n",
       "\n",
       "    .dataframe thead th {\n",
       "        text-align: left;\n",
       "    }\n",
       "\n",
       "    .dataframe tbody tr th {\n",
       "        vertical-align: top;\n",
       "    }\n",
       "</style>\n",
       "<table border=\"1\" class=\"dataframe\">\n",
       "  <thead>\n",
       "    <tr style=\"text-align: right;\">\n",
       "      <th>Year</th>\n",
       "      <th>2001</th>\n",
       "      <th>2002</th>\n",
       "      <th>2003</th>\n",
       "      <th>2004</th>\n",
       "      <th>2005</th>\n",
       "      <th>2006</th>\n",
       "      <th>2007</th>\n",
       "      <th>2008</th>\n",
       "      <th>2009</th>\n",
       "      <th>2010</th>\n",
       "      <th>2011</th>\n",
       "      <th>2012</th>\n",
       "      <th>2013</th>\n",
       "      <th>2014</th>\n",
       "      <th>2015</th>\n",
       "      <th>2016</th>\n",
       "      <th>2017</th>\n",
       "      <th>change</th>\n",
       "      <th>% change</th>\n",
       "    </tr>\n",
       "    <tr>\n",
       "      <th>State</th>\n",
       "      <th></th>\n",
       "      <th></th>\n",
       "      <th></th>\n",
       "      <th></th>\n",
       "      <th></th>\n",
       "      <th></th>\n",
       "      <th></th>\n",
       "      <th></th>\n",
       "      <th></th>\n",
       "      <th></th>\n",
       "      <th></th>\n",
       "      <th></th>\n",
       "      <th></th>\n",
       "      <th></th>\n",
       "      <th></th>\n",
       "      <th></th>\n",
       "      <th></th>\n",
       "      <th></th>\n",
       "      <th></th>\n",
       "    </tr>\n",
       "  </thead>\n",
       "  <tbody>\n",
       "    <tr>\n",
       "      <th>DE</th>\n",
       "      <td>901.164595</td>\n",
       "      <td>996.090864</td>\n",
       "      <td>840.463783</td>\n",
       "      <td>748.433164</td>\n",
       "      <td>775.107259</td>\n",
       "      <td>781.630369</td>\n",
       "      <td>808.500262</td>\n",
       "      <td>786.828059</td>\n",
       "      <td>740.589680</td>\n",
       "      <td>698.247822</td>\n",
       "      <td>583.450053</td>\n",
       "      <td>522.432463</td>\n",
       "      <td>509.917777</td>\n",
       "      <td>475.524412</td>\n",
       "      <td>418.208780</td>\n",
       "      <td>416.187898</td>\n",
       "      <td>479.430099</td>\n",
       "      <td>-484.976697</td>\n",
       "      <td>-0.538167</td>\n",
       "    </tr>\n",
       "    <tr>\n",
       "      <th>IA</th>\n",
       "      <td>924.557117</td>\n",
       "      <td>897.997409</td>\n",
       "      <td>899.039916</td>\n",
       "      <td>857.367562</td>\n",
       "      <td>851.155357</td>\n",
       "      <td>814.349946</td>\n",
       "      <td>818.159640</td>\n",
       "      <td>795.950880</td>\n",
       "      <td>745.278830</td>\n",
       "      <td>743.131999</td>\n",
       "      <td>702.311973</td>\n",
       "      <td>645.006790</td>\n",
       "      <td>610.116035</td>\n",
       "      <td>611.931843</td>\n",
       "      <td>543.746396</td>\n",
       "      <td>492.638651</td>\n",
       "      <td>438.582218</td>\n",
       "      <td>-431.918466</td>\n",
       "      <td>-0.467163</td>\n",
       "    </tr>\n",
       "    <tr>\n",
       "      <th>OK</th>\n",
       "      <td>808.431153</td>\n",
       "      <td>806.967193</td>\n",
       "      <td>809.733012</td>\n",
       "      <td>767.374637</td>\n",
       "      <td>731.271733</td>\n",
       "      <td>709.997168</td>\n",
       "      <td>685.448976</td>\n",
       "      <td>690.675315</td>\n",
       "      <td>672.628175</td>\n",
       "      <td>664.453027</td>\n",
       "      <td>680.120877</td>\n",
       "      <td>616.666178</td>\n",
       "      <td>612.043917</td>\n",
       "      <td>614.476773</td>\n",
       "      <td>537.819355</td>\n",
       "      <td>472.994328</td>\n",
       "      <td>386.025741</td>\n",
       "      <td>-335.436825</td>\n",
       "      <td>-0.414923</td>\n",
       "    </tr>\n",
       "    <tr>\n",
       "      <th>ND</th>\n",
       "      <td>1113.788927</td>\n",
       "      <td>1081.970752</td>\n",
       "      <td>1090.852721</td>\n",
       "      <td>1079.486425</td>\n",
       "      <td>1052.062449</td>\n",
       "      <td>1063.696433</td>\n",
       "      <td>1013.560939</td>\n",
       "      <td>977.592022</td>\n",
       "      <td>929.266078</td>\n",
       "      <td>882.643816</td>\n",
       "      <td>846.810578</td>\n",
       "      <td>837.980054</td>\n",
       "      <td>848.955552</td>\n",
       "      <td>821.453818</td>\n",
       "      <td>827.021842</td>\n",
       "      <td>786.637116</td>\n",
       "      <td>727.227322</td>\n",
       "      <td>-327.151812</td>\n",
       "      <td>-0.293729</td>\n",
       "    </tr>\n",
       "    <tr>\n",
       "      <th>NV</th>\n",
       "      <td>673.693149</td>\n",
       "      <td>711.238208</td>\n",
       "      <td>675.169577</td>\n",
       "      <td>675.690138</td>\n",
       "      <td>657.280125</td>\n",
       "      <td>563.888688</td>\n",
       "      <td>539.330273</td>\n",
       "      <td>511.397930</td>\n",
       "      <td>481.638295</td>\n",
       "      <td>480.474005</td>\n",
       "      <td>463.160942</td>\n",
       "      <td>420.533872</td>\n",
       "      <td>432.484071</td>\n",
       "      <td>446.474634</td>\n",
       "      <td>371.503440</td>\n",
       "      <td>347.691035</td>\n",
       "      <td>349.854955</td>\n",
       "      <td>-326.002114</td>\n",
       "      <td>-0.483903</td>\n",
       "    </tr>\n",
       "  </tbody>\n",
       "</table>\n",
       "</div>"
      ],
      "text/plain": [
       "Year          2001         2002         2003         2004         2005  \\\n",
       "State                                                                    \n",
       "DE      901.164595   996.090864   840.463783   748.433164   775.107259   \n",
       "IA      924.557117   897.997409   899.039916   857.367562   851.155357   \n",
       "OK      808.431153   806.967193   809.733012   767.374637   731.271733   \n",
       "ND     1113.788927  1081.970752  1090.852721  1079.486425  1052.062449   \n",
       "NV      673.693149   711.238208   675.169577   675.690138   657.280125   \n",
       "\n",
       "Year          2006         2007        2008        2009        2010  \\\n",
       "State                                                                 \n",
       "DE      781.630369   808.500262  786.828059  740.589680  698.247822   \n",
       "IA      814.349946   818.159640  795.950880  745.278830  743.131999   \n",
       "OK      709.997168   685.448976  690.675315  672.628175  664.453027   \n",
       "ND     1063.696433  1013.560939  977.592022  929.266078  882.643816   \n",
       "NV      563.888688   539.330273  511.397930  481.638295  480.474005   \n",
       "\n",
       "Year         2011        2012        2013        2014        2015        2016  \\\n",
       "State                                                                           \n",
       "DE     583.450053  522.432463  509.917777  475.524412  418.208780  416.187898   \n",
       "IA     702.311973  645.006790  610.116035  611.931843  543.746396  492.638651   \n",
       "OK     680.120877  616.666178  612.043917  614.476773  537.819355  472.994328   \n",
       "ND     846.810578  837.980054  848.955552  821.453818  827.021842  786.637116   \n",
       "NV     463.160942  420.533872  432.484071  446.474634  371.503440  347.691035   \n",
       "\n",
       "Year         2017      change  % change  \n",
       "State                                    \n",
       "DE     479.430099 -484.976697 -0.538167  \n",
       "IA     438.582218 -431.918466 -0.467163  \n",
       "OK     386.025741 -335.436825 -0.414923  \n",
       "ND     727.227322 -327.151812 -0.293729  \n",
       "NV     349.854955 -326.002114 -0.483903  "
      ]
     },
     "execution_count": 71,
     "metadata": {},
     "output_type": "execute_result"
    }
   ],
   "source": [
    "barbell_index.sort_values('change').head()"
   ]
  },
  {
   "cell_type": "code",
   "execution_count": 87,
   "metadata": {
    "ExecuteTime": {
     "end_time": "2017-10-05T11:08:36.648794Z",
     "start_time": "2017-10-05T11:08:36.598488Z"
    }
   },
   "outputs": [
    {
     "data": {
      "text/html": [
       "<div>\n",
       "<style>\n",
       "    .dataframe thead tr:only-child th {\n",
       "        text-align: right;\n",
       "    }\n",
       "\n",
       "    .dataframe thead th {\n",
       "        text-align: left;\n",
       "    }\n",
       "\n",
       "    .dataframe tbody tr th {\n",
       "        vertical-align: top;\n",
       "    }\n",
       "</style>\n",
       "<table border=\"1\" class=\"dataframe\">\n",
       "  <thead>\n",
       "    <tr style=\"text-align: right;\">\n",
       "      <th>Year</th>\n",
       "      <th>2001</th>\n",
       "      <th>2002</th>\n",
       "      <th>2003</th>\n",
       "      <th>2004</th>\n",
       "      <th>2005</th>\n",
       "      <th>2006</th>\n",
       "      <th>2007</th>\n",
       "      <th>2008</th>\n",
       "      <th>2009</th>\n",
       "      <th>2010</th>\n",
       "      <th>2011</th>\n",
       "      <th>2012</th>\n",
       "      <th>2013</th>\n",
       "      <th>2014</th>\n",
       "      <th>2015</th>\n",
       "      <th>2016</th>\n",
       "      <th>2017</th>\n",
       "      <th>change</th>\n",
       "      <th>% change</th>\n",
       "    </tr>\n",
       "    <tr>\n",
       "      <th>State</th>\n",
       "      <th></th>\n",
       "      <th></th>\n",
       "      <th></th>\n",
       "      <th></th>\n",
       "      <th></th>\n",
       "      <th></th>\n",
       "      <th></th>\n",
       "      <th></th>\n",
       "      <th></th>\n",
       "      <th></th>\n",
       "      <th></th>\n",
       "      <th></th>\n",
       "      <th></th>\n",
       "      <th></th>\n",
       "      <th></th>\n",
       "      <th></th>\n",
       "      <th></th>\n",
       "      <th></th>\n",
       "      <th></th>\n",
       "    </tr>\n",
       "  </thead>\n",
       "  <tbody>\n",
       "    <tr>\n",
       "      <th>ID</th>\n",
       "      <td>41.224086</td>\n",
       "      <td>43.663795</td>\n",
       "      <td>61.658292</td>\n",
       "      <td>62.467341</td>\n",
       "      <td>59.917659</td>\n",
       "      <td>41.155225</td>\n",
       "      <td>62.334927</td>\n",
       "      <td>62.409781</td>\n",
       "      <td>55.274896</td>\n",
       "      <td>59.869191</td>\n",
       "      <td>30.035044</td>\n",
       "      <td>51.975436</td>\n",
       "      <td>91.062983</td>\n",
       "      <td>68.258702</td>\n",
       "      <td>99.458760</td>\n",
       "      <td>84.458268</td>\n",
       "      <td>77.919092</td>\n",
       "      <td>43.234182</td>\n",
       "      <td>1.048760</td>\n",
       "    </tr>\n",
       "    <tr>\n",
       "      <th>VT</th>\n",
       "      <td>8.743736</td>\n",
       "      <td>2.627368</td>\n",
       "      <td>3.897625</td>\n",
       "      <td>3.771958</td>\n",
       "      <td>2.429857</td>\n",
       "      <td>1.476818</td>\n",
       "      <td>1.767715</td>\n",
       "      <td>1.110861</td>\n",
       "      <td>0.996470</td>\n",
       "      <td>1.299876</td>\n",
       "      <td>3.699465</td>\n",
       "      <td>1.945175</td>\n",
       "      <td>2.181743</td>\n",
       "      <td>1.995218</td>\n",
       "      <td>2.324067</td>\n",
       "      <td>0.577423</td>\n",
       "      <td>2.805629</td>\n",
       "      <td>-8.166313</td>\n",
       "      <td>-0.933962</td>\n",
       "    </tr>\n",
       "    <tr>\n",
       "      <th>WV</th>\n",
       "      <td>924.531717</td>\n",
       "      <td>912.617843</td>\n",
       "      <td>904.784349</td>\n",
       "      <td>904.480881</td>\n",
       "      <td>875.607132</td>\n",
       "      <td>863.509859</td>\n",
       "      <td>893.415863</td>\n",
       "      <td>894.107413</td>\n",
       "      <td>914.024623</td>\n",
       "      <td>895.038516</td>\n",
       "      <td>897.717670</td>\n",
       "      <td>894.015646</td>\n",
       "      <td>882.978591</td>\n",
       "      <td>885.393743</td>\n",
       "      <td>889.182463</td>\n",
       "      <td>899.026113</td>\n",
       "      <td>885.849960</td>\n",
       "      <td>-25.505604</td>\n",
       "      <td>-0.027588</td>\n",
       "    </tr>\n",
       "    <tr>\n",
       "      <th>MS</th>\n",
       "      <td>454.523576</td>\n",
       "      <td>541.604110</td>\n",
       "      <td>597.511337</td>\n",
       "      <td>595.196713</td>\n",
       "      <td>561.328718</td>\n",
       "      <td>562.888618</td>\n",
       "      <td>562.789108</td>\n",
       "      <td>559.322407</td>\n",
       "      <td>503.323671</td>\n",
       "      <td>512.158187</td>\n",
       "      <td>450.778872</td>\n",
       "      <td>445.699393</td>\n",
       "      <td>428.208114</td>\n",
       "      <td>440.573372</td>\n",
       "      <td>395.731632</td>\n",
       "      <td>421.667714</td>\n",
       "      <td>441.904113</td>\n",
       "      <td>-32.855862</td>\n",
       "      <td>-0.072286</td>\n",
       "    </tr>\n",
       "    <tr>\n",
       "      <th>NJ</th>\n",
       "      <td>286.853308</td>\n",
       "      <td>328.931104</td>\n",
       "      <td>336.116635</td>\n",
       "      <td>337.547923</td>\n",
       "      <td>327.461909</td>\n",
       "      <td>302.595534</td>\n",
       "      <td>311.307394</td>\n",
       "      <td>296.199721</td>\n",
       "      <td>239.800620</td>\n",
       "      <td>273.255878</td>\n",
       "      <td>245.779558</td>\n",
       "      <td>233.203631</td>\n",
       "      <td>234.415309</td>\n",
       "      <td>247.615057</td>\n",
       "      <td>243.514823</td>\n",
       "      <td>250.824097</td>\n",
       "      <td>209.280357</td>\n",
       "      <td>-36.029211</td>\n",
       "      <td>-0.125602</td>\n",
       "    </tr>\n",
       "  </tbody>\n",
       "</table>\n",
       "</div>"
      ],
      "text/plain": [
       "Year         2001        2002        2003        2004        2005        2006  \\\n",
       "State                                                                           \n",
       "ID      41.224086   43.663795   61.658292   62.467341   59.917659   41.155225   \n",
       "VT       8.743736    2.627368    3.897625    3.771958    2.429857    1.476818   \n",
       "WV     924.531717  912.617843  904.784349  904.480881  875.607132  863.509859   \n",
       "MS     454.523576  541.604110  597.511337  595.196713  561.328718  562.888618   \n",
       "NJ     286.853308  328.931104  336.116635  337.547923  327.461909  302.595534   \n",
       "\n",
       "Year         2007        2008        2009        2010        2011        2012  \\\n",
       "State                                                                           \n",
       "ID      62.334927   62.409781   55.274896   59.869191   30.035044   51.975436   \n",
       "VT       1.767715    1.110861    0.996470    1.299876    3.699465    1.945175   \n",
       "WV     893.415863  894.107413  914.024623  895.038516  897.717670  894.015646   \n",
       "MS     562.789108  559.322407  503.323671  512.158187  450.778872  445.699393   \n",
       "NJ     311.307394  296.199721  239.800620  273.255878  245.779558  233.203631   \n",
       "\n",
       "Year         2013        2014        2015        2016        2017     change  \\\n",
       "State                                                                          \n",
       "ID      91.062983   68.258702   99.458760   84.458268   77.919092  43.234182   \n",
       "VT       2.181743    1.995218    2.324067    0.577423    2.805629  -8.166313   \n",
       "WV     882.978591  885.393743  889.182463  899.026113  885.849960 -25.505604   \n",
       "MS     428.208114  440.573372  395.731632  421.667714  441.904113 -32.855862   \n",
       "NJ     234.415309  247.615057  243.514823  250.824097  209.280357 -36.029211   \n",
       "\n",
       "Year   % change  \n",
       "State            \n",
       "ID     1.048760  \n",
       "VT    -0.933962  \n",
       "WV    -0.027588  \n",
       "MS    -0.072286  \n",
       "NJ    -0.125602  "
      ]
     },
     "execution_count": 87,
     "metadata": {},
     "output_type": "execute_result"
    }
   ],
   "source": [
    "barbell_index.sort_values('change', ascending=False).head()"
   ]
  },
  {
   "cell_type": "code",
   "execution_count": 82,
   "metadata": {
    "ExecuteTime": {
     "end_time": "2017-10-05T11:04:31.096655Z",
     "start_time": "2017-10-05T11:04:31.081670Z"
    }
   },
   "outputs": [
    {
     "name": "stdout",
     "output_type": "stream",
     "text": [
      "The largest absolute reduction is -485.0 g/kWh in DE, from 901.2 to 416.2\n"
     ]
    }
   ],
   "source": [
    "max_change_state = barbell_index.sort_values('change').index[0]\n",
    "max_change_value = barbell_index.sort_values('change')['change'].values[0]\n",
    "start = barbell_index.loc[max_change_state, 2001]\n",
    "end = barbell_index.loc[max_change_state, 2016]\n",
    "print('The largest absolute reduction is {:0.1f} g/kWh in {}, from {:.1f} to {:.1f}'\n",
    "      .format(max_change_value, max_change_state, start, end))"
   ]
  },
  {
   "cell_type": "code",
   "execution_count": 83,
   "metadata": {
    "ExecuteTime": {
     "end_time": "2017-10-05T11:05:44.465097Z",
     "start_time": "2017-10-05T11:05:44.446444Z"
    }
   },
   "outputs": [
    {
     "name": "stdout",
     "output_type": "stream",
     "text": [
      "The smallest absolute reduction is 43.2 g/kWh in ID, from 41.2 to 84.5\n"
     ]
    }
   ],
   "source": [
    "min_change_state = barbell_index.sort_values('change').index[-1]\n",
    "min_change_value = barbell_index.sort_values('change')['change'].values[-1]\n",
    "start = barbell_index.loc[min_change_state, 2001]\n",
    "end = barbell_index.loc[min_change_state, 2016]\n",
    "print('The smallest absolute reduction is {:0.1f} g/kWh in {}, from {:.1f} to {:.1f}'\n",
    "      .format(min_change_value, min_change_state, start, end))"
   ]
  },
  {
   "cell_type": "code",
   "execution_count": 81,
   "metadata": {
    "ExecuteTime": {
     "end_time": "2017-10-05T11:03:48.741297Z",
     "start_time": "2017-10-05T11:03:48.729569Z"
    }
   },
   "outputs": [
    {
     "name": "stdout",
     "output_type": "stream",
     "text": [
      "The largest relative reduction is -93.4% g/kWh in VT, from 8.7 to 0.6\n"
     ]
    }
   ],
   "source": [
    "max_relchange_state = barbell_index.sort_values('% change').index[0]\n",
    "max_relchange_value = barbell_index.sort_values('% change')['% change'].values[0]\n",
    "start = barbell_index.loc[max_relchange_state, 2001]\n",
    "end = barbell_index.loc[max_relchange_state, 2016]\n",
    "print('The largest relative reduction is {:0.1%} g/kWh in {}, from {:.1f} to {:.1f}'\n",
    "      .format(max_relchange_value, max_relchange_state, start, end))"
   ]
  },
  {
   "cell_type": "code",
   "execution_count": 84,
   "metadata": {
    "ExecuteTime": {
     "end_time": "2017-10-05T11:06:25.202718Z",
     "start_time": "2017-10-05T11:06:25.189412Z"
    }
   },
   "outputs": [
    {
     "name": "stdout",
     "output_type": "stream",
     "text": [
      "The smallest relative reduction is 104.9% g/kWh in ID, from 41.2 to 84.5\n"
     ]
    }
   ],
   "source": [
    "min_relchange_state = barbell_index.sort_values('% change').index[-1]\n",
    "min_relchange_value = barbell_index.sort_values('% change')['% change'].values[-1]\n",
    "start = barbell_index.loc[min_relchange_state, 2001]\n",
    "end = barbell_index.loc[min_relchange_state, 2016]\n",
    "print('The smallest relative reduction is {:0.1%} g/kWh in {}, from {:.1f} to {:.1f}'\n",
    "      .format(min_relchange_value, min_relchange_state, start, end))"
   ]
  },
  {
   "cell_type": "code",
   "execution_count": null,
   "metadata": {
    "collapsed": true
   },
   "outputs": [],
   "source": []
  },
  {
   "cell_type": "code",
   "execution_count": null,
   "metadata": {
    "collapsed": true
   },
   "outputs": [],
   "source": []
  },
  {
   "cell_type": "code",
   "execution_count": null,
   "metadata": {
    "collapsed": true
   },
   "outputs": [],
   "source": []
  },
  {
   "cell_type": "code",
   "execution_count": 18,
   "metadata": {
    "ExecuteTime": {
     "end_time": "2017-08-07T13:04:12.002289Z",
     "start_time": "2017-08-07T13:04:10.566242Z"
    }
   },
   "outputs": [
    {
     "data": {
      "text/plain": [
       "<matplotlib.collections.LineCollection at 0x11835f0f0>"
      ]
     },
     "execution_count": 18,
     "metadata": {},
     "output_type": "execute_result"
    },
    {
     "data": {
      "text/plain": [
       "(-1, 53)"
      ]
     },
     "execution_count": 18,
     "metadata": {},
     "output_type": "execute_result"
    },
    {
     "data": {
      "text/plain": [
       "<matplotlib.text.Text at 0x1189d7f98>"
      ]
     },
     "execution_count": 18,
     "metadata": {},
     "output_type": "execute_result"
    },
    {
     "data": {
      "text/plain": [
       "<matplotlib.text.Text at 0x1134acd30>"
      ]
     },
     "execution_count": 18,
     "metadata": {},
     "output_type": "execute_result"
    },
    {
     "data": {
      "image/png": "[encoded data removed]",
      "text/plain": [
       "<matplotlib.figure.Figure at 0x1143f97f0>"
      ]
     },
     "metadata": {},
     "output_type": "display_data"
    }
   ],
   "source": [
    "# barbell_index = annual_gen_index.pivot_table(values='index (g/kWh)',\n",
    "#                                           index='State', columns='Year')\n",
    "barbell_index.sort_values(by='change', inplace=True)\n",
    "\n",
    "states_index = list(barbell_index.index)\n",
    "\n",
    "dumbell_plot(barbell_index, [2001, 2008, 2016], states_index, legend_loc=[500, 300, 100],\n",
    "             rps_start=rps_start, palette='colorblind')\n",
    "\n",
    "plt.vlines(456, -1, 50, colors=['0.5'], zorder=1, #linestyles='dashed',\n",
    "           linewidth=1)\n",
    "plt.ylim(-1, 53)\n",
    "plt.text(x=240, y=40, s='2016\\nNational Average\\n(456 g/kWh)', ha='center')\n",
    "sns.despine(left=True)\n",
    "plt.xlabel('g CO$_2$/kWh')"
   ]
  },
  {
   "cell_type": "code",
   "execution_count": 34,
   "metadata": {
    "ExecuteTime": {
     "end_time": "2017-08-07T14:25:56.856895Z",
     "start_time": "2017-08-07T14:25:56.850952Z"
    },
    "collapsed": true
   },
   "outputs": [],
   "source": [
    "year = annual_gen_index['Year']\n",
    "index_order = annual_gen_index.loc[year == 2001].sort_values(by='percent Coal')['State'].values"
   ]
  },
  {
   "cell_type": "code",
   "execution_count": 36,
   "metadata": {
    "ExecuteTime": {
     "end_time": "2017-08-07T14:26:06.225500Z",
     "start_time": "2017-08-07T14:26:06.219579Z"
    }
   },
   "outputs": [
    {
     "data": {
      "text/plain": [
       "array(['VT', 'RI', 'ID', 'CA', 'ME', 'AK', 'OR', 'WA', 'CT', 'HI', 'NJ',\n",
       "       'NY', 'NH', 'LA', 'MA', 'FL', 'MS', 'TX', 'SC', 'IL', 'AZ', 'SD',\n",
       "       'DE', 'VA', 'NV', 'AR', 'PA', 'AL', 'MD', 'MI', 'TN', 'NC', 'OK',\n",
       "       'GA', 'MN', 'NE', 'WI', 'MT', 'KS', 'CO', 'MO', 'NM', 'IA', 'OH',\n",
       "       'UT', 'IN', 'KY', 'ND', 'WY', 'WV'], dtype=object)"
      ]
     },
     "execution_count": 36,
     "metadata": {},
     "output_type": "execute_result"
    }
   ],
   "source": [
    "index_order"
   ]
  },
  {
   "cell_type": "markdown",
   "metadata": {},
   "source": [
    "Order the states by percent generation from coal in 2008"
   ]
  },
  {
   "cell_type": "code",
   "execution_count": 35,
   "metadata": {
    "ExecuteTime": {
     "end_time": "2017-08-07T14:26:00.454326Z",
     "start_time": "2017-08-07T14:25:58.290078Z"
    }
   },
   "outputs": [
    {
     "data": {
      "text/plain": [
       "<matplotlib.collections.LineCollection at 0x119a3bb38>"
      ]
     },
     "execution_count": 35,
     "metadata": {},
     "output_type": "execute_result"
    },
    {
     "data": {
      "text/plain": [
       "(-1, 53)"
      ]
     },
     "execution_count": 35,
     "metadata": {},
     "output_type": "execute_result"
    },
    {
     "data": {
      "text/plain": [
       "<matplotlib.text.Text at 0x119fc3e48>"
      ]
     },
     "execution_count": 35,
     "metadata": {},
     "output_type": "execute_result"
    },
    {
     "data": {
      "text/plain": [
       "<matplotlib.text.Text at 0x1199624e0>"
      ]
     },
     "execution_count": 35,
     "metadata": {},
     "output_type": "execute_result"
    },
    {
     "data": {
      "image/png": "[encoded data removed]",
      "text/plain": [
       "<matplotlib.figure.Figure at 0x119a3b5c0>"
      ]
     },
     "metadata": {},
     "output_type": "display_data"
    }
   ],
   "source": [
    "# barbell_index = annual_gen_index.pivot_table(values='index (g/kWh)',\n",
    "#                                           index='State', columns='Year')\n",
    "# barbell_index.sort_values(by='change', inplace=True)\n",
    "\n",
    "states_index = list(index_order)\n",
    "\n",
    "dumbell_plot(barbell_index.loc[index_order], [2001, 2008, 2016], states_index,\n",
    "             legend_loc=[500, 300, 100], rps_start=rps_start,\n",
    "             palette='colorblind')\n",
    "\n",
    "plt.vlines(456, -1, 50, colors=['0.5'], zorder=1, #linestyles='dashed',\n",
    "           linewidth=1)\n",
    "plt.ylim(-1, 53)\n",
    "plt.text(x=240, y=40, s='2016\\nNational Average\\n(456 g/kWh)', ha='center')\n",
    "sns.despine(left=True)\n",
    "plt.xlabel('g CO$_2$/kWh')"
   ]
  },
  {
   "cell_type": "markdown",
   "metadata": {},
   "source": [
    "### Annual emissions"
   ]
  },
  {
   "cell_type": "code",
   "execution_count": 4,
   "metadata": {
    "ExecuteTime": {
     "end_time": "2017-08-02T19:15:05.537358Z",
     "start_time": "2017-08-02T19:15:05.530739Z"
    },
    "collapsed": true
   },
   "outputs": [],
   "source": [
    "total_emiss = annual_gen_index.groupby('Year')['final CO2 (kg)'].sum()"
   ]
  },
  {
   "cell_type": "code",
   "execution_count": 5,
   "metadata": {
    "ExecuteTime": {
     "end_time": "2017-08-02T19:15:06.587104Z",
     "start_time": "2017-08-02T19:15:06.578064Z"
    }
   },
   "outputs": [
    {
     "data": {
      "text/plain": [
       "Year\n",
       "2001    2.358643e+12\n",
       "2002    2.381871e+12\n",
       "2003    2.406899e+12\n",
       "2004    2.391828e+12\n",
       "2005    2.436053e+12\n",
       "2006    2.386896e+12\n",
       "2007    2.451643e+12\n",
       "2008    2.397060e+12\n",
       "2009    2.180317e+12\n",
       "2010    2.308060e+12\n",
       "2011    2.213991e+12\n",
       "2012    2.084190e+12\n",
       "2013    2.102480e+12\n",
       "2014    2.098176e+12\n",
       "2015    1.973093e+12\n",
       "2016    1.867880e+12\n",
       "2017    4.118497e+11\n",
       "Name: final CO2 (kg), dtype: float64"
      ]
     },
     "execution_count": 5,
     "metadata": {},
     "output_type": "execute_result"
    }
   ],
   "source": [
    "total_emiss"
   ]
  },
  {
   "cell_type": "code",
   "execution_count": 12,
   "metadata": {
    "ExecuteTime": {
     "end_time": "2017-08-02T19:16:08.169278Z",
     "start_time": "2017-08-02T19:16:08.111514Z"
    }
   },
   "outputs": [
    {
     "name": "stdout",
     "output_type": "stream",
     "text": [
      "In 2001, 11 states contributed half the total emissions\n",
      "In 2002, 11 states contributed half the total emissions\n",
      "In 2003, 11 states contributed half the total emissions\n",
      "In 2004, 11 states contributed half the total emissions\n",
      "In 2005, 11 states contributed half the total emissions\n",
      "In 2006, 11 states contributed half the total emissions\n",
      "In 2007, 11 states contributed half the total emissions\n",
      "In 2008, 11 states contributed half the total emissions\n",
      "In 2009, 11 states contributed half the total emissions\n",
      "In 2010, 11 states contributed half the total emissions\n",
      "In 2011, 10 states contributed half the total emissions\n",
      "In 2012, 11 states contributed half the total emissions\n",
      "In 2013, 11 states contributed half the total emissions\n",
      "In 2014, 11 states contributed half the total emissions\n",
      "In 2015, 11 states contributed half the total emissions\n",
      "In 2016, 11 states contributed half the total emissions\n"
     ]
    }
   ],
   "source": [
    "half_states = {}\n",
    "for year in range(2001, 2017):\n",
    "    temp = annual_gen_index.loc[annual_gen_index['Year'] == year].copy()\n",
    "    temp.sort_values(by='final CO2 (kg)', inplace=True)\n",
    "    \n",
    "    cumsum_emiss = temp['final CO2 (kg)'].cumsum()\n",
    "    \n",
    "    num_half = 50 - (cumsum_emiss <= total_emiss.loc[year]/2).sum()\n",
    "    half_states[year] = list(temp.loc[~(cumsum_emiss <= total_emiss.loc[year]/2), 'State'].values)\n",
    "    \n",
    "    print('In {}, {} states contributed half the total emissions'.format(year, num_half))"
   ]
  },
  {
   "cell_type": "code",
   "execution_count": 15,
   "metadata": {
    "ExecuteTime": {
     "end_time": "2017-08-02T19:16:49.154407Z",
     "start_time": "2017-08-02T19:16:49.149101Z"
    },
    "collapsed": true
   },
   "outputs": [],
   "source": [
    "half_states[2011].append(np.nan)"
   ]
  },
  {
   "cell_type": "code",
   "execution_count": 17,
   "metadata": {
    "ExecuteTime": {
     "end_time": "2017-08-02T19:17:02.795343Z",
     "start_time": "2017-08-02T19:17:02.739087Z"
    },
    "collapsed": true
   },
   "outputs": [],
   "source": [
    "pd.DataFrame(half_states).to_clipboard()"
   ]
  },
  {
   "cell_type": "code",
   "execution_count": 31,
   "metadata": {
    "ExecuteTime": {
     "end_time": "2017-07-27T13:21:18.668636",
     "start_time": "2017-07-27T13:21:18.662210"
    },
    "scrolled": false
   },
   "outputs": [
    {
     "data": {
      "text/plain": [
       "['TX', 'OH', 'AL', 'WV', 'PA', 'IL', 'GA', 'IN', 'KY', 'FL']"
      ]
     },
     "execution_count": 31,
     "metadata": {},
     "output_type": "execute_result"
    }
   ],
   "source": [
    "list(set(half_states[2001]).intersection(set(half_states[2016])).intersection(set(half_states)))"
   ]
  },
  {
   "cell_type": "code",
   "execution_count": 35,
   "metadata": {
    "ExecuteTime": {
     "end_time": "2017-07-27T15:05:23.721929",
     "start_time": "2017-07-27T15:05:23.709389"
    }
   },
   "outputs": [
    {
     "data": {
      "text/plain": [
       "[{'AL', 'FL', 'GA', 'IL', 'IN', 'KY', 'MO', 'OH', 'PA', 'TX', 'WV'},\n",
       " {'AL', 'FL', 'GA', 'IL', 'IN', 'KY', 'MI', 'OH', 'PA', 'TX', 'WV'},\n",
       " {'AL', 'FL', 'GA', 'IL', 'IN', 'KY', 'MI', 'OH', 'PA', 'TX', 'WV'},\n",
       " {'AL', 'FL', 'GA', 'IL', 'IN', 'KY', 'MI', 'OH', 'PA', 'TX', 'WV'},\n",
       " {'AL', 'FL', 'GA', 'IL', 'IN', 'KY', 'MI', 'OH', 'PA', 'TX', 'WV'},\n",
       " {'AL', 'FL', 'GA', 'IL', 'IN', 'KY', 'MI', 'OH', 'PA', 'TX', 'WV'},\n",
       " {'AL', 'FL', 'GA', 'IL', 'IN', 'KY', 'MO', 'OH', 'PA', 'TX', 'WV'},\n",
       " {'AL', 'FL', 'GA', 'IL', 'IN', 'KY', 'MI', 'OH', 'PA', 'TX', 'WV'},\n",
       " {'AL', 'FL', 'GA', 'IL', 'IN', 'KY', 'MI', 'OH', 'PA', 'TX', 'WV'},\n",
       " {'AL', 'FL', 'GA', 'IL', 'IN', 'KY', 'MI', 'MO', 'OH', 'PA', 'TX'},\n",
       " {'AL', 'FL', 'GA', 'IL', 'IN', 'KY', 'MO', 'OH', 'PA', 'TX', 'WV'},\n",
       " {'AL', 'FL', 'GA', 'IL', 'IN', 'KY', 'MO', 'OH', 'PA', 'TX'},\n",
       " {'AL', 'FL', 'IL', 'IN', 'KY', 'MI', 'MO', 'OH', 'PA', 'TX', 'WV'},\n",
       " {'AL', 'FL', 'IL', 'IN', 'KY', 'MI', 'MO', 'OH', 'PA', 'TX', 'WV'},\n",
       " {'AL', 'FL', 'IL', 'IN', 'KY', 'MI', 'MO', 'OH', 'PA', 'TX', 'WV'},\n",
       " {'AL', 'FL', 'IL', 'IN', 'KY', 'MI', 'MO', 'OH', 'PA', 'TX', 'WV'}]"
      ]
     },
     "execution_count": 35,
     "metadata": {},
     "output_type": "execute_result"
    }
   ],
   "source": [
    "list(set(x) for x in half_states.values())"
   ]
  },
  {
   "cell_type": "code",
   "execution_count": 37,
   "metadata": {
    "ExecuteTime": {
     "end_time": "2017-07-27T15:07:52.855954",
     "start_time": "2017-07-27T15:07:52.851366"
    },
    "collapsed": true
   },
   "outputs": [],
   "source": [
    "constant_states = set.intersection(*list(set(x) for x in half_states.values()))"
   ]
  },
  {
   "cell_type": "code",
   "execution_count": 42,
   "metadata": {
    "ExecuteTime": {
     "end_time": "2017-07-27T15:15:31.906549",
     "start_time": "2017-07-27T15:15:31.896695"
    }
   },
   "outputs": [
    {
     "data": {
      "text/plain": [
       "{'AL', 'FL', 'IL', 'IN', 'KY', 'OH', 'PA', 'TX'}"
      ]
     },
     "execution_count": 42,
     "metadata": {},
     "output_type": "execute_result"
    }
   ],
   "source": [
    "constant_states"
   ]
  },
  {
   "cell_type": "code",
   "execution_count": 41,
   "metadata": {
    "ExecuteTime": {
     "end_time": "2017-07-27T15:11:38.564707",
     "start_time": "2017-07-27T15:11:38.526951"
    }
   },
   "outputs": [
    {
     "name": "stdout",
     "output_type": "stream",
     "text": [
      "In 2001, they were 41.5% of emissions\n",
      "In 2002, they were 42.0% of emissions\n",
      "In 2003, they were 42.0% of emissions\n",
      "In 2004, they were 41.8% of emissions\n",
      "In 2005, they were 42.0% of emissions\n",
      "In 2006, they were 42.6% of emissions\n",
      "In 2007, they were 42.0% of emissions\n",
      "In 2008, they were 42.2% of emissions\n",
      "In 2009, they were 42.3% of emissions\n",
      "In 2010, they were 42.8% of emissions\n",
      "In 2011, they were 43.8% of emissions\n",
      "In 2012, they were 43.0% of emissions\n",
      "In 2013, they were 43.1% of emissions\n",
      "In 2014, they were 43.0% of emissions\n",
      "In 2015, they were 41.9% of emissions\n",
      "In 2016, they were 41.7% of emissions\n"
     ]
    }
   ],
   "source": [
    "for year in range(2001, 2017):\n",
    "    temp = annual_gen_index.loc[annual_gen_index['Year'] == year].copy()\n",
    "    percent_emissions = (temp.loc[temp['State'].isin(constant_states), 'final CO2 (kg)'].sum()\n",
    "                         / total_emiss.loc[year] * 100)\n",
    "    print 'In {}, they were {:.1f}% of emissions'.format(year, percent_emissions)"
   ]
  },
  {
   "cell_type": "code",
   "execution_count": 33,
   "metadata": {
    "ExecuteTime": {
     "end_time": "2017-07-27T13:22:48.748210",
     "start_time": "2017-07-27T13:22:48.738021"
    }
   },
   "outputs": [
    {
     "name": "stdout",
     "output_type": "stream",
     "text": [
      "153    GA\n",
      "357    MI\n",
      "816    WV\n",
      "17     AL\n",
      "272    KY\n",
      "221    IL\n",
      "629    PA\n",
      "578    OH\n",
      "238    IN\n",
      "136    FL\n",
      "714    TX\n",
      "Name: State, dtype: object\n",
      "32     AL\n",
      "168    GA\n",
      "406    MO\n",
      "831    WV\n",
      "236    IL\n",
      "287    KY\n",
      "593    OH\n",
      "644    PA\n",
      "253    IN\n",
      "151    FL\n",
      "729    TX\n",
      "Name: State, dtype: object\n"
     ]
    }
   ],
   "source": [
    "print half_states[2001]\n",
    "print half_states[2016]"
   ]
  },
  {
   "cell_type": "code",
   "execution_count": 12,
   "metadata": {
    "ExecuteTime": {
     "end_time": "2017-09-05T18:08:13.999499Z",
     "start_time": "2017-09-05T18:08:13.957541Z"
    }
   },
   "outputs": [
    {
     "data": {
      "text/html": [
       "<div>\n",
       "<style>\n",
       "    .dataframe thead tr:only-child th {\n",
       "        text-align: right;\n",
       "    }\n",
       "\n",
       "    .dataframe thead th {\n",
       "        text-align: left;\n",
       "    }\n",
       "\n",
       "    .dataframe tbody tr th {\n",
       "        vertical-align: top;\n",
       "    }\n",
       "</style>\n",
       "<table border=\"1\" class=\"dataframe\">\n",
       "  <thead>\n",
       "    <tr style=\"text-align: right;\">\n",
       "      <th></th>\n",
       "      <th>State</th>\n",
       "      <th>Year</th>\n",
       "      <th>Coal</th>\n",
       "      <th>Hydro</th>\n",
       "      <th>Natural Gas</th>\n",
       "      <th>Nuclear</th>\n",
       "      <th>Other</th>\n",
       "      <th>Other Renewables</th>\n",
       "      <th>Solar</th>\n",
       "      <th>Wind</th>\n",
       "      <th>...</th>\n",
       "      <th>final CO2 (kg)</th>\n",
       "      <th>Total gen</th>\n",
       "      <th>percent Coal</th>\n",
       "      <th>percent Natural Gas</th>\n",
       "      <th>percent Other Renewables</th>\n",
       "      <th>percent Nuclear</th>\n",
       "      <th>percent Other</th>\n",
       "      <th>percent Solar</th>\n",
       "      <th>percent Wind</th>\n",
       "      <th>percent Hydro</th>\n",
       "    </tr>\n",
       "  </thead>\n",
       "  <tbody>\n",
       "    <tr>\n",
       "      <th>0</th>\n",
       "      <td>AK</td>\n",
       "      <td>2001</td>\n",
       "      <td>564593.00</td>\n",
       "      <td>1345664.00</td>\n",
       "      <td>3895568.00</td>\n",
       "      <td>0.0</td>\n",
       "      <td>936990.00</td>\n",
       "      <td>0.00</td>\n",
       "      <td>0.0</td>\n",
       "      <td>951.00</td>\n",
       "      <td>...</td>\n",
       "      <td>4.192005e+09</td>\n",
       "      <td>6743766.00</td>\n",
       "      <td>0.083721</td>\n",
       "      <td>0.577655</td>\n",
       "      <td>0.000000</td>\n",
       "      <td>0.0</td>\n",
       "      <td>0.138942</td>\n",
       "      <td>0.0</td>\n",
       "      <td>0.000141</td>\n",
       "      <td>0.199542</td>\n",
       "    </tr>\n",
       "    <tr>\n",
       "      <th>1</th>\n",
       "      <td>AK</td>\n",
       "      <td>2002</td>\n",
       "      <td>575286.00</td>\n",
       "      <td>1439351.00</td>\n",
       "      <td>3778161.00</td>\n",
       "      <td>0.0</td>\n",
       "      <td>962369.00</td>\n",
       "      <td>12155.00</td>\n",
       "      <td>0.0</td>\n",
       "      <td>0.00</td>\n",
       "      <td>...</td>\n",
       "      <td>3.829370e+09</td>\n",
       "      <td>6767322.00</td>\n",
       "      <td>0.085009</td>\n",
       "      <td>0.558295</td>\n",
       "      <td>0.001796</td>\n",
       "      <td>0.0</td>\n",
       "      <td>0.142208</td>\n",
       "      <td>0.0</td>\n",
       "      <td>0.000000</td>\n",
       "      <td>0.212691</td>\n",
       "    </tr>\n",
       "    <tr>\n",
       "      <th>2</th>\n",
       "      <td>AK</td>\n",
       "      <td>2003</td>\n",
       "      <td>549665.00</td>\n",
       "      <td>1582537.00</td>\n",
       "      <td>3354483.00</td>\n",
       "      <td>0.0</td>\n",
       "      <td>846273.00</td>\n",
       "      <td>5780.00</td>\n",
       "      <td>0.0</td>\n",
       "      <td>0.00</td>\n",
       "      <td>...</td>\n",
       "      <td>3.474672e+09</td>\n",
       "      <td>6338738.00</td>\n",
       "      <td>0.086715</td>\n",
       "      <td>0.529204</td>\n",
       "      <td>0.000912</td>\n",
       "      <td>0.0</td>\n",
       "      <td>0.133508</td>\n",
       "      <td>0.0</td>\n",
       "      <td>0.000000</td>\n",
       "      <td>0.249661</td>\n",
       "    </tr>\n",
       "    <tr>\n",
       "      <th>3</th>\n",
       "      <td>AK</td>\n",
       "      <td>2004</td>\n",
       "      <td>648979.71</td>\n",
       "      <td>1498020.01</td>\n",
       "      <td>3623432.59</td>\n",
       "      <td>0.0</td>\n",
       "      <td>747068.06</td>\n",
       "      <td>9216.55</td>\n",
       "      <td>0.0</td>\n",
       "      <td>0.00</td>\n",
       "      <td>...</td>\n",
       "      <td>3.492072e+09</td>\n",
       "      <td>6526716.92</td>\n",
       "      <td>0.099434</td>\n",
       "      <td>0.555169</td>\n",
       "      <td>0.001412</td>\n",
       "      <td>0.0</td>\n",
       "      <td>0.114463</td>\n",
       "      <td>0.0</td>\n",
       "      <td>0.000000</td>\n",
       "      <td>0.229521</td>\n",
       "    </tr>\n",
       "    <tr>\n",
       "      <th>4</th>\n",
       "      <td>AK</td>\n",
       "      <td>2005</td>\n",
       "      <td>624317.77</td>\n",
       "      <td>1463942.01</td>\n",
       "      <td>3723625.63</td>\n",
       "      <td>0.0</td>\n",
       "      <td>758928.54</td>\n",
       "      <td>5255.58</td>\n",
       "      <td>0.0</td>\n",
       "      <td>589.01</td>\n",
       "      <td>...</td>\n",
       "      <td>3.531411e+09</td>\n",
       "      <td>6576658.54</td>\n",
       "      <td>0.094929</td>\n",
       "      <td>0.566188</td>\n",
       "      <td>0.000799</td>\n",
       "      <td>0.0</td>\n",
       "      <td>0.115397</td>\n",
       "      <td>0.0</td>\n",
       "      <td>0.000090</td>\n",
       "      <td>0.222597</td>\n",
       "    </tr>\n",
       "  </tbody>\n",
       "</table>\n",
       "<p>5 rows × 21 columns</p>\n",
       "</div>"
      ],
      "text/plain": [
       "  State  Year       Coal       Hydro  Natural Gas  Nuclear      Other  \\\n",
       "0    AK  2001  564593.00  1345664.00   3895568.00      0.0  936990.00   \n",
       "1    AK  2002  575286.00  1439351.00   3778161.00      0.0  962369.00   \n",
       "2    AK  2003  549665.00  1582537.00   3354483.00      0.0  846273.00   \n",
       "3    AK  2004  648979.71  1498020.01   3623432.59      0.0  747068.06   \n",
       "4    AK  2005  624317.77  1463942.01   3723625.63      0.0  758928.54   \n",
       "\n",
       "   Other Renewables  Solar    Wind      ...        final CO2 (kg)   Total gen  \\\n",
       "0              0.00    0.0  951.00      ...          4.192005e+09  6743766.00   \n",
       "1          12155.00    0.0    0.00      ...          3.829370e+09  6767322.00   \n",
       "2           5780.00    0.0    0.00      ...          3.474672e+09  6338738.00   \n",
       "3           9216.55    0.0    0.00      ...          3.492072e+09  6526716.92   \n",
       "4           5255.58    0.0  589.01      ...          3.531411e+09  6576658.54   \n",
       "\n",
       "   percent Coal  percent Natural Gas  percent Other Renewables  \\\n",
       "0      0.083721             0.577655                  0.000000   \n",
       "1      0.085009             0.558295                  0.001796   \n",
       "2      0.086715             0.529204                  0.000912   \n",
       "3      0.099434             0.555169                  0.001412   \n",
       "4      0.094929             0.566188                  0.000799   \n",
       "\n",
       "   percent Nuclear  percent Other  percent Solar  percent Wind  percent Hydro  \n",
       "0              0.0       0.138942            0.0      0.000141       0.199542  \n",
       "1              0.0       0.142208            0.0      0.000000       0.212691  \n",
       "2              0.0       0.133508            0.0      0.000000       0.249661  \n",
       "3              0.0       0.114463            0.0      0.000000       0.229521  \n",
       "4              0.0       0.115397            0.0      0.000090       0.222597  \n",
       "\n",
       "[5 rows x 21 columns]"
      ]
     },
     "execution_count": 12,
     "metadata": {},
     "output_type": "execute_result"
    }
   ],
   "source": [
    "annual_gen_index.head()"
   ]
  },
  {
   "cell_type": "code",
   "execution_count": 11,
   "metadata": {
    "ExecuteTime": {
     "end_time": "2017-07-27T13:08:02.353145",
     "start_time": "2017-07-27T13:08:02.323940"
    }
   },
   "outputs": [
    {
     "data": {
      "text/html": [
       "<div>\n",
       "<table border=\"1\" class=\"dataframe\">\n",
       "  <thead>\n",
       "    <tr style=\"text-align: right;\">\n",
       "      <th></th>\n",
       "      <th>State</th>\n",
       "      <th>Year</th>\n",
       "      <th>Coal</th>\n",
       "      <th>Hydro</th>\n",
       "      <th>Natural Gas</th>\n",
       "      <th>Nuclear</th>\n",
       "      <th>Other</th>\n",
       "      <th>Other Renewables</th>\n",
       "      <th>Solar</th>\n",
       "      <th>Wind</th>\n",
       "      <th>index (g/kWh)</th>\n",
       "      <th>final CO2 (kg)</th>\n",
       "    </tr>\n",
       "  </thead>\n",
       "  <tbody>\n",
       "    <tr>\n",
       "      <th>0</th>\n",
       "      <td>AK</td>\n",
       "      <td>2001</td>\n",
       "      <td>564593.00</td>\n",
       "      <td>1345664.00</td>\n",
       "      <td>3895568.00</td>\n",
       "      <td>0.0</td>\n",
       "      <td>936990.00</td>\n",
       "      <td>0.00</td>\n",
       "      <td>0.0</td>\n",
       "      <td>951.00</td>\n",
       "      <td>621.611811</td>\n",
       "      <td>4.192005e+09</td>\n",
       "    </tr>\n",
       "    <tr>\n",
       "      <th>1</th>\n",
       "      <td>AK</td>\n",
       "      <td>2002</td>\n",
       "      <td>575286.00</td>\n",
       "      <td>1439351.00</td>\n",
       "      <td>3778161.00</td>\n",
       "      <td>0.0</td>\n",
       "      <td>962369.00</td>\n",
       "      <td>12155.00</td>\n",
       "      <td>0.0</td>\n",
       "      <td>0.00</td>\n",
       "      <td>565.861881</td>\n",
       "      <td>3.829370e+09</td>\n",
       "    </tr>\n",
       "    <tr>\n",
       "      <th>2</th>\n",
       "      <td>AK</td>\n",
       "      <td>2003</td>\n",
       "      <td>549665.00</td>\n",
       "      <td>1582537.00</td>\n",
       "      <td>3354483.00</td>\n",
       "      <td>0.0</td>\n",
       "      <td>846273.00</td>\n",
       "      <td>5780.00</td>\n",
       "      <td>0.0</td>\n",
       "      <td>0.00</td>\n",
       "      <td>548.164631</td>\n",
       "      <td>3.474672e+09</td>\n",
       "    </tr>\n",
       "    <tr>\n",
       "      <th>3</th>\n",
       "      <td>AK</td>\n",
       "      <td>2004</td>\n",
       "      <td>648979.71</td>\n",
       "      <td>1498020.01</td>\n",
       "      <td>3623432.59</td>\n",
       "      <td>0.0</td>\n",
       "      <td>747068.06</td>\n",
       "      <td>9216.55</td>\n",
       "      <td>0.0</td>\n",
       "      <td>0.00</td>\n",
       "      <td>535.042680</td>\n",
       "      <td>3.492072e+09</td>\n",
       "    </tr>\n",
       "    <tr>\n",
       "      <th>4</th>\n",
       "      <td>AK</td>\n",
       "      <td>2005</td>\n",
       "      <td>624317.77</td>\n",
       "      <td>1463942.01</td>\n",
       "      <td>3723625.63</td>\n",
       "      <td>0.0</td>\n",
       "      <td>758928.54</td>\n",
       "      <td>5255.58</td>\n",
       "      <td>0.0</td>\n",
       "      <td>589.01</td>\n",
       "      <td>536.961208</td>\n",
       "      <td>3.531411e+09</td>\n",
       "    </tr>\n",
       "  </tbody>\n",
       "</table>\n",
       "</div>"
      ],
      "text/plain": [
       "  State  Year       Coal       Hydro  Natural Gas  Nuclear      Other  \\\n",
       "0    AK  2001  564593.00  1345664.00   3895568.00      0.0  936990.00   \n",
       "1    AK  2002  575286.00  1439351.00   3778161.00      0.0  962369.00   \n",
       "2    AK  2003  549665.00  1582537.00   3354483.00      0.0  846273.00   \n",
       "3    AK  2004  648979.71  1498020.01   3623432.59      0.0  747068.06   \n",
       "4    AK  2005  624317.77  1463942.01   3723625.63      0.0  758928.54   \n",
       "\n",
       "   Other Renewables  Solar    Wind  index (g/kWh)  final CO2 (kg)  \n",
       "0              0.00    0.0  951.00     621.611811    4.192005e+09  \n",
       "1          12155.00    0.0    0.00     565.861881    3.829370e+09  \n",
       "2           5780.00    0.0    0.00     548.164631    3.474672e+09  \n",
       "3           9216.55    0.0    0.00     535.042680    3.492072e+09  \n",
       "4           5255.58    0.0  589.01     536.961208    3.531411e+09  "
      ]
     },
     "execution_count": 11,
     "metadata": {},
     "output_type": "execute_result"
    }
   ],
   "source": [
    "annual_gen_index.head()"
   ]
  },
  {
   "cell_type": "markdown",
   "metadata": {},
   "source": [
    "## Do RPS states decrease CO<sub>2</sub> intensity more?"
   ]
  },
  {
   "cell_type": "code",
   "execution_count": 75,
   "metadata": {
    "ExecuteTime": {
     "end_time": "2017-10-20T18:44:55.278414Z",
     "start_time": "2017-10-20T18:44:55.243280Z"
    },
    "collapsed": true
   },
   "outputs": [],
   "source": [
    "state_list = annual_gen_index['State'].unique()\n",
    "yes_rps = {}\n",
    "no_rps = {}\n",
    "for year in range(2001, 2017):\n",
    "    yes_rps[year] = []\n",
    "    no_rps[year] = []\n",
    "    for state in state_list:\n",
    "        if state in rps_start:\n",
    "            if rps_start[state] <= year:\n",
    "                yes_rps[year].append(state)\n",
    "            else:\n",
    "                no_rps[year].append(state)\n",
    "        else:\n",
    "            no_rps[year].append(state)"
   ]
  },
  {
   "cell_type": "markdown",
   "metadata": {},
   "source": [
    "Maybe change this so that it returns all individual state results rather than the average?"
   ]
  },
  {
   "cell_type": "code",
   "execution_count": 76,
   "metadata": {
    "ExecuteTime": {
     "end_time": "2017-10-20T18:44:56.337933Z",
     "start_time": "2017-10-20T18:44:56.298186Z"
    },
    "collapsed": true
   },
   "outputs": [],
   "source": [
    "def index_change(year, states, df, RPS_status):\n",
    "    prev_year = year - 1\n",
    "    current = df.loc[(df['Year'] == year) &\n",
    "                         (df['State'].isin(states)), ['State', 'index (g/kWh)']]\n",
    "    current.index = current['State']\n",
    "    prev = df.loc[(df['Year'] == prev_year) &\n",
    "                         (df['State'].isin(states)), ['State', 'index (g/kWh)']]\n",
    "    prev.index = prev['State']\n",
    "    \n",
    "    difference = pd.DataFrame()\n",
    "    difference['Index'] = current['index (g/kWh)']\n",
    "    difference['Index change'] = current['index (g/kWh)'] - prev['index (g/kWh)']\n",
    "    difference['Relative change'] = (difference['Index change']\n",
    "                                     / prev['index (g/kWh)'])\n",
    "    difference['Year'] = year\n",
    "    difference['RPS'] = RPS_status\n",
    "    return difference"
   ]
  },
  {
   "cell_type": "markdown",
   "metadata": {},
   "source": [
    "Look at all years from 2002-2016"
   ]
  },
  {
   "cell_type": "code",
   "execution_count": 77,
   "metadata": {
    "ExecuteTime": {
     "end_time": "2017-10-20T18:45:15.317260Z",
     "start_time": "2017-10-20T18:45:15.017676Z"
    },
    "collapsed": true
   },
   "outputs": [],
   "source": [
    "rps_effect_tidy = pd.concat([index_change(year, yes_rps[year], \n",
    "                                          annual_gen_index, 'Yes') \n",
    "                               for year in range(2002, 2017)]\n",
    "                             + [index_change(year, no_rps[year], \n",
    "                                             annual_gen_index, 'No') \n",
    "                               for year in range(2002, 2017)])"
   ]
  },
  {
   "cell_type": "code",
   "execution_count": 78,
   "metadata": {
    "ExecuteTime": {
     "end_time": "2017-10-20T18:45:16.314325Z",
     "start_time": "2017-10-20T18:45:16.282879Z"
    }
   },
   "outputs": [
    {
     "data": {
      "text/html": [
       "<div>\n",
       "<style>\n",
       "    .dataframe thead tr:only-child th {\n",
       "        text-align: right;\n",
       "    }\n",
       "\n",
       "    .dataframe thead th {\n",
       "        text-align: left;\n",
       "    }\n",
       "\n",
       "    .dataframe tbody tr th {\n",
       "        vertical-align: top;\n",
       "    }\n",
       "</style>\n",
       "<table border=\"1\" class=\"dataframe\">\n",
       "  <thead>\n",
       "    <tr style=\"text-align: right;\">\n",
       "      <th></th>\n",
       "      <th>Index</th>\n",
       "      <th>Index change</th>\n",
       "      <th>Relative change</th>\n",
       "      <th>Year</th>\n",
       "    </tr>\n",
       "  </thead>\n",
       "  <tbody>\n",
       "    <tr>\n",
       "      <th>count</th>\n",
       "      <td>750.000000</td>\n",
       "      <td>750.000000</td>\n",
       "      <td>750.000000</td>\n",
       "      <td>750.000000</td>\n",
       "    </tr>\n",
       "    <tr>\n",
       "      <th>mean</th>\n",
       "      <td>551.693373</td>\n",
       "      <td>-11.758629</td>\n",
       "      <td>-0.018227</td>\n",
       "      <td>2009.000000</td>\n",
       "    </tr>\n",
       "    <tr>\n",
       "      <th>std</th>\n",
       "      <td>245.308134</td>\n",
       "      <td>29.352694</td>\n",
       "      <td>0.130012</td>\n",
       "      <td>4.323377</td>\n",
       "    </tr>\n",
       "    <tr>\n",
       "      <th>min</th>\n",
       "      <td>0.577423</td>\n",
       "      <td>-155.627081</td>\n",
       "      <td>-0.751546</td>\n",
       "      <td>2002.000000</td>\n",
       "    </tr>\n",
       "    <tr>\n",
       "      <th>25%</th>\n",
       "      <td>409.251062</td>\n",
       "      <td>-27.495381</td>\n",
       "      <td>-0.051721</td>\n",
       "      <td>2005.000000</td>\n",
       "    </tr>\n",
       "    <tr>\n",
       "      <th>50%</th>\n",
       "      <td>549.440959</td>\n",
       "      <td>-8.794782</td>\n",
       "      <td>-0.015921</td>\n",
       "      <td>2009.000000</td>\n",
       "    </tr>\n",
       "    <tr>\n",
       "      <th>75%</th>\n",
       "      <td>732.115738</td>\n",
       "      <td>3.520404</td>\n",
       "      <td>0.007914</td>\n",
       "      <td>2013.000000</td>\n",
       "    </tr>\n",
       "    <tr>\n",
       "      <th>max</th>\n",
       "      <td>1090.852721</td>\n",
       "      <td>94.926269</td>\n",
       "      <td>1.846013</td>\n",
       "      <td>2016.000000</td>\n",
       "    </tr>\n",
       "  </tbody>\n",
       "</table>\n",
       "</div>"
      ],
      "text/plain": [
       "             Index  Index change  Relative change         Year\n",
       "count   750.000000    750.000000       750.000000   750.000000\n",
       "mean    551.693373    -11.758629        -0.018227  2009.000000\n",
       "std     245.308134     29.352694         0.130012     4.323377\n",
       "min       0.577423   -155.627081        -0.751546  2002.000000\n",
       "25%     409.251062    -27.495381        -0.051721  2005.000000\n",
       "50%     549.440959     -8.794782        -0.015921  2009.000000\n",
       "75%     732.115738      3.520404         0.007914  2013.000000\n",
       "max    1090.852721     94.926269         1.846013  2016.000000"
      ]
     },
     "execution_count": 78,
     "metadata": {},
     "output_type": "execute_result"
    }
   ],
   "source": [
    "rps_effect_tidy.describe()"
   ]
  },
  {
   "cell_type": "code",
   "execution_count": 79,
   "metadata": {
    "ExecuteTime": {
     "end_time": "2017-10-20T18:47:36.093646Z",
     "start_time": "2017-10-20T18:47:35.167914Z"
    },
    "scrolled": false
   },
   "outputs": [
    {
     "data": {
      "image/png": "[encoded data removed]",
      "text/plain": [
       "<matplotlib.figure.Figure at 0x11109f6a0>"
      ]
     },
     "metadata": {},
     "output_type": "display_data"
    }
   ],
   "source": [
    "with sns.plotting_context('talk'):\n",
    "    sns.boxplot(x='RPS', y='Index change', data=rps_effect_tidy)\n",
    "    sns.stripplot(x='RPS', y='Index change', data=rps_effect_tidy, \n",
    "                  color='0.25', size=2.5, jitter=True)\n",
    "    sns.despine()\n",
    "    plt.ylabel('Intensity Change (g CO$_2$/kWh)')\n",
    "plt.savefig(join('Figures', 'SI',\n",
    "                 'Index change RPS boxplot.pdf'), bbox_inches='tight')"
   ]
  },
  {
   "cell_type": "markdown",
   "metadata": {},
   "source": [
    "### Test statistical significance across all years"
   ]
  },
  {
   "cell_type": "code",
   "execution_count": 80,
   "metadata": {
    "ExecuteTime": {
     "end_time": "2017-10-20T18:50:45.194259Z",
     "start_time": "2017-10-20T18:50:45.190949Z"
    },
    "collapsed": true
   },
   "outputs": [],
   "source": [
    "from scipy import stats"
   ]
  },
  {
   "cell_type": "code",
   "execution_count": 81,
   "metadata": {
    "ExecuteTime": {
     "end_time": "2017-10-20T18:51:57.508059Z",
     "start_time": "2017-10-20T18:51:57.497411Z"
    }
   },
   "outputs": [
    {
     "data": {
      "text/plain": [
       "Ks_2sampResult(statistic=0.1058565955117679, pvalue=0.030826207872907675)"
      ]
     },
     "execution_count": 81,
     "metadata": {},
     "output_type": "execute_result"
    }
   ],
   "source": [
    "yes = rps_effect_tidy.loc[rps_effect_tidy['RPS'] == 'Yes', 'Index change']\n",
    "no = rps_effect_tidy.loc[rps_effect_tidy['RPS'] == 'No', 'Index change']\n",
    "\n",
    "stats.ks_2samp(yes, no)"
   ]
  },
  {
   "cell_type": "code",
   "execution_count": 82,
   "metadata": {
    "ExecuteTime": {
     "end_time": "2017-10-20T18:52:42.753546Z",
     "start_time": "2017-10-20T18:52:42.748071Z"
    }
   },
   "outputs": [
    {
     "data": {
      "text/plain": [
       "(-14.482245327607938, -9.7863544622263543)"
      ]
     },
     "execution_count": 82,
     "metadata": {},
     "output_type": "execute_result"
    }
   ],
   "source": [
    "yes.mean(), no.mean()"
   ]
  },
  {
   "cell_type": "code",
   "execution_count": 50,
   "metadata": {
    "ExecuteTime": {
     "end_time": "2017-09-18T18:24:46.581454Z",
     "start_time": "2017-09-18T18:24:46.293979Z"
    },
    "scrolled": true
   },
   "outputs": [
    {
     "data": {
      "text/plain": [
       "<matplotlib.axes._subplots.AxesSubplot at 0x11530ee48>"
      ]
     },
     "execution_count": 50,
     "metadata": {},
     "output_type": "execute_result"
    },
    {
     "data": {
      "text/plain": [
       "<matplotlib.axes._subplots.AxesSubplot at 0x11530ee48>"
      ]
     },
     "execution_count": 50,
     "metadata": {},
     "output_type": "execute_result"
    },
    {
     "data": {
      "image/png": "[encoded data removed]",
      "text/plain": [
       "<matplotlib.figure.Figure at 0x113687e48>"
      ]
     },
     "metadata": {},
     "output_type": "display_data"
    }
   ],
   "source": [
    "sns.boxplot(x='RPS', y='Index change', data=rps_effect_tidy, )\n",
    "sns.stripplot(x='RPS', y='Index change', data=rps_effect_tidy, \n",
    "              jitter=True, size=2.5, color='0.25')\n",
    "sns.despine()"
   ]
  },
  {
   "cell_type": "code",
   "execution_count": 130,
   "metadata": {
    "ExecuteTime": {
     "end_time": "2017-09-18T22:12:42.451088Z",
     "start_time": "2017-09-18T22:12:41.999526Z"
    },
    "scrolled": false
   },
   "outputs": [
    {
     "data": {
      "text/plain": [
       "<matplotlib.axes._subplots.AxesSubplot at 0x128d7ab38>"
      ]
     },
     "execution_count": 130,
     "metadata": {},
     "output_type": "execute_result"
    },
    {
     "data": {
      "text/plain": [
       "<matplotlib.axes._subplots.AxesSubplot at 0x128d7ab38>"
      ]
     },
     "execution_count": 130,
     "metadata": {},
     "output_type": "execute_result"
    },
    {
     "data": {
      "text/plain": [
       "(-0.4, 0.3)"
      ]
     },
     "execution_count": 130,
     "metadata": {},
     "output_type": "execute_result"
    },
    {
     "data": {
      "text/plain": [
       "([<matplotlib.axis.YTick at 0x12917f400>,\n",
       "  <matplotlib.axis.YTick at 0x129167dd8>,\n",
       "  <matplotlib.axis.YTick at 0x12918b898>,\n",
       "  <matplotlib.axis.YTick at 0x1291ee4e0>,\n",
       "  <matplotlib.axis.YTick at 0x1291ec278>,\n",
       "  <matplotlib.axis.YTick at 0x1291eccf8>,\n",
       "  <matplotlib.axis.YTick at 0x1291f67b8>,\n",
       "  <matplotlib.axis.YTick at 0x1291fb278>],\n",
       " <a list of 8 Text yticklabel objects>)"
      ]
     },
     "execution_count": 130,
     "metadata": {},
     "output_type": "execute_result"
    },
    {
     "data": {
      "image/png": "[encoded data removed]",
      "text/plain": [
       "<matplotlib.figure.Figure at 0x128d65c18>"
      ]
     },
     "metadata": {},
     "output_type": "display_data"
    }
   ],
   "source": [
    "with sns.plotting_context('talk'):\n",
    "    fig, ax = plt.subplots()\n",
    "    sns.boxplot(x='RPS', y='Relative change', data=rps_effect_tidy)\n",
    "    sns.stripplot(x='RPS', y='Relative change', data=rps_effect_tidy, \n",
    "                  color='0.25', size=2.5, jitter=True)\n",
    "    sns.despine()\n",
    "    plt.ylim(-0.4, 0.3)\n",
    "    loc, _ = plt.yticks()\n",
    "    new_labels = ['{:.0%}'.format(y) for y in ax.get_yticks()]\n",
    "    plt.yticks(loc, new_labels)\n",
    "# plt.savefig(join('Figures', 'Relative change RPS boxplot.pdf'),\n",
    "#             bbox_inches='tight')"
   ]
  },
  {
   "cell_type": "markdown",
   "metadata": {},
   "source": [
    "### Repeat, but only looking at 2008-present"
   ]
  },
  {
   "cell_type": "code",
   "execution_count": 83,
   "metadata": {
    "ExecuteTime": {
     "end_time": "2017-10-20T18:54:02.324110Z",
     "start_time": "2017-10-20T18:54:02.165630Z"
    },
    "collapsed": true
   },
   "outputs": [],
   "source": [
    "rps_effect_tidy = pd.concat([index_change(year, yes_rps[year], \n",
    "                                          annual_gen_index, 'Yes') \n",
    "                               for year in range(2008, 2017)]\n",
    "                             + [index_change(year, no_rps[year], \n",
    "                                             annual_gen_index, 'No') \n",
    "                               for year in range(2008, 2017)])"
   ]
  },
  {
   "cell_type": "code",
   "execution_count": 86,
   "metadata": {
    "ExecuteTime": {
     "end_time": "2017-10-20T18:59:11.493139Z",
     "start_time": "2017-10-20T18:59:10.520347Z"
    },
    "scrolled": false
   },
   "outputs": [
    {
     "data": {
      "image/png": "[encoded data removed]",
      "text/plain": [
       "<matplotlib.figure.Figure at 0x112671c18>"
      ]
     },
     "metadata": {},
     "output_type": "display_data"
    }
   ],
   "source": [
    "with sns.plotting_context('talk'):\n",
    "    sns.boxplot(x='RPS', y='Index change', data=rps_effect_tidy)\n",
    "    sns.stripplot(x='RPS', y='Index change', data=rps_effect_tidy, \n",
    "                  color='0.25', size=2.5, jitter=True)\n",
    "    sns.despine()\n",
    "    plt.ylabel('Intensity Change (g CO$_2$/kWh)')\n",
    "plt.savefig(join('Figures', 'SI',\n",
    "                 'Index change RPS boxplot.pdf'), bbox_inches='tight')"
   ]
  },
  {
   "cell_type": "markdown",
   "metadata": {},
   "source": [
    "### Test statistical significance across 2008-2016"
   ]
  },
  {
   "cell_type": "code",
   "execution_count": 84,
   "metadata": {
    "ExecuteTime": {
     "end_time": "2017-10-20T18:54:05.942836Z",
     "start_time": "2017-10-20T18:54:05.933982Z"
    }
   },
   "outputs": [
    {
     "data": {
      "text/plain": [
       "Ks_2sampResult(statistic=0.10139172903968713, pvalue=0.188974179298525)"
      ]
     },
     "execution_count": 84,
     "metadata": {},
     "output_type": "execute_result"
    }
   ],
   "source": [
    "yes = rps_effect_tidy.loc[rps_effect_tidy['RPS'] == 'Yes', 'Index change']\n",
    "no = rps_effect_tidy.loc[rps_effect_tidy['RPS'] == 'No', 'Index change']\n",
    "\n",
    "stats.ks_2samp(yes, no)"
   ]
  },
  {
   "cell_type": "code",
   "execution_count": 88,
   "metadata": {
    "ExecuteTime": {
     "end_time": "2017-10-20T19:02:46.963890Z",
     "start_time": "2017-10-20T19:02:46.954965Z"
    }
   },
   "outputs": [
    {
     "data": {
      "text/plain": [
       "(-15.827912590313282, -12.29041740656103)"
      ]
     },
     "execution_count": 88,
     "metadata": {},
     "output_type": "execute_result"
    }
   ],
   "source": [
    "yes.mean(), no.mean()"
   ]
  },
  {
   "cell_type": "code",
   "execution_count": 91,
   "metadata": {
    "ExecuteTime": {
     "end_time": "2017-10-20T19:03:12.040351Z",
     "start_time": "2017-10-20T19:03:12.032858Z"
    }
   },
   "outputs": [
    {
     "data": {
      "text/plain": [
       "-14.184942604970569"
      ]
     },
     "execution_count": 91,
     "metadata": {},
     "output_type": "execute_result"
    }
   ],
   "source": [
    "(pd.concat([yes, no])).mean()"
   ]
  },
  {
   "cell_type": "markdown",
   "metadata": {},
   "source": [
    "Plotting the relative change from previous year. Manually shrinking the y-limits because there are some very large(small) values from states with small absolute CO₂ intensity"
   ]
  },
  {
   "cell_type": "code",
   "execution_count": 126,
   "metadata": {
    "ExecuteTime": {
     "end_time": "2017-09-18T22:10:10.303780Z",
     "start_time": "2017-09-18T22:10:09.563951Z"
    },
    "scrolled": false
   },
   "outputs": [
    {
     "data": {
      "text/plain": [
       "<matplotlib.axes._subplots.AxesSubplot at 0x117882320>"
      ]
     },
     "execution_count": 126,
     "metadata": {},
     "output_type": "execute_result"
    },
    {
     "data": {
      "text/plain": [
       "<matplotlib.axes._subplots.AxesSubplot at 0x117882320>"
      ]
     },
     "execution_count": 126,
     "metadata": {},
     "output_type": "execute_result"
    },
    {
     "data": {
      "text/plain": [
       "(-0.4, 0.3)"
      ]
     },
     "execution_count": 126,
     "metadata": {},
     "output_type": "execute_result"
    },
    {
     "data": {
      "text/plain": [
       "([<matplotlib.axis.YTick at 0x118394320>,\n",
       "  <matplotlib.axis.YTick at 0x126f2a710>,\n",
       "  <matplotlib.axis.YTick at 0x1183afc50>,\n",
       "  <matplotlib.axis.YTick at 0x1179d06a0>,\n",
       "  <matplotlib.axis.YTick at 0x1179c14a8>,\n",
       "  <matplotlib.axis.YTick at 0x1179c1e10>,\n",
       "  <matplotlib.axis.YTick at 0x1179c3780>,\n",
       "  <matplotlib.axis.YTick at 0x1179eb240>],\n",
       " <a list of 8 Text yticklabel objects>)"
      ]
     },
     "execution_count": 126,
     "metadata": {},
     "output_type": "execute_result"
    },
    {
     "data": {
      "image/png": "[encoded data removed]",
      "text/plain": [
       "<matplotlib.figure.Figure at 0x11784ecc0>"
      ]
     },
     "metadata": {},
     "output_type": "display_data"
    }
   ],
   "source": [
    "with sns.plotting_context('talk'):\n",
    "    fig, ax = plt.subplots()\n",
    "    sns.boxplot(x='RPS', y='Relative change', data=rps_effect_tidy)\n",
    "    sns.stripplot(x='RPS', y='Relative change', data=rps_effect_tidy, \n",
    "                  color='0.25', size=2.5, jitter=True)\n",
    "    sns.despine()\n",
    "    plt.ylim(-0.4, 0.3)\n",
    "    loc, _ = plt.yticks()\n",
    "    new_labels = ['{:.0%}'.format(y) for y in ax.get_yticks()]\n",
    "    plt.yticks(loc, new_labels)\n",
    "plt.savefig(join('Figures', 'Relative change RPS boxplot.pdf'),\n",
    "            bbox_inches='tight')"
   ]
  },
  {
   "cell_type": "markdown",
   "metadata": {},
   "source": [
    "### Repeat, but only looking at 2001-2010"
   ]
  },
  {
   "cell_type": "code",
   "execution_count": 96,
   "metadata": {
    "ExecuteTime": {
     "end_time": "2017-10-20T19:14:55.360820Z",
     "start_time": "2017-10-20T19:14:55.168746Z"
    },
    "collapsed": true
   },
   "outputs": [],
   "source": [
    "rps_effect_tidy = pd.concat([index_change(year, yes_rps[year], \n",
    "                                          annual_gen_index, 'Yes') \n",
    "                               for year in range(2001, 2011)]\n",
    "                             + [index_change(year, no_rps[year], \n",
    "                                             annual_gen_index, 'No') \n",
    "                               for year in range(2001, 2011)])"
   ]
  },
  {
   "cell_type": "code",
   "execution_count": 97,
   "metadata": {
    "ExecuteTime": {
     "end_time": "2017-10-20T19:14:57.374964Z",
     "start_time": "2017-10-20T19:14:56.994576Z"
    },
    "scrolled": false
   },
   "outputs": [
    {
     "data": {
      "image/png": "[encoded data removed]",
      "text/plain": [
       "<matplotlib.figure.Figure at 0x117365cf8>"
      ]
     },
     "metadata": {},
     "output_type": "display_data"
    }
   ],
   "source": [
    "with sns.plotting_context('talk'):\n",
    "    sns.boxplot(x='RPS', y='Index change', data=rps_effect_tidy)\n",
    "    sns.stripplot(x='RPS', y='Index change', data=rps_effect_tidy, \n",
    "                  color='0.25', size=2.5, jitter=True)\n",
    "    sns.despine()\n",
    "    plt.ylabel('Intensity Change (g CO$_2$/kWh)')\n",
    "# plt.savefig(join('Figures', 'SI',\n",
    "#                  'Index change RPS boxplot.pdf'), bbox_inches='tight')"
   ]
  },
  {
   "cell_type": "markdown",
   "metadata": {},
   "source": [
    "### Test statistical significance across 2001-2010"
   ]
  },
  {
   "cell_type": "code",
   "execution_count": 98,
   "metadata": {
    "ExecuteTime": {
     "end_time": "2017-10-20T19:14:59.868532Z",
     "start_time": "2017-10-20T19:14:59.855838Z"
    }
   },
   "outputs": [
    {
     "data": {
      "text/plain": [
       "Ks_2sampResult(statistic=0.1396652334152334, pvalue=0.030915535649884186)"
      ]
     },
     "execution_count": 98,
     "metadata": {},
     "output_type": "execute_result"
    }
   ],
   "source": [
    "yes = rps_effect_tidy.loc[rps_effect_tidy['RPS'] == 'Yes', 'Index change']\n",
    "no = rps_effect_tidy.loc[rps_effect_tidy['RPS'] == 'No', 'Index change']\n",
    "\n",
    "stats.ks_2samp(yes, no)"
   ]
  },
  {
   "cell_type": "code",
   "execution_count": 95,
   "metadata": {
    "ExecuteTime": {
     "end_time": "2017-10-20T19:08:06.769801Z",
     "start_time": "2017-10-20T19:08:06.764111Z"
    }
   },
   "outputs": [
    {
     "data": {
      "text/plain": [
       "(-10.099734377445952, -7.4706502349434061)"
      ]
     },
     "execution_count": 95,
     "metadata": {},
     "output_type": "execute_result"
    }
   ],
   "source": [
    "yes.mean(), no.mean()"
   ]
  },
  {
   "cell_type": "markdown",
   "metadata": {},
   "source": [
    "## Gross state product data"
   ]
  },
  {
   "cell_type": "code",
   "execution_count": 9,
   "metadata": {
    "ExecuteTime": {
     "end_time": "2017-10-20T16:51:00.783555Z",
     "start_time": "2017-10-20T16:51:00.749586Z"
    },
    "collapsed": true
   },
   "outputs": [],
   "source": [
    "us_state_abbrev = {\n",
    "    'United States': 'US',\n",
    "    'Alabama': 'AL',\n",
    "    'Alaska': 'AK',\n",
    "    'Arizona': 'AZ',\n",
    "    'Arkansas': 'AR',\n",
    "    'California': 'CA',\n",
    "    'Colorado': 'CO',\n",
    "    'Connecticut': 'CT',\n",
    "    'Delaware': 'DE',\n",
    "    'Florida': 'FL',\n",
    "    'Georgia': 'GA',\n",
    "    'Hawaii': 'HI',\n",
    "    'Idaho': 'ID',\n",
    "    'Illinois': 'IL',\n",
    "    'Indiana': 'IN',\n",
    "    'Iowa': 'IA',\n",
    "    'Kansas': 'KS',\n",
    "    'Kentucky': 'KY',\n",
    "    'Louisiana': 'LA',\n",
    "    'Maine': 'ME',\n",
    "    'Maryland': 'MD',\n",
    "    'Massachusetts': 'MA',\n",
    "    'Michigan': 'MI',\n",
    "    'Minnesota': 'MN',\n",
    "    'Mississippi': 'MS',\n",
    "    'Missouri': 'MO',\n",
    "    'Montana': 'MT',\n",
    "    'Nebraska': 'NE',\n",
    "    'Nevada': 'NV',\n",
    "    'New Hampshire': 'NH',\n",
    "    'New Jersey': 'NJ',\n",
    "    'New Mexico': 'NM',\n",
    "    'New York': 'NY',\n",
    "    'North Carolina': 'NC',\n",
    "    'North Dakota': 'ND',\n",
    "    'Ohio': 'OH',\n",
    "    'Oklahoma': 'OK',\n",
    "    'Oregon': 'OR',\n",
    "    'Pennsylvania': 'PA',\n",
    "    'Rhode Island': 'RI',\n",
    "    'South Carolina': 'SC',\n",
    "    'South Dakota': 'SD',\n",
    "    'Tennessee': 'TN',\n",
    "    'Texas': 'TX',\n",
    "    'Utah': 'UT',\n",
    "    'Vermont': 'VT',\n",
    "    'Virginia': 'VA',\n",
    "    'Washington': 'WA',\n",
    "    'West Virginia': 'WV',\n",
    "    'Wisconsin': 'WI',\n",
    "    'Wyoming': 'WY',\n",
    "}"
   ]
  },
  {
   "cell_type": "code",
   "execution_count": 10,
   "metadata": {
    "ExecuteTime": {
     "end_time": "2017-10-20T16:51:04.377478Z",
     "start_time": "2017-10-20T16:51:04.191464Z"
    },
    "collapsed": true
   },
   "outputs": [],
   "source": [
    "path = os.path.join('Data storage', 'GDP data', 'gsp_naics_all_R', 'gsp_naics_all_R.csv')\n",
    "gsp = pd.read_csv(path)\n",
    "gsp = gsp.loc[gsp['IndustryId'] == 1]\n",
    "gsp.drop(['GeoFIPS', 'Region', 'ComponentId', 'ComponentName', 'IndustryId',\n",
    "          'IndustryClassification', 'Description'], axis=1, inplace=True)\n",
    "gsp.rename(columns={'GeoName': 'State'}, inplace=True)\n",
    "gsp = pd.melt(gsp, id_vars='State', var_name='Year', value_name='GSP')\n",
    "gsp['State'] = gsp['State'].map(us_state_abbrev)\n",
    "\n",
    "for col in ['Year', 'GSP']:\n",
    "    gsp.loc[:, col] = pd.to_numeric(gsp.loc[:, col])"
   ]
  },
  {
   "cell_type": "code",
   "execution_count": 11,
   "metadata": {
    "ExecuteTime": {
     "end_time": "2017-10-20T16:51:09.256696Z",
     "start_time": "2017-10-20T16:51:09.247348Z"
    }
   },
   "outputs": [
    {
     "data": {
      "text/html": [
       "<div>\n",
       "<style>\n",
       "    .dataframe thead tr:only-child th {\n",
       "        text-align: right;\n",
       "    }\n",
       "\n",
       "    .dataframe thead th {\n",
       "        text-align: left;\n",
       "    }\n",
       "\n",
       "    .dataframe tbody tr th {\n",
       "        vertical-align: top;\n",
       "    }\n",
       "</style>\n",
       "<table border=\"1\" class=\"dataframe\">\n",
       "  <thead>\n",
       "    <tr style=\"text-align: right;\">\n",
       "      <th></th>\n",
       "      <th>State</th>\n",
       "      <th>Year</th>\n",
       "      <th>GSP</th>\n",
       "    </tr>\n",
       "  </thead>\n",
       "  <tbody>\n",
       "    <tr>\n",
       "      <th>0</th>\n",
       "      <td>US</td>\n",
       "      <td>1997</td>\n",
       "      <td>11118778</td>\n",
       "    </tr>\n",
       "    <tr>\n",
       "      <th>1</th>\n",
       "      <td>AL</td>\n",
       "      <td>1997</td>\n",
       "      <td>137143</td>\n",
       "    </tr>\n",
       "    <tr>\n",
       "      <th>2</th>\n",
       "      <td>AK</td>\n",
       "      <td>1997</td>\n",
       "      <td>37880</td>\n",
       "    </tr>\n",
       "    <tr>\n",
       "      <th>3</th>\n",
       "      <td>AZ</td>\n",
       "      <td>1997</td>\n",
       "      <td>163114</td>\n",
       "    </tr>\n",
       "    <tr>\n",
       "      <th>4</th>\n",
       "      <td>AR</td>\n",
       "      <td>1997</td>\n",
       "      <td>79164</td>\n",
       "    </tr>\n",
       "  </tbody>\n",
       "</table>\n",
       "</div>"
      ],
      "text/plain": [
       "  State  Year       GSP\n",
       "0    US  1997  11118778\n",
       "1    AL  1997    137143\n",
       "2    AK  1997     37880\n",
       "3    AZ  1997    163114\n",
       "4    AR  1997     79164"
      ]
     },
     "execution_count": 11,
     "metadata": {},
     "output_type": "execute_result"
    }
   ],
   "source": [
    "gsp.head()"
   ]
  },
  {
   "cell_type": "code",
   "execution_count": 12,
   "metadata": {
    "ExecuteTime": {
     "end_time": "2017-10-20T16:51:19.602520Z",
     "start_time": "2017-10-20T16:51:19.594557Z"
    },
    "collapsed": true
   },
   "outputs": [],
   "source": [
    "annual_gen_index_gsp = annual_gen_index.merge(gsp, on=['State', 'Year'])"
   ]
  },
  {
   "cell_type": "code",
   "execution_count": 13,
   "metadata": {
    "ExecuteTime": {
     "end_time": "2017-10-20T16:51:23.137181Z",
     "start_time": "2017-10-20T16:51:23.126015Z"
    },
    "collapsed": true
   },
   "outputs": [],
   "source": [
    "non_fuels = ['State', 'Year', 'index (g/kWh)', 'GSP']\n",
    "gen_cols = [x for x in annual_gen_index.columns if x not in non_fuels]\n",
    "total_gen = annual_gen_index.loc[:, gen_cols].sum(axis=1)\n",
    "\n",
    "annual_gen_index_gsp.loc[:, 'tonne CO2/mmUSD'] = (annual_gen_index_gsp.loc[:, 'final CO2 (kg)']\n",
    "                                                  / annual_gen_index_gsp.loc[:, 'GSP']\n",
    "                                                  / 1000)"
   ]
  },
  {
   "cell_type": "code",
   "execution_count": 29,
   "metadata": {
    "ExecuteTime": {
     "end_time": "2017-09-14T16:19:04.074713Z",
     "start_time": "2017-09-14T16:19:01.582333Z"
    }
   },
   "outputs": [
    {
     "data": {
      "text/plain": [
       "(-1, 53)"
      ]
     },
     "execution_count": 29,
     "metadata": {},
     "output_type": "execute_result"
    },
    {
     "data": {
      "text/plain": [
       "<matplotlib.text.Text at 0x113b2ec18>"
      ]
     },
     "execution_count": 29,
     "metadata": {},
     "output_type": "execute_result"
    },
    {
     "data": {
      "image/png": "[encoded data removed]",
      "text/plain": [
       "<matplotlib.figure.Figure at 0x113b45780>"
      ]
     },
     "metadata": {},
     "output_type": "display_data"
    }
   ],
   "source": [
    "barbell_gsp = annual_gen_index_gsp.pivot_table(values='tonne CO2/mmUSD',\n",
    "                                              index='State', columns='Year')\n",
    "barbell_gsp.sort_values(by=2016, inplace=True)\n",
    "barbell_gsp.drop(['WY', 'ND', 'WV'], inplace=True)\n",
    "\n",
    "states_gsp = list(barbell_gsp.index)\n",
    "\n",
    "dumbell_plot(barbell_gsp, [2001, 2008, 2016], states_gsp, offset_divider=40,\n",
    "             rps_start=rps_start, legend=False, palette='colorblind')\n",
    "\n",
    "plt.ylim(-1, 53)\n",
    "sns.despine(left=True)\n",
    "plt.xlabel('Tonne CO$_2$/Million USD')\n",
    "\n",
    "plt.savefig(join('Figures', 'State CO2 per GSP.pdf'), bbox_inches='tight')"
   ]
  },
  {
   "cell_type": "code",
   "execution_count": 30,
   "metadata": {
    "ExecuteTime": {
     "end_time": "2017-09-14T16:19:04.634416Z",
     "start_time": "2017-09-14T16:19:04.077053Z"
    }
   },
   "outputs": [
    {
     "data": {
      "text/plain": [
       "(-1, 53)"
      ]
     },
     "execution_count": 30,
     "metadata": {},
     "output_type": "execute_result"
    },
    {
     "data": {
      "text/plain": [
       "(500, 2000)"
      ]
     },
     "execution_count": 30,
     "metadata": {},
     "output_type": "execute_result"
    },
    {
     "data": {
      "text/plain": [
       "<matplotlib.text.Text at 0x11386f470>"
      ]
     },
     "execution_count": 30,
     "metadata": {},
     "output_type": "execute_result"
    },
    {
     "data": {
      "image/png": "[encoded data removed]",
      "text/plain": [
       "<matplotlib.figure.Figure at 0x113899630>"
      ]
     },
     "metadata": {},
     "output_type": "display_data"
    }
   ],
   "source": [
    "barbell_gsp = annual_gen_index_gsp.pivot_table(values='tonne CO2/mmUSD',\n",
    "                                              index='State', columns='Year')\n",
    "barbell_gsp.sort_values(by=2016, inplace=True)\n",
    "barbell_gsp = barbell_gsp.loc[['ND', 'WV', 'WY']]\n",
    "\n",
    "states_gsp = ['ND', 'WV', 'WY']\n",
    "\n",
    "dumbell_plot(barbell_gsp, [2001, 2008, 2016], states_gsp, offset_divider=30,\n",
    "             rps_start=rps_start, legend=False, palette='colorblind',\n",
    "             figsize=(2.5, 9))\n",
    "\n",
    "plt.ylim(-1, 53)\n",
    "plt.xlim(500, 2000)\n",
    "sns.despine(left=True)\n",
    "plt.xlabel('Tonne CO$_2$/Million USD')\n",
    "plt.savefig(join('Figures', 'State CO2 per GSP_inset.pdf'), bbox_inches='tight')"
   ]
  },
  {
   "cell_type": "code",
   "execution_count": 180,
   "metadata": {
    "ExecuteTime": {
     "end_time": "2017-08-04T19:05:56.672782Z",
     "start_time": "2017-08-04T19:05:55.092305Z"
    }
   },
   "outputs": [
    {
     "data": {
      "text/plain": [
       "(-1, 50)"
      ]
     },
     "execution_count": 180,
     "metadata": {},
     "output_type": "execute_result"
    },
    {
     "data": {
      "text/plain": [
       "<matplotlib.text.Text at 0x1462e60b8>"
      ]
     },
     "execution_count": 180,
     "metadata": {},
     "output_type": "execute_result"
    },
    {
     "data": {
      "text/plain": [
       "(8, 1950)"
      ]
     },
     "execution_count": 180,
     "metadata": {},
     "output_type": "execute_result"
    },
    {
     "data": {
      "image/png": "[encoded data removed]",
      "text/plain": [
       "<matplotlib.figure.Figure at 0x147675da0>"
      ]
     },
     "metadata": {},
     "output_type": "display_data"
    }
   ],
   "source": [
    "barbell_gsp = annual_gen_index_gsp.pivot_table(values='tonne CO2/mmUSD',\n",
    "                                              index='State', columns='Year')\n",
    "barbell_gsp.sort_values(by=2016, inplace=True)\n",
    "barbell_gsp.drop('VT', inplace=True)\n",
    "\n",
    "index_2001 = barbell_gsp[2001]\n",
    "index_2008 = barbell_gsp[2008]\n",
    "index_2016 = barbell_gsp[2016]\n",
    "\n",
    "# data = [barbell_gsp[year] for year in [2001, 2008, 2016]]\n",
    "states_gsp = ['{}  '.format(state) for state in barbell_gsp.index]\n",
    "# rps_states = list(rps_tidy['State'].unique())\n",
    "\n",
    "dumbell_plot(barbell_gsp, [2001, 2008, 2016], states_gsp, offset_divider=4000,\n",
    "             rps_start=rps_start, legend=False, palette='colorblind')\n",
    "\n",
    "# plt.vlines(456, -1, 50, colors=['0.5'], zorder=1, #linestyles='dashed',\n",
    "#            linewidth=1)\n",
    "plt.ylim(-1, 50)\n",
    "# plt.text(x=240, y=40, s='2016\\nNational Average\\n(456 g/kWh)', ha='center')\n",
    "sns.despine(left=True)\n",
    "plt.xlabel('Tonne CO$_2$/Million USD')\n",
    "ax = plt.gca()\n",
    "ax.set_xscale(\"log\", nonposx='clip')\n",
    "plt.xlim((8, 1950))"
   ]
  },
  {
   "cell_type": "markdown",
   "metadata": {},
   "source": [
    "Are things changing because states got GSP changed or because electricity emissions changed. Scatter plot might be more appropriate. "
   ]
  },
  {
   "cell_type": "markdown",
   "metadata": {
    "collapsed": true
   },
   "source": [
    "## Population"
   ]
  },
  {
   "cell_type": "code",
   "execution_count": 14,
   "metadata": {
    "ExecuteTime": {
     "end_time": "2017-10-20T16:51:34.125429Z",
     "start_time": "2017-10-20T16:51:34.117138Z"
    },
    "collapsed": true
   },
   "outputs": [],
   "source": [
    "path = os.path.join('Data storage', 'Derived data', 'State population.csv')\n",
    "pop = pd.read_csv(path)"
   ]
  },
  {
   "cell_type": "code",
   "execution_count": 15,
   "metadata": {
    "ExecuteTime": {
     "end_time": "2017-10-20T16:51:34.758233Z",
     "start_time": "2017-10-20T16:51:34.745743Z"
    }
   },
   "outputs": [
    {
     "data": {
      "text/html": [
       "<div>\n",
       "<style>\n",
       "    .dataframe thead tr:only-child th {\n",
       "        text-align: right;\n",
       "    }\n",
       "\n",
       "    .dataframe thead th {\n",
       "        text-align: left;\n",
       "    }\n",
       "\n",
       "    .dataframe tbody tr th {\n",
       "        vertical-align: top;\n",
       "    }\n",
       "</style>\n",
       "<table border=\"1\" class=\"dataframe\">\n",
       "  <thead>\n",
       "    <tr style=\"text-align: right;\">\n",
       "      <th></th>\n",
       "      <th>State</th>\n",
       "      <th>Year</th>\n",
       "      <th>Population</th>\n",
       "    </tr>\n",
       "  </thead>\n",
       "  <tbody>\n",
       "    <tr>\n",
       "      <th>0</th>\n",
       "      <td>United States</td>\n",
       "      <td>2000</td>\n",
       "      <td>282162411</td>\n",
       "    </tr>\n",
       "    <tr>\n",
       "      <th>1</th>\n",
       "      <td>Alabama</td>\n",
       "      <td>2000</td>\n",
       "      <td>4452173</td>\n",
       "    </tr>\n",
       "    <tr>\n",
       "      <th>2</th>\n",
       "      <td>Alaska</td>\n",
       "      <td>2000</td>\n",
       "      <td>627963</td>\n",
       "    </tr>\n",
       "    <tr>\n",
       "      <th>3</th>\n",
       "      <td>Arizona</td>\n",
       "      <td>2000</td>\n",
       "      <td>5160586</td>\n",
       "    </tr>\n",
       "    <tr>\n",
       "      <th>4</th>\n",
       "      <td>Arkansas</td>\n",
       "      <td>2000</td>\n",
       "      <td>2678588</td>\n",
       "    </tr>\n",
       "  </tbody>\n",
       "</table>\n",
       "</div>"
      ],
      "text/plain": [
       "           State  Year  Population\n",
       "0  United States  2000   282162411\n",
       "1        Alabama  2000     4452173\n",
       "2         Alaska  2000      627963\n",
       "3        Arizona  2000     5160586\n",
       "4       Arkansas  2000     2678588"
      ]
     },
     "execution_count": 15,
     "metadata": {},
     "output_type": "execute_result"
    }
   ],
   "source": [
    "pop.head()"
   ]
  },
  {
   "cell_type": "code",
   "execution_count": 16,
   "metadata": {
    "ExecuteTime": {
     "end_time": "2017-10-20T16:51:39.986571Z",
     "start_time": "2017-10-20T16:51:39.981148Z"
    },
    "collapsed": true
   },
   "outputs": [],
   "source": [
    "pop['State'] = pop['State'].map(us_state_abbrev)"
   ]
  },
  {
   "cell_type": "code",
   "execution_count": 17,
   "metadata": {
    "ExecuteTime": {
     "end_time": "2017-10-20T16:51:41.881360Z",
     "start_time": "2017-10-20T16:51:41.872507Z"
    }
   },
   "outputs": [
    {
     "data": {
      "text/html": [
       "<div>\n",
       "<style>\n",
       "    .dataframe thead tr:only-child th {\n",
       "        text-align: right;\n",
       "    }\n",
       "\n",
       "    .dataframe thead th {\n",
       "        text-align: left;\n",
       "    }\n",
       "\n",
       "    .dataframe tbody tr th {\n",
       "        vertical-align: top;\n",
       "    }\n",
       "</style>\n",
       "<table border=\"1\" class=\"dataframe\">\n",
       "  <thead>\n",
       "    <tr style=\"text-align: right;\">\n",
       "      <th></th>\n",
       "      <th>State</th>\n",
       "      <th>Year</th>\n",
       "      <th>Population</th>\n",
       "    </tr>\n",
       "  </thead>\n",
       "  <tbody>\n",
       "    <tr>\n",
       "      <th>0</th>\n",
       "      <td>US</td>\n",
       "      <td>2000</td>\n",
       "      <td>282162411</td>\n",
       "    </tr>\n",
       "    <tr>\n",
       "      <th>1</th>\n",
       "      <td>AL</td>\n",
       "      <td>2000</td>\n",
       "      <td>4452173</td>\n",
       "    </tr>\n",
       "    <tr>\n",
       "      <th>2</th>\n",
       "      <td>AK</td>\n",
       "      <td>2000</td>\n",
       "      <td>627963</td>\n",
       "    </tr>\n",
       "    <tr>\n",
       "      <th>3</th>\n",
       "      <td>AZ</td>\n",
       "      <td>2000</td>\n",
       "      <td>5160586</td>\n",
       "    </tr>\n",
       "    <tr>\n",
       "      <th>4</th>\n",
       "      <td>AR</td>\n",
       "      <td>2000</td>\n",
       "      <td>2678588</td>\n",
       "    </tr>\n",
       "  </tbody>\n",
       "</table>\n",
       "</div>"
      ],
      "text/plain": [
       "  State  Year  Population\n",
       "0    US  2000   282162411\n",
       "1    AL  2000     4452173\n",
       "2    AK  2000      627963\n",
       "3    AZ  2000     5160586\n",
       "4    AR  2000     2678588"
      ]
     },
     "execution_count": 17,
     "metadata": {},
     "output_type": "execute_result"
    }
   ],
   "source": [
    "pop.head()"
   ]
  },
  {
   "cell_type": "code",
   "execution_count": 18,
   "metadata": {
    "ExecuteTime": {
     "end_time": "2017-10-20T16:51:45.845918Z",
     "start_time": "2017-10-20T16:51:45.837226Z"
    },
    "collapsed": true
   },
   "outputs": [],
   "source": [
    "annual_gen_index_pop = annual_gen_index.merge(pop, on=['State', 'Year'])"
   ]
  },
  {
   "cell_type": "code",
   "execution_count": 22,
   "metadata": {
    "ExecuteTime": {
     "end_time": "2017-10-12T15:26:43.120148Z",
     "start_time": "2017-10-12T15:26:43.094197Z"
    }
   },
   "outputs": [
    {
     "data": {
      "text/html": [
       "<div>\n",
       "<style>\n",
       "    .dataframe thead tr:only-child th {\n",
       "        text-align: right;\n",
       "    }\n",
       "\n",
       "    .dataframe thead th {\n",
       "        text-align: left;\n",
       "    }\n",
       "\n",
       "    .dataframe tbody tr th {\n",
       "        vertical-align: top;\n",
       "    }\n",
       "</style>\n",
       "<table border=\"1\" class=\"dataframe\">\n",
       "  <thead>\n",
       "    <tr style=\"text-align: right;\">\n",
       "      <th></th>\n",
       "      <th>State</th>\n",
       "      <th>Year</th>\n",
       "      <th>Coal</th>\n",
       "      <th>Hydro</th>\n",
       "      <th>Natural Gas</th>\n",
       "      <th>Nuclear</th>\n",
       "      <th>Other</th>\n",
       "      <th>Other Renewables</th>\n",
       "      <th>Solar</th>\n",
       "      <th>Wind</th>\n",
       "      <th>index (g/kWh)</th>\n",
       "      <th>final CO2 (kg)</th>\n",
       "      <th>Population</th>\n",
       "    </tr>\n",
       "  </thead>\n",
       "  <tbody>\n",
       "    <tr>\n",
       "      <th>0</th>\n",
       "      <td>AK</td>\n",
       "      <td>2001</td>\n",
       "      <td>564593.00</td>\n",
       "      <td>1345664.00</td>\n",
       "      <td>3895568.00</td>\n",
       "      <td>0.0</td>\n",
       "      <td>936990.00</td>\n",
       "      <td>0.00</td>\n",
       "      <td>0.0</td>\n",
       "      <td>951.00</td>\n",
       "      <td>621.611811</td>\n",
       "      <td>4.192005e+09</td>\n",
       "      <td>633714</td>\n",
       "    </tr>\n",
       "    <tr>\n",
       "      <th>1</th>\n",
       "      <td>AK</td>\n",
       "      <td>2002</td>\n",
       "      <td>575286.00</td>\n",
       "      <td>1439351.00</td>\n",
       "      <td>3778161.00</td>\n",
       "      <td>0.0</td>\n",
       "      <td>962369.00</td>\n",
       "      <td>12155.00</td>\n",
       "      <td>0.0</td>\n",
       "      <td>0.00</td>\n",
       "      <td>565.861881</td>\n",
       "      <td>3.829370e+09</td>\n",
       "      <td>642337</td>\n",
       "    </tr>\n",
       "    <tr>\n",
       "      <th>2</th>\n",
       "      <td>AK</td>\n",
       "      <td>2003</td>\n",
       "      <td>549665.00</td>\n",
       "      <td>1582537.00</td>\n",
       "      <td>3354483.00</td>\n",
       "      <td>0.0</td>\n",
       "      <td>846273.00</td>\n",
       "      <td>5780.00</td>\n",
       "      <td>0.0</td>\n",
       "      <td>0.00</td>\n",
       "      <td>548.164631</td>\n",
       "      <td>3.474672e+09</td>\n",
       "      <td>648414</td>\n",
       "    </tr>\n",
       "    <tr>\n",
       "      <th>3</th>\n",
       "      <td>AK</td>\n",
       "      <td>2004</td>\n",
       "      <td>648979.71</td>\n",
       "      <td>1498020.01</td>\n",
       "      <td>3623432.59</td>\n",
       "      <td>0.0</td>\n",
       "      <td>747068.06</td>\n",
       "      <td>9216.55</td>\n",
       "      <td>0.0</td>\n",
       "      <td>0.00</td>\n",
       "      <td>535.042680</td>\n",
       "      <td>3.492072e+09</td>\n",
       "      <td>659286</td>\n",
       "    </tr>\n",
       "    <tr>\n",
       "      <th>4</th>\n",
       "      <td>AK</td>\n",
       "      <td>2005</td>\n",
       "      <td>624317.77</td>\n",
       "      <td>1463942.01</td>\n",
       "      <td>3723625.63</td>\n",
       "      <td>0.0</td>\n",
       "      <td>758928.54</td>\n",
       "      <td>5255.58</td>\n",
       "      <td>0.0</td>\n",
       "      <td>589.01</td>\n",
       "      <td>536.961208</td>\n",
       "      <td>3.531411e+09</td>\n",
       "      <td>666946</td>\n",
       "    </tr>\n",
       "  </tbody>\n",
       "</table>\n",
       "</div>"
      ],
      "text/plain": [
       "  State  Year       Coal       Hydro  Natural Gas  Nuclear      Other  \\\n",
       "0    AK  2001  564593.00  1345664.00   3895568.00      0.0  936990.00   \n",
       "1    AK  2002  575286.00  1439351.00   3778161.00      0.0  962369.00   \n",
       "2    AK  2003  549665.00  1582537.00   3354483.00      0.0  846273.00   \n",
       "3    AK  2004  648979.71  1498020.01   3623432.59      0.0  747068.06   \n",
       "4    AK  2005  624317.77  1463942.01   3723625.63      0.0  758928.54   \n",
       "\n",
       "   Other Renewables  Solar    Wind  index (g/kWh)  final CO2 (kg)  Population  \n",
       "0              0.00    0.0  951.00     621.611811    4.192005e+09      633714  \n",
       "1          12155.00    0.0    0.00     565.861881    3.829370e+09      642337  \n",
       "2           5780.00    0.0    0.00     548.164631    3.474672e+09      648414  \n",
       "3           9216.55    0.0    0.00     535.042680    3.492072e+09      659286  \n",
       "4           5255.58    0.0  589.01     536.961208    3.531411e+09      666946  "
      ]
     },
     "execution_count": 22,
     "metadata": {},
     "output_type": "execute_result"
    }
   ],
   "source": [
    "annual_gen_index_pop.head()"
   ]
  },
  {
   "cell_type": "code",
   "execution_count": 19,
   "metadata": {
    "ExecuteTime": {
     "end_time": "2017-10-20T16:51:54.439838Z",
     "start_time": "2017-10-20T16:51:54.431636Z"
    },
    "collapsed": true
   },
   "outputs": [],
   "source": [
    "annual_gen_index_pop['tonne CO2/pop'] = (annual_gen_index_pop['final CO2 (kg)']\n",
    "                                         / 1000\n",
    "                                         / annual_gen_index_pop['Population'])\n",
    "annual_gen_index_pop['MWh/pop'] = (annual_gen_index_pop.loc[:, 'Coal':'Wind'].sum(axis=1)\n",
    "                                         / annual_gen_index_pop['Population'])"
   ]
  },
  {
   "cell_type": "code",
   "execution_count": 20,
   "metadata": {
    "ExecuteTime": {
     "end_time": "2017-10-20T17:24:34.236179Z",
     "start_time": "2017-10-20T17:24:34.143185Z"
    }
   },
   "outputs": [
    {
     "data": {
      "text/html": [
       "<div>\n",
       "<style>\n",
       "    .dataframe thead tr:only-child th {\n",
       "        text-align: right;\n",
       "    }\n",
       "\n",
       "    .dataframe thead th {\n",
       "        text-align: left;\n",
       "    }\n",
       "\n",
       "    .dataframe tbody tr th {\n",
       "        vertical-align: top;\n",
       "    }\n",
       "</style>\n",
       "<table border=\"1\" class=\"dataframe\">\n",
       "  <thead>\n",
       "    <tr style=\"text-align: right;\">\n",
       "      <th></th>\n",
       "      <th>Year</th>\n",
       "      <th>Coal</th>\n",
       "      <th>Hydro</th>\n",
       "      <th>Natural Gas</th>\n",
       "      <th>Nuclear</th>\n",
       "      <th>Other</th>\n",
       "      <th>Other Renewables</th>\n",
       "      <th>Solar</th>\n",
       "      <th>Wind</th>\n",
       "      <th>index (g/kWh)</th>\n",
       "      <th>final CO2 (kg)</th>\n",
       "      <th>Population</th>\n",
       "      <th>tonne CO2/pop</th>\n",
       "      <th>MWh/pop</th>\n",
       "    </tr>\n",
       "  </thead>\n",
       "  <tbody>\n",
       "    <tr>\n",
       "      <th>count</th>\n",
       "      <td>800.000000</td>\n",
       "      <td>8.000000e+02</td>\n",
       "      <td>8.000000e+02</td>\n",
       "      <td>8.000000e+02</td>\n",
       "      <td>8.000000e+02</td>\n",
       "      <td>8.000000e+02</td>\n",
       "      <td>8.000000e+02</td>\n",
       "      <td>8.000000e+02</td>\n",
       "      <td>8.000000e+02</td>\n",
       "      <td>800.000000</td>\n",
       "      <td>8.000000e+02</td>\n",
       "      <td>8.000000e+02</td>\n",
       "      <td>800.000000</td>\n",
       "      <td>800.000000</td>\n",
       "    </tr>\n",
       "    <tr>\n",
       "      <th>mean</th>\n",
       "      <td>2008.500000</td>\n",
       "      <td>3.550089e+07</td>\n",
       "      <td>5.322606e+06</td>\n",
       "      <td>1.895001e+07</td>\n",
       "      <td>1.579629e+07</td>\n",
       "      <td>1.626548e+06</td>\n",
       "      <td>1.434886e+06</td>\n",
       "      <td>1.819396e+05</td>\n",
       "      <td>1.716463e+06</td>\n",
       "      <td>556.785176</td>\n",
       "      <td>4.504885e+10</td>\n",
       "      <td>6.082017e+06</td>\n",
       "      <td>10.849586</td>\n",
       "      <td>16.850713</td>\n",
       "    </tr>\n",
       "    <tr>\n",
       "      <th>std</th>\n",
       "      <td>4.612656</td>\n",
       "      <td>3.516025e+07</td>\n",
       "      <td>1.248921e+07</td>\n",
       "      <td>3.530107e+07</td>\n",
       "      <td>2.040010e+07</td>\n",
       "      <td>4.144479e+06</td>\n",
       "      <td>2.725588e+06</td>\n",
       "      <td>1.388029e+06</td>\n",
       "      <td>4.585832e+06</td>\n",
       "      <td>246.924591</td>\n",
       "      <td>4.274569e+10</td>\n",
       "      <td>6.718427e+06</td>\n",
       "      <td>13.640086</td>\n",
       "      <td>13.066728</td>\n",
       "    </tr>\n",
       "    <tr>\n",
       "      <th>min</th>\n",
       "      <td>2001.000000</td>\n",
       "      <td>0.000000e+00</td>\n",
       "      <td>0.000000e+00</td>\n",
       "      <td>-5.114000e+01</td>\n",
       "      <td>0.000000e+00</td>\n",
       "      <td>-9.925681e+05</td>\n",
       "      <td>-8.372700e+02</td>\n",
       "      <td>-5.000000e+00</td>\n",
       "      <td>0.000000e+00</td>\n",
       "      <td>0.577423</td>\n",
       "      <td>1.005039e+06</td>\n",
       "      <td>4.946570e+05</td>\n",
       "      <td>0.001609</td>\n",
       "      <td>2.780122</td>\n",
       "    </tr>\n",
       "    <tr>\n",
       "      <th>10%</th>\n",
       "      <td>2002.000000</td>\n",
       "      <td>6.239303e+05</td>\n",
       "      <td>3.198400e+04</td>\n",
       "      <td>2.864023e+05</td>\n",
       "      <td>0.000000e+00</td>\n",
       "      <td>4.696173e+03</td>\n",
       "      <td>5.576302e+03</td>\n",
       "      <td>0.000000e+00</td>\n",
       "      <td>0.000000e+00</td>\n",
       "      <td>214.701545</td>\n",
       "      <td>3.606374e+09</td>\n",
       "      <td>8.438739e+05</td>\n",
       "      <td>1.971700</td>\n",
       "      <td>7.319306</td>\n",
       "    </tr>\n",
       "    <tr>\n",
       "      <th>25%</th>\n",
       "      <td>2004.750000</td>\n",
       "      <td>4.274905e+06</td>\n",
       "      <td>5.544425e+05</td>\n",
       "      <td>1.767547e+06</td>\n",
       "      <td>0.000000e+00</td>\n",
       "      <td>6.290603e+04</td>\n",
       "      <td>1.045773e+05</td>\n",
       "      <td>0.000000e+00</td>\n",
       "      <td>0.000000e+00</td>\n",
       "      <td>412.240404</td>\n",
       "      <td>1.498268e+10</td>\n",
       "      <td>1.800205e+06</td>\n",
       "      <td>3.964499</td>\n",
       "      <td>9.959396</td>\n",
       "    </tr>\n",
       "    <tr>\n",
       "      <th>50%</th>\n",
       "      <td>2008.500000</td>\n",
       "      <td>2.838778e+07</td>\n",
       "      <td>1.425966e+06</td>\n",
       "      <td>6.750136e+06</td>\n",
       "      <td>9.341989e+06</td>\n",
       "      <td>4.325305e+05</td>\n",
       "      <td>7.226318e+05</td>\n",
       "      <td>0.000000e+00</td>\n",
       "      <td>6.193089e+04</td>\n",
       "      <td>554.814920</td>\n",
       "      <td>3.584663e+10</td>\n",
       "      <td>4.353254e+06</td>\n",
       "      <td>7.777610</td>\n",
       "      <td>14.516478</td>\n",
       "    </tr>\n",
       "    <tr>\n",
       "      <th>max</th>\n",
       "      <td>2016.000000</td>\n",
       "      <td>1.578965e+08</td>\n",
       "      <td>9.181770e+07</td>\n",
       "      <td>2.377314e+08</td>\n",
       "      <td>9.824031e+07</td>\n",
       "      <td>4.362692e+07</td>\n",
       "      <td>1.911608e+07</td>\n",
       "      <td>2.743193e+07</td>\n",
       "      <td>5.755051e+07</td>\n",
       "      <td>1113.788927</td>\n",
       "      <td>2.504271e+11</td>\n",
       "      <td>3.925002e+07</td>\n",
       "      <td>96.746995</td>\n",
       "      <td>90.521185</td>\n",
       "    </tr>\n",
       "  </tbody>\n",
       "</table>\n",
       "</div>"
      ],
      "text/plain": [
       "              Year          Coal         Hydro   Natural Gas       Nuclear  \\\n",
       "count   800.000000  8.000000e+02  8.000000e+02  8.000000e+02  8.000000e+02   \n",
       "mean   2008.500000  3.550089e+07  5.322606e+06  1.895001e+07  1.579629e+07   \n",
       "std       4.612656  3.516025e+07  1.248921e+07  3.530107e+07  2.040010e+07   \n",
       "min    2001.000000  0.000000e+00  0.000000e+00 -5.114000e+01  0.000000e+00   \n",
       "10%    2002.000000  6.239303e+05  3.198400e+04  2.864023e+05  0.000000e+00   \n",
       "25%    2004.750000  4.274905e+06  5.544425e+05  1.767547e+06  0.000000e+00   \n",
       "50%    2008.500000  2.838778e+07  1.425966e+06  6.750136e+06  9.341989e+06   \n",
       "max    2016.000000  1.578965e+08  9.181770e+07  2.377314e+08  9.824031e+07   \n",
       "\n",
       "              Other  Other Renewables         Solar          Wind  \\\n",
       "count  8.000000e+02      8.000000e+02  8.000000e+02  8.000000e+02   \n",
       "mean   1.626548e+06      1.434886e+06  1.819396e+05  1.716463e+06   \n",
       "std    4.144479e+06      2.725588e+06  1.388029e+06  4.585832e+06   \n",
       "min   -9.925681e+05     -8.372700e+02 -5.000000e+00  0.000000e+00   \n",
       "10%    4.696173e+03      5.576302e+03  0.000000e+00  0.000000e+00   \n",
       "25%    6.290603e+04      1.045773e+05  0.000000e+00  0.000000e+00   \n",
       "50%    4.325305e+05      7.226318e+05  0.000000e+00  6.193089e+04   \n",
       "max    4.362692e+07      1.911608e+07  2.743193e+07  5.755051e+07   \n",
       "\n",
       "       index (g/kWh)  final CO2 (kg)    Population  tonne CO2/pop     MWh/pop  \n",
       "count     800.000000    8.000000e+02  8.000000e+02     800.000000  800.000000  \n",
       "mean      556.785176    4.504885e+10  6.082017e+06      10.849586   16.850713  \n",
       "std       246.924591    4.274569e+10  6.718427e+06      13.640086   13.066728  \n",
       "min         0.577423    1.005039e+06  4.946570e+05       0.001609    2.780122  \n",
       "10%       214.701545    3.606374e+09  8.438739e+05       1.971700    7.319306  \n",
       "25%       412.240404    1.498268e+10  1.800205e+06       3.964499    9.959396  \n",
       "50%       554.814920    3.584663e+10  4.353254e+06       7.777610   14.516478  \n",
       "max      1113.788927    2.504271e+11  3.925002e+07      96.746995   90.521185  "
      ]
     },
     "execution_count": 20,
     "metadata": {},
     "output_type": "execute_result"
    }
   ],
   "source": [
    "annual_gen_index_pop.describe(percentiles=[.1, .25])"
   ]
  },
  {
   "cell_type": "code",
   "execution_count": 33,
   "metadata": {
    "ExecuteTime": {
     "end_time": "2017-10-12T15:31:45.339600Z",
     "start_time": "2017-10-12T15:31:42.380684Z"
    }
   },
   "outputs": [
    {
     "data": {
      "image/png": "[encoded data removed]",
      "text/plain": [
       "<matplotlib.figure.Figure at 0x113b7eb70>"
      ]
     },
     "metadata": {},
     "output_type": "display_data"
    }
   ],
   "source": [
    "barbell_pop = annual_gen_index_pop.pivot_table(values='MWh/pop',\n",
    "                                              index='State', columns='Year')\n",
    "barbell_pop.sort_values(by=2016, inplace=True)\n",
    "# barbell_pop.drop('VT', inplace=True)\n",
    "\n",
    "# data = [barbell_pop[year] for year in [2001, 2008, 2016]]\n",
    "states_pop = list(barbell_pop.index)\n",
    "# rps_states = list(rps_tidy['State'].unique())\n",
    "\n",
    "dumbell_plot(barbell_pop, [2001, 2008, 2016], states_pop, offset_divider=30,\n",
    "             rps_start=rps_start, legend=False, palette='colorblind')\n",
    "\n",
    "# plt.vlines(456, -1, 50, colors=['0.5'], zorder=1, #linestyles='dashed',\n",
    "#            linewidth=1)\n",
    "plt.ylim(-1, 53)\n",
    "# plt.text(x=240, y=40, s='2016\\nNational Average\\n(456 g/kWh)', ha='center')\n",
    "sns.despine(left=True)\n",
    "plt.xlabel('MWh/Capita/Year')\n",
    "# ax = plt.gca()\n",
    "# ax.set_xscale(\"log\", nonposx='clip')\n",
    "path = join(cwd, 'Figures', 'SI', 'State MWh per capita per year.pdf')\n",
    "plt.savefig(path, bbox_inches='tight')"
   ]
  },
  {
   "cell_type": "code",
   "execution_count": 38,
   "metadata": {
    "ExecuteTime": {
     "end_time": "2017-09-14T16:23:45.194879Z",
     "start_time": "2017-09-14T16:23:42.617967Z"
    }
   },
   "outputs": [
    {
     "data": {
      "text/plain": [
       "(-1, 53)"
      ]
     },
     "execution_count": 38,
     "metadata": {},
     "output_type": "execute_result"
    },
    {
     "data": {
      "text/plain": [
       "(-1.5040565353615745, 25)"
      ]
     },
     "execution_count": 38,
     "metadata": {},
     "output_type": "execute_result"
    },
    {
     "data": {
      "text/plain": [
       "<matplotlib.text.Text at 0x114619ac8>"
      ]
     },
     "execution_count": 38,
     "metadata": {},
     "output_type": "execute_result"
    },
    {
     "data": {
      "image/png": "[encoded data removed]",
      "text/plain": [
       "<matplotlib.figure.Figure at 0x1138cdba8>"
      ]
     },
     "metadata": {},
     "output_type": "display_data"
    }
   ],
   "source": [
    "barbell_pop = annual_gen_index_pop.pivot_table(values='tonne CO2/pop',\n",
    "                                              index='State', columns='Year')\n",
    "barbell_pop.sort_values(by=2016, inplace=True)\n",
    "barbell_pop.drop(['WY', 'ND', 'WV'], inplace=True)\n",
    "\n",
    "# states_pop = ['{}  '.format(x) for x in barbell_pop.index]\n",
    "states_pop = list(barbell_pop.index)\n",
    "# rps_states = list(rps_tidy['State'].unique())\n",
    "\n",
    "dumbell_plot(barbell_pop, [2001, 2008, 2016], states_pop, offset_divider=30,\n",
    "             rps_start=rps_start, legend=False, palette='colorblind')\n",
    "\n",
    "plt.ylim(-1, 53)\n",
    "plt.xlim(None, 25)\n",
    "\n",
    "sns.despine(left=True)\n",
    "plt.xlabel('Tonne CO$_2$/Capita')\n",
    "plt.savefig(join('Figures', 'State CO2 per capita.pdf'), bbox_inches='tight')"
   ]
  },
  {
   "cell_type": "code",
   "execution_count": 39,
   "metadata": {
    "ExecuteTime": {
     "end_time": "2017-09-14T16:23:57.495123Z",
     "start_time": "2017-09-14T16:23:57.034956Z"
    }
   },
   "outputs": [
    {
     "data": {
      "text/plain": [
       "(-1, 53)"
      ]
     },
     "execution_count": 39,
     "metadata": {},
     "output_type": "execute_result"
    },
    {
     "data": {
      "text/plain": [
       "<matplotlib.text.Text at 0x114c3a208>"
      ]
     },
     "execution_count": 39,
     "metadata": {},
     "output_type": "execute_result"
    },
    {
     "data": {
      "image/png": "[encoded data removed]",
      "text/plain": [
       "<matplotlib.figure.Figure at 0x114bad518>"
      ]
     },
     "metadata": {},
     "output_type": "display_data"
    }
   ],
   "source": [
    "barbell_pop = annual_gen_index_pop.pivot_table(values='tonne CO2/pop',\n",
    "                                              index='State', columns='Year')\n",
    "barbell_pop.sort_values(by=2016, inplace=True)\n",
    "barbell_pop = barbell_pop.loc[['WV', 'ND', 'WY']]\n",
    "\n",
    "states_pop = ['WY', 'ND', 'WV']\n",
    "# rps_states = list(rps_tidy['State'].unique())\n",
    "\n",
    "dumbell_plot(barbell_pop, [2001, 2008, 2016], states_pop, offset_divider=30,\n",
    "             rps_start=rps_start, legend=False, palette='colorblind',\n",
    "             figsize=(2.5, 9))\n",
    "\n",
    "plt.ylim(-1, 53)\n",
    "# plt.xlim(None, 25)\n",
    "\n",
    "sns.despine(left=True)\n",
    "plt.xlabel('Tonne CO$_2$/Capita')\n",
    "plt.savefig(join('Figures', 'State CO2 per capita_inset.pdf'), bbox_inches='tight')"
   ]
  },
  {
   "cell_type": "markdown",
   "metadata": {},
   "source": [
    "## State electricity imports/exports\n",
    "Data is from [EIA State Energy Data System](https://www.eia.gov/state/seds/seds-data-complete.php?sid=US#Consumption). 2016 Estimates will be available in October 2017. Code are described in [EIA documentation](https://www.eia.gov/state/seds/sep_use/notes/use_a.pdf). Negative values indicate flows out of the state."
   ]
  },
  {
   "cell_type": "code",
   "execution_count": 21,
   "metadata": {
    "ExecuteTime": {
     "end_time": "2017-10-20T17:24:56.014916Z",
     "start_time": "2017-10-20T17:24:55.834861Z"
    },
    "collapsed": true
   },
   "outputs": [],
   "source": [
    "path = os.path.join('Data storage', 'State energy flows', 'use_all_phy.csv')\n",
    "flows = pd.read_csv(path)\n",
    "flows = flows.loc[flows['MSN'] == 'ELISP']\n",
    "flows.drop([str(x) for x in range(1960, 2001)], axis=1, inplace=True)\n",
    "flows.drop(['Data_Status', 'MSN'], axis=1, inplace=True)\n",
    "\n",
    "# Electricity flows are given in million kWh (see documentation)\n",
    "flows.loc[:, '2001':] *= 1000"
   ]
  },
  {
   "cell_type": "code",
   "execution_count": 22,
   "metadata": {
    "ExecuteTime": {
     "end_time": "2017-10-20T17:25:02.260312Z",
     "start_time": "2017-10-20T17:25:02.251406Z"
    },
    "collapsed": true
   },
   "outputs": [],
   "source": [
    "flows = flows.melt(id_vars='State', var_name='Year',\n",
    "                   value_name='MWh flow')\n",
    "flows['Year'] = flows['Year'].astype(int)"
   ]
  },
  {
   "cell_type": "code",
   "execution_count": 23,
   "metadata": {
    "ExecuteTime": {
     "end_time": "2017-10-20T17:25:02.976535Z",
     "start_time": "2017-10-20T17:25:02.966673Z"
    }
   },
   "outputs": [
    {
     "data": {
      "text/html": [
       "<div>\n",
       "<style>\n",
       "    .dataframe thead tr:only-child th {\n",
       "        text-align: right;\n",
       "    }\n",
       "\n",
       "    .dataframe thead th {\n",
       "        text-align: left;\n",
       "    }\n",
       "\n",
       "    .dataframe tbody tr th {\n",
       "        vertical-align: top;\n",
       "    }\n",
       "</style>\n",
       "<table border=\"1\" class=\"dataframe\">\n",
       "  <thead>\n",
       "    <tr style=\"text-align: right;\">\n",
       "      <th></th>\n",
       "      <th>State</th>\n",
       "      <th>Year</th>\n",
       "      <th>MWh flow</th>\n",
       "    </tr>\n",
       "  </thead>\n",
       "  <tbody>\n",
       "    <tr>\n",
       "      <th>0</th>\n",
       "      <td>AK</td>\n",
       "      <td>2001</td>\n",
       "      <td>0</td>\n",
       "    </tr>\n",
       "    <tr>\n",
       "      <th>1</th>\n",
       "      <td>AL</td>\n",
       "      <td>2001</td>\n",
       "      <td>-35006000</td>\n",
       "    </tr>\n",
       "    <tr>\n",
       "      <th>2</th>\n",
       "      <td>AR</td>\n",
       "      <td>2001</td>\n",
       "      <td>-666000</td>\n",
       "    </tr>\n",
       "    <tr>\n",
       "      <th>3</th>\n",
       "      <td>AZ</td>\n",
       "      <td>2001</td>\n",
       "      <td>-23621000</td>\n",
       "    </tr>\n",
       "    <tr>\n",
       "      <th>4</th>\n",
       "      <td>CA</td>\n",
       "      <td>2001</td>\n",
       "      <td>75510000</td>\n",
       "    </tr>\n",
       "  </tbody>\n",
       "</table>\n",
       "</div>"
      ],
      "text/plain": [
       "  State  Year  MWh flow\n",
       "0    AK  2001         0\n",
       "1    AL  2001 -35006000\n",
       "2    AR  2001   -666000\n",
       "3    AZ  2001 -23621000\n",
       "4    CA  2001  75510000"
      ]
     },
     "execution_count": 23,
     "metadata": {},
     "output_type": "execute_result"
    }
   ],
   "source": [
    "flows.head()"
   ]
  },
  {
   "cell_type": "code",
   "execution_count": 24,
   "metadata": {
    "ExecuteTime": {
     "end_time": "2017-10-20T17:25:20.449270Z",
     "start_time": "2017-10-20T17:25:20.435846Z"
    },
    "collapsed": true
   },
   "outputs": [],
   "source": [
    "annual_gen_index_pop_flows = pd.merge(annual_gen_index_pop, flows, on=['State', 'Year'])\n",
    "annual_gen_index_pop_flows['MWh flow/pop'] = (annual_gen_index_pop_flows['MWh flow']\n",
    "                                          / annual_gen_index_pop_flows['Population'])\n",
    "annual_gen_index_pop_flows['share flow'] = (annual_gen_index_pop_flows['MWh/pop']\n",
    "                                          / annual_gen_index_pop_flows['MWh flow/pop'])"
   ]
  },
  {
   "cell_type": "code",
   "execution_count": 25,
   "metadata": {
    "ExecuteTime": {
     "end_time": "2017-10-20T17:25:22.333207Z",
     "start_time": "2017-10-20T17:25:22.304064Z"
    }
   },
   "outputs": [
    {
     "data": {
      "text/html": [
       "<div>\n",
       "<style>\n",
       "    .dataframe thead tr:only-child th {\n",
       "        text-align: right;\n",
       "    }\n",
       "\n",
       "    .dataframe thead th {\n",
       "        text-align: left;\n",
       "    }\n",
       "\n",
       "    .dataframe tbody tr th {\n",
       "        vertical-align: top;\n",
       "    }\n",
       "</style>\n",
       "<table border=\"1\" class=\"dataframe\">\n",
       "  <thead>\n",
       "    <tr style=\"text-align: right;\">\n",
       "      <th></th>\n",
       "      <th>State</th>\n",
       "      <th>Year</th>\n",
       "      <th>Coal</th>\n",
       "      <th>Hydro</th>\n",
       "      <th>Natural Gas</th>\n",
       "      <th>Nuclear</th>\n",
       "      <th>Other</th>\n",
       "      <th>Other Renewables</th>\n",
       "      <th>Solar</th>\n",
       "      <th>Wind</th>\n",
       "      <th>index (g/kWh)</th>\n",
       "      <th>final CO2 (kg)</th>\n",
       "      <th>Population</th>\n",
       "      <th>tonne CO2/pop</th>\n",
       "      <th>MWh/pop</th>\n",
       "      <th>MWh flow</th>\n",
       "      <th>MWh flow/pop</th>\n",
       "      <th>share flow</th>\n",
       "    </tr>\n",
       "  </thead>\n",
       "  <tbody>\n",
       "    <tr>\n",
       "      <th>0</th>\n",
       "      <td>AK</td>\n",
       "      <td>2001</td>\n",
       "      <td>564593.00</td>\n",
       "      <td>1345664.00</td>\n",
       "      <td>3895568.00</td>\n",
       "      <td>0.0</td>\n",
       "      <td>936990.00</td>\n",
       "      <td>0.00</td>\n",
       "      <td>0.0</td>\n",
       "      <td>951.00</td>\n",
       "      <td>621.611811</td>\n",
       "      <td>4.192005e+09</td>\n",
       "      <td>633714</td>\n",
       "      <td>6.614979</td>\n",
       "      <td>10.641655</td>\n",
       "      <td>0</td>\n",
       "      <td>0.0</td>\n",
       "      <td>inf</td>\n",
       "    </tr>\n",
       "    <tr>\n",
       "      <th>1</th>\n",
       "      <td>AK</td>\n",
       "      <td>2002</td>\n",
       "      <td>575286.00</td>\n",
       "      <td>1439351.00</td>\n",
       "      <td>3778161.00</td>\n",
       "      <td>0.0</td>\n",
       "      <td>962369.00</td>\n",
       "      <td>12155.00</td>\n",
       "      <td>0.0</td>\n",
       "      <td>0.00</td>\n",
       "      <td>565.861881</td>\n",
       "      <td>3.829370e+09</td>\n",
       "      <td>642337</td>\n",
       "      <td>5.961621</td>\n",
       "      <td>10.535470</td>\n",
       "      <td>0</td>\n",
       "      <td>0.0</td>\n",
       "      <td>inf</td>\n",
       "    </tr>\n",
       "    <tr>\n",
       "      <th>2</th>\n",
       "      <td>AK</td>\n",
       "      <td>2003</td>\n",
       "      <td>549665.00</td>\n",
       "      <td>1582537.00</td>\n",
       "      <td>3354483.00</td>\n",
       "      <td>0.0</td>\n",
       "      <td>846273.00</td>\n",
       "      <td>5780.00</td>\n",
       "      <td>0.0</td>\n",
       "      <td>0.00</td>\n",
       "      <td>548.164631</td>\n",
       "      <td>3.474672e+09</td>\n",
       "      <td>648414</td>\n",
       "      <td>5.358724</td>\n",
       "      <td>9.775757</td>\n",
       "      <td>0</td>\n",
       "      <td>0.0</td>\n",
       "      <td>inf</td>\n",
       "    </tr>\n",
       "    <tr>\n",
       "      <th>3</th>\n",
       "      <td>AK</td>\n",
       "      <td>2004</td>\n",
       "      <td>648979.71</td>\n",
       "      <td>1498020.01</td>\n",
       "      <td>3623432.59</td>\n",
       "      <td>0.0</td>\n",
       "      <td>747068.06</td>\n",
       "      <td>9216.55</td>\n",
       "      <td>0.0</td>\n",
       "      <td>0.00</td>\n",
       "      <td>535.042680</td>\n",
       "      <td>3.492072e+09</td>\n",
       "      <td>659286</td>\n",
       "      <td>5.296748</td>\n",
       "      <td>9.899675</td>\n",
       "      <td>0</td>\n",
       "      <td>0.0</td>\n",
       "      <td>inf</td>\n",
       "    </tr>\n",
       "    <tr>\n",
       "      <th>4</th>\n",
       "      <td>AK</td>\n",
       "      <td>2005</td>\n",
       "      <td>624317.77</td>\n",
       "      <td>1463942.01</td>\n",
       "      <td>3723625.63</td>\n",
       "      <td>0.0</td>\n",
       "      <td>758928.54</td>\n",
       "      <td>5255.58</td>\n",
       "      <td>0.0</td>\n",
       "      <td>589.01</td>\n",
       "      <td>536.961208</td>\n",
       "      <td>3.531411e+09</td>\n",
       "      <td>666946</td>\n",
       "      <td>5.294897</td>\n",
       "      <td>9.860856</td>\n",
       "      <td>0</td>\n",
       "      <td>0.0</td>\n",
       "      <td>inf</td>\n",
       "    </tr>\n",
       "  </tbody>\n",
       "</table>\n",
       "</div>"
      ],
      "text/plain": [
       "  State  Year       Coal       Hydro  Natural Gas  Nuclear      Other  \\\n",
       "0    AK  2001  564593.00  1345664.00   3895568.00      0.0  936990.00   \n",
       "1    AK  2002  575286.00  1439351.00   3778161.00      0.0  962369.00   \n",
       "2    AK  2003  549665.00  1582537.00   3354483.00      0.0  846273.00   \n",
       "3    AK  2004  648979.71  1498020.01   3623432.59      0.0  747068.06   \n",
       "4    AK  2005  624317.77  1463942.01   3723625.63      0.0  758928.54   \n",
       "\n",
       "   Other Renewables  Solar    Wind  index (g/kWh)  final CO2 (kg)  Population  \\\n",
       "0              0.00    0.0  951.00     621.611811    4.192005e+09      633714   \n",
       "1          12155.00    0.0    0.00     565.861881    3.829370e+09      642337   \n",
       "2           5780.00    0.0    0.00     548.164631    3.474672e+09      648414   \n",
       "3           9216.55    0.0    0.00     535.042680    3.492072e+09      659286   \n",
       "4           5255.58    0.0  589.01     536.961208    3.531411e+09      666946   \n",
       "\n",
       "   tonne CO2/pop    MWh/pop  MWh flow  MWh flow/pop  share flow  \n",
       "0       6.614979  10.641655         0           0.0         inf  \n",
       "1       5.961621  10.535470         0           0.0         inf  \n",
       "2       5.358724   9.775757         0           0.0         inf  \n",
       "3       5.296748   9.899675         0           0.0         inf  \n",
       "4       5.294897   9.860856         0           0.0         inf  "
      ]
     },
     "execution_count": 25,
     "metadata": {},
     "output_type": "execute_result"
    }
   ],
   "source": [
    "annual_gen_index_pop_flows.head()"
   ]
  },
  {
   "cell_type": "code",
   "execution_count": 32,
   "metadata": {
    "ExecuteTime": {
     "end_time": "2017-10-12T15:30:16.059799Z",
     "start_time": "2017-10-12T15:30:12.855511Z"
    }
   },
   "outputs": [
    {
     "data": {
      "image/png": "[encoded data removed]",
      "text/plain": [
       "<matplotlib.figure.Figure at 0x113d1ce48>"
      ]
     },
     "metadata": {},
     "output_type": "display_data"
    }
   ],
   "source": [
    "barbell_flows = annual_gen_index_pop_flows.pivot_table(values='MWh flow/pop',\n",
    "                                              index='State', columns='Year')\n",
    "barbell_flows.sort_values(by=2015, ascending=False, inplace=True)\n",
    "# barbell_flows.drop('VT', inplace=True)\n",
    "\n",
    "states_flows = list(barbell_flows.index)\n",
    "\n",
    "dumbell_plot(barbell_flows, [2001, 2008, 2015], states_flows, offset_divider=8,\n",
    "             rps_start=rps_start, legend=True, palette='colorblind',\n",
    "             legend_loc=[-20, -40, -60])\n",
    "\n",
    "plt.ylim(-1, 53)\n",
    "sns.despine(left=True)\n",
    "plt.xlabel('MWh flow/Capita')\n",
    "plt.vlines(0, -1, 53, colors=['0.5'], linewidth=1)\n",
    "# plt.xticks()\n",
    "# ax = plt.gca()\n",
    "# ax.set_xscale(\"log\", nonposx='clip')\n",
    "path = join(cwd, 'Figures', 'SI', 'State MWh flow per capita.pdf')\n",
    "plt.savefig(path, bbox_inches='tight')"
   ]
  },
  {
   "cell_type": "code",
   "execution_count": 186,
   "metadata": {
    "ExecuteTime": {
     "end_time": "2017-08-07T19:44:17.713792Z",
     "start_time": "2017-08-07T19:44:17.633935Z"
    }
   },
   "outputs": [
    {
     "data": {
      "text/html": [
       "<div>\n",
       "<style>\n",
       "    .dataframe thead tr:only-child th {\n",
       "        text-align: right;\n",
       "    }\n",
       "\n",
       "    .dataframe thead th {\n",
       "        text-align: left;\n",
       "    }\n",
       "\n",
       "    .dataframe tbody tr th {\n",
       "        vertical-align: top;\n",
       "    }\n",
       "</style>\n",
       "<table border=\"1\" class=\"dataframe\">\n",
       "  <thead>\n",
       "    <tr style=\"text-align: right;\">\n",
       "      <th></th>\n",
       "      <th>Year</th>\n",
       "      <th>Coal</th>\n",
       "      <th>Hydro</th>\n",
       "      <th>Natural Gas</th>\n",
       "      <th>Nuclear</th>\n",
       "      <th>Other</th>\n",
       "      <th>Other Renewables</th>\n",
       "      <th>Solar</th>\n",
       "      <th>Wind</th>\n",
       "      <th>index (g/kWh)</th>\n",
       "      <th>...</th>\n",
       "      <th>percent Other</th>\n",
       "      <th>percent Solar</th>\n",
       "      <th>percent Wind</th>\n",
       "      <th>percent Hydro</th>\n",
       "      <th>Population</th>\n",
       "      <th>tonne CO2/pop</th>\n",
       "      <th>MWh/pop</th>\n",
       "      <th>MWh flow</th>\n",
       "      <th>MWh flow/pop</th>\n",
       "      <th>share flow</th>\n",
       "    </tr>\n",
       "  </thead>\n",
       "  <tbody>\n",
       "    <tr>\n",
       "      <th>count</th>\n",
       "      <td>750.000000</td>\n",
       "      <td>7.500000e+02</td>\n",
       "      <td>7.500000e+02</td>\n",
       "      <td>7.500000e+02</td>\n",
       "      <td>7.500000e+02</td>\n",
       "      <td>7.500000e+02</td>\n",
       "      <td>7.500000e+02</td>\n",
       "      <td>7.500000e+02</td>\n",
       "      <td>7.500000e+02</td>\n",
       "      <td>750.000000</td>\n",
       "      <td>...</td>\n",
       "      <td>750.000000</td>\n",
       "      <td>7.500000e+02</td>\n",
       "      <td>750.000000</td>\n",
       "      <td>750.000000</td>\n",
       "      <td>7.500000e+02</td>\n",
       "      <td>750.000000</td>\n",
       "      <td>750.000000</td>\n",
       "      <td>7.500000e+02</td>\n",
       "      <td>750.000000</td>\n",
       "      <td>750.000000</td>\n",
       "    </tr>\n",
       "    <tr>\n",
       "      <th>mean</th>\n",
       "      <td>2008.000000</td>\n",
       "      <td>3.621421e+07</td>\n",
       "      <td>5.324904e+06</td>\n",
       "      <td>1.837333e+07</td>\n",
       "      <td>1.577561e+07</td>\n",
       "      <td>1.677821e+06</td>\n",
       "      <td>1.424305e+06</td>\n",
       "      <td>1.197318e+05</td>\n",
       "      <td>1.528495e+06</td>\n",
       "      <td>563.452002</td>\n",
       "      <td>...</td>\n",
       "      <td>0.036107</td>\n",
       "      <td>1.427088e-03</td>\n",
       "      <td>0.021959</td>\n",
       "      <td>0.097660</td>\n",
       "      <td>6.057556e+06</td>\n",
       "      <td>10.994184</td>\n",
       "      <td>16.908805</td>\n",
       "      <td>-2.433827e+05</td>\n",
       "      <td>-2.645003</td>\n",
       "      <td>inf</td>\n",
       "    </tr>\n",
       "    <tr>\n",
       "      <th>std</th>\n",
       "      <td>4.323377</td>\n",
       "      <td>3.559621e+07</td>\n",
       "      <td>1.249540e+07</td>\n",
       "      <td>3.483507e+07</td>\n",
       "      <td>2.033529e+07</td>\n",
       "      <td>4.253015e+06</td>\n",
       "      <td>2.724845e+06</td>\n",
       "      <td>9.863566e+05</td>\n",
       "      <td>4.046065e+06</td>\n",
       "      <td>247.131923</td>\n",
       "      <td>...</td>\n",
       "      <td>0.112671</td>\n",
       "      <td>7.169996e-03</td>\n",
       "      <td>0.045151</td>\n",
       "      <td>0.180638</td>\n",
       "      <td>6.684421e+06</td>\n",
       "      <td>13.746515</td>\n",
       "      <td>13.117226</td>\n",
       "      <td>2.291679e+07</td>\n",
       "      <td>10.107309</td>\n",
       "      <td>NaN</td>\n",
       "    </tr>\n",
       "    <tr>\n",
       "      <th>min</th>\n",
       "      <td>2001.000000</td>\n",
       "      <td>0.000000e+00</td>\n",
       "      <td>0.000000e+00</td>\n",
       "      <td>-5.114000e+01</td>\n",
       "      <td>0.000000e+00</td>\n",
       "      <td>-9.925681e+05</td>\n",
       "      <td>-8.372700e+02</td>\n",
       "      <td>-5.000000e+00</td>\n",
       "      <td>0.000000e+00</td>\n",
       "      <td>0.996470</td>\n",
       "      <td>...</td>\n",
       "      <td>-0.009830</td>\n",
       "      <td>-1.341994e-08</td>\n",
       "      <td>0.000000</td>\n",
       "      <td>0.000000</td>\n",
       "      <td>4.946570e+05</td>\n",
       "      <td>0.007559</td>\n",
       "      <td>3.252542</td>\n",
       "      <td>-6.790100e+07</td>\n",
       "      <td>-61.493115</td>\n",
       "      <td>-3251.028410</td>\n",
       "    </tr>\n",
       "    <tr>\n",
       "      <th>25%</th>\n",
       "      <td>2004.000000</td>\n",
       "      <td>4.401219e+06</td>\n",
       "      <td>5.509728e+05</td>\n",
       "      <td>1.700621e+06</td>\n",
       "      <td>0.000000e+00</td>\n",
       "      <td>6.462725e+04</td>\n",
       "      <td>1.036491e+05</td>\n",
       "      <td>0.000000e+00</td>\n",
       "      <td>0.000000e+00</td>\n",
       "      <td>415.481460</td>\n",
       "      <td>...</td>\n",
       "      <td>0.001734</td>\n",
       "      <td>0.000000e+00</td>\n",
       "      <td>0.000000</td>\n",
       "      <td>0.009010</td>\n",
       "      <td>1.797654e+06</td>\n",
       "      <td>4.048936</td>\n",
       "      <td>9.981312</td>\n",
       "      <td>-9.621750e+06</td>\n",
       "      <td>-3.066595</td>\n",
       "      <td>-4.774674</td>\n",
       "    </tr>\n",
       "    <tr>\n",
       "      <th>50%</th>\n",
       "      <td>2008.000000</td>\n",
       "      <td>2.884501e+07</td>\n",
       "      <td>1.422502e+06</td>\n",
       "      <td>6.534177e+06</td>\n",
       "      <td>9.330993e+06</td>\n",
       "      <td>4.444923e+05</td>\n",
       "      <td>7.191269e+05</td>\n",
       "      <td>0.000000e+00</td>\n",
       "      <td>4.928850e+04</td>\n",
       "      <td>561.920185</td>\n",
       "      <td>...</td>\n",
       "      <td>0.006158</td>\n",
       "      <td>0.000000e+00</td>\n",
       "      <td>0.001279</td>\n",
       "      <td>0.023205</td>\n",
       "      <td>4.332868e+06</td>\n",
       "      <td>7.864837</td>\n",
       "      <td>14.543854</td>\n",
       "      <td>0.000000e+00</td>\n",
       "      <td>0.000000</td>\n",
       "      <td>1.134967</td>\n",
       "    </tr>\n",
       "    <tr>\n",
       "      <th>75%</th>\n",
       "      <td>2012.000000</td>\n",
       "      <td>5.172627e+07</td>\n",
       "      <td>3.387757e+06</td>\n",
       "      <td>1.765970e+07</td>\n",
       "      <td>2.805020e+07</td>\n",
       "      <td>1.417042e+06</td>\n",
       "      <td>1.751248e+06</td>\n",
       "      <td>2.076642e+03</td>\n",
       "      <td>1.163501e+06</td>\n",
       "      <td>743.697063</td>\n",
       "      <td>...</td>\n",
       "      <td>0.021770</td>\n",
       "      <td>4.013990e-05</td>\n",
       "      <td>0.021524</td>\n",
       "      <td>0.069361</td>\n",
       "      <td>6.748240e+06</td>\n",
       "      <td>12.243678</td>\n",
       "      <td>18.052115</td>\n",
       "      <td>1.132125e+07</td>\n",
       "      <td>2.027638</td>\n",
       "      <td>7.610533</td>\n",
       "    </tr>\n",
       "    <tr>\n",
       "      <th>max</th>\n",
       "      <td>2015.000000</td>\n",
       "      <td>1.578965e+08</td>\n",
       "      <td>9.181770e+07</td>\n",
       "      <td>2.377314e+08</td>\n",
       "      <td>9.785790e+07</td>\n",
       "      <td>4.362692e+07</td>\n",
       "      <td>1.911608e+07</td>\n",
       "      <td>2.082866e+07</td>\n",
       "      <td>4.483337e+07</td>\n",
       "      <td>1113.788927</td>\n",
       "      <td>...</td>\n",
       "      <td>0.827508</td>\n",
       "      <td>1.027469e-01</td>\n",
       "      <td>0.315214</td>\n",
       "      <td>0.896023</td>\n",
       "      <td>3.899394e+07</td>\n",
       "      <td>96.746995</td>\n",
       "      <td>90.521185</td>\n",
       "      <td>9.021000e+07</td>\n",
       "      <td>10.371511</td>\n",
       "      <td>inf</td>\n",
       "    </tr>\n",
       "  </tbody>\n",
       "</table>\n",
       "<p>8 rows × 26 columns</p>\n",
       "</div>"
      ],
      "text/plain": [
       "              Year          Coal         Hydro   Natural Gas       Nuclear  \\\n",
       "count   750.000000  7.500000e+02  7.500000e+02  7.500000e+02  7.500000e+02   \n",
       "mean   2008.000000  3.621421e+07  5.324904e+06  1.837333e+07  1.577561e+07   \n",
       "std       4.323377  3.559621e+07  1.249540e+07  3.483507e+07  2.033529e+07   \n",
       "min    2001.000000  0.000000e+00  0.000000e+00 -5.114000e+01  0.000000e+00   \n",
       "25%    2004.000000  4.401219e+06  5.509728e+05  1.700621e+06  0.000000e+00   \n",
       "50%    2008.000000  2.884501e+07  1.422502e+06  6.534177e+06  9.330993e+06   \n",
       "75%    2012.000000  5.172627e+07  3.387757e+06  1.765970e+07  2.805020e+07   \n",
       "max    2015.000000  1.578965e+08  9.181770e+07  2.377314e+08  9.785790e+07   \n",
       "\n",
       "              Other  Other Renewables         Solar          Wind  \\\n",
       "count  7.500000e+02      7.500000e+02  7.500000e+02  7.500000e+02   \n",
       "mean   1.677821e+06      1.424305e+06  1.197318e+05  1.528495e+06   \n",
       "std    4.253015e+06      2.724845e+06  9.863566e+05  4.046065e+06   \n",
       "min   -9.925681e+05     -8.372700e+02 -5.000000e+00  0.000000e+00   \n",
       "25%    6.462725e+04      1.036491e+05  0.000000e+00  0.000000e+00   \n",
       "50%    4.444923e+05      7.191269e+05  0.000000e+00  4.928850e+04   \n",
       "75%    1.417042e+06      1.751248e+06  2.076642e+03  1.163501e+06   \n",
       "max    4.362692e+07      1.911608e+07  2.082866e+07  4.483337e+07   \n",
       "\n",
       "       index (g/kWh)     ...       percent Other  percent Solar  percent Wind  \\\n",
       "count     750.000000     ...          750.000000   7.500000e+02    750.000000   \n",
       "mean      563.452002     ...            0.036107   1.427088e-03      0.021959   \n",
       "std       247.131923     ...            0.112671   7.169996e-03      0.045151   \n",
       "min         0.996470     ...           -0.009830  -1.341994e-08      0.000000   \n",
       "25%       415.481460     ...            0.001734   0.000000e+00      0.000000   \n",
       "50%       561.920185     ...            0.006158   0.000000e+00      0.001279   \n",
       "75%       743.697063     ...            0.021770   4.013990e-05      0.021524   \n",
       "max      1113.788927     ...            0.827508   1.027469e-01      0.315214   \n",
       "\n",
       "       percent Hydro    Population  tonne CO2/pop     MWh/pop      MWh flow  \\\n",
       "count     750.000000  7.500000e+02     750.000000  750.000000  7.500000e+02   \n",
       "mean        0.097660  6.057556e+06      10.994184   16.908805 -2.433827e+05   \n",
       "std         0.180638  6.684421e+06      13.746515   13.117226  2.291679e+07   \n",
       "min         0.000000  4.946570e+05       0.007559    3.252542 -6.790100e+07   \n",
       "25%         0.009010  1.797654e+06       4.048936    9.981312 -9.621750e+06   \n",
       "50%         0.023205  4.332868e+06       7.864837   14.543854  0.000000e+00   \n",
       "75%         0.069361  6.748240e+06      12.243678   18.052115  1.132125e+07   \n",
       "max         0.896023  3.899394e+07      96.746995   90.521185  9.021000e+07   \n",
       "\n",
       "       MWh flow/pop   share flow  \n",
       "count    750.000000   750.000000  \n",
       "mean      -2.645003          inf  \n",
       "std       10.107309          NaN  \n",
       "min      -61.493115 -3251.028410  \n",
       "25%       -3.066595    -4.774674  \n",
       "50%        0.000000     1.134967  \n",
       "75%        2.027638     7.610533  \n",
       "max       10.371511          inf  \n",
       "\n",
       "[8 rows x 26 columns]"
      ]
     },
     "execution_count": 186,
     "metadata": {},
     "output_type": "execute_result"
    }
   ],
   "source": [
    "annual_gen_index_pop_flows.describe()"
   ]
  },
  {
   "cell_type": "code",
   "execution_count": null,
   "metadata": {
    "collapsed": true
   },
   "outputs": [],
   "source": []
  },
  {
   "cell_type": "markdown",
   "metadata": {},
   "source": [
    "## Other analysis"
   ]
  },
  {
   "cell_type": "code",
   "execution_count": 10,
   "metadata": {
    "ExecuteTime": {
     "end_time": "2017-08-04T16:34:54.449099Z",
     "start_time": "2017-08-04T16:34:54.439021Z"
    }
   },
   "outputs": [
    {
     "data": {
      "text/html": [
       "<div>\n",
       "<style>\n",
       "    .dataframe thead tr:only-child th {\n",
       "        text-align: right;\n",
       "    }\n",
       "\n",
       "    .dataframe thead th {\n",
       "        text-align: left;\n",
       "    }\n",
       "\n",
       "    .dataframe tbody tr th {\n",
       "        vertical-align: top;\n",
       "    }\n",
       "</style>\n",
       "<table border=\"1\" class=\"dataframe\">\n",
       "  <thead>\n",
       "    <tr style=\"text-align: right;\">\n",
       "      <th></th>\n",
       "      <th>State</th>\n",
       "      <th>Year</th>\n",
       "      <th>Population</th>\n",
       "    </tr>\n",
       "  </thead>\n",
       "  <tbody>\n",
       "    <tr>\n",
       "      <th>0</th>\n",
       "      <td>US</td>\n",
       "      <td>2000</td>\n",
       "      <td>282162411</td>\n",
       "    </tr>\n",
       "    <tr>\n",
       "      <th>1</th>\n",
       "      <td>AL</td>\n",
       "      <td>2000</td>\n",
       "      <td>4452173</td>\n",
       "    </tr>\n",
       "    <tr>\n",
       "      <th>2</th>\n",
       "      <td>AK</td>\n",
       "      <td>2000</td>\n",
       "      <td>627963</td>\n",
       "    </tr>\n",
       "    <tr>\n",
       "      <th>3</th>\n",
       "      <td>AZ</td>\n",
       "      <td>2000</td>\n",
       "      <td>5160586</td>\n",
       "    </tr>\n",
       "    <tr>\n",
       "      <th>4</th>\n",
       "      <td>AR</td>\n",
       "      <td>2000</td>\n",
       "      <td>2678588</td>\n",
       "    </tr>\n",
       "  </tbody>\n",
       "</table>\n",
       "</div>"
      ],
      "text/plain": [
       "  State  Year  Population\n",
       "0    US  2000   282162411\n",
       "1    AL  2000     4452173\n",
       "2    AK  2000      627963\n",
       "3    AZ  2000     5160586\n",
       "4    AR  2000     2678588"
      ]
     },
     "execution_count": 10,
     "metadata": {},
     "output_type": "execute_result"
    }
   ],
   "source": [
    "pop.head()"
   ]
  },
  {
   "cell_type": "code",
   "execution_count": 11,
   "metadata": {
    "ExecuteTime": {
     "end_time": "2017-08-04T16:34:55.737897Z",
     "start_time": "2017-08-04T16:34:55.727809Z"
    }
   },
   "outputs": [
    {
     "data": {
      "text/html": [
       "<div>\n",
       "<style>\n",
       "    .dataframe thead tr:only-child th {\n",
       "        text-align: right;\n",
       "    }\n",
       "\n",
       "    .dataframe thead th {\n",
       "        text-align: left;\n",
       "    }\n",
       "\n",
       "    .dataframe tbody tr th {\n",
       "        vertical-align: top;\n",
       "    }\n",
       "</style>\n",
       "<table border=\"1\" class=\"dataframe\">\n",
       "  <thead>\n",
       "    <tr style=\"text-align: right;\">\n",
       "      <th></th>\n",
       "      <th>State</th>\n",
       "      <th>Year</th>\n",
       "      <th>GSP</th>\n",
       "    </tr>\n",
       "  </thead>\n",
       "  <tbody>\n",
       "    <tr>\n",
       "      <th>0</th>\n",
       "      <td>US</td>\n",
       "      <td>1997</td>\n",
       "      <td>11118778</td>\n",
       "    </tr>\n",
       "    <tr>\n",
       "      <th>1</th>\n",
       "      <td>AL</td>\n",
       "      <td>1997</td>\n",
       "      <td>137143</td>\n",
       "    </tr>\n",
       "    <tr>\n",
       "      <th>2</th>\n",
       "      <td>AK</td>\n",
       "      <td>1997</td>\n",
       "      <td>37880</td>\n",
       "    </tr>\n",
       "    <tr>\n",
       "      <th>3</th>\n",
       "      <td>AZ</td>\n",
       "      <td>1997</td>\n",
       "      <td>163114</td>\n",
       "    </tr>\n",
       "    <tr>\n",
       "      <th>4</th>\n",
       "      <td>AR</td>\n",
       "      <td>1997</td>\n",
       "      <td>79164</td>\n",
       "    </tr>\n",
       "  </tbody>\n",
       "</table>\n",
       "</div>"
      ],
      "text/plain": [
       "  State  Year       GSP\n",
       "0    US  1997  11118778\n",
       "1    AL  1997    137143\n",
       "2    AK  1997     37880\n",
       "3    AZ  1997    163114\n",
       "4    AR  1997     79164"
      ]
     },
     "execution_count": 11,
     "metadata": {},
     "output_type": "execute_result"
    }
   ],
   "source": [
    "gsp.head()"
   ]
  },
  {
   "cell_type": "code",
   "execution_count": 12,
   "metadata": {
    "ExecuteTime": {
     "end_time": "2017-08-04T16:34:58.003447Z",
     "start_time": "2017-08-04T16:34:57.983405Z"
    }
   },
   "outputs": [
    {
     "data": {
      "text/html": [
       "<div>\n",
       "<style>\n",
       "    .dataframe thead tr:only-child th {\n",
       "        text-align: right;\n",
       "    }\n",
       "\n",
       "    .dataframe thead th {\n",
       "        text-align: left;\n",
       "    }\n",
       "\n",
       "    .dataframe tbody tr th {\n",
       "        vertical-align: top;\n",
       "    }\n",
       "</style>\n",
       "<table border=\"1\" class=\"dataframe\">\n",
       "  <thead>\n",
       "    <tr style=\"text-align: right;\">\n",
       "      <th></th>\n",
       "      <th>State</th>\n",
       "      <th>Year</th>\n",
       "      <th>Coal</th>\n",
       "      <th>Hydro</th>\n",
       "      <th>Natural Gas</th>\n",
       "      <th>Nuclear</th>\n",
       "      <th>Other</th>\n",
       "      <th>Other Renewables</th>\n",
       "      <th>Solar</th>\n",
       "      <th>Wind</th>\n",
       "      <th>index (g/kWh)</th>\n",
       "      <th>final CO2 (kg)</th>\n",
       "    </tr>\n",
       "  </thead>\n",
       "  <tbody>\n",
       "    <tr>\n",
       "      <th>0</th>\n",
       "      <td>AK</td>\n",
       "      <td>2001</td>\n",
       "      <td>564593.00</td>\n",
       "      <td>1345664.00</td>\n",
       "      <td>3895568.00</td>\n",
       "      <td>0.0</td>\n",
       "      <td>936990.00</td>\n",
       "      <td>0.00</td>\n",
       "      <td>0.0</td>\n",
       "      <td>951.00</td>\n",
       "      <td>621.611811</td>\n",
       "      <td>4.192005e+09</td>\n",
       "    </tr>\n",
       "    <tr>\n",
       "      <th>1</th>\n",
       "      <td>AK</td>\n",
       "      <td>2002</td>\n",
       "      <td>575286.00</td>\n",
       "      <td>1439351.00</td>\n",
       "      <td>3778161.00</td>\n",
       "      <td>0.0</td>\n",
       "      <td>962369.00</td>\n",
       "      <td>12155.00</td>\n",
       "      <td>0.0</td>\n",
       "      <td>0.00</td>\n",
       "      <td>565.861881</td>\n",
       "      <td>3.829370e+09</td>\n",
       "    </tr>\n",
       "    <tr>\n",
       "      <th>2</th>\n",
       "      <td>AK</td>\n",
       "      <td>2003</td>\n",
       "      <td>549665.00</td>\n",
       "      <td>1582537.00</td>\n",
       "      <td>3354483.00</td>\n",
       "      <td>0.0</td>\n",
       "      <td>846273.00</td>\n",
       "      <td>5780.00</td>\n",
       "      <td>0.0</td>\n",
       "      <td>0.00</td>\n",
       "      <td>548.164631</td>\n",
       "      <td>3.474672e+09</td>\n",
       "    </tr>\n",
       "    <tr>\n",
       "      <th>3</th>\n",
       "      <td>AK</td>\n",
       "      <td>2004</td>\n",
       "      <td>648979.71</td>\n",
       "      <td>1498020.01</td>\n",
       "      <td>3623432.59</td>\n",
       "      <td>0.0</td>\n",
       "      <td>747068.06</td>\n",
       "      <td>9216.55</td>\n",
       "      <td>0.0</td>\n",
       "      <td>0.00</td>\n",
       "      <td>535.042680</td>\n",
       "      <td>3.492072e+09</td>\n",
       "    </tr>\n",
       "    <tr>\n",
       "      <th>4</th>\n",
       "      <td>AK</td>\n",
       "      <td>2005</td>\n",
       "      <td>624317.77</td>\n",
       "      <td>1463942.01</td>\n",
       "      <td>3723625.63</td>\n",
       "      <td>0.0</td>\n",
       "      <td>758928.54</td>\n",
       "      <td>5255.58</td>\n",
       "      <td>0.0</td>\n",
       "      <td>589.01</td>\n",
       "      <td>536.961208</td>\n",
       "      <td>3.531411e+09</td>\n",
       "    </tr>\n",
       "  </tbody>\n",
       "</table>\n",
       "</div>"
      ],
      "text/plain": [
       "  State  Year       Coal       Hydro  Natural Gas  Nuclear      Other  \\\n",
       "0    AK  2001  564593.00  1345664.00   3895568.00      0.0  936990.00   \n",
       "1    AK  2002  575286.00  1439351.00   3778161.00      0.0  962369.00   \n",
       "2    AK  2003  549665.00  1582537.00   3354483.00      0.0  846273.00   \n",
       "3    AK  2004  648979.71  1498020.01   3623432.59      0.0  747068.06   \n",
       "4    AK  2005  624317.77  1463942.01   3723625.63      0.0  758928.54   \n",
       "\n",
       "   Other Renewables  Solar    Wind  index (g/kWh)  final CO2 (kg)  \n",
       "0              0.00    0.0  951.00     621.611811    4.192005e+09  \n",
       "1          12155.00    0.0    0.00     565.861881    3.829370e+09  \n",
       "2           5780.00    0.0    0.00     548.164631    3.474672e+09  \n",
       "3           9216.55    0.0    0.00     535.042680    3.492072e+09  \n",
       "4           5255.58    0.0  589.01     536.961208    3.531411e+09  "
      ]
     },
     "execution_count": 12,
     "metadata": {},
     "output_type": "execute_result"
    }
   ],
   "source": [
    "annual_gen_index.head()"
   ]
  },
  {
   "cell_type": "code",
   "execution_count": 26,
   "metadata": {
    "ExecuteTime": {
     "end_time": "2017-10-20T17:27:32.281103Z",
     "start_time": "2017-10-20T17:27:32.264504Z"
    },
    "collapsed": true
   },
   "outputs": [],
   "source": [
    "total_gen = pd.DataFrame(columns=['Generation', 'State', 'Year', 'index (g/kWh)'])\n",
    "\n",
    "total_gen['Generation'] = annual_gen_index.loc[:, 'Coal':'Wind'].sum(axis=1)\n",
    "total_gen['State'] = annual_gen_index.loc[:, 'State']\n",
    "total_gen['Year'] = annual_gen_index.loc[:, 'Year']\n",
    "total_gen['index (g/kWh)'] = annual_gen_index.loc[:, 'index (g/kWh)']"
   ]
  },
  {
   "cell_type": "code",
   "execution_count": 27,
   "metadata": {
    "ExecuteTime": {
     "end_time": "2017-10-20T17:27:32.969951Z",
     "start_time": "2017-10-20T17:27:32.953642Z"
    }
   },
   "outputs": [
    {
     "data": {
      "text/html": [
       "<div>\n",
       "<style>\n",
       "    .dataframe thead tr:only-child th {\n",
       "        text-align: right;\n",
       "    }\n",
       "\n",
       "    .dataframe thead th {\n",
       "        text-align: left;\n",
       "    }\n",
       "\n",
       "    .dataframe tbody tr th {\n",
       "        vertical-align: top;\n",
       "    }\n",
       "</style>\n",
       "<table border=\"1\" class=\"dataframe\">\n",
       "  <thead>\n",
       "    <tr style=\"text-align: right;\">\n",
       "      <th></th>\n",
       "      <th>Generation</th>\n",
       "      <th>State</th>\n",
       "      <th>Year</th>\n",
       "      <th>index (g/kWh)</th>\n",
       "    </tr>\n",
       "  </thead>\n",
       "  <tbody>\n",
       "    <tr>\n",
       "      <th>0</th>\n",
       "      <td>6743766.00</td>\n",
       "      <td>AK</td>\n",
       "      <td>2001</td>\n",
       "      <td>621.611811</td>\n",
       "    </tr>\n",
       "    <tr>\n",
       "      <th>1</th>\n",
       "      <td>6767322.00</td>\n",
       "      <td>AK</td>\n",
       "      <td>2002</td>\n",
       "      <td>565.861881</td>\n",
       "    </tr>\n",
       "    <tr>\n",
       "      <th>2</th>\n",
       "      <td>6338738.00</td>\n",
       "      <td>AK</td>\n",
       "      <td>2003</td>\n",
       "      <td>548.164631</td>\n",
       "    </tr>\n",
       "    <tr>\n",
       "      <th>3</th>\n",
       "      <td>6526716.92</td>\n",
       "      <td>AK</td>\n",
       "      <td>2004</td>\n",
       "      <td>535.042680</td>\n",
       "    </tr>\n",
       "    <tr>\n",
       "      <th>4</th>\n",
       "      <td>6576658.54</td>\n",
       "      <td>AK</td>\n",
       "      <td>2005</td>\n",
       "      <td>536.961208</td>\n",
       "    </tr>\n",
       "  </tbody>\n",
       "</table>\n",
       "</div>"
      ],
      "text/plain": [
       "   Generation State  Year  index (g/kWh)\n",
       "0  6743766.00    AK  2001     621.611811\n",
       "1  6767322.00    AK  2002     565.861881\n",
       "2  6338738.00    AK  2003     548.164631\n",
       "3  6526716.92    AK  2004     535.042680\n",
       "4  6576658.54    AK  2005     536.961208"
      ]
     },
     "execution_count": 27,
     "metadata": {},
     "output_type": "execute_result"
    }
   ],
   "source": [
    "total_gen.head()"
   ]
  },
  {
   "cell_type": "code",
   "execution_count": 28,
   "metadata": {
    "ExecuteTime": {
     "end_time": "2017-10-20T17:29:33.728408Z",
     "start_time": "2017-10-20T17:29:33.715544Z"
    },
    "collapsed": true
   },
   "outputs": [],
   "source": [
    "total_gen_pop = pd.merge(total_gen, pop, on=['State', 'Year'])\n",
    "total_gen_pop_gsp = pd.merge(total_gen_pop, gsp, on=['State', 'Year'])"
   ]
  },
  {
   "cell_type": "code",
   "execution_count": 29,
   "metadata": {
    "ExecuteTime": {
     "end_time": "2017-10-20T17:29:34.710465Z",
     "start_time": "2017-10-20T17:29:34.696952Z"
    }
   },
   "outputs": [
    {
     "data": {
      "text/html": [
       "<div>\n",
       "<style>\n",
       "    .dataframe thead tr:only-child th {\n",
       "        text-align: right;\n",
       "    }\n",
       "\n",
       "    .dataframe thead th {\n",
       "        text-align: left;\n",
       "    }\n",
       "\n",
       "    .dataframe tbody tr th {\n",
       "        vertical-align: top;\n",
       "    }\n",
       "</style>\n",
       "<table border=\"1\" class=\"dataframe\">\n",
       "  <thead>\n",
       "    <tr style=\"text-align: right;\">\n",
       "      <th></th>\n",
       "      <th>Generation</th>\n",
       "      <th>State</th>\n",
       "      <th>Year</th>\n",
       "      <th>index (g/kWh)</th>\n",
       "      <th>Population</th>\n",
       "      <th>GSP</th>\n",
       "    </tr>\n",
       "  </thead>\n",
       "  <tbody>\n",
       "    <tr>\n",
       "      <th>0</th>\n",
       "      <td>6743766.00</td>\n",
       "      <td>AK</td>\n",
       "      <td>2001</td>\n",
       "      <td>621.611811</td>\n",
       "      <td>633714</td>\n",
       "      <td>37102</td>\n",
       "    </tr>\n",
       "    <tr>\n",
       "      <th>1</th>\n",
       "      <td>6767322.00</td>\n",
       "      <td>AK</td>\n",
       "      <td>2002</td>\n",
       "      <td>565.861881</td>\n",
       "      <td>642337</td>\n",
       "      <td>38605</td>\n",
       "    </tr>\n",
       "    <tr>\n",
       "      <th>2</th>\n",
       "      <td>6338738.00</td>\n",
       "      <td>AK</td>\n",
       "      <td>2003</td>\n",
       "      <td>548.164631</td>\n",
       "      <td>648414</td>\n",
       "      <td>38262</td>\n",
       "    </tr>\n",
       "    <tr>\n",
       "      <th>3</th>\n",
       "      <td>6526716.92</td>\n",
       "      <td>AK</td>\n",
       "      <td>2004</td>\n",
       "      <td>535.042680</td>\n",
       "      <td>659286</td>\n",
       "      <td>39648</td>\n",
       "    </tr>\n",
       "    <tr>\n",
       "      <th>4</th>\n",
       "      <td>6576658.54</td>\n",
       "      <td>AK</td>\n",
       "      <td>2005</td>\n",
       "      <td>536.961208</td>\n",
       "      <td>666946</td>\n",
       "      <td>40767</td>\n",
       "    </tr>\n",
       "  </tbody>\n",
       "</table>\n",
       "</div>"
      ],
      "text/plain": [
       "   Generation State  Year  index (g/kWh)  Population    GSP\n",
       "0  6743766.00    AK  2001     621.611811      633714  37102\n",
       "1  6767322.00    AK  2002     565.861881      642337  38605\n",
       "2  6338738.00    AK  2003     548.164631      648414  38262\n",
       "3  6526716.92    AK  2004     535.042680      659286  39648\n",
       "4  6576658.54    AK  2005     536.961208      666946  40767"
      ]
     },
     "execution_count": 29,
     "metadata": {},
     "output_type": "execute_result"
    }
   ],
   "source": [
    "total_gen_pop_gsp.head()"
   ]
  },
  {
   "cell_type": "code",
   "execution_count": 39,
   "metadata": {
    "ExecuteTime": {
     "end_time": "2017-10-12T15:34:28.597671Z",
     "start_time": "2017-10-12T15:34:28.075169Z"
    }
   },
   "outputs": [
    {
     "data": {
      "text/plain": [
       "<seaborn.axisgrid.FacetGrid at 0x1146bd2e8>"
      ]
     },
     "execution_count": 39,
     "metadata": {},
     "output_type": "execute_result"
    },
    {
     "data": {
      "image/png": "[encoded data removed]",
      "text/plain": [
       "<matplotlib.figure.Figure at 0x1146bd748>"
      ]
     },
     "metadata": {},
     "output_type": "display_data"
    }
   ],
   "source": [
    "temp = total_gen_pop_gsp.loc[total_gen_pop_gsp['Year'].isin([2001, 2008, 2016])]\n",
    "\n",
    "g = sns.FacetGrid(temp, col='Year')\n",
    "g.map(plt.scatter, 'Generation', 'GSP')"
   ]
  },
  {
   "cell_type": "code",
   "execution_count": 74,
   "metadata": {
    "ExecuteTime": {
     "end_time": "2017-10-20T18:08:39.363277Z",
     "start_time": "2017-10-20T18:08:37.810468Z"
    }
   },
   "outputs": [
    {
     "name": "stderr",
     "output_type": "stream",
     "text": [
      "/Users/Home/anaconda/envs/py36/lib/python3.6/site-packages/ipykernel/__main__.py:19: SettingWithCopyWarning: \n",
      "A value is trying to be set on a copy of a slice from a DataFrame\n",
      "\n",
      "See the caveats in the documentation: http://pandas.pydata.org/pandas-docs/stable/indexing.html#indexing-view-versus-copy\n"
     ]
    },
    {
     "data": {
      "image/png": "[encoded data removed]",
      "text/plain": [
       "<matplotlib.figure.Figure at 0x1126b0f28>"
      ]
     },
     "metadata": {},
     "output_type": "display_data"
    }
   ],
   "source": [
    "years = [2001, 2008, 2016]\n",
    "temp = total_gen_pop_gsp.loc[total_gen_pop_gsp['Year'].isin(years)]\n",
    "idx = pd.IndexSlice\n",
    "\n",
    "with sns.plotting_context(context='talk', font_scale=1.2):\n",
    "    g = sns.lmplot(x='Generation', y='GSP', data=temp, col='Year')\n",
    "    g.set(xlim=(0, None), ylim=(0, None))\n",
    "    \n",
    "    # Change the tick and axis labels\n",
    "    ax = plt.gca()\n",
    "    x_ticks = ax.get_xticks()\n",
    "    y_ticks = ax.get_yticks()\n",
    "    g.set_xticklabels(['{:.0f}'.format(x/1e6) for x in x_ticks])\n",
    "    g.set_yticklabels(['{:,}'.format(int(y/1e3)) for y in y_ticks])\n",
    "    g.set_axis_labels('Million MWh', 'Billion $')\n",
    "    \n",
    "    # Set index to make accessing individual states/years easier\n",
    "    temp.set_index(['State', 'Year'], inplace=True)\n",
    "    temp.sort_index(inplace=True)\n",
    "    \n",
    "    for year, ax in zip(years, g.axes.flatten()):\n",
    "        ax.set_title(str(year))\n",
    "        \n",
    "        # Labels above point\n",
    "        for state in ['CA', 'NY', 'NJ']:\n",
    "            x = (temp.loc[idx[state, year], 'Generation'])\n",
    "            y = (temp.loc[idx[state, year], 'GSP']\n",
    "                 + ax.get_ylim()[1] * 0.03)\n",
    "            ax.text(x, y, state, horizontalalignment='center', fontsize=16)\n",
    "        \n",
    "        # Labels to the right of point\n",
    "        for state in ['AL', 'TX']:\n",
    "            x = (temp.loc[idx[state, year], 'Generation']\n",
    "                 + ax.get_xlim()[1] * 0.02)\n",
    "            y = (temp.loc[idx[state, year], 'GSP'])\n",
    "            ax.text(x, y, state, verticalalignment='center', fontsize=16)\n",
    "    \n",
    "path = join(cwd, 'Figures', 'SI', 'State generation vs GSP.pdf')\n",
    "plt.savefig(path, bbox_inches='tight')"
   ]
  },
  {
   "cell_type": "code",
   "execution_count": null,
   "metadata": {
    "collapsed": true
   },
   "outputs": [],
   "source": []
  }
 ],
 "metadata": {
  "_draft": {
   "nbviewer_url": "https://gist.github.com/f7834c5c2616085cd9236adac70d94b7"
  },
  "gist": {
   "data": {
    "description": "State index & gen data.ipynb",
    "public": false
   },
   "id": "f7834c5c2616085cd9236adac70d94b7"
  },
  "kernelspec": {
   "display_name": "Python [default]",
   "language": "python",
   "name": "python3"
  },
  "language_info": {
   "codemirror_mode": {
    "name": "ipython",
    "version": 3
   },
   "file_extension": ".py",
   "mimetype": "text/x-python",
   "name": "python",
   "nbconvert_exporter": "python",
   "pygments_lexer": "ipython3",
   "version": "3.6.2"
  },
  "varInspector": {
   "cols": {
    "lenName": 16,
    "lenType": 16,
    "lenVar": 40
   },
   "kernels_config": {
    "python": {
     "delete_cmd_postfix": "",
     "delete_cmd_prefix": "del ",
     "library": "var_list.py",
     "varRefreshCmd": "print(var_dic_list())"
    },
    "r": {
     "delete_cmd_postfix": ") ",
     "delete_cmd_prefix": "rm(",
     "library": "var_list.r",
     "varRefreshCmd": "cat(var_dic_list()) "
    }
   },
   "types_to_exclude": [
    "module",
    "function",
    "builtin_function_or_method",
    "instance",
    "_Feature"
   ],
   "window_display": false
  }
 },
 "nbformat": 4,
 "nbformat_minor": 2
}
